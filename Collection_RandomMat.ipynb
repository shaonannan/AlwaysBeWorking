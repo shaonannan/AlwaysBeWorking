{
 "metadata": {
  "language_info": {
   "codemirror_mode": {
    "name": "ipython",
    "version": 3
   },
   "file_extension": ".py",
   "mimetype": "text/x-python",
   "name": "python",
   "nbconvert_exporter": "python",
   "pygments_lexer": "ipython3",
   "version": "3.8.3-final"
  },
  "orig_nbformat": 2,
  "kernelspec": {
   "name": "python3",
   "display_name": "Python 3"
  }
 },
 "nbformat": 4,
 "nbformat_minor": 2,
 "cells": [
  {
   "cell_type": "code",
   "execution_count": 68,
   "metadata": {},
   "outputs": [],
   "source": [
    "from __future__ import print_function\n",
    "from ipywidgets import interact, interactive, fixed, interact_manual\n",
    "import ipywidgets as widgets\n",
    "import numpy as np\n",
    "import matplotlib.pylab as plt\n",
    "import matplotlib\n",
    "%matplotlib qt\n",
    "from numpy import linalg as la\n",
    "from scipy.optimize import fsolve\n",
    "from scipy import linalg as scpla\n",
    "import seaborn as sb\n",
    "from mpl_toolkits.axes_grid1 import make_axes_locatable\n",
    "from cmath import *\n",
    "from mpl_toolkits.mplot3d import Axes3D\n",
    "from scipy.optimize import fsolve,leastsq \n",
    "from math import tanh,cosh\n",
    "from sympy import *\n",
    "extras_require = {'PLOT':['matplotlib>=1.1.1,<3.0']},"
   ]
  },
  {
   "cell_type": "code",
   "execution_count": 314,
   "metadata": {},
   "outputs": [
    {
     "output_type": "stream",
     "name": "stdout",
     "text": [
      "Rotation: [[-0.95863948  0.28462317]\n",
      " [-0.28462317 -0.95863948]]\n",
      "compare the singular values from\n",
      "original: [5.72804424]\n",
      "svd: [8.96806468]\n",
      "ei: [8.46646293]\n"
     ]
    }
   ],
   "source": [
    "#  15112020 reconfinement\n",
    "JE,JI=2.9,1.5\n",
    "a,b=0.6,-0.9#0.3,0.2#\n",
    "# calculate the rotation matrix in rank-2 case (reduced), then extend to large \n",
    "# generate perturbed matrix\n",
    "J2=np.zeros((2,2))\n",
    "J2[:,0],J2[:,1]=JE,-JI\n",
    "J2[0,0],J2[1,0]=J2[0,0]+a,J2[1,0]-a\n",
    "J2[0,1],J2[1,1]=J2[0,1]+b,J2[1,1]-b\n",
    "lvec2,svr2,rvech2=la.svd(J2)\n",
    "M2 = np.array([[1,1],[1,-1]])\n",
    "ROT = np.sqrt(2)*la.inv(M2)@lvec2 # M@ROT.T/sqrt(2?)=u\n",
    "print('Rotation:',ROT)\n",
    "\n",
    "'''\n",
    "Generate two expressions in large random matrix\n",
    "params:\n",
    "    nn = E/I neuron number\n",
    "    M/Nrank = low rank structure in EI format\n",
    "    U/V.    = low rank structyre in SVD format\n",
    "    M/Nranktilde = low rank EI format for large random matrix\n",
    "    U/Vtilde = low rank SVD format for large random matrix\n",
    "    sigvmat: diagonal singular values matrix\n",
    "    \n",
    "\n",
    "'''\n",
    "grandom=2.0\n",
    "theta = grandom\n",
    "Rc,R = 0,2\n",
    "for i in range(2):\n",
    "    if svr2[i]>grandom:\n",
    "        Rc+=1\n",
    "nn=600\n",
    "sigvmat,rhosigv = np.zeros((R,R)),np.zeros((R,R))\n",
    "for i in range(R):\n",
    "    sigvmat[i,i]=svr2[i]\n",
    "    rhosigv[i,i]=svr2[i]+1.0/svr2[i]\n",
    "invsigvmat = la.inv(sigvmat)\n",
    "# print('inverse singular value matrix:',invsigvmat)\n",
    "# print('square of the inverse singular value matrix:',la.matrix_power(invsigvmat,2)) \n",
    "\n",
    "zetau,zetav = grandom*np.random.randn(nn*2,R)/np.sqrt(2*nn),grandom*np.random.randn(nn*2,R)/np.sqrt(2*nn)\n",
    "zetaM,zetaN = grandom*np.random.randn(nn*2,R)/np.sqrt(2*nn),grandom*np.random.randn(nn*2,R)/np.sqrt(2*nn)\n",
    "# generate rank-2 matrix P without random entries\n",
    "P=np.zeros((nn*2,nn*2))\n",
    "P[:,:nn],P[:,nn:]=JE/nn,-JI/nn\n",
    "P[:nn,:nn],P[nn:,:nn]=P[:nn,:nn]+a/nn,P[nn:,:nn]-a/nn\n",
    "P[:nn,nn:],P[nn:,nn:]=P[:nn,nn:]+b/nn,P[nn:,nn:]-b/nn\n",
    "# use SVD to decompose the low rank matrix\n",
    "lvec,svr,rvech=la.svd(P)\n",
    "rvec=rvech.T \n",
    "# check the singular value\n",
    "# print(svr,svr2)\n",
    "if np.sum((svr[:2]-svr2[:])**2)>1e-8:  \n",
    "    print('Singular values for 2by2 matrix do not match those for NbyN matrix!')\n",
    "\n",
    "alphamat= np.eye(R)-(grandom**2)*la.matrix_power(invsigvmat,2)\n",
    "Asqrt=np.eye(R)#alphamat.copy()\n",
    "for i in range(R):\n",
    "    if alphamat[i,i]>0.0:\n",
    "        Asqrt[i,i]=np.sqrt(alphamat[i,i])\n",
    "    else:\n",
    "        Asqrt[i,i]=0.0\n",
    "randomterm=np.zeros((R,R))\n",
    "for i in range(R):\n",
    "    randomterm[i,i]=np.sqrt(1.0-Asqrt[i,i]**2)\n",
    "# EI format\n",
    "withrand,wrank = 1,1\n",
    "M1,N1=np.ones(2*nn),np.ones(2*nn)\n",
    "N1[:nn],N1[nn:]=JE/nn,-JI/nn\n",
    "M2,N2=M1.copy(),N1.copy()\n",
    "M2[:nn],M2[nn:]=1,-1\n",
    "N2[:nn],N2[nn:]=a/nn,b/nn\n",
    "Mrank,Nrank=np.zeros((nn*2,R)),np.zeros((nn*2,R))\n",
    "NT = np.random.randn(nn*2,R)\n",
    "NT = NT.T \n",
    "if R>1:\n",
    "    Mrank[:,0],Mrank[:,1],Nrank[:,0],Nrank[:,1]=M1,M2,N1,N2\n",
    "else:\n",
    "    Mrank[:,0],Nrank[:,0]=M1,N1\n",
    "Mranktilde = wrank*Mrank@ROT@Asqrt+withrand*zetaM@randomterm*np.sqrt(2*nn)\n",
    "Nranktildeh = (sigvmat+(grandom**2)*invsigvmat)@(wrank*Asqrt@invsigvmat@ROT.T@Nrank.T+withrand*randomterm@zetaN.T/np.sqrt(2*nn))#+(sigvmat+invsigvmat)@invsigvmat@zetav.T\n",
    "Nranktilde=Nranktildeh.T \n",
    "\n",
    "U,V=np.zeros_like(Mrank),np.zeros_like(Nrank)\n",
    "U,V=lvec[:,:R],rvec[:,:R]\n",
    "Utilde,Vtilde = wrank*U@Asqrt+withrand*zetau@randomterm,wrank*V@Asqrt+withrand*zetav@randomterm\n",
    "\n",
    "# add random part in, Xtilde = X+P\n",
    "X = (grandom)*np.random.randn(2*nn,2*nn)/np.sqrt(2*nn)\n",
    "Xtilde=X+P\n",
    "if Rc>1:\n",
    "    Xtilde_svdrec = Utilde@(sigvmat+(grandom**2)*invsigvmat)@Vtilde.T#/grandom**2\n",
    "    Xtilde_eirec  = Mranktilde@Nranktildeh#/grandom**2\n",
    "else:\n",
    "    Xtilde_svdrec = np.reshape(Utilde[:,0],(nn*2,1))@np.reshape(Vtilde[:,0],(1,2*nn))*(sigvmat[0,0]+(grandom**2)*invsigvmat[0,0])#/grandom**2\n",
    "    Xtilde_eirec  = np.reshape(Mranktilde[:,0],(nn*2,1))@np.reshape(Nranktildeh[0,:],(1,2*nn))#/grandom**2\n",
    "\n",
    "# test two expressions, using singular values\n",
    "_,sigvxtilde,_=la.svd(Xtilde)\n",
    "_,sigveitilde,_=la.svd(Xtilde_eirec)\n",
    "_,sigvsvdtilde,_=la.svd(Xtilde_svdrec)\n",
    "\n",
    "print('compare the singular values from')\n",
    "print('original:',sigvxtilde[:Rc])\n",
    "print('svd:',sigvsvdtilde[:Rc])\n",
    "print('ei:',sigveitilde[:Rc])\n",
    "\n",
    "\n"
   ]
  },
  {
   "cell_type": "code",
   "execution_count": 304,
   "metadata": {},
   "outputs": [
    {
     "output_type": "stream",
     "name": "stdout",
     "text": [
      "[[0.85444619 0.        ]\n [0.         0.        ]]\n[[0.5195399 0.       ]\n [0.        1.       ]]\n[[0.20781596 0.        ]\n [0.         1.4070029 ]]\n"
     ]
    }
   ],
   "source": [
    "print(Asqrt)\n",
    "print(randomterm)\n",
    "print(la.matrix_power(invsigvmat,1))"
   ]
  },
  {
   "source": [
    "** Large Random Matrix Has Two Outliers **"
   ],
   "cell_type": "markdown",
   "metadata": {}
  },
  {
   "cell_type": "code",
   "execution_count": 289,
   "metadata": {},
   "outputs": [
    {
     "output_type": "execute_result",
     "data": {
      "text/plain": [
       "<matplotlib.collections.PathCollection at 0x7f85276b0640>"
      ]
     },
     "metadata": {},
     "execution_count": 289
    }
   ],
   "source": [
    "# SCATTER PLOT of Mtilde and Ntilde\n",
    "bimeanMtilde,bimeanNtilde=np.zeros((R,Rc)),np.zeros((R,Rc))\n",
    "Mranktilde,Mrank,Nranktilde,Nrank=-Mranktilde/np.sqrt(2*nn),-Mrank/np.sqrt(2*nn),-Nranktilde*np.sqrt(2*nn),-Nrank*np.sqrt(2*nn)\n",
    "for i in range(Rc):\n",
    "    bimeanMtilde[0,i],bimeanNtilde[0,i]=np.mean(Mranktilde[:nn,i]),np.mean(Nranktilde[:nn,i])\n",
    "    bimeanMtilde[1,i],bimeanNtilde[1,i]=np.mean(Mranktilde[nn:,i]),np.mean(Nranktilde[nn:,i])\n",
    "RANKP=0\n",
    "fig=plt.figure(figsize=(5,5))\n",
    "ax1=fig.add_subplot(111)\n",
    "ax1.scatter(-Mranktilde[:,RANKP],-Nranktilde[:,RANKP],c='pink',alpha=0.5)\n",
    "ax1.set_aspect('auto')\n",
    "ax1.scatter(-Mrank[:,RANKP],-Nrank[:,RANKP],c='b',alpha=1.0)\n",
    "ax1.scatter(-bimeanMtilde[:,RANKP],-bimeanNtilde[:,RANKP],c='red',alpha=1.0)\n",
    "RANKP=1\n",
    "fig=plt.figure(figsize=(5,5))\n",
    "ax2=fig.add_subplot(111)\n",
    "ax2.scatter(-Mranktilde[:,RANKP],-Nranktilde[:,RANKP],c='pink',alpha=0.5)\n",
    "ax2.set_aspect('auto')\n",
    "ax2.scatter(-Mrank[:,RANKP],-Nrank[:,RANKP],c='b',alpha=1.0)\n",
    "ax2.scatter(-bimeanMtilde[:,RANKP],-bimeanNtilde[:,RANKP],c='red',alpha=1.0)\n",
    "\n",
    "nVtilde = Vtilde@(sigvmat+invsigvmat)\n",
    "nV = V@sigvmat\n",
    "bimeanUtilde,bimeanVtilde=np.zeros((R,R)),np.zeros((R,R))\n",
    "for i in range(Rc):\n",
    "    bimeanUtilde[0,i],bimeanVtilde[0,i]=np.mean(Utilde[:nn,i]),np.mean(nVtilde[:nn,i])\n",
    "    bimeanUtilde[1,i],bimeanVtilde[1,i]=np.mean(Utilde[nn:,i]),np.mean(nVtilde[nn:,i])\n",
    "RANKP=0\n",
    "# fig=plt.figure(figsize=(5,5))\n",
    "# ax1=fig.add_subplot(111)\n",
    "ax1.scatter(Utilde[:,RANKP],nVtilde[:,RANKP],c='yellow',alpha=0.5)\n",
    "ax1.set_aspect('auto')\n",
    "ax1.scatter(U[:,RANKP],nV[:,RANKP],c='green',alpha=1.0)\n",
    "ax1.scatter(bimeanUtilde[:,RANKP],bimeanVtilde[:,RANKP],c='red',alpha=0.8)\n",
    "\n",
    "ax1.scatter(-Mrank[:,RANKP],-Nrank[:,RANKP],c='b',alpha=1.0)\n",
    "ax1.scatter(-bimeanMtilde[:,RANKP],-bimeanNtilde[:,RANKP],c='red',alpha=1.0)\n",
    "\n",
    "RANKP=1\n",
    "# fig=plt.figure(figsize=(5,5))\n",
    "# ax1=fig.add_subplot(111)\n",
    "ax2.scatter(Utilde[:,RANKP],nVtilde[:,RANKP],c='yellow',alpha=0.5)\n",
    "ax2.set_aspect('auto')\n",
    "ax2.scatter(U[:,RANKP],nV[:,RANKP],c='green',alpha=1.0)\n",
    "ax2.scatter(bimeanUtilde[:,RANKP],bimeanVtilde[:,RANKP],c='red',alpha=0.8)\n",
    "\n",
    "ax2.scatter(-Mrank[:,RANKP],-Nrank[:,RANKP],c='b',alpha=1.0)\n",
    "ax2.scatter(-bimeanMtilde[:,RANKP],-bimeanNtilde[:,RANKP],c='red',alpha=1.0)\n"
   ]
  },
  {
   "cell_type": "code",
   "execution_count": 315,
   "metadata": {},
   "outputs": [
    {
     "output_type": "execute_result",
     "data": {
      "text/plain": [
       "<matplotlib.collections.PathCollection at 0x7f85441e1730>"
      ]
     },
     "metadata": {},
     "execution_count": 315
    }
   ],
   "source": [
    "# SCATTER PLOT of Mtilde and Ntilde\n",
    "bimeanMtilde,bimeanNtilde=np.zeros((R,Rc)),np.zeros((R,Rc))\n",
    "Mranktilde,Mrank,Nranktilde,Nrank=-Mranktilde/np.sqrt(2*nn),-Mrank/np.sqrt(2*nn),-Nranktilde*np.sqrt(2*nn),-Nrank*np.sqrt(2*nn)\n",
    "for i in range(Rc):\n",
    "    bimeanMtilde[0,i],bimeanNtilde[0,i]=np.mean(Mranktilde[:nn,i]),np.mean(Nranktilde[:nn,i])\n",
    "    bimeanMtilde[1,i],bimeanNtilde[1,i]=np.mean(Mranktilde[nn:,i]),np.mean(Nranktilde[nn:,i])\n",
    "RANKP=0\n",
    "fig=plt.figure(figsize=(5,5))\n",
    "ax1=fig.add_subplot(111)\n",
    "ax1.scatter(-Mranktilde[:,RANKP],-Nranktilde[:,RANKP],c='pink',alpha=0.5)\n",
    "ax1.set_aspect('auto')\n",
    "ax1.scatter(-Mrank[:,RANKP],-Nrank[:,RANKP],c='b',alpha=1.0)\n",
    "ax1.scatter(-bimeanMtilde[:,RANKP],-bimeanNtilde[:,RANKP],c='red',alpha=1.0)\n",
    "\n",
    "nVtilde = Vtilde@(sigvmat+invsigvmat)\n",
    "nV = V@sigvmat\n",
    "bimeanUtilde,bimeanVtilde=np.zeros((R,R)),np.zeros((R,R))\n",
    "for i in range(Rc):\n",
    "    bimeanUtilde[0,i],bimeanVtilde[0,i]=np.mean(Utilde[:nn,i]),np.mean(nVtilde[:nn,i])\n",
    "    bimeanUtilde[1,i],bimeanVtilde[1,i]=np.mean(Utilde[nn:,i]),np.mean(nVtilde[nn:,i])\n",
    "RANKP=0\n",
    "# fig=plt.figure(figsize=(5,5))\n",
    "# ax1=fig.add_subplot(111)\n",
    "ax1.scatter(Utilde[:,RANKP],nVtilde[:,RANKP],c='yellow',alpha=0.5)\n",
    "ax1.set_aspect('auto')\n",
    "ax1.scatter(U[:,RANKP],nV[:,RANKP],c='green',alpha=1.0)\n",
    "ax1.scatter(bimeanUtilde[:,RANKP],bimeanVtilde[:,RANKP],c='red',alpha=0.8)\n",
    "\n",
    "ax1.scatter(-Mrank[:,RANKP],-Nrank[:,RANKP],c='b',alpha=1.0)\n",
    "ax1.scatter(-bimeanMtilde[:,RANKP],-bimeanNtilde[:,RANKP],c='red',alpha=1.0)\n",
    "\n"
   ]
  },
  {
   "source": [
    "## Figures: Gaussian Distribution"
   ],
   "cell_type": "markdown",
   "metadata": {}
  },
  {
   "cell_type": "code",
   "execution_count": 80,
   "metadata": {},
   "outputs": [
    {
     "output_type": "execute_result",
     "data": {
      "text/plain": [
       "<matplotlib.legend.Legend at 0x7f851314b730>"
      ]
     },
     "metadata": {},
     "execution_count": 80
    }
   ],
   "source": [
    "## Gaussian distributions for Utilde,U and Vtilde,V\n",
    "\n",
    "# numeerically obtain Utildenum, Vtildenum\n",
    "Utildenum,rho,Vtildenumh=la.svd(Xtilde)\n",
    "Utildenum = Utildenum[:,:R]\n",
    "Vtildenumh = Vtildenumh[:R,:]\n",
    "Vtildenum = Vtildenumh.T \n",
    "Udiffnum,Vdiffnum=Utildenum-U@Asqrt,Vtildenum-V@Asqrt\n",
    "Udiffnum[:,1]+=2*U[:,1]*Asqrt[1,1]\n",
    "Vdiffnum[:,1]+=2*V[:,1]*Asqrt[1,1]\n",
    "\n",
    "Nspace = 1000\n",
    "# left singular matrix\n",
    "maxstd = np.std(np.reshape(Udiffnum,(1,-1)))\n",
    "fig=plt.figure()\n",
    "ax1=fig.add_subplot(211)\n",
    "ax2=fig.add_subplot(212)\n",
    "n, bins, patches = ax1.hist(Udiffnum[:,0], 100, density=True, alpha=0.5)\n",
    "stdtest=np.std(Udiffnum[:,0])\n",
    "xxx=np.linspace(-3*stdtest,3*stdtest,Nspace)\n",
    "stdu=1.0/(svr[0]*np.sqrt(2*nn))\n",
    "disttest = np.exp(-(xxx/stdu)**2/2)/np.sqrt(2*np.pi*stdu**2)\n",
    "ax1.plot(xxx,disttest*nn*2/Nspace,label='theoretical '+r'$\\zeta$ in $\\tilde{u}^{(1)}$')\n",
    "ax1.set_xlim([-5*maxstd,5*maxstd])\n",
    "ax1.legend()\n",
    "n, bins, patches = ax2.hist(Udiffnum[:,1], 100, density=True, alpha=0.5)\n",
    "stdtest=np.std(Udiffnum[:,1])\n",
    "xxx=np.linspace(-3*stdtest,3*stdtest,Nspace)\n",
    "stdu=1.0/(svr[1]*np.sqrt(2*nn))\n",
    "disttest = np.exp(-(xxx/stdu)**2/2)/np.sqrt(2*np.pi*stdu**2)\n",
    "# disttest/=np.sum(disttest)\n",
    "ax2.plot(xxx,disttest*nn*2/Nspace,label='theoretical '+r'$\\zeta$ in $\\tilde{u}^{(2)}$')\n",
    "ax2.set_xlim([-5*maxstd,5*maxstd])\n",
    "ax2.set_xlabel('Entries')\n",
    "ax2.legend()\n",
    "\n",
    "# n, bins, patches = ax2.hist(residrvec[:,1], 100, density=True, alpha=0.5)\n",
    "# stdtest=np.std(residrvec[:,1])\n",
    "# xxx=np.linspace(-3*stdtest,3*stdtest,1000)\n",
    "# disttest = np.exp(-(xxx/stdtest)**2/2)/np.sqrt(2*np.pi*stdtest**2)\n",
    "# # disttest/=np.sum(disttest)\n",
    "# ax2.plot(xxx,disttest*nn*2/1000)\n"
   ]
  },
  {
   "cell_type": "code",
   "execution_count": 86,
   "metadata": {},
   "outputs": [
    {
     "output_type": "execute_result",
     "data": {
      "text/plain": [
       "<matplotlib.legend.Legend at 0x7f854218e160>"
      ]
     },
     "metadata": {},
     "execution_count": 86
    }
   ],
   "source": [
    "# numeerically obtain Mtildenum, Ntildenum\n",
    "Utildenum,rho,Vtildenumh=la.svd(Xtilde)\n",
    "Utildenum = Utildenum[:,:R]\n",
    "Vtildenumh = Vtildenumh[:R,:]\n",
    "Vtildenum = Vtildenumh.T \n",
    "Mtilde_t=Utildenum-np.random.randn(nn*2,R)@la.matrix_power(invsigvmat,3)/np.sqrt(2*nn)\n",
    "Mtildenum=Mtilde_t*np.sqrt(2*nn)@la.inv(Asqrt)\n",
    "Mdiffnum =Mtildenum-Mrank@ROT\n",
    "# Udiffnum[:,1]+=2*U[:,1]*Asqrt[1,1]\n",
    "# Vdiffnum[:,1]+=2*V[:,1]*Asqrt[1,1]\n",
    "\n",
    "Nspace = 1000\n",
    "# left singular matrix\n",
    "maxstd = np.std(np.reshape(Mdiffnum,(1,-1)))\n",
    "fig=plt.figure()\n",
    "ax1=fig.add_subplot(211)\n",
    "ax2=fig.add_subplot(212)\n",
    "n, bins, patches = ax1.hist(Mdiffnum[:,0], 100, density=True, alpha=0.5)\n",
    "stdtest=np.std(Mdiffnum[:,0])\n",
    "xxx=np.linspace(-3*stdtest,3*stdtest,Nspace)\n",
    "stdu=1.0/(svr[0]*1)\n",
    "disttest = np.exp(-(xxx/stdu)**2/2)/np.sqrt(2*np.pi*stdu**2)\n",
    "ax1.plot(xxx,disttest*nn*2/Nspace,label='theoretical '+r'$\\zeta$ in $\\tilde{u}^{(1)}$')\n",
    "ax1.set_xlim([-5*maxstd,5*maxstd])\n",
    "ax1.legend()\n",
    "n, bins, patches = ax2.hist(Mdiffnum[:,1], 100, density=True, alpha=0.5)\n",
    "stdtest=np.std(Mdiffnum[:,1])\n",
    "xxx=np.linspace(-3*stdtest,3*stdtest,Nspace)\n",
    "stdu=1.0/(svr[1])\n",
    "disttest = np.exp(-(xxx/stdu)**2/2)/np.sqrt(2*np.pi*stdu**2)\n",
    "# disttest/=np.sum(disttest)\n",
    "ax2.plot(xxx,disttest*nn*2/Nspace,label='theoretical '+r'$\\zeta$ in $\\tilde{u}^{(2)}$')\n",
    "ax2.set_xlim([-5*maxstd,5*maxstd])\n",
    "ax2.set_xlabel('Entries')\n",
    "ax2.legend()"
   ]
  },
  {
   "source": [
    "## Testing Two Representations"
   ],
   "cell_type": "markdown",
   "metadata": {}
  },
  {
   "cell_type": "code",
   "execution_count": 121,
   "metadata": {},
   "outputs": [],
   "source": [
    "#  15112020 reconfinement\n",
    "JE,JI=1.0,1.45\n",
    "a,b=0.40,0.50#0.3,0.2#\n",
    "nvalues,niterations=20,50\n",
    "aseries = np.linspace(0.0,1.0,nvalues)\n",
    "# calculate the rotation matrix in rank-2 case (reduced), then extend to large \n",
    "# generate perturbed matrix\n",
    "Singularvalue=2*np.ones((3,2,nvalues,niterations))\n",
    "for iter in range(niterations):\n",
    "    for idxa, a in enumerate(aseries):\n",
    "        J2=np.zeros((2,2))\n",
    "        J2[:,0],J2[:,1]=JE,-JI\n",
    "        J2[0,0],J2[1,0]=J2[0,0]+a,J2[1,0]-a\n",
    "        J2[0,1],J2[1,1]=J2[0,1]+b,J2[1,1]-b\n",
    "        lvec2,svr2,rvech2=la.svd(J2)\n",
    "        M2 = np.array([[1,1],[1,-1]])\n",
    "        ROT = np.sqrt(2)*la.inv(M2)@lvec2 # M@ROT.T/sqrt(2?)=u\n",
    "        # print('Rotation:',ROT)\n",
    "\n",
    "        '''\n",
    "        Generate two expressions in large random matrix\n",
    "        params:\n",
    "            nn = E/I neuron number\n",
    "            M/Nrank = low rank structure in EI format\n",
    "            U/V.    = low rank structyre in SVD format\n",
    "            M/Nranktilde = low rank EI format for large random matrix\n",
    "            U/Vtilde = low rank SVD format for large random matrix\n",
    "            sigvmat: diagonal singular values matrix\n",
    "            \n",
    "\n",
    "        '''\n",
    "        R = 0\n",
    "        for i in range(2):\n",
    "            if svr2[i]>1.0:\n",
    "                R+=1\n",
    "        nn=600\n",
    "        if R <2:\n",
    "            ROT = np.ones((1,1))\n",
    "        sigvmat,rhosigv = np.zeros((R,R)),np.zeros((R,R))\n",
    "        for i in range(R):\n",
    "            sigvmat[i,i]=svr2[i]\n",
    "            rhosigv[i,i]=svr2[i]+1.0/svr2[i]\n",
    "        invsigvmat = la.inv(sigvmat)\n",
    "        # print('inverse singular value matrix:',invsigvmat)\n",
    "        # print('square of the inverse singular value matrix:',la.matrix_power(invsigvmat,2)) \n",
    "\n",
    "        zetau,zetav = np.random.randn(nn*2,R)/np.sqrt(2*nn),np.random.randn(nn*2,R)/np.sqrt(2*nn)\n",
    "        zetaM,zetaN = np.random.randn(nn*2,R)/np.sqrt(2*nn),np.random.randn(nn*2,R)/np.sqrt(2*nn)\n",
    "        # generate rank-2 matrix P without random entries\n",
    "        P=np.zeros((nn*2,nn*2))\n",
    "        P[:,:nn],P[:,nn:]=JE/nn,-JI/nn\n",
    "        P[:nn,:nn],P[nn:,:nn]=P[:nn,:nn]+a/nn,P[nn:,:nn]-a/nn\n",
    "        P[:nn,nn:],P[nn:,nn:]=P[:nn,nn:]+b/nn,P[nn:,nn:]-b/nn\n",
    "        # use SVD to decompose the low rank matrix\n",
    "        lvec,svr,rvech=la.svd(P)\n",
    "        rvec=rvech.T \n",
    "        # check the singular value\n",
    "        # print(svr,svr2)\n",
    "        if np.sum((svr[:2]-svr2[:])**2)>1e-8:\n",
    "            \n",
    "            print('Singular values for 2by2 matrix do not match those for NbyN matrix!')\n",
    "\n",
    "        alphamat= np.eye(R)-la.matrix_power(invsigvmat,2)\n",
    "        Asqrt=alphamat.copy()\n",
    "        for i in range(R):\n",
    "            Asqrt[i,i]=np.sqrt(Asqrt[i,i])\n",
    "\n",
    "        # EI format\n",
    "        withrand,wrank = 1,1\n",
    "        M1,N1=np.ones(2*nn),np.ones(2*nn)\n",
    "        N1[:nn],N1[nn:]=JE/nn,-JI/nn\n",
    "        M2,N2=M1.copy(),N1.copy()\n",
    "        M2[:nn],M2[nn:]=1,-1\n",
    "        N2[:nn],N2[nn:]=a/nn,b/nn\n",
    "        Mrank,Nrank=np.zeros((nn*2,R)),np.zeros((nn*2,R))\n",
    "        NT = np.random.randn(nn*2,R)\n",
    "        NT = NT.T \n",
    "        if R>1:\n",
    "            Mrank[:,0],Mrank[:,1],Nrank[:,0],Nrank[:,1]=M1,M2,N1,N2\n",
    "        else:\n",
    "            Mrank[:,0],Nrank[:,0]=M1,N1\n",
    "        Mranktilde = wrank*Mrank@ROT@Asqrt+withrand*zetaM@invsigvmat*np.sqrt(2*nn)\n",
    "        Nranktildeh = (sigvmat+invsigvmat)@(wrank*Asqrt@invsigvmat@ROT.T@Nrank.T+withrand*invsigvmat@zetaN.T/np.sqrt(2*nn))#+(sigvmat+invsigvmat)@invsigvmat@zetav.T\n",
    "        Nranktilde=Nranktildeh.T \n",
    "\n",
    "\n",
    "\n",
    "        U,V=np.zeros_like(Mrank),np.zeros_like(Nrank)\n",
    "        U,V=lvec[:,:R],rvec[:,:R]\n",
    "\n",
    "\n",
    "        Utilde,Vtilde = wrank*U@Asqrt+withrand*zetau@invsigvmat,wrank*V@Asqrt+withrand*zetav@invsigvmat\n",
    "\n",
    "        # add random part in, Xtilde = X+P\n",
    "        X = np.random.randn(2*nn,2*nn)/np.sqrt(2*nn)\n",
    "        Xtilde=X+P\n",
    "\n",
    "        Xtilde_svdrec = Utilde@(sigvmat+invsigvmat)@Vtilde.T \n",
    "        Xtilde_eirec  = Mranktilde@Nranktildeh\n",
    "\n",
    "        # test two expressions, using singular values\n",
    "        _,sigvxtilde,_=la.svd(Xtilde)\n",
    "        _,sigveitilde,_=la.svd(Xtilde_eirec)\n",
    "        _,sigvsvdtilde,_=la.svd(Xtilde_svdrec)\n",
    "        if R<2:\n",
    "            Singularvalue[:,0,idxa,iter]=np.array([sigvxtilde[0],sigveitilde[0],sigvsvdtilde[0]])\n",
    "        else:\n",
    "            Singularvalue[0,:,idxa,iter]=sigvxtilde[:R]\n",
    "            Singularvalue[1,:,idxa,iter]=sigveitilde[:R]\n",
    "            Singularvalue[2,:,idxa,iter]=sigvsvdtilde[:R]\n",
    "\n",
    "np.save('Singularvalue17Nov.npy', Singularvalue)  \n",
    "# print('compare the singular values from')\n",
    "# print('original:',sigvxtilde[:2])\n",
    "# print('svd:',sigvsvdtilde[:2])\n",
    "# print('ei:',sigveitilde[:2])\n",
    "\n",
    "\n"
   ]
  },
  {
   "cell_type": "code",
   "execution_count": 119,
   "metadata": {},
   "outputs": [
    {
     "output_type": "execute_result",
     "data": {
      "text/plain": [
       "[<matplotlib.lines.Line2D at 0x7f852689e130>]"
      ]
     },
     "metadata": {},
     "execution_count": 119
    }
   ],
   "source": [
    "# np.save('Singularvalue16Nov.npy', Singularvalue)  \n",
    "fig=plt.figure()\n",
    "ax1=fig.add_subplot(111)\n",
    "for iter in range\n",
    "ax1.plot(aseries,Singularvalue[0,0,:],'r',label=r'numerical $\\tilde{\\boldsymbol{X}}$')\n",
    "ax1.plot(aseries,Singularvalue[1,0,:],'b',label=r'EI $\\boldsymbol{\\tilde{M},\\ \\tilde{N}}$')\n",
    "ax1.plot(aseries,Singularvalue[2,0,:],'g',label=r'SVD $\\boldsymbol{\\tilde{U},\\ \\tilde{V}}$')\n",
    "\n",
    "ax1.plot(aseries,Singularvalue[0,1,:],'r--',label=r'numerical $\\tilde{\\boldsymbol{X}}$')\n",
    "ax1.plot(aseries,Singularvalue[1,1,:],'b--',label=r'EI $\\boldsymbol{\\tilde{M},\\ \\tilde{N}}$')\n",
    "ax1.plot(aseries,Singularvalue[2,1,:],'g--',label=r'SVD $\\boldsymbol{\\tilde{U},\\ \\tilde{V}}$')\n"
   ]
  },
  {
   "cell_type": "code",
   "execution_count": 49,
   "metadata": {},
   "outputs": [
    {
     "output_type": "stream",
     "name": "stdout",
     "text": [
      "compare MRT and U: [[-0.02693818 -0.03067574]\n [-0.02693818 -0.03067574]] [[-0.02693818 -0.03067574]\n [-0.02693818 -0.03067574]]\ncompare MRT and U: [[-0.03067574  0.02693818]\n [-0.03067574  0.02693818]] [[-0.03067574  0.02693818]\n [-0.03067574  0.02693818]]\n"
     ]
    }
   ],
   "source": [
    "MRT = Mrank@ROT.T/np.sqrt(2*nn)\n",
    "print('compare MRT and U:',U[:+2,:],MRT[:+2,:]) \n",
    "print('compare MRT and U:',U[nn:nn+2,:],MRT[nn:nn+2,:]) \n"
   ]
  },
  {
   "cell_type": "code",
   "execution_count": 50,
   "metadata": {},
   "outputs": [
    {
     "output_type": "stream",
     "name": "stdout",
     "text": [
      "compare MRT and U: [[-0.03536305 -0.02039906]\n [-0.03536305 -0.02039906]] [[-0.03536305 -0.02039906]\n [-0.03536305 -0.02039906]]\ncompare MRT and U: [[ 0.02039906 -0.03536305]\n [ 0.02039906 -0.03536305]] [[ 0.02039906 -0.03536305]\n [ 0.02039906 -0.03536305]]\n"
     ]
    }
   ],
   "source": [
    "NRTINV = Nrank@ROT.T@invsigvmat*np.sqrt(2*nn)\n",
    "print('compare MRT and U:',V[:+2,:],NRTINV[:+2,:]) \n",
    "print('compare MRT and U:',V[nn:nn+2,:],NRTINV[nn:nn+2,:]) "
   ]
  },
  {
   "cell_type": "code",
   "execution_count": 57,
   "metadata": {},
   "outputs": [
    {
     "output_type": "stream",
     "name": "stdout",
     "text": [
      "compare MRT and U: [[-0.03397748 -0.03438452]\n [-0.02605377 -0.02787703]] [[-0.03397748 -0.03438452]\n [-0.02605377 -0.02787703]]\ncompare MRT and U: [[-0.03207857  0.03029732]\n [-0.04216421  0.00877207]] [[-0.03207857  0.03029732]\n [-0.04216421  0.00877207]]\n"
     ]
    }
   ],
   "source": [
    "print('compare MRT and U:',Utilde[:+2,:],Mranktilde[:+2,:]) \n",
    "print('compare MRT and U:',Utilde[nn:nn+2,:],Mranktilde[nn:nn+2,:]) "
   ]
  },
  {
   "cell_type": "code",
   "execution_count": 58,
   "metadata": {},
   "outputs": [
    {
     "output_type": "stream",
     "name": "stdout",
     "text": [
      "compare MRT and U: [[-0.02189407 -0.01804848]\n [-0.04999292 -0.01212403]] [[ 0.01241503 -0.00075827]\n [-0.01568382  0.00516618]]\ncompare MRT and U: [[ 0.00946424 -0.07184279]\n [ 0.01846816 -0.02033009]] [[-0.01032685 -0.04186912]\n [-0.00132293  0.00964357]]\n"
     ]
    }
   ],
   "source": [
    "print('compare MRT and U:',Vtilde[:+2,:],Nranktilde[:+2,:]) \n",
    "print('compare MRT and U:',Vtilde[nn:nn+2,:],Nranktilde[nn:nn+2,:]) "
   ]
  },
  {
   "cell_type": "code",
   "execution_count": null,
   "metadata": {},
   "outputs": [],
   "source": []
  }
 ]
}