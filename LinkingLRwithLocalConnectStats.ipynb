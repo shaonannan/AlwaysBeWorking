{
 "metadata": {
  "language_info": {
   "codemirror_mode": {
    "name": "ipython",
    "version": 3
   },
   "file_extension": ".py",
   "mimetype": "text/x-python",
   "name": "python",
   "nbconvert_exporter": "python",
   "pygments_lexer": "ipython3",
   "version": "3.8.3-final"
  },
  "orig_nbformat": 2,
  "kernelspec": {
   "name": "python3",
   "display_name": "Python 3",
   "language": "python"
  }
 },
 "nbformat": 4,
 "nbformat_minor": 2,
 "cells": [
  {
   "source": [
    "## 17/12/2020 Update\n",
    "# Linking and Comparing Local Connect Stats with Low-rank Recurrent Network\n",
    "* From Local Connect Stats cite[Sharpee]\n",
    "* From Low-rank structure to EI "
   ],
   "cell_type": "markdown",
   "metadata": {}
  },
  {
   "cell_type": "code",
   "execution_count": 11,
   "metadata": {},
   "outputs": [],
   "source": [
    "from __future__ import print_function\n",
    "from ipywidgets import interact, interactive, fixed, interact_manual\n",
    "import ipywidgets as widgets\n",
    "import numpy as np\n",
    "import matplotlib.pylab as plt\n",
    "import matplotlib\n",
    "%matplotlib qt\n",
    "from numpy import linalg as la\n",
    "from scipy.optimize import fsolve\n",
    "from scipy import linalg as scpla\n",
    "import seaborn as sb\n",
    "from mpl_toolkits.axes_grid1 import make_axes_locatable\n",
    "from cmath import *\n",
    "from mpl_toolkits.mplot3d import Axes3D\n",
    "from scipy.optimize import fsolve,leastsq \n",
    "from math import tanh,cosh\n",
    "import math\n",
    "from sympy import *\n",
    "from scipy.linalg import schur, eigvals\n",
    "extras_require = {'PLOT':['matplotlib>=1.1.1,<3.0']},"
   ]
  },
  {
   "source": [
    "## Check the results in Sharpee's paper\n",
    "* local stats, EE,EI,IE,II occupy their own properties, independently\n",
    "* no pair correlation\n"
   ],
   "cell_type": "markdown",
   "metadata": {}
  },
  {
   "cell_type": "code",
   "execution_count": 178,
   "metadata": {},
   "outputs": [],
   "source": [
    "Nt=np.array([2000,1000])\n",
    "NE,NI=Nt[0],Nt[1]\n",
    "at = Nt/N\n",
    "N=np.sum(Nt)\n",
    "aee,aei,aie,aii=4.5,-6.0,5.0,-2.5\n",
    "JEEsub,JEIsub,JIEsub,JIIsub=aee*np.ones((NE,NE))/NE,aei*np.ones((NE,NI))/NI,aie*np.ones((NI,NE))/NE,aii*np.ones((NI,NI))/NI\n",
    "J = np.zeros((NE+NI,NE+NI))\n",
    "\n",
    "# determine gcd\n",
    "Gmat=np.zeros((2,2))\n",
    "Gmatorg=np.array([[0.8,1.2],[0.9,0.2]])\n",
    "# Gmat/=np.sqrt(N)\n",
    "for i in range(2):\n",
    "    for j in range(2):\n",
    "        Gmat[i,j]=Gmatorg[i,j]/np.sqrt(N)\n",
    "# EE\n",
    "gij=Gmat[0,0]*np.random.randn(NE,NE)\n",
    "J[:NE,:NE]=gij.copy()\n",
    "# EI\n",
    "gij=Gmat[0,1]*np.random.randn(NE,NI)\n",
    "J[:NE,NE:]=gij.copy()\n",
    "# IE\n",
    "gij=Gmat[1,0]*np.random.randn(NI,NE)\n",
    "J[NE:,:NE]=gij.copy()\n",
    "# II\n",
    "gij=Gmat[1,1]*np.random.randn(NI,NI)\n",
    "J[NE:,NE:]=gij.copy()\n",
    "\n",
    "P = np.zeros((N,N))\n",
    "P[:NE,:NE],P[:NE,NE:],P[NE:,:NE],P[NE:,NE:]=JEEsub.copy(),JEIsub.copy(),JIEsub.copy(),JIIsub.copy()\n",
    "X = P.copy()+J.copy()"
   ]
  },
  {
   "cell_type": "code",
   "execution_count": 113,
   "metadata": {},
   "outputs": [
    {
     "output_type": "stream",
     "name": "stdout",
     "text": [
      "averaging g noise: 0.8558621384311844\n"
     ]
    }
   ],
   "source": [
    "gavg=np.sqrt(np.sum(np.sum(Gmat**2)))/2.0\n",
    "print('averaging g noise:',gavg*np.sqrt(N))"
   ]
  },
  {
   "cell_type": "code",
   "execution_count": 105,
   "metadata": {},
   "outputs": [
    {
     "output_type": "stream",
     "name": "stdout",
     "text": [
      "eigenvalue: [1.+4.21307489j 1.-4.21307489j] singular value: [9.12570385 2.05463604] eigG 0.8546614831429354\n"
     ]
    }
   ],
   "source": [
    "aee,aei,aie,aii=4.5,-6.0,5.0,-2.5\n",
    "Asmall=np.array([[aee,aei],[aie,aii]])\n",
    "eigva,_=la.eig(Asmall)\n",
    "_,sigva,_=la.svd(Asmall)\n",
    "print('eigenvalue:',eigva,'singular value:',sigva,'eigG',np.sqrt(eigG[0]))"
   ]
  },
  {
   "cell_type": "code",
   "execution_count": 179,
   "metadata": {},
   "outputs": [],
   "source": [
    "# all about calculate eigenvalues\n",
    "eigvrand,eigvecrand=la.eig(J)\n",
    "eigstruct,eigvecstruct=la.eig(P)\n",
    "# summation\n",
    "X = P.copy()+J.copy()\n",
    "eigvx,eigvecx=la.eig(X)\n",
    "# theoretical\n",
    "M = np.zeros((2,2))\n",
    "for i in range(2):\n",
    "    for j in range(2):\n",
    "        M[i,j]=(Gmat[i,j]*np.sqrt(N))**2*(Nt[j]/N)\n",
    "eigG,eigvecG=la.eig(M)\n",
    "# low rank small\n",
    "Asmall=np.array([[aee,aei],[aie,aii]])\n",
    "eigva,_=la.eig(Asmall)\n"
   ]
  },
  {
   "cell_type": "code",
   "execution_count": 180,
   "metadata": {},
   "outputs": [],
   "source": [
    "ticks = np.linspace(-2.0,2.0,3)\n",
    "lims= [-2.1,2.1]\n",
    "\n",
    "fig,ax=plt.subplots(figsize=(6,6))\n",
    "ax.plot(np.sqrt(eigG[0])*np.ones(100),np.linspace(-1.0,1.0,100))\n",
    "ax.scatter(np.real(eigvrand),np.imag(eigvrand),s=5.0,c='blue',alpha=0.5)\n",
    "ax.scatter(np.real(eigstruct[:4]),np.zeros(4),s=15.0,c='red',alpha=0.5)\n",
    "# ax.set_xlim(lims)\n",
    "# ax.set_ylim(lims)\n",
    "# ax.set_xticks(ticks)\n",
    "# ax.set_yticks(ticks)\n",
    "ax.set_aspect('equal')\n",
    "ax.grid()"
   ]
  },
  {
   "source": [
    "## relate this to low rank (here rank-2)"
   ],
   "cell_type": "markdown",
   "metadata": {}
  },
  {
   "cell_type": "code",
   "execution_count": 109,
   "metadata": {},
   "outputs": [],
   "source": [
    "lvecX,svX,rvecXh=la.svd(X)\n",
    "rvecX=rvecXh.T\n",
    "m=lvecX[:,:2].copy()\n",
    "n=rvecX[:,:2].copy()\n",
    "n[:,0]*=svX[0]\n",
    "n[:,1]*=svX[1]\n",
    "\n",
    "# n[:,1]=rvecX[:,2]*svX[2]\n",
    "# m[:,1]=lvecX[:,2]"
   ]
  },
  {
   "cell_type": "code",
   "execution_count": 111,
   "metadata": {},
   "outputs": [],
   "source": [
    "morg,norg=m,n\n",
    "fig,ax=plt.subplots(4,4,figsize=(9,9))\n",
    "for i in range(2):\n",
    "    for j in range(2):\n",
    "        ax[i][j].scatter(morg[:NE,i],morg[:NE,j],s=5.0,c='red',alpha=0.05)\n",
    "        ax[i][j].scatter(morg[NE:,i],morg[NE:,j],s=5.0,c='blue',alpha=0.05)\n",
    "for i in range(2):\n",
    "    for j in range(2):\n",
    "        ax[2+i][2+j].scatter(norg[:NE,i],norg[:NE,j],s=5.0,c='red',alpha=0.05)\n",
    "        ax[2+i][2+j].scatter(norg[NE:,i],norg[NE:,j],s=5.0,c='blue',alpha=0.05)\n",
    "        \n",
    "for i in range(2):\n",
    "    for j in range(2):\n",
    "        ax[i][2+j].scatter(morg[:NE,i],norg[:NE,j],s=5.0,c='red',alpha=0.05)\n",
    "        ax[i][2+j].scatter(morg[NE:,i],norg[NE:,j],s=5.0,c='blue',alpha=0.05)\n",
    "for i in range(2):\n",
    "    for j in range(2):\n",
    "        ax[2+i][j].scatter(norg[:NE,i],morg[:NE,j],s=5.0,c='red',alpha=0.05)\n",
    "        ax[2+i][j].scatter(norg[NE:,i],morg[NE:,j],s=5.0,c='blue',alpha=0.05)\n",
    "for i in range(4):\n",
    "    for j in range(4):\n",
    "        # ax[i][j].set_xlim(lims)\n",
    "        # ax[i][j].set_ylim(lims)\n",
    "        # ax[i][j].set_xticks(ticks)\n",
    "        # ax[i][j].set_yticks(ticks)\n",
    "        ax[i][j].set_aspect('equal')\n",
    "        ax[i][j].grid()"
   ]
  },
  {
   "cell_type": "code",
   "execution_count": 117,
   "metadata": {},
   "outputs": [
    {
     "output_type": "stream",
     "name": "stdout",
     "text": [
      "eigenvalue: [1.+4.21307489j 1.-4.21307489j] [1.+4.21307489j 1.-4.21307489j]\nsingular value: [9.12570385 2.05463604] [9.12570385 2.05463604]\n"
     ]
    }
   ],
   "source": [
    "# test Dale's law\n",
    "Nt=np.array([300,100])\n",
    "NE,NI=Nt[0],Nt[1]\n",
    "N=np.sum(Nt)\n",
    "aee,aei,aie,aii=4.5,-6.0,5.0,-2.5\n",
    "JEEsub,JEIsub,JIEsub,JIIsub=aee*np.ones((NE,NE))/NE,aei*np.ones((NE,NI))/np.sqrt(NE*NI),aie*np.ones((NI,NE))/np.sqrt(NE*NI),aii*np.ones((NI,NI))/NI\n",
    "P = np.zeros((N,N))\n",
    "P[:NE,:NE],P[:NE,NE:],P[NE:,:NE],P[NE:,NE:]=JEEsub.copy(),JEIsub.copy(),JIEsub.copy(),JIIsub.copy()\n",
    "eigvP,_=la.eig(P)\n",
    "_,sigvp,_=la.svd(P)\n",
    "Asmall=np.array([[aee,aei],[aie,aii]])\n",
    "eigva,_=la.eig(Asmall)\n",
    "_,sigva,_=la.svd(Asmall)\n",
    "\n",
    "print('eigenvalue:',eigvP[:2],eigva[:2])\n",
    "print('singular value:',sigvp[:2],sigva[:2])"
   ]
  },
  {
   "cell_type": "code",
   "execution_count": 184,
   "metadata": {},
   "outputs": [
    {
     "output_type": "stream",
     "name": "stdout",
     "text": [
      "average eigv: 0.858253007850327\n"
     ]
    }
   ],
   "source": [
    "# test Dale's law\n",
    "Nt=np.array([100,1000])\n",
    "NE,NI=Nt[0],Nt[1]\n",
    "N=np.sum(Nt)\n",
    "at=Nt/N\n",
    "# determine gcd\n",
    "Gmat=np.zeros((2,2))\n",
    "Gmatorg=np.array([[0.8,1.2],[0.9,0.2]])\n",
    "# Gmat/=np.sqrt(N)\n",
    "for i in range(2):\n",
    "    for j in range(2):\n",
    "        Gmat[i,j]=Gmatorg[i,j]/np.sqrt(N)\n",
    "# EE\n",
    "J=np.zeros((N,N))\n",
    "\n",
    "gij=np.zeros((NE,NE))\n",
    "gij=Gmat[0,0]*np.random.randn(NE,NE)\n",
    "J[:NE,:NE]=gij.copy()\n",
    "# EI\n",
    "gij=np.zeros((NE,NI))\n",
    "gij=Gmat[0,1]*np.random.randn(NE,NI)\n",
    "J[:NE,NE:]=gij.copy()\n",
    "# IE\n",
    "gij=np.zeros((NI,NE))\n",
    "gij=Gmat[1,0]*np.random.randn(NI,NE)\n",
    "J[NE:,:NE]=gij.copy()\n",
    "# II\n",
    "gij=np.zeros((NI,NI))\n",
    "gij=Gmat[1,1]*np.random.randn(NI,NI)\n",
    "J[NE:,NE:]=gij.copy()\n",
    "\n",
    "gavg=0\n",
    "for i in range(2):\n",
    "    for j in range(2):\n",
    "        gavg+=np.sqrt(Gmatorg[i,j]**2*at[i]*at[j])\n",
    "M = np.zeros((2,2))\n",
    "for i in range(2):\n",
    "    for j in range(2):\n",
    "        M[i,j]=(Gmatorg[i,j]**2)*at[j]\n",
    "\n",
    "eigvj,_=la.eig(J)\n",
    "eigvM,_=la.eig(M)\n",
    "ticks = np.linspace(-2.0,2.0,3)\n",
    "lims= [-2.1,2.1]\n",
    "\n",
    "fig,ax=plt.subplots(figsize=(6,6))\n",
    "ax.plot(np.sqrt(eigvM[0])*np.ones(100),np.linspace(-1.0,1.0,100))\n",
    "ax.scatter(np.real(eigvj),np.imag(eigvj),s=5.0,c='blue',alpha=0.5)\n",
    "print('average eigv:',gavg)\n"
   ]
  },
  {
   "cell_type": "code",
   "execution_count": 227,
   "metadata": {},
   "outputs": [
    {
     "output_type": "stream",
     "name": "stdout",
     "text": [
      "0.6\n"
     ]
    }
   ],
   "source": [
    "# testing distribution of J_{ij}\n",
    "NE,NI=750,250\n",
    "sigm,sign=0.5,1.2\n",
    "mE,nE=sigm*np.random.randn(NE,1)/np.sqrt(NE),sign*np.random.randn(NE,1)/np.sqrt(NE)\n",
    "JEE = mE@nE.T \n",
    "eigv,eigvec=la.eig(JEE)\n",
    "fig,ax=plt.subplots(figsize=(6,6))\n",
    "ax.scatter(np.real(eigvj),np.imag(eigvj),s=5.0,c='blue',alpha=0.5)\n",
    "\n",
    "JEEoff=JEE.copy()\n",
    "JEEdiag=np.zeros(NE)\n",
    "for i in range(NE):\n",
    "    JEEoff[i,i:NE-1]=JEEoff[i,i+1:]\n",
    "    JEEdiag[i]=JEE[i,i]\n",
    "fig,ax=plt.subplots(2,1,figsize=(6,6))\n",
    "Joff=JEEoff[:,:NE-1]\n",
    "Joff=np.reshape(Joff,(NE**2-NE,1))\n",
    "n, bins, patches = ax[0].hist(Joff, 100, density=True, alpha=0.5)\n",
    "n, bins, patches = ax[1].hist(JEEdiag, 100, density=True, alpha=0.5)\n",
    "print(sigm*sign)\n",
    "\n"
   ]
  },
  {
   "source": [
    "## What's the distribution of $J_{i,j}$ in $\\tilde{\\mathbf{X}}=\\mathbf{X}+\\mathbf{p}$"
   ],
   "cell_type": "markdown",
   "metadata": {}
  },
  {
   "cell_type": "code",
   "execution_count": 229,
   "metadata": {},
   "outputs": [],
   "source": [
    "# testing distribution of J_{ij} in \\tilde{X}\n",
    "NE,NI=2000,250\n",
    "sigm,sign,grandom=0.6,1.0,0.5\n",
    "rho=0.0\n",
    "zetax,zetay=np.random.randn(NE,1),np.random.randn(NE,1)\n",
    "m = sigm*zetax/np.sqrt(NE)\n",
    "n =sign*(rho*zetax+np.sqrt(1-rho**2)*zetay)/np.sqrt(NE)\n",
    "P = m@n.T \n",
    "X = (grandom)*np.random.randn(NE,NE)/np.sqrt(NE)\n",
    "\n",
    "Xtilde=X+P\n",
    "\n",
    "eigv,eigvec=la.eig(Xtilde)\n",
    "fig,ax=plt.subplots(figsize=(6,6))\n",
    "ax.scatter(np.real(eigv),np.imag(eigv),s=5.0,c='blue',alpha=0.5)\n",
    "\n",
    "JEEoff=Xtilde.copy()\n",
    "JEEdiag=np.zeros(NE)\n",
    "for i in range(NE):\n",
    "    JEEoff[i,i:NE-1]=JEEoff[i,i+1:]\n",
    "    JEEdiag[i]=Xtilde[i,i]\n",
    "fig,ax=plt.subplots(2,1,figsize=(6,6))\n",
    "Joff=JEEoff[:,:NE-1]\n",
    "Joff=np.reshape(Joff,(NE**2-NE,1))\n",
    "n, bins, patches = ax[0].hist(Joff, 100, density=True, alpha=0.5)\n",
    "n, bins, patches = ax[1].hist(JEEdiag, 100, density=True, alpha=0.5)"
   ]
  },
  {
   "source": [
    "## Generate Random Block Matrix, embedding low rank structur $\\tilde{\\mathbf{X}}_{\\mathrm{type}}=\\mathbf{X}_{\\mathrm{type}}+\\mathbf{P}_{\\mathrm{type}}$"
   ],
   "cell_type": "markdown",
   "metadata": {}
  },
  {
   "cell_type": "code",
   "execution_count": 238,
   "metadata": {},
   "outputs": [],
   "source": [
    "phiacttt=np.zeros((N,1))\n",
    "phiacttt[:NE,0],phiacttt[NE:,0]=(rhoE*zetaxE+np.sqrt(1-rhoE**2)*zetayE)/np.sqrt(N),(rhoI*zetaxI+np.sqrt(1-rhoI**2)*zetayI)/np.sqrt(N)\n",
    "eitatt=Xtilde@phiacttt\n",
    "eitarand=X@phiacttt\n",
    "coveitatt=eitatt@eitatt.T \n",
    "coveitarand=eitarand@eitarand.T \n",
    "deltaEt,deltaEr=coveitatt[:NE,:NE],coveitarand[:NE,:NE]\n",
    "deltaIt,deltaIr=coveitatt[NE:,NE:],coveitarand[NE:,NE:]\n",
    "print('std, Et:',np.std(deltaEt),'; random:',np.std(deltaEr))\n",
    "print('std, It:',np.std(deltaIt),'; random:',np.std(deltaIr))"
   ]
  },
  {
   "cell_type": "code",
   "execution_count": 411,
   "metadata": {},
   "outputs": [
    {
     "output_type": "stream",
     "name": "stdout",
     "text": [
      "1.7677669529663689\n"
     ]
    },
    {
     "output_type": "execute_result",
     "data": {
      "text/plain": [
       "<matplotlib.collections.PathCollection at 0x7fb1f7f7f7f0>"
      ]
     },
     "metadata": {},
     "execution_count": 411
    }
   ],
   "source": [
    "eigvx,_=la.eig(X)\n",
    "eigvxt,_=la.eig(Xtilde)\n",
    "fig,ax=plt.subplots(2,2,figsize=(9,9))\n",
    "ax[0][0].scatter(np.real(eigvx),np.imag(eigvx),s=2.0,c='red',alpha=0.5)\n",
    "ax[0][0].set_aspect('equal')\n",
    "print(np.sqrt(xee**2*NE/N))\n",
    "ax[1][0].scatter(np.real(eigvxt),np.imag(eigvxt),s=2.0,c='red',alpha=0.5)\n",
    "ax[1][0].set_aspect('equal')\n",
    "# HISTOGRAM\n",
    "n, bins, patches = ax[0][1].hist(np.real(eigvx), 20, density=True, alpha=0.5)\n",
    "ax[0][1].set_xlim([-4.0,4.0])\n",
    "n, bins, patches = ax[1][1].hist(np.real(eigvxt), 20, density=True, alpha=0.5)\n",
    "ax[0][1].set_xlim([-4.0,4.0])\n",
    "# SUBTYPE\n",
    "XEI,XTEI=X[:NE,NE:],Xtilde[:NE,NE:]\n",
    "eigvEI,eigvec=la.eig(XEI)\n",
    "eigvTEI,eigvec=la.eig(XTEI)\n",
    "fig,ax=plt.subplots(1,2,figsize=(6,6))\n",
    "ax[0].scatter(np.real(eigvEI),np.imag(eigvEI),s=5.0,c='blue',alpha=0.5)\n",
    "ax[1].scatter(np.real(eigvTEI),np.imag(eigvTEI),s=5.0,c='blue',alpha=0.5)\n",
    "\n",
    "XEE,XTEE=X[:NE,:NE],Xtilde[:NE,:NE]\n",
    "eigvEE,eigvec=la.eig(XEE)\n",
    "eigvTEE,eigvec=la.eig(XTEE)\n",
    "fig,ax=plt.subplots(1,2,figsize=(6,6))\n",
    "ax[0].scatter(np.real(eigvEE),np.imag(eigvEE),s=5.0,c='red',alpha=0.5)\n",
    "ax[1].scatter(np.real(eigvTEE),np.imag(eigvTEE),s=5.0,c='red',alpha=0.5)\n",
    "\n",
    "XIE,XTIE=X[NE:,:NE],Xtilde[NE:,:NE]\n",
    "eigvIE,eigvec=la.eig(XIE)\n",
    "eigvTIE,eigvec=la.eig(XTIE)\n",
    "fig,ax=plt.subplots(1,2,figsize=(6,6))\n",
    "ax[0].scatter(np.real(eigvIE),np.imag(eigvIE),s=5.0,c='blue',alpha=0.5)\n",
    "ax[1].scatter(np.real(eigvTIE),np.imag(eigvTIE),s=5.0,c='blue',alpha=0.5)\n",
    "\n",
    "XII,XTII=X[NE:,NE:],Xtilde[NE:,NE:]\n",
    "eigvII,eigvec=la.eig(XII)\n",
    "eigvTII,eigvec=la.eig(XTII)\n",
    "fig,ax=plt.subplots(1,2,figsize=(6,6))\n",
    "ax[0].scatter(np.real(eigvII),np.imag(eigvII),s=5.0,c='red',alpha=0.5)\n",
    "ax[1].scatter(np.real(eigvTII),np.imag(eigvTII),s=5.0,c='red',alpha=0.5)\n"
   ]
  },
  {
   "source": [
    "# 24/12 Generate Figures and Some Questions"
   ],
   "cell_type": "markdown",
   "metadata": {}
  },
  {
   "cell_type": "code",
   "execution_count": 3,
   "metadata": {},
   "outputs": [],
   "source": [
    "def calculate_angle(vector_1,vector_2):\n",
    "    unit_vector_1 = vector_1 /np.linalg.norm(vector_1)\n",
    "    unit_vector_2 = vector_2 /np.linalg.norm(vector_2)\n",
    "    dot_product = np.dot(unit_vector_1, unit_vector_2)\n",
    "    angle = np.arccos(dot_product)\n",
    "    return angle"
   ]
  },
  {
   "source": [
    "## Generate Matrix"
   ],
   "cell_type": "markdown",
   "metadata": {}
  },
  {
   "cell_type": "code",
   "execution_count": 1558,
   "metadata": {},
   "outputs": [],
   "source": [
    "# Block Gaussian Random Network\n",
    "xee,xei,xie,xii=2.0,0.0,0.0,1.5#1.2,1.2,1.8\n",
    "JE,JI=2.5,2.0\n",
    "\n",
    "Niter =5\n",
    "Np = 20\n",
    "xees=np.linspace(0.4,2.4,Np)\n",
    "gaverages=np.zeros((Np,Niter))\n",
    "gradiuss=np.zeros((Np,Niter))\n",
    "svams = np.zeros((Np,Niter))\n",
    "svxts = np.zeros((Np,Niter))\n",
    "for i in range(Niter):\n",
    "    for idx, xee in enumerate(xees):\n",
    "        # generate random \n",
    "        Grand=np.array([xee,0,0,xii])\n",
    "        X,Gamp,eigvgm,eigvecgm,gaverages[idx,i],ugm,svgm,vgm=generate_localstatsmat(Nparams,Grand)\n",
    "        gradiuss[idx,i]=np.sqrt(eigvgm[0])\n",
    "        # generate mean Am\n",
    "        Am,Jsv,us,svams[idx,i],va=generate_meanmat(Nparams,JE,JI)\n",
    "        # CALCULATE XTOTAL\n",
    "        Xtotal=X.copy()+Am.copy()\n",
    "        # Combine, total svd decomposition\n",
    "        uxt,svxt,vhxt=la.svd(Xtotal)\n",
    "        vxt=vhxt.T   \n",
    "        svxts[idx,i]=svxt[0]\n",
    "\n",
    "\n",
    "\n"
   ]
  },
  {
   "cell_type": "code",
   "execution_count": 1560,
   "metadata": {},
   "outputs": [],
   "source": [
    "ticks = np.linspace(4.7,5.5,3)\n",
    "lims= [4.69,5.51]\n",
    "# calculate the theoretical singular values of Xtotal\n",
    "svxts_theo = np.mean(svams[0]+gaverages**2/svams[0],axis=1)\n",
    "svxts_theo_eff = np.mean(svams[0]+gradiuss**2/svams[0],axis=1)\n",
    "svxtsm=np.mean(svxts,axis=1)\n",
    "fig,ax=plt.subplots(figsize=(6,6))\n",
    "ax.plot(svxtsm,svxtsm,'k--',linewidth=1.0,alpha=0.5)\n",
    "ax.plot(svxtsm,svxts_theo,'r.',linewidth=1.5)\n",
    "ax.plot(svxtsm,svxts_theo_eff,'b.',linewidth=1.5)\n",
    "ax.set_xlim(lims)\n",
    "ax.set_ylim(lims)\n",
    "ax.set_xticks(ticks)\n",
    "ax.set_yticks(ticks)\n",
    "ax.set_aspect('equal')\n",
    "\n",
    "\n"
   ]
  },
  {
   "cell_type": "code",
   "execution_count": 2263,
   "metadata": {},
   "outputs": [],
   "source": [
    "# Block Gaussian Random Network\n",
    "xee,xei,xie,xii=0.8,0.5,0.5,0.6#1.2,1.2,1.8\n",
    "JE,JI=2.0,4.0\n",
    "\n",
    "# generate random \n",
    "Grand=np.array([xee,xei,xie,xii])\n",
    "X,Gamp,eigvgm,eigvecgm,gaverage,ugm,svgm,vgm=generate_localstatsmat(Nparams,Grand)\n",
    "gradius=np.sqrt(eigvgm[0])\n",
    "# generate mean Am\n",
    "Am,Jsv,ua,svam,va=generate_meanmat(Nparams,JE,JI)\n",
    "# CALCULATE XTOTAL\n",
    "Xtotal=X.copy()+Am.copy()\n",
    "# Combine, total svd decomposition\n",
    "uxt,svxt,vhxt=la.svd(Xtotal)\n",
    "vxt=vhxt.T   \n"
   ]
  },
  {
   "cell_type": "code",
   "execution_count": 2264,
   "metadata": {},
   "outputs": [
    {
     "output_type": "error",
     "ename": "ValueError",
     "evalue": "operands could not be broadcast together with shapes (2,) (200,) ",
     "traceback": [
      "\u001b[0;31m---------------------------------------------------------------------------\u001b[0m",
      "\u001b[0;31mValueError\u001b[0m                                Traceback (most recent call last)",
      "\u001b[0;32m<ipython-input-2264-2f4b000c40c0>\u001b[0m in \u001b[0;36m<module>\u001b[0;34m\u001b[0m\n\u001b[1;32m      5\u001b[0m \u001b[0;31m# eigvx,eigvecx=la.eig(Xtotal)\u001b[0m\u001b[0;34m\u001b[0m\u001b[0;34m\u001b[0m\u001b[0;34m\u001b[0m\u001b[0m\n\u001b[1;32m      6\u001b[0m \u001b[0mtheta\u001b[0m \u001b[0;34m=\u001b[0m \u001b[0mnp\u001b[0m\u001b[0;34m.\u001b[0m\u001b[0mlinspace\u001b[0m\u001b[0;34m(\u001b[0m\u001b[0;36m0\u001b[0m\u001b[0;34m,\u001b[0m \u001b[0;36m2\u001b[0m \u001b[0;34m*\u001b[0m \u001b[0mnp\u001b[0m\u001b[0;34m.\u001b[0m\u001b[0mpi\u001b[0m\u001b[0;34m,\u001b[0m \u001b[0;36m200\u001b[0m\u001b[0;34m)\u001b[0m\u001b[0;34m\u001b[0m\u001b[0;34m\u001b[0m\u001b[0m\n\u001b[0;32m----> 7\u001b[0;31m \u001b[0mxc\u001b[0m \u001b[0;34m=\u001b[0m \u001b[0mgradius\u001b[0m\u001b[0;34m*\u001b[0m\u001b[0mnp\u001b[0m\u001b[0;34m.\u001b[0m\u001b[0mcos\u001b[0m\u001b[0;34m(\u001b[0m\u001b[0mtheta\u001b[0m\u001b[0;34m)\u001b[0m\u001b[0;34m\u001b[0m\u001b[0;34m\u001b[0m\u001b[0m\n\u001b[0m\u001b[1;32m      8\u001b[0m \u001b[0myc\u001b[0m \u001b[0;34m=\u001b[0m \u001b[0mgradius\u001b[0m\u001b[0;34m*\u001b[0m\u001b[0mnp\u001b[0m\u001b[0;34m.\u001b[0m\u001b[0msin\u001b[0m\u001b[0;34m(\u001b[0m\u001b[0mtheta\u001b[0m\u001b[0;34m)\u001b[0m\u001b[0;34m\u001b[0m\u001b[0;34m\u001b[0m\u001b[0m\n\u001b[1;32m      9\u001b[0m \u001b[0;34m\u001b[0m\u001b[0m\n",
      "\u001b[0;31mValueError\u001b[0m: operands could not be broadcast together with shapes (2,) (200,) "
     ]
    }
   ],
   "source": [
    "## difference between singular value and eigenvalue\n",
    "# First Set of Figures\n",
    "# figure, validate results in sharpee's paper\n",
    "# ticks and labels\n",
    "# eigvx,eigvecx=la.eig(Xtotal)\n",
    "theta = np.linspace(0, 2 * np.pi, 200)\n",
    "xc = gradius*np.cos(theta)\n",
    "yc = gradius*np.sin(theta)\n",
    "\n",
    "xa = gaverage*np.cos(theta)\n",
    "ya = gaverage*np.sin(theta)\n",
    "\n",
    "ticks = np.linspace(-1.50,1.50,3)\n",
    "lims= [-1.51,1.51]\n",
    "nbins=100\n",
    "fig,ax=plt.subplots(figsize=(6,6))\n",
    "# eigenvalue\n",
    "ax.scatter(np.real(eigvx),np.imag(eigvx),s=2.0,c='blue',alpha=0.5)\n",
    "ax.plot(xc, yc, color=\"darkred\", linewidth=2)\n",
    "ax.plot(xa, ya, color=\"grey\", linewidth=2,linestyle='--')\n",
    "ax.set_xlim(lims)\n",
    "ax.set_ylim(lims)\n",
    "ax.set_xticks(ticks)\n",
    "ax.set_yticks(ticks)\n",
    "ax.set_aspect('equal')\n",
    "ax.set_title(r'$J_E,\\ J_I=$'+str(JE)+','+str(JI)+'\\n $\\lambda_1=$'+str(format(gradius,'.1f'))+r', $g_{avg}=$'+str(format(gaverage,'.1f')),fontsize=14)\n",
    "print(np.sqrt(0.5*JE**2+0.5*JI**2),np.min(np.real(eigvx)),gradius)\n",
    "print(gaverage**2/svam+svam,svxt[0],gradius**2/svam+svam)"
   ]
  },
  {
   "source": [
    "Parameters\n",
    "a(M, M) array_like\n",
    "Matrix to decompose\n",
    "output{‘real’, ‘complex’}, optional\n",
    "Construct the real or complex Schur decomposition (for real matrices).\n",
    "lworkint, optional\n",
    "Work array size. If None or -1, it is automatically computed.\n",
    "overwrite_abool, optional\n",
    "Whether to overwrite data in a (may improve performance).\n",
    "sort{None, callable, ‘lhp’, ‘rhp’, ‘iuc’, ‘ouc’}, optional\n",
    "Specifies whether the upper eigenvalues should be sorted. A callable may be passed that, given a eigenvalue, returns a boolean denoting whether the eigenvalue should be sorted to the top-left (True). Alternatively, string parameters may be used:\n",
    "'lhp'   Left-hand plane (x.real < 0.0)\n",
    "'rhp'   Right-hand plane (x.real > 0.0)\n",
    "'iuc'   Inside the unit circle (x*x.conjugate() <= 1.0)\n",
    "'ouc'   Outside the unit circle (x*x.conjugate() > 1.0)"
   ],
   "cell_type": "markdown",
   "metadata": {}
  },
  {
   "source": [
    "## test how the iid vectors constitute overall\n",
    "## put them together and try to figure out the the properties"
   ],
   "cell_type": "markdown",
   "metadata": {}
  },
  {
   "cell_type": "code",
   "execution_count": 12,
   "metadata": {},
   "outputs": [],
   "source": [
    "Nt=np.array([1000,1000])\n",
    "NE,NI=Nt[0],Nt[1]\n",
    "Nparams=np.array([NE,NI])\n",
    "\n",
    "def generate_localstatsmat(Nparams,Grand):\n",
    "    xee,xei,xie,xii=Grand[0],Grand[1],Grand[2],Grand[3]\n",
    "    NE,NI=Nparams[0],Nparams[1]\n",
    "    N=NE+NI\n",
    "    at = Nt/N   \n",
    "    X=np.zeros((N,N))\n",
    "    X[:NE,:NE],X[NE:,NE:]=np.random.randn(NE,NE),np.random.randn(NE,NE)\n",
    "    X[:NE,NE:],X[NE:,:NE]=np.random.randn(NE,NE),np.random.randn(NE,NE)\n",
    "\n",
    "    X[:NE,:NE],X[NE:,NE:]=xee*X[:NE,:NE]/np.sqrt(NE),xii*X[NE:,NE:]/np.sqrt(NI)\n",
    "    X[:NE,NE:],X[NE:,:NE]=xei*X[:NE,NE:]/np.sqrt(NE),xie*X[NE:,:NE]/np.sqrt(NI)\n",
    "    # print('std indeed:',xee/np.sqrt(N),xei/np.sqrt(N),xie/np.sqrt(N),xii/np.sqrt(N))\n",
    "    eigvx,eigvecx=la.eig(X)\n",
    "    # theoretical M (grandom) matrix \n",
    "    gmat = np.array([[xee**2,xei**2],[xie**2,xii**2]])\n",
    "    # first do not multiply at\n",
    "    gaverage=0\n",
    "    for i in range(2):\n",
    "        for j in range(2):\n",
    "            gaverage+=gmat[i,j]/2 # ntype=2\n",
    "    gaverage=np.sqrt(gaverage)\n",
    "    # for i in range(2):\n",
    "    #     gmat[:,i]*=at[i]\n",
    "    eigvgm,eigvecgm=schur(gmat)\n",
    "    # eigvgm=eigvals(eigvgm)\n",
    "    ugm,svgm,vhgm=la.svd(gmat)\n",
    "    vgm=vhgm.T\n",
    "    ngm=vhgm.copy()\n",
    "    ngm=ngm.T \n",
    "    ngm[:,0],ngm[:,1]=svgm[0]*ngm[:,0],svgm[1]*ngm[:,1]\n",
    "\n",
    "    # properties\n",
    "    Gamp=np.zeros((2,2))\n",
    "    Gamp[0,0],Gamp[0,1],Gamp[1,0],Gamp[1,1]=xee,xei,xie,xii\n",
    "\n",
    "    return (X,Gamp,eigvgm,eigvecgm,gaverage,ugm,svgm,vgm)\n",
    "\n",
    "def generate_meanmat(Nparams,JEE,JIE,JEI,JII):\n",
    "    # mean value \n",
    "    # first use rank-1 structure\n",
    "    NE,NI=Nparams[0],Nparams[1]\n",
    "    N=NE+NI\n",
    "    at = Nt/N   \n",
    "    Am=np.zeros((N,N))\n",
    "    Am[:NE,:NE],Am[:NE,NE:]=JEE/NE,-JEI/NI\n",
    "    Am[NE:,:NE],Am[NE:,NE:]=JIE/NE,-JII/NI\n",
    "    ua,svam,vha=la.svd(Am)\n",
    "    va=vha.T\n",
    "    svam=svam[0]\n",
    "    ua,va=np.zeros((N,N)),np.zeros((N,N))\n",
    "    # ua[:,0]=1.0/np.sqrt(N)\n",
    "    # va[:NE,0]=JE/np.sqrt(NE)\n",
    "    # va[NE:,0]=-JI/np.sqrt(NI)\n",
    "    # va[:,0]/=-np.linalg.norm(va[:,0])\n",
    "    # svam=np.sqrt(2*(JE**2+JI**2))\n",
    "    # vha=va.T\n",
    "\n",
    "    Jsv=np.zeros((2,2))\n",
    "    Jsv[0,0],Jsv[0,1],Jsv[1,0],Jsv[1,1]=JE,JI,JE,JI\n",
    "\n",
    "    return (Am,Jsv,ua,svam,va)\n",
    "\n",
    "\n",
    "\n"
   ]
  },
  {
   "cell_type": "code",
   "execution_count": 160,
   "metadata": {},
   "outputs": [],
   "source": [
    "# Block Gaussian Random Network\n",
    "xee,xei,xie,xii=0.5,0.0,0.0,0.6#1.2,1.2,1.8\n",
    "JE,JI=9.0*xee,10.0*xii\n",
    "# properties\n",
    "Gamp=np.zeros((2,2))\n",
    "Gamp[0,0],Gamp[0,1],Gamp[1,0],Gamp[1,1]=xee,xei,xie,xii\n",
    "Gamp=Gamp**2\n",
    "eigvG,eigvecG=la.eig(Gamp)\n",
    "Gampnew=eigvecG.T@Gamp@eigvecG\n",
    "J=np.zeros((2,2))\n",
    "J[:,0],J[:,1]=JE,-JI \n",
    "Jnew=eigvecG.T@J@eigvecG\n",
    "# print(Jnew)\n",
    "xee,xei,xie,xii=np.sqrt(Gampnew[0,0]),np.sqrt(Gampnew[0,1]),np.sqrt(Gampnew[1,0]),np.sqrt(Gampnew[1,1])\n",
    "# print(xee,xei,xie,xii,Gampnew)\n",
    "JEE,JIE,JEI,JII=Jnew[0,0],Jnew[1,0],-Jnew[0,1],-Jnew[1,1]\n",
    "\n",
    "\n",
    "# generate random \n",
    "Grand=np.array([xee,0,0,xii])\n",
    "X,Gamp,eigvgmT,eigvecgm,gaverage,ugm,svgm,vgm=generate_localstatsmat(Nparams,Grand)\n",
    "# print(Gamp[0,0],Gamp[1,1])\n",
    "eigvgm=eigvals(eigvgmT)\n",
    "# print(eigvgm)\n",
    "idx = eigvgm.argsort()[::-1]   \n",
    "eigvgm = eigvgm[idx]\n",
    "gradius=np.sqrt(eigvgm[0])\n",
    "# generate mean Am\n",
    "Am,Jsv,ua,svam,va=generate_meanmat(Nparams,JEE,JIE,JEI,JII)\n"
   ]
  },
  {
   "cell_type": "code",
   "execution_count": 161,
   "metadata": {},
   "outputs": [
    {
     "output_type": "stream",
     "name": "stdout",
     "text": [
      "singular value, outliers\n[10.62649089  1.18943133  1.18037922]\n[1.18969155 1.18043338 1.17840104]\n"
     ]
    }
   ],
   "source": [
    "Xtotal=X.copy()+Am.copy()\n",
    "# singular decomposition blockage\n",
    "XEEtotal,XEItotal,XIEtotal,XIItotal=Xtotal[:NE,:NE],Xtotal[:NE,NE:],Xtotal[NE:,:NE],Xtotal[NE:,NE:]\n",
    "uxtEE,svxtEE,vhxtEE=la.svd(XEEtotal)\n",
    "vxtEE=vhxtEE.T\n",
    "uxtEI,svxtEI,vhxtEI=la.svd(XEItotal)\n",
    "vxtEI=vhxtEI.T\n",
    "uxtIE,svxtIE,vhxtIE=la.svd(XIEtotal)\n",
    "vxtIE=vhxtIE.T\n",
    "uxtII,svxtII,vhxtII=la.svd(XIItotal)\n",
    "vxtII=vhxtII.T\n",
    "# Combine, total svd decomposition\n",
    "uxt,svxt,vhxt=la.svd(Xtotal)\n",
    "vxt=vhxt.T\n",
    "# decomposition of the noise\n",
    "ux,svx,vhx=la.svd(X)\n",
    "vx=vhx.T\n",
    "# print singular values\n",
    "print('singular value, outliers')\n",
    "print(svxt[:3])\n",
    "print(svx[:3])"
   ]
  },
  {
   "source": [
    "## plot eigenvalues here"
   ],
   "cell_type": "markdown",
   "metadata": {}
  },
  {
   "cell_type": "code",
   "execution_count": 162,
   "metadata": {},
   "outputs": [
    {
     "output_type": "stream",
     "name": "stdout",
     "text": [
      "[[ 4.5 -6. ]\n [ 4.5 -6. ]]\n"
     ]
    }
   ],
   "source": [
    "eigvx,_=la.eig(Xtotal)\n",
    "theta = np.linspace(0, 2 * np.pi, 200)\n",
    "xc = gradius*np.cos(theta)\n",
    "yc = gradius*np.sin(theta)\n",
    "\n",
    "xa = gaverage*np.cos(theta)\n",
    "ya = gaverage*np.sin(theta)\n",
    "\n",
    "tickeig=np.fabs(JE-JI)*1.5\n",
    "ticks = np.linspace(-tickeig,tickeig,3)\n",
    "lims= [-tickeig-0.01,tickeig+0.01]\n",
    "nbins=100\n",
    "fig,ax=plt.subplots(figsize=(6,6))\n",
    "# eigenvalue\n",
    "ax.scatter(np.real(eigvx),np.imag(eigvx),s=2.0,c='blue',alpha=0.5)\n",
    "ax.plot(xc, yc, color=\"darkred\", linewidth=2)\n",
    "ax.plot(xa, ya, color=\"grey\", linewidth=2,linestyle='--')\n",
    "ax.set_xlim(lims)\n",
    "ax.set_ylim(lims)\n",
    "ax.set_xticks(ticks)\n",
    "ax.set_yticks(ticks)\n",
    "ax.set_aspect('equal')\n",
    "ax.set_title(r'$J_{EE},J_{IE}\\ J_{EI},J_{II}=$'+str(format(JEE,'.2f'))+','+str(format(JIE,'.2f'))+','+str(format(JEI,'.2f'))+','+str(format(JII,'.2f'))+'\\n $\\lambda_1=$'+str(format(gradius,'.1f'))+r', $g_{avg}=$'+str(format(gaverage,'.1f')),fontsize=14)\n",
    "# print(np.sqrt(0.5*JE**2+0.5*JI**2),np.min(np.real(eigvx)),gradius)\n",
    "# print(gaverage**2/svam+svam,svxt[0],gradius**2/svam+svam)\n",
    "print(Jnew)"
   ]
  },
  {
   "cell_type": "code",
   "execution_count": 137,
   "metadata": {},
   "outputs": [
    {
     "output_type": "stream",
     "name": "stdout",
     "text": [
      "0.10870026769825601 0.1087002676982559\n-2.871878997200212 -2.871878997200209\n"
     ]
    }
   ],
   "source": [
    "print(Jnew[0,0]/Jnew[1,0],Jnew[0,1]/Jnew[1,1])\n",
    "print(Jnew[0,0]/Jnew[0,1],Jnew[1,0]/Jnew[1,1])"
   ]
  },
  {
   "cell_type": "code",
   "execution_count": 163,
   "metadata": {},
   "outputs": [],
   "source": [
    "iid_sv=np.zeros((2,2))\n",
    "iid_sv=np.array([[JEE,JEI],[JIE,JII]])\n",
    "iid_sv[0,0]=iid_sv[0,0]+xee**2/iid_sv[0,0]\n",
    "iid_sv[0,1]=iid_sv[0,1]+xei**2/iid_sv[0,1]\n",
    "iid_sv[1,0]=iid_sv[1,0]+xie**2/iid_sv[1,0]\n",
    "iid_sv[1,1]=iid_sv[1,1]+xii**2/iid_sv[1,1]\n",
    "\n"
   ]
  },
  {
   "cell_type": "code",
   "execution_count": 164,
   "metadata": {},
   "outputs": [],
   "source": [
    "## test EE, EI, IE, II separately\n",
    "iid_mu_u,iid_mu_v ={},{}\n",
    "\n",
    "iid_mu_u['E'],iid_mu_u['I']=np.zeros((2,1)),np.zeros((2,1))\n",
    "iid_mu_v['E'],iid_mu_v['I']=np.zeros((2,1)),np.zeros((2,1))\n",
    "\n",
    "iid_mu_u['E'][0,0],iid_mu_u['E'][1,0]=np.mean(uxtEE[:,0]),np.mean(uxtEI[:,0])\n",
    "iid_mu_u['I'][0,0],iid_mu_u['I'][1,0]=np.mean(uxtIE[:,0]),np.mean(uxtII[:,0])\n",
    "iid_mu_v['E'][0,0],iid_mu_v['E'][1,0]=np.mean(vxtEE[:,0]),np.mean(vxtIE[:,0])\n",
    "iid_mu_v['I'][0,0],iid_mu_v['I'][1,0]=np.mean(vxtEI[:,0]),np.mean(vxtII[:,0])\n",
    "\n",
    "mua,mva = np.zeros((2,1)),np.zeros((2,1))\n",
    "mua[0,0],mua[1,0]=ua[0,0],ua[NE+1,0]\n",
    "mva[0,0],mva[1,0]=va[0,0],va[NE+1,0]\n",
    "\n",
    "iid_noise_u,iid_noise_v ={},{}\n",
    "iid_noise_u['E'],iid_noise_u['I']=np.zeros((NE,2)),np.zeros((NE,2))\n",
    "iid_noise_v['E'],iid_noise_v['I']=np.zeros((NE,2)),np.zeros((NE,2))\n",
    "\n",
    "iid_noise_u['E'][:,0],iid_noise_u['E'][:,1]=(uxtEE[:,0]-iid_mu_u['E'][0,0]),(uxtEI[:,0]-iid_mu_u['E'][1,0])\n",
    "iid_noise_u['I'][:,0],iid_noise_u['I'][:,1]=(uxtIE[:,0]-iid_mu_u['I'][0,0]),(uxtII[:,0]-iid_mu_u['I'][1,0])\n",
    "iid_noise_v['E'][:,0],iid_noise_v['E'][:,1]=(vxtEE[:,0]-iid_mu_v['E'][0,0]),(vxtIE[:,0]-iid_mu_v['E'][1,0])\n",
    "iid_noise_v['I'][:,0],iid_noise_v['I'][:,1]=(vxtEI[:,0]-iid_mu_v['I'][0,0]),(vxtII[:,0]-iid_mu_v['I'][1,0])\n",
    "# std noise iid\n",
    "std_iidn_u =np.zeros((2,2))\n",
    "std_iidn_u[0,0],std_iidn_u[0,1]=np.std(iid_noise_u['E'][:,0])*np.sqrt(NE),np.std(iid_noise_u['E'][:,1])*np.sqrt(NE)\n",
    "std_iidn_u[1,0],std_iidn_u[1,1]=np.std(iid_noise_u['I'][:,0])*np.sqrt(NE),np.std(iid_noise_u['I'][:,1])*np.sqrt(NE)\n",
    "\n",
    "# std noise iid v\n",
    "std_iidn_v =np.zeros((2,2))\n",
    "std_iidn_v[0,0],std_iidn_v[0,1]=np.std(iid_noise_v['E'][:,0])*np.sqrt(NE),np.std(iid_noise_v['E'][:,1])*np.sqrt(NE)\n",
    "std_iidn_v[1,0],std_iidn_v[1,1]=np.std(iid_noise_v['I'][:,0])*np.sqrt(NE),np.std(iid_noise_v['I'][:,1])*np.sqrt(NE)\n",
    "# print(std_iidn_v)\n",
    "\n",
    "mu_u,mu_v=np.zeros((2,1)),np.zeros((2,1))\n",
    "mu_u[0,0],mu_u[1,0]=np.mean(uxt[:NE,0]),np.mean(uxt[NE:,0])\n",
    "mu_v[0,0],mu_v[1,0]=np.mean(vxt[:NE,0]),np.mean(vxt[NE:,0])\n",
    "\n",
    "## print noise tt\n",
    "noise_u,noise_v=np.zeros((NE,2)),np.zeros((NE,2))\n",
    "noise_u[:,0],noise_u[:,1]=(uxt[:NE,0]-mu_u[0,0]),(uxt[NE:,0]-mu_u[1,0])\n",
    "noise_v[:,0],noise_v[:,1]=(vxt[:NE,0]-mu_v[0,0]),(vxt[NE:,0]-mu_v[1,0])\n",
    "\n",
    "# std noise total\n",
    "std_noise_u =np.zeros((2,1))\n",
    "std_noise_u[0,0],std_noise_u[1,0]=np.std(noise_u[:,0])*np.sqrt(NE),np.std(noise_u[:,1])*np.sqrt(NE)\n",
    "std_noise_v =np.zeros((2,1))\n",
    "std_noise_v[0,0],std_noise_v[1,0]=np.std(noise_v[:,0])*np.sqrt(NE),np.std(noise_v[:,1])*np.sqrt(NE)\n"
   ]
  },
  {
   "source": [
    "## testing the simplest version"
   ],
   "cell_type": "markdown",
   "metadata": {}
  },
  {
   "cell_type": "code",
   "execution_count": 106,
   "metadata": {},
   "outputs": [
    {
     "output_type": "stream",
     "name": "stdout",
     "text": [
      "33.72617014504863 33.67201394157806 (33.79978154949255+0j)\ntest noise: 0.003162277660168379 0.0032509050269619024\ntest noise: 0.0026352313834736496 0.002514968830579337\ntest noise: 0.0 1.5045170264745657e-16\ntest noise: 0.0 3.1143063813321916e-17\n"
     ]
    }
   ],
   "source": [
    "tavgsv=svam+gaverage**2/svam\n",
    "tmaxgsv=svam+eigvgm[0]**2/svam\n",
    "print(svxt[0],tavgsv,tmaxgsv)\n",
    "print('test noise:',xee/JE/np.sqrt(NE),np.std(iid_noise_u['E'][:,0]))\n",
    "print('test noise:',xii/JI/np.sqrt(NE),np.std(iid_noise_u['I'][:,1]))\n",
    "\n",
    "print('test noise:',xie/JE/np.sqrt(NE),np.std(iid_noise_u['I'][:,0]))\n",
    "print('test noise:',xei/JI/np.sqrt(NE),np.std(iid_noise_u['E'][:,1]))"
   ]
  },
  {
   "source": [
    "## the complete version"
   ],
   "cell_type": "markdown",
   "metadata": {}
  },
  {
   "cell_type": "code",
   "execution_count": 165,
   "metadata": {},
   "outputs": [
    {
     "output_type": "stream",
     "name": "stdout",
     "text": [
      "10.626490892509832 10.635357393566442 (10.618820522977094+0j)\ntest noise: 0.0035136418446315323 0.003599229570692584\ntest noise: 0.003162277660168379 0.0031285276751327764\ntest noise: 0.0 1.153609265197698e-16\ntest noise: 0.0 2.829193825294734e-17\n"
     ]
    }
   ],
   "source": [
    "tavgsv=svam+gaverage**2/svam\n",
    "tmaxgsv=svam+eigvgm[0]**2/svam\n",
    "print(svxt[0],tavgsv,tmaxgsv)\n",
    "print('test noise:',xee/JEE/np.sqrt(NE),np.std(iid_noise_u['E'][:,0]))\n",
    "print('test noise:',xii/JII/np.sqrt(NE),np.std(iid_noise_u['I'][:,1]))\n",
    "\n",
    "print('test noise:',xie/JIE/np.sqrt(NE),np.std(iid_noise_u['I'][:,0]))\n",
    "print('test noise:',xei/JEI/np.sqrt(NE),np.std(iid_noise_u['E'][:,1]))"
   ]
  },
  {
   "source": [
    "## integrate all iid noise base and tilde noise base"
   ],
   "cell_type": "markdown",
   "metadata": {}
  },
  {
   "cell_type": "code",
   "execution_count": 166,
   "metadata": {},
   "outputs": [],
   "source": [
    "# u base\n",
    "unoisebase=np.zeros((NE,4))\n",
    "unoisebase[:,0]=iid_noise_u['E'][:,0]/std_iidn_u[0,0]\n",
    "unoisebase[:,3]=iid_noise_u['I'][:,1]/std_iidn_u[1,1]\n",
    "\n",
    "# v base\n",
    "vnoisebase=np.zeros((NE,4))\n",
    "vnoisebase[:,0]=iid_noise_v['E'][:,0]/std_iidn_v[0,0]\n",
    "vnoisebase[:,3]=iid_noise_v['I'][:,1]/std_iidn_v[1,1]\n",
    "\n",
    "# # u base\n",
    "# unoisebase=np.zeros((NE,4))\n",
    "# unoisebase[:,0]=iid_noise_u['E'][:,0]/std_iidn_u[0,0]\n",
    "# unoisebase[:,1]=iid_noise_u['E'][:,1]/std_iidn_u[0,1]#*0\n",
    "# unoisebase[:,3]=iid_noise_u['I'][:,1]/std_iidn_u[1,1]\n",
    "\n",
    "# # v base\n",
    "# vnoisebase=np.zeros((NE,4))\n",
    "# vnoisebase[:,0]=iid_noise_v['E'][:,0]/std_iidn_v[0,0]\n",
    "# vnoisebase[:,2]=iid_noise_v['I'][:,0]/std_iidn_v[1,0]#*0\n",
    "# vnoisebase[:,3]=iid_noise_v['I'][:,1]/std_iidn_v[1,1]\n",
    "\n",
    "# # u base\n",
    "# unoisebase=np.zeros((NE,4))\n",
    "# unoisebase[:,0]=iid_noise_u['E'][:,0]/std_iidn_u[0,0]\n",
    "# unoisebase[:,1]=iid_noise_u['E'][:,1]/std_iidn_u[0,1]#*0\n",
    "# unoisebase[:,2]=iid_noise_u['I'][:,0]/std_iidn_u[1,0]#*0\n",
    "# unoisebase[:,3]=iid_noise_u['I'][:,1]/std_iidn_u[1,1]\n",
    "\n",
    "# # v base\n",
    "# vnoisebase=np.zeros((NE,4))\n",
    "# vnoisebase[:,0]=iid_noise_v['E'][:,0]/std_iidn_v[0,0]\n",
    "# vnoisebase[:,1]=iid_noise_v['E'][:,1]/std_iidn_v[0,1]#*0\n",
    "# vnoisebase[:,2]=iid_noise_v['I'][:,0]/std_iidn_v[1,0]#*0\n",
    "# vnoisebase[:,3]=iid_noise_v['I'][:,1]/std_iidn_v[1,1]"
   ]
  },
  {
   "cell_type": "code",
   "execution_count": 167,
   "metadata": {},
   "outputs": [],
   "source": [
    "# creat noise base 2\n",
    "\n",
    "noise_u_norm=noise_u.copy()\n",
    "for i in range(2):\n",
    "    noise_u_norm[:,i]/=std_noise_u[i,0]\n",
    "noise_v_norm=noise_v.copy()\n",
    "for i in range(2):\n",
    "    noise_v_norm[:,i]/=std_noise_v[i,0]\n",
    "\n",
    "# tilde noise uEI-vEI\n",
    "tilde_noise = np.zeros((NE,4))\n",
    "tilde_noise[:,:2]=noise_u_norm.copy()\n",
    "tilde_noise[:,2:]=noise_v_norm.copy()\n",
    "\n",
    "iid_noise = np.zeros((NE,8))\n",
    "iid_noise[:,:4]=unoisebase.copy()\n",
    "iid_noise[:,4:]=vnoisebase.copy()\n",
    "\n",
    "# u noise correlation\n",
    "# utildeU\n",
    "unoisecov = np.zeros((2,4))\n",
    "unoisecov = noise_u_norm.T@unoisebase\n",
    "uvbasecov=noise_u_norm.T@vnoisebase\n",
    "# utildeV\n",
    "vnoisecov = np.zeros((2,4))\n",
    "vnoisecov = noise_v_norm.T@vnoisebase\n",
    "vubasecov=noise_v_norm.T@unoisebase\n",
    "\n",
    "# PLOT FIGURE\n",
    "# total overlap rho\n",
    "noise_rho=tilde_noise.T@iid_noise\n",
    "# print(noise_rho)\n",
    "plt.figure()\n",
    "plt.imshow(noise_rho**2,cmap='jet')\n",
    "plt.clim([0.0,1.5])\n",
    "plt.colorbar()\n",
    "iid_noise_cov=iid_noise.T@iid_noise\n",
    "# print(iid_noise_cov)\n",
    "plt.figure()\n",
    "plt.imshow(iid_noise_cov,cmap='jet')\n",
    "plt.clim([0.0,1.5])\n",
    "plt.colorbar()\n",
    "\n",
    "# alphas are for u, the left singular vectors\n",
    "alphau = np.zeros((2,2))\n",
    "alphau[0,0]=np.sum(iid_noise_u['E'][:,0]*noise_u[:,0])/np.sum(iid_noise_u['E'][:,0]*iid_noise_u['E'][:,0]) # alphau--u^E_EE,\n",
    "alphau[1,1]=np.sum(iid_noise_u['I'][:,1]*noise_u[:,1])/np.sum(iid_noise_u['I'][:,1]*iid_noise_u['I'][:,1]) # alphau--u^I_II,\n",
    "alphau[0,1]=np.sum(iid_noise_u['E'][:,1]*noise_u[:,0])/np.sum(iid_noise_u['E'][:,1]*iid_noise_u['E'][:,1]) # alphau--u^E_EI,\n",
    "alphau[1,0]=np.sum(iid_noise_u['I'][:,0]*noise_u[:,1])/np.sum(iid_noise_u['I'][:,0]*iid_noise_u['I'][:,0]) # alphau--u^I_IE\n",
    "# alphau*=2.0\n",
    "\n",
    "# betas are for v, the right singular vectors\n",
    "betav = np.zeros((2,2))\n",
    "betav[0,0]=np.sum(iid_noise_v['E'][:,0]*noise_v[:,0])/np.sum(iid_noise_v['E'][:,0]*iid_noise_v['E'][:,0]) # alphau0--v^E_EE, 1-SQUARE v^E_IE\n",
    "betav[1,1]=np.sum(iid_noise_v['I'][:,1]*noise_v[:,1])/np.sum(iid_noise_v['I'][:,1]*iid_noise_v['I'][:,1]) # alphau0--v^I_II, 1-SQUARE V^I_EI\n",
    "betav[0,1]=np.sum(iid_noise_v['E'][:,1]*noise_v[:,0])/np.sum(iid_noise_v['E'][:,1]*iid_noise_v['E'][:,1]) # alphau0--v^E_EE, 1-SQUARE v^E_IE\n",
    "betav[1,0]=np.sum(iid_noise_v['I'][:,0]*noise_v[:,1])/np.sum(iid_noise_v['I'][:,0]*iid_noise_v['I'][:,0]) # alphau0--v^I_II, 1-SQUARE V^I_EI\n",
    "# betav*=2.0\n",
    "\n",
    "# for i in range(2):\n",
    "#     if alphau[i,0]>1.0:\n",
    "#         alphau[i,0]=1.0\n",
    "#     if betav[i,0]>1.0:\n",
    "#         betav[i,0]=1.0"
   ]
  },
  {
   "cell_type": "code",
   "execution_count": 168,
   "metadata": {},
   "outputs": [
    {
     "output_type": "stream",
     "name": "stdout",
     "text": [
      "(0.6944444444444444+0j)\n0.6967483276886809\n0.694887469967443\n"
     ]
    }
   ],
   "source": [
    "print(eigvgm[1]/eigvgm[0])\n",
    "print(alphau[0,0]*(xee/JEE)**2*JEE/(alphau[1,1]*(xii/JII)**2*JIE))\n",
    "print(betav[0,0]*(xee/JEE)**2*JEE/(betav[1,1]*(xii/JII)**2*JEI))"
   ]
  },
  {
   "source": [
    "## check noise components rotation"
   ],
   "cell_type": "markdown",
   "metadata": {}
  },
  {
   "cell_type": "code",
   "execution_count": 169,
   "metadata": {},
   "outputs": [],
   "source": [
    "noise_u_org,noise_v_org = eigvecG@noise_u.T,eigvecG@noise_v.T\n",
    "noise_u_org=noise_u_org.T\n",
    "noise_v_org=noise_v_org.T"
   ]
  },
  {
   "cell_type": "code",
   "execution_count": 170,
   "metadata": {},
   "outputs": [
    {
     "output_type": "execute_result",
     "data": {
      "text/plain": [
       "[<matplotlib.axis.YTick at 0x7f8855c00970>,\n",
       " <matplotlib.axis.YTick at 0x7f8855c00550>,\n",
       " <matplotlib.axis.YTick at 0x7f8855bfbd60>]"
      ]
     },
     "metadata": {},
     "execution_count": 170
    }
   ],
   "source": [
    "# before rotation\n",
    "ticks = np.linspace(-0.3,0.3,3)\n",
    "lims= [-0.31,0.31]\n",
    "fig,ax=plt.subplots(4,4,figsize=(9,9))\n",
    "for i in range(2):\n",
    "    for j in range(2):\n",
    "        ax[i][j].scatter(noise_u[:,i]*np.sqrt(NE),noise_u[:,j]*np.sqrt(NE),s=5.0,c='blue',alpha=0.5)\n",
    "        ax[i][j].scatter(noise_u_org[:,i]*np.sqrt(NE),noise_u_org[:,j]*np.sqrt(NE),s=5.0,c='red',alpha=0.5)\n",
    "for i in range(2):\n",
    "    for j in range(2):\n",
    "        ax[2+i][2+j].scatter(noise_v[:,i]*np.sqrt(NE),noise_v[:,j]*np.sqrt(NE),s=5.0,c='blue',alpha=0.5)\n",
    "        ax[2+i][2+j].scatter(noise_v_org[:,i]*np.sqrt(NE),noise_v_org[:,j]*np.sqrt(NE),s=5.0,c='red',alpha=0.5)\n",
    "for i in range(2):\n",
    "    for j in range(2):\n",
    "        ax[i][2+j].scatter(noise_u[:,i]*np.sqrt(NE),noise_v[:,j]*np.sqrt(NE),s=5.0,c='blue',alpha=0.5)\n",
    "        ax[i][2+j].scatter(noise_u_org[:,i]*np.sqrt(NE),noise_v_org[:,j]*np.sqrt(NE),s=5.0,c='red',alpha=0.5)\n",
    "for i in range(2):\n",
    "    for j in range(2):\n",
    "        ax[2+i][j].scatter(noise_v[:,i]*np.sqrt(NE),noise_u[:,j]*np.sqrt(NE),s=5.0,c='blue',alpha=0.5)\n",
    "        ax[2+i][j].scatter(noise_v_org[:,i]*np.sqrt(NE),noise_u_org[:,j]*np.sqrt(NE),s=5.0,c='red',alpha=0.5)\n",
    "for i in range(4):\n",
    "    for j in range(4):\n",
    "        ax[i][j].set_xlim(lims)\n",
    "        ax[i][j].set_ylim(lims)\n",
    "        ax[i][j].set_xticks(ticks)\n",
    "        ax[i][j].set_yticks(ticks)\n",
    "        ax[i][j].set_aspect('equal')\n",
    "        ax[i][j].grid()\n",
    "# for i in range(4):\n",
    "#     for j in range(4):\n",
    "#         ax[i][j].set_xlim(lims)\n",
    "#         ax[i][j].set_ylim(lims)\n",
    "#         ax[i][j].set_xticks([])#ticks)\n",
    "#         ax[i][j].set_yticks([])#ticks)\n",
    "#         ax[i][j].set_aspect('equal')\n",
    "#         ax[i][j].grid()\n",
    "ax[0][3].set_xticks(ticks)\n",
    "ax[0][3].set_yticks(ticks)\n",
    "ax[3][0].set_xticks(ticks)\n",
    "ax[3][0].set_yticks(ticks)\n",
    "ax[0][1].set_xticks(ticks)\n",
    "ax[0][1].set_yticks(ticks)\n",
    "ax[1][0].set_xticks(ticks)\n",
    "ax[1][0].set_yticks(ticks)"
   ]
  },
  {
   "source": [
    "## check the overlap matrix in random/noise components"
   ],
   "cell_type": "markdown",
   "metadata": {}
  },
  {
   "cell_type": "code",
   "execution_count": 178,
   "metadata": {},
   "outputs": [],
   "source": [
    "## zetau/vEI  prime\n",
    "# Block Gaussian Random Network\n",
    "xee,xei,xie,xii=0.3,0.2,0.2,0.6#1.2,1.2,1.8\n",
    "JE,JI=9.0*xee,10.0*xii\n",
    "\n",
    "JEE,JIE,JEI,JII=JE,JE,JI,JI\n",
    "\n",
    "\n",
    "# generate random \n",
    "Grand=np.array([xee,xei,xie,xii])\n",
    "X,Gamp,eigvgmT,eigvecgm,gaverage,ugm,svgm,vgm=generate_localstatsmat(Nparams,Grand)\n",
    "eigvgm=eigvals(eigvgmT)\n",
    "idx = eigvgm.argsort()[::-1]   \n",
    "eigvgm = eigvgm[idx]\n",
    "gradius=np.sqrt(eigvgm[0])\n",
    "# generate mean Am\n",
    "Am,Jsv,ua,svam,va=generate_meanmat(Nparams,JEE,JIE,JEI,JII)\n",
    "Xtotal=X.copy()+Am.copy()\n",
    "# Combine, total svd decomposition\n",
    "uxt,svxt,vhxt=la.svd(Xtotal)\n",
    "vxt=vhxt.T\n"
   ]
  },
  {
   "cell_type": "code",
   "execution_count": 179,
   "metadata": {},
   "outputs": [],
   "source": [
    "IDX=0\n",
    "noise_u_,noise_v_=np.zeros((NE,2)),np.zeros((NE,2))\n",
    "noise_u_[:,0]= uxt[:NE,IDX]-np.mean(uxt[:NE,IDX])\n",
    "noise_u_[:,1]= uxt[NE:,IDX]-np.mean(uxt[NE:,IDX])\n",
    "noise_v_[:,0]= vxt[:NE,IDX]-np.mean(vxt[:NE,IDX])\n",
    "noise_v_[:,1]= vxt[NE:,IDX]-np.mean(vxt[NE:,IDX])"
   ]
  },
  {
   "cell_type": "code",
   "execution_count": 176,
   "metadata": {},
   "outputs": [
    {
     "output_type": "stream",
     "name": "stdout",
     "text": [
      "[[-0.02931933 -0.04310275]\n [-0.06672983  0.00274242]]\n[[ 0.01713054  0.02448348]\n [ 0.03106086 -0.00031125]]\n"
     ]
    }
   ],
   "source": [
    "print(noise_u_.T@noise_v_*NE)\n",
    "print(noise_u.T@noise_v*NE)"
   ]
  },
  {
   "cell_type": "code",
   "execution_count": 186,
   "metadata": {},
   "outputs": [],
   "source": [
    "fig,ax=plt.subplots(2,3,figsize=(12,6))\n",
    "ax[0][0].scatter(noise_u_[:,0]*np.sqrt(NE),noise_u_[:,1]*np.sqrt(NE),s=5.0,c='blue',alpha=0.5)\n",
    "ax[0][1].scatter(noise_u_[:,0]*np.sqrt(NE),noise_v_[:,0]*np.sqrt(NE),s=5.0,c='blue',alpha=0.5)\n",
    "ax[0][2].scatter(noise_u_[:,0]*np.sqrt(NE),noise_v_[:,1]*np.sqrt(NE),s=5.0,c='blue',alpha=0.5)\n",
    "\n",
    "ax[1][0].scatter(noise_u_[:,1]*np.sqrt(NE),noise_u_[:,0]*np.sqrt(NE),s=5.0,c='blue',alpha=0.5)\n",
    "ax[1][1].scatter(noise_v_[:,0]*np.sqrt(NE),noise_u_[:,0]*np.sqrt(NE),s=5.0,c='blue',alpha=0.5)\n",
    "ax[1][2].scatter(noise_v_[:,1]*np.sqrt(NE),noise_u_[:,0]*np.sqrt(NE),s=5.0,c='blue',alpha=0.5)\n",
    "\n",
    "for i in range(2):\n",
    "    for j in range(3):\n",
    "        ax[i][j].set_xlim(lims)\n",
    "        ax[i][j].set_ylim(lims)\n",
    "        ax[i][j].set_xticks(ticks)\n",
    "        ax[i][j].set_yticks(ticks)\n",
    "        ax[i][j].set_aspect('equal')\n",
    "        ax[i][j].grid()\n",
    "# for i in range(4):\n",
    "#     for j in range(4):\n",
    "#         ax[i][j].set_xlim(lims)\n",
    "#         ax[i][j].set_ylim(lims)\n",
    "#         ax[i][j].set_xticks([])#ticks)\n",
    "#         ax[i][j].set_yticks([])#ticks)\n",
    "#         ax[i][j].set_aspect('equal')\n",
    "#         ax[i][j].grid()\n",
    "# ax[0][3].set_xticks(ticks)\n",
    "# ax[0][3].set_yticks(ticks)\n",
    "# ax[3][0].set_xticks(ticks)\n",
    "# ax[3][0].set_yticks(ticks)\n",
    "# ax[0][1].set_xticks(ticks)\n",
    "# ax[0][1].set_yticks(ticks)\n",
    "# ax[1][0].set_xticks(ticks)\n",
    "# ax[1][0].set_yticks(ticks)"
   ]
  },
  {
   "cell_type": "code",
   "execution_count": 187,
   "metadata": {},
   "outputs": [
    {
     "output_type": "execute_result",
     "data": {
      "text/plain": [
       "[<matplotlib.axis.YTick at 0x7f888710daf0>,\n",
       " <matplotlib.axis.YTick at 0x7f888710d6d0>,\n",
       " <matplotlib.axis.YTick at 0x7f888710b670>]"
      ]
     },
     "metadata": {},
     "execution_count": 187
    }
   ],
   "source": [
    "# before rotation\n",
    "fig,ax=plt.subplots(4,4,figsize=(9,9))\n",
    "for i in range(2):\n",
    "    for j in range(2):\n",
    "        # ax[i][j].scatter(noise_u_org[:,i]*np.sqrt(NE),noise_u_org[:,j]*np.sqrt(NE),s=5.0,c='red',alpha=0.05)\n",
    "        ax[i][j].scatter(noise_u_[:,j]*np.sqrt(NE),noise_u_[:,i]*np.sqrt(NE),s=5.0,c='blue',alpha=0.5)\n",
    "for i in range(2):\n",
    "    for j in range(2):\n",
    "        # ax[2+i][2+j].scatter(noise_v_org[:,i]*np.sqrt(NE),noise_v_org[:,j]*np.sqrt(NE),s=5.0,c='red',alpha=0.05)\n",
    "        ax[2+i][2+j].scatter(noise_v_[:,j]*np.sqrt(NE),noise_v_[:,i]*np.sqrt(NE),s=5.0,c='blue',alpha=0.5)\n",
    "for i in range(2):\n",
    "    for j in range(2):\n",
    "        # ax[i][2+j].scatter(noise_u_org[:,i]*np.sqrt(NE),noise_v_org[:,j]*np.sqrt(NE),s=5.0,c='red',alpha=0.05)\n",
    "        ax[i][2+j].scatter(noise_v_[:,j]*np.sqrt(NE),noise_u_[:,i]*np.sqrt(NE),s=5.0,c='blue',alpha=0.5)\n",
    "for i in range(2):\n",
    "    for j in range(2):\n",
    "        # ax[2+i][j].scatter(noise_v_org[:,i]*np.sqrt(NE),noise_u_org[:,j]*np.sqrt(NE),s=5.0,c='red',alpha=0.05)\n",
    "        ax[2+i][j].scatter(noise_u_[:,j]*np.sqrt(NE),noise_v_[:,i]*np.sqrt(NE),s=5.0,c='blue',alpha=0.5)\n",
    "for i in range(4):\n",
    "    for j in range(4):\n",
    "        ax[i][j].set_xlim(lims)\n",
    "        ax[i][j].set_ylim(lims)\n",
    "        ax[i][j].set_xticks(ticks)\n",
    "        ax[i][j].set_yticks(ticks)\n",
    "        ax[i][j].set_aspect('equal')\n",
    "        ax[i][j].grid()\n",
    "# for i in range(4):\n",
    "#     for j in range(4):\n",
    "#         ax[i][j].set_xlim(lims)\n",
    "#         ax[i][j].set_ylim(lims)\n",
    "#         ax[i][j].set_xticks([])#ticks)\n",
    "#         ax[i][j].set_yticks([])#ticks)\n",
    "#         ax[i][j].set_aspect('equal')\n",
    "#         ax[i][j].grid()\n",
    "ax[0][3].set_xticks(ticks)\n",
    "ax[0][3].set_yticks(ticks)\n",
    "ax[3][0].set_xticks(ticks)\n",
    "ax[3][0].set_yticks(ticks)\n",
    "ax[0][1].set_xticks(ticks)\n",
    "ax[0][1].set_yticks(ticks)\n",
    "ax[1][0].set_xticks(ticks)\n",
    "ax[1][0].set_yticks(ticks)"
   ]
  },
  {
   "cell_type": "code",
   "execution_count": 1738,
   "metadata": {},
   "outputs": [
    {
     "output_type": "execute_result",
     "data": {
      "text/plain": [
       "<matplotlib.collections.PathCollection at 0x7fe2487277f0>"
      ]
     },
     "metadata": {},
     "execution_count": 1738
    }
   ],
   "source": [
    "ticks = np.linspace(-2.0,2.0,5)\n",
    "lims= [-2.1,2.1]\n",
    "nbins=100\n",
    "fig,ax=plt.subplots(1,2,figsize=(10,4.5))\n",
    "# eigenvalue\n",
    "ax[0].scatter(uxt[:NE,0],vxt[:NE,0],s=15.0,c='blue',alpha=0.5)\n",
    "ax[0].scatter(utilde_rec[:,0],vtilde_rec[:,0],s=15.0,c='red',alpha=0.5)\n",
    "ax[1].scatter(uxt[NE:,0],vxt[NE:,0],s=15.0,c='blue',alpha=0.5)\n",
    "ax[1].scatter(utilde_rec[:,1],vtilde_rec[:,1],s=15.0,c='red',alpha=0.5)\n",
    "\n",
    "fig,ax=plt.subplots(1,2,figsize=(10,4.5))\n",
    "# eigenvalue\n",
    "ax[0].scatter(uxt[:NE,0],vxt[:NE,0],s=15.0,c='blue',alpha=0.5)\n",
    "ax[1].scatter(utilde_rec[:,0],vtilde_rec[:,0],s=15.0,c='blue',alpha=0.5)\n",
    "ax[0].scatter(uxt[NE:,0],vxt[NE:,0],s=15.0,c='red',alpha=0.5)\n",
    "ax[1].scatter(utilde_rec[:,1],vtilde_rec[:,1],s=15.0,c='red',alpha=0.5)"
   ]
  },
  {
   "cell_type": "code",
   "execution_count": 1230,
   "metadata": {},
   "outputs": [
    {
     "output_type": "stream",
     "name": "stdout",
     "text": [
      "2.0 0.0 0.0 1.0\n--------------------\nmean value of u with E type (EE EI):\n[[-0.01803964]\n [-0.03162278]] 0.5704633770780799\nmean UE for total\n0.018973665961010272 0.03162277660168379 0.5999999999999999\nmean value of u with I type (IE II):\n[[-0.03162278]\n [-0.03036734]] 1.0413418318129657\nmean UI for total\n0.03162277660168379 0.030304576336566323 1.0434983894999017\nmean value of v with E type (EE IE):\n[[-0.01804564]\n [-0.03162278]] 0.5706532412385339\nmean VE for total\n0.018973665961010272 0.03162277660168379 0.5999999999999999\nmean value of v with I type (EI II):\n[[0.03162278]\n [0.03034521]] 1.0421010282814995\nmean VI for total\n0.03162277660168379 0.030304576336566323 1.0434983894999017\n"
     ]
    }
   ],
   "source": [
    "print(xee,xei,xie,xii)\n",
    "print('--------------------')\n",
    "print('mean value of u with E type (EE EI):')\n",
    "print(iid_mu_u['E'],iid_mu_u['E'][0,0]/iid_mu_u['E'][1,0])\n",
    "print('mean UE for total')\n",
    "print(np.sqrt(1-(xee/JE)**2)/np.sqrt(NE),np.sqrt(1-(xei/JI)**2)/np.sqrt(NE),(np.sqrt(1-(xee/JE)**2)/np.sqrt(1-(xei/JI)**2)))\n",
    "\n",
    "print('mean value of u with I type (IE II):')\n",
    "print(iid_mu_u['I'],iid_mu_u['I'][0,0]/iid_mu_u['I'][1,0])\n",
    "print('mean UI for total')\n",
    "print(np.sqrt(1-(xie/JE)**2)/np.sqrt(NE),np.sqrt(1-(xii/JI)**2)/np.sqrt(NE),(np.sqrt(1-(xie/JE)**2)/np.sqrt(1-(xii/JI)**2)))\n",
    "\n",
    "print('mean value of v with E type (EE IE):')\n",
    "print(iid_mu_v['E'],iid_mu_v['E'][0,0]/iid_mu_v['E'][1,0])\n",
    "print('mean VE for total')\n",
    "print(np.sqrt(1-(xee/JE)**2)/np.sqrt(NE),np.sqrt(1-(xie/JE)**2)/np.sqrt(NE),(np.sqrt(1-(xee/JE)**2)/np.sqrt(1-(xie/JE)**2)))\n",
    "\n",
    "print('mean value of v with I type (EI II):')\n",
    "print(iid_mu_v['I'],iid_mu_v['I'][0,0]/iid_mu_v['I'][1,0])\n",
    "print('mean VI for total')\n",
    "print(np.sqrt(1-(xei/JI)**2)/np.sqrt(NE),np.sqrt(1-(xii/JI)**2)/np.sqrt(NE),(np.sqrt(1-(xei/JI)**2)/np.sqrt(1-(xii/JI)**2)))"
   ]
  },
  {
   "source": [
    "## Figure out parameters"
   ],
   "cell_type": "markdown",
   "metadata": {}
  },
  {
   "cell_type": "code",
   "execution_count": 972,
   "metadata": {},
   "outputs": [],
   "source": [
    "# First Set of Figures\n",
    "# figure, validate results in sharpee's paper\n",
    "# ticks and labels\n",
    "ticks = np.linspace(-2.0,2.0,5)\n",
    "lims= [-2.1,2.1]\n",
    "nbins=100\n",
    "fig,ax=plt.subplots(1,2,figsize=(10,4.5))\n",
    "# eigenvalue\n",
    "ax[0].scatter(np.real(eigvx),np.imag(eigvx),s=2.0,c='blue',alpha=0.5)\n",
    "# ax[0].set_xlim(lims)\n",
    "# ax[0].set_ylim(lims)\n",
    "# ax[0].set_xticks(ticks)\n",
    "# ax[0].set_yticks(ticks)\n",
    "ax[0].set_aspect('equal')"
   ]
  },
  {
   "source": [
    "# back up code"
   ],
   "cell_type": "markdown",
   "metadata": {}
  },
  {
   "cell_type": "code",
   "execution_count": null,
   "metadata": {},
   "outputs": [],
   "source": [
    "# Block Gaussian Random Network\n",
    "xee,xei,xie,xii=0.6,0.25,0.25,0.3#1.2,1.2,1.8\n",
    "JE,JI=5.0*xee,4.0*xii\n",
    "\n",
    "# generate random \n",
    "Grand=np.array([xee,xei,xie,xii])\n",
    "X,Gamp,eigvgmT,eigvecgm,gaverage,ugm,svgm,vgm=generate_localstatsmat(Nparams,Grand)\n",
    "eigvgm=eigvals(eigvgmT)\n",
    "idx = eigvgm.argsort()[::-1]   \n",
    "eigvgm = eigvgm[idx]\n",
    "gradius=np.sqrt(eigvgm[0])\n",
    "# generate mean Am\n",
    "Am,Jsv,ua,svam,va=generate_meanmat(Nparams,JE,JI)\n",
    "# # CALCULATE XTOTAL\n",
    "# Xtotal=X.copy()+Am.copy()\n",
    "# # Combine, total svd decomposition\n",
    "# uxt,svxt,vhxt=la.svd(Xtotal)\n",
    "# vxt=vhxt.T   \n",
    "# eigvx,eigvecx=la.eig(Xtotal)"
   ]
  },
  {
   "cell_type": "code",
   "execution_count": 1218,
   "metadata": {},
   "outputs": [
    {
     "output_type": "stream",
     "name": "stdout",
     "text": [
      "vec1 [[-0.01897367]\n [ 0.02529822]] [-0.75]\nnumvec1: -0.01947075138589678 0.024917661215864535 -0.7814036484892962\nreal mean:\n0.02055340669452231 0.009104648046617814\nvec2 [[-0.01897367]\n [ 0.02529822]] [-0.75]\nnumvec2: 0.0172223163447693 0.02652153501818273 0.6493710236968548\nreal mean:\n0.020406871667918793 0.008844345420995098\n"
     ]
    }
   ],
   "source": [
    "# calculate mean for real\n",
    "mu_utilde = np.zeros((2,1))\n",
    "mu_utilde[0,0],mu_utilde[1,0]=np.mean(uxt[:NE,0]),np.mean(uxt[NE:,0])\n",
    "noise_utilde = np.zeros((2,1))\n",
    "noise_utilde[0,0],noise_utilde[1,0]=np.std(uxt[:NE,0]),np.std(uxt[NE:,0])\n",
    "\n",
    "# vector to calculate uE-real\n",
    "angle_1= np.arctan2(xee/JE/np.sqrt(NE),-np.sqrt(1-(xee/JE)**2)/np.sqrt(NE))\n",
    "angle_2 = np.arctan2(xei/JI/np.sqrt(NE),-np.sqrt(1-(xei/JI)**2)/np.sqrt(NE))\n",
    "vec_1=np.array([[np.cos(angle_1),np.sin(angle_1)]]).T\n",
    "vec_1/=np.sqrt(NE)\n",
    "print('vec1',vec_1,vec_1[0]/vec_1[1])\n",
    "print('numvec1:',iid_mu_u['E'][0,0],np.std(uxtEE[:,0]),iid_mu_u['E'][0,0]/np.std(uxtEE[:,0]))\n",
    "vec_2=np.array([[np.cos(angle_2),np.sin(angle_2)]]).T\n",
    "vec_2/=np.sqrt(NE)\n",
    "# print('vec2',vec_2,vec_2[0]/vec_2[1])\n",
    "# print('numvec2:',iid_mu_u['E'][1,0],np.std(uxtEI[:,0]),iid_mu_u['E'][1,0]/np.std(uxtEI[:,0]))\n",
    "# print('angles')\n",
    "# print(angle_1,angle_2)\n",
    "rot_theta = (angle_1-angle_2)/2.0\n",
    "Rot1=np.array([[np.cos(rot_theta),-np.sin(rot_theta)],[np.sin(rot_theta),np.cos(rot_theta)]])\n",
    "Rot2=np.array([[np.cos(-rot_theta),-np.sin(-rot_theta)],[np.sin(-rot_theta),np.cos(-rot_theta)]])\n",
    "# the first is gonna be drew back \n",
    "# the second is gonna be pushed forward\n",
    "\n",
    "theo_mu=np.zeros((2,2))\n",
    "theo_mu[0,:]= np.squeeze(Rot2@vec_1)*xee/JE\n",
    "test_ang2= Rot1@vec_2*xei/JI\n",
    "# print('rotate')\n",
    "# print(theo_mu[0,:],test_ang2)\n",
    "# print(np.sqrt(theo_mu[0,1]**2+test_ang2[1]**2))\n",
    "print('real mean:')\n",
    "print(mu_utilde[0,0],noise_utilde[0,0])\n",
    "# print(mu_utilde[0,0],iid_mu_u['E'][0,0]/np.sqrt(xee/JE),iid_mu_u['E'][1,0]/np.sqrt(xei/JI))#,noise_utilde[0,0])\n",
    "# print('noise comp:',noise_utilde[0,0]/vec_1[1])\n",
    "\n",
    "# vector to calculate uE-real\n",
    "angle_1= np.arctan2(xie/JE/np.sqrt(NE),np.sqrt(1-(xie/JE)**2)/np.sqrt(NE))\n",
    "angle_2 = np.arctan2(xii/JI/np.sqrt(NE),-np.sqrt(1-(xii/JI)**2)/np.sqrt(NE))\n",
    "vec_1=np.array([[np.cos(angle_1),np.sin(angle_1)]]).T\n",
    "vec_1/=np.sqrt(NE)\n",
    "# print('vec1',vec_1,vec_1[0]/vec_1[1])\n",
    "# print('numvec1:',iid_mu_u['I'][0,0],np.std(uxtIE[:,0]),iid_mu_u['I'][0,0]/np.std(uxtIE[:,0]))\n",
    "vec_2=np.array([[np.cos(angle_2),np.sin(angle_2)]]).T\n",
    "vec_2/=np.sqrt(NE)\n",
    "print('vec2',vec_2,vec_2[0]/vec_2[1])\n",
    "print('numvec2:',iid_mu_u['I'][1,0],np.std(uxtII[:,0]),iid_mu_u['I'][1,0]/np.std(uxtII[:,0]))\n",
    "# print('angles')\n",
    "# print(angle_1,angle_2)\n",
    "rot_theta = (angle_1-angle_2)/2.0\n",
    "Rot1=np.array([[np.cos(rot_theta),-np.sin(rot_theta)],[np.sin(rot_theta),np.cos(rot_theta)]])\n",
    "Rot2=np.array([[np.cos(-rot_theta),-np.sin(-rot_theta)],[np.sin(-rot_theta),np.cos(-rot_theta)]])\n",
    "# the first is gonna be drew back \n",
    "# the second is gonna be pushed forward\n",
    "\n",
    "theo_mu=np.zeros((2,2))\n",
    "theo_mu[0,:]= np.squeeze(Rot2@vec_1)*xee/JE\n",
    "test_ang2= Rot1@vec_2*xei/JI\n",
    "# print('rotate')\n",
    "# print(theo_mu[0,:],test_ang2)\n",
    "# print(np.sqrt(theo_mu[0,1]**2+test_ang2[1]**2))\n",
    "print('real mean:')\n",
    "print(mu_utilde[1,0],noise_utilde[1,0])\n",
    "# print('noise comp:',noise_utilde[1,0]/vec_2[1])\n",
    "\n",
    "\n"
   ]
  },
  {
   "cell_type": "code",
   "execution_count": null,
   "metadata": {},
   "outputs": [],
   "source": [
    "# print(iid_sv)\n",
    "\n",
    "overlaptt,overlaptheo,overlaptheo2=np.zeros((2,2)),np.zeros((2,2)),np.zeros((2,2))\n",
    "overlaptt[0,0]=np.sum(uxt[:NE,0]*vxt[:NE,0]*svxt[0])\n",
    "print(np.mean(uxt[:NE,0]),np.mean(vxt[:NE,0]),svxt[0])\n",
    "overlaptt[0,1]=np.sum(uxt[:NE,0]*vxt[NE:,0]*svxt[0])\n",
    "print(np.mean(uxt[:NE,0]),np.mean(vxt[NE:,0]),svxt[0])\n",
    "overlaptt[1,0]=np.sum(uxt[NE:,0]*vxt[:NE,0]*svxt[0])\n",
    "overlaptt[1,1]=np.sum(uxt[NE:,0]*vxt[NE:,0]*svxt[0])\n",
    "\n",
    "overlaptheo[0,0]=np.sum(uxtEE[:,0]*vxtEE[:,0]*svxtEE[0])#iid_sv[0,0]*(1-xee**2/JE**2)\n",
    "print(np.mean(uxtEE[:,0]),np.mean(vxtEE[:,0]),svxtEE[0])\n",
    "overlaptheo[0,1]=np.sum(uxtEI[:,0]*vxtEI[:,0]*svxtEI[0])#iid_sv[0,1]*(1-xei**2/JI**2)\n",
    "print(np.mean(uxtEI[:,0]),np.mean(vxtEI[:,0]),svxtEI[0])\n",
    "overlaptheo[1,0]=np.sum(uxtIE[:,0]*vxtIE[:,0]*svxtIE[0])#iid_sv[1,0]*(1-xie**2/JE**2)\n",
    "overlaptheo[1,1]=np.sum(uxtII[:,0]*vxtII[:,0]*svxtII[0])#iid_sv[1,1]*(1-xii**2/JI**2)\n",
    "\n",
    "overlaptheo2[0,0]=np.sum(iid_sv[0,0]*(1-xee**2/JE**2))\n",
    "overlaptheo2[0,1]=-np.sum(iid_sv[0,1]*(1-xei**2/JI**2))\n",
    "overlaptheo2[1,0]=np.sum(iid_sv[1,0]*(1-xie**2/JE**2))\n",
    "overlaptheo2[1,1]=-np.sum(iid_sv[1,1]*(1-xii**2/JI**2))\n",
    "\n",
    "print('tilde overlap:')\n",
    "print(overlaptt)\n",
    "print('theo overlap:')\n",
    "print(overlaptheo)\n",
    "print('theo overlap2:')\n",
    "print(overlaptheo2)\n",
    "print('change:')\n",
    "overlapchange=overlaptheo2-overlaptt\n",
    "print(overlapchange)\n",
    "# eigvtt,eigvectt=la.eig(overlaptt)\n",
    "# eigvtheo,eigvectheo=la.eig(overlaptheo)\n",
    "# print('eigenvalue compare:')\n",
    "# print(eigvtt)\n",
    "# print(eigvtheo)"
   ]
  },
  {
   "cell_type": "code",
   "execution_count": 879,
   "metadata": {},
   "outputs": [
    {
     "output_type": "stream",
     "name": "stdout",
     "text": [
      "[6.44943161 4.00928745 3.98429257 3.96936678 3.94801228]\n[4.00973264 3.98515474 3.97197553 3.94868445 3.92199661]\n"
     ]
    }
   ],
   "source": [
    "Xtotal=X.copy()+Am.copy()\n",
    "# singular decomposition\n",
    "uxt,svxt,vhxt=la.svd(Xtotal)\n",
    "vxt=vhxt.T\n",
    "ux,svx,vhx=la.svd(X)\n",
    "vx=vhx.T\n",
    "print(svxt[:5])\n",
    "print(svx[:5])\n",
    "\n",
    "\n",
    "## dissect noise and mean components\n",
    "## mean for total and original\n",
    "muxtt,mvxtt=np.zeros((2,1)),np.zeros((2,1))\n",
    "muxtt[0,0],muxtt[1,0]=np.mean(uxt[:NE,0]),np.mean(uxt[NE:,0])\n",
    "mvxtt[0,0],mvxtt[1,0]=np.mean(vxt[:NE,0]),np.mean(vxt[NE:,0])\n",
    "mua,mva = np.zeros((2,1)),np.zeros((2,1))\n",
    "mua[0,0],mua[1,0]=ua[0,0],ua[NE+1,0]\n",
    "mva[0,0],mva[1,0]=va[0,0],va[NE+1,0]\n",
    "# noise components E and I seperate \n",
    "noiseu,noisev=np.zeros((NE,2)),np.zeros((NE,2))\n",
    "# for E noise\n",
    "noiseu[:,0]=(uxt[:NE,0]-muxtt[0,0])\n",
    "noisev[:,0]=(vxt[:NE,0]-mvxtt[0,0])\n",
    "# for I noise\n",
    "noiseu[:,1]=(uxt[NE:,0]-muxtt[1,0])\n",
    "noisev[:,1]=(vxt[NE:,0]-mvxtt[1,0])\n",
    "noisem,noisen=noiseu.copy(),noisev.copy()#*svxt[0]\n",
    "\n",
    "# noise components 4*4\n",
    "noisevec = np.zeros((NE,4))\n",
    "noisevec[:,:2]=noisem.copy()\n",
    "noisevec[:,2:]=noisen.copy()\n"
   ]
  },
  {
   "cell_type": "code",
   "execution_count": 800,
   "metadata": {},
   "outputs": [
    {
     "output_type": "stream",
     "name": "stdout",
     "text": [
      "stdnum: 0.4973373839263357 0.4909175083453431\n"
     ]
    }
   ],
   "source": [
    "mleft=5.0*np.random.randn(NE,1)/np.sqrt(NE)\n",
    "nright=4.0*np.random.randn(NE,1)/np.sqrt(NE)\n",
    "Cnright = 3*np.ones((NE,1))\n",
    "Cmleft = 1*np.ones((NE,1))\n",
    "randomm=mleft@Cnright.T+Cmleft@nright.T \n",
    "lrand=np.reshape(randomm,(NE**2,1))\n",
    "theostd = (5*3)**2/NE+(4*1)**2/NE\n",
    "theostd = np.sqrt(theostd)\n",
    "print('stdnum:',np.std(lrand),theostd)"
   ]
  },
  {
   "cell_type": "code",
   "execution_count": null,
   "metadata": {},
   "outputs": [],
   "source": [
    "# # subject to\n",
    "# sigmE,signI,sigmI,signE=2.0,3.0,1.0,4.0\n",
    "# rhoE=xee/sigmE/signE*1.5\n",
    "# rhoI=xii/sigmI/signI*1.5\n",
    "# m,n=np.zeros((N,1)),np.zeros((N,1))\n",
    "# zetaxE,zetayE,zetaxI,zetayI=np.random.randn(NE),np.random.randn(NE),np.random.randn(NI),np.random.randn(NI)\n",
    "# m[:NE,0]=sigmE*zetaxE/np.sqrt(N)\n",
    "# n[:NE,0]=signE*(rhoE*zetaxE+np.sqrt(1-rhoE**2)*zetayE)/np.sqrt(N)\n",
    "# m[NE:,0]=sigmI*zetaxI/np.sqrt(N)\n",
    "# n[NE:,0]=signI*(rhoI*zetaxI+np.sqrt(1-rhoI**2)*zetayI)/np.sqrt(N)\n",
    "# P=m@n.T \n",
    "# Xtilde=X.copy()+P.copy()"
   ]
  },
  {
   "cell_type": "code",
   "execution_count": 284,
   "metadata": {},
   "outputs": [
    {
     "output_type": "stream",
     "name": "stdout",
     "text": [
      "cal g: [[0.00089115 0.00017327]\n [0.00276879 0.00053832]]\norg g: 0.000625 0.0009 0.0025 0.000225\n"
     ]
    }
   ],
   "source": [
    "stdme=np.std(lxvec[:NE,0])\n",
    "stdmi=np.std(lxvec[NE:,0])\n",
    "stdne=np.std(svx[0]*rxvec[:NE,0])\n",
    "stdni=np.std(svx[0]*rxvec[NE:,0])\n",
    "rm1=np.array([stdme,stdmi])\n",
    "rm1=np.reshape(rm1,(2,1))\n",
    "rn1=np.array([stdne,stdni])\n",
    "rn1=np.reshape(rn1,(2,1))\n",
    "stdme=np.std(lxvec[:NE,1])\n",
    "stdmi=np.std(lxvec[NE:,1])\n",
    "stdne=np.std(svx[1]*rxvec[:NE,1])\n",
    "stdni=np.std(svx[1]*rxvec[NE:,1])\n",
    "rm2=np.array([stdme,stdmi])\n",
    "rm2=np.reshape(rm2,(2,1))\n",
    "rn2=np.array([stdne,stdni])\n",
    "rn2=np.reshape(rn2,(2,1))\n",
    "gstdest=rm1@rn1.T +rm2@rn2.T \n",
    "print('cal g:',gstdest)\n",
    "print('org g:',xee**2/N,xei**2/N,xie**2/N,xii**2/N)"
   ]
  },
  {
   "cell_type": "code",
   "execution_count": 269,
   "metadata": {},
   "outputs": [],
   "source": [
    "lxvec,svx,rxvech=la.svd(P)\n",
    "rxvec=rxvech.T \n",
    "fig,ax=plt.subplots(2,2,figsize=(9,9))\n",
    "nbins=30\n",
    "n, bins, patches = ax[0][0].hist(lxvec[:NE,0], nbins, density=True, alpha=0.5)\n",
    "n, bins, patches = ax[1][0].hist(lxvec[NE:,0], nbins, density=True, alpha=0.5)\n",
    "n, bins, patches = ax[0][1].hist(rxvec[:NE,0], nbins, density=True, alpha=0.5)\n",
    "n, bins, patches = ax[1][1].hist(rxvec[NE:,0], nbins, density=True, alpha=0.5)\n"
   ]
  }
 ]
}