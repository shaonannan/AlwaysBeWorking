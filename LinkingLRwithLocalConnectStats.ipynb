{
 "metadata": {
  "language_info": {
   "codemirror_mode": {
    "name": "ipython",
    "version": 3
   },
   "file_extension": ".py",
   "mimetype": "text/x-python",
   "name": "python",
   "nbconvert_exporter": "python",
   "pygments_lexer": "ipython3",
   "version": "3.8.3-final"
  },
  "orig_nbformat": 2,
  "kernelspec": {
   "name": "python3",
   "display_name": "Python 3",
   "language": "python"
  }
 },
 "nbformat": 4,
 "nbformat_minor": 2,
 "cells": [
  {
   "source": [
    "## 17/12/2020 Update\n",
    "# Linking and Comparing Local Connect Stats with Low-rank Recurrent Network\n",
    "* From Local Connect Stats cite[Sharpee]\n",
    "* From Low-rank structure to EI "
   ],
   "cell_type": "markdown",
   "metadata": {}
  },
  {
   "cell_type": "code",
   "execution_count": 1,
   "metadata": {},
   "outputs": [],
   "source": [
    "from __future__ import print_function\n",
    "from ipywidgets import interact, interactive, fixed, interact_manual\n",
    "import ipywidgets as widgets\n",
    "import numpy as np\n",
    "import matplotlib.pylab as plt\n",
    "import matplotlib\n",
    "%matplotlib qt\n",
    "from numpy import linalg as la\n",
    "from scipy.optimize import fsolve\n",
    "from scipy import linalg as scpla\n",
    "import seaborn as sb\n",
    "from mpl_toolkits.axes_grid1 import make_axes_locatable\n",
    "from cmath import *\n",
    "from mpl_toolkits.mplot3d import Axes3D\n",
    "from scipy.optimize import fsolve,leastsq \n",
    "from math import tanh,cosh\n",
    "import math\n",
    "from sympy import *\n",
    "from scipy.linalg import schur, eigvals\n",
    "extras_require = {'PLOT':['matplotlib>=1.1.1,<3.0']},"
   ]
  },
  {
   "source": [
    "## Check the results in Sharpee's paper\n",
    "* local stats, EE,EI,IE,II occupy their own properties, independently\n",
    "* no pair correlation\n"
   ],
   "cell_type": "markdown",
   "metadata": {}
  },
  {
   "cell_type": "code",
   "execution_count": 178,
   "metadata": {},
   "outputs": [],
   "source": [
    "Nt=np.array([2000,1000])\n",
    "NE,NI=Nt[0],Nt[1]\n",
    "at = Nt/N\n",
    "N=np.sum(Nt)\n",
    "aee,aei,aie,aii=4.5,-6.0,5.0,-2.5\n",
    "JEEsub,JEIsub,JIEsub,JIIsub=aee*np.ones((NE,NE))/NE,aei*np.ones((NE,NI))/NI,aie*np.ones((NI,NE))/NE,aii*np.ones((NI,NI))/NI\n",
    "J = np.zeros((NE+NI,NE+NI))\n",
    "\n",
    "# determine gcd\n",
    "Gmat=np.zeros((2,2))\n",
    "Gmatorg=np.array([[0.8,1.2],[0.9,0.2]])\n",
    "# Gmat/=np.sqrt(N)\n",
    "for i in range(2):\n",
    "    for j in range(2):\n",
    "        Gmat[i,j]=Gmatorg[i,j]/np.sqrt(N)\n",
    "# EE\n",
    "gij=Gmat[0,0]*np.random.randn(NE,NE)\n",
    "J[:NE,:NE]=gij.copy()\n",
    "# EI\n",
    "gij=Gmat[0,1]*np.random.randn(NE,NI)\n",
    "J[:NE,NE:]=gij.copy()\n",
    "# IE\n",
    "gij=Gmat[1,0]*np.random.randn(NI,NE)\n",
    "J[NE:,:NE]=gij.copy()\n",
    "# II\n",
    "gij=Gmat[1,1]*np.random.randn(NI,NI)\n",
    "J[NE:,NE:]=gij.copy()\n",
    "\n",
    "P = np.zeros((N,N))\n",
    "P[:NE,:NE],P[:NE,NE:],P[NE:,:NE],P[NE:,NE:]=JEEsub.copy(),JEIsub.copy(),JIEsub.copy(),JIIsub.copy()\n",
    "X = P.copy()+J.copy()"
   ]
  },
  {
   "cell_type": "code",
   "execution_count": 113,
   "metadata": {},
   "outputs": [
    {
     "output_type": "stream",
     "name": "stdout",
     "text": [
      "averaging g noise: 0.8558621384311844\n"
     ]
    }
   ],
   "source": [
    "gavg=np.sqrt(np.sum(np.sum(Gmat**2)))/2.0\n",
    "print('averaging g noise:',gavg*np.sqrt(N))"
   ]
  },
  {
   "cell_type": "code",
   "execution_count": 105,
   "metadata": {},
   "outputs": [
    {
     "output_type": "stream",
     "name": "stdout",
     "text": [
      "eigenvalue: [1.+4.21307489j 1.-4.21307489j] singular value: [9.12570385 2.05463604] eigG 0.8546614831429354\n"
     ]
    }
   ],
   "source": [
    "aee,aei,aie,aii=4.5,-6.0,5.0,-2.5\n",
    "Asmall=np.array([[aee,aei],[aie,aii]])\n",
    "eigva,_=la.eig(Asmall)\n",
    "_,sigva,_=la.svd(Asmall)\n",
    "print('eigenvalue:',eigva,'singular value:',sigva,'eigG',np.sqrt(eigG[0]))"
   ]
  },
  {
   "cell_type": "code",
   "execution_count": 179,
   "metadata": {},
   "outputs": [],
   "source": [
    "# all about calculate eigenvalues\n",
    "eigvrand,eigvecrand=la.eig(J)\n",
    "eigstruct,eigvecstruct=la.eig(P)\n",
    "# summation\n",
    "X = P.copy()+J.copy()\n",
    "eigvx,eigvecx=la.eig(X)\n",
    "# theoretical\n",
    "M = np.zeros((2,2))\n",
    "for i in range(2):\n",
    "    for j in range(2):\n",
    "        M[i,j]=(Gmat[i,j]*np.sqrt(N))**2*(Nt[j]/N)\n",
    "eigG,eigvecG=la.eig(M)\n",
    "# low rank small\n",
    "Asmall=np.array([[aee,aei],[aie,aii]])\n",
    "eigva,_=la.eig(Asmall)\n"
   ]
  },
  {
   "cell_type": "code",
   "execution_count": 180,
   "metadata": {},
   "outputs": [],
   "source": [
    "ticks = np.linspace(-2.0,2.0,3)\n",
    "lims= [-2.1,2.1]\n",
    "\n",
    "fig,ax=plt.subplots(figsize=(6,6))\n",
    "ax.plot(np.sqrt(eigG[0])*np.ones(100),np.linspace(-1.0,1.0,100))\n",
    "ax.scatter(np.real(eigvrand),np.imag(eigvrand),s=5.0,c='blue',alpha=0.5)\n",
    "ax.scatter(np.real(eigstruct[:4]),np.zeros(4),s=15.0,c='red',alpha=0.5)\n",
    "# ax.set_xlim(lims)\n",
    "# ax.set_ylim(lims)\n",
    "# ax.set_xticks(ticks)\n",
    "# ax.set_yticks(ticks)\n",
    "ax.set_aspect('equal')\n",
    "ax.grid()"
   ]
  },
  {
   "source": [
    "## relate this to low rank (here rank-2)"
   ],
   "cell_type": "markdown",
   "metadata": {}
  },
  {
   "cell_type": "code",
   "execution_count": 109,
   "metadata": {},
   "outputs": [],
   "source": [
    "lvecX,svX,rvecXh=la.svd(X)\n",
    "rvecX=rvecXh.T\n",
    "m=lvecX[:,:2].copy()\n",
    "n=rvecX[:,:2].copy()\n",
    "n[:,0]*=svX[0]\n",
    "n[:,1]*=svX[1]\n",
    "\n",
    "# n[:,1]=rvecX[:,2]*svX[2]\n",
    "# m[:,1]=lvecX[:,2]"
   ]
  },
  {
   "cell_type": "code",
   "execution_count": 111,
   "metadata": {},
   "outputs": [],
   "source": [
    "morg,norg=m,n\n",
    "fig,ax=plt.subplots(4,4,figsize=(9,9))\n",
    "for i in range(2):\n",
    "    for j in range(2):\n",
    "        ax[i][j].scatter(morg[:NE,i],morg[:NE,j],s=5.0,c='red',alpha=0.05)\n",
    "        ax[i][j].scatter(morg[NE:,i],morg[NE:,j],s=5.0,c='blue',alpha=0.05)\n",
    "for i in range(2):\n",
    "    for j in range(2):\n",
    "        ax[2+i][2+j].scatter(norg[:NE,i],norg[:NE,j],s=5.0,c='red',alpha=0.05)\n",
    "        ax[2+i][2+j].scatter(norg[NE:,i],norg[NE:,j],s=5.0,c='blue',alpha=0.05)\n",
    "        \n",
    "for i in range(2):\n",
    "    for j in range(2):\n",
    "        ax[i][2+j].scatter(morg[:NE,i],norg[:NE,j],s=5.0,c='red',alpha=0.05)\n",
    "        ax[i][2+j].scatter(morg[NE:,i],norg[NE:,j],s=5.0,c='blue',alpha=0.05)\n",
    "for i in range(2):\n",
    "    for j in range(2):\n",
    "        ax[2+i][j].scatter(norg[:NE,i],morg[:NE,j],s=5.0,c='red',alpha=0.05)\n",
    "        ax[2+i][j].scatter(norg[NE:,i],morg[NE:,j],s=5.0,c='blue',alpha=0.05)\n",
    "for i in range(4):\n",
    "    for j in range(4):\n",
    "        # ax[i][j].set_xlim(lims)\n",
    "        # ax[i][j].set_ylim(lims)\n",
    "        # ax[i][j].set_xticks(ticks)\n",
    "        # ax[i][j].set_yticks(ticks)\n",
    "        ax[i][j].set_aspect('equal')\n",
    "        ax[i][j].grid()"
   ]
  },
  {
   "cell_type": "code",
   "execution_count": 117,
   "metadata": {},
   "outputs": [
    {
     "output_type": "stream",
     "name": "stdout",
     "text": [
      "eigenvalue: [1.+4.21307489j 1.-4.21307489j] [1.+4.21307489j 1.-4.21307489j]\nsingular value: [9.12570385 2.05463604] [9.12570385 2.05463604]\n"
     ]
    }
   ],
   "source": [
    "# test Dale's law\n",
    "Nt=np.array([300,100])\n",
    "NE,NI=Nt[0],Nt[1]\n",
    "N=np.sum(Nt)\n",
    "aee,aei,aie,aii=4.5,-6.0,5.0,-2.5\n",
    "JEEsub,JEIsub,JIEsub,JIIsub=aee*np.ones((NE,NE))/NE,aei*np.ones((NE,NI))/np.sqrt(NE*NI),aie*np.ones((NI,NE))/np.sqrt(NE*NI),aii*np.ones((NI,NI))/NI\n",
    "P = np.zeros((N,N))\n",
    "P[:NE,:NE],P[:NE,NE:],P[NE:,:NE],P[NE:,NE:]=JEEsub.copy(),JEIsub.copy(),JIEsub.copy(),JIIsub.copy()\n",
    "eigvP,_=la.eig(P)\n",
    "_,sigvp,_=la.svd(P)\n",
    "Asmall=np.array([[aee,aei],[aie,aii]])\n",
    "eigva,_=la.eig(Asmall)\n",
    "_,sigva,_=la.svd(Asmall)\n",
    "\n",
    "print('eigenvalue:',eigvP[:2],eigva[:2])\n",
    "print('singular value:',sigvp[:2],sigva[:2])"
   ]
  },
  {
   "cell_type": "code",
   "execution_count": 184,
   "metadata": {},
   "outputs": [
    {
     "output_type": "stream",
     "name": "stdout",
     "text": [
      "average eigv: 0.858253007850327\n"
     ]
    }
   ],
   "source": [
    "# test Dale's law\n",
    "Nt=np.array([100,1000])\n",
    "NE,NI=Nt[0],Nt[1]\n",
    "N=np.sum(Nt)\n",
    "at=Nt/N\n",
    "# determine gcd\n",
    "Gmat=np.zeros((2,2))\n",
    "Gmatorg=np.array([[0.8,1.2],[0.9,0.2]])\n",
    "# Gmat/=np.sqrt(N)\n",
    "for i in range(2):\n",
    "    for j in range(2):\n",
    "        Gmat[i,j]=Gmatorg[i,j]/np.sqrt(N)\n",
    "# EE\n",
    "J=np.zeros((N,N))\n",
    "\n",
    "gij=np.zeros((NE,NE))\n",
    "gij=Gmat[0,0]*np.random.randn(NE,NE)\n",
    "J[:NE,:NE]=gij.copy()\n",
    "# EI\n",
    "gij=np.zeros((NE,NI))\n",
    "gij=Gmat[0,1]*np.random.randn(NE,NI)\n",
    "J[:NE,NE:]=gij.copy()\n",
    "# IE\n",
    "gij=np.zeros((NI,NE))\n",
    "gij=Gmat[1,0]*np.random.randn(NI,NE)\n",
    "J[NE:,:NE]=gij.copy()\n",
    "# II\n",
    "gij=np.zeros((NI,NI))\n",
    "gij=Gmat[1,1]*np.random.randn(NI,NI)\n",
    "J[NE:,NE:]=gij.copy()\n",
    "\n",
    "gavg=0\n",
    "for i in range(2):\n",
    "    for j in range(2):\n",
    "        gavg+=np.sqrt(Gmatorg[i,j]**2*at[i]*at[j])\n",
    "M = np.zeros((2,2))\n",
    "for i in range(2):\n",
    "    for j in range(2):\n",
    "        M[i,j]=(Gmatorg[i,j]**2)*at[j]\n",
    "\n",
    "eigvj,_=la.eig(J)\n",
    "eigvM,_=la.eig(M)\n",
    "ticks = np.linspace(-2.0,2.0,3)\n",
    "lims= [-2.1,2.1]\n",
    "\n",
    "fig,ax=plt.subplots(figsize=(6,6))\n",
    "ax.plot(np.sqrt(eigvM[0])*np.ones(100),np.linspace(-1.0,1.0,100))\n",
    "ax.scatter(np.real(eigvj),np.imag(eigvj),s=5.0,c='blue',alpha=0.5)\n",
    "print('average eigv:',gavg)\n"
   ]
  },
  {
   "cell_type": "code",
   "execution_count": 227,
   "metadata": {},
   "outputs": [
    {
     "output_type": "stream",
     "name": "stdout",
     "text": [
      "0.6\n"
     ]
    }
   ],
   "source": [
    "# testing distribution of J_{ij}\n",
    "NE,NI=750,250\n",
    "sigm,sign=0.5,1.2\n",
    "mE,nE=sigm*np.random.randn(NE,1)/np.sqrt(NE),sign*np.random.randn(NE,1)/np.sqrt(NE)\n",
    "JEE = mE@nE.T \n",
    "eigv,eigvec=la.eig(JEE)\n",
    "fig,ax=plt.subplots(figsize=(6,6))\n",
    "ax.scatter(np.real(eigvj),np.imag(eigvj),s=5.0,c='blue',alpha=0.5)\n",
    "\n",
    "JEEoff=JEE.copy()\n",
    "JEEdiag=np.zeros(NE)\n",
    "for i in range(NE):\n",
    "    JEEoff[i,i:NE-1]=JEEoff[i,i+1:]\n",
    "    JEEdiag[i]=JEE[i,i]\n",
    "fig,ax=plt.subplots(2,1,figsize=(6,6))\n",
    "Joff=JEEoff[:,:NE-1]\n",
    "Joff=np.reshape(Joff,(NE**2-NE,1))\n",
    "n, bins, patches = ax[0].hist(Joff, 100, density=True, alpha=0.5)\n",
    "n, bins, patches = ax[1].hist(JEEdiag, 100, density=True, alpha=0.5)\n",
    "print(sigm*sign)\n",
    "\n"
   ]
  },
  {
   "source": [
    "## What's the distribution of $J_{i,j}$ in $\\tilde{\\mathbf{X}}=\\mathbf{X}+\\mathbf{p}$"
   ],
   "cell_type": "markdown",
   "metadata": {}
  },
  {
   "cell_type": "code",
   "execution_count": 229,
   "metadata": {},
   "outputs": [],
   "source": [
    "# testing distribution of J_{ij} in \\tilde{X}\n",
    "NE,NI=2000,250\n",
    "sigm,sign,grandom=0.6,1.0,0.5\n",
    "rho=0.0\n",
    "zetax,zetay=np.random.randn(NE,1),np.random.randn(NE,1)\n",
    "m = sigm*zetax/np.sqrt(NE)\n",
    "n =sign*(rho*zetax+np.sqrt(1-rho**2)*zetay)/np.sqrt(NE)\n",
    "P = m@n.T \n",
    "X = (grandom)*np.random.randn(NE,NE)/np.sqrt(NE)\n",
    "\n",
    "Xtilde=X+P\n",
    "\n",
    "eigv,eigvec=la.eig(Xtilde)\n",
    "fig,ax=plt.subplots(figsize=(6,6))\n",
    "ax.scatter(np.real(eigv),np.imag(eigv),s=5.0,c='blue',alpha=0.5)\n",
    "\n",
    "JEEoff=Xtilde.copy()\n",
    "JEEdiag=np.zeros(NE)\n",
    "for i in range(NE):\n",
    "    JEEoff[i,i:NE-1]=JEEoff[i,i+1:]\n",
    "    JEEdiag[i]=Xtilde[i,i]\n",
    "fig,ax=plt.subplots(2,1,figsize=(6,6))\n",
    "Joff=JEEoff[:,:NE-1]\n",
    "Joff=np.reshape(Joff,(NE**2-NE,1))\n",
    "n, bins, patches = ax[0].hist(Joff, 100, density=True, alpha=0.5)\n",
    "n, bins, patches = ax[1].hist(JEEdiag, 100, density=True, alpha=0.5)"
   ]
  },
  {
   "source": [
    "## Generate Random Block Matrix, embedding low rank structur $\\tilde{\\mathbf{X}}_{\\mathrm{type}}=\\mathbf{X}_{\\mathrm{type}}+\\mathbf{P}_{\\mathrm{type}}$"
   ],
   "cell_type": "markdown",
   "metadata": {}
  },
  {
   "cell_type": "code",
   "execution_count": 238,
   "metadata": {},
   "outputs": [],
   "source": [
    "phiacttt=np.zeros((N,1))\n",
    "phiacttt[:NE,0],phiacttt[NE:,0]=(rhoE*zetaxE+np.sqrt(1-rhoE**2)*zetayE)/np.sqrt(N),(rhoI*zetaxI+np.sqrt(1-rhoI**2)*zetayI)/np.sqrt(N)\n",
    "eitatt=Xtilde@phiacttt\n",
    "eitarand=X@phiacttt\n",
    "coveitatt=eitatt@eitatt.T \n",
    "coveitarand=eitarand@eitarand.T \n",
    "deltaEt,deltaEr=coveitatt[:NE,:NE],coveitarand[:NE,:NE]\n",
    "deltaIt,deltaIr=coveitatt[NE:,NE:],coveitarand[NE:,NE:]\n",
    "print('std, Et:',np.std(deltaEt),'; random:',np.std(deltaEr))\n",
    "print('std, It:',np.std(deltaIt),'; random:',np.std(deltaIr))"
   ]
  },
  {
   "cell_type": "code",
   "execution_count": 411,
   "metadata": {},
   "outputs": [
    {
     "output_type": "stream",
     "name": "stdout",
     "text": [
      "1.7677669529663689\n"
     ]
    },
    {
     "output_type": "execute_result",
     "data": {
      "text/plain": [
       "<matplotlib.collections.PathCollection at 0x7fb1f7f7f7f0>"
      ]
     },
     "metadata": {},
     "execution_count": 411
    }
   ],
   "source": [
    "eigvx,_=la.eig(X)\n",
    "eigvxt,_=la.eig(Xtilde)\n",
    "fig,ax=plt.subplots(2,2,figsize=(9,9))\n",
    "ax[0][0].scatter(np.real(eigvx),np.imag(eigvx),s=2.0,c='red',alpha=0.5)\n",
    "ax[0][0].set_aspect('equal')\n",
    "print(np.sqrt(xee**2*NE/N))\n",
    "ax[1][0].scatter(np.real(eigvxt),np.imag(eigvxt),s=2.0,c='red',alpha=0.5)\n",
    "ax[1][0].set_aspect('equal')\n",
    "# HISTOGRAM\n",
    "n, bins, patches = ax[0][1].hist(np.real(eigvx), 20, density=True, alpha=0.5)\n",
    "ax[0][1].set_xlim([-4.0,4.0])\n",
    "n, bins, patches = ax[1][1].hist(np.real(eigvxt), 20, density=True, alpha=0.5)\n",
    "ax[0][1].set_xlim([-4.0,4.0])\n",
    "# SUBTYPE\n",
    "XEI,XTEI=X[:NE,NE:],Xtilde[:NE,NE:]\n",
    "eigvEI,eigvec=la.eig(XEI)\n",
    "eigvTEI,eigvec=la.eig(XTEI)\n",
    "fig,ax=plt.subplots(1,2,figsize=(6,6))\n",
    "ax[0].scatter(np.real(eigvEI),np.imag(eigvEI),s=5.0,c='blue',alpha=0.5)\n",
    "ax[1].scatter(np.real(eigvTEI),np.imag(eigvTEI),s=5.0,c='blue',alpha=0.5)\n",
    "\n",
    "XEE,XTEE=X[:NE,:NE],Xtilde[:NE,:NE]\n",
    "eigvEE,eigvec=la.eig(XEE)\n",
    "eigvTEE,eigvec=la.eig(XTEE)\n",
    "fig,ax=plt.subplots(1,2,figsize=(6,6))\n",
    "ax[0].scatter(np.real(eigvEE),np.imag(eigvEE),s=5.0,c='red',alpha=0.5)\n",
    "ax[1].scatter(np.real(eigvTEE),np.imag(eigvTEE),s=5.0,c='red',alpha=0.5)\n",
    "\n",
    "XIE,XTIE=X[NE:,:NE],Xtilde[NE:,:NE]\n",
    "eigvIE,eigvec=la.eig(XIE)\n",
    "eigvTIE,eigvec=la.eig(XTIE)\n",
    "fig,ax=plt.subplots(1,2,figsize=(6,6))\n",
    "ax[0].scatter(np.real(eigvIE),np.imag(eigvIE),s=5.0,c='blue',alpha=0.5)\n",
    "ax[1].scatter(np.real(eigvTIE),np.imag(eigvTIE),s=5.0,c='blue',alpha=0.5)\n",
    "\n",
    "XII,XTII=X[NE:,NE:],Xtilde[NE:,NE:]\n",
    "eigvII,eigvec=la.eig(XII)\n",
    "eigvTII,eigvec=la.eig(XTII)\n",
    "fig,ax=plt.subplots(1,2,figsize=(6,6))\n",
    "ax[0].scatter(np.real(eigvII),np.imag(eigvII),s=5.0,c='red',alpha=0.5)\n",
    "ax[1].scatter(np.real(eigvTII),np.imag(eigvTII),s=5.0,c='red',alpha=0.5)\n"
   ]
  },
  {
   "source": [
    "# 24/12 Generate Figures and Some Questions"
   ],
   "cell_type": "markdown",
   "metadata": {}
  },
  {
   "cell_type": "code",
   "execution_count": 3,
   "metadata": {},
   "outputs": [],
   "source": [
    "def calculate_angle(vector_1,vector_2):\n",
    "    unit_vector_1 = vector_1 /np.linalg.norm(vector_1)\n",
    "    unit_vector_2 = vector_2 /np.linalg.norm(vector_2)\n",
    "    dot_product = np.dot(unit_vector_1, unit_vector_2)\n",
    "    angle = np.arccos(dot_product)\n",
    "    return angle"
   ]
  },
  {
   "source": [
    "## Generate Matrix"
   ],
   "cell_type": "markdown",
   "metadata": {}
  },
  {
   "cell_type": "code",
   "execution_count": 428,
   "metadata": {},
   "outputs": [
    {
     "output_type": "error",
     "ename": "ValueError",
     "evalue": "setting an array element with a sequence.",
     "traceback": [
      "\u001b[0;31m---------------------------------------------------------------------------\u001b[0m",
      "\u001b[0;31mTypeError\u001b[0m                                 Traceback (most recent call last)",
      "\u001b[0;31mTypeError\u001b[0m: only size-1 arrays can be converted to Python scalars",
      "\nThe above exception was the direct cause of the following exception:\n",
      "\u001b[0;31mValueError\u001b[0m                                Traceback (most recent call last)",
      "\u001b[0;32m<ipython-input-428-3b2129eb63bc>\u001b[0m in \u001b[0;36m<module>\u001b[0;34m\u001b[0m\n\u001b[1;32m     15\u001b[0m         \u001b[0mGrand\u001b[0m\u001b[0;34m=\u001b[0m\u001b[0mnp\u001b[0m\u001b[0;34m.\u001b[0m\u001b[0marray\u001b[0m\u001b[0;34m(\u001b[0m\u001b[0;34m[\u001b[0m\u001b[0mxee\u001b[0m\u001b[0;34m,\u001b[0m\u001b[0;36m0\u001b[0m\u001b[0;34m,\u001b[0m\u001b[0;36m0\u001b[0m\u001b[0;34m,\u001b[0m\u001b[0mxii\u001b[0m\u001b[0;34m]\u001b[0m\u001b[0;34m)\u001b[0m\u001b[0;34m\u001b[0m\u001b[0;34m\u001b[0m\u001b[0m\n\u001b[1;32m     16\u001b[0m         \u001b[0mX\u001b[0m\u001b[0;34m,\u001b[0m\u001b[0mGamp\u001b[0m\u001b[0;34m,\u001b[0m\u001b[0meigvgm\u001b[0m\u001b[0;34m,\u001b[0m\u001b[0meigvecgm\u001b[0m\u001b[0;34m,\u001b[0m\u001b[0mgaverages\u001b[0m\u001b[0;34m[\u001b[0m\u001b[0midx\u001b[0m\u001b[0;34m,\u001b[0m\u001b[0mi\u001b[0m\u001b[0;34m]\u001b[0m\u001b[0;34m,\u001b[0m\u001b[0mugm\u001b[0m\u001b[0;34m,\u001b[0m\u001b[0msvgm\u001b[0m\u001b[0;34m,\u001b[0m\u001b[0mvgm\u001b[0m\u001b[0;34m=\u001b[0m\u001b[0mgenerate_localstatsmat\u001b[0m\u001b[0;34m(\u001b[0m\u001b[0mNparams\u001b[0m\u001b[0;34m,\u001b[0m\u001b[0mGrand\u001b[0m\u001b[0;34m)\u001b[0m\u001b[0;34m\u001b[0m\u001b[0;34m\u001b[0m\u001b[0m\n\u001b[0;32m---> 17\u001b[0;31m         \u001b[0mgradiuss\u001b[0m\u001b[0;34m[\u001b[0m\u001b[0midx\u001b[0m\u001b[0;34m,\u001b[0m\u001b[0mi\u001b[0m\u001b[0;34m]\u001b[0m\u001b[0;34m=\u001b[0m\u001b[0mnp\u001b[0m\u001b[0;34m.\u001b[0m\u001b[0msqrt\u001b[0m\u001b[0;34m(\u001b[0m\u001b[0meigvgm\u001b[0m\u001b[0;34m[\u001b[0m\u001b[0;36m0\u001b[0m\u001b[0;34m]\u001b[0m\u001b[0;34m)\u001b[0m\u001b[0;34m\u001b[0m\u001b[0;34m\u001b[0m\u001b[0m\n\u001b[0m\u001b[1;32m     18\u001b[0m         \u001b[0;31m# generate mean Am\u001b[0m\u001b[0;34m\u001b[0m\u001b[0;34m\u001b[0m\u001b[0;34m\u001b[0m\u001b[0m\n\u001b[1;32m     19\u001b[0m         \u001b[0mAm\u001b[0m\u001b[0;34m,\u001b[0m\u001b[0mJsv\u001b[0m\u001b[0;34m,\u001b[0m\u001b[0mus\u001b[0m\u001b[0;34m,\u001b[0m\u001b[0msvams\u001b[0m\u001b[0;34m[\u001b[0m\u001b[0midx\u001b[0m\u001b[0;34m,\u001b[0m\u001b[0mi\u001b[0m\u001b[0;34m]\u001b[0m\u001b[0;34m,\u001b[0m\u001b[0mva\u001b[0m\u001b[0;34m=\u001b[0m\u001b[0mgenerate_meanmat\u001b[0m\u001b[0;34m(\u001b[0m\u001b[0mNparams\u001b[0m\u001b[0;34m,\u001b[0m\u001b[0mJE\u001b[0m\u001b[0;34m,\u001b[0m\u001b[0mJI\u001b[0m\u001b[0;34m)\u001b[0m\u001b[0;34m\u001b[0m\u001b[0;34m\u001b[0m\u001b[0m\n",
      "\u001b[0;31mValueError\u001b[0m: setting an array element with a sequence."
     ]
    }
   ],
   "source": [
    "# Block Gaussian Random Network\n",
    "xee,xei,xie,xii=2.0,0.0,0.0,1.5#1.2,1.2,1.8\n",
    "JE,JI=2.5,2.0\n",
    "\n",
    "Niter =5\n",
    "Np = 20\n",
    "xees=np.linspace(0.4,2.4,Np)\n",
    "gaverages=np.zeros((Np,Niter))\n",
    "gradiuss=np.zeros((Np,Niter))\n",
    "svams = np.zeros((Np,Niter))\n",
    "svxts = np.zeros((Np,Niter))\n",
    "for i in range(Niter):\n",
    "    for idx, xee in enumerate(xees):\n",
    "        # generate random \n",
    "        Grand=np.array([xee,0,0,xii])\n",
    "        X,Gamp,eigvgm,eigvecgm,gaverages[idx,i],ugm,svgm,vgm=generate_localstatsmat(Nparams,Grand)\n",
    "        gradiuss[idx,i]=np.sqrt(eigvgm[0])\n",
    "        # generate mean Am\n",
    "        Am,Jsv,us,svams[idx,i],va=generate_meanmat(Nparams,JE,JI)\n",
    "        # CALCULATE XTOTAL\n",
    "        Xtotal=X.copy()+Am.copy()\n",
    "        # Combine, total svd decomposition\n",
    "        uxt,svxt,vhxt=la.svd(Xtotal)\n",
    "        vxt=vhxt.T   \n",
    "        svxts[idx,i]=svxt[0]\n",
    "\n",
    "\n",
    "\n"
   ]
  },
  {
   "cell_type": "code",
   "execution_count": 1560,
   "metadata": {},
   "outputs": [],
   "source": [
    "ticks = np.linspace(4.7,5.5,3)\n",
    "lims= [4.69,5.51]\n",
    "# calculate the theoretical singular values of Xtotal\n",
    "svxts_theo = np.mean(svams[0]+gaverages**2/svams[0],axis=1)\n",
    "svxts_theo_eff = np.mean(svams[0]+gradiuss**2/svams[0],axis=1)\n",
    "svxtsm=np.mean(svxts,axis=1)\n",
    "fig,ax=plt.subplots(figsize=(6,6))\n",
    "ax.plot(svxtsm,svxtsm,'k--',linewidth=1.0,alpha=0.5)\n",
    "ax.plot(svxtsm,svxts_theo,'r.',linewidth=1.5)\n",
    "ax.plot(svxtsm,svxts_theo_eff,'b.',linewidth=1.5)\n",
    "ax.set_xlim(lims)\n",
    "ax.set_ylim(lims)\n",
    "ax.set_xticks(ticks)\n",
    "ax.set_yticks(ticks)\n",
    "ax.set_aspect('equal')\n",
    "\n",
    "\n"
   ]
  },
  {
   "cell_type": "code",
   "execution_count": 2263,
   "metadata": {},
   "outputs": [],
   "source": [
    "# Block Gaussian Random Network\n",
    "xee,xei,xie,xii=0.8,0.5,0.5,0.6#1.2,1.2,1.8\n",
    "JE,JI=2.0,4.0\n",
    "\n",
    "# generate random \n",
    "Grand=np.array([xee,xei,xie,xii])\n",
    "X,Gamp,eigvgm,eigvecgm,gaverage,ugm,svgm,vgm=generate_localstatsmat(Nparams,Grand)\n",
    "gradius=np.sqrt(eigvgm[0])\n",
    "# generate mean Am\n",
    "Am,Jsv,ua,svam,va=generate_meanmat(Nparams,JE,JI)\n",
    "# CALCULATE XTOTAL\n",
    "Xtotal=X.copy()+Am.copy()\n",
    "# Combine, total svd decomposition\n",
    "uxt,svxt,vhxt=la.svd(Xtotal)\n",
    "vxt=vhxt.T   \n"
   ]
  },
  {
   "cell_type": "code",
   "execution_count": 2264,
   "metadata": {},
   "outputs": [
    {
     "output_type": "error",
     "ename": "ValueError",
     "evalue": "operands could not be broadcast together with shapes (2,) (200,) ",
     "traceback": [
      "\u001b[0;31m---------------------------------------------------------------------------\u001b[0m",
      "\u001b[0;31mValueError\u001b[0m                                Traceback (most recent call last)",
      "\u001b[0;32m<ipython-input-2264-2f4b000c40c0>\u001b[0m in \u001b[0;36m<module>\u001b[0;34m\u001b[0m\n\u001b[1;32m      5\u001b[0m \u001b[0;31m# eigvx,eigvecx=la.eig(Xtotal)\u001b[0m\u001b[0;34m\u001b[0m\u001b[0;34m\u001b[0m\u001b[0;34m\u001b[0m\u001b[0m\n\u001b[1;32m      6\u001b[0m \u001b[0mtheta\u001b[0m \u001b[0;34m=\u001b[0m \u001b[0mnp\u001b[0m\u001b[0;34m.\u001b[0m\u001b[0mlinspace\u001b[0m\u001b[0;34m(\u001b[0m\u001b[0;36m0\u001b[0m\u001b[0;34m,\u001b[0m \u001b[0;36m2\u001b[0m \u001b[0;34m*\u001b[0m \u001b[0mnp\u001b[0m\u001b[0;34m.\u001b[0m\u001b[0mpi\u001b[0m\u001b[0;34m,\u001b[0m \u001b[0;36m200\u001b[0m\u001b[0;34m)\u001b[0m\u001b[0;34m\u001b[0m\u001b[0;34m\u001b[0m\u001b[0m\n\u001b[0;32m----> 7\u001b[0;31m \u001b[0mxc\u001b[0m \u001b[0;34m=\u001b[0m \u001b[0mgradius\u001b[0m\u001b[0;34m*\u001b[0m\u001b[0mnp\u001b[0m\u001b[0;34m.\u001b[0m\u001b[0mcos\u001b[0m\u001b[0;34m(\u001b[0m\u001b[0mtheta\u001b[0m\u001b[0;34m)\u001b[0m\u001b[0;34m\u001b[0m\u001b[0;34m\u001b[0m\u001b[0m\n\u001b[0m\u001b[1;32m      8\u001b[0m \u001b[0myc\u001b[0m \u001b[0;34m=\u001b[0m \u001b[0mgradius\u001b[0m\u001b[0;34m*\u001b[0m\u001b[0mnp\u001b[0m\u001b[0;34m.\u001b[0m\u001b[0msin\u001b[0m\u001b[0;34m(\u001b[0m\u001b[0mtheta\u001b[0m\u001b[0;34m)\u001b[0m\u001b[0;34m\u001b[0m\u001b[0;34m\u001b[0m\u001b[0m\n\u001b[1;32m      9\u001b[0m \u001b[0;34m\u001b[0m\u001b[0m\n",
      "\u001b[0;31mValueError\u001b[0m: operands could not be broadcast together with shapes (2,) (200,) "
     ]
    }
   ],
   "source": [
    "## difference between singular value and eigenvalue\n",
    "# First Set of Figures\n",
    "# figure, validate results in sharpee's paper\n",
    "# ticks and labels\n",
    "# eigvx,eigvecx=la.eig(Xtotal)\n",
    "theta = np.linspace(0, 2 * np.pi, 200)\n",
    "xc = gradius*np.cos(theta)\n",
    "yc = gradius*np.sin(theta)\n",
    "\n",
    "xa = gaverage*np.cos(theta)\n",
    "ya = gaverage*np.sin(theta)\n",
    "\n",
    "ticks = np.linspace(-1.50,1.50,3)\n",
    "lims= [-1.51,1.51]\n",
    "nbins=100\n",
    "fig,ax=plt.subplots(figsize=(6,6))\n",
    "# eigenvalue\n",
    "ax.scatter(np.real(eigvx),np.imag(eigvx),s=2.0,c='blue',alpha=0.5)\n",
    "ax.plot(xc, yc, color=\"darkred\", linewidth=2)\n",
    "ax.plot(xa, ya, color=\"grey\", linewidth=2,linestyle='--')\n",
    "ax.set_xlim(lims)\n",
    "ax.set_ylim(lims)\n",
    "ax.set_xticks(ticks)\n",
    "ax.set_yticks(ticks)\n",
    "ax.set_aspect('equal')\n",
    "ax.set_title(r'$J_E,\\ J_I=$'+str(JE)+','+str(JI)+'\\n $\\lambda_1=$'+str(format(gradius,'.1f'))+r', $g_{avg}=$'+str(format(gaverage,'.1f')),fontsize=14)\n",
    "print(np.sqrt(0.5*JE**2+0.5*JI**2),np.min(np.real(eigvx)),gradius)\n",
    "print(gaverage**2/svam+svam,svxt[0],gradius**2/svam+svam)"
   ]
  },
  {
   "source": [
    "Parameters\n",
    "a(M, M) array_like\n",
    "Matrix to decompose\n",
    "output{‘real’, ‘complex’}, optional\n",
    "Construct the real or complex Schur decomposition (for real matrices).\n",
    "lworkint, optional\n",
    "Work array size. If None or -1, it is automatically computed.\n",
    "overwrite_abool, optional\n",
    "Whether to overwrite data in a (may improve performance).\n",
    "sort{None, callable, ‘lhp’, ‘rhp’, ‘iuc’, ‘ouc’}, optional\n",
    "Specifies whether the upper eigenvalues should be sorted. A callable may be passed that, given a eigenvalue, returns a boolean denoting whether the eigenvalue should be sorted to the top-left (True). Alternatively, string parameters may be used:\n",
    "'lhp'   Left-hand plane (x.real < 0.0)\n",
    "'rhp'   Right-hand plane (x.real > 0.0)\n",
    "'iuc'   Inside the unit circle (x*x.conjugate() <= 1.0)\n",
    "'ouc'   Outside the unit circle (x*x.conjugate() > 1.0)"
   ],
   "cell_type": "markdown",
   "metadata": {}
  },
  {
   "source": [
    "## test how the iid vectors constitute overall\n",
    "## put them together and try to figure out the the properties"
   ],
   "cell_type": "markdown",
   "metadata": {}
  },
  {
   "cell_type": "code",
   "execution_count": 39,
   "metadata": {},
   "outputs": [],
   "source": [
    "Nt=np.array([1000,1000])\n",
    "NE,NI=Nt[0],Nt[1]\n",
    "Nparams=np.array([NE,NI])\n",
    "\n",
    "def generate_localstatsmat(Nparams,Grand):\n",
    "    xee,xei,xie,xii=Grand[0],Grand[1],Grand[2],Grand[3]\n",
    "    NE,NI=Nparams[0],Nparams[1]\n",
    "    N=NE+NI\n",
    "    at = Nt/N   \n",
    "    X=np.zeros((N,N))\n",
    "    X[:NE,:NE],X[NE:,NE:]=np.random.randn(NE,NE),np.random.randn(NE,NE)\n",
    "    X[:NE,NE:],X[NE:,:NE]=np.random.randn(NE,NE),np.random.randn(NE,NE)\n",
    "\n",
    "    X[:NE,:NE],X[NE:,NE:]=xee*X[:NE,:NE]/np.sqrt(NE),xii*X[NE:,NE:]/np.sqrt(NI)\n",
    "    X[:NE,NE:],X[NE:,:NE]=xei*X[:NE,NE:]/np.sqrt(NE),xie*X[NE:,:NE]/np.sqrt(NI)\n",
    "    # print('std indeed:',xee/np.sqrt(N),xei/np.sqrt(N),xie/np.sqrt(N),xii/np.sqrt(N))\n",
    "    eigvx,eigvecx=la.eig(X)\n",
    "    # theoretical M (grandom) matrix \n",
    "    gmat = np.array([[xee**2,xei**2],[xie**2,xii**2]])\n",
    "    # first do not multiply at\n",
    "    gaverage=0\n",
    "    for i in range(2):\n",
    "        for j in range(2):\n",
    "            gaverage+=gmat[i,j]/2 # ntype=2\n",
    "    gaverage=np.sqrt(gaverage)\n",
    "    # for i in range(2):\n",
    "    #     gmat[:,i]*=at[i]\n",
    "    eigvgm,eigvecgm=schur(gmat)\n",
    "    # eigvgm=eigvals(eigvgm)\n",
    "    ugm,svgm,vhgm=la.svd(gmat)\n",
    "    vgm=vhgm.T\n",
    "    ngm=vhgm.copy()\n",
    "    ngm=ngm.T \n",
    "    ngm[:,0],ngm[:,1]=svgm[0]*ngm[:,0],svgm[1]*ngm[:,1]\n",
    "\n",
    "    # properties\n",
    "    Gamp=np.zeros((2,2))\n",
    "    Gamp[0,0],Gamp[0,1],Gamp[1,0],Gamp[1,1]=xee,xei,xie,xii\n",
    "\n",
    "    return (X,Gamp,eigvgm,eigvecgm,gaverage,ugm,svgm,vgm)\n",
    "\n",
    "def generate_meanmat(Nparams,JEE,JIE,JEI,JII):\n",
    "    # mean value \n",
    "    # first use rank-1 structure\n",
    "    NE,NI=Nparams[0],Nparams[1]\n",
    "    N=NE+NI\n",
    "    at = Nt/N   \n",
    "    Am=np.zeros((N,N))\n",
    "    Am[:NE,:NE],Am[:NE,NE:]=JEE/NE,-JEI/NI\n",
    "    Am[NE:,:NE],Am[NE:,NE:]=JIE/NE,-JII/NI\n",
    "    ua,svam,vha=la.svd(Am)\n",
    "    va=vha.T\n",
    "    svam=svam[0]\n",
    "    ua,va=np.zeros((N,N)),np.zeros((N,N))\n",
    "    # ua[:,0]=1.0/np.sqrt(N)\n",
    "    # va[:NE,0]=JE/np.sqrt(NE)\n",
    "    # va[NE:,0]=-JI/np.sqrt(NI)\n",
    "    # va[:,0]/=-np.linalg.norm(va[:,0])\n",
    "    # svam=np.sqrt(2*(JE**2+JI**2))\n",
    "    # vha=va.T\n",
    "\n",
    "    Jsv=np.zeros((2,2))\n",
    "    Jsv[0,0],Jsv[0,1],Jsv[1,0],Jsv[1,1]=JE,JI,JE,JI\n",
    "\n",
    "    return (Am,Jsv,ua,svam,va)\n",
    "\n",
    "\n",
    "\n"
   ]
  },
  {
   "cell_type": "code",
   "execution_count": 280,
   "metadata": {},
   "outputs": [
    {
     "output_type": "stream",
     "name": "stdout",
     "text": [
      "1.2 1.2\n1.2 3.6\n[0.6 0.  0.  0.9]\n"
     ]
    }
   ],
   "source": [
    "# Block Gaussian Random Network\n",
    "# xee,xei,xie,xii=0.3,0.00,0.00,0.4#1.2,1.2,1.8\n",
    "# JE,JI=5.50*xee,6.0*xii\n",
    "xee,xei,xie,xii=0.6,0.00,0.00,0.9#1.2,1.2,1.8\n",
    "JE,JI=2.0*xee,4.0*xii\n",
    "# properties\n",
    "Gamp=np.zeros((2,2))\n",
    "Gamp[0,0],Gamp[0,1],Gamp[1,0],Gamp[1,1]=xee,xei,xie,xii\n",
    "Gamp=Gamp**2\n",
    "eigvG,eigvecG=la.eig(Gamp)\n",
    "Gampnew=eigvecG.T@Gamp@eigvecG\n",
    "J=np.zeros((2,2))\n",
    "J[:,0],J[:,1]=JE,-JI \n",
    "Jnew=eigvecG.T@J@eigvecG\n",
    "# print(Jnew)\n",
    "xee,xei,xie,xii=np.sqrt(Gampnew[0,0]),np.sqrt(Gampnew[0,1]),np.sqrt(Gampnew[1,0]),np.sqrt(Gampnew[1,1])\n",
    "# print(xee,xei,xie,xii,Gampnew)\n",
    "JEE,JIE,JEI,JII=Jnew[0,0],Jnew[1,0],-Jnew[0,1],-Jnew[1,1]\n",
    "\n",
    "\n",
    "# generate random \n",
    "Grand=np.array([xee,0,0,xii])\n",
    "X,Gamp,eigvgmT,eigvecgm,gaverage,ugm,svgm,vgm=generate_localstatsmat(Nparams,Grand)\n",
    "# print(Gamp[0,0],Gamp[1,1])\n",
    "eigvgm=eigvals(eigvgmT)\n",
    "# print(eigvgm)\n",
    "idx = eigvgm.argsort()[::-1]   \n",
    "eigvgm = eigvgm[idx]\n",
    "gradius=np.sqrt(eigvgm[0])\n",
    "# generate mean Am\n",
    "Am,Jsv,ua,svam,va=generate_meanmat(Nparams,JEE,JIE,JEI,JII)\n",
    "print(JEE,JIE)\n",
    "print(JEE,JEI)\n",
    "print(Grand)"
   ]
  },
  {
   "cell_type": "code",
   "execution_count": 281,
   "metadata": {},
   "outputs": [
    {
     "output_type": "stream",
     "name": "stdout",
     "text": [
      "singular value, outliers\n[5.49608188 1.7833232  1.7763632 ]\n[1.78353212 1.7768907  1.77539379]\n"
     ]
    }
   ],
   "source": [
    "Xtotal=X.copy()+Am.copy()\n",
    "# singular decomposition blockage\n",
    "XEEtotal,XEItotal,XIEtotal,XIItotal=Xtotal[:NE,:NE],Xtotal[:NE,NE:],Xtotal[NE:,:NE],Xtotal[NE:,NE:]\n",
    "uxtEE,svxtEE,vhxtEE=la.svd(XEEtotal)\n",
    "vxtEE=vhxtEE.T\n",
    "uxtEI,svxtEI,vhxtEI=la.svd(XEItotal)\n",
    "vxtEI=vhxtEI.T\n",
    "uxtIE,svxtIE,vhxtIE=la.svd(XIEtotal)\n",
    "vxtIE=vhxtIE.T\n",
    "uxtII,svxtII,vhxtII=la.svd(XIItotal)\n",
    "vxtII=vhxtII.T\n",
    "# Combine, total svd decomposition\n",
    "uxt,svxt,vhxt=la.svd(Xtotal)\n",
    "vxt=vhxt.T\n",
    "# decomposition of the noise\n",
    "ux,svx,vhx=la.svd(X)\n",
    "vx=vhx.T\n",
    "# print singular values\n",
    "print('singular value, outliers')\n",
    "print(svxt[:3])\n",
    "print(svx[:3])"
   ]
  },
  {
   "source": [
    "## plot eigenvalues here"
   ],
   "cell_type": "markdown",
   "metadata": {}
  },
  {
   "cell_type": "code",
   "execution_count": 282,
   "metadata": {},
   "outputs": [
    {
     "output_type": "stream",
     "name": "stdout",
     "text": [
      "[[ 1.2 -3.6]\n [ 1.2 -3.6]]\n"
     ]
    }
   ],
   "source": [
    "eigvx,_=la.eig(Xtotal)\n",
    "theta = np.linspace(0, 2 * np.pi, 200)\n",
    "xc = gradius*np.cos(theta)\n",
    "yc = gradius*np.sin(theta)\n",
    "\n",
    "xa = gaverage*np.cos(theta)\n",
    "ya = gaverage*np.sin(theta)\n",
    "\n",
    "tickeig=np.fabs(JE-JI)*1.5\n",
    "ticks = np.linspace(-tickeig,tickeig,3)\n",
    "lims= [-tickeig-0.01,tickeig+0.01]\n",
    "nbins=100\n",
    "fig,ax=plt.subplots(figsize=(6,6))\n",
    "# eigenvalue\n",
    "ax.scatter(np.real(eigvx),np.imag(eigvx),s=2.0,c='blue',alpha=0.5)\n",
    "ax.plot(xc, yc, color=\"darkred\", linewidth=2)\n",
    "ax.plot(xa, ya, color=\"grey\", linewidth=2,linestyle='--')\n",
    "ax.set_xlim(lims)\n",
    "ax.set_ylim(lims)\n",
    "ax.set_xticks(ticks)\n",
    "ax.set_yticks(ticks)\n",
    "ax.set_aspect('equal')\n",
    "ax.set_title(r'$J_{EE},J_{IE}\\ J_{EI},J_{II}=$'+str(format(JEE,'.2f'))+','+str(format(JIE,'.2f'))+','+str(format(JEI,'.2f'))+','+str(format(JII,'.2f'))+'\\n $\\lambda_1=$'+str(format(np.real(gradius),'.2f'))+r', $g_{avg}=$'+str(format(gaverage,'.2f')),fontsize=14)\n",
    "# print(np.sqrt(0.5*JE**2+0.5*JI**2),np.min(np.real(eigvx)),gradius)\n",
    "# print(gaverage**2/svam+svam,svxt[0],gradius**2/svam+svam)\n",
    "print(Jnew)"
   ]
  },
  {
   "cell_type": "code",
   "execution_count": 283,
   "metadata": {},
   "outputs": [
    {
     "output_type": "stream",
     "name": "stdout",
     "text": [
      "eigenvalue\n2.4150429952923855 (-2.4000000000000057+0j)\n"
     ]
    }
   ],
   "source": [
    "# print(Jnew[0,0]/Jnew[1,0],Jnew[0,1]/Jnew[1,1])\n",
    "# print(Jnew[0,0]/Jnew[0,1],Jnew[1,0]/Jnew[1,1])\n",
    "Xtotal=X.copy()+Am.copy()\n",
    "eigvxt,_=la.eig(Xtotal)\n",
    "eigvA,_=la.eig(Am)\n",
    "print('eigenvalue')\n",
    "print(np.max(np.sqrt(np.real(eigvxt)**2+np.imag(eigvxt)**2)),eigvA[0])"
   ]
  },
  {
   "cell_type": "code",
   "execution_count": 284,
   "metadata": {},
   "outputs": [],
   "source": [
    "iid_sv=np.zeros((2,2))\n",
    "iid_sv=np.array([[JEE,JEI],[JIE,JII]])\n",
    "iid_sv[0,0]=iid_sv[0,0]+xee**2/iid_sv[0,0]\n",
    "iid_sv[0,1]=iid_sv[0,1]+xei**2/iid_sv[0,1]\n",
    "iid_sv[1,0]=iid_sv[1,0]+xie**2/iid_sv[1,0]\n",
    "iid_sv[1,1]=iid_sv[1,1]+xii**2/iid_sv[1,1]\n",
    "\n"
   ]
  },
  {
   "cell_type": "code",
   "execution_count": 285,
   "metadata": {},
   "outputs": [],
   "source": [
    "## test EE, EI, IE, II separately\n",
    "iid_mu_u,iid_mu_v ={},{}\n",
    "\n",
    "iid_mu_u['E'],iid_mu_u['I']=np.zeros((2,1)),np.zeros((2,1))\n",
    "iid_mu_v['E'],iid_mu_v['I']=np.zeros((2,1)),np.zeros((2,1))\n",
    "\n",
    "iid_mu_u['E'][0,0],iid_mu_u['E'][1,0]=np.mean(uxtEE[:,0]),np.mean(uxtEI[:,0])\n",
    "iid_mu_u['I'][0,0],iid_mu_u['I'][1,0]=np.mean(uxtIE[:,0]),np.mean(uxtII[:,0])\n",
    "iid_mu_v['E'][0,0],iid_mu_v['E'][1,0]=np.mean(vxtEE[:,0]),np.mean(vxtIE[:,0])\n",
    "iid_mu_v['I'][0,0],iid_mu_v['I'][1,0]=np.mean(vxtEI[:,0]),np.mean(vxtII[:,0])\n",
    "\n",
    "mua,mva = np.zeros((2,1)),np.zeros((2,1))\n",
    "mua[0,0],mua[1,0]=ua[0,0],ua[NE+1,0]\n",
    "mva[0,0],mva[1,0]=va[0,0],va[NE+1,0]\n",
    "\n",
    "iid_noise_u,iid_noise_v ={},{}\n",
    "iid_noise_u['E'],iid_noise_u['I']=np.zeros((NE,2)),np.zeros((NE,2))\n",
    "iid_noise_v['E'],iid_noise_v['I']=np.zeros((NE,2)),np.zeros((NE,2))\n",
    "\n",
    "iid_noise_u['E'][:,0],iid_noise_u['E'][:,1]=(uxtEE[:,0]-iid_mu_u['E'][0,0]),(uxtEI[:,0]-iid_mu_u['E'][1,0])\n",
    "iid_noise_u['I'][:,0],iid_noise_u['I'][:,1]=(uxtIE[:,0]-iid_mu_u['I'][0,0]),(uxtII[:,0]-iid_mu_u['I'][1,0])\n",
    "iid_noise_v['E'][:,0],iid_noise_v['E'][:,1]=(vxtEE[:,0]-iid_mu_v['E'][0,0]),(vxtIE[:,0]-iid_mu_v['E'][1,0])\n",
    "iid_noise_v['I'][:,0],iid_noise_v['I'][:,1]=(vxtEI[:,0]-iid_mu_v['I'][0,0]),(vxtII[:,0]-iid_mu_v['I'][1,0])\n",
    "# std noise iid\n",
    "std_iidn_u =np.zeros((2,2))\n",
    "std_iidn_u[0,0],std_iidn_u[0,1]=np.std(iid_noise_u['E'][:,0])*np.sqrt(NE),np.std(iid_noise_u['E'][:,1])*np.sqrt(NE)\n",
    "std_iidn_u[1,0],std_iidn_u[1,1]=np.std(iid_noise_u['I'][:,0])*np.sqrt(NE),np.std(iid_noise_u['I'][:,1])*np.sqrt(NE)\n",
    "\n",
    "# std noise iid v\n",
    "std_iidn_v =np.zeros((2,2))\n",
    "std_iidn_v[0,0],std_iidn_v[0,1]=np.std(iid_noise_v['E'][:,0])*np.sqrt(NE),np.std(iid_noise_v['E'][:,1])*np.sqrt(NE)\n",
    "std_iidn_v[1,0],std_iidn_v[1,1]=np.std(iid_noise_v['I'][:,0])*np.sqrt(NE),np.std(iid_noise_v['I'][:,1])*np.sqrt(NE)\n",
    "# print(std_iidn_v)\n",
    "\n",
    "mu_u,mu_v=np.zeros((2,1)),np.zeros((2,1))\n",
    "mu_u[0,0],mu_u[1,0]=np.mean(uxt[:NE,0]),np.mean(uxt[NE:,0])\n",
    "mu_v[0,0],mu_v[1,0]=np.mean(vxt[:NE,0]),np.mean(vxt[NE:,0])\n",
    "\n",
    "## print noise tt\n",
    "noise_u,noise_v=np.zeros((NE,2)),np.zeros((NE,2))\n",
    "noise_u[:,0],noise_u[:,1]=(uxt[:NE,0]-mu_u[0,0]),(uxt[NE:,0]-mu_u[1,0])\n",
    "noise_v[:,0],noise_v[:,1]=(vxt[:NE,0]-mu_v[0,0]),(vxt[NE:,0]-mu_v[1,0])\n",
    "\n",
    "# std noise total\n",
    "std_noise_u =np.zeros((2,1))\n",
    "std_noise_u[0,0],std_noise_u[1,0]=np.std(noise_u[:,0])*np.sqrt(NE),np.std(noise_u[:,1])*np.sqrt(NE)\n",
    "std_noise_v =np.zeros((2,1))\n",
    "std_noise_v[0,0],std_noise_v[1,0]=np.std(noise_v[:,0])*np.sqrt(NE),np.std(noise_v[:,1])*np.sqrt(NE)\n"
   ]
  },
  {
   "source": [
    "## testing the simplest version"
   ],
   "cell_type": "markdown",
   "metadata": {}
  },
  {
   "cell_type": "code",
   "execution_count": 286,
   "metadata": {},
   "outputs": [
    {
     "output_type": "stream",
     "name": "stdout",
     "text": [
      "5.496081877580375 5.475571459902632 (5.4888201626693185+0j)\ntest noise: 0.015811388300841896 0.015592690752250275\ntest noise: 0.007905694150420948 0.007845864245236187\ntest noise: 0.0 3.816121903885924e-17\ntest noise: 0.0 2.522266840508172e-17\n"
     ]
    }
   ],
   "source": [
    "tavgsv=svam+gaverage**2/svam\n",
    "tmaxgsv=svam+eigvgm[0]**2/svam\n",
    "print(svxt[0],tavgsv,tmaxgsv)\n",
    "print('test noise:',xee/JE/np.sqrt(NE),np.std(iid_noise_u['E'][:,0]))\n",
    "print('test noise:',xii/JI/np.sqrt(NE),np.std(iid_noise_u['I'][:,1]))\n",
    "\n",
    "print('test noise:',xie/JE/np.sqrt(NE),np.std(iid_noise_u['I'][:,0]))\n",
    "print('test noise:',xei/JI/np.sqrt(NE),np.std(iid_noise_u['E'][:,1]))"
   ]
  },
  {
   "source": [
    "## the complete version"
   ],
   "cell_type": "markdown",
   "metadata": {}
  },
  {
   "cell_type": "code",
   "execution_count": 235,
   "metadata": {},
   "outputs": [
    {
     "output_type": "stream",
     "name": "stdout",
     "text": [
      "3.294058721724986 3.2068980555809428 (3.286969644749247+0j)\ntest noise: 0.013176156917368249 0.013287511457596215\ntest noise: 0.013176156917368247 0.013394070645064671\ntest noise: 0.0 1.8663941392430391e-16\ntest noise: 0.0 1.8663906552913327e-16\n"
     ]
    }
   ],
   "source": [
    "tavgsv=svam+gaverage**2/svam\n",
    "tmaxgsv=svam+eigvgm[0]**2/svam\n",
    "print(svxt[0],tavgsv,tmaxgsv)\n",
    "print('test noise:',xee/JEE/np.sqrt(NE),np.std(iid_noise_u['E'][:,0]))\n",
    "print('test noise:',xii/JII/np.sqrt(NE),np.std(iid_noise_u['I'][:,1]))\n",
    "\n",
    "print('test noise:',xie/JIE/np.sqrt(NE),np.std(iid_noise_u['I'][:,0]))\n",
    "print('test noise:',xei/JEI/np.sqrt(NE),np.std(iid_noise_u['E'][:,1]))"
   ]
  },
  {
   "source": [
    "## integrate all iid noise base and tilde noise base"
   ],
   "cell_type": "markdown",
   "metadata": {}
  },
  {
   "cell_type": "code",
   "execution_count": 287,
   "metadata": {},
   "outputs": [],
   "source": [
    "# u base\n",
    "unoisebase=np.zeros((NE,4))\n",
    "unoisebase[:,0]=iid_noise_u['E'][:,0]/std_iidn_u[0,0]\n",
    "unoisebase[:,3]=iid_noise_u['I'][:,1]/std_iidn_u[1,1]\n",
    "\n",
    "# v base\n",
    "vnoisebase=np.zeros((NE,4))\n",
    "vnoisebase[:,0]=iid_noise_v['E'][:,0]/std_iidn_v[0,0]\n",
    "vnoisebase[:,3]=iid_noise_v['I'][:,1]/std_iidn_v[1,1]\n",
    "\n",
    "# # u base\n",
    "# unoisebase=np.zeros((NE,4))\n",
    "# unoisebase[:,0]=iid_noise_u['E'][:,0]/std_iidn_u[0,0]\n",
    "# unoisebase[:,1]=iid_noise_u['E'][:,1]/std_iidn_u[0,1]#*0\n",
    "# unoisebase[:,3]=iid_noise_u['I'][:,1]/std_iidn_u[1,1]\n",
    "\n",
    "# # v base\n",
    "# vnoisebase=np.zeros((NE,4))\n",
    "# vnoisebase[:,0]=iid_noise_v['E'][:,0]/std_iidn_v[0,0]\n",
    "# vnoisebase[:,2]=iid_noise_v['I'][:,0]/std_iidn_v[1,0]#*0\n",
    "# vnoisebase[:,3]=iid_noise_v['I'][:,1]/std_iidn_v[1,1]\n",
    "\n",
    "# # u base\n",
    "# unoisebase=np.zeros((NE,4))\n",
    "# unoisebase[:,0]=iid_noise_u['E'][:,0]/std_iidn_u[0,0]\n",
    "# unoisebase[:,1]=iid_noise_u['E'][:,1]/std_iidn_u[0,1]#*0\n",
    "# unoisebase[:,2]=iid_noise_u['I'][:,0]/std_iidn_u[1,0]#*0\n",
    "# unoisebase[:,3]=iid_noise_u['I'][:,1]/std_iidn_u[1,1]\n",
    "\n",
    "# # v base\n",
    "# vnoisebase=np.zeros((NE,4))\n",
    "# vnoisebase[:,0]=iid_noise_v['E'][:,0]/std_iidn_v[0,0]\n",
    "# vnoisebase[:,1]=iid_noise_v['E'][:,1]/std_iidn_v[0,1]#*0\n",
    "# vnoisebase[:,2]=iid_noise_v['I'][:,0]/std_iidn_v[1,0]#*0\n",
    "# vnoisebase[:,3]=iid_noise_v['I'][:,1]/std_iidn_v[1,1]"
   ]
  },
  {
   "cell_type": "code",
   "execution_count": 288,
   "metadata": {},
   "outputs": [
    {
     "output_type": "stream",
     "name": "stdout",
     "text": [
      "tu in u\n[[ 0.94920976  0.          0.         -0.03567115]\n [-0.01965047  0.          0.          0.99208637]]\ntv in v\n[[0.89618607 0.         0.         0.01577834]\n [0.02551144 0.         0.         0.99920081]]\n-------------\n[[-0.00505826  0.          0.          0.03699317]\n [-0.01108102  0.          0.         -0.03578757]]\n[[-0.03551244  0.          0.          0.0184787 ]\n [ 0.03017059  0.          0.         -0.03715089]]\n"
     ]
    }
   ],
   "source": [
    "# creat noise base 2\n",
    "\n",
    "noise_u_norm=noise_u.copy()\n",
    "for i in range(2):\n",
    "    noise_u_norm[:,i]/=std_noise_u[i,0]\n",
    "noise_v_norm=noise_v.copy()\n",
    "for i in range(2):\n",
    "    noise_v_norm[:,i]/=std_noise_v[i,0]\n",
    "\n",
    "# tilde noise uEI-vEI\n",
    "tilde_noise = np.zeros((NE,4))\n",
    "tilde_noise[:,:2]=noise_u_norm.copy()\n",
    "tilde_noise[:,2:]=noise_v_norm.copy()\n",
    "\n",
    "iid_noise = np.zeros((NE,8))\n",
    "iid_noise[:,:4]=unoisebase.copy()\n",
    "iid_noise[:,4:]=vnoisebase.copy()\n",
    "\n",
    "# u noise correlation\n",
    "# utildeU\n",
    "unoisecov = np.zeros((2,4))\n",
    "unoisecov = noise_u_norm.T@unoisebase\n",
    "uvbasecov=noise_u_norm.T@vnoisebase\n",
    "# utildeV\n",
    "vnoisecov = np.zeros((2,4))\n",
    "vnoisecov = noise_v_norm.T@vnoisebase\n",
    "vubasecov=noise_v_norm.T@unoisebase\n",
    "\n",
    "# PLOT FIGURE\n",
    "# total overlap rho\n",
    "noise_rho=tilde_noise.T@iid_noise\n",
    "# print(noise_rho)\n",
    "plt.figure()\n",
    "plt.imshow(noise_rho**2,cmap='jet')\n",
    "plt.clim([0.0,1.5])\n",
    "plt.colorbar()\n",
    "iid_noise_cov=iid_noise.T@iid_noise\n",
    "# print(iid_noise_cov)\n",
    "plt.figure()\n",
    "plt.imshow(iid_noise_cov,cmap='jet')\n",
    "plt.clim([0.0,1.5])\n",
    "plt.colorbar()\n",
    "\n",
    "# alphas are for u, the left singular vectors\n",
    "alphau = np.zeros((2,2))\n",
    "alphau[0,0]=np.sum(iid_noise_u['E'][:,0]*noise_u[:,0])/np.sum(iid_noise_u['E'][:,0]*iid_noise_u['E'][:,0]) # alphau--u^E_EE,\n",
    "alphau[1,1]=np.sum(iid_noise_u['I'][:,1]*noise_u[:,1])/np.sum(iid_noise_u['I'][:,1]*iid_noise_u['I'][:,1]) # alphau--u^I_II,\n",
    "alphau[0,1]=np.sum(iid_noise_u['E'][:,1]*noise_u[:,0])/np.sum(iid_noise_u['E'][:,1]*iid_noise_u['E'][:,1]) # alphau--u^E_EI,\n",
    "alphau[1,0]=np.sum(iid_noise_u['I'][:,0]*noise_u[:,1])/np.sum(iid_noise_u['I'][:,0]*iid_noise_u['I'][:,0]) # alphau--u^I_IE\n",
    "# alphau*=2.0\n",
    "\n",
    "# betas are for v, the right singular vectors\n",
    "betav = np.zeros((2,2))\n",
    "betav[0,0]=np.sum(iid_noise_v['E'][:,0]*noise_v[:,0])/np.sum(iid_noise_v['E'][:,0]*iid_noise_v['E'][:,0]) # alphau0--v^E_EE, 1-SQUARE v^E_IE\n",
    "betav[1,1]=np.sum(iid_noise_v['I'][:,1]*noise_v[:,1])/np.sum(iid_noise_v['I'][:,1]*iid_noise_v['I'][:,1]) # alphau0--v^I_II, 1-SQUARE V^I_EI\n",
    "betav[0,1]=np.sum(iid_noise_v['E'][:,1]*noise_v[:,0])/np.sum(iid_noise_v['E'][:,1]*iid_noise_v['E'][:,1]) # alphau0--v^E_EE, 1-SQUARE v^E_IE\n",
    "betav[1,0]=np.sum(iid_noise_v['I'][:,0]*noise_v[:,1])/np.sum(iid_noise_v['I'][:,0]*iid_noise_v['I'][:,0]) # alphau0--v^I_II, 1-SQUARE V^I_EI\n",
    "# betav*=2.0\n",
    "\n",
    "# for i in range(2):\n",
    "#     if alphau[i,0]>1.0:\n",
    "#         alphau[i,0]=1.0\n",
    "#     if betav[i,0]>1.0:\n",
    "#         betav[i,0]=1.0\n",
    "\n",
    "print('tu in u')\n",
    "print(unoisecov)\n",
    "print('tv in v')\n",
    "print(vnoisecov)\n",
    "print('-------------')\n",
    "print(uvbasecov)\n",
    "print(vubasecov)"
   ]
  },
  {
   "cell_type": "code",
   "execution_count": 289,
   "metadata": {},
   "outputs": [
    {
     "output_type": "stream",
     "name": "stdout",
     "text": [
      "(0.4444444444444444+0j)\n0.4261561559553134\n0.37702719456679085\n"
     ]
    }
   ],
   "source": [
    "print(eigvgm[1]/eigvgm[0])\n",
    "print(alphau[0,0]*(xee/JEE)**2*JEE/(alphau[1,1]*(xii/JII)**2*JIE))\n",
    "print(betav[0,0]*(xee/JEE)**2*JEE/(betav[1,1]*(xii/JII)**2*JEI))"
   ]
  },
  {
   "source": [
    "## check the mean part"
   ],
   "cell_type": "markdown",
   "metadata": {}
  },
  {
   "cell_type": "code",
   "execution_count": 291,
   "metadata": {},
   "outputs": [
    {
     "output_type": "stream",
     "name": "stdout",
     "text": [
      "0.7961848480277227 1.104977814956972\n0.7255817707097814 4.993179926323558\n-0.3307703445305341\nJE/JI 0.3333333333333333\n"
     ]
    }
   ],
   "source": [
    "# print('num mean values:')\n",
    "# print(mu_u)\n",
    "# print(mu_v)\n",
    "# theo\n",
    "# print(mu_u[0,0]*np.sqrt(NE))\n",
    "print(mu_u[0,0]/iid_mu_u['E'][0,0],std_noise_u[0,0]*np.sqrt(NE))\n",
    "# print(mu_u[1,0]*np.sqrt(NE))\n",
    "print(mu_u[1,0]/iid_mu_u['I'][1,0],std_noise_u[1,0]*np.sqrt(NE))\n",
    "\n",
    "print(mu_v[0,0]/mu_v[1,0])\n",
    "print('JE/JI',JEE/JII)\n",
    "print('JE/JI',JEE/JII)\n",
    "# print(iid_mu_v['E'],1/np.sqrt(NE))\n",
    "# print(mu_v[1,0])\n",
    "# print(iid_mu_v['I'],1/np.sqrt(NE))"
   ]
  },
  {
   "source": [
    "## check noise components rotation"
   ],
   "cell_type": "markdown",
   "metadata": {}
  },
  {
   "cell_type": "code",
   "execution_count": 158,
   "metadata": {},
   "outputs": [],
   "source": [
    "stduE=eigvecG[0,0]**2*std_noise_u[0,0]**2+eigvecG[1,0]**2*std_noise_u[1,0]**2\n",
    "stduE=np.sqrt(stduE)\n",
    "stduI=eigvecG[0,1]**2*std_noise_u[0,0]**2+eigvecG[1,1]**2*std_noise_u[1,0]**2\n",
    "stduI=np.sqrt(stduI)\n",
    "\n",
    "stdvE=eigvecG[0,0]**2*std_noise_v[0,0]**2+eigvecG[1,0]**2*std_noise_v[1,0]**2\n",
    "stdvE=np.sqrt(stdvE)\n",
    "stdvI=eigvecG[0,1]**2*std_noise_v[0,0]**2+eigvecG[1,1]**2*std_noise_v[1,0]**2\n",
    "stdvI=np.sqrt(stdvI)"
   ]
  },
  {
   "cell_type": "code",
   "execution_count": 169,
   "metadata": {},
   "outputs": [],
   "source": [
    "# noise_u_org,noise_v_org = eigvecG@noise_u.T,eigvecG@noise_v.T\n",
    "# noise_u_org=noise_u_org.T\n",
    "# noise_v_org=noise_v_org.T"
   ]
  },
  {
   "cell_type": "code",
   "execution_count": 159,
   "metadata": {},
   "outputs": [],
   "source": [
    "noise_u_org,noise_v_org = np.zeros((NE,2)),np.zeros((NE,2))\n",
    "noise_u_org[:,0],noise_u_org[:,1]=stduE*np.random.randn(NE)/np.sqrt(NE),stduI*np.random.randn(NE)/np.sqrt(NE)\n",
    "noise_v_org[:,0],noise_v_org[:,1]=stdvE*np.random.randn(NE)/np.sqrt(NE),stdvI*np.random.randn(NE)/np.sqrt(NE)"
   ]
  },
  {
   "cell_type": "code",
   "execution_count": 160,
   "metadata": {},
   "outputs": [
    {
     "output_type": "execute_result",
     "data": {
      "text/plain": [
       "[<matplotlib.axis.YTick at 0x7ff77aa1f310>,\n",
       " <matplotlib.axis.YTick at 0x7ff78d0e0190>,\n",
       " <matplotlib.axis.YTick at 0x7ff77abb4fd0>]"
      ]
     },
     "metadata": {},
     "execution_count": 160
    }
   ],
   "source": [
    "# before rotation\n",
    "ticks = np.linspace(-0.50,0.50,3)\n",
    "lims= [-.61,.61]\n",
    "fig,ax=plt.subplots(4,4,figsize=(9,9))\n",
    "for i in range(2):\n",
    "    for j in range(2):\n",
    "        # ax[i][j].scatter(noise_u[:,j]*np.sqrt(NE),noise_u[:,i]*np.sqrt(NE),s=5.0,c='blue',alpha=0.1)\n",
    "        ax[i][j].scatter(noise_u_org[:,j]*np.sqrt(NE),noise_u_org[:,i]*np.sqrt(NE),s=5.0,c='blue',alpha=0.1)\n",
    "    for j in range(2):\n",
    "        # ax[2+i][2+j].scatter(noise_v[:,j]*np.sqrt(NE),noise_v[:,i]*np.sqrt(NE),s=5.0,c='blue',alpha=0.1)\n",
    "        ax[2+i][2+j].scatter(noise_v_org[:,j]*np.sqrt(NE),noise_v_org[:,i]*np.sqrt(NE),s=5.0,c='blue',alpha=0.1)\n",
    "for i in range(2):\n",
    "    for j in range(2):\n",
    "        # ax[i][2+j].scatter(noise_v[:,j]*np.sqrt(NE),noise_u[:,i]*np.sqrt(NE),s=5.0,c='blue',alpha=0.1)\n",
    "        ax[i][2+j].scatter(noise_v_org[:,j]*np.sqrt(NE),noise_u_org[:,i]*np.sqrt(NE),s=5.0,c='blue',alpha=0.1)\n",
    "for i in range(2):\n",
    "    for j in range(2):\n",
    "        # ax[2+i][j].scatter(noise_u[:,j]*np.sqrt(NE),noise_v[:,i]*np.sqrt(NE),s=5.0,c='blue',alpha=0.1)\n",
    "        ax[2+i][j].scatter(noise_u_org[:,j]*np.sqrt(NE),noise_v_org[:,i]*np.sqrt(NE),s=5.0,c='blue',alpha=0.1)\n",
    "for i in range(4):\n",
    "    for j in range(4):\n",
    "        ax[i][j].set_xlim(lims)\n",
    "        ax[i][j].set_ylim(lims)\n",
    "        ax[i][j].set_xticks(ticks)\n",
    "        ax[i][j].set_yticks(ticks)\n",
    "        ax[i][j].set_aspect('equal')\n",
    "        ax[i][j].grid()\n",
    "\n",
    "# for i in range(4):\n",
    "#     for j in range(4):\n",
    "#         ax[i][j].set_xlim(lims)\n",
    "#         ax[i][j].set_ylim(lims)\n",
    "#         ax[i][j].set_xticks([])#ticks)\n",
    "#         ax[i][j].set_yticks([])#ticks)\n",
    "#         ax[i][j].set_aspect('equal')\n",
    "#         ax[i][j].grid()\n",
    "ax[0][3].set_xticks(ticks)\n",
    "ax[0][3].set_yticks(ticks)\n",
    "ax[3][0].set_xticks(ticks)\n",
    "ax[3][0].set_yticks(ticks)\n",
    "ax[0][1].set_xticks(ticks)\n",
    "ax[0][1].set_yticks(ticks)\n",
    "ax[1][0].set_xticks(ticks)\n",
    "ax[1][0].set_yticks(ticks)"
   ]
  },
  {
   "source": [
    "## check the overlap matrix in random/noise components"
   ],
   "cell_type": "markdown",
   "metadata": {}
  },
  {
   "cell_type": "code",
   "execution_count": 161,
   "metadata": {},
   "outputs": [],
   "source": [
    "## zetau/vEI  prime\n",
    "# Block Gaussian Random Network\n",
    "xee,xei,xie,xii=0.9,0.00,0.00,0.6#1.2,1.2,1.8\n",
    "JE,JI=3.0*xee,2.10*xii\n",
    "JEE,JIE,JEI,JII=JE,JE,JI,JI\n",
    "\n",
    "# print(JEE,JIE)\n",
    "# print(JEE,JEI)\n",
    "# JEE,JIE=1.749964713956438,3.269838978111829\n",
    "# JEE,JEI=1.749964713956438,1.9801610218881713\n",
    "# xee,xei,xie,xii=0.25049989, 0.,         0. ,        0.62229399\n",
    "\n",
    "# generate random \n",
    "Grand=np.array([xee,xei,xie,xii])\n",
    "X,Gamp,eigvgmT,eigvecgm,gaverage,ugm,svgm,vgm=generate_localstatsmat(Nparams,Grand)\n",
    "eigvgm=eigvals(eigvgmT)\n",
    "idx = eigvgm.argsort()[::-1]   \n",
    "eigvgm = eigvgm[idx]\n",
    "gradius=np.sqrt(eigvgm[0])\n",
    "# generate mean Am\n",
    "Am,Jsv,ua,svam,va=generate_meanmat(Nparams,JEE,JIE,JEI,JII)\n",
    "Xtotal=X.copy()+Am.copy()\n",
    "# Combine, total svd decomposition\n",
    "uxt,svxt,vhxt=la.svd(Xtotal)\n",
    "vxt=vhxt.T\n"
   ]
  },
  {
   "cell_type": "code",
   "execution_count": 162,
   "metadata": {},
   "outputs": [],
   "source": [
    "IDX=0\n",
    "noise_u_,noise_v_=np.zeros((NE,2)),np.zeros((NE,2))\n",
    "noise_u_[:,0]= uxt[:NE,IDX]-np.mean(uxt[:NE,IDX])\n",
    "noise_u_[:,1]= uxt[NE:,IDX]-np.mean(uxt[NE:,IDX])\n",
    "noise_v_[:,0]= vxt[:NE,IDX]-np.mean(vxt[:NE,IDX])\n",
    "noise_v_[:,1]= vxt[NE:,IDX]-np.mean(vxt[NE:,IDX])"
   ]
  },
  {
   "cell_type": "code",
   "execution_count": 176,
   "metadata": {},
   "outputs": [
    {
     "output_type": "stream",
     "name": "stdout",
     "text": [
      "[[-0.02931933 -0.04310275]\n [-0.06672983  0.00274242]]\n[[ 0.01713054  0.02448348]\n [ 0.03106086 -0.00031125]]\n"
     ]
    }
   ],
   "source": [
    "print(noise_u_.T@noise_v_*NE)\n",
    "print(noise_u.T@noise_v*NE)"
   ]
  },
  {
   "cell_type": "code",
   "execution_count": 163,
   "metadata": {},
   "outputs": [
    {
     "output_type": "execute_result",
     "data": {
      "text/plain": [
       "[<matplotlib.axis.YTick at 0x7ff77aa1f310>,\n",
       " <matplotlib.axis.YTick at 0x7ff78d0e0190>,\n",
       " <matplotlib.axis.YTick at 0x7ff77abb4fd0>]"
      ]
     },
     "metadata": {},
     "execution_count": 163
    }
   ],
   "source": [
    "# # before rotation\n",
    "# ticks = np.linspace(-0.40,0.40,5)\n",
    "# lims= [-.41,.41]\n",
    "# fig,ax=plt.subplots(4,4,figsize=(9,9))\n",
    "cl='m'\n",
    "for i in range(2):\n",
    "    for j in range(2):\n",
    "        # ax[i][j].scatter(noise_u_org[:,i]*np.sqrt(NE),noise_u_org[:,j]*np.sqrt(NE),s=5.0,c='red',alpha=0.05)\n",
    "        ax[i][j].scatter(noise_u_[:,j]*np.sqrt(NE),noise_u_[:,i]*np.sqrt(NE),s=5.0,c=cl,alpha=0.1)\n",
    "for i in range(2):\n",
    "    for j in range(2):\n",
    "        # ax[2+i][2+j].scatter(noise_v_org[:,i]*np.sqrt(NE),noise_v_org[:,j]*np.sqrt(NE),s=5.0,c='red',alpha=0.05)\n",
    "        ax[2+i][2+j].scatter(noise_v_[:,j]*np.sqrt(NE),noise_v_[:,i]*np.sqrt(NE),s=5.0,c=cl,alpha=0.1)\n",
    "for i in range(2):\n",
    "    for j in range(2):\n",
    "        # ax[i][2+j].scatter(noise_u_org[:,i]*np.sqrt(NE),noise_v_org[:,j]*np.sqrt(NE),s=5.0,c='red',alpha=0.05)\n",
    "        ax[i][2+j].scatter(noise_v_[:,j]*np.sqrt(NE),noise_u_[:,i]*np.sqrt(NE),s=5.0,c=cl,alpha=0.1)\n",
    "for i in range(2):\n",
    "    for j in range(2):\n",
    "        # ax[2+i][j].scatter(noise_v_org[:,i]*np.sqrt(NE),noise_u_org[:,j]*np.sqrt(NE),s=5.0,c='red',alpha=0.05)\n",
    "        ax[2+i][j].scatter(noise_u_[:,j]*np.sqrt(NE),noise_v_[:,i]*np.sqrt(NE),s=5.0,c=cl,alpha=0.1)\n",
    "for i in range(4):\n",
    "    for j in range(4):\n",
    "        ax[i][j].set_xlim(lims)\n",
    "        ax[i][j].set_ylim(lims)\n",
    "        ax[i][j].set_xticks(ticks)\n",
    "        ax[i][j].set_yticks(ticks)\n",
    "        ax[i][j].set_aspect('equal')\n",
    "        ax[i][j].grid()\n",
    "# for i in range(4):\n",
    "#     for j in range(4):\n",
    "#         ax[i][j].set_xlim(lims)\n",
    "#         ax[i][j].set_ylim(lims)\n",
    "#         ax[i][j].set_xticks([])#ticks)\n",
    "#         ax[i][j].set_yticks([])#ticks)\n",
    "#         ax[i][j].set_aspect('equal')\n",
    "#         ax[i][j].grid()\n",
    "ax[0][3].set_xticks(ticks)\n",
    "ax[0][3].set_yticks(ticks)\n",
    "ax[3][0].set_xticks(ticks)\n",
    "ax[3][0].set_yticks(ticks)\n",
    "ax[0][1].set_xticks(ticks)\n",
    "ax[0][1].set_yticks(ticks)\n",
    "ax[1][0].set_xticks(ticks)\n",
    "ax[1][0].set_yticks(ticks)"
   ]
  },
  {
   "cell_type": "code",
   "execution_count": 164,
   "metadata": {},
   "outputs": [],
   "source": [
    "std_noise_u_theo=np.zeros_like(std_noise_u)\n",
    "std_noise_v_theo=np.zeros_like(std_noise_u)\n",
    "std_noise_u_num=np.zeros_like(std_noise_u)\n",
    "std_noise_v_num=np.zeros_like(std_noise_u)\n",
    "\n",
    "for i in range(2):\n",
    "    std_noise_u_theo[i,0]=np.std(noise_u_org[:,i])\n",
    "    std_noise_v_theo[i,0]=np.std(noise_v_org[:,i])\n",
    "    std_noise_u_num[i,0]=np.std(noise_u_[:,i])\n",
    "    std_noise_v_num[i,0]=np.std(noise_v_[:,i])"
   ]
  },
  {
   "cell_type": "code",
   "execution_count": 165,
   "metadata": {},
   "outputs": [
    {
     "output_type": "stream",
     "name": "stdout",
     "text": [
      "[[0.00642317]\n [0.00185247]]\n[[0.00617121]\n [0.00183498]]\n[[0.00526874]\n [0.00309774]]\n[[0.0047646 ]\n [0.00312195]]\n[[0.03384202 0.01989732]\n [0.00976018 0.00573847]]\n[[0.02940337 0.01926622]\n [0.00874294 0.00572871]]\n[0.9 0.  0.  0.6]\n"
     ]
    }
   ],
   "source": [
    "print(std_noise_u_theo)\n",
    "print(std_noise_u_num)\n",
    "\n",
    "print(std_noise_v_theo)\n",
    "print(std_noise_v_num)\n",
    "\n",
    "print(np.reshape(std_noise_u_theo,(2,1))@np.reshape(std_noise_v_theo,(1,2))*NE)\n",
    "print(np.reshape(std_noise_u_num,(2,1))@np.reshape(std_noise_v_num,(1,2))*NE)\n",
    "print(Grand)"
   ]
  },
  {
   "cell_type": "code",
   "execution_count": 1738,
   "metadata": {},
   "outputs": [
    {
     "output_type": "execute_result",
     "data": {
      "text/plain": [
       "<matplotlib.collections.PathCollection at 0x7fe2487277f0>"
      ]
     },
     "metadata": {},
     "execution_count": 1738
    }
   ],
   "source": [
    "ticks = np.linspace(-3.0,3.0,5)\n",
    "lims= [-3.1,3.1]\n",
    "nbins=100\n",
    "fig,ax=plt.subplots(1,2,figsize=(10,4.5))\n",
    "# eigenvalue\n",
    "ax[0].scatter(uxt[:NE,0],vxt[:NE,0],s=15.0,c='blue',alpha=0.5)\n",
    "ax[0].scatter(utilde_rec[:,0],vtilde_rec[:,0],s=15.0,c='red',alpha=0.5)\n",
    "ax[1].scatter(uxt[NE:,0],vxt[NE:,0],s=15.0,c='blue',alpha=0.5)\n",
    "ax[1].scatter(utilde_rec[:,1],vtilde_rec[:,1],s=15.0,c='red',alpha=0.5)\n",
    "\n",
    "fig,ax=plt.subplots(1,2,figsize=(10,4.5))\n",
    "# eigenvalue\n",
    "ax[0].scatter(uxt[:NE,0],vxt[:NE,0],s=15.0,c='blue',alpha=0.5)\n",
    "ax[1].scatter(utilde_rec[:,0],vtilde_rec[:,0],s=15.0,c='blue',alpha=0.5)\n",
    "ax[0].scatter(uxt[NE:,0],vxt[NE:,0],s=15.0,c='red',alpha=0.5)\n",
    "ax[1].scatter(utilde_rec[:,1],vtilde_rec[:,1],s=15.0,c='red',alpha=0.5)"
   ]
  },
  {
   "cell_type": "code",
   "execution_count": 1230,
   "metadata": {},
   "outputs": [
    {
     "output_type": "stream",
     "name": "stdout",
     "text": [
      "2.0 0.0 0.0 1.0\n--------------------\nmean value of u with E type (EE EI):\n[[-0.01803964]\n [-0.03162278]] 0.5704633770780799\nmean UE for total\n0.018973665961010272 0.03162277660168379 0.5999999999999999\nmean value of u with I type (IE II):\n[[-0.03162278]\n [-0.03036734]] 1.0413418318129657\nmean UI for total\n0.03162277660168379 0.030304576336566323 1.0434983894999017\nmean value of v with E type (EE IE):\n[[-0.01804564]\n [-0.03162278]] 0.5706532412385339\nmean VE for total\n0.018973665961010272 0.03162277660168379 0.5999999999999999\nmean value of v with I type (EI II):\n[[0.03162278]\n [0.03034521]] 1.0421010282814995\nmean VI for total\n0.03162277660168379 0.030304576336566323 1.0434983894999017\n"
     ]
    }
   ],
   "source": [
    "print(xee,xei,xie,xii)\n",
    "print('--------------------')\n",
    "print('mean value of u with E type (EE EI):')\n",
    "print(iid_mu_u['E'],iid_mu_u['E'][0,0]/iid_mu_u['E'][1,0])\n",
    "print('mean UE for total')\n",
    "print(np.sqrt(1-(xee/JE)**2)/np.sqrt(NE),np.sqrt(1-(xei/JI)**2)/np.sqrt(NE),(np.sqrt(1-(xee/JE)**2)/np.sqrt(1-(xei/JI)**2)))\n",
    "\n",
    "print('mean value of u with I type (IE II):')\n",
    "print(iid_mu_u['I'],iid_mu_u['I'][0,0]/iid_mu_u['I'][1,0])\n",
    "print('mean UI for total')\n",
    "print(np.sqrt(1-(xie/JE)**2)/np.sqrt(NE),np.sqrt(1-(xii/JI)**2)/np.sqrt(NE),(np.sqrt(1-(xie/JE)**2)/np.sqrt(1-(xii/JI)**2)))\n",
    "\n",
    "print('mean value of v with E type (EE IE):')\n",
    "print(iid_mu_v['E'],iid_mu_v['E'][0,0]/iid_mu_v['E'][1,0])\n",
    "print('mean VE for total')\n",
    "print(np.sqrt(1-(xee/JE)**2)/np.sqrt(NE),np.sqrt(1-(xie/JE)**2)/np.sqrt(NE),(np.sqrt(1-(xee/JE)**2)/np.sqrt(1-(xie/JE)**2)))\n",
    "\n",
    "print('mean value of v with I type (EI II):')\n",
    "print(iid_mu_v['I'],iid_mu_v['I'][0,0]/iid_mu_v['I'][1,0])\n",
    "print('mean VI for total')\n",
    "print(np.sqrt(1-(xei/JI)**2)/np.sqrt(NE),np.sqrt(1-(xii/JI)**2)/np.sqrt(NE),(np.sqrt(1-(xei/JI)**2)/np.sqrt(1-(xii/JI)**2)))"
   ]
  },
  {
   "source": [
    "## Figure out parameters"
   ],
   "cell_type": "markdown",
   "metadata": {}
  },
  {
   "cell_type": "code",
   "execution_count": 972,
   "metadata": {},
   "outputs": [],
   "source": [
    "# First Set of Figures\n",
    "# figure, validate results in sharpee's paper\n",
    "# ticks and labels\n",
    "ticks = np.linspace(-2.0,2.0,5)\n",
    "lims= [-2.1,2.1]\n",
    "nbins=100\n",
    "fig,ax=plt.subplots(1,2,figsize=(10,4.5))\n",
    "# eigenvalue\n",
    "ax[0].scatter(np.real(eigvx),np.imag(eigvx),s=2.0,c='blue',alpha=0.5)\n",
    "# ax[0].set_xlim(lims)\n",
    "# ax[0].set_ylim(lims)\n",
    "# ax[0].set_xticks(ticks)\n",
    "# ax[0].set_yticks(ticks)\n",
    "ax[0].set_aspect('equal')"
   ]
  },
  {
   "source": [
    "# focus on eigen decomposition, eigspectrum"
   ],
   "cell_type": "markdown",
   "metadata": {}
  },
  {
   "cell_type": "code",
   "execution_count": 548,
   "metadata": {},
   "outputs": [],
   "source": [
    "def generate_localstatsmat_eig(Nparams,Grand):\n",
    "    '''\n",
    "    Input \n",
    "      Grand 4, gee,gei,gie,gii\n",
    "      Nparams: number of E and I neurons (same)\n",
    "    '''\n",
    "    xee,xei,xie,xii=Grand[0],Grand[1],Grand[2],Grand[3]\n",
    "    NE,NI=Nparams[0],Nparams[1]\n",
    "    N=NE+NI\n",
    "    at = Nt/N   \n",
    "    X=np.zeros((N,N))\n",
    "    X[:NE,:NE],X[NE:,NE:]=np.random.randn(NE,NE),np.random.randn(NE,NE)\n",
    "    X[:NE,NE:],X[NE:,:NE]=np.random.randn(NE,NE),np.random.randn(NE,NE)\n",
    "\n",
    "    X[:NE,:NE],X[NE:,NE:]=xee*X[:NE,:NE]/np.sqrt(NE),xii*X[NE:,NE:]/np.sqrt(NI)\n",
    "    X[:NE,NE:],X[NE:,:NE]=xei*X[:NE,NE:]/np.sqrt(NE),xie*X[NE:,:NE]/np.sqrt(NI)\n",
    "    # eigvx,eigvecx=la.eig(X)\n",
    "    # theoretical M (grandom) matrix \n",
    "    gmat = np.array([[xee**2,xei**2],[xie**2,xii**2]])\n",
    "    # first do not multiply at\n",
    "    gaverage=0\n",
    "    for i in range(2):\n",
    "        for j in range(2):\n",
    "            gaverage+=gmat[i,j]/2 # ntype=2\n",
    "    gaverage=np.sqrt(gaverage)\n",
    "    # for i in range(2):\n",
    "    #     gmat[:,i]*=at[i]\n",
    "    eigvgm,eigvecgm=la.eig(gmat)\n",
    "    # eigvgm_,eigvecgmleft=la.eig(gmat.T)\n",
    "    # eigvgm,eigvecgm=schur(gmat) # schur decomposition\n",
    "    '''\n",
    "    ugm,svgm,vhgm=la.svd(gmat)\n",
    "    vgm=vhgm.T\n",
    "    ngm=vhgm.copy()\n",
    "    ngm=ngm.T \n",
    "    ngm[:,0],ngm[:,1]=svgm[0]*ngm[:,0],svgm[1]*ngm[:,1]\n",
    "    '''\n",
    "\n",
    "    # properties\n",
    "    Gamp=np.zeros((2,2))\n",
    "    Gamp[0,0],Gamp[0,1],Gamp[1,0],Gamp[1,1]=xee,xei,xie,xii\n",
    "\n",
    "    return (X,Gamp,eigvgm,eigvecgm,gaverage)#,ugm,svgm,vgm)\n",
    "\n",
    "def generate_meanmat_eig(Nparams,JEE,JIE,JEI,JII):\n",
    "    # mean value \n",
    "    # first use rank-1 structure\n",
    "    NE,NI=Nparams[0],Nparams[1]\n",
    "    N=NE+NI\n",
    "    at = Nt/N   \n",
    "    Am=np.zeros((N,N))\n",
    "    Am[:NE,:NE],Am[:NE,NE:]=JEE/NE,-JEI/NI\n",
    "    Am[NE:,:NE],Am[NE:,NE:]=JIE/NE,-JII/NI\n",
    "    ua,svam,vha=la.svd(Am)\n",
    "    va=vha.T\n",
    "    svam=svam[0]\n",
    "    ua,va=np.zeros((N,N)),np.zeros((N,N))\n",
    "    # ua[:,0]=1.0/np.sqrt(N)\n",
    "    # va[:NE,0]=JE/np.sqrt(NE)\n",
    "    # va[NE:,0]=-JI/np.sqrt(NI)\n",
    "    # va[:,0]/=-np.linalg.norm(va[:,0])\n",
    "    # svam=np.sqrt(2*(JE**2+JI**2))\n",
    "    # vha=va.T\n",
    "\n",
    "    Jsv=np.zeros((2,2))\n",
    "    Jsv[0,0],Jsv[0,1],Jsv[1,0],Jsv[1,1]=JE,JI,JE,JI\n",
    "\n",
    "    return (Am,Jsv,ua,svam,va)\n",
    "# generate gmat, same gavg\n",
    "def gmatamplitude_eig(gavgfix,typenum):\n",
    "  Amplit = gavgfix*typenum\n",
    "  numsample = typenum**2\n",
    "  Amplitg= np.zeros(numsample)\n",
    "  idxc=0\n",
    "  while (1):\n",
    "    if idxc>=numsample:\n",
    "      Amplitg[numsample-1]=1.0-np.sum(Amplitg[:numsample-1])\n",
    "      break\n",
    "    p=np.random.random(1)\n",
    "    Amplitg[idxc]=np.minimum(p,1.0-np.sum(Amplitg))\n",
    "    if np.sum(Amplitg)>1.0:\n",
    "      continue \n",
    "    elif np.sum(Amplitg)==1.0:\n",
    "      break\n",
    "    else:\n",
    "      idxc +=1\n",
    "      # Amplitg[idxc]=np.min(p,1.0-np.sum(Amplitg))\n",
    "  # Amplitg=0\n",
    "  Amplitg*=Amplit\n",
    "  Amplitg=np.sqrt(Amplitg)\n",
    "  return Amplitg\n",
    "\n"
   ]
  },
  {
   "cell_type": "code",
   "execution_count": 556,
   "metadata": {},
   "outputs": [],
   "source": [
    "Nt=np.array([500,500])\n",
    "NE,NI=Nt[0],Nt[1]\n",
    "Nparams=np.array([NE,NI])\n",
    "JE,JI=1.0,2.5\n",
    "JEE,JIE,JEI,JII=JE,JE,JI,JI\n",
    "# generate mean Am\n",
    "Am,Jsv,ua,svam,va=generate_meanmat_eig(Nparams,JEE,JIE,JEI,JII)\n",
    "eigvoutlier,_=la.eig(Am)\n",
    "eigvorg = eigvoutlier[0]\n",
    "\n",
    "# Xtotal=X.copy()+Am.copy()\n",
    "# # eigen decomposition\n",
    "# eigvxt,eigvecxt=la.eig(Xtotal)"
   ]
  },
  {
   "cell_type": "code",
   "execution_count": 308,
   "metadata": {},
   "outputs": [
    {
     "output_type": "execute_result",
     "data": {
      "text/plain": [
       "Text(0.5, 1.0, '$J_{EE},J_{IE}\\\\ J_{EI},J_{II}=$1.00,1.00,2.50,2.50\\n $\\\\lambda_1=$0.70, $g_{avg}=$1.00')"
      ]
     },
     "metadata": {},
     "execution_count": 308
    }
   ],
   "source": [
    "epochs,maxout=20,NE\n",
    "grandseries,gproperties=np.zeros((epochs,4)),np.zeros((epochs,2))\n",
    "eigvxtseries=np.zeros((epochs,maxout),dtype=complex)\n",
    "mtildeseries,ntildeseries=np.zeros((epochs,NE+NI)),np.zeros((epochs,NE+NI))\n",
    "for i in range(epochs):\n",
    "  grand = gmatamplitude_eig(1,2)\n",
    "  X,Gamp,eigvgmT,eigvecgmright,eigvecgmleft,gaverage=generate_localstatsmat_eig(Nparams,grand)#,ugm,svgm,vgm\n",
    "  # eigvgm=eigvals(eigvgmT) # for schur decomposition\n",
    "  eigvgm=eigvgmT.copy()\n",
    "  # print(eigvgm,gaverage)\n",
    "  idx = eigvgm.argsort()[::-1]   \n",
    "  eigvgm = eigvgm[idx]\n",
    "  gradius=np.sqrt(eigvgm[0])\n",
    "  X,Gamp,eigvgmT,eigvecgm,gaverage=generate_localstatsmat_eig(Nparams,grand)#,ugm,svgm,vgm\n",
    "  # print(Gamp[0,0],Gamp[1,1])\n",
    "  # eigvgm=eigvals(eigvgmT) # for schur decomposition\n",
    "  eigvgm=eigvgmT.copy()\n",
    "  # print(eigvgm,gaverage)\n",
    "  idx = eigvgm.argsort()[::-1]   \n",
    "  eigvgm = eigvgm[idx]\n",
    "  gradius=np.sqrt(eigvgm[0])\n",
    "  # mix together\n",
    "  Xtotal=X.copy()+Am.copy()\n",
    "  # eigen decomposition\n",
    "  eigvxt,eigvecxt=la.eig(Xtotal)\n",
    "  # check the outliers\n",
    "  ampeigvxt = np.sqrt(np.real(eigvxt)**2+np.imag(eigvxt)**2)\n",
    "  outliers = eigvxt[np.where(ampeigvxt>gradius)]\n",
    "  numoutliers = len(outliers)\n",
    "  ## record\n",
    "  eigvxtseries[i,:+numoutliers]=outliers[:]\n",
    "  grandseries[i,:]=grand[:]\n",
    "  gproperties[i,0],gproperties[i,1]=gradius,gaverage\n",
    "  \n",
    "\n",
    "  ## calculate m and n decomposition -- mtilde, ntilde\n",
    "  utilde,svtilde,vhtilde=la.svd(Xtotal)\n",
    "  vtilde=vhtilde.T\n",
    "  mtildeseries[i,:],ntildeseries[i,:]=utilde[:,0],svtilde[0]*vtilde[:,0]\n",
    "\n",
    "theta = np.linspace(0, 2 * np.pi, 200)\n",
    "xc = gradius*np.cos(theta)\n",
    "yc = gradius*np.sin(theta)\n",
    "\n",
    "xa = gaverage*np.cos(theta)\n",
    "ya = gaverage*np.sin(theta)\n",
    "\n",
    "tickeig=np.fabs(JE-JI)*1.5\n",
    "ticks = np.linspace(-tickeig,tickeig,3)\n",
    "lims= [-tickeig-0.01,tickeig+0.01]\n",
    "nbins=100\n",
    "fig,ax=plt.subplots(figsize=(6,6))\n",
    "# eigenvalue\n",
    "ax.scatter(np.real(eigvxt),np.imag(eigvxt),s=2.0,c='blue',alpha=0.5)\n",
    "ax.plot(xc, yc, color=\"darkred\", linewidth=2)\n",
    "ax.plot(xa, ya, color=\"grey\", linewidth=2,linestyle='--')\n",
    "ax.set_xlim(lims)\n",
    "ax.set_ylim(lims)\n",
    "ax.set_xticks(ticks)\n",
    "ax.set_yticks(ticks)\n",
    "ax.set_aspect('equal')\n",
    "ax.set_title(r'$J_{EE},J_{IE}\\ J_{EI},J_{II}=$'+str(format(JEE,'.2f'))+','+str(format(JIE,'.2f'))+','+str(format(JEI,'.2f'))+','+str(format(JII,'.2f'))+'\\n $\\lambda_1=$'+str(format(np.real(gradius),'.2f'))+r', $g_{avg}=$'+str(format(gaverage,'.2f')),fontsize=14)\n",
    "\n"
   ]
  },
  {
   "cell_type": "code",
   "execution_count": 298,
   "metadata": {},
   "outputs": [
    {
     "output_type": "stream",
     "name": "stdout",
     "text": [
      "[0.91544664 0.92689042 0.94362337 1.22833633 1.364302  ]\n"
     ]
    }
   ],
   "source": [
    "## sorting grandseries, the eigenvalues \n",
    "eigenvaluesseries = gproperties[:,0]\n",
    "idxsort = np.argsort(eigenvaluesseries)\n",
    "grandseries,mtildeseries,ntildeseries=grandseries[idxsort],mtildeseries[idxsort,:],ntildeseries[idxsort,:]\n",
    "eigenvaluesseries = eigenvaluesseries[idxsort]\n",
    "print(eigenvaluesseries[:5])"
   ]
  },
  {
   "cell_type": "code",
   "execution_count": 316,
   "metadata": {},
   "outputs": [],
   "source": [
    "nax,nay=3,3\n",
    "fig,ax=plt.subplots(nax,nay,figsize=(12,12))\n",
    "nsample = nax*nay\n",
    "idxsample = np.random.random_integers(epochs-1,size=(nax,nay))\n",
    "eigenvalueschange = np.zeros((nax,nay))\n",
    "# eigenvalue\n",
    "for i in range(nax):\n",
    "    for j in range(nay):\n",
    "        idx = idxsample[i][j]\n",
    "        ax[i][j].scatter(mtildeseries[idx,:NE],ntildeseries[idx,:NE],s=15.0,c='red',alpha=0.5)\n",
    "        ax[i][j].scatter(mtildeseries[idx,NE:],ntildeseries[idx,NE:],s=15.0,c='blue',alpha=0.5)\n",
    "        eigenvalueschange[i,j] = np.sum(mtildeseries[idx,:]*ntildeseries[idx,:])\n",
    "        ax[i][j].set_title(r'$\\tilde{m}^{\\intercal}\\tilde{n}=$'+str(format(eigenvalueschange[i,j],'.2f')))\n",
    "# ax[0].scatter(mtildeseries[idx0,:NE],ntildeseries[idx0,:NE],s=15.0,c='red',alpha=0.5)\n",
    "# ax[0].scatter(mtildeseries[idx0,NE:],ntildeseries[idx0,NE:],s=15.0,c='blue',alpha=0.5)\n",
    "# ax[1].scatter(mtildeseries[idx1,:NE],ntildeseries[idx1,:NE],s=15.0,c='red',alpha=0.5)\n",
    "# ax[1].scatter(mtildeseries[idx1,NE:],ntildeseries[idx1,NE:],s=15.0,c='blue',alpha=0.5)\n",
    "for i in range(nax):\n",
    "    for j in range(nay):\n",
    "        ax[i][j].set_xlim([-0.3,0.3])\n",
    "        ax[i][j].set_ylim([-0.3,0.3])\n",
    "        # ax[i].set_xticks(ticks)\n",
    "        # ax[i].set_yticks(ticks)\n",
    "        ax[i][j].set_aspect('equal')\n",
    "\n"
   ]
  },
  {
   "source": [
    "## change because of the correlation"
   ],
   "cell_type": "markdown",
   "metadata": {}
  },
  {
   "cell_type": "code",
   "execution_count": 687,
   "metadata": {},
   "outputs": [
    {
     "output_type": "stream",
     "name": "stdout",
     "text": [
      "lambda: (-1.5327467293651589+0j) (-1.4999999999999936+0j)\n[[0. 0.]\n [0. 1.]]\ngrand [0.39739306 0.1274547  0.96346875 0.31234919]\n[0.25419443 0.00128883]\n[0.25419443 0.00128883]\n"
     ]
    }
   ],
   "source": [
    "Nt=np.array([1000,1000])\n",
    "NE,NI=Nt[0],Nt[1]\n",
    "Nparams=np.array([NE,NI])\n",
    "JE,JI=1.0,2.5\n",
    "JEE,JIE,JEI,JII=JE,JE,JI,JI\n",
    "# generate mean Am\n",
    "Am,Jsv,ua,svam,va=generate_meanmat_eig(Nparams,JEE,JIE,JEI,JII)\n",
    "eigvoutlier,_=la.eig(Am)\n",
    "eigvorg = eigvoutlier[0]\n",
    "\n",
    "epochs,maxout=1,NE\n",
    "grandseries,gproperties=np.zeros((epochs,4)),np.zeros((epochs,2))\n",
    "eigvxtseries=np.zeros((epochs,maxout),dtype=complex)\n",
    "mtildeseries,ntildeseries=np.zeros((epochs,NE+NI)),np.zeros((epochs,NE+NI))\n",
    "while(1):\n",
    "    grand = gmatamplitude_eig(0.6,2)\n",
    "    idxeff = np.where(grand>0)\n",
    "    if (np.shape(idxeff)[1]>3):\n",
    "        np.random.shuffle(grand)\n",
    "        break\n",
    "X,Gamp,eigvgmT,eigvecgm,gaverage=generate_localstatsmat_eig(Nparams,grand)#,ugm,svgm,vgm\n",
    "# eigvgm=eigvals(eigvgmT) # for schur decomposition\n",
    "eigvgm=eigvgmT.copy()\n",
    "# print(eigvgm,gaverage)\n",
    "idx = eigvgm.argsort()[::-1]   \n",
    "eigvgm = eigvgm[idx]\n",
    "gradius=np.sqrt(eigvgm[0])\n",
    "X,Gamp,eigvgmT,eigvecgm,gaverage=generate_localstatsmat_eig(Nparams,grand)#,ugm,svgm,vgm\n",
    "# print(Gamp[0,0],Gamp[1,1])\n",
    "# eigvgm=eigvals(eigvgmT) # for schur decomposition\n",
    "eigvgm=eigvgmT.copy()\n",
    "# print(eigvgm,gaverage)\n",
    "idx = eigvgm.argsort()[::-1]   \n",
    "eigvgm = eigvgm[idx]\n",
    "gradius=np.sqrt(eigvgm[0])\n",
    "Xtotal=X.copy()+Am.copy()\n",
    "# eigen decomposition\n",
    "eigvxt,eigvecxt=la.eig(Xtotal)\n",
    "# check the outliers\n",
    "ampeigvxt = np.sqrt(np.real(eigvxt)**2+np.imag(eigvxt)**2)\n",
    "\n",
    "concreteAm=np.array([[JEE,-JEI],[JIE,-JII]])\n",
    "lambdareal=eigvxt[0]\n",
    "print('lambda:',lambdareal,eigvorg)\n",
    "Rgmat,invR=eigvecgm,la.inv(eigvecgm)\n",
    "LamR = np.zeros((2,2))\n",
    "LamR[0,0],LamR[1,1]=eigvgm[0],eigvgm[1]\n",
    "\n",
    "# Am,Jsv,ua,svam,va\n",
    "cuvec,csv,cvhvec=la.svd(concreteAm)\n",
    "cmvec=cuvec.copy()\n",
    "cvvec=cvhvec.T\n",
    "cnvec=cvvec.copy()\n",
    "cnvec[:,0]*=csv[0]\n",
    "cnvec[:,1]*=csv[1]\n",
    "\n",
    "\n",
    "rhs2 = LamR@eigvLam@la.inv(LamR)\n",
    "print(rhs2)\n",
    "nhat = Rgmat.T@cnvec\n",
    "mhat = invR@cmvec\n",
    "fva=nhat[0,0]*mhat[0,0]/(1-eigvgm[0]/lambdareal)\n",
    "sva=nhat[1,0]*mhat[1,0]/(1-eigvgm[1]/lambdareal)\n",
    "print('grand',grand)\n",
    "print(eigvgm)\n",
    "print(eigvgmT)\n",
    "\n"
   ]
  },
  {
   "cell_type": "code",
   "execution_count": 689,
   "metadata": {},
   "outputs": [
    {
     "output_type": "stream",
     "name": "stdout",
     "text": [
      "(2, 2)\n"
     ]
    },
    {
     "output_type": "execute_result",
     "data": {
      "text/plain": [
       "<matplotlib.collections.PathCollection at 0x7ff75cacf7c0>"
      ]
     },
     "metadata": {},
     "execution_count": 689
    }
   ],
   "source": [
    "eigx,eigvecx=la.eig(X)\n",
    "rightEI = np.zeros((NE,4))\n",
    "print(np.shape(eigvecgm))\n",
    "rightEI[:,0],rightEI[:,1],rightEI[:,2],rightEI[:,3]=eigvecx[:NE,0],eigvecx[NE:,0],eigvecx[:NE,3],eigvecx[NE:,3]\n",
    "nax,nay=2,2\n",
    "fig,ax=plt.subplots(nax,nay,figsize=(12,12))\n",
    "\n",
    "ax[0][0].scatter(rightEI[:,0],rightEI[:,1],s=15.0,c='red',alpha=0.5)\n",
    "ax[0][1].scatter(rightEI[:,2],rightEI[:,3],s=15.0,c='blue',alpha=0.5)\n",
    "ax[1][0].scatter(rightEI[:,0],rightEI[:,2],s=15.0,c='red',alpha=0.5)\n",
    "ax[1][1].scatter(rightEI[:,1],rightEI[:,3],s=15.0,c='blue',alpha=0.5)"
   ]
  },
  {
   "cell_type": "code",
   "execution_count": 606,
   "metadata": {},
   "outputs": [
    {
     "output_type": "stream",
     "name": "stdout",
     "text": [
      "lambda: (-1.4457387772305723+0j) (-1.4999999999999922+0j)\n[[ 1.1751837   0.        ]\n [ 0.         -0.24031316]]\n[[0. 0.]\n [0. 1.]]\n(-1.7521145290376856+0j)\n"
     ]
    }
   ],
   "source": [
    "\n",
    "# print(invR@Rgmat@LamR@invR@Rgmat,Gamp**2,LamR)"
   ]
  },
  {
   "cell_type": "code",
   "execution_count": 465,
   "metadata": {},
   "outputs": [],
   "source": [
    "Nt=np.array([500,500])\n",
    "NE,NI=Nt[0],Nt[1]\n",
    "Nparams=np.array([NE,NI])\n",
    "JE,JI,a,b=1.0,2.5,-0.6,0.6\n",
    "JEE,JIE,JEI,JII=JE+a,JE-a,JI-b,JI+b\n",
    "# generate mean Am\n",
    "Am,Jsv,ua,svam,va=generate_meanmat_eig(Nparams,JEE,JIE,JEI,JII)\n",
    "eigvoutlier,_=la.eig(Am)\n",
    "eigvorg = eigvoutlier[:2]\n",
    "\n",
    "# Xtotal=X.copy()+Am.copy()\n",
    "# # eigen decomposition\n",
    "# eigvxt,eigvecxt=la.eig(Xtotal)"
   ]
  },
  {
   "cell_type": "code",
   "execution_count": 466,
   "metadata": {},
   "outputs": [
    {
     "output_type": "stream",
     "name": "stdout",
     "text": [
      "(1.8225000000000013-0j)\n"
     ]
    }
   ],
   "source": [
    "print(np.sum(eigvorg)**2/4.0)"
   ]
  },
  {
   "cell_type": "code",
   "execution_count": 410,
   "metadata": {},
   "outputs": [
    {
     "output_type": "stream",
     "name": "stdout",
     "text": [
      "before\n[0.70239468 0.25094588 0.40455887 0.        ]\n[0.70239468 0.25094588 0.40455887 0.        ]\nbefore\n[0.67707221 0.26782513 0.15515431 0.40714869]\n[0.15515431 0.26782513 0.67707221 0.40714869]\nbefore\n[0.81364514 0.24079367 0.         0.        ]\n[0.         0.81364514 0.24079367 0.        ]\nbefore\n[0.31165834 0.68492169 0.15353125 0.36080399]\n[0.36080399 0.31165834 0.68492169 0.15353125]\nbefore\n[0.43218567 0.59401867 0.42468502 0.        ]\n[0.43218567 0.42468502 0.         0.59401867]\n"
     ]
    }
   ],
   "source": [
    "gradiusmin=0\n",
    "for i in range(5):\n",
    "    grand = gmatamplitude_eig(0.36,2)\n",
    "    print('before')\n",
    "    print(grand)\n",
    "    np.random.shuffle(grand)\n",
    "    X,Gamp,eigvgmT,eigvecgm,gaverage=generate_localstatsmat_eig(Nparams,grand)\n",
    "    print(grand)\n",
    "    eigvgm=eigvgmT.copy()\n",
    "    # print(eigvgm,gaverage)\n",
    "    idx = eigvgm.argsort()[::-1]   \n",
    "    eigvgm = eigvgm[idx]\n",
    "    gradius=np.sqrt(eigvgm[0])\n",
    "    if gradius >gradiusmin:\n",
    "        gradiusmin=gradius.copy()\n",
    "        grandmin = grand.copy()\n",
    "\n"
   ]
  },
  {
   "cell_type": "code",
   "execution_count": 408,
   "metadata": {},
   "outputs": [
    {
     "output_type": "stream",
     "name": "stdout",
     "text": [
      "0.8482706579583875\n[0.84827066 0.02090193 0.         0.        ]\n"
     ]
    }
   ],
   "source": [
    "print(gradiusmin)\n",
    "print(grandmin)"
   ]
  },
  {
   "cell_type": "code",
   "execution_count": 516,
   "metadata": {},
   "outputs": [
    {
     "output_type": "execute_result",
     "data": {
      "text/plain": [
       "Text(0.5, 1.0, '$J_{EE},J_{IE}\\\\ J_{EI},J_{II}=$0.40,1.60,1.90,3.10\\n $\\\\lambda_1=$0.63, $g_{avg}=$0.60')"
      ]
     },
     "metadata": {},
     "execution_count": 516
    }
   ],
   "source": [
    "epochs,maxout=1,NE\n",
    "grandseries,gproperties=np.zeros((epochs,4)),np.zeros((epochs,2))\n",
    "eigvxtseries=np.zeros((epochs,maxout),dtype=complex)\n",
    "mtildeseries,ntildeseries=np.zeros((epochs,NE+NI,2),dtype=complex),np.zeros((epochs,NE+NI,2),dtype=complex)\n",
    "detJseries,traceJseries=np.zeros(epochs,dtype=complex),np.zeros(epochs,dtype=complex)\n",
    "for i in range(epochs):\n",
    "    while(1):\n",
    "        grand = gmatamplitude_eig(0.36,2)\n",
    "        idxeff = np.where(grand>0)\n",
    "        if (np.shape(idxeff)[1]>2):\n",
    "            np.random.shuffle(grand)\n",
    "            break\n",
    "    X,Gamp,eigvgmT,eigvecgm,gaverage=generate_localstatsmat_eig(Nparams,grand)#,ugm,svgm,vgm\n",
    "    # eigvgm=eigvals(eigvgmT) # for schur decomposition\n",
    "    eigvgm=eigvgmT.copy()\n",
    "    idx = eigvgm.argsort()[::-1]   \n",
    "    eigvgm = eigvgm[idx]\n",
    "    gradius=np.sqrt(eigvgm[0])\n",
    "    X,Gamp,eigvgmT,eigvecgm,gaverage=generate_localstatsmat_eig(Nparams,grand)#,ugm,svgm,vgm\n",
    "    # eigvgm=eigvals(eigvgmT) # for schur decomposition\n",
    "    eigvgm=eigvgmT.copy()\n",
    "    # print(eigvgm,gaverage)\n",
    "    idx = eigvgm.argsort()[::-1]   \n",
    "    eigvgm = eigvgm[idx]\n",
    "    gradius=np.sqrt(eigvgm[0])\n",
    "    # mix together\n",
    "    Xtotal=X.copy()+Am.copy()\n",
    "    # eigen decomposition\n",
    "    eigvxt,eigvecxt=la.eig(Xtotal)\n",
    "    # check the outliers\n",
    "    ampeigvxt = np.sqrt(np.real(eigvxt)**2+np.imag(eigvxt)**2)\n",
    "    outliers = eigvxt[np.where(ampeigvxt>gradius)]\n",
    "    numoutliers = len(outliers)\n",
    "    ## record\n",
    "    eigvxtseries[i,:+numoutliers]=outliers[:]\n",
    "    grandseries[i,:]=grand[:]\n",
    "    gproperties[i,0],gproperties[i,1]=gradius,gaverage\n",
    "    \n",
    "\n",
    "    ## calculate m and n decomposition -- mtilde, ntilde\n",
    "    utilde,svtilde,vhtilde=la.svd(Xtotal)\n",
    "    vtilde=vhtilde.T\n",
    "    mtildeseries[i,:,:],ntildeseries[i,:,0],ntildeseries[i,:,1]=utilde[:,:2],svtilde[0]*vtilde[:,0],svtilde[1]*vtilde[:,1]\n",
    "\n",
    "    ## compare the determinant\n",
    "    detJseries[i] = la.det(Xtotal)\n",
    "    traceJseries[i]=np.sum(outliers[:2])\n",
    "theta = np.linspace(0, 2 * np.pi, 200)\n",
    "xc = gradius*np.cos(theta)\n",
    "yc = gradius*np.sin(theta)\n",
    "\n",
    "xa = gaverage*np.cos(theta)\n",
    "ya = gaverage*np.sin(theta)\n",
    "\n",
    "tickeig=np.fabs(JE-JI)*1.5\n",
    "ticks = np.linspace(-tickeig,tickeig,3)\n",
    "lims= [-tickeig-0.01,tickeig+0.01]\n",
    "nbins=100\n",
    "fig,ax=plt.subplots(figsize=(6,6))\n",
    "# eigenvalue\n",
    "ax.scatter(np.real(eigvxt),np.imag(eigvxt),s=2.0,c='blue',alpha=0.5)\n",
    "ax.plot(xc, yc, color=\"darkred\", linewidth=2)\n",
    "ax.plot(xa, ya, color=\"grey\", linewidth=2,linestyle='--')\n",
    "ax.set_xlim(lims)\n",
    "ax.set_ylim(lims)\n",
    "ax.set_xticks(ticks)\n",
    "ax.set_yticks(ticks)\n",
    "ax.set_aspect('equal')\n",
    "ax.set_title(r'$J_{EE},J_{IE}\\ J_{EI},J_{II}=$'+str(format(JEE,'.2f'))+','+str(format(JIE,'.2f'))+','+str(format(JEI,'.2f'))+','+str(format(JII,'.2f'))+'\\n $\\lambda_1=$'+str(format(np.real(gradius),'.2f'))+r', $g_{avg}=$'+str(format(gaverage,'.2f')),fontsize=14)\n",
    "\n"
   ]
  },
  {
   "cell_type": "code",
   "execution_count": 499,
   "metadata": {},
   "outputs": [],
   "source": [
    "overlapseries = np.zeros((epochs,2,2),dtype=complex)\n",
    "eigvOVseries = np.zeros((epochs,2),dtype=complex)\n",
    "rg_series = np.squeeze(gproperties[:,0])\n",
    "fig,ax=plt.subplots(2,2,figsize=(12,6))\n",
    "for i in range(epochs):\n",
    "    overlapseries[i,:,:]=np.squeeze(ntildeseries[i,:,:]).T@np.squeeze(mtildeseries[i,:,:])\n",
    "    eigvOVseries[i,:],_=la.eig(np.squeeze(overlapseries[i,:,:]))\n",
    "    # ax[0][0].scatter(rg_series[i]*np.ones(2),np.real(eigvxtseries[i,:2]),s=2.0,c='red',alpha=0.5)\n",
    "    # ax[1][0].scatter(rg_series[i]*np.ones(2),np.imag(eigvxtseries[i,:2]),s=2.0,c='blue',alpha=0.5)\n",
    "    ax[0][0].scatter(np.real(eigvOVseries[i,0]),np.real(eigvxtseries[i,0]),s=2.0,c='red',alpha=0.5)\n",
    "    ax[1][0].scatter(np.imag(eigvOVseries[i,0]),np.imag(eigvxtseries[i,0]),s=2.0,c='blue',alpha=0.5)\n",
    "    ax[0][1].scatter(np.real(eigvOVseries[i,1]),np.real(eigvxtseries[i,1]),s=2.0,c='red',alpha=0.5)\n",
    "    ax[1][1].scatter(np.imag(eigvOVseries[i,1]),np.imag(eigvxtseries[i,1]),s=2.0,c='blue',alpha=0.5)\n",
    "# ax.plot(xc, yc, color=\"darkred\", linewidth=2)\n",
    "# ax.plot(xa, ya, color=\"grey\", linewidth=2,linestyle='--')\n",
    "# for i in range(2):\n",
    "#     ax[i].set_xlim(lims)\n",
    "#     ax[i].set_ylim(lims)\n",
    "#     ax[i].set_xticks(ticks)\n",
    "#     ax[i].set_yticks(ticks)\n",
    "#     ax[i].set_aspect('equal')\n",
    "#     ax[i].set_title(r'$J_{EE},J_{IE}\\ J_{EI},J_{II}=$'+str(format(JEE,'.2f'))+','+str(format(JIE,'.2f'))+','+str(format(JEI,'.2f'))+','+str(format(JII,'.2f'))+'\\n $\\lambda_1=$'+str(format(np.real(gradius),'.2f'))+r', $g_{avg}=$'+str(format(gaverage,'.2f')),fontsize=14)"
   ]
  },
  {
   "cell_type": "code",
   "execution_count": 478,
   "metadata": {},
   "outputs": [
    {
     "output_type": "execute_result",
     "data": {
      "text/plain": [
       "<matplotlib.legend.Legend at 0x7ff78cc82ee0>"
      ]
     },
     "metadata": {},
     "execution_count": 478
    }
   ],
   "source": [
    "maxradiusg,minradiusg=np.max(gproperties[:,0]),np.max(-gproperties[:,0])\n",
    "minradiusg*=(-1)\n",
    "radiusgseries = (gproperties[:,0]-minradiusg)/(maxradiusg-minradiusg)*1.0\n",
    "colorseries=[str(item) for item in radiusgseries]\n",
    "# print(np.max(-radiusgseries))\n",
    "fig,ax=plt.subplots(figsize=(8,6))\n",
    "for i in range(epochs):\n",
    "  endpoint = np.where(np.real(eigvxtseries[i,:])**2+np.imag(eigvxtseries[i,:])**2>0)\n",
    "  lennum = 2#np.shape(endpoint)[1]\n",
    "  ax.scatter(np.real(eigvxtseries[i,:lennum]),np.imag(eigvxtseries[i,:lennum]), s=15.0,c=colorseries[i],alpha=0.5)\n",
    "\n",
    "ax.set_xlabel('radius',fontsize=16)\n",
    "ax.set_ylabel('outlier: real ',fontsize=16)\n",
    "# ax.set_xlim([-gaverage,+1*gaverage])\n",
    "# ax.set_ylim([eigvorg-gaverage,eigvorg+1*gaverage])\n",
    "ax.set_aspect('equal')\n",
    "\n",
    "theta = np.linspace(0, 2 * np.pi, 200)\n",
    "xc = np.sqrt(2)*gaverage*np.cos(theta)\n",
    "yc = np.sqrt(2)*gaverage*np.sin(theta)\n",
    "\n",
    "xa = gaverage*np.cos(theta)\n",
    "ya = gaverage*np.sin(theta)\n",
    "\n",
    "# eigenvalue\n",
    "ax.plot(xc, yc, color=\"darkred\", linewidth=1.5,label=r'max $r_g$')\n",
    "ax.plot(xa, ya, color=\"grey\", linewidth=1.5,linestyle='--',label=r'fixed $\\bar{g}$')\n",
    "ax.scatter(np.real(eigvorg),np.imag(eigvorg),s=30.0,c='red',alpha=1,label='original outliers')\n",
    "ax.set_xlabel('real',fontsize=16)\n",
    "ax.set_ylabel('imaginary',fontsize=16)\n",
    "ax.legend()"
   ]
  },
  {
   "source": [
    "## testing the overlap matrix "
   ],
   "cell_type": "markdown",
   "metadata": {}
  },
  {
   "cell_type": "code",
   "execution_count": 487,
   "metadata": {},
   "outputs": [
    {
     "output_type": "execute_result",
     "data": {
      "text/plain": [
       "[<matplotlib.lines.Line2D at 0x7ff62800dd30>]"
      ]
     },
     "metadata": {},
     "execution_count": 487
    }
   ],
   "source": [
    "##\n",
    "overlapseries = np.zeros((epochs,2,2),dtype=complex)\n",
    "\n",
    "# traceJseries,detJseries=np.zeros(epochs,dtype=complex),np.zeros(epochs,dtype=complex)\n",
    "# eigenvalue\n",
    "for i in range(epochs):\n",
    "    overlapseries[i,:,:]=np.squeeze(ntildeseries[i,:,:]).T@np.squeeze(mtildeseries[i,:,:])\n",
    "traceOVseries, detOVseries = np.zeros(epochs),np.zeros(epochs)\n",
    "for i in range(epochs):\n",
    "    traceOVseries[i]=overlapseries[i,0,0]+overlapseries[i,1,1]\n",
    "    detOVseries[i] = (overlapseries[i,0,0]*overlapseries[i,1,1]-overlapseries[i,0,1]*overlapseries[i,1,0])\n",
    "\n",
    "    # traceJseries[i]=np.sum(eigvxtseries[i,:2])\n",
    "    # detJseries[i] = la.det(np.squeeze(mtildeseries[i,:,:])@np.squeeze(ntildeseries[i,:,:]).T)\n",
    "fig,ax=plt.subplots(figsize=(8,6))\n",
    "# ax.scatter(detseries,traceseries, s=15.0,c='r',alpha=0.5)\n",
    "## determinant change with r_g\n",
    "rg_series = np.squeeze(gproperties[:,0])\n",
    "## tendency?\n",
    "ax.scatter(rg_series,detOVseries, s=5.0,c='r',alpha=0.5)\n",
    "ax.scatter(rg_series,detJseries, s=5.0,c='orange',alpha=0.5)\n",
    "ax.scatter(rg_series,-traceJseries**2/4, s=5.0,c='green',alpha=0.5)\n",
    "ax.scatter(rg_series,traceOVseries, s=5.0,c='b',alpha=0.5)\n",
    "# imag or real Tr^2/4 = Det\n",
    "imagrealsep = np.sum(eigvorg)#np.sum(eigvorg)**2/4.0\n",
    "detmin,detmax = np.max(-detseries),np.max(detseries)\n",
    "detmin *=(-1)\n",
    "xx = np.linspace(detmin*1.25,detmax*1.25,50)\n",
    "yy = imagrealsep*np.ones(50)\n",
    "ax.plot(xx,yy,'r--',linewidth=1.5)\n",
    "\n",
    "\n",
    "\n",
    "\n"
   ]
  },
  {
   "cell_type": "code",
   "execution_count": null,
   "metadata": {},
   "outputs": [],
   "source": [
    "##\n",
    "overlapseries = np.zeros((epochs,2,2),dtype=complex)\n",
    "# eigenvalue\n",
    "for i in range(epochs):\n",
    "    overlapseries[i,:,:]=np.squeeze(ntildeseries[i,:,:]).T@np.squeeze(mtildeseries[i,:,:])\n",
    "traceseries, detseries = np.zeros(epochs),np.zeros(epochs)\n",
    "for i in range(epochs):\n",
    "    traceseries[i]=overlapseries[i,0,0]+overlapseries[i,1,1]\n",
    "    detseries[i] = (overlapseries[i,0,0]*overlapseries[i,1,1]-overlapseries[i,0,1]*overlapseries[i,1,0])\n",
    "fig,ax=plt.subplots(figsize=(8,6))\n",
    "# ax.scatter(detseries,traceseries, s=15.0,c='r',alpha=0.5)\n",
    "## determinant change with r_g\n",
    "rg_series = np.squeeze(gproperties[:,0])\n",
    "## tendency?\n",
    "ax.scatter(rg_series,detseries, s=5.0,c='r',alpha=0.5)\n",
    "ax.scatter(rg_series,traceseries, s=5.0,c='b',alpha=0.5)\n",
    "# imag or real Tr^2/4 = Det\n",
    "imagrealsep = np.sum(eigvorg)**2/4.0\n",
    "detmin,detmax = np.max(-detseries),np.max(detseries)\n",
    "detmin *=(-1)\n",
    "xx = np.linspace(detmin*1.25,detmax*1.25,50)\n",
    "yy = imagrealsep*np.ones(50)\n",
    "ax.plot(xx,yy,'r--',linewidth=1.5)"
   ]
  },
  {
   "cell_type": "code",
   "execution_count": 453,
   "metadata": {},
   "outputs": [
    {
     "output_type": "execute_result",
     "data": {
      "text/plain": [
       "Text(0.5, 1.0, '$\\\\bar{g},\\\\max{r_g}=$0.60,0.85')"
      ]
     },
     "metadata": {},
     "execution_count": 453
    }
   ],
   "source": [
    "##\n",
    "nax,nay=2,2\n",
    "fig,ax=plt.subplots(nax,nay,figsize=(12,12))\n",
    "nsample = nax*nay\n",
    "idxsample = np.random.random_integers(epochs-1,size=(nax,nay))\n",
    "eigenvalueschange = np.zeros((nax,nay))\n",
    "# eigenvalue\n",
    "for i in range(nax):\n",
    "    for j in range(nay):\n",
    "        idx = idxsample[i][j]\n",
    "        ax[i][j].scatter(mtildeseries[idx,:NE,:],ntildeseries[idx,:NE,:],s=15.0,c='red',alpha=0.5)\n",
    "        ax[i][j].scatter(mtildeseries[idx,NE:],ntildeseries[idx,NE:],s=15.0,c='blue',alpha=0.5)\n",
    "        eigenvalueschange[i,j] = np.sum(mtildeseries[idx,:]*ntildeseries[idx,:])\n",
    "        ax[i][j].set_title(r'$\\tilde{m}^{\\intercal}\\tilde{n}=$'+str(format(eigenvalueschange[i,j],'.2f')))\n",
    "# ax[0].scatter(mtildeseries[idx0,:NE],ntildeseries[idx0,:NE],s=15.0,c='red',alpha=0.5)\n",
    "# ax[0].scatter(mtildeseries[idx0,NE:],ntildeseries[idx0,NE:],s=15.0,c='blue',alpha=0.5)\n",
    "# ax[1].scatter(mtildeseries[idx1,:NE],ntildeseries[idx1,:NE],s=15.0,c='red',alpha=0.5)\n",
    "# ax[1].scatter(mtildeseries[idx1,NE:],ntildeseries[idx1,NE:],s=15.0,c='blue',alpha=0.5)\n",
    "for i in range(nax):\n",
    "    for j in range(nay):\n",
    "        ax[i][j].set_xlim([-0.3,0.3])\n",
    "        ax[i][j].set_ylim([-0.3,0.3])\n",
    "        # ax[i].set_xticks(ticks)\n",
    "        # ax[i].set_yticks(ticks)\n",
    "        ax[i][j].set_aspect('equal')"
   ]
  },
  {
   "source": [
    "# back up code"
   ],
   "cell_type": "markdown",
   "metadata": {}
  },
  {
   "cell_type": "code",
   "execution_count": null,
   "metadata": {},
   "outputs": [],
   "source": [
    "# Block Gaussian Random Network\n",
    "xee,xei,xie,xii=0.6,0.25,0.25,0.3#1.2,1.2,1.8\n",
    "JE,JI=5.0*xee,4.0*xii\n",
    "\n",
    "# generate random \n",
    "Grand=np.array([xee,xei,xie,xii])\n",
    "X,Gamp,eigvgmT,eigvecgm,gaverage,ugm,svgm,vgm=generate_localstatsmat(Nparams,Grand)\n",
    "eigvgm=eigvals(eigvgmT)\n",
    "idx = eigvgm.argsort()[::-1]   \n",
    "eigvgm = eigvgm[idx]\n",
    "gradius=np.sqrt(eigvgm[0])\n",
    "# generate mean Am\n",
    "Am,Jsv,ua,svam,va=generate_meanmat(Nparams,JE,JI)\n",
    "# # CALCULATE XTOTAL\n",
    "# Xtotal=X.copy()+Am.copy()\n",
    "# # Combine, total svd decomposition\n",
    "# uxt,svxt,vhxt=la.svd(Xtotal)\n",
    "# vxt=vhxt.T   \n",
    "# eigvx,eigvecx=la.eig(Xtotal)"
   ]
  },
  {
   "cell_type": "code",
   "execution_count": 1218,
   "metadata": {},
   "outputs": [
    {
     "output_type": "stream",
     "name": "stdout",
     "text": [
      "vec1 [[-0.01897367]\n [ 0.02529822]] [-0.75]\nnumvec1: -0.01947075138589678 0.024917661215864535 -0.7814036484892962\nreal mean:\n0.02055340669452231 0.009104648046617814\nvec2 [[-0.01897367]\n [ 0.02529822]] [-0.75]\nnumvec2: 0.0172223163447693 0.02652153501818273 0.6493710236968548\nreal mean:\n0.020406871667918793 0.008844345420995098\n"
     ]
    }
   ],
   "source": [
    "# calculate mean for real\n",
    "mu_utilde = np.zeros((2,1))\n",
    "mu_utilde[0,0],mu_utilde[1,0]=np.mean(uxt[:NE,0]),np.mean(uxt[NE:,0])\n",
    "noise_utilde = np.zeros((2,1))\n",
    "noise_utilde[0,0],noise_utilde[1,0]=np.std(uxt[:NE,0]),np.std(uxt[NE:,0])\n",
    "\n",
    "# vector to calculate uE-real\n",
    "angle_1= np.arctan2(xee/JE/np.sqrt(NE),-np.sqrt(1-(xee/JE)**2)/np.sqrt(NE))\n",
    "angle_2 = np.arctan2(xei/JI/np.sqrt(NE),-np.sqrt(1-(xei/JI)**2)/np.sqrt(NE))\n",
    "vec_1=np.array([[np.cos(angle_1),np.sin(angle_1)]]).T\n",
    "vec_1/=np.sqrt(NE)\n",
    "print('vec1',vec_1,vec_1[0]/vec_1[1])\n",
    "print('numvec1:',iid_mu_u['E'][0,0],np.std(uxtEE[:,0]),iid_mu_u['E'][0,0]/np.std(uxtEE[:,0]))\n",
    "vec_2=np.array([[np.cos(angle_2),np.sin(angle_2)]]).T\n",
    "vec_2/=np.sqrt(NE)\n",
    "# print('vec2',vec_2,vec_2[0]/vec_2[1])\n",
    "# print('numvec2:',iid_mu_u['E'][1,0],np.std(uxtEI[:,0]),iid_mu_u['E'][1,0]/np.std(uxtEI[:,0]))\n",
    "# print('angles')\n",
    "# print(angle_1,angle_2)\n",
    "rot_theta = (angle_1-angle_2)/2.0\n",
    "Rot1=np.array([[np.cos(rot_theta),-np.sin(rot_theta)],[np.sin(rot_theta),np.cos(rot_theta)]])\n",
    "Rot2=np.array([[np.cos(-rot_theta),-np.sin(-rot_theta)],[np.sin(-rot_theta),np.cos(-rot_theta)]])\n",
    "# the first is gonna be drew back \n",
    "# the second is gonna be pushed forward\n",
    "\n",
    "theo_mu=np.zeros((2,2))\n",
    "theo_mu[0,:]= np.squeeze(Rot2@vec_1)*xee/JE\n",
    "test_ang2= Rot1@vec_2*xei/JI\n",
    "# print('rotate')\n",
    "# print(theo_mu[0,:],test_ang2)\n",
    "# print(np.sqrt(theo_mu[0,1]**2+test_ang2[1]**2))\n",
    "print('real mean:')\n",
    "print(mu_utilde[0,0],noise_utilde[0,0])\n",
    "# print(mu_utilde[0,0],iid_mu_u['E'][0,0]/np.sqrt(xee/JE),iid_mu_u['E'][1,0]/np.sqrt(xei/JI))#,noise_utilde[0,0])\n",
    "# print('noise comp:',noise_utilde[0,0]/vec_1[1])\n",
    "\n",
    "# vector to calculate uE-real\n",
    "angle_1= np.arctan2(xie/JE/np.sqrt(NE),np.sqrt(1-(xie/JE)**2)/np.sqrt(NE))\n",
    "angle_2 = np.arctan2(xii/JI/np.sqrt(NE),-np.sqrt(1-(xii/JI)**2)/np.sqrt(NE))\n",
    "vec_1=np.array([[np.cos(angle_1),np.sin(angle_1)]]).T\n",
    "vec_1/=np.sqrt(NE)\n",
    "# print('vec1',vec_1,vec_1[0]/vec_1[1])\n",
    "# print('numvec1:',iid_mu_u['I'][0,0],np.std(uxtIE[:,0]),iid_mu_u['I'][0,0]/np.std(uxtIE[:,0]))\n",
    "vec_2=np.array([[np.cos(angle_2),np.sin(angle_2)]]).T\n",
    "vec_2/=np.sqrt(NE)\n",
    "print('vec2',vec_2,vec_2[0]/vec_2[1])\n",
    "print('numvec2:',iid_mu_u['I'][1,0],np.std(uxtII[:,0]),iid_mu_u['I'][1,0]/np.std(uxtII[:,0]))\n",
    "# print('angles')\n",
    "# print(angle_1,angle_2)\n",
    "rot_theta = (angle_1-angle_2)/2.0\n",
    "Rot1=np.array([[np.cos(rot_theta),-np.sin(rot_theta)],[np.sin(rot_theta),np.cos(rot_theta)]])\n",
    "Rot2=np.array([[np.cos(-rot_theta),-np.sin(-rot_theta)],[np.sin(-rot_theta),np.cos(-rot_theta)]])\n",
    "# the first is gonna be drew back \n",
    "# the second is gonna be pushed forward\n",
    "\n",
    "theo_mu=np.zeros((2,2))\n",
    "theo_mu[0,:]= np.squeeze(Rot2@vec_1)*xee/JE\n",
    "test_ang2= Rot1@vec_2*xei/JI\n",
    "# print('rotate')\n",
    "# print(theo_mu[0,:],test_ang2)\n",
    "# print(np.sqrt(theo_mu[0,1]**2+test_ang2[1]**2))\n",
    "print('real mean:')\n",
    "print(mu_utilde[1,0],noise_utilde[1,0])\n",
    "# print('noise comp:',noise_utilde[1,0]/vec_2[1])\n",
    "\n",
    "\n"
   ]
  },
  {
   "cell_type": "code",
   "execution_count": null,
   "metadata": {},
   "outputs": [],
   "source": [
    "# print(iid_sv)\n",
    "\n",
    "overlaptt,overlaptheo,overlaptheo2=np.zeros((2,2)),np.zeros((2,2)),np.zeros((2,2))\n",
    "overlaptt[0,0]=np.sum(uxt[:NE,0]*vxt[:NE,0]*svxt[0])\n",
    "print(np.mean(uxt[:NE,0]),np.mean(vxt[:NE,0]),svxt[0])\n",
    "overlaptt[0,1]=np.sum(uxt[:NE,0]*vxt[NE:,0]*svxt[0])\n",
    "print(np.mean(uxt[:NE,0]),np.mean(vxt[NE:,0]),svxt[0])\n",
    "overlaptt[1,0]=np.sum(uxt[NE:,0]*vxt[:NE,0]*svxt[0])\n",
    "overlaptt[1,1]=np.sum(uxt[NE:,0]*vxt[NE:,0]*svxt[0])\n",
    "\n",
    "overlaptheo[0,0]=np.sum(uxtEE[:,0]*vxtEE[:,0]*svxtEE[0])#iid_sv[0,0]*(1-xee**2/JE**2)\n",
    "print(np.mean(uxtEE[:,0]),np.mean(vxtEE[:,0]),svxtEE[0])\n",
    "overlaptheo[0,1]=np.sum(uxtEI[:,0]*vxtEI[:,0]*svxtEI[0])#iid_sv[0,1]*(1-xei**2/JI**2)\n",
    "print(np.mean(uxtEI[:,0]),np.mean(vxtEI[:,0]),svxtEI[0])\n",
    "overlaptheo[1,0]=np.sum(uxtIE[:,0]*vxtIE[:,0]*svxtIE[0])#iid_sv[1,0]*(1-xie**2/JE**2)\n",
    "overlaptheo[1,1]=np.sum(uxtII[:,0]*vxtII[:,0]*svxtII[0])#iid_sv[1,1]*(1-xii**2/JI**2)\n",
    "\n",
    "overlaptheo2[0,0]=np.sum(iid_sv[0,0]*(1-xee**2/JE**2))\n",
    "overlaptheo2[0,1]=-np.sum(iid_sv[0,1]*(1-xei**2/JI**2))\n",
    "overlaptheo2[1,0]=np.sum(iid_sv[1,0]*(1-xie**2/JE**2))\n",
    "overlaptheo2[1,1]=-np.sum(iid_sv[1,1]*(1-xii**2/JI**2))\n",
    "\n",
    "print('tilde overlap:')\n",
    "print(overlaptt)\n",
    "print('theo overlap:')\n",
    "print(overlaptheo)\n",
    "print('theo overlap2:')\n",
    "print(overlaptheo2)\n",
    "print('change:')\n",
    "overlapchange=overlaptheo2-overlaptt\n",
    "print(overlapchange)\n",
    "# eigvtt,eigvectt=la.eig(overlaptt)\n",
    "# eigvtheo,eigvectheo=la.eig(overlaptheo)\n",
    "# print('eigenvalue compare:')\n",
    "# print(eigvtt)\n",
    "# print(eigvtheo)"
   ]
  },
  {
   "cell_type": "code",
   "execution_count": 879,
   "metadata": {},
   "outputs": [
    {
     "output_type": "stream",
     "name": "stdout",
     "text": [
      "[6.44943161 4.00928745 3.98429257 3.96936678 3.94801228]\n[4.00973264 3.98515474 3.97197553 3.94868445 3.92199661]\n"
     ]
    }
   ],
   "source": [
    "Xtotal=X.copy()+Am.copy()\n",
    "# singular decomposition\n",
    "uxt,svxt,vhxt=la.svd(Xtotal)\n",
    "vxt=vhxt.T\n",
    "ux,svx,vhx=la.svd(X)\n",
    "vx=vhx.T\n",
    "print(svxt[:5])\n",
    "print(svx[:5])\n",
    "\n",
    "\n",
    "## dissect noise and mean components\n",
    "## mean for total and original\n",
    "muxtt,mvxtt=np.zeros((2,1)),np.zeros((2,1))\n",
    "muxtt[0,0],muxtt[1,0]=np.mean(uxt[:NE,0]),np.mean(uxt[NE:,0])\n",
    "mvxtt[0,0],mvxtt[1,0]=np.mean(vxt[:NE,0]),np.mean(vxt[NE:,0])\n",
    "mua,mva = np.zeros((2,1)),np.zeros((2,1))\n",
    "mua[0,0],mua[1,0]=ua[0,0],ua[NE+1,0]\n",
    "mva[0,0],mva[1,0]=va[0,0],va[NE+1,0]\n",
    "# noise components E and I seperate \n",
    "noiseu,noisev=np.zeros((NE,2)),np.zeros((NE,2))\n",
    "# for E noise\n",
    "noiseu[:,0]=(uxt[:NE,0]-muxtt[0,0])\n",
    "noisev[:,0]=(vxt[:NE,0]-mvxtt[0,0])\n",
    "# for I noise\n",
    "noiseu[:,1]=(uxt[NE:,0]-muxtt[1,0])\n",
    "noisev[:,1]=(vxt[NE:,0]-mvxtt[1,0])\n",
    "noisem,noisen=noiseu.copy(),noisev.copy()#*svxt[0]\n",
    "\n",
    "# noise components 4*4\n",
    "noisevec = np.zeros((NE,4))\n",
    "noisevec[:,:2]=noisem.copy()\n",
    "noisevec[:,2:]=noisen.copy()\n"
   ]
  },
  {
   "cell_type": "code",
   "execution_count": 800,
   "metadata": {},
   "outputs": [
    {
     "output_type": "stream",
     "name": "stdout",
     "text": [
      "stdnum: 0.4973373839263357 0.4909175083453431\n"
     ]
    }
   ],
   "source": [
    "mleft=5.0*np.random.randn(NE,1)/np.sqrt(NE)\n",
    "nright=4.0*np.random.randn(NE,1)/np.sqrt(NE)\n",
    "Cnright = 3*np.ones((NE,1))\n",
    "Cmleft = 1*np.ones((NE,1))\n",
    "randomm=mleft@Cnright.T+Cmleft@nright.T \n",
    "lrand=np.reshape(randomm,(NE**2,1))\n",
    "theostd = (5*3)**2/NE+(4*1)**2/NE\n",
    "theostd = np.sqrt(theostd)\n",
    "print('stdnum:',np.std(lrand),theostd)"
   ]
  },
  {
   "cell_type": "code",
   "execution_count": null,
   "metadata": {},
   "outputs": [],
   "source": [
    "# # subject to\n",
    "# sigmE,signI,sigmI,signE=2.0,3.0,1.0,4.0\n",
    "# rhoE=xee/sigmE/signE*1.5\n",
    "# rhoI=xii/sigmI/signI*1.5\n",
    "# m,n=np.zeros((N,1)),np.zeros((N,1))\n",
    "# zetaxE,zetayE,zetaxI,zetayI=np.random.randn(NE),np.random.randn(NE),np.random.randn(NI),np.random.randn(NI)\n",
    "# m[:NE,0]=sigmE*zetaxE/np.sqrt(N)\n",
    "# n[:NE,0]=signE*(rhoE*zetaxE+np.sqrt(1-rhoE**2)*zetayE)/np.sqrt(N)\n",
    "# m[NE:,0]=sigmI*zetaxI/np.sqrt(N)\n",
    "# n[NE:,0]=signI*(rhoI*zetaxI+np.sqrt(1-rhoI**2)*zetayI)/np.sqrt(N)\n",
    "# P=m@n.T \n",
    "# Xtilde=X.copy()+P.copy()"
   ]
  },
  {
   "cell_type": "code",
   "execution_count": 284,
   "metadata": {},
   "outputs": [
    {
     "output_type": "stream",
     "name": "stdout",
     "text": [
      "cal g: [[0.00089115 0.00017327]\n [0.00276879 0.00053832]]\norg g: 0.000625 0.0009 0.0025 0.000225\n"
     ]
    }
   ],
   "source": [
    "stdme=np.std(lxvec[:NE,0])\n",
    "stdmi=np.std(lxvec[NE:,0])\n",
    "stdne=np.std(svx[0]*rxvec[:NE,0])\n",
    "stdni=np.std(svx[0]*rxvec[NE:,0])\n",
    "rm1=np.array([stdme,stdmi])\n",
    "rm1=np.reshape(rm1,(2,1))\n",
    "rn1=np.array([stdne,stdni])\n",
    "rn1=np.reshape(rn1,(2,1))\n",
    "stdme=np.std(lxvec[:NE,1])\n",
    "stdmi=np.std(lxvec[NE:,1])\n",
    "stdne=np.std(svx[1]*rxvec[:NE,1])\n",
    "stdni=np.std(svx[1]*rxvec[NE:,1])\n",
    "rm2=np.array([stdme,stdmi])\n",
    "rm2=np.reshape(rm2,(2,1))\n",
    "rn2=np.array([stdne,stdni])\n",
    "rn2=np.reshape(rn2,(2,1))\n",
    "gstdest=rm1@rn1.T +rm2@rn2.T \n",
    "print('cal g:',gstdest)\n",
    "print('org g:',xee**2/N,xei**2/N,xie**2/N,xii**2/N)"
   ]
  },
  {
   "cell_type": "code",
   "execution_count": 269,
   "metadata": {},
   "outputs": [],
   "source": [
    "lxvec,svx,rxvech=la.svd(P)\n",
    "rxvec=rxvech.T \n",
    "fig,ax=plt.subplots(2,2,figsize=(9,9))\n",
    "nbins=30\n",
    "n, bins, patches = ax[0][0].hist(lxvec[:NE,0], nbins, density=True, alpha=0.5)\n",
    "n, bins, patches = ax[1][0].hist(lxvec[NE:,0], nbins, density=True, alpha=0.5)\n",
    "n, bins, patches = ax[0][1].hist(rxvec[:NE,0], nbins, density=True, alpha=0.5)\n",
    "n, bins, patches = ax[1][1].hist(rxvec[NE:,0], nbins, density=True, alpha=0.5)\n"
   ]
  }
 ]
}