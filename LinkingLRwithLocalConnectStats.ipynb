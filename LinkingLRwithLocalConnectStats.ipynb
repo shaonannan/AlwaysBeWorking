{
 "metadata": {
  "language_info": {
   "codemirror_mode": {
    "name": "ipython",
    "version": 3
   },
   "file_extension": ".py",
   "mimetype": "text/x-python",
   "name": "python",
   "nbconvert_exporter": "python",
   "pygments_lexer": "ipython3",
   "version": "3.8.3-final"
  },
  "orig_nbformat": 2,
  "kernelspec": {
   "name": "python3",
   "display_name": "Python 3",
   "language": "python"
  }
 },
 "nbformat": 4,
 "nbformat_minor": 2,
 "cells": [
  {
   "source": [
    "## Plot eigenvalues distribution"
   ],
   "cell_type": "markdown",
   "metadata": {}
  },
  {
   "cell_type": "code",
   "execution_count": 1009,
   "metadata": {},
   "outputs": [
    {
     "output_type": "stream",
     "name": "stdout",
     "text": [
      "2.0 1.5 1.6666666666666665 1.0\n"
     ]
    }
   ],
   "source": []
  },
  {
   "source": [
    "## 17/12/2020 Update\n",
    "# Linking and Comparing Local Connect Stats with Low-rank Recurrent Network\n",
    "* From Local Connect Stats cite[Sharpee]\n",
    "* From Low-rank structure to EI "
   ],
   "cell_type": "markdown",
   "metadata": {}
  },
  {
   "cell_type": "code",
   "execution_count": 2164,
   "metadata": {},
   "outputs": [],
   "source": [
    "from __future__ import print_function\n",
    "from ipywidgets import interact, interactive, fixed, interact_manual\n",
    "import ipywidgets as widgets\n",
    "import numpy as np\n",
    "import matplotlib.pylab as plt\n",
    "import matplotlib\n",
    "%matplotlib qt\n",
    "from numpy import linalg as la\n",
    "from scipy.optimize import fsolve\n",
    "from scipy import linalg as scpla\n",
    "import seaborn as sb\n",
    "from mpl_toolkits.axes_grid1 import make_axes_locatable\n",
    "from cmath import *\n",
    "from mpl_toolkits.mplot3d import Axes3D\n",
    "from scipy.optimize import fsolve,leastsq \n",
    "from math import tanh,cosh\n",
    "import math\n",
    "from sympy import *\n",
    "from scipy.linalg import schur, eigvals\n",
    "extras_require = {'PLOT':['matplotlib>=1.1.1,<3.0']},"
   ]
  },
  {
   "source": [
    "## Check the results in Sharpee's paper\n",
    "* local stats, EE,EI,IE,II occupy their own properties, independently\n",
    "* no pair correlation\n"
   ],
   "cell_type": "markdown",
   "metadata": {}
  },
  {
   "cell_type": "code",
   "execution_count": 178,
   "metadata": {},
   "outputs": [],
   "source": [
    "Nt=np.array([2000,1000])\n",
    "NE,NI=Nt[0],Nt[1]\n",
    "at = Nt/N\n",
    "N=np.sum(Nt)\n",
    "aee,aei,aie,aii=4.5,-6.0,5.0,-2.5\n",
    "JEEsub,JEIsub,JIEsub,JIIsub=aee*np.ones((NE,NE))/NE,aei*np.ones((NE,NI))/NI,aie*np.ones((NI,NE))/NE,aii*np.ones((NI,NI))/NI\n",
    "J = np.zeros((NE+NI,NE+NI))\n",
    "\n",
    "# determine gcd\n",
    "Gmat=np.zeros((2,2))\n",
    "Gmatorg=np.array([[0.8,1.2],[0.9,0.2]])\n",
    "# Gmat/=np.sqrt(N)\n",
    "for i in range(2):\n",
    "    for j in range(2):\n",
    "        Gmat[i,j]=Gmatorg[i,j]/np.sqrt(N)\n",
    "# EE\n",
    "gij=Gmat[0,0]*np.random.randn(NE,NE)\n",
    "J[:NE,:NE]=gij.copy()\n",
    "# EI\n",
    "gij=Gmat[0,1]*np.random.randn(NE,NI)\n",
    "J[:NE,NE:]=gij.copy()\n",
    "# IE\n",
    "gij=Gmat[1,0]*np.random.randn(NI,NE)\n",
    "J[NE:,:NE]=gij.copy()\n",
    "# II\n",
    "gij=Gmat[1,1]*np.random.randn(NI,NI)\n",
    "J[NE:,NE:]=gij.copy()\n",
    "\n",
    "P = np.zeros((N,N))\n",
    "P[:NE,:NE],P[:NE,NE:],P[NE:,:NE],P[NE:,NE:]=JEEsub.copy(),JEIsub.copy(),JIEsub.copy(),JIIsub.copy()\n",
    "X = P.copy()+J.copy()"
   ]
  },
  {
   "cell_type": "code",
   "execution_count": 113,
   "metadata": {},
   "outputs": [
    {
     "output_type": "stream",
     "name": "stdout",
     "text": [
      "averaging g noise: 0.8558621384311844\n"
     ]
    }
   ],
   "source": [
    "gavg=np.sqrt(np.sum(np.sum(Gmat**2)))/2.0\n",
    "print('averaging g noise:',gavg*np.sqrt(N))"
   ]
  },
  {
   "cell_type": "code",
   "execution_count": 105,
   "metadata": {},
   "outputs": [
    {
     "output_type": "stream",
     "name": "stdout",
     "text": [
      "eigenvalue: [1.+4.21307489j 1.-4.21307489j] singular value: [9.12570385 2.05463604] eigG 0.8546614831429354\n"
     ]
    }
   ],
   "source": [
    "aee,aei,aie,aii=4.5,-6.0,5.0,-2.5\n",
    "Asmall=np.array([[aee,aei],[aie,aii]])\n",
    "eigva,_=la.eig(Asmall)\n",
    "_,sigva,_=la.svd(Asmall)\n",
    "print('eigenvalue:',eigva,'singular value:',sigva,'eigG',np.sqrt(eigG[0]))"
   ]
  },
  {
   "cell_type": "code",
   "execution_count": 179,
   "metadata": {},
   "outputs": [],
   "source": [
    "# all about calculate eigenvalues\n",
    "eigvrand,eigvecrand=la.eig(J)\n",
    "eigstruct,eigvecstruct=la.eig(P)\n",
    "# summation\n",
    "X = P.copy()+J.copy()\n",
    "eigvx,eigvecx=la.eig(X)\n",
    "# theoretical\n",
    "M = np.zeros((2,2))\n",
    "for i in range(2):\n",
    "    for j in range(2):\n",
    "        M[i,j]=(Gmat[i,j]*np.sqrt(N))**2*(Nt[j]/N)\n",
    "eigG,eigvecG=la.eig(M)\n",
    "# low rank small\n",
    "Asmall=np.array([[aee,aei],[aie,aii]])\n",
    "eigva,_=la.eig(Asmall)\n"
   ]
  },
  {
   "cell_type": "code",
   "execution_count": 180,
   "metadata": {},
   "outputs": [],
   "source": [
    "ticks = np.linspace(-2.0,2.0,3)\n",
    "lims= [-2.1,2.1]\n",
    "\n",
    "fig,ax=plt.subplots(figsize=(6,6))\n",
    "ax.plot(np.sqrt(eigG[0])*np.ones(100),np.linspace(-1.0,1.0,100))\n",
    "ax.scatter(np.real(eigvrand),np.imag(eigvrand),s=5.0,c='blue',alpha=0.5)\n",
    "ax.scatter(np.real(eigstruct[:4]),np.zeros(4),s=15.0,c='red',alpha=0.5)\n",
    "# ax.set_xlim(lims)\n",
    "# ax.set_ylim(lims)\n",
    "# ax.set_xticks(ticks)\n",
    "# ax.set_yticks(ticks)\n",
    "ax.set_aspect('equal')\n",
    "ax.grid()"
   ]
  },
  {
   "source": [
    "## relate this to low rank (here rank-2)"
   ],
   "cell_type": "markdown",
   "metadata": {}
  },
  {
   "cell_type": "code",
   "execution_count": 109,
   "metadata": {},
   "outputs": [],
   "source": [
    "lvecX,svX,rvecXh=la.svd(X)\n",
    "rvecX=rvecXh.T\n",
    "m=lvecX[:,:2].copy()\n",
    "n=rvecX[:,:2].copy()\n",
    "n[:,0]*=svX[0]\n",
    "n[:,1]*=svX[1]\n",
    "\n",
    "# n[:,1]=rvecX[:,2]*svX[2]\n",
    "# m[:,1]=lvecX[:,2]"
   ]
  },
  {
   "cell_type": "code",
   "execution_count": 111,
   "metadata": {},
   "outputs": [],
   "source": [
    "morg,norg=m,n\n",
    "fig,ax=plt.subplots(4,4,figsize=(9,9))\n",
    "for i in range(2):\n",
    "    for j in range(2):\n",
    "        ax[i][j].scatter(morg[:NE,i],morg[:NE,j],s=5.0,c='red',alpha=0.05)\n",
    "        ax[i][j].scatter(morg[NE:,i],morg[NE:,j],s=5.0,c='blue',alpha=0.05)\n",
    "for i in range(2):\n",
    "    for j in range(2):\n",
    "        ax[2+i][2+j].scatter(norg[:NE,i],norg[:NE,j],s=5.0,c='red',alpha=0.05)\n",
    "        ax[2+i][2+j].scatter(norg[NE:,i],norg[NE:,j],s=5.0,c='blue',alpha=0.05)\n",
    "        \n",
    "for i in range(2):\n",
    "    for j in range(2):\n",
    "        ax[i][2+j].scatter(morg[:NE,i],norg[:NE,j],s=5.0,c='red',alpha=0.05)\n",
    "        ax[i][2+j].scatter(morg[NE:,i],norg[NE:,j],s=5.0,c='blue',alpha=0.05)\n",
    "for i in range(2):\n",
    "    for j in range(2):\n",
    "        ax[2+i][j].scatter(norg[:NE,i],morg[:NE,j],s=5.0,c='red',alpha=0.05)\n",
    "        ax[2+i][j].scatter(norg[NE:,i],morg[NE:,j],s=5.0,c='blue',alpha=0.05)\n",
    "for i in range(4):\n",
    "    for j in range(4):\n",
    "        # ax[i][j].set_xlim(lims)\n",
    "        # ax[i][j].set_ylim(lims)\n",
    "        # ax[i][j].set_xticks(ticks)\n",
    "        # ax[i][j].set_yticks(ticks)\n",
    "        ax[i][j].set_aspect('equal')\n",
    "        ax[i][j].grid()"
   ]
  },
  {
   "cell_type": "code",
   "execution_count": 117,
   "metadata": {},
   "outputs": [
    {
     "output_type": "stream",
     "name": "stdout",
     "text": [
      "eigenvalue: [1.+4.21307489j 1.-4.21307489j] [1.+4.21307489j 1.-4.21307489j]\nsingular value: [9.12570385 2.05463604] [9.12570385 2.05463604]\n"
     ]
    }
   ],
   "source": [
    "# test Dale's law\n",
    "Nt=np.array([300,100])\n",
    "NE,NI=Nt[0],Nt[1]\n",
    "N=np.sum(Nt)\n",
    "aee,aei,aie,aii=4.5,-6.0,5.0,-2.5\n",
    "JEEsub,JEIsub,JIEsub,JIIsub=aee*np.ones((NE,NE))/NE,aei*np.ones((NE,NI))/np.sqrt(NE*NI),aie*np.ones((NI,NE))/np.sqrt(NE*NI),aii*np.ones((NI,NI))/NI\n",
    "P = np.zeros((N,N))\n",
    "P[:NE,:NE],P[:NE,NE:],P[NE:,:NE],P[NE:,NE:]=JEEsub.copy(),JEIsub.copy(),JIEsub.copy(),JIIsub.copy()\n",
    "eigvP,_=la.eig(P)\n",
    "_,sigvp,_=la.svd(P)\n",
    "Asmall=np.array([[aee,aei],[aie,aii]])\n",
    "eigva,_=la.eig(Asmall)\n",
    "_,sigva,_=la.svd(Asmall)\n",
    "\n",
    "print('eigenvalue:',eigvP[:2],eigva[:2])\n",
    "print('singular value:',sigvp[:2],sigva[:2])"
   ]
  },
  {
   "cell_type": "code",
   "execution_count": 184,
   "metadata": {},
   "outputs": [
    {
     "output_type": "stream",
     "name": "stdout",
     "text": [
      "average eigv: 0.858253007850327\n"
     ]
    }
   ],
   "source": [
    "# test Dale's law\n",
    "Nt=np.array([100,1000])\n",
    "NE,NI=Nt[0],Nt[1]\n",
    "N=np.sum(Nt)\n",
    "at=Nt/N\n",
    "# determine gcd\n",
    "Gmat=np.zeros((2,2))\n",
    "Gmatorg=np.array([[0.8,1.2],[0.9,0.2]])\n",
    "# Gmat/=np.sqrt(N)\n",
    "for i in range(2):\n",
    "    for j in range(2):\n",
    "        Gmat[i,j]=Gmatorg[i,j]/np.sqrt(N)\n",
    "# EE\n",
    "J=np.zeros((N,N))\n",
    "\n",
    "gij=np.zeros((NE,NE))\n",
    "gij=Gmat[0,0]*np.random.randn(NE,NE)\n",
    "J[:NE,:NE]=gij.copy()\n",
    "# EI\n",
    "gij=np.zeros((NE,NI))\n",
    "gij=Gmat[0,1]*np.random.randn(NE,NI)\n",
    "J[:NE,NE:]=gij.copy()\n",
    "# IE\n",
    "gij=np.zeros((NI,NE))\n",
    "gij=Gmat[1,0]*np.random.randn(NI,NE)\n",
    "J[NE:,:NE]=gij.copy()\n",
    "# II\n",
    "gij=np.zeros((NI,NI))\n",
    "gij=Gmat[1,1]*np.random.randn(NI,NI)\n",
    "J[NE:,NE:]=gij.copy()\n",
    "\n",
    "gavg=0\n",
    "for i in range(2):\n",
    "    for j in range(2):\n",
    "        gavg+=np.sqrt(Gmatorg[i,j]**2*at[i]*at[j])\n",
    "M = np.zeros((2,2))\n",
    "for i in range(2):\n",
    "    for j in range(2):\n",
    "        M[i,j]=(Gmatorg[i,j]**2)*at[j]\n",
    "\n",
    "eigvj,_=la.eig(J)\n",
    "eigvM,_=la.eig(M)\n",
    "ticks = np.linspace(-2.0,2.0,3)\n",
    "lims= [-2.1,2.1]\n",
    "\n",
    "fig,ax=plt.subplots(figsize=(6,6))\n",
    "ax.plot(np.sqrt(eigvM[0])*np.ones(100),np.linspace(-1.0,1.0,100))\n",
    "ax.scatter(np.real(eigvj),np.imag(eigvj),s=5.0,c='blue',alpha=0.5)\n",
    "print('average eigv:',gavg)\n"
   ]
  },
  {
   "cell_type": "code",
   "execution_count": 227,
   "metadata": {},
   "outputs": [
    {
     "output_type": "stream",
     "name": "stdout",
     "text": [
      "0.6\n"
     ]
    }
   ],
   "source": [
    "# testing distribution of J_{ij}\n",
    "NE,NI=750,250\n",
    "sigm,sign=0.5,1.2\n",
    "mE,nE=sigm*np.random.randn(NE,1)/np.sqrt(NE),sign*np.random.randn(NE,1)/np.sqrt(NE)\n",
    "JEE = mE@nE.T \n",
    "eigv,eigvec=la.eig(JEE)\n",
    "fig,ax=plt.subplots(figsize=(6,6))\n",
    "ax.scatter(np.real(eigvj),np.imag(eigvj),s=5.0,c='blue',alpha=0.5)\n",
    "\n",
    "JEEoff=JEE.copy()\n",
    "JEEdiag=np.zeros(NE)\n",
    "for i in range(NE):\n",
    "    JEEoff[i,i:NE-1]=JEEoff[i,i+1:]\n",
    "    JEEdiag[i]=JEE[i,i]\n",
    "fig,ax=plt.subplots(2,1,figsize=(6,6))\n",
    "Joff=JEEoff[:,:NE-1]\n",
    "Joff=np.reshape(Joff,(NE**2-NE,1))\n",
    "n, bins, patches = ax[0].hist(Joff, 100, density=True, alpha=0.5)\n",
    "n, bins, patches = ax[1].hist(JEEdiag, 100, density=True, alpha=0.5)\n",
    "print(sigm*sign)\n",
    "\n"
   ]
  },
  {
   "source": [
    "## What's the distribution of $J_{i,j}$ in $\\tilde{\\mathbf{X}}=\\mathbf{X}+\\mathbf{p}$"
   ],
   "cell_type": "markdown",
   "metadata": {}
  },
  {
   "cell_type": "code",
   "execution_count": 229,
   "metadata": {},
   "outputs": [],
   "source": [
    "# testing distribution of J_{ij} in \\tilde{X}\n",
    "NE,NI=2000,250\n",
    "sigm,sign,grandom=0.6,1.0,0.5\n",
    "rho=0.0\n",
    "zetax,zetay=np.random.randn(NE,1),np.random.randn(NE,1)\n",
    "m = sigm*zetax/np.sqrt(NE)\n",
    "n =sign*(rho*zetax+np.sqrt(1-rho**2)*zetay)/np.sqrt(NE)\n",
    "P = m@n.T \n",
    "X = (grandom)*np.random.randn(NE,NE)/np.sqrt(NE)\n",
    "\n",
    "Xtilde=X+P\n",
    "\n",
    "eigv,eigvec=la.eig(Xtilde)\n",
    "fig,ax=plt.subplots(figsize=(6,6))\n",
    "ax.scatter(np.real(eigv),np.imag(eigv),s=5.0,c='blue',alpha=0.5)\n",
    "\n",
    "JEEoff=Xtilde.copy()\n",
    "JEEdiag=np.zeros(NE)\n",
    "for i in range(NE):\n",
    "    JEEoff[i,i:NE-1]=JEEoff[i,i+1:]\n",
    "    JEEdiag[i]=Xtilde[i,i]\n",
    "fig,ax=plt.subplots(2,1,figsize=(6,6))\n",
    "Joff=JEEoff[:,:NE-1]\n",
    "Joff=np.reshape(Joff,(NE**2-NE,1))\n",
    "n, bins, patches = ax[0].hist(Joff, 100, density=True, alpha=0.5)\n",
    "n, bins, patches = ax[1].hist(JEEdiag, 100, density=True, alpha=0.5)"
   ]
  },
  {
   "source": [
    "## Generate Random Block Matrix, embedding low rank structur $\\tilde{\\mathbf{X}}_{\\mathrm{type}}=\\mathbf{X}_{\\mathrm{type}}+\\mathbf{P}_{\\mathrm{type}}$"
   ],
   "cell_type": "markdown",
   "metadata": {}
  },
  {
   "cell_type": "code",
   "execution_count": 238,
   "metadata": {},
   "outputs": [],
   "source": [
    "phiacttt=np.zeros((N,1))\n",
    "phiacttt[:NE,0],phiacttt[NE:,0]=(rhoE*zetaxE+np.sqrt(1-rhoE**2)*zetayE)/np.sqrt(N),(rhoI*zetaxI+np.sqrt(1-rhoI**2)*zetayI)/np.sqrt(N)\n",
    "eitatt=Xtilde@phiacttt\n",
    "eitarand=X@phiacttt\n",
    "coveitatt=eitatt@eitatt.T \n",
    "coveitarand=eitarand@eitarand.T \n",
    "deltaEt,deltaEr=coveitatt[:NE,:NE],coveitarand[:NE,:NE]\n",
    "deltaIt,deltaIr=coveitatt[NE:,NE:],coveitarand[NE:,NE:]\n",
    "print('std, Et:',np.std(deltaEt),'; random:',np.std(deltaEr))\n",
    "print('std, It:',np.std(deltaIt),'; random:',np.std(deltaIr))"
   ]
  },
  {
   "cell_type": "code",
   "execution_count": 411,
   "metadata": {},
   "outputs": [
    {
     "output_type": "stream",
     "name": "stdout",
     "text": [
      "1.7677669529663689\n"
     ]
    },
    {
     "output_type": "execute_result",
     "data": {
      "text/plain": [
       "<matplotlib.collections.PathCollection at 0x7fb1f7f7f7f0>"
      ]
     },
     "metadata": {},
     "execution_count": 411
    }
   ],
   "source": [
    "eigvx,_=la.eig(X)\n",
    "eigvxt,_=la.eig(Xtilde)\n",
    "fig,ax=plt.subplots(2,2,figsize=(9,9))\n",
    "ax[0][0].scatter(np.real(eigvx),np.imag(eigvx),s=2.0,c='red',alpha=0.5)\n",
    "ax[0][0].set_aspect('equal')\n",
    "print(np.sqrt(xee**2*NE/N))\n",
    "ax[1][0].scatter(np.real(eigvxt),np.imag(eigvxt),s=2.0,c='red',alpha=0.5)\n",
    "ax[1][0].set_aspect('equal')\n",
    "# HISTOGRAM\n",
    "n, bins, patches = ax[0][1].hist(np.real(eigvx), 20, density=True, alpha=0.5)\n",
    "ax[0][1].set_xlim([-4.0,4.0])\n",
    "n, bins, patches = ax[1][1].hist(np.real(eigvxt), 20, density=True, alpha=0.5)\n",
    "ax[0][1].set_xlim([-4.0,4.0])\n",
    "# SUBTYPE\n",
    "XEI,XTEI=X[:NE,NE:],Xtilde[:NE,NE:]\n",
    "eigvEI,eigvec=la.eig(XEI)\n",
    "eigvTEI,eigvec=la.eig(XTEI)\n",
    "fig,ax=plt.subplots(1,2,figsize=(6,6))\n",
    "ax[0].scatter(np.real(eigvEI),np.imag(eigvEI),s=5.0,c='blue',alpha=0.5)\n",
    "ax[1].scatter(np.real(eigvTEI),np.imag(eigvTEI),s=5.0,c='blue',alpha=0.5)\n",
    "\n",
    "XEE,XTEE=X[:NE,:NE],Xtilde[:NE,:NE]\n",
    "eigvEE,eigvec=la.eig(XEE)\n",
    "eigvTEE,eigvec=la.eig(XTEE)\n",
    "fig,ax=plt.subplots(1,2,figsize=(6,6))\n",
    "ax[0].scatter(np.real(eigvEE),np.imag(eigvEE),s=5.0,c='red',alpha=0.5)\n",
    "ax[1].scatter(np.real(eigvTEE),np.imag(eigvTEE),s=5.0,c='red',alpha=0.5)\n",
    "\n",
    "XIE,XTIE=X[NE:,:NE],Xtilde[NE:,:NE]\n",
    "eigvIE,eigvec=la.eig(XIE)\n",
    "eigvTIE,eigvec=la.eig(XTIE)\n",
    "fig,ax=plt.subplots(1,2,figsize=(6,6))\n",
    "ax[0].scatter(np.real(eigvIE),np.imag(eigvIE),s=5.0,c='blue',alpha=0.5)\n",
    "ax[1].scatter(np.real(eigvTIE),np.imag(eigvTIE),s=5.0,c='blue',alpha=0.5)\n",
    "\n",
    "XII,XTII=X[NE:,NE:],Xtilde[NE:,NE:]\n",
    "eigvII,eigvec=la.eig(XII)\n",
    "eigvTII,eigvec=la.eig(XTII)\n",
    "fig,ax=plt.subplots(1,2,figsize=(6,6))\n",
    "ax[0].scatter(np.real(eigvII),np.imag(eigvII),s=5.0,c='red',alpha=0.5)\n",
    "ax[1].scatter(np.real(eigvTII),np.imag(eigvTII),s=5.0,c='red',alpha=0.5)\n"
   ]
  },
  {
   "source": [
    "# 24/12 Generate Figures and Some Questions"
   ],
   "cell_type": "markdown",
   "metadata": {}
  },
  {
   "cell_type": "code",
   "execution_count": 1011,
   "metadata": {},
   "outputs": [],
   "source": [
    "def calculate_angle(vector_1,vector_2):\n",
    "    unit_vector_1 = vector_1 /np.linalg.norm(vector_1)\n",
    "    unit_vector_2 = vector_2 /np.linalg.norm(vector_2)\n",
    "    dot_product = np.dot(unit_vector_1, unit_vector_2)\n",
    "    angle = np.arccos(dot_product)\n",
    "    return angle"
   ]
  },
  {
   "source": [
    "## Generate Matrix"
   ],
   "cell_type": "markdown",
   "metadata": {}
  },
  {
   "cell_type": "code",
   "execution_count": 2171,
   "metadata": {},
   "outputs": [],
   "source": [
    "Nt=np.array([1000,1000])\n",
    "NE,NI=Nt[0],Nt[1]\n",
    "Nparams=np.array([NE,NI])\n",
    "\n",
    "def generate_localstatsmat(Nparams,Grand):\n",
    "    xee,xei,xie,xii=Grand[0],Grand[1],Grand[2],Grand[3]\n",
    "    NE,NI=Nparams[0],Nparams[1]\n",
    "    N=NE+NI\n",
    "    at = Nt/N   \n",
    "    X=np.zeros((N,N))\n",
    "    X[:NE,:NE],X[NE:,NE:]=np.random.randn(NE,NE),np.random.randn(NE,NE)\n",
    "    X[:NE,NE:],X[NE:,:NE]=np.random.randn(NE,NE),np.random.randn(NE,NE)\n",
    "\n",
    "    X[:NE,:NE],X[NE:,NE:]=xee*X[:NE,:NE]/np.sqrt(NE),xii*X[NE:,NE:]/np.sqrt(NI)\n",
    "    X[:NE,NE:],X[NE:,:NE]=xei*X[:NE,NE:]/np.sqrt(NE),xie*X[NE:,:NE]/np.sqrt(NI)\n",
    "    # print('std indeed:',xee/np.sqrt(N),xei/np.sqrt(N),xie/np.sqrt(N),xii/np.sqrt(N))\n",
    "    eigvx,eigvecx=la.eig(X)\n",
    "    # theoretical M (grandom) matrix \n",
    "    gmat = np.array([[xee**2,xei**2],[xie**2,xii**2]])\n",
    "    # first do not multiply at\n",
    "    gaverage=0\n",
    "    for i in range(2):\n",
    "        for j in range(2):\n",
    "            gaverage+=gmat[i,j]/2 # ntype=2\n",
    "    gaverage=np.sqrt(gaverage)\n",
    "    # for i in range(2):\n",
    "    #     gmat[:,i]*=at[i]\n",
    "    eigvgm,eigvecgm=schur(gmat)\n",
    "    # eigvgm=eigvals(eigvgm)\n",
    "    ugm,svgm,vhgm=la.svd(gmat)\n",
    "    vgm=vhgm.T\n",
    "    ngm=vhgm.copy()\n",
    "    ngm=ngm.T \n",
    "    ngm[:,0],ngm[:,1]=svgm[0]*ngm[:,0],svgm[1]*ngm[:,1]\n",
    "\n",
    "    # properties\n",
    "    Gamp=np.zeros((2,2))\n",
    "    Gamp[0,0],Gamp[0,1],Gamp[1,0],Gamp[1,1]=xee,xei,xie,xii\n",
    "\n",
    "    return (X,Gamp,eigvgm,eigvecgm,gaverage,ugm,svgm,vgm)\n",
    "\n",
    "def generate_meanmat(Nparams,JE,JI):\n",
    "    # mean value \n",
    "    # first use rank-1 structure\n",
    "    NE,NI=Nparams[0],Nparams[1]\n",
    "    N=NE+NI\n",
    "    at = Nt/N   \n",
    "    Am=np.zeros((N,N))\n",
    "    Am[:,:NE],Am[:,NE:]=JE/NE,-JI/NI\n",
    "    ua,svam,vha=la.svd(Am)\n",
    "    va=vha.T\n",
    "    svam=svam[0]\n",
    "    ua,va=np.zeros((N,N)),np.zeros((N,N))\n",
    "    # ua[:,0]=1.0/np.sqrt(N)\n",
    "    # va[:NE,0]=JE/np.sqrt(NE)\n",
    "    # va[NE:,0]=-JI/np.sqrt(NI)\n",
    "    # va[:,0]/=-np.linalg.norm(va[:,0])\n",
    "    # svam=np.sqrt(2*(JE**2+JI**2))\n",
    "    # vha=va.T\n",
    "\n",
    "    Jsv=np.zeros((2,2))\n",
    "    Jsv[0,0],Jsv[0,1],Jsv[1,0],Jsv[1,1]=JE,JI,JE,JI\n",
    "\n",
    "    return (Am,Jsv,ua,svam,va)\n",
    "\n",
    "\n",
    "\n"
   ]
  },
  {
   "cell_type": "code",
   "execution_count": 1558,
   "metadata": {},
   "outputs": [],
   "source": [
    "# Block Gaussian Random Network\n",
    "xee,xei,xie,xii=2.0,0.0,0.0,1.5#1.2,1.2,1.8\n",
    "JE,JI=2.5,2.0\n",
    "\n",
    "Niter =5\n",
    "Np = 20\n",
    "xees=np.linspace(0.4,2.4,Np)\n",
    "gaverages=np.zeros((Np,Niter))\n",
    "gradiuss=np.zeros((Np,Niter))\n",
    "svams = np.zeros((Np,Niter))\n",
    "svxts = np.zeros((Np,Niter))\n",
    "for i in range(Niter):\n",
    "    for idx, xee in enumerate(xees):\n",
    "        # generate random \n",
    "        Grand=np.array([xee,0,0,xii])\n",
    "        X,Gamp,eigvgm,eigvecgm,gaverages[idx,i],ugm,svgm,vgm=generate_localstatsmat(Nparams,Grand)\n",
    "        gradiuss[idx,i]=np.sqrt(eigvgm[0])\n",
    "        # generate mean Am\n",
    "        Am,Jsv,us,svams[idx,i],va=generate_meanmat(Nparams,JE,JI)\n",
    "        # CALCULATE XTOTAL\n",
    "        Xtotal=X.copy()+Am.copy()\n",
    "        # Combine, total svd decomposition\n",
    "        uxt,svxt,vhxt=la.svd(Xtotal)\n",
    "        vxt=vhxt.T   \n",
    "        svxts[idx,i]=svxt[0]\n",
    "\n",
    "\n",
    "\n"
   ]
  },
  {
   "cell_type": "code",
   "execution_count": 1560,
   "metadata": {},
   "outputs": [],
   "source": [
    "ticks = np.linspace(4.7,5.5,3)\n",
    "lims= [4.69,5.51]\n",
    "# calculate the theoretical singular values of Xtotal\n",
    "svxts_theo = np.mean(svams[0]+gaverages**2/svams[0],axis=1)\n",
    "svxts_theo_eff = np.mean(svams[0]+gradiuss**2/svams[0],axis=1)\n",
    "svxtsm=np.mean(svxts,axis=1)\n",
    "fig,ax=plt.subplots(figsize=(6,6))\n",
    "ax.plot(svxtsm,svxtsm,'k--',linewidth=1.0,alpha=0.5)\n",
    "ax.plot(svxtsm,svxts_theo,'r.',linewidth=1.5)\n",
    "ax.plot(svxtsm,svxts_theo_eff,'b.',linewidth=1.5)\n",
    "ax.set_xlim(lims)\n",
    "ax.set_ylim(lims)\n",
    "ax.set_xticks(ticks)\n",
    "ax.set_yticks(ticks)\n",
    "ax.set_aspect('equal')\n",
    "\n",
    "\n"
   ]
  },
  {
   "cell_type": "code",
   "execution_count": 1952,
   "metadata": {},
   "outputs": [],
   "source": [
    "# Block Gaussian Random Network\n",
    "xee,xei,xie,xii=0.8,0.5,0.0,0.6#1.2,1.2,1.8\n",
    "JE,JI=2.0,4.0\n",
    "\n",
    "# generate random \n",
    "Grand=np.array([xee,xei,xie,xii])\n",
    "X,Gamp,eigvgm,eigvecgm,gaverage,ugm,svgm,vgm=generate_localstatsmat(Nparams,Grand)\n",
    "gradius=np.sqrt(eigvgm[0])\n",
    "# generate mean Am\n",
    "Am,Jsv,ua,svam,va=generate_meanmat(Nparams,JE,JI)\n",
    "# CALCULATE XTOTAL\n",
    "Xtotal=X.copy()+Am.copy()\n",
    "# Combine, total svd decomposition\n",
    "uxt,svxt,vhxt=la.svd(Xtotal)\n",
    "vxt=vhxt.T   \n"
   ]
  },
  {
   "cell_type": "code",
   "execution_count": 2174,
   "metadata": {},
   "outputs": [
    {
     "output_type": "stream",
     "name": "stdout",
     "text": [
      "4.0024992192379 -1.555971208310775 (1.009519576962299+0j)\n8.133668045086736 8.170961914639069 (8.1323101155614+0j)\n"
     ]
    }
   ],
   "source": [
    "## difference between singular value and eigenvalue\n",
    "# First Set of Figures\n",
    "# figure, validate results in sharpee's paper\n",
    "# ticks and labels\n",
    "# eigvx,eigvecx=la.eig(Xtotal)\n",
    "theta = np.linspace(0, 2 * np.pi, 200)\n",
    "xc = gradius*np.cos(theta)\n",
    "yc = gradius*np.sin(theta)\n",
    "\n",
    "xa = gaverage*np.cos(theta)\n",
    "ya = gaverage*np.sin(theta)\n",
    "\n",
    "ticks = np.linspace(-1.50,1.50,3)\n",
    "lims= [-1.51,1.51]\n",
    "nbins=100\n",
    "fig,ax=plt.subplots(figsize=(6,6))\n",
    "# eigenvalue\n",
    "ax.scatter(np.real(eigvx),np.imag(eigvx),s=2.0,c='blue',alpha=0.5)\n",
    "ax.plot(xc, yc, color=\"darkred\", linewidth=2)\n",
    "ax.plot(xa, ya, color=\"grey\", linewidth=2,linestyle='--')\n",
    "ax.set_xlim(lims)\n",
    "ax.set_ylim(lims)\n",
    "ax.set_xticks(ticks)\n",
    "ax.set_yticks(ticks)\n",
    "ax.set_aspect('equal')\n",
    "ax.set_title(r'$J_E,\\ J_I=$'+str(JE)+','+str(JI)+'\\n $\\lambda_1=$'+str(format(gradius,'.1f'))+r', $g_{avg}=$'+str(format(gaverage,'.1f')),fontsize=14)\n",
    "print(np.sqrt(0.5*JE**2+0.5*JI**2),np.min(np.real(eigvx)),gradius)\n",
    "print(gaverage**2/svam+svam,svxt[0],gradius**2/svam+svam)"
   ]
  },
  {
   "cell_type": "code",
   "execution_count": 2180,
   "metadata": {},
   "outputs": [
    {
     "output_type": "stream",
     "name": "stdout",
     "text": [
      "[-0.1  1.4]\n[-0.1+0.j  1.4+0.j]\n"
     ]
    }
   ],
   "source": [
    "eigvgme,_=la.eig(Gamp)\n",
    "print(eigvgme[:2])\n",
    "eigvgmt,_=schur(Gamp)\n",
    "print(eigvals(eigvgmt))"
   ]
  },
  {
   "source": [
    "Parameters\n",
    "a(M, M) array_like\n",
    "Matrix to decompose\n",
    "output{‘real’, ‘complex’}, optional\n",
    "Construct the real or complex Schur decomposition (for real matrices).\n",
    "lworkint, optional\n",
    "Work array size. If None or -1, it is automatically computed.\n",
    "overwrite_abool, optional\n",
    "Whether to overwrite data in a (may improve performance).\n",
    "sort{None, callable, ‘lhp’, ‘rhp’, ‘iuc’, ‘ouc’}, optional\n",
    "Specifies whether the upper eigenvalues should be sorted. A callable may be passed that, given a eigenvalue, returns a boolean denoting whether the eigenvalue should be sorted to the top-left (True). Alternatively, string parameters may be used:\n",
    "'lhp'   Left-hand plane (x.real < 0.0)\n",
    "'rhp'   Right-hand plane (x.real > 0.0)\n",
    "'iuc'   Inside the unit circle (x*x.conjugate() <= 1.0)\n",
    "'ouc'   Outside the unit circle (x*x.conjugate() > 1.0)"
   ],
   "cell_type": "markdown",
   "metadata": {}
  },
  {
   "source": [
    "## test how the iid vectors constitute overall\n",
    "## put them together and try to figure out the the properties"
   ],
   "cell_type": "markdown",
   "metadata": {}
  },
  {
   "cell_type": "code",
   "execution_count": 2251,
   "metadata": {},
   "outputs": [],
   "source": [
    "# Block Gaussian Random Network\n",
    "xee,xei,xie,xii=0.2,0.,0.,0.6#1.2,1.2,1.8\n",
    "JE,JI=4.0*xee,4.0*xii\n",
    "\n",
    "# generate random \n",
    "Grand=np.array([xee,xei,xie,xii])\n",
    "X,Gamp,eigvgmT,eigvecgm,gaverage,ugm,svgm,vgm=generate_localstatsmat(Nparams,Grand)\n",
    "eigvgm=eigvals(eigvgmT)\n",
    "idx = eigvgm.argsort()[::-1]   \n",
    "eigvgm = eigvgm[idx]\n",
    "gradius=np.sqrt(eigvgm[0])\n",
    "# generate mean Am\n",
    "Am,Jsv,ua,svam,va=generate_meanmat(Nparams,JE,JI)\n",
    "# # CALCULATE XTOTAL\n",
    "# Xtotal=X.copy()+Am.copy()\n",
    "# # Combine, total svd decomposition\n",
    "# uxt,svxt,vhxt=la.svd(Xtotal)\n",
    "# vxt=vhxt.T   \n",
    "# eigvx,eigvecx=la.eig(Xtotal)"
   ]
  },
  {
   "cell_type": "code",
   "execution_count": 2252,
   "metadata": {},
   "outputs": [
    {
     "output_type": "stream",
     "name": "stdout",
     "text": [
      "singular value, outliers\n[3.64688737 1.19663846 1.19351498]\n[1.19698633 1.1942016  1.18202854]\n"
     ]
    }
   ],
   "source": [
    "Xtotal=X.copy()+Am.copy()\n",
    "# singular decomposition blockage\n",
    "XEEtotal,XEItotal,XIEtotal,XIItotal=Xtotal[:NE,:NE],Xtotal[:NE,NE:],Xtotal[NE:,:NE],Xtotal[NE:,NE:]\n",
    "uxtEE,svxtEE,vhxtEE=la.svd(XEEtotal)\n",
    "vxtEE=vhxtEE.T\n",
    "uxtEI,svxtEI,vhxtEI=la.svd(XEItotal)\n",
    "vxtEI=vhxtEI.T\n",
    "uxtIE,svxtIE,vhxtIE=la.svd(XIEtotal)\n",
    "vxtIE=vhxtIE.T\n",
    "uxtII,svxtII,vhxtII=la.svd(XIItotal)\n",
    "vxtII=vhxtII.T\n",
    "# Combine, total svd decomposition\n",
    "uxt,svxt,vhxt=la.svd(Xtotal)\n",
    "vxt=vhxt.T\n",
    "# decomposition of the noise\n",
    "ux,svx,vhx=la.svd(X)\n",
    "vx=vhx.T\n",
    "# print singular values\n",
    "print('singular value, outliers')\n",
    "print(svxt[:3])\n",
    "print(svx[:3])"
   ]
  },
  {
   "source": [
    "## plot eigenvalues here"
   ],
   "cell_type": "markdown",
   "metadata": {}
  },
  {
   "cell_type": "code",
   "execution_count": 2253,
   "metadata": {},
   "outputs": [
    {
     "output_type": "stream",
     "name": "stdout",
     "text": [
      "1.7888543819998317 -1.6044156051235483 (0.6+0j)\n3.6336104634371464 3.6468873668390103 (3.6783318229871425+0j)\n"
     ]
    }
   ],
   "source": [
    "eigvx,_=la.eig(Xtotal)\n",
    "theta = np.linspace(0, 2 * np.pi, 200)\n",
    "xc = gradius*np.cos(theta)\n",
    "yc = gradius*np.sin(theta)\n",
    "\n",
    "xa = gaverage*np.cos(theta)\n",
    "ya = gaverage*np.sin(theta)\n",
    "\n",
    "tickeig=np.fabs(JE-JI)*1.5\n",
    "ticks = np.linspace(-tickeig,tickeig,3)\n",
    "lims= [-tickeig-0.01,tickeig+0.01]\n",
    "nbins=100\n",
    "fig,ax=plt.subplots(figsize=(6,6))\n",
    "# eigenvalue\n",
    "ax.scatter(np.real(eigvx),np.imag(eigvx),s=2.0,c='blue',alpha=0.5)\n",
    "ax.plot(xc, yc, color=\"darkred\", linewidth=2)\n",
    "ax.plot(xa, ya, color=\"grey\", linewidth=2,linestyle='--')\n",
    "ax.set_xlim(lims)\n",
    "ax.set_ylim(lims)\n",
    "ax.set_xticks(ticks)\n",
    "ax.set_yticks(ticks)\n",
    "ax.set_aspect('equal')\n",
    "ax.set_title(r'$J_E,\\ J_I=$'+str(JE)+','+str(JI)+'\\n $\\lambda_1=$'+str(format(gradius,'.1f'))+r', $g_{avg}=$'+str(format(gaverage,'.1f')),fontsize=14)\n",
    "print(np.sqrt(0.5*JE**2+0.5*JI**2),np.min(np.real(eigvx)),gradius)\n",
    "print(gaverage**2/svam+svam,svxt[0],gradius**2/svam+svam)"
   ]
  },
  {
   "cell_type": "code",
   "execution_count": 2254,
   "metadata": {},
   "outputs": [],
   "source": [
    "iid_sv=np.zeros((2,2))\n",
    "iid_sv=np.array([[JE,JI],[JE,JI]])\n",
    "iid_sv[0,0]=iid_sv[0,0]+xee**2/iid_sv[0,0]\n",
    "iid_sv[0,1]=iid_sv[0,1]+xei**2/iid_sv[0,1]\n",
    "iid_sv[1,0]=iid_sv[1,0]+xie**2/iid_sv[1,0]\n",
    "iid_sv[1,1]=iid_sv[1,1]+xii**2/iid_sv[1,1]\n",
    "\n"
   ]
  },
  {
   "cell_type": "code",
   "execution_count": 2255,
   "metadata": {},
   "outputs": [],
   "source": [
    "## test EE, EI, IE, II separately\n",
    "iid_mu_u,iid_mu_v ={},{}\n",
    "\n",
    "iid_mu_u['E'],iid_mu_u['I']=np.zeros((2,1)),np.zeros((2,1))\n",
    "iid_mu_v['E'],iid_mu_v['I']=np.zeros((2,1)),np.zeros((2,1))\n",
    "\n",
    "iid_mu_u['E'][0,0],iid_mu_u['E'][1,0]=np.mean(uxtEE[:,0]),np.mean(uxtEI[:,0])\n",
    "iid_mu_u['I'][0,0],iid_mu_u['I'][1,0]=np.mean(uxtIE[:,0]),np.mean(uxtII[:,0])\n",
    "iid_mu_v['E'][0,0],iid_mu_v['E'][1,0]=np.mean(vxtEE[:,0]),np.mean(vxtIE[:,0])\n",
    "iid_mu_v['I'][0,0],iid_mu_v['I'][1,0]=np.mean(vxtEI[:,0]),np.mean(vxtII[:,0])\n",
    "\n",
    "mua,mva = np.zeros((2,1)),np.zeros((2,1))\n",
    "mua[0,0],mua[1,0]=ua[0,0],ua[NE+1,0]\n",
    "mva[0,0],mva[1,0]=va[0,0],va[NE+1,0]\n",
    "\n",
    "iid_noise_u,iid_noise_v ={},{}\n",
    "iid_noise_u['E'],iid_noise_u['I']=np.zeros((NE,2)),np.zeros((NE,2))\n",
    "iid_noise_v['E'],iid_noise_v['I']=np.zeros((NE,2)),np.zeros((NE,2))\n",
    "\n",
    "iid_noise_u['E'][:,0],iid_noise_u['E'][:,1]=(uxtEE[:,0]-iid_mu_u['E'][0,0]),(uxtEI[:,0]-iid_mu_u['E'][1,0])\n",
    "iid_noise_u['I'][:,0],iid_noise_u['I'][:,1]=(uxtIE[:,0]-iid_mu_u['I'][0,0]),(uxtII[:,0]-iid_mu_u['I'][1,0])\n",
    "iid_noise_v['E'][:,0],iid_noise_v['E'][:,1]=(vxtEE[:,0]-iid_mu_v['E'][0,0]),(vxtIE[:,0]-iid_mu_v['E'][1,0])\n",
    "iid_noise_v['I'][:,0],iid_noise_v['I'][:,1]=(vxtEI[:,0]-iid_mu_v['I'][0,0]),(vxtII[:,0]-iid_mu_v['I'][1,0])\n",
    "# std noise iid\n",
    "std_iidn_u =np.zeros((2,2))\n",
    "std_iidn_u[0,0],std_iidn_u[0,1]=np.std(iid_noise_u['E'][:,0])*np.sqrt(NE),np.std(iid_noise_u['E'][:,1])*np.sqrt(NE)\n",
    "std_iidn_u[1,0],std_iidn_u[1,1]=np.std(iid_noise_u['I'][:,0])*np.sqrt(NE),np.std(iid_noise_u['I'][:,1])*np.sqrt(NE)\n",
    "\n",
    "# std noise iid v\n",
    "std_iidn_v =np.zeros((2,2))\n",
    "std_iidn_v[0,0],std_iidn_v[0,1]=np.std(iid_noise_v['E'][:,0])*np.sqrt(NE),np.std(iid_noise_v['E'][:,1])*np.sqrt(NE)\n",
    "std_iidn_v[1,0],std_iidn_v[1,1]=np.std(iid_noise_v['I'][:,0])*np.sqrt(NE),np.std(iid_noise_v['I'][:,1])*np.sqrt(NE)\n",
    "# print(std_iidn_v)\n",
    "\n",
    "mu_u,mu_v=np.zeros((2,1)),np.zeros((2,1))\n",
    "mu_u[0,0],mu_u[1,0]=np.mean(uxt[:NE,0]),np.mean(uxt[NE:,0])\n",
    "mu_v[0,0],mu_v[1,0]=np.mean(vxt[:NE,0]),np.mean(vxt[NE:,0])\n",
    "\n",
    "## print noise tt\n",
    "noise_u,noise_v=np.zeros((NE,2)),np.zeros((NE,2))\n",
    "noise_u[:,0],noise_u[:,1]=(uxt[:NE,0]-mu_u[0,0]),(uxt[NE:,0]-mu_u[1,0])\n",
    "noise_v[:,0],noise_v[:,1]=(vxt[:NE,0]-mu_v[0,0]),(vxt[NE:,0]-mu_v[1,0])\n",
    "\n",
    "# std noise total\n",
    "std_noise_u =np.zeros((2,1))\n",
    "std_noise_u[0,0],std_noise_u[1,0]=np.std(noise_u[:,0])*np.sqrt(NE),np.std(noise_u[:,1])*np.sqrt(NE)\n",
    "std_noise_v =np.zeros((2,1))\n",
    "std_noise_v[0,0],std_noise_v[1,0]=np.std(noise_v[:,0])*np.sqrt(NE),np.std(noise_v[:,1])*np.sqrt(NE)\n"
   ]
  },
  {
   "cell_type": "code",
   "execution_count": 2256,
   "metadata": {},
   "outputs": [
    {
     "output_type": "stream",
     "name": "stdout",
     "text": [
      "3.6468873668390103 3.6336104634371464 (3.6139330652351482+0j)\ntest noise: 0.007905694150420948 0.008016307555183537\ntest noise: 0.007905694150420948 0.008163946619980662\ntest noise: 0.0 1.6470733044932926e-16\ntest noise: 0.0 3.816121903885924e-17\n"
     ]
    }
   ],
   "source": [
    "tavgsv=svam+gaverage**2/svam\n",
    "tmaxgsv=svam+eigvgm[0]**2/svam\n",
    "print(svxt[0],tavgsv,tmaxgsv)\n",
    "print('test noise:',xee/JE/np.sqrt(NE),np.std(iid_noise_u['E'][:,0]))\n",
    "print('test noise:',xii/JI/np.sqrt(NE),np.std(iid_noise_u['I'][:,1]))\n",
    "\n",
    "print('test noise:',xie/JE/np.sqrt(NE),np.std(iid_noise_u['I'][:,0]))\n",
    "print('test noise:',xei/JI/np.sqrt(NE),np.std(iid_noise_u['E'][:,1]))"
   ]
  },
  {
   "source": [
    "## integrate all iid noise base and tilde noise base"
   ],
   "cell_type": "markdown",
   "metadata": {}
  },
  {
   "cell_type": "code",
   "execution_count": 2257,
   "metadata": {},
   "outputs": [],
   "source": [
    "# u base\n",
    "unoisebase=np.zeros((NE,4))\n",
    "unoisebase[:,0]=iid_noise_u['E'][:,0]/std_iidn_u[0,0]\n",
    "unoisebase[:,3]=iid_noise_u['I'][:,1]/std_iidn_u[1,1]\n",
    "\n",
    "# v base\n",
    "vnoisebase=np.zeros((NE,4))\n",
    "vnoisebase[:,0]=iid_noise_v['E'][:,0]/std_iidn_v[0,0]\n",
    "vnoisebase[:,3]=iid_noise_v['I'][:,1]/std_iidn_v[1,1]\n",
    "\n",
    "# # u base\n",
    "# unoisebase=np.zeros((NE,4))\n",
    "# unoisebase[:,0]=iid_noise_u['E'][:,0]/std_iidn_u[0,0]\n",
    "# unoisebase[:,1]=iid_noise_u['E'][:,1]/std_iidn_u[0,1]#*0\n",
    "# unoisebase[:,3]=iid_noise_u['I'][:,1]/std_iidn_u[1,1]\n",
    "\n",
    "# # v base\n",
    "# vnoisebase=np.zeros((NE,4))\n",
    "# vnoisebase[:,0]=iid_noise_v['E'][:,0]/std_iidn_v[0,0]\n",
    "# vnoisebase[:,2]=iid_noise_v['I'][:,0]/std_iidn_v[1,0]#*0\n",
    "# vnoisebase[:,3]=iid_noise_v['I'][:,1]/std_iidn_v[1,1]\n",
    "\n",
    "# # u base\n",
    "# unoisebase=np.zeros((NE,4))\n",
    "# unoisebase[:,0]=iid_noise_u['E'][:,0]/std_iidn_u[0,0]\n",
    "# unoisebase[:,1]=iid_noise_u['E'][:,1]/std_iidn_u[0,1]#*0\n",
    "# unoisebase[:,2]=iid_noise_u['I'][:,0]/std_iidn_u[1,0]#*0\n",
    "# unoisebase[:,3]=iid_noise_u['I'][:,1]/std_iidn_u[1,1]\n",
    "\n",
    "# # v base\n",
    "# vnoisebase=np.zeros((NE,4))\n",
    "# vnoisebase[:,0]=iid_noise_v['E'][:,0]/std_iidn_v[0,0]\n",
    "# vnoisebase[:,1]=iid_noise_v['E'][:,1]/std_iidn_v[0,1]#*0\n",
    "# vnoisebase[:,2]=iid_noise_v['I'][:,0]/std_iidn_v[1,0]#*0\n",
    "# vnoisebase[:,3]=iid_noise_v['I'][:,1]/std_iidn_v[1,1]"
   ]
  },
  {
   "cell_type": "code",
   "execution_count": 2258,
   "metadata": {},
   "outputs": [
    {
     "output_type": "execute_result",
     "data": {
      "text/plain": [
       "<matplotlib.colorbar.Colorbar at 0x7fe413c7b4c0>"
      ]
     },
     "metadata": {},
     "execution_count": 2258
    }
   ],
   "source": [
    "# creat noise base 2\n",
    "\n",
    "noise_u_norm=noise_u.copy()\n",
    "for i in range(2):\n",
    "    noise_u_norm[:,i]/=std_noise_u[i,0]\n",
    "noise_v_norm=noise_v.copy()\n",
    "for i in range(2):\n",
    "    noise_v_norm[:,i]/=std_noise_v[i,0]\n",
    "\n",
    "# tilde noise uEI-vEI\n",
    "tilde_noise = np.zeros((NE,4))\n",
    "tilde_noise[:,:2]=noise_u_norm.copy()\n",
    "tilde_noise[:,2:]=noise_v_norm.copy()\n",
    "\n",
    "iid_noise = np.zeros((NE,8))\n",
    "iid_noise[:,:4]=unoisebase.copy()\n",
    "iid_noise[:,4:]=vnoisebase.copy()\n",
    "\n",
    "# u noise correlation\n",
    "# utildeU\n",
    "unoisecov = np.zeros((2,4))\n",
    "unoisecov = noise_u_norm.T@unoisebase\n",
    "uvbasecov=noise_u_norm.T@vnoisebase\n",
    "# utildeV\n",
    "vnoisecov = np.zeros((2,4))\n",
    "vnoisecov = noise_v_norm.T@vnoisebase\n",
    "vubasecov=noise_v_norm.T@unoisebase\n",
    "\n",
    "# PLOT FIGURE\n",
    "# total overlap rho\n",
    "noise_rho=tilde_noise.T@iid_noise\n",
    "# print(noise_rho)\n",
    "plt.figure()\n",
    "plt.imshow(noise_rho**2,cmap='jet')\n",
    "plt.clim([0.0,1.5])\n",
    "plt.colorbar()\n",
    "iid_noise_cov=iid_noise.T@iid_noise\n",
    "# print(iid_noise_cov)\n",
    "plt.figure()\n",
    "plt.imshow(iid_noise_cov,cmap='jet')\n",
    "plt.clim([0.0,1.5])\n",
    "plt.colorbar()\n",
    "\n",
    "# ## noise_rho sum to one \n",
    "# squarenoise_rho=noise_rho**2\n",
    "# rho_sum = np.sum(squarenoise_rho,axis=1)\n",
    "# print(rho_sum)"
   ]
  },
  {
   "source": [
    "## noise covariance and mean-total covariance"
   ],
   "cell_type": "markdown",
   "metadata": {}
  },
  {
   "cell_type": "code",
   "execution_count": 2259,
   "metadata": {},
   "outputs": [],
   "source": [
    "# alphas are for u, the left singular vectors\n",
    "alphau = np.zeros((2,2))\n",
    "alphau[0,0]=np.sum(iid_noise_u['E'][:,0]*noise_u[:,0])/np.sum(iid_noise_u['E'][:,0]*iid_noise_u['E'][:,0]) # alphau--u^E_EE,\n",
    "alphau[1,1]=np.sum(iid_noise_u['I'][:,1]*noise_u[:,1])/np.sum(iid_noise_u['I'][:,1]*iid_noise_u['I'][:,1]) # alphau--u^I_II,\n",
    "alphau[0,1]=np.sum(iid_noise_u['E'][:,1]*noise_u[:,0])/np.sum(iid_noise_u['E'][:,1]*iid_noise_u['E'][:,1]) # alphau--u^E_EI,\n",
    "alphau[1,0]=np.sum(iid_noise_u['I'][:,0]*noise_u[:,1])/np.sum(iid_noise_u['I'][:,0]*iid_noise_u['I'][:,0]) # alphau--u^I_IE\n",
    "# alphau*=2.0\n",
    "\n",
    "# betas are for v, the right singular vectors\n",
    "betav = np.zeros((2,2))\n",
    "betav[0,0]=np.sum(iid_noise_v['E'][:,0]*noise_v[:,0])/np.sum(iid_noise_v['E'][:,0]*iid_noise_v['E'][:,0]) # alphau0--v^E_EE, 1-SQUARE v^E_IE\n",
    "betav[1,1]=np.sum(iid_noise_v['I'][:,1]*noise_v[:,1])/np.sum(iid_noise_v['I'][:,1]*iid_noise_v['I'][:,1]) # alphau0--v^I_II, 1-SQUARE V^I_EI\n",
    "betav[0,1]=np.sum(iid_noise_v['E'][:,1]*noise_v[:,0])/np.sum(iid_noise_v['E'][:,1]*iid_noise_v['E'][:,1]) # alphau0--v^E_EE, 1-SQUARE v^E_IE\n",
    "betav[1,0]=np.sum(iid_noise_v['I'][:,0]*noise_v[:,1])/np.sum(iid_noise_v['I'][:,0]*iid_noise_v['I'][:,0]) # alphau0--v^I_II, 1-SQUARE V^I_EI\n",
    "# betav*=2.0\n",
    "\n",
    "# for i in range(2):\n",
    "#     if alphau[i,0]>1.0:\n",
    "#         alphau[i,0]=1.0\n",
    "#     if betav[i,0]>1.0:\n",
    "#         betav[i,0]=1.0"
   ]
  },
  {
   "cell_type": "code",
   "execution_count": 2261,
   "metadata": {},
   "outputs": [
    {
     "output_type": "stream",
     "name": "stdout",
     "text": [
      "(0.11111111111111113+0j)\n[[0.04 0.  ]\n [0.   0.36]]\n0.11111111111111113 0.11111111111111113\n[[0.04 0.  ]\n [0.   0.36]]\n[[1. 0.]\n [0. 1.]]\n"
     ]
    }
   ],
   "source": [
    "# print(gradius**4,gaverage**4,0.6**2)\n",
    "print(eigvgm[1]/eigvgm[0])\n",
    "# print(np.sqrt(eigvgm[0]/eigvgm[1]))\n",
    "\n",
    "# print(eigvecgm)\n",
    "eigvgmT2=eigvgmT\n",
    "print(eigvgmT2)\n",
    "fv=(eigvgmT2[0,0]-eigvgmT2[0,1])/eigvgmT2[1,1]\n",
    "sv=(eigvgmT2[0,0]+eigvgmT2[0,1])/eigvgmT2[1,1]\n",
    "print(fv,sv)\n",
    "T2,A2=schur((Gamp**2).T)\n",
    "print(T2)\n",
    "print(A2)"
   ]
  },
  {
   "cell_type": "code",
   "execution_count": 2262,
   "metadata": {},
   "outputs": [
    {
     "output_type": "stream",
     "name": "stdout",
     "text": [
      "alpha for u\n-0.10799991381735392\nbeta for v\n-0.30766979982765935\n[[ 1.49489773e-01  2.69534744e+11]\n [ 1.56437626e+11 -4.85877305e-01]]\n[[ 6.81984452e-02 -3.70166347e+11]\n [ 9.97602574e+11 -6.31467589e-01]]\n[[0.01743657]\n [0.16424649]]\n[[0.03888179]\n [0.12248313]]\n0.01728816284776431 0.017436566129445094\n"
     ]
    }
   ],
   "source": [
    "print('alpha for u')\n",
    "testu=alphau#*std_iidn_u*np.sqrt(NE)\n",
    "print(testu[0,0]/testu[1,1])\n",
    "print('beta for v')\n",
    "testv=betav#*std_iidn_v*np.sqrt(NE)\n",
    "print(testv[0,0]/testv[1,1])\n",
    "print(testv)\n",
    "print(alphau)\n",
    "print(std_noise_u)\n",
    "print(std_noise_v)\n",
    "recstdn=alphau[0,0]*std_iidn_u[0,0]\n",
    "print(recstdn,std_noise_u[0,0])"
   ]
  },
  {
   "cell_type": "code",
   "execution_count": 1906,
   "metadata": {},
   "outputs": [
    {
     "output_type": "stream",
     "name": "stdout",
     "text": [
      "alpha for u\n[[ 4.54177426e-01 -3.59986448e+10]\n [ 3.17195669e+10 -2.50542974e-01]]\nbeta for v\n[[ 4.02563895e-01 -3.34237915e+12]\n [ 8.28639225e+11 -2.94597079e-01]]\n[[0.06024812]\n [0.03326155]]\n[[0.05360861]\n [0.03954745]]\n0.06011667282415246 0.060248122969946895\n"
     ]
    }
   ],
   "source": [
    "print('alpha for u')\n",
    "print(alphau)\n",
    "print('beta for v')\n",
    "print(betav)\n",
    "print(std_noise_u)\n",
    "print(std_noise_v)\n",
    "recstdn=alphau[0,0]*std_iidn_u[0,0]\n",
    "print(recstdn,std_noise_u[0,0])"
   ]
  },
  {
   "cell_type": "code",
   "execution_count": null,
   "metadata": {},
   "outputs": [],
   "source": []
  },
  {
   "cell_type": "code",
   "execution_count": 1885,
   "metadata": {},
   "outputs": [
    {
     "output_type": "stream",
     "name": "stdout",
     "text": [
      "alpha for u\n[[ 4.51834622e-01  3.32950327e+12]\n [ 6.11571352e+11 -2.54763538e-01]]\nbeta for v\n[[ 3.99488442e-01  3.88089794e+11]\n [-1.67962221e+12 -2.99722009e-01]]\n[[0.08010687]\n [0.04175825]]\n[[0.06515898]\n [0.05083441]]\n0.07985076454826731 0.08010686692401749\n"
     ]
    }
   ],
   "source": [
    "print('alpha for u')\n",
    "print(alphau)\n",
    "print('beta for v')\n",
    "print(betav)\n",
    "print(std_noise_u)\n",
    "print(std_noise_v)\n",
    "recstdn=alphau[0,0]*std_iidn_u[0,0]\n",
    "print(recstdn,std_noise_u[0,0])\n"
   ]
  },
  {
   "cell_type": "code",
   "execution_count": 1896,
   "metadata": {},
   "outputs": [
    {
     "output_type": "stream",
     "name": "stdout",
     "text": [
      "alpha for u\n[[ 4.56594411e-01  2.23861796e+11]\n [ 1.07390156e+12 -2.45502307e-01]]\nbeta for v\n[[ 4.07056366e-01 -4.79485786e+12]\n [ 2.86150555e+12 -2.88895759e-01]]\n[[0.10389677]\n [0.05434931]]\n[[0.09045104]\n [0.06668043]]\n0.1033313852838914 0.10389677000943144\n"
     ]
    }
   ],
   "source": [
    "print('alpha for u')\n",
    "print(alphau)\n",
    "print('beta for v')\n",
    "print(betav)\n",
    "print(std_noise_u)\n",
    "print(std_noise_v)\n",
    "recstdn=alphau[0,0]*std_iidn_u[0,0]\n",
    "print(recstdn,std_noise_u[0,0])"
   ]
  },
  {
   "cell_type": "code",
   "execution_count": 1855,
   "metadata": {},
   "outputs": [
    {
     "output_type": "stream",
     "name": "stdout",
     "text": [
      "u mean values\n[-0.04153014 -0.03808547] [[0.02196678]\n [0.02225169]]\nv mean values\n[ 0.04106681 -0.03818454] [[ 0.02524815]\n [-0.01850447]]\n"
     ]
    }
   ],
   "source": [
    "## reconstruct utilde and vtilde\n",
    "utilde_rec,vtilde_rec = np.zeros((NE,2)),np.zeros((NE,2))\n",
    "# U\n",
    "utilde_rec[:,0]=-np.mean(uxtEE[:,0])*alphau[0,0]+np.mean(uxtEI[:,0])*np.sqrt(1-alphau[0,0]**2)+iid_noise_u['E'][:,0]*alphau[0,0]\n",
    "utilde_rec[:,1]=np.mean(uxtIE[:,0])*np.sqrt(1-alphau[1,0]**2)-np.mean(uxtII[:,0])*alphau[1,0]+iid_noise_u['I'][:,1]*alphau[1,0]\n",
    "# utilde_rec/=2.0\n",
    "print('u mean values')\n",
    "print(np.mean(utilde_rec,axis=0),mu_u)\n",
    "\n",
    "vtilde_rec[:,0]=+np.mean(vxtEE[:,0])*betav[0,0]+np.mean(vxtEI[:,0])*np.sqrt(1-betav[0,0]**2)+iid_noise_v['E'][:,0]*betav[0,0]\n",
    "vtilde_rec[:,1]=+np.mean(vxtIE[:,0])*np.sqrt(1-betav[1,0]**2)+np.mean(vxtII[:,0])*betav[1,0]+iid_noise_v['I'][:,1]*betav[1,0]\n",
    "# vtilde_rec/=2.0\n",
    "print('v mean values')\n",
    "print(np.mean(vtilde_rec,axis=0),mu_v)"
   ]
  },
  {
   "cell_type": "code",
   "execution_count": 1863,
   "metadata": {},
   "outputs": [
    {
     "output_type": "stream",
     "name": "stdout",
     "text": [
      "after:\n0.02196677593573547 0.03099939561480061 -0.031145669702003928\n0.022251691566333966 -0.03085564044111627 -0.030971538714140472\n-0.031145669702003928 [-0.02784535 -0.03891837]\nx cut 0.8546526641653935\n0.021966775935735466\nafter:\n0.025248154250248313 0.03097489916930401 0.03117847727370033\n0.025248154250248313 0.03097489916930401 -0.030855535097946363\nx cut 0.907379836694937\n0.025248154250248317\n[[7.91126627e-01 1.47196472e-01 2.76632687e-04 2.82673294e-03\n  2.66548544e-03 4.76723286e-04 1.69098938e-04 1.85196663e-03]\n [1.12963232e-03 9.76324460e-05 7.82439573e-01 2.29908275e-01\n  4.07794937e-04 4.32049240e-04 4.11660985e-04 1.70708773e-03]\n [9.89663045e-04 1.86904756e-03 8.91895385e-04 1.18319083e-05\n  4.53347107e-01 5.49504709e-01 2.15306496e-03 1.27646590e-08]\n [1.08953800e-03 3.70798786e-05 1.84455361e-04 5.21120558e-04\n  2.19866631e-05 2.25379412e-03 3.45730715e-01 5.40259684e-01]]\n"
     ]
    }
   ],
   "source": [
    "print('after:')\n",
    "print(mu_u[0,0],np.mean(uxtEE[:,0]),+np.mean(uxtEI[:,0]))\n",
    "print(mu_u[1,0],np.mean(uxtIE[:,0]),np.mean(uxtII[:,0]))\n",
    "print(np.mean(uxtEI[:,0]),uxtEI[:2,0])\n",
    "xe =(mu_u[0,0]-iid_mu_u['E'][1,0])/(iid_mu_u['E'][0,0]-iid_mu_u['E'][1,0])\n",
    "print('x cut',xe)\n",
    "mu_uxtE=xe*np.mean(uxtEE[:,0])+(1-xe)*np.mean(uxtEI[:,0])\n",
    "print(mu_uxtE)\n",
    "# print(squarenoise_rho)\n",
    "\n",
    "# xe =(mu_u[0,0]-iid_mu_u['E'][1,0])/(iid_mu_u['E'][1,0]-iid_mu_u['E'][0,0])\n",
    "# print('x cut',xe)\n",
    "# mu_uxtE=-xe*np.mean(uxtEE[:,0])+(1+xe)*np.mean(uxtEI[:,0])\n",
    "# print(mu_uxtE)\n",
    "print('after:')\n",
    "print(mu_v[0,0],np.mean(vxtEE[:,0]),+np.mean(vxtEI[:,0]))\n",
    "print(mu_v[0,0],iid_mu_v['E'][0,0],iid_mu_v['E'][1,0])\n",
    "xe =(mu_v[0,0]-iid_mu_v['E'][1,0])/(iid_mu_v['E'][0,0]-iid_mu_v['E'][1,0])\n",
    "print('x cut',xe)\n",
    "mu_vxtE=xe*np.mean(vxtEE[:,0])+(1-xe)*np.mean(vxtIE[:,0])\n",
    "print(mu_vxtE)\n",
    "print(squarenoise_rho)"
   ]
  },
  {
   "cell_type": "code",
   "execution_count": 1834,
   "metadata": {},
   "outputs": [
    {
     "output_type": "stream",
     "name": "stdout",
     "text": [
      "after:\n-0.0222943448751776 -0.0309838099902492 -0.031622776601683784\n-0.022120256780568403 -0.031622776601683784 -0.031007628178762146\n-0.031622776601683784 [-0.03162278 -0.03162278]\nx cut -14.599247534330981\n-0.02229434487517762\n"
     ]
    }
   ],
   "source": [
    "print('after:')\n",
    "print(mu_u[0,0],np.mean(uxtEE[:,0]),+np.mean(uxtEI[:,0]))\n",
    "print(mu_u[1,0],np.mean(uxtIE[:,0]),np.mean(uxtII[:,0]))\n",
    "print(np.mean(uxtEI[:,0]),uxtEI[:2,0])\n",
    "# xe =(mu_u[0,0]-iid_mu_u['E'][1,0])/(iid_mu_u['E'][0,0]-iid_mu_u['E'][1,0])\n",
    "# print('x cut',xe)\n",
    "# mu_uxtE=xe*np.mean(uxtEE[:,0])+(1-xe)*np.mean(uxtEI[:,0])\n",
    "# print(mu_uxtE)\n",
    "\n",
    "xe =(mu_u[0,0]-iid_mu_u['E'][1,0])/(iid_mu_u['E'][1,0]-iid_mu_u['E'][0,0])\n",
    "print('x cut',xe)\n",
    "mu_uxtE=-xe*np.mean(uxtEE[:,0])+(1+xe)*np.mean(uxtEI[:,0])\n",
    "print(mu_uxtE)"
   ]
  },
  {
   "cell_type": "code",
   "execution_count": 1738,
   "metadata": {},
   "outputs": [
    {
     "output_type": "execute_result",
     "data": {
      "text/plain": [
       "<matplotlib.collections.PathCollection at 0x7fe2487277f0>"
      ]
     },
     "metadata": {},
     "execution_count": 1738
    }
   ],
   "source": [
    "ticks = np.linspace(-2.0,2.0,5)\n",
    "lims= [-2.1,2.1]\n",
    "nbins=100\n",
    "fig,ax=plt.subplots(1,2,figsize=(10,4.5))\n",
    "# eigenvalue\n",
    "ax[0].scatter(uxt[:NE,0],vxt[:NE,0],s=15.0,c='blue',alpha=0.5)\n",
    "ax[0].scatter(utilde_rec[:,0],vtilde_rec[:,0],s=15.0,c='red',alpha=0.5)\n",
    "ax[1].scatter(uxt[NE:,0],vxt[NE:,0],s=15.0,c='blue',alpha=0.5)\n",
    "ax[1].scatter(utilde_rec[:,1],vtilde_rec[:,1],s=15.0,c='red',alpha=0.5)\n",
    "\n",
    "fig,ax=plt.subplots(1,2,figsize=(10,4.5))\n",
    "# eigenvalue\n",
    "ax[0].scatter(uxt[:NE,0],vxt[:NE,0],s=15.0,c='blue',alpha=0.5)\n",
    "ax[1].scatter(utilde_rec[:,0],vtilde_rec[:,0],s=15.0,c='blue',alpha=0.5)\n",
    "ax[0].scatter(uxt[NE:,0],vxt[NE:,0],s=15.0,c='red',alpha=0.5)\n",
    "ax[1].scatter(utilde_rec[:,1],vtilde_rec[:,1],s=15.0,c='red',alpha=0.5)"
   ]
  },
  {
   "cell_type": "code",
   "execution_count": 1230,
   "metadata": {},
   "outputs": [
    {
     "output_type": "stream",
     "name": "stdout",
     "text": [
      "2.0 0.0 0.0 1.0\n--------------------\nmean value of u with E type (EE EI):\n[[-0.01803964]\n [-0.03162278]] 0.5704633770780799\nmean UE for total\n0.018973665961010272 0.03162277660168379 0.5999999999999999\nmean value of u with I type (IE II):\n[[-0.03162278]\n [-0.03036734]] 1.0413418318129657\nmean UI for total\n0.03162277660168379 0.030304576336566323 1.0434983894999017\nmean value of v with E type (EE IE):\n[[-0.01804564]\n [-0.03162278]] 0.5706532412385339\nmean VE for total\n0.018973665961010272 0.03162277660168379 0.5999999999999999\nmean value of v with I type (EI II):\n[[0.03162278]\n [0.03034521]] 1.0421010282814995\nmean VI for total\n0.03162277660168379 0.030304576336566323 1.0434983894999017\n"
     ]
    }
   ],
   "source": [
    "print(xee,xei,xie,xii)\n",
    "print('--------------------')\n",
    "print('mean value of u with E type (EE EI):')\n",
    "print(iid_mu_u['E'],iid_mu_u['E'][0,0]/iid_mu_u['E'][1,0])\n",
    "print('mean UE for total')\n",
    "print(np.sqrt(1-(xee/JE)**2)/np.sqrt(NE),np.sqrt(1-(xei/JI)**2)/np.sqrt(NE),(np.sqrt(1-(xee/JE)**2)/np.sqrt(1-(xei/JI)**2)))\n",
    "\n",
    "print('mean value of u with I type (IE II):')\n",
    "print(iid_mu_u['I'],iid_mu_u['I'][0,0]/iid_mu_u['I'][1,0])\n",
    "print('mean UI for total')\n",
    "print(np.sqrt(1-(xie/JE)**2)/np.sqrt(NE),np.sqrt(1-(xii/JI)**2)/np.sqrt(NE),(np.sqrt(1-(xie/JE)**2)/np.sqrt(1-(xii/JI)**2)))\n",
    "\n",
    "print('mean value of v with E type (EE IE):')\n",
    "print(iid_mu_v['E'],iid_mu_v['E'][0,0]/iid_mu_v['E'][1,0])\n",
    "print('mean VE for total')\n",
    "print(np.sqrt(1-(xee/JE)**2)/np.sqrt(NE),np.sqrt(1-(xie/JE)**2)/np.sqrt(NE),(np.sqrt(1-(xee/JE)**2)/np.sqrt(1-(xie/JE)**2)))\n",
    "\n",
    "print('mean value of v with I type (EI II):')\n",
    "print(iid_mu_v['I'],iid_mu_v['I'][0,0]/iid_mu_v['I'][1,0])\n",
    "print('mean VI for total')\n",
    "print(np.sqrt(1-(xei/JI)**2)/np.sqrt(NE),np.sqrt(1-(xii/JI)**2)/np.sqrt(NE),(np.sqrt(1-(xei/JI)**2)/np.sqrt(1-(xii/JI)**2)))"
   ]
  },
  {
   "source": [
    "## Figure out parameters"
   ],
   "cell_type": "markdown",
   "metadata": {}
  },
  {
   "cell_type": "code",
   "execution_count": 972,
   "metadata": {},
   "outputs": [],
   "source": [
    "# First Set of Figures\n",
    "# figure, validate results in sharpee's paper\n",
    "# ticks and labels\n",
    "ticks = np.linspace(-2.0,2.0,5)\n",
    "lims= [-2.1,2.1]\n",
    "nbins=100\n",
    "fig,ax=plt.subplots(1,2,figsize=(10,4.5))\n",
    "# eigenvalue\n",
    "ax[0].scatter(np.real(eigvx),np.imag(eigvx),s=2.0,c='blue',alpha=0.5)\n",
    "# ax[0].set_xlim(lims)\n",
    "# ax[0].set_ylim(lims)\n",
    "# ax[0].set_xticks(ticks)\n",
    "# ax[0].set_yticks(ticks)\n",
    "ax[0].set_aspect('equal')"
   ]
  },
  {
   "source": [
    "# back up code"
   ],
   "cell_type": "markdown",
   "metadata": {}
  },
  {
   "cell_type": "code",
   "execution_count": 1218,
   "metadata": {},
   "outputs": [
    {
     "output_type": "stream",
     "name": "stdout",
     "text": [
      "vec1 [[-0.01897367]\n [ 0.02529822]] [-0.75]\nnumvec1: -0.01947075138589678 0.024917661215864535 -0.7814036484892962\nreal mean:\n0.02055340669452231 0.009104648046617814\nvec2 [[-0.01897367]\n [ 0.02529822]] [-0.75]\nnumvec2: 0.0172223163447693 0.02652153501818273 0.6493710236968548\nreal mean:\n0.020406871667918793 0.008844345420995098\n"
     ]
    }
   ],
   "source": [
    "# calculate mean for real\n",
    "mu_utilde = np.zeros((2,1))\n",
    "mu_utilde[0,0],mu_utilde[1,0]=np.mean(uxt[:NE,0]),np.mean(uxt[NE:,0])\n",
    "noise_utilde = np.zeros((2,1))\n",
    "noise_utilde[0,0],noise_utilde[1,0]=np.std(uxt[:NE,0]),np.std(uxt[NE:,0])\n",
    "\n",
    "# vector to calculate uE-real\n",
    "angle_1= np.arctan2(xee/JE/np.sqrt(NE),-np.sqrt(1-(xee/JE)**2)/np.sqrt(NE))\n",
    "angle_2 = np.arctan2(xei/JI/np.sqrt(NE),-np.sqrt(1-(xei/JI)**2)/np.sqrt(NE))\n",
    "vec_1=np.array([[np.cos(angle_1),np.sin(angle_1)]]).T\n",
    "vec_1/=np.sqrt(NE)\n",
    "print('vec1',vec_1,vec_1[0]/vec_1[1])\n",
    "print('numvec1:',iid_mu_u['E'][0,0],np.std(uxtEE[:,0]),iid_mu_u['E'][0,0]/np.std(uxtEE[:,0]))\n",
    "vec_2=np.array([[np.cos(angle_2),np.sin(angle_2)]]).T\n",
    "vec_2/=np.sqrt(NE)\n",
    "# print('vec2',vec_2,vec_2[0]/vec_2[1])\n",
    "# print('numvec2:',iid_mu_u['E'][1,0],np.std(uxtEI[:,0]),iid_mu_u['E'][1,0]/np.std(uxtEI[:,0]))\n",
    "# print('angles')\n",
    "# print(angle_1,angle_2)\n",
    "rot_theta = (angle_1-angle_2)/2.0\n",
    "Rot1=np.array([[np.cos(rot_theta),-np.sin(rot_theta)],[np.sin(rot_theta),np.cos(rot_theta)]])\n",
    "Rot2=np.array([[np.cos(-rot_theta),-np.sin(-rot_theta)],[np.sin(-rot_theta),np.cos(-rot_theta)]])\n",
    "# the first is gonna be drew back \n",
    "# the second is gonna be pushed forward\n",
    "\n",
    "theo_mu=np.zeros((2,2))\n",
    "theo_mu[0,:]= np.squeeze(Rot2@vec_1)*xee/JE\n",
    "test_ang2= Rot1@vec_2*xei/JI\n",
    "# print('rotate')\n",
    "# print(theo_mu[0,:],test_ang2)\n",
    "# print(np.sqrt(theo_mu[0,1]**2+test_ang2[1]**2))\n",
    "print('real mean:')\n",
    "print(mu_utilde[0,0],noise_utilde[0,0])\n",
    "# print(mu_utilde[0,0],iid_mu_u['E'][0,0]/np.sqrt(xee/JE),iid_mu_u['E'][1,0]/np.sqrt(xei/JI))#,noise_utilde[0,0])\n",
    "# print('noise comp:',noise_utilde[0,0]/vec_1[1])\n",
    "\n",
    "# vector to calculate uE-real\n",
    "angle_1= np.arctan2(xie/JE/np.sqrt(NE),np.sqrt(1-(xie/JE)**2)/np.sqrt(NE))\n",
    "angle_2 = np.arctan2(xii/JI/np.sqrt(NE),-np.sqrt(1-(xii/JI)**2)/np.sqrt(NE))\n",
    "vec_1=np.array([[np.cos(angle_1),np.sin(angle_1)]]).T\n",
    "vec_1/=np.sqrt(NE)\n",
    "# print('vec1',vec_1,vec_1[0]/vec_1[1])\n",
    "# print('numvec1:',iid_mu_u['I'][0,0],np.std(uxtIE[:,0]),iid_mu_u['I'][0,0]/np.std(uxtIE[:,0]))\n",
    "vec_2=np.array([[np.cos(angle_2),np.sin(angle_2)]]).T\n",
    "vec_2/=np.sqrt(NE)\n",
    "print('vec2',vec_2,vec_2[0]/vec_2[1])\n",
    "print('numvec2:',iid_mu_u['I'][1,0],np.std(uxtII[:,0]),iid_mu_u['I'][1,0]/np.std(uxtII[:,0]))\n",
    "# print('angles')\n",
    "# print(angle_1,angle_2)\n",
    "rot_theta = (angle_1-angle_2)/2.0\n",
    "Rot1=np.array([[np.cos(rot_theta),-np.sin(rot_theta)],[np.sin(rot_theta),np.cos(rot_theta)]])\n",
    "Rot2=np.array([[np.cos(-rot_theta),-np.sin(-rot_theta)],[np.sin(-rot_theta),np.cos(-rot_theta)]])\n",
    "# the first is gonna be drew back \n",
    "# the second is gonna be pushed forward\n",
    "\n",
    "theo_mu=np.zeros((2,2))\n",
    "theo_mu[0,:]= np.squeeze(Rot2@vec_1)*xee/JE\n",
    "test_ang2= Rot1@vec_2*xei/JI\n",
    "# print('rotate')\n",
    "# print(theo_mu[0,:],test_ang2)\n",
    "# print(np.sqrt(theo_mu[0,1]**2+test_ang2[1]**2))\n",
    "print('real mean:')\n",
    "print(mu_utilde[1,0],noise_utilde[1,0])\n",
    "# print('noise comp:',noise_utilde[1,0]/vec_2[1])\n",
    "\n",
    "\n"
   ]
  },
  {
   "cell_type": "code",
   "execution_count": null,
   "metadata": {},
   "outputs": [],
   "source": [
    "# print(iid_sv)\n",
    "\n",
    "overlaptt,overlaptheo,overlaptheo2=np.zeros((2,2)),np.zeros((2,2)),np.zeros((2,2))\n",
    "overlaptt[0,0]=np.sum(uxt[:NE,0]*vxt[:NE,0]*svxt[0])\n",
    "print(np.mean(uxt[:NE,0]),np.mean(vxt[:NE,0]),svxt[0])\n",
    "overlaptt[0,1]=np.sum(uxt[:NE,0]*vxt[NE:,0]*svxt[0])\n",
    "print(np.mean(uxt[:NE,0]),np.mean(vxt[NE:,0]),svxt[0])\n",
    "overlaptt[1,0]=np.sum(uxt[NE:,0]*vxt[:NE,0]*svxt[0])\n",
    "overlaptt[1,1]=np.sum(uxt[NE:,0]*vxt[NE:,0]*svxt[0])\n",
    "\n",
    "overlaptheo[0,0]=np.sum(uxtEE[:,0]*vxtEE[:,0]*svxtEE[0])#iid_sv[0,0]*(1-xee**2/JE**2)\n",
    "print(np.mean(uxtEE[:,0]),np.mean(vxtEE[:,0]),svxtEE[0])\n",
    "overlaptheo[0,1]=np.sum(uxtEI[:,0]*vxtEI[:,0]*svxtEI[0])#iid_sv[0,1]*(1-xei**2/JI**2)\n",
    "print(np.mean(uxtEI[:,0]),np.mean(vxtEI[:,0]),svxtEI[0])\n",
    "overlaptheo[1,0]=np.sum(uxtIE[:,0]*vxtIE[:,0]*svxtIE[0])#iid_sv[1,0]*(1-xie**2/JE**2)\n",
    "overlaptheo[1,1]=np.sum(uxtII[:,0]*vxtII[:,0]*svxtII[0])#iid_sv[1,1]*(1-xii**2/JI**2)\n",
    "\n",
    "overlaptheo2[0,0]=np.sum(iid_sv[0,0]*(1-xee**2/JE**2))\n",
    "overlaptheo2[0,1]=-np.sum(iid_sv[0,1]*(1-xei**2/JI**2))\n",
    "overlaptheo2[1,0]=np.sum(iid_sv[1,0]*(1-xie**2/JE**2))\n",
    "overlaptheo2[1,1]=-np.sum(iid_sv[1,1]*(1-xii**2/JI**2))\n",
    "\n",
    "print('tilde overlap:')\n",
    "print(overlaptt)\n",
    "print('theo overlap:')\n",
    "print(overlaptheo)\n",
    "print('theo overlap2:')\n",
    "print(overlaptheo2)\n",
    "print('change:')\n",
    "overlapchange=overlaptheo2-overlaptt\n",
    "print(overlapchange)\n",
    "# eigvtt,eigvectt=la.eig(overlaptt)\n",
    "# eigvtheo,eigvectheo=la.eig(overlaptheo)\n",
    "# print('eigenvalue compare:')\n",
    "# print(eigvtt)\n",
    "# print(eigvtheo)"
   ]
  },
  {
   "cell_type": "code",
   "execution_count": 879,
   "metadata": {},
   "outputs": [
    {
     "output_type": "stream",
     "name": "stdout",
     "text": [
      "[6.44943161 4.00928745 3.98429257 3.96936678 3.94801228]\n[4.00973264 3.98515474 3.97197553 3.94868445 3.92199661]\n"
     ]
    }
   ],
   "source": [
    "Xtotal=X.copy()+Am.copy()\n",
    "# singular decomposition\n",
    "uxt,svxt,vhxt=la.svd(Xtotal)\n",
    "vxt=vhxt.T\n",
    "ux,svx,vhx=la.svd(X)\n",
    "vx=vhx.T\n",
    "print(svxt[:5])\n",
    "print(svx[:5])\n",
    "\n",
    "\n",
    "## dissect noise and mean components\n",
    "## mean for total and original\n",
    "muxtt,mvxtt=np.zeros((2,1)),np.zeros((2,1))\n",
    "muxtt[0,0],muxtt[1,0]=np.mean(uxt[:NE,0]),np.mean(uxt[NE:,0])\n",
    "mvxtt[0,0],mvxtt[1,0]=np.mean(vxt[:NE,0]),np.mean(vxt[NE:,0])\n",
    "mua,mva = np.zeros((2,1)),np.zeros((2,1))\n",
    "mua[0,0],mua[1,0]=ua[0,0],ua[NE+1,0]\n",
    "mva[0,0],mva[1,0]=va[0,0],va[NE+1,0]\n",
    "# noise components E and I seperate \n",
    "noiseu,noisev=np.zeros((NE,2)),np.zeros((NE,2))\n",
    "# for E noise\n",
    "noiseu[:,0]=(uxt[:NE,0]-muxtt[0,0])\n",
    "noisev[:,0]=(vxt[:NE,0]-mvxtt[0,0])\n",
    "# for I noise\n",
    "noiseu[:,1]=(uxt[NE:,0]-muxtt[1,0])\n",
    "noisev[:,1]=(vxt[NE:,0]-mvxtt[1,0])\n",
    "noisem,noisen=noiseu.copy(),noisev.copy()#*svxt[0]\n",
    "\n",
    "# noise components 4*4\n",
    "noisevec = np.zeros((NE,4))\n",
    "noisevec[:,:2]=noisem.copy()\n",
    "noisevec[:,2:]=noisen.copy()\n"
   ]
  },
  {
   "cell_type": "code",
   "execution_count": 800,
   "metadata": {},
   "outputs": [
    {
     "output_type": "stream",
     "name": "stdout",
     "text": [
      "stdnum: 0.4973373839263357 0.4909175083453431\n"
     ]
    }
   ],
   "source": [
    "mleft=5.0*np.random.randn(NE,1)/np.sqrt(NE)\n",
    "nright=4.0*np.random.randn(NE,1)/np.sqrt(NE)\n",
    "Cnright = 3*np.ones((NE,1))\n",
    "Cmleft = 1*np.ones((NE,1))\n",
    "randomm=mleft@Cnright.T+Cmleft@nright.T \n",
    "lrand=np.reshape(randomm,(NE**2,1))\n",
    "theostd = (5*3)**2/NE+(4*1)**2/NE\n",
    "theostd = np.sqrt(theostd)\n",
    "print('stdnum:',np.std(lrand),theostd)"
   ]
  },
  {
   "cell_type": "code",
   "execution_count": null,
   "metadata": {},
   "outputs": [],
   "source": [
    "# # subject to\n",
    "# sigmE,signI,sigmI,signE=2.0,3.0,1.0,4.0\n",
    "# rhoE=xee/sigmE/signE*1.5\n",
    "# rhoI=xii/sigmI/signI*1.5\n",
    "# m,n=np.zeros((N,1)),np.zeros((N,1))\n",
    "# zetaxE,zetayE,zetaxI,zetayI=np.random.randn(NE),np.random.randn(NE),np.random.randn(NI),np.random.randn(NI)\n",
    "# m[:NE,0]=sigmE*zetaxE/np.sqrt(N)\n",
    "# n[:NE,0]=signE*(rhoE*zetaxE+np.sqrt(1-rhoE**2)*zetayE)/np.sqrt(N)\n",
    "# m[NE:,0]=sigmI*zetaxI/np.sqrt(N)\n",
    "# n[NE:,0]=signI*(rhoI*zetaxI+np.sqrt(1-rhoI**2)*zetayI)/np.sqrt(N)\n",
    "# P=m@n.T \n",
    "# Xtilde=X.copy()+P.copy()"
   ]
  },
  {
   "cell_type": "code",
   "execution_count": 284,
   "metadata": {},
   "outputs": [
    {
     "output_type": "stream",
     "name": "stdout",
     "text": [
      "cal g: [[0.00089115 0.00017327]\n [0.00276879 0.00053832]]\norg g: 0.000625 0.0009 0.0025 0.000225\n"
     ]
    }
   ],
   "source": [
    "stdme=np.std(lxvec[:NE,0])\n",
    "stdmi=np.std(lxvec[NE:,0])\n",
    "stdne=np.std(svx[0]*rxvec[:NE,0])\n",
    "stdni=np.std(svx[0]*rxvec[NE:,0])\n",
    "rm1=np.array([stdme,stdmi])\n",
    "rm1=np.reshape(rm1,(2,1))\n",
    "rn1=np.array([stdne,stdni])\n",
    "rn1=np.reshape(rn1,(2,1))\n",
    "stdme=np.std(lxvec[:NE,1])\n",
    "stdmi=np.std(lxvec[NE:,1])\n",
    "stdne=np.std(svx[1]*rxvec[:NE,1])\n",
    "stdni=np.std(svx[1]*rxvec[NE:,1])\n",
    "rm2=np.array([stdme,stdmi])\n",
    "rm2=np.reshape(rm2,(2,1))\n",
    "rn2=np.array([stdne,stdni])\n",
    "rn2=np.reshape(rn2,(2,1))\n",
    "gstdest=rm1@rn1.T +rm2@rn2.T \n",
    "print('cal g:',gstdest)\n",
    "print('org g:',xee**2/N,xei**2/N,xie**2/N,xii**2/N)"
   ]
  },
  {
   "cell_type": "code",
   "execution_count": 269,
   "metadata": {},
   "outputs": [],
   "source": [
    "lxvec,svx,rxvech=la.svd(P)\n",
    "rxvec=rxvech.T \n",
    "fig,ax=plt.subplots(2,2,figsize=(9,9))\n",
    "nbins=30\n",
    "n, bins, patches = ax[0][0].hist(lxvec[:NE,0], nbins, density=True, alpha=0.5)\n",
    "n, bins, patches = ax[1][0].hist(lxvec[NE:,0], nbins, density=True, alpha=0.5)\n",
    "n, bins, patches = ax[0][1].hist(rxvec[:NE,0], nbins, density=True, alpha=0.5)\n",
    "n, bins, patches = ax[1][1].hist(rxvec[NE:,0], nbins, density=True, alpha=0.5)\n"
   ]
  }
 ]
}