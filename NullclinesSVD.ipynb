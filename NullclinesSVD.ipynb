{
 "metadata": {
  "language_info": {
   "codemirror_mode": {
    "name": "ipython",
    "version": 3
   },
   "file_extension": ".py",
   "mimetype": "text/x-python",
   "name": "python",
   "nbconvert_exporter": "python",
   "pygments_lexer": "ipython3",
   "version": "3.8.3-final"
  },
  "orig_nbformat": 2,
  "kernelspec": {
   "name": "python3",
   "display_name": "Python 3"
  }
 },
 "nbformat": 4,
 "nbformat_minor": 2,
 "cells": [
  {
   "cell_type": "code",
   "execution_count": 1,
   "metadata": {},
   "outputs": [],
   "source": [
    "from __future__ import print_function\n",
    "from ipywidgets import interact, interactive, fixed, interact_manual\n",
    "import ipywidgets as widgets\n",
    "import numpy as np\n",
    "import matplotlib.pylab as plt\n",
    "import matplotlib\n",
    "%matplotlib qt\n",
    "from numpy import linalg as la\n",
    "from scipy.optimize import fsolve\n",
    "from scipy import linalg as scpla\n",
    "import seaborn as sb\n",
    "from mpl_toolkits.axes_grid1 import make_axes_locatable\n",
    "from cmath import *\n",
    "from mpl_toolkits.mplot3d import Axes3D\n",
    "from scipy.optimize import fsolve,leastsq \n",
    "from math import tanh,cosh\n",
    "from sympy import *\n",
    "extras_require = {'PLOT':['matplotlib>=1.1.1,<3.0']},"
   ]
  },
  {
   "source": [
    "Check the eigenvalues of connectivity matrix and overlap matrix are the same, but the singular values of these two are different"
   ],
   "cell_type": "markdown",
   "metadata": {}
  },
  {
   "cell_type": "code",
   "execution_count": 2,
   "metadata": {},
   "outputs": [
    {
     "output_type": "stream",
     "name": "stdout",
     "text": [
      "JE,JI,a,b: 1.2 0.8 0.1 0.1\neigenvalue of connectivity matrix: [ 0.11305302 -0.28305302]  designed: [ 0.11305302 -0.28305302]  overlap matrix: [-0.28305302  0.11305302]  overlap matrix under M: [ 0.11305302 -0.28305302]\nsingular value of connectivity matrix: [1.24753439 0.0256506 ]  designed: [1.42284721 0.02249012]  overlap matrix: [1.42284721 0.02249012]  overlap matrix under M: [1.24753439 0.0256506 ]\n"
     ]
    }
   ],
   "source": [
    "JE,JI,a,b=1.2,0.8,0.1,0.1#15151515151505\n",
    "print('JE,JI,a,b:',JE,JI,a,b)\n",
    "# calculate SVD\n",
    "Jt = np.zeros((2,2))\n",
    "Jt[:,0],Jt[:,1]=JE,-JI\n",
    "Jt[0,0],Jt[0,1],Jt[1,0],Jt[1,1]=Jt[0,0]-a,Jt[0,1]+b,Jt[1,0]+a,Jt[1,1]-b\n",
    "# Jt[1,0]=Jt[0,1]\n",
    "lvec,sv,rvech=la.svd(Jt)\n",
    "m=lvec.copy()\n",
    "m[:,0],m[:,1]=m[:,0]*sv[0],m[:,1]*sv[1]\n",
    "n=rvech.T\n",
    "M,N=np.array([[1,1],[1,-1]]),np.array([[JE,-a],[-JI,b]])\n",
    "# assume the diagonal derivative matrix is\n",
    "diagphi=np.zeros((2,2))\n",
    "diagphi[0,0],diagphi[1,1]=0.5,0.8\n",
    "\n",
    "# the connectivity matrix\n",
    "connmat=m@n.T@diagphi\n",
    "connmatf=diagphi@m@n.T\n",
    "\n",
    "overlapmat=n.T@diagphi@m\n",
    "eigvc,_=la.eig(connmat)\n",
    "eigvcf,_=la.eig(connmatf)\n",
    "eigvo,_=la.eig(overlapmat)\n",
    "overMN=N.T@diagphi@M\n",
    "eigvoM,_=la.eig(overMN)\n",
    "print('eigenvalue of connectivity matrix:',eigvc,' designed:',eigvcf,' overlap matrix:',eigvo,' overlap matrix under M:',eigvoM)\n",
    "\n",
    "_,svc,_=la.svd(connmat)\n",
    "_,svcf,_=la.svd(connmatf)\n",
    "_,svo,_=la.svd(overlapmat)\n",
    "_,svoM,_=la.svd(overMN)\n",
    "print('singular value of connectivity matrix:',svc,' designed:',svcf,' overlap matrix:',svo,' overlap matrix under M:',svoM)"
   ]
  },
  {
   "source": [
    "* D-transform, as a function of z (z is the limit of singular value for perturbed matrix). varphi-transform, as a function of z (also \\rho).\n",
    "* Critical/threshold theta"
   ],
   "cell_type": "markdown",
   "metadata": {}
  },
  {
   "cell_type": "code",
   "execution_count": 3,
   "metadata": {},
   "outputs": [],
   "source": [
    "# Functions for D-transform, varphi-transform, inverse D-transform\n",
    "def D_transform(x,*data):\n",
    "    theta_i,c=data\n",
    "    if c==1:\n",
    "        x0=float(x[0])\n",
    "        am=(x0**2-2-np.sqrt((2-x0**2)**2-4))/2.0\n",
    "        # print('am:',am)\n",
    "        return[(x0*am/(am+1))**2-1/theta_i**2]\n",
    "\n",
    "# derivative of the D-transform\n",
    "def derivD_transform(rho_limit):\n",
    "    # am=(rho_limit**2-2-np.sqrt((2-rho_limit**2)**2-4))/2.0\n",
    "    # coeff=2*(am/(am+1))**2\n",
    "    epsp=1e-5\n",
    "    x0=float(rho_limit)\n",
    "    am=(x0**2-2-np.sqrt((2-x0**2)**2-4))/2.0\n",
    "    orgD_transform=(x0*am/(am+1))**2\n",
    "    # perturb\n",
    "    x0+=epsp\n",
    "    am=(x0**2-2-np.sqrt((2-x0**2)**2-4))/2.0\n",
    "    print('am',am)\n",
    "    pD_transform=(x0*am/(am+1))**2\n",
    "    derivDtrans=(pD_transform-orgD_transform)/epsp\n",
    "\n",
    "    return derivDtrans\n",
    "\n",
    "# varphi transform \n",
    "def varphi_transform(rho_limit):\n",
    "    am=(rho_limit**2-2-np.sqrt((2-rho_limit**2)**2-4))/2.0\n",
    "    return am*rho_limit/(am+1)\n",
    "\n",
    "# vector projection\n",
    "def vec_projection(limitrho,sv,theta):\n",
    "    # find out the outliers, which are larger than the critical theta\n",
    "    thetac,supremum=theta\n",
    "    thetai=sv[np.where(sv>thetac)]\n",
    "    # print('size of the outliers:',len(thetai))\n",
    "    # there are a list of theta, which are in the phase transition region\n",
    "    rho_limits = np.zeros(len(thetai))\n",
    "    varphis,derivDtransforms=np.zeros(len(thetai)),np.zeros(len(thetai))\n",
    "    lvecproj,rvecproj=np.zeros_like(rho_limits),np.zeros_like(rho_limits)\n",
    "    for idx, thetai0 in enumerate(thetai):\n",
    "        # data=(thetai0,1)\n",
    "        # x0=supremum*1.2\n",
    "        # rho_limits[idx]=fsolve(D_transform,x0,data) # recalculate limit rho\n",
    "        rho_limits[idx]=limitrho[idx]\n",
    "        varphis[idx]=varphi_transform(rho_limits[idx])\n",
    "        derivDtransforms[idx]=derivD_transform(rho_limits[idx])\n",
    "\n",
    "        lvecproj[idx]=(1-sv[idx]**(-2))#-2*varphis[idx]/thetai0**2/derivDtransforms[idx]\n",
    "        rvecproj[idx]=-2*varphis[idx]/thetai0**2/derivDtransforms[idx]\n",
    "    return (lvecproj,rvecproj)\n",
    "        \n",
    "\n",
    "\n",
    "\n",
    "\n",
    "# # check the D-transform\n",
    "# svlr=2.82842712\n",
    "# data=(svlr,1)\n",
    "# x0=svlr\n",
    "# svperturb=fsolve(D_transform,x0,data)\n",
    "# print('limit singular value:',svperturb)\n",
    "\n"
   ]
  },
  {
   "cell_type": "code",
   "execution_count": 4,
   "metadata": {},
   "outputs": [
    {
     "output_type": "stream",
     "name": "stdout",
     "text": [
      "a now: 0.0\n",
      "singular value: [1.00200200e+00 7.82531421e-15]\n",
      "singularvalue: [2.01784177 1.99717104 1.98008905]\n",
      "compare num and theo outlier: [2.01784177] ;  [2.01784177]\n",
      "am 0.7656557257983869\n",
      "compare n um and theo vector projection:\n",
      "projection of left singular vector: [0.19517171] ;  [0.003992]\n",
      "projection of right singular vector: [0.19915678] ;  [0.30480532]\n"
     ]
    }
   ],
   "source": [
    "# generate perturbed matrix\n",
    "nn=600\n",
    "JE,JI=0.50,0.502\n",
    "a,b=0.0,0.0#0.80,0.2#1.5,-0.3\n",
    "# a=-JE*b/JI\n",
    "# a=-JE*JI/b\n",
    "# a=-12.0\n",
    "print('a now:',a)\n",
    "J=np.zeros((nn*2,nn*2))\n",
    "J[:,:nn],J[:,nn:]=JE/nn,-JI/nn\n",
    "J[:nn,:nn],J[nn:,:nn]=J[:nn,:nn]-a/nn,J[nn:,:nn]+a/nn\n",
    "J[:nn,nn:],J[nn:,nn:]=J[:nn,nn:]+b/nn,J[nn:,nn:]-b/nn\n",
    "\n",
    "lvec,sv,rvech=la.svd(J)\n",
    "rvec=rvech.T\n",
    "print('singular value:',sv[0:2])\n",
    "x = np.random.randn(2*nn,2*nn)/np.sqrt(2*nn)\n",
    "x_=x+J\n",
    "lvec_,sv_,rvech_=la.svd(x_)\n",
    "thetac = 1.0 # critical value for low rank\n",
    "supremumsv=2.0 # supremum of distribution of the singular values (random matrix)\n",
    "print('singularvalue:',sv_[:3])\n",
    "rvec_=rvech_.T\n",
    "outlier=sv_[np.where(sv_>supremumsv)]\n",
    "\n",
    "# find outliers\n",
    "svi=sv[np.where(sv>thetac)]\n",
    "theo_outlier,lvecproj,rvecproj=np.zeros(len(svi)),np.zeros(len(svi)),np.zeros(len(svi))\n",
    "for idx, svi0 in enumerate(svi):\n",
    "    svlr=svi0\n",
    "    data=(svlr,1)\n",
    "    x0=sv_[idx]\n",
    "    theo_outlier[idx]=fsolve(D_transform,x0,data)\n",
    "    lvecproj[idx],rvecproj[idx]=np.sum(lvec[:,idx]*lvec_[:,idx]),np.sum(rvec[:,idx]*rvec_[:,idx])\n",
    "print('compare num and theo outlier:',outlier,'; ',theo_outlier)\n",
    "\n",
    "theo_lvecproj,theo_rvecproj=vec_projection(theo_outlier,sv,theta=[thetac,supremumsv])\n",
    "print('compare n um and theo vector projection:')\n",
    "print('projection of left singular vector:',lvecproj**2,'; ',theo_lvecproj)\n",
    "print('projection of right singular vector:',rvecproj**2,'; ',theo_rvecproj)\n"
   ]
  },
  {
   "source": [
    "Fix three parameters $J_E,\\ J_I,\\ b$, change $a$, turning point $a=-J_Eb/J_I$ relates to the minimum $\\sigma_1$, turning point $a=-J_EJ_I/b$ relates to the maximum $\\sigma_2$"
   ],
   "cell_type": "markdown",
   "metadata": {}
  },
  {
   "cell_type": "code",
   "execution_count": 5,
   "metadata": {},
   "outputs": [
    {
     "output_type": "stream",
     "name": "stdout",
     "text": [
      "a1- -0.15  a2- -0.6\n",
      "aminimum: [-0.13469388]\n"
     ]
    }
   ],
   "source": [
    "# generate perturbed matrix\n",
    "nn=600\n",
    "JE,JI=0.5,0.3\n",
    "a,b=0.80,0.25#1.5,-0.3\n",
    "a1=-JI*b/JE\n",
    "a2=-JE*JI/b\n",
    "print('a1-',a1,' a2-',a2)\n",
    "# b1=-JE*a/JI\n",
    "# b2=-JE*JI/a\n",
    "# print('b1-',b1,' b2-',b2)\n",
    "aset=np.linspace(-3.0,0.6,50)\n",
    "sigma_2=np.zeros((2,len(aset)))\n",
    "for idx, a in enumerate(aset):\n",
    "    J=np.zeros((nn*2,nn*2))\n",
    "    J[:,:nn],J[:,nn:]=JE/nn,-JI/nn\n",
    "    J[:nn,:nn],J[nn:,:nn]=J[:nn,:nn]-a/nn,J[nn:,:nn]+a/nn\n",
    "    J[:nn,nn:],J[nn:,nn:]=J[:nn,nn:]+b/nn,J[nn:,nn:]-b/nn\n",
    "\n",
    "    lvec,sv,rvech=la.svd(J)\n",
    "    sigma_2[:,idx]=sv[:2]\n",
    "\n",
    "fig = plt.figure(figsize=(8,6))\n",
    "ax1 = fig.add_subplot(111)\n",
    "ax1.plot(aset,sigma_2[0,:],'r',label=r'$\\sigma_1$')\n",
    "ax1.plot(aset,sigma_2[1,:],'b',label=r'$\\sigma_2$')\n",
    "ax1.set_title('JE='+np.str(JE)+',JI='+np.str(JI)+',b='+np.str(b))\n",
    "ax1.set_label(r'$a\\in \\left [-3.0,0.6 \\right ]$')\n",
    "ax1.set_ylabel(r'$\\sigma$')\n",
    "plt.legend()\n",
    "amin=aset[np.where(sigma_2[0,:]==np.min(sigma_2[0,:]))]\n",
    "print('aminimum:',amin)\n",
    "# plt.show()\n",
    "# # idxpos=np.where(lvec_[:,0]>0)\n",
    "# # idxneg=np.where(lvec_[:,0]<0)\n",
    "# # print('  pos:',np.shape(idxpos),'; number neg:',np.shape(idxneg))\n",
    "# # print(lvec_[:6,0],' and ',lvec_[299:305,0])"
   ]
  },
  {
   "cell_type": "code",
   "execution_count": 6,
   "metadata": {},
   "outputs": [
    {
     "output_type": "stream",
     "name": "stdout",
     "text": [
      "[-0.13469388] 0.15\namax for 2: [-0.5755102]\n[-0.5755102] 0.6\n"
     ]
    }
   ],
   "source": [
    "ax1.plot(aset,np.ones_like(aset),'k--')\n",
    "ax1.axis('square')\n",
    "print(amin,JI*b/JE)\n",
    "amax2=aset[np.where(sigma_2[1,:]==np.max(sigma_2[1,:]))]\n",
    "print('amax for 2:',amax2)\n",
    "print(amax2,JI*JE/b)"
   ]
  },
  {
   "cell_type": "code",
   "execution_count": 7,
   "metadata": {},
   "outputs": [
    {
     "output_type": "stream",
     "name": "stdout",
     "text": [
      "b1- -0.12  b2- -0.7499999999999999\n"
     ]
    },
    {
     "output_type": "execute_result",
     "data": {
      "text/plain": [
       "<matplotlib.legend.Legend at 0x7fa5c9522e80>"
      ]
     },
     "metadata": {},
     "execution_count": 7
    }
   ],
   "source": [
    "a,b=0.2,0.2#1.5,-0.3\n",
    "# a1=-JE*b/JI\n",
    "# a2=-JE*JI/b\n",
    "# print('a1-',a1,' a2-',a2)\n",
    "b1=-JI*a/JE\n",
    "b2=-JE*JI/a\n",
    "print('b1-',b1,' b2-',b2)\n",
    "bset=np.linspace(-3.0,0.6,50)\n",
    "sigma_2b=np.zeros((2,len(bset)))\n",
    "for idx, b in enumerate(bset):\n",
    "    J=np.zeros((nn*2,nn*2))\n",
    "    J[:,:nn],J[:,nn:]=JE/nn,-JI/nn\n",
    "    J[:nn,:nn],J[nn:,:nn]=J[:nn,:nn]-a/nn,J[nn:,:nn]+a/nn\n",
    "    J[:nn,nn:],J[nn:,nn:]=J[:nn,nn:]+b/nn,J[nn:,nn:]-b/nn\n",
    "\n",
    "    lvec,sv,rvech=la.svd(J)\n",
    "    sigma_2b[:,idx]=sv[:2]\n",
    "\n",
    "# fig = plt.figure(figsize=(8,6))\n",
    "ax2 = fig.add_subplot(122)\n",
    "ax2.plot(bset,sigma_2b[0,:],'r',label=r'$\\sigma_1$')\n",
    "ax2.plot(bset,sigma_2b[1,:],'b',label=r'$\\sigma_1$')\n",
    "plt.legend()"
   ]
  },
  {
   "source": [
    "Testing the whether the singular values of 2by2 matrix differ from those of NbyN matrix.\n",
    "Testing both the rank-1 and rank-2 cases\n",
    "Finished"
   ],
   "cell_type": "markdown",
   "metadata": {}
  },
  {
   "cell_type": "code",
   "execution_count": 8,
   "metadata": {},
   "outputs": [
    {
     "output_type": "stream",
     "name": "stdout",
     "text": [
      "a 0.0\n",
      "2by2 matrix: [[ 2.5 -1.3]\n",
      " [ 2.5 -1.3]]\n",
      "sum: 3.984971769034255 diff: 3.984971769034255\n",
      "sum1: 3.984971769034255 ; sum2: 3.984971769034255\n",
      "2by2 singular value: [3.98497177e+00 1.71892481e-16] ; random singular value: [3.98497177e+00 4.79417906e-14]\n",
      "theoretical solution: [4.23591458e+00 2.08586285e+13] ; numerical solution: [4.24607762 1.9887494 ]\n"
     ]
    }
   ],
   "source": [
    "# generate 2by2 matrix\n",
    "nn=1\n",
    "JE,JI=2.5,1.3\n",
    "a,b=0.0,0.0#1.5,0.25#0.3,0.2#\n",
    "# a=-JI*(JE/b)#+0.8\n",
    "# a=-JI/(JE/b)#-0.3\n",
    "print('a', a)\n",
    "J=np.zeros((nn*2,nn*2))\n",
    "J[:,:nn],J[:,nn:]=JE/nn,-JI/nn\n",
    "J[:nn,:nn],J[nn:,:nn]=J[:nn,:nn]-a/nn,J[nn:,:nn]+a/nn\n",
    "J[:nn,nn:],J[nn:,nn:]=J[:nn,nn:]+b/nn,J[nn:,nn:]-b/nn\n",
    "print('2by2 matrix:',J)\n",
    "lvec,sv,rvech=la.svd(J)\n",
    "print('sum:',np.sum(sv),'diff:',sv[0]-sv[1])\n",
    "s1=np.sqrt(2*((JE+b)**2+(JI-a)**2))\n",
    "s2=np.sqrt(2*((JE-b)**2+(JI+a)**2))\n",
    "print('sum1:',s1,'; sum2:',s2)\n",
    "# generate perturbed matrix\n",
    "nn=600\n",
    "# # JE,JI=0.8,0.6\n",
    "# # a,b=0.80,0.2#1.5,-0.3\n",
    "# a1=-JE*b/JI\n",
    "# a2=-JE*JI/b\n",
    "# print('a1-',a1,' a2-',a2)\n",
    "Jr=np.zeros((nn*2,nn*2))\n",
    "Jr[:,:nn],Jr[:,nn:]=JE/nn,-JI/nn\n",
    "Jr[:nn,:nn],Jr[nn:,:nn]=Jr[:nn,:nn]-a/nn,Jr[nn:,:nn]+a/nn\n",
    "Jr[:nn,nn:],Jr[nn:,nn:]=Jr[:nn,nn:]+b/nn,Jr[nn:,nn:]-b/nn\n",
    "lvec,svr,rvech=la.svd(Jr)\n",
    "print('2by2 singular value:',sv[:],'; random singular value:',svr[:2])\n",
    "\n",
    "# add random matrix\n",
    "x = np.random.randn(2*nn,2*nn)/np.sqrt(2*nn)\n",
    "x_=x+Jr\n",
    "lvec_,sv_,rvech_=la.svd(x_)\n",
    "theo_sv=1/svr[:2]+svr[:2]\n",
    "print('theoretical solution:',theo_sv,'; numerical solution:',sv_[:2])"
   ]
  },
  {
   "cell_type": "code",
   "execution_count": 9,
   "metadata": {},
   "outputs": [
    {
     "output_type": "stream",
     "name": "stdout",
     "text": [
      "a 0.0\n",
      "2by2 matrix: [[ 1.6 -1.2]\n",
      " [ 1.6 -1.2]]\n",
      "sum: 2.8284271247461907 diff: 2.8284271247461907\n",
      "sum1: 2.8284271247461903 ; sum2: 2.8284271247461903\n",
      "2by2 singular value: [2.82842712e+00 1.81513847e-17] ; random singular value: [2.82842712e+00 2.51212613e-14]\n",
      "theoretical solution: [3.18198052e+00 3.98069184e+13] ; numerical solution: [3.19039409 1.99278233]\n"
     ]
    }
   ],
   "source": [
    "# 2910 reconfinement\n",
    "nn=1\n",
    "JE,JI=1.60,1.2\n",
    "a,b=0.0,0.0#1.5,0.25#0.3,0.2#\n",
    "# a=-JI*(JE/b)#+0.8\n",
    "# a=-JI/(JE/b)#-0.3\n",
    "print('a', a)\n",
    "J=np.zeros((nn*2,nn*2))\n",
    "J[:,:nn],J[:,nn:]=JE/nn,-JI/nn\n",
    "J[:nn,:nn],J[nn:,:nn]=J[:nn,:nn]-a/nn,J[nn:,:nn]+a/nn\n",
    "J[:nn,nn:],J[nn:,nn:]=J[:nn,nn:]+b/nn,J[nn:,nn:]-b/nn\n",
    "print('2by2 matrix:',J)\n",
    "lvec,sv,rvech=la.svd(J)\n",
    "print('sum:',np.sum(sv),'diff:',sv[0]-sv[1])\n",
    "s1=np.sqrt(2*((JE+b)**2+(JI-a)**2))\n",
    "s2=np.sqrt(2*((JE-b)**2+(JI+a)**2))\n",
    "print('sum1:',s1,'; sum2:',s2)\n",
    "# generate perturbed matrix\n",
    "nn=600\n",
    "# # JE,JI=0.8,0.6\n",
    "# # a,b=0.80,0.2#1.5,-0.3\n",
    "# a1=-JE*b/JI\n",
    "# a2=-JE*JI/b\n",
    "# print('a1-',a1,' a2-',a2)\n",
    "Jr=np.zeros((nn*2,nn*2))\n",
    "Jr[:,:nn],Jr[:,nn:]=JE/nn,-JI/nn\n",
    "Jr[:nn,:nn],Jr[nn:,:nn]=Jr[:nn,:nn]-a/nn,Jr[nn:,:nn]+a/nn\n",
    "Jr[:nn,nn:],Jr[nn:,nn:]=Jr[:nn,nn:]+b/nn,Jr[nn:,nn:]-b/nn\n",
    "lvec,svr,rvech=la.svd(Jr)\n",
    "print('2by2 singular value:',sv[:],'; random singular value:',svr[:2])\n",
    "\n",
    "# add random matrix\n",
    "x = np.random.randn(2*nn,2*nn)/np.sqrt(2*nn)\n",
    "x_=x+Jr\n",
    "lvec_,sv_,rvech_=la.svd(x_)\n",
    "theo_sv=1/svr[:2]+svr[:2]\n",
    "print('theoretical solution:',theo_sv,'; numerical solution:',sv_[:2])"
   ]
  },
  {
   "cell_type": "code",
   "execution_count": 10,
   "metadata": {},
   "outputs": [
    {
     "output_type": "stream",
     "name": "stdout",
     "text": [
      "am theo: 0.12499999999999994\n",
      "overlap: 0.875\n",
      "overlap num: 0.877267788193405\n",
      "0.01767766952966339\n",
      "Gaussian relationship, org: 0.12374368670764377 , tilte: 0.12076751875989811\n",
      "Diff uv: -0.0029761679477456615\n"
     ]
    }
   ],
   "source": [
    "rholimit=1/sv[0]+sv[0]\n",
    "derivphi=1/(1-sv[0]**2)\n",
    "overlap=-1/derivphi/sv[0]**2\n",
    "print('am theo:',1/sv[0]**2)\n",
    "print('overlap:',overlap)\n",
    "print('overlap num:',np.sum(lvec_[:,0]*lvec[:,0])**2)\n",
    "\n",
    "## calculate whether there is an additive relationship\n",
    "overlap_num=1.0-1/sv[0]**2\n",
    "alpha = np.sqrt(overlap_num)\n",
    "lvar=lvec_[:,0]-alpha*lvec[:,0]\n",
    "# plt.figure()\n",
    "# n, bins, patches = plt.hist(lvar[:nn], 100, density=True, facecolor='g', alpha=0.75)\n",
    "\n",
    "rvec_,rvec=rvech_.T,rvech.T\n",
    "rvar=rvec_[:,0]-alpha*rvec[:,0]\n",
    "# plt.figure()\n",
    "# n, bins, patches = plt.hist(rvar[:nn], 100, density=True, facecolor='g', alpha=0.75)\n",
    "\n",
    "#tilte overlap\n",
    "tilteuv=np.sum(rvec_[:,0]*lvec_[:,0])\n",
    "orguv=alpha**2*np.sum(rvec[:,0]*lvec[:,0])\n",
    "cosuv=(1/sv[0]**2)*np.sum(rvec[:,0]*lvec[:,0])\n",
    "print(cosuv)\n",
    "print('Gaussian relationship, org:',orguv,', tilte:',tilteuv)\n",
    "diffuv=(tilteuv-orguv)\n",
    "print('Diff uv:',diffuv)\n",
    "\n",
    "# Tomorrow, check whether the overlap of the perturbed matrix is equal to the original * alpha square."
   ]
  },
  {
   "source": [
    "Find the limit of singular value of perturbed matrix, by finding the intersection between lines $y=x$ and $\\frac{1}{\\rho}\\left (1+\\frac{2}{\\rho^2-2-\\sqrt{\\left (2-\\rho^2\\right )^2-4}}\\right )$"
   ],
   "cell_type": "markdown",
   "metadata": {}
  },
  {
   "cell_type": "code",
   "execution_count": 11,
   "metadata": {},
   "outputs": [
    {
     "output_type": "execute_result",
     "data": {
      "text/plain": [
       "<matplotlib.legend.Legend at 0x7fa5cad206d0>"
      ]
     },
     "metadata": {},
     "execution_count": 11
    }
   ],
   "source": [
    "# Plot the intersections\n",
    "# when low-rank singular value is larger than the threshold value \\bar\\theta=1, there is a phase transition \n",
    "xtheta=np.linspace(0.8,6.8,100)\n",
    "theta_i=2.8284271247*np.ones_like(xtheta)\n",
    "# l.h.s function\n",
    "ylhs=theta_i\n",
    "# r.h.s function \n",
    "yrhs=1/xtheta*(1+2/(xtheta**2-2-np.sqrt((2-xtheta**2)**2-4)))\n",
    "fig=plt.figure()\n",
    "ax0=fig.add_subplot(111)\n",
    "ax0.plot(xtheta,ylhs,'r',label='low-rank singular value')\n",
    "ax0.plot(xtheta,yrhs,'b',label='limit singular value')\n",
    "plt.legend()\n"
   ]
  },
  {
   "source": [
    "Inspired by Ljubicia's presentation\n",
    "* what's the difference between R(u=0) and Gaussian Random Network\n",
    "* is there a phase transition when using a rank-1 gaussian structure?\n",
    "* test it!\n"
   ],
   "cell_type": "markdown",
   "metadata": {}
  }
 ]
}