{
 "metadata": {
  "language_info": {
   "codemirror_mode": {
    "name": "ipython",
    "version": 3
   },
   "file_extension": ".py",
   "mimetype": "text/x-python",
   "name": "python",
   "nbconvert_exporter": "python",
   "pygments_lexer": "ipython3",
   "version": "3.8.3-final"
  },
  "orig_nbformat": 2,
  "kernelspec": {
   "name": "python3",
   "display_name": "Python 3"
  }
 },
 "nbformat": 4,
 "nbformat_minor": 2,
 "cells": [
  {
   "cell_type": "code",
   "execution_count": 1,
   "metadata": {},
   "outputs": [],
   "source": [
    "from __future__ import print_function\n",
    "from ipywidgets import interact, interactive, fixed, interact_manual\n",
    "import ipywidgets as widgets\n",
    "import numpy as np\n",
    "import matplotlib.pylab as plt\n",
    "import matplotlib\n",
    "%matplotlib qt\n",
    "from numpy import linalg as la\n",
    "from scipy.optimize import fsolve\n",
    "from scipy import linalg as scpla\n",
    "import seaborn as sb\n",
    "from mpl_toolkits.axes_grid1 import make_axes_locatable\n",
    "from cmath import *\n",
    "from mpl_toolkits.mplot3d import Axes3D\n",
    "from scipy.optimize import fsolve,leastsq \n",
    "from math import tanh,cosh\n",
    "from sympy import *\n",
    "extras_require = {'PLOT':['matplotlib>=1.1.1,<3.0']},"
   ]
  },
  {
   "cell_type": "code",
   "execution_count": 69,
   "metadata": {},
   "outputs": [
    {
     "output_type": "stream",
     "name": "stdout",
     "text": [
      " random singular value: [2.82842712e+00 2.51212613e-14]\n",
      "overlap num: 0.8761283878410749\n"
     ]
    }
   ],
   "source": [
    "# 2910 reconfinement\n",
    "nn=1\n",
    "JE,JI=1.60,1.2\n",
    "a,b=0.0,0.0#1.5,0.25#0.3,0.2#\n",
    "# a=-JI*(JE/b)#+0.8\n",
    "# a=-JI/(JE/b)#-0.3\n",
    "\n",
    "'''\n",
    "J=np.zeros((nn*2,nn*2))\n",
    "J[:,:nn],J[:,nn:]=JE/nn,-JI/nn\n",
    "J[:nn,:nn],J[nn:,:nn]=J[:nn,:nn]-a/nn,J[nn:,:nn]+a/nn\n",
    "J[:nn,nn:],J[nn:,nn:]=J[:nn,nn:]+b/nn,J[nn:,nn:]-b/nn\n",
    "print('2by2 matrix:',J)\n",
    "lvec,sv,rvech=la.svd(J)\n",
    "print('sum:',np.sum(sv),'diff:',sv[0]-sv[1])\n",
    "s1=np.sqrt(2*((JE+b)**2+(JI-a)**2))\n",
    "s2=np.sqrt(2*((JE-b)**2+(JI+a)**2))\n",
    "print('sum1:',s1,'; sum2:',s2)\n",
    "'''\n",
    "\n",
    "# generate perturbed matrix\n",
    "nn=600\n",
    "# # JE,JI=0.8,0.6\n",
    "# # a,b=0.80,0.2#1.5,-0.3\n",
    "# a1=-JE*b/JI\n",
    "# a2=-JE*JI/b\n",
    "# print('a1-',a1,' a2-',a2)\n",
    "Jr=np.zeros((nn*2,nn*2))\n",
    "Jr[:,:nn],Jr[:,nn:]=JE/nn,-JI/nn\n",
    "# Jr[:nn,:nn],Jr[nn:,:nn]=Jr[:nn,:nn]-a/nn,Jr[nn:,:nn]+a/nn\n",
    "# Jr[:nn,nn:],Jr[nn:,nn:]=Jr[:nn,nn:]+b/nn,Jr[nn:,nn:]-b/nn\n",
    "lvec,svr,rvech=la.svd(Jr)\n",
    "print(' random singular value:',svr[:2])\n",
    "\n",
    "# add random matrix\n",
    "x = np.random.randn(2*nn,2*nn)/np.sqrt(2*nn)\n",
    "x_= x+Jr\n",
    "lvec_,sv_,rvech_=la.svd(x_)\n",
    "theo_sv=1/svr[:2]+svr[:2]\n",
    "# print('theoretical solution:',theo_sv,'; numerical solution:',sv_[:2])\n",
    "\n",
    "rholimit=1/svr[0]+svr[0]\n",
    "derivphi=1/(1-svr[0]**2)\n",
    "overlap=-1/derivphi/svr[0]**2\n",
    "# print('am theo:',1/sv[0]**2)\n",
    "\n",
    "print('overlap num:',np.sum(lvec_[:,0]*lvec[:,0])**2)\n",
    "\n",
    "\n",
    "\n",
    "\n",
    "# Tomorrow, check whether the overlap of the perturbed matrix is equal to the original * alpha square."
   ]
  },
  {
   "cell_type": "code",
   "execution_count": 74,
   "metadata": {},
   "outputs": [
    {
     "output_type": "stream",
     "name": "stdout",
     "text": [
      "overlap: 0.8749999999999996\nsigma: 3.1819805153394594 ; numsigmas: 3.202035340065009\n1/sigma: 0.09753214112167677\n-0.0021557554204781606\n0.0008231584202601689\n-0.0029789138407383293\ntilte rvector: [-0.03265986 -0.03265986] ;  [0.0244949 0.0244949]\ntilte rvector: [-0.02735731 -0.03549696 -0.04522799 -0.03124508 -0.03046251 -0.03884344\n -0.01234629 -0.02786855 -0.05734784 -0.01903706] ;  [0.00585008 0.0067866  0.03829516 0.02833079 0.01775737 0.015754\n 0.01489371 0.01419926 0.00404347 0.02658142]\n"
     ]
    }
   ],
   "source": [
    "## calculate whether there is an additive relationship\n",
    "overlap_num=1.0-1/svr[0]**2\n",
    "alpha = np.sqrt(overlap_num)\n",
    "rvec_,rvec=rvech_.T,rvech.T\n",
    "lvar,rvar=np.zeros_like(lvec_[:,0]),np.zeros_like(rvec_[:,0])\n",
    "lvar[:nn]=lvec_[:nn,0]-alpha*lvec[:nn,0]\n",
    "lvar[nn:]=lvec_[nn:,0]-alpha*lvec[nn:,0]\n",
    "print('overlap:',alpha**2)\n",
    "print('sigma:',rholimit,'; numsigmas:',sv_[0])\n",
    "print('1/sigma:',1/sv_[0]**2)\n",
    "plt.figure()\n",
    "n, bins, patches = plt.hist(lvar[:], 100, density=True, facecolor='g', alpha=0.75)\n",
    "\n",
    "\n",
    "rvar[:nn]=rvec_[:nn,0]-alpha*rvec[:nn,0]\n",
    "rvar[nn:]=rvec_[nn:,0]-alpha*rvec[nn:,0]\n",
    "plt.figure()\n",
    "n, bins, patches = plt.hist(rvar[:], 100, density=True, facecolor='g', alpha=0.75)\n",
    "plt.figure()\n",
    "n, bins, patches = plt.hist(rvec_[:,0], 100, density=True, facecolor='g', alpha=0.75)\n",
    "print(np.mean(np.sum(lvar*rvar)))\n",
    "# plt.figure()\n",
    "# n, bins, patches = plt.hist(lvar[:nn], 100, density=True, facecolor='g', alpha=0.75)\n",
    "print(np.mean(np.sum(lvar[:nn]*rvar[:nn])))\n",
    "# plt.figure()\n",
    "# n, bins, patches = plt.hist(lvar[nn:], 100, density=True, facecolor='g', alpha=0.75)\n",
    "print(np.mean(np.sum(lvar[nn:]*rvar[nn:])))\n",
    "print('rvector:',rvec[:2,0],'; ',rvec[nn:nn+2,0])\n",
    "print('tilte rvector:',rvec_[:10,0],'; ',rvec_[nn:nn+10,0])\n",
    "#tilte overlap\n",
    "tilteuv=np.sum(rvec_[:,0]*lvec_[:,0])\n",
    "orguv=alpha**2*np.sum(rvec[:,0]*lvec[:,0])\n",
    "cosuv=(1/svr[0]**2)*np.sum(rvec[:,0]*lvec[:,0])"
   ]
  },
  {
   "source": [
    "** What's the difference between substract tilde and original **"
   ],
   "cell_type": "markdown",
   "metadata": {}
  },
  {
   "cell_type": "code",
   "execution_count": 204,
   "metadata": {},
   "outputs": [
    {
     "output_type": "stream",
     "name": "stdout",
     "text": [
      " random singular value: [1.01980390e+00 6.07974586e-15]\ndeterminant of random matrix: -1.568320203970407e-28\noverlap: 0.038461538461539546 0.038461538461539546\nsigma: 3.1819805153394594 ; numsigmas: 2.0388563034338736\ndeterminant of matrix, substract tilde: -8.100835740798812e-28\ndeterminant of matrix, substract original: 4.4758115933812945e-28\n"
     ]
    },
    {
     "output_type": "execute_result",
     "data": {
      "text/plain": [
       "[<matplotlib.lines.Line2D at 0x7fc4e8ec37f0>]"
      ]
     },
     "metadata": {},
     "execution_count": 204
    }
   ],
   "source": [
    "# 2910 reconfinement\n",
    "nn=1\n",
    "JE,JI=0.60,0.4\n",
    "a,b=0.0,0.0#1.5,0.25#0.3,0.2#\n",
    "# generate perturbed matrix\n",
    "nn=60\n",
    "Jr=np.zeros((nn*2,nn*2))\n",
    "Jr[:,:nn],Jr[:,nn:]=JE/nn,-JI/nn\n",
    "# Jr[:nn,:nn],Jr[nn:,:nn]=Jr[:nn,:nn]-a/nn,Jr[nn:,:nn]+a/nn\n",
    "# Jr[:nn,nn:],Jr[nn:,nn:]=Jr[:nn,nn:]+b/nn,Jr[nn:,nn:]-b/nn\n",
    "lvec,svr,rvech=la.svd(Jr)\n",
    "print(' random singular value:',svr[:2])\n",
    "\n",
    "# add random matrix\n",
    "x = np.random.randn(2*nn,2*nn)/np.sqrt(2*nn)\n",
    "print('determinant of random matrix:',la.det(x))\n",
    "x_= x+Jr\n",
    "lvec_,sv_,rvech_=la.svd(x_)\n",
    "theo_sv=1/svr[:2]+svr[:2]\n",
    "\n",
    "## calculate whether there is an additive relationship\n",
    "overlap_num=1.0-1/svr[0]**2\n",
    "alpha = np.sqrt(overlap_num)\n",
    "print('overlap:',alpha**2,1.0-1/svr[0]**2)\n",
    "print('sigma:',rholimit,'; numsigmas:',sv_[0])\n",
    "\n",
    "rvec_,rvec=rvech_.T,rvech.T\n",
    "lvar,rvar=np.zeros_like(lvec_[:,0]),np.zeros_like(rvec_[:,0])\n",
    "\n",
    "lvar[:nn]=lvec_[:nn,0]-alpha*lvec[:nn,0]\n",
    "lvar[nn:]=lvec_[nn:,0]-alpha*lvec[nn:,0]\n",
    "rvar[:nn]=rvec_[:nn,0]-alpha*rvec[:nn,0]\n",
    "rvar[nn:]=rvec_[nn:,0]-alpha*rvec[nn:,0]\n",
    "\n",
    "subtilde=x_-sv_[0]*np.reshape(lvec[:,0],(nn*2,1))@np.reshape(rvech[0,:],(1,nn*2))\n",
    "determinantsubt=la.det(subtilde)\n",
    "print('determinant of matrix, substract tilde:',determinantsubt)\n",
    "rhop=1/svr[0]+svr[0]\n",
    "lvecrec,rvecrec=alpha*lvec[:,0],alpha*rvec[:,0]\n",
    "suborg=x_-rhop*np.reshape(lvecrec,(2*nn,1))@np.reshape(rvecrec,(1,nn*2))\n",
    "determinantsubo=la.det(suborg)\n",
    "print('determinant of matrix, substract original:',determinantsubo)\n",
    "stlvec,stsv,strvech=la.svd(subtilde)\n",
    "solvec,sosv,sorvech=la.svd(suborg)\n",
    "plt.figure()\n",
    "plt.plot(stsv,'r')\n",
    "plt.plot(sosv,'b')\n",
    "\n",
    "# plt.figure()\n",
    "# n, bins, patches = plt.hist(lvar[:], 100, density=True, facecolor='g', alpha=0.75)\n",
    "# plt.figure()\n",
    "# n, bins, patches = plt.hist(rvar[:], 100, density=True, facecolor='g', alpha=0.75)\n",
    "# plt.figure()\n",
    "# n, bins, patches = plt.hist(rvec_[:,0], 100, density=True, facecolor='g', alpha=0.75)\n"
   ]
  },
  {
   "source": [
    "Contents\n",
    "* Can the perturbed matrix $\\widetilde{X}$ be represented by basis vectors of low-rank matrix?\n",
    "* Will the difference between different representations change with the properties of low-rank structure/random matrix (infimum/supramum)\n",
    "* Can we use either of the (M,N)/(m,n) to represent the perturbed matrix?\n",
    "* Now we use E/I structure (known already), how about change to use Gaussian distribution?\n",
    "\n",
    "Edit by Yuxiu\n",
    "\n",
    "30/10/2020 the $1^{st}$ version V0\n"
   ],
   "cell_type": "markdown",
   "metadata": {}
  },
  {
   "cell_type": "code",
   "execution_count": 3,
   "metadata": {},
   "outputs": [
    {
     "output_type": "stream",
     "name": "stdout",
     "text": [
      "1\n",
      "recon svrho: [6.80859064e+00 6.63107729e-14 6.31349745e-14 5.42914578e-14\n",
      " 5.31285661e-14] ; num svrho: [6.81175455e+00 5.88095309e-14 5.73088770e-14 4.43769051e-14\n",
      " 4.24557572e-14]\n",
      "num vec overlap: 0.9791361252922339  theo overlap: 0.9784482758620688\n",
      "singular values (largest) of the error matrix: [1.98660329 1.97867277 1.97106312 1.9663761  1.95873549] [6.9618902  1.98562974 1.97727465 1.96883838 1.96626655]\n"
     ]
    }
   ],
   "source": [
    "# limit of the singular value of the perturbed matrix\n",
    "# find the largest singular value which are larger than the critical value.\n",
    "thetac = 2.0\n",
    "rlarger=svr[np.where(svr>thetac)]\n",
    "lenc = len(rlarger)\n",
    "rhop=np.zeros(lenc)\n",
    "x_tilde_rec=np.zeros_like(x_)\n",
    "# reconstruct perturbed matrix using basis vectors of low-rank structure\n",
    "for i in range(lenc):\n",
    "    rhop[i]=1/svr[i]+svr[i]\n",
    "    vecoverlap=1-1/svr[i]**2\n",
    "    lvecrec=np.sqrt(vecoverlap)*lvec[:,i]\n",
    "    rvecrec=np.sqrt(vecoverlap)*rvec[:,i]\n",
    "    x_tilde_rec +=rhop[i]*np.reshape(lvecrec,(2*nn,1))@np.reshape(rvecrec,(1,nn*2))#rhop[i]*(lvecrec@rvecrec.T)\n",
    "print(lenc)\n",
    "\n",
    "\n",
    "errmat=x_-x_tilde_rec#(rhop[0]*np.reshape(lvecrec,(nn*2,1))@np.reshape(rvecrec,(1,nn*2)))#(sv_[0]*np.reshape(lvec_[:,0],(nn*2,1))@np.reshape(rvec_[:,0].T,(1,nn*2)))\n",
    "# check the singular value of the Error-matrix\n",
    "lvecrec,svrec,rvechrec=la.svd(x_tilde_rec)\n",
    "lvecerr,sverr,rvecherr=la.svd(errmat)\n",
    "print('recon svrho:',svrec[:5],'; num svrho:',svr[:5])\n",
    "print('num vec overlap:',np.sum(rvec_[:,0]*rvec[:,0])**2,' theo overlap:',vecoverlap)\n",
    "\n",
    "print('singular values (largest) of the error matrix:',sverr[:5],sv_[:5])\n",
    "fig=plt.figure()\n",
    "ax1=fig.add_subplot(121)\n",
    "n, bins, patches = ax.hist(sverr, 50, density=True, facecolor='g', alpha=0.75)\n",
    "ax2=fig.add_subplot(122)\n",
    "n, bins, patches = ax.hist(sverr, 50, density=True, facecolor='g', alpha=0.75)\n"
   ]
  },
  {
   "cell_type": "code",
   "execution_count": 4,
   "metadata": {},
   "outputs": [],
   "source": [
    "# check whether the Generalized SVD can identically represent the perturbed matrix (all the properties)\n",
    "# we start from rank-1 perturbation \n",
    "m,n=np.ones((nn*2,1)),np.zeros((nn*2,1))\n",
    "n[:nn,0],n[nn:,0]=JE,-JI\n",
    "newrep=(1-1/svr[0]**4)*m@n.T/nn\n",
    "diff_rep=newrep-x_tilde_rec\n",
    "# plt.imshow(diff_rep)\n",
    "newrandMat=x_-newrep\n",
    "lvecnr,svnr,rvechnr=la.svd(newrandMat)\n",
    "fig=plt.figure()\n",
    "ax=fig.add_subplot(121)\n",
    "n, bins, patches = ax.hist(svnr, 50, density=True, facecolor='g', alpha=0.75)\n",
    "\n",
    "lvecr,svr,rvechr=la.svd(x)\n",
    "ax1=fig.add_subplot(122)\n",
    "n, bins, patches = ax1.hist(svr, 50, density=True, facecolor='g', alpha=0.75)"
   ]
  },
  {
   "cell_type": "code",
   "execution_count": 5,
   "metadata": {},
   "outputs": [],
   "source": [
    "# some simple analysis, how rho_1 changes with JE and JI, how the overlap of vectors changes with JE and JI\n"
   ]
  },
  {
   "cell_type": "code",
   "execution_count": 170,
   "metadata": {},
   "outputs": [
    {
     "output_type": "stream",
     "name": "stdout",
     "text": [
      "2.9000000000000004 1.5000000000000002\n-0.03174308978985363 0.030086665202865397\noverlap M2N2: 1.4197871535507272 ; M1N2: -0.047810821393803105\n"
     ]
    }
   ],
   "source": [
    "# Generate Gaussian vector of E neuron\n",
    "JEmI,JEpI=1.4,4.4\n",
    "nn,a,b=1000,0.725,-0.775\n",
    "yE,yI= np.random.randn(nn),np.random.randn(nn)\n",
    "\n",
    "\n",
    "JE,JI=(JEpI+JEmI)/2.0,(JEpI-JEmI)/2.0\n",
    "print(JE,JI)\n",
    "M1,N1=np.ones(2*nn),np.ones(2*nn)\n",
    "N1[:nn],N1[nn:]=JE*(1+yE)/nn,-JI*(1+yE)/nn\n",
    "M2,N2=M1.copy(),N1.copy()\n",
    "M2[:nn],M2[nn:]=yE,-yE\n",
    "N2[:nn],N2[nn:]=a*(1+yE)/nn,b*(1+yE)/nn\n",
    "print(np.mean(a*yE),np.mean(b*yI))\n",
    "\n",
    "print('overlap M2N2:',np.sum(M2*N2),'; M1N2:',np.sum(M1*N2))\n",
    "\n",
    "# Jr=np.zeros((nn*2,nn*2))\n",
    "# Jr[:,:nn],Jr[:,nn:]=JE/nn,-JI/nn\n",
    "# Jr[:nn,:nn],Jr[nn:,:nn]=Jr[:nn,:nn]-a/nn,Jr[nn:,:nn]+a/nn\n",
    "# Jr[:nn,nn:],Jr[nn:,nn:]=Jr[:nn,nn:]+b/nn,Jr[nn:,nn:]-b/nn\n",
    "# lvec,svr,rvech=la.svd(Jr)\n"
   ]
  },
  {
   "cell_type": "code",
   "execution_count": 171,
   "metadata": {},
   "outputs": [
    {
     "output_type": "stream",
     "name": "stdout",
     "text": [
      "(2000, 2000)\n"
     ]
    }
   ],
   "source": [
    "J = np.reshape(M1,(2*nn,1))@np.reshape(N1,(1,2*nn))\n",
    "J +=np.reshape(M2,(2*nn,1))@np.reshape(N2,(1,2*nn))\n",
    "print(np.shape(J))"
   ]
  },
  {
   "cell_type": "code",
   "execution_count": 6,
   "metadata": {},
   "outputs": [
    {
     "output_type": "stream",
     "name": "stdout",
     "text": [
      "0.95 1.45\n-0.010506195039353286 -0.012338006217835937\noverlap M2N2: 1.1813493730769946 ; M1N2: 0.0\n"
     ]
    }
   ],
   "source": [
    "# Generate Gaussian vector of E neuron\n",
    "JEmI,JEpI=-0.5,2.4\n",
    "nn,a,b=1000,0.6,-0.6\n",
    "yE,yI= np.random.randn(nn),np.random.randn(nn)\n",
    "\n",
    "\n",
    "JE,JI=(JEpI+JEmI)/2.0,(JEpI-JEmI)/2.0\n",
    "print(JE,JI)\n",
    "M1,N1=np.ones(2*nn),np.ones(2*nn)\n",
    "N1[:nn],N1[nn:]=JE/nn,-JI/nn\n",
    "M2,N2=M1.copy(),N1.copy()\n",
    "M2[:nn],M2[nn:]=yE,-yE\n",
    "N2[:nn],N2[nn:]=a*yE/nn,b*yE/nn\n",
    "print(np.mean(a*yE),np.mean(b*yI))\n",
    "\n",
    "print('overlap M2N2:',np.sum(M2*N2),'; M1N2:',np.sum(M1*N2))\n",
    "\n",
    "# Jr=np.zeros((nn*2,nn*2))\n",
    "# Jr[:,:nn],Jr[:,nn:]=JE/nn,-JI/nn\n",
    "# Jr[:nn,:nn],Jr[nn:,:nn]=Jr[:nn,:nn]-a/nn,Jr[nn:,:nn]+a/nn\n",
    "# Jr[:nn,nn:],Jr[nn:,nn:]=Jr[:nn,nn:]+b/nn,Jr[nn:,nn:]-b/nn\n",
    "# lvec,svr,rvech=la.svd(Jr)\n"
   ]
  },
  {
   "cell_type": "code",
   "execution_count": 7,
   "metadata": {},
   "outputs": [
    {
     "output_type": "stream",
     "name": "stdout",
     "text": [
      "(2000, 2000)\n"
     ]
    }
   ],
   "source": [
    "J = np.reshape(M1,(2*nn,1))@np.reshape(N1,(1,2*nn))\n",
    "J +=np.reshape(M2,(2*nn,1))@np.reshape(N2,(1,2*nn))\n",
    "print(np.shape(J))"
   ]
  },
  {
   "cell_type": "code",
   "execution_count": 189,
   "metadata": {},
   "outputs": [
    {
     "output_type": "stream",
     "name": "stdout",
     "text": [
      "axticity: [2.5983029  2.61000424 2.69448849] [2.71352655 2.7018252  2.61734092]\n"
     ]
    }
   ],
   "source": [
    "def tanhpfunc(x):\n",
    "    return np.tanh(x)+1.0\n",
    "def dynxact(J,x0,timeparams,type='tanhp'):\n",
    "    tfinal,dt=timeparams[0],timeparams[1]\n",
    "    nn=np.shape(J)[0]\n",
    "    nt = int(tfinal/dt)\n",
    "    xactdyn=np.zeros((nn,nt))\n",
    "    # print(xFP)\n",
    "    xactdyn[:,0]=x0\n",
    "    eps=1e-5\n",
    "    if type=='tanhp':\n",
    "        for it in range(1,nt):\n",
    "            phisyn=np.reshape(tanhpfunc(xactdyn[:,it-1]),(nn,1))\n",
    "            deltaxact=dt*(-xactdyn[:,it-1]+np.squeeze(J@phisyn))\n",
    "            xactdyn[:,it]=xactdyn[:,it-1]+deltaxact\n",
    "    return xactdyn\n",
    "def dynkappa(M,N,kappa0,timeparams,type='tanhp',express='EI'):\n",
    "    tfinal,dt=timeparams[0],timeparams[1]\n",
    "    nn=np.shape(M)[0]\n",
    "    nt = int(tfinal/dt)\n",
    "    kappadyn=np.zeros((2,nt))\n",
    "    kappadyn[:,0]=kappa0\n",
    "    xactdyn = np.zeros((nn,nt))\n",
    "    xactdyn[:,0]=kappadyn[0,0]*M[:,0]+kappadyn[1,0]*M[:,1]\n",
    "    eps=1e-5\n",
    "    if type=='tanhp':\n",
    "        for it in range(1,nt):\n",
    "            xact = kappadyn[0,it-1]*M[:,0]+kappadyn[1,it-1]*M[:,1]\n",
    "            phisyn=np.reshape(tanhpfunc(xact),(nn,1))\n",
    "            deltakappa=dt*(-kappadyn[:,it-1]+np.squeeze(N.T@phisyn))\n",
    "            kappadyn[:,it]=kappadyn[:,it-1]+np.squeeze(deltakappa)\n",
    "            xactdyn[:,it]=kappadyn[0,it]*M[:,0]+kappadyn[1,it]*M[:,1]\n",
    "    elif type=='tanh':\n",
    "        for it in range(1,nt):\n",
    "            xact = kappadyn[0,it-1]*M[:,0]+kappadyn[1,it-1]*M[:,1]\n",
    "            phisyn=np.reshape(np.tanh(xact),(nn,1))\n",
    "            deltakappa=dt*(-kappadyn[:,it-1]+np.squeeze(N.T@phisyn))\n",
    "            kappadyn[:,it]=kappadyn[:,it-1]+np.squeeze(deltakappa)\n",
    "            xactdyn[:,it]=kappadyn[0,it]*M[:,0]+kappadyn[1,it]*M[:,1]\n",
    "\n",
    "    return (kappadyn,xactdyn)\n",
    "timeparams=np.array([15,0.1])\n",
    "x0=np.random.rand(nn*2)\n",
    "# x0[nn:]+=1.0\n",
    "xact=dynxact(J,x0,timeparams,type='tanhp')\n",
    "print('axticity:',xact[:3,-1],xact[nn:nn+3,-1])\n"
   ]
  },
  {
   "cell_type": "code",
   "execution_count": 129,
   "metadata": {},
   "outputs": [
    {
     "output_type": "stream",
     "name": "stdout",
     "text": [
      "mean xE: 0.588418496308239\nmean xI: 0.5400729430071793\nmean xI: 0.024172776650529776\n"
     ]
    }
   ],
   "source": [
    "# plt.figure()\n",
    "tt = np.linspace(0,100,1000)\n",
    "# for i in range(30):\n",
    "#     plt.plot(tt,xact[i,:],'r')\n",
    "#     plt.plot(tt,xact[nn+i,:],'b')\n",
    "frE,frI = xact[:nn,-1],xact[nn:,-1]\n",
    "fig=plt.figure()\n",
    "ax=fig.add_subplot(222)\n",
    "n, bins, patches = ax.hist(frE, 50, density=True)#, facecolor='g', alpha=0.75)\n",
    "print('mean xE:',np.mean(frE))\n",
    "ax1=fig.add_subplot(224)\n",
    "n, bins, patches = ax1.hist(frI, 50, density=True)#, facecolor='g', alpha=0.75)\n",
    "print('mean xI:',np.mean(frI))\n",
    "ax=fig.add_subplot(223)\n",
    "n, bins, patches = ax2.hist((frE-frI)/2.0, 50, density=True)#, facecolor='g', alpha=0.75)\n",
    "print('mean xI:',np.mean((frE-frI)/2.0))"
   ]
  },
  {
   "cell_type": "code",
   "execution_count": 190,
   "metadata": {},
   "outputs": [
    {
     "output_type": "stream",
     "name": "stdout",
     "text": [
      "mean xE: 2.6602015055078385\nmean xI: 2.651627852341671\n"
     ]
    }
   ],
   "source": [
    "R=2\n",
    "Mrank,Nrank=np.zeros((nn*2,R)),np.zeros((nn*2,R))\n",
    "Mrank[:,0],Mrank[:,1],Nrank[:,0],Nrank[:,1]=M1,M2,N1,N2\n",
    "kappa0=-0.3*np.random.rand(2)\n",
    "kappadyn,xactdyn=dynkappa(Mrank,Nrank,kappa0,timeparams,type='tanhp',express='EI')\n",
    "tt = np.linspace(0,timeparams[0],int(timeparams[0]/timeparams[1]))\n",
    "# plt.figure()\n",
    "# for i in range(30):\n",
    "#     plt.plot(tt,xact[i,:],'r')\n",
    "#     plt.plot(tt,xact[nn+i,:],'b')\n",
    "frE,frI = xact[:nn,-1],xact[nn:,-1]\n",
    "# fig=plt.figure()\n",
    "# ax1=fig.add_subplot(211)\n",
    "# ax2=fig.add_subplot(212)\n",
    "n, bins, patches = ax1.hist(frE, 50, density=True, alpha=0.5)#, facecolor='g', alpha=0.75)\n",
    "print('mean xE:',np.mean(frE))\n",
    "n, bins, patches = ax2.hist(frI, 50, density=True, alpha=0.5)#, facecolor='g', alpha=0.75)\n",
    "print('mean xI:',np.mean(frI))\n",
    "# ax=fig.add_subplot(223)\n",
    "# n, bins, patches = ax2.hist((frE-frI)/2.0, 50, density=True)#, facecolor='g', alpha=0.75)\n",
    "# print('mean xI:',np.mean((frE-frI)/2.0))"
   ]
  },
  {
   "cell_type": "code",
   "execution_count": 193,
   "metadata": {},
   "outputs": [
    {
     "output_type": "execute_result",
     "data": {
      "text/plain": [
       "Text(0.5, 47.04444444444444, '$x_I^*$')"
      ]
     },
     "metadata": {},
     "execution_count": 193
    }
   ],
   "source": [
    "# ax1.set_title(r'$J_E=2.9$'+str(JE)+r',$J_I=1.5$'+str(JI)+',$a=$'+str(a)+',$b=$'+str(b))\n",
    "ax1.set_title(r'$J_E=2.9$'+', '+r',$J_I=1.5$'+',$a=$'+str(a)+',$b=$'+str(b))\n",
    "ax1.set_xlabel(r'$x_E^*$',fontsize=14)\n",
    "ax2.set_xlabel(r'$x_I^*$',fontsize=14)"
   ]
  },
  {
   "cell_type": "code",
   "execution_count": 177,
   "metadata": {},
   "outputs": [
    {
     "output_type": "execute_result",
     "data": {
      "text/plain": [
       "[<matplotlib.lines.Line2D at 0x7fc4d0098a60>]"
      ]
     },
     "metadata": {},
     "execution_count": 177
    }
   ],
   "source": [
    "# tt = np.linspace(0,timeparams[0],int(timeparams[0]/timeparams[1]))\n",
    "# fig=plt.figure()\n",
    "# ax3=fig.add_subplot(111)\n",
    "# ax3.plot(tt,kappadyn[0,:],'r',linewidth=1.5,label=r'$\\kappa_1^{EI}$')\n",
    "# ax3.plot(tt,kappadyn[1,:],'b',linewidth=1.5,label=r'$\\kappa_2^{EI}$')\n",
    "# ax3.set_title(r'$J_E=1.2$'+r',$J_I=$'+str(JI)+',$a=$'+str(a)+',$b=$'+str(b))\n",
    "# ax3.set_xlabel('time',fontsize=14)\n",
    "# ax3.set_ylabel(r'$\\kappa^{EI}$'+' dynamics',fontsize=14)\n",
    "# plt.grid()\n",
    "# plt.legend()\n",
    "# plt.show()\n",
    "\n",
    "ax3.plot(tt,kappadyn[0,:],'r--',linewidth=1.5)#,label=r'$\\kappa_1^{EI}$')\n",
    "ax3.plot(tt,kappadyn[1,:],'b--',linewidth=1.5)#,label=r'$\\kappa_2^{EI}$')"
   ]
  },
  {
   "cell_type": "code",
   "execution_count": null,
   "metadata": {},
   "outputs": [],
   "source": []
  }
 ]
}