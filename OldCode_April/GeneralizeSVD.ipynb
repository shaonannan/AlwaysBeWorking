{
 "metadata": {
  "language_info": {
   "codemirror_mode": {
    "name": "ipython",
    "version": 3
   },
   "file_extension": ".py",
   "mimetype": "text/x-python",
   "name": "python",
   "nbconvert_exporter": "python",
   "pygments_lexer": "ipython3",
   "version": "3.8.3-final"
  },
  "orig_nbformat": 2,
  "kernelspec": {
   "name": "Python 3.8.3 64-bit ('base': conda)",
   "display_name": "Python 3.8.3 64-bit ('base': conda)",
   "metadata": {
    "interpreter": {
     "hash": "5fb195aca1cc4b04f6bd75bcd75eff5c6dace3e009d2ff2dc9cbbb35b653d43e"
    }
   }
  }
 },
 "nbformat": 4,
 "nbformat_minor": 2,
 "cells": [
  {
   "cell_type": "code",
   "execution_count": 1,
   "metadata": {
    "tags": []
   },
   "outputs": [
    {
     "output_type": "stream",
     "name": "stdout",
     "text": [
      "recon: [[ 0.4 -0.4]\n [ 0.8 -1.2]]\noriginal: [ 0.16568542 -0.96568542]\noverlap: [ 0.16568542 -0.96568542]\ncos org: 0.7276068751089988\ncos trans: [0.96753822 0.25272473] [-0.8773552   0.47984149]\nvec trans: [0.96753822 0.25272473] [0.96753822 0.25272473]\ntheo trans: -0.7276068751089988\ntheo trans(t): 0.7276068751089988\n"
     ]
    }
   ],
   "source": [
    "from __future__ import print_function\n",
    "from ipywidgets import interact, interactive, fixed, interact_manual\n",
    "import ipywidgets as widgets\n",
    "import numpy as np\n",
    "import matplotlib.pylab as plt\n",
    "import matplotlib\n",
    "# matplotlib.use('Qt4Agg')\n",
    "from numpy import linalg as la\n",
    "from scipy.optimize import fsolve\n",
    "from scipy import linalg as scpla\n",
    "import seaborn as sb\n",
    "\n",
    "# dissect Jt matrix to rank-1 and rank-1\n",
    "J,dJ = np.zeros((2,2)),np.zeros((2,2))\n",
    "JE,JI,a,b=0.6,0.8,0.2,0.4\n",
    "J[:,0],J[:,1]=JE,-JI\n",
    "dJ[0,0],dJ[1,0]=-a,a\n",
    "dJ[0,1],dJ[1,1]=b,-b\n",
    "Jt=J+dJ\n",
    "# m and n\n",
    "m,n=np.array([[1,1],[1,-1]]),np.array([[JE,-a],[-JI,b]])\n",
    "m1,m2=np.reshape(m[:,0],(2,1)),np.reshape(m[:,1],(2,1))\n",
    "n1,n2=np.reshape(n[:,0],(2,1)),np.reshape(n[:,1],(2,1))\n",
    "print('recon:',m@n.T)\n",
    "\n",
    "overlap=n.T@m\n",
    "eigv,eigvec=la.eig(Jt)\n",
    "eigv_,eigvec_=la.eig(overlap)\n",
    "print('original:',eigv)\n",
    "print('overlap:',eigv_)\n",
    "print('cos org:',eigvec[:,0].T@eigvec[:,1])\n",
    "print('cos trans:',eigvec_[:,0].T,eigvec_[:,1])\n",
    "eigvec1,eigvec2=n.T@eigvec[:,0],n.T@eigvec[:,1]\n",
    "eigvec1_=eigvec1*np.sqrt(2)/eigv[0]\n",
    "eigvec1/=np.sqrt(np.sum(eigvec1**2))\n",
    "eigvec2/=np.sqrt(np.sum(eigvec2**2))\n",
    "print('vec trans:',eigvec1_,eigvec1)\n",
    "print('theo trans:',eigvec1.T@eigvec2)\n",
    "print('theo trans(t):',eigvec[:,0].T@eigvec[:,1])"
   ]
  },
  {
   "cell_type": "code",
   "execution_count": 2,
   "metadata": {
    "tags": []
   },
   "outputs": [
    {
     "output_type": "stream",
     "name": "stdout",
     "text": [
      "recon: [[ 0.4 -0.4]\n [ 0.8 -1.2]]\noriginal: [ 0.16568542 -0.96568542]\noverlap: [-0.96568542  0.16568542]\ncos org: 0.7276068751089988\ncos trans: -0.7276068751089987\nvec trans: [[-0.62254144 -0.08388471]\n [ 0.78258684 -0.99647547]]\ntheo trans: [-0.08388471 -0.99647547] [ 0.62254144 -0.78258684]\ntheo trans(t): 0.7276068751089989\n[[ 1.00000000e+00 -9.58829555e-18]\n [-9.58829555e-18  1.00000000e+00]]\n"
     ]
    }
   ],
   "source": [
    "# dissect Jt matrix to rank-1 and rank-1\n",
    "J,dJ = np.zeros((2,2)),np.zeros((2,2))\n",
    "JE,JI,a,b=0.6,0.8,0.2,0.4\n",
    "J[:,0],J[:,1]=JE,-JI\n",
    "dJ[0,0],dJ[1,0]=-a,a\n",
    "dJ[0,1],dJ[1,1]=b,-b\n",
    "Jt=J+dJ\n",
    "# m and n\n",
    "lv,sigv,nh=la.svd(Jt)\n",
    "n=nh.T\n",
    "m=lv.copy()\n",
    "m[:,0]*=sigv[0]\n",
    "m[:,1]*=sigv[1]\n",
    "\n",
    "# m,n=np.array([[1,1],[1,-1]]),np.array([[JE,-a],[-JI,b]])\n",
    "# m1,m2=np.reshape(m[:,0],(2,1)),np.reshape(m[:,1],(2,1))\n",
    "# n1,n2=np.reshape(n[:,0],(2,1)),np.reshape(n[:,1],(2,1))\n",
    "print('recon:',m@n.T)\n",
    "\n",
    "overlap=n.T@m\n",
    "eigv,eigvec=la.eig(Jt)\n",
    "eigv_,eigvec_=la.eig(overlap)\n",
    "print('original:',eigv)\n",
    "print('overlap:',eigv_)\n",
    "print('cos org:',eigvec[:,0].T@eigvec[:,1])\n",
    "print('cos trans:',eigvec_[:,0].T@eigvec_[:,1])\n",
    "eigvec1,eigvec2=n.T@eigvec[:,0],n.T@eigvec[:,1]\n",
    "print('vec trans:',eigvec_)\n",
    "print('theo trans:',eigvec1.T,eigvec2)\n",
    "print('theo trans(t):',eigvec2.T@eigvec1)\n",
    "print(n.T@n)"
   ]
  },
  {
   "cell_type": "code",
   "execution_count": 3,
   "metadata": {
    "tags": []
   },
   "outputs": [
    {
     "output_type": "stream",
     "name": "stdout",
     "text": [
      "[[0.86285621 0.28108464]\n [0.50544947 0.95968298]]\n[-0.08388471 -0.99647547] [ 0.62254144 -0.78258684]\n1.0 ; 1.0\ncos 0: 0.7276068751089991\ncos 1: 0.7276068751089989\n"
     ]
    }
   ],
   "source": [
    "fakeeigvec=eigvec#np.random.random((2,2))\n",
    "print(fakeeigvec)\n",
    "fakeeigvec[:,0]/=np.sqrt(np.sum(fakeeigvec[:,0]**2))\n",
    "fakeeigvec[:,1]/=np.sqrt(np.sum(fakeeigvec[:,1]**2))\n",
    "feigvec1,feigvec2=n.T@eigvec[:,0],n.T@eigvec[:,1]\n",
    "print(feigvec1,feigvec2)\n",
    "print(np.sum(fakeeigvec[:,0]**2),';',np.sum(fakeeigvec[:,1]**2))\n",
    "feigvec1/=np.sqrt(np.sum(feigvec1**2))\n",
    "feigvec2/=np.sqrt(np.sum(feigvec2**2))\n",
    "print('cos 0:',np.sum(feigvec1*feigvec2))\n",
    "print('cos 1:',fakeeigvec[:,0].T@fakeeigvec[:,1])\n"
   ]
  },
  {
   "cell_type": "code",
   "execution_count": 4,
   "metadata": {
    "tags": []
   },
   "outputs": [
    {
     "output_type": "stream",
     "name": "stdout",
     "text": [
      "b,cal: -0.06\nrotation [[-1.00000000e+00  0.00000000e+00]\n [-1.11022302e-16 -1.00000000e+00]]  inv: [[-1.00000000e+00 -0.00000000e+00]\n [ 1.11022302e-16 -1.00000000e+00]]  trans: [[-1.00000000e+00 -1.11022302e-16]\n [ 0.00000000e+00 -1.00000000e+00]]\neigenvalue generalized overlap: [0.415+0.26033632j 0.415-0.26033632j] ; svd overlap: [0.415+0.26033632j 0.415-0.26033632j]\n[-0.38807526-4.67358033e-18j  1.66009974-1.12255651e+00j]  or [-0.15749089-0.10649506j  0.98176139+0.j        ]\nNMCON: [[ 0.8 +0.j  2.4 +0.j]\n [-0.09+0.j  0.03+0.j]]  or  [[ 0.8   2.4 ]\n [-0.09  0.03]]\nnew lhs [-0.16105123-0.10103009j  0.98118362-0.0336767j ]\nnew rhs [-0.38807526-4.67358033e-18j  1.66009974-1.12255651e+00j]\neigenvector nm: [1.69094014-1.14341074j 1.69094014-1.14341074j]\n(array([0.415+0.26033632j, 0.415-0.26033632j]), array([[ 0.98176139+0.j        ,  0.98176139-0.j        ],\n       [-0.15749089+0.10649506j, -0.15749089-0.10649506j]])) nan\nu1/u2 (-4.277777777777777-2.892625788209959j) ; appro: -8.555555555555555\nu1/u2 (-4.277777777777777+2.892625788209959j) ; appro: -3.1168831168831175\n"
     ]
    }
   ],
   "source": [
    "# dissect Jt matrix to rank-1 and rank-1\n",
    "J,dJ = np.zeros((2,2)),np.zeros((2,2))\n",
    "JE,JI,a,b=1.6,0.8,0.030,0.020#0.01,0.02\n",
    "# # 1-JE+JI+a+b+2*(a*JI-b*JE)=0\n",
    "# b = (1-JE+JI+a*(1+2*JI))/(2*JE-1)\n",
    "# if aJE+bJI=0\n",
    "b=-a*JE/JI\n",
    "print('b,cal:',b)\n",
    "J[:,0],J[:,1]=JE,-JI\n",
    "dJ[0,0],dJ[1,0]=-a,a\n",
    "dJ[0,1],dJ[1,1]=b,-b\n",
    "Jt=J+dJ\n",
    "# m and n\n",
    "m,n=np.array([[1,1],[1,-1]]),np.array([[JE,-a],[-JI,b]])\n",
    "m1,m2=np.reshape(m[:,0],(2,1)),np.reshape(m[:,1],(2,1))\n",
    "n1,n2=np.reshape(n[:,0],(2,1)),np.reshape(n[:,1],(2,1))\n",
    "Jo = n.T@m\n",
    "eigvo,eigveco=la.eig(Jo)\n",
    "# print('eigenvalue of Jo:',eigvo)\n",
    "# real SVD\n",
    "lvec,sigv,rvech=la.svd(Jt)\n",
    "sigmav=np.zeros((2,2),dtype=complex)\n",
    "sigmavinv= np.zeros((2,2),dtype=complex)\n",
    "for i in range(2):\n",
    "    sigmav[i,i]=sigv[i]\n",
    "    sigmavinv[i,i]=1/sigv[i]\n",
    "rvec=rvech.T\n",
    "mlvec=lvec.copy()\n",
    "\n",
    "mlvec[:,0],mlvec[:,1]=mlvec[:,0]*sigv[0],mlvec[:,1]*sigv[1]\n",
    "# print('M check',mlvec@np.array([[1/sigv[0],0],[0,1/sigv[1]]])*-np.sqrt(2),' or:',m)\n",
    "rotm=mlvec@np.array([[1/sigv[0],0],[0,1/sigv[1]]])*np.sqrt(2)\n",
    "invm=la.inv(m)\n",
    "Mcheck=invm@rotm\n",
    "print('rotation',Mcheck,' inv:',la.inv(Mcheck),' trans:',Mcheck.T)\n",
    "genover,svdover=n.T@m,rvech@mlvec\n",
    "# mrecon=np.sqrt(2)*mlvec@(sigmavinv)@Mcheck.T\n",
    "# print('M:',m,' or con:',mrecon)\n",
    "# nrecon=Mcheck@sigmav@rvech/np.sqrt(2)\n",
    "# print('N:',n,' or con:',nrecon)\n",
    "geneigv,geneigvec=la.eig(genover)\n",
    "svdeigv,svdeigvec=la.eig(svdover)\n",
    "print('eigenvalue generalized overlap:',geneigv,'; svd overlap:',svdeigv)\n",
    "traneigv=sigmavinv@Mcheck.T@geneigvec[:,0]\n",
    "print(traneigv,' or',svdeigvec[:,0])\n",
    "NMover=Mcheck@sigmav@rvech@mlvec@sigmavinv@Mcheck.T\n",
    "print('NMCON:',NMover,' or ',genover)\n",
    "newvec=rvech@mlvec@sigmavinv@Mcheck.T@geneigvec[:,0]\n",
    "print('new lhs',newvec)\n",
    "newvecr=sigmavinv@Mcheck.T@geneigvec[:,0]#geneigv[0]*\n",
    "print('new rhs',newvecr)\n",
    "print('eigenvector nm:',newvecr/svdeigvec[:,0])\n",
    "S,Sp,Delta,Deltap=JE+JI,a+b,JE-JI,a-b\n",
    "lambda_o=(Delta-Sp-np.sqrt((Delta+Sp)**2-4*Deltap*S))/2.0\n",
    "print(la.eig(genover),lambda_o)\n",
    "print('u1/u2',geneigvec[0,0]/geneigvec[1,0],'; appro:',-(Delta+Sp)/Deltap)\n",
    "print('u1/u2',geneigvec[0,1]/geneigvec[1,1],'; appro:',-S/(Delta+Sp))\n",
    "\n"
   ]
  },
  {
   "cell_type": "code",
   "execution_count": 5,
   "metadata": {},
   "outputs": [
    {
     "output_type": "stream",
     "name": "stdout",
     "text": [
      "equilibrium state under M: (-0.037485944833751166+1.5535059116089616j) (-0.16250370735579073-0.25327751961455497j)\n"
     ]
    }
   ],
   "source": [
    "# We can figure out how the dynamics of kappa under different basis vectors\n",
    "# let the derivative of the transfer function equals to the eigenvalue of the overlap matrix\n",
    "# the identical eigenvalues for overlap matrix nTm and NTM\n",
    "eigv,eigvec=la.eig(rvech@mlvec)\n",
    "eigv_,eigvec_=la.eig(n.T@m) \n",
    "# print('svd-overlap eigenvalues:',eigv,'; gensvd-overlap eigenvalues:',eigv_)\n",
    "# let the derivative of the transfer function equals to one of the eigenvalues\n",
    "phid = 1/eigv[0]\n",
    "# then measure the dynamics of kappa under basis vectors M -- m\n",
    "# give the initial network activity\n",
    "x0 = np.reshape(np.array([-0.4,.25]),(2,1))\n",
    "diagkappa_M = la.inv(m)@x0\n",
    "# diagkappa_M = 0.6*geneigvec\n",
    "diagkappa_m = la.inv(mlvec)@x0\n",
    "tf,dt=20,0.001\n",
    "nt = int(tf/dt)\n",
    "tt = np.arange(nt)*dt\n",
    "kappa_M,kappa_M_,kappa_m,kappa_m_=np.zeros((2,nt),dtype=complex),np.zeros((2,nt),dtype=complex),np.zeros((2,nt),dtype=complex),np.zeros((2,nt),dtype=complex)\n",
    "kappa_M[:,0],kappa_m[:,0]=diagkappa_M[:,0],diagkappa_m[:,0]\n",
    "kappa_m_[:,0],kappa_M_[:,0]=sigmavinv@Mcheck.T@kappa_M[:,0],-kappa_M[:,0]\n",
    "for i in range(1,nt):\n",
    "    dkappa_M=-kappa_M[:,i-1]+np.squeeze(phid*genover@np.reshape(kappa_M[:,i-1],(2,1)))\n",
    "    dkappa_M_=-kappa_M_[:,i-1]+np.squeeze(phid*genover@np.reshape(kappa_M_[:,i-1],(2,1)))\n",
    "    # print('delta kappa:',dkappa_M)\n",
    "    dkappa_m=-kappa_m[:,i-1]+np.squeeze(phid*svdover@np.reshape(kappa_m[:,i-1],(2,1)))\n",
    "\n",
    "    kappa_M[:,i]=dkappa_M*dt+kappa_M[:,i-1]\n",
    "    kappa_M_[:,i]=dkappa_M_*dt+kappa_M_[:,i-1]\n",
    "    kappa_m_[:,i]=sigmavinv@Mcheck.T@kappa_M[:,i]#\n",
    "    kappa_m[:,i]=dkappa_m*dt+kappa_m[:,i-1]\n",
    "\n",
    "# fig,ax = plt.subplots(1,2)\n",
    "# # ax=ax.flatten()\n",
    "# ax0=ax[0].plot(tt,kappa_m[0,:],'r')\n",
    "# ax0=ax[0].plot(tt,kappa_m[1,:],'b')\n",
    "# ax0=ax[0].plot(tt,kappa_m_[0,:],'r--')\n",
    "# ax0=ax[0].plot(tt,kappa_m_[1,:],'b--')\n",
    "# ax1=ax[1].plot(tt,kappa_M[0,:],'r')\n",
    "# ax1=ax[1].plot(tt,kappa_M[1,:],'b')\n",
    "# ax1=ax[1].plot(tt,kappa_M_[0,:],'r--')\n",
    "# ax1=ax[1].plot(tt,kappa_M_[1,:],'b--')\n",
    "kappa_stm,kappa_stM=kappa_m[:,-1],kappa_M[:,-1]\n",
    "print('equilibrium state under M:',kappa_stM[0],kappa_stM[1])#,'; under m:',kappa_stm[0],kappa_stm[1])\n",
    "# print('corresponding eigenvectors under M:',geneigvec[0,0],geneigvec[1,0],'; under m:',svdeigvec[0,0],svdeigvec[1,0])\n",
    "# print('rescale factor rho:', kappa_m_[:,-1]/kappa_m[:,-1])\n",
    "\n"
   ]
  },
  {
   "cell_type": "code",
   "execution_count": 89,
   "metadata": {},
   "outputs": [],
   "source": [
    "# We give different initial kappa0 and find the fixed point(line) under same condition with identical eigenvalues and overlap matrix\n",
    "tf,dt=20,0.01\n",
    "nt = int(tf/dt)\n",
    "tt = np.arange(nt)*dt\n",
    "kmax,dk=0.5,0.01\n",
    "nstep=int(2*kmax/dk)\n",
    "# generate phase plane \n",
    "kappaM1,kappaM2=np.linspace(-kmax,kmax,nstep),np.linspace(-kmax,kmax,nstep)\n",
    "kappaM_phase=np.zeros((nstep,nstep,2,nt),dtype=complex)\n",
    "for idxk1, k1 in enumerate(kappaM1):\n",
    "    for idxk2, k2 in enumerate(kappaM2):\n",
    "        diagkappa_M = np.array([k1,k2])\n",
    "        kappaM_phase[idxk1,idxk2,:,0]=diagkappa_M[:]\n",
    "        for i in range(1,nt):\n",
    "            dkappa_M=-kappaM_phase[idxk1,idxk2,:,i-1]+np.squeeze(phid*genover@np.reshape(kappaM_phase[idxk1,idxk2,:,i-1],(2,1)))\n",
    "            kappaM_phase[idxk1,idxk2,:,i]=dkappa_M*dt+kappaM_phase[idxk1,idxk2,:,i-1]\n",
    "  "
   ]
  },
  {
   "cell_type": "code",
   "execution_count": 93,
   "metadata": {},
   "outputs": [
    {
     "output_type": "stream",
     "name": "stdout",
     "text": [
      "num sum: -1.3877787807814457e-17 ; theo_sum: 0.0\n"
     ]
    }
   ],
   "source": [
    "# find the critical/threshold value\n",
    "t_value=np.linspace(-20,20,1000)\n",
    "mu,sig=0.0,1.0\n",
    "t_value +=mu\n",
    "t_mid=0.5*t_value[1:]+0.5*t_value[:-1]\n",
    "mudist=np.exp(-(t_value-mu)**2/2.0/sig**2)/np.sqrt(2*np.pi)/sig\n",
    "mudist_mid=np.exp(-(t_mid-mu)**2/2.0/sig**2)/np.sqrt(2*np.pi)/sig\n",
    "z_value = -5\n",
    "diff_u=np.diff(mudist)\n",
    "num_sum=np.sum(diff_u*(z_value/(z_value**2-t_mid**2)))\n",
    "theo_sum=np.sum(-z_value/(z_value**2-t_mid**2)*((t_mid-mu)/sig**2)*mudist_mid*(t_value[1]-t_value[0]))\n",
    "print('num sum:',num_sum,'; theo_sum:',theo_sum)"
   ]
  },
  {
   "cell_type": "code",
   "execution_count": 111,
   "metadata": {},
   "outputs": [
    {
     "output_type": "stream",
     "name": "stdout",
     "text": [
      "num sum: -4.5634806153876706e-08\n"
     ]
    }
   ],
   "source": [
    "t_value=np.linspace(-2,2,100)\n",
    "mudist=np.sqrt(4-t_value**2)/(2*np.pi)\n",
    "# mudist/=np.sum(mudist)\n",
    "mudist/=4/100.0\n",
    "t_mid=0.5*t_value[1:]+0.5*t_value[:-1]\n",
    "z_value = 2.0000000001\n",
    "diff_u=np.diff(mudist)*500**2\n",
    "num_sum=np.sum(diff_u*(z_value/(z_value**2-t_mid**2)))/z_value\n",
    "print('num sum:',num_sum)"
   ]
  },
  {
   "cell_type": "code",
   "execution_count": null,
   "metadata": {},
   "outputs": [],
   "source": []
  }
 ]
}