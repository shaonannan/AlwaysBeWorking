{
 "metadata": {
  "language_info": {
   "codemirror_mode": {
    "name": "ipython",
    "version": 3
   },
   "file_extension": ".py",
   "mimetype": "text/x-python",
   "name": "python",
   "nbconvert_exporter": "python",
   "pygments_lexer": "ipython3",
   "version": "3.8.3-final"
  },
  "orig_nbformat": 2,
  "kernelspec": {
   "name": "python3",
   "display_name": "Python 3",
   "language": "python"
  }
 },
 "nbformat": 4,
 "nbformat_minor": 2,
 "cells": [
  {
   "source": [
    "## 17/12/2020 Update\n",
    "# Linking and Comparing Local Connect Stats with Low-rank Recurrent Network\n",
    "* From Local Connect Stats cite[Sharpee]\n",
    "* From Low-rank structure to EI "
   ],
   "cell_type": "markdown",
   "metadata": {}
  },
  {
   "cell_type": "code",
   "execution_count": 1,
   "metadata": {},
   "outputs": [],
   "source": [
    "from __future__ import print_function\n",
    "from ipywidgets import interact, interactive, fixed, interact_manual\n",
    "import ipywidgets as widgets\n",
    "import numpy as np\n",
    "import matplotlib.pylab as plt\n",
    "import matplotlib\n",
    "%matplotlib qt\n",
    "from numpy import linalg as la\n",
    "from scipy.optimize import fsolve\n",
    "from scipy import linalg as scpla\n",
    "# import seaborn as sb\n",
    "from mpl_toolkits.axes_grid1 import make_axes_locatable\n",
    "from cmath import *\n",
    "from mpl_toolkits.mplot3d import Axes3D\n",
    "from scipy.optimize import fsolve,leastsq \n",
    "from math import tanh,cosh\n",
    "import math\n",
    "# from sympy import *\n",
    "from scipy.linalg import schur, eigvals\n",
    "extras_require = {'PLOT':['matplotlib>=1.1.1,<3.0']},"
   ]
  },
  {
   "source": [
    "## Check the results in Sharpee's paper\n",
    "* local stats, EE,EI,IE,II occupy their own properties, independently\n",
    "* no pair correlation\n"
   ],
   "cell_type": "markdown",
   "metadata": {}
  },
  {
   "cell_type": "code",
   "execution_count": 178,
   "metadata": {},
   "outputs": [],
   "source": [
    "Nt=np.array([2000,1000])\n",
    "NE,NI=Nt[0],Nt[1]\n",
    "at = Nt/N\n",
    "N=np.sum(Nt)\n",
    "aee,aei,aie,aii=4.5,-6.0,5.0,-2.5\n",
    "JEEsub,JEIsub,JIEsub,JIIsub=aee*np.ones((NE,NE))/NE,aei*np.ones((NE,NI))/NI,aie*np.ones((NI,NE))/NE,aii*np.ones((NI,NI))/NI\n",
    "J = np.zeros((NE+NI,NE+NI))\n",
    "\n",
    "# determine gcd\n",
    "Gmat=np.zeros((2,2))\n",
    "Gmatorg=np.array([[0.8,1.2],[0.9,0.2]])\n",
    "# Gmat/=np.sqrt(N)\n",
    "for i in range(2):\n",
    "    for j in range(2):\n",
    "        Gmat[i,j]=Gmatorg[i,j]/np.sqrt(N)\n",
    "# EE\n",
    "gij=Gmat[0,0]*np.random.randn(NE,NE)\n",
    "J[:NE,:NE]=gij.copy()\n",
    "# EI\n",
    "gij=Gmat[0,1]*np.random.randn(NE,NI)\n",
    "J[:NE,NE:]=gij.copy()\n",
    "# IE\n",
    "gij=Gmat[1,0]*np.random.randn(NI,NE)\n",
    "J[NE:,:NE]=gij.copy()\n",
    "# II\n",
    "gij=Gmat[1,1]*np.random.randn(NI,NI)\n",
    "J[NE:,NE:]=gij.copy()\n",
    "\n",
    "P = np.zeros((N,N))\n",
    "P[:NE,:NE],P[:NE,NE:],P[NE:,:NE],P[NE:,NE:]=JEEsub.copy(),JEIsub.copy(),JIEsub.copy(),JIIsub.copy()\n",
    "X = P.copy()+J.copy()"
   ]
  },
  {
   "cell_type": "code",
   "execution_count": 113,
   "metadata": {},
   "outputs": [
    {
     "output_type": "stream",
     "name": "stdout",
     "text": [
      "averaging g noise: 0.8558621384311844\n"
     ]
    }
   ],
   "source": [
    "gavg=np.sqrt(np.sum(np.sum(Gmat**2)))/2.0\n",
    "print('averaging g noise:',gavg*np.sqrt(N))"
   ]
  },
  {
   "cell_type": "code",
   "execution_count": 105,
   "metadata": {},
   "outputs": [
    {
     "output_type": "stream",
     "name": "stdout",
     "text": [
      "eigenvalue: [1.+4.21307489j 1.-4.21307489j] singular value: [9.12570385 2.05463604] eigG 0.8546614831429354\n"
     ]
    }
   ],
   "source": [
    "aee,aei,aie,aii=4.5,-6.0,5.0,-2.5\n",
    "Asmall=np.array([[aee,aei],[aie,aii]])\n",
    "eigva,_=la.eig(Asmall)\n",
    "_,sigva,_=la.svd(Asmall)\n",
    "print('eigenvalue:',eigva,'singular value:',sigva,'eigG',np.sqrt(eigG[0]))"
   ]
  },
  {
   "cell_type": "code",
   "execution_count": 179,
   "metadata": {},
   "outputs": [],
   "source": [
    "# all about calculate eigenvalues\n",
    "eigvrand,eigvecrand=la.eig(J)\n",
    "eigstruct,eigvecstruct=la.eig(P)\n",
    "# summation\n",
    "X = P.copy()+J.copy()\n",
    "eigvx,eigvecx=la.eig(X)\n",
    "# theoretical\n",
    "M = np.zeros((2,2))\n",
    "for i in range(2):\n",
    "    for j in range(2):\n",
    "        M[i,j]=(Gmat[i,j]*np.sqrt(N))**2*(Nt[j]/N)\n",
    "eigG,eigvecG=la.eig(M)\n",
    "# low rank small\n",
    "Asmall=np.array([[aee,aei],[aie,aii]])\n",
    "eigva,_=la.eig(Asmall)\n"
   ]
  },
  {
   "cell_type": "code",
   "execution_count": 180,
   "metadata": {},
   "outputs": [],
   "source": [
    "ticks = np.linspace(-2.0,2.0,3)\n",
    "lims= [-2.1,2.1]\n",
    "\n",
    "fig,ax=plt.subplots(figsize=(6,6))\n",
    "ax.plot(np.sqrt(eigG[0])*np.ones(100),np.linspace(-1.0,1.0,100))\n",
    "ax.scatter(np.real(eigvrand),np.imag(eigvrand),s=5.0,c='blue',alpha=0.5)\n",
    "ax.scatter(np.real(eigstruct[:4]),np.zeros(4),s=15.0,c='red',alpha=0.5)\n",
    "# ax.set_xlim(lims)\n",
    "# ax.set_ylim(lims)\n",
    "# ax.set_xticks(ticks)\n",
    "# ax.set_yticks(ticks)\n",
    "ax.set_aspect('equal')\n",
    "ax.grid()"
   ]
  },
  {
   "source": [
    "## relate this to low rank (here rank-2)"
   ],
   "cell_type": "markdown",
   "metadata": {}
  },
  {
   "cell_type": "code",
   "execution_count": 109,
   "metadata": {},
   "outputs": [],
   "source": [
    "lvecX,svX,rvecXh=la.svd(X)\n",
    "rvecX=rvecXh.T\n",
    "m=lvecX[:,:2].copy()\n",
    "n=rvecX[:,:2].copy()\n",
    "n[:,0]*=svX[0]\n",
    "n[:,1]*=svX[1]\n",
    "\n",
    "# n[:,1]=rvecX[:,2]*svX[2]\n",
    "# m[:,1]=lvecX[:,2]"
   ]
  },
  {
   "cell_type": "code",
   "execution_count": 111,
   "metadata": {},
   "outputs": [],
   "source": [
    "morg,norg=m,n\n",
    "fig,ax=plt.subplots(4,4,figsize=(9,9))\n",
    "for i in range(2):\n",
    "    for j in range(2):\n",
    "        ax[i][j].scatter(morg[:NE,i],morg[:NE,j],s=5.0,c='red',alpha=0.05)\n",
    "        ax[i][j].scatter(morg[NE:,i],morg[NE:,j],s=5.0,c='blue',alpha=0.05)\n",
    "for i in range(2):\n",
    "    for j in range(2):\n",
    "        ax[2+i][2+j].scatter(norg[:NE,i],norg[:NE,j],s=5.0,c='red',alpha=0.05)\n",
    "        ax[2+i][2+j].scatter(norg[NE:,i],norg[NE:,j],s=5.0,c='blue',alpha=0.05)\n",
    "        \n",
    "for i in range(2):\n",
    "    for j in range(2):\n",
    "        ax[i][2+j].scatter(morg[:NE,i],norg[:NE,j],s=5.0,c='red',alpha=0.05)\n",
    "        ax[i][2+j].scatter(morg[NE:,i],norg[NE:,j],s=5.0,c='blue',alpha=0.05)\n",
    "for i in range(2):\n",
    "    for j in range(2):\n",
    "        ax[2+i][j].scatter(norg[:NE,i],morg[:NE,j],s=5.0,c='red',alpha=0.05)\n",
    "        ax[2+i][j].scatter(norg[NE:,i],morg[NE:,j],s=5.0,c='blue',alpha=0.05)\n",
    "for i in range(4):\n",
    "    for j in range(4):\n",
    "        # ax[i][j].set_xlim(lims)\n",
    "        # ax[i][j].set_ylim(lims)\n",
    "        # ax[i][j].set_xticks(ticks)\n",
    "        # ax[i][j].set_yticks(ticks)\n",
    "        ax[i][j].set_aspect('equal')\n",
    "        ax[i][j].grid()"
   ]
  },
  {
   "cell_type": "code",
   "execution_count": 117,
   "metadata": {},
   "outputs": [
    {
     "output_type": "stream",
     "name": "stdout",
     "text": [
      "eigenvalue: [1.+4.21307489j 1.-4.21307489j] [1.+4.21307489j 1.-4.21307489j]\nsingular value: [9.12570385 2.05463604] [9.12570385 2.05463604]\n"
     ]
    }
   ],
   "source": [
    "# test Dale's law\n",
    "Nt=np.array([300,100])\n",
    "NE,NI=Nt[0],Nt[1]\n",
    "N=np.sum(Nt)\n",
    "aee,aei,aie,aii=4.5,-6.0,5.0,-2.5\n",
    "JEEsub,JEIsub,JIEsub,JIIsub=aee*np.ones((NE,NE))/NE,aei*np.ones((NE,NI))/np.sqrt(NE*NI),aie*np.ones((NI,NE))/np.sqrt(NE*NI),aii*np.ones((NI,NI))/NI\n",
    "P = np.zeros((N,N))\n",
    "P[:NE,:NE],P[:NE,NE:],P[NE:,:NE],P[NE:,NE:]=JEEsub.copy(),JEIsub.copy(),JIEsub.copy(),JIIsub.copy()\n",
    "eigvP,_=la.eig(P)\n",
    "_,sigvp,_=la.svd(P)\n",
    "Asmall=np.array([[aee,aei],[aie,aii]])\n",
    "eigva,_=la.eig(Asmall)\n",
    "_,sigva,_=la.svd(Asmall)\n",
    "\n",
    "print('eigenvalue:',eigvP[:2],eigva[:2])\n",
    "print('singular value:',sigvp[:2],sigva[:2])"
   ]
  },
  {
   "cell_type": "code",
   "execution_count": 184,
   "metadata": {},
   "outputs": [
    {
     "output_type": "stream",
     "name": "stdout",
     "text": [
      "average eigv: 0.858253007850327\n"
     ]
    }
   ],
   "source": [
    "# test Dale's law\n",
    "Nt=np.array([100,1000])\n",
    "NE,NI=Nt[0],Nt[1]\n",
    "N=np.sum(Nt)\n",
    "at=Nt/N\n",
    "# determine gcd\n",
    "Gmat=np.zeros((2,2))\n",
    "Gmatorg=np.array([[0.8,1.2],[0.9,0.2]])\n",
    "# Gmat/=np.sqrt(N)\n",
    "for i in range(2):\n",
    "    for j in range(2):\n",
    "        Gmat[i,j]=Gmatorg[i,j]/np.sqrt(N)\n",
    "# EE\n",
    "J=np.zeros((N,N))\n",
    "\n",
    "gij=np.zeros((NE,NE))\n",
    "gij=Gmat[0,0]*np.random.randn(NE,NE)\n",
    "J[:NE,:NE]=gij.copy()\n",
    "# EI\n",
    "gij=np.zeros((NE,NI))\n",
    "gij=Gmat[0,1]*np.random.randn(NE,NI)\n",
    "J[:NE,NE:]=gij.copy()\n",
    "# IE\n",
    "gij=np.zeros((NI,NE))\n",
    "gij=Gmat[1,0]*np.random.randn(NI,NE)\n",
    "J[NE:,:NE]=gij.copy()\n",
    "# II\n",
    "gij=np.zeros((NI,NI))\n",
    "gij=Gmat[1,1]*np.random.randn(NI,NI)\n",
    "J[NE:,NE:]=gij.copy()\n",
    "\n",
    "gavg=0\n",
    "for i in range(2):\n",
    "    for j in range(2):\n",
    "        gavg+=np.sqrt(Gmatorg[i,j]**2*at[i]*at[j])\n",
    "M = np.zeros((2,2))\n",
    "for i in range(2):\n",
    "    for j in range(2):\n",
    "        M[i,j]=(Gmatorg[i,j]**2)*at[j]\n",
    "\n",
    "eigvj,_=la.eig(J)\n",
    "eigvM,_=la.eig(M)\n",
    "ticks = np.linspace(-2.0,2.0,3)\n",
    "lims= [-2.1,2.1]\n",
    "\n",
    "fig,ax=plt.subplots(figsize=(6,6))\n",
    "ax.plot(np.sqrt(eigvM[0])*np.ones(100),np.linspace(-1.0,1.0,100))\n",
    "ax.scatter(np.real(eigvj),np.imag(eigvj),s=5.0,c='blue',alpha=0.5)\n",
    "print('average eigv:',gavg)\n"
   ]
  },
  {
   "cell_type": "code",
   "execution_count": 227,
   "metadata": {},
   "outputs": [
    {
     "output_type": "stream",
     "name": "stdout",
     "text": [
      "0.6\n"
     ]
    }
   ],
   "source": [
    "# testing distribution of J_{ij}\n",
    "NE,NI=750,250\n",
    "sigm,sign=0.5,1.2\n",
    "mE,nE=sigm*np.random.randn(NE,1)/np.sqrt(NE),sign*np.random.randn(NE,1)/np.sqrt(NE)\n",
    "JEE = mE@nE.T \n",
    "eigv,eigvec=la.eig(JEE)\n",
    "fig,ax=plt.subplots(figsize=(6,6))\n",
    "ax.scatter(np.real(eigvj),np.imag(eigvj),s=5.0,c='blue',alpha=0.5)\n",
    "\n",
    "JEEoff=JEE.copy()\n",
    "JEEdiag=np.zeros(NE)\n",
    "for i in range(NE):\n",
    "    JEEoff[i,i:NE-1]=JEEoff[i,i+1:]\n",
    "    JEEdiag[i]=JEE[i,i]\n",
    "fig,ax=plt.subplots(2,1,figsize=(6,6))\n",
    "Joff=JEEoff[:,:NE-1]\n",
    "Joff=np.reshape(Joff,(NE**2-NE,1))\n",
    "n, bins, patches = ax[0].hist(Joff, 100, density=True, alpha=0.5)\n",
    "n, bins, patches = ax[1].hist(JEEdiag, 100, density=True, alpha=0.5)\n",
    "print(sigm*sign)\n",
    "\n"
   ]
  },
  {
   "source": [
    "## What's the distribution of $J_{i,j}$ in $\\tilde{\\mathbf{X}}=\\mathbf{X}+\\mathbf{p}$"
   ],
   "cell_type": "markdown",
   "metadata": {}
  },
  {
   "cell_type": "code",
   "execution_count": 229,
   "metadata": {},
   "outputs": [],
   "source": [
    "# testing distribution of J_{ij} in \\tilde{X}\n",
    "NE,NI=2000,250\n",
    "sigm,sign,grandom=0.6,1.0,0.5\n",
    "rho=0.0\n",
    "zetax,zetay=np.random.randn(NE,1),np.random.randn(NE,1)\n",
    "m = sigm*zetax/np.sqrt(NE)\n",
    "n =sign*(rho*zetax+np.sqrt(1-rho**2)*zetay)/np.sqrt(NE)\n",
    "P = m@n.T \n",
    "X = (grandom)*np.random.randn(NE,NE)/np.sqrt(NE)\n",
    "\n",
    "Xtilde=X+P\n",
    "\n",
    "eigv,eigvec=la.eig(Xtilde)\n",
    "fig,ax=plt.subplots(figsize=(6,6))\n",
    "ax.scatter(np.real(eigv),np.imag(eigv),s=5.0,c='blue',alpha=0.5)\n",
    "\n",
    "JEEoff=Xtilde.copy()\n",
    "JEEdiag=np.zeros(NE)\n",
    "for i in range(NE):\n",
    "    JEEoff[i,i:NE-1]=JEEoff[i,i+1:]\n",
    "    JEEdiag[i]=Xtilde[i,i]\n",
    "fig,ax=plt.subplots(2,1,figsize=(6,6))\n",
    "Joff=JEEoff[:,:NE-1]\n",
    "Joff=np.reshape(Joff,(NE**2-NE,1))\n",
    "n, bins, patches = ax[0].hist(Joff, 100, density=True, alpha=0.5)\n",
    "n, bins, patches = ax[1].hist(JEEdiag, 100, density=True, alpha=0.5)"
   ]
  },
  {
   "source": [
    "## Generate Random Block Matrix, embedding low rank structur $\\tilde{\\mathbf{X}}_{\\mathrm{type}}=\\mathbf{X}_{\\mathrm{type}}+\\mathbf{P}_{\\mathrm{type}}$"
   ],
   "cell_type": "markdown",
   "metadata": {}
  },
  {
   "cell_type": "code",
   "execution_count": 238,
   "metadata": {},
   "outputs": [],
   "source": [
    "phiacttt=np.zeros((N,1))\n",
    "phiacttt[:NE,0],phiacttt[NE:,0]=(rhoE*zetaxE+np.sqrt(1-rhoE**2)*zetayE)/np.sqrt(N),(rhoI*zetaxI+np.sqrt(1-rhoI**2)*zetayI)/np.sqrt(N)\n",
    "eitatt=Xtilde@phiacttt\n",
    "eitarand=X@phiacttt\n",
    "coveitatt=eitatt@eitatt.T \n",
    "coveitarand=eitarand@eitarand.T \n",
    "deltaEt,deltaEr=coveitatt[:NE,:NE],coveitarand[:NE,:NE]\n",
    "deltaIt,deltaIr=coveitatt[NE:,NE:],coveitarand[NE:,NE:]\n",
    "print('std, Et:',np.std(deltaEt),'; random:',np.std(deltaEr))\n",
    "print('std, It:',np.std(deltaIt),'; random:',np.std(deltaIr))"
   ]
  },
  {
   "cell_type": "code",
   "execution_count": 411,
   "metadata": {},
   "outputs": [
    {
     "output_type": "stream",
     "name": "stdout",
     "text": [
      "1.7677669529663689\n"
     ]
    },
    {
     "output_type": "execute_result",
     "data": {
      "text/plain": [
       "<matplotlib.collections.PathCollection at 0x7fb1f7f7f7f0>"
      ]
     },
     "metadata": {},
     "execution_count": 411
    }
   ],
   "source": [
    "eigvx,_=la.eig(X)\n",
    "eigvxt,_=la.eig(Xtilde)\n",
    "fig,ax=plt.subplots(2,2,figsize=(9,9))\n",
    "ax[0][0].scatter(np.real(eigvx),np.imag(eigvx),s=2.0,c='red',alpha=0.5)\n",
    "ax[0][0].set_aspect('equal')\n",
    "print(np.sqrt(xee**2*NE/N))\n",
    "ax[1][0].scatter(np.real(eigvxt),np.imag(eigvxt),s=2.0,c='red',alpha=0.5)\n",
    "ax[1][0].set_aspect('equal')\n",
    "# HISTOGRAM\n",
    "n, bins, patches = ax[0][1].hist(np.real(eigvx), 20, density=True, alpha=0.5)\n",
    "ax[0][1].set_xlim([-4.0,4.0])\n",
    "n, bins, patches = ax[1][1].hist(np.real(eigvxt), 20, density=True, alpha=0.5)\n",
    "ax[0][1].set_xlim([-4.0,4.0])\n",
    "# SUBTYPE\n",
    "XEI,XTEI=X[:NE,NE:],Xtilde[:NE,NE:]\n",
    "eigvEI,eigvec=la.eig(XEI)\n",
    "eigvTEI,eigvec=la.eig(XTEI)\n",
    "fig,ax=plt.subplots(1,2,figsize=(6,6))\n",
    "ax[0].scatter(np.real(eigvEI),np.imag(eigvEI),s=5.0,c='blue',alpha=0.5)\n",
    "ax[1].scatter(np.real(eigvTEI),np.imag(eigvTEI),s=5.0,c='blue',alpha=0.5)\n",
    "\n",
    "XEE,XTEE=X[:NE,:NE],Xtilde[:NE,:NE]\n",
    "eigvEE,eigvec=la.eig(XEE)\n",
    "eigvTEE,eigvec=la.eig(XTEE)\n",
    "fig,ax=plt.subplots(1,2,figsize=(6,6))\n",
    "ax[0].scatter(np.real(eigvEE),np.imag(eigvEE),s=5.0,c='red',alpha=0.5)\n",
    "ax[1].scatter(np.real(eigvTEE),np.imag(eigvTEE),s=5.0,c='red',alpha=0.5)\n",
    "\n",
    "XIE,XTIE=X[NE:,:NE],Xtilde[NE:,:NE]\n",
    "eigvIE,eigvec=la.eig(XIE)\n",
    "eigvTIE,eigvec=la.eig(XTIE)\n",
    "fig,ax=plt.subplots(1,2,figsize=(6,6))\n",
    "ax[0].scatter(np.real(eigvIE),np.imag(eigvIE),s=5.0,c='blue',alpha=0.5)\n",
    "ax[1].scatter(np.real(eigvTIE),np.imag(eigvTIE),s=5.0,c='blue',alpha=0.5)\n",
    "\n",
    "XII,XTII=X[NE:,NE:],Xtilde[NE:,NE:]\n",
    "eigvII,eigvec=la.eig(XII)\n",
    "eigvTII,eigvec=la.eig(XTII)\n",
    "fig,ax=plt.subplots(1,2,figsize=(6,6))\n",
    "ax[0].scatter(np.real(eigvII),np.imag(eigvII),s=5.0,c='red',alpha=0.5)\n",
    "ax[1].scatter(np.real(eigvTII),np.imag(eigvTII),s=5.0,c='red',alpha=0.5)\n"
   ]
  },
  {
   "source": [
    "# 24/12 Generate Figures and Some Questions"
   ],
   "cell_type": "markdown",
   "metadata": {}
  },
  {
   "cell_type": "code",
   "execution_count": 3,
   "metadata": {},
   "outputs": [],
   "source": [
    "def calculate_angle(vector_1,vector_2):\n",
    "    unit_vector_1 = vector_1 /np.linalg.norm(vector_1)\n",
    "    unit_vector_2 = vector_2 /np.linalg.norm(vector_2)\n",
    "    dot_product = np.dot(unit_vector_1, unit_vector_2)\n",
    "    angle = np.arccos(dot_product)\n",
    "    return angle"
   ]
  },
  {
   "source": [
    "## Generate Matrix"
   ],
   "cell_type": "markdown",
   "metadata": {}
  },
  {
   "cell_type": "code",
   "execution_count": 428,
   "metadata": {},
   "outputs": [
    {
     "output_type": "error",
     "ename": "ValueError",
     "evalue": "setting an array element with a sequence.",
     "traceback": [
      "\u001b[0;31m---------------------------------------------------------------------------\u001b[0m",
      "\u001b[0;31mTypeError\u001b[0m                                 Traceback (most recent call last)",
      "\u001b[0;31mTypeError\u001b[0m: only size-1 arrays can be converted to Python scalars",
      "\nThe above exception was the direct cause of the following exception:\n",
      "\u001b[0;31mValueError\u001b[0m                                Traceback (most recent call last)",
      "\u001b[0;32m<ipython-input-428-3b2129eb63bc>\u001b[0m in \u001b[0;36m<module>\u001b[0;34m\u001b[0m\n\u001b[1;32m     15\u001b[0m         \u001b[0mGrand\u001b[0m\u001b[0;34m=\u001b[0m\u001b[0mnp\u001b[0m\u001b[0;34m.\u001b[0m\u001b[0marray\u001b[0m\u001b[0;34m(\u001b[0m\u001b[0;34m[\u001b[0m\u001b[0mxee\u001b[0m\u001b[0;34m,\u001b[0m\u001b[0;36m0\u001b[0m\u001b[0;34m,\u001b[0m\u001b[0;36m0\u001b[0m\u001b[0;34m,\u001b[0m\u001b[0mxii\u001b[0m\u001b[0;34m]\u001b[0m\u001b[0;34m)\u001b[0m\u001b[0;34m\u001b[0m\u001b[0;34m\u001b[0m\u001b[0m\n\u001b[1;32m     16\u001b[0m         \u001b[0mX\u001b[0m\u001b[0;34m,\u001b[0m\u001b[0mGamp\u001b[0m\u001b[0;34m,\u001b[0m\u001b[0meigvgm\u001b[0m\u001b[0;34m,\u001b[0m\u001b[0meigvecgm\u001b[0m\u001b[0;34m,\u001b[0m\u001b[0mgaverages\u001b[0m\u001b[0;34m[\u001b[0m\u001b[0midx\u001b[0m\u001b[0;34m,\u001b[0m\u001b[0mi\u001b[0m\u001b[0;34m]\u001b[0m\u001b[0;34m,\u001b[0m\u001b[0mugm\u001b[0m\u001b[0;34m,\u001b[0m\u001b[0msvgm\u001b[0m\u001b[0;34m,\u001b[0m\u001b[0mvgm\u001b[0m\u001b[0;34m=\u001b[0m\u001b[0mgenerate_localstatsmat\u001b[0m\u001b[0;34m(\u001b[0m\u001b[0mNparams\u001b[0m\u001b[0;34m,\u001b[0m\u001b[0mGrand\u001b[0m\u001b[0;34m)\u001b[0m\u001b[0;34m\u001b[0m\u001b[0;34m\u001b[0m\u001b[0m\n\u001b[0;32m---> 17\u001b[0;31m         \u001b[0mgradiuss\u001b[0m\u001b[0;34m[\u001b[0m\u001b[0midx\u001b[0m\u001b[0;34m,\u001b[0m\u001b[0mi\u001b[0m\u001b[0;34m]\u001b[0m\u001b[0;34m=\u001b[0m\u001b[0mnp\u001b[0m\u001b[0;34m.\u001b[0m\u001b[0msqrt\u001b[0m\u001b[0;34m(\u001b[0m\u001b[0meigvgm\u001b[0m\u001b[0;34m[\u001b[0m\u001b[0;36m0\u001b[0m\u001b[0;34m]\u001b[0m\u001b[0;34m)\u001b[0m\u001b[0;34m\u001b[0m\u001b[0;34m\u001b[0m\u001b[0m\n\u001b[0m\u001b[1;32m     18\u001b[0m         \u001b[0;31m# generate mean Am\u001b[0m\u001b[0;34m\u001b[0m\u001b[0;34m\u001b[0m\u001b[0;34m\u001b[0m\u001b[0m\n\u001b[1;32m     19\u001b[0m         \u001b[0mAm\u001b[0m\u001b[0;34m,\u001b[0m\u001b[0mJsv\u001b[0m\u001b[0;34m,\u001b[0m\u001b[0mus\u001b[0m\u001b[0;34m,\u001b[0m\u001b[0msvams\u001b[0m\u001b[0;34m[\u001b[0m\u001b[0midx\u001b[0m\u001b[0;34m,\u001b[0m\u001b[0mi\u001b[0m\u001b[0;34m]\u001b[0m\u001b[0;34m,\u001b[0m\u001b[0mva\u001b[0m\u001b[0;34m=\u001b[0m\u001b[0mgenerate_meanmat\u001b[0m\u001b[0;34m(\u001b[0m\u001b[0mNparams\u001b[0m\u001b[0;34m,\u001b[0m\u001b[0mJE\u001b[0m\u001b[0;34m,\u001b[0m\u001b[0mJI\u001b[0m\u001b[0;34m)\u001b[0m\u001b[0;34m\u001b[0m\u001b[0;34m\u001b[0m\u001b[0m\n",
      "\u001b[0;31mValueError\u001b[0m: setting an array element with a sequence."
     ]
    }
   ],
   "source": [
    "# Block Gaussian Random Network\n",
    "xee,xei,xie,xii=2.0,0.0,0.0,1.5#1.2,1.2,1.8\n",
    "JE,JI=2.5,2.0\n",
    "\n",
    "Niter =5\n",
    "Np = 20\n",
    "xees=np.linspace(0.4,2.4,Np)\n",
    "gaverages=np.zeros((Np,Niter))\n",
    "gradiuss=np.zeros((Np,Niter))\n",
    "svams = np.zeros((Np,Niter))\n",
    "svxts = np.zeros((Np,Niter))\n",
    "for i in range(Niter):\n",
    "    for idx, xee in enumerate(xees):\n",
    "        # generate random \n",
    "        Grand=np.array([xee,0,0,xii])\n",
    "        X,Gamp,eigvgm,eigvecgm,gaverages[idx,i],ugm,svgm,vgm=generate_localstatsmat(Nparams,Grand)\n",
    "        gradiuss[idx,i]=np.sqrt(eigvgm[0])\n",
    "        # generate mean Am\n",
    "        Am,Jsv,us,svams[idx,i],va=generate_meanmat(Nparams,JE,JI)\n",
    "        # CALCULATE XTOTAL\n",
    "        Xtotal=X.copy()+Am.copy()\n",
    "        # Combine, total svd decomposition\n",
    "        uxt,svxt,vhxt=la.svd(Xtotal)\n",
    "        vxt=vhxt.T   \n",
    "        svxts[idx,i]=svxt[0]\n",
    "\n",
    "\n",
    "\n"
   ]
  },
  {
   "cell_type": "code",
   "execution_count": 1560,
   "metadata": {},
   "outputs": [],
   "source": [
    "ticks = np.linspace(4.7,5.5,3)\n",
    "lims= [4.69,5.51]\n",
    "# calculate the theoretical singular values of Xtotal\n",
    "svxts_theo = np.mean(svams[0]+gaverages**2/svams[0],axis=1)\n",
    "svxts_theo_eff = np.mean(svams[0]+gradiuss**2/svams[0],axis=1)\n",
    "svxtsm=np.mean(svxts,axis=1)\n",
    "fig,ax=plt.subplots(figsize=(6,6))\n",
    "ax.plot(svxtsm,svxtsm,'k--',linewidth=1.0,alpha=0.5)\n",
    "ax.plot(svxtsm,svxts_theo,'r.',linewidth=1.5)\n",
    "ax.plot(svxtsm,svxts_theo_eff,'b.',linewidth=1.5)\n",
    "ax.set_xlim(lims)\n",
    "ax.set_ylim(lims)\n",
    "ax.set_xticks(ticks)\n",
    "ax.set_yticks(ticks)\n",
    "ax.set_aspect('equal')\n",
    "\n",
    "\n"
   ]
  },
  {
   "cell_type": "code",
   "execution_count": 2263,
   "metadata": {},
   "outputs": [],
   "source": [
    "# Block Gaussian Random Network\n",
    "xee,xei,xie,xii=0.8,0.5,0.5,0.6#1.2,1.2,1.8\n",
    "JE,JI=2.0,4.0\n",
    "\n",
    "# generate random \n",
    "Grand=np.array([xee,xei,xie,xii])\n",
    "X,Gamp,eigvgm,eigvecgm,gaverage,ugm,svgm,vgm=generate_localstatsmat(Nparams,Grand)\n",
    "gradius=np.sqrt(eigvgm[0])\n",
    "# generate mean Am\n",
    "Am,Jsv,ua,svam,va=generate_meanmat(Nparams,JE,JI)\n",
    "# CALCULATE XTOTAL\n",
    "Xtotal=X.copy()+Am.copy()\n",
    "# Combine, total svd decomposition\n",
    "uxt,svxt,vhxt=la.svd(Xtotal)\n",
    "vxt=vhxt.T   \n"
   ]
  },
  {
   "cell_type": "code",
   "execution_count": 2264,
   "metadata": {},
   "outputs": [
    {
     "output_type": "error",
     "ename": "ValueError",
     "evalue": "operands could not be broadcast together with shapes (2,) (200,) ",
     "traceback": [
      "\u001b[0;31m---------------------------------------------------------------------------\u001b[0m",
      "\u001b[0;31mValueError\u001b[0m                                Traceback (most recent call last)",
      "\u001b[0;32m<ipython-input-2264-2f4b000c40c0>\u001b[0m in \u001b[0;36m<module>\u001b[0;34m\u001b[0m\n\u001b[1;32m      5\u001b[0m \u001b[0;31m# eigvx,eigvecx=la.eig(Xtotal)\u001b[0m\u001b[0;34m\u001b[0m\u001b[0;34m\u001b[0m\u001b[0;34m\u001b[0m\u001b[0m\n\u001b[1;32m      6\u001b[0m \u001b[0mtheta\u001b[0m \u001b[0;34m=\u001b[0m \u001b[0mnp\u001b[0m\u001b[0;34m.\u001b[0m\u001b[0mlinspace\u001b[0m\u001b[0;34m(\u001b[0m\u001b[0;36m0\u001b[0m\u001b[0;34m,\u001b[0m \u001b[0;36m2\u001b[0m \u001b[0;34m*\u001b[0m \u001b[0mnp\u001b[0m\u001b[0;34m.\u001b[0m\u001b[0mpi\u001b[0m\u001b[0;34m,\u001b[0m \u001b[0;36m200\u001b[0m\u001b[0;34m)\u001b[0m\u001b[0;34m\u001b[0m\u001b[0;34m\u001b[0m\u001b[0m\n\u001b[0;32m----> 7\u001b[0;31m \u001b[0mxc\u001b[0m \u001b[0;34m=\u001b[0m \u001b[0mgradius\u001b[0m\u001b[0;34m*\u001b[0m\u001b[0mnp\u001b[0m\u001b[0;34m.\u001b[0m\u001b[0mcos\u001b[0m\u001b[0;34m(\u001b[0m\u001b[0mtheta\u001b[0m\u001b[0;34m)\u001b[0m\u001b[0;34m\u001b[0m\u001b[0;34m\u001b[0m\u001b[0m\n\u001b[0m\u001b[1;32m      8\u001b[0m \u001b[0myc\u001b[0m \u001b[0;34m=\u001b[0m \u001b[0mgradius\u001b[0m\u001b[0;34m*\u001b[0m\u001b[0mnp\u001b[0m\u001b[0;34m.\u001b[0m\u001b[0msin\u001b[0m\u001b[0;34m(\u001b[0m\u001b[0mtheta\u001b[0m\u001b[0;34m)\u001b[0m\u001b[0;34m\u001b[0m\u001b[0;34m\u001b[0m\u001b[0m\n\u001b[1;32m      9\u001b[0m \u001b[0;34m\u001b[0m\u001b[0m\n",
      "\u001b[0;31mValueError\u001b[0m: operands could not be broadcast together with shapes (2,) (200,) "
     ]
    }
   ],
   "source": [
    "## difference between singular value and eigenvalue\n",
    "# First Set of Figures\n",
    "# figure, validate results in sharpee's paper\n",
    "# ticks and labels\n",
    "# eigvx,eigvecx=la.eig(Xtotal)\n",
    "theta = np.linspace(0, 2 * np.pi, 200)\n",
    "xc = gradius*np.cos(theta)\n",
    "yc = gradius*np.sin(theta)\n",
    "\n",
    "xa = gaverage*np.cos(theta)\n",
    "ya = gaverage*np.sin(theta)\n",
    "\n",
    "ticks = np.linspace(-1.50,1.50,3)\n",
    "lims= [-1.51,1.51]\n",
    "nbins=100\n",
    "fig,ax=plt.subplots(figsize=(6,6))\n",
    "# eigenvalue\n",
    "ax.scatter(np.real(eigvx),np.imag(eigvx),s=2.0,c='blue',alpha=0.5)\n",
    "ax.plot(xc, yc, color=\"darkred\", linewidth=2)\n",
    "ax.plot(xa, ya, color=\"grey\", linewidth=2,linestyle='--')\n",
    "ax.set_xlim(lims)\n",
    "ax.set_ylim(lims)\n",
    "ax.set_xticks(ticks)\n",
    "ax.set_yticks(ticks)\n",
    "ax.set_aspect('equal')\n",
    "ax.set_title(r'$J_E,\\ J_I=$'+str(JE)+','+str(JI)+'\\n $\\lambda_1=$'+str(format(gradius,'.1f'))+r', $g_{avg}=$'+str(format(gaverage,'.1f')),fontsize=14)\n",
    "print(np.sqrt(0.5*JE**2+0.5*JI**2),np.min(np.real(eigvx)),gradius)\n",
    "print(gaverage**2/svam+svam,svxt[0],gradius**2/svam+svam)"
   ]
  },
  {
   "source": [
    "Parameters\n",
    "a(M, M) array_like\n",
    "Matrix to decompose\n",
    "output{‘real’, ‘complex’}, optional\n",
    "Construct the real or complex Schur decomposition (for real matrices).\n",
    "lworkint, optional\n",
    "Work array size. If None or -1, it is automatically computed.\n",
    "overwrite_abool, optional\n",
    "Whether to overwrite data in a (may improve performance).\n",
    "sort{None, callable, ‘lhp’, ‘rhp’, ‘iuc’, ‘ouc’}, optional\n",
    "Specifies whether the upper eigenvalues should be sorted. A callable may be passed that, given a eigenvalue, returns a boolean denoting whether the eigenvalue should be sorted to the top-left (True). Alternatively, string parameters may be used:\n",
    "'lhp'   Left-hand plane (x.real < 0.0)\n",
    "'rhp'   Right-hand plane (x.real > 0.0)\n",
    "'iuc'   Inside the unit circle (x*x.conjugate() <= 1.0)\n",
    "'ouc'   Outside the unit circle (x*x.conjugate() > 1.0)"
   ],
   "cell_type": "markdown",
   "metadata": {}
  },
  {
   "source": [
    "## test how the iid vectors constitute overall\n",
    "## put them together and try to figure out the the properties"
   ],
   "cell_type": "markdown",
   "metadata": {}
  },
  {
   "cell_type": "code",
   "execution_count": 39,
   "metadata": {},
   "outputs": [],
   "source": [
    "Nt=np.array([1000,1000])\n",
    "NE,NI=Nt[0],Nt[1]\n",
    "Nparams=np.array([NE,NI])\n",
    "\n",
    "def generate_localstatsmat(Nparams,Grand):\n",
    "    xee,xei,xie,xii=Grand[0],Grand[1],Grand[2],Grand[3]\n",
    "    NE,NI=Nparams[0],Nparams[1]\n",
    "    N=NE+NI\n",
    "    at = Nt/N   \n",
    "    X=np.zeros((N,N))\n",
    "    X[:NE,:NE],X[NE:,NE:]=np.random.randn(NE,NE),np.random.randn(NE,NE)\n",
    "    X[:NE,NE:],X[NE:,:NE]=np.random.randn(NE,NE),np.random.randn(NE,NE)\n",
    "\n",
    "    X[:NE,:NE],X[NE:,NE:]=xee*X[:NE,:NE]/np.sqrt(NE),xii*X[NE:,NE:]/np.sqrt(NI)\n",
    "    X[:NE,NE:],X[NE:,:NE]=xei*X[:NE,NE:]/np.sqrt(NE),xie*X[NE:,:NE]/np.sqrt(NI)\n",
    "    # print('std indeed:',xee/np.sqrt(N),xei/np.sqrt(N),xie/np.sqrt(N),xii/np.sqrt(N))\n",
    "    eigvx,eigvecx=la.eig(X)\n",
    "    # theoretical M (grandom) matrix \n",
    "    gmat = np.array([[xee**2,xei**2],[xie**2,xii**2]])\n",
    "    # first do not multiply at\n",
    "    gaverage=0\n",
    "    for i in range(2):\n",
    "        for j in range(2):\n",
    "            gaverage+=gmat[i,j]/2 # ntype=2\n",
    "    gaverage=np.sqrt(gaverage)\n",
    "    # for i in range(2):\n",
    "    #     gmat[:,i]*=at[i]\n",
    "    eigvgm,eigvecgm=schur(gmat)\n",
    "    # eigvgm=eigvals(eigvgm)\n",
    "    ugm,svgm,vhgm=la.svd(gmat)\n",
    "    vgm=vhgm.T\n",
    "    ngm=vhgm.copy()\n",
    "    ngm=ngm.T \n",
    "    ngm[:,0],ngm[:,1]=svgm[0]*ngm[:,0],svgm[1]*ngm[:,1]\n",
    "\n",
    "    # properties\n",
    "    Gamp=np.zeros((2,2))\n",
    "    Gamp[0,0],Gamp[0,1],Gamp[1,0],Gamp[1,1]=xee,xei,xie,xii\n",
    "\n",
    "    return (X,Gamp,eigvgm,eigvecgm,gaverage,ugm,svgm,vgm)\n",
    "\n",
    "def generate_meanmat(Nparams,JEE,JIE,JEI,JII):\n",
    "    # mean value \n",
    "    # first use rank-1 structure\n",
    "    NE,NI=Nparams[0],Nparams[1]\n",
    "    N=NE+NI\n",
    "    at = Nt/N   \n",
    "    Am=np.zeros((N,N))\n",
    "    Am[:NE,:NE],Am[:NE,NE:]=JEE/NE,-JEI/NI\n",
    "    Am[NE:,:NE],Am[NE:,NE:]=JIE/NE,-JII/NI\n",
    "    ua,svam,vha=la.svd(Am)\n",
    "    va=vha.T\n",
    "    svam=svam[0]\n",
    "    # ua,va=np.zeros((N,N)),np.zeros((N,N))\n",
    "    # ua[:,0]=1.0/np.sqrt(N)\n",
    "    # va[:NE,0]=JE/np.sqrt(NE)\n",
    "    # va[NE:,0]=-JI/np.sqrt(NI)\n",
    "    # va[:,0]/=-np.linalg.norm(va[:,0])\n",
    "    # svam=np.sqrt(2*(JE**2+JI**2))\n",
    "    # vha=va.T\n",
    "\n",
    "    Jsv=np.zeros((2,2))\n",
    "    Jsv[0,0],Jsv[0,1],Jsv[1,0],Jsv[1,1]=JE,JI,JE,JI\n",
    "\n",
    "    return (Am,Jsv,ua,svam,va)\n",
    "\n",
    "\n",
    "\n"
   ]
  },
  {
   "cell_type": "code",
   "execution_count": 280,
   "metadata": {},
   "outputs": [
    {
     "output_type": "stream",
     "name": "stdout",
     "text": [
      "1.2 1.2\n1.2 3.6\n[0.6 0.  0.  0.9]\n"
     ]
    }
   ],
   "source": [
    "# Block Gaussian Random Network\n",
    "# xee,xei,xie,xii=0.3,0.00,0.00,0.4#1.2,1.2,1.8\n",
    "# JE,JI=5.50*xee,6.0*xii\n",
    "xee,xei,xie,xii=0.6,0.00,0.00,0.9#1.2,1.2,1.8\n",
    "JE,JI=2.0*xee,4.0*xii\n",
    "# properties\n",
    "Gamp=np.zeros((2,2))\n",
    "Gamp[0,0],Gamp[0,1],Gamp[1,0],Gamp[1,1]=xee,xei,xie,xii\n",
    "Gamp=Gamp**2\n",
    "eigvG,eigvecG=la.eig(Gamp)\n",
    "Gampnew=eigvecG.T@Gamp@eigvecG\n",
    "J=np.zeros((2,2))\n",
    "J[:,0],J[:,1]=JE,-JI \n",
    "Jnew=eigvecG.T@J@eigvecG\n",
    "# print(Jnew)\n",
    "xee,xei,xie,xii=np.sqrt(Gampnew[0,0]),np.sqrt(Gampnew[0,1]),np.sqrt(Gampnew[1,0]),np.sqrt(Gampnew[1,1])\n",
    "# print(xee,xei,xie,xii,Gampnew)\n",
    "JEE,JIE,JEI,JII=Jnew[0,0],Jnew[1,0],-Jnew[0,1],-Jnew[1,1]\n",
    "\n",
    "\n",
    "# generate random \n",
    "Grand=np.array([xee,0,0,xii])\n",
    "X,Gamp,eigvgmT,eigvecgm,gaverage,ugm,svgm,vgm=generate_localstatsmat(Nparams,Grand)\n",
    "# print(Gamp[0,0],Gamp[1,1])\n",
    "eigvgm=eigvals(eigvgmT)\n",
    "# print(eigvgm)\n",
    "idx = eigvgm.argsort()[::-1]   \n",
    "eigvgm = eigvgm[idx]\n",
    "gradius=np.sqrt(eigvgm[0])\n",
    "# generate mean Am\n",
    "Am,Jsv,ua,svam,va=generate_meanmat(Nparams,JEE,JIE,JEI,JII)\n",
    "print(JEE,JIE)\n",
    "print(JEE,JEI)\n",
    "print(Grand)"
   ]
  },
  {
   "cell_type": "code",
   "execution_count": 281,
   "metadata": {},
   "outputs": [
    {
     "output_type": "stream",
     "name": "stdout",
     "text": [
      "singular value, outliers\n[5.49608188 1.7833232  1.7763632 ]\n[1.78353212 1.7768907  1.77539379]\n"
     ]
    }
   ],
   "source": [
    "Xtotal=X.copy()+Am.copy()\n",
    "# singular decomposition blockage\n",
    "XEEtotal,XEItotal,XIEtotal,XIItotal=Xtotal[:NE,:NE],Xtotal[:NE,NE:],Xtotal[NE:,:NE],Xtotal[NE:,NE:]\n",
    "uxtEE,svxtEE,vhxtEE=la.svd(XEEtotal)\n",
    "vxtEE=vhxtEE.T\n",
    "uxtEI,svxtEI,vhxtEI=la.svd(XEItotal)\n",
    "vxtEI=vhxtEI.T\n",
    "uxtIE,svxtIE,vhxtIE=la.svd(XIEtotal)\n",
    "vxtIE=vhxtIE.T\n",
    "uxtII,svxtII,vhxtII=la.svd(XIItotal)\n",
    "vxtII=vhxtII.T\n",
    "# Combine, total svd decomposition\n",
    "uxt,svxt,vhxt=la.svd(Xtotal)\n",
    "vxt=vhxt.T\n",
    "# decomposition of the noise\n",
    "ux,svx,vhx=la.svd(X)\n",
    "vx=vhx.T\n",
    "# print singular values\n",
    "print('singular value, outliers')\n",
    "print(svxt[:3])\n",
    "print(svx[:3])"
   ]
  },
  {
   "source": [
    "## plot eigenvalues here"
   ],
   "cell_type": "markdown",
   "metadata": {}
  },
  {
   "cell_type": "code",
   "execution_count": 282,
   "metadata": {},
   "outputs": [
    {
     "output_type": "stream",
     "name": "stdout",
     "text": [
      "[[ 1.2 -3.6]\n [ 1.2 -3.6]]\n"
     ]
    }
   ],
   "source": [
    "eigvx,_=la.eig(Xtotal)\n",
    "theta = np.linspace(0, 2 * np.pi, 200)\n",
    "xc = gradius*np.cos(theta)\n",
    "yc = gradius*np.sin(theta)\n",
    "\n",
    "xa = gaverage*np.cos(theta)\n",
    "ya = gaverage*np.sin(theta)\n",
    "\n",
    "tickeig=np.fabs(JE-JI)*1.5\n",
    "ticks = np.linspace(-tickeig,tickeig,3)\n",
    "lims= [-tickeig-0.01,tickeig+0.01]\n",
    "nbins=100\n",
    "fig,ax=plt.subplots(figsize=(6,6))\n",
    "# eigenvalue\n",
    "ax.scatter(np.real(eigvx),np.imag(eigvx),s=2.0,c='blue',alpha=0.5)\n",
    "ax.plot(xc, yc, color=\"darkred\", linewidth=2)\n",
    "ax.plot(xa, ya, color=\"grey\", linewidth=2,linestyle='--')\n",
    "ax.set_xlim(lims)\n",
    "ax.set_ylim(lims)\n",
    "ax.set_xticks(ticks)\n",
    "ax.set_yticks(ticks)\n",
    "ax.set_aspect('equal')\n",
    "ax.set_title(r'$J_{EE},J_{IE}\\ J_{EI},J_{II}=$'+str(format(JEE,'.2f'))+','+str(format(JIE,'.2f'))+','+str(format(JEI,'.2f'))+','+str(format(JII,'.2f'))+'\\n $\\lambda_1=$'+str(format(np.real(gradius),'.2f'))+r', $g_{avg}=$'+str(format(gaverage,'.2f')),fontsize=14)\n",
    "# print(np.sqrt(0.5*JE**2+0.5*JI**2),np.min(np.real(eigvx)),gradius)\n",
    "# print(gaverage**2/svam+svam,svxt[0],gradius**2/svam+svam)\n",
    "print(Jnew)"
   ]
  },
  {
   "cell_type": "code",
   "execution_count": 283,
   "metadata": {},
   "outputs": [
    {
     "output_type": "stream",
     "name": "stdout",
     "text": [
      "eigenvalue\n2.4150429952923855 (-2.4000000000000057+0j)\n"
     ]
    }
   ],
   "source": [
    "# print(Jnew[0,0]/Jnew[1,0],Jnew[0,1]/Jnew[1,1])\n",
    "# print(Jnew[0,0]/Jnew[0,1],Jnew[1,0]/Jnew[1,1])\n",
    "Xtotal=X.copy()+Am.copy()\n",
    "eigvxt,_=la.eig(Xtotal)\n",
    "eigvA,_=la.eig(Am)\n",
    "print('eigenvalue')\n",
    "print(np.max(np.sqrt(np.real(eigvxt)**2+np.imag(eigvxt)**2)),eigvA[0])"
   ]
  },
  {
   "cell_type": "code",
   "execution_count": 284,
   "metadata": {},
   "outputs": [],
   "source": [
    "iid_sv=np.zeros((2,2))\n",
    "iid_sv=np.array([[JEE,JEI],[JIE,JII]])\n",
    "iid_sv[0,0]=iid_sv[0,0]+xee**2/iid_sv[0,0]\n",
    "iid_sv[0,1]=iid_sv[0,1]+xei**2/iid_sv[0,1]\n",
    "iid_sv[1,0]=iid_sv[1,0]+xie**2/iid_sv[1,0]\n",
    "iid_sv[1,1]=iid_sv[1,1]+xii**2/iid_sv[1,1]\n",
    "\n"
   ]
  },
  {
   "cell_type": "code",
   "execution_count": 285,
   "metadata": {},
   "outputs": [],
   "source": [
    "## test EE, EI, IE, II separately\n",
    "iid_mu_u,iid_mu_v ={},{}\n",
    "\n",
    "iid_mu_u['E'],iid_mu_u['I']=np.zeros((2,1)),np.zeros((2,1))\n",
    "iid_mu_v['E'],iid_mu_v['I']=np.zeros((2,1)),np.zeros((2,1))\n",
    "\n",
    "iid_mu_u['E'][0,0],iid_mu_u['E'][1,0]=np.mean(uxtEE[:,0]),np.mean(uxtEI[:,0])\n",
    "iid_mu_u['I'][0,0],iid_mu_u['I'][1,0]=np.mean(uxtIE[:,0]),np.mean(uxtII[:,0])\n",
    "iid_mu_v['E'][0,0],iid_mu_v['E'][1,0]=np.mean(vxtEE[:,0]),np.mean(vxtIE[:,0])\n",
    "iid_mu_v['I'][0,0],iid_mu_v['I'][1,0]=np.mean(vxtEI[:,0]),np.mean(vxtII[:,0])\n",
    "\n",
    "mua,mva = np.zeros((2,1)),np.zeros((2,1))\n",
    "mua[0,0],mua[1,0]=ua[0,0],ua[NE+1,0]\n",
    "mva[0,0],mva[1,0]=va[0,0],va[NE+1,0]\n",
    "\n",
    "iid_noise_u,iid_noise_v ={},{}\n",
    "iid_noise_u['E'],iid_noise_u['I']=np.zeros((NE,2)),np.zeros((NE,2))\n",
    "iid_noise_v['E'],iid_noise_v['I']=np.zeros((NE,2)),np.zeros((NE,2))\n",
    "\n",
    "iid_noise_u['E'][:,0],iid_noise_u['E'][:,1]=(uxtEE[:,0]-iid_mu_u['E'][0,0]),(uxtEI[:,0]-iid_mu_u['E'][1,0])\n",
    "iid_noise_u['I'][:,0],iid_noise_u['I'][:,1]=(uxtIE[:,0]-iid_mu_u['I'][0,0]),(uxtII[:,0]-iid_mu_u['I'][1,0])\n",
    "iid_noise_v['E'][:,0],iid_noise_v['E'][:,1]=(vxtEE[:,0]-iid_mu_v['E'][0,0]),(vxtIE[:,0]-iid_mu_v['E'][1,0])\n",
    "iid_noise_v['I'][:,0],iid_noise_v['I'][:,1]=(vxtEI[:,0]-iid_mu_v['I'][0,0]),(vxtII[:,0]-iid_mu_v['I'][1,0])\n",
    "# std noise iid\n",
    "std_iidn_u =np.zeros((2,2))\n",
    "std_iidn_u[0,0],std_iidn_u[0,1]=np.std(iid_noise_u['E'][:,0])*np.sqrt(NE),np.std(iid_noise_u['E'][:,1])*np.sqrt(NE)\n",
    "std_iidn_u[1,0],std_iidn_u[1,1]=np.std(iid_noise_u['I'][:,0])*np.sqrt(NE),np.std(iid_noise_u['I'][:,1])*np.sqrt(NE)\n",
    "\n",
    "# std noise iid v\n",
    "std_iidn_v =np.zeros((2,2))\n",
    "std_iidn_v[0,0],std_iidn_v[0,1]=np.std(iid_noise_v['E'][:,0])*np.sqrt(NE),np.std(iid_noise_v['E'][:,1])*np.sqrt(NE)\n",
    "std_iidn_v[1,0],std_iidn_v[1,1]=np.std(iid_noise_v['I'][:,0])*np.sqrt(NE),np.std(iid_noise_v['I'][:,1])*np.sqrt(NE)\n",
    "# print(std_iidn_v)\n",
    "\n",
    "mu_u,mu_v=np.zeros((2,1)),np.zeros((2,1))\n",
    "mu_u[0,0],mu_u[1,0]=np.mean(uxt[:NE,0]),np.mean(uxt[NE:,0])\n",
    "mu_v[0,0],mu_v[1,0]=np.mean(vxt[:NE,0]),np.mean(vxt[NE:,0])\n",
    "\n",
    "## print noise tt\n",
    "noise_u,noise_v=np.zeros((NE,2)),np.zeros((NE,2))\n",
    "noise_u[:,0],noise_u[:,1]=(uxt[:NE,0]-mu_u[0,0]),(uxt[NE:,0]-mu_u[1,0])\n",
    "noise_v[:,0],noise_v[:,1]=(vxt[:NE,0]-mu_v[0,0]),(vxt[NE:,0]-mu_v[1,0])\n",
    "\n",
    "# std noise total\n",
    "std_noise_u =np.zeros((2,1))\n",
    "std_noise_u[0,0],std_noise_u[1,0]=np.std(noise_u[:,0])*np.sqrt(NE),np.std(noise_u[:,1])*np.sqrt(NE)\n",
    "std_noise_v =np.zeros((2,1))\n",
    "std_noise_v[0,0],std_noise_v[1,0]=np.std(noise_v[:,0])*np.sqrt(NE),np.std(noise_v[:,1])*np.sqrt(NE)\n"
   ]
  },
  {
   "source": [
    "## testing the simplest version"
   ],
   "cell_type": "markdown",
   "metadata": {}
  },
  {
   "cell_type": "code",
   "execution_count": 286,
   "metadata": {},
   "outputs": [
    {
     "output_type": "stream",
     "name": "stdout",
     "text": [
      "5.496081877580375 5.475571459902632 (5.4888201626693185+0j)\ntest noise: 0.015811388300841896 0.015592690752250275\ntest noise: 0.007905694150420948 0.007845864245236187\ntest noise: 0.0 3.816121903885924e-17\ntest noise: 0.0 2.522266840508172e-17\n"
     ]
    }
   ],
   "source": [
    "tavgsv=svam+gaverage**2/svam\n",
    "tmaxgsv=svam+eigvgm[0]**2/svam\n",
    "print(svxt[0],tavgsv,tmaxgsv)\n",
    "print('test noise:',xee/JE/np.sqrt(NE),np.std(iid_noise_u['E'][:,0]))\n",
    "print('test noise:',xii/JI/np.sqrt(NE),np.std(iid_noise_u['I'][:,1]))\n",
    "\n",
    "print('test noise:',xie/JE/np.sqrt(NE),np.std(iid_noise_u['I'][:,0]))\n",
    "print('test noise:',xei/JI/np.sqrt(NE),np.std(iid_noise_u['E'][:,1]))"
   ]
  },
  {
   "source": [
    "## the complete version"
   ],
   "cell_type": "markdown",
   "metadata": {}
  },
  {
   "cell_type": "code",
   "execution_count": 235,
   "metadata": {},
   "outputs": [
    {
     "output_type": "stream",
     "name": "stdout",
     "text": [
      "3.294058721724986 3.2068980555809428 (3.286969644749247+0j)\ntest noise: 0.013176156917368249 0.013287511457596215\ntest noise: 0.013176156917368247 0.013394070645064671\ntest noise: 0.0 1.8663941392430391e-16\ntest noise: 0.0 1.8663906552913327e-16\n"
     ]
    }
   ],
   "source": [
    "tavgsv=svam+gaverage**2/svam\n",
    "tmaxgsv=svam+eigvgm[0]**2/svam\n",
    "print(svxt[0],tavgsv,tmaxgsv)\n",
    "print('test noise:',xee/JEE/np.sqrt(NE),np.std(iid_noise_u['E'][:,0]))\n",
    "print('test noise:',xii/JII/np.sqrt(NE),np.std(iid_noise_u['I'][:,1]))\n",
    "\n",
    "print('test noise:',xie/JIE/np.sqrt(NE),np.std(iid_noise_u['I'][:,0]))\n",
    "print('test noise:',xei/JEI/np.sqrt(NE),np.std(iid_noise_u['E'][:,1]))"
   ]
  },
  {
   "source": [
    "## integrate all iid noise base and tilde noise base"
   ],
   "cell_type": "markdown",
   "metadata": {}
  },
  {
   "cell_type": "code",
   "execution_count": 287,
   "metadata": {},
   "outputs": [],
   "source": [
    "# u base\n",
    "unoisebase=np.zeros((NE,4))\n",
    "unoisebase[:,0]=iid_noise_u['E'][:,0]/std_iidn_u[0,0]\n",
    "unoisebase[:,3]=iid_noise_u['I'][:,1]/std_iidn_u[1,1]\n",
    "\n",
    "# v base\n",
    "vnoisebase=np.zeros((NE,4))\n",
    "vnoisebase[:,0]=iid_noise_v['E'][:,0]/std_iidn_v[0,0]\n",
    "vnoisebase[:,3]=iid_noise_v['I'][:,1]/std_iidn_v[1,1]\n",
    "\n",
    "# # u base\n",
    "# unoisebase=np.zeros((NE,4))\n",
    "# unoisebase[:,0]=iid_noise_u['E'][:,0]/std_iidn_u[0,0]\n",
    "# unoisebase[:,1]=iid_noise_u['E'][:,1]/std_iidn_u[0,1]#*0\n",
    "# unoisebase[:,3]=iid_noise_u['I'][:,1]/std_iidn_u[1,1]\n",
    "\n",
    "# # v base\n",
    "# vnoisebase=np.zeros((NE,4))\n",
    "# vnoisebase[:,0]=iid_noise_v['E'][:,0]/std_iidn_v[0,0]\n",
    "# vnoisebase[:,2]=iid_noise_v['I'][:,0]/std_iidn_v[1,0]#*0\n",
    "# vnoisebase[:,3]=iid_noise_v['I'][:,1]/std_iidn_v[1,1]\n",
    "\n",
    "# # u base\n",
    "# unoisebase=np.zeros((NE,4))\n",
    "# unoisebase[:,0]=iid_noise_u['E'][:,0]/std_iidn_u[0,0]\n",
    "# unoisebase[:,1]=iid_noise_u['E'][:,1]/std_iidn_u[0,1]#*0\n",
    "# unoisebase[:,2]=iid_noise_u['I'][:,0]/std_iidn_u[1,0]#*0\n",
    "# unoisebase[:,3]=iid_noise_u['I'][:,1]/std_iidn_u[1,1]\n",
    "\n",
    "# # v base\n",
    "# vnoisebase=np.zeros((NE,4))\n",
    "# vnoisebase[:,0]=iid_noise_v['E'][:,0]/std_iidn_v[0,0]\n",
    "# vnoisebase[:,1]=iid_noise_v['E'][:,1]/std_iidn_v[0,1]#*0\n",
    "# vnoisebase[:,2]=iid_noise_v['I'][:,0]/std_iidn_v[1,0]#*0\n",
    "# vnoisebase[:,3]=iid_noise_v['I'][:,1]/std_iidn_v[1,1]"
   ]
  },
  {
   "cell_type": "code",
   "execution_count": 288,
   "metadata": {},
   "outputs": [
    {
     "output_type": "stream",
     "name": "stdout",
     "text": [
      "tu in u\n[[ 0.94920976  0.          0.         -0.03567115]\n [-0.01965047  0.          0.          0.99208637]]\ntv in v\n[[0.89618607 0.         0.         0.01577834]\n [0.02551144 0.         0.         0.99920081]]\n-------------\n[[-0.00505826  0.          0.          0.03699317]\n [-0.01108102  0.          0.         -0.03578757]]\n[[-0.03551244  0.          0.          0.0184787 ]\n [ 0.03017059  0.          0.         -0.03715089]]\n"
     ]
    }
   ],
   "source": [
    "# creat noise base 2\n",
    "\n",
    "noise_u_norm=noise_u.copy()\n",
    "for i in range(2):\n",
    "    noise_u_norm[:,i]/=std_noise_u[i,0]\n",
    "noise_v_norm=noise_v.copy()\n",
    "for i in range(2):\n",
    "    noise_v_norm[:,i]/=std_noise_v[i,0]\n",
    "\n",
    "# tilde noise uEI-vEI\n",
    "tilde_noise = np.zeros((NE,4))\n",
    "tilde_noise[:,:2]=noise_u_norm.copy()\n",
    "tilde_noise[:,2:]=noise_v_norm.copy()\n",
    "\n",
    "iid_noise = np.zeros((NE,8))\n",
    "iid_noise[:,:4]=unoisebase.copy()\n",
    "iid_noise[:,4:]=vnoisebase.copy()\n",
    "\n",
    "# u noise correlation\n",
    "# utildeU\n",
    "unoisecov = np.zeros((2,4))\n",
    "unoisecov = noise_u_norm.T@unoisebase\n",
    "uvbasecov=noise_u_norm.T@vnoisebase\n",
    "# utildeV\n",
    "vnoisecov = np.zeros((2,4))\n",
    "vnoisecov = noise_v_norm.T@vnoisebase\n",
    "vubasecov=noise_v_norm.T@unoisebase\n",
    "\n",
    "# PLOT FIGURE\n",
    "# total overlap rho\n",
    "noise_rho=tilde_noise.T@iid_noise\n",
    "# print(noise_rho)\n",
    "plt.figure()\n",
    "plt.imshow(noise_rho**2,cmap='jet')\n",
    "plt.clim([0.0,1.5])\n",
    "plt.colorbar()\n",
    "iid_noise_cov=iid_noise.T@iid_noise\n",
    "# print(iid_noise_cov)\n",
    "plt.figure()\n",
    "plt.imshow(iid_noise_cov,cmap='jet')\n",
    "plt.clim([0.0,1.5])\n",
    "plt.colorbar()\n",
    "\n",
    "# alphas are for u, the left singular vectors\n",
    "alphau = np.zeros((2,2))\n",
    "alphau[0,0]=np.sum(iid_noise_u['E'][:,0]*noise_u[:,0])/np.sum(iid_noise_u['E'][:,0]*iid_noise_u['E'][:,0]) # alphau--u^E_EE,\n",
    "alphau[1,1]=np.sum(iid_noise_u['I'][:,1]*noise_u[:,1])/np.sum(iid_noise_u['I'][:,1]*iid_noise_u['I'][:,1]) # alphau--u^I_II,\n",
    "alphau[0,1]=np.sum(iid_noise_u['E'][:,1]*noise_u[:,0])/np.sum(iid_noise_u['E'][:,1]*iid_noise_u['E'][:,1]) # alphau--u^E_EI,\n",
    "alphau[1,0]=np.sum(iid_noise_u['I'][:,0]*noise_u[:,1])/np.sum(iid_noise_u['I'][:,0]*iid_noise_u['I'][:,0]) # alphau--u^I_IE\n",
    "# alphau*=2.0\n",
    "\n",
    "# betas are for v, the right singular vectors\n",
    "betav = np.zeros((2,2))\n",
    "betav[0,0]=np.sum(iid_noise_v['E'][:,0]*noise_v[:,0])/np.sum(iid_noise_v['E'][:,0]*iid_noise_v['E'][:,0]) # alphau0--v^E_EE, 1-SQUARE v^E_IE\n",
    "betav[1,1]=np.sum(iid_noise_v['I'][:,1]*noise_v[:,1])/np.sum(iid_noise_v['I'][:,1]*iid_noise_v['I'][:,1]) # alphau0--v^I_II, 1-SQUARE V^I_EI\n",
    "betav[0,1]=np.sum(iid_noise_v['E'][:,1]*noise_v[:,0])/np.sum(iid_noise_v['E'][:,1]*iid_noise_v['E'][:,1]) # alphau0--v^E_EE, 1-SQUARE v^E_IE\n",
    "betav[1,0]=np.sum(iid_noise_v['I'][:,0]*noise_v[:,1])/np.sum(iid_noise_v['I'][:,0]*iid_noise_v['I'][:,0]) # alphau0--v^I_II, 1-SQUARE V^I_EI\n",
    "# betav*=2.0\n",
    "\n",
    "# for i in range(2):\n",
    "#     if alphau[i,0]>1.0:\n",
    "#         alphau[i,0]=1.0\n",
    "#     if betav[i,0]>1.0:\n",
    "#         betav[i,0]=1.0\n",
    "\n",
    "print('tu in u')\n",
    "print(unoisecov)\n",
    "print('tv in v')\n",
    "print(vnoisecov)\n",
    "print('-------------')\n",
    "print(uvbasecov)\n",
    "print(vubasecov)"
   ]
  },
  {
   "cell_type": "code",
   "execution_count": 289,
   "metadata": {},
   "outputs": [
    {
     "output_type": "stream",
     "name": "stdout",
     "text": [
      "(0.4444444444444444+0j)\n0.4261561559553134\n0.37702719456679085\n"
     ]
    }
   ],
   "source": [
    "print(eigvgm[1]/eigvgm[0])\n",
    "print(alphau[0,0]*(xee/JEE)**2*JEE/(alphau[1,1]*(xii/JII)**2*JIE))\n",
    "print(betav[0,0]*(xee/JEE)**2*JEE/(betav[1,1]*(xii/JII)**2*JEI))"
   ]
  },
  {
   "source": [
    "## check the mean part"
   ],
   "cell_type": "markdown",
   "metadata": {}
  },
  {
   "cell_type": "code",
   "execution_count": 291,
   "metadata": {},
   "outputs": [
    {
     "output_type": "stream",
     "name": "stdout",
     "text": [
      "0.7961848480277227 1.104977814956972\n0.7255817707097814 4.993179926323558\n-0.3307703445305341\nJE/JI 0.3333333333333333\n"
     ]
    }
   ],
   "source": [
    "# print('num mean values:')\n",
    "# print(mu_u)\n",
    "# print(mu_v)\n",
    "# theo\n",
    "# print(mu_u[0,0]*np.sqrt(NE))\n",
    "print(mu_u[0,0]/iid_mu_u['E'][0,0],std_noise_u[0,0]*np.sqrt(NE))\n",
    "# print(mu_u[1,0]*np.sqrt(NE))\n",
    "print(mu_u[1,0]/iid_mu_u['I'][1,0],std_noise_u[1,0]*np.sqrt(NE))\n",
    "\n",
    "print(mu_v[0,0]/mu_v[1,0])\n",
    "print('JE/JI',JEE/JII)\n",
    "print('JE/JI',JEE/JII)\n",
    "# print(iid_mu_v['E'],1/np.sqrt(NE))\n",
    "# print(mu_v[1,0])\n",
    "# print(iid_mu_v['I'],1/np.sqrt(NE))"
   ]
  },
  {
   "source": [
    "## check noise components rotation"
   ],
   "cell_type": "markdown",
   "metadata": {}
  },
  {
   "cell_type": "code",
   "execution_count": 158,
   "metadata": {},
   "outputs": [],
   "source": [
    "stduE=eigvecG[0,0]**2*std_noise_u[0,0]**2+eigvecG[1,0]**2*std_noise_u[1,0]**2\n",
    "stduE=np.sqrt(stduE)\n",
    "stduI=eigvecG[0,1]**2*std_noise_u[0,0]**2+eigvecG[1,1]**2*std_noise_u[1,0]**2\n",
    "stduI=np.sqrt(stduI)\n",
    "\n",
    "stdvE=eigvecG[0,0]**2*std_noise_v[0,0]**2+eigvecG[1,0]**2*std_noise_v[1,0]**2\n",
    "stdvE=np.sqrt(stdvE)\n",
    "stdvI=eigvecG[0,1]**2*std_noise_v[0,0]**2+eigvecG[1,1]**2*std_noise_v[1,0]**2\n",
    "stdvI=np.sqrt(stdvI)"
   ]
  },
  {
   "cell_type": "code",
   "execution_count": 169,
   "metadata": {},
   "outputs": [],
   "source": [
    "# noise_u_org,noise_v_org = eigvecG@noise_u.T,eigvecG@noise_v.T\n",
    "# noise_u_org=noise_u_org.T\n",
    "# noise_v_org=noise_v_org.T"
   ]
  },
  {
   "cell_type": "code",
   "execution_count": 159,
   "metadata": {},
   "outputs": [],
   "source": [
    "noise_u_org,noise_v_org = np.zeros((NE,2)),np.zeros((NE,2))\n",
    "noise_u_org[:,0],noise_u_org[:,1]=stduE*np.random.randn(NE)/np.sqrt(NE),stduI*np.random.randn(NE)/np.sqrt(NE)\n",
    "noise_v_org[:,0],noise_v_org[:,1]=stdvE*np.random.randn(NE)/np.sqrt(NE),stdvI*np.random.randn(NE)/np.sqrt(NE)"
   ]
  },
  {
   "cell_type": "code",
   "execution_count": 160,
   "metadata": {},
   "outputs": [
    {
     "output_type": "execute_result",
     "data": {
      "text/plain": [
       "[<matplotlib.axis.YTick at 0x7ff77aa1f310>,\n",
       " <matplotlib.axis.YTick at 0x7ff78d0e0190>,\n",
       " <matplotlib.axis.YTick at 0x7ff77abb4fd0>]"
      ]
     },
     "metadata": {},
     "execution_count": 160
    }
   ],
   "source": [
    "# before rotation\n",
    "ticks = np.linspace(-0.50,0.50,3)\n",
    "lims= [-.61,.61]\n",
    "fig,ax=plt.subplots(4,4,figsize=(9,9))\n",
    "for i in range(2):\n",
    "    for j in range(2):\n",
    "        # ax[i][j].scatter(noise_u[:,j]*np.sqrt(NE),noise_u[:,i]*np.sqrt(NE),s=5.0,c='blue',alpha=0.1)\n",
    "        ax[i][j].scatter(noise_u_org[:,j]*np.sqrt(NE),noise_u_org[:,i]*np.sqrt(NE),s=5.0,c='blue',alpha=0.1)\n",
    "    for j in range(2):\n",
    "        # ax[2+i][2+j].scatter(noise_v[:,j]*np.sqrt(NE),noise_v[:,i]*np.sqrt(NE),s=5.0,c='blue',alpha=0.1)\n",
    "        ax[2+i][2+j].scatter(noise_v_org[:,j]*np.sqrt(NE),noise_v_org[:,i]*np.sqrt(NE),s=5.0,c='blue',alpha=0.1)\n",
    "for i in range(2):\n",
    "    for j in range(2):\n",
    "        # ax[i][2+j].scatter(noise_v[:,j]*np.sqrt(NE),noise_u[:,i]*np.sqrt(NE),s=5.0,c='blue',alpha=0.1)\n",
    "        ax[i][2+j].scatter(noise_v_org[:,j]*np.sqrt(NE),noise_u_org[:,i]*np.sqrt(NE),s=5.0,c='blue',alpha=0.1)\n",
    "for i in range(2):\n",
    "    for j in range(2):\n",
    "        # ax[2+i][j].scatter(noise_u[:,j]*np.sqrt(NE),noise_v[:,i]*np.sqrt(NE),s=5.0,c='blue',alpha=0.1)\n",
    "        ax[2+i][j].scatter(noise_u_org[:,j]*np.sqrt(NE),noise_v_org[:,i]*np.sqrt(NE),s=5.0,c='blue',alpha=0.1)\n",
    "for i in range(4):\n",
    "    for j in range(4):\n",
    "        ax[i][j].set_xlim(lims)\n",
    "        ax[i][j].set_ylim(lims)\n",
    "        ax[i][j].set_xticks(ticks)\n",
    "        ax[i][j].set_yticks(ticks)\n",
    "        ax[i][j].set_aspect('equal')\n",
    "        ax[i][j].grid()\n",
    "\n",
    "# for i in range(4):\n",
    "#     for j in range(4):\n",
    "#         ax[i][j].set_xlim(lims)\n",
    "#         ax[i][j].set_ylim(lims)\n",
    "#         ax[i][j].set_xticks([])#ticks)\n",
    "#         ax[i][j].set_yticks([])#ticks)\n",
    "#         ax[i][j].set_aspect('equal')\n",
    "#         ax[i][j].grid()\n",
    "ax[0][3].set_xticks(ticks)\n",
    "ax[0][3].set_yticks(ticks)\n",
    "ax[3][0].set_xticks(ticks)\n",
    "ax[3][0].set_yticks(ticks)\n",
    "ax[0][1].set_xticks(ticks)\n",
    "ax[0][1].set_yticks(ticks)\n",
    "ax[1][0].set_xticks(ticks)\n",
    "ax[1][0].set_yticks(ticks)"
   ]
  },
  {
   "source": [
    "## check the overlap matrix in random/noise components"
   ],
   "cell_type": "markdown",
   "metadata": {}
  },
  {
   "cell_type": "code",
   "execution_count": 161,
   "metadata": {},
   "outputs": [],
   "source": [
    "## zetau/vEI  prime\n",
    "# Block Gaussian Random Network\n",
    "xee,xei,xie,xii=0.9,0.00,0.00,0.6#1.2,1.2,1.8\n",
    "JE,JI=3.0*xee,2.10*xii\n",
    "JEE,JIE,JEI,JII=JE,JE,JI,JI\n",
    "\n",
    "# print(JEE,JIE)\n",
    "# print(JEE,JEI)\n",
    "# JEE,JIE=1.749964713956438,3.269838978111829\n",
    "# JEE,JEI=1.749964713956438,1.9801610218881713\n",
    "# xee,xei,xie,xii=0.25049989, 0.,         0. ,        0.62229399\n",
    "\n",
    "# generate random \n",
    "Grand=np.array([xee,xei,xie,xii])\n",
    "X,Gamp,eigvgmT,eigvecgm,gaverage,ugm,svgm,vgm=generate_localstatsmat(Nparams,Grand)\n",
    "eigvgm=eigvals(eigvgmT)\n",
    "idx = eigvgm.argsort()[::-1]   \n",
    "eigvgm = eigvgm[idx]\n",
    "gradius=np.sqrt(eigvgm[0])\n",
    "# generate mean Am\n",
    "Am,Jsv,ua,svam,va=generate_meanmat(Nparams,JEE,JIE,JEI,JII)\n",
    "Xtotal=X.copy()+Am.copy()\n",
    "# Combine, total svd decomposition\n",
    "uxt,svxt,vhxt=la.svd(Xtotal)\n",
    "vxt=vhxt.T\n"
   ]
  },
  {
   "cell_type": "code",
   "execution_count": 162,
   "metadata": {},
   "outputs": [],
   "source": [
    "IDX=0\n",
    "noise_u_,noise_v_=np.zeros((NE,2)),np.zeros((NE,2))\n",
    "noise_u_[:,0]= uxt[:NE,IDX]-np.mean(uxt[:NE,IDX])\n",
    "noise_u_[:,1]= uxt[NE:,IDX]-np.mean(uxt[NE:,IDX])\n",
    "noise_v_[:,0]= vxt[:NE,IDX]-np.mean(vxt[:NE,IDX])\n",
    "noise_v_[:,1]= vxt[NE:,IDX]-np.mean(vxt[NE:,IDX])"
   ]
  },
  {
   "cell_type": "code",
   "execution_count": 176,
   "metadata": {},
   "outputs": [
    {
     "output_type": "stream",
     "name": "stdout",
     "text": [
      "[[-0.02931933 -0.04310275]\n [-0.06672983  0.00274242]]\n[[ 0.01713054  0.02448348]\n [ 0.03106086 -0.00031125]]\n"
     ]
    }
   ],
   "source": [
    "print(noise_u_.T@noise_v_*NE)\n",
    "print(noise_u.T@noise_v*NE)"
   ]
  },
  {
   "cell_type": "code",
   "execution_count": 163,
   "metadata": {},
   "outputs": [
    {
     "output_type": "execute_result",
     "data": {
      "text/plain": [
       "[<matplotlib.axis.YTick at 0x7ff77aa1f310>,\n",
       " <matplotlib.axis.YTick at 0x7ff78d0e0190>,\n",
       " <matplotlib.axis.YTick at 0x7ff77abb4fd0>]"
      ]
     },
     "metadata": {},
     "execution_count": 163
    }
   ],
   "source": [
    "# # before rotation\n",
    "# ticks = np.linspace(-0.40,0.40,5)\n",
    "# lims= [-.41,.41]\n",
    "# fig,ax=plt.subplots(4,4,figsize=(9,9))\n",
    "cl='m'\n",
    "for i in range(2):\n",
    "    for j in range(2):\n",
    "        # ax[i][j].scatter(noise_u_org[:,i]*np.sqrt(NE),noise_u_org[:,j]*np.sqrt(NE),s=5.0,c='red',alpha=0.05)\n",
    "        ax[i][j].scatter(noise_u_[:,j]*np.sqrt(NE),noise_u_[:,i]*np.sqrt(NE),s=5.0,c=cl,alpha=0.1)\n",
    "for i in range(2):\n",
    "    for j in range(2):\n",
    "        # ax[2+i][2+j].scatter(noise_v_org[:,i]*np.sqrt(NE),noise_v_org[:,j]*np.sqrt(NE),s=5.0,c='red',alpha=0.05)\n",
    "        ax[2+i][2+j].scatter(noise_v_[:,j]*np.sqrt(NE),noise_v_[:,i]*np.sqrt(NE),s=5.0,c=cl,alpha=0.1)\n",
    "for i in range(2):\n",
    "    for j in range(2):\n",
    "        # ax[i][2+j].scatter(noise_u_org[:,i]*np.sqrt(NE),noise_v_org[:,j]*np.sqrt(NE),s=5.0,c='red',alpha=0.05)\n",
    "        ax[i][2+j].scatter(noise_v_[:,j]*np.sqrt(NE),noise_u_[:,i]*np.sqrt(NE),s=5.0,c=cl,alpha=0.1)\n",
    "for i in range(2):\n",
    "    for j in range(2):\n",
    "        # ax[2+i][j].scatter(noise_v_org[:,i]*np.sqrt(NE),noise_u_org[:,j]*np.sqrt(NE),s=5.0,c='red',alpha=0.05)\n",
    "        ax[2+i][j].scatter(noise_u_[:,j]*np.sqrt(NE),noise_v_[:,i]*np.sqrt(NE),s=5.0,c=cl,alpha=0.1)\n",
    "for i in range(4):\n",
    "    for j in range(4):\n",
    "        ax[i][j].set_xlim(lims)\n",
    "        ax[i][j].set_ylim(lims)\n",
    "        ax[i][j].set_xticks(ticks)\n",
    "        ax[i][j].set_yticks(ticks)\n",
    "        ax[i][j].set_aspect('equal')\n",
    "        ax[i][j].grid()\n",
    "# for i in range(4):\n",
    "#     for j in range(4):\n",
    "#         ax[i][j].set_xlim(lims)\n",
    "#         ax[i][j].set_ylim(lims)\n",
    "#         ax[i][j].set_xticks([])#ticks)\n",
    "#         ax[i][j].set_yticks([])#ticks)\n",
    "#         ax[i][j].set_aspect('equal')\n",
    "#         ax[i][j].grid()\n",
    "ax[0][3].set_xticks(ticks)\n",
    "ax[0][3].set_yticks(ticks)\n",
    "ax[3][0].set_xticks(ticks)\n",
    "ax[3][0].set_yticks(ticks)\n",
    "ax[0][1].set_xticks(ticks)\n",
    "ax[0][1].set_yticks(ticks)\n",
    "ax[1][0].set_xticks(ticks)\n",
    "ax[1][0].set_yticks(ticks)"
   ]
  },
  {
   "cell_type": "code",
   "execution_count": 164,
   "metadata": {},
   "outputs": [],
   "source": [
    "std_noise_u_theo=np.zeros_like(std_noise_u)\n",
    "std_noise_v_theo=np.zeros_like(std_noise_u)\n",
    "std_noise_u_num=np.zeros_like(std_noise_u)\n",
    "std_noise_v_num=np.zeros_like(std_noise_u)\n",
    "\n",
    "for i in range(2):\n",
    "    std_noise_u_theo[i,0]=np.std(noise_u_org[:,i])\n",
    "    std_noise_v_theo[i,0]=np.std(noise_v_org[:,i])\n",
    "    std_noise_u_num[i,0]=np.std(noise_u_[:,i])\n",
    "    std_noise_v_num[i,0]=np.std(noise_v_[:,i])"
   ]
  },
  {
   "cell_type": "code",
   "execution_count": 165,
   "metadata": {},
   "outputs": [
    {
     "output_type": "stream",
     "name": "stdout",
     "text": [
      "[[0.00642317]\n [0.00185247]]\n[[0.00617121]\n [0.00183498]]\n[[0.00526874]\n [0.00309774]]\n[[0.0047646 ]\n [0.00312195]]\n[[0.03384202 0.01989732]\n [0.00976018 0.00573847]]\n[[0.02940337 0.01926622]\n [0.00874294 0.00572871]]\n[0.9 0.  0.  0.6]\n"
     ]
    }
   ],
   "source": [
    "print(std_noise_u_theo)\n",
    "print(std_noise_u_num)\n",
    "\n",
    "print(std_noise_v_theo)\n",
    "print(std_noise_v_num)\n",
    "\n",
    "print(np.reshape(std_noise_u_theo,(2,1))@np.reshape(std_noise_v_theo,(1,2))*NE)\n",
    "print(np.reshape(std_noise_u_num,(2,1))@np.reshape(std_noise_v_num,(1,2))*NE)\n",
    "print(Grand)"
   ]
  },
  {
   "cell_type": "code",
   "execution_count": 1738,
   "metadata": {},
   "outputs": [
    {
     "output_type": "execute_result",
     "data": {
      "text/plain": [
       "<matplotlib.collections.PathCollection at 0x7fe2487277f0>"
      ]
     },
     "metadata": {},
     "execution_count": 1738
    }
   ],
   "source": [
    "ticks = np.linspace(-3.0,3.0,5)\n",
    "lims= [-3.1,3.1]\n",
    "nbins=100\n",
    "fig,ax=plt.subplots(1,2,figsize=(10,4.5))\n",
    "# eigenvalue\n",
    "ax[0].scatter(uxt[:NE,0],vxt[:NE,0],s=15.0,c='blue',alpha=0.5)\n",
    "ax[0].scatter(utilde_rec[:,0],vtilde_rec[:,0],s=15.0,c='red',alpha=0.5)\n",
    "ax[1].scatter(uxt[NE:,0],vxt[NE:,0],s=15.0,c='blue',alpha=0.5)\n",
    "ax[1].scatter(utilde_rec[:,1],vtilde_rec[:,1],s=15.0,c='red',alpha=0.5)\n",
    "\n",
    "fig,ax=plt.subplots(1,2,figsize=(10,4.5))\n",
    "# eigenvalue\n",
    "ax[0].scatter(uxt[:NE,0],vxt[:NE,0],s=15.0,c='blue',alpha=0.5)\n",
    "ax[1].scatter(utilde_rec[:,0],vtilde_rec[:,0],s=15.0,c='blue',alpha=0.5)\n",
    "ax[0].scatter(uxt[NE:,0],vxt[NE:,0],s=15.0,c='red',alpha=0.5)\n",
    "ax[1].scatter(utilde_rec[:,1],vtilde_rec[:,1],s=15.0,c='red',alpha=0.5)"
   ]
  },
  {
   "cell_type": "code",
   "execution_count": 1230,
   "metadata": {},
   "outputs": [
    {
     "output_type": "stream",
     "name": "stdout",
     "text": [
      "2.0 0.0 0.0 1.0\n--------------------\nmean value of u with E type (EE EI):\n[[-0.01803964]\n [-0.03162278]] 0.5704633770780799\nmean UE for total\n0.018973665961010272 0.03162277660168379 0.5999999999999999\nmean value of u with I type (IE II):\n[[-0.03162278]\n [-0.03036734]] 1.0413418318129657\nmean UI for total\n0.03162277660168379 0.030304576336566323 1.0434983894999017\nmean value of v with E type (EE IE):\n[[-0.01804564]\n [-0.03162278]] 0.5706532412385339\nmean VE for total\n0.018973665961010272 0.03162277660168379 0.5999999999999999\nmean value of v with I type (EI II):\n[[0.03162278]\n [0.03034521]] 1.0421010282814995\nmean VI for total\n0.03162277660168379 0.030304576336566323 1.0434983894999017\n"
     ]
    }
   ],
   "source": [
    "print(xee,xei,xie,xii)\n",
    "print('--------------------')\n",
    "print('mean value of u with E type (EE EI):')\n",
    "print(iid_mu_u['E'],iid_mu_u['E'][0,0]/iid_mu_u['E'][1,0])\n",
    "print('mean UE for total')\n",
    "print(np.sqrt(1-(xee/JE)**2)/np.sqrt(NE),np.sqrt(1-(xei/JI)**2)/np.sqrt(NE),(np.sqrt(1-(xee/JE)**2)/np.sqrt(1-(xei/JI)**2)))\n",
    "\n",
    "print('mean value of u with I type (IE II):')\n",
    "print(iid_mu_u['I'],iid_mu_u['I'][0,0]/iid_mu_u['I'][1,0])\n",
    "print('mean UI for total')\n",
    "print(np.sqrt(1-(xie/JE)**2)/np.sqrt(NE),np.sqrt(1-(xii/JI)**2)/np.sqrt(NE),(np.sqrt(1-(xie/JE)**2)/np.sqrt(1-(xii/JI)**2)))\n",
    "\n",
    "print('mean value of v with E type (EE IE):')\n",
    "print(iid_mu_v['E'],iid_mu_v['E'][0,0]/iid_mu_v['E'][1,0])\n",
    "print('mean VE for total')\n",
    "print(np.sqrt(1-(xee/JE)**2)/np.sqrt(NE),np.sqrt(1-(xie/JE)**2)/np.sqrt(NE),(np.sqrt(1-(xee/JE)**2)/np.sqrt(1-(xie/JE)**2)))\n",
    "\n",
    "print('mean value of v with I type (EI II):')\n",
    "print(iid_mu_v['I'],iid_mu_v['I'][0,0]/iid_mu_v['I'][1,0])\n",
    "print('mean VI for total')\n",
    "print(np.sqrt(1-(xei/JI)**2)/np.sqrt(NE),np.sqrt(1-(xii/JI)**2)/np.sqrt(NE),(np.sqrt(1-(xei/JI)**2)/np.sqrt(1-(xii/JI)**2)))"
   ]
  },
  {
   "source": [
    "## Figure out parameters"
   ],
   "cell_type": "markdown",
   "metadata": {}
  },
  {
   "cell_type": "code",
   "execution_count": 972,
   "metadata": {},
   "outputs": [],
   "source": [
    "# First Set of Figures\n",
    "# figure, validate results in sharpee's paper\n",
    "# ticks and labels\n",
    "ticks = np.linspace(-2.0,2.0,5)\n",
    "lims= [-2.1,2.1]\n",
    "nbins=100\n",
    "fig,ax=plt.subplots(1,2,figsize=(10,4.5))\n",
    "# eigenvalue\n",
    "ax[0].scatter(np.real(eigvx),np.imag(eigvx),s=2.0,c='blue',alpha=0.5)\n",
    "# ax[0].set_xlim(lims)\n",
    "# ax[0].set_ylim(lims)\n",
    "# ax[0].set_xticks(ticks)\n",
    "# ax[0].set_yticks(ticks)\n",
    "ax[0].set_aspect('equal')"
   ]
  },
  {
   "source": [
    "# focus on eigen decomposition, eigspectrum  (01/01/2021)"
   ],
   "cell_type": "markdown",
   "metadata": {}
  },
  {
   "cell_type": "code",
   "execution_count": 2,
   "metadata": {},
   "outputs": [],
   "source": [
    "def generate_localstatsmat_eig(Nparams,Grand):\n",
    "    '''\n",
    "    Input \n",
    "      Grand 4, gee,gei,gie,gii\n",
    "      Nparams: number of E and I neurons (same)\n",
    "    '''\n",
    "    xee,xei,xie,xii=Grand[0],Grand[1],Grand[2],Grand[3]\n",
    "    NE,NI=Nparams[0],Nparams[1]\n",
    "    N=NE+NI\n",
    "    at = Nt/N   \n",
    "    X=np.zeros((N,N))\n",
    "    X[:NE,:NE],X[NE:,NE:]=np.random.randn(NE,NE),np.random.randn(NE,NE)\n",
    "    X[:NE,NE:],X[NE:,:NE]=np.random.randn(NE,NE),np.random.randn(NE,NE)\n",
    "\n",
    "    X[:NE,:NE],X[NE:,NE:]=xee*X[:NE,:NE]/np.sqrt(NE),xii*X[NE:,NE:]/np.sqrt(NI)\n",
    "    X[:NE,NE:],X[NE:,:NE]=xei*X[:NE,NE:]/np.sqrt(NE),xie*X[NE:,:NE]/np.sqrt(NI)\n",
    "    # eigvx,eigvecx=la.eig(X)\n",
    "    # theoretical M (grandom) matrix \n",
    "    gmat = np.array([[xee**2,xei**2],[xie**2,xii**2]])\n",
    "    # first do not multiply at\n",
    "    gaverage=0\n",
    "    for i in range(2):\n",
    "        for j in range(2):\n",
    "            gaverage+=gmat[i,j]/2 # ntype=2\n",
    "    gaverage=np.sqrt(gaverage)\n",
    "    # for i in range(2):\n",
    "    #     gmat[:,i]*=at[i]\n",
    "    eigvgm,eigvecgm=la.eig(gmat)\n",
    "    # eigvgm_,eigvecgmleft=la.eig(gmat.T)\n",
    "    # eigvgm,eigvecgm=schur(gmat) # schur decomposition\n",
    "    '''\n",
    "    ugm,svgm,vhgm=la.svd(gmat)\n",
    "    vgm=vhgm.T\n",
    "    ngm=vhgm.copy()\n",
    "    ngm=ngm.T \n",
    "    ngm[:,0],ngm[:,1]=svgm[0]*ngm[:,0],svgm[1]*ngm[:,1]\n",
    "    '''\n",
    "\n",
    "    # properties\n",
    "    Gamp=np.zeros((2,2))\n",
    "    Gamp[0,0],Gamp[0,1],Gamp[1,0],Gamp[1,1]=xee,xei,xie,xii\n",
    "\n",
    "    return (X,Gamp,eigvgm,eigvecgm,gaverage)#,ugm,svgm,vgm)\n",
    "\n",
    "def generate_meanmat_eig(Nparams,JEE,JIE,JEI,JII):\n",
    "    # mean value \n",
    "    # first use rank-1 structure\n",
    "    NE,NI=Nparams[0],Nparams[1]\n",
    "    N=NE+NI\n",
    "    at = Nt/N   \n",
    "    Am=np.zeros((N,N))\n",
    "    Am[:NE,:NE],Am[:NE,NE:]=JEE/NE,-JEI/NI\n",
    "    Am[NE:,:NE],Am[NE:,NE:]=JIE/NE,-JII/NI\n",
    "    ua,svam,vha=la.svd(Am)\n",
    "    va=vha.T\n",
    "    # svam=svam[0]\n",
    "    # ua,va=np.zeros((N,N)),np.zeros((N,N))\n",
    "    # ua[:,0]=1.0/np.sqrt(N)\n",
    "    # va[:NE,0]=JE/np.sqrt(NE)\n",
    "    # va[NE:,0]=-JI/np.sqrt(NI)\n",
    "    # va[:,0]/=-np.linalg.norm(va[:,0])\n",
    "    # svam=np.sqrt(2*(JE**2+JI**2))\n",
    "    # vha=va.T\n",
    "\n",
    "    Jsv=np.zeros((2,2))\n",
    "    Jsv[0,0],Jsv[0,1],Jsv[1,0],Jsv[1,1]=JE,JI,JE,JI\n",
    "\n",
    "    return (Am,Jsv,ua,svam,va)\n",
    "# generate gmat, same gavg\n",
    "def gmatamplitude_eig(gavgfix,typenum):\n",
    "  Amplit = gavgfix*typenum\n",
    "  numsample = typenum**2\n",
    "  Amplitg= np.zeros(numsample)\n",
    "  idxc=0\n",
    "  while (1):\n",
    "    if idxc>=numsample:\n",
    "      Amplitg[numsample-1]=1.0-np.sum(Amplitg[:numsample-1])\n",
    "      break\n",
    "    p=np.random.random(1)\n",
    "    Amplitg[idxc]=np.minimum(p,1.0-np.sum(Amplitg))\n",
    "    if np.sum(Amplitg)>1.0:\n",
    "      continue \n",
    "    elif np.sum(Amplitg)==1.0:\n",
    "      break\n",
    "    else:\n",
    "      idxc +=1\n",
    "      # Amplitg[idxc]=np.min(p,1.0-np.sum(Amplitg))\n",
    "  # Amplitg=0\n",
    "  Amplitg*=Amplit\n",
    "  Amplitg=np.sqrt(Amplitg)\n",
    "  return Amplitg\n",
    "\n"
   ]
  },
  {
   "cell_type": "code",
   "execution_count": 163,
   "metadata": {},
   "outputs": [],
   "source": [
    "Nt=np.array([500,500])\n",
    "NE,NI=Nt[0],Nt[1]\n",
    "Nparams=np.array([NE,NI])\n",
    "JE,JI=1.0,2.5\n",
    "a,b=0.0,0.0\n",
    "JEE,JIE,JEI,JII=JE,JE,JI,JI\n",
    "# generate mean Am\n",
    "Am,Jsv,ua,svam,va=generate_meanmat_eig(Nparams,JEE,JIE,JEI,JII)\n",
    "eigvoutlier,_=la.eig(Am)\n",
    "eigvorg = eigvoutlier[0]\n",
    "\n",
    "# Xtotal=X.copy()+Am.copy()\n",
    "# # eigen decomposition\n",
    "# eigvxt,eigvecxt=la.eig(Xtotal)"
   ]
  },
  {
   "cell_type": "code",
   "execution_count": 108,
   "metadata": {},
   "outputs": [
    {
     "output_type": "stream",
     "name": "stdout",
     "text": [
      "[0.1  0.28 0.46 0.64 0.82 1.  ]\n"
     ]
    }
   ],
   "source": [
    "## simulation parameters \n",
    "'''\n",
    "# gaverage increase from 0.0 to 1.0 (below the chaotic regime)\n",
    "# check num_rg batch_rg trials using \n",
    "'''\n",
    "ngavg,batchrg,nrg=6,50,4\n",
    "gaverageseries = np.linspace(0.1,1.0,ngavg)\n",
    "print(gaverageseries)"
   ]
  },
  {
   "cell_type": "code",
   "execution_count": 109,
   "metadata": {},
   "outputs": [],
   "source": [
    "krand,maxout=5,NE\n",
    "grandseries,gproperties=np.zeros((ngavg,nrg,4)),np.zeros((ngavg,nrg,2))\n",
    "eigvxtseries=np.zeros((ngavg,nrg,batchrg,maxout),dtype=complex)\n",
    "# mtildeseries,ntildeseries=np.zeros((ngavg,nrg,batchrg,NE+NI,2),dtype=complex),np.zeros((ngavg,nrg,batchrg,NE+NI,2),dtype=complex)\n",
    "# Rxseries,Lxseries=np.zeros((ngavg,nrg,batchrg,NE+NI,krand),dtype=complex),np.zeros((ngavg,nrg,batchrg,NE+NI,krand),dtype=complex)\n",
    "detJseries,traceJseries=np.zeros((ngavg,nrg,batchrg),dtype=complex),np.zeros((ngavg,nrg,batchrg),dtype=complex)\n",
    "for iga, gaverage in enumerate(gaverageseries):\n",
    "    for irg in range(nrg):\n",
    "        for ibatch in range(batchrg):\n",
    "            if ibatch==0:\n",
    "                while(1):\n",
    "                # if i==0:\n",
    "                    grand = gmatamplitude_eig(gaverage**2,2)\n",
    "                    idxeff = np.where(grand>0)\n",
    "                    if (np.shape(idxeff)[1]>2):\n",
    "                        np.random.shuffle(grand)\n",
    "                        break\n",
    "            X,Gamp,eigvgmT,eigvecgm,gaverage=generate_localstatsmat_eig(Nparams,grand)#,ugm,svgm,vgm\n",
    "            # eigvgm=eigvals(eigvgmT) # for schur decomposition\n",
    "            eigvgm=eigvgmT.copy()\n",
    "            idx = eigvgm.argsort()[::-1]   \n",
    "            eigvgm = eigvgm[idx]\n",
    "            gradius=np.sqrt(eigvgm[0])\n",
    "            ## left and right eigenverctors\n",
    "            # scpla.eig(X, left=False, right=True)\n",
    "            # mix together\n",
    "            Xtotal=X.copy()+Am.copy()\n",
    "            # eigen decomposition\n",
    "            eigvxt,eigvecxt=la.eig(Xtotal)\n",
    "            # check the outliers\n",
    "            ampeigvxt = np.sqrt(np.real(eigvxt)**2+np.imag(eigvxt)**2)\n",
    "            outliers = eigvxt[np.where(ampeigvxt>gradius)]\n",
    "            numoutliers = len(outliers)\n",
    "            ## record\n",
    "            eigvxtseries[iga,irg,ibatch,:+numoutliers]=outliers[:]           \n",
    "\n",
    "            # ## calculate m and n decomposition -- mtilde, ntilde\n",
    "            # utilde,svtilde,vhtilde=la.svd(Xtotal)\n",
    "            # vtilde=vhtilde.T\n",
    "            # mtildeseries[i,:,:],ntildeseries[i,:,0],ntildeseries[i,:,1]=utilde[:,:2],svtilde[0]*vtilde[:,0],svtilde[1]*vtilde[:,1]\n",
    "\n",
    "            ## compare the determinant\n",
    "            # detJseries[i] = la.det(Xtotal)\n",
    "            traceJseries[iga,irg,ibatch]=np.sum(outliers[:2])\n",
    "\n",
    "        grandseries[iga,irg,:]=grand[:]\n",
    "        gproperties[iga,irg,0],gproperties[iga,irg,1]=gradius,gaverage\n",
    "\n",
    "\n"
   ]
  },
  {
   "cell_type": "code",
   "execution_count": 110,
   "metadata": {},
   "outputs": [],
   "source": [
    "## sort by radius g\n",
    "gradiusset = np.squeeze(gproperties[:,:,0])\n",
    "eigvxtseries_ord,grandseries_ord = np.zeros_like(eigvxtseries),np.zeros_like(grandseries)\n",
    "gproperties_ord = np.zeros_like(gproperties)\n",
    "for igavg in range(ngavg):\n",
    "    gradiuseach = np.squeeze(gradiusset[igavg,:])\n",
    "    idxrg=gradiuseach.argsort()[::-1] \n",
    "    for i, idxorder in enumerate(idxrg):\n",
    "        eigvxtseries_ord[igavg,i,:,:]= eigvxtseries[igavg,idxorder,:,:]\n",
    "        grandseries_ord[igavg,i,:]=grandseries[igavg,idxorder,:]\n",
    "    gproperties_ord[igavg,:,0],gproperties_ord[igavg,:,1]=gproperties[igavg,idxrg,0],gproperties[igavg,idxrg,1]"
   ]
  },
  {
   "cell_type": "code",
   "execution_count": 112,
   "metadata": {},
   "outputs": [],
   "source": [
    "##\n",
    "nax,nay=ngavg,nrg\n",
    "fig,ax=plt.subplots(nax,nay,figsize=(3*nax,3*nay))\n",
    "nsample = nax*nay\n",
    "idxsample = np.random.random_integers(epochs-1,size=(nax,nay))\n",
    "eigenvalueschange = np.zeros((nax,nay))\n",
    "# eigenvalue\n",
    "for i in range(ngavg):\n",
    "    for j in range(nrg):\n",
    "        idx = idxsample[i][j]\n",
    "        for k in range(batchrg):\n",
    "            lennum = 1#np.shape(endpoint)[1]\n",
    "            ax[i][j].scatter(np.real(eigvxtseries_ord[i,j,k,:lennum]),np.imag(eigvxtseries_ord[i,j,k,:lennum]), s=15.0,c='green',alpha=0.5)\n",
    "            # ax.set_xlabel('radius',fontsize=16)\n",
    "            # ax.set_ylabel('outlier: real ',fontsize=16)\n",
    "            # ax.set_xlim([-gaverage,+1*gaverage])\n",
    "            # ax.set_ylim([eigvorg-gaverage,eigvorg+1*gaverage])\n",
    "            \n",
    "            gradius,gaverage = gproperties_ord[i,j,0],gproperties_ord[i,j,1]\n",
    "            theta = np.linspace(0, 2 * np.pi, 200)\n",
    "            xr = gradius*np.cos(theta)\n",
    "            yr = gradius*np.sin(theta)\n",
    "\n",
    "            xa = gaverage*np.cos(theta)\n",
    "            ya = gaverage*np.sin(theta)\n",
    "\n",
    "        # eigenvalue\n",
    "        ax[i][j].plot(xr, yr, color=\"darkred\", linewidth=1.5,label=r'$r_g=$'+str(format(gradius,'.4f')))\n",
    "        ax[i][j].plot(xa, ya, color=\"grey\", linewidth=1.5,linestyle='--')#,label=r'fixed $\\bar{g}$'+str(format(gaverage,'.4f')))\n",
    "        ax[i][j].scatter(np.real(eigvorg),np.imag(eigvorg),s=30.0,c='red',alpha=1)\n",
    "        ax[i][j].set_xlim(xlims)\n",
    "        ax[i][j].set_ylim(ylims)\n",
    "        ax[i][j].set_xticks([])\n",
    "        ax[i][j].set_yticks([])\n",
    "        ax[i][j].set_aspect('equal')\n",
    "        ax[i][j].legend()\n",
    "# "
   ]
  },
  {
   "cell_type": "code",
   "execution_count": 114,
   "metadata": {},
   "outputs": [],
   "source": [
    "# ## save data\n",
    "# eigvxtseries_ord_r1,gproperties_ord_r1,grandseries_ord_r1 = eigvxtseries_ord.copy(),gproperties_ord.copy(),grandseries_ord.copy()\n",
    "# np.savez('rank1sets.npz', grandseries_ord_r1=grandseries_ord_r1, gproperties_ord_r1=gproperties_ord_r1,eigvxtseries_ord_r1=eigvxtseries_ord_r1) "
   ]
  },
  {
   "cell_type": "code",
   "execution_count": 124,
   "metadata": {},
   "outputs": [
    {
     "output_type": "stream",
     "name": "stdout",
     "text": [
      "[0.1  0.28 0.46 0.64 0.82 1.  ]\n"
     ]
    }
   ],
   "source": [
    "# ## calculate the curves\n",
    "# stdeigvxtr1=np.zeros((ngavg,nrg))\n",
    "# for igavg in range(ngavg):\n",
    "#     for jrg in range(nrg):\n",
    "#         stdeigvxtr1[igavg,jrg]=np.std(eigvxtseries_ord_r1[igavg,jrg,:,0])\n",
    "# print(stdeigvxtr1)\n",
    "print(gproperties_ord_r1[:,0,1])"
   ]
  },
  {
   "cell_type": "code",
   "execution_count": 138,
   "metadata": {},
   "outputs": [
    {
     "output_type": "stream",
     "name": "stderr",
     "text": [
      "No handles with labels found to put in legend.\n"
     ]
    }
   ],
   "source": [
    "# yticks = np.arange(-0.05,0.65,.30)\n",
    "# ylims= [-0.06,0.66]\n",
    "# fig,ax=plt.subplots(1,ngavg,figsize=(3*ngavg,4))\n",
    "# for i in range(ngavg):\n",
    "#     ax[i].plot(gproperties_ord_r1[i,:,0],stdeigvxtr1[i,:],kind='bar',c='orange')\n",
    "#     ax[i].set_ylim(ylims)\n",
    "#     # ax[i].set_xticks([])\n",
    "#     ax[i].set_yticks([])\n",
    "\n",
    "#     size = ngavg\n",
    "x = np.arange(size)\n",
    "total_width, n = 0.8, nrg\n",
    "width = total_width / n\n",
    "x = x - (total_width - width) / 2\n",
    "\n",
    "\n",
    "for j in range(nrg):\n",
    "    plt.bar(x+width*(j), stdeigvxtr1[:,nrg-j-1],  width=width,ec='k')#color='orange',\n",
    "    # plt.bar(x+width*(j), stdeigvxtr2[:,j,1], bottom=stdeigvxtr2[:,j,0], width=width,color='darkcyan',ec='k')\n",
    "plt.legend()\n",
    "plt.show()"
   ]
  },
  {
   "cell_type": "code",
   "execution_count": 308,
   "metadata": {},
   "outputs": [
    {
     "output_type": "execute_result",
     "data": {
      "text/plain": [
       "Text(0.5, 1.0, '$J_{EE},J_{IE}\\\\ J_{EI},J_{II}=$1.00,1.00,2.50,2.50\\n $\\\\lambda_1=$0.70, $g_{avg}=$1.00')"
      ]
     },
     "metadata": {},
     "execution_count": 308
    }
   ],
   "source": [
    "epochs,maxout=20,NE\n",
    "grandseries,gproperties=np.zeros((epochs,4)),np.zeros((epochs,2))\n",
    "eigvxtseries=np.zeros((epochs,maxout),dtype=complex)\n",
    "mtildeseries,ntildeseries=np.zeros((epochs,NE+NI)),np.zeros((epochs,NE+NI))\n",
    "for i in range(epochs):\n",
    "  grand = gmatamplitude_eig(1,2)\n",
    "  X,Gamp,eigvgmT,eigvecgmright,eigvecgmleft,gaverage=generate_localstatsmat_eig(Nparams,grand)#,ugm,svgm,vgm\n",
    "  # eigvgm=eigvals(eigvgmT) # for schur decomposition\n",
    "  eigvgm=eigvgmT.copy()\n",
    "  # print(eigvgm,gaverage)\n",
    "  idx = eigvgm.argsort()[::-1]   \n",
    "  eigvgm = eigvgm[idx]\n",
    "  gradius=np.sqrt(eigvgm[0])\n",
    "\n",
    "  # mix together\n",
    "  Xtotal=X.copy()+Am.copy()\n",
    "  # eigen decomposition\n",
    "  eigvxt,eigvecxt=la.eig(Xtotal)\n",
    "  # check the outliers\n",
    "  ampeigvxt = np.sqrt(np.real(eigvxt)**2+np.imag(eigvxt)**2)\n",
    "  outliers = eigvxt[np.where(ampeigvxt>gradius)]\n",
    "  numoutliers = len(outliers)\n",
    "  ## record\n",
    "  eigvxtseries[i,:+numoutliers]=outliers[:]\n",
    "  grandseries[i,:]=grand[:]\n",
    "  gproperties[i,0],gproperties[i,1]=gradius,gaverage\n",
    "  \n",
    "\n",
    "  ## calculate m and n decomposition -- mtilde, ntilde\n",
    "  utilde,svtilde,vhtilde=la.svd(Xtotal)\n",
    "  vtilde=vhtilde.T\n",
    "  mtildeseries[i,:],ntildeseries[i,:]=utilde[:,0],svtilde[0]*vtilde[:,0]\n",
    "\n",
    "theta = np.linspace(0, 2 * np.pi, 200)\n",
    "xc = gradius*np.cos(theta)\n",
    "yc = gradius*np.sin(theta)\n",
    "\n",
    "xa = gaverage*np.cos(theta)\n",
    "ya = gaverage*np.sin(theta)\n",
    "\n",
    "tickeig=np.fabs(JE-JI)*1.5\n",
    "ticks = np.linspace(-tickeig,tickeig,3)\n",
    "lims= [-tickeig-0.01,tickeig+0.01]\n",
    "nbins=100\n",
    "fig,ax=plt.subplots(figsize=(6,6))\n",
    "# eigenvalue\n",
    "ax.scatter(np.real(eigvxt),np.imag(eigvxt),s=2.0,c='blue',alpha=0.5)\n",
    "ax.plot(xc, yc, color=\"darkred\", linewidth=2)\n",
    "ax.plot(xa, ya, color=\"grey\", linewidth=2,linestyle='--')\n",
    "ax.set_xlim(lims)\n",
    "ax.set_ylim(lims)\n",
    "ax.set_xticks(ticks)\n",
    "ax.set_yticks(ticks)\n",
    "ax.set_aspect('equal')\n",
    "ax.set_title(r'$J_{EE},J_{IE}\\ J_{EI},J_{II}=$'+str(format(JEE,'.2f'))+','+str(format(JIE,'.2f'))+','+str(format(JEI,'.2f'))+','+str(format(JII,'.2f'))+'\\n $\\lambda_1=$'+str(format(np.real(gradius),'.2f'))+r', $g_{avg}=$'+str(format(gaverage,'.2f')),fontsize=14)\n",
    "\n"
   ]
  },
  {
   "cell_type": "code",
   "execution_count": 298,
   "metadata": {},
   "outputs": [
    {
     "output_type": "stream",
     "name": "stdout",
     "text": [
      "[0.91544664 0.92689042 0.94362337 1.22833633 1.364302  ]\n"
     ]
    }
   ],
   "source": [
    "## sorting grandseries, the eigenvalues \n",
    "eigenvaluesseries = gproperties[:,0]\n",
    "idxsort = np.argsort(eigenvaluesseries)\n",
    "grandseries,mtildeseries,ntildeseries=grandseries[idxsort],mtildeseries[idxsort,:],ntildeseries[idxsort,:]\n",
    "eigenvaluesseries = eigenvaluesseries[idxsort]\n",
    "print(eigenvaluesseries[:5])"
   ]
  },
  {
   "cell_type": "code",
   "execution_count": 316,
   "metadata": {},
   "outputs": [],
   "source": [
    "nax,nay=3,3\n",
    "fig,ax=plt.subplots(nax,nay,figsize=(12,12))\n",
    "nsample = nax*nay\n",
    "idxsample = np.random.random_integers(epochs-1,size=(nax,nay))\n",
    "eigenvalueschange = np.zeros((nax,nay))\n",
    "# eigenvalue\n",
    "for i in range(nax):\n",
    "    for j in range(nay):\n",
    "        idx = idxsample[i][j]\n",
    "        ax[i][j].scatter(mtildeseries[idx,:NE],ntildeseries[idx,:NE],s=15.0,c='red',alpha=0.5)\n",
    "        ax[i][j].scatter(mtildeseries[idx,NE:],ntildeseries[idx,NE:],s=15.0,c='blue',alpha=0.5)\n",
    "        eigenvalueschange[i,j] = np.sum(mtildeseries[idx,:]*ntildeseries[idx,:])\n",
    "        ax[i][j].set_title(r'$\\tilde{m}^{\\intercal}\\tilde{n}=$'+str(format(eigenvalueschange[i,j],'.2f')))\n",
    "# ax[0].scatter(mtildeseries[idx0,:NE],ntildeseries[idx0,:NE],s=15.0,c='red',alpha=0.5)\n",
    "# ax[0].scatter(mtildeseries[idx0,NE:],ntildeseries[idx0,NE:],s=15.0,c='blue',alpha=0.5)\n",
    "# ax[1].scatter(mtildeseries[idx1,:NE],ntildeseries[idx1,:NE],s=15.0,c='red',alpha=0.5)\n",
    "# ax[1].scatter(mtildeseries[idx1,NE:],ntildeseries[idx1,NE:],s=15.0,c='blue',alpha=0.5)\n",
    "for i in range(nax):\n",
    "    for j in range(nay):\n",
    "        ax[i][j].set_xlim([-0.3,0.3])\n",
    "        ax[i][j].set_ylim([-0.3,0.3])\n",
    "        # ax[i].set_xticks(ticks)\n",
    "        # ax[i].set_yticks(ticks)\n",
    "        ax[i][j].set_aspect('equal')\n",
    "\n"
   ]
  },
  {
   "source": [
    "## change because of the correlation"
   ],
   "cell_type": "markdown",
   "metadata": {}
  },
  {
   "cell_type": "code",
   "execution_count": 18,
   "metadata": {},
   "outputs": [
    {
     "output_type": "stream",
     "name": "stdout",
     "text": [
      "lambda: (-1.4523182416745044+0j) (-1.4999999999999936+0j)\ngrand [0.30639502 0.68487449 0.31511363 0.73332968]\n[0.625399   0.00625133]\n[0.00625133 0.625399  ]\n"
     ]
    }
   ],
   "source": [
    "Nt=np.array([1000,1000])\n",
    "NE,NI=Nt[0],Nt[1]\n",
    "Nparams=np.array([NE,NI])\n",
    "JE,JI=1.0,2.5\n",
    "JEE,JIE,JEI,JII=JE,JE,JI,JI\n",
    "# generate mean Am\n",
    "Am,Jsv,ua,svam,va=generate_meanmat_eig(Nparams,JEE,JIE,JEI,JII)\n",
    "eigvoutlier,_=la.eig(Am)\n",
    "eigvorg = eigvoutlier[0]\n",
    "\n",
    "epochs,maxout=1,NE\n",
    "grandseries,gproperties=np.zeros((epochs,4)),np.zeros((epochs,2))\n",
    "eigvxtseries=np.zeros((epochs,maxout),dtype=complex)\n",
    "mtildeseries,ntildeseries=np.zeros((epochs,NE+NI)),np.zeros((epochs,NE+NI))\n",
    "while(1):\n",
    "    grand = gmatamplitude_eig(0.6,2)\n",
    "    idxeff = np.where(grand>0)\n",
    "    if (np.shape(idxeff)[1]>3):\n",
    "        np.random.shuffle(grand)\n",
    "        break\n",
    "X,Gamp,eigvgmT,eigvecgm,gaverage=generate_localstatsmat_eig(Nparams,grand)#,ugm,svgm,vgm\n",
    "# eigvgm=eigvals(eigvgmT) # for schur decomposition\n",
    "eigvgm=eigvgmT.copy()\n",
    "# print(eigvgm,gaverage)\n",
    "idx = eigvgm.argsort()[::-1]   \n",
    "eigvgm = eigvgm[idx]\n",
    "gradius=np.sqrt(eigvgm[0])\n",
    "X,Gamp,eigvgmT,eigvecgm,gaverage=generate_localstatsmat_eig(Nparams,grand)#,ugm,svgm,vgm\n",
    "# print(Gamp[0,0],Gamp[1,1])\n",
    "# eigvgm=eigvals(eigvgmT) # for schur decomposition\n",
    "eigvgm=eigvgmT.copy()\n",
    "# print(eigvgm,gaverage)\n",
    "idx = eigvgm.argsort()[::-1]   \n",
    "eigvgm = eigvgm[idx]\n",
    "gradius=np.sqrt(eigvgm[0])\n",
    "Xtotal=X.copy()+Am.copy()\n",
    "# eigen decomposition\n",
    "eigvxt,eigvecxt=la.eig(Xtotal)\n",
    "# check the outliers\n",
    "ampeigvxt = np.sqrt(np.real(eigvxt)**2+np.imag(eigvxt)**2)\n",
    "\n",
    "concreteAm=np.array([[JEE,-JEI],[JIE,-JII]])\n",
    "lambdareal=eigvxt[0]\n",
    "print('lambda:',lambdareal,eigvorg)\n",
    "Rgmat,invR=eigvecgm,la.inv(eigvecgm)\n",
    "LamR = np.zeros((2,2))\n",
    "LamR[0,0],LamR[1,1]=eigvgm[0],eigvgm[1]\n",
    "\n",
    "# Am,Jsv,ua,svam,va\n",
    "cuvec,csv,cvhvec=la.svd(concreteAm)\n",
    "cmvec=cuvec.copy()\n",
    "cvvec=cvhvec.T\n",
    "cnvec=cvvec.copy()\n",
    "cnvec[:,0]*=csv[0]\n",
    "cnvec[:,1]*=csv[1]\n",
    "\n",
    "nhat = Rgmat.T@cnvec\n",
    "mhat = invR@cmvec\n",
    "fva=nhat[0,0]*mhat[0,0]/(1-eigvgm[0]/lambdareal)\n",
    "sva=nhat[1,0]*mhat[1,0]/(1-eigvgm[1]/lambdareal)\n",
    "print('grand',grand)\n",
    "# grand [0.54426759 0.73734864 0.57274273 0.17904061]\n",
    "print(eigvgm)\n",
    "print(eigvgmT)\n",
    "\n"
   ]
  },
  {
   "cell_type": "code",
   "execution_count": 21,
   "metadata": {},
   "outputs": [
    {
     "output_type": "display_data",
     "data": {
      "text/plain": "<Figure size 1296x432 with 3 Axes>",
      "image/svg+xml": "<?xml version=\"1.0\" encoding=\"utf-8\" standalone=\"no\"?>\n<!DOCTYPE svg PUBLIC \"-//W3C//DTD SVG 1.1//EN\"\n  \"http://www.w3.org/Graphics/SVG/1.1/DTD/svg11.dtd\">\n<!-- Created with matplotlib (https://matplotlib.org/) -->\n<svg height=\"357.238125pt\" version=\"1.1\" viewBox=\"0 0 1040.515443 357.238125\" width=\"1040.515443pt\" xmlns=\"http://www.w3.org/2000/svg\" xmlns:xlink=\"http://www.w3.org/1999/xlink\">\n <defs>\n  <style type=\"text/css\">\n*{stroke-linecap:butt;stroke-linejoin:round;}\n  </style>\n </defs>\n <g id=\"figure_1\">\n  <g id=\"patch_1\">\n   <path d=\"M 0 357.238125 \nL 1040.515443 357.238125 \nL 1040.515443 0 \nL 0 0 \nz\n\" style=\"fill:none;\"/>\n  </g>\n  <g id=\"axes_1\">\n   <g id=\"patch_2\">\n    <path d=\"M 44.845313 333.36 \nL 298.743976 333.36 \nL 298.743976 7.2 \nL 44.845313 7.2 \nz\n\" style=\"fill:#ffffff;\"/>\n   </g>\n   <g id=\"PathCollection_1\">\n    <defs>\n     <path d=\"M 0 1.936492 \nC 0.513564 1.936492 1.006162 1.732451 1.369306 1.369306 \nC 1.732451 1.006162 1.936492 0.513564 1.936492 0 \nC 1.936492 -0.513564 1.732451 -1.006162 1.369306 -1.369306 \nC 1.006162 -1.732451 0.513564 -1.936492 0 -1.936492 \nC -0.513564 -1.936492 -1.006162 -1.732451 -1.369306 -1.369306 \nC -1.732451 -1.006162 -1.936492 -0.513564 -1.936492 0 \nC -1.936492 0.513564 -1.732451 1.006162 -1.369306 1.369306 \nC -1.006162 1.732451 -0.513564 1.936492 0 1.936492 \nz\n\" id=\"m93fa14e1c5\" style=\"stroke:#008000;stroke-opacity:0.5;\"/>\n    </defs>\n    <g clip-path=\"url(#p570d40f002)\">\n     <use style=\"fill:#008000;fill-opacity:0.5;stroke:#008000;stroke-opacity:0.5;\" x=\"199.292497\" xlink:href=\"#m93fa14e1c5\" y=\"109.006522\"/>\n     <use style=\"fill:#008000;fill-opacity:0.5;stroke:#008000;stroke-opacity:0.5;\" x=\"125.517848\" xlink:href=\"#m93fa14e1c5\" y=\"193.824126\"/>\n     <use style=\"fill:#008000;fill-opacity:0.5;stroke:#008000;stroke-opacity:0.5;\" x=\"73.306422\" xlink:href=\"#m93fa14e1c5\" y=\"162.429082\"/>\n     <use style=\"fill:#008000;fill-opacity:0.5;stroke:#008000;stroke-opacity:0.5;\" x=\"241.280077\" xlink:href=\"#m93fa14e1c5\" y=\"101.240621\"/>\n     <use style=\"fill:#008000;fill-opacity:0.5;stroke:#008000;stroke-opacity:0.5;\" x=\"201.599247\" xlink:href=\"#m93fa14e1c5\" y=\"204.338637\"/>\n     <use style=\"fill:#008000;fill-opacity:0.5;stroke:#008000;stroke-opacity:0.5;\" x=\"140.588826\" xlink:href=\"#m93fa14e1c5\" y=\"179.713059\"/>\n     <use style=\"fill:#008000;fill-opacity:0.5;stroke:#008000;stroke-opacity:0.5;\" x=\"139.238132\" xlink:href=\"#m93fa14e1c5\" y=\"206.911325\"/>\n     <use style=\"fill:#008000;fill-opacity:0.5;stroke:#008000;stroke-opacity:0.5;\" x=\"157.606723\" xlink:href=\"#m93fa14e1c5\" y=\"166.035955\"/>\n     <use style=\"fill:#008000;fill-opacity:0.5;stroke:#008000;stroke-opacity:0.5;\" x=\"172.470331\" xlink:href=\"#m93fa14e1c5\" y=\"179.690362\"/>\n     <use style=\"fill:#008000;fill-opacity:0.5;stroke:#008000;stroke-opacity:0.5;\" x=\"142.678597\" xlink:href=\"#m93fa14e1c5\" y=\"181.433954\"/>\n     <use style=\"fill:#008000;fill-opacity:0.5;stroke:#008000;stroke-opacity:0.5;\" x=\"184.274942\" xlink:href=\"#m93fa14e1c5\" y=\"159.001676\"/>\n     <use style=\"fill:#008000;fill-opacity:0.5;stroke:#008000;stroke-opacity:0.5;\" x=\"224.783396\" xlink:href=\"#m93fa14e1c5\" y=\"141.726713\"/>\n     <use style=\"fill:#008000;fill-opacity:0.5;stroke:#008000;stroke-opacity:0.5;\" x=\"87.71033\" xlink:href=\"#m93fa14e1c5\" y=\"153.390141\"/>\n     <use style=\"fill:#008000;fill-opacity:0.5;stroke:#008000;stroke-opacity:0.5;\" x=\"176.423044\" xlink:href=\"#m93fa14e1c5\" y=\"200.533131\"/>\n     <use style=\"fill:#008000;fill-opacity:0.5;stroke:#008000;stroke-opacity:0.5;\" x=\"165.872534\" xlink:href=\"#m93fa14e1c5\" y=\"191.97844\"/>\n     <use style=\"fill:#008000;fill-opacity:0.5;stroke:#008000;stroke-opacity:0.5;\" x=\"208.267424\" xlink:href=\"#m93fa14e1c5\" y=\"152.750722\"/>\n     <use style=\"fill:#008000;fill-opacity:0.5;stroke:#008000;stroke-opacity:0.5;\" x=\"154.954005\" xlink:href=\"#m93fa14e1c5\" y=\"256.732386\"/>\n     <use style=\"fill:#008000;fill-opacity:0.5;stroke:#008000;stroke-opacity:0.5;\" x=\"113.870223\" xlink:href=\"#m93fa14e1c5\" y=\"169.808391\"/>\n     <use style=\"fill:#008000;fill-opacity:0.5;stroke:#008000;stroke-opacity:0.5;\" x=\"114.499888\" xlink:href=\"#m93fa14e1c5\" y=\"226.099421\"/>\n     <use style=\"fill:#008000;fill-opacity:0.5;stroke:#008000;stroke-opacity:0.5;\" x=\"159.636695\" xlink:href=\"#m93fa14e1c5\" y=\"214.573734\"/>\n     <use style=\"fill:#008000;fill-opacity:0.5;stroke:#008000;stroke-opacity:0.5;\" x=\"199.975426\" xlink:href=\"#m93fa14e1c5\" y=\"124.64363\"/>\n     <use style=\"fill:#008000;fill-opacity:0.5;stroke:#008000;stroke-opacity:0.5;\" x=\"144.342229\" xlink:href=\"#m93fa14e1c5\" y=\"186.270641\"/>\n     <use style=\"fill:#008000;fill-opacity:0.5;stroke:#008000;stroke-opacity:0.5;\" x=\"157.185431\" xlink:href=\"#m93fa14e1c5\" y=\"229.874495\"/>\n     <use style=\"fill:#008000;fill-opacity:0.5;stroke:#008000;stroke-opacity:0.5;\" x=\"143.749583\" xlink:href=\"#m93fa14e1c5\" y=\"201.862776\"/>\n     <use style=\"fill:#008000;fill-opacity:0.5;stroke:#008000;stroke-opacity:0.5;\" x=\"243.857612\" xlink:href=\"#m93fa14e1c5\" y=\"202.854213\"/>\n     <use style=\"fill:#008000;fill-opacity:0.5;stroke:#008000;stroke-opacity:0.5;\" x=\"193.391848\" xlink:href=\"#m93fa14e1c5\" y=\"154.530471\"/>\n     <use style=\"fill:#008000;fill-opacity:0.5;stroke:#008000;stroke-opacity:0.5;\" x=\"110.018907\" xlink:href=\"#m93fa14e1c5\" y=\"200.480603\"/>\n     <use style=\"fill:#008000;fill-opacity:0.5;stroke:#008000;stroke-opacity:0.5;\" x=\"210.302464\" xlink:href=\"#m93fa14e1c5\" y=\"231.849526\"/>\n     <use style=\"fill:#008000;fill-opacity:0.5;stroke:#008000;stroke-opacity:0.5;\" x=\"118.686174\" xlink:href=\"#m93fa14e1c5\" y=\"237.817293\"/>\n     <use style=\"fill:#008000;fill-opacity:0.5;stroke:#008000;stroke-opacity:0.5;\" x=\"181.741283\" xlink:href=\"#m93fa14e1c5\" y=\"205.826517\"/>\n     <use style=\"fill:#008000;fill-opacity:0.5;stroke:#008000;stroke-opacity:0.5;\" x=\"100.660956\" xlink:href=\"#m93fa14e1c5\" y=\"60.676834\"/>\n     <use style=\"fill:#008000;fill-opacity:0.5;stroke:#008000;stroke-opacity:0.5;\" x=\"201.514747\" xlink:href=\"#m93fa14e1c5\" y=\"219.165128\"/>\n     <use style=\"fill:#008000;fill-opacity:0.5;stroke:#008000;stroke-opacity:0.5;\" x=\"108.639556\" xlink:href=\"#m93fa14e1c5\" y=\"166.516778\"/>\n     <use style=\"fill:#008000;fill-opacity:0.5;stroke:#008000;stroke-opacity:0.5;\" x=\"165.107759\" xlink:href=\"#m93fa14e1c5\" y=\"202.246207\"/>\n     <use style=\"fill:#008000;fill-opacity:0.5;stroke:#008000;stroke-opacity:0.5;\" x=\"176.694307\" xlink:href=\"#m93fa14e1c5\" y=\"196.426082\"/>\n     <use style=\"fill:#008000;fill-opacity:0.5;stroke:#008000;stroke-opacity:0.5;\" x=\"155.007832\" xlink:href=\"#m93fa14e1c5\" y=\"148.358883\"/>\n     <use style=\"fill:#008000;fill-opacity:0.5;stroke:#008000;stroke-opacity:0.5;\" x=\"134.876665\" xlink:href=\"#m93fa14e1c5\" y=\"119.229609\"/>\n     <use style=\"fill:#008000;fill-opacity:0.5;stroke:#008000;stroke-opacity:0.5;\" x=\"157.819715\" xlink:href=\"#m93fa14e1c5\" y=\"194.853545\"/>\n     <use style=\"fill:#008000;fill-opacity:0.5;stroke:#008000;stroke-opacity:0.5;\" x=\"109.047282\" xlink:href=\"#m93fa14e1c5\" y=\"173.116241\"/>\n     <use style=\"fill:#008000;fill-opacity:0.5;stroke:#008000;stroke-opacity:0.5;\" x=\"153.771917\" xlink:href=\"#m93fa14e1c5\" y=\"133.612311\"/>\n     <use style=\"fill:#008000;fill-opacity:0.5;stroke:#008000;stroke-opacity:0.5;\" x=\"163.344969\" xlink:href=\"#m93fa14e1c5\" y=\"196.006376\"/>\n     <use style=\"fill:#008000;fill-opacity:0.5;stroke:#008000;stroke-opacity:0.5;\" x=\"191.772403\" xlink:href=\"#m93fa14e1c5\" y=\"177.967782\"/>\n     <use style=\"fill:#008000;fill-opacity:0.5;stroke:#008000;stroke-opacity:0.5;\" x=\"141.803589\" xlink:href=\"#m93fa14e1c5\" y=\"207.564751\"/>\n     <use style=\"fill:#008000;fill-opacity:0.5;stroke:#008000;stroke-opacity:0.5;\" x=\"146.451068\" xlink:href=\"#m93fa14e1c5\" y=\"180.918416\"/>\n     <use style=\"fill:#008000;fill-opacity:0.5;stroke:#008000;stroke-opacity:0.5;\" x=\"172.105566\" xlink:href=\"#m93fa14e1c5\" y=\"219.41979\"/>\n     <use style=\"fill:#008000;fill-opacity:0.5;stroke:#008000;stroke-opacity:0.5;\" x=\"107.64111\" xlink:href=\"#m93fa14e1c5\" y=\"160.274819\"/>\n     <use style=\"fill:#008000;fill-opacity:0.5;stroke:#008000;stroke-opacity:0.5;\" x=\"102.172235\" xlink:href=\"#m93fa14e1c5\" y=\"184.104635\"/>\n     <use style=\"fill:#008000;fill-opacity:0.5;stroke:#008000;stroke-opacity:0.5;\" x=\"145.610065\" xlink:href=\"#m93fa14e1c5\" y=\"182.724599\"/>\n     <use style=\"fill:#008000;fill-opacity:0.5;stroke:#008000;stroke-opacity:0.5;\" x=\"111.476124\" xlink:href=\"#m93fa14e1c5\" y=\"128.907073\"/>\n     <use style=\"fill:#008000;fill-opacity:0.5;stroke:#008000;stroke-opacity:0.5;\" x=\"90.918501\" xlink:href=\"#m93fa14e1c5\" y=\"119.942839\"/>\n     <use style=\"fill:#008000;fill-opacity:0.5;stroke:#008000;stroke-opacity:0.5;\" x=\"87.066974\" xlink:href=\"#m93fa14e1c5\" y=\"198.654435\"/>\n     <use style=\"fill:#008000;fill-opacity:0.5;stroke:#008000;stroke-opacity:0.5;\" x=\"94.614518\" xlink:href=\"#m93fa14e1c5\" y=\"183.093634\"/>\n     <use style=\"fill:#008000;fill-opacity:0.5;stroke:#008000;stroke-opacity:0.5;\" x=\"179.826156\" xlink:href=\"#m93fa14e1c5\" y=\"192.130101\"/>\n     <use style=\"fill:#008000;fill-opacity:0.5;stroke:#008000;stroke-opacity:0.5;\" x=\"165.95728\" xlink:href=\"#m93fa14e1c5\" y=\"234.624442\"/>\n     <use style=\"fill:#008000;fill-opacity:0.5;stroke:#008000;stroke-opacity:0.5;\" x=\"148.791485\" xlink:href=\"#m93fa14e1c5\" y=\"167.295679\"/>\n     <use style=\"fill:#008000;fill-opacity:0.5;stroke:#008000;stroke-opacity:0.5;\" x=\"120.867689\" xlink:href=\"#m93fa14e1c5\" y=\"258.122373\"/>\n     <use style=\"fill:#008000;fill-opacity:0.5;stroke:#008000;stroke-opacity:0.5;\" x=\"263.329449\" xlink:href=\"#m93fa14e1c5\" y=\"192.449002\"/>\n     <use style=\"fill:#008000;fill-opacity:0.5;stroke:#008000;stroke-opacity:0.5;\" x=\"237.554773\" xlink:href=\"#m93fa14e1c5\" y=\"171.299754\"/>\n     <use style=\"fill:#008000;fill-opacity:0.5;stroke:#008000;stroke-opacity:0.5;\" x=\"159.142993\" xlink:href=\"#m93fa14e1c5\" y=\"206.505659\"/>\n     <use style=\"fill:#008000;fill-opacity:0.5;stroke:#008000;stroke-opacity:0.5;\" x=\"167.477307\" xlink:href=\"#m93fa14e1c5\" y=\"192.432608\"/>\n     <use style=\"fill:#008000;fill-opacity:0.5;stroke:#008000;stroke-opacity:0.5;\" x=\"132.421149\" xlink:href=\"#m93fa14e1c5\" y=\"215.938347\"/>\n     <use style=\"fill:#008000;fill-opacity:0.5;stroke:#008000;stroke-opacity:0.5;\" x=\"138.457541\" xlink:href=\"#m93fa14e1c5\" y=\"201.391812\"/>\n     <use style=\"fill:#008000;fill-opacity:0.5;stroke:#008000;stroke-opacity:0.5;\" x=\"125.78966\" xlink:href=\"#m93fa14e1c5\" y=\"270.168901\"/>\n     <use style=\"fill:#008000;fill-opacity:0.5;stroke:#008000;stroke-opacity:0.5;\" x=\"171.189565\" xlink:href=\"#m93fa14e1c5\" y=\"103.003387\"/>\n     <use style=\"fill:#008000;fill-opacity:0.5;stroke:#008000;stroke-opacity:0.5;\" x=\"142.877256\" xlink:href=\"#m93fa14e1c5\" y=\"194.394218\"/>\n     <use style=\"fill:#008000;fill-opacity:0.5;stroke:#008000;stroke-opacity:0.5;\" x=\"125.695129\" xlink:href=\"#m93fa14e1c5\" y=\"158.401545\"/>\n     <use style=\"fill:#008000;fill-opacity:0.5;stroke:#008000;stroke-opacity:0.5;\" x=\"161.307282\" xlink:href=\"#m93fa14e1c5\" y=\"118.999039\"/>\n     <use style=\"fill:#008000;fill-opacity:0.5;stroke:#008000;stroke-opacity:0.5;\" x=\"218.986705\" xlink:href=\"#m93fa14e1c5\" y=\"158.89276\"/>\n     <use style=\"fill:#008000;fill-opacity:0.5;stroke:#008000;stroke-opacity:0.5;\" x=\"147.797757\" xlink:href=\"#m93fa14e1c5\" y=\"179.495383\"/>\n     <use style=\"fill:#008000;fill-opacity:0.5;stroke:#008000;stroke-opacity:0.5;\" x=\"106.345798\" xlink:href=\"#m93fa14e1c5\" y=\"187.704201\"/>\n     <use style=\"fill:#008000;fill-opacity:0.5;stroke:#008000;stroke-opacity:0.5;\" x=\"96.103252\" xlink:href=\"#m93fa14e1c5\" y=\"181.626311\"/>\n     <use style=\"fill:#008000;fill-opacity:0.5;stroke:#008000;stroke-opacity:0.5;\" x=\"176.160906\" xlink:href=\"#m93fa14e1c5\" y=\"250.960305\"/>\n     <use style=\"fill:#008000;fill-opacity:0.5;stroke:#008000;stroke-opacity:0.5;\" x=\"128.421054\" xlink:href=\"#m93fa14e1c5\" y=\"179.48227\"/>\n     <use style=\"fill:#008000;fill-opacity:0.5;stroke:#008000;stroke-opacity:0.5;\" x=\"166.272348\" xlink:href=\"#m93fa14e1c5\" y=\"227.229375\"/>\n     <use style=\"fill:#008000;fill-opacity:0.5;stroke:#008000;stroke-opacity:0.5;\" x=\"127.791765\" xlink:href=\"#m93fa14e1c5\" y=\"195.96041\"/>\n     <use style=\"fill:#008000;fill-opacity:0.5;stroke:#008000;stroke-opacity:0.5;\" x=\"142.039919\" xlink:href=\"#m93fa14e1c5\" y=\"155.957203\"/>\n     <use style=\"fill:#008000;fill-opacity:0.5;stroke:#008000;stroke-opacity:0.5;\" x=\"113.899471\" xlink:href=\"#m93fa14e1c5\" y=\"140.930479\"/>\n     <use style=\"fill:#008000;fill-opacity:0.5;stroke:#008000;stroke-opacity:0.5;\" x=\"173.951212\" xlink:href=\"#m93fa14e1c5\" y=\"132.341121\"/>\n     <use style=\"fill:#008000;fill-opacity:0.5;stroke:#008000;stroke-opacity:0.5;\" x=\"222.756922\" xlink:href=\"#m93fa14e1c5\" y=\"192.486832\"/>\n     <use style=\"fill:#008000;fill-opacity:0.5;stroke:#008000;stroke-opacity:0.5;\" x=\"152.563286\" xlink:href=\"#m93fa14e1c5\" y=\"232.23295\"/>\n     <use style=\"fill:#008000;fill-opacity:0.5;stroke:#008000;stroke-opacity:0.5;\" x=\"169.201044\" xlink:href=\"#m93fa14e1c5\" y=\"191.254129\"/>\n     <use style=\"fill:#008000;fill-opacity:0.5;stroke:#008000;stroke-opacity:0.5;\" x=\"228.084797\" xlink:href=\"#m93fa14e1c5\" y=\"168.708975\"/>\n     <use style=\"fill:#008000;fill-opacity:0.5;stroke:#008000;stroke-opacity:0.5;\" x=\"173.827585\" xlink:href=\"#m93fa14e1c5\" y=\"132.726528\"/>\n     <use style=\"fill:#008000;fill-opacity:0.5;stroke:#008000;stroke-opacity:0.5;\" x=\"140.326195\" xlink:href=\"#m93fa14e1c5\" y=\"230.635151\"/>\n     <use style=\"fill:#008000;fill-opacity:0.5;stroke:#008000;stroke-opacity:0.5;\" x=\"182.191516\" xlink:href=\"#m93fa14e1c5\" y=\"168.146362\"/>\n     <use style=\"fill:#008000;fill-opacity:0.5;stroke:#008000;stroke-opacity:0.5;\" x=\"98.460099\" xlink:href=\"#m93fa14e1c5\" y=\"164.83283\"/>\n     <use style=\"fill:#008000;fill-opacity:0.5;stroke:#008000;stroke-opacity:0.5;\" x=\"130.30555\" xlink:href=\"#m93fa14e1c5\" y=\"271.826952\"/>\n     <use style=\"fill:#008000;fill-opacity:0.5;stroke:#008000;stroke-opacity:0.5;\" x=\"178.838394\" xlink:href=\"#m93fa14e1c5\" y=\"99.441108\"/>\n     <use style=\"fill:#008000;fill-opacity:0.5;stroke:#008000;stroke-opacity:0.5;\" x=\"192.013195\" xlink:href=\"#m93fa14e1c5\" y=\"194.870212\"/>\n     <use style=\"fill:#008000;fill-opacity:0.5;stroke:#008000;stroke-opacity:0.5;\" x=\"156.9949\" xlink:href=\"#m93fa14e1c5\" y=\"175.656861\"/>\n     <use style=\"fill:#008000;fill-opacity:0.5;stroke:#008000;stroke-opacity:0.5;\" x=\"193.968441\" xlink:href=\"#m93fa14e1c5\" y=\"232.249056\"/>\n     <use style=\"fill:#008000;fill-opacity:0.5;stroke:#008000;stroke-opacity:0.5;\" x=\"120.440233\" xlink:href=\"#m93fa14e1c5\" y=\"160.947149\"/>\n     <use style=\"fill:#008000;fill-opacity:0.5;stroke:#008000;stroke-opacity:0.5;\" x=\"210.635048\" xlink:href=\"#m93fa14e1c5\" y=\"202.47333\"/>\n     <use style=\"fill:#008000;fill-opacity:0.5;stroke:#008000;stroke-opacity:0.5;\" x=\"171.890923\" xlink:href=\"#m93fa14e1c5\" y=\"170.571734\"/>\n     <use style=\"fill:#008000;fill-opacity:0.5;stroke:#008000;stroke-opacity:0.5;\" x=\"158.460454\" xlink:href=\"#m93fa14e1c5\" y=\"119.495948\"/>\n     <use style=\"fill:#008000;fill-opacity:0.5;stroke:#008000;stroke-opacity:0.5;\" x=\"170.879293\" xlink:href=\"#m93fa14e1c5\" y=\"210.426272\"/>\n     <use style=\"fill:#008000;fill-opacity:0.5;stroke:#008000;stroke-opacity:0.5;\" x=\"133.659541\" xlink:href=\"#m93fa14e1c5\" y=\"152.418535\"/>\n     <use style=\"fill:#008000;fill-opacity:0.5;stroke:#008000;stroke-opacity:0.5;\" x=\"165.949852\" xlink:href=\"#m93fa14e1c5\" y=\"205.229041\"/>\n     <use style=\"fill:#008000;fill-opacity:0.5;stroke:#008000;stroke-opacity:0.5;\" x=\"129.017518\" xlink:href=\"#m93fa14e1c5\" y=\"221.710463\"/>\n     <use style=\"fill:#008000;fill-opacity:0.5;stroke:#008000;stroke-opacity:0.5;\" x=\"137.175501\" xlink:href=\"#m93fa14e1c5\" y=\"158.298695\"/>\n     <use style=\"fill:#008000;fill-opacity:0.5;stroke:#008000;stroke-opacity:0.5;\" x=\"125.34035\" xlink:href=\"#m93fa14e1c5\" y=\"165.124015\"/>\n     <use style=\"fill:#008000;fill-opacity:0.5;stroke:#008000;stroke-opacity:0.5;\" x=\"188.085641\" xlink:href=\"#m93fa14e1c5\" y=\"144.925582\"/>\n     <use style=\"fill:#008000;fill-opacity:0.5;stroke:#008000;stroke-opacity:0.5;\" x=\"182.455092\" xlink:href=\"#m93fa14e1c5\" y=\"199.793147\"/>\n     <use style=\"fill:#008000;fill-opacity:0.5;stroke:#008000;stroke-opacity:0.5;\" x=\"207.522304\" xlink:href=\"#m93fa14e1c5\" y=\"192.80943\"/>\n     <use style=\"fill:#008000;fill-opacity:0.5;stroke:#008000;stroke-opacity:0.5;\" x=\"211.810457\" xlink:href=\"#m93fa14e1c5\" y=\"221.468229\"/>\n     <use style=\"fill:#008000;fill-opacity:0.5;stroke:#008000;stroke-opacity:0.5;\" x=\"77.66984\" xlink:href=\"#m93fa14e1c5\" y=\"175.858302\"/>\n     <use style=\"fill:#008000;fill-opacity:0.5;stroke:#008000;stroke-opacity:0.5;\" x=\"130.755091\" xlink:href=\"#m93fa14e1c5\" y=\"134.545663\"/>\n     <use style=\"fill:#008000;fill-opacity:0.5;stroke:#008000;stroke-opacity:0.5;\" x=\"118.903109\" xlink:href=\"#m93fa14e1c5\" y=\"185.36833\"/>\n     <use style=\"fill:#008000;fill-opacity:0.5;stroke:#008000;stroke-opacity:0.5;\" x=\"128.54862\" xlink:href=\"#m93fa14e1c5\" y=\"209.387736\"/>\n     <use style=\"fill:#008000;fill-opacity:0.5;stroke:#008000;stroke-opacity:0.5;\" x=\"153.829351\" xlink:href=\"#m93fa14e1c5\" y=\"134.260365\"/>\n     <use style=\"fill:#008000;fill-opacity:0.5;stroke:#008000;stroke-opacity:0.5;\" x=\"180.026499\" xlink:href=\"#m93fa14e1c5\" y=\"103.707399\"/>\n     <use style=\"fill:#008000;fill-opacity:0.5;stroke:#008000;stroke-opacity:0.5;\" x=\"178.902188\" xlink:href=\"#m93fa14e1c5\" y=\"161.860853\"/>\n     <use style=\"fill:#008000;fill-opacity:0.5;stroke:#008000;stroke-opacity:0.5;\" x=\"98.483718\" xlink:href=\"#m93fa14e1c5\" y=\"215.186077\"/>\n     <use style=\"fill:#008000;fill-opacity:0.5;stroke:#008000;stroke-opacity:0.5;\" x=\"153.225528\" xlink:href=\"#m93fa14e1c5\" y=\"173.02088\"/>\n     <use style=\"fill:#008000;fill-opacity:0.5;stroke:#008000;stroke-opacity:0.5;\" x=\"207.456068\" xlink:href=\"#m93fa14e1c5\" y=\"144.958097\"/>\n     <use style=\"fill:#008000;fill-opacity:0.5;stroke:#008000;stroke-opacity:0.5;\" x=\"152.353373\" xlink:href=\"#m93fa14e1c5\" y=\"128.337655\"/>\n     <use style=\"fill:#008000;fill-opacity:0.5;stroke:#008000;stroke-opacity:0.5;\" x=\"192.484394\" xlink:href=\"#m93fa14e1c5\" y=\"242.266879\"/>\n     <use style=\"fill:#008000;fill-opacity:0.5;stroke:#008000;stroke-opacity:0.5;\" x=\"178.976705\" xlink:href=\"#m93fa14e1c5\" y=\"215.413226\"/>\n     <use style=\"fill:#008000;fill-opacity:0.5;stroke:#008000;stroke-opacity:0.5;\" x=\"148.670964\" xlink:href=\"#m93fa14e1c5\" y=\"130.141679\"/>\n     <use style=\"fill:#008000;fill-opacity:0.5;stroke:#008000;stroke-opacity:0.5;\" x=\"146.812682\" xlink:href=\"#m93fa14e1c5\" y=\"137.823357\"/>\n     <use style=\"fill:#008000;fill-opacity:0.5;stroke:#008000;stroke-opacity:0.5;\" x=\"205.850839\" xlink:href=\"#m93fa14e1c5\" y=\"268.578577\"/>\n     <use style=\"fill:#008000;fill-opacity:0.5;stroke:#008000;stroke-opacity:0.5;\" x=\"230.480146\" xlink:href=\"#m93fa14e1c5\" y=\"135.673091\"/>\n     <use style=\"fill:#008000;fill-opacity:0.5;stroke:#008000;stroke-opacity:0.5;\" x=\"130.732948\" xlink:href=\"#m93fa14e1c5\" y=\"186.236557\"/>\n     <use style=\"fill:#008000;fill-opacity:0.5;stroke:#008000;stroke-opacity:0.5;\" x=\"137.958799\" xlink:href=\"#m93fa14e1c5\" y=\"126.760153\"/>\n     <use style=\"fill:#008000;fill-opacity:0.5;stroke:#008000;stroke-opacity:0.5;\" x=\"149.011717\" xlink:href=\"#m93fa14e1c5\" y=\"169.84011\"/>\n     <use style=\"fill:#008000;fill-opacity:0.5;stroke:#008000;stroke-opacity:0.5;\" x=\"200.964824\" xlink:href=\"#m93fa14e1c5\" y=\"191.378215\"/>\n     <use style=\"fill:#008000;fill-opacity:0.5;stroke:#008000;stroke-opacity:0.5;\" x=\"183.81426\" xlink:href=\"#m93fa14e1c5\" y=\"154.889858\"/>\n     <use style=\"fill:#008000;fill-opacity:0.5;stroke:#008000;stroke-opacity:0.5;\" x=\"149.081326\" xlink:href=\"#m93fa14e1c5\" y=\"253.847342\"/>\n     <use style=\"fill:#008000;fill-opacity:0.5;stroke:#008000;stroke-opacity:0.5;\" x=\"140.804523\" xlink:href=\"#m93fa14e1c5\" y=\"148.277668\"/>\n     <use style=\"fill:#008000;fill-opacity:0.5;stroke:#008000;stroke-opacity:0.5;\" x=\"158.732587\" xlink:href=\"#m93fa14e1c5\" y=\"83.442845\"/>\n     <use style=\"fill:#008000;fill-opacity:0.5;stroke:#008000;stroke-opacity:0.5;\" x=\"151.103137\" xlink:href=\"#m93fa14e1c5\" y=\"170.896589\"/>\n     <use style=\"fill:#008000;fill-opacity:0.5;stroke:#008000;stroke-opacity:0.5;\" x=\"179.433488\" xlink:href=\"#m93fa14e1c5\" y=\"228.685914\"/>\n     <use style=\"fill:#008000;fill-opacity:0.5;stroke:#008000;stroke-opacity:0.5;\" x=\"124.089436\" xlink:href=\"#m93fa14e1c5\" y=\"157.774689\"/>\n     <use style=\"fill:#008000;fill-opacity:0.5;stroke:#008000;stroke-opacity:0.5;\" x=\"192.263208\" xlink:href=\"#m93fa14e1c5\" y=\"85.374146\"/>\n     <use style=\"fill:#008000;fill-opacity:0.5;stroke:#008000;stroke-opacity:0.5;\" x=\"156.855212\" xlink:href=\"#m93fa14e1c5\" y=\"143.148406\"/>\n     <use style=\"fill:#008000;fill-opacity:0.5;stroke:#008000;stroke-opacity:0.5;\" x=\"142.072298\" xlink:href=\"#m93fa14e1c5\" y=\"191.783461\"/>\n     <use style=\"fill:#008000;fill-opacity:0.5;stroke:#008000;stroke-opacity:0.5;\" x=\"213.568762\" xlink:href=\"#m93fa14e1c5\" y=\"177.214259\"/>\n     <use style=\"fill:#008000;fill-opacity:0.5;stroke:#008000;stroke-opacity:0.5;\" x=\"109.137703\" xlink:href=\"#m93fa14e1c5\" y=\"165.299277\"/>\n     <use style=\"fill:#008000;fill-opacity:0.5;stroke:#008000;stroke-opacity:0.5;\" x=\"145.148598\" xlink:href=\"#m93fa14e1c5\" y=\"201.229284\"/>\n     <use style=\"fill:#008000;fill-opacity:0.5;stroke:#008000;stroke-opacity:0.5;\" x=\"151.443211\" xlink:href=\"#m93fa14e1c5\" y=\"221.534739\"/>\n     <use style=\"fill:#008000;fill-opacity:0.5;stroke:#008000;stroke-opacity:0.5;\" x=\"92.44721\" xlink:href=\"#m93fa14e1c5\" y=\"188.312957\"/>\n     <use style=\"fill:#008000;fill-opacity:0.5;stroke:#008000;stroke-opacity:0.5;\" x=\"150.542878\" xlink:href=\"#m93fa14e1c5\" y=\"150.203015\"/>\n     <use style=\"fill:#008000;fill-opacity:0.5;stroke:#008000;stroke-opacity:0.5;\" x=\"229.730141\" xlink:href=\"#m93fa14e1c5\" y=\"187.795982\"/>\n     <use style=\"fill:#008000;fill-opacity:0.5;stroke:#008000;stroke-opacity:0.5;\" x=\"208.310961\" xlink:href=\"#m93fa14e1c5\" y=\"134.819532\"/>\n     <use style=\"fill:#008000;fill-opacity:0.5;stroke:#008000;stroke-opacity:0.5;\" x=\"56.386161\" xlink:href=\"#m93fa14e1c5\" y=\"196.459502\"/>\n     <use style=\"fill:#008000;fill-opacity:0.5;stroke:#008000;stroke-opacity:0.5;\" x=\"118.045196\" xlink:href=\"#m93fa14e1c5\" y=\"195.386083\"/>\n     <use style=\"fill:#008000;fill-opacity:0.5;stroke:#008000;stroke-opacity:0.5;\" x=\"148.872513\" xlink:href=\"#m93fa14e1c5\" y=\"178.012037\"/>\n     <use style=\"fill:#008000;fill-opacity:0.5;stroke:#008000;stroke-opacity:0.5;\" x=\"86.850769\" xlink:href=\"#m93fa14e1c5\" y=\"213.790359\"/>\n     <use style=\"fill:#008000;fill-opacity:0.5;stroke:#008000;stroke-opacity:0.5;\" x=\"127.692802\" xlink:href=\"#m93fa14e1c5\" y=\"228.707091\"/>\n     <use style=\"fill:#008000;fill-opacity:0.5;stroke:#008000;stroke-opacity:0.5;\" x=\"188.486238\" xlink:href=\"#m93fa14e1c5\" y=\"200.337031\"/>\n     <use style=\"fill:#008000;fill-opacity:0.5;stroke:#008000;stroke-opacity:0.5;\" x=\"183.589307\" xlink:href=\"#m93fa14e1c5\" y=\"96.827439\"/>\n     <use style=\"fill:#008000;fill-opacity:0.5;stroke:#008000;stroke-opacity:0.5;\" x=\"153.905574\" xlink:href=\"#m93fa14e1c5\" y=\"143.816778\"/>\n     <use style=\"fill:#008000;fill-opacity:0.5;stroke:#008000;stroke-opacity:0.5;\" x=\"158.027151\" xlink:href=\"#m93fa14e1c5\" y=\"164.64069\"/>\n     <use style=\"fill:#008000;fill-opacity:0.5;stroke:#008000;stroke-opacity:0.5;\" x=\"166.276837\" xlink:href=\"#m93fa14e1c5\" y=\"154.909327\"/>\n     <use style=\"fill:#008000;fill-opacity:0.5;stroke:#008000;stroke-opacity:0.5;\" x=\"107.734023\" xlink:href=\"#m93fa14e1c5\" y=\"170.386793\"/>\n     <use style=\"fill:#008000;fill-opacity:0.5;stroke:#008000;stroke-opacity:0.5;\" x=\"112.888025\" xlink:href=\"#m93fa14e1c5\" y=\"229.876738\"/>\n     <use style=\"fill:#008000;fill-opacity:0.5;stroke:#008000;stroke-opacity:0.5;\" x=\"113.120817\" xlink:href=\"#m93fa14e1c5\" y=\"156.919392\"/>\n     <use style=\"fill:#008000;fill-opacity:0.5;stroke:#008000;stroke-opacity:0.5;\" x=\"151.329659\" xlink:href=\"#m93fa14e1c5\" y=\"132.712752\"/>\n     <use style=\"fill:#008000;fill-opacity:0.5;stroke:#008000;stroke-opacity:0.5;\" x=\"112.595801\" xlink:href=\"#m93fa14e1c5\" y=\"219.910548\"/>\n     <use style=\"fill:#008000;fill-opacity:0.5;stroke:#008000;stroke-opacity:0.5;\" x=\"156.628044\" xlink:href=\"#m93fa14e1c5\" y=\"221.08334\"/>\n     <use style=\"fill:#008000;fill-opacity:0.5;stroke:#008000;stroke-opacity:0.5;\" x=\"136.080646\" xlink:href=\"#m93fa14e1c5\" y=\"166.777083\"/>\n     <use style=\"fill:#008000;fill-opacity:0.5;stroke:#008000;stroke-opacity:0.5;\" x=\"140.406561\" xlink:href=\"#m93fa14e1c5\" y=\"173.547752\"/>\n     <use style=\"fill:#008000;fill-opacity:0.5;stroke:#008000;stroke-opacity:0.5;\" x=\"156.507214\" xlink:href=\"#m93fa14e1c5\" y=\"176.882209\"/>\n     <use style=\"fill:#008000;fill-opacity:0.5;stroke:#008000;stroke-opacity:0.5;\" x=\"151.57238\" xlink:href=\"#m93fa14e1c5\" y=\"168.17422\"/>\n     <use style=\"fill:#008000;fill-opacity:0.5;stroke:#008000;stroke-opacity:0.5;\" x=\"102.440289\" xlink:href=\"#m93fa14e1c5\" y=\"112.172555\"/>\n     <use style=\"fill:#008000;fill-opacity:0.5;stroke:#008000;stroke-opacity:0.5;\" x=\"143.798605\" xlink:href=\"#m93fa14e1c5\" y=\"223.624828\"/>\n     <use style=\"fill:#008000;fill-opacity:0.5;stroke:#008000;stroke-opacity:0.5;\" x=\"157.694245\" xlink:href=\"#m93fa14e1c5\" y=\"181.629459\"/>\n     <use style=\"fill:#008000;fill-opacity:0.5;stroke:#008000;stroke-opacity:0.5;\" x=\"143.738684\" xlink:href=\"#m93fa14e1c5\" y=\"180.906458\"/>\n     <use style=\"fill:#008000;fill-opacity:0.5;stroke:#008000;stroke-opacity:0.5;\" x=\"165.606473\" xlink:href=\"#m93fa14e1c5\" y=\"213.664083\"/>\n     <use style=\"fill:#008000;fill-opacity:0.5;stroke:#008000;stroke-opacity:0.5;\" x=\"151.91104\" xlink:href=\"#m93fa14e1c5\" y=\"203.91649\"/>\n     <use style=\"fill:#008000;fill-opacity:0.5;stroke:#008000;stroke-opacity:0.5;\" x=\"97.888322\" xlink:href=\"#m93fa14e1c5\" y=\"195.996444\"/>\n     <use style=\"fill:#008000;fill-opacity:0.5;stroke:#008000;stroke-opacity:0.5;\" x=\"177.668944\" xlink:href=\"#m93fa14e1c5\" y=\"212.717973\"/>\n     <use style=\"fill:#008000;fill-opacity:0.5;stroke:#008000;stroke-opacity:0.5;\" x=\"171.256833\" xlink:href=\"#m93fa14e1c5\" y=\"100.463354\"/>\n     <use style=\"fill:#008000;fill-opacity:0.5;stroke:#008000;stroke-opacity:0.5;\" x=\"195.536907\" xlink:href=\"#m93fa14e1c5\" y=\"209.968857\"/>\n     <use style=\"fill:#008000;fill-opacity:0.5;stroke:#008000;stroke-opacity:0.5;\" x=\"173.331472\" xlink:href=\"#m93fa14e1c5\" y=\"222.288178\"/>\n     <use style=\"fill:#008000;fill-opacity:0.5;stroke:#008000;stroke-opacity:0.5;\" x=\"151.537305\" xlink:href=\"#m93fa14e1c5\" y=\"112.183006\"/>\n     <use style=\"fill:#008000;fill-opacity:0.5;stroke:#008000;stroke-opacity:0.5;\" x=\"201.001712\" xlink:href=\"#m93fa14e1c5\" y=\"197.662172\"/>\n     <use style=\"fill:#008000;fill-opacity:0.5;stroke:#008000;stroke-opacity:0.5;\" x=\"178.309955\" xlink:href=\"#m93fa14e1c5\" y=\"123.99298\"/>\n     <use style=\"fill:#008000;fill-opacity:0.5;stroke:#008000;stroke-opacity:0.5;\" x=\"179.936946\" xlink:href=\"#m93fa14e1c5\" y=\"169.76162\"/>\n     <use style=\"fill:#008000;fill-opacity:0.5;stroke:#008000;stroke-opacity:0.5;\" x=\"205.82527\" xlink:href=\"#m93fa14e1c5\" y=\"175.317152\"/>\n     <use style=\"fill:#008000;fill-opacity:0.5;stroke:#008000;stroke-opacity:0.5;\" x=\"156.847874\" xlink:href=\"#m93fa14e1c5\" y=\"158.856554\"/>\n     <use style=\"fill:#008000;fill-opacity:0.5;stroke:#008000;stroke-opacity:0.5;\" x=\"115.851094\" xlink:href=\"#m93fa14e1c5\" y=\"202.483618\"/>\n     <use style=\"fill:#008000;fill-opacity:0.5;stroke:#008000;stroke-opacity:0.5;\" x=\"123.212847\" xlink:href=\"#m93fa14e1c5\" y=\"143.420552\"/>\n     <use style=\"fill:#008000;fill-opacity:0.5;stroke:#008000;stroke-opacity:0.5;\" x=\"141.265043\" xlink:href=\"#m93fa14e1c5\" y=\"133.129746\"/>\n     <use style=\"fill:#008000;fill-opacity:0.5;stroke:#008000;stroke-opacity:0.5;\" x=\"96.962019\" xlink:href=\"#m93fa14e1c5\" y=\"231.898647\"/>\n     <use style=\"fill:#008000;fill-opacity:0.5;stroke:#008000;stroke-opacity:0.5;\" x=\"149.320124\" xlink:href=\"#m93fa14e1c5\" y=\"208.005944\"/>\n     <use style=\"fill:#008000;fill-opacity:0.5;stroke:#008000;stroke-opacity:0.5;\" x=\"222.210383\" xlink:href=\"#m93fa14e1c5\" y=\"241.178146\"/>\n     <use style=\"fill:#008000;fill-opacity:0.5;stroke:#008000;stroke-opacity:0.5;\" x=\"116.354152\" xlink:href=\"#m93fa14e1c5\" y=\"140.572141\"/>\n     <use style=\"fill:#008000;fill-opacity:0.5;stroke:#008000;stroke-opacity:0.5;\" x=\"113.597828\" xlink:href=\"#m93fa14e1c5\" y=\"178.508175\"/>\n     <use style=\"fill:#008000;fill-opacity:0.5;stroke:#008000;stroke-opacity:0.5;\" x=\"117.187784\" xlink:href=\"#m93fa14e1c5\" y=\"124.449477\"/>\n     <use style=\"fill:#008000;fill-opacity:0.5;stroke:#008000;stroke-opacity:0.5;\" x=\"154.603347\" xlink:href=\"#m93fa14e1c5\" y=\"85.957373\"/>\n     <use style=\"fill:#008000;fill-opacity:0.5;stroke:#008000;stroke-opacity:0.5;\" x=\"183.339125\" xlink:href=\"#m93fa14e1c5\" y=\"148.505443\"/>\n     <use style=\"fill:#008000;fill-opacity:0.5;stroke:#008000;stroke-opacity:0.5;\" x=\"158.492334\" xlink:href=\"#m93fa14e1c5\" y=\"246.333268\"/>\n     <use style=\"fill:#008000;fill-opacity:0.5;stroke:#008000;stroke-opacity:0.5;\" x=\"160.515492\" xlink:href=\"#m93fa14e1c5\" y=\"193.586492\"/>\n     <use style=\"fill:#008000;fill-opacity:0.5;stroke:#008000;stroke-opacity:0.5;\" x=\"136.064162\" xlink:href=\"#m93fa14e1c5\" y=\"246.648808\"/>\n     <use style=\"fill:#008000;fill-opacity:0.5;stroke:#008000;stroke-opacity:0.5;\" x=\"158.44105\" xlink:href=\"#m93fa14e1c5\" y=\"198.27688\"/>\n     <use style=\"fill:#008000;fill-opacity:0.5;stroke:#008000;stroke-opacity:0.5;\" x=\"250.44452\" xlink:href=\"#m93fa14e1c5\" y=\"190.171889\"/>\n     <use style=\"fill:#008000;fill-opacity:0.5;stroke:#008000;stroke-opacity:0.5;\" x=\"135.034905\" xlink:href=\"#m93fa14e1c5\" y=\"201.903659\"/>\n     <use style=\"fill:#008000;fill-opacity:0.5;stroke:#008000;stroke-opacity:0.5;\" x=\"155.780371\" xlink:href=\"#m93fa14e1c5\" y=\"218.671469\"/>\n     <use style=\"fill:#008000;fill-opacity:0.5;stroke:#008000;stroke-opacity:0.5;\" x=\"169.104359\" xlink:href=\"#m93fa14e1c5\" y=\"193.271665\"/>\n     <use style=\"fill:#008000;fill-opacity:0.5;stroke:#008000;stroke-opacity:0.5;\" x=\"157.800094\" xlink:href=\"#m93fa14e1c5\" y=\"163.359454\"/>\n     <use style=\"fill:#008000;fill-opacity:0.5;stroke:#008000;stroke-opacity:0.5;\" x=\"220.65866\" xlink:href=\"#m93fa14e1c5\" y=\"145.549076\"/>\n     <use style=\"fill:#008000;fill-opacity:0.5;stroke:#008000;stroke-opacity:0.5;\" x=\"163.231575\" xlink:href=\"#m93fa14e1c5\" y=\"237.195775\"/>\n     <use style=\"fill:#008000;fill-opacity:0.5;stroke:#008000;stroke-opacity:0.5;\" x=\"155.883623\" xlink:href=\"#m93fa14e1c5\" y=\"241.007925\"/>\n     <use style=\"fill:#008000;fill-opacity:0.5;stroke:#008000;stroke-opacity:0.5;\" x=\"79.399446\" xlink:href=\"#m93fa14e1c5\" y=\"189.881899\"/>\n     <use style=\"fill:#008000;fill-opacity:0.5;stroke:#008000;stroke-opacity:0.5;\" x=\"189.088408\" xlink:href=\"#m93fa14e1c5\" y=\"166.499899\"/>\n     <use style=\"fill:#008000;fill-opacity:0.5;stroke:#008000;stroke-opacity:0.5;\" x=\"152.42071\" xlink:href=\"#m93fa14e1c5\" y=\"140.071583\"/>\n     <use style=\"fill:#008000;fill-opacity:0.5;stroke:#008000;stroke-opacity:0.5;\" x=\"182.841197\" xlink:href=\"#m93fa14e1c5\" y=\"120.395994\"/>\n     <use style=\"fill:#008000;fill-opacity:0.5;stroke:#008000;stroke-opacity:0.5;\" x=\"152.022436\" xlink:href=\"#m93fa14e1c5\" y=\"190.03682\"/>\n     <use style=\"fill:#008000;fill-opacity:0.5;stroke:#008000;stroke-opacity:0.5;\" x=\"183.865334\" xlink:href=\"#m93fa14e1c5\" y=\"181.130765\"/>\n     <use style=\"fill:#008000;fill-opacity:0.5;stroke:#008000;stroke-opacity:0.5;\" x=\"238.761706\" xlink:href=\"#m93fa14e1c5\" y=\"155.189187\"/>\n     <use style=\"fill:#008000;fill-opacity:0.5;stroke:#008000;stroke-opacity:0.5;\" x=\"201.151966\" xlink:href=\"#m93fa14e1c5\" y=\"192.66907\"/>\n     <use style=\"fill:#008000;fill-opacity:0.5;stroke:#008000;stroke-opacity:0.5;\" x=\"170.416554\" xlink:href=\"#m93fa14e1c5\" y=\"150.877866\"/>\n     <use style=\"fill:#008000;fill-opacity:0.5;stroke:#008000;stroke-opacity:0.5;\" x=\"130.88163\" xlink:href=\"#m93fa14e1c5\" y=\"154.136985\"/>\n     <use style=\"fill:#008000;fill-opacity:0.5;stroke:#008000;stroke-opacity:0.5;\" x=\"287.203128\" xlink:href=\"#m93fa14e1c5\" y=\"165.652988\"/>\n     <use style=\"fill:#008000;fill-opacity:0.5;stroke:#008000;stroke-opacity:0.5;\" x=\"136.084626\" xlink:href=\"#m93fa14e1c5\" y=\"126.487541\"/>\n     <use style=\"fill:#008000;fill-opacity:0.5;stroke:#008000;stroke-opacity:0.5;\" x=\"186.72324\" xlink:href=\"#m93fa14e1c5\" y=\"200.729903\"/>\n     <use style=\"fill:#008000;fill-opacity:0.5;stroke:#008000;stroke-opacity:0.5;\" x=\"186.291834\" xlink:href=\"#m93fa14e1c5\" y=\"181.14577\"/>\n     <use style=\"fill:#008000;fill-opacity:0.5;stroke:#008000;stroke-opacity:0.5;\" x=\"189.853048\" xlink:href=\"#m93fa14e1c5\" y=\"191.522633\"/>\n     <use style=\"fill:#008000;fill-opacity:0.5;stroke:#008000;stroke-opacity:0.5;\" x=\"153.006688\" xlink:href=\"#m93fa14e1c5\" y=\"149.315951\"/>\n     <use style=\"fill:#008000;fill-opacity:0.5;stroke:#008000;stroke-opacity:0.5;\" x=\"126.630505\" xlink:href=\"#m93fa14e1c5\" y=\"135.997864\"/>\n     <use style=\"fill:#008000;fill-opacity:0.5;stroke:#008000;stroke-opacity:0.5;\" x=\"169.411985\" xlink:href=\"#m93fa14e1c5\" y=\"227.178221\"/>\n     <use style=\"fill:#008000;fill-opacity:0.5;stroke:#008000;stroke-opacity:0.5;\" x=\"82.882904\" xlink:href=\"#m93fa14e1c5\" y=\"230.729108\"/>\n     <use style=\"fill:#008000;fill-opacity:0.5;stroke:#008000;stroke-opacity:0.5;\" x=\"199.914947\" xlink:href=\"#m93fa14e1c5\" y=\"166.415812\"/>\n     <use style=\"fill:#008000;fill-opacity:0.5;stroke:#008000;stroke-opacity:0.5;\" x=\"88.107062\" xlink:href=\"#m93fa14e1c5\" y=\"125.706339\"/>\n     <use style=\"fill:#008000;fill-opacity:0.5;stroke:#008000;stroke-opacity:0.5;\" x=\"185.894611\" xlink:href=\"#m93fa14e1c5\" y=\"167.541187\"/>\n     <use style=\"fill:#008000;fill-opacity:0.5;stroke:#008000;stroke-opacity:0.5;\" x=\"157.805674\" xlink:href=\"#m93fa14e1c5\" y=\"259.185045\"/>\n     <use style=\"fill:#008000;fill-opacity:0.5;stroke:#008000;stroke-opacity:0.5;\" x=\"118.550998\" xlink:href=\"#m93fa14e1c5\" y=\"211.186825\"/>\n     <use style=\"fill:#008000;fill-opacity:0.5;stroke:#008000;stroke-opacity:0.5;\" x=\"126.163693\" xlink:href=\"#m93fa14e1c5\" y=\"206.638648\"/>\n     <use style=\"fill:#008000;fill-opacity:0.5;stroke:#008000;stroke-opacity:0.5;\" x=\"133.58993\" xlink:href=\"#m93fa14e1c5\" y=\"273.076042\"/>\n     <use style=\"fill:#008000;fill-opacity:0.5;stroke:#008000;stroke-opacity:0.5;\" x=\"98.883914\" xlink:href=\"#m93fa14e1c5\" y=\"247.936918\"/>\n     <use style=\"fill:#008000;fill-opacity:0.5;stroke:#008000;stroke-opacity:0.5;\" x=\"166.567236\" xlink:href=\"#m93fa14e1c5\" y=\"224.036549\"/>\n     <use style=\"fill:#008000;fill-opacity:0.5;stroke:#008000;stroke-opacity:0.5;\" x=\"172.04579\" xlink:href=\"#m93fa14e1c5\" y=\"236.143927\"/>\n     <use style=\"fill:#008000;fill-opacity:0.5;stroke:#008000;stroke-opacity:0.5;\" x=\"206.393037\" xlink:href=\"#m93fa14e1c5\" y=\"173.467439\"/>\n     <use style=\"fill:#008000;fill-opacity:0.5;stroke:#008000;stroke-opacity:0.5;\" x=\"166.802745\" xlink:href=\"#m93fa14e1c5\" y=\"153.390281\"/>\n     <use style=\"fill:#008000;fill-opacity:0.5;stroke:#008000;stroke-opacity:0.5;\" x=\"106.670865\" xlink:href=\"#m93fa14e1c5\" y=\"133.046588\"/>\n     <use style=\"fill:#008000;fill-opacity:0.5;stroke:#008000;stroke-opacity:0.5;\" x=\"173.456921\" xlink:href=\"#m93fa14e1c5\" y=\"95.347465\"/>\n     <use style=\"fill:#008000;fill-opacity:0.5;stroke:#008000;stroke-opacity:0.5;\" x=\"217.350668\" xlink:href=\"#m93fa14e1c5\" y=\"191.975792\"/>\n     <use style=\"fill:#008000;fill-opacity:0.5;stroke:#008000;stroke-opacity:0.5;\" x=\"166.770392\" xlink:href=\"#m93fa14e1c5\" y=\"257.865004\"/>\n     <use style=\"fill:#008000;fill-opacity:0.5;stroke:#008000;stroke-opacity:0.5;\" x=\"171.392255\" xlink:href=\"#m93fa14e1c5\" y=\"218.992318\"/>\n     <use style=\"fill:#008000;fill-opacity:0.5;stroke:#008000;stroke-opacity:0.5;\" x=\"189.084185\" xlink:href=\"#m93fa14e1c5\" y=\"192.260907\"/>\n     <use style=\"fill:#008000;fill-opacity:0.5;stroke:#008000;stroke-opacity:0.5;\" x=\"157.841673\" xlink:href=\"#m93fa14e1c5\" y=\"130.444482\"/>\n     <use style=\"fill:#008000;fill-opacity:0.5;stroke:#008000;stroke-opacity:0.5;\" x=\"133.757938\" xlink:href=\"#m93fa14e1c5\" y=\"122.288816\"/>\n     <use style=\"fill:#008000;fill-opacity:0.5;stroke:#008000;stroke-opacity:0.5;\" x=\"174.266081\" xlink:href=\"#m93fa14e1c5\" y=\"210.082094\"/>\n     <use style=\"fill:#008000;fill-opacity:0.5;stroke:#008000;stroke-opacity:0.5;\" x=\"156.317126\" xlink:href=\"#m93fa14e1c5\" y=\"237.48574\"/>\n     <use style=\"fill:#008000;fill-opacity:0.5;stroke:#008000;stroke-opacity:0.5;\" x=\"168.25175\" xlink:href=\"#m93fa14e1c5\" y=\"259.004185\"/>\n     <use style=\"fill:#008000;fill-opacity:0.5;stroke:#008000;stroke-opacity:0.5;\" x=\"119.370574\" xlink:href=\"#m93fa14e1c5\" y=\"265.679571\"/>\n     <use style=\"fill:#008000;fill-opacity:0.5;stroke:#008000;stroke-opacity:0.5;\" x=\"141.178474\" xlink:href=\"#m93fa14e1c5\" y=\"180.677564\"/>\n     <use style=\"fill:#008000;fill-opacity:0.5;stroke:#008000;stroke-opacity:0.5;\" x=\"177.403403\" xlink:href=\"#m93fa14e1c5\" y=\"248.468836\"/>\n     <use style=\"fill:#008000;fill-opacity:0.5;stroke:#008000;stroke-opacity:0.5;\" x=\"213.402914\" xlink:href=\"#m93fa14e1c5\" y=\"199.935962\"/>\n     <use style=\"fill:#008000;fill-opacity:0.5;stroke:#008000;stroke-opacity:0.5;\" x=\"220.238431\" xlink:href=\"#m93fa14e1c5\" y=\"167.694968\"/>\n     <use style=\"fill:#008000;fill-opacity:0.5;stroke:#008000;stroke-opacity:0.5;\" x=\"151.322634\" xlink:href=\"#m93fa14e1c5\" y=\"126.488566\"/>\n     <use style=\"fill:#008000;fill-opacity:0.5;stroke:#008000;stroke-opacity:0.5;\" x=\"119.066072\" xlink:href=\"#m93fa14e1c5\" y=\"212.608049\"/>\n     <use style=\"fill:#008000;fill-opacity:0.5;stroke:#008000;stroke-opacity:0.5;\" x=\"201.963461\" xlink:href=\"#m93fa14e1c5\" y=\"138.670944\"/>\n     <use style=\"fill:#008000;fill-opacity:0.5;stroke:#008000;stroke-opacity:0.5;\" x=\"163.359248\" xlink:href=\"#m93fa14e1c5\" y=\"179.827714\"/>\n     <use style=\"fill:#008000;fill-opacity:0.5;stroke:#008000;stroke-opacity:0.5;\" x=\"162.880976\" xlink:href=\"#m93fa14e1c5\" y=\"179.279095\"/>\n     <use style=\"fill:#008000;fill-opacity:0.5;stroke:#008000;stroke-opacity:0.5;\" x=\"104.149037\" xlink:href=\"#m93fa14e1c5\" y=\"161.152966\"/>\n     <use style=\"fill:#008000;fill-opacity:0.5;stroke:#008000;stroke-opacity:0.5;\" x=\"220.305631\" xlink:href=\"#m93fa14e1c5\" y=\"69.689033\"/>\n     <use style=\"fill:#008000;fill-opacity:0.5;stroke:#008000;stroke-opacity:0.5;\" x=\"117.120595\" xlink:href=\"#m93fa14e1c5\" y=\"163.755189\"/>\n     <use style=\"fill:#008000;fill-opacity:0.5;stroke:#008000;stroke-opacity:0.5;\" x=\"140.585734\" xlink:href=\"#m93fa14e1c5\" y=\"221.175763\"/>\n     <use style=\"fill:#008000;fill-opacity:0.5;stroke:#008000;stroke-opacity:0.5;\" x=\"220.874907\" xlink:href=\"#m93fa14e1c5\" y=\"200.164769\"/>\n     <use style=\"fill:#008000;fill-opacity:0.5;stroke:#008000;stroke-opacity:0.5;\" x=\"136.061271\" xlink:href=\"#m93fa14e1c5\" y=\"192.289913\"/>\n     <use style=\"fill:#008000;fill-opacity:0.5;stroke:#008000;stroke-opacity:0.5;\" x=\"84.127063\" xlink:href=\"#m93fa14e1c5\" y=\"180.647432\"/>\n     <use style=\"fill:#008000;fill-opacity:0.5;stroke:#008000;stroke-opacity:0.5;\" x=\"168.458626\" xlink:href=\"#m93fa14e1c5\" y=\"199.10596\"/>\n     <use style=\"fill:#008000;fill-opacity:0.5;stroke:#008000;stroke-opacity:0.5;\" x=\"166.025029\" xlink:href=\"#m93fa14e1c5\" y=\"172.477941\"/>\n     <use style=\"fill:#008000;fill-opacity:0.5;stroke:#008000;stroke-opacity:0.5;\" x=\"167.040593\" xlink:href=\"#m93fa14e1c5\" y=\"143.717022\"/>\n     <use style=\"fill:#008000;fill-opacity:0.5;stroke:#008000;stroke-opacity:0.5;\" x=\"152.989979\" xlink:href=\"#m93fa14e1c5\" y=\"194.058077\"/>\n     <use style=\"fill:#008000;fill-opacity:0.5;stroke:#008000;stroke-opacity:0.5;\" x=\"179.354863\" xlink:href=\"#m93fa14e1c5\" y=\"142.881678\"/>\n     <use style=\"fill:#008000;fill-opacity:0.5;stroke:#008000;stroke-opacity:0.5;\" x=\"114.808183\" xlink:href=\"#m93fa14e1c5\" y=\"153.407667\"/>\n     <use style=\"fill:#008000;fill-opacity:0.5;stroke:#008000;stroke-opacity:0.5;\" x=\"146.344183\" xlink:href=\"#m93fa14e1c5\" y=\"142.445284\"/>\n     <use style=\"fill:#008000;fill-opacity:0.5;stroke:#008000;stroke-opacity:0.5;\" x=\"93.686167\" xlink:href=\"#m93fa14e1c5\" y=\"250.107532\"/>\n     <use style=\"fill:#008000;fill-opacity:0.5;stroke:#008000;stroke-opacity:0.5;\" x=\"206.510915\" xlink:href=\"#m93fa14e1c5\" y=\"148.094061\"/>\n     <use style=\"fill:#008000;fill-opacity:0.5;stroke:#008000;stroke-opacity:0.5;\" x=\"166.569959\" xlink:href=\"#m93fa14e1c5\" y=\"192.880115\"/>\n     <use style=\"fill:#008000;fill-opacity:0.5;stroke:#008000;stroke-opacity:0.5;\" x=\"137.232359\" xlink:href=\"#m93fa14e1c5\" y=\"237.93935\"/>\n     <use style=\"fill:#008000;fill-opacity:0.5;stroke:#008000;stroke-opacity:0.5;\" x=\"146.359767\" xlink:href=\"#m93fa14e1c5\" y=\"157.778338\"/>\n     <use style=\"fill:#008000;fill-opacity:0.5;stroke:#008000;stroke-opacity:0.5;\" x=\"179.890981\" xlink:href=\"#m93fa14e1c5\" y=\"190.847792\"/>\n     <use style=\"fill:#008000;fill-opacity:0.5;stroke:#008000;stroke-opacity:0.5;\" x=\"154.771432\" xlink:href=\"#m93fa14e1c5\" y=\"122.36634\"/>\n     <use style=\"fill:#008000;fill-opacity:0.5;stroke:#008000;stroke-opacity:0.5;\" x=\"157.544166\" xlink:href=\"#m93fa14e1c5\" y=\"116.107662\"/>\n     <use style=\"fill:#008000;fill-opacity:0.5;stroke:#008000;stroke-opacity:0.5;\" x=\"98.385405\" xlink:href=\"#m93fa14e1c5\" y=\"138.041037\"/>\n     <use style=\"fill:#008000;fill-opacity:0.5;stroke:#008000;stroke-opacity:0.5;\" x=\"129.899486\" xlink:href=\"#m93fa14e1c5\" y=\"156.953889\"/>\n     <use style=\"fill:#008000;fill-opacity:0.5;stroke:#008000;stroke-opacity:0.5;\" x=\"160.450243\" xlink:href=\"#m93fa14e1c5\" y=\"154.338474\"/>\n     <use style=\"fill:#008000;fill-opacity:0.5;stroke:#008000;stroke-opacity:0.5;\" x=\"139.946065\" xlink:href=\"#m93fa14e1c5\" y=\"193.602393\"/>\n     <use style=\"fill:#008000;fill-opacity:0.5;stroke:#008000;stroke-opacity:0.5;\" x=\"151.918332\" xlink:href=\"#m93fa14e1c5\" y=\"194.018739\"/>\n     <use style=\"fill:#008000;fill-opacity:0.5;stroke:#008000;stroke-opacity:0.5;\" x=\"227.899142\" xlink:href=\"#m93fa14e1c5\" y=\"152.424592\"/>\n     <use style=\"fill:#008000;fill-opacity:0.5;stroke:#008000;stroke-opacity:0.5;\" x=\"157.027935\" xlink:href=\"#m93fa14e1c5\" y=\"142.360872\"/>\n     <use style=\"fill:#008000;fill-opacity:0.5;stroke:#008000;stroke-opacity:0.5;\" x=\"142.972468\" xlink:href=\"#m93fa14e1c5\" y=\"141.23291\"/>\n     <use style=\"fill:#008000;fill-opacity:0.5;stroke:#008000;stroke-opacity:0.5;\" x=\"159.339047\" xlink:href=\"#m93fa14e1c5\" y=\"226.378093\"/>\n     <use style=\"fill:#008000;fill-opacity:0.5;stroke:#008000;stroke-opacity:0.5;\" x=\"185.234377\" xlink:href=\"#m93fa14e1c5\" y=\"222.304868\"/>\n     <use style=\"fill:#008000;fill-opacity:0.5;stroke:#008000;stroke-opacity:0.5;\" x=\"173.725302\" xlink:href=\"#m93fa14e1c5\" y=\"161.500883\"/>\n     <use style=\"fill:#008000;fill-opacity:0.5;stroke:#008000;stroke-opacity:0.5;\" x=\"165.223878\" xlink:href=\"#m93fa14e1c5\" y=\"148.994469\"/>\n     <use style=\"fill:#008000;fill-opacity:0.5;stroke:#008000;stroke-opacity:0.5;\" x=\"119.899655\" xlink:href=\"#m93fa14e1c5\" y=\"183.900928\"/>\n     <use style=\"fill:#008000;fill-opacity:0.5;stroke:#008000;stroke-opacity:0.5;\" x=\"150.236181\" xlink:href=\"#m93fa14e1c5\" y=\"123.863137\"/>\n     <use style=\"fill:#008000;fill-opacity:0.5;stroke:#008000;stroke-opacity:0.5;\" x=\"226.709821\" xlink:href=\"#m93fa14e1c5\" y=\"139.547832\"/>\n     <use style=\"fill:#008000;fill-opacity:0.5;stroke:#008000;stroke-opacity:0.5;\" x=\"145.928863\" xlink:href=\"#m93fa14e1c5\" y=\"199.9614\"/>\n     <use style=\"fill:#008000;fill-opacity:0.5;stroke:#008000;stroke-opacity:0.5;\" x=\"152.351329\" xlink:href=\"#m93fa14e1c5\" y=\"225.639996\"/>\n     <use style=\"fill:#008000;fill-opacity:0.5;stroke:#008000;stroke-opacity:0.5;\" x=\"137.822709\" xlink:href=\"#m93fa14e1c5\" y=\"223.61153\"/>\n     <use style=\"fill:#008000;fill-opacity:0.5;stroke:#008000;stroke-opacity:0.5;\" x=\"179.993212\" xlink:href=\"#m93fa14e1c5\" y=\"209.608694\"/>\n     <use style=\"fill:#008000;fill-opacity:0.5;stroke:#008000;stroke-opacity:0.5;\" x=\"157.55583\" xlink:href=\"#m93fa14e1c5\" y=\"194.971854\"/>\n     <use style=\"fill:#008000;fill-opacity:0.5;stroke:#008000;stroke-opacity:0.5;\" x=\"149.220212\" xlink:href=\"#m93fa14e1c5\" y=\"91.74768\"/>\n     <use style=\"fill:#008000;fill-opacity:0.5;stroke:#008000;stroke-opacity:0.5;\" x=\"172.175769\" xlink:href=\"#m93fa14e1c5\" y=\"115.142966\"/>\n     <use style=\"fill:#008000;fill-opacity:0.5;stroke:#008000;stroke-opacity:0.5;\" x=\"100.86456\" xlink:href=\"#m93fa14e1c5\" y=\"132.676684\"/>\n     <use style=\"fill:#008000;fill-opacity:0.5;stroke:#008000;stroke-opacity:0.5;\" x=\"129.592019\" xlink:href=\"#m93fa14e1c5\" y=\"134.057615\"/>\n     <use style=\"fill:#008000;fill-opacity:0.5;stroke:#008000;stroke-opacity:0.5;\" x=\"146.092839\" xlink:href=\"#m93fa14e1c5\" y=\"161.036058\"/>\n     <use style=\"fill:#008000;fill-opacity:0.5;stroke:#008000;stroke-opacity:0.5;\" x=\"160.475088\" xlink:href=\"#m93fa14e1c5\" y=\"156.271387\"/>\n     <use style=\"fill:#008000;fill-opacity:0.5;stroke:#008000;stroke-opacity:0.5;\" x=\"173.446676\" xlink:href=\"#m93fa14e1c5\" y=\"176.610584\"/>\n     <use style=\"fill:#008000;fill-opacity:0.5;stroke:#008000;stroke-opacity:0.5;\" x=\"57.461796\" xlink:href=\"#m93fa14e1c5\" y=\"205.530598\"/>\n     <use style=\"fill:#008000;fill-opacity:0.5;stroke:#008000;stroke-opacity:0.5;\" x=\"135.37419\" xlink:href=\"#m93fa14e1c5\" y=\"141.176417\"/>\n     <use style=\"fill:#008000;fill-opacity:0.5;stroke:#008000;stroke-opacity:0.5;\" x=\"159.06699\" xlink:href=\"#m93fa14e1c5\" y=\"236.663369\"/>\n     <use style=\"fill:#008000;fill-opacity:0.5;stroke:#008000;stroke-opacity:0.5;\" x=\"136.324332\" xlink:href=\"#m93fa14e1c5\" y=\"147.160196\"/>\n     <use style=\"fill:#008000;fill-opacity:0.5;stroke:#008000;stroke-opacity:0.5;\" x=\"115.193921\" xlink:href=\"#m93fa14e1c5\" y=\"141.064777\"/>\n     <use style=\"fill:#008000;fill-opacity:0.5;stroke:#008000;stroke-opacity:0.5;\" x=\"182.940342\" xlink:href=\"#m93fa14e1c5\" y=\"214.17066\"/>\n     <use style=\"fill:#008000;fill-opacity:0.5;stroke:#008000;stroke-opacity:0.5;\" x=\"113.259196\" xlink:href=\"#m93fa14e1c5\" y=\"151.796978\"/>\n     <use style=\"fill:#008000;fill-opacity:0.5;stroke:#008000;stroke-opacity:0.5;\" x=\"119.218614\" xlink:href=\"#m93fa14e1c5\" y=\"149.383806\"/>\n     <use style=\"fill:#008000;fill-opacity:0.5;stroke:#008000;stroke-opacity:0.5;\" x=\"157.386376\" xlink:href=\"#m93fa14e1c5\" y=\"218.224467\"/>\n     <use style=\"fill:#008000;fill-opacity:0.5;stroke:#008000;stroke-opacity:0.5;\" x=\"159.851035\" xlink:href=\"#m93fa14e1c5\" y=\"158.574704\"/>\n     <use style=\"fill:#008000;fill-opacity:0.5;stroke:#008000;stroke-opacity:0.5;\" x=\"58.320663\" xlink:href=\"#m93fa14e1c5\" y=\"187.282169\"/>\n     <use style=\"fill:#008000;fill-opacity:0.5;stroke:#008000;stroke-opacity:0.5;\" x=\"233.530423\" xlink:href=\"#m93fa14e1c5\" y=\"135.954985\"/>\n     <use style=\"fill:#008000;fill-opacity:0.5;stroke:#008000;stroke-opacity:0.5;\" x=\"183.194689\" xlink:href=\"#m93fa14e1c5\" y=\"145.703714\"/>\n     <use style=\"fill:#008000;fill-opacity:0.5;stroke:#008000;stroke-opacity:0.5;\" x=\"191.549184\" xlink:href=\"#m93fa14e1c5\" y=\"104.238628\"/>\n     <use style=\"fill:#008000;fill-opacity:0.5;stroke:#008000;stroke-opacity:0.5;\" x=\"127.637653\" xlink:href=\"#m93fa14e1c5\" y=\"184.354677\"/>\n     <use style=\"fill:#008000;fill-opacity:0.5;stroke:#008000;stroke-opacity:0.5;\" x=\"146.282529\" xlink:href=\"#m93fa14e1c5\" y=\"168.757485\"/>\n     <use style=\"fill:#008000;fill-opacity:0.5;stroke:#008000;stroke-opacity:0.5;\" x=\"140.234451\" xlink:href=\"#m93fa14e1c5\" y=\"204.94658\"/>\n     <use style=\"fill:#008000;fill-opacity:0.5;stroke:#008000;stroke-opacity:0.5;\" x=\"108.889673\" xlink:href=\"#m93fa14e1c5\" y=\"229.846763\"/>\n     <use style=\"fill:#008000;fill-opacity:0.5;stroke:#008000;stroke-opacity:0.5;\" x=\"129.425582\" xlink:href=\"#m93fa14e1c5\" y=\"118.148133\"/>\n     <use style=\"fill:#008000;fill-opacity:0.5;stroke:#008000;stroke-opacity:0.5;\" x=\"164.228044\" xlink:href=\"#m93fa14e1c5\" y=\"208.853511\"/>\n     <use style=\"fill:#008000;fill-opacity:0.5;stroke:#008000;stroke-opacity:0.5;\" x=\"150.139016\" xlink:href=\"#m93fa14e1c5\" y=\"173.316291\"/>\n     <use style=\"fill:#008000;fill-opacity:0.5;stroke:#008000;stroke-opacity:0.5;\" x=\"157.196586\" xlink:href=\"#m93fa14e1c5\" y=\"128.018723\"/>\n     <use style=\"fill:#008000;fill-opacity:0.5;stroke:#008000;stroke-opacity:0.5;\" x=\"124.485738\" xlink:href=\"#m93fa14e1c5\" y=\"62.483397\"/>\n     <use style=\"fill:#008000;fill-opacity:0.5;stroke:#008000;stroke-opacity:0.5;\" x=\"182.382092\" xlink:href=\"#m93fa14e1c5\" y=\"124.034336\"/>\n     <use style=\"fill:#008000;fill-opacity:0.5;stroke:#008000;stroke-opacity:0.5;\" x=\"207.937627\" xlink:href=\"#m93fa14e1c5\" y=\"151.899488\"/>\n     <use style=\"fill:#008000;fill-opacity:0.5;stroke:#008000;stroke-opacity:0.5;\" x=\"150.834584\" xlink:href=\"#m93fa14e1c5\" y=\"155.245131\"/>\n     <use style=\"fill:#008000;fill-opacity:0.5;stroke:#008000;stroke-opacity:0.5;\" x=\"166.876631\" xlink:href=\"#m93fa14e1c5\" y=\"245.370717\"/>\n     <use style=\"fill:#008000;fill-opacity:0.5;stroke:#008000;stroke-opacity:0.5;\" x=\"200.063425\" xlink:href=\"#m93fa14e1c5\" y=\"110.568665\"/>\n     <use style=\"fill:#008000;fill-opacity:0.5;stroke:#008000;stroke-opacity:0.5;\" x=\"170.895721\" xlink:href=\"#m93fa14e1c5\" y=\"212.245125\"/>\n     <use style=\"fill:#008000;fill-opacity:0.5;stroke:#008000;stroke-opacity:0.5;\" x=\"115.953959\" xlink:href=\"#m93fa14e1c5\" y=\"180.130869\"/>\n     <use style=\"fill:#008000;fill-opacity:0.5;stroke:#008000;stroke-opacity:0.5;\" x=\"147.742394\" xlink:href=\"#m93fa14e1c5\" y=\"168.876331\"/>\n     <use style=\"fill:#008000;fill-opacity:0.5;stroke:#008000;stroke-opacity:0.5;\" x=\"238.490535\" xlink:href=\"#m93fa14e1c5\" y=\"159.657266\"/>\n     <use style=\"fill:#008000;fill-opacity:0.5;stroke:#008000;stroke-opacity:0.5;\" x=\"150.349951\" xlink:href=\"#m93fa14e1c5\" y=\"206.618407\"/>\n     <use style=\"fill:#008000;fill-opacity:0.5;stroke:#008000;stroke-opacity:0.5;\" x=\"150.298698\" xlink:href=\"#m93fa14e1c5\" y=\"114.185805\"/>\n     <use style=\"fill:#008000;fill-opacity:0.5;stroke:#008000;stroke-opacity:0.5;\" x=\"128.91591\" xlink:href=\"#m93fa14e1c5\" y=\"229.873271\"/>\n     <use style=\"fill:#008000;fill-opacity:0.5;stroke:#008000;stroke-opacity:0.5;\" x=\"101.708168\" xlink:href=\"#m93fa14e1c5\" y=\"78.61557\"/>\n     <use style=\"fill:#008000;fill-opacity:0.5;stroke:#008000;stroke-opacity:0.5;\" x=\"194.912545\" xlink:href=\"#m93fa14e1c5\" y=\"170.579829\"/>\n     <use style=\"fill:#008000;fill-opacity:0.5;stroke:#008000;stroke-opacity:0.5;\" x=\"146.170542\" xlink:href=\"#m93fa14e1c5\" y=\"179.998112\"/>\n     <use style=\"fill:#008000;fill-opacity:0.5;stroke:#008000;stroke-opacity:0.5;\" x=\"176.925193\" xlink:href=\"#m93fa14e1c5\" y=\"187.170438\"/>\n     <use style=\"fill:#008000;fill-opacity:0.5;stroke:#008000;stroke-opacity:0.5;\" x=\"155.524199\" xlink:href=\"#m93fa14e1c5\" y=\"141.255931\"/>\n     <use style=\"fill:#008000;fill-opacity:0.5;stroke:#008000;stroke-opacity:0.5;\" x=\"127.888197\" xlink:href=\"#m93fa14e1c5\" y=\"200.875291\"/>\n     <use style=\"fill:#008000;fill-opacity:0.5;stroke:#008000;stroke-opacity:0.5;\" x=\"105.822494\" xlink:href=\"#m93fa14e1c5\" y=\"160.215113\"/>\n     <use style=\"fill:#008000;fill-opacity:0.5;stroke:#008000;stroke-opacity:0.5;\" x=\"156.32262\" xlink:href=\"#m93fa14e1c5\" y=\"237.780728\"/>\n     <use style=\"fill:#008000;fill-opacity:0.5;stroke:#008000;stroke-opacity:0.5;\" x=\"148.59546\" xlink:href=\"#m93fa14e1c5\" y=\"170.875977\"/>\n     <use style=\"fill:#008000;fill-opacity:0.5;stroke:#008000;stroke-opacity:0.5;\" x=\"141.190123\" xlink:href=\"#m93fa14e1c5\" y=\"156.981204\"/>\n     <use style=\"fill:#008000;fill-opacity:0.5;stroke:#008000;stroke-opacity:0.5;\" x=\"177.990301\" xlink:href=\"#m93fa14e1c5\" y=\"237.882349\"/>\n     <use style=\"fill:#008000;fill-opacity:0.5;stroke:#008000;stroke-opacity:0.5;\" x=\"197.052005\" xlink:href=\"#m93fa14e1c5\" y=\"166.396499\"/>\n     <use style=\"fill:#008000;fill-opacity:0.5;stroke:#008000;stroke-opacity:0.5;\" x=\"209.746915\" xlink:href=\"#m93fa14e1c5\" y=\"224.545675\"/>\n     <use style=\"fill:#008000;fill-opacity:0.5;stroke:#008000;stroke-opacity:0.5;\" x=\"151.565825\" xlink:href=\"#m93fa14e1c5\" y=\"171.963271\"/>\n     <use style=\"fill:#008000;fill-opacity:0.5;stroke:#008000;stroke-opacity:0.5;\" x=\"179.990945\" xlink:href=\"#m93fa14e1c5\" y=\"171.624326\"/>\n     <use style=\"fill:#008000;fill-opacity:0.5;stroke:#008000;stroke-opacity:0.5;\" x=\"166.466107\" xlink:href=\"#m93fa14e1c5\" y=\"216.651216\"/>\n     <use style=\"fill:#008000;fill-opacity:0.5;stroke:#008000;stroke-opacity:0.5;\" x=\"175.575778\" xlink:href=\"#m93fa14e1c5\" y=\"211.01839\"/>\n     <use style=\"fill:#008000;fill-opacity:0.5;stroke:#008000;stroke-opacity:0.5;\" x=\"59.263033\" xlink:href=\"#m93fa14e1c5\" y=\"150.680515\"/>\n     <use style=\"fill:#008000;fill-opacity:0.5;stroke:#008000;stroke-opacity:0.5;\" x=\"124.536613\" xlink:href=\"#m93fa14e1c5\" y=\"127.129207\"/>\n     <use style=\"fill:#008000;fill-opacity:0.5;stroke:#008000;stroke-opacity:0.5;\" x=\"196.930821\" xlink:href=\"#m93fa14e1c5\" y=\"207.628986\"/>\n     <use style=\"fill:#008000;fill-opacity:0.5;stroke:#008000;stroke-opacity:0.5;\" x=\"168.576027\" xlink:href=\"#m93fa14e1c5\" y=\"198.505609\"/>\n     <use style=\"fill:#008000;fill-opacity:0.5;stroke:#008000;stroke-opacity:0.5;\" x=\"175.343403\" xlink:href=\"#m93fa14e1c5\" y=\"231.413654\"/>\n     <use style=\"fill:#008000;fill-opacity:0.5;stroke:#008000;stroke-opacity:0.5;\" x=\"163.344448\" xlink:href=\"#m93fa14e1c5\" y=\"194.311262\"/>\n     <use style=\"fill:#008000;fill-opacity:0.5;stroke:#008000;stroke-opacity:0.5;\" x=\"58.214362\" xlink:href=\"#m93fa14e1c5\" y=\"175.574944\"/>\n     <use style=\"fill:#008000;fill-opacity:0.5;stroke:#008000;stroke-opacity:0.5;\" x=\"129.446573\" xlink:href=\"#m93fa14e1c5\" y=\"167.149396\"/>\n     <use style=\"fill:#008000;fill-opacity:0.5;stroke:#008000;stroke-opacity:0.5;\" x=\"128.211533\" xlink:href=\"#m93fa14e1c5\" y=\"237.904225\"/>\n     <use style=\"fill:#008000;fill-opacity:0.5;stroke:#008000;stroke-opacity:0.5;\" x=\"206.969063\" xlink:href=\"#m93fa14e1c5\" y=\"149.45527\"/>\n     <use style=\"fill:#008000;fill-opacity:0.5;stroke:#008000;stroke-opacity:0.5;\" x=\"170.697095\" xlink:href=\"#m93fa14e1c5\" y=\"209.179616\"/>\n     <use style=\"fill:#008000;fill-opacity:0.5;stroke:#008000;stroke-opacity:0.5;\" x=\"193.486366\" xlink:href=\"#m93fa14e1c5\" y=\"171.556651\"/>\n     <use style=\"fill:#008000;fill-opacity:0.5;stroke:#008000;stroke-opacity:0.5;\" x=\"151.755467\" xlink:href=\"#m93fa14e1c5\" y=\"117.595385\"/>\n     <use style=\"fill:#008000;fill-opacity:0.5;stroke:#008000;stroke-opacity:0.5;\" x=\"162.89584\" xlink:href=\"#m93fa14e1c5\" y=\"114.425274\"/>\n     <use style=\"fill:#008000;fill-opacity:0.5;stroke:#008000;stroke-opacity:0.5;\" x=\"183.44056\" xlink:href=\"#m93fa14e1c5\" y=\"102.012636\"/>\n     <use style=\"fill:#008000;fill-opacity:0.5;stroke:#008000;stroke-opacity:0.5;\" x=\"134.427128\" xlink:href=\"#m93fa14e1c5\" y=\"193.831222\"/>\n     <use style=\"fill:#008000;fill-opacity:0.5;stroke:#008000;stroke-opacity:0.5;\" x=\"139.865022\" xlink:href=\"#m93fa14e1c5\" y=\"190.43537\"/>\n     <use style=\"fill:#008000;fill-opacity:0.5;stroke:#008000;stroke-opacity:0.5;\" x=\"162.16684\" xlink:href=\"#m93fa14e1c5\" y=\"254.358017\"/>\n     <use style=\"fill:#008000;fill-opacity:0.5;stroke:#008000;stroke-opacity:0.5;\" x=\"236.191143\" xlink:href=\"#m93fa14e1c5\" y=\"109.244652\"/>\n     <use style=\"fill:#008000;fill-opacity:0.5;stroke:#008000;stroke-opacity:0.5;\" x=\"76.855721\" xlink:href=\"#m93fa14e1c5\" y=\"142.821683\"/>\n     <use style=\"fill:#008000;fill-opacity:0.5;stroke:#008000;stroke-opacity:0.5;\" x=\"254.713192\" xlink:href=\"#m93fa14e1c5\" y=\"121.941525\"/>\n     <use style=\"fill:#008000;fill-opacity:0.5;stroke:#008000;stroke-opacity:0.5;\" x=\"140.044995\" xlink:href=\"#m93fa14e1c5\" y=\"197.204759\"/>\n     <use style=\"fill:#008000;fill-opacity:0.5;stroke:#008000;stroke-opacity:0.5;\" x=\"183.644655\" xlink:href=\"#m93fa14e1c5\" y=\"127.066792\"/>\n     <use style=\"fill:#008000;fill-opacity:0.5;stroke:#008000;stroke-opacity:0.5;\" x=\"147.633189\" xlink:href=\"#m93fa14e1c5\" y=\"188.80834\"/>\n     <use style=\"fill:#008000;fill-opacity:0.5;stroke:#008000;stroke-opacity:0.5;\" x=\"183.652826\" xlink:href=\"#m93fa14e1c5\" y=\"261.822003\"/>\n     <use style=\"fill:#008000;fill-opacity:0.5;stroke:#008000;stroke-opacity:0.5;\" x=\"174.030141\" xlink:href=\"#m93fa14e1c5\" y=\"175.890456\"/>\n     <use style=\"fill:#008000;fill-opacity:0.5;stroke:#008000;stroke-opacity:0.5;\" x=\"199.040857\" xlink:href=\"#m93fa14e1c5\" y=\"87.279212\"/>\n     <use style=\"fill:#008000;fill-opacity:0.5;stroke:#008000;stroke-opacity:0.5;\" x=\"132.882168\" xlink:href=\"#m93fa14e1c5\" y=\"107.371817\"/>\n     <use style=\"fill:#008000;fill-opacity:0.5;stroke:#008000;stroke-opacity:0.5;\" x=\"109.397366\" xlink:href=\"#m93fa14e1c5\" y=\"318.534545\"/>\n     <use style=\"fill:#008000;fill-opacity:0.5;stroke:#008000;stroke-opacity:0.5;\" x=\"133.71062\" xlink:href=\"#m93fa14e1c5\" y=\"127.140971\"/>\n     <use style=\"fill:#008000;fill-opacity:0.5;stroke:#008000;stroke-opacity:0.5;\" x=\"247.032421\" xlink:href=\"#m93fa14e1c5\" y=\"151.344455\"/>\n     <use style=\"fill:#008000;fill-opacity:0.5;stroke:#008000;stroke-opacity:0.5;\" x=\"115.618857\" xlink:href=\"#m93fa14e1c5\" y=\"124.430149\"/>\n     <use style=\"fill:#008000;fill-opacity:0.5;stroke:#008000;stroke-opacity:0.5;\" x=\"191.920282\" xlink:href=\"#m93fa14e1c5\" y=\"215.193863\"/>\n     <use style=\"fill:#008000;fill-opacity:0.5;stroke:#008000;stroke-opacity:0.5;\" x=\"165.512688\" xlink:href=\"#m93fa14e1c5\" y=\"184.389084\"/>\n     <use style=\"fill:#008000;fill-opacity:0.5;stroke:#008000;stroke-opacity:0.5;\" x=\"230.982477\" xlink:href=\"#m93fa14e1c5\" y=\"180.400231\"/>\n     <use style=\"fill:#008000;fill-opacity:0.5;stroke:#008000;stroke-opacity:0.5;\" x=\"117.425135\" xlink:href=\"#m93fa14e1c5\" y=\"152.530106\"/>\n     <use style=\"fill:#008000;fill-opacity:0.5;stroke:#008000;stroke-opacity:0.5;\" x=\"126.680331\" xlink:href=\"#m93fa14e1c5\" y=\"177.430887\"/>\n     <use style=\"fill:#008000;fill-opacity:0.5;stroke:#008000;stroke-opacity:0.5;\" x=\"80.228588\" xlink:href=\"#m93fa14e1c5\" y=\"185.810385\"/>\n     <use style=\"fill:#008000;fill-opacity:0.5;stroke:#008000;stroke-opacity:0.5;\" x=\"187.877586\" xlink:href=\"#m93fa14e1c5\" y=\"150.604902\"/>\n     <use style=\"fill:#008000;fill-opacity:0.5;stroke:#008000;stroke-opacity:0.5;\" x=\"106.671732\" xlink:href=\"#m93fa14e1c5\" y=\"183.3343\"/>\n     <use style=\"fill:#008000;fill-opacity:0.5;stroke:#008000;stroke-opacity:0.5;\" x=\"169.345102\" xlink:href=\"#m93fa14e1c5\" y=\"216.15179\"/>\n     <use style=\"fill:#008000;fill-opacity:0.5;stroke:#008000;stroke-opacity:0.5;\" x=\"145.25657\" xlink:href=\"#m93fa14e1c5\" y=\"221.081317\"/>\n     <use style=\"fill:#008000;fill-opacity:0.5;stroke:#008000;stroke-opacity:0.5;\" x=\"185.17418\" xlink:href=\"#m93fa14e1c5\" y=\"156.524037\"/>\n     <use style=\"fill:#008000;fill-opacity:0.5;stroke:#008000;stroke-opacity:0.5;\" x=\"149.814274\" xlink:href=\"#m93fa14e1c5\" y=\"207.107682\"/>\n     <use style=\"fill:#008000;fill-opacity:0.5;stroke:#008000;stroke-opacity:0.5;\" x=\"169.439468\" xlink:href=\"#m93fa14e1c5\" y=\"114.908441\"/>\n     <use style=\"fill:#008000;fill-opacity:0.5;stroke:#008000;stroke-opacity:0.5;\" x=\"220.7519\" xlink:href=\"#m93fa14e1c5\" y=\"139.52353\"/>\n     <use style=\"fill:#008000;fill-opacity:0.5;stroke:#008000;stroke-opacity:0.5;\" x=\"170.618527\" xlink:href=\"#m93fa14e1c5\" y=\"201.301408\"/>\n     <use style=\"fill:#008000;fill-opacity:0.5;stroke:#008000;stroke-opacity:0.5;\" x=\"100.762771\" xlink:href=\"#m93fa14e1c5\" y=\"181.011424\"/>\n     <use style=\"fill:#008000;fill-opacity:0.5;stroke:#008000;stroke-opacity:0.5;\" x=\"167.69212\" xlink:href=\"#m93fa14e1c5\" y=\"158.465006\"/>\n     <use style=\"fill:#008000;fill-opacity:0.5;stroke:#008000;stroke-opacity:0.5;\" x=\"160.034834\" xlink:href=\"#m93fa14e1c5\" y=\"197.743071\"/>\n     <use style=\"fill:#008000;fill-opacity:0.5;stroke:#008000;stroke-opacity:0.5;\" x=\"201.273007\" xlink:href=\"#m93fa14e1c5\" y=\"205.972722\"/>\n     <use style=\"fill:#008000;fill-opacity:0.5;stroke:#008000;stroke-opacity:0.5;\" x=\"143.424047\" xlink:href=\"#m93fa14e1c5\" y=\"128.510431\"/>\n     <use style=\"fill:#008000;fill-opacity:0.5;stroke:#008000;stroke-opacity:0.5;\" x=\"115.842887\" xlink:href=\"#m93fa14e1c5\" y=\"166.505\"/>\n     <use style=\"fill:#008000;fill-opacity:0.5;stroke:#008000;stroke-opacity:0.5;\" x=\"149.013678\" xlink:href=\"#m93fa14e1c5\" y=\"210.940754\"/>\n     <use style=\"fill:#008000;fill-opacity:0.5;stroke:#008000;stroke-opacity:0.5;\" x=\"154.182914\" xlink:href=\"#m93fa14e1c5\" y=\"216.583518\"/>\n     <use style=\"fill:#008000;fill-opacity:0.5;stroke:#008000;stroke-opacity:0.5;\" x=\"97.556508\" xlink:href=\"#m93fa14e1c5\" y=\"22.025455\"/>\n     <use style=\"fill:#008000;fill-opacity:0.5;stroke:#008000;stroke-opacity:0.5;\" x=\"161.830758\" xlink:href=\"#m93fa14e1c5\" y=\"185.950367\"/>\n     <use style=\"fill:#008000;fill-opacity:0.5;stroke:#008000;stroke-opacity:0.5;\" x=\"176.141811\" xlink:href=\"#m93fa14e1c5\" y=\"166.296762\"/>\n     <use style=\"fill:#008000;fill-opacity:0.5;stroke:#008000;stroke-opacity:0.5;\" x=\"195.096446\" xlink:href=\"#m93fa14e1c5\" y=\"96.343978\"/>\n     <use style=\"fill:#008000;fill-opacity:0.5;stroke:#008000;stroke-opacity:0.5;\" x=\"168.666037\" xlink:href=\"#m93fa14e1c5\" y=\"167.112084\"/>\n     <use style=\"fill:#008000;fill-opacity:0.5;stroke:#008000;stroke-opacity:0.5;\" x=\"111.762335\" xlink:href=\"#m93fa14e1c5\" y=\"219.034346\"/>\n     <use style=\"fill:#008000;fill-opacity:0.5;stroke:#008000;stroke-opacity:0.5;\" x=\"208.490336\" xlink:href=\"#m93fa14e1c5\" y=\"281.027308\"/>\n     <use style=\"fill:#008000;fill-opacity:0.5;stroke:#008000;stroke-opacity:0.5;\" x=\"152.076245\" xlink:href=\"#m93fa14e1c5\" y=\"200.832114\"/>\n     <use style=\"fill:#008000;fill-opacity:0.5;stroke:#008000;stroke-opacity:0.5;\" x=\"135.529194\" xlink:href=\"#m93fa14e1c5\" y=\"179.546881\"/>\n     <use style=\"fill:#008000;fill-opacity:0.5;stroke:#008000;stroke-opacity:0.5;\" x=\"149.786363\" xlink:href=\"#m93fa14e1c5\" y=\"200.737941\"/>\n     <use style=\"fill:#008000;fill-opacity:0.5;stroke:#008000;stroke-opacity:0.5;\" x=\"159.077585\" xlink:href=\"#m93fa14e1c5\" y=\"173.71987\"/>\n     <use style=\"fill:#008000;fill-opacity:0.5;stroke:#008000;stroke-opacity:0.5;\" x=\"63.766032\" xlink:href=\"#m93fa14e1c5\" y=\"203.427216\"/>\n     <use style=\"fill:#008000;fill-opacity:0.5;stroke:#008000;stroke-opacity:0.5;\" x=\"194.554663\" xlink:href=\"#m93fa14e1c5\" y=\"102.568763\"/>\n     <use style=\"fill:#008000;fill-opacity:0.5;stroke:#008000;stroke-opacity:0.5;\" x=\"160.94243\" xlink:href=\"#m93fa14e1c5\" y=\"154.568481\"/>\n     <use style=\"fill:#008000;fill-opacity:0.5;stroke:#008000;stroke-opacity:0.5;\" x=\"214.123096\" xlink:href=\"#m93fa14e1c5\" y=\"178.570669\"/>\n     <use style=\"fill:#008000;fill-opacity:0.5;stroke:#008000;stroke-opacity:0.5;\" x=\"132.93356\" xlink:href=\"#m93fa14e1c5\" y=\"212.636721\"/>\n     <use style=\"fill:#008000;fill-opacity:0.5;stroke:#008000;stroke-opacity:0.5;\" x=\"166.124254\" xlink:href=\"#m93fa14e1c5\" y=\"151.814569\"/>\n     <use style=\"fill:#008000;fill-opacity:0.5;stroke:#008000;stroke-opacity:0.5;\" x=\"164.393374\" xlink:href=\"#m93fa14e1c5\" y=\"114.888584\"/>\n     <use style=\"fill:#008000;fill-opacity:0.5;stroke:#008000;stroke-opacity:0.5;\" x=\"155.375493\" xlink:href=\"#m93fa14e1c5\" y=\"152.69742\"/>\n     <use style=\"fill:#008000;fill-opacity:0.5;stroke:#008000;stroke-opacity:0.5;\" x=\"168.718716\" xlink:href=\"#m93fa14e1c5\" y=\"154.90265\"/>\n     <use style=\"fill:#008000;fill-opacity:0.5;stroke:#008000;stroke-opacity:0.5;\" x=\"149.768662\" xlink:href=\"#m93fa14e1c5\" y=\"128.546801\"/>\n     <use style=\"fill:#008000;fill-opacity:0.5;stroke:#008000;stroke-opacity:0.5;\" x=\"105.614638\" xlink:href=\"#m93fa14e1c5\" y=\"137.356568\"/>\n     <use style=\"fill:#008000;fill-opacity:0.5;stroke:#008000;stroke-opacity:0.5;\" x=\"141.400322\" xlink:href=\"#m93fa14e1c5\" y=\"180.745816\"/>\n     <use style=\"fill:#008000;fill-opacity:0.5;stroke:#008000;stroke-opacity:0.5;\" x=\"160.876127\" xlink:href=\"#m93fa14e1c5\" y=\"210.420983\"/>\n     <use style=\"fill:#008000;fill-opacity:0.5;stroke:#008000;stroke-opacity:0.5;\" x=\"131.267224\" xlink:href=\"#m93fa14e1c5\" y=\"202.370693\"/>\n     <use style=\"fill:#008000;fill-opacity:0.5;stroke:#008000;stroke-opacity:0.5;\" x=\"136.155856\" xlink:href=\"#m93fa14e1c5\" y=\"154.799855\"/>\n     <use style=\"fill:#008000;fill-opacity:0.5;stroke:#008000;stroke-opacity:0.5;\" x=\"83.990499\" xlink:href=\"#m93fa14e1c5\" y=\"150.433656\"/>\n     <use style=\"fill:#008000;fill-opacity:0.5;stroke:#008000;stroke-opacity:0.5;\" x=\"120.253762\" xlink:href=\"#m93fa14e1c5\" y=\"110.416464\"/>\n     <use style=\"fill:#008000;fill-opacity:0.5;stroke:#008000;stroke-opacity:0.5;\" x=\"156.360951\" xlink:href=\"#m93fa14e1c5\" y=\"222.925934\"/>\n     <use style=\"fill:#008000;fill-opacity:0.5;stroke:#008000;stroke-opacity:0.5;\" x=\"186.568506\" xlink:href=\"#m93fa14e1c5\" y=\"209.97686\"/>\n     <use style=\"fill:#008000;fill-opacity:0.5;stroke:#008000;stroke-opacity:0.5;\" x=\"120.326886\" xlink:href=\"#m93fa14e1c5\" y=\"149.176437\"/>\n     <use style=\"fill:#008000;fill-opacity:0.5;stroke:#008000;stroke-opacity:0.5;\" x=\"157.838733\" xlink:href=\"#m93fa14e1c5\" y=\"238.094948\"/>\n     <use style=\"fill:#008000;fill-opacity:0.5;stroke:#008000;stroke-opacity:0.5;\" x=\"222.644732\" xlink:href=\"#m93fa14e1c5\" y=\"161.862393\"/>\n     <use style=\"fill:#008000;fill-opacity:0.5;stroke:#008000;stroke-opacity:0.5;\" x=\"121.098191\" xlink:href=\"#m93fa14e1c5\" y=\"140.34626\"/>\n     <use style=\"fill:#008000;fill-opacity:0.5;stroke:#008000;stroke-opacity:0.5;\" x=\"111.409082\" xlink:href=\"#m93fa14e1c5\" y=\"165.116555\"/>\n     <use style=\"fill:#008000;fill-opacity:0.5;stroke:#008000;stroke-opacity:0.5;\" x=\"198.18531\" xlink:href=\"#m93fa14e1c5\" y=\"158.787673\"/>\n     <use style=\"fill:#008000;fill-opacity:0.5;stroke:#008000;stroke-opacity:0.5;\" x=\"154.753408\" xlink:href=\"#m93fa14e1c5\" y=\"151.868816\"/>\n     <use style=\"fill:#008000;fill-opacity:0.5;stroke:#008000;stroke-opacity:0.5;\" x=\"154.585584\" xlink:href=\"#m93fa14e1c5\" y=\"171.356319\"/>\n     <use style=\"fill:#008000;fill-opacity:0.5;stroke:#008000;stroke-opacity:0.5;\" x=\"109.193581\" xlink:href=\"#m93fa14e1c5\" y=\"163.281551\"/>\n     <use style=\"fill:#008000;fill-opacity:0.5;stroke:#008000;stroke-opacity:0.5;\" x=\"189.041513\" xlink:href=\"#m93fa14e1c5\" y=\"195.488787\"/>\n     <use style=\"fill:#008000;fill-opacity:0.5;stroke:#008000;stroke-opacity:0.5;\" x=\"143.84608\" xlink:href=\"#m93fa14e1c5\" y=\"98.333454\"/>\n     <use style=\"fill:#008000;fill-opacity:0.5;stroke:#008000;stroke-opacity:0.5;\" x=\"93.506069\" xlink:href=\"#m93fa14e1c5\" y=\"173.746123\"/>\n     <use style=\"fill:#008000;fill-opacity:0.5;stroke:#008000;stroke-opacity:0.5;\" x=\"141.588999\" xlink:href=\"#m93fa14e1c5\" y=\"212.312366\"/>\n     <use style=\"fill:#008000;fill-opacity:0.5;stroke:#008000;stroke-opacity:0.5;\" x=\"155.637896\" xlink:href=\"#m93fa14e1c5\" y=\"246.899746\"/>\n     <use style=\"fill:#008000;fill-opacity:0.5;stroke:#008000;stroke-opacity:0.5;\" x=\"238.42162\" xlink:href=\"#m93fa14e1c5\" y=\"247.665386\"/>\n     <use style=\"fill:#008000;fill-opacity:0.5;stroke:#008000;stroke-opacity:0.5;\" x=\"182.760281\" xlink:href=\"#m93fa14e1c5\" y=\"142.277256\"/>\n     <use style=\"fill:#008000;fill-opacity:0.5;stroke:#008000;stroke-opacity:0.5;\" x=\"163.397572\" xlink:href=\"#m93fa14e1c5\" y=\"277.038127\"/>\n     <use style=\"fill:#008000;fill-opacity:0.5;stroke:#008000;stroke-opacity:0.5;\" x=\"200.673351\" xlink:href=\"#m93fa14e1c5\" y=\"163.375843\"/>\n     <use style=\"fill:#008000;fill-opacity:0.5;stroke:#008000;stroke-opacity:0.5;\" x=\"183.34226\" xlink:href=\"#m93fa14e1c5\" y=\"190.92405\"/>\n     <use style=\"fill:#008000;fill-opacity:0.5;stroke:#008000;stroke-opacity:0.5;\" x=\"168.373584\" xlink:href=\"#m93fa14e1c5\" y=\"208.710017\"/>\n     <use style=\"fill:#008000;fill-opacity:0.5;stroke:#008000;stroke-opacity:0.5;\" x=\"172.28403\" xlink:href=\"#m93fa14e1c5\" y=\"81.233856\"/>\n     <use style=\"fill:#008000;fill-opacity:0.5;stroke:#008000;stroke-opacity:0.5;\" x=\"169.189637\" xlink:href=\"#m93fa14e1c5\" y=\"163.202251\"/>\n     <use style=\"fill:#008000;fill-opacity:0.5;stroke:#008000;stroke-opacity:0.5;\" x=\"155.074828\" xlink:href=\"#m93fa14e1c5\" y=\"258.850766\"/>\n     <use style=\"fill:#008000;fill-opacity:0.5;stroke:#008000;stroke-opacity:0.5;\" x=\"120.840939\" xlink:href=\"#m93fa14e1c5\" y=\"214.212704\"/>\n     <use style=\"fill:#008000;fill-opacity:0.5;stroke:#008000;stroke-opacity:0.5;\" x=\"164.716391\" xlink:href=\"#m93fa14e1c5\" y=\"130.564734\"/>\n     <use style=\"fill:#008000;fill-opacity:0.5;stroke:#008000;stroke-opacity:0.5;\" x=\"157.450083\" xlink:href=\"#m93fa14e1c5\" y=\"214.048182\"/>\n     <use style=\"fill:#008000;fill-opacity:0.5;stroke:#008000;stroke-opacity:0.5;\" x=\"97.823569\" xlink:href=\"#m93fa14e1c5\" y=\"171.453589\"/>\n     <use style=\"fill:#008000;fill-opacity:0.5;stroke:#008000;stroke-opacity:0.5;\" x=\"136.632683\" xlink:href=\"#m93fa14e1c5\" y=\"183.691432\"/>\n     <use style=\"fill:#008000;fill-opacity:0.5;stroke:#008000;stroke-opacity:0.5;\" x=\"170.610371\" xlink:href=\"#m93fa14e1c5\" y=\"120.585381\"/>\n     <use style=\"fill:#008000;fill-opacity:0.5;stroke:#008000;stroke-opacity:0.5;\" x=\"96.248057\" xlink:href=\"#m93fa14e1c5\" y=\"116.053627\"/>\n     <use style=\"fill:#008000;fill-opacity:0.5;stroke:#008000;stroke-opacity:0.5;\" x=\"196.474577\" xlink:href=\"#m93fa14e1c5\" y=\"217.865794\"/>\n     <use style=\"fill:#008000;fill-opacity:0.5;stroke:#008000;stroke-opacity:0.5;\" x=\"162.628922\" xlink:href=\"#m93fa14e1c5\" y=\"119.125037\"/>\n     <use style=\"fill:#008000;fill-opacity:0.5;stroke:#008000;stroke-opacity:0.5;\" x=\"112.282667\" xlink:href=\"#m93fa14e1c5\" y=\"111.369038\"/>\n     <use style=\"fill:#008000;fill-opacity:0.5;stroke:#008000;stroke-opacity:0.5;\" x=\"79.41115\" xlink:href=\"#m93fa14e1c5\" y=\"159.934429\"/>\n     <use style=\"fill:#008000;fill-opacity:0.5;stroke:#008000;stroke-opacity:0.5;\" x=\"102.95139\" xlink:href=\"#m93fa14e1c5\" y=\"146.575459\"/>\n     <use style=\"fill:#008000;fill-opacity:0.5;stroke:#008000;stroke-opacity:0.5;\" x=\"133.188052\" xlink:href=\"#m93fa14e1c5\" y=\"139.852943\"/>\n     <use style=\"fill:#008000;fill-opacity:0.5;stroke:#008000;stroke-opacity:0.5;\" x=\"122.023351\" xlink:href=\"#m93fa14e1c5\" y=\"171.081363\"/>\n     <use style=\"fill:#008000;fill-opacity:0.5;stroke:#008000;stroke-opacity:0.5;\" x=\"92.906063\" xlink:href=\"#m93fa14e1c5\" y=\"167.703698\"/>\n     <use style=\"fill:#008000;fill-opacity:0.5;stroke:#008000;stroke-opacity:0.5;\" x=\"215.531531\" xlink:href=\"#m93fa14e1c5\" y=\"114.52125\"/>\n     <use style=\"fill:#008000;fill-opacity:0.5;stroke:#008000;stroke-opacity:0.5;\" x=\"135.520876\" xlink:href=\"#m93fa14e1c5\" y=\"178.768589\"/>\n     <use style=\"fill:#008000;fill-opacity:0.5;stroke:#008000;stroke-opacity:0.5;\" x=\"197.275718\" xlink:href=\"#m93fa14e1c5\" y=\"110.29911\"/>\n     <use style=\"fill:#008000;fill-opacity:0.5;stroke:#008000;stroke-opacity:0.5;\" x=\"170.467511\" xlink:href=\"#m93fa14e1c5\" y=\"209.072758\"/>\n     <use style=\"fill:#008000;fill-opacity:0.5;stroke:#008000;stroke-opacity:0.5;\" x=\"148.894235\" xlink:href=\"#m93fa14e1c5\" y=\"166.49193\"/>\n     <use style=\"fill:#008000;fill-opacity:0.5;stroke:#008000;stroke-opacity:0.5;\" x=\"178.738523\" xlink:href=\"#m93fa14e1c5\" y=\"155.886037\"/>\n     <use style=\"fill:#008000;fill-opacity:0.5;stroke:#008000;stroke-opacity:0.5;\" x=\"128.477241\" xlink:href=\"#m93fa14e1c5\" y=\"108.721148\"/>\n     <use style=\"fill:#008000;fill-opacity:0.5;stroke:#008000;stroke-opacity:0.5;\" x=\"143.667917\" xlink:href=\"#m93fa14e1c5\" y=\"117.822745\"/>\n     <use style=\"fill:#008000;fill-opacity:0.5;stroke:#008000;stroke-opacity:0.5;\" x=\"130.28307\" xlink:href=\"#m93fa14e1c5\" y=\"171.18755\"/>\n     <use style=\"fill:#008000;fill-opacity:0.5;stroke:#008000;stroke-opacity:0.5;\" x=\"136.722792\" xlink:href=\"#m93fa14e1c5\" y=\"186.018062\"/>\n     <use style=\"fill:#008000;fill-opacity:0.5;stroke:#008000;stroke-opacity:0.5;\" x=\"138.14223\" xlink:href=\"#m93fa14e1c5\" y=\"162.53068\"/>\n     <use style=\"fill:#008000;fill-opacity:0.5;stroke:#008000;stroke-opacity:0.5;\" x=\"147.321311\" xlink:href=\"#m93fa14e1c5\" y=\"189.835343\"/>\n     <use style=\"fill:#008000;fill-opacity:0.5;stroke:#008000;stroke-opacity:0.5;\" x=\"139.176277\" xlink:href=\"#m93fa14e1c5\" y=\"172.101752\"/>\n     <use style=\"fill:#008000;fill-opacity:0.5;stroke:#008000;stroke-opacity:0.5;\" x=\"222.143687\" xlink:href=\"#m93fa14e1c5\" y=\"120.017987\"/>\n     <use style=\"fill:#008000;fill-opacity:0.5;stroke:#008000;stroke-opacity:0.5;\" x=\"186.610725\" xlink:href=\"#m93fa14e1c5\" y=\"179.418762\"/>\n     <use style=\"fill:#008000;fill-opacity:0.5;stroke:#008000;stroke-opacity:0.5;\" x=\"109.006479\" xlink:href=\"#m93fa14e1c5\" y=\"179.71612\"/>\n     <use style=\"fill:#008000;fill-opacity:0.5;stroke:#008000;stroke-opacity:0.5;\" x=\"182.989573\" xlink:href=\"#m93fa14e1c5\" y=\"130.272299\"/>\n     <use style=\"fill:#008000;fill-opacity:0.5;stroke:#008000;stroke-opacity:0.5;\" x=\"178.664988\" xlink:href=\"#m93fa14e1c5\" y=\"204.231807\"/>\n     <use style=\"fill:#008000;fill-opacity:0.5;stroke:#008000;stroke-opacity:0.5;\" x=\"131.796156\" xlink:href=\"#m93fa14e1c5\" y=\"224.865683\"/>\n     <use style=\"fill:#008000;fill-opacity:0.5;stroke:#008000;stroke-opacity:0.5;\" x=\"158.056276\" xlink:href=\"#m93fa14e1c5\" y=\"223.709757\"/>\n     <use style=\"fill:#008000;fill-opacity:0.5;stroke:#008000;stroke-opacity:0.5;\" x=\"127.440829\" xlink:href=\"#m93fa14e1c5\" y=\"192.50388\"/>\n     <use style=\"fill:#008000;fill-opacity:0.5;stroke:#008000;stroke-opacity:0.5;\" x=\"97.429987\" xlink:href=\"#m93fa14e1c5\" y=\"159.847237\"/>\n     <use style=\"fill:#008000;fill-opacity:0.5;stroke:#008000;stroke-opacity:0.5;\" x=\"116.682352\" xlink:href=\"#m93fa14e1c5\" y=\"137.684912\"/>\n     <use style=\"fill:#008000;fill-opacity:0.5;stroke:#008000;stroke-opacity:0.5;\" x=\"119.619\" xlink:href=\"#m93fa14e1c5\" y=\"241.961397\"/>\n     <use style=\"fill:#008000;fill-opacity:0.5;stroke:#008000;stroke-opacity:0.5;\" x=\"99.533459\" xlink:href=\"#m93fa14e1c5\" y=\"169.189413\"/>\n     <use style=\"fill:#008000;fill-opacity:0.5;stroke:#008000;stroke-opacity:0.5;\" x=\"188.746887\" xlink:href=\"#m93fa14e1c5\" y=\"131.101441\"/>\n     <use style=\"fill:#008000;fill-opacity:0.5;stroke:#008000;stroke-opacity:0.5;\" x=\"128.911588\" xlink:href=\"#m93fa14e1c5\" y=\"157.904085\"/>\n     <use style=\"fill:#008000;fill-opacity:0.5;stroke:#008000;stroke-opacity:0.5;\" x=\"133.48771\" xlink:href=\"#m93fa14e1c5\" y=\"212.62191\"/>\n     <use style=\"fill:#008000;fill-opacity:0.5;stroke:#008000;stroke-opacity:0.5;\" x=\"166.095477\" xlink:href=\"#m93fa14e1c5\" y=\"194.717834\"/>\n     <use style=\"fill:#008000;fill-opacity:0.5;stroke:#008000;stroke-opacity:0.5;\" x=\"147.461658\" xlink:href=\"#m93fa14e1c5\" y=\"204.087117\"/>\n     <use style=\"fill:#008000;fill-opacity:0.5;stroke:#008000;stroke-opacity:0.5;\" x=\"162.053114\" xlink:href=\"#m93fa14e1c5\" y=\"164.441502\"/>\n     <use style=\"fill:#008000;fill-opacity:0.5;stroke:#008000;stroke-opacity:0.5;\" x=\"132.755926\" xlink:href=\"#m93fa14e1c5\" y=\"219.50385\"/>\n     <use style=\"fill:#008000;fill-opacity:0.5;stroke:#008000;stroke-opacity:0.5;\" x=\"165.479068\" xlink:href=\"#m93fa14e1c5\" y=\"202.39991\"/>\n     <use style=\"fill:#008000;fill-opacity:0.5;stroke:#008000;stroke-opacity:0.5;\" x=\"219.674595\" xlink:href=\"#m93fa14e1c5\" y=\"101.656173\"/>\n     <use style=\"fill:#008000;fill-opacity:0.5;stroke:#008000;stroke-opacity:0.5;\" x=\"145.980583\" xlink:href=\"#m93fa14e1c5\" y=\"110.122831\"/>\n     <use style=\"fill:#008000;fill-opacity:0.5;stroke:#008000;stroke-opacity:0.5;\" x=\"162.39796\" xlink:href=\"#m93fa14e1c5\" y=\"206.322322\"/>\n     <use style=\"fill:#008000;fill-opacity:0.5;stroke:#008000;stroke-opacity:0.5;\" x=\"138.128587\" xlink:href=\"#m93fa14e1c5\" y=\"109.823276\"/>\n     <use style=\"fill:#008000;fill-opacity:0.5;stroke:#008000;stroke-opacity:0.5;\" x=\"205.551815\" xlink:href=\"#m93fa14e1c5\" y=\"191.701216\"/>\n     <use style=\"fill:#008000;fill-opacity:0.5;stroke:#008000;stroke-opacity:0.5;\" x=\"175.329197\" xlink:href=\"#m93fa14e1c5\" y=\"161.810764\"/>\n     <use style=\"fill:#008000;fill-opacity:0.5;stroke:#008000;stroke-opacity:0.5;\" x=\"148.952051\" xlink:href=\"#m93fa14e1c5\" y=\"154.33468\"/>\n     <use style=\"fill:#008000;fill-opacity:0.5;stroke:#008000;stroke-opacity:0.5;\" x=\"147.997078\" xlink:href=\"#m93fa14e1c5\" y=\"213.96457\"/>\n     <use style=\"fill:#008000;fill-opacity:0.5;stroke:#008000;stroke-opacity:0.5;\" x=\"58.758937\" xlink:href=\"#m93fa14e1c5\" y=\"186.331579\"/>\n     <use style=\"fill:#008000;fill-opacity:0.5;stroke:#008000;stroke-opacity:0.5;\" x=\"180.483017\" xlink:href=\"#m93fa14e1c5\" y=\"163.180574\"/>\n     <use style=\"fill:#008000;fill-opacity:0.5;stroke:#008000;stroke-opacity:0.5;\" x=\"108.097661\" xlink:href=\"#m93fa14e1c5\" y=\"200.087944\"/>\n     <use style=\"fill:#008000;fill-opacity:0.5;stroke:#008000;stroke-opacity:0.5;\" x=\"112.142694\" xlink:href=\"#m93fa14e1c5\" y=\"140.476458\"/>\n     <use style=\"fill:#008000;fill-opacity:0.5;stroke:#008000;stroke-opacity:0.5;\" x=\"207.08971\" xlink:href=\"#m93fa14e1c5\" y=\"162.405891\"/>\n     <use style=\"fill:#008000;fill-opacity:0.5;stroke:#008000;stroke-opacity:0.5;\" x=\"143.366986\" xlink:href=\"#m93fa14e1c5\" y=\"129.702761\"/>\n     <use style=\"fill:#008000;fill-opacity:0.5;stroke:#008000;stroke-opacity:0.5;\" x=\"147.750415\" xlink:href=\"#m93fa14e1c5\" y=\"164.018063\"/>\n     <use style=\"fill:#008000;fill-opacity:0.5;stroke:#008000;stroke-opacity:0.5;\" x=\"174.683883\" xlink:href=\"#m93fa14e1c5\" y=\"149.556999\"/>\n     <use style=\"fill:#008000;fill-opacity:0.5;stroke:#008000;stroke-opacity:0.5;\" x=\"70.868201\" xlink:href=\"#m93fa14e1c5\" y=\"125.456086\"/>\n     <use style=\"fill:#008000;fill-opacity:0.5;stroke:#008000;stroke-opacity:0.5;\" x=\"166.672968\" xlink:href=\"#m93fa14e1c5\" y=\"241.436811\"/>\n     <use style=\"fill:#008000;fill-opacity:0.5;stroke:#008000;stroke-opacity:0.5;\" x=\"145.822525\" xlink:href=\"#m93fa14e1c5\" y=\"159.042966\"/>\n     <use style=\"fill:#008000;fill-opacity:0.5;stroke:#008000;stroke-opacity:0.5;\" x=\"166.855475\" xlink:href=\"#m93fa14e1c5\" y=\"231.624996\"/>\n     <use style=\"fill:#008000;fill-opacity:0.5;stroke:#008000;stroke-opacity:0.5;\" x=\"138.098807\" xlink:href=\"#m93fa14e1c5\" y=\"170.812531\"/>\n     <use style=\"fill:#008000;fill-opacity:0.5;stroke:#008000;stroke-opacity:0.5;\" x=\"169.143085\" xlink:href=\"#m93fa14e1c5\" y=\"160.072342\"/>\n     <use style=\"fill:#008000;fill-opacity:0.5;stroke:#008000;stroke-opacity:0.5;\" x=\"109.121486\" xlink:href=\"#m93fa14e1c5\" y=\"191.808409\"/>\n     <use style=\"fill:#008000;fill-opacity:0.5;stroke:#008000;stroke-opacity:0.5;\" x=\"109.117548\" xlink:href=\"#m93fa14e1c5\" y=\"226.842639\"/>\n     <use style=\"fill:#008000;fill-opacity:0.5;stroke:#008000;stroke-opacity:0.5;\" x=\"204.896088\" xlink:href=\"#m93fa14e1c5\" y=\"178.558259\"/>\n     <use style=\"fill:#008000;fill-opacity:0.5;stroke:#008000;stroke-opacity:0.5;\" x=\"213.199737\" xlink:href=\"#m93fa14e1c5\" y=\"216.828037\"/>\n     <use style=\"fill:#008000;fill-opacity:0.5;stroke:#008000;stroke-opacity:0.5;\" x=\"204.368763\" xlink:href=\"#m93fa14e1c5\" y=\"182.365708\"/>\n     <use style=\"fill:#008000;fill-opacity:0.5;stroke:#008000;stroke-opacity:0.5;\" x=\"151.49413\" xlink:href=\"#m93fa14e1c5\" y=\"219.84069\"/>\n     <use style=\"fill:#008000;fill-opacity:0.5;stroke:#008000;stroke-opacity:0.5;\" x=\"197.734565\" xlink:href=\"#m93fa14e1c5\" y=\"181.020182\"/>\n     <use style=\"fill:#008000;fill-opacity:0.5;stroke:#008000;stroke-opacity:0.5;\" x=\"159.38994\" xlink:href=\"#m93fa14e1c5\" y=\"194.712577\"/>\n     <use style=\"fill:#008000;fill-opacity:0.5;stroke:#008000;stroke-opacity:0.5;\" x=\"116.02785\" xlink:href=\"#m93fa14e1c5\" y=\"174.093906\"/>\n     <use style=\"fill:#008000;fill-opacity:0.5;stroke:#008000;stroke-opacity:0.5;\" x=\"193.86239\" xlink:href=\"#m93fa14e1c5\" y=\"109.928497\"/>\n     <use style=\"fill:#008000;fill-opacity:0.5;stroke:#008000;stroke-opacity:0.5;\" x=\"134.535324\" xlink:href=\"#m93fa14e1c5\" y=\"208.074188\"/>\n     <use style=\"fill:#008000;fill-opacity:0.5;stroke:#008000;stroke-opacity:0.5;\" x=\"142.743565\" xlink:href=\"#m93fa14e1c5\" y=\"256.78302\"/>\n     <use style=\"fill:#008000;fill-opacity:0.5;stroke:#008000;stroke-opacity:0.5;\" x=\"169.837832\" xlink:href=\"#m93fa14e1c5\" y=\"233.819078\"/>\n     <use style=\"fill:#008000;fill-opacity:0.5;stroke:#008000;stroke-opacity:0.5;\" x=\"162.627926\" xlink:href=\"#m93fa14e1c5\" y=\"162.104161\"/>\n     <use style=\"fill:#008000;fill-opacity:0.5;stroke:#008000;stroke-opacity:0.5;\" x=\"113.668081\" xlink:href=\"#m93fa14e1c5\" y=\"140.578348\"/>\n     <use style=\"fill:#008000;fill-opacity:0.5;stroke:#008000;stroke-opacity:0.5;\" x=\"187.540708\" xlink:href=\"#m93fa14e1c5\" y=\"178.982771\"/>\n     <use style=\"fill:#008000;fill-opacity:0.5;stroke:#008000;stroke-opacity:0.5;\" x=\"151.548083\" xlink:href=\"#m93fa14e1c5\" y=\"265.011971\"/>\n     <use style=\"fill:#008000;fill-opacity:0.5;stroke:#008000;stroke-opacity:0.5;\" x=\"151.332813\" xlink:href=\"#m93fa14e1c5\" y=\"130.150716\"/>\n     <use style=\"fill:#008000;fill-opacity:0.5;stroke:#008000;stroke-opacity:0.5;\" x=\"144.655146\" xlink:href=\"#m93fa14e1c5\" y=\"124.453496\"/>\n     <use style=\"fill:#008000;fill-opacity:0.5;stroke:#008000;stroke-opacity:0.5;\" x=\"180.559686\" xlink:href=\"#m93fa14e1c5\" y=\"146.98428\"/>\n     <use style=\"fill:#008000;fill-opacity:0.5;stroke:#008000;stroke-opacity:0.5;\" x=\"130.560018\" xlink:href=\"#m93fa14e1c5\" y=\"108.111993\"/>\n     <use style=\"fill:#008000;fill-opacity:0.5;stroke:#008000;stroke-opacity:0.5;\" x=\"104.119639\" xlink:href=\"#m93fa14e1c5\" y=\"248.532449\"/>\n     <use style=\"fill:#008000;fill-opacity:0.5;stroke:#008000;stroke-opacity:0.5;\" x=\"141.260087\" xlink:href=\"#m93fa14e1c5\" y=\"141.56627\"/>\n     <use style=\"fill:#008000;fill-opacity:0.5;stroke:#008000;stroke-opacity:0.5;\" x=\"133.500689\" xlink:href=\"#m93fa14e1c5\" y=\"157.229569\"/>\n     <use style=\"fill:#008000;fill-opacity:0.5;stroke:#008000;stroke-opacity:0.5;\" x=\"193.418484\" xlink:href=\"#m93fa14e1c5\" y=\"108.13872\"/>\n     <use style=\"fill:#008000;fill-opacity:0.5;stroke:#008000;stroke-opacity:0.5;\" x=\"150.650669\" xlink:href=\"#m93fa14e1c5\" y=\"217.981731\"/>\n     <use style=\"fill:#008000;fill-opacity:0.5;stroke:#008000;stroke-opacity:0.5;\" x=\"208.345982\" xlink:href=\"#m93fa14e1c5\" y=\"207.114276\"/>\n     <use style=\"fill:#008000;fill-opacity:0.5;stroke:#008000;stroke-opacity:0.5;\" x=\"206.589058\" xlink:href=\"#m93fa14e1c5\" y=\"149.439961\"/>\n     <use style=\"fill:#008000;fill-opacity:0.5;stroke:#008000;stroke-opacity:0.5;\" x=\"203.234296\" xlink:href=\"#m93fa14e1c5\" y=\"167.973908\"/>\n     <use style=\"fill:#008000;fill-opacity:0.5;stroke:#008000;stroke-opacity:0.5;\" x=\"149.844268\" xlink:href=\"#m93fa14e1c5\" y=\"175.453323\"/>\n     <use style=\"fill:#008000;fill-opacity:0.5;stroke:#008000;stroke-opacity:0.5;\" x=\"115.081303\" xlink:href=\"#m93fa14e1c5\" y=\"89.320568\"/>\n     <use style=\"fill:#008000;fill-opacity:0.5;stroke:#008000;stroke-opacity:0.5;\" x=\"153.83567\" xlink:href=\"#m93fa14e1c5\" y=\"192.082573\"/>\n     <use style=\"fill:#008000;fill-opacity:0.5;stroke:#008000;stroke-opacity:0.5;\" x=\"112.638097\" xlink:href=\"#m93fa14e1c5\" y=\"117.770681\"/>\n     <use style=\"fill:#008000;fill-opacity:0.5;stroke:#008000;stroke-opacity:0.5;\" x=\"116.765135\" xlink:href=\"#m93fa14e1c5\" y=\"172.149127\"/>\n     <use style=\"fill:#008000;fill-opacity:0.5;stroke:#008000;stroke-opacity:0.5;\" x=\"118.982964\" xlink:href=\"#m93fa14e1c5\" y=\"220.304125\"/>\n     <use style=\"fill:#008000;fill-opacity:0.5;stroke:#008000;stroke-opacity:0.5;\" x=\"118.113479\" xlink:href=\"#m93fa14e1c5\" y=\"155.693099\"/>\n     <use style=\"fill:#008000;fill-opacity:0.5;stroke:#008000;stroke-opacity:0.5;\" x=\"203.655136\" xlink:href=\"#m93fa14e1c5\" y=\"257.264782\"/>\n     <use style=\"fill:#008000;fill-opacity:0.5;stroke:#008000;stroke-opacity:0.5;\" x=\"144.631827\" xlink:href=\"#m93fa14e1c5\" y=\"260.943323\"/>\n     <use style=\"fill:#008000;fill-opacity:0.5;stroke:#008000;stroke-opacity:0.5;\" x=\"186.136129\" xlink:href=\"#m93fa14e1c5\" y=\"58.886815\"/>\n     <use style=\"fill:#008000;fill-opacity:0.5;stroke:#008000;stroke-opacity:0.5;\" x=\"217.600597\" xlink:href=\"#m93fa14e1c5\" y=\"182.42812\"/>\n     <use style=\"fill:#008000;fill-opacity:0.5;stroke:#008000;stroke-opacity:0.5;\" x=\"208.674314\" xlink:href=\"#m93fa14e1c5\" y=\"128.658591\"/>\n     <use style=\"fill:#008000;fill-opacity:0.5;stroke:#008000;stroke-opacity:0.5;\" x=\"133.988732\" xlink:href=\"#m93fa14e1c5\" y=\"168.826083\"/>\n     <use style=\"fill:#008000;fill-opacity:0.5;stroke:#008000;stroke-opacity:0.5;\" x=\"214.915902\" xlink:href=\"#m93fa14e1c5\" y=\"247.0275\"/>\n     <use style=\"fill:#008000;fill-opacity:0.5;stroke:#008000;stroke-opacity:0.5;\" x=\"194.048065\" xlink:href=\"#m93fa14e1c5\" y=\"156.428\"/>\n     <use style=\"fill:#008000;fill-opacity:0.5;stroke:#008000;stroke-opacity:0.5;\" x=\"139.293911\" xlink:href=\"#m93fa14e1c5\" y=\"189.101101\"/>\n     <use style=\"fill:#008000;fill-opacity:0.5;stroke:#008000;stroke-opacity:0.5;\" x=\"118.99701\" xlink:href=\"#m93fa14e1c5\" y=\"157.981109\"/>\n     <use style=\"fill:#008000;fill-opacity:0.5;stroke:#008000;stroke-opacity:0.5;\" x=\"157.042415\" xlink:href=\"#m93fa14e1c5\" y=\"172.555889\"/>\n     <use style=\"fill:#008000;fill-opacity:0.5;stroke:#008000;stroke-opacity:0.5;\" x=\"221.446481\" xlink:href=\"#m93fa14e1c5\" y=\"196.305628\"/>\n     <use style=\"fill:#008000;fill-opacity:0.5;stroke:#008000;stroke-opacity:0.5;\" x=\"125.362134\" xlink:href=\"#m93fa14e1c5\" y=\"146.031475\"/>\n     <use style=\"fill:#008000;fill-opacity:0.5;stroke:#008000;stroke-opacity:0.5;\" x=\"128.17983\" xlink:href=\"#m93fa14e1c5\" y=\"191.317886\"/>\n     <use style=\"fill:#008000;fill-opacity:0.5;stroke:#008000;stroke-opacity:0.5;\" x=\"149.52684\" xlink:href=\"#m93fa14e1c5\" y=\"141.339532\"/>\n     <use style=\"fill:#008000;fill-opacity:0.5;stroke:#008000;stroke-opacity:0.5;\" x=\"159.479503\" xlink:href=\"#m93fa14e1c5\" y=\"234.338811\"/>\n     <use style=\"fill:#008000;fill-opacity:0.5;stroke:#008000;stroke-opacity:0.5;\" x=\"182.30176\" xlink:href=\"#m93fa14e1c5\" y=\"179.330402\"/>\n     <use style=\"fill:#008000;fill-opacity:0.5;stroke:#008000;stroke-opacity:0.5;\" x=\"145.542433\" xlink:href=\"#m93fa14e1c5\" y=\"231.528945\"/>\n     <use style=\"fill:#008000;fill-opacity:0.5;stroke:#008000;stroke-opacity:0.5;\" x=\"143.170805\" xlink:href=\"#m93fa14e1c5\" y=\"170.252956\"/>\n     <use style=\"fill:#008000;fill-opacity:0.5;stroke:#008000;stroke-opacity:0.5;\" x=\"214.036792\" xlink:href=\"#m93fa14e1c5\" y=\"271.173453\"/>\n     <use style=\"fill:#008000;fill-opacity:0.5;stroke:#008000;stroke-opacity:0.5;\" x=\"128.147723\" xlink:href=\"#m93fa14e1c5\" y=\"216.36184\"/>\n     <use style=\"fill:#008000;fill-opacity:0.5;stroke:#008000;stroke-opacity:0.5;\" x=\"141.51827\" xlink:href=\"#m93fa14e1c5\" y=\"205.735152\"/>\n     <use style=\"fill:#008000;fill-opacity:0.5;stroke:#008000;stroke-opacity:0.5;\" x=\"163.230802\" xlink:href=\"#m93fa14e1c5\" y=\"117.325425\"/>\n     <use style=\"fill:#008000;fill-opacity:0.5;stroke:#008000;stroke-opacity:0.5;\" x=\"137.001938\" xlink:href=\"#m93fa14e1c5\" y=\"177.170191\"/>\n     <use style=\"fill:#008000;fill-opacity:0.5;stroke:#008000;stroke-opacity:0.5;\" x=\"94.650561\" xlink:href=\"#m93fa14e1c5\" y=\"156.531323\"/>\n     <use style=\"fill:#008000;fill-opacity:0.5;stroke:#008000;stroke-opacity:0.5;\" x=\"135.15401\" xlink:href=\"#m93fa14e1c5\" y=\"197.828166\"/>\n     <use style=\"fill:#008000;fill-opacity:0.5;stroke:#008000;stroke-opacity:0.5;\" x=\"118.282402\" xlink:href=\"#m93fa14e1c5\" y=\"179.246508\"/>\n     <use style=\"fill:#008000;fill-opacity:0.5;stroke:#008000;stroke-opacity:0.5;\" x=\"243.591098\" xlink:href=\"#m93fa14e1c5\" y=\"166.137549\"/>\n     <use style=\"fill:#008000;fill-opacity:0.5;stroke:#008000;stroke-opacity:0.5;\" x=\"140.892081\" xlink:href=\"#m93fa14e1c5\" y=\"199.905502\"/>\n     <use style=\"fill:#008000;fill-opacity:0.5;stroke:#008000;stroke-opacity:0.5;\" x=\"193.317972\" xlink:href=\"#m93fa14e1c5\" y=\"173.639708\"/>\n     <use style=\"fill:#008000;fill-opacity:0.5;stroke:#008000;stroke-opacity:0.5;\" x=\"165.564757\" xlink:href=\"#m93fa14e1c5\" y=\"185.794599\"/>\n     <use style=\"fill:#008000;fill-opacity:0.5;stroke:#008000;stroke-opacity:0.5;\" x=\"231.146454\" xlink:href=\"#m93fa14e1c5\" y=\"124.955766\"/>\n     <use style=\"fill:#008000;fill-opacity:0.5;stroke:#008000;stroke-opacity:0.5;\" x=\"154.208975\" xlink:href=\"#m93fa14e1c5\" y=\"152.561131\"/>\n     <use style=\"fill:#008000;fill-opacity:0.5;stroke:#008000;stroke-opacity:0.5;\" x=\"116.794243\" xlink:href=\"#m93fa14e1c5\" y=\"130.084268\"/>\n     <use style=\"fill:#008000;fill-opacity:0.5;stroke:#008000;stroke-opacity:0.5;\" x=\"154.893064\" xlink:href=\"#m93fa14e1c5\" y=\"133.595033\"/>\n     <use style=\"fill:#008000;fill-opacity:0.5;stroke:#008000;stroke-opacity:0.5;\" x=\"115.159214\" xlink:href=\"#m93fa14e1c5\" y=\"105.069501\"/>\n     <use style=\"fill:#008000;fill-opacity:0.5;stroke:#008000;stroke-opacity:0.5;\" x=\"129.115018\" xlink:href=\"#m93fa14e1c5\" y=\"156.292598\"/>\n     <use style=\"fill:#008000;fill-opacity:0.5;stroke:#008000;stroke-opacity:0.5;\" x=\"175.763581\" xlink:href=\"#m93fa14e1c5\" y=\"154.707335\"/>\n     <use style=\"fill:#008000;fill-opacity:0.5;stroke:#008000;stroke-opacity:0.5;\" x=\"131.437392\" xlink:href=\"#m93fa14e1c5\" y=\"222.040159\"/>\n     <use style=\"fill:#008000;fill-opacity:0.5;stroke:#008000;stroke-opacity:0.5;\" x=\"127.817175\" xlink:href=\"#m93fa14e1c5\" y=\"200.246134\"/>\n     <use style=\"fill:#008000;fill-opacity:0.5;stroke:#008000;stroke-opacity:0.5;\" x=\"178.378307\" xlink:href=\"#m93fa14e1c5\" y=\"234.895505\"/>\n     <use style=\"fill:#008000;fill-opacity:0.5;stroke:#008000;stroke-opacity:0.5;\" x=\"229.777725\" xlink:href=\"#m93fa14e1c5\" y=\"167.820705\"/>\n     <use style=\"fill:#008000;fill-opacity:0.5;stroke:#008000;stroke-opacity:0.5;\" x=\"150.930803\" xlink:href=\"#m93fa14e1c5\" y=\"203.492395\"/>\n     <use style=\"fill:#008000;fill-opacity:0.5;stroke:#008000;stroke-opacity:0.5;\" x=\"138.476229\" xlink:href=\"#m93fa14e1c5\" y=\"191.745255\"/>\n     <use style=\"fill:#008000;fill-opacity:0.5;stroke:#008000;stroke-opacity:0.5;\" x=\"151.875683\" xlink:href=\"#m93fa14e1c5\" y=\"194.592217\"/>\n     <use style=\"fill:#008000;fill-opacity:0.5;stroke:#008000;stroke-opacity:0.5;\" x=\"195.05102\" xlink:href=\"#m93fa14e1c5\" y=\"247.666591\"/>\n     <use style=\"fill:#008000;fill-opacity:0.5;stroke:#008000;stroke-opacity:0.5;\" x=\"146.025759\" xlink:href=\"#m93fa14e1c5\" y=\"175.153537\"/>\n     <use style=\"fill:#008000;fill-opacity:0.5;stroke:#008000;stroke-opacity:0.5;\" x=\"142.732919\" xlink:href=\"#m93fa14e1c5\" y=\"142.947942\"/>\n     <use style=\"fill:#008000;fill-opacity:0.5;stroke:#008000;stroke-opacity:0.5;\" x=\"178.448247\" xlink:href=\"#m93fa14e1c5\" y=\"174.927949\"/>\n     <use style=\"fill:#008000;fill-opacity:0.5;stroke:#008000;stroke-opacity:0.5;\" x=\"214.80645\" xlink:href=\"#m93fa14e1c5\" y=\"113.390345\"/>\n     <use style=\"fill:#008000;fill-opacity:0.5;stroke:#008000;stroke-opacity:0.5;\" x=\"180.215287\" xlink:href=\"#m93fa14e1c5\" y=\"221.576479\"/>\n     <use style=\"fill:#008000;fill-opacity:0.5;stroke:#008000;stroke-opacity:0.5;\" x=\"162.032868\" xlink:href=\"#m93fa14e1c5\" y=\"129.593334\"/>\n     <use style=\"fill:#008000;fill-opacity:0.5;stroke:#008000;stroke-opacity:0.5;\" x=\"201.928417\" xlink:href=\"#m93fa14e1c5\" y=\"150.554428\"/>\n     <use style=\"fill:#008000;fill-opacity:0.5;stroke:#008000;stroke-opacity:0.5;\" x=\"102.20287\" xlink:href=\"#m93fa14e1c5\" y=\"137.264479\"/>\n     <use style=\"fill:#008000;fill-opacity:0.5;stroke:#008000;stroke-opacity:0.5;\" x=\"211.837432\" xlink:href=\"#m93fa14e1c5\" y=\"197.792742\"/>\n     <use style=\"fill:#008000;fill-opacity:0.5;stroke:#008000;stroke-opacity:0.5;\" x=\"91.467122\" xlink:href=\"#m93fa14e1c5\" y=\"204.997113\"/>\n     <use style=\"fill:#008000;fill-opacity:0.5;stroke:#008000;stroke-opacity:0.5;\" x=\"220.079291\" xlink:href=\"#m93fa14e1c5\" y=\"105.451142\"/>\n     <use style=\"fill:#008000;fill-opacity:0.5;stroke:#008000;stroke-opacity:0.5;\" x=\"139.003541\" xlink:href=\"#m93fa14e1c5\" y=\"138.134601\"/>\n     <use style=\"fill:#008000;fill-opacity:0.5;stroke:#008000;stroke-opacity:0.5;\" x=\"187.042419\" xlink:href=\"#m93fa14e1c5\" y=\"149.932917\"/>\n     <use style=\"fill:#008000;fill-opacity:0.5;stroke:#008000;stroke-opacity:0.5;\" x=\"114.214041\" xlink:href=\"#m93fa14e1c5\" y=\"192.697419\"/>\n     <use style=\"fill:#008000;fill-opacity:0.5;stroke:#008000;stroke-opacity:0.5;\" x=\"109.425019\" xlink:href=\"#m93fa14e1c5\" y=\"227.608423\"/>\n     <use style=\"fill:#008000;fill-opacity:0.5;stroke:#008000;stroke-opacity:0.5;\" x=\"158.302258\" xlink:href=\"#m93fa14e1c5\" y=\"128.58709\"/>\n     <use style=\"fill:#008000;fill-opacity:0.5;stroke:#008000;stroke-opacity:0.5;\" x=\"161.261368\" xlink:href=\"#m93fa14e1c5\" y=\"195.72606\"/>\n     <use style=\"fill:#008000;fill-opacity:0.5;stroke:#008000;stroke-opacity:0.5;\" x=\"136.203048\" xlink:href=\"#m93fa14e1c5\" y=\"175.430755\"/>\n     <use style=\"fill:#008000;fill-opacity:0.5;stroke:#008000;stroke-opacity:0.5;\" x=\"162.770331\" xlink:href=\"#m93fa14e1c5\" y=\"211.799427\"/>\n     <use style=\"fill:#008000;fill-opacity:0.5;stroke:#008000;stroke-opacity:0.5;\" x=\"153.817332\" xlink:href=\"#m93fa14e1c5\" y=\"210.090173\"/>\n     <use style=\"fill:#008000;fill-opacity:0.5;stroke:#008000;stroke-opacity:0.5;\" x=\"170.924293\" xlink:href=\"#m93fa14e1c5\" y=\"160.755262\"/>\n     <use style=\"fill:#008000;fill-opacity:0.5;stroke:#008000;stroke-opacity:0.5;\" x=\"135.096203\" xlink:href=\"#m93fa14e1c5\" y=\"135.791731\"/>\n     <use style=\"fill:#008000;fill-opacity:0.5;stroke:#008000;stroke-opacity:0.5;\" x=\"149.133332\" xlink:href=\"#m93fa14e1c5\" y=\"180.211451\"/>\n     <use style=\"fill:#008000;fill-opacity:0.5;stroke:#008000;stroke-opacity:0.5;\" x=\"166.63364\" xlink:href=\"#m93fa14e1c5\" y=\"143.350312\"/>\n     <use style=\"fill:#008000;fill-opacity:0.5;stroke:#008000;stroke-opacity:0.5;\" x=\"156.02197\" xlink:href=\"#m93fa14e1c5\" y=\"116.534447\"/>\n     <use style=\"fill:#008000;fill-opacity:0.5;stroke:#008000;stroke-opacity:0.5;\" x=\"155.157537\" xlink:href=\"#m93fa14e1c5\" y=\"209.331492\"/>\n     <use style=\"fill:#008000;fill-opacity:0.5;stroke:#008000;stroke-opacity:0.5;\" x=\"158.030416\" xlink:href=\"#m93fa14e1c5\" y=\"194.607191\"/>\n     <use style=\"fill:#008000;fill-opacity:0.5;stroke:#008000;stroke-opacity:0.5;\" x=\"104.973833\" xlink:href=\"#m93fa14e1c5\" y=\"121.209635\"/>\n     <use style=\"fill:#008000;fill-opacity:0.5;stroke:#008000;stroke-opacity:0.5;\" x=\"140.346078\" xlink:href=\"#m93fa14e1c5\" y=\"168.260197\"/>\n     <use style=\"fill:#008000;fill-opacity:0.5;stroke:#008000;stroke-opacity:0.5;\" x=\"137.796155\" xlink:href=\"#m93fa14e1c5\" y=\"211.231275\"/>\n     <use style=\"fill:#008000;fill-opacity:0.5;stroke:#008000;stroke-opacity:0.5;\" x=\"183.097281\" xlink:href=\"#m93fa14e1c5\" y=\"150.027578\"/>\n     <use style=\"fill:#008000;fill-opacity:0.5;stroke:#008000;stroke-opacity:0.5;\" x=\"138.407466\" xlink:href=\"#m93fa14e1c5\" y=\"167.817979\"/>\n     <use style=\"fill:#008000;fill-opacity:0.5;stroke:#008000;stroke-opacity:0.5;\" x=\"123.781719\" xlink:href=\"#m93fa14e1c5\" y=\"206.379453\"/>\n     <use style=\"fill:#008000;fill-opacity:0.5;stroke:#008000;stroke-opacity:0.5;\" x=\"207.368118\" xlink:href=\"#m93fa14e1c5\" y=\"126.045282\"/>\n     <use style=\"fill:#008000;fill-opacity:0.5;stroke:#008000;stroke-opacity:0.5;\" x=\"162.289512\" xlink:href=\"#m93fa14e1c5\" y=\"168.347158\"/>\n     <use style=\"fill:#008000;fill-opacity:0.5;stroke:#008000;stroke-opacity:0.5;\" x=\"140.19006\" xlink:href=\"#m93fa14e1c5\" y=\"200.564018\"/>\n     <use style=\"fill:#008000;fill-opacity:0.5;stroke:#008000;stroke-opacity:0.5;\" x=\"196.852667\" xlink:href=\"#m93fa14e1c5\" y=\"153.559069\"/>\n     <use style=\"fill:#008000;fill-opacity:0.5;stroke:#008000;stroke-opacity:0.5;\" x=\"184.847834\" xlink:href=\"#m93fa14e1c5\" y=\"290.259463\"/>\n     <use style=\"fill:#008000;fill-opacity:0.5;stroke:#008000;stroke-opacity:0.5;\" x=\"138.398608\" xlink:href=\"#m93fa14e1c5\" y=\"193.290776\"/>\n     <use style=\"fill:#008000;fill-opacity:0.5;stroke:#008000;stroke-opacity:0.5;\" x=\"201.030946\" xlink:href=\"#m93fa14e1c5\" y=\"201.947133\"/>\n     <use style=\"fill:#008000;fill-opacity:0.5;stroke:#008000;stroke-opacity:0.5;\" x=\"228.543119\" xlink:href=\"#m93fa14e1c5\" y=\"152.707741\"/>\n     <use style=\"fill:#008000;fill-opacity:0.5;stroke:#008000;stroke-opacity:0.5;\" x=\"116.000751\" xlink:href=\"#m93fa14e1c5\" y=\"146.706236\"/>\n     <use style=\"fill:#008000;fill-opacity:0.5;stroke:#008000;stroke-opacity:0.5;\" x=\"201.885161\" xlink:href=\"#m93fa14e1c5\" y=\"173.377225\"/>\n     <use style=\"fill:#008000;fill-opacity:0.5;stroke:#008000;stroke-opacity:0.5;\" x=\"112.54603\" xlink:href=\"#m93fa14e1c5\" y=\"75.916951\"/>\n     <use style=\"fill:#008000;fill-opacity:0.5;stroke:#008000;stroke-opacity:0.5;\" x=\"124.77187\" xlink:href=\"#m93fa14e1c5\" y=\"195.818797\"/>\n     <use style=\"fill:#008000;fill-opacity:0.5;stroke:#008000;stroke-opacity:0.5;\" x=\"228.138636\" xlink:href=\"#m93fa14e1c5\" y=\"160.74507\"/>\n     <use style=\"fill:#008000;fill-opacity:0.5;stroke:#008000;stroke-opacity:0.5;\" x=\"133.424462\" xlink:href=\"#m93fa14e1c5\" y=\"203.252217\"/>\n     <use style=\"fill:#008000;fill-opacity:0.5;stroke:#008000;stroke-opacity:0.5;\" x=\"163.190976\" xlink:href=\"#m93fa14e1c5\" y=\"153.330305\"/>\n     <use style=\"fill:#008000;fill-opacity:0.5;stroke:#008000;stroke-opacity:0.5;\" x=\"123.025258\" xlink:href=\"#m93fa14e1c5\" y=\"211.890931\"/>\n     <use style=\"fill:#008000;fill-opacity:0.5;stroke:#008000;stroke-opacity:0.5;\" x=\"181.7128\" xlink:href=\"#m93fa14e1c5\" y=\"230.877193\"/>\n     <use style=\"fill:#008000;fill-opacity:0.5;stroke:#008000;stroke-opacity:0.5;\" x=\"176.005589\" xlink:href=\"#m93fa14e1c5\" y=\"93.457091\"/>\n     <use style=\"fill:#008000;fill-opacity:0.5;stroke:#008000;stroke-opacity:0.5;\" x=\"156.45168\" xlink:href=\"#m93fa14e1c5\" y=\"74.911991\"/>\n     <use style=\"fill:#008000;fill-opacity:0.5;stroke:#008000;stroke-opacity:0.5;\" x=\"177.238578\" xlink:href=\"#m93fa14e1c5\" y=\"161.36631\"/>\n     <use style=\"fill:#008000;fill-opacity:0.5;stroke:#008000;stroke-opacity:0.5;\" x=\"190.887546\" xlink:href=\"#m93fa14e1c5\" y=\"160.554969\"/>\n     <use style=\"fill:#008000;fill-opacity:0.5;stroke:#008000;stroke-opacity:0.5;\" x=\"143.648382\" xlink:href=\"#m93fa14e1c5\" y=\"186.554722\"/>\n     <use style=\"fill:#008000;fill-opacity:0.5;stroke:#008000;stroke-opacity:0.5;\" x=\"160.628056\" xlink:href=\"#m93fa14e1c5\" y=\"233.154964\"/>\n     <use style=\"fill:#008000;fill-opacity:0.5;stroke:#008000;stroke-opacity:0.5;\" x=\"157.589801\" xlink:href=\"#m93fa14e1c5\" y=\"220.595832\"/>\n     <use style=\"fill:#008000;fill-opacity:0.5;stroke:#008000;stroke-opacity:0.5;\" x=\"108.938808\" xlink:href=\"#m93fa14e1c5\" y=\"183.9764\"/>\n     <use style=\"fill:#008000;fill-opacity:0.5;stroke:#008000;stroke-opacity:0.5;\" x=\"116.369737\" xlink:href=\"#m93fa14e1c5\" y=\"223.839708\"/>\n     <use style=\"fill:#008000;fill-opacity:0.5;stroke:#008000;stroke-opacity:0.5;\" x=\"133.006028\" xlink:href=\"#m93fa14e1c5\" y=\"203.660199\"/>\n     <use style=\"fill:#008000;fill-opacity:0.5;stroke:#008000;stroke-opacity:0.5;\" x=\"138.882407\" xlink:href=\"#m93fa14e1c5\" y=\"110.844018\"/>\n     <use style=\"fill:#008000;fill-opacity:0.5;stroke:#008000;stroke-opacity:0.5;\" x=\"115.381314\" xlink:href=\"#m93fa14e1c5\" y=\"206.741125\"/>\n     <use style=\"fill:#008000;fill-opacity:0.5;stroke:#008000;stroke-opacity:0.5;\" x=\"183.608678\" xlink:href=\"#m93fa14e1c5\" y=\"165.846391\"/>\n     <use style=\"fill:#008000;fill-opacity:0.5;stroke:#008000;stroke-opacity:0.5;\" x=\"153.140582\" xlink:href=\"#m93fa14e1c5\" y=\"210.583933\"/>\n     <use style=\"fill:#008000;fill-opacity:0.5;stroke:#008000;stroke-opacity:0.5;\" x=\"177.830292\" xlink:href=\"#m93fa14e1c5\" y=\"170.609667\"/>\n     <use style=\"fill:#008000;fill-opacity:0.5;stroke:#008000;stroke-opacity:0.5;\" x=\"180.175652\" xlink:href=\"#m93fa14e1c5\" y=\"150.794031\"/>\n     <use style=\"fill:#008000;fill-opacity:0.5;stroke:#008000;stroke-opacity:0.5;\" x=\"187.088388\" xlink:href=\"#m93fa14e1c5\" y=\"225.938123\"/>\n     <use style=\"fill:#008000;fill-opacity:0.5;stroke:#008000;stroke-opacity:0.5;\" x=\"215.026679\" xlink:href=\"#m93fa14e1c5\" y=\"171.224492\"/>\n     <use style=\"fill:#008000;fill-opacity:0.5;stroke:#008000;stroke-opacity:0.5;\" x=\"194.175354\" xlink:href=\"#m93fa14e1c5\" y=\"175.680889\"/>\n     <use style=\"fill:#008000;fill-opacity:0.5;stroke:#008000;stroke-opacity:0.5;\" x=\"225.850308\" xlink:href=\"#m93fa14e1c5\" y=\"139.360863\"/>\n     <use style=\"fill:#008000;fill-opacity:0.5;stroke:#008000;stroke-opacity:0.5;\" x=\"216.851921\" xlink:href=\"#m93fa14e1c5\" y=\"185.446895\"/>\n     <use style=\"fill:#008000;fill-opacity:0.5;stroke:#008000;stroke-opacity:0.5;\" x=\"114.470405\" xlink:href=\"#m93fa14e1c5\" y=\"153.650594\"/>\n     <use style=\"fill:#008000;fill-opacity:0.5;stroke:#008000;stroke-opacity:0.5;\" x=\"166.41422\" xlink:href=\"#m93fa14e1c5\" y=\"181.434824\"/>\n     <use style=\"fill:#008000;fill-opacity:0.5;stroke:#008000;stroke-opacity:0.5;\" x=\"165.303282\" xlink:href=\"#m93fa14e1c5\" y=\"172.900696\"/>\n     <use style=\"fill:#008000;fill-opacity:0.5;stroke:#008000;stroke-opacity:0.5;\" x=\"167.278187\" xlink:href=\"#m93fa14e1c5\" y=\"148.396801\"/>\n     <use style=\"fill:#008000;fill-opacity:0.5;stroke:#008000;stroke-opacity:0.5;\" x=\"203.686494\" xlink:href=\"#m93fa14e1c5\" y=\"177.513798\"/>\n     <use style=\"fill:#008000;fill-opacity:0.5;stroke:#008000;stroke-opacity:0.5;\" x=\"194.612291\" xlink:href=\"#m93fa14e1c5\" y=\"115.299743\"/>\n     <use style=\"fill:#008000;fill-opacity:0.5;stroke:#008000;stroke-opacity:0.5;\" x=\"112.737713\" xlink:href=\"#m93fa14e1c5\" y=\"119.265474\"/>\n     <use style=\"fill:#008000;fill-opacity:0.5;stroke:#008000;stroke-opacity:0.5;\" x=\"168.450022\" xlink:href=\"#m93fa14e1c5\" y=\"141.467443\"/>\n     <use style=\"fill:#008000;fill-opacity:0.5;stroke:#008000;stroke-opacity:0.5;\" x=\"147.494517\" xlink:href=\"#m93fa14e1c5\" y=\"171.879848\"/>\n     <use style=\"fill:#008000;fill-opacity:0.5;stroke:#008000;stroke-opacity:0.5;\" x=\"148.309815\" xlink:href=\"#m93fa14e1c5\" y=\"129.13738\"/>\n     <use style=\"fill:#008000;fill-opacity:0.5;stroke:#008000;stroke-opacity:0.5;\" x=\"166.484758\" xlink:href=\"#m93fa14e1c5\" y=\"111.349806\"/>\n     <use style=\"fill:#008000;fill-opacity:0.5;stroke:#008000;stroke-opacity:0.5;\" x=\"138.14484\" xlink:href=\"#m93fa14e1c5\" y=\"171.747027\"/>\n     <use style=\"fill:#008000;fill-opacity:0.5;stroke:#008000;stroke-opacity:0.5;\" x=\"146.467626\" xlink:href=\"#m93fa14e1c5\" y=\"218.240088\"/>\n     <use style=\"fill:#008000;fill-opacity:0.5;stroke:#008000;stroke-opacity:0.5;\" x=\"254.936262\" xlink:href=\"#m93fa14e1c5\" y=\"168.509658\"/>\n     <use style=\"fill:#008000;fill-opacity:0.5;stroke:#008000;stroke-opacity:0.5;\" x=\"89.723421\" xlink:href=\"#m93fa14e1c5\" y=\"193.669525\"/>\n     <use style=\"fill:#008000;fill-opacity:0.5;stroke:#008000;stroke-opacity:0.5;\" x=\"181.405283\" xlink:href=\"#m93fa14e1c5\" y=\"247.737885\"/>\n     <use style=\"fill:#008000;fill-opacity:0.5;stroke:#008000;stroke-opacity:0.5;\" x=\"248.740218\" xlink:href=\"#m93fa14e1c5\" y=\"188.769277\"/>\n     <use style=\"fill:#008000;fill-opacity:0.5;stroke:#008000;stroke-opacity:0.5;\" x=\"201.19391\" xlink:href=\"#m93fa14e1c5\" y=\"148.593041\"/>\n     <use style=\"fill:#008000;fill-opacity:0.5;stroke:#008000;stroke-opacity:0.5;\" x=\"111.261918\" xlink:href=\"#m93fa14e1c5\" y=\"182.416347\"/>\n     <use style=\"fill:#008000;fill-opacity:0.5;stroke:#008000;stroke-opacity:0.5;\" x=\"180.693192\" xlink:href=\"#m93fa14e1c5\" y=\"186.562664\"/>\n     <use style=\"fill:#008000;fill-opacity:0.5;stroke:#008000;stroke-opacity:0.5;\" x=\"214.589357\" xlink:href=\"#m93fa14e1c5\" y=\"189.400955\"/>\n     <use style=\"fill:#008000;fill-opacity:0.5;stroke:#008000;stroke-opacity:0.5;\" x=\"88.683842\" xlink:href=\"#m93fa14e1c5\" y=\"192.842298\"/>\n     <use style=\"fill:#008000;fill-opacity:0.5;stroke:#008000;stroke-opacity:0.5;\" x=\"74.571854\" xlink:href=\"#m93fa14e1c5\" y=\"197.049456\"/>\n     <use style=\"fill:#008000;fill-opacity:0.5;stroke:#008000;stroke-opacity:0.5;\" x=\"206.870003\" xlink:href=\"#m93fa14e1c5\" y=\"198.610219\"/>\n     <use style=\"fill:#008000;fill-opacity:0.5;stroke:#008000;stroke-opacity:0.5;\" x=\"164.030252\" xlink:href=\"#m93fa14e1c5\" y=\"221.838168\"/>\n     <use style=\"fill:#008000;fill-opacity:0.5;stroke:#008000;stroke-opacity:0.5;\" x=\"185.770687\" xlink:href=\"#m93fa14e1c5\" y=\"122.01985\"/>\n     <use style=\"fill:#008000;fill-opacity:0.5;stroke:#008000;stroke-opacity:0.5;\" x=\"153.491347\" xlink:href=\"#m93fa14e1c5\" y=\"222.962196\"/>\n     <use style=\"fill:#008000;fill-opacity:0.5;stroke:#008000;stroke-opacity:0.5;\" x=\"145.67119\" xlink:href=\"#m93fa14e1c5\" y=\"201.883974\"/>\n     <use style=\"fill:#008000;fill-opacity:0.5;stroke:#008000;stroke-opacity:0.5;\" x=\"144.836422\" xlink:href=\"#m93fa14e1c5\" y=\"176.357683\"/>\n     <use style=\"fill:#008000;fill-opacity:0.5;stroke:#008000;stroke-opacity:0.5;\" x=\"180.158179\" xlink:href=\"#m93fa14e1c5\" y=\"202.777067\"/>\n     <use style=\"fill:#008000;fill-opacity:0.5;stroke:#008000;stroke-opacity:0.5;\" x=\"146.748877\" xlink:href=\"#m93fa14e1c5\" y=\"152.836123\"/>\n     <use style=\"fill:#008000;fill-opacity:0.5;stroke:#008000;stroke-opacity:0.5;\" x=\"95.498326\" xlink:href=\"#m93fa14e1c5\" y=\"193.972862\"/>\n     <use style=\"fill:#008000;fill-opacity:0.5;stroke:#008000;stroke-opacity:0.5;\" x=\"100.292014\" xlink:href=\"#m93fa14e1c5\" y=\"116.15297\"/>\n     <use style=\"fill:#008000;fill-opacity:0.5;stroke:#008000;stroke-opacity:0.5;\" x=\"184.548631\" xlink:href=\"#m93fa14e1c5\" y=\"185.012871\"/>\n     <use style=\"fill:#008000;fill-opacity:0.5;stroke:#008000;stroke-opacity:0.5;\" x=\"206.973092\" xlink:href=\"#m93fa14e1c5\" y=\"173.598526\"/>\n     <use style=\"fill:#008000;fill-opacity:0.5;stroke:#008000;stroke-opacity:0.5;\" x=\"117.560219\" xlink:href=\"#m93fa14e1c5\" y=\"176.548637\"/>\n     <use style=\"fill:#008000;fill-opacity:0.5;stroke:#008000;stroke-opacity:0.5;\" x=\"165.151132\" xlink:href=\"#m93fa14e1c5\" y=\"233.575881\"/>\n     <use style=\"fill:#008000;fill-opacity:0.5;stroke:#008000;stroke-opacity:0.5;\" x=\"151.463285\" xlink:href=\"#m93fa14e1c5\" y=\"170.341003\"/>\n     <use style=\"fill:#008000;fill-opacity:0.5;stroke:#008000;stroke-opacity:0.5;\" x=\"187.665358\" xlink:href=\"#m93fa14e1c5\" y=\"155.677916\"/>\n     <use style=\"fill:#008000;fill-opacity:0.5;stroke:#008000;stroke-opacity:0.5;\" x=\"92.008657\" xlink:href=\"#m93fa14e1c5\" y=\"238.112291\"/>\n     <use style=\"fill:#008000;fill-opacity:0.5;stroke:#008000;stroke-opacity:0.5;\" x=\"157.117195\" xlink:href=\"#m93fa14e1c5\" y=\"68.789158\"/>\n     <use style=\"fill:#008000;fill-opacity:0.5;stroke:#008000;stroke-opacity:0.5;\" x=\"214.665743\" xlink:href=\"#m93fa14e1c5\" y=\"208.282486\"/>\n     <use style=\"fill:#008000;fill-opacity:0.5;stroke:#008000;stroke-opacity:0.5;\" x=\"194.677654\" xlink:href=\"#m93fa14e1c5\" y=\"102.417919\"/>\n     <use style=\"fill:#008000;fill-opacity:0.5;stroke:#008000;stroke-opacity:0.5;\" x=\"192.558156\" xlink:href=\"#m93fa14e1c5\" y=\"188.789214\"/>\n     <use style=\"fill:#008000;fill-opacity:0.5;stroke:#008000;stroke-opacity:0.5;\" x=\"178.60421\" xlink:href=\"#m93fa14e1c5\" y=\"271.141862\"/>\n     <use style=\"fill:#008000;fill-opacity:0.5;stroke:#008000;stroke-opacity:0.5;\" x=\"110.639983\" xlink:href=\"#m93fa14e1c5\" y=\"174.968777\"/>\n     <use style=\"fill:#008000;fill-opacity:0.5;stroke:#008000;stroke-opacity:0.5;\" x=\"160.132692\" xlink:href=\"#m93fa14e1c5\" y=\"182.475016\"/>\n     <use style=\"fill:#008000;fill-opacity:0.5;stroke:#008000;stroke-opacity:0.5;\" x=\"127.526571\" xlink:href=\"#m93fa14e1c5\" y=\"229.191271\"/>\n     <use style=\"fill:#008000;fill-opacity:0.5;stroke:#008000;stroke-opacity:0.5;\" x=\"123.428123\" xlink:href=\"#m93fa14e1c5\" y=\"203.828041\"/>\n     <use style=\"fill:#008000;fill-opacity:0.5;stroke:#008000;stroke-opacity:0.5;\" x=\"127.580815\" xlink:href=\"#m93fa14e1c5\" y=\"177.474963\"/>\n     <use style=\"fill:#008000;fill-opacity:0.5;stroke:#008000;stroke-opacity:0.5;\" x=\"184.618989\" xlink:href=\"#m93fa14e1c5\" y=\"183.808645\"/>\n     <use style=\"fill:#008000;fill-opacity:0.5;stroke:#008000;stroke-opacity:0.5;\" x=\"186.494935\" xlink:href=\"#m93fa14e1c5\" y=\"128.502491\"/>\n     <use style=\"fill:#008000;fill-opacity:0.5;stroke:#008000;stroke-opacity:0.5;\" x=\"160.667122\" xlink:href=\"#m93fa14e1c5\" y=\"72.57974\"/>\n     <use style=\"fill:#008000;fill-opacity:0.5;stroke:#008000;stroke-opacity:0.5;\" x=\"184.242764\" xlink:href=\"#m93fa14e1c5\" y=\"174.013016\"/>\n     <use style=\"fill:#008000;fill-opacity:0.5;stroke:#008000;stroke-opacity:0.5;\" x=\"154.533134\" xlink:href=\"#m93fa14e1c5\" y=\"172.506467\"/>\n     <use style=\"fill:#008000;fill-opacity:0.5;stroke:#008000;stroke-opacity:0.5;\" x=\"229.781036\" xlink:href=\"#m93fa14e1c5\" y=\"130.23392\"/>\n     <use style=\"fill:#008000;fill-opacity:0.5;stroke:#008000;stroke-opacity:0.5;\" x=\"146.022854\" xlink:href=\"#m93fa14e1c5\" y=\"257.896258\"/>\n     <use style=\"fill:#008000;fill-opacity:0.5;stroke:#008000;stroke-opacity:0.5;\" x=\"179.854282\" xlink:href=\"#m93fa14e1c5\" y=\"197.230318\"/>\n     <use style=\"fill:#008000;fill-opacity:0.5;stroke:#008000;stroke-opacity:0.5;\" x=\"227.744029\" xlink:href=\"#m93fa14e1c5\" y=\"182.565643\"/>\n     <use style=\"fill:#008000;fill-opacity:0.5;stroke:#008000;stroke-opacity:0.5;\" x=\"131.393837\" xlink:href=\"#m93fa14e1c5\" y=\"169.506565\"/>\n     <use style=\"fill:#008000;fill-opacity:0.5;stroke:#008000;stroke-opacity:0.5;\" x=\"109.939954\" xlink:href=\"#m93fa14e1c5\" y=\"287.59678\"/>\n     <use style=\"fill:#008000;fill-opacity:0.5;stroke:#008000;stroke-opacity:0.5;\" x=\"165.494663\" xlink:href=\"#m93fa14e1c5\" y=\"176.961575\"/>\n     <use style=\"fill:#008000;fill-opacity:0.5;stroke:#008000;stroke-opacity:0.5;\" x=\"155.217137\" xlink:href=\"#m93fa14e1c5\" y=\"204.028362\"/>\n     <use style=\"fill:#008000;fill-opacity:0.5;stroke:#008000;stroke-opacity:0.5;\" x=\"68.862711\" xlink:href=\"#m93fa14e1c5\" y=\"161.757826\"/>\n     <use style=\"fill:#008000;fill-opacity:0.5;stroke:#008000;stroke-opacity:0.5;\" x=\"185.934193\" xlink:href=\"#m93fa14e1c5\" y=\"154.808833\"/>\n     <use style=\"fill:#008000;fill-opacity:0.5;stroke:#008000;stroke-opacity:0.5;\" x=\"220.158947\" xlink:href=\"#m93fa14e1c5\" y=\"217.266551\"/>\n     <use style=\"fill:#008000;fill-opacity:0.5;stroke:#008000;stroke-opacity:0.5;\" x=\"159.986488\" xlink:href=\"#m93fa14e1c5\" y=\"174.272046\"/>\n     <use style=\"fill:#008000;fill-opacity:0.5;stroke:#008000;stroke-opacity:0.5;\" x=\"107.145646\" xlink:href=\"#m93fa14e1c5\" y=\"145.208206\"/>\n     <use style=\"fill:#008000;fill-opacity:0.5;stroke:#008000;stroke-opacity:0.5;\" x=\"197.257996\" xlink:href=\"#m93fa14e1c5\" y=\"164.46932\"/>\n     <use style=\"fill:#008000;fill-opacity:0.5;stroke:#008000;stroke-opacity:0.5;\" x=\"165.512656\" xlink:href=\"#m93fa14e1c5\" y=\"177.065448\"/>\n     <use style=\"fill:#008000;fill-opacity:0.5;stroke:#008000;stroke-opacity:0.5;\" x=\"172.765014\" xlink:href=\"#m93fa14e1c5\" y=\"133.33656\"/>\n     <use style=\"fill:#008000;fill-opacity:0.5;stroke:#008000;stroke-opacity:0.5;\" x=\"165.576726\" xlink:href=\"#m93fa14e1c5\" y=\"164.435885\"/>\n     <use style=\"fill:#008000;fill-opacity:0.5;stroke:#008000;stroke-opacity:0.5;\" x=\"124.767245\" xlink:href=\"#m93fa14e1c5\" y=\"212.81997\"/>\n     <use style=\"fill:#008000;fill-opacity:0.5;stroke:#008000;stroke-opacity:0.5;\" x=\"68.309907\" xlink:href=\"#m93fa14e1c5\" y=\"160.997857\"/>\n     <use style=\"fill:#008000;fill-opacity:0.5;stroke:#008000;stroke-opacity:0.5;\" x=\"119.720763\" xlink:href=\"#m93fa14e1c5\" y=\"130.243016\"/>\n     <use style=\"fill:#008000;fill-opacity:0.5;stroke:#008000;stroke-opacity:0.5;\" x=\"131.836938\" xlink:href=\"#m93fa14e1c5\" y=\"192.569232\"/>\n     <use style=\"fill:#008000;fill-opacity:0.5;stroke:#008000;stroke-opacity:0.5;\" x=\"84.059878\" xlink:href=\"#m93fa14e1c5\" y=\"182.978804\"/>\n     <use style=\"fill:#008000;fill-opacity:0.5;stroke:#008000;stroke-opacity:0.5;\" x=\"176.651087\" xlink:href=\"#m93fa14e1c5\" y=\"159.475764\"/>\n     <use style=\"fill:#008000;fill-opacity:0.5;stroke:#008000;stroke-opacity:0.5;\" x=\"129.321629\" xlink:href=\"#m93fa14e1c5\" y=\"225.180699\"/>\n     <use style=\"fill:#008000;fill-opacity:0.5;stroke:#008000;stroke-opacity:0.5;\" x=\"161.501646\" xlink:href=\"#m93fa14e1c5\" y=\"208.175759\"/>\n     <use style=\"fill:#008000;fill-opacity:0.5;stroke:#008000;stroke-opacity:0.5;\" x=\"186.238917\" xlink:href=\"#m93fa14e1c5\" y=\"158.224192\"/>\n     <use style=\"fill:#008000;fill-opacity:0.5;stroke:#008000;stroke-opacity:0.5;\" x=\"139.527431\" xlink:href=\"#m93fa14e1c5\" y=\"189.386243\"/>\n     <use style=\"fill:#008000;fill-opacity:0.5;stroke:#008000;stroke-opacity:0.5;\" x=\"172.075989\" xlink:href=\"#m93fa14e1c5\" y=\"260.687118\"/>\n     <use style=\"fill:#008000;fill-opacity:0.5;stroke:#008000;stroke-opacity:0.5;\" x=\"165.44618\" xlink:href=\"#m93fa14e1c5\" y=\"213.279198\"/>\n     <use style=\"fill:#008000;fill-opacity:0.5;stroke:#008000;stroke-opacity:0.5;\" x=\"142.485249\" xlink:href=\"#m93fa14e1c5\" y=\"168.910251\"/>\n     <use style=\"fill:#008000;fill-opacity:0.5;stroke:#008000;stroke-opacity:0.5;\" x=\"133.161801\" xlink:href=\"#m93fa14e1c5\" y=\"229.325066\"/>\n     <use style=\"fill:#008000;fill-opacity:0.5;stroke:#008000;stroke-opacity:0.5;\" x=\"142.742437\" xlink:href=\"#m93fa14e1c5\" y=\"104.629122\"/>\n     <use style=\"fill:#008000;fill-opacity:0.5;stroke:#008000;stroke-opacity:0.5;\" x=\"144.339085\" xlink:href=\"#m93fa14e1c5\" y=\"184.917267\"/>\n     <use style=\"fill:#008000;fill-opacity:0.5;stroke:#008000;stroke-opacity:0.5;\" x=\"118.755642\" xlink:href=\"#m93fa14e1c5\" y=\"192.519047\"/>\n     <use style=\"fill:#008000;fill-opacity:0.5;stroke:#008000;stroke-opacity:0.5;\" x=\"177.26654\" xlink:href=\"#m93fa14e1c5\" y=\"167.170396\"/>\n     <use style=\"fill:#008000;fill-opacity:0.5;stroke:#008000;stroke-opacity:0.5;\" x=\"157.746454\" xlink:href=\"#m93fa14e1c5\" y=\"109.43111\"/>\n     <use style=\"fill:#008000;fill-opacity:0.5;stroke:#008000;stroke-opacity:0.5;\" x=\"153.186792\" xlink:href=\"#m93fa14e1c5\" y=\"195.454855\"/>\n     <use style=\"fill:#008000;fill-opacity:0.5;stroke:#008000;stroke-opacity:0.5;\" x=\"170.14866\" xlink:href=\"#m93fa14e1c5\" y=\"159.966738\"/>\n     <use style=\"fill:#008000;fill-opacity:0.5;stroke:#008000;stroke-opacity:0.5;\" x=\"223.465462\" xlink:href=\"#m93fa14e1c5\" y=\"291.442376\"/>\n     <use style=\"fill:#008000;fill-opacity:0.5;stroke:#008000;stroke-opacity:0.5;\" x=\"174.087802\" xlink:href=\"#m93fa14e1c5\" y=\"169.992855\"/>\n     <use style=\"fill:#008000;fill-opacity:0.5;stroke:#008000;stroke-opacity:0.5;\" x=\"218.773125\" xlink:href=\"#m93fa14e1c5\" y=\"178.86856\"/>\n     <use style=\"fill:#008000;fill-opacity:0.5;stroke:#008000;stroke-opacity:0.5;\" x=\"121.652001\" xlink:href=\"#m93fa14e1c5\" y=\"165.890321\"/>\n     <use style=\"fill:#008000;fill-opacity:0.5;stroke:#008000;stroke-opacity:0.5;\" x=\"70.465133\" xlink:href=\"#m93fa14e1c5\" y=\"178.442889\"/>\n     <use style=\"fill:#008000;fill-opacity:0.5;stroke:#008000;stroke-opacity:0.5;\" x=\"205.591601\" xlink:href=\"#m93fa14e1c5\" y=\"213.147931\"/>\n     <use style=\"fill:#008000;fill-opacity:0.5;stroke:#008000;stroke-opacity:0.5;\" x=\"197.69436\" xlink:href=\"#m93fa14e1c5\" y=\"179.436175\"/>\n     <use style=\"fill:#008000;fill-opacity:0.5;stroke:#008000;stroke-opacity:0.5;\" x=\"146.740635\" xlink:href=\"#m93fa14e1c5\" y=\"145.773395\"/>\n     <use style=\"fill:#008000;fill-opacity:0.5;stroke:#008000;stroke-opacity:0.5;\" x=\"197.558865\" xlink:href=\"#m93fa14e1c5\" y=\"276.058939\"/>\n     <use style=\"fill:#008000;fill-opacity:0.5;stroke:#008000;stroke-opacity:0.5;\" x=\"90.895055\" xlink:href=\"#m93fa14e1c5\" y=\"164.668049\"/>\n     <use style=\"fill:#008000;fill-opacity:0.5;stroke:#008000;stroke-opacity:0.5;\" x=\"71.991526\" xlink:href=\"#m93fa14e1c5\" y=\"205.306977\"/>\n     <use style=\"fill:#008000;fill-opacity:0.5;stroke:#008000;stroke-opacity:0.5;\" x=\"172.809503\" xlink:href=\"#m93fa14e1c5\" y=\"182.820504\"/>\n     <use style=\"fill:#008000;fill-opacity:0.5;stroke:#008000;stroke-opacity:0.5;\" x=\"117.397338\" xlink:href=\"#m93fa14e1c5\" y=\"214.843401\"/>\n     <use style=\"fill:#008000;fill-opacity:0.5;stroke:#008000;stroke-opacity:0.5;\" x=\"127.789956\" xlink:href=\"#m93fa14e1c5\" y=\"157.848646\"/>\n     <use style=\"fill:#008000;fill-opacity:0.5;stroke:#008000;stroke-opacity:0.5;\" x=\"156.283787\" xlink:href=\"#m93fa14e1c5\" y=\"114.201194\"/>\n     <use style=\"fill:#008000;fill-opacity:0.5;stroke:#008000;stroke-opacity:0.5;\" x=\"143.643054\" xlink:href=\"#m93fa14e1c5\" y=\"159.553693\"/>\n     <use style=\"fill:#008000;fill-opacity:0.5;stroke:#008000;stroke-opacity:0.5;\" x=\"134.853233\" xlink:href=\"#m93fa14e1c5\" y=\"159.781356\"/>\n     <use style=\"fill:#008000;fill-opacity:0.5;stroke:#008000;stroke-opacity:0.5;\" x=\"158.58385\" xlink:href=\"#m93fa14e1c5\" y=\"172.438271\"/>\n     <use style=\"fill:#008000;fill-opacity:0.5;stroke:#008000;stroke-opacity:0.5;\" x=\"139.432799\" xlink:href=\"#m93fa14e1c5\" y=\"203.002735\"/>\n     <use style=\"fill:#008000;fill-opacity:0.5;stroke:#008000;stroke-opacity:0.5;\" x=\"208.350429\" xlink:href=\"#m93fa14e1c5\" y=\"174.538524\"/>\n     <use style=\"fill:#008000;fill-opacity:0.5;stroke:#008000;stroke-opacity:0.5;\" x=\"140.726765\" xlink:href=\"#m93fa14e1c5\" y=\"192.58595\"/>\n     <use style=\"fill:#008000;fill-opacity:0.5;stroke:#008000;stroke-opacity:0.5;\" x=\"176.17095\" xlink:href=\"#m93fa14e1c5\" y=\"211.605605\"/>\n     <use style=\"fill:#008000;fill-opacity:0.5;stroke:#008000;stroke-opacity:0.5;\" x=\"133.229113\" xlink:href=\"#m93fa14e1c5\" y=\"253.593005\"/>\n     <use style=\"fill:#008000;fill-opacity:0.5;stroke:#008000;stroke-opacity:0.5;\" x=\"139.020677\" xlink:href=\"#m93fa14e1c5\" y=\"160.07176\"/>\n     <use style=\"fill:#008000;fill-opacity:0.5;stroke:#008000;stroke-opacity:0.5;\" x=\"96.663117\" xlink:href=\"#m93fa14e1c5\" y=\"167.030013\"/>\n     <use style=\"fill:#008000;fill-opacity:0.5;stroke:#008000;stroke-opacity:0.5;\" x=\"161.176967\" xlink:href=\"#m93fa14e1c5\" y=\"162.729396\"/>\n     <use style=\"fill:#008000;fill-opacity:0.5;stroke:#008000;stroke-opacity:0.5;\" x=\"152.901183\" xlink:href=\"#m93fa14e1c5\" y=\"185.511674\"/>\n     <use style=\"fill:#008000;fill-opacity:0.5;stroke:#008000;stroke-opacity:0.5;\" x=\"155.684949\" xlink:href=\"#m93fa14e1c5\" y=\"163.629395\"/>\n     <use style=\"fill:#008000;fill-opacity:0.5;stroke:#008000;stroke-opacity:0.5;\" x=\"114.165787\" xlink:href=\"#m93fa14e1c5\" y=\"216.552104\"/>\n     <use style=\"fill:#008000;fill-opacity:0.5;stroke:#008000;stroke-opacity:0.5;\" x=\"212.269879\" xlink:href=\"#m93fa14e1c5\" y=\"175.377374\"/>\n     <use style=\"fill:#008000;fill-opacity:0.5;stroke:#008000;stroke-opacity:0.5;\" x=\"137.468745\" xlink:href=\"#m93fa14e1c5\" y=\"230.745088\"/>\n     <use style=\"fill:#008000;fill-opacity:0.5;stroke:#008000;stroke-opacity:0.5;\" x=\"179.763878\" xlink:href=\"#m93fa14e1c5\" y=\"177.243158\"/>\n     <use style=\"fill:#008000;fill-opacity:0.5;stroke:#008000;stroke-opacity:0.5;\" x=\"180.27376\" xlink:href=\"#m93fa14e1c5\" y=\"275.040181\"/>\n     <use style=\"fill:#008000;fill-opacity:0.5;stroke:#008000;stroke-opacity:0.5;\" x=\"167.796418\" xlink:href=\"#m93fa14e1c5\" y=\"168.818168\"/>\n     <use style=\"fill:#008000;fill-opacity:0.5;stroke:#008000;stroke-opacity:0.5;\" x=\"180.896067\" xlink:href=\"#m93fa14e1c5\" y=\"208.565267\"/>\n     <use style=\"fill:#008000;fill-opacity:0.5;stroke:#008000;stroke-opacity:0.5;\" x=\"181.499197\" xlink:href=\"#m93fa14e1c5\" y=\"140.535206\"/>\n     <use style=\"fill:#008000;fill-opacity:0.5;stroke:#008000;stroke-opacity:0.5;\" x=\"153.584577\" xlink:href=\"#m93fa14e1c5\" y=\"127.163679\"/>\n     <use style=\"fill:#008000;fill-opacity:0.5;stroke:#008000;stroke-opacity:0.5;\" x=\"179.884858\" xlink:href=\"#m93fa14e1c5\" y=\"92.86175\"/>\n     <use style=\"fill:#008000;fill-opacity:0.5;stroke:#008000;stroke-opacity:0.5;\" x=\"167.548762\" xlink:href=\"#m93fa14e1c5\" y=\"198.851148\"/>\n     <use style=\"fill:#008000;fill-opacity:0.5;stroke:#008000;stroke-opacity:0.5;\" x=\"187.474923\" xlink:href=\"#m93fa14e1c5\" y=\"75.678185\"/>\n     <use style=\"fill:#008000;fill-opacity:0.5;stroke:#008000;stroke-opacity:0.5;\" x=\"229.005734\" xlink:href=\"#m93fa14e1c5\" y=\"187.560251\"/>\n     <use style=\"fill:#008000;fill-opacity:0.5;stroke:#008000;stroke-opacity:0.5;\" x=\"188.117721\" xlink:href=\"#m93fa14e1c5\" y=\"158.051266\"/>\n     <use style=\"fill:#008000;fill-opacity:0.5;stroke:#008000;stroke-opacity:0.5;\" x=\"228.845599\" xlink:href=\"#m93fa14e1c5\" y=\"210.046879\"/>\n     <use style=\"fill:#008000;fill-opacity:0.5;stroke:#008000;stroke-opacity:0.5;\" x=\"121.00842\" xlink:href=\"#m93fa14e1c5\" y=\"129.48107\"/>\n     <use style=\"fill:#008000;fill-opacity:0.5;stroke:#008000;stroke-opacity:0.5;\" x=\"173.666676\" xlink:href=\"#m93fa14e1c5\" y=\"136.692107\"/>\n     <use style=\"fill:#008000;fill-opacity:0.5;stroke:#008000;stroke-opacity:0.5;\" x=\"192.092508\" xlink:href=\"#m93fa14e1c5\" y=\"197.306322\"/>\n     <use style=\"fill:#008000;fill-opacity:0.5;stroke:#008000;stroke-opacity:0.5;\" x=\"221.799255\" xlink:href=\"#m93fa14e1c5\" y=\"95.418558\"/>\n     <use style=\"fill:#008000;fill-opacity:0.5;stroke:#008000;stroke-opacity:0.5;\" x=\"180.438301\" xlink:href=\"#m93fa14e1c5\" y=\"186.296236\"/>\n     <use style=\"fill:#008000;fill-opacity:0.5;stroke:#008000;stroke-opacity:0.5;\" x=\"191.825665\" xlink:href=\"#m93fa14e1c5\" y=\"120.961424\"/>\n     <use style=\"fill:#008000;fill-opacity:0.5;stroke:#008000;stroke-opacity:0.5;\" x=\"224.2492\" xlink:href=\"#m93fa14e1c5\" y=\"207.535793\"/>\n     <use style=\"fill:#008000;fill-opacity:0.5;stroke:#008000;stroke-opacity:0.5;\" x=\"186.842042\" xlink:href=\"#m93fa14e1c5\" y=\"178.838216\"/>\n     <use style=\"fill:#008000;fill-opacity:0.5;stroke:#008000;stroke-opacity:0.5;\" x=\"151.976867\" xlink:href=\"#m93fa14e1c5\" y=\"167.854473\"/>\n     <use style=\"fill:#008000;fill-opacity:0.5;stroke:#008000;stroke-opacity:0.5;\" x=\"173.446588\" xlink:href=\"#m93fa14e1c5\" y=\"148.709001\"/>\n     <use style=\"fill:#008000;fill-opacity:0.5;stroke:#008000;stroke-opacity:0.5;\" x=\"185.229811\" xlink:href=\"#m93fa14e1c5\" y=\"171.972166\"/>\n     <use style=\"fill:#008000;fill-opacity:0.5;stroke:#008000;stroke-opacity:0.5;\" x=\"200.905653\" xlink:href=\"#m93fa14e1c5\" y=\"114.116389\"/>\n     <use style=\"fill:#008000;fill-opacity:0.5;stroke:#008000;stroke-opacity:0.5;\" x=\"158.987435\" xlink:href=\"#m93fa14e1c5\" y=\"153.267297\"/>\n     <use style=\"fill:#008000;fill-opacity:0.5;stroke:#008000;stroke-opacity:0.5;\" x=\"72.891744\" xlink:href=\"#m93fa14e1c5\" y=\"191.679783\"/>\n     <use style=\"fill:#008000;fill-opacity:0.5;stroke:#008000;stroke-opacity:0.5;\" x=\"209.3544\" xlink:href=\"#m93fa14e1c5\" y=\"168.675497\"/>\n     <use style=\"fill:#008000;fill-opacity:0.5;stroke:#008000;stroke-opacity:0.5;\" x=\"111.989168\" xlink:href=\"#m93fa14e1c5\" y=\"213.024499\"/>\n     <use style=\"fill:#008000;fill-opacity:0.5;stroke:#008000;stroke-opacity:0.5;\" x=\"174.868601\" xlink:href=\"#m93fa14e1c5\" y=\"129.576196\"/>\n     <use style=\"fill:#008000;fill-opacity:0.5;stroke:#008000;stroke-opacity:0.5;\" x=\"199.700319\" xlink:href=\"#m93fa14e1c5\" y=\"234.220344\"/>\n     <use style=\"fill:#008000;fill-opacity:0.5;stroke:#008000;stroke-opacity:0.5;\" x=\"118.607405\" xlink:href=\"#m93fa14e1c5\" y=\"168.595375\"/>\n     <use style=\"fill:#008000;fill-opacity:0.5;stroke:#008000;stroke-opacity:0.5;\" x=\"181.928444\" xlink:href=\"#m93fa14e1c5\" y=\"151.255064\"/>\n     <use style=\"fill:#008000;fill-opacity:0.5;stroke:#008000;stroke-opacity:0.5;\" x=\"79.469827\" xlink:href=\"#m93fa14e1c5\" y=\"161.000839\"/>\n     <use style=\"fill:#008000;fill-opacity:0.5;stroke:#008000;stroke-opacity:0.5;\" x=\"210.2793\" xlink:href=\"#m93fa14e1c5\" y=\"241.314447\"/>\n     <use style=\"fill:#008000;fill-opacity:0.5;stroke:#008000;stroke-opacity:0.5;\" x=\"149.328279\" xlink:href=\"#m93fa14e1c5\" y=\"178.677331\"/>\n     <use style=\"fill:#008000;fill-opacity:0.5;stroke:#008000;stroke-opacity:0.5;\" x=\"191.493108\" xlink:href=\"#m93fa14e1c5\" y=\"226.729525\"/>\n     <use style=\"fill:#008000;fill-opacity:0.5;stroke:#008000;stroke-opacity:0.5;\" x=\"161.306797\" xlink:href=\"#m93fa14e1c5\" y=\"200.673949\"/>\n     <use style=\"fill:#008000;fill-opacity:0.5;stroke:#008000;stroke-opacity:0.5;\" x=\"131.682885\" xlink:href=\"#m93fa14e1c5\" y=\"192.771094\"/>\n     <use style=\"fill:#008000;fill-opacity:0.5;stroke:#008000;stroke-opacity:0.5;\" x=\"159.541163\" xlink:href=\"#m93fa14e1c5\" y=\"207.111332\"/>\n     <use style=\"fill:#008000;fill-opacity:0.5;stroke:#008000;stroke-opacity:0.5;\" x=\"188.963338\" xlink:href=\"#m93fa14e1c5\" y=\"88.617606\"/>\n     <use style=\"fill:#008000;fill-opacity:0.5;stroke:#008000;stroke-opacity:0.5;\" x=\"172.111085\" xlink:href=\"#m93fa14e1c5\" y=\"198.599051\"/>\n     <use style=\"fill:#008000;fill-opacity:0.5;stroke:#008000;stroke-opacity:0.5;\" x=\"177.198352\" xlink:href=\"#m93fa14e1c5\" y=\"176.33063\"/>\n     <use style=\"fill:#008000;fill-opacity:0.5;stroke:#008000;stroke-opacity:0.5;\" x=\"182.402814\" xlink:href=\"#m93fa14e1c5\" y=\"121.167852\"/>\n     <use style=\"fill:#008000;fill-opacity:0.5;stroke:#008000;stroke-opacity:0.5;\" x=\"187.148909\" xlink:href=\"#m93fa14e1c5\" y=\"150.987626\"/>\n     <use style=\"fill:#008000;fill-opacity:0.5;stroke:#008000;stroke-opacity:0.5;\" x=\"141.470699\" xlink:href=\"#m93fa14e1c5\" y=\"189.856469\"/>\n     <use style=\"fill:#008000;fill-opacity:0.5;stroke:#008000;stroke-opacity:0.5;\" x=\"136.400101\" xlink:href=\"#m93fa14e1c5\" y=\"162.362703\"/>\n     <use style=\"fill:#008000;fill-opacity:0.5;stroke:#008000;stroke-opacity:0.5;\" x=\"85.529365\" xlink:href=\"#m93fa14e1c5\" y=\"160.356311\"/>\n     <use style=\"fill:#008000;fill-opacity:0.5;stroke:#008000;stroke-opacity:0.5;\" x=\"142.309871\" xlink:href=\"#m93fa14e1c5\" y=\"152.391728\"/>\n     <use style=\"fill:#008000;fill-opacity:0.5;stroke:#008000;stroke-opacity:0.5;\" x=\"163.378376\" xlink:href=\"#m93fa14e1c5\" y=\"120.032087\"/>\n     <use style=\"fill:#008000;fill-opacity:0.5;stroke:#008000;stroke-opacity:0.5;\" x=\"132.230194\" xlink:href=\"#m93fa14e1c5\" y=\"213.513614\"/>\n     <use style=\"fill:#008000;fill-opacity:0.5;stroke:#008000;stroke-opacity:0.5;\" x=\"87.558559\" xlink:href=\"#m93fa14e1c5\" y=\"136.432148\"/>\n     <use style=\"fill:#008000;fill-opacity:0.5;stroke:#008000;stroke-opacity:0.5;\" x=\"181.944702\" xlink:href=\"#m93fa14e1c5\" y=\"203.107762\"/>\n     <use style=\"fill:#008000;fill-opacity:0.5;stroke:#008000;stroke-opacity:0.5;\" x=\"169.920975\" xlink:href=\"#m93fa14e1c5\" y=\"228.232748\"/>\n     <use style=\"fill:#008000;fill-opacity:0.5;stroke:#008000;stroke-opacity:0.5;\" x=\"118.736587\" xlink:href=\"#m93fa14e1c5\" y=\"258.899071\"/>\n     <use style=\"fill:#008000;fill-opacity:0.5;stroke:#008000;stroke-opacity:0.5;\" x=\"179.880183\" xlink:href=\"#m93fa14e1c5\" y=\"201.572517\"/>\n     <use style=\"fill:#008000;fill-opacity:0.5;stroke:#008000;stroke-opacity:0.5;\" x=\"127.531193\" xlink:href=\"#m93fa14e1c5\" y=\"230.321987\"/>\n     <use style=\"fill:#008000;fill-opacity:0.5;stroke:#008000;stroke-opacity:0.5;\" x=\"87.01419\" xlink:href=\"#m93fa14e1c5\" y=\"128.290505\"/>\n     <use style=\"fill:#008000;fill-opacity:0.5;stroke:#008000;stroke-opacity:0.5;\" x=\"148.350978\" xlink:href=\"#m93fa14e1c5\" y=\"127.929385\"/>\n     <use style=\"fill:#008000;fill-opacity:0.5;stroke:#008000;stroke-opacity:0.5;\" x=\"131.479976\" xlink:href=\"#m93fa14e1c5\" y=\"200.519304\"/>\n     <use style=\"fill:#008000;fill-opacity:0.5;stroke:#008000;stroke-opacity:0.5;\" x=\"171.627243\" xlink:href=\"#m93fa14e1c5\" y=\"180.522574\"/>\n     <use style=\"fill:#008000;fill-opacity:0.5;stroke:#008000;stroke-opacity:0.5;\" x=\"142.273927\" xlink:href=\"#m93fa14e1c5\" y=\"186.018329\"/>\n     <use style=\"fill:#008000;fill-opacity:0.5;stroke:#008000;stroke-opacity:0.5;\" x=\"118.325393\" xlink:href=\"#m93fa14e1c5\" y=\"118.190776\"/>\n     <use style=\"fill:#008000;fill-opacity:0.5;stroke:#008000;stroke-opacity:0.5;\" x=\"170.726126\" xlink:href=\"#m93fa14e1c5\" y=\"157.479436\"/>\n     <use style=\"fill:#008000;fill-opacity:0.5;stroke:#008000;stroke-opacity:0.5;\" x=\"161.012687\" xlink:href=\"#m93fa14e1c5\" y=\"138.553068\"/>\n     <use style=\"fill:#008000;fill-opacity:0.5;stroke:#008000;stroke-opacity:0.5;\" x=\"149.287173\" xlink:href=\"#m93fa14e1c5\" y=\"192.382295\"/>\n     <use style=\"fill:#008000;fill-opacity:0.5;stroke:#008000;stroke-opacity:0.5;\" x=\"184.748794\" xlink:href=\"#m93fa14e1c5\" y=\"190.540306\"/>\n     <use style=\"fill:#008000;fill-opacity:0.5;stroke:#008000;stroke-opacity:0.5;\" x=\"111.213868\" xlink:href=\"#m93fa14e1c5\" y=\"217.632864\"/>\n     <use style=\"fill:#008000;fill-opacity:0.5;stroke:#008000;stroke-opacity:0.5;\" x=\"161.208912\" xlink:href=\"#m93fa14e1c5\" y=\"121.757677\"/>\n     <use style=\"fill:#008000;fill-opacity:0.5;stroke:#008000;stroke-opacity:0.5;\" x=\"122.841988\" xlink:href=\"#m93fa14e1c5\" y=\"182.735665\"/>\n     <use style=\"fill:#008000;fill-opacity:0.5;stroke:#008000;stroke-opacity:0.5;\" x=\"153.373939\" xlink:href=\"#m93fa14e1c5\" y=\"144.249525\"/>\n     <use style=\"fill:#008000;fill-opacity:0.5;stroke:#008000;stroke-opacity:0.5;\" x=\"148.980982\" xlink:href=\"#m93fa14e1c5\" y=\"239.533617\"/>\n     <use style=\"fill:#008000;fill-opacity:0.5;stroke:#008000;stroke-opacity:0.5;\" x=\"150.502266\" xlink:href=\"#m93fa14e1c5\" y=\"214.666794\"/>\n     <use style=\"fill:#008000;fill-opacity:0.5;stroke:#008000;stroke-opacity:0.5;\" x=\"120.77683\" xlink:href=\"#m93fa14e1c5\" y=\"154.169083\"/>\n     <use style=\"fill:#008000;fill-opacity:0.5;stroke:#008000;stroke-opacity:0.5;\" x=\"134.149878\" xlink:href=\"#m93fa14e1c5\" y=\"162.036812\"/>\n     <use style=\"fill:#008000;fill-opacity:0.5;stroke:#008000;stroke-opacity:0.5;\" x=\"184.850139\" xlink:href=\"#m93fa14e1c5\" y=\"170.885108\"/>\n     <use style=\"fill:#008000;fill-opacity:0.5;stroke:#008000;stroke-opacity:0.5;\" x=\"138.587397\" xlink:href=\"#m93fa14e1c5\" y=\"263.087897\"/>\n     <use style=\"fill:#008000;fill-opacity:0.5;stroke:#008000;stroke-opacity:0.5;\" x=\"197.820665\" xlink:href=\"#m93fa14e1c5\" y=\"148.842048\"/>\n     <use style=\"fill:#008000;fill-opacity:0.5;stroke:#008000;stroke-opacity:0.5;\" x=\"141.312868\" xlink:href=\"#m93fa14e1c5\" y=\"147.009749\"/>\n     <use style=\"fill:#008000;fill-opacity:0.5;stroke:#008000;stroke-opacity:0.5;\" x=\"122.834832\" xlink:href=\"#m93fa14e1c5\" y=\"115.209591\"/>\n     <use style=\"fill:#008000;fill-opacity:0.5;stroke:#008000;stroke-opacity:0.5;\" x=\"174.37264\" xlink:href=\"#m93fa14e1c5\" y=\"78.206764\"/>\n     <use style=\"fill:#008000;fill-opacity:0.5;stroke:#008000;stroke-opacity:0.5;\" x=\"127.75879\" xlink:href=\"#m93fa14e1c5\" y=\"191.850642\"/>\n     <use style=\"fill:#008000;fill-opacity:0.5;stroke:#008000;stroke-opacity:0.5;\" x=\"165.390695\" xlink:href=\"#m93fa14e1c5\" y=\"225.708969\"/>\n     <use style=\"fill:#008000;fill-opacity:0.5;stroke:#008000;stroke-opacity:0.5;\" x=\"109.876063\" xlink:href=\"#m93fa14e1c5\" y=\"132.668629\"/>\n     <use style=\"fill:#008000;fill-opacity:0.5;stroke:#008000;stroke-opacity:0.5;\" x=\"127.616448\" xlink:href=\"#m93fa14e1c5\" y=\"163.465995\"/>\n     <use style=\"fill:#008000;fill-opacity:0.5;stroke:#008000;stroke-opacity:0.5;\" x=\"118.746276\" xlink:href=\"#m93fa14e1c5\" y=\"149.723855\"/>\n     <use style=\"fill:#008000;fill-opacity:0.5;stroke:#008000;stroke-opacity:0.5;\" x=\"124.416555\" xlink:href=\"#m93fa14e1c5\" y=\"58.189367\"/>\n     <use style=\"fill:#008000;fill-opacity:0.5;stroke:#008000;stroke-opacity:0.5;\" x=\"178.441141\" xlink:href=\"#m93fa14e1c5\" y=\"168.602408\"/>\n     <use style=\"fill:#008000;fill-opacity:0.5;stroke:#008000;stroke-opacity:0.5;\" x=\"186.609111\" xlink:href=\"#m93fa14e1c5\" y=\"174.055893\"/>\n     <use style=\"fill:#008000;fill-opacity:0.5;stroke:#008000;stroke-opacity:0.5;\" x=\"157.284191\" xlink:href=\"#m93fa14e1c5\" y=\"229.428732\"/>\n     <use style=\"fill:#008000;fill-opacity:0.5;stroke:#008000;stroke-opacity:0.5;\" x=\"126.341878\" xlink:href=\"#m93fa14e1c5\" y=\"259.917401\"/>\n     <use style=\"fill:#008000;fill-opacity:0.5;stroke:#008000;stroke-opacity:0.5;\" x=\"169.584314\" xlink:href=\"#m93fa14e1c5\" y=\"211.72372\"/>\n     <use style=\"fill:#008000;fill-opacity:0.5;stroke:#008000;stroke-opacity:0.5;\" x=\"158.44063\" xlink:href=\"#m93fa14e1c5\" y=\"145.511512\"/>\n     <use style=\"fill:#008000;fill-opacity:0.5;stroke:#008000;stroke-opacity:0.5;\" x=\"140.249237\" xlink:href=\"#m93fa14e1c5\" y=\"111.463002\"/>\n     <use style=\"fill:#008000;fill-opacity:0.5;stroke:#008000;stroke-opacity:0.5;\" x=\"172.852432\" xlink:href=\"#m93fa14e1c5\" y=\"221.520665\"/>\n     <use style=\"fill:#008000;fill-opacity:0.5;stroke:#008000;stroke-opacity:0.5;\" x=\"222.615612\" xlink:href=\"#m93fa14e1c5\" y=\"244.035674\"/>\n     <use style=\"fill:#008000;fill-opacity:0.5;stroke:#008000;stroke-opacity:0.5;\" x=\"216.076804\" xlink:href=\"#m93fa14e1c5\" y=\"175.056011\"/>\n     <use style=\"fill:#008000;fill-opacity:0.5;stroke:#008000;stroke-opacity:0.5;\" x=\"185.497681\" xlink:href=\"#m93fa14e1c5\" y=\"150.296301\"/>\n     <use style=\"fill:#008000;fill-opacity:0.5;stroke:#008000;stroke-opacity:0.5;\" x=\"198.954169\" xlink:href=\"#m93fa14e1c5\" y=\"223.983611\"/>\n     <use style=\"fill:#008000;fill-opacity:0.5;stroke:#008000;stroke-opacity:0.5;\" x=\"162.629895\" xlink:href=\"#m93fa14e1c5\" y=\"251.781889\"/>\n     <use style=\"fill:#008000;fill-opacity:0.5;stroke:#008000;stroke-opacity:0.5;\" x=\"202.502565\" xlink:href=\"#m93fa14e1c5\" y=\"169.458104\"/>\n     <use style=\"fill:#008000;fill-opacity:0.5;stroke:#008000;stroke-opacity:0.5;\" x=\"149.97414\" xlink:href=\"#m93fa14e1c5\" y=\"202.74389\"/>\n     <use style=\"fill:#008000;fill-opacity:0.5;stroke:#008000;stroke-opacity:0.5;\" x=\"132.997629\" xlink:href=\"#m93fa14e1c5\" y=\"179.60352\"/>\n     <use style=\"fill:#008000;fill-opacity:0.5;stroke:#008000;stroke-opacity:0.5;\" x=\"141.613513\" xlink:href=\"#m93fa14e1c5\" y=\"147.969918\"/>\n     <use style=\"fill:#008000;fill-opacity:0.5;stroke:#008000;stroke-opacity:0.5;\" x=\"95.24055\" xlink:href=\"#m93fa14e1c5\" y=\"230.279786\"/>\n     <use style=\"fill:#008000;fill-opacity:0.5;stroke:#008000;stroke-opacity:0.5;\" x=\"219.427953\" xlink:href=\"#m93fa14e1c5\" y=\"138.810788\"/>\n     <use style=\"fill:#008000;fill-opacity:0.5;stroke:#008000;stroke-opacity:0.5;\" x=\"124.685624\" xlink:href=\"#m93fa14e1c5\" y=\"186.716192\"/>\n     <use style=\"fill:#008000;fill-opacity:0.5;stroke:#008000;stroke-opacity:0.5;\" x=\"191.527852\" xlink:href=\"#m93fa14e1c5\" y=\"209.692584\"/>\n     <use style=\"fill:#008000;fill-opacity:0.5;stroke:#008000;stroke-opacity:0.5;\" x=\"108.718229\" xlink:href=\"#m93fa14e1c5\" y=\"227.580495\"/>\n     <use style=\"fill:#008000;fill-opacity:0.5;stroke:#008000;stroke-opacity:0.5;\" x=\"130.494097\" xlink:href=\"#m93fa14e1c5\" y=\"204.861798\"/>\n     <use style=\"fill:#008000;fill-opacity:0.5;stroke:#008000;stroke-opacity:0.5;\" x=\"230.344376\" xlink:href=\"#m93fa14e1c5\" y=\"186.229954\"/>\n     <use style=\"fill:#008000;fill-opacity:0.5;stroke:#008000;stroke-opacity:0.5;\" x=\"139.092686\" xlink:href=\"#m93fa14e1c5\" y=\"213.771333\"/>\n     <use style=\"fill:#008000;fill-opacity:0.5;stroke:#008000;stroke-opacity:0.5;\" x=\"167.032618\" xlink:href=\"#m93fa14e1c5\" y=\"197.978609\"/>\n     <use style=\"fill:#008000;fill-opacity:0.5;stroke:#008000;stroke-opacity:0.5;\" x=\"192.638483\" xlink:href=\"#m93fa14e1c5\" y=\"166.486957\"/>\n     <use style=\"fill:#008000;fill-opacity:0.5;stroke:#008000;stroke-opacity:0.5;\" x=\"173.641266\" xlink:href=\"#m93fa14e1c5\" y=\"131.666519\"/>\n     <use style=\"fill:#008000;fill-opacity:0.5;stroke:#008000;stroke-opacity:0.5;\" x=\"147.446168\" xlink:href=\"#m93fa14e1c5\" y=\"174.601784\"/>\n     <use style=\"fill:#008000;fill-opacity:0.5;stroke:#008000;stroke-opacity:0.5;\" x=\"178.524369\" xlink:href=\"#m93fa14e1c5\" y=\"203.120576\"/>\n     <use style=\"fill:#008000;fill-opacity:0.5;stroke:#008000;stroke-opacity:0.5;\" x=\"164.128432\" xlink:href=\"#m93fa14e1c5\" y=\"144.631322\"/>\n     <use style=\"fill:#008000;fill-opacity:0.5;stroke:#008000;stroke-opacity:0.5;\" x=\"188.796611\" xlink:href=\"#m93fa14e1c5\" y=\"174.154932\"/>\n     <use style=\"fill:#008000;fill-opacity:0.5;stroke:#008000;stroke-opacity:0.5;\" x=\"153.708259\" xlink:href=\"#m93fa14e1c5\" y=\"201.469859\"/>\n     <use style=\"fill:#008000;fill-opacity:0.5;stroke:#008000;stroke-opacity:0.5;\" x=\"147.795217\" xlink:href=\"#m93fa14e1c5\" y=\"114.626232\"/>\n     <use style=\"fill:#008000;fill-opacity:0.5;stroke:#008000;stroke-opacity:0.5;\" x=\"150.597008\" xlink:href=\"#m93fa14e1c5\" y=\"259.475558\"/>\n     <use style=\"fill:#008000;fill-opacity:0.5;stroke:#008000;stroke-opacity:0.5;\" x=\"142.341759\" xlink:href=\"#m93fa14e1c5\" y=\"184.572654\"/>\n     <use style=\"fill:#008000;fill-opacity:0.5;stroke:#008000;stroke-opacity:0.5;\" x=\"175.672559\" xlink:href=\"#m93fa14e1c5\" y=\"141.987702\"/>\n     <use style=\"fill:#008000;fill-opacity:0.5;stroke:#008000;stroke-opacity:0.5;\" x=\"152.100324\" xlink:href=\"#m93fa14e1c5\" y=\"219.791437\"/>\n     <use style=\"fill:#008000;fill-opacity:0.5;stroke:#008000;stroke-opacity:0.5;\" x=\"146.667539\" xlink:href=\"#m93fa14e1c5\" y=\"141.027032\"/>\n     <use style=\"fill:#008000;fill-opacity:0.5;stroke:#008000;stroke-opacity:0.5;\" x=\"157.641535\" xlink:href=\"#m93fa14e1c5\" y=\"131.155963\"/>\n     <use style=\"fill:#008000;fill-opacity:0.5;stroke:#008000;stroke-opacity:0.5;\" x=\"188.252509\" xlink:href=\"#m93fa14e1c5\" y=\"147.370205\"/>\n     <use style=\"fill:#008000;fill-opacity:0.5;stroke:#008000;stroke-opacity:0.5;\" x=\"164.856008\" xlink:href=\"#m93fa14e1c5\" y=\"120.84667\"/>\n     <use style=\"fill:#008000;fill-opacity:0.5;stroke:#008000;stroke-opacity:0.5;\" x=\"138.54568\" xlink:href=\"#m93fa14e1c5\" y=\"173.770371\"/>\n     <use style=\"fill:#008000;fill-opacity:0.5;stroke:#008000;stroke-opacity:0.5;\" x=\"196.132867\" xlink:href=\"#m93fa14e1c5\" y=\"202.498403\"/>\n     <use style=\"fill:#008000;fill-opacity:0.5;stroke:#008000;stroke-opacity:0.5;\" x=\"146.341377\" xlink:href=\"#m93fa14e1c5\" y=\"266.961443\"/>\n     <use style=\"fill:#008000;fill-opacity:0.5;stroke:#008000;stroke-opacity:0.5;\" x=\"205.042578\" xlink:href=\"#m93fa14e1c5\" y=\"214.518417\"/>\n     <use style=\"fill:#008000;fill-opacity:0.5;stroke:#008000;stroke-opacity:0.5;\" x=\"114.88848\" xlink:href=\"#m93fa14e1c5\" y=\"145.55274\"/>\n     <use style=\"fill:#008000;fill-opacity:0.5;stroke:#008000;stroke-opacity:0.5;\" x=\"114.244097\" xlink:href=\"#m93fa14e1c5\" y=\"170.116688\"/>\n     <use style=\"fill:#008000;fill-opacity:0.5;stroke:#008000;stroke-opacity:0.5;\" x=\"117.105362\" xlink:href=\"#m93fa14e1c5\" y=\"129.938895\"/>\n     <use style=\"fill:#008000;fill-opacity:0.5;stroke:#008000;stroke-opacity:0.5;\" x=\"123.93398\" xlink:href=\"#m93fa14e1c5\" y=\"128.286831\"/>\n     <use style=\"fill:#008000;fill-opacity:0.5;stroke:#008000;stroke-opacity:0.5;\" x=\"204.174908\" xlink:href=\"#m93fa14e1c5\" y=\"219.944955\"/>\n     <use style=\"fill:#008000;fill-opacity:0.5;stroke:#008000;stroke-opacity:0.5;\" x=\"209.010897\" xlink:href=\"#m93fa14e1c5\" y=\"246.160989\"/>\n     <use style=\"fill:#008000;fill-opacity:0.5;stroke:#008000;stroke-opacity:0.5;\" x=\"168.803283\" xlink:href=\"#m93fa14e1c5\" y=\"146.64643\"/>\n     <use style=\"fill:#008000;fill-opacity:0.5;stroke:#008000;stroke-opacity:0.5;\" x=\"179.573953\" xlink:href=\"#m93fa14e1c5\" y=\"57.201711\"/>\n     <use style=\"fill:#008000;fill-opacity:0.5;stroke:#008000;stroke-opacity:0.5;\" x=\"115.749952\" xlink:href=\"#m93fa14e1c5\" y=\"210.026578\"/>\n     <use style=\"fill:#008000;fill-opacity:0.5;stroke:#008000;stroke-opacity:0.5;\" x=\"173.708279\" xlink:href=\"#m93fa14e1c5\" y=\"164.387203\"/>\n     <use style=\"fill:#008000;fill-opacity:0.5;stroke:#008000;stroke-opacity:0.5;\" x=\"211.684906\" xlink:href=\"#m93fa14e1c5\" y=\"108.320703\"/>\n     <use style=\"fill:#008000;fill-opacity:0.5;stroke:#008000;stroke-opacity:0.5;\" x=\"85.565943\" xlink:href=\"#m93fa14e1c5\" y=\"128.445753\"/>\n     <use style=\"fill:#008000;fill-opacity:0.5;stroke:#008000;stroke-opacity:0.5;\" x=\"160.903594\" xlink:href=\"#m93fa14e1c5\" y=\"116.903975\"/>\n     <use style=\"fill:#008000;fill-opacity:0.5;stroke:#008000;stroke-opacity:0.5;\" x=\"120.273095\" xlink:href=\"#m93fa14e1c5\" y=\"217.77809\"/>\n     <use style=\"fill:#008000;fill-opacity:0.5;stroke:#008000;stroke-opacity:0.5;\" x=\"155.025173\" xlink:href=\"#m93fa14e1c5\" y=\"198.361112\"/>\n     <use style=\"fill:#008000;fill-opacity:0.5;stroke:#008000;stroke-opacity:0.5;\" x=\"171.437789\" xlink:href=\"#m93fa14e1c5\" y=\"150.019355\"/>\n     <use style=\"fill:#008000;fill-opacity:0.5;stroke:#008000;stroke-opacity:0.5;\" x=\"168.111706\" xlink:href=\"#m93fa14e1c5\" y=\"192.906825\"/>\n     <use style=\"fill:#008000;fill-opacity:0.5;stroke:#008000;stroke-opacity:0.5;\" x=\"141.385097\" xlink:href=\"#m93fa14e1c5\" y=\"132.483403\"/>\n     <use style=\"fill:#008000;fill-opacity:0.5;stroke:#008000;stroke-opacity:0.5;\" x=\"192.690873\" xlink:href=\"#m93fa14e1c5\" y=\"200.162713\"/>\n     <use style=\"fill:#008000;fill-opacity:0.5;stroke:#008000;stroke-opacity:0.5;\" x=\"144.35307\" xlink:href=\"#m93fa14e1c5\" y=\"222.368269\"/>\n     <use style=\"fill:#008000;fill-opacity:0.5;stroke:#008000;stroke-opacity:0.5;\" x=\"81.630753\" xlink:href=\"#m93fa14e1c5\" y=\"166.889072\"/>\n     <use style=\"fill:#008000;fill-opacity:0.5;stroke:#008000;stroke-opacity:0.5;\" x=\"136.236479\" xlink:href=\"#m93fa14e1c5\" y=\"116.8857\"/>\n     <use style=\"fill:#008000;fill-opacity:0.5;stroke:#008000;stroke-opacity:0.5;\" x=\"145.115761\" xlink:href=\"#m93fa14e1c5\" y=\"148.025945\"/>\n     <use style=\"fill:#008000;fill-opacity:0.5;stroke:#008000;stroke-opacity:0.5;\" x=\"122.609672\" xlink:href=\"#m93fa14e1c5\" y=\"126.769355\"/>\n     <use style=\"fill:#008000;fill-opacity:0.5;stroke:#008000;stroke-opacity:0.5;\" x=\"200.714426\" xlink:href=\"#m93fa14e1c5\" y=\"140.661693\"/>\n     <use style=\"fill:#008000;fill-opacity:0.5;stroke:#008000;stroke-opacity:0.5;\" x=\"202.192662\" xlink:href=\"#m93fa14e1c5\" y=\"212.464082\"/>\n     <use style=\"fill:#008000;fill-opacity:0.5;stroke:#008000;stroke-opacity:0.5;\" x=\"97.799496\" xlink:href=\"#m93fa14e1c5\" y=\"181.567236\"/>\n     <use style=\"fill:#008000;fill-opacity:0.5;stroke:#008000;stroke-opacity:0.5;\" x=\"60.936087\" xlink:href=\"#m93fa14e1c5\" y=\"167.325093\"/>\n     <use style=\"fill:#008000;fill-opacity:0.5;stroke:#008000;stroke-opacity:0.5;\" x=\"127.061239\" xlink:href=\"#m93fa14e1c5\" y=\"254.10641\"/>\n     <use style=\"fill:#008000;fill-opacity:0.5;stroke:#008000;stroke-opacity:0.5;\" x=\"150.250496\" xlink:href=\"#m93fa14e1c5\" y=\"155.406818\"/>\n     <use style=\"fill:#008000;fill-opacity:0.5;stroke:#008000;stroke-opacity:0.5;\" x=\"184.212549\" xlink:href=\"#m93fa14e1c5\" y=\"183.645263\"/>\n     <use style=\"fill:#008000;fill-opacity:0.5;stroke:#008000;stroke-opacity:0.5;\" x=\"118.369662\" xlink:href=\"#m93fa14e1c5\" y=\"200.835552\"/>\n     <use style=\"fill:#008000;fill-opacity:0.5;stroke:#008000;stroke-opacity:0.5;\" x=\"174.721761\" xlink:href=\"#m93fa14e1c5\" y=\"181.815922\"/>\n     <use style=\"fill:#008000;fill-opacity:0.5;stroke:#008000;stroke-opacity:0.5;\" x=\"128.622038\" xlink:href=\"#m93fa14e1c5\" y=\"236.89567\"/>\n     <use style=\"fill:#008000;fill-opacity:0.5;stroke:#008000;stroke-opacity:0.5;\" x=\"104.337098\" xlink:href=\"#m93fa14e1c5\" y=\"246.153361\"/>\n     <use style=\"fill:#008000;fill-opacity:0.5;stroke:#008000;stroke-opacity:0.5;\" x=\"164.866513\" xlink:href=\"#m93fa14e1c5\" y=\"133.13299\"/>\n     <use style=\"fill:#008000;fill-opacity:0.5;stroke:#008000;stroke-opacity:0.5;\" x=\"135.403082\" xlink:href=\"#m93fa14e1c5\" y=\"203.122587\"/>\n     <use style=\"fill:#008000;fill-opacity:0.5;stroke:#008000;stroke-opacity:0.5;\" x=\"139.533063\" xlink:href=\"#m93fa14e1c5\" y=\"234.42347\"/>\n     <use style=\"fill:#008000;fill-opacity:0.5;stroke:#008000;stroke-opacity:0.5;\" x=\"145.525712\" xlink:href=\"#m93fa14e1c5\" y=\"159.143264\"/>\n     <use style=\"fill:#008000;fill-opacity:0.5;stroke:#008000;stroke-opacity:0.5;\" x=\"137.74676\" xlink:href=\"#m93fa14e1c5\" y=\"168.410032\"/>\n     <use style=\"fill:#008000;fill-opacity:0.5;stroke:#008000;stroke-opacity:0.5;\" x=\"148.190065\" xlink:href=\"#m93fa14e1c5\" y=\"163.902004\"/>\n     <use style=\"fill:#008000;fill-opacity:0.5;stroke:#008000;stroke-opacity:0.5;\" x=\"95.968577\" xlink:href=\"#m93fa14e1c5\" y=\"97.148729\"/>\n     <use style=\"fill:#008000;fill-opacity:0.5;stroke:#008000;stroke-opacity:0.5;\" x=\"177.459417\" xlink:href=\"#m93fa14e1c5\" y=\"118.76627\"/>\n     <use style=\"fill:#008000;fill-opacity:0.5;stroke:#008000;stroke-opacity:0.5;\" x=\"186.075001\" xlink:href=\"#m93fa14e1c5\" y=\"206.478423\"/>\n     <use style=\"fill:#008000;fill-opacity:0.5;stroke:#008000;stroke-opacity:0.5;\" x=\"194.635039\" xlink:href=\"#m93fa14e1c5\" y=\"165.730902\"/>\n     <use style=\"fill:#008000;fill-opacity:0.5;stroke:#008000;stroke-opacity:0.5;\" x=\"151.901137\" xlink:href=\"#m93fa14e1c5\" y=\"225.567771\"/>\n     <use style=\"fill:#008000;fill-opacity:0.5;stroke:#008000;stroke-opacity:0.5;\" x=\"205.841502\" xlink:href=\"#m93fa14e1c5\" y=\"112.285521\"/>\n     <use style=\"fill:#008000;fill-opacity:0.5;stroke:#008000;stroke-opacity:0.5;\" x=\"161.533982\" xlink:href=\"#m93fa14e1c5\" y=\"149.190751\"/>\n     <use style=\"fill:#008000;fill-opacity:0.5;stroke:#008000;stroke-opacity:0.5;\" x=\"198.891954\" xlink:href=\"#m93fa14e1c5\" y=\"139.873544\"/>\n     <use style=\"fill:#008000;fill-opacity:0.5;stroke:#008000;stroke-opacity:0.5;\" x=\"99.857812\" xlink:href=\"#m93fa14e1c5\" y=\"54.013501\"/>\n     <use style=\"fill:#008000;fill-opacity:0.5;stroke:#008000;stroke-opacity:0.5;\" x=\"139.40956\" xlink:href=\"#m93fa14e1c5\" y=\"205.346032\"/>\n     <use style=\"fill:#008000;fill-opacity:0.5;stroke:#008000;stroke-opacity:0.5;\" x=\"187.150606\" xlink:href=\"#m93fa14e1c5\" y=\"240.421714\"/>\n     <use style=\"fill:#008000;fill-opacity:0.5;stroke:#008000;stroke-opacity:0.5;\" x=\"167.870497\" xlink:href=\"#m93fa14e1c5\" y=\"152.826145\"/>\n     <use style=\"fill:#008000;fill-opacity:0.5;stroke:#008000;stroke-opacity:0.5;\" x=\"166.739995\" xlink:href=\"#m93fa14e1c5\" y=\"245.199624\"/>\n     <use style=\"fill:#008000;fill-opacity:0.5;stroke:#008000;stroke-opacity:0.5;\" x=\"172.611368\" xlink:href=\"#m93fa14e1c5\" y=\"195.017082\"/>\n     <use style=\"fill:#008000;fill-opacity:0.5;stroke:#008000;stroke-opacity:0.5;\" x=\"130.174103\" xlink:href=\"#m93fa14e1c5\" y=\"248.196842\"/>\n    </g>\n   </g>\n   <g id=\"matplotlib.axis_1\">\n    <g id=\"xtick_1\">\n     <g id=\"line2d_1\">\n      <defs>\n       <path d=\"M 0 0 \nL 0 3.5 \n\" id=\"md78c851a87\" style=\"stroke:#000000;stroke-width:0.8;\"/>\n      </defs>\n      <g>\n       <use style=\"stroke:#000000;stroke-width:0.8;\" x=\"54.145635\" xlink:href=\"#md78c851a87\" y=\"333.36\"/>\n      </g>\n     </g>\n     <g id=\"text_1\">\n      <!-- −0.04 -->\n      <defs>\n       <path d=\"M 10.59375 35.5 \nL 73.1875 35.5 \nL 73.1875 27.203125 \nL 10.59375 27.203125 \nz\n\" id=\"DejaVuSans-8722\"/>\n       <path d=\"M 31.78125 66.40625 \nQ 24.171875 66.40625 20.328125 58.90625 \nQ 16.5 51.421875 16.5 36.375 \nQ 16.5 21.390625 20.328125 13.890625 \nQ 24.171875 6.390625 31.78125 6.390625 \nQ 39.453125 6.390625 43.28125 13.890625 \nQ 47.125 21.390625 47.125 36.375 \nQ 47.125 51.421875 43.28125 58.90625 \nQ 39.453125 66.40625 31.78125 66.40625 \nz\nM 31.78125 74.21875 \nQ 44.046875 74.21875 50.515625 64.515625 \nQ 56.984375 54.828125 56.984375 36.375 \nQ 56.984375 17.96875 50.515625 8.265625 \nQ 44.046875 -1.421875 31.78125 -1.421875 \nQ 19.53125 -1.421875 13.0625 8.265625 \nQ 6.59375 17.96875 6.59375 36.375 \nQ 6.59375 54.828125 13.0625 64.515625 \nQ 19.53125 74.21875 31.78125 74.21875 \nz\n\" id=\"DejaVuSans-48\"/>\n       <path d=\"M 10.6875 12.40625 \nL 21 12.40625 \nL 21 0 \nL 10.6875 0 \nz\n\" id=\"DejaVuSans-46\"/>\n       <path d=\"M 37.796875 64.3125 \nL 12.890625 25.390625 \nL 37.796875 25.390625 \nz\nM 35.203125 72.90625 \nL 47.609375 72.90625 \nL 47.609375 25.390625 \nL 58.015625 25.390625 \nL 58.015625 17.1875 \nL 47.609375 17.1875 \nL 47.609375 0 \nL 37.796875 0 \nL 37.796875 17.1875 \nL 4.890625 17.1875 \nL 4.890625 26.703125 \nz\n\" id=\"DejaVuSans-52\"/>\n      </defs>\n      <g transform=\"translate(38.822978 347.958438)scale(0.1 -0.1)\">\n       <use xlink:href=\"#DejaVuSans-8722\"/>\n       <use x=\"83.789062\" xlink:href=\"#DejaVuSans-48\"/>\n       <use x=\"147.412109\" xlink:href=\"#DejaVuSans-46\"/>\n       <use x=\"179.199219\" xlink:href=\"#DejaVuSans-48\"/>\n       <use x=\"242.822266\" xlink:href=\"#DejaVuSans-52\"/>\n      </g>\n     </g>\n    </g>\n    <g id=\"xtick_2\">\n     <g id=\"line2d_2\">\n      <g>\n       <use style=\"stroke:#000000;stroke-width:0.8;\" x=\"104.905972\" xlink:href=\"#md78c851a87\" y=\"333.36\"/>\n      </g>\n     </g>\n     <g id=\"text_2\">\n      <!-- −0.02 -->\n      <defs>\n       <path d=\"M 19.1875 8.296875 \nL 53.609375 8.296875 \nL 53.609375 0 \nL 7.328125 0 \nL 7.328125 8.296875 \nQ 12.9375 14.109375 22.625 23.890625 \nQ 32.328125 33.6875 34.8125 36.53125 \nQ 39.546875 41.84375 41.421875 45.53125 \nQ 43.3125 49.21875 43.3125 52.78125 \nQ 43.3125 58.59375 39.234375 62.25 \nQ 35.15625 65.921875 28.609375 65.921875 \nQ 23.96875 65.921875 18.8125 64.3125 \nQ 13.671875 62.703125 7.8125 59.421875 \nL 7.8125 69.390625 \nQ 13.765625 71.78125 18.9375 73 \nQ 24.125 74.21875 28.421875 74.21875 \nQ 39.75 74.21875 46.484375 68.546875 \nQ 53.21875 62.890625 53.21875 53.421875 \nQ 53.21875 48.921875 51.53125 44.890625 \nQ 49.859375 40.875 45.40625 35.40625 \nQ 44.1875 33.984375 37.640625 27.21875 \nQ 31.109375 20.453125 19.1875 8.296875 \nz\n\" id=\"DejaVuSans-50\"/>\n      </defs>\n      <g transform=\"translate(89.583316 347.958438)scale(0.1 -0.1)\">\n       <use xlink:href=\"#DejaVuSans-8722\"/>\n       <use x=\"83.789062\" xlink:href=\"#DejaVuSans-48\"/>\n       <use x=\"147.412109\" xlink:href=\"#DejaVuSans-46\"/>\n       <use x=\"179.199219\" xlink:href=\"#DejaVuSans-48\"/>\n       <use x=\"242.822266\" xlink:href=\"#DejaVuSans-50\"/>\n      </g>\n     </g>\n    </g>\n    <g id=\"xtick_3\">\n     <g id=\"line2d_3\">\n      <g>\n       <use style=\"stroke:#000000;stroke-width:0.8;\" x=\"155.666309\" xlink:href=\"#md78c851a87\" y=\"333.36\"/>\n      </g>\n     </g>\n     <g id=\"text_3\">\n      <!-- 0.00 -->\n      <g transform=\"translate(144.533497 347.958438)scale(0.1 -0.1)\">\n       <use xlink:href=\"#DejaVuSans-48\"/>\n       <use x=\"63.623047\" xlink:href=\"#DejaVuSans-46\"/>\n       <use x=\"95.410156\" xlink:href=\"#DejaVuSans-48\"/>\n       <use x=\"159.033203\" xlink:href=\"#DejaVuSans-48\"/>\n      </g>\n     </g>\n    </g>\n    <g id=\"xtick_4\">\n     <g id=\"line2d_4\">\n      <g>\n       <use style=\"stroke:#000000;stroke-width:0.8;\" x=\"206.426647\" xlink:href=\"#md78c851a87\" y=\"333.36\"/>\n      </g>\n     </g>\n     <g id=\"text_4\">\n      <!-- 0.02 -->\n      <g transform=\"translate(195.293834 347.958438)scale(0.1 -0.1)\">\n       <use xlink:href=\"#DejaVuSans-48\"/>\n       <use x=\"63.623047\" xlink:href=\"#DejaVuSans-46\"/>\n       <use x=\"95.410156\" xlink:href=\"#DejaVuSans-48\"/>\n       <use x=\"159.033203\" xlink:href=\"#DejaVuSans-50\"/>\n      </g>\n     </g>\n    </g>\n    <g id=\"xtick_5\">\n     <g id=\"line2d_5\">\n      <g>\n       <use style=\"stroke:#000000;stroke-width:0.8;\" x=\"257.186984\" xlink:href=\"#md78c851a87\" y=\"333.36\"/>\n      </g>\n     </g>\n     <g id=\"text_5\">\n      <!-- 0.04 -->\n      <g transform=\"translate(246.054171 347.958438)scale(0.1 -0.1)\">\n       <use xlink:href=\"#DejaVuSans-48\"/>\n       <use x=\"63.623047\" xlink:href=\"#DejaVuSans-46\"/>\n       <use x=\"95.410156\" xlink:href=\"#DejaVuSans-48\"/>\n       <use x=\"159.033203\" xlink:href=\"#DejaVuSans-52\"/>\n      </g>\n     </g>\n    </g>\n   </g>\n   <g id=\"matplotlib.axis_2\">\n    <g id=\"ytick_1\">\n     <g id=\"line2d_6\">\n      <defs>\n       <path d=\"M 0 0 \nL -3.5 0 \n\" id=\"m6b12052551\" style=\"stroke:#000000;stroke-width:0.8;\"/>\n      </defs>\n      <g>\n       <use style=\"stroke:#000000;stroke-width:0.8;\" x=\"44.845313\" xlink:href=\"#m6b12052551\" y=\"329.325379\"/>\n      </g>\n     </g>\n     <g id=\"text_6\">\n      <!-- −0.06 -->\n      <defs>\n       <path d=\"M 33.015625 40.375 \nQ 26.375 40.375 22.484375 35.828125 \nQ 18.609375 31.296875 18.609375 23.390625 \nQ 18.609375 15.53125 22.484375 10.953125 \nQ 26.375 6.390625 33.015625 6.390625 \nQ 39.65625 6.390625 43.53125 10.953125 \nQ 47.40625 15.53125 47.40625 23.390625 \nQ 47.40625 31.296875 43.53125 35.828125 \nQ 39.65625 40.375 33.015625 40.375 \nz\nM 52.59375 71.296875 \nL 52.59375 62.3125 \nQ 48.875 64.0625 45.09375 64.984375 \nQ 41.3125 65.921875 37.59375 65.921875 \nQ 27.828125 65.921875 22.671875 59.328125 \nQ 17.53125 52.734375 16.796875 39.40625 \nQ 19.671875 43.65625 24.015625 45.921875 \nQ 28.375 48.1875 33.59375 48.1875 \nQ 44.578125 48.1875 50.953125 41.515625 \nQ 57.328125 34.859375 57.328125 23.390625 \nQ 57.328125 12.15625 50.6875 5.359375 \nQ 44.046875 -1.421875 33.015625 -1.421875 \nQ 20.359375 -1.421875 13.671875 8.265625 \nQ 6.984375 17.96875 6.984375 36.375 \nQ 6.984375 53.65625 15.1875 63.9375 \nQ 23.390625 74.21875 37.203125 74.21875 \nQ 40.921875 74.21875 44.703125 73.484375 \nQ 48.484375 72.75 52.59375 71.296875 \nz\n\" id=\"DejaVuSans-54\"/>\n      </defs>\n      <g transform=\"translate(7.2 333.124598)scale(0.1 -0.1)\">\n       <use xlink:href=\"#DejaVuSans-8722\"/>\n       <use x=\"83.789062\" xlink:href=\"#DejaVuSans-48\"/>\n       <use x=\"147.412109\" xlink:href=\"#DejaVuSans-46\"/>\n       <use x=\"179.199219\" xlink:href=\"#DejaVuSans-48\"/>\n       <use x=\"242.822266\" xlink:href=\"#DejaVuSans-54\"/>\n      </g>\n     </g>\n    </g>\n    <g id=\"ytick_2\">\n     <g id=\"line2d_7\">\n      <g>\n       <use style=\"stroke:#000000;stroke-width:0.8;\" x=\"44.845313\" xlink:href=\"#m6b12052551\" y=\"278.565042\"/>\n      </g>\n     </g>\n     <g id=\"text_7\">\n      <!-- −0.04 -->\n      <g transform=\"translate(7.2 282.364261)scale(0.1 -0.1)\">\n       <use xlink:href=\"#DejaVuSans-8722\"/>\n       <use x=\"83.789062\" xlink:href=\"#DejaVuSans-48\"/>\n       <use x=\"147.412109\" xlink:href=\"#DejaVuSans-46\"/>\n       <use x=\"179.199219\" xlink:href=\"#DejaVuSans-48\"/>\n       <use x=\"242.822266\" xlink:href=\"#DejaVuSans-52\"/>\n      </g>\n     </g>\n    </g>\n    <g id=\"ytick_3\">\n     <g id=\"line2d_8\">\n      <g>\n       <use style=\"stroke:#000000;stroke-width:0.8;\" x=\"44.845313\" xlink:href=\"#m6b12052551\" y=\"227.804705\"/>\n      </g>\n     </g>\n     <g id=\"text_8\">\n      <!-- −0.02 -->\n      <g transform=\"translate(7.2 231.603923)scale(0.1 -0.1)\">\n       <use xlink:href=\"#DejaVuSans-8722\"/>\n       <use x=\"83.789062\" xlink:href=\"#DejaVuSans-48\"/>\n       <use x=\"147.412109\" xlink:href=\"#DejaVuSans-46\"/>\n       <use x=\"179.199219\" xlink:href=\"#DejaVuSans-48\"/>\n       <use x=\"242.822266\" xlink:href=\"#DejaVuSans-50\"/>\n      </g>\n     </g>\n    </g>\n    <g id=\"ytick_4\">\n     <g id=\"line2d_9\">\n      <g>\n       <use style=\"stroke:#000000;stroke-width:0.8;\" x=\"44.845313\" xlink:href=\"#m6b12052551\" y=\"177.044367\"/>\n      </g>\n     </g>\n     <g id=\"text_9\">\n      <!-- 0.00 -->\n      <g transform=\"translate(15.579688 180.843586)scale(0.1 -0.1)\">\n       <use xlink:href=\"#DejaVuSans-48\"/>\n       <use x=\"63.623047\" xlink:href=\"#DejaVuSans-46\"/>\n       <use x=\"95.410156\" xlink:href=\"#DejaVuSans-48\"/>\n       <use x=\"159.033203\" xlink:href=\"#DejaVuSans-48\"/>\n      </g>\n     </g>\n    </g>\n    <g id=\"ytick_5\">\n     <g id=\"line2d_10\">\n      <g>\n       <use style=\"stroke:#000000;stroke-width:0.8;\" x=\"44.845313\" xlink:href=\"#m6b12052551\" y=\"126.28403\"/>\n      </g>\n     </g>\n     <g id=\"text_10\">\n      <!-- 0.02 -->\n      <g transform=\"translate(15.579688 130.083249)scale(0.1 -0.1)\">\n       <use xlink:href=\"#DejaVuSans-48\"/>\n       <use x=\"63.623047\" xlink:href=\"#DejaVuSans-46\"/>\n       <use x=\"95.410156\" xlink:href=\"#DejaVuSans-48\"/>\n       <use x=\"159.033203\" xlink:href=\"#DejaVuSans-50\"/>\n      </g>\n     </g>\n    </g>\n    <g id=\"ytick_6\">\n     <g id=\"line2d_11\">\n      <g>\n       <use style=\"stroke:#000000;stroke-width:0.8;\" x=\"44.845313\" xlink:href=\"#m6b12052551\" y=\"75.523693\"/>\n      </g>\n     </g>\n     <g id=\"text_11\">\n      <!-- 0.04 -->\n      <g transform=\"translate(15.579688 79.322911)scale(0.1 -0.1)\">\n       <use xlink:href=\"#DejaVuSans-48\"/>\n       <use x=\"63.623047\" xlink:href=\"#DejaVuSans-46\"/>\n       <use x=\"95.410156\" xlink:href=\"#DejaVuSans-48\"/>\n       <use x=\"159.033203\" xlink:href=\"#DejaVuSans-52\"/>\n      </g>\n     </g>\n    </g>\n    <g id=\"ytick_7\">\n     <g id=\"line2d_12\">\n      <g>\n       <use style=\"stroke:#000000;stroke-width:0.8;\" x=\"44.845313\" xlink:href=\"#m6b12052551\" y=\"24.763355\"/>\n      </g>\n     </g>\n     <g id=\"text_12\">\n      <!-- 0.06 -->\n      <g transform=\"translate(15.579688 28.562574)scale(0.1 -0.1)\">\n       <use xlink:href=\"#DejaVuSans-48\"/>\n       <use x=\"63.623047\" xlink:href=\"#DejaVuSans-46\"/>\n       <use x=\"95.410156\" xlink:href=\"#DejaVuSans-48\"/>\n       <use x=\"159.033203\" xlink:href=\"#DejaVuSans-54\"/>\n      </g>\n     </g>\n    </g>\n   </g>\n   <g id=\"patch_3\">\n    <path d=\"M 44.845313 333.36 \nL 44.845313 7.2 \n\" style=\"fill:none;stroke:#000000;stroke-linecap:square;stroke-linejoin:miter;stroke-width:0.8;\"/>\n   </g>\n   <g id=\"patch_4\">\n    <path d=\"M 298.743976 333.36 \nL 298.743976 7.2 \n\" style=\"fill:none;stroke:#000000;stroke-linecap:square;stroke-linejoin:miter;stroke-width:0.8;\"/>\n   </g>\n   <g id=\"patch_5\">\n    <path d=\"M 44.845313 333.36 \nL 298.743976 333.36 \n\" style=\"fill:none;stroke:#000000;stroke-linecap:square;stroke-linejoin:miter;stroke-width:0.8;\"/>\n   </g>\n   <g id=\"patch_6\">\n    <path d=\"M 44.845313 7.2 \nL 298.743976 7.2 \n\" style=\"fill:none;stroke:#000000;stroke-linecap:square;stroke-linejoin:miter;stroke-width:0.8;\"/>\n   </g>\n  </g>\n  <g id=\"axes_2\">\n   <g id=\"patch_7\">\n    <path d=\"M 399.33943 333.36 \nL 653.238094 333.36 \nL 653.238094 7.2 \nL 399.33943 7.2 \nz\n\" style=\"fill:#ffffff;\"/>\n   </g>\n   <g id=\"PathCollection_2\">\n    <g clip-path=\"url(#pfe34801eb9)\">\n     <use style=\"fill:#008000;fill-opacity:0.5;stroke:#008000;stroke-opacity:0.5;\" x=\"553.786615\" xlink:href=\"#m93fa14e1c5\" y=\"109.006522\"/>\n     <use style=\"fill:#008000;fill-opacity:0.5;stroke:#008000;stroke-opacity:0.5;\" x=\"480.011965\" xlink:href=\"#m93fa14e1c5\" y=\"193.824126\"/>\n     <use style=\"fill:#008000;fill-opacity:0.5;stroke:#008000;stroke-opacity:0.5;\" x=\"427.800539\" xlink:href=\"#m93fa14e1c5\" y=\"162.429082\"/>\n     <use style=\"fill:#008000;fill-opacity:0.5;stroke:#008000;stroke-opacity:0.5;\" x=\"595.774195\" xlink:href=\"#m93fa14e1c5\" y=\"101.240621\"/>\n     <use style=\"fill:#008000;fill-opacity:0.5;stroke:#008000;stroke-opacity:0.5;\" x=\"556.093365\" xlink:href=\"#m93fa14e1c5\" y=\"204.338637\"/>\n     <use style=\"fill:#008000;fill-opacity:0.5;stroke:#008000;stroke-opacity:0.5;\" x=\"495.082944\" xlink:href=\"#m93fa14e1c5\" y=\"179.713059\"/>\n     <use style=\"fill:#008000;fill-opacity:0.5;stroke:#008000;stroke-opacity:0.5;\" x=\"493.732249\" xlink:href=\"#m93fa14e1c5\" y=\"206.911325\"/>\n     <use style=\"fill:#008000;fill-opacity:0.5;stroke:#008000;stroke-opacity:0.5;\" x=\"512.10084\" xlink:href=\"#m93fa14e1c5\" y=\"166.035955\"/>\n     <use style=\"fill:#008000;fill-opacity:0.5;stroke:#008000;stroke-opacity:0.5;\" x=\"526.964449\" xlink:href=\"#m93fa14e1c5\" y=\"179.690362\"/>\n     <use style=\"fill:#008000;fill-opacity:0.5;stroke:#008000;stroke-opacity:0.5;\" x=\"497.172715\" xlink:href=\"#m93fa14e1c5\" y=\"181.433954\"/>\n     <use style=\"fill:#008000;fill-opacity:0.5;stroke:#008000;stroke-opacity:0.5;\" x=\"538.76906\" xlink:href=\"#m93fa14e1c5\" y=\"159.001676\"/>\n     <use style=\"fill:#008000;fill-opacity:0.5;stroke:#008000;stroke-opacity:0.5;\" x=\"579.277513\" xlink:href=\"#m93fa14e1c5\" y=\"141.726713\"/>\n     <use style=\"fill:#008000;fill-opacity:0.5;stroke:#008000;stroke-opacity:0.5;\" x=\"442.204447\" xlink:href=\"#m93fa14e1c5\" y=\"153.390141\"/>\n     <use style=\"fill:#008000;fill-opacity:0.5;stroke:#008000;stroke-opacity:0.5;\" x=\"530.917161\" xlink:href=\"#m93fa14e1c5\" y=\"200.533131\"/>\n     <use style=\"fill:#008000;fill-opacity:0.5;stroke:#008000;stroke-opacity:0.5;\" x=\"520.366651\" xlink:href=\"#m93fa14e1c5\" y=\"191.97844\"/>\n     <use style=\"fill:#008000;fill-opacity:0.5;stroke:#008000;stroke-opacity:0.5;\" x=\"562.761542\" xlink:href=\"#m93fa14e1c5\" y=\"152.750722\"/>\n     <use style=\"fill:#008000;fill-opacity:0.5;stroke:#008000;stroke-opacity:0.5;\" x=\"509.448123\" xlink:href=\"#m93fa14e1c5\" y=\"256.732386\"/>\n     <use style=\"fill:#008000;fill-opacity:0.5;stroke:#008000;stroke-opacity:0.5;\" x=\"468.364341\" xlink:href=\"#m93fa14e1c5\" y=\"169.808391\"/>\n     <use style=\"fill:#008000;fill-opacity:0.5;stroke:#008000;stroke-opacity:0.5;\" x=\"468.994006\" xlink:href=\"#m93fa14e1c5\" y=\"226.099421\"/>\n     <use style=\"fill:#008000;fill-opacity:0.5;stroke:#008000;stroke-opacity:0.5;\" x=\"514.130812\" xlink:href=\"#m93fa14e1c5\" y=\"214.573734\"/>\n     <use style=\"fill:#008000;fill-opacity:0.5;stroke:#008000;stroke-opacity:0.5;\" x=\"554.469543\" xlink:href=\"#m93fa14e1c5\" y=\"124.64363\"/>\n     <use style=\"fill:#008000;fill-opacity:0.5;stroke:#008000;stroke-opacity:0.5;\" x=\"498.836347\" xlink:href=\"#m93fa14e1c5\" y=\"186.270641\"/>\n     <use style=\"fill:#008000;fill-opacity:0.5;stroke:#008000;stroke-opacity:0.5;\" x=\"511.679549\" xlink:href=\"#m93fa14e1c5\" y=\"229.874495\"/>\n     <use style=\"fill:#008000;fill-opacity:0.5;stroke:#008000;stroke-opacity:0.5;\" x=\"498.243701\" xlink:href=\"#m93fa14e1c5\" y=\"201.862776\"/>\n     <use style=\"fill:#008000;fill-opacity:0.5;stroke:#008000;stroke-opacity:0.5;\" x=\"598.35173\" xlink:href=\"#m93fa14e1c5\" y=\"202.854213\"/>\n     <use style=\"fill:#008000;fill-opacity:0.5;stroke:#008000;stroke-opacity:0.5;\" x=\"547.885966\" xlink:href=\"#m93fa14e1c5\" y=\"154.530471\"/>\n     <use style=\"fill:#008000;fill-opacity:0.5;stroke:#008000;stroke-opacity:0.5;\" x=\"464.513025\" xlink:href=\"#m93fa14e1c5\" y=\"200.480603\"/>\n     <use style=\"fill:#008000;fill-opacity:0.5;stroke:#008000;stroke-opacity:0.5;\" x=\"564.796582\" xlink:href=\"#m93fa14e1c5\" y=\"231.849526\"/>\n     <use style=\"fill:#008000;fill-opacity:0.5;stroke:#008000;stroke-opacity:0.5;\" x=\"473.180292\" xlink:href=\"#m93fa14e1c5\" y=\"237.817293\"/>\n     <use style=\"fill:#008000;fill-opacity:0.5;stroke:#008000;stroke-opacity:0.5;\" x=\"536.2354\" xlink:href=\"#m93fa14e1c5\" y=\"205.826517\"/>\n     <use style=\"fill:#008000;fill-opacity:0.5;stroke:#008000;stroke-opacity:0.5;\" x=\"455.155074\" xlink:href=\"#m93fa14e1c5\" y=\"60.676834\"/>\n     <use style=\"fill:#008000;fill-opacity:0.5;stroke:#008000;stroke-opacity:0.5;\" x=\"556.008865\" xlink:href=\"#m93fa14e1c5\" y=\"219.165128\"/>\n     <use style=\"fill:#008000;fill-opacity:0.5;stroke:#008000;stroke-opacity:0.5;\" x=\"463.133673\" xlink:href=\"#m93fa14e1c5\" y=\"166.516778\"/>\n     <use style=\"fill:#008000;fill-opacity:0.5;stroke:#008000;stroke-opacity:0.5;\" x=\"519.601877\" xlink:href=\"#m93fa14e1c5\" y=\"202.246207\"/>\n     <use style=\"fill:#008000;fill-opacity:0.5;stroke:#008000;stroke-opacity:0.5;\" x=\"531.188425\" xlink:href=\"#m93fa14e1c5\" y=\"196.426082\"/>\n     <use style=\"fill:#008000;fill-opacity:0.5;stroke:#008000;stroke-opacity:0.5;\" x=\"509.501949\" xlink:href=\"#m93fa14e1c5\" y=\"148.358883\"/>\n     <use style=\"fill:#008000;fill-opacity:0.5;stroke:#008000;stroke-opacity:0.5;\" x=\"489.370783\" xlink:href=\"#m93fa14e1c5\" y=\"119.229609\"/>\n     <use style=\"fill:#008000;fill-opacity:0.5;stroke:#008000;stroke-opacity:0.5;\" x=\"512.313833\" xlink:href=\"#m93fa14e1c5\" y=\"194.853545\"/>\n     <use style=\"fill:#008000;fill-opacity:0.5;stroke:#008000;stroke-opacity:0.5;\" x=\"463.5414\" xlink:href=\"#m93fa14e1c5\" y=\"173.116241\"/>\n     <use style=\"fill:#008000;fill-opacity:0.5;stroke:#008000;stroke-opacity:0.5;\" x=\"508.266034\" xlink:href=\"#m93fa14e1c5\" y=\"133.612311\"/>\n     <use style=\"fill:#008000;fill-opacity:0.5;stroke:#008000;stroke-opacity:0.5;\" x=\"517.839087\" xlink:href=\"#m93fa14e1c5\" y=\"196.006376\"/>\n     <use style=\"fill:#008000;fill-opacity:0.5;stroke:#008000;stroke-opacity:0.5;\" x=\"546.266521\" xlink:href=\"#m93fa14e1c5\" y=\"177.967782\"/>\n     <use style=\"fill:#008000;fill-opacity:0.5;stroke:#008000;stroke-opacity:0.5;\" x=\"496.297706\" xlink:href=\"#m93fa14e1c5\" y=\"207.564751\"/>\n     <use style=\"fill:#008000;fill-opacity:0.5;stroke:#008000;stroke-opacity:0.5;\" x=\"500.945186\" xlink:href=\"#m93fa14e1c5\" y=\"180.918416\"/>\n     <use style=\"fill:#008000;fill-opacity:0.5;stroke:#008000;stroke-opacity:0.5;\" x=\"526.599684\" xlink:href=\"#m93fa14e1c5\" y=\"219.41979\"/>\n     <use style=\"fill:#008000;fill-opacity:0.5;stroke:#008000;stroke-opacity:0.5;\" x=\"462.135228\" xlink:href=\"#m93fa14e1c5\" y=\"160.274819\"/>\n     <use style=\"fill:#008000;fill-opacity:0.5;stroke:#008000;stroke-opacity:0.5;\" x=\"456.666353\" xlink:href=\"#m93fa14e1c5\" y=\"184.104635\"/>\n     <use style=\"fill:#008000;fill-opacity:0.5;stroke:#008000;stroke-opacity:0.5;\" x=\"500.104182\" xlink:href=\"#m93fa14e1c5\" y=\"182.724599\"/>\n     <use style=\"fill:#008000;fill-opacity:0.5;stroke:#008000;stroke-opacity:0.5;\" x=\"465.970241\" xlink:href=\"#m93fa14e1c5\" y=\"128.907073\"/>\n     <use style=\"fill:#008000;fill-opacity:0.5;stroke:#008000;stroke-opacity:0.5;\" x=\"445.412619\" xlink:href=\"#m93fa14e1c5\" y=\"119.942839\"/>\n     <use style=\"fill:#008000;fill-opacity:0.5;stroke:#008000;stroke-opacity:0.5;\" x=\"441.561092\" xlink:href=\"#m93fa14e1c5\" y=\"198.654435\"/>\n     <use style=\"fill:#008000;fill-opacity:0.5;stroke:#008000;stroke-opacity:0.5;\" x=\"449.108636\" xlink:href=\"#m93fa14e1c5\" y=\"183.093634\"/>\n     <use style=\"fill:#008000;fill-opacity:0.5;stroke:#008000;stroke-opacity:0.5;\" x=\"534.320274\" xlink:href=\"#m93fa14e1c5\" y=\"192.130101\"/>\n     <use style=\"fill:#008000;fill-opacity:0.5;stroke:#008000;stroke-opacity:0.5;\" x=\"520.451397\" xlink:href=\"#m93fa14e1c5\" y=\"234.624442\"/>\n     <use style=\"fill:#008000;fill-opacity:0.5;stroke:#008000;stroke-opacity:0.5;\" x=\"503.285603\" xlink:href=\"#m93fa14e1c5\" y=\"167.295679\"/>\n     <use style=\"fill:#008000;fill-opacity:0.5;stroke:#008000;stroke-opacity:0.5;\" x=\"475.361806\" xlink:href=\"#m93fa14e1c5\" y=\"258.122373\"/>\n     <use style=\"fill:#008000;fill-opacity:0.5;stroke:#008000;stroke-opacity:0.5;\" x=\"617.823567\" xlink:href=\"#m93fa14e1c5\" y=\"192.449002\"/>\n     <use style=\"fill:#008000;fill-opacity:0.5;stroke:#008000;stroke-opacity:0.5;\" x=\"592.04889\" xlink:href=\"#m93fa14e1c5\" y=\"171.299754\"/>\n     <use style=\"fill:#008000;fill-opacity:0.5;stroke:#008000;stroke-opacity:0.5;\" x=\"513.637111\" xlink:href=\"#m93fa14e1c5\" y=\"206.505659\"/>\n     <use style=\"fill:#008000;fill-opacity:0.5;stroke:#008000;stroke-opacity:0.5;\" x=\"521.971424\" xlink:href=\"#m93fa14e1c5\" y=\"192.432608\"/>\n     <use style=\"fill:#008000;fill-opacity:0.5;stroke:#008000;stroke-opacity:0.5;\" x=\"486.915267\" xlink:href=\"#m93fa14e1c5\" y=\"215.938347\"/>\n     <use style=\"fill:#008000;fill-opacity:0.5;stroke:#008000;stroke-opacity:0.5;\" x=\"492.951658\" xlink:href=\"#m93fa14e1c5\" y=\"201.391812\"/>\n     <use style=\"fill:#008000;fill-opacity:0.5;stroke:#008000;stroke-opacity:0.5;\" x=\"480.283778\" xlink:href=\"#m93fa14e1c5\" y=\"270.168901\"/>\n     <use style=\"fill:#008000;fill-opacity:0.5;stroke:#008000;stroke-opacity:0.5;\" x=\"525.683683\" xlink:href=\"#m93fa14e1c5\" y=\"103.003387\"/>\n     <use style=\"fill:#008000;fill-opacity:0.5;stroke:#008000;stroke-opacity:0.5;\" x=\"497.371374\" xlink:href=\"#m93fa14e1c5\" y=\"194.394218\"/>\n     <use style=\"fill:#008000;fill-opacity:0.5;stroke:#008000;stroke-opacity:0.5;\" x=\"480.189247\" xlink:href=\"#m93fa14e1c5\" y=\"158.401545\"/>\n     <use style=\"fill:#008000;fill-opacity:0.5;stroke:#008000;stroke-opacity:0.5;\" x=\"515.801399\" xlink:href=\"#m93fa14e1c5\" y=\"118.999039\"/>\n     <use style=\"fill:#008000;fill-opacity:0.5;stroke:#008000;stroke-opacity:0.5;\" x=\"573.480823\" xlink:href=\"#m93fa14e1c5\" y=\"158.89276\"/>\n     <use style=\"fill:#008000;fill-opacity:0.5;stroke:#008000;stroke-opacity:0.5;\" x=\"502.291875\" xlink:href=\"#m93fa14e1c5\" y=\"179.495383\"/>\n     <use style=\"fill:#008000;fill-opacity:0.5;stroke:#008000;stroke-opacity:0.5;\" x=\"460.839915\" xlink:href=\"#m93fa14e1c5\" y=\"187.704201\"/>\n     <use style=\"fill:#008000;fill-opacity:0.5;stroke:#008000;stroke-opacity:0.5;\" x=\"450.597369\" xlink:href=\"#m93fa14e1c5\" y=\"181.626311\"/>\n     <use style=\"fill:#008000;fill-opacity:0.5;stroke:#008000;stroke-opacity:0.5;\" x=\"530.655024\" xlink:href=\"#m93fa14e1c5\" y=\"250.960305\"/>\n     <use style=\"fill:#008000;fill-opacity:0.5;stroke:#008000;stroke-opacity:0.5;\" x=\"482.915171\" xlink:href=\"#m93fa14e1c5\" y=\"179.48227\"/>\n     <use style=\"fill:#008000;fill-opacity:0.5;stroke:#008000;stroke-opacity:0.5;\" x=\"520.766465\" xlink:href=\"#m93fa14e1c5\" y=\"227.229375\"/>\n     <use style=\"fill:#008000;fill-opacity:0.5;stroke:#008000;stroke-opacity:0.5;\" x=\"482.285882\" xlink:href=\"#m93fa14e1c5\" y=\"195.96041\"/>\n     <use style=\"fill:#008000;fill-opacity:0.5;stroke:#008000;stroke-opacity:0.5;\" x=\"496.534036\" xlink:href=\"#m93fa14e1c5\" y=\"155.957203\"/>\n     <use style=\"fill:#008000;fill-opacity:0.5;stroke:#008000;stroke-opacity:0.5;\" x=\"468.393589\" xlink:href=\"#m93fa14e1c5\" y=\"140.930479\"/>\n     <use style=\"fill:#008000;fill-opacity:0.5;stroke:#008000;stroke-opacity:0.5;\" x=\"528.44533\" xlink:href=\"#m93fa14e1c5\" y=\"132.341121\"/>\n     <use style=\"fill:#008000;fill-opacity:0.5;stroke:#008000;stroke-opacity:0.5;\" x=\"577.251039\" xlink:href=\"#m93fa14e1c5\" y=\"192.486832\"/>\n     <use style=\"fill:#008000;fill-opacity:0.5;stroke:#008000;stroke-opacity:0.5;\" x=\"507.057404\" xlink:href=\"#m93fa14e1c5\" y=\"232.23295\"/>\n     <use style=\"fill:#008000;fill-opacity:0.5;stroke:#008000;stroke-opacity:0.5;\" x=\"523.695162\" xlink:href=\"#m93fa14e1c5\" y=\"191.254129\"/>\n     <use style=\"fill:#008000;fill-opacity:0.5;stroke:#008000;stroke-opacity:0.5;\" x=\"582.578914\" xlink:href=\"#m93fa14e1c5\" y=\"168.708975\"/>\n     <use style=\"fill:#008000;fill-opacity:0.5;stroke:#008000;stroke-opacity:0.5;\" x=\"528.321703\" xlink:href=\"#m93fa14e1c5\" y=\"132.726528\"/>\n     <use style=\"fill:#008000;fill-opacity:0.5;stroke:#008000;stroke-opacity:0.5;\" x=\"494.820312\" xlink:href=\"#m93fa14e1c5\" y=\"230.635151\"/>\n     <use style=\"fill:#008000;fill-opacity:0.5;stroke:#008000;stroke-opacity:0.5;\" x=\"536.685634\" xlink:href=\"#m93fa14e1c5\" y=\"168.146362\"/>\n     <use style=\"fill:#008000;fill-opacity:0.5;stroke:#008000;stroke-opacity:0.5;\" x=\"452.954216\" xlink:href=\"#m93fa14e1c5\" y=\"164.83283\"/>\n     <use style=\"fill:#008000;fill-opacity:0.5;stroke:#008000;stroke-opacity:0.5;\" x=\"484.799668\" xlink:href=\"#m93fa14e1c5\" y=\"271.826952\"/>\n     <use style=\"fill:#008000;fill-opacity:0.5;stroke:#008000;stroke-opacity:0.5;\" x=\"533.332512\" xlink:href=\"#m93fa14e1c5\" y=\"99.441108\"/>\n     <use style=\"fill:#008000;fill-opacity:0.5;stroke:#008000;stroke-opacity:0.5;\" x=\"546.507313\" xlink:href=\"#m93fa14e1c5\" y=\"194.870212\"/>\n     <use style=\"fill:#008000;fill-opacity:0.5;stroke:#008000;stroke-opacity:0.5;\" x=\"511.489018\" xlink:href=\"#m93fa14e1c5\" y=\"175.656861\"/>\n     <use style=\"fill:#008000;fill-opacity:0.5;stroke:#008000;stroke-opacity:0.5;\" x=\"548.462559\" xlink:href=\"#m93fa14e1c5\" y=\"232.249056\"/>\n     <use style=\"fill:#008000;fill-opacity:0.5;stroke:#008000;stroke-opacity:0.5;\" x=\"474.93435\" xlink:href=\"#m93fa14e1c5\" y=\"160.947149\"/>\n     <use style=\"fill:#008000;fill-opacity:0.5;stroke:#008000;stroke-opacity:0.5;\" x=\"565.129166\" xlink:href=\"#m93fa14e1c5\" y=\"202.47333\"/>\n     <use style=\"fill:#008000;fill-opacity:0.5;stroke:#008000;stroke-opacity:0.5;\" x=\"526.385041\" xlink:href=\"#m93fa14e1c5\" y=\"170.571734\"/>\n     <use style=\"fill:#008000;fill-opacity:0.5;stroke:#008000;stroke-opacity:0.5;\" x=\"512.954572\" xlink:href=\"#m93fa14e1c5\" y=\"119.495948\"/>\n     <use style=\"fill:#008000;fill-opacity:0.5;stroke:#008000;stroke-opacity:0.5;\" x=\"525.373411\" xlink:href=\"#m93fa14e1c5\" y=\"210.426272\"/>\n     <use style=\"fill:#008000;fill-opacity:0.5;stroke:#008000;stroke-opacity:0.5;\" x=\"488.153659\" xlink:href=\"#m93fa14e1c5\" y=\"152.418535\"/>\n     <use style=\"fill:#008000;fill-opacity:0.5;stroke:#008000;stroke-opacity:0.5;\" x=\"520.44397\" xlink:href=\"#m93fa14e1c5\" y=\"205.229041\"/>\n     <use style=\"fill:#008000;fill-opacity:0.5;stroke:#008000;stroke-opacity:0.5;\" x=\"483.511635\" xlink:href=\"#m93fa14e1c5\" y=\"221.710463\"/>\n     <use style=\"fill:#008000;fill-opacity:0.5;stroke:#008000;stroke-opacity:0.5;\" x=\"491.669618\" xlink:href=\"#m93fa14e1c5\" y=\"158.298695\"/>\n     <use style=\"fill:#008000;fill-opacity:0.5;stroke:#008000;stroke-opacity:0.5;\" x=\"479.834467\" xlink:href=\"#m93fa14e1c5\" y=\"165.124015\"/>\n     <use style=\"fill:#008000;fill-opacity:0.5;stroke:#008000;stroke-opacity:0.5;\" x=\"542.579759\" xlink:href=\"#m93fa14e1c5\" y=\"144.925582\"/>\n     <use style=\"fill:#008000;fill-opacity:0.5;stroke:#008000;stroke-opacity:0.5;\" x=\"536.94921\" xlink:href=\"#m93fa14e1c5\" y=\"199.793147\"/>\n     <use style=\"fill:#008000;fill-opacity:0.5;stroke:#008000;stroke-opacity:0.5;\" x=\"562.016422\" xlink:href=\"#m93fa14e1c5\" y=\"192.80943\"/>\n     <use style=\"fill:#008000;fill-opacity:0.5;stroke:#008000;stroke-opacity:0.5;\" x=\"566.304575\" xlink:href=\"#m93fa14e1c5\" y=\"221.468229\"/>\n     <use style=\"fill:#008000;fill-opacity:0.5;stroke:#008000;stroke-opacity:0.5;\" x=\"432.163958\" xlink:href=\"#m93fa14e1c5\" y=\"175.858302\"/>\n     <use style=\"fill:#008000;fill-opacity:0.5;stroke:#008000;stroke-opacity:0.5;\" x=\"485.249209\" xlink:href=\"#m93fa14e1c5\" y=\"134.545663\"/>\n     <use style=\"fill:#008000;fill-opacity:0.5;stroke:#008000;stroke-opacity:0.5;\" x=\"473.397226\" xlink:href=\"#m93fa14e1c5\" y=\"185.36833\"/>\n     <use style=\"fill:#008000;fill-opacity:0.5;stroke:#008000;stroke-opacity:0.5;\" x=\"483.042737\" xlink:href=\"#m93fa14e1c5\" y=\"209.387736\"/>\n     <use style=\"fill:#008000;fill-opacity:0.5;stroke:#008000;stroke-opacity:0.5;\" x=\"508.323469\" xlink:href=\"#m93fa14e1c5\" y=\"134.260365\"/>\n     <use style=\"fill:#008000;fill-opacity:0.5;stroke:#008000;stroke-opacity:0.5;\" x=\"534.520617\" xlink:href=\"#m93fa14e1c5\" y=\"103.707399\"/>\n     <use style=\"fill:#008000;fill-opacity:0.5;stroke:#008000;stroke-opacity:0.5;\" x=\"533.396306\" xlink:href=\"#m93fa14e1c5\" y=\"161.860853\"/>\n     <use style=\"fill:#008000;fill-opacity:0.5;stroke:#008000;stroke-opacity:0.5;\" x=\"452.977836\" xlink:href=\"#m93fa14e1c5\" y=\"215.186077\"/>\n     <use style=\"fill:#008000;fill-opacity:0.5;stroke:#008000;stroke-opacity:0.5;\" x=\"507.719646\" xlink:href=\"#m93fa14e1c5\" y=\"173.02088\"/>\n     <use style=\"fill:#008000;fill-opacity:0.5;stroke:#008000;stroke-opacity:0.5;\" x=\"561.950186\" xlink:href=\"#m93fa14e1c5\" y=\"144.958097\"/>\n     <use style=\"fill:#008000;fill-opacity:0.5;stroke:#008000;stroke-opacity:0.5;\" x=\"506.84749\" xlink:href=\"#m93fa14e1c5\" y=\"128.337655\"/>\n     <use style=\"fill:#008000;fill-opacity:0.5;stroke:#008000;stroke-opacity:0.5;\" x=\"546.978512\" xlink:href=\"#m93fa14e1c5\" y=\"242.266879\"/>\n     <use style=\"fill:#008000;fill-opacity:0.5;stroke:#008000;stroke-opacity:0.5;\" x=\"533.470823\" xlink:href=\"#m93fa14e1c5\" y=\"215.413226\"/>\n     <use style=\"fill:#008000;fill-opacity:0.5;stroke:#008000;stroke-opacity:0.5;\" x=\"503.165081\" xlink:href=\"#m93fa14e1c5\" y=\"130.141679\"/>\n     <use style=\"fill:#008000;fill-opacity:0.5;stroke:#008000;stroke-opacity:0.5;\" x=\"501.306799\" xlink:href=\"#m93fa14e1c5\" y=\"137.823357\"/>\n     <use style=\"fill:#008000;fill-opacity:0.5;stroke:#008000;stroke-opacity:0.5;\" x=\"560.344956\" xlink:href=\"#m93fa14e1c5\" y=\"268.578577\"/>\n     <use style=\"fill:#008000;fill-opacity:0.5;stroke:#008000;stroke-opacity:0.5;\" x=\"584.974263\" xlink:href=\"#m93fa14e1c5\" y=\"135.673091\"/>\n     <use style=\"fill:#008000;fill-opacity:0.5;stroke:#008000;stroke-opacity:0.5;\" x=\"485.227066\" xlink:href=\"#m93fa14e1c5\" y=\"186.236557\"/>\n     <use style=\"fill:#008000;fill-opacity:0.5;stroke:#008000;stroke-opacity:0.5;\" x=\"492.452917\" xlink:href=\"#m93fa14e1c5\" y=\"126.760153\"/>\n     <use style=\"fill:#008000;fill-opacity:0.5;stroke:#008000;stroke-opacity:0.5;\" x=\"503.505834\" xlink:href=\"#m93fa14e1c5\" y=\"169.84011\"/>\n     <use style=\"fill:#008000;fill-opacity:0.5;stroke:#008000;stroke-opacity:0.5;\" x=\"555.458942\" xlink:href=\"#m93fa14e1c5\" y=\"191.378215\"/>\n     <use style=\"fill:#008000;fill-opacity:0.5;stroke:#008000;stroke-opacity:0.5;\" x=\"538.308378\" xlink:href=\"#m93fa14e1c5\" y=\"154.889858\"/>\n     <use style=\"fill:#008000;fill-opacity:0.5;stroke:#008000;stroke-opacity:0.5;\" x=\"503.575444\" xlink:href=\"#m93fa14e1c5\" y=\"253.847342\"/>\n     <use style=\"fill:#008000;fill-opacity:0.5;stroke:#008000;stroke-opacity:0.5;\" x=\"495.298641\" xlink:href=\"#m93fa14e1c5\" y=\"148.277668\"/>\n     <use style=\"fill:#008000;fill-opacity:0.5;stroke:#008000;stroke-opacity:0.5;\" x=\"513.226705\" xlink:href=\"#m93fa14e1c5\" y=\"83.442845\"/>\n     <use style=\"fill:#008000;fill-opacity:0.5;stroke:#008000;stroke-opacity:0.5;\" x=\"505.597255\" xlink:href=\"#m93fa14e1c5\" y=\"170.896589\"/>\n     <use style=\"fill:#008000;fill-opacity:0.5;stroke:#008000;stroke-opacity:0.5;\" x=\"533.927605\" xlink:href=\"#m93fa14e1c5\" y=\"228.685914\"/>\n     <use style=\"fill:#008000;fill-opacity:0.5;stroke:#008000;stroke-opacity:0.5;\" x=\"478.583554\" xlink:href=\"#m93fa14e1c5\" y=\"157.774689\"/>\n     <use style=\"fill:#008000;fill-opacity:0.5;stroke:#008000;stroke-opacity:0.5;\" x=\"546.757326\" xlink:href=\"#m93fa14e1c5\" y=\"85.374146\"/>\n     <use style=\"fill:#008000;fill-opacity:0.5;stroke:#008000;stroke-opacity:0.5;\" x=\"511.349329\" xlink:href=\"#m93fa14e1c5\" y=\"143.148406\"/>\n     <use style=\"fill:#008000;fill-opacity:0.5;stroke:#008000;stroke-opacity:0.5;\" x=\"496.566416\" xlink:href=\"#m93fa14e1c5\" y=\"191.783461\"/>\n     <use style=\"fill:#008000;fill-opacity:0.5;stroke:#008000;stroke-opacity:0.5;\" x=\"568.06288\" xlink:href=\"#m93fa14e1c5\" y=\"177.214259\"/>\n     <use style=\"fill:#008000;fill-opacity:0.5;stroke:#008000;stroke-opacity:0.5;\" x=\"463.631821\" xlink:href=\"#m93fa14e1c5\" y=\"165.299277\"/>\n     <use style=\"fill:#008000;fill-opacity:0.5;stroke:#008000;stroke-opacity:0.5;\" x=\"499.642715\" xlink:href=\"#m93fa14e1c5\" y=\"201.229284\"/>\n     <use style=\"fill:#008000;fill-opacity:0.5;stroke:#008000;stroke-opacity:0.5;\" x=\"505.937329\" xlink:href=\"#m93fa14e1c5\" y=\"221.534739\"/>\n     <use style=\"fill:#008000;fill-opacity:0.5;stroke:#008000;stroke-opacity:0.5;\" x=\"446.941328\" xlink:href=\"#m93fa14e1c5\" y=\"188.312957\"/>\n     <use style=\"fill:#008000;fill-opacity:0.5;stroke:#008000;stroke-opacity:0.5;\" x=\"505.036996\" xlink:href=\"#m93fa14e1c5\" y=\"150.203015\"/>\n     <use style=\"fill:#008000;fill-opacity:0.5;stroke:#008000;stroke-opacity:0.5;\" x=\"584.224258\" xlink:href=\"#m93fa14e1c5\" y=\"187.795982\"/>\n     <use style=\"fill:#008000;fill-opacity:0.5;stroke:#008000;stroke-opacity:0.5;\" x=\"562.805079\" xlink:href=\"#m93fa14e1c5\" y=\"134.819532\"/>\n     <use style=\"fill:#008000;fill-opacity:0.5;stroke:#008000;stroke-opacity:0.5;\" x=\"410.880279\" xlink:href=\"#m93fa14e1c5\" y=\"196.459502\"/>\n     <use style=\"fill:#008000;fill-opacity:0.5;stroke:#008000;stroke-opacity:0.5;\" x=\"472.539313\" xlink:href=\"#m93fa14e1c5\" y=\"195.386083\"/>\n     <use style=\"fill:#008000;fill-opacity:0.5;stroke:#008000;stroke-opacity:0.5;\" x=\"503.366631\" xlink:href=\"#m93fa14e1c5\" y=\"178.012037\"/>\n     <use style=\"fill:#008000;fill-opacity:0.5;stroke:#008000;stroke-opacity:0.5;\" x=\"441.344887\" xlink:href=\"#m93fa14e1c5\" y=\"213.790359\"/>\n     <use style=\"fill:#008000;fill-opacity:0.5;stroke:#008000;stroke-opacity:0.5;\" x=\"482.18692\" xlink:href=\"#m93fa14e1c5\" y=\"228.707091\"/>\n     <use style=\"fill:#008000;fill-opacity:0.5;stroke:#008000;stroke-opacity:0.5;\" x=\"542.980356\" xlink:href=\"#m93fa14e1c5\" y=\"200.337031\"/>\n     <use style=\"fill:#008000;fill-opacity:0.5;stroke:#008000;stroke-opacity:0.5;\" x=\"538.083425\" xlink:href=\"#m93fa14e1c5\" y=\"96.827439\"/>\n     <use style=\"fill:#008000;fill-opacity:0.5;stroke:#008000;stroke-opacity:0.5;\" x=\"508.399691\" xlink:href=\"#m93fa14e1c5\" y=\"143.816778\"/>\n     <use style=\"fill:#008000;fill-opacity:0.5;stroke:#008000;stroke-opacity:0.5;\" x=\"512.521268\" xlink:href=\"#m93fa14e1c5\" y=\"164.64069\"/>\n     <use style=\"fill:#008000;fill-opacity:0.5;stroke:#008000;stroke-opacity:0.5;\" x=\"520.770955\" xlink:href=\"#m93fa14e1c5\" y=\"154.909327\"/>\n     <use style=\"fill:#008000;fill-opacity:0.5;stroke:#008000;stroke-opacity:0.5;\" x=\"462.22814\" xlink:href=\"#m93fa14e1c5\" y=\"170.386793\"/>\n     <use style=\"fill:#008000;fill-opacity:0.5;stroke:#008000;stroke-opacity:0.5;\" x=\"467.382143\" xlink:href=\"#m93fa14e1c5\" y=\"229.876738\"/>\n     <use style=\"fill:#008000;fill-opacity:0.5;stroke:#008000;stroke-opacity:0.5;\" x=\"467.614935\" xlink:href=\"#m93fa14e1c5\" y=\"156.919392\"/>\n     <use style=\"fill:#008000;fill-opacity:0.5;stroke:#008000;stroke-opacity:0.5;\" x=\"505.823777\" xlink:href=\"#m93fa14e1c5\" y=\"132.712752\"/>\n     <use style=\"fill:#008000;fill-opacity:0.5;stroke:#008000;stroke-opacity:0.5;\" x=\"467.089919\" xlink:href=\"#m93fa14e1c5\" y=\"219.910548\"/>\n     <use style=\"fill:#008000;fill-opacity:0.5;stroke:#008000;stroke-opacity:0.5;\" x=\"511.122162\" xlink:href=\"#m93fa14e1c5\" y=\"221.08334\"/>\n     <use style=\"fill:#008000;fill-opacity:0.5;stroke:#008000;stroke-opacity:0.5;\" x=\"490.574764\" xlink:href=\"#m93fa14e1c5\" y=\"166.777083\"/>\n     <use style=\"fill:#008000;fill-opacity:0.5;stroke:#008000;stroke-opacity:0.5;\" x=\"494.900679\" xlink:href=\"#m93fa14e1c5\" y=\"173.547752\"/>\n     <use style=\"fill:#008000;fill-opacity:0.5;stroke:#008000;stroke-opacity:0.5;\" x=\"511.001332\" xlink:href=\"#m93fa14e1c5\" y=\"176.882209\"/>\n     <use style=\"fill:#008000;fill-opacity:0.5;stroke:#008000;stroke-opacity:0.5;\" x=\"506.066497\" xlink:href=\"#m93fa14e1c5\" y=\"168.17422\"/>\n     <use style=\"fill:#008000;fill-opacity:0.5;stroke:#008000;stroke-opacity:0.5;\" x=\"456.934407\" xlink:href=\"#m93fa14e1c5\" y=\"112.172555\"/>\n     <use style=\"fill:#008000;fill-opacity:0.5;stroke:#008000;stroke-opacity:0.5;\" x=\"498.292723\" xlink:href=\"#m93fa14e1c5\" y=\"223.624828\"/>\n     <use style=\"fill:#008000;fill-opacity:0.5;stroke:#008000;stroke-opacity:0.5;\" x=\"512.188363\" xlink:href=\"#m93fa14e1c5\" y=\"181.629459\"/>\n     <use style=\"fill:#008000;fill-opacity:0.5;stroke:#008000;stroke-opacity:0.5;\" x=\"498.232801\" xlink:href=\"#m93fa14e1c5\" y=\"180.906458\"/>\n     <use style=\"fill:#008000;fill-opacity:0.5;stroke:#008000;stroke-opacity:0.5;\" x=\"520.100591\" xlink:href=\"#m93fa14e1c5\" y=\"213.664083\"/>\n     <use style=\"fill:#008000;fill-opacity:0.5;stroke:#008000;stroke-opacity:0.5;\" x=\"506.405157\" xlink:href=\"#m93fa14e1c5\" y=\"203.91649\"/>\n     <use style=\"fill:#008000;fill-opacity:0.5;stroke:#008000;stroke-opacity:0.5;\" x=\"452.38244\" xlink:href=\"#m93fa14e1c5\" y=\"195.996444\"/>\n     <use style=\"fill:#008000;fill-opacity:0.5;stroke:#008000;stroke-opacity:0.5;\" x=\"532.163061\" xlink:href=\"#m93fa14e1c5\" y=\"212.717973\"/>\n     <use style=\"fill:#008000;fill-opacity:0.5;stroke:#008000;stroke-opacity:0.5;\" x=\"525.75095\" xlink:href=\"#m93fa14e1c5\" y=\"100.463354\"/>\n     <use style=\"fill:#008000;fill-opacity:0.5;stroke:#008000;stroke-opacity:0.5;\" x=\"550.031025\" xlink:href=\"#m93fa14e1c5\" y=\"209.968857\"/>\n     <use style=\"fill:#008000;fill-opacity:0.5;stroke:#008000;stroke-opacity:0.5;\" x=\"527.82559\" xlink:href=\"#m93fa14e1c5\" y=\"222.288178\"/>\n     <use style=\"fill:#008000;fill-opacity:0.5;stroke:#008000;stroke-opacity:0.5;\" x=\"506.031423\" xlink:href=\"#m93fa14e1c5\" y=\"112.183006\"/>\n     <use style=\"fill:#008000;fill-opacity:0.5;stroke:#008000;stroke-opacity:0.5;\" x=\"555.49583\" xlink:href=\"#m93fa14e1c5\" y=\"197.662172\"/>\n     <use style=\"fill:#008000;fill-opacity:0.5;stroke:#008000;stroke-opacity:0.5;\" x=\"532.804073\" xlink:href=\"#m93fa14e1c5\" y=\"123.99298\"/>\n     <use style=\"fill:#008000;fill-opacity:0.5;stroke:#008000;stroke-opacity:0.5;\" x=\"534.431063\" xlink:href=\"#m93fa14e1c5\" y=\"169.76162\"/>\n     <use style=\"fill:#008000;fill-opacity:0.5;stroke:#008000;stroke-opacity:0.5;\" x=\"560.319388\" xlink:href=\"#m93fa14e1c5\" y=\"175.317152\"/>\n     <use style=\"fill:#008000;fill-opacity:0.5;stroke:#008000;stroke-opacity:0.5;\" x=\"511.341991\" xlink:href=\"#m93fa14e1c5\" y=\"158.856554\"/>\n     <use style=\"fill:#008000;fill-opacity:0.5;stroke:#008000;stroke-opacity:0.5;\" x=\"470.345211\" xlink:href=\"#m93fa14e1c5\" y=\"202.483618\"/>\n     <use style=\"fill:#008000;fill-opacity:0.5;stroke:#008000;stroke-opacity:0.5;\" x=\"477.706965\" xlink:href=\"#m93fa14e1c5\" y=\"143.420552\"/>\n     <use style=\"fill:#008000;fill-opacity:0.5;stroke:#008000;stroke-opacity:0.5;\" x=\"495.759161\" xlink:href=\"#m93fa14e1c5\" y=\"133.129746\"/>\n     <use style=\"fill:#008000;fill-opacity:0.5;stroke:#008000;stroke-opacity:0.5;\" x=\"451.456137\" xlink:href=\"#m93fa14e1c5\" y=\"231.898647\"/>\n     <use style=\"fill:#008000;fill-opacity:0.5;stroke:#008000;stroke-opacity:0.5;\" x=\"503.814242\" xlink:href=\"#m93fa14e1c5\" y=\"208.005944\"/>\n     <use style=\"fill:#008000;fill-opacity:0.5;stroke:#008000;stroke-opacity:0.5;\" x=\"576.7045\" xlink:href=\"#m93fa14e1c5\" y=\"241.178146\"/>\n     <use style=\"fill:#008000;fill-opacity:0.5;stroke:#008000;stroke-opacity:0.5;\" x=\"470.84827\" xlink:href=\"#m93fa14e1c5\" y=\"140.572141\"/>\n     <use style=\"fill:#008000;fill-opacity:0.5;stroke:#008000;stroke-opacity:0.5;\" x=\"468.091945\" xlink:href=\"#m93fa14e1c5\" y=\"178.508175\"/>\n     <use style=\"fill:#008000;fill-opacity:0.5;stroke:#008000;stroke-opacity:0.5;\" x=\"471.681902\" xlink:href=\"#m93fa14e1c5\" y=\"124.449477\"/>\n     <use style=\"fill:#008000;fill-opacity:0.5;stroke:#008000;stroke-opacity:0.5;\" x=\"509.097465\" xlink:href=\"#m93fa14e1c5\" y=\"85.957373\"/>\n     <use style=\"fill:#008000;fill-opacity:0.5;stroke:#008000;stroke-opacity:0.5;\" x=\"537.833242\" xlink:href=\"#m93fa14e1c5\" y=\"148.505443\"/>\n     <use style=\"fill:#008000;fill-opacity:0.5;stroke:#008000;stroke-opacity:0.5;\" x=\"512.986452\" xlink:href=\"#m93fa14e1c5\" y=\"246.333268\"/>\n     <use style=\"fill:#008000;fill-opacity:0.5;stroke:#008000;stroke-opacity:0.5;\" x=\"515.009609\" xlink:href=\"#m93fa14e1c5\" y=\"193.586492\"/>\n     <use style=\"fill:#008000;fill-opacity:0.5;stroke:#008000;stroke-opacity:0.5;\" x=\"490.558279\" xlink:href=\"#m93fa14e1c5\" y=\"246.648808\"/>\n     <use style=\"fill:#008000;fill-opacity:0.5;stroke:#008000;stroke-opacity:0.5;\" x=\"512.935167\" xlink:href=\"#m93fa14e1c5\" y=\"198.27688\"/>\n     <use style=\"fill:#008000;fill-opacity:0.5;stroke:#008000;stroke-opacity:0.5;\" x=\"604.938638\" xlink:href=\"#m93fa14e1c5\" y=\"190.171889\"/>\n     <use style=\"fill:#008000;fill-opacity:0.5;stroke:#008000;stroke-opacity:0.5;\" x=\"489.529022\" xlink:href=\"#m93fa14e1c5\" y=\"201.903659\"/>\n     <use style=\"fill:#008000;fill-opacity:0.5;stroke:#008000;stroke-opacity:0.5;\" x=\"510.274489\" xlink:href=\"#m93fa14e1c5\" y=\"218.671469\"/>\n     <use style=\"fill:#008000;fill-opacity:0.5;stroke:#008000;stroke-opacity:0.5;\" x=\"523.598477\" xlink:href=\"#m93fa14e1c5\" y=\"193.271665\"/>\n     <use style=\"fill:#008000;fill-opacity:0.5;stroke:#008000;stroke-opacity:0.5;\" x=\"512.294212\" xlink:href=\"#m93fa14e1c5\" y=\"163.359454\"/>\n     <use style=\"fill:#008000;fill-opacity:0.5;stroke:#008000;stroke-opacity:0.5;\" x=\"575.152777\" xlink:href=\"#m93fa14e1c5\" y=\"145.549076\"/>\n     <use style=\"fill:#008000;fill-opacity:0.5;stroke:#008000;stroke-opacity:0.5;\" x=\"517.725693\" xlink:href=\"#m93fa14e1c5\" y=\"237.195775\"/>\n     <use style=\"fill:#008000;fill-opacity:0.5;stroke:#008000;stroke-opacity:0.5;\" x=\"510.37774\" xlink:href=\"#m93fa14e1c5\" y=\"241.007925\"/>\n     <use style=\"fill:#008000;fill-opacity:0.5;stroke:#008000;stroke-opacity:0.5;\" x=\"433.893563\" xlink:href=\"#m93fa14e1c5\" y=\"189.881899\"/>\n     <use style=\"fill:#008000;fill-opacity:0.5;stroke:#008000;stroke-opacity:0.5;\" x=\"543.582525\" xlink:href=\"#m93fa14e1c5\" y=\"166.499899\"/>\n     <use style=\"fill:#008000;fill-opacity:0.5;stroke:#008000;stroke-opacity:0.5;\" x=\"506.914828\" xlink:href=\"#m93fa14e1c5\" y=\"140.071583\"/>\n     <use style=\"fill:#008000;fill-opacity:0.5;stroke:#008000;stroke-opacity:0.5;\" x=\"537.335315\" xlink:href=\"#m93fa14e1c5\" y=\"120.395994\"/>\n     <use style=\"fill:#008000;fill-opacity:0.5;stroke:#008000;stroke-opacity:0.5;\" x=\"506.516553\" xlink:href=\"#m93fa14e1c5\" y=\"190.03682\"/>\n     <use style=\"fill:#008000;fill-opacity:0.5;stroke:#008000;stroke-opacity:0.5;\" x=\"538.359452\" xlink:href=\"#m93fa14e1c5\" y=\"181.130765\"/>\n     <use style=\"fill:#008000;fill-opacity:0.5;stroke:#008000;stroke-opacity:0.5;\" x=\"593.255824\" xlink:href=\"#m93fa14e1c5\" y=\"155.189187\"/>\n     <use style=\"fill:#008000;fill-opacity:0.5;stroke:#008000;stroke-opacity:0.5;\" x=\"555.646084\" xlink:href=\"#m93fa14e1c5\" y=\"192.66907\"/>\n     <use style=\"fill:#008000;fill-opacity:0.5;stroke:#008000;stroke-opacity:0.5;\" x=\"524.910672\" xlink:href=\"#m93fa14e1c5\" y=\"150.877866\"/>\n     <use style=\"fill:#008000;fill-opacity:0.5;stroke:#008000;stroke-opacity:0.5;\" x=\"485.375747\" xlink:href=\"#m93fa14e1c5\" y=\"154.136985\"/>\n     <use style=\"fill:#008000;fill-opacity:0.5;stroke:#008000;stroke-opacity:0.5;\" x=\"641.697246\" xlink:href=\"#m93fa14e1c5\" y=\"165.652988\"/>\n     <use style=\"fill:#008000;fill-opacity:0.5;stroke:#008000;stroke-opacity:0.5;\" x=\"490.578744\" xlink:href=\"#m93fa14e1c5\" y=\"126.487541\"/>\n     <use style=\"fill:#008000;fill-opacity:0.5;stroke:#008000;stroke-opacity:0.5;\" x=\"541.217358\" xlink:href=\"#m93fa14e1c5\" y=\"200.729903\"/>\n     <use style=\"fill:#008000;fill-opacity:0.5;stroke:#008000;stroke-opacity:0.5;\" x=\"540.785952\" xlink:href=\"#m93fa14e1c5\" y=\"181.14577\"/>\n     <use style=\"fill:#008000;fill-opacity:0.5;stroke:#008000;stroke-opacity:0.5;\" x=\"544.347165\" xlink:href=\"#m93fa14e1c5\" y=\"191.522633\"/>\n     <use style=\"fill:#008000;fill-opacity:0.5;stroke:#008000;stroke-opacity:0.5;\" x=\"507.500805\" xlink:href=\"#m93fa14e1c5\" y=\"149.315951\"/>\n     <use style=\"fill:#008000;fill-opacity:0.5;stroke:#008000;stroke-opacity:0.5;\" x=\"481.124623\" xlink:href=\"#m93fa14e1c5\" y=\"135.997864\"/>\n     <use style=\"fill:#008000;fill-opacity:0.5;stroke:#008000;stroke-opacity:0.5;\" x=\"523.906103\" xlink:href=\"#m93fa14e1c5\" y=\"227.178221\"/>\n     <use style=\"fill:#008000;fill-opacity:0.5;stroke:#008000;stroke-opacity:0.5;\" x=\"437.377022\" xlink:href=\"#m93fa14e1c5\" y=\"230.729108\"/>\n     <use style=\"fill:#008000;fill-opacity:0.5;stroke:#008000;stroke-opacity:0.5;\" x=\"554.409065\" xlink:href=\"#m93fa14e1c5\" y=\"166.415812\"/>\n     <use style=\"fill:#008000;fill-opacity:0.5;stroke:#008000;stroke-opacity:0.5;\" x=\"442.60118\" xlink:href=\"#m93fa14e1c5\" y=\"125.706339\"/>\n     <use style=\"fill:#008000;fill-opacity:0.5;stroke:#008000;stroke-opacity:0.5;\" x=\"540.388729\" xlink:href=\"#m93fa14e1c5\" y=\"167.541187\"/>\n     <use style=\"fill:#008000;fill-opacity:0.5;stroke:#008000;stroke-opacity:0.5;\" x=\"512.299792\" xlink:href=\"#m93fa14e1c5\" y=\"259.185045\"/>\n     <use style=\"fill:#008000;fill-opacity:0.5;stroke:#008000;stroke-opacity:0.5;\" x=\"473.045115\" xlink:href=\"#m93fa14e1c5\" y=\"211.186825\"/>\n     <use style=\"fill:#008000;fill-opacity:0.5;stroke:#008000;stroke-opacity:0.5;\" x=\"480.65781\" xlink:href=\"#m93fa14e1c5\" y=\"206.638648\"/>\n     <use style=\"fill:#008000;fill-opacity:0.5;stroke:#008000;stroke-opacity:0.5;\" x=\"488.084048\" xlink:href=\"#m93fa14e1c5\" y=\"273.076042\"/>\n     <use style=\"fill:#008000;fill-opacity:0.5;stroke:#008000;stroke-opacity:0.5;\" x=\"453.378032\" xlink:href=\"#m93fa14e1c5\" y=\"247.936918\"/>\n     <use style=\"fill:#008000;fill-opacity:0.5;stroke:#008000;stroke-opacity:0.5;\" x=\"521.061354\" xlink:href=\"#m93fa14e1c5\" y=\"224.036549\"/>\n     <use style=\"fill:#008000;fill-opacity:0.5;stroke:#008000;stroke-opacity:0.5;\" x=\"526.539908\" xlink:href=\"#m93fa14e1c5\" y=\"236.143927\"/>\n     <use style=\"fill:#008000;fill-opacity:0.5;stroke:#008000;stroke-opacity:0.5;\" x=\"560.887155\" xlink:href=\"#m93fa14e1c5\" y=\"173.467439\"/>\n     <use style=\"fill:#008000;fill-opacity:0.5;stroke:#008000;stroke-opacity:0.5;\" x=\"521.296863\" xlink:href=\"#m93fa14e1c5\" y=\"153.390281\"/>\n     <use style=\"fill:#008000;fill-opacity:0.5;stroke:#008000;stroke-opacity:0.5;\" x=\"461.164983\" xlink:href=\"#m93fa14e1c5\" y=\"133.046588\"/>\n     <use style=\"fill:#008000;fill-opacity:0.5;stroke:#008000;stroke-opacity:0.5;\" x=\"527.951039\" xlink:href=\"#m93fa14e1c5\" y=\"95.347465\"/>\n     <use style=\"fill:#008000;fill-opacity:0.5;stroke:#008000;stroke-opacity:0.5;\" x=\"571.844786\" xlink:href=\"#m93fa14e1c5\" y=\"191.975792\"/>\n     <use style=\"fill:#008000;fill-opacity:0.5;stroke:#008000;stroke-opacity:0.5;\" x=\"521.26451\" xlink:href=\"#m93fa14e1c5\" y=\"257.865004\"/>\n     <use style=\"fill:#008000;fill-opacity:0.5;stroke:#008000;stroke-opacity:0.5;\" x=\"525.886372\" xlink:href=\"#m93fa14e1c5\" y=\"218.992318\"/>\n     <use style=\"fill:#008000;fill-opacity:0.5;stroke:#008000;stroke-opacity:0.5;\" x=\"543.578303\" xlink:href=\"#m93fa14e1c5\" y=\"192.260907\"/>\n     <use style=\"fill:#008000;fill-opacity:0.5;stroke:#008000;stroke-opacity:0.5;\" x=\"512.33579\" xlink:href=\"#m93fa14e1c5\" y=\"130.444482\"/>\n     <use style=\"fill:#008000;fill-opacity:0.5;stroke:#008000;stroke-opacity:0.5;\" x=\"488.252056\" xlink:href=\"#m93fa14e1c5\" y=\"122.288816\"/>\n     <use style=\"fill:#008000;fill-opacity:0.5;stroke:#008000;stroke-opacity:0.5;\" x=\"528.760199\" xlink:href=\"#m93fa14e1c5\" y=\"210.082094\"/>\n     <use style=\"fill:#008000;fill-opacity:0.5;stroke:#008000;stroke-opacity:0.5;\" x=\"510.811243\" xlink:href=\"#m93fa14e1c5\" y=\"237.48574\"/>\n     <use style=\"fill:#008000;fill-opacity:0.5;stroke:#008000;stroke-opacity:0.5;\" x=\"522.745868\" xlink:href=\"#m93fa14e1c5\" y=\"259.004185\"/>\n     <use style=\"fill:#008000;fill-opacity:0.5;stroke:#008000;stroke-opacity:0.5;\" x=\"473.864691\" xlink:href=\"#m93fa14e1c5\" y=\"265.679571\"/>\n     <use style=\"fill:#008000;fill-opacity:0.5;stroke:#008000;stroke-opacity:0.5;\" x=\"495.672592\" xlink:href=\"#m93fa14e1c5\" y=\"180.677564\"/>\n     <use style=\"fill:#008000;fill-opacity:0.5;stroke:#008000;stroke-opacity:0.5;\" x=\"531.897521\" xlink:href=\"#m93fa14e1c5\" y=\"248.468836\"/>\n     <use style=\"fill:#008000;fill-opacity:0.5;stroke:#008000;stroke-opacity:0.5;\" x=\"567.897031\" xlink:href=\"#m93fa14e1c5\" y=\"199.935962\"/>\n     <use style=\"fill:#008000;fill-opacity:0.5;stroke:#008000;stroke-opacity:0.5;\" x=\"574.732549\" xlink:href=\"#m93fa14e1c5\" y=\"167.694968\"/>\n     <use style=\"fill:#008000;fill-opacity:0.5;stroke:#008000;stroke-opacity:0.5;\" x=\"505.816752\" xlink:href=\"#m93fa14e1c5\" y=\"126.488566\"/>\n     <use style=\"fill:#008000;fill-opacity:0.5;stroke:#008000;stroke-opacity:0.5;\" x=\"473.56019\" xlink:href=\"#m93fa14e1c5\" y=\"212.608049\"/>\n     <use style=\"fill:#008000;fill-opacity:0.5;stroke:#008000;stroke-opacity:0.5;\" x=\"556.457579\" xlink:href=\"#m93fa14e1c5\" y=\"138.670944\"/>\n     <use style=\"fill:#008000;fill-opacity:0.5;stroke:#008000;stroke-opacity:0.5;\" x=\"517.853366\" xlink:href=\"#m93fa14e1c5\" y=\"179.827714\"/>\n     <use style=\"fill:#008000;fill-opacity:0.5;stroke:#008000;stroke-opacity:0.5;\" x=\"517.375093\" xlink:href=\"#m93fa14e1c5\" y=\"179.279095\"/>\n     <use style=\"fill:#008000;fill-opacity:0.5;stroke:#008000;stroke-opacity:0.5;\" x=\"458.643155\" xlink:href=\"#m93fa14e1c5\" y=\"161.152966\"/>\n     <use style=\"fill:#008000;fill-opacity:0.5;stroke:#008000;stroke-opacity:0.5;\" x=\"574.799749\" xlink:href=\"#m93fa14e1c5\" y=\"69.689033\"/>\n     <use style=\"fill:#008000;fill-opacity:0.5;stroke:#008000;stroke-opacity:0.5;\" x=\"471.614713\" xlink:href=\"#m93fa14e1c5\" y=\"163.755189\"/>\n     <use style=\"fill:#008000;fill-opacity:0.5;stroke:#008000;stroke-opacity:0.5;\" x=\"495.079852\" xlink:href=\"#m93fa14e1c5\" y=\"221.175763\"/>\n     <use style=\"fill:#008000;fill-opacity:0.5;stroke:#008000;stroke-opacity:0.5;\" x=\"575.369024\" xlink:href=\"#m93fa14e1c5\" y=\"200.164769\"/>\n     <use style=\"fill:#008000;fill-opacity:0.5;stroke:#008000;stroke-opacity:0.5;\" x=\"490.555388\" xlink:href=\"#m93fa14e1c5\" y=\"192.289913\"/>\n     <use style=\"fill:#008000;fill-opacity:0.5;stroke:#008000;stroke-opacity:0.5;\" x=\"438.62118\" xlink:href=\"#m93fa14e1c5\" y=\"180.647432\"/>\n     <use style=\"fill:#008000;fill-opacity:0.5;stroke:#008000;stroke-opacity:0.5;\" x=\"522.952744\" xlink:href=\"#m93fa14e1c5\" y=\"199.10596\"/>\n     <use style=\"fill:#008000;fill-opacity:0.5;stroke:#008000;stroke-opacity:0.5;\" x=\"520.519147\" xlink:href=\"#m93fa14e1c5\" y=\"172.477941\"/>\n     <use style=\"fill:#008000;fill-opacity:0.5;stroke:#008000;stroke-opacity:0.5;\" x=\"521.534711\" xlink:href=\"#m93fa14e1c5\" y=\"143.717022\"/>\n     <use style=\"fill:#008000;fill-opacity:0.5;stroke:#008000;stroke-opacity:0.5;\" x=\"507.484096\" xlink:href=\"#m93fa14e1c5\" y=\"194.058077\"/>\n     <use style=\"fill:#008000;fill-opacity:0.5;stroke:#008000;stroke-opacity:0.5;\" x=\"533.84898\" xlink:href=\"#m93fa14e1c5\" y=\"142.881678\"/>\n     <use style=\"fill:#008000;fill-opacity:0.5;stroke:#008000;stroke-opacity:0.5;\" x=\"469.302301\" xlink:href=\"#m93fa14e1c5\" y=\"153.407667\"/>\n     <use style=\"fill:#008000;fill-opacity:0.5;stroke:#008000;stroke-opacity:0.5;\" x=\"500.838301\" xlink:href=\"#m93fa14e1c5\" y=\"142.445284\"/>\n     <use style=\"fill:#008000;fill-opacity:0.5;stroke:#008000;stroke-opacity:0.5;\" x=\"448.180284\" xlink:href=\"#m93fa14e1c5\" y=\"250.107532\"/>\n     <use style=\"fill:#008000;fill-opacity:0.5;stroke:#008000;stroke-opacity:0.5;\" x=\"561.005033\" xlink:href=\"#m93fa14e1c5\" y=\"148.094061\"/>\n     <use style=\"fill:#008000;fill-opacity:0.5;stroke:#008000;stroke-opacity:0.5;\" x=\"521.064077\" xlink:href=\"#m93fa14e1c5\" y=\"192.880115\"/>\n     <use style=\"fill:#008000;fill-opacity:0.5;stroke:#008000;stroke-opacity:0.5;\" x=\"491.726477\" xlink:href=\"#m93fa14e1c5\" y=\"237.93935\"/>\n     <use style=\"fill:#008000;fill-opacity:0.5;stroke:#008000;stroke-opacity:0.5;\" x=\"500.853884\" xlink:href=\"#m93fa14e1c5\" y=\"157.778338\"/>\n     <use style=\"fill:#008000;fill-opacity:0.5;stroke:#008000;stroke-opacity:0.5;\" x=\"534.385099\" xlink:href=\"#m93fa14e1c5\" y=\"190.847792\"/>\n     <use style=\"fill:#008000;fill-opacity:0.5;stroke:#008000;stroke-opacity:0.5;\" x=\"509.26555\" xlink:href=\"#m93fa14e1c5\" y=\"122.36634\"/>\n     <use style=\"fill:#008000;fill-opacity:0.5;stroke:#008000;stroke-opacity:0.5;\" x=\"512.038283\" xlink:href=\"#m93fa14e1c5\" y=\"116.107662\"/>\n     <use style=\"fill:#008000;fill-opacity:0.5;stroke:#008000;stroke-opacity:0.5;\" x=\"452.879523\" xlink:href=\"#m93fa14e1c5\" y=\"138.041037\"/>\n     <use style=\"fill:#008000;fill-opacity:0.5;stroke:#008000;stroke-opacity:0.5;\" x=\"484.393604\" xlink:href=\"#m93fa14e1c5\" y=\"156.953889\"/>\n     <use style=\"fill:#008000;fill-opacity:0.5;stroke:#008000;stroke-opacity:0.5;\" x=\"514.94436\" xlink:href=\"#m93fa14e1c5\" y=\"154.338474\"/>\n     <use style=\"fill:#008000;fill-opacity:0.5;stroke:#008000;stroke-opacity:0.5;\" x=\"494.440182\" xlink:href=\"#m93fa14e1c5\" y=\"193.602393\"/>\n     <use style=\"fill:#008000;fill-opacity:0.5;stroke:#008000;stroke-opacity:0.5;\" x=\"506.412449\" xlink:href=\"#m93fa14e1c5\" y=\"194.018739\"/>\n     <use style=\"fill:#008000;fill-opacity:0.5;stroke:#008000;stroke-opacity:0.5;\" x=\"582.39326\" xlink:href=\"#m93fa14e1c5\" y=\"152.424592\"/>\n     <use style=\"fill:#008000;fill-opacity:0.5;stroke:#008000;stroke-opacity:0.5;\" x=\"511.522053\" xlink:href=\"#m93fa14e1c5\" y=\"142.360872\"/>\n     <use style=\"fill:#008000;fill-opacity:0.5;stroke:#008000;stroke-opacity:0.5;\" x=\"497.466585\" xlink:href=\"#m93fa14e1c5\" y=\"141.23291\"/>\n     <use style=\"fill:#008000;fill-opacity:0.5;stroke:#008000;stroke-opacity:0.5;\" x=\"513.833165\" xlink:href=\"#m93fa14e1c5\" y=\"226.378093\"/>\n     <use style=\"fill:#008000;fill-opacity:0.5;stroke:#008000;stroke-opacity:0.5;\" x=\"539.728495\" xlink:href=\"#m93fa14e1c5\" y=\"222.304868\"/>\n     <use style=\"fill:#008000;fill-opacity:0.5;stroke:#008000;stroke-opacity:0.5;\" x=\"528.21942\" xlink:href=\"#m93fa14e1c5\" y=\"161.500883\"/>\n     <use style=\"fill:#008000;fill-opacity:0.5;stroke:#008000;stroke-opacity:0.5;\" x=\"519.717996\" xlink:href=\"#m93fa14e1c5\" y=\"148.994469\"/>\n     <use style=\"fill:#008000;fill-opacity:0.5;stroke:#008000;stroke-opacity:0.5;\" x=\"474.393773\" xlink:href=\"#m93fa14e1c5\" y=\"183.900928\"/>\n     <use style=\"fill:#008000;fill-opacity:0.5;stroke:#008000;stroke-opacity:0.5;\" x=\"504.730299\" xlink:href=\"#m93fa14e1c5\" y=\"123.863137\"/>\n     <use style=\"fill:#008000;fill-opacity:0.5;stroke:#008000;stroke-opacity:0.5;\" x=\"581.203939\" xlink:href=\"#m93fa14e1c5\" y=\"139.547832\"/>\n     <use style=\"fill:#008000;fill-opacity:0.5;stroke:#008000;stroke-opacity:0.5;\" x=\"500.422981\" xlink:href=\"#m93fa14e1c5\" y=\"199.9614\"/>\n     <use style=\"fill:#008000;fill-opacity:0.5;stroke:#008000;stroke-opacity:0.5;\" x=\"506.845446\" xlink:href=\"#m93fa14e1c5\" y=\"225.639996\"/>\n     <use style=\"fill:#008000;fill-opacity:0.5;stroke:#008000;stroke-opacity:0.5;\" x=\"492.316827\" xlink:href=\"#m93fa14e1c5\" y=\"223.61153\"/>\n     <use style=\"fill:#008000;fill-opacity:0.5;stroke:#008000;stroke-opacity:0.5;\" x=\"534.48733\" xlink:href=\"#m93fa14e1c5\" y=\"209.608694\"/>\n     <use style=\"fill:#008000;fill-opacity:0.5;stroke:#008000;stroke-opacity:0.5;\" x=\"512.049948\" xlink:href=\"#m93fa14e1c5\" y=\"194.971854\"/>\n     <use style=\"fill:#008000;fill-opacity:0.5;stroke:#008000;stroke-opacity:0.5;\" x=\"503.71433\" xlink:href=\"#m93fa14e1c5\" y=\"91.74768\"/>\n     <use style=\"fill:#008000;fill-opacity:0.5;stroke:#008000;stroke-opacity:0.5;\" x=\"526.669887\" xlink:href=\"#m93fa14e1c5\" y=\"115.142966\"/>\n     <use style=\"fill:#008000;fill-opacity:0.5;stroke:#008000;stroke-opacity:0.5;\" x=\"455.358677\" xlink:href=\"#m93fa14e1c5\" y=\"132.676684\"/>\n     <use style=\"fill:#008000;fill-opacity:0.5;stroke:#008000;stroke-opacity:0.5;\" x=\"484.086137\" xlink:href=\"#m93fa14e1c5\" y=\"134.057615\"/>\n     <use style=\"fill:#008000;fill-opacity:0.5;stroke:#008000;stroke-opacity:0.5;\" x=\"500.586957\" xlink:href=\"#m93fa14e1c5\" y=\"161.036058\"/>\n     <use style=\"fill:#008000;fill-opacity:0.5;stroke:#008000;stroke-opacity:0.5;\" x=\"514.969205\" xlink:href=\"#m93fa14e1c5\" y=\"156.271387\"/>\n     <use style=\"fill:#008000;fill-opacity:0.5;stroke:#008000;stroke-opacity:0.5;\" x=\"527.940794\" xlink:href=\"#m93fa14e1c5\" y=\"176.610584\"/>\n     <use style=\"fill:#008000;fill-opacity:0.5;stroke:#008000;stroke-opacity:0.5;\" x=\"411.955914\" xlink:href=\"#m93fa14e1c5\" y=\"205.530598\"/>\n     <use style=\"fill:#008000;fill-opacity:0.5;stroke:#008000;stroke-opacity:0.5;\" x=\"489.868307\" xlink:href=\"#m93fa14e1c5\" y=\"141.176417\"/>\n     <use style=\"fill:#008000;fill-opacity:0.5;stroke:#008000;stroke-opacity:0.5;\" x=\"513.561107\" xlink:href=\"#m93fa14e1c5\" y=\"236.663369\"/>\n     <use style=\"fill:#008000;fill-opacity:0.5;stroke:#008000;stroke-opacity:0.5;\" x=\"490.818449\" xlink:href=\"#m93fa14e1c5\" y=\"147.160196\"/>\n     <use style=\"fill:#008000;fill-opacity:0.5;stroke:#008000;stroke-opacity:0.5;\" x=\"469.688039\" xlink:href=\"#m93fa14e1c5\" y=\"141.064777\"/>\n     <use style=\"fill:#008000;fill-opacity:0.5;stroke:#008000;stroke-opacity:0.5;\" x=\"537.43446\" xlink:href=\"#m93fa14e1c5\" y=\"214.17066\"/>\n     <use style=\"fill:#008000;fill-opacity:0.5;stroke:#008000;stroke-opacity:0.5;\" x=\"467.753314\" xlink:href=\"#m93fa14e1c5\" y=\"151.796978\"/>\n     <use style=\"fill:#008000;fill-opacity:0.5;stroke:#008000;stroke-opacity:0.5;\" x=\"473.712732\" xlink:href=\"#m93fa14e1c5\" y=\"149.383806\"/>\n     <use style=\"fill:#008000;fill-opacity:0.5;stroke:#008000;stroke-opacity:0.5;\" x=\"511.880494\" xlink:href=\"#m93fa14e1c5\" y=\"218.224467\"/>\n     <use style=\"fill:#008000;fill-opacity:0.5;stroke:#008000;stroke-opacity:0.5;\" x=\"514.345153\" xlink:href=\"#m93fa14e1c5\" y=\"158.574704\"/>\n     <use style=\"fill:#008000;fill-opacity:0.5;stroke:#008000;stroke-opacity:0.5;\" x=\"412.814781\" xlink:href=\"#m93fa14e1c5\" y=\"187.282169\"/>\n     <use style=\"fill:#008000;fill-opacity:0.5;stroke:#008000;stroke-opacity:0.5;\" x=\"588.024541\" xlink:href=\"#m93fa14e1c5\" y=\"135.954985\"/>\n     <use style=\"fill:#008000;fill-opacity:0.5;stroke:#008000;stroke-opacity:0.5;\" x=\"537.688807\" xlink:href=\"#m93fa14e1c5\" y=\"145.703714\"/>\n     <use style=\"fill:#008000;fill-opacity:0.5;stroke:#008000;stroke-opacity:0.5;\" x=\"546.043301\" xlink:href=\"#m93fa14e1c5\" y=\"104.238628\"/>\n     <use style=\"fill:#008000;fill-opacity:0.5;stroke:#008000;stroke-opacity:0.5;\" x=\"482.131771\" xlink:href=\"#m93fa14e1c5\" y=\"184.354677\"/>\n     <use style=\"fill:#008000;fill-opacity:0.5;stroke:#008000;stroke-opacity:0.5;\" x=\"500.776646\" xlink:href=\"#m93fa14e1c5\" y=\"168.757485\"/>\n     <use style=\"fill:#008000;fill-opacity:0.5;stroke:#008000;stroke-opacity:0.5;\" x=\"494.728569\" xlink:href=\"#m93fa14e1c5\" y=\"204.94658\"/>\n     <use style=\"fill:#008000;fill-opacity:0.5;stroke:#008000;stroke-opacity:0.5;\" x=\"463.38379\" xlink:href=\"#m93fa14e1c5\" y=\"229.846763\"/>\n     <use style=\"fill:#008000;fill-opacity:0.5;stroke:#008000;stroke-opacity:0.5;\" x=\"483.919699\" xlink:href=\"#m93fa14e1c5\" y=\"118.148133\"/>\n     <use style=\"fill:#008000;fill-opacity:0.5;stroke:#008000;stroke-opacity:0.5;\" x=\"518.722162\" xlink:href=\"#m93fa14e1c5\" y=\"208.853511\"/>\n     <use style=\"fill:#008000;fill-opacity:0.5;stroke:#008000;stroke-opacity:0.5;\" x=\"504.633134\" xlink:href=\"#m93fa14e1c5\" y=\"173.316291\"/>\n     <use style=\"fill:#008000;fill-opacity:0.5;stroke:#008000;stroke-opacity:0.5;\" x=\"511.690704\" xlink:href=\"#m93fa14e1c5\" y=\"128.018723\"/>\n     <use style=\"fill:#008000;fill-opacity:0.5;stroke:#008000;stroke-opacity:0.5;\" x=\"478.979855\" xlink:href=\"#m93fa14e1c5\" y=\"62.483397\"/>\n     <use style=\"fill:#008000;fill-opacity:0.5;stroke:#008000;stroke-opacity:0.5;\" x=\"536.87621\" xlink:href=\"#m93fa14e1c5\" y=\"124.034336\"/>\n     <use style=\"fill:#008000;fill-opacity:0.5;stroke:#008000;stroke-opacity:0.5;\" x=\"562.431745\" xlink:href=\"#m93fa14e1c5\" y=\"151.899488\"/>\n     <use style=\"fill:#008000;fill-opacity:0.5;stroke:#008000;stroke-opacity:0.5;\" x=\"505.328701\" xlink:href=\"#m93fa14e1c5\" y=\"155.245131\"/>\n     <use style=\"fill:#008000;fill-opacity:0.5;stroke:#008000;stroke-opacity:0.5;\" x=\"521.370749\" xlink:href=\"#m93fa14e1c5\" y=\"245.370717\"/>\n     <use style=\"fill:#008000;fill-opacity:0.5;stroke:#008000;stroke-opacity:0.5;\" x=\"554.557542\" xlink:href=\"#m93fa14e1c5\" y=\"110.568665\"/>\n     <use style=\"fill:#008000;fill-opacity:0.5;stroke:#008000;stroke-opacity:0.5;\" x=\"525.389839\" xlink:href=\"#m93fa14e1c5\" y=\"212.245125\"/>\n     <use style=\"fill:#008000;fill-opacity:0.5;stroke:#008000;stroke-opacity:0.5;\" x=\"470.448076\" xlink:href=\"#m93fa14e1c5\" y=\"180.130869\"/>\n     <use style=\"fill:#008000;fill-opacity:0.5;stroke:#008000;stroke-opacity:0.5;\" x=\"502.236511\" xlink:href=\"#m93fa14e1c5\" y=\"168.876331\"/>\n     <use style=\"fill:#008000;fill-opacity:0.5;stroke:#008000;stroke-opacity:0.5;\" x=\"592.984652\" xlink:href=\"#m93fa14e1c5\" y=\"159.657266\"/>\n     <use style=\"fill:#008000;fill-opacity:0.5;stroke:#008000;stroke-opacity:0.5;\" x=\"504.844069\" xlink:href=\"#m93fa14e1c5\" y=\"206.618407\"/>\n     <use style=\"fill:#008000;fill-opacity:0.5;stroke:#008000;stroke-opacity:0.5;\" x=\"504.792816\" xlink:href=\"#m93fa14e1c5\" y=\"114.185805\"/>\n     <use style=\"fill:#008000;fill-opacity:0.5;stroke:#008000;stroke-opacity:0.5;\" x=\"483.410028\" xlink:href=\"#m93fa14e1c5\" y=\"229.873271\"/>\n     <use style=\"fill:#008000;fill-opacity:0.5;stroke:#008000;stroke-opacity:0.5;\" x=\"456.202286\" xlink:href=\"#m93fa14e1c5\" y=\"78.61557\"/>\n     <use style=\"fill:#008000;fill-opacity:0.5;stroke:#008000;stroke-opacity:0.5;\" x=\"549.406663\" xlink:href=\"#m93fa14e1c5\" y=\"170.579829\"/>\n     <use style=\"fill:#008000;fill-opacity:0.5;stroke:#008000;stroke-opacity:0.5;\" x=\"500.664659\" xlink:href=\"#m93fa14e1c5\" y=\"179.998112\"/>\n     <use style=\"fill:#008000;fill-opacity:0.5;stroke:#008000;stroke-opacity:0.5;\" x=\"531.41931\" xlink:href=\"#m93fa14e1c5\" y=\"187.170438\"/>\n     <use style=\"fill:#008000;fill-opacity:0.5;stroke:#008000;stroke-opacity:0.5;\" x=\"510.018317\" xlink:href=\"#m93fa14e1c5\" y=\"141.255931\"/>\n     <use style=\"fill:#008000;fill-opacity:0.5;stroke:#008000;stroke-opacity:0.5;\" x=\"482.382315\" xlink:href=\"#m93fa14e1c5\" y=\"200.875291\"/>\n     <use style=\"fill:#008000;fill-opacity:0.5;stroke:#008000;stroke-opacity:0.5;\" x=\"460.316612\" xlink:href=\"#m93fa14e1c5\" y=\"160.215113\"/>\n     <use style=\"fill:#008000;fill-opacity:0.5;stroke:#008000;stroke-opacity:0.5;\" x=\"510.816738\" xlink:href=\"#m93fa14e1c5\" y=\"237.780728\"/>\n     <use style=\"fill:#008000;fill-opacity:0.5;stroke:#008000;stroke-opacity:0.5;\" x=\"503.089578\" xlink:href=\"#m93fa14e1c5\" y=\"170.875977\"/>\n     <use style=\"fill:#008000;fill-opacity:0.5;stroke:#008000;stroke-opacity:0.5;\" x=\"495.68424\" xlink:href=\"#m93fa14e1c5\" y=\"156.981204\"/>\n     <use style=\"fill:#008000;fill-opacity:0.5;stroke:#008000;stroke-opacity:0.5;\" x=\"532.484419\" xlink:href=\"#m93fa14e1c5\" y=\"237.882349\"/>\n     <use style=\"fill:#008000;fill-opacity:0.5;stroke:#008000;stroke-opacity:0.5;\" x=\"551.546122\" xlink:href=\"#m93fa14e1c5\" y=\"166.396499\"/>\n     <use style=\"fill:#008000;fill-opacity:0.5;stroke:#008000;stroke-opacity:0.5;\" x=\"564.241033\" xlink:href=\"#m93fa14e1c5\" y=\"224.545675\"/>\n     <use style=\"fill:#008000;fill-opacity:0.5;stroke:#008000;stroke-opacity:0.5;\" x=\"506.059942\" xlink:href=\"#m93fa14e1c5\" y=\"171.963271\"/>\n     <use style=\"fill:#008000;fill-opacity:0.5;stroke:#008000;stroke-opacity:0.5;\" x=\"534.485063\" xlink:href=\"#m93fa14e1c5\" y=\"171.624326\"/>\n     <use style=\"fill:#008000;fill-opacity:0.5;stroke:#008000;stroke-opacity:0.5;\" x=\"520.960225\" xlink:href=\"#m93fa14e1c5\" y=\"216.651216\"/>\n     <use style=\"fill:#008000;fill-opacity:0.5;stroke:#008000;stroke-opacity:0.5;\" x=\"530.069895\" xlink:href=\"#m93fa14e1c5\" y=\"211.01839\"/>\n     <use style=\"fill:#008000;fill-opacity:0.5;stroke:#008000;stroke-opacity:0.5;\" x=\"413.757151\" xlink:href=\"#m93fa14e1c5\" y=\"150.680515\"/>\n     <use style=\"fill:#008000;fill-opacity:0.5;stroke:#008000;stroke-opacity:0.5;\" x=\"479.03073\" xlink:href=\"#m93fa14e1c5\" y=\"127.129207\"/>\n     <use style=\"fill:#008000;fill-opacity:0.5;stroke:#008000;stroke-opacity:0.5;\" x=\"551.424939\" xlink:href=\"#m93fa14e1c5\" y=\"207.628986\"/>\n     <use style=\"fill:#008000;fill-opacity:0.5;stroke:#008000;stroke-opacity:0.5;\" x=\"523.070144\" xlink:href=\"#m93fa14e1c5\" y=\"198.505609\"/>\n     <use style=\"fill:#008000;fill-opacity:0.5;stroke:#008000;stroke-opacity:0.5;\" x=\"529.83752\" xlink:href=\"#m93fa14e1c5\" y=\"231.413654\"/>\n     <use style=\"fill:#008000;fill-opacity:0.5;stroke:#008000;stroke-opacity:0.5;\" x=\"517.838565\" xlink:href=\"#m93fa14e1c5\" y=\"194.311262\"/>\n     <use style=\"fill:#008000;fill-opacity:0.5;stroke:#008000;stroke-opacity:0.5;\" x=\"412.708479\" xlink:href=\"#m93fa14e1c5\" y=\"175.574944\"/>\n     <use style=\"fill:#008000;fill-opacity:0.5;stroke:#008000;stroke-opacity:0.5;\" x=\"483.94069\" xlink:href=\"#m93fa14e1c5\" y=\"167.149396\"/>\n     <use style=\"fill:#008000;fill-opacity:0.5;stroke:#008000;stroke-opacity:0.5;\" x=\"482.705651\" xlink:href=\"#m93fa14e1c5\" y=\"237.904225\"/>\n     <use style=\"fill:#008000;fill-opacity:0.5;stroke:#008000;stroke-opacity:0.5;\" x=\"561.463181\" xlink:href=\"#m93fa14e1c5\" y=\"149.45527\"/>\n     <use style=\"fill:#008000;fill-opacity:0.5;stroke:#008000;stroke-opacity:0.5;\" x=\"525.191212\" xlink:href=\"#m93fa14e1c5\" y=\"209.179616\"/>\n     <use style=\"fill:#008000;fill-opacity:0.5;stroke:#008000;stroke-opacity:0.5;\" x=\"547.980484\" xlink:href=\"#m93fa14e1c5\" y=\"171.556651\"/>\n     <use style=\"fill:#008000;fill-opacity:0.5;stroke:#008000;stroke-opacity:0.5;\" x=\"506.249584\" xlink:href=\"#m93fa14e1c5\" y=\"117.595385\"/>\n     <use style=\"fill:#008000;fill-opacity:0.5;stroke:#008000;stroke-opacity:0.5;\" x=\"517.389958\" xlink:href=\"#m93fa14e1c5\" y=\"114.425274\"/>\n     <use style=\"fill:#008000;fill-opacity:0.5;stroke:#008000;stroke-opacity:0.5;\" x=\"537.934677\" xlink:href=\"#m93fa14e1c5\" y=\"102.012636\"/>\n     <use style=\"fill:#008000;fill-opacity:0.5;stroke:#008000;stroke-opacity:0.5;\" x=\"488.921246\" xlink:href=\"#m93fa14e1c5\" y=\"193.831222\"/>\n     <use style=\"fill:#008000;fill-opacity:0.5;stroke:#008000;stroke-opacity:0.5;\" x=\"494.359139\" xlink:href=\"#m93fa14e1c5\" y=\"190.43537\"/>\n     <use style=\"fill:#008000;fill-opacity:0.5;stroke:#008000;stroke-opacity:0.5;\" x=\"516.660958\" xlink:href=\"#m93fa14e1c5\" y=\"254.358017\"/>\n     <use style=\"fill:#008000;fill-opacity:0.5;stroke:#008000;stroke-opacity:0.5;\" x=\"590.685261\" xlink:href=\"#m93fa14e1c5\" y=\"109.244652\"/>\n     <use style=\"fill:#008000;fill-opacity:0.5;stroke:#008000;stroke-opacity:0.5;\" x=\"431.349838\" xlink:href=\"#m93fa14e1c5\" y=\"142.821683\"/>\n     <use style=\"fill:#008000;fill-opacity:0.5;stroke:#008000;stroke-opacity:0.5;\" x=\"609.207309\" xlink:href=\"#m93fa14e1c5\" y=\"121.941525\"/>\n     <use style=\"fill:#008000;fill-opacity:0.5;stroke:#008000;stroke-opacity:0.5;\" x=\"494.539113\" xlink:href=\"#m93fa14e1c5\" y=\"197.204759\"/>\n     <use style=\"fill:#008000;fill-opacity:0.5;stroke:#008000;stroke-opacity:0.5;\" x=\"538.138772\" xlink:href=\"#m93fa14e1c5\" y=\"127.066792\"/>\n     <use style=\"fill:#008000;fill-opacity:0.5;stroke:#008000;stroke-opacity:0.5;\" x=\"502.127307\" xlink:href=\"#m93fa14e1c5\" y=\"188.80834\"/>\n     <use style=\"fill:#008000;fill-opacity:0.5;stroke:#008000;stroke-opacity:0.5;\" x=\"538.146944\" xlink:href=\"#m93fa14e1c5\" y=\"261.822003\"/>\n     <use style=\"fill:#008000;fill-opacity:0.5;stroke:#008000;stroke-opacity:0.5;\" x=\"528.524259\" xlink:href=\"#m93fa14e1c5\" y=\"175.890456\"/>\n     <use style=\"fill:#008000;fill-opacity:0.5;stroke:#008000;stroke-opacity:0.5;\" x=\"553.534975\" xlink:href=\"#m93fa14e1c5\" y=\"87.279212\"/>\n     <use style=\"fill:#008000;fill-opacity:0.5;stroke:#008000;stroke-opacity:0.5;\" x=\"487.376286\" xlink:href=\"#m93fa14e1c5\" y=\"107.371817\"/>\n     <use style=\"fill:#008000;fill-opacity:0.5;stroke:#008000;stroke-opacity:0.5;\" x=\"463.891484\" xlink:href=\"#m93fa14e1c5\" y=\"318.534545\"/>\n     <use style=\"fill:#008000;fill-opacity:0.5;stroke:#008000;stroke-opacity:0.5;\" x=\"488.204738\" xlink:href=\"#m93fa14e1c5\" y=\"127.140971\"/>\n     <use style=\"fill:#008000;fill-opacity:0.5;stroke:#008000;stroke-opacity:0.5;\" x=\"601.526539\" xlink:href=\"#m93fa14e1c5\" y=\"151.344455\"/>\n     <use style=\"fill:#008000;fill-opacity:0.5;stroke:#008000;stroke-opacity:0.5;\" x=\"470.112974\" xlink:href=\"#m93fa14e1c5\" y=\"124.430149\"/>\n     <use style=\"fill:#008000;fill-opacity:0.5;stroke:#008000;stroke-opacity:0.5;\" x=\"546.4144\" xlink:href=\"#m93fa14e1c5\" y=\"215.193863\"/>\n     <use style=\"fill:#008000;fill-opacity:0.5;stroke:#008000;stroke-opacity:0.5;\" x=\"520.006805\" xlink:href=\"#m93fa14e1c5\" y=\"184.389084\"/>\n     <use style=\"fill:#008000;fill-opacity:0.5;stroke:#008000;stroke-opacity:0.5;\" x=\"585.476594\" xlink:href=\"#m93fa14e1c5\" y=\"180.400231\"/>\n     <use style=\"fill:#008000;fill-opacity:0.5;stroke:#008000;stroke-opacity:0.5;\" x=\"471.919253\" xlink:href=\"#m93fa14e1c5\" y=\"152.530106\"/>\n     <use style=\"fill:#008000;fill-opacity:0.5;stroke:#008000;stroke-opacity:0.5;\" x=\"481.174449\" xlink:href=\"#m93fa14e1c5\" y=\"177.430887\"/>\n     <use style=\"fill:#008000;fill-opacity:0.5;stroke:#008000;stroke-opacity:0.5;\" x=\"434.722706\" xlink:href=\"#m93fa14e1c5\" y=\"185.810385\"/>\n     <use style=\"fill:#008000;fill-opacity:0.5;stroke:#008000;stroke-opacity:0.5;\" x=\"542.371703\" xlink:href=\"#m93fa14e1c5\" y=\"150.604902\"/>\n     <use style=\"fill:#008000;fill-opacity:0.5;stroke:#008000;stroke-opacity:0.5;\" x=\"461.16585\" xlink:href=\"#m93fa14e1c5\" y=\"183.3343\"/>\n     <use style=\"fill:#008000;fill-opacity:0.5;stroke:#008000;stroke-opacity:0.5;\" x=\"523.83922\" xlink:href=\"#m93fa14e1c5\" y=\"216.15179\"/>\n     <use style=\"fill:#008000;fill-opacity:0.5;stroke:#008000;stroke-opacity:0.5;\" x=\"499.750688\" xlink:href=\"#m93fa14e1c5\" y=\"221.081317\"/>\n     <use style=\"fill:#008000;fill-opacity:0.5;stroke:#008000;stroke-opacity:0.5;\" x=\"539.668298\" xlink:href=\"#m93fa14e1c5\" y=\"156.524037\"/>\n     <use style=\"fill:#008000;fill-opacity:0.5;stroke:#008000;stroke-opacity:0.5;\" x=\"504.308392\" xlink:href=\"#m93fa14e1c5\" y=\"207.107682\"/>\n     <use style=\"fill:#008000;fill-opacity:0.5;stroke:#008000;stroke-opacity:0.5;\" x=\"523.933586\" xlink:href=\"#m93fa14e1c5\" y=\"114.908441\"/>\n     <use style=\"fill:#008000;fill-opacity:0.5;stroke:#008000;stroke-opacity:0.5;\" x=\"575.246017\" xlink:href=\"#m93fa14e1c5\" y=\"139.52353\"/>\n     <use style=\"fill:#008000;fill-opacity:0.5;stroke:#008000;stroke-opacity:0.5;\" x=\"525.112644\" xlink:href=\"#m93fa14e1c5\" y=\"201.301408\"/>\n     <use style=\"fill:#008000;fill-opacity:0.5;stroke:#008000;stroke-opacity:0.5;\" x=\"455.256888\" xlink:href=\"#m93fa14e1c5\" y=\"181.011424\"/>\n     <use style=\"fill:#008000;fill-opacity:0.5;stroke:#008000;stroke-opacity:0.5;\" x=\"522.186238\" xlink:href=\"#m93fa14e1c5\" y=\"158.465006\"/>\n     <use style=\"fill:#008000;fill-opacity:0.5;stroke:#008000;stroke-opacity:0.5;\" x=\"514.528952\" xlink:href=\"#m93fa14e1c5\" y=\"197.743071\"/>\n     <use style=\"fill:#008000;fill-opacity:0.5;stroke:#008000;stroke-opacity:0.5;\" x=\"555.767124\" xlink:href=\"#m93fa14e1c5\" y=\"205.972722\"/>\n     <use style=\"fill:#008000;fill-opacity:0.5;stroke:#008000;stroke-opacity:0.5;\" x=\"497.918165\" xlink:href=\"#m93fa14e1c5\" y=\"128.510431\"/>\n     <use style=\"fill:#008000;fill-opacity:0.5;stroke:#008000;stroke-opacity:0.5;\" x=\"470.337005\" xlink:href=\"#m93fa14e1c5\" y=\"166.505\"/>\n     <use style=\"fill:#008000;fill-opacity:0.5;stroke:#008000;stroke-opacity:0.5;\" x=\"503.507795\" xlink:href=\"#m93fa14e1c5\" y=\"210.940754\"/>\n     <use style=\"fill:#008000;fill-opacity:0.5;stroke:#008000;stroke-opacity:0.5;\" x=\"508.677032\" xlink:href=\"#m93fa14e1c5\" y=\"216.583518\"/>\n     <use style=\"fill:#008000;fill-opacity:0.5;stroke:#008000;stroke-opacity:0.5;\" x=\"452.050626\" xlink:href=\"#m93fa14e1c5\" y=\"22.025455\"/>\n     <use style=\"fill:#008000;fill-opacity:0.5;stroke:#008000;stroke-opacity:0.5;\" x=\"516.324875\" xlink:href=\"#m93fa14e1c5\" y=\"185.950367\"/>\n     <use style=\"fill:#008000;fill-opacity:0.5;stroke:#008000;stroke-opacity:0.5;\" x=\"530.635929\" xlink:href=\"#m93fa14e1c5\" y=\"166.296762\"/>\n     <use style=\"fill:#008000;fill-opacity:0.5;stroke:#008000;stroke-opacity:0.5;\" x=\"549.590563\" xlink:href=\"#m93fa14e1c5\" y=\"96.343978\"/>\n     <use style=\"fill:#008000;fill-opacity:0.5;stroke:#008000;stroke-opacity:0.5;\" x=\"523.160155\" xlink:href=\"#m93fa14e1c5\" y=\"167.112084\"/>\n     <use style=\"fill:#008000;fill-opacity:0.5;stroke:#008000;stroke-opacity:0.5;\" x=\"466.256453\" xlink:href=\"#m93fa14e1c5\" y=\"219.034346\"/>\n     <use style=\"fill:#008000;fill-opacity:0.5;stroke:#008000;stroke-opacity:0.5;\" x=\"562.984454\" xlink:href=\"#m93fa14e1c5\" y=\"281.027308\"/>\n     <use style=\"fill:#008000;fill-opacity:0.5;stroke:#008000;stroke-opacity:0.5;\" x=\"506.570363\" xlink:href=\"#m93fa14e1c5\" y=\"200.832114\"/>\n     <use style=\"fill:#008000;fill-opacity:0.5;stroke:#008000;stroke-opacity:0.5;\" x=\"490.023312\" xlink:href=\"#m93fa14e1c5\" y=\"179.546881\"/>\n     <use style=\"fill:#008000;fill-opacity:0.5;stroke:#008000;stroke-opacity:0.5;\" x=\"504.280481\" xlink:href=\"#m93fa14e1c5\" y=\"200.737941\"/>\n     <use style=\"fill:#008000;fill-opacity:0.5;stroke:#008000;stroke-opacity:0.5;\" x=\"513.571702\" xlink:href=\"#m93fa14e1c5\" y=\"173.71987\"/>\n     <use style=\"fill:#008000;fill-opacity:0.5;stroke:#008000;stroke-opacity:0.5;\" x=\"418.26015\" xlink:href=\"#m93fa14e1c5\" y=\"203.427216\"/>\n     <use style=\"fill:#008000;fill-opacity:0.5;stroke:#008000;stroke-opacity:0.5;\" x=\"549.04878\" xlink:href=\"#m93fa14e1c5\" y=\"102.568763\"/>\n     <use style=\"fill:#008000;fill-opacity:0.5;stroke:#008000;stroke-opacity:0.5;\" x=\"515.436547\" xlink:href=\"#m93fa14e1c5\" y=\"154.568481\"/>\n     <use style=\"fill:#008000;fill-opacity:0.5;stroke:#008000;stroke-opacity:0.5;\" x=\"568.617214\" xlink:href=\"#m93fa14e1c5\" y=\"178.570669\"/>\n     <use style=\"fill:#008000;fill-opacity:0.5;stroke:#008000;stroke-opacity:0.5;\" x=\"487.427678\" xlink:href=\"#m93fa14e1c5\" y=\"212.636721\"/>\n     <use style=\"fill:#008000;fill-opacity:0.5;stroke:#008000;stroke-opacity:0.5;\" x=\"520.618371\" xlink:href=\"#m93fa14e1c5\" y=\"151.814569\"/>\n     <use style=\"fill:#008000;fill-opacity:0.5;stroke:#008000;stroke-opacity:0.5;\" x=\"518.887492\" xlink:href=\"#m93fa14e1c5\" y=\"114.888584\"/>\n     <use style=\"fill:#008000;fill-opacity:0.5;stroke:#008000;stroke-opacity:0.5;\" x=\"509.869611\" xlink:href=\"#m93fa14e1c5\" y=\"152.69742\"/>\n     <use style=\"fill:#008000;fill-opacity:0.5;stroke:#008000;stroke-opacity:0.5;\" x=\"523.212833\" xlink:href=\"#m93fa14e1c5\" y=\"154.90265\"/>\n     <use style=\"fill:#008000;fill-opacity:0.5;stroke:#008000;stroke-opacity:0.5;\" x=\"504.26278\" xlink:href=\"#m93fa14e1c5\" y=\"128.546801\"/>\n     <use style=\"fill:#008000;fill-opacity:0.5;stroke:#008000;stroke-opacity:0.5;\" x=\"460.108755\" xlink:href=\"#m93fa14e1c5\" y=\"137.356568\"/>\n     <use style=\"fill:#008000;fill-opacity:0.5;stroke:#008000;stroke-opacity:0.5;\" x=\"495.89444\" xlink:href=\"#m93fa14e1c5\" y=\"180.745816\"/>\n     <use style=\"fill:#008000;fill-opacity:0.5;stroke:#008000;stroke-opacity:0.5;\" x=\"515.370245\" xlink:href=\"#m93fa14e1c5\" y=\"210.420983\"/>\n     <use style=\"fill:#008000;fill-opacity:0.5;stroke:#008000;stroke-opacity:0.5;\" x=\"485.761342\" xlink:href=\"#m93fa14e1c5\" y=\"202.370693\"/>\n     <use style=\"fill:#008000;fill-opacity:0.5;stroke:#008000;stroke-opacity:0.5;\" x=\"490.649973\" xlink:href=\"#m93fa14e1c5\" y=\"154.799855\"/>\n     <use style=\"fill:#008000;fill-opacity:0.5;stroke:#008000;stroke-opacity:0.5;\" x=\"438.484617\" xlink:href=\"#m93fa14e1c5\" y=\"150.433656\"/>\n     <use style=\"fill:#008000;fill-opacity:0.5;stroke:#008000;stroke-opacity:0.5;\" x=\"474.74788\" xlink:href=\"#m93fa14e1c5\" y=\"110.416464\"/>\n     <use style=\"fill:#008000;fill-opacity:0.5;stroke:#008000;stroke-opacity:0.5;\" x=\"510.855069\" xlink:href=\"#m93fa14e1c5\" y=\"222.925934\"/>\n     <use style=\"fill:#008000;fill-opacity:0.5;stroke:#008000;stroke-opacity:0.5;\" x=\"541.062624\" xlink:href=\"#m93fa14e1c5\" y=\"209.97686\"/>\n     <use style=\"fill:#008000;fill-opacity:0.5;stroke:#008000;stroke-opacity:0.5;\" x=\"474.821004\" xlink:href=\"#m93fa14e1c5\" y=\"149.176437\"/>\n     <use style=\"fill:#008000;fill-opacity:0.5;stroke:#008000;stroke-opacity:0.5;\" x=\"512.332851\" xlink:href=\"#m93fa14e1c5\" y=\"238.094948\"/>\n     <use style=\"fill:#008000;fill-opacity:0.5;stroke:#008000;stroke-opacity:0.5;\" x=\"577.13885\" xlink:href=\"#m93fa14e1c5\" y=\"161.862393\"/>\n     <use style=\"fill:#008000;fill-opacity:0.5;stroke:#008000;stroke-opacity:0.5;\" x=\"475.592309\" xlink:href=\"#m93fa14e1c5\" y=\"140.34626\"/>\n     <use style=\"fill:#008000;fill-opacity:0.5;stroke:#008000;stroke-opacity:0.5;\" x=\"465.9032\" xlink:href=\"#m93fa14e1c5\" y=\"165.116555\"/>\n     <use style=\"fill:#008000;fill-opacity:0.5;stroke:#008000;stroke-opacity:0.5;\" x=\"552.679428\" xlink:href=\"#m93fa14e1c5\" y=\"158.787673\"/>\n     <use style=\"fill:#008000;fill-opacity:0.5;stroke:#008000;stroke-opacity:0.5;\" x=\"509.247525\" xlink:href=\"#m93fa14e1c5\" y=\"151.868816\"/>\n     <use style=\"fill:#008000;fill-opacity:0.5;stroke:#008000;stroke-opacity:0.5;\" x=\"509.079701\" xlink:href=\"#m93fa14e1c5\" y=\"171.356319\"/>\n     <use style=\"fill:#008000;fill-opacity:0.5;stroke:#008000;stroke-opacity:0.5;\" x=\"463.687699\" xlink:href=\"#m93fa14e1c5\" y=\"163.281551\"/>\n     <use style=\"fill:#008000;fill-opacity:0.5;stroke:#008000;stroke-opacity:0.5;\" x=\"543.535631\" xlink:href=\"#m93fa14e1c5\" y=\"195.488787\"/>\n     <use style=\"fill:#008000;fill-opacity:0.5;stroke:#008000;stroke-opacity:0.5;\" x=\"498.340198\" xlink:href=\"#m93fa14e1c5\" y=\"98.333454\"/>\n     <use style=\"fill:#008000;fill-opacity:0.5;stroke:#008000;stroke-opacity:0.5;\" x=\"448.000187\" xlink:href=\"#m93fa14e1c5\" y=\"173.746123\"/>\n     <use style=\"fill:#008000;fill-opacity:0.5;stroke:#008000;stroke-opacity:0.5;\" x=\"496.083116\" xlink:href=\"#m93fa14e1c5\" y=\"212.312366\"/>\n     <use style=\"fill:#008000;fill-opacity:0.5;stroke:#008000;stroke-opacity:0.5;\" x=\"510.132014\" xlink:href=\"#m93fa14e1c5\" y=\"246.899746\"/>\n     <use style=\"fill:#008000;fill-opacity:0.5;stroke:#008000;stroke-opacity:0.5;\" x=\"592.915738\" xlink:href=\"#m93fa14e1c5\" y=\"247.665386\"/>\n     <use style=\"fill:#008000;fill-opacity:0.5;stroke:#008000;stroke-opacity:0.5;\" x=\"537.254398\" xlink:href=\"#m93fa14e1c5\" y=\"142.277256\"/>\n     <use style=\"fill:#008000;fill-opacity:0.5;stroke:#008000;stroke-opacity:0.5;\" x=\"517.89169\" xlink:href=\"#m93fa14e1c5\" y=\"277.038127\"/>\n     <use style=\"fill:#008000;fill-opacity:0.5;stroke:#008000;stroke-opacity:0.5;\" x=\"555.167469\" xlink:href=\"#m93fa14e1c5\" y=\"163.375843\"/>\n     <use style=\"fill:#008000;fill-opacity:0.5;stroke:#008000;stroke-opacity:0.5;\" x=\"537.836377\" xlink:href=\"#m93fa14e1c5\" y=\"190.92405\"/>\n     <use style=\"fill:#008000;fill-opacity:0.5;stroke:#008000;stroke-opacity:0.5;\" x=\"522.867701\" xlink:href=\"#m93fa14e1c5\" y=\"208.710017\"/>\n     <use style=\"fill:#008000;fill-opacity:0.5;stroke:#008000;stroke-opacity:0.5;\" x=\"526.778148\" xlink:href=\"#m93fa14e1c5\" y=\"81.233856\"/>\n     <use style=\"fill:#008000;fill-opacity:0.5;stroke:#008000;stroke-opacity:0.5;\" x=\"523.683755\" xlink:href=\"#m93fa14e1c5\" y=\"163.202251\"/>\n     <use style=\"fill:#008000;fill-opacity:0.5;stroke:#008000;stroke-opacity:0.5;\" x=\"509.568946\" xlink:href=\"#m93fa14e1c5\" y=\"258.850766\"/>\n     <use style=\"fill:#008000;fill-opacity:0.5;stroke:#008000;stroke-opacity:0.5;\" x=\"475.335056\" xlink:href=\"#m93fa14e1c5\" y=\"214.212704\"/>\n     <use style=\"fill:#008000;fill-opacity:0.5;stroke:#008000;stroke-opacity:0.5;\" x=\"519.210509\" xlink:href=\"#m93fa14e1c5\" y=\"130.564734\"/>\n     <use style=\"fill:#008000;fill-opacity:0.5;stroke:#008000;stroke-opacity:0.5;\" x=\"511.944201\" xlink:href=\"#m93fa14e1c5\" y=\"214.048182\"/>\n     <use style=\"fill:#008000;fill-opacity:0.5;stroke:#008000;stroke-opacity:0.5;\" x=\"452.317687\" xlink:href=\"#m93fa14e1c5\" y=\"171.453589\"/>\n     <use style=\"fill:#008000;fill-opacity:0.5;stroke:#008000;stroke-opacity:0.5;\" x=\"491.126801\" xlink:href=\"#m93fa14e1c5\" y=\"183.691432\"/>\n     <use style=\"fill:#008000;fill-opacity:0.5;stroke:#008000;stroke-opacity:0.5;\" x=\"525.104488\" xlink:href=\"#m93fa14e1c5\" y=\"120.585381\"/>\n     <use style=\"fill:#008000;fill-opacity:0.5;stroke:#008000;stroke-opacity:0.5;\" x=\"450.742175\" xlink:href=\"#m93fa14e1c5\" y=\"116.053627\"/>\n     <use style=\"fill:#008000;fill-opacity:0.5;stroke:#008000;stroke-opacity:0.5;\" x=\"550.968695\" xlink:href=\"#m93fa14e1c5\" y=\"217.865794\"/>\n     <use style=\"fill:#008000;fill-opacity:0.5;stroke:#008000;stroke-opacity:0.5;\" x=\"517.12304\" xlink:href=\"#m93fa14e1c5\" y=\"119.125037\"/>\n     <use style=\"fill:#008000;fill-opacity:0.5;stroke:#008000;stroke-opacity:0.5;\" x=\"466.776784\" xlink:href=\"#m93fa14e1c5\" y=\"111.369038\"/>\n     <use style=\"fill:#008000;fill-opacity:0.5;stroke:#008000;stroke-opacity:0.5;\" x=\"433.905268\" xlink:href=\"#m93fa14e1c5\" y=\"159.934429\"/>\n     <use style=\"fill:#008000;fill-opacity:0.5;stroke:#008000;stroke-opacity:0.5;\" x=\"457.445508\" xlink:href=\"#m93fa14e1c5\" y=\"146.575459\"/>\n     <use style=\"fill:#008000;fill-opacity:0.5;stroke:#008000;stroke-opacity:0.5;\" x=\"487.682169\" xlink:href=\"#m93fa14e1c5\" y=\"139.852943\"/>\n     <use style=\"fill:#008000;fill-opacity:0.5;stroke:#008000;stroke-opacity:0.5;\" x=\"476.517469\" xlink:href=\"#m93fa14e1c5\" y=\"171.081363\"/>\n     <use style=\"fill:#008000;fill-opacity:0.5;stroke:#008000;stroke-opacity:0.5;\" x=\"447.40018\" xlink:href=\"#m93fa14e1c5\" y=\"167.703698\"/>\n     <use style=\"fill:#008000;fill-opacity:0.5;stroke:#008000;stroke-opacity:0.5;\" x=\"570.025648\" xlink:href=\"#m93fa14e1c5\" y=\"114.52125\"/>\n     <use style=\"fill:#008000;fill-opacity:0.5;stroke:#008000;stroke-opacity:0.5;\" x=\"490.014993\" xlink:href=\"#m93fa14e1c5\" y=\"178.768589\"/>\n     <use style=\"fill:#008000;fill-opacity:0.5;stroke:#008000;stroke-opacity:0.5;\" x=\"551.769836\" xlink:href=\"#m93fa14e1c5\" y=\"110.29911\"/>\n     <use style=\"fill:#008000;fill-opacity:0.5;stroke:#008000;stroke-opacity:0.5;\" x=\"524.961629\" xlink:href=\"#m93fa14e1c5\" y=\"209.072758\"/>\n     <use style=\"fill:#008000;fill-opacity:0.5;stroke:#008000;stroke-opacity:0.5;\" x=\"503.388352\" xlink:href=\"#m93fa14e1c5\" y=\"166.49193\"/>\n     <use style=\"fill:#008000;fill-opacity:0.5;stroke:#008000;stroke-opacity:0.5;\" x=\"533.232641\" xlink:href=\"#m93fa14e1c5\" y=\"155.886037\"/>\n     <use style=\"fill:#008000;fill-opacity:0.5;stroke:#008000;stroke-opacity:0.5;\" x=\"482.971359\" xlink:href=\"#m93fa14e1c5\" y=\"108.721148\"/>\n     <use style=\"fill:#008000;fill-opacity:0.5;stroke:#008000;stroke-opacity:0.5;\" x=\"498.162035\" xlink:href=\"#m93fa14e1c5\" y=\"117.822745\"/>\n     <use style=\"fill:#008000;fill-opacity:0.5;stroke:#008000;stroke-opacity:0.5;\" x=\"484.777188\" xlink:href=\"#m93fa14e1c5\" y=\"171.18755\"/>\n     <use style=\"fill:#008000;fill-opacity:0.5;stroke:#008000;stroke-opacity:0.5;\" x=\"491.21691\" xlink:href=\"#m93fa14e1c5\" y=\"186.018062\"/>\n     <use style=\"fill:#008000;fill-opacity:0.5;stroke:#008000;stroke-opacity:0.5;\" x=\"492.636348\" xlink:href=\"#m93fa14e1c5\" y=\"162.53068\"/>\n     <use style=\"fill:#008000;fill-opacity:0.5;stroke:#008000;stroke-opacity:0.5;\" x=\"501.815429\" xlink:href=\"#m93fa14e1c5\" y=\"189.835343\"/>\n     <use style=\"fill:#008000;fill-opacity:0.5;stroke:#008000;stroke-opacity:0.5;\" x=\"493.670394\" xlink:href=\"#m93fa14e1c5\" y=\"172.101752\"/>\n     <use style=\"fill:#008000;fill-opacity:0.5;stroke:#008000;stroke-opacity:0.5;\" x=\"576.637804\" xlink:href=\"#m93fa14e1c5\" y=\"120.017987\"/>\n     <use style=\"fill:#008000;fill-opacity:0.5;stroke:#008000;stroke-opacity:0.5;\" x=\"541.104842\" xlink:href=\"#m93fa14e1c5\" y=\"179.418762\"/>\n     <use style=\"fill:#008000;fill-opacity:0.5;stroke:#008000;stroke-opacity:0.5;\" x=\"463.500596\" xlink:href=\"#m93fa14e1c5\" y=\"179.71612\"/>\n     <use style=\"fill:#008000;fill-opacity:0.5;stroke:#008000;stroke-opacity:0.5;\" x=\"537.483691\" xlink:href=\"#m93fa14e1c5\" y=\"130.272299\"/>\n     <use style=\"fill:#008000;fill-opacity:0.5;stroke:#008000;stroke-opacity:0.5;\" x=\"533.159106\" xlink:href=\"#m93fa14e1c5\" y=\"204.231807\"/>\n     <use style=\"fill:#008000;fill-opacity:0.5;stroke:#008000;stroke-opacity:0.5;\" x=\"486.290274\" xlink:href=\"#m93fa14e1c5\" y=\"224.865683\"/>\n     <use style=\"fill:#008000;fill-opacity:0.5;stroke:#008000;stroke-opacity:0.5;\" x=\"512.550393\" xlink:href=\"#m93fa14e1c5\" y=\"223.709757\"/>\n     <use style=\"fill:#008000;fill-opacity:0.5;stroke:#008000;stroke-opacity:0.5;\" x=\"481.934947\" xlink:href=\"#m93fa14e1c5\" y=\"192.50388\"/>\n     <use style=\"fill:#008000;fill-opacity:0.5;stroke:#008000;stroke-opacity:0.5;\" x=\"451.924105\" xlink:href=\"#m93fa14e1c5\" y=\"159.847237\"/>\n     <use style=\"fill:#008000;fill-opacity:0.5;stroke:#008000;stroke-opacity:0.5;\" x=\"471.176469\" xlink:href=\"#m93fa14e1c5\" y=\"137.684912\"/>\n     <use style=\"fill:#008000;fill-opacity:0.5;stroke:#008000;stroke-opacity:0.5;\" x=\"474.113118\" xlink:href=\"#m93fa14e1c5\" y=\"241.961397\"/>\n     <use style=\"fill:#008000;fill-opacity:0.5;stroke:#008000;stroke-opacity:0.5;\" x=\"454.027577\" xlink:href=\"#m93fa14e1c5\" y=\"169.189413\"/>\n     <use style=\"fill:#008000;fill-opacity:0.5;stroke:#008000;stroke-opacity:0.5;\" x=\"543.241005\" xlink:href=\"#m93fa14e1c5\" y=\"131.101441\"/>\n     <use style=\"fill:#008000;fill-opacity:0.5;stroke:#008000;stroke-opacity:0.5;\" x=\"483.405705\" xlink:href=\"#m93fa14e1c5\" y=\"157.904085\"/>\n     <use style=\"fill:#008000;fill-opacity:0.5;stroke:#008000;stroke-opacity:0.5;\" x=\"487.981828\" xlink:href=\"#m93fa14e1c5\" y=\"212.62191\"/>\n     <use style=\"fill:#008000;fill-opacity:0.5;stroke:#008000;stroke-opacity:0.5;\" x=\"520.589595\" xlink:href=\"#m93fa14e1c5\" y=\"194.717834\"/>\n     <use style=\"fill:#008000;fill-opacity:0.5;stroke:#008000;stroke-opacity:0.5;\" x=\"501.955776\" xlink:href=\"#m93fa14e1c5\" y=\"204.087117\"/>\n     <use style=\"fill:#008000;fill-opacity:0.5;stroke:#008000;stroke-opacity:0.5;\" x=\"516.547232\" xlink:href=\"#m93fa14e1c5\" y=\"164.441502\"/>\n     <use style=\"fill:#008000;fill-opacity:0.5;stroke:#008000;stroke-opacity:0.5;\" x=\"487.250043\" xlink:href=\"#m93fa14e1c5\" y=\"219.50385\"/>\n     <use style=\"fill:#008000;fill-opacity:0.5;stroke:#008000;stroke-opacity:0.5;\" x=\"519.973186\" xlink:href=\"#m93fa14e1c5\" y=\"202.39991\"/>\n     <use style=\"fill:#008000;fill-opacity:0.5;stroke:#008000;stroke-opacity:0.5;\" x=\"574.168712\" xlink:href=\"#m93fa14e1c5\" y=\"101.656173\"/>\n     <use style=\"fill:#008000;fill-opacity:0.5;stroke:#008000;stroke-opacity:0.5;\" x=\"500.474701\" xlink:href=\"#m93fa14e1c5\" y=\"110.122831\"/>\n     <use style=\"fill:#008000;fill-opacity:0.5;stroke:#008000;stroke-opacity:0.5;\" x=\"516.892078\" xlink:href=\"#m93fa14e1c5\" y=\"206.322322\"/>\n     <use style=\"fill:#008000;fill-opacity:0.5;stroke:#008000;stroke-opacity:0.5;\" x=\"492.622705\" xlink:href=\"#m93fa14e1c5\" y=\"109.823276\"/>\n     <use style=\"fill:#008000;fill-opacity:0.5;stroke:#008000;stroke-opacity:0.5;\" x=\"560.045932\" xlink:href=\"#m93fa14e1c5\" y=\"191.701216\"/>\n     <use style=\"fill:#008000;fill-opacity:0.5;stroke:#008000;stroke-opacity:0.5;\" x=\"529.823314\" xlink:href=\"#m93fa14e1c5\" y=\"161.810764\"/>\n     <use style=\"fill:#008000;fill-opacity:0.5;stroke:#008000;stroke-opacity:0.5;\" x=\"503.446169\" xlink:href=\"#m93fa14e1c5\" y=\"154.33468\"/>\n     <use style=\"fill:#008000;fill-opacity:0.5;stroke:#008000;stroke-opacity:0.5;\" x=\"502.491196\" xlink:href=\"#m93fa14e1c5\" y=\"213.96457\"/>\n     <use style=\"fill:#008000;fill-opacity:0.5;stroke:#008000;stroke-opacity:0.5;\" x=\"413.253055\" xlink:href=\"#m93fa14e1c5\" y=\"186.331579\"/>\n     <use style=\"fill:#008000;fill-opacity:0.5;stroke:#008000;stroke-opacity:0.5;\" x=\"534.977135\" xlink:href=\"#m93fa14e1c5\" y=\"163.180574\"/>\n     <use style=\"fill:#008000;fill-opacity:0.5;stroke:#008000;stroke-opacity:0.5;\" x=\"462.591778\" xlink:href=\"#m93fa14e1c5\" y=\"200.087944\"/>\n     <use style=\"fill:#008000;fill-opacity:0.5;stroke:#008000;stroke-opacity:0.5;\" x=\"466.636812\" xlink:href=\"#m93fa14e1c5\" y=\"140.476458\"/>\n     <use style=\"fill:#008000;fill-opacity:0.5;stroke:#008000;stroke-opacity:0.5;\" x=\"561.583828\" xlink:href=\"#m93fa14e1c5\" y=\"162.405891\"/>\n     <use style=\"fill:#008000;fill-opacity:0.5;stroke:#008000;stroke-opacity:0.5;\" x=\"497.861104\" xlink:href=\"#m93fa14e1c5\" y=\"129.702761\"/>\n     <use style=\"fill:#008000;fill-opacity:0.5;stroke:#008000;stroke-opacity:0.5;\" x=\"502.244533\" xlink:href=\"#m93fa14e1c5\" y=\"164.018063\"/>\n     <use style=\"fill:#008000;fill-opacity:0.5;stroke:#008000;stroke-opacity:0.5;\" x=\"529.178001\" xlink:href=\"#m93fa14e1c5\" y=\"149.556999\"/>\n     <use style=\"fill:#008000;fill-opacity:0.5;stroke:#008000;stroke-opacity:0.5;\" x=\"425.362318\" xlink:href=\"#m93fa14e1c5\" y=\"125.456086\"/>\n     <use style=\"fill:#008000;fill-opacity:0.5;stroke:#008000;stroke-opacity:0.5;\" x=\"521.167086\" xlink:href=\"#m93fa14e1c5\" y=\"241.436811\"/>\n     <use style=\"fill:#008000;fill-opacity:0.5;stroke:#008000;stroke-opacity:0.5;\" x=\"500.316643\" xlink:href=\"#m93fa14e1c5\" y=\"159.042966\"/>\n     <use style=\"fill:#008000;fill-opacity:0.5;stroke:#008000;stroke-opacity:0.5;\" x=\"521.349593\" xlink:href=\"#m93fa14e1c5\" y=\"231.624996\"/>\n     <use style=\"fill:#008000;fill-opacity:0.5;stroke:#008000;stroke-opacity:0.5;\" x=\"492.592925\" xlink:href=\"#m93fa14e1c5\" y=\"170.812531\"/>\n     <use style=\"fill:#008000;fill-opacity:0.5;stroke:#008000;stroke-opacity:0.5;\" x=\"523.637203\" xlink:href=\"#m93fa14e1c5\" y=\"160.072342\"/>\n     <use style=\"fill:#008000;fill-opacity:0.5;stroke:#008000;stroke-opacity:0.5;\" x=\"463.615604\" xlink:href=\"#m93fa14e1c5\" y=\"191.808409\"/>\n     <use style=\"fill:#008000;fill-opacity:0.5;stroke:#008000;stroke-opacity:0.5;\" x=\"463.611666\" xlink:href=\"#m93fa14e1c5\" y=\"226.842639\"/>\n     <use style=\"fill:#008000;fill-opacity:0.5;stroke:#008000;stroke-opacity:0.5;\" x=\"559.390205\" xlink:href=\"#m93fa14e1c5\" y=\"178.558259\"/>\n     <use style=\"fill:#008000;fill-opacity:0.5;stroke:#008000;stroke-opacity:0.5;\" x=\"567.693855\" xlink:href=\"#m93fa14e1c5\" y=\"216.828037\"/>\n     <use style=\"fill:#008000;fill-opacity:0.5;stroke:#008000;stroke-opacity:0.5;\" x=\"558.862881\" xlink:href=\"#m93fa14e1c5\" y=\"182.365708\"/>\n     <use style=\"fill:#008000;fill-opacity:0.5;stroke:#008000;stroke-opacity:0.5;\" x=\"505.988248\" xlink:href=\"#m93fa14e1c5\" y=\"219.84069\"/>\n     <use style=\"fill:#008000;fill-opacity:0.5;stroke:#008000;stroke-opacity:0.5;\" x=\"552.228682\" xlink:href=\"#m93fa14e1c5\" y=\"181.020182\"/>\n     <use style=\"fill:#008000;fill-opacity:0.5;stroke:#008000;stroke-opacity:0.5;\" x=\"513.884057\" xlink:href=\"#m93fa14e1c5\" y=\"194.712577\"/>\n     <use style=\"fill:#008000;fill-opacity:0.5;stroke:#008000;stroke-opacity:0.5;\" x=\"470.521968\" xlink:href=\"#m93fa14e1c5\" y=\"174.093906\"/>\n     <use style=\"fill:#008000;fill-opacity:0.5;stroke:#008000;stroke-opacity:0.5;\" x=\"548.356507\" xlink:href=\"#m93fa14e1c5\" y=\"109.928497\"/>\n     <use style=\"fill:#008000;fill-opacity:0.5;stroke:#008000;stroke-opacity:0.5;\" x=\"489.029441\" xlink:href=\"#m93fa14e1c5\" y=\"208.074188\"/>\n     <use style=\"fill:#008000;fill-opacity:0.5;stroke:#008000;stroke-opacity:0.5;\" x=\"497.237683\" xlink:href=\"#m93fa14e1c5\" y=\"256.78302\"/>\n     <use style=\"fill:#008000;fill-opacity:0.5;stroke:#008000;stroke-opacity:0.5;\" x=\"524.33195\" xlink:href=\"#m93fa14e1c5\" y=\"233.819078\"/>\n     <use style=\"fill:#008000;fill-opacity:0.5;stroke:#008000;stroke-opacity:0.5;\" x=\"517.122044\" xlink:href=\"#m93fa14e1c5\" y=\"162.104161\"/>\n     <use style=\"fill:#008000;fill-opacity:0.5;stroke:#008000;stroke-opacity:0.5;\" x=\"468.162199\" xlink:href=\"#m93fa14e1c5\" y=\"140.578348\"/>\n     <use style=\"fill:#008000;fill-opacity:0.5;stroke:#008000;stroke-opacity:0.5;\" x=\"542.034826\" xlink:href=\"#m93fa14e1c5\" y=\"178.982771\"/>\n     <use style=\"fill:#008000;fill-opacity:0.5;stroke:#008000;stroke-opacity:0.5;\" x=\"506.042201\" xlink:href=\"#m93fa14e1c5\" y=\"265.011971\"/>\n     <use style=\"fill:#008000;fill-opacity:0.5;stroke:#008000;stroke-opacity:0.5;\" x=\"505.82693\" xlink:href=\"#m93fa14e1c5\" y=\"130.150716\"/>\n     <use style=\"fill:#008000;fill-opacity:0.5;stroke:#008000;stroke-opacity:0.5;\" x=\"499.149264\" xlink:href=\"#m93fa14e1c5\" y=\"124.453496\"/>\n     <use style=\"fill:#008000;fill-opacity:0.5;stroke:#008000;stroke-opacity:0.5;\" x=\"535.053803\" xlink:href=\"#m93fa14e1c5\" y=\"146.98428\"/>\n     <use style=\"fill:#008000;fill-opacity:0.5;stroke:#008000;stroke-opacity:0.5;\" x=\"485.054135\" xlink:href=\"#m93fa14e1c5\" y=\"108.111993\"/>\n     <use style=\"fill:#008000;fill-opacity:0.5;stroke:#008000;stroke-opacity:0.5;\" x=\"458.613756\" xlink:href=\"#m93fa14e1c5\" y=\"248.532449\"/>\n     <use style=\"fill:#008000;fill-opacity:0.5;stroke:#008000;stroke-opacity:0.5;\" x=\"495.754205\" xlink:href=\"#m93fa14e1c5\" y=\"141.56627\"/>\n     <use style=\"fill:#008000;fill-opacity:0.5;stroke:#008000;stroke-opacity:0.5;\" x=\"487.994807\" xlink:href=\"#m93fa14e1c5\" y=\"157.229569\"/>\n     <use style=\"fill:#008000;fill-opacity:0.5;stroke:#008000;stroke-opacity:0.5;\" x=\"547.912602\" xlink:href=\"#m93fa14e1c5\" y=\"108.13872\"/>\n     <use style=\"fill:#008000;fill-opacity:0.5;stroke:#008000;stroke-opacity:0.5;\" x=\"505.144787\" xlink:href=\"#m93fa14e1c5\" y=\"217.981731\"/>\n     <use style=\"fill:#008000;fill-opacity:0.5;stroke:#008000;stroke-opacity:0.5;\" x=\"562.840099\" xlink:href=\"#m93fa14e1c5\" y=\"207.114276\"/>\n     <use style=\"fill:#008000;fill-opacity:0.5;stroke:#008000;stroke-opacity:0.5;\" x=\"561.083176\" xlink:href=\"#m93fa14e1c5\" y=\"149.439961\"/>\n     <use style=\"fill:#008000;fill-opacity:0.5;stroke:#008000;stroke-opacity:0.5;\" x=\"557.728414\" xlink:href=\"#m93fa14e1c5\" y=\"167.973908\"/>\n     <use style=\"fill:#008000;fill-opacity:0.5;stroke:#008000;stroke-opacity:0.5;\" x=\"504.338386\" xlink:href=\"#m93fa14e1c5\" y=\"175.453323\"/>\n     <use style=\"fill:#008000;fill-opacity:0.5;stroke:#008000;stroke-opacity:0.5;\" x=\"469.57542\" xlink:href=\"#m93fa14e1c5\" y=\"89.320568\"/>\n     <use style=\"fill:#008000;fill-opacity:0.5;stroke:#008000;stroke-opacity:0.5;\" x=\"508.329788\" xlink:href=\"#m93fa14e1c5\" y=\"192.082573\"/>\n     <use style=\"fill:#008000;fill-opacity:0.5;stroke:#008000;stroke-opacity:0.5;\" x=\"467.132215\" xlink:href=\"#m93fa14e1c5\" y=\"117.770681\"/>\n     <use style=\"fill:#008000;fill-opacity:0.5;stroke:#008000;stroke-opacity:0.5;\" x=\"471.259253\" xlink:href=\"#m93fa14e1c5\" y=\"172.149127\"/>\n     <use style=\"fill:#008000;fill-opacity:0.5;stroke:#008000;stroke-opacity:0.5;\" x=\"473.477082\" xlink:href=\"#m93fa14e1c5\" y=\"220.304125\"/>\n     <use style=\"fill:#008000;fill-opacity:0.5;stroke:#008000;stroke-opacity:0.5;\" x=\"472.607596\" xlink:href=\"#m93fa14e1c5\" y=\"155.693099\"/>\n     <use style=\"fill:#008000;fill-opacity:0.5;stroke:#008000;stroke-opacity:0.5;\" x=\"558.149254\" xlink:href=\"#m93fa14e1c5\" y=\"257.264782\"/>\n     <use style=\"fill:#008000;fill-opacity:0.5;stroke:#008000;stroke-opacity:0.5;\" x=\"499.125944\" xlink:href=\"#m93fa14e1c5\" y=\"260.943323\"/>\n     <use style=\"fill:#008000;fill-opacity:0.5;stroke:#008000;stroke-opacity:0.5;\" x=\"540.630247\" xlink:href=\"#m93fa14e1c5\" y=\"58.886815\"/>\n     <use style=\"fill:#008000;fill-opacity:0.5;stroke:#008000;stroke-opacity:0.5;\" x=\"572.094715\" xlink:href=\"#m93fa14e1c5\" y=\"182.42812\"/>\n     <use style=\"fill:#008000;fill-opacity:0.5;stroke:#008000;stroke-opacity:0.5;\" x=\"563.168432\" xlink:href=\"#m93fa14e1c5\" y=\"128.658591\"/>\n     <use style=\"fill:#008000;fill-opacity:0.5;stroke:#008000;stroke-opacity:0.5;\" x=\"488.482849\" xlink:href=\"#m93fa14e1c5\" y=\"168.826083\"/>\n     <use style=\"fill:#008000;fill-opacity:0.5;stroke:#008000;stroke-opacity:0.5;\" x=\"569.41002\" xlink:href=\"#m93fa14e1c5\" y=\"247.0275\"/>\n     <use style=\"fill:#008000;fill-opacity:0.5;stroke:#008000;stroke-opacity:0.5;\" x=\"548.542183\" xlink:href=\"#m93fa14e1c5\" y=\"156.428\"/>\n     <use style=\"fill:#008000;fill-opacity:0.5;stroke:#008000;stroke-opacity:0.5;\" x=\"493.788029\" xlink:href=\"#m93fa14e1c5\" y=\"189.101101\"/>\n     <use style=\"fill:#008000;fill-opacity:0.5;stroke:#008000;stroke-opacity:0.5;\" x=\"473.491128\" xlink:href=\"#m93fa14e1c5\" y=\"157.981109\"/>\n     <use style=\"fill:#008000;fill-opacity:0.5;stroke:#008000;stroke-opacity:0.5;\" x=\"511.536533\" xlink:href=\"#m93fa14e1c5\" y=\"172.555889\"/>\n     <use style=\"fill:#008000;fill-opacity:0.5;stroke:#008000;stroke-opacity:0.5;\" x=\"575.940598\" xlink:href=\"#m93fa14e1c5\" y=\"196.305628\"/>\n     <use style=\"fill:#008000;fill-opacity:0.5;stroke:#008000;stroke-opacity:0.5;\" x=\"479.856251\" xlink:href=\"#m93fa14e1c5\" y=\"146.031475\"/>\n     <use style=\"fill:#008000;fill-opacity:0.5;stroke:#008000;stroke-opacity:0.5;\" x=\"482.673948\" xlink:href=\"#m93fa14e1c5\" y=\"191.317886\"/>\n     <use style=\"fill:#008000;fill-opacity:0.5;stroke:#008000;stroke-opacity:0.5;\" x=\"504.020958\" xlink:href=\"#m93fa14e1c5\" y=\"141.339532\"/>\n     <use style=\"fill:#008000;fill-opacity:0.5;stroke:#008000;stroke-opacity:0.5;\" x=\"513.97362\" xlink:href=\"#m93fa14e1c5\" y=\"234.338811\"/>\n     <use style=\"fill:#008000;fill-opacity:0.5;stroke:#008000;stroke-opacity:0.5;\" x=\"536.795878\" xlink:href=\"#m93fa14e1c5\" y=\"179.330402\"/>\n     <use style=\"fill:#008000;fill-opacity:0.5;stroke:#008000;stroke-opacity:0.5;\" x=\"500.036551\" xlink:href=\"#m93fa14e1c5\" y=\"231.528945\"/>\n     <use style=\"fill:#008000;fill-opacity:0.5;stroke:#008000;stroke-opacity:0.5;\" x=\"497.664922\" xlink:href=\"#m93fa14e1c5\" y=\"170.252956\"/>\n     <use style=\"fill:#008000;fill-opacity:0.5;stroke:#008000;stroke-opacity:0.5;\" x=\"568.530909\" xlink:href=\"#m93fa14e1c5\" y=\"271.173453\"/>\n     <use style=\"fill:#008000;fill-opacity:0.5;stroke:#008000;stroke-opacity:0.5;\" x=\"482.64184\" xlink:href=\"#m93fa14e1c5\" y=\"216.36184\"/>\n     <use style=\"fill:#008000;fill-opacity:0.5;stroke:#008000;stroke-opacity:0.5;\" x=\"496.012387\" xlink:href=\"#m93fa14e1c5\" y=\"205.735152\"/>\n     <use style=\"fill:#008000;fill-opacity:0.5;stroke:#008000;stroke-opacity:0.5;\" x=\"517.72492\" xlink:href=\"#m93fa14e1c5\" y=\"117.325425\"/>\n     <use style=\"fill:#008000;fill-opacity:0.5;stroke:#008000;stroke-opacity:0.5;\" x=\"491.496056\" xlink:href=\"#m93fa14e1c5\" y=\"177.170191\"/>\n     <use style=\"fill:#008000;fill-opacity:0.5;stroke:#008000;stroke-opacity:0.5;\" x=\"449.144679\" xlink:href=\"#m93fa14e1c5\" y=\"156.531323\"/>\n     <use style=\"fill:#008000;fill-opacity:0.5;stroke:#008000;stroke-opacity:0.5;\" x=\"489.648128\" xlink:href=\"#m93fa14e1c5\" y=\"197.828166\"/>\n     <use style=\"fill:#008000;fill-opacity:0.5;stroke:#008000;stroke-opacity:0.5;\" x=\"472.77652\" xlink:href=\"#m93fa14e1c5\" y=\"179.246508\"/>\n     <use style=\"fill:#008000;fill-opacity:0.5;stroke:#008000;stroke-opacity:0.5;\" x=\"598.085216\" xlink:href=\"#m93fa14e1c5\" y=\"166.137549\"/>\n     <use style=\"fill:#008000;fill-opacity:0.5;stroke:#008000;stroke-opacity:0.5;\" x=\"495.386199\" xlink:href=\"#m93fa14e1c5\" y=\"199.905502\"/>\n     <use style=\"fill:#008000;fill-opacity:0.5;stroke:#008000;stroke-opacity:0.5;\" x=\"547.812089\" xlink:href=\"#m93fa14e1c5\" y=\"173.639708\"/>\n     <use style=\"fill:#008000;fill-opacity:0.5;stroke:#008000;stroke-opacity:0.5;\" x=\"520.058875\" xlink:href=\"#m93fa14e1c5\" y=\"185.794599\"/>\n     <use style=\"fill:#008000;fill-opacity:0.5;stroke:#008000;stroke-opacity:0.5;\" x=\"585.640572\" xlink:href=\"#m93fa14e1c5\" y=\"124.955766\"/>\n     <use style=\"fill:#008000;fill-opacity:0.5;stroke:#008000;stroke-opacity:0.5;\" x=\"508.703093\" xlink:href=\"#m93fa14e1c5\" y=\"152.561131\"/>\n     <use style=\"fill:#008000;fill-opacity:0.5;stroke:#008000;stroke-opacity:0.5;\" x=\"471.28836\" xlink:href=\"#m93fa14e1c5\" y=\"130.084268\"/>\n     <use style=\"fill:#008000;fill-opacity:0.5;stroke:#008000;stroke-opacity:0.5;\" x=\"509.387182\" xlink:href=\"#m93fa14e1c5\" y=\"133.595033\"/>\n     <use style=\"fill:#008000;fill-opacity:0.5;stroke:#008000;stroke-opacity:0.5;\" x=\"469.653332\" xlink:href=\"#m93fa14e1c5\" y=\"105.069501\"/>\n     <use style=\"fill:#008000;fill-opacity:0.5;stroke:#008000;stroke-opacity:0.5;\" x=\"483.609136\" xlink:href=\"#m93fa14e1c5\" y=\"156.292598\"/>\n     <use style=\"fill:#008000;fill-opacity:0.5;stroke:#008000;stroke-opacity:0.5;\" x=\"530.257698\" xlink:href=\"#m93fa14e1c5\" y=\"154.707335\"/>\n     <use style=\"fill:#008000;fill-opacity:0.5;stroke:#008000;stroke-opacity:0.5;\" x=\"485.93151\" xlink:href=\"#m93fa14e1c5\" y=\"222.040159\"/>\n     <use style=\"fill:#008000;fill-opacity:0.5;stroke:#008000;stroke-opacity:0.5;\" x=\"482.311293\" xlink:href=\"#m93fa14e1c5\" y=\"200.246134\"/>\n     <use style=\"fill:#008000;fill-opacity:0.5;stroke:#008000;stroke-opacity:0.5;\" x=\"532.872424\" xlink:href=\"#m93fa14e1c5\" y=\"234.895505\"/>\n     <use style=\"fill:#008000;fill-opacity:0.5;stroke:#008000;stroke-opacity:0.5;\" x=\"584.271843\" xlink:href=\"#m93fa14e1c5\" y=\"167.820705\"/>\n     <use style=\"fill:#008000;fill-opacity:0.5;stroke:#008000;stroke-opacity:0.5;\" x=\"505.424921\" xlink:href=\"#m93fa14e1c5\" y=\"203.492395\"/>\n     <use style=\"fill:#008000;fill-opacity:0.5;stroke:#008000;stroke-opacity:0.5;\" x=\"492.970346\" xlink:href=\"#m93fa14e1c5\" y=\"191.745255\"/>\n     <use style=\"fill:#008000;fill-opacity:0.5;stroke:#008000;stroke-opacity:0.5;\" x=\"506.3698\" xlink:href=\"#m93fa14e1c5\" y=\"194.592217\"/>\n     <use style=\"fill:#008000;fill-opacity:0.5;stroke:#008000;stroke-opacity:0.5;\" x=\"549.545137\" xlink:href=\"#m93fa14e1c5\" y=\"247.666591\"/>\n     <use style=\"fill:#008000;fill-opacity:0.5;stroke:#008000;stroke-opacity:0.5;\" x=\"500.519877\" xlink:href=\"#m93fa14e1c5\" y=\"175.153537\"/>\n     <use style=\"fill:#008000;fill-opacity:0.5;stroke:#008000;stroke-opacity:0.5;\" x=\"497.227036\" xlink:href=\"#m93fa14e1c5\" y=\"142.947942\"/>\n     <use style=\"fill:#008000;fill-opacity:0.5;stroke:#008000;stroke-opacity:0.5;\" x=\"532.942365\" xlink:href=\"#m93fa14e1c5\" y=\"174.927949\"/>\n     <use style=\"fill:#008000;fill-opacity:0.5;stroke:#008000;stroke-opacity:0.5;\" x=\"569.300567\" xlink:href=\"#m93fa14e1c5\" y=\"113.390345\"/>\n     <use style=\"fill:#008000;fill-opacity:0.5;stroke:#008000;stroke-opacity:0.5;\" x=\"534.709405\" xlink:href=\"#m93fa14e1c5\" y=\"221.576479\"/>\n     <use style=\"fill:#008000;fill-opacity:0.5;stroke:#008000;stroke-opacity:0.5;\" x=\"516.526986\" xlink:href=\"#m93fa14e1c5\" y=\"129.593334\"/>\n     <use style=\"fill:#008000;fill-opacity:0.5;stroke:#008000;stroke-opacity:0.5;\" x=\"556.422534\" xlink:href=\"#m93fa14e1c5\" y=\"150.554428\"/>\n     <use style=\"fill:#008000;fill-opacity:0.5;stroke:#008000;stroke-opacity:0.5;\" x=\"456.696987\" xlink:href=\"#m93fa14e1c5\" y=\"137.264479\"/>\n     <use style=\"fill:#008000;fill-opacity:0.5;stroke:#008000;stroke-opacity:0.5;\" x=\"566.33155\" xlink:href=\"#m93fa14e1c5\" y=\"197.792742\"/>\n     <use style=\"fill:#008000;fill-opacity:0.5;stroke:#008000;stroke-opacity:0.5;\" x=\"445.96124\" xlink:href=\"#m93fa14e1c5\" y=\"204.997113\"/>\n     <use style=\"fill:#008000;fill-opacity:0.5;stroke:#008000;stroke-opacity:0.5;\" x=\"574.573408\" xlink:href=\"#m93fa14e1c5\" y=\"105.451142\"/>\n     <use style=\"fill:#008000;fill-opacity:0.5;stroke:#008000;stroke-opacity:0.5;\" x=\"493.497658\" xlink:href=\"#m93fa14e1c5\" y=\"138.134601\"/>\n     <use style=\"fill:#008000;fill-opacity:0.5;stroke:#008000;stroke-opacity:0.5;\" x=\"541.536536\" xlink:href=\"#m93fa14e1c5\" y=\"149.932917\"/>\n     <use style=\"fill:#008000;fill-opacity:0.5;stroke:#008000;stroke-opacity:0.5;\" x=\"468.708159\" xlink:href=\"#m93fa14e1c5\" y=\"192.697419\"/>\n     <use style=\"fill:#008000;fill-opacity:0.5;stroke:#008000;stroke-opacity:0.5;\" x=\"463.919137\" xlink:href=\"#m93fa14e1c5\" y=\"227.608423\"/>\n     <use style=\"fill:#008000;fill-opacity:0.5;stroke:#008000;stroke-opacity:0.5;\" x=\"512.796376\" xlink:href=\"#m93fa14e1c5\" y=\"128.58709\"/>\n     <use style=\"fill:#008000;fill-opacity:0.5;stroke:#008000;stroke-opacity:0.5;\" x=\"515.755485\" xlink:href=\"#m93fa14e1c5\" y=\"195.72606\"/>\n     <use style=\"fill:#008000;fill-opacity:0.5;stroke:#008000;stroke-opacity:0.5;\" x=\"490.697166\" xlink:href=\"#m93fa14e1c5\" y=\"175.430755\"/>\n     <use style=\"fill:#008000;fill-opacity:0.5;stroke:#008000;stroke-opacity:0.5;\" x=\"517.264448\" xlink:href=\"#m93fa14e1c5\" y=\"211.799427\"/>\n     <use style=\"fill:#008000;fill-opacity:0.5;stroke:#008000;stroke-opacity:0.5;\" x=\"508.311449\" xlink:href=\"#m93fa14e1c5\" y=\"210.090173\"/>\n     <use style=\"fill:#008000;fill-opacity:0.5;stroke:#008000;stroke-opacity:0.5;\" x=\"525.41841\" xlink:href=\"#m93fa14e1c5\" y=\"160.755262\"/>\n     <use style=\"fill:#008000;fill-opacity:0.5;stroke:#008000;stroke-opacity:0.5;\" x=\"489.59032\" xlink:href=\"#m93fa14e1c5\" y=\"135.791731\"/>\n     <use style=\"fill:#008000;fill-opacity:0.5;stroke:#008000;stroke-opacity:0.5;\" x=\"503.62745\" xlink:href=\"#m93fa14e1c5\" y=\"180.211451\"/>\n     <use style=\"fill:#008000;fill-opacity:0.5;stroke:#008000;stroke-opacity:0.5;\" x=\"521.127757\" xlink:href=\"#m93fa14e1c5\" y=\"143.350312\"/>\n     <use style=\"fill:#008000;fill-opacity:0.5;stroke:#008000;stroke-opacity:0.5;\" x=\"510.516088\" xlink:href=\"#m93fa14e1c5\" y=\"116.534447\"/>\n     <use style=\"fill:#008000;fill-opacity:0.5;stroke:#008000;stroke-opacity:0.5;\" x=\"509.651655\" xlink:href=\"#m93fa14e1c5\" y=\"209.331492\"/>\n     <use style=\"fill:#008000;fill-opacity:0.5;stroke:#008000;stroke-opacity:0.5;\" x=\"512.524534\" xlink:href=\"#m93fa14e1c5\" y=\"194.607191\"/>\n     <use style=\"fill:#008000;fill-opacity:0.5;stroke:#008000;stroke-opacity:0.5;\" x=\"459.46795\" xlink:href=\"#m93fa14e1c5\" y=\"121.209635\"/>\n     <use style=\"fill:#008000;fill-opacity:0.5;stroke:#008000;stroke-opacity:0.5;\" x=\"494.840195\" xlink:href=\"#m93fa14e1c5\" y=\"168.260197\"/>\n     <use style=\"fill:#008000;fill-opacity:0.5;stroke:#008000;stroke-opacity:0.5;\" x=\"492.290273\" xlink:href=\"#m93fa14e1c5\" y=\"211.231275\"/>\n     <use style=\"fill:#008000;fill-opacity:0.5;stroke:#008000;stroke-opacity:0.5;\" x=\"537.591399\" xlink:href=\"#m93fa14e1c5\" y=\"150.027578\"/>\n     <use style=\"fill:#008000;fill-opacity:0.5;stroke:#008000;stroke-opacity:0.5;\" x=\"492.901584\" xlink:href=\"#m93fa14e1c5\" y=\"167.817979\"/>\n     <use style=\"fill:#008000;fill-opacity:0.5;stroke:#008000;stroke-opacity:0.5;\" x=\"478.275836\" xlink:href=\"#m93fa14e1c5\" y=\"206.379453\"/>\n     <use style=\"fill:#008000;fill-opacity:0.5;stroke:#008000;stroke-opacity:0.5;\" x=\"561.862236\" xlink:href=\"#m93fa14e1c5\" y=\"126.045282\"/>\n     <use style=\"fill:#008000;fill-opacity:0.5;stroke:#008000;stroke-opacity:0.5;\" x=\"516.78363\" xlink:href=\"#m93fa14e1c5\" y=\"168.347158\"/>\n     <use style=\"fill:#008000;fill-opacity:0.5;stroke:#008000;stroke-opacity:0.5;\" x=\"494.684178\" xlink:href=\"#m93fa14e1c5\" y=\"200.564018\"/>\n     <use style=\"fill:#008000;fill-opacity:0.5;stroke:#008000;stroke-opacity:0.5;\" x=\"551.346784\" xlink:href=\"#m93fa14e1c5\" y=\"153.559069\"/>\n     <use style=\"fill:#008000;fill-opacity:0.5;stroke:#008000;stroke-opacity:0.5;\" x=\"539.341951\" xlink:href=\"#m93fa14e1c5\" y=\"290.259463\"/>\n     <use style=\"fill:#008000;fill-opacity:0.5;stroke:#008000;stroke-opacity:0.5;\" x=\"492.892726\" xlink:href=\"#m93fa14e1c5\" y=\"193.290776\"/>\n     <use style=\"fill:#008000;fill-opacity:0.5;stroke:#008000;stroke-opacity:0.5;\" x=\"555.525063\" xlink:href=\"#m93fa14e1c5\" y=\"201.947133\"/>\n     <use style=\"fill:#008000;fill-opacity:0.5;stroke:#008000;stroke-opacity:0.5;\" x=\"583.037237\" xlink:href=\"#m93fa14e1c5\" y=\"152.707741\"/>\n     <use style=\"fill:#008000;fill-opacity:0.5;stroke:#008000;stroke-opacity:0.5;\" x=\"470.494869\" xlink:href=\"#m93fa14e1c5\" y=\"146.706236\"/>\n     <use style=\"fill:#008000;fill-opacity:0.5;stroke:#008000;stroke-opacity:0.5;\" x=\"556.379278\" xlink:href=\"#m93fa14e1c5\" y=\"173.377225\"/>\n     <use style=\"fill:#008000;fill-opacity:0.5;stroke:#008000;stroke-opacity:0.5;\" x=\"467.040147\" xlink:href=\"#m93fa14e1c5\" y=\"75.916951\"/>\n     <use style=\"fill:#008000;fill-opacity:0.5;stroke:#008000;stroke-opacity:0.5;\" x=\"479.265988\" xlink:href=\"#m93fa14e1c5\" y=\"195.818797\"/>\n     <use style=\"fill:#008000;fill-opacity:0.5;stroke:#008000;stroke-opacity:0.5;\" x=\"582.632753\" xlink:href=\"#m93fa14e1c5\" y=\"160.74507\"/>\n     <use style=\"fill:#008000;fill-opacity:0.5;stroke:#008000;stroke-opacity:0.5;\" x=\"487.918579\" xlink:href=\"#m93fa14e1c5\" y=\"203.252217\"/>\n     <use style=\"fill:#008000;fill-opacity:0.5;stroke:#008000;stroke-opacity:0.5;\" x=\"517.685094\" xlink:href=\"#m93fa14e1c5\" y=\"153.330305\"/>\n     <use style=\"fill:#008000;fill-opacity:0.5;stroke:#008000;stroke-opacity:0.5;\" x=\"477.519375\" xlink:href=\"#m93fa14e1c5\" y=\"211.890931\"/>\n     <use style=\"fill:#008000;fill-opacity:0.5;stroke:#008000;stroke-opacity:0.5;\" x=\"536.206917\" xlink:href=\"#m93fa14e1c5\" y=\"230.877193\"/>\n     <use style=\"fill:#008000;fill-opacity:0.5;stroke:#008000;stroke-opacity:0.5;\" x=\"530.499707\" xlink:href=\"#m93fa14e1c5\" y=\"93.457091\"/>\n     <use style=\"fill:#008000;fill-opacity:0.5;stroke:#008000;stroke-opacity:0.5;\" x=\"510.945798\" xlink:href=\"#m93fa14e1c5\" y=\"74.911991\"/>\n     <use style=\"fill:#008000;fill-opacity:0.5;stroke:#008000;stroke-opacity:0.5;\" x=\"531.732696\" xlink:href=\"#m93fa14e1c5\" y=\"161.36631\"/>\n     <use style=\"fill:#008000;fill-opacity:0.5;stroke:#008000;stroke-opacity:0.5;\" x=\"545.381664\" xlink:href=\"#m93fa14e1c5\" y=\"160.554969\"/>\n     <use style=\"fill:#008000;fill-opacity:0.5;stroke:#008000;stroke-opacity:0.5;\" x=\"498.142499\" xlink:href=\"#m93fa14e1c5\" y=\"186.554722\"/>\n     <use style=\"fill:#008000;fill-opacity:0.5;stroke:#008000;stroke-opacity:0.5;\" x=\"515.122174\" xlink:href=\"#m93fa14e1c5\" y=\"233.154964\"/>\n     <use style=\"fill:#008000;fill-opacity:0.5;stroke:#008000;stroke-opacity:0.5;\" x=\"512.083919\" xlink:href=\"#m93fa14e1c5\" y=\"220.595832\"/>\n     <use style=\"fill:#008000;fill-opacity:0.5;stroke:#008000;stroke-opacity:0.5;\" x=\"463.432925\" xlink:href=\"#m93fa14e1c5\" y=\"183.9764\"/>\n     <use style=\"fill:#008000;fill-opacity:0.5;stroke:#008000;stroke-opacity:0.5;\" x=\"470.863855\" xlink:href=\"#m93fa14e1c5\" y=\"223.839708\"/>\n     <use style=\"fill:#008000;fill-opacity:0.5;stroke:#008000;stroke-opacity:0.5;\" x=\"487.500146\" xlink:href=\"#m93fa14e1c5\" y=\"203.660199\"/>\n     <use style=\"fill:#008000;fill-opacity:0.5;stroke:#008000;stroke-opacity:0.5;\" x=\"493.376525\" xlink:href=\"#m93fa14e1c5\" y=\"110.844018\"/>\n     <use style=\"fill:#008000;fill-opacity:0.5;stroke:#008000;stroke-opacity:0.5;\" x=\"469.875431\" xlink:href=\"#m93fa14e1c5\" y=\"206.741125\"/>\n     <use style=\"fill:#008000;fill-opacity:0.5;stroke:#008000;stroke-opacity:0.5;\" x=\"538.102796\" xlink:href=\"#m93fa14e1c5\" y=\"165.846391\"/>\n     <use style=\"fill:#008000;fill-opacity:0.5;stroke:#008000;stroke-opacity:0.5;\" x=\"507.634699\" xlink:href=\"#m93fa14e1c5\" y=\"210.583933\"/>\n     <use style=\"fill:#008000;fill-opacity:0.5;stroke:#008000;stroke-opacity:0.5;\" x=\"532.324409\" xlink:href=\"#m93fa14e1c5\" y=\"170.609667\"/>\n     <use style=\"fill:#008000;fill-opacity:0.5;stroke:#008000;stroke-opacity:0.5;\" x=\"534.66977\" xlink:href=\"#m93fa14e1c5\" y=\"150.794031\"/>\n     <use style=\"fill:#008000;fill-opacity:0.5;stroke:#008000;stroke-opacity:0.5;\" x=\"541.582506\" xlink:href=\"#m93fa14e1c5\" y=\"225.938123\"/>\n     <use style=\"fill:#008000;fill-opacity:0.5;stroke:#008000;stroke-opacity:0.5;\" x=\"569.520796\" xlink:href=\"#m93fa14e1c5\" y=\"171.224492\"/>\n     <use style=\"fill:#008000;fill-opacity:0.5;stroke:#008000;stroke-opacity:0.5;\" x=\"548.669471\" xlink:href=\"#m93fa14e1c5\" y=\"175.680889\"/>\n     <use style=\"fill:#008000;fill-opacity:0.5;stroke:#008000;stroke-opacity:0.5;\" x=\"580.344425\" xlink:href=\"#m93fa14e1c5\" y=\"139.360863\"/>\n     <use style=\"fill:#008000;fill-opacity:0.5;stroke:#008000;stroke-opacity:0.5;\" x=\"571.346038\" xlink:href=\"#m93fa14e1c5\" y=\"185.446895\"/>\n     <use style=\"fill:#008000;fill-opacity:0.5;stroke:#008000;stroke-opacity:0.5;\" x=\"468.964522\" xlink:href=\"#m93fa14e1c5\" y=\"153.650594\"/>\n     <use style=\"fill:#008000;fill-opacity:0.5;stroke:#008000;stroke-opacity:0.5;\" x=\"520.908337\" xlink:href=\"#m93fa14e1c5\" y=\"181.434824\"/>\n     <use style=\"fill:#008000;fill-opacity:0.5;stroke:#008000;stroke-opacity:0.5;\" x=\"519.797399\" xlink:href=\"#m93fa14e1c5\" y=\"172.900696\"/>\n     <use style=\"fill:#008000;fill-opacity:0.5;stroke:#008000;stroke-opacity:0.5;\" x=\"521.772305\" xlink:href=\"#m93fa14e1c5\" y=\"148.396801\"/>\n     <use style=\"fill:#008000;fill-opacity:0.5;stroke:#008000;stroke-opacity:0.5;\" x=\"558.180611\" xlink:href=\"#m93fa14e1c5\" y=\"177.513798\"/>\n     <use style=\"fill:#008000;fill-opacity:0.5;stroke:#008000;stroke-opacity:0.5;\" x=\"549.106409\" xlink:href=\"#m93fa14e1c5\" y=\"115.299743\"/>\n     <use style=\"fill:#008000;fill-opacity:0.5;stroke:#008000;stroke-opacity:0.5;\" x=\"467.23183\" xlink:href=\"#m93fa14e1c5\" y=\"119.265474\"/>\n     <use style=\"fill:#008000;fill-opacity:0.5;stroke:#008000;stroke-opacity:0.5;\" x=\"522.944139\" xlink:href=\"#m93fa14e1c5\" y=\"141.467443\"/>\n     <use style=\"fill:#008000;fill-opacity:0.5;stroke:#008000;stroke-opacity:0.5;\" x=\"501.988634\" xlink:href=\"#m93fa14e1c5\" y=\"171.879848\"/>\n     <use style=\"fill:#008000;fill-opacity:0.5;stroke:#008000;stroke-opacity:0.5;\" x=\"502.803933\" xlink:href=\"#m93fa14e1c5\" y=\"129.13738\"/>\n     <use style=\"fill:#008000;fill-opacity:0.5;stroke:#008000;stroke-opacity:0.5;\" x=\"520.978876\" xlink:href=\"#m93fa14e1c5\" y=\"111.349806\"/>\n     <use style=\"fill:#008000;fill-opacity:0.5;stroke:#008000;stroke-opacity:0.5;\" x=\"492.638957\" xlink:href=\"#m93fa14e1c5\" y=\"171.747027\"/>\n     <use style=\"fill:#008000;fill-opacity:0.5;stroke:#008000;stroke-opacity:0.5;\" x=\"500.961744\" xlink:href=\"#m93fa14e1c5\" y=\"218.240088\"/>\n     <use style=\"fill:#008000;fill-opacity:0.5;stroke:#008000;stroke-opacity:0.5;\" x=\"609.43038\" xlink:href=\"#m93fa14e1c5\" y=\"168.509658\"/>\n     <use style=\"fill:#008000;fill-opacity:0.5;stroke:#008000;stroke-opacity:0.5;\" x=\"444.217538\" xlink:href=\"#m93fa14e1c5\" y=\"193.669525\"/>\n     <use style=\"fill:#008000;fill-opacity:0.5;stroke:#008000;stroke-opacity:0.5;\" x=\"535.8994\" xlink:href=\"#m93fa14e1c5\" y=\"247.737885\"/>\n     <use style=\"fill:#008000;fill-opacity:0.5;stroke:#008000;stroke-opacity:0.5;\" x=\"603.234336\" xlink:href=\"#m93fa14e1c5\" y=\"188.769277\"/>\n     <use style=\"fill:#008000;fill-opacity:0.5;stroke:#008000;stroke-opacity:0.5;\" x=\"555.688028\" xlink:href=\"#m93fa14e1c5\" y=\"148.593041\"/>\n     <use style=\"fill:#008000;fill-opacity:0.5;stroke:#008000;stroke-opacity:0.5;\" x=\"465.756036\" xlink:href=\"#m93fa14e1c5\" y=\"182.416347\"/>\n     <use style=\"fill:#008000;fill-opacity:0.5;stroke:#008000;stroke-opacity:0.5;\" x=\"535.187309\" xlink:href=\"#m93fa14e1c5\" y=\"186.562664\"/>\n     <use style=\"fill:#008000;fill-opacity:0.5;stroke:#008000;stroke-opacity:0.5;\" x=\"569.083475\" xlink:href=\"#m93fa14e1c5\" y=\"189.400955\"/>\n     <use style=\"fill:#008000;fill-opacity:0.5;stroke:#008000;stroke-opacity:0.5;\" x=\"443.17796\" xlink:href=\"#m93fa14e1c5\" y=\"192.842298\"/>\n     <use style=\"fill:#008000;fill-opacity:0.5;stroke:#008000;stroke-opacity:0.5;\" x=\"429.065971\" xlink:href=\"#m93fa14e1c5\" y=\"197.049456\"/>\n     <use style=\"fill:#008000;fill-opacity:0.5;stroke:#008000;stroke-opacity:0.5;\" x=\"561.36412\" xlink:href=\"#m93fa14e1c5\" y=\"198.610219\"/>\n     <use style=\"fill:#008000;fill-opacity:0.5;stroke:#008000;stroke-opacity:0.5;\" x=\"518.524369\" xlink:href=\"#m93fa14e1c5\" y=\"221.838168\"/>\n     <use style=\"fill:#008000;fill-opacity:0.5;stroke:#008000;stroke-opacity:0.5;\" x=\"540.264804\" xlink:href=\"#m93fa14e1c5\" y=\"122.01985\"/>\n     <use style=\"fill:#008000;fill-opacity:0.5;stroke:#008000;stroke-opacity:0.5;\" x=\"507.985465\" xlink:href=\"#m93fa14e1c5\" y=\"222.962196\"/>\n     <use style=\"fill:#008000;fill-opacity:0.5;stroke:#008000;stroke-opacity:0.5;\" x=\"500.165307\" xlink:href=\"#m93fa14e1c5\" y=\"201.883974\"/>\n     <use style=\"fill:#008000;fill-opacity:0.5;stroke:#008000;stroke-opacity:0.5;\" x=\"499.33054\" xlink:href=\"#m93fa14e1c5\" y=\"176.357683\"/>\n     <use style=\"fill:#008000;fill-opacity:0.5;stroke:#008000;stroke-opacity:0.5;\" x=\"534.652296\" xlink:href=\"#m93fa14e1c5\" y=\"202.777067\"/>\n     <use style=\"fill:#008000;fill-opacity:0.5;stroke:#008000;stroke-opacity:0.5;\" x=\"501.242995\" xlink:href=\"#m93fa14e1c5\" y=\"152.836123\"/>\n     <use style=\"fill:#008000;fill-opacity:0.5;stroke:#008000;stroke-opacity:0.5;\" x=\"449.992443\" xlink:href=\"#m93fa14e1c5\" y=\"193.972862\"/>\n     <use style=\"fill:#008000;fill-opacity:0.5;stroke:#008000;stroke-opacity:0.5;\" x=\"454.786132\" xlink:href=\"#m93fa14e1c5\" y=\"116.15297\"/>\n     <use style=\"fill:#008000;fill-opacity:0.5;stroke:#008000;stroke-opacity:0.5;\" x=\"539.042748\" xlink:href=\"#m93fa14e1c5\" y=\"185.012871\"/>\n     <use style=\"fill:#008000;fill-opacity:0.5;stroke:#008000;stroke-opacity:0.5;\" x=\"561.467209\" xlink:href=\"#m93fa14e1c5\" y=\"173.598526\"/>\n     <use style=\"fill:#008000;fill-opacity:0.5;stroke:#008000;stroke-opacity:0.5;\" x=\"472.054336\" xlink:href=\"#m93fa14e1c5\" y=\"176.548637\"/>\n     <use style=\"fill:#008000;fill-opacity:0.5;stroke:#008000;stroke-opacity:0.5;\" x=\"519.64525\" xlink:href=\"#m93fa14e1c5\" y=\"233.575881\"/>\n     <use style=\"fill:#008000;fill-opacity:0.5;stroke:#008000;stroke-opacity:0.5;\" x=\"505.957403\" xlink:href=\"#m93fa14e1c5\" y=\"170.341003\"/>\n     <use style=\"fill:#008000;fill-opacity:0.5;stroke:#008000;stroke-opacity:0.5;\" x=\"542.159475\" xlink:href=\"#m93fa14e1c5\" y=\"155.677916\"/>\n     <use style=\"fill:#008000;fill-opacity:0.5;stroke:#008000;stroke-opacity:0.5;\" x=\"446.502775\" xlink:href=\"#m93fa14e1c5\" y=\"238.112291\"/>\n     <use style=\"fill:#008000;fill-opacity:0.5;stroke:#008000;stroke-opacity:0.5;\" x=\"511.611313\" xlink:href=\"#m93fa14e1c5\" y=\"68.789158\"/>\n     <use style=\"fill:#008000;fill-opacity:0.5;stroke:#008000;stroke-opacity:0.5;\" x=\"569.159861\" xlink:href=\"#m93fa14e1c5\" y=\"208.282486\"/>\n     <use style=\"fill:#008000;fill-opacity:0.5;stroke:#008000;stroke-opacity:0.5;\" x=\"549.171772\" xlink:href=\"#m93fa14e1c5\" y=\"102.417919\"/>\n     <use style=\"fill:#008000;fill-opacity:0.5;stroke:#008000;stroke-opacity:0.5;\" x=\"547.052273\" xlink:href=\"#m93fa14e1c5\" y=\"188.789214\"/>\n     <use style=\"fill:#008000;fill-opacity:0.5;stroke:#008000;stroke-opacity:0.5;\" x=\"533.098328\" xlink:href=\"#m93fa14e1c5\" y=\"271.141862\"/>\n     <use style=\"fill:#008000;fill-opacity:0.5;stroke:#008000;stroke-opacity:0.5;\" x=\"465.134101\" xlink:href=\"#m93fa14e1c5\" y=\"174.968777\"/>\n     <use style=\"fill:#008000;fill-opacity:0.5;stroke:#008000;stroke-opacity:0.5;\" x=\"514.626809\" xlink:href=\"#m93fa14e1c5\" y=\"182.475016\"/>\n     <use style=\"fill:#008000;fill-opacity:0.5;stroke:#008000;stroke-opacity:0.5;\" x=\"482.020689\" xlink:href=\"#m93fa14e1c5\" y=\"229.191271\"/>\n     <use style=\"fill:#008000;fill-opacity:0.5;stroke:#008000;stroke-opacity:0.5;\" x=\"477.92224\" xlink:href=\"#m93fa14e1c5\" y=\"203.828041\"/>\n     <use style=\"fill:#008000;fill-opacity:0.5;stroke:#008000;stroke-opacity:0.5;\" x=\"482.074933\" xlink:href=\"#m93fa14e1c5\" y=\"177.474963\"/>\n     <use style=\"fill:#008000;fill-opacity:0.5;stroke:#008000;stroke-opacity:0.5;\" x=\"539.113106\" xlink:href=\"#m93fa14e1c5\" y=\"183.808645\"/>\n     <use style=\"fill:#008000;fill-opacity:0.5;stroke:#008000;stroke-opacity:0.5;\" x=\"540.989052\" xlink:href=\"#m93fa14e1c5\" y=\"128.502491\"/>\n     <use style=\"fill:#008000;fill-opacity:0.5;stroke:#008000;stroke-opacity:0.5;\" x=\"515.16124\" xlink:href=\"#m93fa14e1c5\" y=\"72.57974\"/>\n     <use style=\"fill:#008000;fill-opacity:0.5;stroke:#008000;stroke-opacity:0.5;\" x=\"538.736882\" xlink:href=\"#m93fa14e1c5\" y=\"174.013016\"/>\n     <use style=\"fill:#008000;fill-opacity:0.5;stroke:#008000;stroke-opacity:0.5;\" x=\"509.027251\" xlink:href=\"#m93fa14e1c5\" y=\"172.506467\"/>\n     <use style=\"fill:#008000;fill-opacity:0.5;stroke:#008000;stroke-opacity:0.5;\" x=\"584.275154\" xlink:href=\"#m93fa14e1c5\" y=\"130.23392\"/>\n     <use style=\"fill:#008000;fill-opacity:0.5;stroke:#008000;stroke-opacity:0.5;\" x=\"500.516972\" xlink:href=\"#m93fa14e1c5\" y=\"257.896258\"/>\n     <use style=\"fill:#008000;fill-opacity:0.5;stroke:#008000;stroke-opacity:0.5;\" x=\"534.348399\" xlink:href=\"#m93fa14e1c5\" y=\"197.230318\"/>\n     <use style=\"fill:#008000;fill-opacity:0.5;stroke:#008000;stroke-opacity:0.5;\" x=\"582.238146\" xlink:href=\"#m93fa14e1c5\" y=\"182.565643\"/>\n     <use style=\"fill:#008000;fill-opacity:0.5;stroke:#008000;stroke-opacity:0.5;\" x=\"485.887954\" xlink:href=\"#m93fa14e1c5\" y=\"169.506565\"/>\n     <use style=\"fill:#008000;fill-opacity:0.5;stroke:#008000;stroke-opacity:0.5;\" x=\"464.434072\" xlink:href=\"#m93fa14e1c5\" y=\"287.59678\"/>\n     <use style=\"fill:#008000;fill-opacity:0.5;stroke:#008000;stroke-opacity:0.5;\" x=\"519.98878\" xlink:href=\"#m93fa14e1c5\" y=\"176.961575\"/>\n     <use style=\"fill:#008000;fill-opacity:0.5;stroke:#008000;stroke-opacity:0.5;\" x=\"509.711254\" xlink:href=\"#m93fa14e1c5\" y=\"204.028362\"/>\n     <use style=\"fill:#008000;fill-opacity:0.5;stroke:#008000;stroke-opacity:0.5;\" x=\"423.356829\" xlink:href=\"#m93fa14e1c5\" y=\"161.757826\"/>\n     <use style=\"fill:#008000;fill-opacity:0.5;stroke:#008000;stroke-opacity:0.5;\" x=\"540.428311\" xlink:href=\"#m93fa14e1c5\" y=\"154.808833\"/>\n     <use style=\"fill:#008000;fill-opacity:0.5;stroke:#008000;stroke-opacity:0.5;\" x=\"574.653065\" xlink:href=\"#m93fa14e1c5\" y=\"217.266551\"/>\n     <use style=\"fill:#008000;fill-opacity:0.5;stroke:#008000;stroke-opacity:0.5;\" x=\"514.480606\" xlink:href=\"#m93fa14e1c5\" y=\"174.272046\"/>\n     <use style=\"fill:#008000;fill-opacity:0.5;stroke:#008000;stroke-opacity:0.5;\" x=\"461.639763\" xlink:href=\"#m93fa14e1c5\" y=\"145.208206\"/>\n     <use style=\"fill:#008000;fill-opacity:0.5;stroke:#008000;stroke-opacity:0.5;\" x=\"551.752113\" xlink:href=\"#m93fa14e1c5\" y=\"164.46932\"/>\n     <use style=\"fill:#008000;fill-opacity:0.5;stroke:#008000;stroke-opacity:0.5;\" x=\"520.006773\" xlink:href=\"#m93fa14e1c5\" y=\"177.065448\"/>\n     <use style=\"fill:#008000;fill-opacity:0.5;stroke:#008000;stroke-opacity:0.5;\" x=\"527.259131\" xlink:href=\"#m93fa14e1c5\" y=\"133.33656\"/>\n     <use style=\"fill:#008000;fill-opacity:0.5;stroke:#008000;stroke-opacity:0.5;\" x=\"520.070844\" xlink:href=\"#m93fa14e1c5\" y=\"164.435885\"/>\n     <use style=\"fill:#008000;fill-opacity:0.5;stroke:#008000;stroke-opacity:0.5;\" x=\"479.261363\" xlink:href=\"#m93fa14e1c5\" y=\"212.81997\"/>\n     <use style=\"fill:#008000;fill-opacity:0.5;stroke:#008000;stroke-opacity:0.5;\" x=\"422.804025\" xlink:href=\"#m93fa14e1c5\" y=\"160.997857\"/>\n     <use style=\"fill:#008000;fill-opacity:0.5;stroke:#008000;stroke-opacity:0.5;\" x=\"474.214881\" xlink:href=\"#m93fa14e1c5\" y=\"130.243016\"/>\n     <use style=\"fill:#008000;fill-opacity:0.5;stroke:#008000;stroke-opacity:0.5;\" x=\"486.331055\" xlink:href=\"#m93fa14e1c5\" y=\"192.569232\"/>\n     <use style=\"fill:#008000;fill-opacity:0.5;stroke:#008000;stroke-opacity:0.5;\" x=\"438.553995\" xlink:href=\"#m93fa14e1c5\" y=\"182.978804\"/>\n     <use style=\"fill:#008000;fill-opacity:0.5;stroke:#008000;stroke-opacity:0.5;\" x=\"531.145205\" xlink:href=\"#m93fa14e1c5\" y=\"159.475764\"/>\n     <use style=\"fill:#008000;fill-opacity:0.5;stroke:#008000;stroke-opacity:0.5;\" x=\"483.815747\" xlink:href=\"#m93fa14e1c5\" y=\"225.180699\"/>\n     <use style=\"fill:#008000;fill-opacity:0.5;stroke:#008000;stroke-opacity:0.5;\" x=\"515.995764\" xlink:href=\"#m93fa14e1c5\" y=\"208.175759\"/>\n     <use style=\"fill:#008000;fill-opacity:0.5;stroke:#008000;stroke-opacity:0.5;\" x=\"540.733035\" xlink:href=\"#m93fa14e1c5\" y=\"158.224192\"/>\n     <use style=\"fill:#008000;fill-opacity:0.5;stroke:#008000;stroke-opacity:0.5;\" x=\"494.021548\" xlink:href=\"#m93fa14e1c5\" y=\"189.386243\"/>\n     <use style=\"fill:#008000;fill-opacity:0.5;stroke:#008000;stroke-opacity:0.5;\" x=\"526.570106\" xlink:href=\"#m93fa14e1c5\" y=\"260.687118\"/>\n     <use style=\"fill:#008000;fill-opacity:0.5;stroke:#008000;stroke-opacity:0.5;\" x=\"519.940298\" xlink:href=\"#m93fa14e1c5\" y=\"213.279198\"/>\n     <use style=\"fill:#008000;fill-opacity:0.5;stroke:#008000;stroke-opacity:0.5;\" x=\"496.979367\" xlink:href=\"#m93fa14e1c5\" y=\"168.910251\"/>\n     <use style=\"fill:#008000;fill-opacity:0.5;stroke:#008000;stroke-opacity:0.5;\" x=\"487.655919\" xlink:href=\"#m93fa14e1c5\" y=\"229.325066\"/>\n     <use style=\"fill:#008000;fill-opacity:0.5;stroke:#008000;stroke-opacity:0.5;\" x=\"497.236555\" xlink:href=\"#m93fa14e1c5\" y=\"104.629122\"/>\n     <use style=\"fill:#008000;fill-opacity:0.5;stroke:#008000;stroke-opacity:0.5;\" x=\"498.833202\" xlink:href=\"#m93fa14e1c5\" y=\"184.917267\"/>\n     <use style=\"fill:#008000;fill-opacity:0.5;stroke:#008000;stroke-opacity:0.5;\" x=\"473.24976\" xlink:href=\"#m93fa14e1c5\" y=\"192.519047\"/>\n     <use style=\"fill:#008000;fill-opacity:0.5;stroke:#008000;stroke-opacity:0.5;\" x=\"531.760658\" xlink:href=\"#m93fa14e1c5\" y=\"167.170396\"/>\n     <use style=\"fill:#008000;fill-opacity:0.5;stroke:#008000;stroke-opacity:0.5;\" x=\"512.240571\" xlink:href=\"#m93fa14e1c5\" y=\"109.43111\"/>\n     <use style=\"fill:#008000;fill-opacity:0.5;stroke:#008000;stroke-opacity:0.5;\" x=\"507.680909\" xlink:href=\"#m93fa14e1c5\" y=\"195.454855\"/>\n     <use style=\"fill:#008000;fill-opacity:0.5;stroke:#008000;stroke-opacity:0.5;\" x=\"524.642777\" xlink:href=\"#m93fa14e1c5\" y=\"159.966738\"/>\n     <use style=\"fill:#008000;fill-opacity:0.5;stroke:#008000;stroke-opacity:0.5;\" x=\"577.959579\" xlink:href=\"#m93fa14e1c5\" y=\"291.442376\"/>\n     <use style=\"fill:#008000;fill-opacity:0.5;stroke:#008000;stroke-opacity:0.5;\" x=\"528.58192\" xlink:href=\"#m93fa14e1c5\" y=\"169.992855\"/>\n     <use style=\"fill:#008000;fill-opacity:0.5;stroke:#008000;stroke-opacity:0.5;\" x=\"573.267243\" xlink:href=\"#m93fa14e1c5\" y=\"178.86856\"/>\n     <use style=\"fill:#008000;fill-opacity:0.5;stroke:#008000;stroke-opacity:0.5;\" x=\"476.146118\" xlink:href=\"#m93fa14e1c5\" y=\"165.890321\"/>\n     <use style=\"fill:#008000;fill-opacity:0.5;stroke:#008000;stroke-opacity:0.5;\" x=\"424.95925\" xlink:href=\"#m93fa14e1c5\" y=\"178.442889\"/>\n     <use style=\"fill:#008000;fill-opacity:0.5;stroke:#008000;stroke-opacity:0.5;\" x=\"560.085718\" xlink:href=\"#m93fa14e1c5\" y=\"213.147931\"/>\n     <use style=\"fill:#008000;fill-opacity:0.5;stroke:#008000;stroke-opacity:0.5;\" x=\"552.188478\" xlink:href=\"#m93fa14e1c5\" y=\"179.436175\"/>\n     <use style=\"fill:#008000;fill-opacity:0.5;stroke:#008000;stroke-opacity:0.5;\" x=\"501.234753\" xlink:href=\"#m93fa14e1c5\" y=\"145.773395\"/>\n     <use style=\"fill:#008000;fill-opacity:0.5;stroke:#008000;stroke-opacity:0.5;\" x=\"552.052982\" xlink:href=\"#m93fa14e1c5\" y=\"276.058939\"/>\n     <use style=\"fill:#008000;fill-opacity:0.5;stroke:#008000;stroke-opacity:0.5;\" x=\"445.389172\" xlink:href=\"#m93fa14e1c5\" y=\"164.668049\"/>\n     <use style=\"fill:#008000;fill-opacity:0.5;stroke:#008000;stroke-opacity:0.5;\" x=\"426.485643\" xlink:href=\"#m93fa14e1c5\" y=\"205.306977\"/>\n     <use style=\"fill:#008000;fill-opacity:0.5;stroke:#008000;stroke-opacity:0.5;\" x=\"527.303621\" xlink:href=\"#m93fa14e1c5\" y=\"182.820504\"/>\n     <use style=\"fill:#008000;fill-opacity:0.5;stroke:#008000;stroke-opacity:0.5;\" x=\"471.891456\" xlink:href=\"#m93fa14e1c5\" y=\"214.843401\"/>\n     <use style=\"fill:#008000;fill-opacity:0.5;stroke:#008000;stroke-opacity:0.5;\" x=\"482.284073\" xlink:href=\"#m93fa14e1c5\" y=\"157.848646\"/>\n     <use style=\"fill:#008000;fill-opacity:0.5;stroke:#008000;stroke-opacity:0.5;\" x=\"510.777905\" xlink:href=\"#m93fa14e1c5\" y=\"114.201194\"/>\n     <use style=\"fill:#008000;fill-opacity:0.5;stroke:#008000;stroke-opacity:0.5;\" x=\"498.137172\" xlink:href=\"#m93fa14e1c5\" y=\"159.553693\"/>\n     <use style=\"fill:#008000;fill-opacity:0.5;stroke:#008000;stroke-opacity:0.5;\" x=\"489.347351\" xlink:href=\"#m93fa14e1c5\" y=\"159.781356\"/>\n     <use style=\"fill:#008000;fill-opacity:0.5;stroke:#008000;stroke-opacity:0.5;\" x=\"513.077968\" xlink:href=\"#m93fa14e1c5\" y=\"172.438271\"/>\n     <use style=\"fill:#008000;fill-opacity:0.5;stroke:#008000;stroke-opacity:0.5;\" x=\"493.926916\" xlink:href=\"#m93fa14e1c5\" y=\"203.002735\"/>\n     <use style=\"fill:#008000;fill-opacity:0.5;stroke:#008000;stroke-opacity:0.5;\" x=\"562.844547\" xlink:href=\"#m93fa14e1c5\" y=\"174.538524\"/>\n     <use style=\"fill:#008000;fill-opacity:0.5;stroke:#008000;stroke-opacity:0.5;\" x=\"495.220882\" xlink:href=\"#m93fa14e1c5\" y=\"192.58595\"/>\n     <use style=\"fill:#008000;fill-opacity:0.5;stroke:#008000;stroke-opacity:0.5;\" x=\"530.665068\" xlink:href=\"#m93fa14e1c5\" y=\"211.605605\"/>\n     <use style=\"fill:#008000;fill-opacity:0.5;stroke:#008000;stroke-opacity:0.5;\" x=\"487.72323\" xlink:href=\"#m93fa14e1c5\" y=\"253.593005\"/>\n     <use style=\"fill:#008000;fill-opacity:0.5;stroke:#008000;stroke-opacity:0.5;\" x=\"493.514794\" xlink:href=\"#m93fa14e1c5\" y=\"160.07176\"/>\n     <use style=\"fill:#008000;fill-opacity:0.5;stroke:#008000;stroke-opacity:0.5;\" x=\"451.157235\" xlink:href=\"#m93fa14e1c5\" y=\"167.030013\"/>\n     <use style=\"fill:#008000;fill-opacity:0.5;stroke:#008000;stroke-opacity:0.5;\" x=\"515.671084\" xlink:href=\"#m93fa14e1c5\" y=\"162.729396\"/>\n     <use style=\"fill:#008000;fill-opacity:0.5;stroke:#008000;stroke-opacity:0.5;\" x=\"507.3953\" xlink:href=\"#m93fa14e1c5\" y=\"185.511674\"/>\n     <use style=\"fill:#008000;fill-opacity:0.5;stroke:#008000;stroke-opacity:0.5;\" x=\"510.179066\" xlink:href=\"#m93fa14e1c5\" y=\"163.629395\"/>\n     <use style=\"fill:#008000;fill-opacity:0.5;stroke:#008000;stroke-opacity:0.5;\" x=\"468.659905\" xlink:href=\"#m93fa14e1c5\" y=\"216.552104\"/>\n     <use style=\"fill:#008000;fill-opacity:0.5;stroke:#008000;stroke-opacity:0.5;\" x=\"566.763996\" xlink:href=\"#m93fa14e1c5\" y=\"175.377374\"/>\n     <use style=\"fill:#008000;fill-opacity:0.5;stroke:#008000;stroke-opacity:0.5;\" x=\"491.962863\" xlink:href=\"#m93fa14e1c5\" y=\"230.745088\"/>\n     <use style=\"fill:#008000;fill-opacity:0.5;stroke:#008000;stroke-opacity:0.5;\" x=\"534.257996\" xlink:href=\"#m93fa14e1c5\" y=\"177.243158\"/>\n     <use style=\"fill:#008000;fill-opacity:0.5;stroke:#008000;stroke-opacity:0.5;\" x=\"534.767878\" xlink:href=\"#m93fa14e1c5\" y=\"275.040181\"/>\n     <use style=\"fill:#008000;fill-opacity:0.5;stroke:#008000;stroke-opacity:0.5;\" x=\"522.290535\" xlink:href=\"#m93fa14e1c5\" y=\"168.818168\"/>\n     <use style=\"fill:#008000;fill-opacity:0.5;stroke:#008000;stroke-opacity:0.5;\" x=\"535.390184\" xlink:href=\"#m93fa14e1c5\" y=\"208.565267\"/>\n     <use style=\"fill:#008000;fill-opacity:0.5;stroke:#008000;stroke-opacity:0.5;\" x=\"535.993315\" xlink:href=\"#m93fa14e1c5\" y=\"140.535206\"/>\n     <use style=\"fill:#008000;fill-opacity:0.5;stroke:#008000;stroke-opacity:0.5;\" x=\"508.078695\" xlink:href=\"#m93fa14e1c5\" y=\"127.163679\"/>\n     <use style=\"fill:#008000;fill-opacity:0.5;stroke:#008000;stroke-opacity:0.5;\" x=\"534.378976\" xlink:href=\"#m93fa14e1c5\" y=\"92.86175\"/>\n     <use style=\"fill:#008000;fill-opacity:0.5;stroke:#008000;stroke-opacity:0.5;\" x=\"522.04288\" xlink:href=\"#m93fa14e1c5\" y=\"198.851148\"/>\n     <use style=\"fill:#008000;fill-opacity:0.5;stroke:#008000;stroke-opacity:0.5;\" x=\"541.969041\" xlink:href=\"#m93fa14e1c5\" y=\"75.678185\"/>\n     <use style=\"fill:#008000;fill-opacity:0.5;stroke:#008000;stroke-opacity:0.5;\" x=\"583.499852\" xlink:href=\"#m93fa14e1c5\" y=\"187.560251\"/>\n     <use style=\"fill:#008000;fill-opacity:0.5;stroke:#008000;stroke-opacity:0.5;\" x=\"542.611838\" xlink:href=\"#m93fa14e1c5\" y=\"158.051266\"/>\n     <use style=\"fill:#008000;fill-opacity:0.5;stroke:#008000;stroke-opacity:0.5;\" x=\"583.339717\" xlink:href=\"#m93fa14e1c5\" y=\"210.046879\"/>\n     <use style=\"fill:#008000;fill-opacity:0.5;stroke:#008000;stroke-opacity:0.5;\" x=\"475.502537\" xlink:href=\"#m93fa14e1c5\" y=\"129.48107\"/>\n     <use style=\"fill:#008000;fill-opacity:0.5;stroke:#008000;stroke-opacity:0.5;\" x=\"528.160793\" xlink:href=\"#m93fa14e1c5\" y=\"136.692107\"/>\n     <use style=\"fill:#008000;fill-opacity:0.5;stroke:#008000;stroke-opacity:0.5;\" x=\"546.586626\" xlink:href=\"#m93fa14e1c5\" y=\"197.306322\"/>\n     <use style=\"fill:#008000;fill-opacity:0.5;stroke:#008000;stroke-opacity:0.5;\" x=\"576.293373\" xlink:href=\"#m93fa14e1c5\" y=\"95.418558\"/>\n     <use style=\"fill:#008000;fill-opacity:0.5;stroke:#008000;stroke-opacity:0.5;\" x=\"534.932419\" xlink:href=\"#m93fa14e1c5\" y=\"186.296236\"/>\n     <use style=\"fill:#008000;fill-opacity:0.5;stroke:#008000;stroke-opacity:0.5;\" x=\"546.319783\" xlink:href=\"#m93fa14e1c5\" y=\"120.961424\"/>\n     <use style=\"fill:#008000;fill-opacity:0.5;stroke:#008000;stroke-opacity:0.5;\" x=\"578.743317\" xlink:href=\"#m93fa14e1c5\" y=\"207.535793\"/>\n     <use style=\"fill:#008000;fill-opacity:0.5;stroke:#008000;stroke-opacity:0.5;\" x=\"541.33616\" xlink:href=\"#m93fa14e1c5\" y=\"178.838216\"/>\n     <use style=\"fill:#008000;fill-opacity:0.5;stroke:#008000;stroke-opacity:0.5;\" x=\"506.470985\" xlink:href=\"#m93fa14e1c5\" y=\"167.854473\"/>\n     <use style=\"fill:#008000;fill-opacity:0.5;stroke:#008000;stroke-opacity:0.5;\" x=\"527.940706\" xlink:href=\"#m93fa14e1c5\" y=\"148.709001\"/>\n     <use style=\"fill:#008000;fill-opacity:0.5;stroke:#008000;stroke-opacity:0.5;\" x=\"539.723929\" xlink:href=\"#m93fa14e1c5\" y=\"171.972166\"/>\n     <use style=\"fill:#008000;fill-opacity:0.5;stroke:#008000;stroke-opacity:0.5;\" x=\"555.399771\" xlink:href=\"#m93fa14e1c5\" y=\"114.116389\"/>\n     <use style=\"fill:#008000;fill-opacity:0.5;stroke:#008000;stroke-opacity:0.5;\" x=\"513.481553\" xlink:href=\"#m93fa14e1c5\" y=\"153.267297\"/>\n     <use style=\"fill:#008000;fill-opacity:0.5;stroke:#008000;stroke-opacity:0.5;\" x=\"427.385861\" xlink:href=\"#m93fa14e1c5\" y=\"191.679783\"/>\n     <use style=\"fill:#008000;fill-opacity:0.5;stroke:#008000;stroke-opacity:0.5;\" x=\"563.848517\" xlink:href=\"#m93fa14e1c5\" y=\"168.675497\"/>\n     <use style=\"fill:#008000;fill-opacity:0.5;stroke:#008000;stroke-opacity:0.5;\" x=\"466.483286\" xlink:href=\"#m93fa14e1c5\" y=\"213.024499\"/>\n     <use style=\"fill:#008000;fill-opacity:0.5;stroke:#008000;stroke-opacity:0.5;\" x=\"529.362719\" xlink:href=\"#m93fa14e1c5\" y=\"129.576196\"/>\n     <use style=\"fill:#008000;fill-opacity:0.5;stroke:#008000;stroke-opacity:0.5;\" x=\"554.194437\" xlink:href=\"#m93fa14e1c5\" y=\"234.220344\"/>\n     <use style=\"fill:#008000;fill-opacity:0.5;stroke:#008000;stroke-opacity:0.5;\" x=\"473.101523\" xlink:href=\"#m93fa14e1c5\" y=\"168.595375\"/>\n     <use style=\"fill:#008000;fill-opacity:0.5;stroke:#008000;stroke-opacity:0.5;\" x=\"536.422562\" xlink:href=\"#m93fa14e1c5\" y=\"151.255064\"/>\n     <use style=\"fill:#008000;fill-opacity:0.5;stroke:#008000;stroke-opacity:0.5;\" x=\"433.963945\" xlink:href=\"#m93fa14e1c5\" y=\"161.000839\"/>\n     <use style=\"fill:#008000;fill-opacity:0.5;stroke:#008000;stroke-opacity:0.5;\" x=\"564.773418\" xlink:href=\"#m93fa14e1c5\" y=\"241.314447\"/>\n     <use style=\"fill:#008000;fill-opacity:0.5;stroke:#008000;stroke-opacity:0.5;\" x=\"503.822396\" xlink:href=\"#m93fa14e1c5\" y=\"178.677331\"/>\n     <use style=\"fill:#008000;fill-opacity:0.5;stroke:#008000;stroke-opacity:0.5;\" x=\"545.987225\" xlink:href=\"#m93fa14e1c5\" y=\"226.729525\"/>\n     <use style=\"fill:#008000;fill-opacity:0.5;stroke:#008000;stroke-opacity:0.5;\" x=\"515.800915\" xlink:href=\"#m93fa14e1c5\" y=\"200.673949\"/>\n     <use style=\"fill:#008000;fill-opacity:0.5;stroke:#008000;stroke-opacity:0.5;\" x=\"486.177003\" xlink:href=\"#m93fa14e1c5\" y=\"192.771094\"/>\n     <use style=\"fill:#008000;fill-opacity:0.5;stroke:#008000;stroke-opacity:0.5;\" x=\"514.03528\" xlink:href=\"#m93fa14e1c5\" y=\"207.111332\"/>\n     <use style=\"fill:#008000;fill-opacity:0.5;stroke:#008000;stroke-opacity:0.5;\" x=\"543.457456\" xlink:href=\"#m93fa14e1c5\" y=\"88.617606\"/>\n     <use style=\"fill:#008000;fill-opacity:0.5;stroke:#008000;stroke-opacity:0.5;\" x=\"526.605203\" xlink:href=\"#m93fa14e1c5\" y=\"198.599051\"/>\n     <use style=\"fill:#008000;fill-opacity:0.5;stroke:#008000;stroke-opacity:0.5;\" x=\"531.692469\" xlink:href=\"#m93fa14e1c5\" y=\"176.33063\"/>\n     <use style=\"fill:#008000;fill-opacity:0.5;stroke:#008000;stroke-opacity:0.5;\" x=\"536.896931\" xlink:href=\"#m93fa14e1c5\" y=\"121.167852\"/>\n     <use style=\"fill:#008000;fill-opacity:0.5;stroke:#008000;stroke-opacity:0.5;\" x=\"541.643027\" xlink:href=\"#m93fa14e1c5\" y=\"150.987626\"/>\n     <use style=\"fill:#008000;fill-opacity:0.5;stroke:#008000;stroke-opacity:0.5;\" x=\"495.964817\" xlink:href=\"#m93fa14e1c5\" y=\"189.856469\"/>\n     <use style=\"fill:#008000;fill-opacity:0.5;stroke:#008000;stroke-opacity:0.5;\" x=\"490.894219\" xlink:href=\"#m93fa14e1c5\" y=\"162.362703\"/>\n     <use style=\"fill:#008000;fill-opacity:0.5;stroke:#008000;stroke-opacity:0.5;\" x=\"440.023482\" xlink:href=\"#m93fa14e1c5\" y=\"160.356311\"/>\n     <use style=\"fill:#008000;fill-opacity:0.5;stroke:#008000;stroke-opacity:0.5;\" x=\"496.803988\" xlink:href=\"#m93fa14e1c5\" y=\"152.391728\"/>\n     <use style=\"fill:#008000;fill-opacity:0.5;stroke:#008000;stroke-opacity:0.5;\" x=\"517.872494\" xlink:href=\"#m93fa14e1c5\" y=\"120.032087\"/>\n     <use style=\"fill:#008000;fill-opacity:0.5;stroke:#008000;stroke-opacity:0.5;\" x=\"486.724312\" xlink:href=\"#m93fa14e1c5\" y=\"213.513614\"/>\n     <use style=\"fill:#008000;fill-opacity:0.5;stroke:#008000;stroke-opacity:0.5;\" x=\"442.052677\" xlink:href=\"#m93fa14e1c5\" y=\"136.432148\"/>\n     <use style=\"fill:#008000;fill-opacity:0.5;stroke:#008000;stroke-opacity:0.5;\" x=\"536.43882\" xlink:href=\"#m93fa14e1c5\" y=\"203.107762\"/>\n     <use style=\"fill:#008000;fill-opacity:0.5;stroke:#008000;stroke-opacity:0.5;\" x=\"524.415092\" xlink:href=\"#m93fa14e1c5\" y=\"228.232748\"/>\n     <use style=\"fill:#008000;fill-opacity:0.5;stroke:#008000;stroke-opacity:0.5;\" x=\"473.230705\" xlink:href=\"#m93fa14e1c5\" y=\"258.899071\"/>\n     <use style=\"fill:#008000;fill-opacity:0.5;stroke:#008000;stroke-opacity:0.5;\" x=\"534.374301\" xlink:href=\"#m93fa14e1c5\" y=\"201.572517\"/>\n     <use style=\"fill:#008000;fill-opacity:0.5;stroke:#008000;stroke-opacity:0.5;\" x=\"482.025311\" xlink:href=\"#m93fa14e1c5\" y=\"230.321987\"/>\n     <use style=\"fill:#008000;fill-opacity:0.5;stroke:#008000;stroke-opacity:0.5;\" x=\"441.508308\" xlink:href=\"#m93fa14e1c5\" y=\"128.290505\"/>\n     <use style=\"fill:#008000;fill-opacity:0.5;stroke:#008000;stroke-opacity:0.5;\" x=\"502.845095\" xlink:href=\"#m93fa14e1c5\" y=\"127.929385\"/>\n     <use style=\"fill:#008000;fill-opacity:0.5;stroke:#008000;stroke-opacity:0.5;\" x=\"485.974094\" xlink:href=\"#m93fa14e1c5\" y=\"200.519304\"/>\n     <use style=\"fill:#008000;fill-opacity:0.5;stroke:#008000;stroke-opacity:0.5;\" x=\"526.12136\" xlink:href=\"#m93fa14e1c5\" y=\"180.522574\"/>\n     <use style=\"fill:#008000;fill-opacity:0.5;stroke:#008000;stroke-opacity:0.5;\" x=\"496.768045\" xlink:href=\"#m93fa14e1c5\" y=\"186.018329\"/>\n     <use style=\"fill:#008000;fill-opacity:0.5;stroke:#008000;stroke-opacity:0.5;\" x=\"472.81951\" xlink:href=\"#m93fa14e1c5\" y=\"118.190776\"/>\n     <use style=\"fill:#008000;fill-opacity:0.5;stroke:#008000;stroke-opacity:0.5;\" x=\"525.220243\" xlink:href=\"#m93fa14e1c5\" y=\"157.479436\"/>\n     <use style=\"fill:#008000;fill-opacity:0.5;stroke:#008000;stroke-opacity:0.5;\" x=\"515.506805\" xlink:href=\"#m93fa14e1c5\" y=\"138.553068\"/>\n     <use style=\"fill:#008000;fill-opacity:0.5;stroke:#008000;stroke-opacity:0.5;\" x=\"503.781291\" xlink:href=\"#m93fa14e1c5\" y=\"192.382295\"/>\n     <use style=\"fill:#008000;fill-opacity:0.5;stroke:#008000;stroke-opacity:0.5;\" x=\"539.242912\" xlink:href=\"#m93fa14e1c5\" y=\"190.540306\"/>\n     <use style=\"fill:#008000;fill-opacity:0.5;stroke:#008000;stroke-opacity:0.5;\" x=\"465.707986\" xlink:href=\"#m93fa14e1c5\" y=\"217.632864\"/>\n     <use style=\"fill:#008000;fill-opacity:0.5;stroke:#008000;stroke-opacity:0.5;\" x=\"515.70303\" xlink:href=\"#m93fa14e1c5\" y=\"121.757677\"/>\n     <use style=\"fill:#008000;fill-opacity:0.5;stroke:#008000;stroke-opacity:0.5;\" x=\"477.336106\" xlink:href=\"#m93fa14e1c5\" y=\"182.735665\"/>\n     <use style=\"fill:#008000;fill-opacity:0.5;stroke:#008000;stroke-opacity:0.5;\" x=\"507.868056\" xlink:href=\"#m93fa14e1c5\" y=\"144.249525\"/>\n     <use style=\"fill:#008000;fill-opacity:0.5;stroke:#008000;stroke-opacity:0.5;\" x=\"503.4751\" xlink:href=\"#m93fa14e1c5\" y=\"239.533617\"/>\n     <use style=\"fill:#008000;fill-opacity:0.5;stroke:#008000;stroke-opacity:0.5;\" x=\"504.996383\" xlink:href=\"#m93fa14e1c5\" y=\"214.666794\"/>\n     <use style=\"fill:#008000;fill-opacity:0.5;stroke:#008000;stroke-opacity:0.5;\" x=\"475.270947\" xlink:href=\"#m93fa14e1c5\" y=\"154.169083\"/>\n     <use style=\"fill:#008000;fill-opacity:0.5;stroke:#008000;stroke-opacity:0.5;\" x=\"488.643995\" xlink:href=\"#m93fa14e1c5\" y=\"162.036812\"/>\n     <use style=\"fill:#008000;fill-opacity:0.5;stroke:#008000;stroke-opacity:0.5;\" x=\"539.344257\" xlink:href=\"#m93fa14e1c5\" y=\"170.885108\"/>\n     <use style=\"fill:#008000;fill-opacity:0.5;stroke:#008000;stroke-opacity:0.5;\" x=\"493.081514\" xlink:href=\"#m93fa14e1c5\" y=\"263.087897\"/>\n     <use style=\"fill:#008000;fill-opacity:0.5;stroke:#008000;stroke-opacity:0.5;\" x=\"552.314783\" xlink:href=\"#m93fa14e1c5\" y=\"148.842048\"/>\n     <use style=\"fill:#008000;fill-opacity:0.5;stroke:#008000;stroke-opacity:0.5;\" x=\"495.806986\" xlink:href=\"#m93fa14e1c5\" y=\"147.009749\"/>\n     <use style=\"fill:#008000;fill-opacity:0.5;stroke:#008000;stroke-opacity:0.5;\" x=\"477.328949\" xlink:href=\"#m93fa14e1c5\" y=\"115.209591\"/>\n     <use style=\"fill:#008000;fill-opacity:0.5;stroke:#008000;stroke-opacity:0.5;\" x=\"528.866758\" xlink:href=\"#m93fa14e1c5\" y=\"78.206764\"/>\n     <use style=\"fill:#008000;fill-opacity:0.5;stroke:#008000;stroke-opacity:0.5;\" x=\"482.252908\" xlink:href=\"#m93fa14e1c5\" y=\"191.850642\"/>\n     <use style=\"fill:#008000;fill-opacity:0.5;stroke:#008000;stroke-opacity:0.5;\" x=\"519.884812\" xlink:href=\"#m93fa14e1c5\" y=\"225.708969\"/>\n     <use style=\"fill:#008000;fill-opacity:0.5;stroke:#008000;stroke-opacity:0.5;\" x=\"464.37018\" xlink:href=\"#m93fa14e1c5\" y=\"132.668629\"/>\n     <use style=\"fill:#008000;fill-opacity:0.5;stroke:#008000;stroke-opacity:0.5;\" x=\"482.110566\" xlink:href=\"#m93fa14e1c5\" y=\"163.465995\"/>\n     <use style=\"fill:#008000;fill-opacity:0.5;stroke:#008000;stroke-opacity:0.5;\" x=\"473.240394\" xlink:href=\"#m93fa14e1c5\" y=\"149.723855\"/>\n     <use style=\"fill:#008000;fill-opacity:0.5;stroke:#008000;stroke-opacity:0.5;\" x=\"478.910672\" xlink:href=\"#m93fa14e1c5\" y=\"58.189367\"/>\n     <use style=\"fill:#008000;fill-opacity:0.5;stroke:#008000;stroke-opacity:0.5;\" x=\"532.935259\" xlink:href=\"#m93fa14e1c5\" y=\"168.602408\"/>\n     <use style=\"fill:#008000;fill-opacity:0.5;stroke:#008000;stroke-opacity:0.5;\" x=\"541.103229\" xlink:href=\"#m93fa14e1c5\" y=\"174.055893\"/>\n     <use style=\"fill:#008000;fill-opacity:0.5;stroke:#008000;stroke-opacity:0.5;\" x=\"511.778309\" xlink:href=\"#m93fa14e1c5\" y=\"229.428732\"/>\n     <use style=\"fill:#008000;fill-opacity:0.5;stroke:#008000;stroke-opacity:0.5;\" x=\"480.835996\" xlink:href=\"#m93fa14e1c5\" y=\"259.917401\"/>\n     <use style=\"fill:#008000;fill-opacity:0.5;stroke:#008000;stroke-opacity:0.5;\" x=\"524.078431\" xlink:href=\"#m93fa14e1c5\" y=\"211.72372\"/>\n     <use style=\"fill:#008000;fill-opacity:0.5;stroke:#008000;stroke-opacity:0.5;\" x=\"512.934747\" xlink:href=\"#m93fa14e1c5\" y=\"145.511512\"/>\n     <use style=\"fill:#008000;fill-opacity:0.5;stroke:#008000;stroke-opacity:0.5;\" x=\"494.743355\" xlink:href=\"#m93fa14e1c5\" y=\"111.463002\"/>\n     <use style=\"fill:#008000;fill-opacity:0.5;stroke:#008000;stroke-opacity:0.5;\" x=\"527.34655\" xlink:href=\"#m93fa14e1c5\" y=\"221.520665\"/>\n     <use style=\"fill:#008000;fill-opacity:0.5;stroke:#008000;stroke-opacity:0.5;\" x=\"577.10973\" xlink:href=\"#m93fa14e1c5\" y=\"244.035674\"/>\n     <use style=\"fill:#008000;fill-opacity:0.5;stroke:#008000;stroke-opacity:0.5;\" x=\"570.570922\" xlink:href=\"#m93fa14e1c5\" y=\"175.056011\"/>\n     <use style=\"fill:#008000;fill-opacity:0.5;stroke:#008000;stroke-opacity:0.5;\" x=\"539.991798\" xlink:href=\"#m93fa14e1c5\" y=\"150.296301\"/>\n     <use style=\"fill:#008000;fill-opacity:0.5;stroke:#008000;stroke-opacity:0.5;\" x=\"553.448287\" xlink:href=\"#m93fa14e1c5\" y=\"223.983611\"/>\n     <use style=\"fill:#008000;fill-opacity:0.5;stroke:#008000;stroke-opacity:0.5;\" x=\"517.124013\" xlink:href=\"#m93fa14e1c5\" y=\"251.781889\"/>\n     <use style=\"fill:#008000;fill-opacity:0.5;stroke:#008000;stroke-opacity:0.5;\" x=\"556.996682\" xlink:href=\"#m93fa14e1c5\" y=\"169.458104\"/>\n     <use style=\"fill:#008000;fill-opacity:0.5;stroke:#008000;stroke-opacity:0.5;\" x=\"504.468258\" xlink:href=\"#m93fa14e1c5\" y=\"202.74389\"/>\n     <use style=\"fill:#008000;fill-opacity:0.5;stroke:#008000;stroke-opacity:0.5;\" x=\"487.491746\" xlink:href=\"#m93fa14e1c5\" y=\"179.60352\"/>\n     <use style=\"fill:#008000;fill-opacity:0.5;stroke:#008000;stroke-opacity:0.5;\" x=\"496.107631\" xlink:href=\"#m93fa14e1c5\" y=\"147.969918\"/>\n     <use style=\"fill:#008000;fill-opacity:0.5;stroke:#008000;stroke-opacity:0.5;\" x=\"449.734667\" xlink:href=\"#m93fa14e1c5\" y=\"230.279786\"/>\n     <use style=\"fill:#008000;fill-opacity:0.5;stroke:#008000;stroke-opacity:0.5;\" x=\"573.92207\" xlink:href=\"#m93fa14e1c5\" y=\"138.810788\"/>\n     <use style=\"fill:#008000;fill-opacity:0.5;stroke:#008000;stroke-opacity:0.5;\" x=\"479.179741\" xlink:href=\"#m93fa14e1c5\" y=\"186.716192\"/>\n     <use style=\"fill:#008000;fill-opacity:0.5;stroke:#008000;stroke-opacity:0.5;\" x=\"546.02197\" xlink:href=\"#m93fa14e1c5\" y=\"209.692584\"/>\n     <use style=\"fill:#008000;fill-opacity:0.5;stroke:#008000;stroke-opacity:0.5;\" x=\"463.212346\" xlink:href=\"#m93fa14e1c5\" y=\"227.580495\"/>\n     <use style=\"fill:#008000;fill-opacity:0.5;stroke:#008000;stroke-opacity:0.5;\" x=\"484.988215\" xlink:href=\"#m93fa14e1c5\" y=\"204.861798\"/>\n     <use style=\"fill:#008000;fill-opacity:0.5;stroke:#008000;stroke-opacity:0.5;\" x=\"584.838494\" xlink:href=\"#m93fa14e1c5\" y=\"186.229954\"/>\n     <use style=\"fill:#008000;fill-opacity:0.5;stroke:#008000;stroke-opacity:0.5;\" x=\"493.586804\" xlink:href=\"#m93fa14e1c5\" y=\"213.771333\"/>\n     <use style=\"fill:#008000;fill-opacity:0.5;stroke:#008000;stroke-opacity:0.5;\" x=\"521.526736\" xlink:href=\"#m93fa14e1c5\" y=\"197.978609\"/>\n     <use style=\"fill:#008000;fill-opacity:0.5;stroke:#008000;stroke-opacity:0.5;\" x=\"547.132601\" xlink:href=\"#m93fa14e1c5\" y=\"166.486957\"/>\n     <use style=\"fill:#008000;fill-opacity:0.5;stroke:#008000;stroke-opacity:0.5;\" x=\"528.135384\" xlink:href=\"#m93fa14e1c5\" y=\"131.666519\"/>\n     <use style=\"fill:#008000;fill-opacity:0.5;stroke:#008000;stroke-opacity:0.5;\" x=\"501.940286\" xlink:href=\"#m93fa14e1c5\" y=\"174.601784\"/>\n     <use style=\"fill:#008000;fill-opacity:0.5;stroke:#008000;stroke-opacity:0.5;\" x=\"533.018486\" xlink:href=\"#m93fa14e1c5\" y=\"203.120576\"/>\n     <use style=\"fill:#008000;fill-opacity:0.5;stroke:#008000;stroke-opacity:0.5;\" x=\"518.622549\" xlink:href=\"#m93fa14e1c5\" y=\"144.631322\"/>\n     <use style=\"fill:#008000;fill-opacity:0.5;stroke:#008000;stroke-opacity:0.5;\" x=\"543.290729\" xlink:href=\"#m93fa14e1c5\" y=\"174.154932\"/>\n     <use style=\"fill:#008000;fill-opacity:0.5;stroke:#008000;stroke-opacity:0.5;\" x=\"508.202377\" xlink:href=\"#m93fa14e1c5\" y=\"201.469859\"/>\n     <use style=\"fill:#008000;fill-opacity:0.5;stroke:#008000;stroke-opacity:0.5;\" x=\"502.289334\" xlink:href=\"#m93fa14e1c5\" y=\"114.626232\"/>\n     <use style=\"fill:#008000;fill-opacity:0.5;stroke:#008000;stroke-opacity:0.5;\" x=\"505.091126\" xlink:href=\"#m93fa14e1c5\" y=\"259.475558\"/>\n     <use style=\"fill:#008000;fill-opacity:0.5;stroke:#008000;stroke-opacity:0.5;\" x=\"496.835877\" xlink:href=\"#m93fa14e1c5\" y=\"184.572654\"/>\n     <use style=\"fill:#008000;fill-opacity:0.5;stroke:#008000;stroke-opacity:0.5;\" x=\"530.166677\" xlink:href=\"#m93fa14e1c5\" y=\"141.987702\"/>\n     <use style=\"fill:#008000;fill-opacity:0.5;stroke:#008000;stroke-opacity:0.5;\" x=\"506.594441\" xlink:href=\"#m93fa14e1c5\" y=\"219.791437\"/>\n     <use style=\"fill:#008000;fill-opacity:0.5;stroke:#008000;stroke-opacity:0.5;\" x=\"501.161657\" xlink:href=\"#m93fa14e1c5\" y=\"141.027032\"/>\n     <use style=\"fill:#008000;fill-opacity:0.5;stroke:#008000;stroke-opacity:0.5;\" x=\"512.135653\" xlink:href=\"#m93fa14e1c5\" y=\"131.155963\"/>\n     <use style=\"fill:#008000;fill-opacity:0.5;stroke:#008000;stroke-opacity:0.5;\" x=\"542.746627\" xlink:href=\"#m93fa14e1c5\" y=\"147.370205\"/>\n     <use style=\"fill:#008000;fill-opacity:0.5;stroke:#008000;stroke-opacity:0.5;\" x=\"519.350125\" xlink:href=\"#m93fa14e1c5\" y=\"120.84667\"/>\n     <use style=\"fill:#008000;fill-opacity:0.5;stroke:#008000;stroke-opacity:0.5;\" x=\"493.039797\" xlink:href=\"#m93fa14e1c5\" y=\"173.770371\"/>\n     <use style=\"fill:#008000;fill-opacity:0.5;stroke:#008000;stroke-opacity:0.5;\" x=\"550.626984\" xlink:href=\"#m93fa14e1c5\" y=\"202.498403\"/>\n     <use style=\"fill:#008000;fill-opacity:0.5;stroke:#008000;stroke-opacity:0.5;\" x=\"500.835495\" xlink:href=\"#m93fa14e1c5\" y=\"266.961443\"/>\n     <use style=\"fill:#008000;fill-opacity:0.5;stroke:#008000;stroke-opacity:0.5;\" x=\"559.536696\" xlink:href=\"#m93fa14e1c5\" y=\"214.518417\"/>\n     <use style=\"fill:#008000;fill-opacity:0.5;stroke:#008000;stroke-opacity:0.5;\" x=\"469.382598\" xlink:href=\"#m93fa14e1c5\" y=\"145.55274\"/>\n     <use style=\"fill:#008000;fill-opacity:0.5;stroke:#008000;stroke-opacity:0.5;\" x=\"468.738215\" xlink:href=\"#m93fa14e1c5\" y=\"170.116688\"/>\n     <use style=\"fill:#008000;fill-opacity:0.5;stroke:#008000;stroke-opacity:0.5;\" x=\"471.59948\" xlink:href=\"#m93fa14e1c5\" y=\"129.938895\"/>\n     <use style=\"fill:#008000;fill-opacity:0.5;stroke:#008000;stroke-opacity:0.5;\" x=\"478.428098\" xlink:href=\"#m93fa14e1c5\" y=\"128.286831\"/>\n     <use style=\"fill:#008000;fill-opacity:0.5;stroke:#008000;stroke-opacity:0.5;\" x=\"558.669025\" xlink:href=\"#m93fa14e1c5\" y=\"219.944955\"/>\n     <use style=\"fill:#008000;fill-opacity:0.5;stroke:#008000;stroke-opacity:0.5;\" x=\"563.505015\" xlink:href=\"#m93fa14e1c5\" y=\"246.160989\"/>\n     <use style=\"fill:#008000;fill-opacity:0.5;stroke:#008000;stroke-opacity:0.5;\" x=\"523.2974\" xlink:href=\"#m93fa14e1c5\" y=\"146.64643\"/>\n     <use style=\"fill:#008000;fill-opacity:0.5;stroke:#008000;stroke-opacity:0.5;\" x=\"534.068071\" xlink:href=\"#m93fa14e1c5\" y=\"57.201711\"/>\n     <use style=\"fill:#008000;fill-opacity:0.5;stroke:#008000;stroke-opacity:0.5;\" x=\"470.24407\" xlink:href=\"#m93fa14e1c5\" y=\"210.026578\"/>\n     <use style=\"fill:#008000;fill-opacity:0.5;stroke:#008000;stroke-opacity:0.5;\" x=\"528.202397\" xlink:href=\"#m93fa14e1c5\" y=\"164.387203\"/>\n     <use style=\"fill:#008000;fill-opacity:0.5;stroke:#008000;stroke-opacity:0.5;\" x=\"566.179023\" xlink:href=\"#m93fa14e1c5\" y=\"108.320703\"/>\n     <use style=\"fill:#008000;fill-opacity:0.5;stroke:#008000;stroke-opacity:0.5;\" x=\"440.06006\" xlink:href=\"#m93fa14e1c5\" y=\"128.445753\"/>\n     <use style=\"fill:#008000;fill-opacity:0.5;stroke:#008000;stroke-opacity:0.5;\" x=\"515.397712\" xlink:href=\"#m93fa14e1c5\" y=\"116.903975\"/>\n     <use style=\"fill:#008000;fill-opacity:0.5;stroke:#008000;stroke-opacity:0.5;\" x=\"474.767213\" xlink:href=\"#m93fa14e1c5\" y=\"217.77809\"/>\n     <use style=\"fill:#008000;fill-opacity:0.5;stroke:#008000;stroke-opacity:0.5;\" x=\"509.519291\" xlink:href=\"#m93fa14e1c5\" y=\"198.361112\"/>\n     <use style=\"fill:#008000;fill-opacity:0.5;stroke:#008000;stroke-opacity:0.5;\" x=\"525.931907\" xlink:href=\"#m93fa14e1c5\" y=\"150.019355\"/>\n     <use style=\"fill:#008000;fill-opacity:0.5;stroke:#008000;stroke-opacity:0.5;\" x=\"522.605824\" xlink:href=\"#m93fa14e1c5\" y=\"192.906825\"/>\n     <use style=\"fill:#008000;fill-opacity:0.5;stroke:#008000;stroke-opacity:0.5;\" x=\"495.879215\" xlink:href=\"#m93fa14e1c5\" y=\"132.483403\"/>\n     <use style=\"fill:#008000;fill-opacity:0.5;stroke:#008000;stroke-opacity:0.5;\" x=\"547.18499\" xlink:href=\"#m93fa14e1c5\" y=\"200.162713\"/>\n     <use style=\"fill:#008000;fill-opacity:0.5;stroke:#008000;stroke-opacity:0.5;\" x=\"498.847187\" xlink:href=\"#m93fa14e1c5\" y=\"222.368269\"/>\n     <use style=\"fill:#008000;fill-opacity:0.5;stroke:#008000;stroke-opacity:0.5;\" x=\"436.124871\" xlink:href=\"#m93fa14e1c5\" y=\"166.889072\"/>\n     <use style=\"fill:#008000;fill-opacity:0.5;stroke:#008000;stroke-opacity:0.5;\" x=\"490.730597\" xlink:href=\"#m93fa14e1c5\" y=\"116.8857\"/>\n     <use style=\"fill:#008000;fill-opacity:0.5;stroke:#008000;stroke-opacity:0.5;\" x=\"499.609878\" xlink:href=\"#m93fa14e1c5\" y=\"148.025945\"/>\n     <use style=\"fill:#008000;fill-opacity:0.5;stroke:#008000;stroke-opacity:0.5;\" x=\"477.10379\" xlink:href=\"#m93fa14e1c5\" y=\"126.769355\"/>\n     <use style=\"fill:#008000;fill-opacity:0.5;stroke:#008000;stroke-opacity:0.5;\" x=\"555.208543\" xlink:href=\"#m93fa14e1c5\" y=\"140.661693\"/>\n     <use style=\"fill:#008000;fill-opacity:0.5;stroke:#008000;stroke-opacity:0.5;\" x=\"556.68678\" xlink:href=\"#m93fa14e1c5\" y=\"212.464082\"/>\n     <use style=\"fill:#008000;fill-opacity:0.5;stroke:#008000;stroke-opacity:0.5;\" x=\"452.293613\" xlink:href=\"#m93fa14e1c5\" y=\"181.567236\"/>\n     <use style=\"fill:#008000;fill-opacity:0.5;stroke:#008000;stroke-opacity:0.5;\" x=\"415.430205\" xlink:href=\"#m93fa14e1c5\" y=\"167.325093\"/>\n     <use style=\"fill:#008000;fill-opacity:0.5;stroke:#008000;stroke-opacity:0.5;\" x=\"481.555357\" xlink:href=\"#m93fa14e1c5\" y=\"254.10641\"/>\n     <use style=\"fill:#008000;fill-opacity:0.5;stroke:#008000;stroke-opacity:0.5;\" x=\"504.744614\" xlink:href=\"#m93fa14e1c5\" y=\"155.406818\"/>\n     <use style=\"fill:#008000;fill-opacity:0.5;stroke:#008000;stroke-opacity:0.5;\" x=\"538.706667\" xlink:href=\"#m93fa14e1c5\" y=\"183.645263\"/>\n     <use style=\"fill:#008000;fill-opacity:0.5;stroke:#008000;stroke-opacity:0.5;\" x=\"472.86378\" xlink:href=\"#m93fa14e1c5\" y=\"200.835552\"/>\n     <use style=\"fill:#008000;fill-opacity:0.5;stroke:#008000;stroke-opacity:0.5;\" x=\"529.215879\" xlink:href=\"#m93fa14e1c5\" y=\"181.815922\"/>\n     <use style=\"fill:#008000;fill-opacity:0.5;stroke:#008000;stroke-opacity:0.5;\" x=\"483.116156\" xlink:href=\"#m93fa14e1c5\" y=\"236.89567\"/>\n     <use style=\"fill:#008000;fill-opacity:0.5;stroke:#008000;stroke-opacity:0.5;\" x=\"458.831216\" xlink:href=\"#m93fa14e1c5\" y=\"246.153361\"/>\n     <use style=\"fill:#008000;fill-opacity:0.5;stroke:#008000;stroke-opacity:0.5;\" x=\"519.360631\" xlink:href=\"#m93fa14e1c5\" y=\"133.13299\"/>\n     <use style=\"fill:#008000;fill-opacity:0.5;stroke:#008000;stroke-opacity:0.5;\" x=\"489.897199\" xlink:href=\"#m93fa14e1c5\" y=\"203.122587\"/>\n     <use style=\"fill:#008000;fill-opacity:0.5;stroke:#008000;stroke-opacity:0.5;\" x=\"494.02718\" xlink:href=\"#m93fa14e1c5\" y=\"234.42347\"/>\n     <use style=\"fill:#008000;fill-opacity:0.5;stroke:#008000;stroke-opacity:0.5;\" x=\"500.01983\" xlink:href=\"#m93fa14e1c5\" y=\"159.143264\"/>\n     <use style=\"fill:#008000;fill-opacity:0.5;stroke:#008000;stroke-opacity:0.5;\" x=\"492.240877\" xlink:href=\"#m93fa14e1c5\" y=\"168.410032\"/>\n     <use style=\"fill:#008000;fill-opacity:0.5;stroke:#008000;stroke-opacity:0.5;\" x=\"502.684182\" xlink:href=\"#m93fa14e1c5\" y=\"163.902004\"/>\n     <use style=\"fill:#008000;fill-opacity:0.5;stroke:#008000;stroke-opacity:0.5;\" x=\"450.462695\" xlink:href=\"#m93fa14e1c5\" y=\"97.148729\"/>\n     <use style=\"fill:#008000;fill-opacity:0.5;stroke:#008000;stroke-opacity:0.5;\" x=\"531.953535\" xlink:href=\"#m93fa14e1c5\" y=\"118.76627\"/>\n     <use style=\"fill:#008000;fill-opacity:0.5;stroke:#008000;stroke-opacity:0.5;\" x=\"540.569119\" xlink:href=\"#m93fa14e1c5\" y=\"206.478423\"/>\n     <use style=\"fill:#008000;fill-opacity:0.5;stroke:#008000;stroke-opacity:0.5;\" x=\"549.129156\" xlink:href=\"#m93fa14e1c5\" y=\"165.730902\"/>\n     <use style=\"fill:#008000;fill-opacity:0.5;stroke:#008000;stroke-opacity:0.5;\" x=\"506.395255\" xlink:href=\"#m93fa14e1c5\" y=\"225.567771\"/>\n     <use style=\"fill:#008000;fill-opacity:0.5;stroke:#008000;stroke-opacity:0.5;\" x=\"560.335619\" xlink:href=\"#m93fa14e1c5\" y=\"112.285521\"/>\n     <use style=\"fill:#008000;fill-opacity:0.5;stroke:#008000;stroke-opacity:0.5;\" x=\"516.0281\" xlink:href=\"#m93fa14e1c5\" y=\"149.190751\"/>\n     <use style=\"fill:#008000;fill-opacity:0.5;stroke:#008000;stroke-opacity:0.5;\" x=\"553.386071\" xlink:href=\"#m93fa14e1c5\" y=\"139.873544\"/>\n     <use style=\"fill:#008000;fill-opacity:0.5;stroke:#008000;stroke-opacity:0.5;\" x=\"454.35193\" xlink:href=\"#m93fa14e1c5\" y=\"54.013501\"/>\n     <use style=\"fill:#008000;fill-opacity:0.5;stroke:#008000;stroke-opacity:0.5;\" x=\"493.903677\" xlink:href=\"#m93fa14e1c5\" y=\"205.346032\"/>\n     <use style=\"fill:#008000;fill-opacity:0.5;stroke:#008000;stroke-opacity:0.5;\" x=\"541.644724\" xlink:href=\"#m93fa14e1c5\" y=\"240.421714\"/>\n     <use style=\"fill:#008000;fill-opacity:0.5;stroke:#008000;stroke-opacity:0.5;\" x=\"522.364615\" xlink:href=\"#m93fa14e1c5\" y=\"152.826145\"/>\n     <use style=\"fill:#008000;fill-opacity:0.5;stroke:#008000;stroke-opacity:0.5;\" x=\"521.234112\" xlink:href=\"#m93fa14e1c5\" y=\"245.199624\"/>\n     <use style=\"fill:#008000;fill-opacity:0.5;stroke:#008000;stroke-opacity:0.5;\" x=\"527.105485\" xlink:href=\"#m93fa14e1c5\" y=\"195.017082\"/>\n     <use style=\"fill:#008000;fill-opacity:0.5;stroke:#008000;stroke-opacity:0.5;\" x=\"484.668221\" xlink:href=\"#m93fa14e1c5\" y=\"248.196842\"/>\n    </g>\n   </g>\n   <g id=\"matplotlib.axis_3\">\n    <g id=\"xtick_6\">\n     <g id=\"line2d_13\">\n      <g>\n       <use style=\"stroke:#000000;stroke-width:0.8;\" x=\"408.639752\" xlink:href=\"#md78c851a87\" y=\"333.36\"/>\n      </g>\n     </g>\n     <g id=\"text_13\">\n      <!-- −0.04 -->\n      <g transform=\"translate(393.317096 347.958438)scale(0.1 -0.1)\">\n       <use xlink:href=\"#DejaVuSans-8722\"/>\n       <use x=\"83.789062\" xlink:href=\"#DejaVuSans-48\"/>\n       <use x=\"147.412109\" xlink:href=\"#DejaVuSans-46\"/>\n       <use x=\"179.199219\" xlink:href=\"#DejaVuSans-48\"/>\n       <use x=\"242.822266\" xlink:href=\"#DejaVuSans-52\"/>\n      </g>\n     </g>\n    </g>\n    <g id=\"xtick_7\">\n     <g id=\"line2d_14\">\n      <g>\n       <use style=\"stroke:#000000;stroke-width:0.8;\" x=\"459.40009\" xlink:href=\"#md78c851a87\" y=\"333.36\"/>\n      </g>\n     </g>\n     <g id=\"text_14\">\n      <!-- −0.02 -->\n      <g transform=\"translate(444.077433 347.958438)scale(0.1 -0.1)\">\n       <use xlink:href=\"#DejaVuSans-8722\"/>\n       <use x=\"83.789062\" xlink:href=\"#DejaVuSans-48\"/>\n       <use x=\"147.412109\" xlink:href=\"#DejaVuSans-46\"/>\n       <use x=\"179.199219\" xlink:href=\"#DejaVuSans-48\"/>\n       <use x=\"242.822266\" xlink:href=\"#DejaVuSans-50\"/>\n      </g>\n     </g>\n    </g>\n    <g id=\"xtick_8\">\n     <g id=\"line2d_15\">\n      <g>\n       <use style=\"stroke:#000000;stroke-width:0.8;\" x=\"510.160427\" xlink:href=\"#md78c851a87\" y=\"333.36\"/>\n      </g>\n     </g>\n     <g id=\"text_15\">\n      <!-- 0.00 -->\n      <g transform=\"translate(499.027614 347.958438)scale(0.1 -0.1)\">\n       <use xlink:href=\"#DejaVuSans-48\"/>\n       <use x=\"63.623047\" xlink:href=\"#DejaVuSans-46\"/>\n       <use x=\"95.410156\" xlink:href=\"#DejaVuSans-48\"/>\n       <use x=\"159.033203\" xlink:href=\"#DejaVuSans-48\"/>\n      </g>\n     </g>\n    </g>\n    <g id=\"xtick_9\">\n     <g id=\"line2d_16\">\n      <g>\n       <use style=\"stroke:#000000;stroke-width:0.8;\" x=\"560.920764\" xlink:href=\"#md78c851a87\" y=\"333.36\"/>\n      </g>\n     </g>\n     <g id=\"text_16\">\n      <!-- 0.02 -->\n      <g transform=\"translate(549.787952 347.958438)scale(0.1 -0.1)\">\n       <use xlink:href=\"#DejaVuSans-48\"/>\n       <use x=\"63.623047\" xlink:href=\"#DejaVuSans-46\"/>\n       <use x=\"95.410156\" xlink:href=\"#DejaVuSans-48\"/>\n       <use x=\"159.033203\" xlink:href=\"#DejaVuSans-50\"/>\n      </g>\n     </g>\n    </g>\n    <g id=\"xtick_10\">\n     <g id=\"line2d_17\">\n      <g>\n       <use style=\"stroke:#000000;stroke-width:0.8;\" x=\"611.681102\" xlink:href=\"#md78c851a87\" y=\"333.36\"/>\n      </g>\n     </g>\n     <g id=\"text_17\">\n      <!-- 0.04 -->\n      <g transform=\"translate(600.548289 347.958438)scale(0.1 -0.1)\">\n       <use xlink:href=\"#DejaVuSans-48\"/>\n       <use x=\"63.623047\" xlink:href=\"#DejaVuSans-46\"/>\n       <use x=\"95.410156\" xlink:href=\"#DejaVuSans-48\"/>\n       <use x=\"159.033203\" xlink:href=\"#DejaVuSans-52\"/>\n      </g>\n     </g>\n    </g>\n   </g>\n   <g id=\"matplotlib.axis_4\">\n    <g id=\"ytick_8\">\n     <g id=\"line2d_18\">\n      <g>\n       <use style=\"stroke:#000000;stroke-width:0.8;\" x=\"399.33943\" xlink:href=\"#m6b12052551\" y=\"329.325379\"/>\n      </g>\n     </g>\n     <g id=\"text_18\">\n      <!-- −0.06 -->\n      <g transform=\"translate(361.694118 333.124598)scale(0.1 -0.1)\">\n       <use xlink:href=\"#DejaVuSans-8722\"/>\n       <use x=\"83.789062\" xlink:href=\"#DejaVuSans-48\"/>\n       <use x=\"147.412109\" xlink:href=\"#DejaVuSans-46\"/>\n       <use x=\"179.199219\" xlink:href=\"#DejaVuSans-48\"/>\n       <use x=\"242.822266\" xlink:href=\"#DejaVuSans-54\"/>\n      </g>\n     </g>\n    </g>\n    <g id=\"ytick_9\">\n     <g id=\"line2d_19\">\n      <g>\n       <use style=\"stroke:#000000;stroke-width:0.8;\" x=\"399.33943\" xlink:href=\"#m6b12052551\" y=\"278.565042\"/>\n      </g>\n     </g>\n     <g id=\"text_19\">\n      <!-- −0.04 -->\n      <g transform=\"translate(361.694118 282.364261)scale(0.1 -0.1)\">\n       <use xlink:href=\"#DejaVuSans-8722\"/>\n       <use x=\"83.789062\" xlink:href=\"#DejaVuSans-48\"/>\n       <use x=\"147.412109\" xlink:href=\"#DejaVuSans-46\"/>\n       <use x=\"179.199219\" xlink:href=\"#DejaVuSans-48\"/>\n       <use x=\"242.822266\" xlink:href=\"#DejaVuSans-52\"/>\n      </g>\n     </g>\n    </g>\n    <g id=\"ytick_10\">\n     <g id=\"line2d_20\">\n      <g>\n       <use style=\"stroke:#000000;stroke-width:0.8;\" x=\"399.33943\" xlink:href=\"#m6b12052551\" y=\"227.804705\"/>\n      </g>\n     </g>\n     <g id=\"text_20\">\n      <!-- −0.02 -->\n      <g transform=\"translate(361.694118 231.603923)scale(0.1 -0.1)\">\n       <use xlink:href=\"#DejaVuSans-8722\"/>\n       <use x=\"83.789062\" xlink:href=\"#DejaVuSans-48\"/>\n       <use x=\"147.412109\" xlink:href=\"#DejaVuSans-46\"/>\n       <use x=\"179.199219\" xlink:href=\"#DejaVuSans-48\"/>\n       <use x=\"242.822266\" xlink:href=\"#DejaVuSans-50\"/>\n      </g>\n     </g>\n    </g>\n    <g id=\"ytick_11\">\n     <g id=\"line2d_21\">\n      <g>\n       <use style=\"stroke:#000000;stroke-width:0.8;\" x=\"399.33943\" xlink:href=\"#m6b12052551\" y=\"177.044367\"/>\n      </g>\n     </g>\n     <g id=\"text_21\">\n      <!-- 0.00 -->\n      <g transform=\"translate(370.073805 180.843586)scale(0.1 -0.1)\">\n       <use xlink:href=\"#DejaVuSans-48\"/>\n       <use x=\"63.623047\" xlink:href=\"#DejaVuSans-46\"/>\n       <use x=\"95.410156\" xlink:href=\"#DejaVuSans-48\"/>\n       <use x=\"159.033203\" xlink:href=\"#DejaVuSans-48\"/>\n      </g>\n     </g>\n    </g>\n    <g id=\"ytick_12\">\n     <g id=\"line2d_22\">\n      <g>\n       <use style=\"stroke:#000000;stroke-width:0.8;\" x=\"399.33943\" xlink:href=\"#m6b12052551\" y=\"126.28403\"/>\n      </g>\n     </g>\n     <g id=\"text_22\">\n      <!-- 0.02 -->\n      <g transform=\"translate(370.073805 130.083249)scale(0.1 -0.1)\">\n       <use xlink:href=\"#DejaVuSans-48\"/>\n       <use x=\"63.623047\" xlink:href=\"#DejaVuSans-46\"/>\n       <use x=\"95.410156\" xlink:href=\"#DejaVuSans-48\"/>\n       <use x=\"159.033203\" xlink:href=\"#DejaVuSans-50\"/>\n      </g>\n     </g>\n    </g>\n    <g id=\"ytick_13\">\n     <g id=\"line2d_23\">\n      <g>\n       <use style=\"stroke:#000000;stroke-width:0.8;\" x=\"399.33943\" xlink:href=\"#m6b12052551\" y=\"75.523693\"/>\n      </g>\n     </g>\n     <g id=\"text_23\">\n      <!-- 0.04 -->\n      <g transform=\"translate(370.073805 79.322911)scale(0.1 -0.1)\">\n       <use xlink:href=\"#DejaVuSans-48\"/>\n       <use x=\"63.623047\" xlink:href=\"#DejaVuSans-46\"/>\n       <use x=\"95.410156\" xlink:href=\"#DejaVuSans-48\"/>\n       <use x=\"159.033203\" xlink:href=\"#DejaVuSans-52\"/>\n      </g>\n     </g>\n    </g>\n    <g id=\"ytick_14\">\n     <g id=\"line2d_24\">\n      <g>\n       <use style=\"stroke:#000000;stroke-width:0.8;\" x=\"399.33943\" xlink:href=\"#m6b12052551\" y=\"24.763355\"/>\n      </g>\n     </g>\n     <g id=\"text_24\">\n      <!-- 0.06 -->\n      <g transform=\"translate(370.073805 28.562574)scale(0.1 -0.1)\">\n       <use xlink:href=\"#DejaVuSans-48\"/>\n       <use x=\"63.623047\" xlink:href=\"#DejaVuSans-46\"/>\n       <use x=\"95.410156\" xlink:href=\"#DejaVuSans-48\"/>\n       <use x=\"159.033203\" xlink:href=\"#DejaVuSans-54\"/>\n      </g>\n     </g>\n    </g>\n   </g>\n   <g id=\"patch_8\">\n    <path d=\"M 399.33943 333.36 \nL 399.33943 7.2 \n\" style=\"fill:none;stroke:#000000;stroke-linecap:square;stroke-linejoin:miter;stroke-width:0.8;\"/>\n   </g>\n   <g id=\"patch_9\">\n    <path d=\"M 653.238094 333.36 \nL 653.238094 7.2 \n\" style=\"fill:none;stroke:#000000;stroke-linecap:square;stroke-linejoin:miter;stroke-width:0.8;\"/>\n   </g>\n   <g id=\"patch_10\">\n    <path d=\"M 399.33943 333.36 \nL 653.238094 333.36 \n\" style=\"fill:none;stroke:#000000;stroke-linecap:square;stroke-linejoin:miter;stroke-width:0.8;\"/>\n   </g>\n   <g id=\"patch_11\">\n    <path d=\"M 399.33943 7.2 \nL 653.238094 7.2 \n\" style=\"fill:none;stroke:#000000;stroke-linecap:square;stroke-linejoin:miter;stroke-width:0.8;\"/>\n   </g>\n  </g>\n  <g id=\"axes_3\">\n   <g id=\"patch_12\">\n    <path d=\"M 733.076997 298.158305 \nL 1028.488762 298.158305 \nL 1028.488762 42.401695 \nL 733.076997 42.401695 \nz\n\" style=\"fill:#ffffff;\"/>\n   </g>\n   <g id=\"PathCollection_3\">\n    <g clip-path=\"url(#p4f1c5542bf)\">\n     <use style=\"fill:#008000;fill-opacity:0.5;stroke:#008000;stroke-opacity:0.5;\" x=\"901.764996\" xlink:href=\"#m93fa14e1c5\" y=\"205.412112\"/>\n     <use style=\"fill:#008000;fill-opacity:0.5;stroke:#008000;stroke-opacity:0.5;\" x=\"858.210675\" xlink:href=\"#m93fa14e1c5\" y=\"241.409599\"/>\n     <use style=\"fill:#008000;fill-opacity:0.5;stroke:#008000;stroke-opacity:0.5;\" x=\"901.378027\" xlink:href=\"#m93fa14e1c5\" y=\"168.730048\"/>\n     <use style=\"fill:#008000;fill-opacity:0.5;stroke:#008000;stroke-opacity:0.5;\" x=\"949.973999\" xlink:href=\"#m93fa14e1c5\" y=\"224.932713\"/>\n     <use style=\"fill:#008000;fill-opacity:0.5;stroke:#008000;stroke-opacity:0.5;\" x=\"942.436873\" xlink:href=\"#m93fa14e1c5\" y=\"209.46285\"/>\n     <use style=\"fill:#008000;fill-opacity:0.5;stroke:#008000;stroke-opacity:0.5;\" x=\"979.974046\" xlink:href=\"#m93fa14e1c5\" y=\"210.099749\"/>\n     <use style=\"fill:#008000;fill-opacity:0.5;stroke:#008000;stroke-opacity:0.5;\" x=\"855.487268\" xlink:href=\"#m93fa14e1c5\" y=\"210.861029\"/>\n     <use style=\"fill:#008000;fill-opacity:0.5;stroke:#008000;stroke-opacity:0.5;\" x=\"858.868469\" xlink:href=\"#m93fa14e1c5\" y=\"186.977877\"/>\n     <use style=\"fill:#008000;fill-opacity:0.5;stroke:#008000;stroke-opacity:0.5;\" x=\"951.277485\" xlink:href=\"#m93fa14e1c5\" y=\"176.823732\"/>\n     <use style=\"fill:#008000;fill-opacity:0.5;stroke:#008000;stroke-opacity:0.5;\" x=\"924.13314\" xlink:href=\"#m93fa14e1c5\" y=\"177.105078\"/>\n     <use style=\"fill:#008000;fill-opacity:0.5;stroke:#008000;stroke-opacity:0.5;\" x=\"929.030298\" xlink:href=\"#m93fa14e1c5\" y=\"244.148272\"/>\n     <use style=\"fill:#008000;fill-opacity:0.5;stroke:#008000;stroke-opacity:0.5;\" x=\"879.721096\" xlink:href=\"#m93fa14e1c5\" y=\"186.364243\"/>\n     <use style=\"fill:#008000;fill-opacity:0.5;stroke:#008000;stroke-opacity:0.5;\" x=\"891.199953\" xlink:href=\"#m93fa14e1c5\" y=\"160.776637\"/>\n     <use style=\"fill:#008000;fill-opacity:0.5;stroke:#008000;stroke-opacity:0.5;\" x=\"918.164604\" xlink:href=\"#m93fa14e1c5\" y=\"232.290607\"/>\n     <use style=\"fill:#008000;fill-opacity:0.5;stroke:#008000;stroke-opacity:0.5;\" x=\"849.872863\" xlink:href=\"#m93fa14e1c5\" y=\"128.341114\"/>\n     <use style=\"fill:#008000;fill-opacity:0.5;stroke:#008000;stroke-opacity:0.5;\" x=\"889.136773\" xlink:href=\"#m93fa14e1c5\" y=\"160.533815\"/>\n     <use style=\"fill:#008000;fill-opacity:0.5;stroke:#008000;stroke-opacity:0.5;\" x=\"915.40334\" xlink:href=\"#m93fa14e1c5\" y=\"170.150964\"/>\n     <use style=\"fill:#008000;fill-opacity:0.5;stroke:#008000;stroke-opacity:0.5;\" x=\"950.95822\" xlink:href=\"#m93fa14e1c5\" y=\"129.865493\"/>\n     <use style=\"fill:#008000;fill-opacity:0.5;stroke:#008000;stroke-opacity:0.5;\" x=\"939.242496\" xlink:href=\"#m93fa14e1c5\" y=\"194.975633\"/>\n     <use style=\"fill:#008000;fill-opacity:0.5;stroke:#008000;stroke-opacity:0.5;\" x=\"907.548328\" xlink:href=\"#m93fa14e1c5\" y=\"222.30272\"/>\n     <use style=\"fill:#008000;fill-opacity:0.5;stroke:#008000;stroke-opacity:0.5;\" x=\"901.892023\" xlink:href=\"#m93fa14e1c5\" y=\"129.706403\"/>\n     <use style=\"fill:#008000;fill-opacity:0.5;stroke:#008000;stroke-opacity:0.5;\" x=\"960.314588\" xlink:href=\"#m93fa14e1c5\" y=\"227.047601\"/>\n     <use style=\"fill:#008000;fill-opacity:0.5;stroke:#008000;stroke-opacity:0.5;\" x=\"911.195745\" xlink:href=\"#m93fa14e1c5\" y=\"151.017687\"/>\n     <use style=\"fill:#008000;fill-opacity:0.5;stroke:#008000;stroke-opacity:0.5;\" x=\"896.355844\" xlink:href=\"#m93fa14e1c5\" y=\"191.188337\"/>\n     <use style=\"fill:#008000;fill-opacity:0.5;stroke:#008000;stroke-opacity:0.5;\" x=\"858.91878\" xlink:href=\"#m93fa14e1c5\" y=\"211.781326\"/>\n     <use style=\"fill:#008000;fill-opacity:0.5;stroke:#008000;stroke-opacity:0.5;\" x=\"925.029222\" xlink:href=\"#m93fa14e1c5\" y=\"143.607293\"/>\n     <use style=\"fill:#008000;fill-opacity:0.5;stroke:#008000;stroke-opacity:0.5;\" x=\"929.691433\" xlink:href=\"#m93fa14e1c5\" y=\"132.999297\"/>\n     <use style=\"fill:#008000;fill-opacity:0.5;stroke:#008000;stroke-opacity:0.5;\" x=\"858.094996\" xlink:href=\"#m93fa14e1c5\" y=\"106.180025\"/>\n     <use style=\"fill:#008000;fill-opacity:0.5;stroke:#008000;stroke-opacity:0.5;\" x=\"889.527714\" xlink:href=\"#m93fa14e1c5\" y=\"127.602614\"/>\n     <use style=\"fill:#008000;fill-opacity:0.5;stroke:#008000;stroke-opacity:0.5;\" x=\"965.147586\" xlink:href=\"#m93fa14e1c5\" y=\"197.339176\"/>\n     <use style=\"fill:#008000;fill-opacity:0.5;stroke:#008000;stroke-opacity:0.5;\" x=\"953.951541\" xlink:href=\"#m93fa14e1c5\" y=\"167.476124\"/>\n     <use style=\"fill:#008000;fill-opacity:0.5;stroke:#008000;stroke-opacity:0.5;\" x=\"913.330885\" xlink:href=\"#m93fa14e1c5\" y=\"195.073519\"/>\n     <use style=\"fill:#008000;fill-opacity:0.5;stroke:#008000;stroke-opacity:0.5;\" x=\"889.54182\" xlink:href=\"#m93fa14e1c5\" y=\"149.588486\"/>\n     <use style=\"fill:#008000;fill-opacity:0.5;stroke:#008000;stroke-opacity:0.5;\" x=\"895.682485\" xlink:href=\"#m93fa14e1c5\" y=\"74.551274\"/>\n     <use style=\"fill:#008000;fill-opacity:0.5;stroke:#008000;stroke-opacity:0.5;\" x=\"932.299469\" xlink:href=\"#m93fa14e1c5\" y=\"171.495186\"/>\n     <use style=\"fill:#008000;fill-opacity:0.5;stroke:#008000;stroke-opacity:0.5;\" x=\"876.050995\" xlink:href=\"#m93fa14e1c5\" y=\"193.960582\"/>\n     <use style=\"fill:#008000;fill-opacity:0.5;stroke:#008000;stroke-opacity:0.5;\" x=\"881.984997\" xlink:href=\"#m93fa14e1c5\" y=\"207.922947\"/>\n     <use style=\"fill:#008000;fill-opacity:0.5;stroke:#008000;stroke-opacity:0.5;\" x=\"874.954176\" xlink:href=\"#m93fa14e1c5\" y=\"215.028161\"/>\n     <use style=\"fill:#008000;fill-opacity:0.5;stroke:#008000;stroke-opacity:0.5;\" x=\"932.862705\" xlink:href=\"#m93fa14e1c5\" y=\"133.76972\"/>\n     <use style=\"fill:#008000;fill-opacity:0.5;stroke:#008000;stroke-opacity:0.5;\" x=\"895.964802\" xlink:href=\"#m93fa14e1c5\" y=\"205.542858\"/>\n     <use style=\"fill:#008000;fill-opacity:0.5;stroke:#008000;stroke-opacity:0.5;\" x=\"920.07772\" xlink:href=\"#m93fa14e1c5\" y=\"140.016237\"/>\n     <use style=\"fill:#008000;fill-opacity:0.5;stroke:#008000;stroke-opacity:0.5;\" x=\"824.543579\" xlink:href=\"#m93fa14e1c5\" y=\"148.387009\"/>\n     <use style=\"fill:#008000;fill-opacity:0.5;stroke:#008000;stroke-opacity:0.5;\" x=\"847.520095\" xlink:href=\"#m93fa14e1c5\" y=\"143.273341\"/>\n     <use style=\"fill:#008000;fill-opacity:0.5;stroke:#008000;stroke-opacity:0.5;\" x=\"943.426024\" xlink:href=\"#m93fa14e1c5\" y=\"181.731498\"/>\n     <use style=\"fill:#008000;fill-opacity:0.5;stroke:#008000;stroke-opacity:0.5;\" x=\"873.237512\" xlink:href=\"#m93fa14e1c5\" y=\"168.986483\"/>\n     <use style=\"fill:#008000;fill-opacity:0.5;stroke:#008000;stroke-opacity:0.5;\" x=\"898.127631\" xlink:href=\"#m93fa14e1c5\" y=\"158.988345\"/>\n     <use style=\"fill:#008000;fill-opacity:0.5;stroke:#008000;stroke-opacity:0.5;\" x=\"869.708225\" xlink:href=\"#m93fa14e1c5\" y=\"171.337542\"/>\n     <use style=\"fill:#008000;fill-opacity:0.5;stroke:#008000;stroke-opacity:0.5;\" x=\"908.860083\" xlink:href=\"#m93fa14e1c5\" y=\"217.853701\"/>\n     <use style=\"fill:#008000;fill-opacity:0.5;stroke:#008000;stroke-opacity:0.5;\" x=\"892.134416\" xlink:href=\"#m93fa14e1c5\" y=\"130.101428\"/>\n     <use style=\"fill:#008000;fill-opacity:0.5;stroke:#008000;stroke-opacity:0.5;\" x=\"909.537425\" xlink:href=\"#m93fa14e1c5\" y=\"134.060662\"/>\n     <use style=\"fill:#008000;fill-opacity:0.5;stroke:#008000;stroke-opacity:0.5;\" x=\"941.472404\" xlink:href=\"#m93fa14e1c5\" y=\"266.182746\"/>\n     <use style=\"fill:#008000;fill-opacity:0.5;stroke:#008000;stroke-opacity:0.5;\" x=\"892.706589\" xlink:href=\"#m93fa14e1c5\" y=\"121.377068\"/>\n     <use style=\"fill:#008000;fill-opacity:0.5;stroke:#008000;stroke-opacity:0.5;\" x=\"936.134594\" xlink:href=\"#m93fa14e1c5\" y=\"152.616567\"/>\n     <use style=\"fill:#008000;fill-opacity:0.5;stroke:#008000;stroke-opacity:0.5;\" x=\"896.88855\" xlink:href=\"#m93fa14e1c5\" y=\"147.464106\"/>\n     <use style=\"fill:#008000;fill-opacity:0.5;stroke:#008000;stroke-opacity:0.5;\" x=\"959.542906\" xlink:href=\"#m93fa14e1c5\" y=\"196.207405\"/>\n     <use style=\"fill:#008000;fill-opacity:0.5;stroke:#008000;stroke-opacity:0.5;\" x=\"914.500053\" xlink:href=\"#m93fa14e1c5\" y=\"180.904664\"/>\n     <use style=\"fill:#008000;fill-opacity:0.5;stroke:#008000;stroke-opacity:0.5;\" x=\"825.500078\" xlink:href=\"#m93fa14e1c5\" y=\"165.779392\"/>\n     <use style=\"fill:#008000;fill-opacity:0.5;stroke:#008000;stroke-opacity:0.5;\" x=\"880.275373\" xlink:href=\"#m93fa14e1c5\" y=\"172.901827\"/>\n     <use style=\"fill:#008000;fill-opacity:0.5;stroke:#008000;stroke-opacity:0.5;\" x=\"941.562899\" xlink:href=\"#m93fa14e1c5\" y=\"209.158464\"/>\n     <use style=\"fill:#008000;fill-opacity:0.5;stroke:#008000;stroke-opacity:0.5;\" x=\"859.33136\" xlink:href=\"#m93fa14e1c5\" y=\"240.045901\"/>\n     <use style=\"fill:#008000;fill-opacity:0.5;stroke:#008000;stroke-opacity:0.5;\" x=\"844.162122\" xlink:href=\"#m93fa14e1c5\" y=\"142.01146\"/>\n     <use style=\"fill:#008000;fill-opacity:0.5;stroke:#008000;stroke-opacity:0.5;\" x=\"863.151869\" xlink:href=\"#m93fa14e1c5\" y=\"183.696301\"/>\n     <use style=\"fill:#008000;fill-opacity:0.5;stroke:#008000;stroke-opacity:0.5;\" x=\"909.467155\" xlink:href=\"#m93fa14e1c5\" y=\"208.229631\"/>\n     <use style=\"fill:#008000;fill-opacity:0.5;stroke:#008000;stroke-opacity:0.5;\" x=\"920.495444\" xlink:href=\"#m93fa14e1c5\" y=\"156.12982\"/>\n     <use style=\"fill:#008000;fill-opacity:0.5;stroke:#008000;stroke-opacity:0.5;\" x=\"918.251602\" xlink:href=\"#m93fa14e1c5\" y=\"118.657418\"/>\n     <use style=\"fill:#008000;fill-opacity:0.5;stroke:#008000;stroke-opacity:0.5;\" x=\"894.489416\" xlink:href=\"#m93fa14e1c5\" y=\"178.369977\"/>\n     <use style=\"fill:#008000;fill-opacity:0.5;stroke:#008000;stroke-opacity:0.5;\" x=\"879.042292\" xlink:href=\"#m93fa14e1c5\" y=\"216.502011\"/>\n     <use style=\"fill:#008000;fill-opacity:0.5;stroke:#008000;stroke-opacity:0.5;\" x=\"956.671728\" xlink:href=\"#m93fa14e1c5\" y=\"190.11656\"/>\n     <use style=\"fill:#008000;fill-opacity:0.5;stroke:#008000;stroke-opacity:0.5;\" x=\"866.223478\" xlink:href=\"#m93fa14e1c5\" y=\"177.072538\"/>\n     <use style=\"fill:#008000;fill-opacity:0.5;stroke:#008000;stroke-opacity:0.5;\" x=\"868.527289\" xlink:href=\"#m93fa14e1c5\" y=\"186.637894\"/>\n     <use style=\"fill:#008000;fill-opacity:0.5;stroke:#008000;stroke-opacity:0.5;\" x=\"934.89853\" xlink:href=\"#m93fa14e1c5\" y=\"193.072346\"/>\n     <use style=\"fill:#008000;fill-opacity:0.5;stroke:#008000;stroke-opacity:0.5;\" x=\"896.811146\" xlink:href=\"#m93fa14e1c5\" y=\"122.301404\"/>\n     <use style=\"fill:#008000;fill-opacity:0.5;stroke:#008000;stroke-opacity:0.5;\" x=\"913.013787\" xlink:href=\"#m93fa14e1c5\" y=\"199.672926\"/>\n     <use style=\"fill:#008000;fill-opacity:0.5;stroke:#008000;stroke-opacity:0.5;\" x=\"940.56402\" xlink:href=\"#m93fa14e1c5\" y=\"204.017186\"/>\n     <use style=\"fill:#008000;fill-opacity:0.5;stroke:#008000;stroke-opacity:0.5;\" x=\"863.222619\" xlink:href=\"#m93fa14e1c5\" y=\"170.186855\"/>\n     <use style=\"fill:#008000;fill-opacity:0.5;stroke:#008000;stroke-opacity:0.5;\" x=\"888.886519\" xlink:href=\"#m93fa14e1c5\" y=\"224.251757\"/>\n     <use style=\"fill:#008000;fill-opacity:0.5;stroke:#008000;stroke-opacity:0.5;\" x=\"919.446979\" xlink:href=\"#m93fa14e1c5\" y=\"171.369799\"/>\n     <use style=\"fill:#008000;fill-opacity:0.5;stroke:#008000;stroke-opacity:0.5;\" x=\"899.635398\" xlink:href=\"#m93fa14e1c5\" y=\"190.43939\"/>\n     <use style=\"fill:#008000;fill-opacity:0.5;stroke:#008000;stroke-opacity:0.5;\" x=\"895.318067\" xlink:href=\"#m93fa14e1c5\" y=\"144.432798\"/>\n     <use style=\"fill:#008000;fill-opacity:0.5;stroke:#008000;stroke-opacity:0.5;\" x=\"909.405628\" xlink:href=\"#m93fa14e1c5\" y=\"242.868473\"/>\n     <use style=\"fill:#008000;fill-opacity:0.5;stroke:#008000;stroke-opacity:0.5;\" x=\"911.599486\" xlink:href=\"#m93fa14e1c5\" y=\"117.51462\"/>\n     <use style=\"fill:#008000;fill-opacity:0.5;stroke:#008000;stroke-opacity:0.5;\" x=\"920.101709\" xlink:href=\"#m93fa14e1c5\" y=\"195.754111\"/>\n     <use style=\"fill:#008000;fill-opacity:0.5;stroke:#008000;stroke-opacity:0.5;\" x=\"917.328542\" xlink:href=\"#m93fa14e1c5\" y=\"154.021656\"/>\n     <use style=\"fill:#008000;fill-opacity:0.5;stroke:#008000;stroke-opacity:0.5;\" x=\"822.738554\" xlink:href=\"#m93fa14e1c5\" y=\"147.69186\"/>\n     <use style=\"fill:#008000;fill-opacity:0.5;stroke:#008000;stroke-opacity:0.5;\" x=\"845.887435\" xlink:href=\"#m93fa14e1c5\" y=\"125.23349\"/>\n     <use style=\"fill:#008000;fill-opacity:0.5;stroke:#008000;stroke-opacity:0.5;\" x=\"903.080563\" xlink:href=\"#m93fa14e1c5\" y=\"151.218256\"/>\n     <use style=\"fill:#008000;fill-opacity:0.5;stroke:#008000;stroke-opacity:0.5;\" x=\"833.167513\" xlink:href=\"#m93fa14e1c5\" y=\"182.110695\"/>\n     <use style=\"fill:#008000;fill-opacity:0.5;stroke:#008000;stroke-opacity:0.5;\" x=\"874.679822\" xlink:href=\"#m93fa14e1c5\" y=\"135.049405\"/>\n     <use style=\"fill:#008000;fill-opacity:0.5;stroke:#008000;stroke-opacity:0.5;\" x=\"890.641053\" xlink:href=\"#m93fa14e1c5\" y=\"163.051856\"/>\n     <use style=\"fill:#008000;fill-opacity:0.5;stroke:#008000;stroke-opacity:0.5;\" x=\"868.640691\" xlink:href=\"#m93fa14e1c5\" y=\"161.085234\"/>\n     <use style=\"fill:#008000;fill-opacity:0.5;stroke:#008000;stroke-opacity:0.5;\" x=\"868.927142\" xlink:href=\"#m93fa14e1c5\" y=\"77.601518\"/>\n     <use style=\"fill:#008000;fill-opacity:0.5;stroke:#008000;stroke-opacity:0.5;\" x=\"947.853533\" xlink:href=\"#m93fa14e1c5\" y=\"174.357008\"/>\n     <use style=\"fill:#008000;fill-opacity:0.5;stroke:#008000;stroke-opacity:0.5;\" x=\"885.22392\" xlink:href=\"#m93fa14e1c5\" y=\"182.710835\"/>\n     <use style=\"fill:#008000;fill-opacity:0.5;stroke:#008000;stroke-opacity:0.5;\" x=\"890.21626\" xlink:href=\"#m93fa14e1c5\" y=\"156.613922\"/>\n     <use style=\"fill:#008000;fill-opacity:0.5;stroke:#008000;stroke-opacity:0.5;\" x=\"949.623731\" xlink:href=\"#m93fa14e1c5\" y=\"168.032054\"/>\n     <use style=\"fill:#008000;fill-opacity:0.5;stroke:#008000;stroke-opacity:0.5;\" x=\"823.299036\" xlink:href=\"#m93fa14e1c5\" y=\"138.756846\"/>\n     <use style=\"fill:#008000;fill-opacity:0.5;stroke:#008000;stroke-opacity:0.5;\" x=\"914.096954\" xlink:href=\"#m93fa14e1c5\" y=\"181.259232\"/>\n     <use style=\"fill:#008000;fill-opacity:0.5;stroke:#008000;stroke-opacity:0.5;\" x=\"843.028606\" xlink:href=\"#m93fa14e1c5\" y=\"174.95101\"/>\n     <use style=\"fill:#008000;fill-opacity:0.5;stroke:#008000;stroke-opacity:0.5;\" x=\"882.280489\" xlink:href=\"#m93fa14e1c5\" y=\"176.943369\"/>\n     <use style=\"fill:#008000;fill-opacity:0.5;stroke:#008000;stroke-opacity:0.5;\" x=\"897.036088\" xlink:href=\"#m93fa14e1c5\" y=\"130.616471\"/>\n     <use style=\"fill:#008000;fill-opacity:0.5;stroke:#008000;stroke-opacity:0.5;\" x=\"868.626061\" xlink:href=\"#m93fa14e1c5\" y=\"121.759188\"/>\n     <use style=\"fill:#008000;fill-opacity:0.5;stroke:#008000;stroke-opacity:0.5;\" x=\"894.814444\" xlink:href=\"#m93fa14e1c5\" y=\"182.894806\"/>\n     <use style=\"fill:#008000;fill-opacity:0.5;stroke:#008000;stroke-opacity:0.5;\" x=\"898.20115\" xlink:href=\"#m93fa14e1c5\" y=\"177.185698\"/>\n     <use style=\"fill:#008000;fill-opacity:0.5;stroke:#008000;stroke-opacity:0.5;\" x=\"901.313893\" xlink:href=\"#m93fa14e1c5\" y=\"212.937173\"/>\n     <use style=\"fill:#008000;fill-opacity:0.5;stroke:#008000;stroke-opacity:0.5;\" x=\"895.628469\" xlink:href=\"#m93fa14e1c5\" y=\"171.17693\"/>\n     <use style=\"fill:#008000;fill-opacity:0.5;stroke:#008000;stroke-opacity:0.5;\" x=\"867.090153\" xlink:href=\"#m93fa14e1c5\" y=\"136.360453\"/>\n     <use style=\"fill:#008000;fill-opacity:0.5;stroke:#008000;stroke-opacity:0.5;\" x=\"945.179683\" xlink:href=\"#m93fa14e1c5\" y=\"186.066089\"/>\n     <use style=\"fill:#008000;fill-opacity:0.5;stroke:#008000;stroke-opacity:0.5;\" x=\"888.29658\" xlink:href=\"#m93fa14e1c5\" y=\"161.461266\"/>\n     <use style=\"fill:#008000;fill-opacity:0.5;stroke:#008000;stroke-opacity:0.5;\" x=\"852.963823\" xlink:href=\"#m93fa14e1c5\" y=\"179.506622\"/>\n     <use style=\"fill:#008000;fill-opacity:0.5;stroke:#008000;stroke-opacity:0.5;\" x=\"906.133963\" xlink:href=\"#m93fa14e1c5\" y=\"171.577932\"/>\n     <use style=\"fill:#008000;fill-opacity:0.5;stroke:#008000;stroke-opacity:0.5;\" x=\"926.995512\" xlink:href=\"#m93fa14e1c5\" y=\"158.73452\"/>\n     <use style=\"fill:#008000;fill-opacity:0.5;stroke:#008000;stroke-opacity:0.5;\" x=\"905.470369\" xlink:href=\"#m93fa14e1c5\" y=\"193.379049\"/>\n     <use style=\"fill:#008000;fill-opacity:0.5;stroke:#008000;stroke-opacity:0.5;\" x=\"918.106402\" xlink:href=\"#m93fa14e1c5\" y=\"190.232453\"/>\n     <use style=\"fill:#008000;fill-opacity:0.5;stroke:#008000;stroke-opacity:0.5;\" x=\"872.950063\" xlink:href=\"#m93fa14e1c5\" y=\"134.213527\"/>\n     <use style=\"fill:#008000;fill-opacity:0.5;stroke:#008000;stroke-opacity:0.5;\" x=\"940.440651\" xlink:href=\"#m93fa14e1c5\" y=\"131.74139\"/>\n     <use style=\"fill:#008000;fill-opacity:0.5;stroke:#008000;stroke-opacity:0.5;\" x=\"851.305659\" xlink:href=\"#m93fa14e1c5\" y=\"215.46444\"/>\n     <use style=\"fill:#008000;fill-opacity:0.5;stroke:#008000;stroke-opacity:0.5;\" x=\"908.901975\" xlink:href=\"#m93fa14e1c5\" y=\"231.900053\"/>\n     <use style=\"fill:#008000;fill-opacity:0.5;stroke:#008000;stroke-opacity:0.5;\" x=\"922.504646\" xlink:href=\"#m93fa14e1c5\" y=\"125.206669\"/>\n     <use style=\"fill:#008000;fill-opacity:0.5;stroke:#008000;stroke-opacity:0.5;\" x=\"888.16437\" xlink:href=\"#m93fa14e1c5\" y=\"145.843366\"/>\n     <use style=\"fill:#008000;fill-opacity:0.5;stroke:#008000;stroke-opacity:0.5;\" x=\"904.985941\" xlink:href=\"#m93fa14e1c5\" y=\"152.043167\"/>\n     <use style=\"fill:#008000;fill-opacity:0.5;stroke:#008000;stroke-opacity:0.5;\" x=\"916.759069\" xlink:href=\"#m93fa14e1c5\" y=\"205.274594\"/>\n     <use style=\"fill:#008000;fill-opacity:0.5;stroke:#008000;stroke-opacity:0.5;\" x=\"859.152762\" xlink:href=\"#m93fa14e1c5\" y=\"159.893697\"/>\n     <use style=\"fill:#008000;fill-opacity:0.5;stroke:#008000;stroke-opacity:0.5;\" x=\"912.156462\" xlink:href=\"#m93fa14e1c5\" y=\"130.86701\"/>\n     <use style=\"fill:#008000;fill-opacity:0.5;stroke:#008000;stroke-opacity:0.5;\" x=\"922.760661\" xlink:href=\"#m93fa14e1c5\" y=\"166.096503\"/>\n     <use style=\"fill:#008000;fill-opacity:0.5;stroke:#008000;stroke-opacity:0.5;\" x=\"897.62399\" xlink:href=\"#m93fa14e1c5\" y=\"133.213147\"/>\n     <use style=\"fill:#008000;fill-opacity:0.5;stroke:#008000;stroke-opacity:0.5;\" x=\"897.149894\" xlink:href=\"#m93fa14e1c5\" y=\"151.468305\"/>\n     <use style=\"fill:#008000;fill-opacity:0.5;stroke:#008000;stroke-opacity:0.5;\" x=\"903.118297\" xlink:href=\"#m93fa14e1c5\" y=\"116.834331\"/>\n     <use style=\"fill:#008000;fill-opacity:0.5;stroke:#008000;stroke-opacity:0.5;\" x=\"916.841931\" xlink:href=\"#m93fa14e1c5\" y=\"148.754995\"/>\n     <use style=\"fill:#008000;fill-opacity:0.5;stroke:#008000;stroke-opacity:0.5;\" x=\"896.754461\" xlink:href=\"#m93fa14e1c5\" y=\"212.307062\"/>\n     <use style=\"fill:#008000;fill-opacity:0.5;stroke:#008000;stroke-opacity:0.5;\" x=\"916.67872\" xlink:href=\"#m93fa14e1c5\" y=\"155.921783\"/>\n     <use style=\"fill:#008000;fill-opacity:0.5;stroke:#008000;stroke-opacity:0.5;\" x=\"946.025063\" xlink:href=\"#m93fa14e1c5\" y=\"192.770989\"/>\n     <use style=\"fill:#008000;fill-opacity:0.5;stroke:#008000;stroke-opacity:0.5;\" x=\"938.041482\" xlink:href=\"#m93fa14e1c5\" y=\"189.357865\"/>\n     <use style=\"fill:#008000;fill-opacity:0.5;stroke:#008000;stroke-opacity:0.5;\" x=\"929.927725\" xlink:href=\"#m93fa14e1c5\" y=\"179.98355\"/>\n     <use style=\"fill:#008000;fill-opacity:0.5;stroke:#008000;stroke-opacity:0.5;\" x=\"888.07303\" xlink:href=\"#m93fa14e1c5\" y=\"174.582579\"/>\n     <use style=\"fill:#008000;fill-opacity:0.5;stroke:#008000;stroke-opacity:0.5;\" x=\"887.606315\" xlink:href=\"#m93fa14e1c5\" y=\"131.110924\"/>\n     <use style=\"fill:#008000;fill-opacity:0.5;stroke:#008000;stroke-opacity:0.5;\" x=\"912.868251\" xlink:href=\"#m93fa14e1c5\" y=\"83.139936\"/>\n     <use style=\"fill:#008000;fill-opacity:0.5;stroke:#008000;stroke-opacity:0.5;\" x=\"858.751462\" xlink:href=\"#m93fa14e1c5\" y=\"224.675685\"/>\n     <use style=\"fill:#008000;fill-opacity:0.5;stroke:#008000;stroke-opacity:0.5;\" x=\"938.550893\" xlink:href=\"#m93fa14e1c5\" y=\"132.137419\"/>\n     <use style=\"fill:#008000;fill-opacity:0.5;stroke:#008000;stroke-opacity:0.5;\" x=\"896.237225\" xlink:href=\"#m93fa14e1c5\" y=\"129.810104\"/>\n     <use style=\"fill:#008000;fill-opacity:0.5;stroke:#008000;stroke-opacity:0.5;\" x=\"833.583616\" xlink:href=\"#m93fa14e1c5\" y=\"153.790623\"/>\n     <use style=\"fill:#008000;fill-opacity:0.5;stroke:#008000;stroke-opacity:0.5;\" x=\"891.406011\" xlink:href=\"#m93fa14e1c5\" y=\"180.192716\"/>\n     <use style=\"fill:#008000;fill-opacity:0.5;stroke:#008000;stroke-opacity:0.5;\" x=\"824.786333\" xlink:href=\"#m93fa14e1c5\" y=\"137.115556\"/>\n     <use style=\"fill:#008000;fill-opacity:0.5;stroke:#008000;stroke-opacity:0.5;\" x=\"927.890988\" xlink:href=\"#m93fa14e1c5\" y=\"186.968863\"/>\n     <use style=\"fill:#008000;fill-opacity:0.5;stroke:#008000;stroke-opacity:0.5;\" x=\"942.084292\" xlink:href=\"#m93fa14e1c5\" y=\"156.805466\"/>\n     <use style=\"fill:#008000;fill-opacity:0.5;stroke:#008000;stroke-opacity:0.5;\" x=\"945.761768\" xlink:href=\"#m93fa14e1c5\" y=\"155.785785\"/>\n     <use style=\"fill:#008000;fill-opacity:0.5;stroke:#008000;stroke-opacity:0.5;\" x=\"857.154645\" xlink:href=\"#m93fa14e1c5\" y=\"103.187055\"/>\n     <use style=\"fill:#008000;fill-opacity:0.5;stroke:#008000;stroke-opacity:0.5;\" x=\"864.256507\" xlink:href=\"#m93fa14e1c5\" y=\"142.909102\"/>\n     <use style=\"fill:#008000;fill-opacity:0.5;stroke:#008000;stroke-opacity:0.5;\" x=\"916.70513\" xlink:href=\"#m93fa14e1c5\" y=\"191.016028\"/>\n     <use style=\"fill:#008000;fill-opacity:0.5;stroke:#008000;stroke-opacity:0.5;\" x=\"902.849532\" xlink:href=\"#m93fa14e1c5\" y=\"101.207753\"/>\n     <use style=\"fill:#008000;fill-opacity:0.5;stroke:#008000;stroke-opacity:0.5;\" x=\"908.692468\" xlink:href=\"#m93fa14e1c5\" y=\"195.925084\"/>\n     <use style=\"fill:#008000;fill-opacity:0.5;stroke:#008000;stroke-opacity:0.5;\" x=\"917.340151\" xlink:href=\"#m93fa14e1c5\" y=\"129.371573\"/>\n     <use style=\"fill:#008000;fill-opacity:0.5;stroke:#008000;stroke-opacity:0.5;\" x=\"884.26908\" xlink:href=\"#m93fa14e1c5\" y=\"213.749747\"/>\n     <use style=\"fill:#008000;fill-opacity:0.5;stroke:#008000;stroke-opacity:0.5;\" x=\"941.108736\" xlink:href=\"#m93fa14e1c5\" y=\"156.413176\"/>\n     <use style=\"fill:#008000;fill-opacity:0.5;stroke:#008000;stroke-opacity:0.5;\" x=\"879.669337\" xlink:href=\"#m93fa14e1c5\" y=\"149.416296\"/>\n     <use style=\"fill:#008000;fill-opacity:0.5;stroke:#008000;stroke-opacity:0.5;\" x=\"900.566834\" xlink:href=\"#m93fa14e1c5\" y=\"154.262206\"/>\n     <use style=\"fill:#008000;fill-opacity:0.5;stroke:#008000;stroke-opacity:0.5;\" x=\"843.533235\" xlink:href=\"#m93fa14e1c5\" y=\"162.376363\"/>\n     <use style=\"fill:#008000;fill-opacity:0.5;stroke:#008000;stroke-opacity:0.5;\" x=\"867.734049\" xlink:href=\"#m93fa14e1c5\" y=\"208.465485\"/>\n     <use style=\"fill:#008000;fill-opacity:0.5;stroke:#008000;stroke-opacity:0.5;\" x=\"966.49642\" xlink:href=\"#m93fa14e1c5\" y=\"136.108996\"/>\n     <use style=\"fill:#008000;fill-opacity:0.5;stroke:#008000;stroke-opacity:0.5;\" x=\"930.546116\" xlink:href=\"#m93fa14e1c5\" y=\"179.687161\"/>\n     <use style=\"fill:#008000;fill-opacity:0.5;stroke:#008000;stroke-opacity:0.5;\" x=\"937.726294\" xlink:href=\"#m93fa14e1c5\" y=\"170.889258\"/>\n     <use style=\"fill:#008000;fill-opacity:0.5;stroke:#008000;stroke-opacity:0.5;\" x=\"932.784752\" xlink:href=\"#m93fa14e1c5\" y=\"233.626251\"/>\n     <use style=\"fill:#008000;fill-opacity:0.5;stroke:#008000;stroke-opacity:0.5;\" x=\"898.181254\" xlink:href=\"#m93fa14e1c5\" y=\"142.72332\"/>\n     <use style=\"fill:#008000;fill-opacity:0.5;stroke:#008000;stroke-opacity:0.5;\" x=\"883.148816\" xlink:href=\"#m93fa14e1c5\" y=\"142.048283\"/>\n     <use style=\"fill:#008000;fill-opacity:0.5;stroke:#008000;stroke-opacity:0.5;\" x=\"841.578312\" xlink:href=\"#m93fa14e1c5\" y=\"131.736204\"/>\n     <use style=\"fill:#008000;fill-opacity:0.5;stroke:#008000;stroke-opacity:0.5;\" x=\"914.171394\" xlink:href=\"#m93fa14e1c5\" y=\"190.444458\"/>\n     <use style=\"fill:#008000;fill-opacity:0.5;stroke:#008000;stroke-opacity:0.5;\" x=\"880.878428\" xlink:href=\"#m93fa14e1c5\" y=\"144.75274\"/>\n     <use style=\"fill:#008000;fill-opacity:0.5;stroke:#008000;stroke-opacity:0.5;\" x=\"869.237698\" xlink:href=\"#m93fa14e1c5\" y=\"135.434757\"/>\n     <use style=\"fill:#008000;fill-opacity:0.5;stroke:#008000;stroke-opacity:0.5;\" x=\"842.246952\" xlink:href=\"#m93fa14e1c5\" y=\"116.227486\"/>\n     <use style=\"fill:#008000;fill-opacity:0.5;stroke:#008000;stroke-opacity:0.5;\" x=\"913.358299\" xlink:href=\"#m93fa14e1c5\" y=\"226.893004\"/>\n     <use style=\"fill:#008000;fill-opacity:0.5;stroke:#008000;stroke-opacity:0.5;\" x=\"949.722322\" xlink:href=\"#m93fa14e1c5\" y=\"186.458868\"/>\n     <use style=\"fill:#008000;fill-opacity:0.5;stroke:#008000;stroke-opacity:0.5;\" x=\"854.65803\" xlink:href=\"#m93fa14e1c5\" y=\"142.957203\"/>\n     <use style=\"fill:#008000;fill-opacity:0.5;stroke:#008000;stroke-opacity:0.5;\" x=\"923.357584\" xlink:href=\"#m93fa14e1c5\" y=\"223.091424\"/>\n     <use style=\"fill:#008000;fill-opacity:0.5;stroke:#008000;stroke-opacity:0.5;\" x=\"894.626865\" xlink:href=\"#m93fa14e1c5\" y=\"148.840994\"/>\n     <use style=\"fill:#008000;fill-opacity:0.5;stroke:#008000;stroke-opacity:0.5;\" x=\"898.551973\" xlink:href=\"#m93fa14e1c5\" y=\"137.263926\"/>\n     <use style=\"fill:#008000;fill-opacity:0.5;stroke:#008000;stroke-opacity:0.5;\" x=\"966.354499\" xlink:href=\"#m93fa14e1c5\" y=\"185.282746\"/>\n     <use style=\"fill:#008000;fill-opacity:0.5;stroke:#008000;stroke-opacity:0.5;\" x=\"869.82056\" xlink:href=\"#m93fa14e1c5\" y=\"202.342799\"/>\n     <use style=\"fill:#008000;fill-opacity:0.5;stroke:#008000;stroke-opacity:0.5;\" x=\"901.737732\" xlink:href=\"#m93fa14e1c5\" y=\"134.8675\"/>\n     <use style=\"fill:#008000;fill-opacity:0.5;stroke:#008000;stroke-opacity:0.5;\" x=\"918.789965\" xlink:href=\"#m93fa14e1c5\" y=\"96.546717\"/>\n     <use style=\"fill:#008000;fill-opacity:0.5;stroke:#008000;stroke-opacity:0.5;\" x=\"931.481129\" xlink:href=\"#m93fa14e1c5\" y=\"228.423086\"/>\n     <use style=\"fill:#008000;fill-opacity:0.5;stroke:#008000;stroke-opacity:0.5;\" x=\"931.953151\" xlink:href=\"#m93fa14e1c5\" y=\"107.266012\"/>\n     <use style=\"fill:#008000;fill-opacity:0.5;stroke:#008000;stroke-opacity:0.5;\" x=\"907.662115\" xlink:href=\"#m93fa14e1c5\" y=\"212.986511\"/>\n     <use style=\"fill:#008000;fill-opacity:0.5;stroke:#008000;stroke-opacity:0.5;\" x=\"889.907551\" xlink:href=\"#m93fa14e1c5\" y=\"140.731413\"/>\n     <use style=\"fill:#008000;fill-opacity:0.5;stroke:#008000;stroke-opacity:0.5;\" x=\"913.126459\" xlink:href=\"#m93fa14e1c5\" y=\"110.139842\"/>\n     <use style=\"fill:#008000;fill-opacity:0.5;stroke:#008000;stroke-opacity:0.5;\" x=\"914.663416\" xlink:href=\"#m93fa14e1c5\" y=\"121.70532\"/>\n     <use style=\"fill:#008000;fill-opacity:0.5;stroke:#008000;stroke-opacity:0.5;\" x=\"843.532859\" xlink:href=\"#m93fa14e1c5\" y=\"176.574721\"/>\n     <use style=\"fill:#008000;fill-opacity:0.5;stroke:#008000;stroke-opacity:0.5;\" x=\"872.971419\" xlink:href=\"#m93fa14e1c5\" y=\"161.229172\"/>\n     <use style=\"fill:#008000;fill-opacity:0.5;stroke:#008000;stroke-opacity:0.5;\" x=\"952.364436\" xlink:href=\"#m93fa14e1c5\" y=\"160.559185\"/>\n     <use style=\"fill:#008000;fill-opacity:0.5;stroke:#008000;stroke-opacity:0.5;\" x=\"900.522914\" xlink:href=\"#m93fa14e1c5\" y=\"184.899023\"/>\n     <use style=\"fill:#008000;fill-opacity:0.5;stroke:#008000;stroke-opacity:0.5;\" x=\"904.085917\" xlink:href=\"#m93fa14e1c5\" y=\"136.080352\"/>\n     <use style=\"fill:#008000;fill-opacity:0.5;stroke:#008000;stroke-opacity:0.5;\" x=\"888.688787\" xlink:href=\"#m93fa14e1c5\" y=\"243.68426\"/>\n     <use style=\"fill:#008000;fill-opacity:0.5;stroke:#008000;stroke-opacity:0.5;\" x=\"896.818682\" xlink:href=\"#m93fa14e1c5\" y=\"182.53594\"/>\n     <use style=\"fill:#008000;fill-opacity:0.5;stroke:#008000;stroke-opacity:0.5;\" x=\"885.563748\" xlink:href=\"#m93fa14e1c5\" y=\"120.007558\"/>\n     <use style=\"fill:#008000;fill-opacity:0.5;stroke:#008000;stroke-opacity:0.5;\" x=\"929.832035\" xlink:href=\"#m93fa14e1c5\" y=\"171.883888\"/>\n     <use style=\"fill:#008000;fill-opacity:0.5;stroke:#008000;stroke-opacity:0.5;\" x=\"954.154537\" xlink:href=\"#m93fa14e1c5\" y=\"170.082808\"/>\n     <use style=\"fill:#008000;fill-opacity:0.5;stroke:#008000;stroke-opacity:0.5;\" x=\"908.062045\" xlink:href=\"#m93fa14e1c5\" y=\"151.23451\"/>\n     <use style=\"fill:#008000;fill-opacity:0.5;stroke:#008000;stroke-opacity:0.5;\" x=\"941.819489\" xlink:href=\"#m93fa14e1c5\" y=\"202.517418\"/>\n     <use style=\"fill:#008000;fill-opacity:0.5;stroke:#008000;stroke-opacity:0.5;\" x=\"875.434325\" xlink:href=\"#m93fa14e1c5\" y=\"195.531389\"/>\n     <use style=\"fill:#008000;fill-opacity:0.5;stroke:#008000;stroke-opacity:0.5;\" x=\"896.106079\" xlink:href=\"#m93fa14e1c5\" y=\"217.642391\"/>\n     <use style=\"fill:#008000;fill-opacity:0.5;stroke:#008000;stroke-opacity:0.5;\" x=\"855.866915\" xlink:href=\"#m93fa14e1c5\" y=\"148.131849\"/>\n     <use style=\"fill:#008000;fill-opacity:0.5;stroke:#008000;stroke-opacity:0.5;\" x=\"871.933747\" xlink:href=\"#m93fa14e1c5\" y=\"156.408951\"/>\n     <use style=\"fill:#008000;fill-opacity:0.5;stroke:#008000;stroke-opacity:0.5;\" x=\"929.204361\" xlink:href=\"#m93fa14e1c5\" y=\"211.180819\"/>\n     <use style=\"fill:#008000;fill-opacity:0.5;stroke:#008000;stroke-opacity:0.5;\" x=\"870.346486\" xlink:href=\"#m93fa14e1c5\" y=\"190.471583\"/>\n     <use style=\"fill:#008000;fill-opacity:0.5;stroke:#008000;stroke-opacity:0.5;\" x=\"915.808554\" xlink:href=\"#m93fa14e1c5\" y=\"175.104915\"/>\n     <use style=\"fill:#008000;fill-opacity:0.5;stroke:#008000;stroke-opacity:0.5;\" x=\"904.25654\" xlink:href=\"#m93fa14e1c5\" y=\"176.456565\"/>\n     <use style=\"fill:#008000;fill-opacity:0.5;stroke:#008000;stroke-opacity:0.5;\" x=\"868.667882\" xlink:href=\"#m93fa14e1c5\" y=\"164.503881\"/>\n     <use style=\"fill:#008000;fill-opacity:0.5;stroke:#008000;stroke-opacity:0.5;\" x=\"926.556445\" xlink:href=\"#m93fa14e1c5\" y=\"171.522081\"/>\n     <use style=\"fill:#008000;fill-opacity:0.5;stroke:#008000;stroke-opacity:0.5;\" x=\"925.917034\" xlink:href=\"#m93fa14e1c5\" y=\"239.640986\"/>\n     <use style=\"fill:#008000;fill-opacity:0.5;stroke:#008000;stroke-opacity:0.5;\" x=\"889.762714\" xlink:href=\"#m93fa14e1c5\" y=\"216.341767\"/>\n     <use style=\"fill:#008000;fill-opacity:0.5;stroke:#008000;stroke-opacity:0.5;\" x=\"879.595365\" xlink:href=\"#m93fa14e1c5\" y=\"165.233315\"/>\n     <use style=\"fill:#008000;fill-opacity:0.5;stroke:#008000;stroke-opacity:0.5;\" x=\"933.821886\" xlink:href=\"#m93fa14e1c5\" y=\"186.231683\"/>\n     <use style=\"fill:#008000;fill-opacity:0.5;stroke:#008000;stroke-opacity:0.5;\" x=\"880.314006\" xlink:href=\"#m93fa14e1c5\" y=\"155.719152\"/>\n     <use style=\"fill:#008000;fill-opacity:0.5;stroke:#008000;stroke-opacity:0.5;\" x=\"873.239459\" xlink:href=\"#m93fa14e1c5\" y=\"156.754805\"/>\n     <use style=\"fill:#008000;fill-opacity:0.5;stroke:#008000;stroke-opacity:0.5;\" x=\"928.590824\" xlink:href=\"#m93fa14e1c5\" y=\"150.285\"/>\n     <use style=\"fill:#008000;fill-opacity:0.5;stroke:#008000;stroke-opacity:0.5;\" x=\"926.613517\" xlink:href=\"#m93fa14e1c5\" y=\"216.125458\"/>\n     <use style=\"fill:#008000;fill-opacity:0.5;stroke:#008000;stroke-opacity:0.5;\" x=\"957.498184\" xlink:href=\"#m93fa14e1c5\" y=\"227.014943\"/>\n     <use style=\"fill:#008000;fill-opacity:0.5;stroke:#008000;stroke-opacity:0.5;\" x=\"850.065867\" xlink:href=\"#m93fa14e1c5\" y=\"155.427469\"/>\n     <use style=\"fill:#008000;fill-opacity:0.5;stroke:#008000;stroke-opacity:0.5;\" x=\"838.109206\" xlink:href=\"#m93fa14e1c5\" y=\"174.376387\"/>\n     <use style=\"fill:#008000;fill-opacity:0.5;stroke:#008000;stroke-opacity:0.5;\" x=\"934.630645\" xlink:href=\"#m93fa14e1c5\" y=\"183.920481\"/>\n     <use style=\"fill:#008000;fill-opacity:0.5;stroke:#008000;stroke-opacity:0.5;\" x=\"905.412586\" xlink:href=\"#m93fa14e1c5\" y=\"183.49088\"/>\n     <use style=\"fill:#008000;fill-opacity:0.5;stroke:#008000;stroke-opacity:0.5;\" x=\"895.493862\" xlink:href=\"#m93fa14e1c5\" y=\"151.208054\"/>\n     <use style=\"fill:#008000;fill-opacity:0.5;stroke:#008000;stroke-opacity:0.5;\" x=\"881.476122\" xlink:href=\"#m93fa14e1c5\" y=\"163.050046\"/>\n     <use style=\"fill:#008000;fill-opacity:0.5;stroke:#008000;stroke-opacity:0.5;\" x=\"897.502847\" xlink:href=\"#m93fa14e1c5\" y=\"125.517905\"/>\n     <use style=\"fill:#008000;fill-opacity:0.5;stroke:#008000;stroke-opacity:0.5;\" x=\"888.0995\" xlink:href=\"#m93fa14e1c5\" y=\"179.099584\"/>\n     <use style=\"fill:#008000;fill-opacity:0.5;stroke:#008000;stroke-opacity:0.5;\" x=\"860.580702\" xlink:href=\"#m93fa14e1c5\" y=\"234.349966\"/>\n     <use style=\"fill:#008000;fill-opacity:0.5;stroke:#008000;stroke-opacity:0.5;\" x=\"874.394126\" xlink:href=\"#m93fa14e1c5\" y=\"128.332938\"/>\n     <use style=\"fill:#008000;fill-opacity:0.5;stroke:#008000;stroke-opacity:0.5;\" x=\"876.707009\" xlink:href=\"#m93fa14e1c5\" y=\"160.237737\"/>\n     <use style=\"fill:#008000;fill-opacity:0.5;stroke:#008000;stroke-opacity:0.5;\" x=\"883.068065\" xlink:href=\"#m93fa14e1c5\" y=\"173.763093\"/>\n     <use style=\"fill:#008000;fill-opacity:0.5;stroke:#008000;stroke-opacity:0.5;\" x=\"896.080541\" xlink:href=\"#m93fa14e1c5\" y=\"184.545188\"/>\n     <use style=\"fill:#008000;fill-opacity:0.5;stroke:#008000;stroke-opacity:0.5;\" x=\"861.617713\" xlink:href=\"#m93fa14e1c5\" y=\"186.729303\"/>\n     <use style=\"fill:#008000;fill-opacity:0.5;stroke:#008000;stroke-opacity:0.5;\" x=\"888.739452\" xlink:href=\"#m93fa14e1c5\" y=\"144.927216\"/>\n     <use style=\"fill:#008000;fill-opacity:0.5;stroke:#008000;stroke-opacity:0.5;\" x=\"890.892263\" xlink:href=\"#m93fa14e1c5\" y=\"171.461342\"/>\n     <use style=\"fill:#008000;fill-opacity:0.5;stroke:#008000;stroke-opacity:0.5;\" x=\"898.63834\" xlink:href=\"#m93fa14e1c5\" y=\"185.612229\"/>\n     <use style=\"fill:#008000;fill-opacity:0.5;stroke:#008000;stroke-opacity:0.5;\" x=\"897.52322\" xlink:href=\"#m93fa14e1c5\" y=\"167.359145\"/>\n     <use style=\"fill:#008000;fill-opacity:0.5;stroke:#008000;stroke-opacity:0.5;\" x=\"883.68461\" xlink:href=\"#m93fa14e1c5\" y=\"123.299886\"/>\n     <use style=\"fill:#008000;fill-opacity:0.5;stroke:#008000;stroke-opacity:0.5;\" x=\"883.555239\" xlink:href=\"#m93fa14e1c5\" y=\"174.021883\"/>\n     <use style=\"fill:#008000;fill-opacity:0.5;stroke:#008000;stroke-opacity:0.5;\" x=\"881.384359\" xlink:href=\"#m93fa14e1c5\" y=\"183.09379\"/>\n     <use style=\"fill:#008000;fill-opacity:0.5;stroke:#008000;stroke-opacity:0.5;\" x=\"916.721577\" xlink:href=\"#m93fa14e1c5\" y=\"175.102371\"/>\n     <use style=\"fill:#008000;fill-opacity:0.5;stroke:#008000;stroke-opacity:0.5;\" x=\"907.382119\" xlink:href=\"#m93fa14e1c5\" y=\"139.653313\"/>\n     <use style=\"fill:#008000;fill-opacity:0.5;stroke:#008000;stroke-opacity:0.5;\" x=\"901.22846\" xlink:href=\"#m93fa14e1c5\" y=\"161.020656\"/>\n     <use style=\"fill:#008000;fill-opacity:0.5;stroke:#008000;stroke-opacity:0.5;\" x=\"897.530066\" xlink:href=\"#m93fa14e1c5\" y=\"177.32172\"/>\n     <use style=\"fill:#008000;fill-opacity:0.5;stroke:#008000;stroke-opacity:0.5;\" x=\"898.171696\" xlink:href=\"#m93fa14e1c5\" y=\"161.636928\"/>\n     <use style=\"fill:#008000;fill-opacity:0.5;stroke:#008000;stroke-opacity:0.5;\" x=\"904.018793\" xlink:href=\"#m93fa14e1c5\" y=\"110.682092\"/>\n     <use style=\"fill:#008000;fill-opacity:0.5;stroke:#008000;stroke-opacity:0.5;\" x=\"935.630708\" xlink:href=\"#m93fa14e1c5\" y=\"126.52123\"/>\n     <use style=\"fill:#008000;fill-opacity:0.5;stroke:#008000;stroke-opacity:0.5;\" x=\"879.256283\" xlink:href=\"#m93fa14e1c5\" y=\"205.89469\"/>\n     <use style=\"fill:#008000;fill-opacity:0.5;stroke:#008000;stroke-opacity:0.5;\" x=\"904.492795\" xlink:href=\"#m93fa14e1c5\" y=\"130.323798\"/>\n     <use style=\"fill:#008000;fill-opacity:0.5;stroke:#008000;stroke-opacity:0.5;\" x=\"883.925176\" xlink:href=\"#m93fa14e1c5\" y=\"150.188546\"/>\n     <use style=\"fill:#008000;fill-opacity:0.5;stroke:#008000;stroke-opacity:0.5;\" x=\"874.575179\" xlink:href=\"#m93fa14e1c5\" y=\"142.923353\"/>\n     <use style=\"fill:#008000;fill-opacity:0.5;stroke:#008000;stroke-opacity:0.5;\" x=\"869.03198\" xlink:href=\"#m93fa14e1c5\" y=\"148.953347\"/>\n     <use style=\"fill:#008000;fill-opacity:0.5;stroke:#008000;stroke-opacity:0.5;\" x=\"912.015469\" xlink:href=\"#m93fa14e1c5\" y=\"139.502367\"/>\n     <use style=\"fill:#008000;fill-opacity:0.5;stroke:#008000;stroke-opacity:0.5;\" x=\"890.620458\" xlink:href=\"#m93fa14e1c5\" y=\"199.887896\"/>\n     <use style=\"fill:#008000;fill-opacity:0.5;stroke:#008000;stroke-opacity:0.5;\" x=\"907.769556\" xlink:href=\"#m93fa14e1c5\" y=\"159.012625\"/>\n     <use style=\"fill:#008000;fill-opacity:0.5;stroke:#008000;stroke-opacity:0.5;\" x=\"860.025701\" xlink:href=\"#m93fa14e1c5\" y=\"125.323929\"/>\n     <use style=\"fill:#008000;fill-opacity:0.5;stroke:#008000;stroke-opacity:0.5;\" x=\"884.037311\" xlink:href=\"#m93fa14e1c5\" y=\"188.07478\"/>\n     <use style=\"fill:#008000;fill-opacity:0.5;stroke:#008000;stroke-opacity:0.5;\" x=\"889.873849\" xlink:href=\"#m93fa14e1c5\" y=\"221.731815\"/>\n     <use style=\"fill:#008000;fill-opacity:0.5;stroke:#008000;stroke-opacity:0.5;\" x=\"905.604914\" xlink:href=\"#m93fa14e1c5\" y=\"156.255262\"/>\n     <use style=\"fill:#008000;fill-opacity:0.5;stroke:#008000;stroke-opacity:0.5;\" x=\"928.70581\" xlink:href=\"#m93fa14e1c5\" y=\"150.08931\"/>\n     <use style=\"fill:#008000;fill-opacity:0.5;stroke:#008000;stroke-opacity:0.5;\" x=\"907.100946\" xlink:href=\"#m93fa14e1c5\" y=\"135.570726\"/>\n     <use style=\"fill:#008000;fill-opacity:0.5;stroke:#008000;stroke-opacity:0.5;\" x=\"861.401605\" xlink:href=\"#m93fa14e1c5\" y=\"184.842586\"/>\n     <use style=\"fill:#008000;fill-opacity:0.5;stroke:#008000;stroke-opacity:0.5;\" x=\"884.674079\" xlink:href=\"#m93fa14e1c5\" y=\"197.285504\"/>\n     <use style=\"fill:#008000;fill-opacity:0.5;stroke:#008000;stroke-opacity:0.5;\" x=\"889.107081\" xlink:href=\"#m93fa14e1c5\" y=\"95.063338\"/>\n     <use style=\"fill:#008000;fill-opacity:0.5;stroke:#008000;stroke-opacity:0.5;\" x=\"893.760987\" xlink:href=\"#m93fa14e1c5\" y=\"164.635609\"/>\n     <use style=\"fill:#008000;fill-opacity:0.5;stroke:#008000;stroke-opacity:0.5;\" x=\"865.478329\" xlink:href=\"#m93fa14e1c5\" y=\"199.741023\"/>\n     <use style=\"fill:#008000;fill-opacity:0.5;stroke:#008000;stroke-opacity:0.5;\" x=\"902.984211\" xlink:href=\"#m93fa14e1c5\" y=\"240.742268\"/>\n     <use style=\"fill:#008000;fill-opacity:0.5;stroke:#008000;stroke-opacity:0.5;\" x=\"889.264072\" xlink:href=\"#m93fa14e1c5\" y=\"179.159335\"/>\n     <use style=\"fill:#008000;fill-opacity:0.5;stroke:#008000;stroke-opacity:0.5;\" x=\"913.599898\" xlink:href=\"#m93fa14e1c5\" y=\"152.943197\"/>\n     <use style=\"fill:#008000;fill-opacity:0.5;stroke:#008000;stroke-opacity:0.5;\" x=\"920.236037\" xlink:href=\"#m93fa14e1c5\" y=\"141.189527\"/>\n     <use style=\"fill:#008000;fill-opacity:0.5;stroke:#008000;stroke-opacity:0.5;\" x=\"934.604905\" xlink:href=\"#m93fa14e1c5\" y=\"163.75073\"/>\n     <use style=\"fill:#008000;fill-opacity:0.5;stroke:#008000;stroke-opacity:0.5;\" x=\"897.527931\" xlink:href=\"#m93fa14e1c5\" y=\"123.373432\"/>\n     <use style=\"fill:#008000;fill-opacity:0.5;stroke:#008000;stroke-opacity:0.5;\" x=\"897.213245\" xlink:href=\"#m93fa14e1c5\" y=\"241.571724\"/>\n     <use style=\"fill:#008000;fill-opacity:0.5;stroke:#008000;stroke-opacity:0.5;\" x=\"963.760086\" xlink:href=\"#m93fa14e1c5\" y=\"195.699927\"/>\n     <use style=\"fill:#008000;fill-opacity:0.5;stroke:#008000;stroke-opacity:0.5;\" x=\"884.903751\" xlink:href=\"#m93fa14e1c5\" y=\"135.157998\"/>\n     <use style=\"fill:#008000;fill-opacity:0.5;stroke:#008000;stroke-opacity:0.5;\" x=\"951.963015\" xlink:href=\"#m93fa14e1c5\" y=\"173.387386\"/>\n     <use style=\"fill:#008000;fill-opacity:0.5;stroke:#008000;stroke-opacity:0.5;\" x=\"896.936872\" xlink:href=\"#m93fa14e1c5\" y=\"155.162747\"/>\n     <use style=\"fill:#008000;fill-opacity:0.5;stroke:#008000;stroke-opacity:0.5;\" x=\"905.641377\" xlink:href=\"#m93fa14e1c5\" y=\"187.73171\"/>\n     <use style=\"fill:#008000;fill-opacity:0.5;stroke:#008000;stroke-opacity:0.5;\" x=\"880.53007\" xlink:href=\"#m93fa14e1c5\" y=\"192.043359\"/>\n     <use style=\"fill:#008000;fill-opacity:0.5;stroke:#008000;stroke-opacity:0.5;\" x=\"848.86351\" xlink:href=\"#m93fa14e1c5\" y=\"172.936896\"/>\n     <use style=\"fill:#008000;fill-opacity:0.5;stroke:#008000;stroke-opacity:0.5;\" x=\"962.420443\" xlink:href=\"#m93fa14e1c5\" y=\"136.14466\"/>\n     <use style=\"fill:#008000;fill-opacity:0.5;stroke:#008000;stroke-opacity:0.5;\" x=\"951.74905\" xlink:href=\"#m93fa14e1c5\" y=\"146.808275\"/>\n     <use style=\"fill:#008000;fill-opacity:0.5;stroke:#008000;stroke-opacity:0.5;\" x=\"904.251476\" xlink:href=\"#m93fa14e1c5\" y=\"109.092728\"/>\n     <use style=\"fill:#008000;fill-opacity:0.5;stroke:#008000;stroke-opacity:0.5;\" x=\"943.66968\" xlink:href=\"#m93fa14e1c5\" y=\"140.017376\"/>\n     <use style=\"fill:#008000;fill-opacity:0.5;stroke:#008000;stroke-opacity:0.5;\" x=\"929.1939\" xlink:href=\"#m93fa14e1c5\" y=\"124.512663\"/>\n     <use style=\"fill:#008000;fill-opacity:0.5;stroke:#008000;stroke-opacity:0.5;\" x=\"876.916514\" xlink:href=\"#m93fa14e1c5\" y=\"89.551944\"/>\n     <use style=\"fill:#008000;fill-opacity:0.5;stroke:#008000;stroke-opacity:0.5;\" x=\"939.880365\" xlink:href=\"#m93fa14e1c5\" y=\"153.824462\"/>\n     <use style=\"fill:#008000;fill-opacity:0.5;stroke:#008000;stroke-opacity:0.5;\" x=\"921.843122\" xlink:href=\"#m93fa14e1c5\" y=\"150.781026\"/>\n     <use style=\"fill:#008000;fill-opacity:0.5;stroke:#008000;stroke-opacity:0.5;\" x=\"871.876985\" xlink:href=\"#m93fa14e1c5\" y=\"215.773871\"/>\n     <use style=\"fill:#008000;fill-opacity:0.5;stroke:#008000;stroke-opacity:0.5;\" x=\"867.88688\" xlink:href=\"#m93fa14e1c5\" y=\"116.263721\"/>\n     <use style=\"fill:#008000;fill-opacity:0.5;stroke:#008000;stroke-opacity:0.5;\" x=\"868.773238\" xlink:href=\"#m93fa14e1c5\" y=\"113.133073\"/>\n     <use style=\"fill:#008000;fill-opacity:0.5;stroke:#008000;stroke-opacity:0.5;\" x=\"916.687968\" xlink:href=\"#m93fa14e1c5\" y=\"213.698366\"/>\n     <use style=\"fill:#008000;fill-opacity:0.5;stroke:#008000;stroke-opacity:0.5;\" x=\"866.409961\" xlink:href=\"#m93fa14e1c5\" y=\"151.015091\"/>\n     <use style=\"fill:#008000;fill-opacity:0.5;stroke:#008000;stroke-opacity:0.5;\" x=\"939.083972\" xlink:href=\"#m93fa14e1c5\" y=\"206.955821\"/>\n     <use style=\"fill:#008000;fill-opacity:0.5;stroke:#008000;stroke-opacity:0.5;\" x=\"921.911213\" xlink:href=\"#m93fa14e1c5\" y=\"222.692577\"/>\n     <use style=\"fill:#008000;fill-opacity:0.5;stroke:#008000;stroke-opacity:0.5;\" x=\"886.373514\" xlink:href=\"#m93fa14e1c5\" y=\"162.095784\"/>\n     <use style=\"fill:#008000;fill-opacity:0.5;stroke:#008000;stroke-opacity:0.5;\" x=\"924.726431\" xlink:href=\"#m93fa14e1c5\" y=\"149.392773\"/>\n     <use style=\"fill:#008000;fill-opacity:0.5;stroke:#008000;stroke-opacity:0.5;\" x=\"868.725279\" xlink:href=\"#m93fa14e1c5\" y=\"194.700388\"/>\n     <use style=\"fill:#008000;fill-opacity:0.5;stroke:#008000;stroke-opacity:0.5;\" x=\"926.591581\" xlink:href=\"#m93fa14e1c5\" y=\"167.949567\"/>\n     <use style=\"fill:#008000;fill-opacity:0.5;stroke:#008000;stroke-opacity:0.5;\" x=\"831.82075\" xlink:href=\"#m93fa14e1c5\" y=\"81.504573\"/>\n     <use style=\"fill:#008000;fill-opacity:0.5;stroke:#008000;stroke-opacity:0.5;\" x=\"945.199611\" xlink:href=\"#m93fa14e1c5\" y=\"163.340845\"/>\n     <use style=\"fill:#008000;fill-opacity:0.5;stroke:#008000;stroke-opacity:0.5;\" x=\"913.553027\" xlink:href=\"#m93fa14e1c5\" y=\"172.203396\"/>\n     <use style=\"fill:#008000;fill-opacity:0.5;stroke:#008000;stroke-opacity:0.5;\" x=\"845.951246\" xlink:href=\"#m93fa14e1c5\" y=\"168.342527\"/>\n     <use style=\"fill:#008000;fill-opacity:0.5;stroke:#008000;stroke-opacity:0.5;\" x=\"910.901598\" xlink:href=\"#m93fa14e1c5\" y=\"129.78624\"/>\n     <use style=\"fill:#008000;fill-opacity:0.5;stroke:#008000;stroke-opacity:0.5;\" x=\"907.540414\" xlink:href=\"#m93fa14e1c5\" y=\"205.589729\"/>\n     <use style=\"fill:#008000;fill-opacity:0.5;stroke:#008000;stroke-opacity:0.5;\" x=\"853.085092\" xlink:href=\"#m93fa14e1c5\" y=\"192.797058\"/>\n     <use style=\"fill:#008000;fill-opacity:0.5;stroke:#008000;stroke-opacity:0.5;\" x=\"963.137207\" xlink:href=\"#m93fa14e1c5\" y=\"145.105914\"/>\n     <use style=\"fill:#008000;fill-opacity:0.5;stroke:#008000;stroke-opacity:0.5;\" x=\"926.666733\" xlink:href=\"#m93fa14e1c5\" y=\"177.571221\"/>\n     <use style=\"fill:#008000;fill-opacity:0.5;stroke:#008000;stroke-opacity:0.5;\" x=\"914.521708\" xlink:href=\"#m93fa14e1c5\" y=\"143.137458\"/>\n     <use style=\"fill:#008000;fill-opacity:0.5;stroke:#008000;stroke-opacity:0.5;\" x=\"930.311533\" xlink:href=\"#m93fa14e1c5\" y=\"123.850479\"/>\n     <use style=\"fill:#008000;fill-opacity:0.5;stroke:#008000;stroke-opacity:0.5;\" x=\"896.123821\" xlink:href=\"#m93fa14e1c5\" y=\"134.769717\"/>\n     <use style=\"fill:#008000;fill-opacity:0.5;stroke:#008000;stroke-opacity:0.5;\" x=\"934.014977\" xlink:href=\"#m93fa14e1c5\" y=\"132.210561\"/>\n     <use style=\"fill:#008000;fill-opacity:0.5;stroke:#008000;stroke-opacity:0.5;\" x=\"884.237246\" xlink:href=\"#m93fa14e1c5\" y=\"154.985513\"/>\n     <use style=\"fill:#008000;fill-opacity:0.5;stroke:#008000;stroke-opacity:0.5;\" x=\"895.054845\" xlink:href=\"#m93fa14e1c5\" y=\"139.423055\"/>\n     <use style=\"fill:#008000;fill-opacity:0.5;stroke:#008000;stroke-opacity:0.5;\" x=\"884.162143\" xlink:href=\"#m93fa14e1c5\" y=\"155.361301\"/>\n     <use style=\"fill:#008000;fill-opacity:0.5;stroke:#008000;stroke-opacity:0.5;\" x=\"888.984191\" xlink:href=\"#m93fa14e1c5\" y=\"94.322891\"/>\n     <use style=\"fill:#008000;fill-opacity:0.5;stroke:#008000;stroke-opacity:0.5;\" x=\"850.350741\" xlink:href=\"#m93fa14e1c5\" y=\"202.579604\"/>\n     <use style=\"fill:#008000;fill-opacity:0.5;stroke:#008000;stroke-opacity:0.5;\" x=\"840.715331\" xlink:href=\"#m93fa14e1c5\" y=\"137.685733\"/>\n     <use style=\"fill:#008000;fill-opacity:0.5;stroke:#008000;stroke-opacity:0.5;\" x=\"945.221551\" xlink:href=\"#m93fa14e1c5\" y=\"153.44984\"/>\n     <use style=\"fill:#008000;fill-opacity:0.5;stroke:#008000;stroke-opacity:0.5;\" x=\"897.08461\" xlink:href=\"#m93fa14e1c5\" y=\"224.878314\"/>\n     <use style=\"fill:#008000;fill-opacity:0.5;stroke:#008000;stroke-opacity:0.5;\" x=\"927.330605\" xlink:href=\"#m93fa14e1c5\" y=\"194.845102\"/>\n     <use style=\"fill:#008000;fill-opacity:0.5;stroke:#008000;stroke-opacity:0.5;\" x=\"922.577346\" xlink:href=\"#m93fa14e1c5\" y=\"127.590041\"/>\n     <use style=\"fill:#008000;fill-opacity:0.5;stroke:#008000;stroke-opacity:0.5;\" x=\"882.551716\" xlink:href=\"#m93fa14e1c5\" y=\"139.158997\"/>\n     <use style=\"fill:#008000;fill-opacity:0.5;stroke:#008000;stroke-opacity:0.5;\" x=\"887.174806\" xlink:href=\"#m93fa14e1c5\" y=\"221.106968\"/>\n     <use style=\"fill:#008000;fill-opacity:0.5;stroke:#008000;stroke-opacity:0.5;\" x=\"870.510215\" xlink:href=\"#m93fa14e1c5\" y=\"202.4635\"/>\n     <use style=\"fill:#008000;fill-opacity:0.5;stroke:#008000;stroke-opacity:0.5;\" x=\"896.30859\" xlink:href=\"#m93fa14e1c5\" y=\"170.157876\"/>\n     <use style=\"fill:#008000;fill-opacity:0.5;stroke:#008000;stroke-opacity:0.5;\" x=\"874.209806\" xlink:href=\"#m93fa14e1c5\" y=\"135.324943\"/>\n     <use style=\"fill:#008000;fill-opacity:0.5;stroke:#008000;stroke-opacity:0.5;\" x=\"856.421428\" xlink:href=\"#m93fa14e1c5\" y=\"225.244317\"/>\n     <use style=\"fill:#008000;fill-opacity:0.5;stroke:#008000;stroke-opacity:0.5;\" x=\"851.719755\" xlink:href=\"#m93fa14e1c5\" y=\"118.049412\"/>\n     <use style=\"fill:#008000;fill-opacity:0.5;stroke:#008000;stroke-opacity:0.5;\" x=\"887.848729\" xlink:href=\"#m93fa14e1c5\" y=\"145.606722\"/>\n     <use style=\"fill:#008000;fill-opacity:0.5;stroke:#008000;stroke-opacity:0.5;\" x=\"904.877332\" xlink:href=\"#m93fa14e1c5\" y=\"145.089215\"/>\n     <use style=\"fill:#008000;fill-opacity:0.5;stroke:#008000;stroke-opacity:0.5;\" x=\"920.850434\" xlink:href=\"#m93fa14e1c5\" y=\"103.792582\"/>\n     <use style=\"fill:#008000;fill-opacity:0.5;stroke:#008000;stroke-opacity:0.5;\" x=\"881.466659\" xlink:href=\"#m93fa14e1c5\" y=\"161.18524\"/>\n     <use style=\"fill:#008000;fill-opacity:0.5;stroke:#008000;stroke-opacity:0.5;\" x=\"930.202139\" xlink:href=\"#m93fa14e1c5\" y=\"132.337926\"/>\n     <use style=\"fill:#008000;fill-opacity:0.5;stroke:#008000;stroke-opacity:0.5;\" x=\"869.309719\" xlink:href=\"#m93fa14e1c5\" y=\"155.806085\"/>\n     <use style=\"fill:#008000;fill-opacity:0.5;stroke:#008000;stroke-opacity:0.5;\" x=\"872.143888\" xlink:href=\"#m93fa14e1c5\" y=\"192.567117\"/>\n     <use style=\"fill:#008000;fill-opacity:0.5;stroke:#008000;stroke-opacity:0.5;\" x=\"955.009605\" xlink:href=\"#m93fa14e1c5\" y=\"149.988519\"/>\n     <use style=\"fill:#008000;fill-opacity:0.5;stroke:#008000;stroke-opacity:0.5;\" x=\"889.052036\" xlink:href=\"#m93fa14e1c5\" y=\"179.229078\"/>\n     <use style=\"fill:#008000;fill-opacity:0.5;stroke:#008000;stroke-opacity:0.5;\" x=\"942.369002\" xlink:href=\"#m93fa14e1c5\" y=\"108.245801\"/>\n     <use style=\"fill:#008000;fill-opacity:0.5;stroke:#008000;stroke-opacity:0.5;\" x=\"916.899248\" xlink:href=\"#m93fa14e1c5\" y=\"186.103297\"/>\n     <use style=\"fill:#008000;fill-opacity:0.5;stroke:#008000;stroke-opacity:0.5;\" x=\"904.468865\" xlink:href=\"#m93fa14e1c5\" y=\"170.939461\"/>\n     <use style=\"fill:#008000;fill-opacity:0.5;stroke:#008000;stroke-opacity:0.5;\" x=\"855.171355\" xlink:href=\"#m93fa14e1c5\" y=\"196.041986\"/>\n     <use style=\"fill:#008000;fill-opacity:0.5;stroke:#008000;stroke-opacity:0.5;\" x=\"899.895059\" xlink:href=\"#m93fa14e1c5\" y=\"166.825895\"/>\n     <use style=\"fill:#008000;fill-opacity:0.5;stroke:#008000;stroke-opacity:0.5;\" x=\"924.009717\" xlink:href=\"#m93fa14e1c5\" y=\"163.634535\"/>\n     <use style=\"fill:#008000;fill-opacity:0.5;stroke:#008000;stroke-opacity:0.5;\" x=\"892.68116\" xlink:href=\"#m93fa14e1c5\" y=\"156.259432\"/>\n     <use style=\"fill:#008000;fill-opacity:0.5;stroke:#008000;stroke-opacity:0.5;\" x=\"869.751395\" xlink:href=\"#m93fa14e1c5\" y=\"144.025116\"/>\n     <use style=\"fill:#008000;fill-opacity:0.5;stroke:#008000;stroke-opacity:0.5;\" x=\"910.000267\" xlink:href=\"#m93fa14e1c5\" y=\"160.52587\"/>\n     <use style=\"fill:#008000;fill-opacity:0.5;stroke:#008000;stroke-opacity:0.5;\" x=\"908.145658\" xlink:href=\"#m93fa14e1c5\" y=\"149.737172\"/>\n     <use style=\"fill:#008000;fill-opacity:0.5;stroke:#008000;stroke-opacity:0.5;\" x=\"900.368172\" xlink:href=\"#m93fa14e1c5\" y=\"199.884178\"/>\n     <use style=\"fill:#008000;fill-opacity:0.5;stroke:#008000;stroke-opacity:0.5;\" x=\"914.016286\" xlink:href=\"#m93fa14e1c5\" y=\"144.985801\"/>\n     <use style=\"fill:#008000;fill-opacity:0.5;stroke:#008000;stroke-opacity:0.5;\" x=\"889.928599\" xlink:href=\"#m93fa14e1c5\" y=\"129.648935\"/>\n     <use style=\"fill:#008000;fill-opacity:0.5;stroke:#008000;stroke-opacity:0.5;\" x=\"841.055363\" xlink:href=\"#m93fa14e1c5\" y=\"180.734344\"/>\n     <use style=\"fill:#008000;fill-opacity:0.5;stroke:#008000;stroke-opacity:0.5;\" x=\"935.561338\" xlink:href=\"#m93fa14e1c5\" y=\"208.98681\"/>\n     <use style=\"fill:#008000;fill-opacity:0.5;stroke:#008000;stroke-opacity:0.5;\" x=\"871.662158\" xlink:href=\"#m93fa14e1c5\" y=\"210.695973\"/>\n     <use style=\"fill:#008000;fill-opacity:0.5;stroke:#008000;stroke-opacity:0.5;\" x=\"894.653071\" xlink:href=\"#m93fa14e1c5\" y=\"197.774301\"/>\n     <use style=\"fill:#008000;fill-opacity:0.5;stroke:#008000;stroke-opacity:0.5;\" x=\"832.180582\" xlink:href=\"#m93fa14e1c5\" y=\"123.962753\"/>\n     <use style=\"fill:#008000;fill-opacity:0.5;stroke:#008000;stroke-opacity:0.5;\" x=\"935.969865\" xlink:href=\"#m93fa14e1c5\" y=\"194.078211\"/>\n     <use style=\"fill:#008000;fill-opacity:0.5;stroke:#008000;stroke-opacity:0.5;\" x=\"904.471938\" xlink:href=\"#m93fa14e1c5\" y=\"181.642149\"/>\n     <use style=\"fill:#008000;fill-opacity:0.5;stroke:#008000;stroke-opacity:0.5;\" x=\"844.666136\" xlink:href=\"#m93fa14e1c5\" y=\"154.759997\"/>\n     <use style=\"fill:#008000;fill-opacity:0.5;stroke:#008000;stroke-opacity:0.5;\" x=\"881.616831\" xlink:href=\"#m93fa14e1c5\" y=\"159.712885\"/>\n     <use style=\"fill:#008000;fill-opacity:0.5;stroke:#008000;stroke-opacity:0.5;\" x=\"915.879776\" xlink:href=\"#m93fa14e1c5\" y=\"159.063869\"/>\n     <use style=\"fill:#008000;fill-opacity:0.5;stroke:#008000;stroke-opacity:0.5;\" x=\"943.672263\" xlink:href=\"#m93fa14e1c5\" y=\"192.544113\"/>\n     <use style=\"fill:#008000;fill-opacity:0.5;stroke:#008000;stroke-opacity:0.5;\" x=\"868.520791\" xlink:href=\"#m93fa14e1c5\" y=\"210.815967\"/>\n     <use style=\"fill:#008000;fill-opacity:0.5;stroke:#008000;stroke-opacity:0.5;\" x=\"886.715944\" xlink:href=\"#m93fa14e1c5\" y=\"153.250655\"/>\n     <use style=\"fill:#008000;fill-opacity:0.5;stroke:#008000;stroke-opacity:0.5;\" x=\"893.917291\" xlink:href=\"#m93fa14e1c5\" y=\"163.128379\"/>\n     <use style=\"fill:#008000;fill-opacity:0.5;stroke:#008000;stroke-opacity:0.5;\" x=\"936.723734\" xlink:href=\"#m93fa14e1c5\" y=\"169.052229\"/>\n     <use style=\"fill:#008000;fill-opacity:0.5;stroke:#008000;stroke-opacity:0.5;\" x=\"899.870626\" xlink:href=\"#m93fa14e1c5\" y=\"142.837907\"/>\n     <use style=\"fill:#008000;fill-opacity:0.5;stroke:#008000;stroke-opacity:0.5;\" x=\"849.468417\" xlink:href=\"#m93fa14e1c5\" y=\"199.260366\"/>\n     <use style=\"fill:#008000;fill-opacity:0.5;stroke:#008000;stroke-opacity:0.5;\" x=\"906.996308\" xlink:href=\"#m93fa14e1c5\" y=\"155.392647\"/>\n     <use style=\"fill:#008000;fill-opacity:0.5;stroke:#008000;stroke-opacity:0.5;\" x=\"923.697645\" xlink:href=\"#m93fa14e1c5\" y=\"173.926996\"/>\n     <use style=\"fill:#008000;fill-opacity:0.5;stroke:#008000;stroke-opacity:0.5;\" x=\"866.246736\" xlink:href=\"#m93fa14e1c5\" y=\"221.903212\"/>\n     <use style=\"fill:#008000;fill-opacity:0.5;stroke:#008000;stroke-opacity:0.5;\" x=\"936.928787\" xlink:href=\"#m93fa14e1c5\" y=\"82.635862\"/>\n     <use style=\"fill:#008000;fill-opacity:0.5;stroke:#008000;stroke-opacity:0.5;\" x=\"866.352685\" xlink:href=\"#m93fa14e1c5\" y=\"204.031745\"/>\n     <use style=\"fill:#008000;fill-opacity:0.5;stroke:#008000;stroke-opacity:0.5;\" x=\"872.469447\" xlink:href=\"#m93fa14e1c5\" y=\"196.53331\"/>\n     <use style=\"fill:#008000;fill-opacity:0.5;stroke:#008000;stroke-opacity:0.5;\" x=\"897.479186\" xlink:href=\"#m93fa14e1c5\" y=\"135.416476\"/>\n     <use style=\"fill:#008000;fill-opacity:0.5;stroke:#008000;stroke-opacity:0.5;\" x=\"927.159198\" xlink:href=\"#m93fa14e1c5\" y=\"163.480474\"/>\n     <use style=\"fill:#008000;fill-opacity:0.5;stroke:#008000;stroke-opacity:0.5;\" x=\"911.813744\" xlink:href=\"#m93fa14e1c5\" y=\"222.163798\"/>\n     <use style=\"fill:#008000;fill-opacity:0.5;stroke:#008000;stroke-opacity:0.5;\" x=\"947.065375\" xlink:href=\"#m93fa14e1c5\" y=\"156.750612\"/>\n     <use style=\"fill:#008000;fill-opacity:0.5;stroke:#008000;stroke-opacity:0.5;\" x=\"869.60146\" xlink:href=\"#m93fa14e1c5\" y=\"223.105455\"/>\n     <use style=\"fill:#008000;fill-opacity:0.5;stroke:#008000;stroke-opacity:0.5;\" x=\"886.060512\" xlink:href=\"#m93fa14e1c5\" y=\"222.765292\"/>\n     <use style=\"fill:#008000;fill-opacity:0.5;stroke:#008000;stroke-opacity:0.5;\" x=\"878.931646\" xlink:href=\"#m93fa14e1c5\" y=\"197.252968\"/>\n     <use style=\"fill:#008000;fill-opacity:0.5;stroke:#008000;stroke-opacity:0.5;\" x=\"857.677801\" xlink:href=\"#m93fa14e1c5\" y=\"149.544185\"/>\n     <use style=\"fill:#008000;fill-opacity:0.5;stroke:#008000;stroke-opacity:0.5;\" x=\"928.405589\" xlink:href=\"#m93fa14e1c5\" y=\"144.804057\"/>\n     <use style=\"fill:#008000;fill-opacity:0.5;stroke:#008000;stroke-opacity:0.5;\" x=\"898.40507\" xlink:href=\"#m93fa14e1c5\" y=\"154.828402\"/>\n     <use style=\"fill:#008000;fill-opacity:0.5;stroke:#008000;stroke-opacity:0.5;\" x=\"946.376823\" xlink:href=\"#m93fa14e1c5\" y=\"128.448304\"/>\n     <use style=\"fill:#008000;fill-opacity:0.5;stroke:#008000;stroke-opacity:0.5;\" x=\"855.82805\" xlink:href=\"#m93fa14e1c5\" y=\"205.231362\"/>\n     <use style=\"fill:#008000;fill-opacity:0.5;stroke:#008000;stroke-opacity:0.5;\" x=\"941.769748\" xlink:href=\"#m93fa14e1c5\" y=\"183.639891\"/>\n     <use style=\"fill:#008000;fill-opacity:0.5;stroke:#008000;stroke-opacity:0.5;\" x=\"950.708581\" xlink:href=\"#m93fa14e1c5\" y=\"167.499436\"/>\n     <use style=\"fill:#008000;fill-opacity:0.5;stroke:#008000;stroke-opacity:0.5;\" x=\"906.266161\" xlink:href=\"#m93fa14e1c5\" y=\"228.607993\"/>\n     <use style=\"fill:#008000;fill-opacity:0.5;stroke:#008000;stroke-opacity:0.5;\" x=\"837.299099\" xlink:href=\"#m93fa14e1c5\" y=\"185.688617\"/>\n     <use style=\"fill:#008000;fill-opacity:0.5;stroke:#008000;stroke-opacity:0.5;\" x=\"882.213089\" xlink:href=\"#m93fa14e1c5\" y=\"142.166615\"/>\n     <use style=\"fill:#008000;fill-opacity:0.5;stroke:#008000;stroke-opacity:0.5;\" x=\"923.750796\" xlink:href=\"#m93fa14e1c5\" y=\"136.393019\"/>\n     <use style=\"fill:#008000;fill-opacity:0.5;stroke:#008000;stroke-opacity:0.5;\" x=\"911.015183\" xlink:href=\"#m93fa14e1c5\" y=\"54.444334\"/>\n     <use style=\"fill:#008000;fill-opacity:0.5;stroke:#008000;stroke-opacity:0.5;\" x=\"958.009888\" xlink:href=\"#m93fa14e1c5\" y=\"182.170536\"/>\n     <use style=\"fill:#008000;fill-opacity:0.5;stroke:#008000;stroke-opacity:0.5;\" x=\"915.800029\" xlink:href=\"#m93fa14e1c5\" y=\"118.791362\"/>\n     <use style=\"fill:#008000;fill-opacity:0.5;stroke:#008000;stroke-opacity:0.5;\" x=\"888.725887\" xlink:href=\"#m93fa14e1c5\" y=\"174.095796\"/>\n     <use style=\"fill:#008000;fill-opacity:0.5;stroke:#008000;stroke-opacity:0.5;\" x=\"904.769241\" xlink:href=\"#m93fa14e1c5\" y=\"203.363333\"/>\n     <use style=\"fill:#008000;fill-opacity:0.5;stroke:#008000;stroke-opacity:0.5;\" x=\"841.85912\" xlink:href=\"#m93fa14e1c5\" y=\"174.307713\"/>\n     <use style=\"fill:#008000;fill-opacity:0.5;stroke:#008000;stroke-opacity:0.5;\" x=\"901.782508\" xlink:href=\"#m93fa14e1c5\" y=\"173.303491\"/>\n     <use style=\"fill:#008000;fill-opacity:0.5;stroke:#008000;stroke-opacity:0.5;\" x=\"872.275272\" xlink:href=\"#m93fa14e1c5\" y=\"232.556819\"/>\n     <use style=\"fill:#008000;fill-opacity:0.5;stroke:#008000;stroke-opacity:0.5;\" x=\"893.581478\" xlink:href=\"#m93fa14e1c5\" y=\"233.9157\"/>\n     <use style=\"fill:#008000;fill-opacity:0.5;stroke:#008000;stroke-opacity:0.5;\" x=\"939.946497\" xlink:href=\"#m93fa14e1c5\" y=\"162.75177\"/>\n     <use style=\"fill:#008000;fill-opacity:0.5;stroke:#008000;stroke-opacity:0.5;\" x=\"919.088733\" xlink:href=\"#m93fa14e1c5\" y=\"214.805809\"/>\n     <use style=\"fill:#008000;fill-opacity:0.5;stroke:#008000;stroke-opacity:0.5;\" x=\"910.697432\" xlink:href=\"#m93fa14e1c5\" y=\"178.629872\"/>\n     <use style=\"fill:#008000;fill-opacity:0.5;stroke:#008000;stroke-opacity:0.5;\" x=\"864.202202\" xlink:href=\"#m93fa14e1c5\" y=\"149.205902\"/>\n     <use style=\"fill:#008000;fill-opacity:0.5;stroke:#008000;stroke-opacity:0.5;\" x=\"838.624802\" xlink:href=\"#m93fa14e1c5\" y=\"223.83405\"/>\n     <use style=\"fill:#008000;fill-opacity:0.5;stroke:#008000;stroke-opacity:0.5;\" x=\"880.064678\" xlink:href=\"#m93fa14e1c5\" y=\"160.947713\"/>\n     <use style=\"fill:#008000;fill-opacity:0.5;stroke:#008000;stroke-opacity:0.5;\" x=\"937.835017\" xlink:href=\"#m93fa14e1c5\" y=\"161.208824\"/>\n     <use style=\"fill:#008000;fill-opacity:0.5;stroke:#008000;stroke-opacity:0.5;\" x=\"922.516362\" xlink:href=\"#m93fa14e1c5\" y=\"212.223019\"/>\n     <use style=\"fill:#008000;fill-opacity:0.5;stroke:#008000;stroke-opacity:0.5;\" x=\"870.545948\" xlink:href=\"#m93fa14e1c5\" y=\"168.602571\"/>\n     <use style=\"fill:#008000;fill-opacity:0.5;stroke:#008000;stroke-opacity:0.5;\" x=\"909.669224\" xlink:href=\"#m93fa14e1c5\" y=\"144.11476\"/>\n     <use style=\"fill:#008000;fill-opacity:0.5;stroke:#008000;stroke-opacity:0.5;\" x=\"903.174783\" xlink:href=\"#m93fa14e1c5\" y=\"190.434168\"/>\n     <use style=\"fill:#008000;fill-opacity:0.5;stroke:#008000;stroke-opacity:0.5;\" x=\"881.041436\" xlink:href=\"#m93fa14e1c5\" y=\"215.915931\"/>\n     <use style=\"fill:#008000;fill-opacity:0.5;stroke:#008000;stroke-opacity:0.5;\" x=\"900.089652\" xlink:href=\"#m93fa14e1c5\" y=\"173.121619\"/>\n     <use style=\"fill:#008000;fill-opacity:0.5;stroke:#008000;stroke-opacity:0.5;\" x=\"880.477968\" xlink:href=\"#m93fa14e1c5\" y=\"141.09398\"/>\n     <use style=\"fill:#008000;fill-opacity:0.5;stroke:#008000;stroke-opacity:0.5;\" x=\"910.41621\" xlink:href=\"#m93fa14e1c5\" y=\"198.896415\"/>\n     <use style=\"fill:#008000;fill-opacity:0.5;stroke:#008000;stroke-opacity:0.5;\" x=\"870.417735\" xlink:href=\"#m93fa14e1c5\" y=\"167.797459\"/>\n     <use style=\"fill:#008000;fill-opacity:0.5;stroke:#008000;stroke-opacity:0.5;\" x=\"864.579728\" xlink:href=\"#m93fa14e1c5\" y=\"159.05752\"/>\n     <use style=\"fill:#008000;fill-opacity:0.5;stroke:#008000;stroke-opacity:0.5;\" x=\"866.334678\" xlink:href=\"#m93fa14e1c5\" y=\"167.462641\"/>\n     <use style=\"fill:#008000;fill-opacity:0.5;stroke:#008000;stroke-opacity:0.5;\" x=\"897.578027\" xlink:href=\"#m93fa14e1c5\" y=\"150.047718\"/>\n     <use style=\"fill:#008000;fill-opacity:0.5;stroke:#008000;stroke-opacity:0.5;\" x=\"932.894223\" xlink:href=\"#m93fa14e1c5\" y=\"136.163318\"/>\n     <use style=\"fill:#008000;fill-opacity:0.5;stroke:#008000;stroke-opacity:0.5;\" x=\"907.679872\" xlink:href=\"#m93fa14e1c5\" y=\"223.922104\"/>\n     <use style=\"fill:#008000;fill-opacity:0.5;stroke:#008000;stroke-opacity:0.5;\" x=\"890.178939\" xlink:href=\"#m93fa14e1c5\" y=\"122.562704\"/>\n     <use style=\"fill:#008000;fill-opacity:0.5;stroke:#008000;stroke-opacity:0.5;\" x=\"922.262051\" xlink:href=\"#m93fa14e1c5\" y=\"181.988274\"/>\n     <use style=\"fill:#008000;fill-opacity:0.5;stroke:#008000;stroke-opacity:0.5;\" x=\"934.552364\" xlink:href=\"#m93fa14e1c5\" y=\"179.877683\"/>\n     <use style=\"fill:#008000;fill-opacity:0.5;stroke:#008000;stroke-opacity:0.5;\" x=\"901.121549\" xlink:href=\"#m93fa14e1c5\" y=\"156.941778\"/>\n     <use style=\"fill:#008000;fill-opacity:0.5;stroke:#008000;stroke-opacity:0.5;\" x=\"938.44392\" xlink:href=\"#m93fa14e1c5\" y=\"156.942207\"/>\n     <use style=\"fill:#008000;fill-opacity:0.5;stroke:#008000;stroke-opacity:0.5;\" x=\"903.537495\" xlink:href=\"#m93fa14e1c5\" y=\"138.384768\"/>\n     <use style=\"fill:#008000;fill-opacity:0.5;stroke:#008000;stroke-opacity:0.5;\" x=\"969.794528\" xlink:href=\"#m93fa14e1c5\" y=\"202.813463\"/>\n     <use style=\"fill:#008000;fill-opacity:0.5;stroke:#008000;stroke-opacity:0.5;\" x=\"844.137447\" xlink:href=\"#m93fa14e1c5\" y=\"173.145683\"/>\n     <use style=\"fill:#008000;fill-opacity:0.5;stroke:#008000;stroke-opacity:0.5;\" x=\"931.949026\" xlink:href=\"#m93fa14e1c5\" y=\"96.690552\"/>\n     <use style=\"fill:#008000;fill-opacity:0.5;stroke:#008000;stroke-opacity:0.5;\" x=\"930.972231\" xlink:href=\"#m93fa14e1c5\" y=\"142.66189\"/>\n     <use style=\"fill:#008000;fill-opacity:0.5;stroke:#008000;stroke-opacity:0.5;\" x=\"963.714632\" xlink:href=\"#m93fa14e1c5\" y=\"183.453101\"/>\n     <use style=\"fill:#008000;fill-opacity:0.5;stroke:#008000;stroke-opacity:0.5;\" x=\"862.458685\" xlink:href=\"#m93fa14e1c5\" y=\"121.091658\"/>\n     <use style=\"fill:#008000;fill-opacity:0.5;stroke:#008000;stroke-opacity:0.5;\" x=\"942.756084\" xlink:href=\"#m93fa14e1c5\" y=\"129.110325\"/>\n     <use style=\"fill:#008000;fill-opacity:0.5;stroke:#008000;stroke-opacity:0.5;\" x=\"909.942077\" xlink:href=\"#m93fa14e1c5\" y=\"172.641606\"/>\n     <use style=\"fill:#008000;fill-opacity:0.5;stroke:#008000;stroke-opacity:0.5;\" x=\"921.364102\" xlink:href=\"#m93fa14e1c5\" y=\"239.556304\"/>\n     <use style=\"fill:#008000;fill-opacity:0.5;stroke:#008000;stroke-opacity:0.5;\" x=\"856.939782\" xlink:href=\"#m93fa14e1c5\" y=\"168.512717\"/>\n     <use style=\"fill:#008000;fill-opacity:0.5;stroke:#008000;stroke-opacity:0.5;\" x=\"936.406905\" xlink:href=\"#m93fa14e1c5\" y=\"151.090397\"/>\n     <use style=\"fill:#008000;fill-opacity:0.5;stroke:#008000;stroke-opacity:0.5;\" x=\"861.190409\" xlink:href=\"#m93fa14e1c5\" y=\"108.182838\"/>\n     <use style=\"fill:#008000;fill-opacity:0.5;stroke:#008000;stroke-opacity:0.5;\" x=\"903.428516\" xlink:href=\"#m93fa14e1c5\" y=\"202.004733\"/>\n     <use style=\"fill:#008000;fill-opacity:0.5;stroke:#008000;stroke-opacity:0.5;\" x=\"897.10365\" xlink:href=\"#m93fa14e1c5\" y=\"194.507665\"/>\n     <use style=\"fill:#008000;fill-opacity:0.5;stroke:#008000;stroke-opacity:0.5;\" x=\"858.217464\" xlink:href=\"#m93fa14e1c5\" y=\"159.001752\"/>\n     <use style=\"fill:#008000;fill-opacity:0.5;stroke:#008000;stroke-opacity:0.5;\" x=\"848.475307\" xlink:href=\"#m93fa14e1c5\" y=\"180.694853\"/>\n     <use style=\"fill:#008000;fill-opacity:0.5;stroke:#008000;stroke-opacity:0.5;\" x=\"904.65035\" xlink:href=\"#m93fa14e1c5\" y=\"157.706977\"/>\n     <use style=\"fill:#008000;fill-opacity:0.5;stroke:#008000;stroke-opacity:0.5;\" x=\"916.372538\" xlink:href=\"#m93fa14e1c5\" y=\"158.419773\"/>\n     <use style=\"fill:#008000;fill-opacity:0.5;stroke:#008000;stroke-opacity:0.5;\" x=\"867.663257\" xlink:href=\"#m93fa14e1c5\" y=\"187.311166\"/>\n     <use style=\"fill:#008000;fill-opacity:0.5;stroke:#008000;stroke-opacity:0.5;\" x=\"909.964158\" xlink:href=\"#m93fa14e1c5\" y=\"160.732585\"/>\n     <use style=\"fill:#008000;fill-opacity:0.5;stroke:#008000;stroke-opacity:0.5;\" x=\"900.677972\" xlink:href=\"#m93fa14e1c5\" y=\"162.062772\"/>\n     <use style=\"fill:#008000;fill-opacity:0.5;stroke:#008000;stroke-opacity:0.5;\" x=\"978.214622\" xlink:href=\"#m93fa14e1c5\" y=\"160.327409\"/>\n     <use style=\"fill:#008000;fill-opacity:0.5;stroke:#008000;stroke-opacity:0.5;\" x=\"926.698894\" xlink:href=\"#m93fa14e1c5\" y=\"180.612266\"/>\n     <use style=\"fill:#008000;fill-opacity:0.5;stroke:#008000;stroke-opacity:0.5;\" x=\"879.567311\" xlink:href=\"#m93fa14e1c5\" y=\"151.724736\"/>\n     <use style=\"fill:#008000;fill-opacity:0.5;stroke:#008000;stroke-opacity:0.5;\" x=\"899.796228\" xlink:href=\"#m93fa14e1c5\" y=\"164.295355\"/>\n     <use style=\"fill:#008000;fill-opacity:0.5;stroke:#008000;stroke-opacity:0.5;\" x=\"855.34904\" xlink:href=\"#m93fa14e1c5\" y=\"188.184968\"/>\n     <use style=\"fill:#008000;fill-opacity:0.5;stroke:#008000;stroke-opacity:0.5;\" x=\"885.462195\" xlink:href=\"#m93fa14e1c5\" y=\"172.049394\"/>\n     <use style=\"fill:#008000;fill-opacity:0.5;stroke:#008000;stroke-opacity:0.5;\" x=\"876.558435\" xlink:href=\"#m93fa14e1c5\" y=\"196.388586\"/>\n     <use style=\"fill:#008000;fill-opacity:0.5;stroke:#008000;stroke-opacity:0.5;\" x=\"857.183684\" xlink:href=\"#m93fa14e1c5\" y=\"164.166249\"/>\n     <use style=\"fill:#008000;fill-opacity:0.5;stroke:#008000;stroke-opacity:0.5;\" x=\"914.885495\" xlink:href=\"#m93fa14e1c5\" y=\"159.556642\"/>\n     <use style=\"fill:#008000;fill-opacity:0.5;stroke:#008000;stroke-opacity:0.5;\" x=\"911.468999\" xlink:href=\"#m93fa14e1c5\" y=\"174.922065\"/>\n     <use style=\"fill:#008000;fill-opacity:0.5;stroke:#008000;stroke-opacity:0.5;\" x=\"941.571198\" xlink:href=\"#m93fa14e1c5\" y=\"89.403831\"/>\n     <use style=\"fill:#008000;fill-opacity:0.5;stroke:#008000;stroke-opacity:0.5;\" x=\"932.459192\" xlink:href=\"#m93fa14e1c5\" y=\"138.947491\"/>\n     <use style=\"fill:#008000;fill-opacity:0.5;stroke:#008000;stroke-opacity:0.5;\" x=\"880.496805\" xlink:href=\"#m93fa14e1c5\" y=\"209.289211\"/>\n     <use style=\"fill:#008000;fill-opacity:0.5;stroke:#008000;stroke-opacity:0.5;\" x=\"888.517315\" xlink:href=\"#m93fa14e1c5\" y=\"97.857239\"/>\n     <use style=\"fill:#008000;fill-opacity:0.5;stroke:#008000;stroke-opacity:0.5;\" x=\"906.166992\" xlink:href=\"#m93fa14e1c5\" y=\"202.518583\"/>\n     <use style=\"fill:#008000;fill-opacity:0.5;stroke:#008000;stroke-opacity:0.5;\" x=\"900.884372\" xlink:href=\"#m93fa14e1c5\" y=\"138.943107\"/>\n     <use style=\"fill:#008000;fill-opacity:0.5;stroke:#008000;stroke-opacity:0.5;\" x=\"899.61715\" xlink:href=\"#m93fa14e1c5\" y=\"148.165548\"/>\n     <use style=\"fill:#008000;fill-opacity:0.5;stroke:#008000;stroke-opacity:0.5;\" x=\"857.203376\" xlink:href=\"#m93fa14e1c5\" y=\"126.371809\"/>\n     <use style=\"fill:#008000;fill-opacity:0.5;stroke:#008000;stroke-opacity:0.5;\" x=\"905.719641\" xlink:href=\"#m93fa14e1c5\" y=\"168.398748\"/>\n     <use style=\"fill:#008000;fill-opacity:0.5;stroke:#008000;stroke-opacity:0.5;\" x=\"912.602423\" xlink:href=\"#m93fa14e1c5\" y=\"146.653467\"/>\n     <use style=\"fill:#008000;fill-opacity:0.5;stroke:#008000;stroke-opacity:0.5;\" x=\"899.528266\" xlink:href=\"#m93fa14e1c5\" y=\"180.474447\"/>\n     <use style=\"fill:#008000;fill-opacity:0.5;stroke:#008000;stroke-opacity:0.5;\" x=\"896.492089\" xlink:href=\"#m93fa14e1c5\" y=\"161.419735\"/>\n     <use style=\"fill:#008000;fill-opacity:0.5;stroke:#008000;stroke-opacity:0.5;\" x=\"868.526867\" xlink:href=\"#m93fa14e1c5\" y=\"130.670454\"/>\n     <use style=\"fill:#008000;fill-opacity:0.5;stroke:#008000;stroke-opacity:0.5;\" x=\"913.042175\" xlink:href=\"#m93fa14e1c5\" y=\"176.881394\"/>\n     <use style=\"fill:#008000;fill-opacity:0.5;stroke:#008000;stroke-opacity:0.5;\" x=\"908.450759\" xlink:href=\"#m93fa14e1c5\" y=\"127.953557\"/>\n     <use style=\"fill:#008000;fill-opacity:0.5;stroke:#008000;stroke-opacity:0.5;\" x=\"852.425887\" xlink:href=\"#m93fa14e1c5\" y=\"96.218254\"/>\n     <use style=\"fill:#008000;fill-opacity:0.5;stroke:#008000;stroke-opacity:0.5;\" x=\"949.951506\" xlink:href=\"#m93fa14e1c5\" y=\"146.352321\"/>\n     <use style=\"fill:#008000;fill-opacity:0.5;stroke:#008000;stroke-opacity:0.5;\" x=\"885.594246\" xlink:href=\"#m93fa14e1c5\" y=\"164.702031\"/>\n     <use style=\"fill:#008000;fill-opacity:0.5;stroke:#008000;stroke-opacity:0.5;\" x=\"916.711282\" xlink:href=\"#m93fa14e1c5\" y=\"91.625434\"/>\n     <use style=\"fill:#008000;fill-opacity:0.5;stroke:#008000;stroke-opacity:0.5;\" x=\"896.874165\" xlink:href=\"#m93fa14e1c5\" y=\"157.387505\"/>\n     <use style=\"fill:#008000;fill-opacity:0.5;stroke:#008000;stroke-opacity:0.5;\" x=\"853.18569\" xlink:href=\"#m93fa14e1c5\" y=\"146.804494\"/>\n     <use style=\"fill:#008000;fill-opacity:0.5;stroke:#008000;stroke-opacity:0.5;\" x=\"923.834043\" xlink:href=\"#m93fa14e1c5\" y=\"132.84817\"/>\n     <use style=\"fill:#008000;fill-opacity:0.5;stroke:#008000;stroke-opacity:0.5;\" x=\"903.153924\" xlink:href=\"#m93fa14e1c5\" y=\"169.59258\"/>\n     <use style=\"fill:#008000;fill-opacity:0.5;stroke:#008000;stroke-opacity:0.5;\" x=\"917.794586\" xlink:href=\"#m93fa14e1c5\" y=\"223.810573\"/>\n     <use style=\"fill:#008000;fill-opacity:0.5;stroke:#008000;stroke-opacity:0.5;\" x=\"849.990613\" xlink:href=\"#m93fa14e1c5\" y=\"187.449445\"/>\n     <use style=\"fill:#008000;fill-opacity:0.5;stroke:#008000;stroke-opacity:0.5;\" x=\"888.603925\" xlink:href=\"#m93fa14e1c5\" y=\"169.448249\"/>\n     <use style=\"fill:#008000;fill-opacity:0.5;stroke:#008000;stroke-opacity:0.5;\" x=\"882.216506\" xlink:href=\"#m93fa14e1c5\" y=\"149.085163\"/>\n     <use style=\"fill:#008000;fill-opacity:0.5;stroke:#008000;stroke-opacity:0.5;\" x=\"895.646687\" xlink:href=\"#m93fa14e1c5\" y=\"151.915779\"/>\n     <use style=\"fill:#008000;fill-opacity:0.5;stroke:#008000;stroke-opacity:0.5;\" x=\"810.095548\" xlink:href=\"#m93fa14e1c5\" y=\"154.829718\"/>\n     <use style=\"fill:#008000;fill-opacity:0.5;stroke:#008000;stroke-opacity:0.5;\" x=\"886.944292\" xlink:href=\"#m93fa14e1c5\" y=\"193.073477\"/>\n     <use style=\"fill:#008000;fill-opacity:0.5;stroke:#008000;stroke-opacity:0.5;\" x=\"980.857292\" xlink:href=\"#m93fa14e1c5\" y=\"148.260736\"/>\n     <use style=\"fill:#008000;fill-opacity:0.5;stroke:#008000;stroke-opacity:0.5;\" x=\"867.662833\" xlink:href=\"#m93fa14e1c5\" y=\"143.755932\"/>\n     <use style=\"fill:#008000;fill-opacity:0.5;stroke:#008000;stroke-opacity:0.5;\" x=\"920.792646\" xlink:href=\"#m93fa14e1c5\" y=\"198.27532\"/>\n     <use style=\"fill:#008000;fill-opacity:0.5;stroke:#008000;stroke-opacity:0.5;\" x=\"913.348736\" xlink:href=\"#m93fa14e1c5\" y=\"227.923014\"/>\n     <use style=\"fill:#008000;fill-opacity:0.5;stroke:#008000;stroke-opacity:0.5;\" x=\"886.959347\" xlink:href=\"#m93fa14e1c5\" y=\"153.784783\"/>\n     <use style=\"fill:#008000;fill-opacity:0.5;stroke:#008000;stroke-opacity:0.5;\" x=\"879.11231\" xlink:href=\"#m93fa14e1c5\" y=\"203.032439\"/>\n     <use style=\"fill:#008000;fill-opacity:0.5;stroke:#008000;stroke-opacity:0.5;\" x=\"834.740399\" xlink:href=\"#m93fa14e1c5\" y=\"170.755852\"/>\n     <use style=\"fill:#008000;fill-opacity:0.5;stroke:#008000;stroke-opacity:0.5;\" x=\"746.504805\" xlink:href=\"#m93fa14e1c5\" y=\"150.153375\"/>\n     <use style=\"fill:#008000;fill-opacity:0.5;stroke:#008000;stroke-opacity:0.5;\" x=\"891.651768\" xlink:href=\"#m93fa14e1c5\" y=\"157.303877\"/>\n     <use style=\"fill:#008000;fill-opacity:0.5;stroke:#008000;stroke-opacity:0.5;\" x=\"884.748028\" xlink:href=\"#m93fa14e1c5\" y=\"101.168285\"/>\n     <use style=\"fill:#008000;fill-opacity:0.5;stroke:#008000;stroke-opacity:0.5;\" x=\"914.807047\" xlink:href=\"#m93fa14e1c5\" y=\"154.699695\"/>\n     <use style=\"fill:#008000;fill-opacity:0.5;stroke:#008000;stroke-opacity:0.5;\" x=\"958.658897\" xlink:href=\"#m93fa14e1c5\" y=\"246.480135\"/>\n     <use style=\"fill:#008000;fill-opacity:0.5;stroke:#008000;stroke-opacity:0.5;\" x=\"822.056392\" xlink:href=\"#m93fa14e1c5\" y=\"245.189918\"/>\n     <use style=\"fill:#008000;fill-opacity:0.5;stroke:#008000;stroke-opacity:0.5;\" x=\"906.76783\" xlink:href=\"#m93fa14e1c5\" y=\"172.680778\"/>\n     <use style=\"fill:#008000;fill-opacity:0.5;stroke:#008000;stroke-opacity:0.5;\" x=\"919.277895\" xlink:href=\"#m93fa14e1c5\" y=\"209.889849\"/>\n     <use style=\"fill:#008000;fill-opacity:0.5;stroke:#008000;stroke-opacity:0.5;\" x=\"908.162969\" xlink:href=\"#m93fa14e1c5\" y=\"203.857643\"/>\n     <use style=\"fill:#008000;fill-opacity:0.5;stroke:#008000;stroke-opacity:0.5;\" x=\"894.611404\" xlink:href=\"#m93fa14e1c5\" y=\"165.224846\"/>\n     <use style=\"fill:#008000;fill-opacity:0.5;stroke:#008000;stroke-opacity:0.5;\" x=\"949.1725\" xlink:href=\"#m93fa14e1c5\" y=\"166.55912\"/>\n     <use style=\"fill:#008000;fill-opacity:0.5;stroke:#008000;stroke-opacity:0.5;\" x=\"892.341962\" xlink:href=\"#m93fa14e1c5\" y=\"145.340116\"/>\n     <use style=\"fill:#008000;fill-opacity:0.5;stroke:#008000;stroke-opacity:0.5;\" x=\"850.13093\" xlink:href=\"#m93fa14e1c5\" y=\"132.791055\"/>\n     <use style=\"fill:#008000;fill-opacity:0.5;stroke:#008000;stroke-opacity:0.5;\" x=\"920.898777\" xlink:href=\"#m93fa14e1c5\" y=\"173.287174\"/>\n     <use style=\"fill:#008000;fill-opacity:0.5;stroke:#008000;stroke-opacity:0.5;\" x=\"857.87353\" xlink:href=\"#m93fa14e1c5\" y=\"160.180837\"/>\n     <use style=\"fill:#008000;fill-opacity:0.5;stroke:#008000;stroke-opacity:0.5;\" x=\"921.618484\" xlink:href=\"#m93fa14e1c5\" y=\"163.596844\"/>\n     <use style=\"fill:#008000;fill-opacity:0.5;stroke:#008000;stroke-opacity:0.5;\" x=\"855.668377\" xlink:href=\"#m93fa14e1c5\" y=\"159.676926\"/>\n     <use style=\"fill:#008000;fill-opacity:0.5;stroke:#008000;stroke-opacity:0.5;\" x=\"891.143551\" xlink:href=\"#m93fa14e1c5\" y=\"186.812855\"/>\n     <use style=\"fill:#008000;fill-opacity:0.5;stroke:#008000;stroke-opacity:0.5;\" x=\"908.906619\" xlink:href=\"#m93fa14e1c5\" y=\"140.532927\"/>\n     <use style=\"fill:#008000;fill-opacity:0.5;stroke:#008000;stroke-opacity:0.5;\" x=\"931.893185\" xlink:href=\"#m93fa14e1c5\" y=\"192.384397\"/>\n     <use style=\"fill:#008000;fill-opacity:0.5;stroke:#008000;stroke-opacity:0.5;\" x=\"923.759608\" xlink:href=\"#m93fa14e1c5\" y=\"151.160706\"/>\n     <use style=\"fill:#008000;fill-opacity:0.5;stroke:#008000;stroke-opacity:0.5;\" x=\"927.595065\" xlink:href=\"#m93fa14e1c5\" y=\"79.673904\"/>\n     <use style=\"fill:#008000;fill-opacity:0.5;stroke:#008000;stroke-opacity:0.5;\" x=\"943.850939\" xlink:href=\"#m93fa14e1c5\" y=\"192.80607\"/>\n     <use style=\"fill:#008000;fill-opacity:0.5;stroke:#008000;stroke-opacity:0.5;\" x=\"855.878674\" xlink:href=\"#m93fa14e1c5\" y=\"195.511913\"/>\n     <use style=\"fill:#008000;fill-opacity:0.5;stroke:#008000;stroke-opacity:0.5;\" x=\"840.666878\" xlink:href=\"#m93fa14e1c5\" y=\"183.413132\"/>\n     <use style=\"fill:#008000;fill-opacity:0.5;stroke:#008000;stroke-opacity:0.5;\" x=\"865.979207\" xlink:href=\"#m93fa14e1c5\" y=\"157.43086\"/>\n     <use style=\"fill:#008000;fill-opacity:0.5;stroke:#008000;stroke-opacity:0.5;\" x=\"958.011326\" xlink:href=\"#m93fa14e1c5\" y=\"176.548345\"/>\n     <use style=\"fill:#008000;fill-opacity:0.5;stroke:#008000;stroke-opacity:0.5;\" x=\"937.030282\" xlink:href=\"#m93fa14e1c5\" y=\"178.156472\"/>\n     <use style=\"fill:#008000;fill-opacity:0.5;stroke:#008000;stroke-opacity:0.5;\" x=\"877.875028\" xlink:href=\"#m93fa14e1c5\" y=\"148.65871\"/>\n     <use style=\"fill:#008000;fill-opacity:0.5;stroke:#008000;stroke-opacity:0.5;\" x=\"878.760828\" xlink:href=\"#m93fa14e1c5\" y=\"164.449509\"/>\n     <use style=\"fill:#008000;fill-opacity:0.5;stroke:#008000;stroke-opacity:0.5;\" x=\"886.164378\" xlink:href=\"#m93fa14e1c5\" y=\"141.018622\"/>\n     <use style=\"fill:#008000;fill-opacity:0.5;stroke:#008000;stroke-opacity:0.5;\" x=\"875.423714\" xlink:href=\"#m93fa14e1c5\" y=\"193.859928\"/>\n     <use style=\"fill:#008000;fill-opacity:0.5;stroke:#008000;stroke-opacity:0.5;\" x=\"905.401621\" xlink:href=\"#m93fa14e1c5\" y=\"167.048016\"/>\n     <use style=\"fill:#008000;fill-opacity:0.5;stroke:#008000;stroke-opacity:0.5;\" x=\"912.203161\" xlink:href=\"#m93fa14e1c5\" y=\"193.334939\"/>\n     <use style=\"fill:#008000;fill-opacity:0.5;stroke:#008000;stroke-opacity:0.5;\" x=\"957.723876\" xlink:href=\"#m93fa14e1c5\" y=\"163.2488\"/>\n     <use style=\"fill:#008000;fill-opacity:0.5;stroke:#008000;stroke-opacity:0.5;\" x=\"895.437708\" xlink:href=\"#m93fa14e1c5\" y=\"128.229085\"/>\n     <use style=\"fill:#008000;fill-opacity:0.5;stroke:#008000;stroke-opacity:0.5;\" x=\"887.124111\" xlink:href=\"#m93fa14e1c5\" y=\"147.360359\"/>\n     <use style=\"fill:#008000;fill-opacity:0.5;stroke:#008000;stroke-opacity:0.5;\" x=\"894.268483\" xlink:href=\"#m93fa14e1c5\" y=\"192.270896\"/>\n     <use style=\"fill:#008000;fill-opacity:0.5;stroke:#008000;stroke-opacity:0.5;\" x=\"857.472399\" xlink:href=\"#m93fa14e1c5\" y=\"174.08232\"/>\n     <use style=\"fill:#008000;fill-opacity:0.5;stroke:#008000;stroke-opacity:0.5;\" x=\"917.253183\" xlink:href=\"#m93fa14e1c5\" y=\"187.995912\"/>\n     <use style=\"fill:#008000;fill-opacity:0.5;stroke:#008000;stroke-opacity:0.5;\" x=\"983.674512\" xlink:href=\"#m93fa14e1c5\" y=\"233.187271\"/>\n     <use style=\"fill:#008000;fill-opacity:0.5;stroke:#008000;stroke-opacity:0.5;\" x=\"889.507669\" xlink:href=\"#m93fa14e1c5\" y=\"226.799166\"/>\n     <use style=\"fill:#008000;fill-opacity:0.5;stroke:#008000;stroke-opacity:0.5;\" x=\"883.899757\" xlink:href=\"#m93fa14e1c5\" y=\"138.110662\"/>\n     <use style=\"fill:#008000;fill-opacity:0.5;stroke:#008000;stroke-opacity:0.5;\" x=\"940.595732\" xlink:href=\"#m93fa14e1c5\" y=\"144.741954\"/>\n     <use style=\"fill:#008000;fill-opacity:0.5;stroke:#008000;stroke-opacity:0.5;\" x=\"862.706242\" xlink:href=\"#m93fa14e1c5\" y=\"164.997781\"/>\n     <use style=\"fill:#008000;fill-opacity:0.5;stroke:#008000;stroke-opacity:0.5;\" x=\"955.449939\" xlink:href=\"#m93fa14e1c5\" y=\"205.660255\"/>\n     <use style=\"fill:#008000;fill-opacity:0.5;stroke:#008000;stroke-opacity:0.5;\" x=\"923.644786\" xlink:href=\"#m93fa14e1c5\" y=\"193.921139\"/>\n     <use style=\"fill:#008000;fill-opacity:0.5;stroke:#008000;stroke-opacity:0.5;\" x=\"910.884802\" xlink:href=\"#m93fa14e1c5\" y=\"113.788945\"/>\n     <use style=\"fill:#008000;fill-opacity:0.5;stroke:#008000;stroke-opacity:0.5;\" x=\"895.632988\" xlink:href=\"#m93fa14e1c5\" y=\"211.387495\"/>\n     <use style=\"fill:#008000;fill-opacity:0.5;stroke:#008000;stroke-opacity:0.5;\" x=\"916.256165\" xlink:href=\"#m93fa14e1c5\" y=\"166.021744\"/>\n     <use style=\"fill:#008000;fill-opacity:0.5;stroke:#008000;stroke-opacity:0.5;\" x=\"917.718122\" xlink:href=\"#m93fa14e1c5\" y=\"183.216448\"/>\n     <use style=\"fill:#008000;fill-opacity:0.5;stroke:#008000;stroke-opacity:0.5;\" x=\"919.374699\" xlink:href=\"#m93fa14e1c5\" y=\"126.575288\"/>\n     <use style=\"fill:#008000;fill-opacity:0.5;stroke:#008000;stroke-opacity:0.5;\" x=\"890.892394\" xlink:href=\"#m93fa14e1c5\" y=\"224.877952\"/>\n     <use style=\"fill:#008000;fill-opacity:0.5;stroke:#008000;stroke-opacity:0.5;\" x=\"813.686499\" xlink:href=\"#m93fa14e1c5\" y=\"190.625405\"/>\n     <use style=\"fill:#008000;fill-opacity:0.5;stroke:#008000;stroke-opacity:0.5;\" x=\"914.301752\" xlink:href=\"#m93fa14e1c5\" y=\"158.055261\"/>\n     <use style=\"fill:#008000;fill-opacity:0.5;stroke:#008000;stroke-opacity:0.5;\" x=\"930.628786\" xlink:href=\"#m93fa14e1c5\" y=\"166.692311\"/>\n     <use style=\"fill:#008000;fill-opacity:0.5;stroke:#008000;stroke-opacity:0.5;\" x=\"939.730719\" xlink:href=\"#m93fa14e1c5\" y=\"195.796627\"/>\n     <use style=\"fill:#008000;fill-opacity:0.5;stroke:#008000;stroke-opacity:0.5;\" x=\"842.118835\" xlink:href=\"#m93fa14e1c5\" y=\"120.063285\"/>\n     <use style=\"fill:#008000;fill-opacity:0.5;stroke:#008000;stroke-opacity:0.5;\" x=\"907.240653\" xlink:href=\"#m93fa14e1c5\" y=\"164.908624\"/>\n     <use style=\"fill:#008000;fill-opacity:0.5;stroke:#008000;stroke-opacity:0.5;\" x=\"928.193142\" xlink:href=\"#m93fa14e1c5\" y=\"152.280354\"/>\n     <use style=\"fill:#008000;fill-opacity:0.5;stroke:#008000;stroke-opacity:0.5;\" x=\"886.597364\" xlink:href=\"#m93fa14e1c5\" y=\"193.507534\"/>\n     <use style=\"fill:#008000;fill-opacity:0.5;stroke:#008000;stroke-opacity:0.5;\" x=\"897.580943\" xlink:href=\"#m93fa14e1c5\" y=\"155.065325\"/>\n     <use style=\"fill:#008000;fill-opacity:0.5;stroke:#008000;stroke-opacity:0.5;\" x=\"885.952882\" xlink:href=\"#m93fa14e1c5\" y=\"143.237054\"/>\n     <use style=\"fill:#008000;fill-opacity:0.5;stroke:#008000;stroke-opacity:0.5;\" x=\"889.447711\" xlink:href=\"#m93fa14e1c5\" y=\"136.432254\"/>\n     <use style=\"fill:#008000;fill-opacity:0.5;stroke:#008000;stroke-opacity:0.5;\" x=\"879.240351\" xlink:href=\"#m93fa14e1c5\" y=\"148.20132\"/>\n     <use style=\"fill:#008000;fill-opacity:0.5;stroke:#008000;stroke-opacity:0.5;\" x=\"903.641647\" xlink:href=\"#m93fa14e1c5\" y=\"193.779736\"/>\n     <use style=\"fill:#008000;fill-opacity:0.5;stroke:#008000;stroke-opacity:0.5;\" x=\"940.383412\" xlink:href=\"#m93fa14e1c5\" y=\"172.985572\"/>\n     <use style=\"fill:#008000;fill-opacity:0.5;stroke:#008000;stroke-opacity:0.5;\" x=\"931.927539\" xlink:href=\"#m93fa14e1c5\" y=\"156.198002\"/>\n     <use style=\"fill:#008000;fill-opacity:0.5;stroke:#008000;stroke-opacity:0.5;\" x=\"882.36928\" xlink:href=\"#m93fa14e1c5\" y=\"108.020446\"/>\n     <use style=\"fill:#008000;fill-opacity:0.5;stroke:#008000;stroke-opacity:0.5;\" x=\"917.568214\" xlink:href=\"#m93fa14e1c5\" y=\"217.962265\"/>\n     <use style=\"fill:#008000;fill-opacity:0.5;stroke:#008000;stroke-opacity:0.5;\" x=\"834.466084\" xlink:href=\"#m93fa14e1c5\" y=\"167.348882\"/>\n     <use style=\"fill:#008000;fill-opacity:0.5;stroke:#008000;stroke-opacity:0.5;\" x=\"935.755604\" xlink:href=\"#m93fa14e1c5\" y=\"165.373253\"/>\n     <use style=\"fill:#008000;fill-opacity:0.5;stroke:#008000;stroke-opacity:0.5;\" x=\"919.083632\" xlink:href=\"#m93fa14e1c5\" y=\"158.61149\"/>\n     <use style=\"fill:#008000;fill-opacity:0.5;stroke:#008000;stroke-opacity:0.5;\" x=\"907.863109\" xlink:href=\"#m93fa14e1c5\" y=\"151.942836\"/>\n     <use style=\"fill:#008000;fill-opacity:0.5;stroke:#008000;stroke-opacity:0.5;\" x=\"962.248255\" xlink:href=\"#m93fa14e1c5\" y=\"139.598973\"/>\n     <use style=\"fill:#008000;fill-opacity:0.5;stroke:#008000;stroke-opacity:0.5;\" x=\"838.765746\" xlink:href=\"#m93fa14e1c5\" y=\"147.579\"/>\n     <use style=\"fill:#008000;fill-opacity:0.5;stroke:#008000;stroke-opacity:0.5;\" x=\"877.793723\" xlink:href=\"#m93fa14e1c5\" y=\"180.484498\"/>\n     <use style=\"fill:#008000;fill-opacity:0.5;stroke:#008000;stroke-opacity:0.5;\" x=\"908.851569\" xlink:href=\"#m93fa14e1c5\" y=\"168.434085\"/>\n     <use style=\"fill:#008000;fill-opacity:0.5;stroke:#008000;stroke-opacity:0.5;\" x=\"904.108311\" xlink:href=\"#m93fa14e1c5\" y=\"163.649307\"/>\n     <use style=\"fill:#008000;fill-opacity:0.5;stroke:#008000;stroke-opacity:0.5;\" x=\"915.130232\" xlink:href=\"#m93fa14e1c5\" y=\"192.050071\"/>\n     <use style=\"fill:#008000;fill-opacity:0.5;stroke:#008000;stroke-opacity:0.5;\" x=\"938.715676\" xlink:href=\"#m93fa14e1c5\" y=\"152.51165\"/>\n     <use style=\"fill:#008000;fill-opacity:0.5;stroke:#008000;stroke-opacity:0.5;\" x=\"892.563726\" xlink:href=\"#m93fa14e1c5\" y=\"130.272644\"/>\n     <use style=\"fill:#008000;fill-opacity:0.5;stroke:#008000;stroke-opacity:0.5;\" x=\"884.66771\" xlink:href=\"#m93fa14e1c5\" y=\"63.102739\"/>\n     <use style=\"fill:#008000;fill-opacity:0.5;stroke:#008000;stroke-opacity:0.5;\" x=\"913.685052\" xlink:href=\"#m93fa14e1c5\" y=\"175.875147\"/>\n     <use style=\"fill:#008000;fill-opacity:0.5;stroke:#008000;stroke-opacity:0.5;\" x=\"856.751264\" xlink:href=\"#m93fa14e1c5\" y=\"183.670687\"/>\n     <use style=\"fill:#008000;fill-opacity:0.5;stroke:#008000;stroke-opacity:0.5;\" x=\"874.174593\" xlink:href=\"#m93fa14e1c5\" y=\"177.639041\"/>\n     <use style=\"fill:#008000;fill-opacity:0.5;stroke:#008000;stroke-opacity:0.5;\" x=\"833.417762\" xlink:href=\"#m93fa14e1c5\" y=\"249.333845\"/>\n     <use style=\"fill:#008000;fill-opacity:0.5;stroke:#008000;stroke-opacity:0.5;\" x=\"867.941552\" xlink:href=\"#m93fa14e1c5\" y=\"186.184299\"/>\n     <use style=\"fill:#008000;fill-opacity:0.5;stroke:#008000;stroke-opacity:0.5;\" x=\"939.028935\" xlink:href=\"#m93fa14e1c5\" y=\"142.80952\"/>\n     <use style=\"fill:#008000;fill-opacity:0.5;stroke:#008000;stroke-opacity:0.5;\" x=\"859.650151\" xlink:href=\"#m93fa14e1c5\" y=\"194.721741\"/>\n     <use style=\"fill:#008000;fill-opacity:0.5;stroke:#008000;stroke-opacity:0.5;\" x=\"914.601264\" xlink:href=\"#m93fa14e1c5\" y=\"132.210035\"/>\n     <use style=\"fill:#008000;fill-opacity:0.5;stroke:#008000;stroke-opacity:0.5;\" x=\"866.296174\" xlink:href=\"#m93fa14e1c5\" y=\"178.915145\"/>\n     <use style=\"fill:#008000;fill-opacity:0.5;stroke:#008000;stroke-opacity:0.5;\" x=\"936.188384\" xlink:href=\"#m93fa14e1c5\" y=\"205.143499\"/>\n     <use style=\"fill:#008000;fill-opacity:0.5;stroke:#008000;stroke-opacity:0.5;\" x=\"948.133791\" xlink:href=\"#m93fa14e1c5\" y=\"167.425606\"/>\n     <use style=\"fill:#008000;fill-opacity:0.5;stroke:#008000;stroke-opacity:0.5;\" x=\"856.607892\" xlink:href=\"#m93fa14e1c5\" y=\"180.673556\"/>\n     <use style=\"fill:#008000;fill-opacity:0.5;stroke:#008000;stroke-opacity:0.5;\" x=\"966.420391\" xlink:href=\"#m93fa14e1c5\" y=\"152.331307\"/>\n     <use style=\"fill:#008000;fill-opacity:0.5;stroke:#008000;stroke-opacity:0.5;\" x=\"1015.060955\" xlink:href=\"#m93fa14e1c5\" y=\"156.324034\"/>\n     <use style=\"fill:#008000;fill-opacity:0.5;stroke:#008000;stroke-opacity:0.5;\" x=\"843.248974\" xlink:href=\"#m93fa14e1c5\" y=\"184.181333\"/>\n     <use style=\"fill:#008000;fill-opacity:0.5;stroke:#008000;stroke-opacity:0.5;\" x=\"898.333058\" xlink:href=\"#m93fa14e1c5\" y=\"171.142836\"/>\n     <use style=\"fill:#008000;fill-opacity:0.5;stroke:#008000;stroke-opacity:0.5;\" x=\"883.373102\" xlink:href=\"#m93fa14e1c5\" y=\"164.7557\"/>\n     <use style=\"fill:#008000;fill-opacity:0.5;stroke:#008000;stroke-opacity:0.5;\" x=\"928.834538\" xlink:href=\"#m93fa14e1c5\" y=\"201.64267\"/>\n     <use style=\"fill:#008000;fill-opacity:0.5;stroke:#008000;stroke-opacity:0.5;\" x=\"913.445946\" xlink:href=\"#m93fa14e1c5\" y=\"145.758212\"/>\n     <use style=\"fill:#008000;fill-opacity:0.5;stroke:#008000;stroke-opacity:0.5;\" x=\"934.946431\" xlink:href=\"#m93fa14e1c5\" y=\"151.347781\"/>\n     <use style=\"fill:#008000;fill-opacity:0.5;stroke:#008000;stroke-opacity:0.5;\" x=\"875.310032\" xlink:href=\"#m93fa14e1c5\" y=\"124.142195\"/>\n     <use style=\"fill:#008000;fill-opacity:0.5;stroke:#008000;stroke-opacity:0.5;\" x=\"872.76515\" xlink:href=\"#m93fa14e1c5\" y=\"203.224974\"/>\n     <use style=\"fill:#008000;fill-opacity:0.5;stroke:#008000;stroke-opacity:0.5;\" x=\"936.123555\" xlink:href=\"#m93fa14e1c5\" y=\"193.499206\"/>\n     <use style=\"fill:#008000;fill-opacity:0.5;stroke:#008000;stroke-opacity:0.5;\" x=\"928.234156\" xlink:href=\"#m93fa14e1c5\" y=\"180.338428\"/>\n     <use style=\"fill:#008000;fill-opacity:0.5;stroke:#008000;stroke-opacity:0.5;\" x=\"939.034756\" xlink:href=\"#m93fa14e1c5\" y=\"171.413113\"/>\n     <use style=\"fill:#008000;fill-opacity:0.5;stroke:#008000;stroke-opacity:0.5;\" x=\"881.321895\" xlink:href=\"#m93fa14e1c5\" y=\"208.289593\"/>\n     <use style=\"fill:#008000;fill-opacity:0.5;stroke:#008000;stroke-opacity:0.5;\" x=\"885.849317\" xlink:href=\"#m93fa14e1c5\" y=\"226.249514\"/>\n     <use style=\"fill:#008000;fill-opacity:0.5;stroke:#008000;stroke-opacity:0.5;\" x=\"896.567262\" xlink:href=\"#m93fa14e1c5\" y=\"158.647936\"/>\n     <use style=\"fill:#008000;fill-opacity:0.5;stroke:#008000;stroke-opacity:0.5;\" x=\"922.585078\" xlink:href=\"#m93fa14e1c5\" y=\"152.904196\"/>\n     <use style=\"fill:#008000;fill-opacity:0.5;stroke:#008000;stroke-opacity:0.5;\" x=\"919.047005\" xlink:href=\"#m93fa14e1c5\" y=\"146.599428\"/>\n     <use style=\"fill:#008000;fill-opacity:0.5;stroke:#008000;stroke-opacity:0.5;\" x=\"846.629501\" xlink:href=\"#m93fa14e1c5\" y=\"193.993153\"/>\n     <use style=\"fill:#008000;fill-opacity:0.5;stroke:#008000;stroke-opacity:0.5;\" x=\"884.685616\" xlink:href=\"#m93fa14e1c5\" y=\"197.843203\"/>\n     <use style=\"fill:#008000;fill-opacity:0.5;stroke:#008000;stroke-opacity:0.5;\" x=\"930.096929\" xlink:href=\"#m93fa14e1c5\" y=\"209.789047\"/>\n     <use style=\"fill:#008000;fill-opacity:0.5;stroke:#008000;stroke-opacity:0.5;\" x=\"832.082283\" xlink:href=\"#m93fa14e1c5\" y=\"190.223025\"/>\n     <use style=\"fill:#008000;fill-opacity:0.5;stroke:#008000;stroke-opacity:0.5;\" x=\"919.423998\" xlink:href=\"#m93fa14e1c5\" y=\"241.220208\"/>\n     <use style=\"fill:#008000;fill-opacity:0.5;stroke:#008000;stroke-opacity:0.5;\" x=\"952.81879\" xlink:href=\"#m93fa14e1c5\" y=\"248.14528\"/>\n     <use style=\"fill:#008000;fill-opacity:0.5;stroke:#008000;stroke-opacity:0.5;\" x=\"910.146964\" xlink:href=\"#m93fa14e1c5\" y=\"93.96432\"/>\n     <use style=\"fill:#008000;fill-opacity:0.5;stroke:#008000;stroke-opacity:0.5;\" x=\"930.08349\" xlink:href=\"#m93fa14e1c5\" y=\"155.841936\"/>\n     <use style=\"fill:#008000;fill-opacity:0.5;stroke:#008000;stroke-opacity:0.5;\" x=\"857.193132\" xlink:href=\"#m93fa14e1c5\" y=\"177.899499\"/>\n     <use style=\"fill:#008000;fill-opacity:0.5;stroke:#008000;stroke-opacity:0.5;\" x=\"908.628854\" xlink:href=\"#m93fa14e1c5\" y=\"87.875339\"/>\n     <use style=\"fill:#008000;fill-opacity:0.5;stroke:#008000;stroke-opacity:0.5;\" x=\"923.638527\" xlink:href=\"#m93fa14e1c5\" y=\"151.489759\"/>\n     <use style=\"fill:#008000;fill-opacity:0.5;stroke:#008000;stroke-opacity:0.5;\" x=\"909.077267\" xlink:href=\"#m93fa14e1c5\" y=\"206.067888\"/>\n     <use style=\"fill:#008000;fill-opacity:0.5;stroke:#008000;stroke-opacity:0.5;\" x=\"929.238939\" xlink:href=\"#m93fa14e1c5\" y=\"226.761147\"/>\n     <use style=\"fill:#008000;fill-opacity:0.5;stroke:#008000;stroke-opacity:0.5;\" x=\"882.864845\" xlink:href=\"#m93fa14e1c5\" y=\"180.112048\"/>\n     <use style=\"fill:#008000;fill-opacity:0.5;stroke:#008000;stroke-opacity:0.5;\" x=\"901.31804\" xlink:href=\"#m93fa14e1c5\" y=\"174.632792\"/>\n     <use style=\"fill:#008000;fill-opacity:0.5;stroke:#008000;stroke-opacity:0.5;\" x=\"929.575525\" xlink:href=\"#m93fa14e1c5\" y=\"149.27421\"/>\n     <use style=\"fill:#008000;fill-opacity:0.5;stroke:#008000;stroke-opacity:0.5;\" x=\"910.395208\" xlink:href=\"#m93fa14e1c5\" y=\"124.591553\"/>\n     <use style=\"fill:#008000;fill-opacity:0.5;stroke:#008000;stroke-opacity:0.5;\" x=\"916.899311\" xlink:href=\"#m93fa14e1c5\" y=\"157.567776\"/>\n     <use style=\"fill:#008000;fill-opacity:0.5;stroke:#008000;stroke-opacity:0.5;\" x=\"909.267889\" xlink:href=\"#m93fa14e1c5\" y=\"108.935698\"/>\n     <use style=\"fill:#008000;fill-opacity:0.5;stroke:#008000;stroke-opacity:0.5;\" x=\"946.287285\" xlink:href=\"#m93fa14e1c5\" y=\"218.312903\"/>\n     <use style=\"fill:#008000;fill-opacity:0.5;stroke:#008000;stroke-opacity:0.5;\" x=\"867.594717\" xlink:href=\"#m93fa14e1c5\" y=\"178.723615\"/>\n     <use style=\"fill:#008000;fill-opacity:0.5;stroke:#008000;stroke-opacity:0.5;\" x=\"865.106859\" xlink:href=\"#m93fa14e1c5\" y=\"130.108621\"/>\n     <use style=\"fill:#008000;fill-opacity:0.5;stroke:#008000;stroke-opacity:0.5;\" x=\"920.000407\" xlink:href=\"#m93fa14e1c5\" y=\"189.584789\"/>\n     <use style=\"fill:#008000;fill-opacity:0.5;stroke:#008000;stroke-opacity:0.5;\" x=\"866.151289\" xlink:href=\"#m93fa14e1c5\" y=\"184.916224\"/>\n     <use style=\"fill:#008000;fill-opacity:0.5;stroke:#008000;stroke-opacity:0.5;\" x=\"898.958475\" xlink:href=\"#m93fa14e1c5\" y=\"189.069351\"/>\n     <use style=\"fill:#008000;fill-opacity:0.5;stroke:#008000;stroke-opacity:0.5;\" x=\"935.163776\" xlink:href=\"#m93fa14e1c5\" y=\"193.681244\"/>\n     <use style=\"fill:#008000;fill-opacity:0.5;stroke:#008000;stroke-opacity:0.5;\" x=\"901.127255\" xlink:href=\"#m93fa14e1c5\" y=\"217.577813\"/>\n     <use style=\"fill:#008000;fill-opacity:0.5;stroke:#008000;stroke-opacity:0.5;\" x=\"933.946529\" xlink:href=\"#m93fa14e1c5\" y=\"188.350652\"/>\n     <use style=\"fill:#008000;fill-opacity:0.5;stroke:#008000;stroke-opacity:0.5;\" x=\"951.00072\" xlink:href=\"#m93fa14e1c5\" y=\"191.600722\"/>\n     <use style=\"fill:#008000;fill-opacity:0.5;stroke:#008000;stroke-opacity:0.5;\" x=\"859.388619\" xlink:href=\"#m93fa14e1c5\" y=\"163.108932\"/>\n     <use style=\"fill:#008000;fill-opacity:0.5;stroke:#008000;stroke-opacity:0.5;\" x=\"932.704446\" xlink:href=\"#m93fa14e1c5\" y=\"150.172427\"/>\n     <use style=\"fill:#008000;fill-opacity:0.5;stroke:#008000;stroke-opacity:0.5;\" x=\"930.477561\" xlink:href=\"#m93fa14e1c5\" y=\"120.720378\"/>\n     <use style=\"fill:#008000;fill-opacity:0.5;stroke:#008000;stroke-opacity:0.5;\" x=\"925.870671\" xlink:href=\"#m93fa14e1c5\" y=\"143.864656\"/>\n     <use style=\"fill:#008000;fill-opacity:0.5;stroke:#008000;stroke-opacity:0.5;\" x=\"955.642315\" xlink:href=\"#m93fa14e1c5\" y=\"157.473032\"/>\n     <use style=\"fill:#008000;fill-opacity:0.5;stroke:#008000;stroke-opacity:0.5;\" x=\"884.961389\" xlink:href=\"#m93fa14e1c5\" y=\"73.655807\"/>\n     <use style=\"fill:#008000;fill-opacity:0.5;stroke:#008000;stroke-opacity:0.5;\" x=\"916.912429\" xlink:href=\"#m93fa14e1c5\" y=\"200.551243\"/>\n     <use style=\"fill:#008000;fill-opacity:0.5;stroke:#008000;stroke-opacity:0.5;\" x=\"893.337854\" xlink:href=\"#m93fa14e1c5\" y=\"191.617467\"/>\n     <use style=\"fill:#008000;fill-opacity:0.5;stroke:#008000;stroke-opacity:0.5;\" x=\"852.581013\" xlink:href=\"#m93fa14e1c5\" y=\"165.419737\"/>\n     <use style=\"fill:#008000;fill-opacity:0.5;stroke:#008000;stroke-opacity:0.5;\" x=\"961.042469\" xlink:href=\"#m93fa14e1c5\" y=\"165.805095\"/>\n     <use style=\"fill:#008000;fill-opacity:0.5;stroke:#008000;stroke-opacity:0.5;\" x=\"881.46227\" xlink:href=\"#m93fa14e1c5\" y=\"146.08788\"/>\n     <use style=\"fill:#008000;fill-opacity:0.5;stroke:#008000;stroke-opacity:0.5;\" x=\"889.823004\" xlink:href=\"#m93fa14e1c5\" y=\"189.159944\"/>\n     <use style=\"fill:#008000;fill-opacity:0.5;stroke:#008000;stroke-opacity:0.5;\" x=\"926.52588\" xlink:href=\"#m93fa14e1c5\" y=\"160.51278\"/>\n     <use style=\"fill:#008000;fill-opacity:0.5;stroke:#008000;stroke-opacity:0.5;\" x=\"905.762373\" xlink:href=\"#m93fa14e1c5\" y=\"194.167613\"/>\n     <use style=\"fill:#008000;fill-opacity:0.5;stroke:#008000;stroke-opacity:0.5;\" x=\"906.642987\" xlink:href=\"#m93fa14e1c5\" y=\"177.723751\"/>\n     <use style=\"fill:#008000;fill-opacity:0.5;stroke:#008000;stroke-opacity:0.5;\" x=\"931.461647\" xlink:href=\"#m93fa14e1c5\" y=\"181.757595\"/>\n     <use style=\"fill:#008000;fill-opacity:0.5;stroke:#008000;stroke-opacity:0.5;\" x=\"871.346918\" xlink:href=\"#m93fa14e1c5\" y=\"198.723208\"/>\n     <use style=\"fill:#008000;fill-opacity:0.5;stroke:#008000;stroke-opacity:0.5;\" x=\"919.438565\" xlink:href=\"#m93fa14e1c5\" y=\"209.61588\"/>\n     <use style=\"fill:#008000;fill-opacity:0.5;stroke:#008000;stroke-opacity:0.5;\" x=\"885.984234\" xlink:href=\"#m93fa14e1c5\" y=\"137.994857\"/>\n     <use style=\"fill:#008000;fill-opacity:0.5;stroke:#008000;stroke-opacity:0.5;\" x=\"928.344312\" xlink:href=\"#m93fa14e1c5\" y=\"180.817809\"/>\n     <use style=\"fill:#008000;fill-opacity:0.5;stroke:#008000;stroke-opacity:0.5;\" x=\"925.127024\" xlink:href=\"#m93fa14e1c5\" y=\"167.634117\"/>\n     <use style=\"fill:#008000;fill-opacity:0.5;stroke:#008000;stroke-opacity:0.5;\" x=\"850.922147\" xlink:href=\"#m93fa14e1c5\" y=\"139.694548\"/>\n     <use style=\"fill:#008000;fill-opacity:0.5;stroke:#008000;stroke-opacity:0.5;\" x=\"887.514469\" xlink:href=\"#m93fa14e1c5\" y=\"214.499324\"/>\n     <use style=\"fill:#008000;fill-opacity:0.5;stroke:#008000;stroke-opacity:0.5;\" x=\"926.724937\" xlink:href=\"#m93fa14e1c5\" y=\"181.20902\"/>\n     <use style=\"fill:#008000;fill-opacity:0.5;stroke:#008000;stroke-opacity:0.5;\" x=\"857.862174\" xlink:href=\"#m93fa14e1c5\" y=\"202.582927\"/>\n     <use style=\"fill:#008000;fill-opacity:0.5;stroke:#008000;stroke-opacity:0.5;\" x=\"881.844326\" xlink:href=\"#m93fa14e1c5\" y=\"117.903673\"/>\n     <use style=\"fill:#008000;fill-opacity:0.5;stroke:#008000;stroke-opacity:0.5;\" x=\"909.690356\" xlink:href=\"#m93fa14e1c5\" y=\"198.981851\"/>\n     <use style=\"fill:#008000;fill-opacity:0.5;stroke:#008000;stroke-opacity:0.5;\" x=\"914.235884\" xlink:href=\"#m93fa14e1c5\" y=\"120.475735\"/>\n     <use style=\"fill:#008000;fill-opacity:0.5;stroke:#008000;stroke-opacity:0.5;\" x=\"947.780423\" xlink:href=\"#m93fa14e1c5\" y=\"195.202143\"/>\n     <use style=\"fill:#008000;fill-opacity:0.5;stroke:#008000;stroke-opacity:0.5;\" x=\"938.997861\" xlink:href=\"#m93fa14e1c5\" y=\"166.102918\"/>\n     <use style=\"fill:#008000;fill-opacity:0.5;stroke:#008000;stroke-opacity:0.5;\" x=\"914.645683\" xlink:href=\"#m93fa14e1c5\" y=\"123.824379\"/>\n     <use style=\"fill:#008000;fill-opacity:0.5;stroke:#008000;stroke-opacity:0.5;\" x=\"868.578041\" xlink:href=\"#m93fa14e1c5\" y=\"182.915207\"/>\n     <use style=\"fill:#008000;fill-opacity:0.5;stroke:#008000;stroke-opacity:0.5;\" x=\"924.654678\" xlink:href=\"#m93fa14e1c5\" y=\"143.210712\"/>\n     <use style=\"fill:#008000;fill-opacity:0.5;stroke:#008000;stroke-opacity:0.5;\" x=\"920.485886\" xlink:href=\"#m93fa14e1c5\" y=\"157.51928\"/>\n     <use style=\"fill:#008000;fill-opacity:0.5;stroke:#008000;stroke-opacity:0.5;\" x=\"892.332636\" xlink:href=\"#m93fa14e1c5\" y=\"92.331303\"/>\n     <use style=\"fill:#008000;fill-opacity:0.5;stroke:#008000;stroke-opacity:0.5;\" x=\"922.456027\" xlink:href=\"#m93fa14e1c5\" y=\"227.037738\"/>\n     <use style=\"fill:#008000;fill-opacity:0.5;stroke:#008000;stroke-opacity:0.5;\" x=\"887.923256\" xlink:href=\"#m93fa14e1c5\" y=\"195.432909\"/>\n     <use style=\"fill:#008000;fill-opacity:0.5;stroke:#008000;stroke-opacity:0.5;\" x=\"933.678592\" xlink:href=\"#m93fa14e1c5\" y=\"194.842372\"/>\n     <use style=\"fill:#008000;fill-opacity:0.5;stroke:#008000;stroke-opacity:0.5;\" x=\"948.39552\" xlink:href=\"#m93fa14e1c5\" y=\"168.549116\"/>\n     <use style=\"fill:#008000;fill-opacity:0.5;stroke:#008000;stroke-opacity:0.5;\" x=\"887.00983\" xlink:href=\"#m93fa14e1c5\" y=\"153.435083\"/>\n     <use style=\"fill:#008000;fill-opacity:0.5;stroke:#008000;stroke-opacity:0.5;\" x=\"899.927212\" xlink:href=\"#m93fa14e1c5\" y=\"186.286175\"/>\n     <use style=\"fill:#008000;fill-opacity:0.5;stroke:#008000;stroke-opacity:0.5;\" x=\"907.612527\" xlink:href=\"#m93fa14e1c5\" y=\"172.66973\"/>\n     <use style=\"fill:#008000;fill-opacity:0.5;stroke:#008000;stroke-opacity:0.5;\" x=\"879.762244\" xlink:href=\"#m93fa14e1c5\" y=\"155.81598\"/>\n     <use style=\"fill:#008000;fill-opacity:0.5;stroke:#008000;stroke-opacity:0.5;\" x=\"867.293103\" xlink:href=\"#m93fa14e1c5\" y=\"201.505824\"/>\n     <use style=\"fill:#008000;fill-opacity:0.5;stroke:#008000;stroke-opacity:0.5;\" x=\"945.536187\" xlink:href=\"#m93fa14e1c5\" y=\"182.44418\"/>\n     <use style=\"fill:#008000;fill-opacity:0.5;stroke:#008000;stroke-opacity:0.5;\" x=\"890.421299\" xlink:href=\"#m93fa14e1c5\" y=\"227.777982\"/>\n     <use style=\"fill:#008000;fill-opacity:0.5;stroke:#008000;stroke-opacity:0.5;\" x=\"846.233969\" xlink:href=\"#m93fa14e1c5\" y=\"162.432353\"/>\n     <use style=\"fill:#008000;fill-opacity:0.5;stroke:#008000;stroke-opacity:0.5;\" x=\"879.748299\" xlink:href=\"#m93fa14e1c5\" y=\"150.680846\"/>\n     <use style=\"fill:#008000;fill-opacity:0.5;stroke:#008000;stroke-opacity:0.5;\" x=\"903.792064\" xlink:href=\"#m93fa14e1c5\" y=\"153.015531\"/>\n     <use style=\"fill:#008000;fill-opacity:0.5;stroke:#008000;stroke-opacity:0.5;\" x=\"879.215839\" xlink:href=\"#m93fa14e1c5\" y=\"219.711033\"/>\n     <use style=\"fill:#008000;fill-opacity:0.5;stroke:#008000;stroke-opacity:0.5;\" x=\"873.357209\" xlink:href=\"#m93fa14e1c5\" y=\"161.621877\"/>\n     <use style=\"fill:#008000;fill-opacity:0.5;stroke:#008000;stroke-opacity:0.5;\" x=\"906.767859\" xlink:href=\"#m93fa14e1c5\" y=\"166.084366\"/>\n     <use style=\"fill:#008000;fill-opacity:0.5;stroke:#008000;stroke-opacity:0.5;\" x=\"851.736918\" xlink:href=\"#m93fa14e1c5\" y=\"241.712906\"/>\n     <use style=\"fill:#008000;fill-opacity:0.5;stroke:#008000;stroke-opacity:0.5;\" x=\"909.9438\" xlink:href=\"#m93fa14e1c5\" y=\"232.703064\"/>\n     <use style=\"fill:#008000;fill-opacity:0.5;stroke:#008000;stroke-opacity:0.5;\" x=\"922.190273\" xlink:href=\"#m93fa14e1c5\" y=\"135.682275\"/>\n     <use style=\"fill:#008000;fill-opacity:0.5;stroke:#008000;stroke-opacity:0.5;\" x=\"900.955725\" xlink:href=\"#m93fa14e1c5\" y=\"165.28902\"/>\n     <use style=\"fill:#008000;fill-opacity:0.5;stroke:#008000;stroke-opacity:0.5;\" x=\"926.722966\" xlink:href=\"#m93fa14e1c5\" y=\"183.439603\"/>\n     <use style=\"fill:#008000;fill-opacity:0.5;stroke:#008000;stroke-opacity:0.5;\" x=\"946.584034\" xlink:href=\"#m93fa14e1c5\" y=\"191.866659\"/>\n     <use style=\"fill:#008000;fill-opacity:0.5;stroke:#008000;stroke-opacity:0.5;\" x=\"955.829648\" xlink:href=\"#m93fa14e1c5\" y=\"209.569907\"/>\n     <use style=\"fill:#008000;fill-opacity:0.5;stroke:#008000;stroke-opacity:0.5;\" x=\"873.393129\" xlink:href=\"#m93fa14e1c5\" y=\"205.698014\"/>\n     <use style=\"fill:#008000;fill-opacity:0.5;stroke:#008000;stroke-opacity:0.5;\" x=\"930.3838\" xlink:href=\"#m93fa14e1c5\" y=\"132.108296\"/>\n     <use style=\"fill:#008000;fill-opacity:0.5;stroke:#008000;stroke-opacity:0.5;\" x=\"959.731111\" xlink:href=\"#m93fa14e1c5\" y=\"134.541919\"/>\n     <use style=\"fill:#008000;fill-opacity:0.5;stroke:#008000;stroke-opacity:0.5;\" x=\"873.444634\" xlink:href=\"#m93fa14e1c5\" y=\"185.194321\"/>\n     <use style=\"fill:#008000;fill-opacity:0.5;stroke:#008000;stroke-opacity:0.5;\" x=\"901.899025\" xlink:href=\"#m93fa14e1c5\" y=\"180.687048\"/>\n     <use style=\"fill:#008000;fill-opacity:0.5;stroke:#008000;stroke-opacity:0.5;\" x=\"899.656459\" xlink:href=\"#m93fa14e1c5\" y=\"150.462905\"/>\n     <use style=\"fill:#008000;fill-opacity:0.5;stroke:#008000;stroke-opacity:0.5;\" x=\"873.253761\" xlink:href=\"#m93fa14e1c5\" y=\"136.872889\"/>\n     <use style=\"fill:#008000;fill-opacity:0.5;stroke:#008000;stroke-opacity:0.5;\" x=\"926.807939\" xlink:href=\"#m93fa14e1c5\" y=\"209.088433\"/>\n     <use style=\"fill:#008000;fill-opacity:0.5;stroke:#008000;stroke-opacity:0.5;\" x=\"912.483059\" xlink:href=\"#m93fa14e1c5\" y=\"154.118577\"/>\n     <use style=\"fill:#008000;fill-opacity:0.5;stroke:#008000;stroke-opacity:0.5;\" x=\"935.450001\" xlink:href=\"#m93fa14e1c5\" y=\"171.421217\"/>\n     <use style=\"fill:#008000;fill-opacity:0.5;stroke:#008000;stroke-opacity:0.5;\" x=\"927.088694\" xlink:href=\"#m93fa14e1c5\" y=\"173.930679\"/>\n     <use style=\"fill:#008000;fill-opacity:0.5;stroke:#008000;stroke-opacity:0.5;\" x=\"860.482538\" xlink:href=\"#m93fa14e1c5\" y=\"238.087059\"/>\n     <use style=\"fill:#008000;fill-opacity:0.5;stroke:#008000;stroke-opacity:0.5;\" x=\"884.447023\" xlink:href=\"#m93fa14e1c5\" y=\"161.12752\"/>\n     <use style=\"fill:#008000;fill-opacity:0.5;stroke:#008000;stroke-opacity:0.5;\" x=\"859.986869\" xlink:href=\"#m93fa14e1c5\" y=\"174.305786\"/>\n     <use style=\"fill:#008000;fill-opacity:0.5;stroke:#008000;stroke-opacity:0.5;\" x=\"913.60412\" xlink:href=\"#m93fa14e1c5\" y=\"197.055341\"/>\n     <use style=\"fill:#008000;fill-opacity:0.5;stroke:#008000;stroke-opacity:0.5;\" x=\"935.15222\" xlink:href=\"#m93fa14e1c5\" y=\"155.194382\"/>\n     <use style=\"fill:#008000;fill-opacity:0.5;stroke:#008000;stroke-opacity:0.5;\" x=\"935.901582\" xlink:href=\"#m93fa14e1c5\" y=\"174.848586\"/>\n     <use style=\"fill:#008000;fill-opacity:0.5;stroke:#008000;stroke-opacity:0.5;\" x=\"947.928554\" xlink:href=\"#m93fa14e1c5\" y=\"218.384236\"/>\n     <use style=\"fill:#008000;fill-opacity:0.5;stroke:#008000;stroke-opacity:0.5;\" x=\"954.888098\" xlink:href=\"#m93fa14e1c5\" y=\"133.346296\"/>\n     <use style=\"fill:#008000;fill-opacity:0.5;stroke:#008000;stroke-opacity:0.5;\" x=\"868.87396\" xlink:href=\"#m93fa14e1c5\" y=\"183.64269\"/>\n     <use style=\"fill:#008000;fill-opacity:0.5;stroke:#008000;stroke-opacity:0.5;\" x=\"914.471762\" xlink:href=\"#m93fa14e1c5\" y=\"115.102417\"/>\n     <use style=\"fill:#008000;fill-opacity:0.5;stroke:#008000;stroke-opacity:0.5;\" x=\"894.68363\" xlink:href=\"#m93fa14e1c5\" y=\"195.338016\"/>\n     <use style=\"fill:#008000;fill-opacity:0.5;stroke:#008000;stroke-opacity:0.5;\" x=\"905.071924\" xlink:href=\"#m93fa14e1c5\" y=\"171.370917\"/>\n     <use style=\"fill:#008000;fill-opacity:0.5;stroke:#008000;stroke-opacity:0.5;\" x=\"932.801429\" xlink:href=\"#m93fa14e1c5\" y=\"194.881436\"/>\n     <use style=\"fill:#008000;fill-opacity:0.5;stroke:#008000;stroke-opacity:0.5;\" x=\"953.695706\" xlink:href=\"#m93fa14e1c5\" y=\"197.219732\"/>\n     <use style=\"fill:#008000;fill-opacity:0.5;stroke:#008000;stroke-opacity:0.5;\" x=\"907.290212\" xlink:href=\"#m93fa14e1c5\" y=\"216.476854\"/>\n     <use style=\"fill:#008000;fill-opacity:0.5;stroke:#008000;stroke-opacity:0.5;\" x=\"891.12633\" xlink:href=\"#m93fa14e1c5\" y=\"159.231943\"/>\n     <use style=\"fill:#008000;fill-opacity:0.5;stroke:#008000;stroke-opacity:0.5;\" x=\"901.159164\" xlink:href=\"#m93fa14e1c5\" y=\"134.038547\"/>\n     <use style=\"fill:#008000;fill-opacity:0.5;stroke:#008000;stroke-opacity:0.5;\" x=\"977.407414\" xlink:href=\"#m93fa14e1c5\" y=\"203.581974\"/>\n     <use style=\"fill:#008000;fill-opacity:0.5;stroke:#008000;stroke-opacity:0.5;\" x=\"887.896608\" xlink:href=\"#m93fa14e1c5\" y=\"73.823065\"/>\n     <use style=\"fill:#008000;fill-opacity:0.5;stroke:#008000;stroke-opacity:0.5;\" x=\"920.466516\" xlink:href=\"#m93fa14e1c5\" y=\"184.843093\"/>\n     <use style=\"fill:#008000;fill-opacity:0.5;stroke:#008000;stroke-opacity:0.5;\" x=\"894.90078\" xlink:href=\"#m93fa14e1c5\" y=\"194.185093\"/>\n     <use style=\"fill:#008000;fill-opacity:0.5;stroke:#008000;stroke-opacity:0.5;\" x=\"935.921451\" xlink:href=\"#m93fa14e1c5\" y=\"167.995345\"/>\n     <use style=\"fill:#008000;fill-opacity:0.5;stroke:#008000;stroke-opacity:0.5;\" x=\"917.610937\" xlink:href=\"#m93fa14e1c5\" y=\"162.204704\"/>\n     <use style=\"fill:#008000;fill-opacity:0.5;stroke:#008000;stroke-opacity:0.5;\" x=\"938.549121\" xlink:href=\"#m93fa14e1c5\" y=\"135.335983\"/>\n     <use style=\"fill:#008000;fill-opacity:0.5;stroke:#008000;stroke-opacity:0.5;\" x=\"966.870729\" xlink:href=\"#m93fa14e1c5\" y=\"211.757798\"/>\n     <use style=\"fill:#008000;fill-opacity:0.5;stroke:#008000;stroke-opacity:0.5;\" x=\"915.588771\" xlink:href=\"#m93fa14e1c5\" y=\"174.09291\"/>\n     <use style=\"fill:#008000;fill-opacity:0.5;stroke:#008000;stroke-opacity:0.5;\" x=\"936.645143\" xlink:href=\"#m93fa14e1c5\" y=\"185.477019\"/>\n     <use style=\"fill:#008000;fill-opacity:0.5;stroke:#008000;stroke-opacity:0.5;\" x=\"945.253687\" xlink:href=\"#m93fa14e1c5\" y=\"210.016999\"/>\n     <use style=\"fill:#008000;fill-opacity:0.5;stroke:#008000;stroke-opacity:0.5;\" x=\"877.160629\" xlink:href=\"#m93fa14e1c5\" y=\"160.625135\"/>\n     <use style=\"fill:#008000;fill-opacity:0.5;stroke:#008000;stroke-opacity:0.5;\" x=\"871.510984\" xlink:href=\"#m93fa14e1c5\" y=\"162.883285\"/>\n     <use style=\"fill:#008000;fill-opacity:0.5;stroke:#008000;stroke-opacity:0.5;\" x=\"902.517266\" xlink:href=\"#m93fa14e1c5\" y=\"214.533795\"/>\n     <use style=\"fill:#008000;fill-opacity:0.5;stroke:#008000;stroke-opacity:0.5;\" x=\"917.077317\" xlink:href=\"#m93fa14e1c5\" y=\"163.44559\"/>\n     <use style=\"fill:#008000;fill-opacity:0.5;stroke:#008000;stroke-opacity:0.5;\" x=\"855.281974\" xlink:href=\"#m93fa14e1c5\" y=\"137.864305\"/>\n     <use style=\"fill:#008000;fill-opacity:0.5;stroke:#008000;stroke-opacity:0.5;\" x=\"862.484966\" xlink:href=\"#m93fa14e1c5\" y=\"176.931297\"/>\n     <use style=\"fill:#008000;fill-opacity:0.5;stroke:#008000;stroke-opacity:0.5;\" x=\"899.545225\" xlink:href=\"#m93fa14e1c5\" y=\"167.211676\"/>\n     <use style=\"fill:#008000;fill-opacity:0.5;stroke:#008000;stroke-opacity:0.5;\" x=\"868.106561\" xlink:href=\"#m93fa14e1c5\" y=\"223.764802\"/>\n     <use style=\"fill:#008000;fill-opacity:0.5;stroke:#008000;stroke-opacity:0.5;\" x=\"863.545244\" xlink:href=\"#m93fa14e1c5\" y=\"183.755196\"/>\n     <use style=\"fill:#008000;fill-opacity:0.5;stroke:#008000;stroke-opacity:0.5;\" x=\"846.275098\" xlink:href=\"#m93fa14e1c5\" y=\"183.596383\"/>\n     <use style=\"fill:#008000;fill-opacity:0.5;stroke:#008000;stroke-opacity:0.5;\" x=\"884.372391\" xlink:href=\"#m93fa14e1c5\" y=\"137.732452\"/>\n     <use style=\"fill:#008000;fill-opacity:0.5;stroke:#008000;stroke-opacity:0.5;\" x=\"875.955203\" xlink:href=\"#m93fa14e1c5\" y=\"167.123229\"/>\n     <use style=\"fill:#008000;fill-opacity:0.5;stroke:#008000;stroke-opacity:0.5;\" x=\"941.445142\" xlink:href=\"#m93fa14e1c5\" y=\"201.263072\"/>\n     <use style=\"fill:#008000;fill-opacity:0.5;stroke:#008000;stroke-opacity:0.5;\" x=\"905.693456\" xlink:href=\"#m93fa14e1c5\" y=\"188.44167\"/>\n     <use style=\"fill:#008000;fill-opacity:0.5;stroke:#008000;stroke-opacity:0.5;\" x=\"900.076989\" xlink:href=\"#m93fa14e1c5\" y=\"223.133748\"/>\n     <use style=\"fill:#008000;fill-opacity:0.5;stroke:#008000;stroke-opacity:0.5;\" x=\"867.752572\" xlink:href=\"#m93fa14e1c5\" y=\"188.090462\"/>\n     <use style=\"fill:#008000;fill-opacity:0.5;stroke:#008000;stroke-opacity:0.5;\" x=\"899.561725\" xlink:href=\"#m93fa14e1c5\" y=\"164.207006\"/>\n     <use style=\"fill:#008000;fill-opacity:0.5;stroke:#008000;stroke-opacity:0.5;\" x=\"904.59644\" xlink:href=\"#m93fa14e1c5\" y=\"192.689129\"/>\n     <use style=\"fill:#008000;fill-opacity:0.5;stroke:#008000;stroke-opacity:0.5;\" x=\"885.367938\" xlink:href=\"#m93fa14e1c5\" y=\"126.658328\"/>\n     <use style=\"fill:#008000;fill-opacity:0.5;stroke:#008000;stroke-opacity:0.5;\" x=\"911.526599\" xlink:href=\"#m93fa14e1c5\" y=\"198.141717\"/>\n     <use style=\"fill:#008000;fill-opacity:0.5;stroke:#008000;stroke-opacity:0.5;\" x=\"856.586824\" xlink:href=\"#m93fa14e1c5\" y=\"189.5191\"/>\n     <use style=\"fill:#008000;fill-opacity:0.5;stroke:#008000;stroke-opacity:0.5;\" x=\"885.64068\" xlink:href=\"#m93fa14e1c5\" y=\"167.856659\"/>\n     <use style=\"fill:#008000;fill-opacity:0.5;stroke:#008000;stroke-opacity:0.5;\" x=\"901.958594\" xlink:href=\"#m93fa14e1c5\" y=\"129.006016\"/>\n     <use style=\"fill:#008000;fill-opacity:0.5;stroke:#008000;stroke-opacity:0.5;\" x=\"869.412829\" xlink:href=\"#m93fa14e1c5\" y=\"123.095672\"/>\n     <use style=\"fill:#008000;fill-opacity:0.5;stroke:#008000;stroke-opacity:0.5;\" x=\"904.095771\" xlink:href=\"#m93fa14e1c5\" y=\"179.697543\"/>\n     <use style=\"fill:#008000;fill-opacity:0.5;stroke:#008000;stroke-opacity:0.5;\" x=\"856.975334\" xlink:href=\"#m93fa14e1c5\" y=\"145.618142\"/>\n     <use style=\"fill:#008000;fill-opacity:0.5;stroke:#008000;stroke-opacity:0.5;\" x=\"913.887823\" xlink:href=\"#m93fa14e1c5\" y=\"243.857634\"/>\n     <use style=\"fill:#008000;fill-opacity:0.5;stroke:#008000;stroke-opacity:0.5;\" x=\"907.418087\" xlink:href=\"#m93fa14e1c5\" y=\"173.906133\"/>\n     <use style=\"fill:#008000;fill-opacity:0.5;stroke:#008000;stroke-opacity:0.5;\" x=\"943.792823\" xlink:href=\"#m93fa14e1c5\" y=\"179.581089\"/>\n     <use style=\"fill:#008000;fill-opacity:0.5;stroke:#008000;stroke-opacity:0.5;\" x=\"887.085677\" xlink:href=\"#m93fa14e1c5\" y=\"178.420406\"/>\n     <use style=\"fill:#008000;fill-opacity:0.5;stroke:#008000;stroke-opacity:0.5;\" x=\"932.608799\" xlink:href=\"#m93fa14e1c5\" y=\"102.582646\"/>\n     <use style=\"fill:#008000;fill-opacity:0.5;stroke:#008000;stroke-opacity:0.5;\" x=\"895.697481\" xlink:href=\"#m93fa14e1c5\" y=\"213.776472\"/>\n     <use style=\"fill:#008000;fill-opacity:0.5;stroke:#008000;stroke-opacity:0.5;\" x=\"936.443579\" xlink:href=\"#m93fa14e1c5\" y=\"207.814112\"/>\n     <use style=\"fill:#008000;fill-opacity:0.5;stroke:#008000;stroke-opacity:0.5;\" x=\"876.053292\" xlink:href=\"#m93fa14e1c5\" y=\"187.052145\"/>\n     <use style=\"fill:#008000;fill-opacity:0.5;stroke:#008000;stroke-opacity:0.5;\" x=\"924.601178\" xlink:href=\"#m93fa14e1c5\" y=\"201.878515\"/>\n     <use style=\"fill:#008000;fill-opacity:0.5;stroke:#008000;stroke-opacity:0.5;\" x=\"929.275918\" xlink:href=\"#m93fa14e1c5\" y=\"183.622401\"/>\n     <use style=\"fill:#008000;fill-opacity:0.5;stroke:#008000;stroke-opacity:0.5;\" x=\"940.604508\" xlink:href=\"#m93fa14e1c5\" y=\"158.253795\"/>\n     <use style=\"fill:#008000;fill-opacity:0.5;stroke:#008000;stroke-opacity:0.5;\" x=\"924.972494\" xlink:href=\"#m93fa14e1c5\" y=\"100.375351\"/>\n     <use style=\"fill:#008000;fill-opacity:0.5;stroke:#008000;stroke-opacity:0.5;\" x=\"878.179033\" xlink:href=\"#m93fa14e1c5\" y=\"198.827341\"/>\n     <use style=\"fill:#008000;fill-opacity:0.5;stroke:#008000;stroke-opacity:0.5;\" x=\"935.00898\" xlink:href=\"#m93fa14e1c5\" y=\"215.792698\"/>\n     <use style=\"fill:#008000;fill-opacity:0.5;stroke:#008000;stroke-opacity:0.5;\" x=\"916.180642\" xlink:href=\"#m93fa14e1c5\" y=\"172.752516\"/>\n     <use style=\"fill:#008000;fill-opacity:0.5;stroke:#008000;stroke-opacity:0.5;\" x=\"932.353682\" xlink:href=\"#m93fa14e1c5\" y=\"172.217617\"/>\n     <use style=\"fill:#008000;fill-opacity:0.5;stroke:#008000;stroke-opacity:0.5;\" x=\"905.357235\" xlink:href=\"#m93fa14e1c5\" y=\"159.174494\"/>\n     <use style=\"fill:#008000;fill-opacity:0.5;stroke:#008000;stroke-opacity:0.5;\" x=\"876.240018\" xlink:href=\"#m93fa14e1c5\" y=\"200.454419\"/>\n     <use style=\"fill:#008000;fill-opacity:0.5;stroke:#008000;stroke-opacity:0.5;\" x=\"924.233974\" xlink:href=\"#m93fa14e1c5\" y=\"139.234794\"/>\n     <use style=\"fill:#008000;fill-opacity:0.5;stroke:#008000;stroke-opacity:0.5;\" x=\"937.698591\" xlink:href=\"#m93fa14e1c5\" y=\"167.501526\"/>\n     <use style=\"fill:#008000;fill-opacity:0.5;stroke:#008000;stroke-opacity:0.5;\" x=\"870.778069\" xlink:href=\"#m93fa14e1c5\" y=\"146.21032\"/>\n     <use style=\"fill:#008000;fill-opacity:0.5;stroke:#008000;stroke-opacity:0.5;\" x=\"902.915923\" xlink:href=\"#m93fa14e1c5\" y=\"211.357937\"/>\n     <use style=\"fill:#008000;fill-opacity:0.5;stroke:#008000;stroke-opacity:0.5;\" x=\"858.904261\" xlink:href=\"#m93fa14e1c5\" y=\"154.26102\"/>\n     <use style=\"fill:#008000;fill-opacity:0.5;stroke:#008000;stroke-opacity:0.5;\" x=\"826.140782\" xlink:href=\"#m93fa14e1c5\" y=\"199.994378\"/>\n     <use style=\"fill:#008000;fill-opacity:0.5;stroke:#008000;stroke-opacity:0.5;\" x=\"889.947611\" xlink:href=\"#m93fa14e1c5\" y=\"230.77941\"/>\n     <use style=\"fill:#008000;fill-opacity:0.5;stroke:#008000;stroke-opacity:0.5;\" x=\"952.293595\" xlink:href=\"#m93fa14e1c5\" y=\"139.575271\"/>\n     <use style=\"fill:#008000;fill-opacity:0.5;stroke:#008000;stroke-opacity:0.5;\" x=\"892.107349\" xlink:href=\"#m93fa14e1c5\" y=\"209.779244\"/>\n     <use style=\"fill:#008000;fill-opacity:0.5;stroke:#008000;stroke-opacity:0.5;\" x=\"876.759603\" xlink:href=\"#m93fa14e1c5\" y=\"140.265083\"/>\n     <use style=\"fill:#008000;fill-opacity:0.5;stroke:#008000;stroke-opacity:0.5;\" x=\"918.565922\" xlink:href=\"#m93fa14e1c5\" y=\"116.384918\"/>\n     <use style=\"fill:#008000;fill-opacity:0.5;stroke:#008000;stroke-opacity:0.5;\" x=\"922.060261\" xlink:href=\"#m93fa14e1c5\" y=\"151.59348\"/>\n     <use style=\"fill:#008000;fill-opacity:0.5;stroke:#008000;stroke-opacity:0.5;\" x=\"888.501679\" xlink:href=\"#m93fa14e1c5\" y=\"116.767272\"/>\n     <use style=\"fill:#008000;fill-opacity:0.5;stroke:#008000;stroke-opacity:0.5;\" x=\"888.826919\" xlink:href=\"#m93fa14e1c5\" y=\"184.599309\"/>\n     <use style=\"fill:#008000;fill-opacity:0.5;stroke:#008000;stroke-opacity:0.5;\" x=\"854.131268\" xlink:href=\"#m93fa14e1c5\" y=\"169.38637\"/>\n     <use style=\"fill:#008000;fill-opacity:0.5;stroke:#008000;stroke-opacity:0.5;\" x=\"911.055705\" xlink:href=\"#m93fa14e1c5\" y=\"175.856815\"/>\n     <use style=\"fill:#008000;fill-opacity:0.5;stroke:#008000;stroke-opacity:0.5;\" x=\"923.174119\" xlink:href=\"#m93fa14e1c5\" y=\"142.079872\"/>\n     <use style=\"fill:#008000;fill-opacity:0.5;stroke:#008000;stroke-opacity:0.5;\" x=\"937.651911\" xlink:href=\"#m93fa14e1c5\" y=\"170.027044\"/>\n     <use style=\"fill:#008000;fill-opacity:0.5;stroke:#008000;stroke-opacity:0.5;\" x=\"933.444876\" xlink:href=\"#m93fa14e1c5\" y=\"191.893266\"/>\n     <use style=\"fill:#008000;fill-opacity:0.5;stroke:#008000;stroke-opacity:0.5;\" x=\"871.541423\" xlink:href=\"#m93fa14e1c5\" y=\"196.128723\"/>\n     <use style=\"fill:#008000;fill-opacity:0.5;stroke:#008000;stroke-opacity:0.5;\" x=\"870.539695\" xlink:href=\"#m93fa14e1c5\" y=\"166.155576\"/>\n     <use style=\"fill:#008000;fill-opacity:0.5;stroke:#008000;stroke-opacity:0.5;\" x=\"883.069406\" xlink:href=\"#m93fa14e1c5\" y=\"145.159967\"/>\n     <use style=\"fill:#008000;fill-opacity:0.5;stroke:#008000;stroke-opacity:0.5;\" x=\"874.961492\" xlink:href=\"#m93fa14e1c5\" y=\"54.026996\"/>\n     <use style=\"fill:#008000;fill-opacity:0.5;stroke:#008000;stroke-opacity:0.5;\" x=\"924.262391\" xlink:href=\"#m93fa14e1c5\" y=\"163.403527\"/>\n     <use style=\"fill:#008000;fill-opacity:0.5;stroke:#008000;stroke-opacity:0.5;\" x=\"1003.35179\" xlink:href=\"#m93fa14e1c5\" y=\"221.131034\"/>\n     <use style=\"fill:#008000;fill-opacity:0.5;stroke:#008000;stroke-opacity:0.5;\" x=\"900.206778\" xlink:href=\"#m93fa14e1c5\" y=\"171.971242\"/>\n     <use style=\"fill:#008000;fill-opacity:0.5;stroke:#008000;stroke-opacity:0.5;\" x=\"865.031689\" xlink:href=\"#m93fa14e1c5\" y=\"164.975278\"/>\n     <use style=\"fill:#008000;fill-opacity:0.5;stroke:#008000;stroke-opacity:0.5;\" x=\"917.549298\" xlink:href=\"#m93fa14e1c5\" y=\"186.319317\"/>\n     <use style=\"fill:#008000;fill-opacity:0.5;stroke:#008000;stroke-opacity:0.5;\" x=\"900.091303\" xlink:href=\"#m93fa14e1c5\" y=\"120.068528\"/>\n     <use style=\"fill:#008000;fill-opacity:0.5;stroke:#008000;stroke-opacity:0.5;\" x=\"866.256132\" xlink:href=\"#m93fa14e1c5\" y=\"158.607514\"/>\n     <use style=\"fill:#008000;fill-opacity:0.5;stroke:#008000;stroke-opacity:0.5;\" x=\"916.566761\" xlink:href=\"#m93fa14e1c5\" y=\"149.854352\"/>\n     <use style=\"fill:#008000;fill-opacity:0.5;stroke:#008000;stroke-opacity:0.5;\" x=\"915.484187\" xlink:href=\"#m93fa14e1c5\" y=\"161.896455\"/>\n     <use style=\"fill:#008000;fill-opacity:0.5;stroke:#008000;stroke-opacity:0.5;\" x=\"914.953316\" xlink:href=\"#m93fa14e1c5\" y=\"209.358173\"/>\n     <use style=\"fill:#008000;fill-opacity:0.5;stroke:#008000;stroke-opacity:0.5;\" x=\"913.367199\" xlink:href=\"#m93fa14e1c5\" y=\"155.591892\"/>\n     <use style=\"fill:#008000;fill-opacity:0.5;stroke:#008000;stroke-opacity:0.5;\" x=\"903.921695\" xlink:href=\"#m93fa14e1c5\" y=\"164.10276\"/>\n     <use style=\"fill:#008000;fill-opacity:0.5;stroke:#008000;stroke-opacity:0.5;\" x=\"891.74106\" xlink:href=\"#m93fa14e1c5\" y=\"161.07615\"/>\n     <use style=\"fill:#008000;fill-opacity:0.5;stroke:#008000;stroke-opacity:0.5;\" x=\"895.335885\" xlink:href=\"#m93fa14e1c5\" y=\"161.926905\"/>\n     <use style=\"fill:#008000;fill-opacity:0.5;stroke:#008000;stroke-opacity:0.5;\" x=\"872.556745\" xlink:href=\"#m93fa14e1c5\" y=\"168.295107\"/>\n     <use style=\"fill:#008000;fill-opacity:0.5;stroke:#008000;stroke-opacity:0.5;\" x=\"921.605117\" xlink:href=\"#m93fa14e1c5\" y=\"150.145226\"/>\n     <use style=\"fill:#008000;fill-opacity:0.5;stroke:#008000;stroke-opacity:0.5;\" x=\"919.77051\" xlink:href=\"#m93fa14e1c5\" y=\"128.269858\"/>\n     <use style=\"fill:#008000;fill-opacity:0.5;stroke:#008000;stroke-opacity:0.5;\" x=\"940.52812\" xlink:href=\"#m93fa14e1c5\" y=\"140.978594\"/>\n     <use style=\"fill:#008000;fill-opacity:0.5;stroke:#008000;stroke-opacity:0.5;\" x=\"877.109948\" xlink:href=\"#m93fa14e1c5\" y=\"182.342075\"/>\n     <use style=\"fill:#008000;fill-opacity:0.5;stroke:#008000;stroke-opacity:0.5;\" x=\"875.578162\" xlink:href=\"#m93fa14e1c5\" y=\"169.933939\"/>\n     <use style=\"fill:#008000;fill-opacity:0.5;stroke:#008000;stroke-opacity:0.5;\" x=\"862.228129\" xlink:href=\"#m93fa14e1c5\" y=\"176.970458\"/>\n     <use style=\"fill:#008000;fill-opacity:0.5;stroke:#008000;stroke-opacity:0.5;\" x=\"845.740334\" xlink:href=\"#m93fa14e1c5\" y=\"125.559061\"/>\n     <use style=\"fill:#008000;fill-opacity:0.5;stroke:#008000;stroke-opacity:0.5;\" x=\"943.024089\" xlink:href=\"#m93fa14e1c5\" y=\"125.488754\"/>\n     <use style=\"fill:#008000;fill-opacity:0.5;stroke:#008000;stroke-opacity:0.5;\" x=\"874.524898\" xlink:href=\"#m93fa14e1c5\" y=\"187.917751\"/>\n     <use style=\"fill:#008000;fill-opacity:0.5;stroke:#008000;stroke-opacity:0.5;\" x=\"915.410398\" xlink:href=\"#m93fa14e1c5\" y=\"154.855317\"/>\n     <use style=\"fill:#008000;fill-opacity:0.5;stroke:#008000;stroke-opacity:0.5;\" x=\"931.327524\" xlink:href=\"#m93fa14e1c5\" y=\"180.279135\"/>\n     <use style=\"fill:#008000;fill-opacity:0.5;stroke:#008000;stroke-opacity:0.5;\" x=\"924.236053\" xlink:href=\"#m93fa14e1c5\" y=\"127.667167\"/>\n     <use style=\"fill:#008000;fill-opacity:0.5;stroke:#008000;stroke-opacity:0.5;\" x=\"864.77309\" xlink:href=\"#m93fa14e1c5\" y=\"166.571482\"/>\n     <use style=\"fill:#008000;fill-opacity:0.5;stroke:#008000;stroke-opacity:0.5;\" x=\"937.607433\" xlink:href=\"#m93fa14e1c5\" y=\"243.152126\"/>\n     <use style=\"fill:#008000;fill-opacity:0.5;stroke:#008000;stroke-opacity:0.5;\" x=\"868.636958\" xlink:href=\"#m93fa14e1c5\" y=\"154.785042\"/>\n     <use style=\"fill:#008000;fill-opacity:0.5;stroke:#008000;stroke-opacity:0.5;\" x=\"892.135851\" xlink:href=\"#m93fa14e1c5\" y=\"178.193402\"/>\n     <use style=\"fill:#008000;fill-opacity:0.5;stroke:#008000;stroke-opacity:0.5;\" x=\"877.930989\" xlink:href=\"#m93fa14e1c5\" y=\"159.273116\"/>\n     <use style=\"fill:#008000;fill-opacity:0.5;stroke:#008000;stroke-opacity:0.5;\" x=\"859.196073\" xlink:href=\"#m93fa14e1c5\" y=\"217.587688\"/>\n     <use style=\"fill:#008000;fill-opacity:0.5;stroke:#008000;stroke-opacity:0.5;\" x=\"894.673126\" xlink:href=\"#m93fa14e1c5\" y=\"160.822713\"/>\n     <use style=\"fill:#008000;fill-opacity:0.5;stroke:#008000;stroke-opacity:0.5;\" x=\"852.919688\" xlink:href=\"#m93fa14e1c5\" y=\"161.559274\"/>\n     <use style=\"fill:#008000;fill-opacity:0.5;stroke:#008000;stroke-opacity:0.5;\" x=\"857.284322\" xlink:href=\"#m93fa14e1c5\" y=\"223.390137\"/>\n     <use style=\"fill:#008000;fill-opacity:0.5;stroke:#008000;stroke-opacity:0.5;\" x=\"907.185237\" xlink:href=\"#m93fa14e1c5\" y=\"198.181751\"/>\n     <use style=\"fill:#008000;fill-opacity:0.5;stroke:#008000;stroke-opacity:0.5;\" x=\"826.818693\" xlink:href=\"#m93fa14e1c5\" y=\"145.492329\"/>\n     <use style=\"fill:#008000;fill-opacity:0.5;stroke:#008000;stroke-opacity:0.5;\" x=\"835.390586\" xlink:href=\"#m93fa14e1c5\" y=\"145.79308\"/>\n     <use style=\"fill:#008000;fill-opacity:0.5;stroke:#008000;stroke-opacity:0.5;\" x=\"987.411016\" xlink:href=\"#m93fa14e1c5\" y=\"139.697171\"/>\n     <use style=\"fill:#008000;fill-opacity:0.5;stroke:#008000;stroke-opacity:0.5;\" x=\"840.645926\" xlink:href=\"#m93fa14e1c5\" y=\"142.533529\"/>\n     <use style=\"fill:#008000;fill-opacity:0.5;stroke:#008000;stroke-opacity:0.5;\" x=\"976.395917\" xlink:href=\"#m93fa14e1c5\" y=\"177.250459\"/>\n     <use style=\"fill:#008000;fill-opacity:0.5;stroke:#008000;stroke-opacity:0.5;\" x=\"924.245641\" xlink:href=\"#m93fa14e1c5\" y=\"193.045371\"/>\n     <use style=\"fill:#008000;fill-opacity:0.5;stroke:#008000;stroke-opacity:0.5;\" x=\"898.382098\" xlink:href=\"#m93fa14e1c5\" y=\"170.429848\"/>\n     <use style=\"fill:#008000;fill-opacity:0.5;stroke:#008000;stroke-opacity:0.5;\" x=\"907.414322\" xlink:href=\"#m93fa14e1c5\" y=\"175.781331\"/>\n     <use style=\"fill:#008000;fill-opacity:0.5;stroke:#008000;stroke-opacity:0.5;\" x=\"921.798539\" xlink:href=\"#m93fa14e1c5\" y=\"209.44571\"/>\n     <use style=\"fill:#008000;fill-opacity:0.5;stroke:#008000;stroke-opacity:0.5;\" x=\"859.587209\" xlink:href=\"#m93fa14e1c5\" y=\"173.428276\"/>\n     <use style=\"fill:#008000;fill-opacity:0.5;stroke:#008000;stroke-opacity:0.5;\" x=\"871.221253\" xlink:href=\"#m93fa14e1c5\" y=\"168.770541\"/>\n     <use style=\"fill:#008000;fill-opacity:0.5;stroke:#008000;stroke-opacity:0.5;\" x=\"878.529344\" xlink:href=\"#m93fa14e1c5\" y=\"108.243285\"/>\n     <use style=\"fill:#008000;fill-opacity:0.5;stroke:#008000;stroke-opacity:0.5;\" x=\"850.450804\" xlink:href=\"#m93fa14e1c5\" y=\"190.587273\"/>\n     <use style=\"fill:#008000;fill-opacity:0.5;stroke:#008000;stroke-opacity:0.5;\" x=\"929.82653\" xlink:href=\"#m93fa14e1c5\" y=\"119.332408\"/>\n     <use style=\"fill:#008000;fill-opacity:0.5;stroke:#008000;stroke-opacity:0.5;\" x=\"905.976963\" xlink:href=\"#m93fa14e1c5\" y=\"206.366796\"/>\n     <use style=\"fill:#008000;fill-opacity:0.5;stroke:#008000;stroke-opacity:0.5;\" x=\"945.463612\" xlink:href=\"#m93fa14e1c5\" y=\"154.116344\"/>\n     <use style=\"fill:#008000;fill-opacity:0.5;stroke:#008000;stroke-opacity:0.5;\" x=\"905.157522\" xlink:href=\"#m93fa14e1c5\" y=\"201.760738\"/>\n     <use style=\"fill:#008000;fill-opacity:0.5;stroke:#008000;stroke-opacity:0.5;\" x=\"934.238775\" xlink:href=\"#m93fa14e1c5\" y=\"173.531903\"/>\n     <use style=\"fill:#008000;fill-opacity:0.5;stroke:#008000;stroke-opacity:0.5;\" x=\"886.016427\" xlink:href=\"#m93fa14e1c5\" y=\"153.145881\"/>\n     <use style=\"fill:#008000;fill-opacity:0.5;stroke:#008000;stroke-opacity:0.5;\" x=\"915.537712\" xlink:href=\"#m93fa14e1c5\" y=\"172.285059\"/>\n     <use style=\"fill:#008000;fill-opacity:0.5;stroke:#008000;stroke-opacity:0.5;\" x=\"920.058896\" xlink:href=\"#m93fa14e1c5\" y=\"195.829104\"/>\n     <use style=\"fill:#008000;fill-opacity:0.5;stroke:#008000;stroke-opacity:0.5;\" x=\"929.518248\" xlink:href=\"#m93fa14e1c5\" y=\"186.961831\"/>\n     <use style=\"fill:#008000;fill-opacity:0.5;stroke:#008000;stroke-opacity:0.5;\" x=\"962.77304\" xlink:href=\"#m93fa14e1c5\" y=\"197.997548\"/>\n     <use style=\"fill:#008000;fill-opacity:0.5;stroke:#008000;stroke-opacity:0.5;\" x=\"946.629651\" xlink:href=\"#m93fa14e1c5\" y=\"162.342815\"/>\n     <use style=\"fill:#008000;fill-opacity:0.5;stroke:#008000;stroke-opacity:0.5;\" x=\"907.296933\" xlink:href=\"#m93fa14e1c5\" y=\"120.270384\"/>\n     <use style=\"fill:#008000;fill-opacity:0.5;stroke:#008000;stroke-opacity:0.5;\" x=\"868.466268\" xlink:href=\"#m93fa14e1c5\" y=\"119.56036\"/>\n     <use style=\"fill:#008000;fill-opacity:0.5;stroke:#008000;stroke-opacity:0.5;\" x=\"855.267042\" xlink:href=\"#m93fa14e1c5\" y=\"181.548604\"/>\n     <use style=\"fill:#008000;fill-opacity:0.5;stroke:#008000;stroke-opacity:0.5;\" x=\"900.295448\" xlink:href=\"#m93fa14e1c5\" y=\"204.776301\"/>\n     <use style=\"fill:#008000;fill-opacity:0.5;stroke:#008000;stroke-opacity:0.5;\" x=\"926.331971\" xlink:href=\"#m93fa14e1c5\" y=\"221.858116\"/>\n     <use style=\"fill:#008000;fill-opacity:0.5;stroke:#008000;stroke-opacity:0.5;\" x=\"921.029119\" xlink:href=\"#m93fa14e1c5\" y=\"237.632605\"/>\n     <use style=\"fill:#008000;fill-opacity:0.5;stroke:#008000;stroke-opacity:0.5;\" x=\"880.521546\" xlink:href=\"#m93fa14e1c5\" y=\"131.182995\"/>\n     <use style=\"fill:#008000;fill-opacity:0.5;stroke:#008000;stroke-opacity:0.5;\" x=\"856.066376\" xlink:href=\"#m93fa14e1c5\" y=\"198.448919\"/>\n     <use style=\"fill:#008000;fill-opacity:0.5;stroke:#008000;stroke-opacity:0.5;\" x=\"912.092791\" xlink:href=\"#m93fa14e1c5\" y=\"158.961922\"/>\n     <use style=\"fill:#008000;fill-opacity:0.5;stroke:#008000;stroke-opacity:0.5;\" x=\"902.300589\" xlink:href=\"#m93fa14e1c5\" y=\"185.29213\"/>\n     <use style=\"fill:#008000;fill-opacity:0.5;stroke:#008000;stroke-opacity:0.5;\" x=\"910.257424\" xlink:href=\"#m93fa14e1c5\" y=\"138.137231\"/>\n     <use style=\"fill:#008000;fill-opacity:0.5;stroke:#008000;stroke-opacity:0.5;\" x=\"857.535528\" xlink:href=\"#m93fa14e1c5\" y=\"175.346351\"/>\n     <use style=\"fill:#008000;fill-opacity:0.5;stroke:#008000;stroke-opacity:0.5;\" x=\"915.861511\" xlink:href=\"#m93fa14e1c5\" y=\"117.25677\"/>\n     <use style=\"fill:#008000;fill-opacity:0.5;stroke:#008000;stroke-opacity:0.5;\" x=\"866.594136\" xlink:href=\"#m93fa14e1c5\" y=\"156.24344\"/>\n     <use style=\"fill:#008000;fill-opacity:0.5;stroke:#008000;stroke-opacity:0.5;\" x=\"921.827605\" xlink:href=\"#m93fa14e1c5\" y=\"232.607327\"/>\n     <use style=\"fill:#008000;fill-opacity:0.5;stroke:#008000;stroke-opacity:0.5;\" x=\"925.073466\" xlink:href=\"#m93fa14e1c5\" y=\"148.340518\"/>\n     <use style=\"fill:#008000;fill-opacity:0.5;stroke:#008000;stroke-opacity:0.5;\" x=\"853.979425\" xlink:href=\"#m93fa14e1c5\" y=\"169.772167\"/>\n     <use style=\"fill:#008000;fill-opacity:0.5;stroke:#008000;stroke-opacity:0.5;\" x=\"922.212281\" xlink:href=\"#m93fa14e1c5\" y=\"183.887294\"/>\n     <use style=\"fill:#008000;fill-opacity:0.5;stroke:#008000;stroke-opacity:0.5;\" x=\"842.408946\" xlink:href=\"#m93fa14e1c5\" y=\"207.876241\"/>\n     <use style=\"fill:#008000;fill-opacity:0.5;stroke:#008000;stroke-opacity:0.5;\" x=\"901.259669\" xlink:href=\"#m93fa14e1c5\" y=\"130.661918\"/>\n     <use style=\"fill:#008000;fill-opacity:0.5;stroke:#008000;stroke-opacity:0.5;\" x=\"912.655488\" xlink:href=\"#m93fa14e1c5\" y=\"209.035994\"/>\n     <use style=\"fill:#008000;fill-opacity:0.5;stroke:#008000;stroke-opacity:0.5;\" x=\"839.558554\" xlink:href=\"#m93fa14e1c5\" y=\"165.440061\"/>\n     <use style=\"fill:#008000;fill-opacity:0.5;stroke:#008000;stroke-opacity:0.5;\" x=\"877.184456\" xlink:href=\"#m93fa14e1c5\" y=\"163.64339\"/>\n     <use style=\"fill:#008000;fill-opacity:0.5;stroke:#008000;stroke-opacity:0.5;\" x=\"908.526624\" xlink:href=\"#m93fa14e1c5\" y=\"124.481353\"/>\n     <use style=\"fill:#008000;fill-opacity:0.5;stroke:#008000;stroke-opacity:0.5;\" x=\"892.496209\" xlink:href=\"#m93fa14e1c5\" y=\"175.534215\"/>\n     <use style=\"fill:#008000;fill-opacity:0.5;stroke:#008000;stroke-opacity:0.5;\" x=\"896.340057\" xlink:href=\"#m93fa14e1c5\" y=\"286.533004\"/>\n     <use style=\"fill:#008000;fill-opacity:0.5;stroke:#008000;stroke-opacity:0.5;\" x=\"904.613616\" xlink:href=\"#m93fa14e1c5\" y=\"226.884596\"/>\n     <use style=\"fill:#008000;fill-opacity:0.5;stroke:#008000;stroke-opacity:0.5;\" x=\"952.736102\" xlink:href=\"#m93fa14e1c5\" y=\"134.404218\"/>\n     <use style=\"fill:#008000;fill-opacity:0.5;stroke:#008000;stroke-opacity:0.5;\" x=\"866.256544\" xlink:href=\"#m93fa14e1c5\" y=\"114.07562\"/>\n     <use style=\"fill:#008000;fill-opacity:0.5;stroke:#008000;stroke-opacity:0.5;\" x=\"938.154769\" xlink:href=\"#m93fa14e1c5\" y=\"91.872226\"/>\n     <use style=\"fill:#008000;fill-opacity:0.5;stroke:#008000;stroke-opacity:0.5;\" x=\"965.071612\" xlink:href=\"#m93fa14e1c5\" y=\"153.667264\"/>\n     <use style=\"fill:#008000;fill-opacity:0.5;stroke:#008000;stroke-opacity:0.5;\" x=\"883.965437\" xlink:href=\"#m93fa14e1c5\" y=\"176.786326\"/>\n     <use style=\"fill:#008000;fill-opacity:0.5;stroke:#008000;stroke-opacity:0.5;\" x=\"860.382508\" xlink:href=\"#m93fa14e1c5\" y=\"122.02278\"/>\n     <use style=\"fill:#008000;fill-opacity:0.5;stroke:#008000;stroke-opacity:0.5;\" x=\"948.737083\" xlink:href=\"#m93fa14e1c5\" y=\"148.448559\"/>\n     <use style=\"fill:#008000;fill-opacity:0.5;stroke:#008000;stroke-opacity:0.5;\" x=\"924.019429\" xlink:href=\"#m93fa14e1c5\" y=\"163.773402\"/>\n     <use style=\"fill:#008000;fill-opacity:0.5;stroke:#008000;stroke-opacity:0.5;\" x=\"916.614869\" xlink:href=\"#m93fa14e1c5\" y=\"141.157347\"/>\n     <use style=\"fill:#008000;fill-opacity:0.5;stroke:#008000;stroke-opacity:0.5;\" x=\"924.332594\" xlink:href=\"#m93fa14e1c5\" y=\"163.014225\"/>\n     <use style=\"fill:#008000;fill-opacity:0.5;stroke:#008000;stroke-opacity:0.5;\" x=\"923.948828\" xlink:href=\"#m93fa14e1c5\" y=\"160.617451\"/>\n     <use style=\"fill:#008000;fill-opacity:0.5;stroke:#008000;stroke-opacity:0.5;\" x=\"908.430933\" xlink:href=\"#m93fa14e1c5\" y=\"173.548118\"/>\n     <use style=\"fill:#008000;fill-opacity:0.5;stroke:#008000;stroke-opacity:0.5;\" x=\"926.83973\" xlink:href=\"#m93fa14e1c5\" y=\"250.351211\"/>\n     <use style=\"fill:#008000;fill-opacity:0.5;stroke:#008000;stroke-opacity:0.5;\" x=\"888.02642\" xlink:href=\"#m93fa14e1c5\" y=\"232.147973\"/>\n     <use style=\"fill:#008000;fill-opacity:0.5;stroke:#008000;stroke-opacity:0.5;\" x=\"885.133489\" xlink:href=\"#m93fa14e1c5\" y=\"146.457761\"/>\n     <use style=\"fill:#008000;fill-opacity:0.5;stroke:#008000;stroke-opacity:0.5;\" x=\"922.565415\" xlink:href=\"#m93fa14e1c5\" y=\"149.553163\"/>\n     <use style=\"fill:#008000;fill-opacity:0.5;stroke:#008000;stroke-opacity:0.5;\" x=\"873.342545\" xlink:href=\"#m93fa14e1c5\" y=\"165.488302\"/>\n     <use style=\"fill:#008000;fill-opacity:0.5;stroke:#008000;stroke-opacity:0.5;\" x=\"940.877249\" xlink:href=\"#m93fa14e1c5\" y=\"178.810704\"/>\n     <use style=\"fill:#008000;fill-opacity:0.5;stroke:#008000;stroke-opacity:0.5;\" x=\"890.807004\" xlink:href=\"#m93fa14e1c5\" y=\"123.001785\"/>\n     <use style=\"fill:#008000;fill-opacity:0.5;stroke:#008000;stroke-opacity:0.5;\" x=\"871.567918\" xlink:href=\"#m93fa14e1c5\" y=\"179.073309\"/>\n     <use style=\"fill:#008000;fill-opacity:0.5;stroke:#008000;stroke-opacity:0.5;\" x=\"865.947891\" xlink:href=\"#m93fa14e1c5\" y=\"178.019214\"/>\n     <use style=\"fill:#008000;fill-opacity:0.5;stroke:#008000;stroke-opacity:0.5;\" x=\"866.498165\" xlink:href=\"#m93fa14e1c5\" y=\"195.437506\"/>\n     <use style=\"fill:#008000;fill-opacity:0.5;stroke:#008000;stroke-opacity:0.5;\" x=\"885.168318\" xlink:href=\"#m93fa14e1c5\" y=\"145.485152\"/>\n     <use style=\"fill:#008000;fill-opacity:0.5;stroke:#008000;stroke-opacity:0.5;\" x=\"892.164787\" xlink:href=\"#m93fa14e1c5\" y=\"150.599623\"/>\n     <use style=\"fill:#008000;fill-opacity:0.5;stroke:#008000;stroke-opacity:0.5;\" x=\"928.055903\" xlink:href=\"#m93fa14e1c5\" y=\"172.165398\"/>\n     <use style=\"fill:#008000;fill-opacity:0.5;stroke:#008000;stroke-opacity:0.5;\" x=\"899.92699\" xlink:href=\"#m93fa14e1c5\" y=\"160.743259\"/>\n     <use style=\"fill:#008000;fill-opacity:0.5;stroke:#008000;stroke-opacity:0.5;\" x=\"951.678953\" xlink:href=\"#m93fa14e1c5\" y=\"211.596217\"/>\n     <use style=\"fill:#008000;fill-opacity:0.5;stroke:#008000;stroke-opacity:0.5;\" x=\"883.975059\" xlink:href=\"#m93fa14e1c5\" y=\"202.20158\"/>\n     <use style=\"fill:#008000;fill-opacity:0.5;stroke:#008000;stroke-opacity:0.5;\" x=\"930.623123\" xlink:href=\"#m93fa14e1c5\" y=\"129.737014\"/>\n     <use style=\"fill:#008000;fill-opacity:0.5;stroke:#008000;stroke-opacity:0.5;\" x=\"910.404803\" xlink:href=\"#m93fa14e1c5\" y=\"238.86149\"/>\n     <use style=\"fill:#008000;fill-opacity:0.5;stroke:#008000;stroke-opacity:0.5;\" x=\"933.983627\" xlink:href=\"#m93fa14e1c5\" y=\"128.198843\"/>\n     <use style=\"fill:#008000;fill-opacity:0.5;stroke:#008000;stroke-opacity:0.5;\" x=\"927.618096\" xlink:href=\"#m93fa14e1c5\" y=\"153.580462\"/>\n     <use style=\"fill:#008000;fill-opacity:0.5;stroke:#008000;stroke-opacity:0.5;\" x=\"958.981367\" xlink:href=\"#m93fa14e1c5\" y=\"167.729176\"/>\n     <use style=\"fill:#008000;fill-opacity:0.5;stroke:#008000;stroke-opacity:0.5;\" x=\"918.532255\" xlink:href=\"#m93fa14e1c5\" y=\"127.321914\"/>\n     <use style=\"fill:#008000;fill-opacity:0.5;stroke:#008000;stroke-opacity:0.5;\" x=\"898.720205\" xlink:href=\"#m93fa14e1c5\" y=\"112.673758\"/>\n     <use style=\"fill:#008000;fill-opacity:0.5;stroke:#008000;stroke-opacity:0.5;\" x=\"930.947182\" xlink:href=\"#m93fa14e1c5\" y=\"195.249206\"/>\n     <use style=\"fill:#008000;fill-opacity:0.5;stroke:#008000;stroke-opacity:0.5;\" x=\"892.673492\" xlink:href=\"#m93fa14e1c5\" y=\"146.265789\"/>\n     <use style=\"fill:#008000;fill-opacity:0.5;stroke:#008000;stroke-opacity:0.5;\" x=\"909.739674\" xlink:href=\"#m93fa14e1c5\" y=\"140.927519\"/>\n     <use style=\"fill:#008000;fill-opacity:0.5;stroke:#008000;stroke-opacity:0.5;\" x=\"925.578507\" xlink:href=\"#m93fa14e1c5\" y=\"198.714952\"/>\n     <use style=\"fill:#008000;fill-opacity:0.5;stroke:#008000;stroke-opacity:0.5;\" x=\"932.998262\" xlink:href=\"#m93fa14e1c5\" y=\"141.559653\"/>\n     <use style=\"fill:#008000;fill-opacity:0.5;stroke:#008000;stroke-opacity:0.5;\" x=\"882.717459\" xlink:href=\"#m93fa14e1c5\" y=\"106.092676\"/>\n     <use style=\"fill:#008000;fill-opacity:0.5;stroke:#008000;stroke-opacity:0.5;\" x=\"949.750399\" xlink:href=\"#m93fa14e1c5\" y=\"140.884312\"/>\n     <use style=\"fill:#008000;fill-opacity:0.5;stroke:#008000;stroke-opacity:0.5;\" x=\"972.203087\" xlink:href=\"#m93fa14e1c5\" y=\"181.700779\"/>\n     <use style=\"fill:#008000;fill-opacity:0.5;stroke:#008000;stroke-opacity:0.5;\" x=\"952.912795\" xlink:href=\"#m93fa14e1c5\" y=\"182.915108\"/>\n     <use style=\"fill:#008000;fill-opacity:0.5;stroke:#008000;stroke-opacity:0.5;\" x=\"889.416655\" xlink:href=\"#m93fa14e1c5\" y=\"178.367486\"/>\n     <use style=\"fill:#008000;fill-opacity:0.5;stroke:#008000;stroke-opacity:0.5;\" x=\"917.596479\" xlink:href=\"#m93fa14e1c5\" y=\"146.477711\"/>\n     <use style=\"fill:#008000;fill-opacity:0.5;stroke:#008000;stroke-opacity:0.5;\" x=\"897.567817\" xlink:href=\"#m93fa14e1c5\" y=\"150.814405\"/>\n     <use style=\"fill:#008000;fill-opacity:0.5;stroke:#008000;stroke-opacity:0.5;\" x=\"915.187946\" xlink:href=\"#m93fa14e1c5\" y=\"155.66238\"/>\n     <use style=\"fill:#008000;fill-opacity:0.5;stroke:#008000;stroke-opacity:0.5;\" x=\"919.658983\" xlink:href=\"#m93fa14e1c5\" y=\"199.574624\"/>\n     <use style=\"fill:#008000;fill-opacity:0.5;stroke:#008000;stroke-opacity:0.5;\" x=\"877.255601\" xlink:href=\"#m93fa14e1c5\" y=\"199.857448\"/>\n     <use style=\"fill:#008000;fill-opacity:0.5;stroke:#008000;stroke-opacity:0.5;\" x=\"859.854215\" xlink:href=\"#m93fa14e1c5\" y=\"149.71927\"/>\n     <use style=\"fill:#008000;fill-opacity:0.5;stroke:#008000;stroke-opacity:0.5;\" x=\"861.1973\" xlink:href=\"#m93fa14e1c5\" y=\"156.62063\"/>\n     <use style=\"fill:#008000;fill-opacity:0.5;stroke:#008000;stroke-opacity:0.5;\" x=\"933.861224\" xlink:href=\"#m93fa14e1c5\" y=\"239.030839\"/>\n     <use style=\"fill:#008000;fill-opacity:0.5;stroke:#008000;stroke-opacity:0.5;\" x=\"892.569194\" xlink:href=\"#m93fa14e1c5\" y=\"177.303976\"/>\n     <use style=\"fill:#008000;fill-opacity:0.5;stroke:#008000;stroke-opacity:0.5;\" x=\"893.023344\" xlink:href=\"#m93fa14e1c5\" y=\"206.421571\"/>\n     <use style=\"fill:#008000;fill-opacity:0.5;stroke:#008000;stroke-opacity:0.5;\" x=\"881.730287\" xlink:href=\"#m93fa14e1c5\" y=\"171.720522\"/>\n     <use style=\"fill:#008000;fill-opacity:0.5;stroke:#008000;stroke-opacity:0.5;\" x=\"905.728666\" xlink:href=\"#m93fa14e1c5\" y=\"125.98071\"/>\n     <use style=\"fill:#008000;fill-opacity:0.5;stroke:#008000;stroke-opacity:0.5;\" x=\"926.147229\" xlink:href=\"#m93fa14e1c5\" y=\"220.324736\"/>\n     <use style=\"fill:#008000;fill-opacity:0.5;stroke:#008000;stroke-opacity:0.5;\" x=\"981.509073\" xlink:href=\"#m93fa14e1c5\" y=\"148.233524\"/>\n     <use style=\"fill:#008000;fill-opacity:0.5;stroke:#008000;stroke-opacity:0.5;\" x=\"860.189262\" xlink:href=\"#m93fa14e1c5\" y=\"137.444482\"/>\n     <use style=\"fill:#008000;fill-opacity:0.5;stroke:#008000;stroke-opacity:0.5;\" x=\"911.1131\" xlink:href=\"#m93fa14e1c5\" y=\"150.263692\"/>\n     <use style=\"fill:#008000;fill-opacity:0.5;stroke:#008000;stroke-opacity:0.5;\" x=\"903.023748\" xlink:href=\"#m93fa14e1c5\" y=\"168.037252\"/>\n     <use style=\"fill:#008000;fill-opacity:0.5;stroke:#008000;stroke-opacity:0.5;\" x=\"901.520143\" xlink:href=\"#m93fa14e1c5\" y=\"117.218609\"/>\n     <use style=\"fill:#008000;fill-opacity:0.5;stroke:#008000;stroke-opacity:0.5;\" x=\"915.649616\" xlink:href=\"#m93fa14e1c5\" y=\"164.069855\"/>\n     <use style=\"fill:#008000;fill-opacity:0.5;stroke:#008000;stroke-opacity:0.5;\" x=\"946.256035\" xlink:href=\"#m93fa14e1c5\" y=\"214.394662\"/>\n     <use style=\"fill:#008000;fill-opacity:0.5;stroke:#008000;stroke-opacity:0.5;\" x=\"859.542753\" xlink:href=\"#m93fa14e1c5\" y=\"161.624189\"/>\n     <use style=\"fill:#008000;fill-opacity:0.5;stroke:#008000;stroke-opacity:0.5;\" x=\"894.543915\" xlink:href=\"#m93fa14e1c5\" y=\"132.997207\"/>\n     <use style=\"fill:#008000;fill-opacity:0.5;stroke:#008000;stroke-opacity:0.5;\" x=\"848.06064\" xlink:href=\"#m93fa14e1c5\" y=\"171.091684\"/>\n     <use style=\"fill:#008000;fill-opacity:0.5;stroke:#008000;stroke-opacity:0.5;\" x=\"939.930986\" xlink:href=\"#m93fa14e1c5\" y=\"194.025998\"/>\n     <use style=\"fill:#008000;fill-opacity:0.5;stroke:#008000;stroke-opacity:0.5;\" x=\"878.810031\" xlink:href=\"#m93fa14e1c5\" y=\"127.108853\"/>\n     <use style=\"fill:#008000;fill-opacity:0.5;stroke:#008000;stroke-opacity:0.5;\" x=\"909.747618\" xlink:href=\"#m93fa14e1c5\" y=\"194.977504\"/>\n     <use style=\"fill:#008000;fill-opacity:0.5;stroke:#008000;stroke-opacity:0.5;\" x=\"924.187309\" xlink:href=\"#m93fa14e1c5\" y=\"167.976403\"/>\n     <use style=\"fill:#008000;fill-opacity:0.5;stroke:#008000;stroke-opacity:0.5;\" x=\"928.180556\" xlink:href=\"#m93fa14e1c5\" y=\"168.822122\"/>\n     <use style=\"fill:#008000;fill-opacity:0.5;stroke:#008000;stroke-opacity:0.5;\" x=\"903.535918\" xlink:href=\"#m93fa14e1c5\" y=\"187.271849\"/>\n     <use style=\"fill:#008000;fill-opacity:0.5;stroke:#008000;stroke-opacity:0.5;\" x=\"912.532125\" xlink:href=\"#m93fa14e1c5\" y=\"176.399068\"/>\n     <use style=\"fill:#008000;fill-opacity:0.5;stroke:#008000;stroke-opacity:0.5;\" x=\"914.459911\" xlink:href=\"#m93fa14e1c5\" y=\"170.592892\"/>\n     <use style=\"fill:#008000;fill-opacity:0.5;stroke:#008000;stroke-opacity:0.5;\" x=\"935.343609\" xlink:href=\"#m93fa14e1c5\" y=\"130.868375\"/>\n     <use style=\"fill:#008000;fill-opacity:0.5;stroke:#008000;stroke-opacity:0.5;\" x=\"846.961452\" xlink:href=\"#m93fa14e1c5\" y=\"205.230566\"/>\n     <use style=\"fill:#008000;fill-opacity:0.5;stroke:#008000;stroke-opacity:0.5;\" x=\"872.315917\" xlink:href=\"#m93fa14e1c5\" y=\"162.205014\"/>\n     <use style=\"fill:#008000;fill-opacity:0.5;stroke:#008000;stroke-opacity:0.5;\" x=\"925.317979\" xlink:href=\"#m93fa14e1c5\" y=\"136.835514\"/>\n     <use style=\"fill:#008000;fill-opacity:0.5;stroke:#008000;stroke-opacity:0.5;\" x=\"875.570481\" xlink:href=\"#m93fa14e1c5\" y=\"254.765333\"/>\n     <use style=\"fill:#008000;fill-opacity:0.5;stroke:#008000;stroke-opacity:0.5;\" x=\"949.649332\" xlink:href=\"#m93fa14e1c5\" y=\"183.611749\"/>\n     <use style=\"fill:#008000;fill-opacity:0.5;stroke:#008000;stroke-opacity:0.5;\" x=\"941.030134\" xlink:href=\"#m93fa14e1c5\" y=\"121.813878\"/>\n     <use style=\"fill:#008000;fill-opacity:0.5;stroke:#008000;stroke-opacity:0.5;\" x=\"867.142422\" xlink:href=\"#m93fa14e1c5\" y=\"180.254435\"/>\n     <use style=\"fill:#008000;fill-opacity:0.5;stroke:#008000;stroke-opacity:0.5;\" x=\"859.611731\" xlink:href=\"#m93fa14e1c5\" y=\"133.869487\"/>\n     <use style=\"fill:#008000;fill-opacity:0.5;stroke:#008000;stroke-opacity:0.5;\" x=\"840.911923\" xlink:href=\"#m93fa14e1c5\" y=\"196.428718\"/>\n     <use style=\"fill:#008000;fill-opacity:0.5;stroke:#008000;stroke-opacity:0.5;\" x=\"910.263297\" xlink:href=\"#m93fa14e1c5\" y=\"182.576329\"/>\n     <use style=\"fill:#008000;fill-opacity:0.5;stroke:#008000;stroke-opacity:0.5;\" x=\"909.392745\" xlink:href=\"#m93fa14e1c5\" y=\"191.247273\"/>\n     <use style=\"fill:#008000;fill-opacity:0.5;stroke:#008000;stroke-opacity:0.5;\" x=\"900.698549\" xlink:href=\"#m93fa14e1c5\" y=\"210.167164\"/>\n     <use style=\"fill:#008000;fill-opacity:0.5;stroke:#008000;stroke-opacity:0.5;\" x=\"916.394292\" xlink:href=\"#m93fa14e1c5\" y=\"190.047358\"/>\n     <use style=\"fill:#008000;fill-opacity:0.5;stroke:#008000;stroke-opacity:0.5;\" x=\"874.50111\" xlink:href=\"#m93fa14e1c5\" y=\"157.902642\"/>\n     <use style=\"fill:#008000;fill-opacity:0.5;stroke:#008000;stroke-opacity:0.5;\" x=\"931.302552\" xlink:href=\"#m93fa14e1c5\" y=\"186.7868\"/>\n     <use style=\"fill:#008000;fill-opacity:0.5;stroke:#008000;stroke-opacity:0.5;\" x=\"914.869813\" xlink:href=\"#m93fa14e1c5\" y=\"120.003902\"/>\n     <use style=\"fill:#008000;fill-opacity:0.5;stroke:#008000;stroke-opacity:0.5;\" x=\"894.194983\" xlink:href=\"#m93fa14e1c5\" y=\"94.927152\"/>\n     <use style=\"fill:#008000;fill-opacity:0.5;stroke:#008000;stroke-opacity:0.5;\" x=\"870.901353\" xlink:href=\"#m93fa14e1c5\" y=\"193.472947\"/>\n     <use style=\"fill:#008000;fill-opacity:0.5;stroke:#008000;stroke-opacity:0.5;\" x=\"877.329112\" xlink:href=\"#m93fa14e1c5\" y=\"129.530201\"/>\n     <use style=\"fill:#008000;fill-opacity:0.5;stroke:#008000;stroke-opacity:0.5;\" x=\"884.435647\" xlink:href=\"#m93fa14e1c5\" y=\"199.843543\"/>\n     <use style=\"fill:#008000;fill-opacity:0.5;stroke:#008000;stroke-opacity:0.5;\" x=\"855.969058\" xlink:href=\"#m93fa14e1c5\" y=\"103.150342\"/>\n     <use style=\"fill:#008000;fill-opacity:0.5;stroke:#008000;stroke-opacity:0.5;\" x=\"879.301172\" xlink:href=\"#m93fa14e1c5\" y=\"156.092109\"/>\n     <use style=\"fill:#008000;fill-opacity:0.5;stroke:#008000;stroke-opacity:0.5;\" x=\"861.401369\" xlink:href=\"#m93fa14e1c5\" y=\"101.979938\"/>\n     <use style=\"fill:#008000;fill-opacity:0.5;stroke:#008000;stroke-opacity:0.5;\" x=\"929.343947\" xlink:href=\"#m93fa14e1c5\" y=\"90.682094\"/>\n     <use style=\"fill:#008000;fill-opacity:0.5;stroke:#008000;stroke-opacity:0.5;\" x=\"907.142978\" xlink:href=\"#m93fa14e1c5\" y=\"123.574204\"/>\n     <use style=\"fill:#008000;fill-opacity:0.5;stroke:#008000;stroke-opacity:0.5;\" x=\"915.645857\" xlink:href=\"#m93fa14e1c5\" y=\"154.253219\"/>\n     <use style=\"fill:#008000;fill-opacity:0.5;stroke:#008000;stroke-opacity:0.5;\" x=\"896.877731\" xlink:href=\"#m93fa14e1c5\" y=\"124.515744\"/>\n     <use style=\"fill:#008000;fill-opacity:0.5;stroke:#008000;stroke-opacity:0.5;\" x=\"881.252548\" xlink:href=\"#m93fa14e1c5\" y=\"148.670273\"/>\n     <use style=\"fill:#008000;fill-opacity:0.5;stroke:#008000;stroke-opacity:0.5;\" x=\"940.463353\" xlink:href=\"#m93fa14e1c5\" y=\"157.750015\"/>\n     <use style=\"fill:#008000;fill-opacity:0.5;stroke:#008000;stroke-opacity:0.5;\" x=\"919.826968\" xlink:href=\"#m93fa14e1c5\" y=\"158.89332\"/>\n     <use style=\"fill:#008000;fill-opacity:0.5;stroke:#008000;stroke-opacity:0.5;\" x=\"910.746951\" xlink:href=\"#m93fa14e1c5\" y=\"236.857689\"/>\n     <use style=\"fill:#008000;fill-opacity:0.5;stroke:#008000;stroke-opacity:0.5;\" x=\"891.009389\" xlink:href=\"#m93fa14e1c5\" y=\"117.426813\"/>\n     <use style=\"fill:#008000;fill-opacity:0.5;stroke:#008000;stroke-opacity:0.5;\" x=\"906.026956\" xlink:href=\"#m93fa14e1c5\" y=\"206.535604\"/>\n     <use style=\"fill:#008000;fill-opacity:0.5;stroke:#008000;stroke-opacity:0.5;\" x=\"916.85162\" xlink:href=\"#m93fa14e1c5\" y=\"188.372847\"/>\n     <use style=\"fill:#008000;fill-opacity:0.5;stroke:#008000;stroke-opacity:0.5;\" x=\"903.409813\" xlink:href=\"#m93fa14e1c5\" y=\"187.039835\"/>\n     <use style=\"fill:#008000;fill-opacity:0.5;stroke:#008000;stroke-opacity:0.5;\" x=\"893.365882\" xlink:href=\"#m93fa14e1c5\" y=\"191.975015\"/>\n    </g>\n   </g>\n   <g id=\"matplotlib.axis_5\">\n    <g id=\"xtick_11\">\n     <g id=\"line2d_25\">\n      <g>\n       <use style=\"stroke:#000000;stroke-width:0.8;\" x=\"740.580901\" xlink:href=\"#md78c851a87\" y=\"298.158305\"/>\n      </g>\n     </g>\n     <g id=\"text_25\">\n      <!-- −0.08 -->\n      <defs>\n       <path d=\"M 31.78125 34.625 \nQ 24.75 34.625 20.71875 30.859375 \nQ 16.703125 27.09375 16.703125 20.515625 \nQ 16.703125 13.921875 20.71875 10.15625 \nQ 24.75 6.390625 31.78125 6.390625 \nQ 38.8125 6.390625 42.859375 10.171875 \nQ 46.921875 13.96875 46.921875 20.515625 \nQ 46.921875 27.09375 42.890625 30.859375 \nQ 38.875 34.625 31.78125 34.625 \nz\nM 21.921875 38.8125 \nQ 15.578125 40.375 12.03125 44.71875 \nQ 8.5 49.078125 8.5 55.328125 \nQ 8.5 64.0625 14.71875 69.140625 \nQ 20.953125 74.21875 31.78125 74.21875 \nQ 42.671875 74.21875 48.875 69.140625 \nQ 55.078125 64.0625 55.078125 55.328125 \nQ 55.078125 49.078125 51.53125 44.71875 \nQ 48 40.375 41.703125 38.8125 \nQ 48.828125 37.15625 52.796875 32.3125 \nQ 56.78125 27.484375 56.78125 20.515625 \nQ 56.78125 9.90625 50.3125 4.234375 \nQ 43.84375 -1.421875 31.78125 -1.421875 \nQ 19.734375 -1.421875 13.25 4.234375 \nQ 6.78125 9.90625 6.78125 20.515625 \nQ 6.78125 27.484375 10.78125 32.3125 \nQ 14.796875 37.15625 21.921875 38.8125 \nz\nM 18.3125 54.390625 \nQ 18.3125 48.734375 21.84375 45.5625 \nQ 25.390625 42.390625 31.78125 42.390625 \nQ 38.140625 42.390625 41.71875 45.5625 \nQ 45.3125 48.734375 45.3125 54.390625 \nQ 45.3125 60.0625 41.71875 63.234375 \nQ 38.140625 66.40625 31.78125 66.40625 \nQ 25.390625 66.40625 21.84375 63.234375 \nQ 18.3125 60.0625 18.3125 54.390625 \nz\n\" id=\"DejaVuSans-56\"/>\n      </defs>\n      <g transform=\"translate(725.258245 312.756742)scale(0.1 -0.1)\">\n       <use xlink:href=\"#DejaVuSans-8722\"/>\n       <use x=\"83.789062\" xlink:href=\"#DejaVuSans-48\"/>\n       <use x=\"147.412109\" xlink:href=\"#DejaVuSans-46\"/>\n       <use x=\"179.199219\" xlink:href=\"#DejaVuSans-48\"/>\n       <use x=\"242.822266\" xlink:href=\"#DejaVuSans-56\"/>\n      </g>\n     </g>\n    </g>\n    <g id=\"xtick_12\">\n     <g id=\"line2d_26\">\n      <g>\n       <use style=\"stroke:#000000;stroke-width:0.8;\" x=\"780.80972\" xlink:href=\"#md78c851a87\" y=\"298.158305\"/>\n      </g>\n     </g>\n     <g id=\"text_26\">\n      <!-- −0.06 -->\n      <g transform=\"translate(765.487063 312.756742)scale(0.1 -0.1)\">\n       <use xlink:href=\"#DejaVuSans-8722\"/>\n       <use x=\"83.789062\" xlink:href=\"#DejaVuSans-48\"/>\n       <use x=\"147.412109\" xlink:href=\"#DejaVuSans-46\"/>\n       <use x=\"179.199219\" xlink:href=\"#DejaVuSans-48\"/>\n       <use x=\"242.822266\" xlink:href=\"#DejaVuSans-54\"/>\n      </g>\n     </g>\n    </g>\n    <g id=\"xtick_13\">\n     <g id=\"line2d_27\">\n      <g>\n       <use style=\"stroke:#000000;stroke-width:0.8;\" x=\"821.038538\" xlink:href=\"#md78c851a87\" y=\"298.158305\"/>\n      </g>\n     </g>\n     <g id=\"text_27\">\n      <!-- −0.04 -->\n      <g transform=\"translate(805.715882 312.756742)scale(0.1 -0.1)\">\n       <use xlink:href=\"#DejaVuSans-8722\"/>\n       <use x=\"83.789062\" xlink:href=\"#DejaVuSans-48\"/>\n       <use x=\"147.412109\" xlink:href=\"#DejaVuSans-46\"/>\n       <use x=\"179.199219\" xlink:href=\"#DejaVuSans-48\"/>\n       <use x=\"242.822266\" xlink:href=\"#DejaVuSans-52\"/>\n      </g>\n     </g>\n    </g>\n    <g id=\"xtick_14\">\n     <g id=\"line2d_28\">\n      <g>\n       <use style=\"stroke:#000000;stroke-width:0.8;\" x=\"861.267357\" xlink:href=\"#md78c851a87\" y=\"298.158305\"/>\n      </g>\n     </g>\n     <g id=\"text_28\">\n      <!-- −0.02 -->\n      <g transform=\"translate(845.9447 312.756742)scale(0.1 -0.1)\">\n       <use xlink:href=\"#DejaVuSans-8722\"/>\n       <use x=\"83.789062\" xlink:href=\"#DejaVuSans-48\"/>\n       <use x=\"147.412109\" xlink:href=\"#DejaVuSans-46\"/>\n       <use x=\"179.199219\" xlink:href=\"#DejaVuSans-48\"/>\n       <use x=\"242.822266\" xlink:href=\"#DejaVuSans-50\"/>\n      </g>\n     </g>\n    </g>\n    <g id=\"xtick_15\">\n     <g id=\"line2d_29\">\n      <g>\n       <use style=\"stroke:#000000;stroke-width:0.8;\" x=\"901.496175\" xlink:href=\"#md78c851a87\" y=\"298.158305\"/>\n      </g>\n     </g>\n     <g id=\"text_29\">\n      <!-- 0.00 -->\n      <g transform=\"translate(890.363363 312.756742)scale(0.1 -0.1)\">\n       <use xlink:href=\"#DejaVuSans-48\"/>\n       <use x=\"63.623047\" xlink:href=\"#DejaVuSans-46\"/>\n       <use x=\"95.410156\" xlink:href=\"#DejaVuSans-48\"/>\n       <use x=\"159.033203\" xlink:href=\"#DejaVuSans-48\"/>\n      </g>\n     </g>\n    </g>\n    <g id=\"xtick_16\">\n     <g id=\"line2d_30\">\n      <g>\n       <use style=\"stroke:#000000;stroke-width:0.8;\" x=\"941.724994\" xlink:href=\"#md78c851a87\" y=\"298.158305\"/>\n      </g>\n     </g>\n     <g id=\"text_30\">\n      <!-- 0.02 -->\n      <g transform=\"translate(930.592181 312.756742)scale(0.1 -0.1)\">\n       <use xlink:href=\"#DejaVuSans-48\"/>\n       <use x=\"63.623047\" xlink:href=\"#DejaVuSans-46\"/>\n       <use x=\"95.410156\" xlink:href=\"#DejaVuSans-48\"/>\n       <use x=\"159.033203\" xlink:href=\"#DejaVuSans-50\"/>\n      </g>\n     </g>\n    </g>\n    <g id=\"xtick_17\">\n     <g id=\"line2d_31\">\n      <g>\n       <use style=\"stroke:#000000;stroke-width:0.8;\" x=\"981.953812\" xlink:href=\"#md78c851a87\" y=\"298.158305\"/>\n      </g>\n     </g>\n     <g id=\"text_31\">\n      <!-- 0.04 -->\n      <g transform=\"translate(970.821 312.756742)scale(0.1 -0.1)\">\n       <use xlink:href=\"#DejaVuSans-48\"/>\n       <use x=\"63.623047\" xlink:href=\"#DejaVuSans-46\"/>\n       <use x=\"95.410156\" xlink:href=\"#DejaVuSans-48\"/>\n       <use x=\"159.033203\" xlink:href=\"#DejaVuSans-52\"/>\n      </g>\n     </g>\n    </g>\n    <g id=\"xtick_18\">\n     <g id=\"line2d_32\">\n      <g>\n       <use style=\"stroke:#000000;stroke-width:0.8;\" x=\"1022.182631\" xlink:href=\"#md78c851a87\" y=\"298.158305\"/>\n      </g>\n     </g>\n     <g id=\"text_32\">\n      <!-- 0.06 -->\n      <g transform=\"translate(1011.049818 312.756742)scale(0.1 -0.1)\">\n       <use xlink:href=\"#DejaVuSans-48\"/>\n       <use x=\"63.623047\" xlink:href=\"#DejaVuSans-46\"/>\n       <use x=\"95.410156\" xlink:href=\"#DejaVuSans-48\"/>\n       <use x=\"159.033203\" xlink:href=\"#DejaVuSans-54\"/>\n      </g>\n     </g>\n    </g>\n   </g>\n   <g id=\"matplotlib.axis_6\">\n    <g id=\"ytick_15\">\n     <g id=\"line2d_33\">\n      <g>\n       <use style=\"stroke:#000000;stroke-width:0.8;\" x=\"733.076997\" xlink:href=\"#m6b12052551\" y=\"287.840628\"/>\n      </g>\n     </g>\n     <g id=\"text_33\">\n      <!-- −0.06 -->\n      <g transform=\"translate(695.431685 291.639847)scale(0.1 -0.1)\">\n       <use xlink:href=\"#DejaVuSans-8722\"/>\n       <use x=\"83.789062\" xlink:href=\"#DejaVuSans-48\"/>\n       <use x=\"147.412109\" xlink:href=\"#DejaVuSans-46\"/>\n       <use x=\"179.199219\" xlink:href=\"#DejaVuSans-48\"/>\n       <use x=\"242.822266\" xlink:href=\"#DejaVuSans-54\"/>\n      </g>\n     </g>\n    </g>\n    <g id=\"ytick_16\">\n     <g id=\"line2d_34\">\n      <g>\n       <use style=\"stroke:#000000;stroke-width:0.8;\" x=\"733.076997\" xlink:href=\"#m6b12052551\" y=\"247.611809\"/>\n      </g>\n     </g>\n     <g id=\"text_34\">\n      <!-- −0.04 -->\n      <g transform=\"translate(695.431685 251.411028)scale(0.1 -0.1)\">\n       <use xlink:href=\"#DejaVuSans-8722\"/>\n       <use x=\"83.789062\" xlink:href=\"#DejaVuSans-48\"/>\n       <use x=\"147.412109\" xlink:href=\"#DejaVuSans-46\"/>\n       <use x=\"179.199219\" xlink:href=\"#DejaVuSans-48\"/>\n       <use x=\"242.822266\" xlink:href=\"#DejaVuSans-52\"/>\n      </g>\n     </g>\n    </g>\n    <g id=\"ytick_17\">\n     <g id=\"line2d_35\">\n      <g>\n       <use style=\"stroke:#000000;stroke-width:0.8;\" x=\"733.076997\" xlink:href=\"#m6b12052551\" y=\"207.382991\"/>\n      </g>\n     </g>\n     <g id=\"text_35\">\n      <!-- −0.02 -->\n      <g transform=\"translate(695.431685 211.18221)scale(0.1 -0.1)\">\n       <use xlink:href=\"#DejaVuSans-8722\"/>\n       <use x=\"83.789062\" xlink:href=\"#DejaVuSans-48\"/>\n       <use x=\"147.412109\" xlink:href=\"#DejaVuSans-46\"/>\n       <use x=\"179.199219\" xlink:href=\"#DejaVuSans-48\"/>\n       <use x=\"242.822266\" xlink:href=\"#DejaVuSans-50\"/>\n      </g>\n     </g>\n    </g>\n    <g id=\"ytick_18\">\n     <g id=\"line2d_36\">\n      <g>\n       <use style=\"stroke:#000000;stroke-width:0.8;\" x=\"733.076997\" xlink:href=\"#m6b12052551\" y=\"167.154172\"/>\n      </g>\n     </g>\n     <g id=\"text_36\">\n      <!-- 0.00 -->\n      <g transform=\"translate(703.811372 170.953391)scale(0.1 -0.1)\">\n       <use xlink:href=\"#DejaVuSans-48\"/>\n       <use x=\"63.623047\" xlink:href=\"#DejaVuSans-46\"/>\n       <use x=\"95.410156\" xlink:href=\"#DejaVuSans-48\"/>\n       <use x=\"159.033203\" xlink:href=\"#DejaVuSans-48\"/>\n      </g>\n     </g>\n    </g>\n    <g id=\"ytick_19\">\n     <g id=\"line2d_37\">\n      <g>\n       <use style=\"stroke:#000000;stroke-width:0.8;\" x=\"733.076997\" xlink:href=\"#m6b12052551\" y=\"126.925354\"/>\n      </g>\n     </g>\n     <g id=\"text_37\">\n      <!-- 0.02 -->\n      <g transform=\"translate(703.811372 130.724573)scale(0.1 -0.1)\">\n       <use xlink:href=\"#DejaVuSans-48\"/>\n       <use x=\"63.623047\" xlink:href=\"#DejaVuSans-46\"/>\n       <use x=\"95.410156\" xlink:href=\"#DejaVuSans-48\"/>\n       <use x=\"159.033203\" xlink:href=\"#DejaVuSans-50\"/>\n      </g>\n     </g>\n    </g>\n    <g id=\"ytick_20\">\n     <g id=\"line2d_38\">\n      <g>\n       <use style=\"stroke:#000000;stroke-width:0.8;\" x=\"733.076997\" xlink:href=\"#m6b12052551\" y=\"86.696535\"/>\n      </g>\n     </g>\n     <g id=\"text_38\">\n      <!-- 0.04 -->\n      <g transform=\"translate(703.811372 90.495754)scale(0.1 -0.1)\">\n       <use xlink:href=\"#DejaVuSans-48\"/>\n       <use x=\"63.623047\" xlink:href=\"#DejaVuSans-46\"/>\n       <use x=\"95.410156\" xlink:href=\"#DejaVuSans-48\"/>\n       <use x=\"159.033203\" xlink:href=\"#DejaVuSans-52\"/>\n      </g>\n     </g>\n    </g>\n    <g id=\"ytick_21\">\n     <g id=\"line2d_39\">\n      <g>\n       <use style=\"stroke:#000000;stroke-width:0.8;\" x=\"733.076997\" xlink:href=\"#m6b12052551\" y=\"46.467717\"/>\n      </g>\n     </g>\n     <g id=\"text_39\">\n      <!-- 0.06 -->\n      <g transform=\"translate(703.811372 50.266936)scale(0.1 -0.1)\">\n       <use xlink:href=\"#DejaVuSans-48\"/>\n       <use x=\"63.623047\" xlink:href=\"#DejaVuSans-46\"/>\n       <use x=\"95.410156\" xlink:href=\"#DejaVuSans-48\"/>\n       <use x=\"159.033203\" xlink:href=\"#DejaVuSans-54\"/>\n      </g>\n     </g>\n    </g>\n   </g>\n   <g id=\"patch_13\">\n    <path d=\"M 733.076997 298.158305 \nL 733.076997 42.401695 \n\" style=\"fill:none;stroke:#000000;stroke-linecap:square;stroke-linejoin:miter;stroke-width:0.8;\"/>\n   </g>\n   <g id=\"patch_14\">\n    <path d=\"M 1028.488762 298.158305 \nL 1028.488762 42.401695 \n\" style=\"fill:none;stroke:#000000;stroke-linecap:square;stroke-linejoin:miter;stroke-width:0.8;\"/>\n   </g>\n   <g id=\"patch_15\">\n    <path d=\"M 733.076997 298.158305 \nL 1028.488762 298.158305 \n\" style=\"fill:none;stroke:#000000;stroke-linecap:square;stroke-linejoin:miter;stroke-width:0.8;\"/>\n   </g>\n   <g id=\"patch_16\">\n    <path d=\"M 733.076997 42.401695 \nL 1028.488762 42.401695 \n\" style=\"fill:none;stroke:#000000;stroke-linecap:square;stroke-linejoin:miter;stroke-width:0.8;\"/>\n   </g>\n  </g>\n </g>\n <defs>\n  <clipPath id=\"p570d40f002\">\n   <rect height=\"326.16\" width=\"253.898664\" x=\"44.845313\" y=\"7.2\"/>\n  </clipPath>\n  <clipPath id=\"pfe34801eb9\">\n   <rect height=\"326.16\" width=\"253.898664\" x=\"399.33943\" y=\"7.2\"/>\n  </clipPath>\n  <clipPath id=\"p4f1c5542bf\">\n   <rect height=\"255.75661\" width=\"295.411765\" x=\"733.076997\" y=\"42.401695\"/>\n  </clipPath>\n </defs>\n</svg>\n",
      "image/png": "[encoded data removed]"
     },
     "metadata": {
      "needs_background": "light"
     }
    }
   ],
   "source": [
    "# eigx,eigvecx=la.eig(X)\n",
    "# inveigvecx = la.inv(eigvecx)\n",
    "# grand [0.57022867 0.62348524 0.35183067 0.60193072]\n",
    "nax,nay=1,3\n",
    "fig,ax=plt.subplots(nax,nay,figsize=(6*nay,6*nax))\n",
    "# grand [0.46250355 0.24978818 0.29123773 0.59906337]\n",
    "for j in range(nay):\n",
    "  for i in range(nax):\n",
    "      ax[j].scatter(eigvecx[:NE,j],eigvecx[NE:,j],s=15.0,c='green',alpha=0.5)\n",
    "      ax[j].set_aspect('equal')"
   ]
  },
  {
   "cell_type": "code",
   "execution_count": 22,
   "metadata": {},
   "outputs": [
    {
     "output_type": "stream",
     "name": "stdout",
     "text": [
      "eigenvalues in eigvecgm\n-5.352863111217462 0.8824731002172483\n"
     ]
    }
   ],
   "source": [
    "print('eigenvalues in eigvecgm')\n",
    "print(eigvecgm[0,0]/eigvecgm[1,0],eigvecgm[0,1]/eigvecgm[1,1])"
   ]
  },
  {
   "cell_type": "code",
   "execution_count": 23,
   "metadata": {},
   "outputs": [],
   "source": [
    "Nt=np.array([500,500])\n",
    "NE,NI=Nt[0],Nt[1]\n",
    "Nparams=np.array([NE,NI])\n",
    "JE,JI,a,b=1.0,2.5,-0.6,0.6\n",
    "a,b=0.0,0.0\n",
    "JEE,JIE,JEI,JII=JE+a,JE-a,JI-b,JI+b\n",
    "# generate mean Am\n",
    "Am,Jsv,ua,svam,va=generate_meanmat_eig(Nparams,JEE,JIE,JEI,JII)\n",
    "eigvoutlier,_=la.eig(Am)\n",
    "eigvorg = eigvoutlier[:2]\n",
    "\n",
    "# Xtotal=X.copy()+Am.copy(). 19n32 26 30\n",
    "# # eigen decomposition\n",
    "# eigvxt,eigvecxt=la.eig(Xtotal)"
   ]
  },
  {
   "cell_type": "code",
   "execution_count": 410,
   "metadata": {},
   "outputs": [
    {
     "output_type": "stream",
     "name": "stdout",
     "text": [
      "before\n[0.70239468 0.25094588 0.40455887 0.        ]\n[0.70239468 0.25094588 0.40455887 0.        ]\nbefore\n[0.67707221 0.26782513 0.15515431 0.40714869]\n[0.15515431 0.26782513 0.67707221 0.40714869]\nbefore\n[0.81364514 0.24079367 0.         0.        ]\n[0.         0.81364514 0.24079367 0.        ]\nbefore\n[0.31165834 0.68492169 0.15353125 0.36080399]\n[0.36080399 0.31165834 0.68492169 0.15353125]\nbefore\n[0.43218567 0.59401867 0.42468502 0.        ]\n[0.43218567 0.42468502 0.         0.59401867]\n"
     ]
    }
   ],
   "source": [
    "gradiusmin=0\n",
    "for i in range(5):\n",
    "    grand = gmatamplitude_eig(0.36,2)\n",
    "    print('before')\n",
    "    print(grand)\n",
    "    np.random.shuffle(grand)\n",
    "    X,Gamp,eigvgmT,eigvecgm,gaverage=generate_localstatsmat_eig(Nparams,grand)\n",
    "    print(grand)\n",
    "    eigvgm=eigvgmT.copy()\n",
    "    # print(eigvgm,gaverage)\n",
    "    idx = eigvgm.argsort()[::-1]   \n",
    "    eigvgm = eigvgm[idx]\n",
    "    gradius=np.sqrt(eigvgm[0])\n",
    "    if gradius >gradiusmin:\n",
    "        gradiusmin=gradius.copy()\n",
    "        grandmin = grand.copy()\n",
    "\n"
   ]
  },
  {
   "source": [
    "## key points here are\n",
    "* average g change and how the distribution of outliers change\n",
    "    \n",
    "    * with same g_average, change of r_g affects what?\n",
    "\n",
    "Trace? Determinant? "
   ],
   "cell_type": "markdown",
   "metadata": {}
  },
  {
   "cell_type": "code",
   "execution_count": 85,
   "metadata": {},
   "outputs": [
    {
     "output_type": "stream",
     "name": "stdout",
     "text": [
      "[0.1  0.28 0.46 0.64 0.82 1.  ]\n"
     ]
    }
   ],
   "source": [
    "## simulation parameters \n",
    "'''\n",
    "# gaverage increase from 0.0 to 1.0 (below the chaotic regime)\n",
    "# check num_rg batch_rg trials using \n",
    "'''\n",
    "ngavg,batchrg,nrg=6,50,4\n",
    "gaverageseries = np.linspace(0.1,1.0,ngavg)\n",
    "print(gaverageseries)"
   ]
  },
  {
   "cell_type": "code",
   "execution_count": 88,
   "metadata": {},
   "outputs": [],
   "source": [
    "krand,maxout=5,NE\n",
    "grandseries,gproperties=np.zeros((ngavg,nrg,4)),np.zeros((ngavg,nrg,2))\n",
    "eigvxtseries=np.zeros((ngavg,nrg,batchrg,maxout),dtype=complex)\n",
    "# mtildeseries,ntildeseries=np.zeros((ngavg,nrg,batchrg,NE+NI,2),dtype=complex),np.zeros((ngavg,nrg,batchrg,NE+NI,2),dtype=complex)\n",
    "# Rxseries,Lxseries=np.zeros((ngavg,nrg,batchrg,NE+NI,krand),dtype=complex),np.zeros((ngavg,nrg,batchrg,NE+NI,krand),dtype=complex)\n",
    "detJseries,traceJseries=np.zeros((ngavg,nrg,batchrg),dtype=complex),np.zeros((ngavg,nrg,batchrg),dtype=complex)\n",
    "for iga, gaverage in enumerate(gaverageseries):\n",
    "    for irg in range(nrg):\n",
    "        for ibatch in range(batchrg):\n",
    "            if ibatch==0:\n",
    "                while(1):\n",
    "                # if i==0:\n",
    "                    grand = gmatamplitude_eig(gaverage**2,2)\n",
    "                    idxeff = np.where(grand>0)\n",
    "                    if (np.shape(idxeff)[1]>2):\n",
    "                        np.random.shuffle(grand)\n",
    "                        break\n",
    "            X,Gamp,eigvgmT,eigvecgm,gaverage=generate_localstatsmat_eig(Nparams,grand)#,ugm,svgm,vgm\n",
    "            # eigvgm=eigvals(eigvgmT) # for schur decomposition\n",
    "            eigvgm=eigvgmT.copy()\n",
    "            idx = eigvgm.argsort()[::-1]   \n",
    "            eigvgm = eigvgm[idx]\n",
    "            gradius=np.sqrt(eigvgm[0])\n",
    "            # mix together\n",
    "            Xtotal=X.copy()+Am.copy()\n",
    "            # eigen decomposition\n",
    "            eigvxt,eigvecxt=la.eig(Xtotal)\n",
    "            # check the outliers\n",
    "            ampeigvxt = np.sqrt(np.real(eigvxt)**2+np.imag(eigvxt)**2)\n",
    "            outliers = eigvxt[np.where(ampeigvxt>gradius)]\n",
    "            numoutliers = len(outliers)\n",
    "            ## record\n",
    "            eigvxtseries[iga,irg,ibatch,:+numoutliers]=outliers[:]           \n",
    "\n",
    "            # ## calculate m and n decomposition -- mtilde, ntilde\n",
    "            # utilde,svtilde,vhtilde=la.svd(Xtotal)\n",
    "            # vtilde=vhtilde.T\n",
    "            # mtildeseries[i,:,:],ntildeseries[i,:,0],ntildeseries[i,:,1]=utilde[:,:2],svtilde[0]*vtilde[:,0],svtilde[1]*vtilde[:,1]\n",
    "\n",
    "            ## compare the determinant\n",
    "            # detJseries[i] = la.det(Xtotal)\n",
    "            traceJseries[iga,irg,ibatch]=np.sum(outliers[:2])\n",
    "\n",
    "        grandseries[iga,irg,:]=grand[:]\n",
    "        gproperties[iga,irg,0],gproperties[iga,irg,1]=gradius,gaverage\n",
    "\n",
    "\n"
   ]
  },
  {
   "cell_type": "code",
   "execution_count": 90,
   "metadata": {},
   "outputs": [],
   "source": [
    "## sort by radius g\n",
    "gradiusset = np.squeeze(gproperties[:,:,0])\n",
    "eigvxtseries_ord,grandseries_ord = np.zeros_like(eigvxtseries),np.zeros_like(grandseries)\n",
    "gproperties_ord = np.zeros_like(gproperties)\n",
    "for igavg in range(ngavg):\n",
    "    gradiuseach = np.squeeze(gradiusset[igavg,:])\n",
    "    idxrg=gradiuseach.argsort()[::-1] \n",
    "    for i, idxorder in enumerate(idxrg):\n",
    "        eigvxtseries_ord[igavg,i,:,:]= eigvxtseries[igavg,idxorder,:,:]\n",
    "        grandseries_ord[igavg,i,:]=grandseries[igavg,idxorder,:]\n",
    "    gproperties_ord[igavg,:,0],gproperties_ord[igavg,:,1]=gproperties[igavg,idxrg,0],gproperties[igavg,idxrg,1]"
   ]
  },
  {
   "source": [
    "## figure for changes along average g and radius?\n",
    "\n",
    "## mean and variance"
   ],
   "cell_type": "markdown",
   "metadata": {}
  },
  {
   "cell_type": "code",
   "execution_count": 94,
   "metadata": {},
   "outputs": [],
   "source": [
    "xticks = np.arange(-2.0,1.5,1.0)\n",
    "yticks = np.arange(-1.0,1.0,1.0)\n",
    "xlims= [-2.1,1.6]\n",
    "ylims= [-1.1,1.1]"
   ]
  },
  {
   "cell_type": "code",
   "execution_count": 104,
   "metadata": {},
   "outputs": [],
   "source": [
    "##\n",
    "nax,nay=ngavg,nrg\n",
    "fig,ax=plt.subplots(nax,nay,figsize=(3*nax,3*nay))\n",
    "nsample = nax*nay\n",
    "idxsample = np.random.random_integers(epochs-1,size=(nax,nay))\n",
    "eigenvalueschange = np.zeros((nax,nay))\n",
    "# eigenvalue\n",
    "for i in range(ngavg):\n",
    "    for j in range(nrg):\n",
    "        idx = idxsample[i][j]\n",
    "        for k in range(batchrg):\n",
    "            lennum = 2#np.shape(endpoint)[1]\n",
    "            ax[i][j].scatter(np.real(eigvxtseries_ord[i,j,k,:lennum]),np.imag(eigvxtseries_ord[i,j,k,:lennum]), s=15.0,c='green',alpha=0.5)\n",
    "            # ax.set_xlabel('radius',fontsize=16)\n",
    "            # ax.set_ylabel('outlier: real ',fontsize=16)\n",
    "            # ax.set_xlim([-gaverage,+1*gaverage])\n",
    "            # ax.set_ylim([eigvorg-gaverage,eigvorg+1*gaverage])\n",
    "            \n",
    "            gradius,gaverage = gproperties_ord[i,j,0],gproperties_ord[i,j,1]\n",
    "            theta = np.linspace(0, 2 * np.pi, 200)\n",
    "            xr = gradius*np.cos(theta)\n",
    "            yr = gradius*np.sin(theta)\n",
    "\n",
    "            xa = gaverage*np.cos(theta)\n",
    "            ya = gaverage*np.sin(theta)\n",
    "\n",
    "        # eigenvalue\n",
    "        ax[i][j].plot(xr, yr, color=\"darkred\", linewidth=1.5,label=r'$r_g=$'+str(format(gradius,'.4f')))\n",
    "        ax[i][j].plot(xa, ya, color=\"grey\", linewidth=1.5,linestyle='--')#,label=r'fixed $\\bar{g}$'+str(format(gaverage,'.4f')))\n",
    "        ax[i][j].scatter(np.real(eigvorg),np.imag(eigvorg),s=30.0,c='red',alpha=1)\n",
    "        ax[i][j].set_xlim(xlims)\n",
    "        ax[i][j].set_ylim(ylims)\n",
    "        ax[i][j].set_xticks([])\n",
    "        ax[i][j].set_yticks([])\n",
    "        ax[i][j].set_aspect('equal')\n",
    "        ax[i][j].legend()\n",
    "# "
   ]
  },
  {
   "cell_type": "code",
   "execution_count": 106,
   "metadata": {},
   "outputs": [],
   "source": [
    "# ## save data\n",
    "# eigvxtseries_ord_r2,gproperties_ord_r2,grandseries_ord_r2 = eigvxtseries_ord.copy(),gproperties_ord.copy(),grandseries_ord.copy()\n",
    "# np.savez('rank2sets.npz', grandseries_ord_r2=grandseries_ord_r2, gproperties_ord_r2=gproperties_ord_r2,eigvxtseries_ord_r2=eigvxtseries_ord_r2) "
   ]
  },
  {
   "cell_type": "code",
   "execution_count": 117,
   "metadata": {},
   "outputs": [
    {
     "output_type": "stream",
     "name": "stdout",
     "text": [
      "[[0.15588573 0.14944577 0.14872534 0.15306923]\n [0.16312225 0.15083705 0.17066179 0.17440298]\n [0.17217877 0.19153645 0.16411364 0.14590727]\n [0.28764669 0.2225945  0.20198959 0.20722722]\n [0.39485071 0.31600967 0.34120235 0.26729905]\n [0.53364727 0.51385723 0.63502716 0.24961371]]\n[[0.         0.         0.01144    0.        ]\n [0.05282462 0.08940145 0.07085221 0.08092383]\n [0.10436326 0.14660692 0.10294886 0.10510944]\n [0.17266262 0.16720492 0.13712431 0.15381554]\n [0.29581799 0.17368589 0.15745486 0.14866386]\n [0.30512122 0.27682246 0.28558281 0.17746303]]\n"
     ]
    }
   ],
   "source": [
    "stdeigvxtr2=np.zeros((ngavg,nrg,2))\n",
    "for igavg in range(ngavg):\n",
    "    for jrg in range(nrg):\n",
    "        eigvx2data=np.reshape(eigvxtseries_ord_r2[igavg,jrg,:,:2],(batchrg*2,1))\n",
    "        stdeigvxtr2[igavg,jrg,0]=np.std(np.real(eigvx2data))\n",
    "        stdeigvxtr2[igavg,jrg,1]=np.std(np.imag(eigvx2data))\n",
    "print(stdeigvxtr2[:,:,0])\n",
    "print(stdeigvxtr2[:,:,1])\n"
   ]
  },
  {
   "cell_type": "code",
   "execution_count": 141,
   "metadata": {},
   "outputs": [
    {
     "output_type": "stream",
     "name": "stderr",
     "text": [
      "No handles with labels found to put in legend.\n"
     ]
    }
   ],
   "source": [
    "# yticks = np.arange(-0.05,0.65,.30)\n",
    "# ylims= [-0.06,0.66]\n",
    "# fig,ax=plt.subplots(1,ngavg,figsize=(3*ngavg,4))\n",
    "# for i in range(ngavg):\n",
    "#     ax[i].plot(gproperties_ord_r2[i,:,0],stdeigvxtr2[i,:,0],'r',linewidth=1.5)\n",
    "#     ax[i].plot(gproperties_ord_r2[i,:,0],stdeigvxtr2[i,:,1],'b',linewidth=1.5)\n",
    "#     ax[i].set_ylim(ylims)\n",
    "#     # ax[i].set_xticks([])\n",
    "#     ax[i].set_yticks([])\n",
    "\n",
    "\n",
    "size = ngavg\n",
    "x = np.arange(size)\n",
    "\n",
    "total_width, n = 0.8, nrg\n",
    "width = total_width / n\n",
    "x = x - (total_width - width) / 2\n",
    "\n",
    "for j in range(nrg):\n",
    "    plt.bar(x+width*(j), stdeigvxtr2[:,nrg-j-1,0],  width=width,color='orange',ec='k')\n",
    "    plt.bar(x+width*(j), stdeigvxtr2[:,nrg-j-1,1], bottom=stdeigvxtr2[:,nrg-j-1,0], width=width,color='darkcyan',ec='k')\n",
    "plt.legend()\n",
    "plt.show()\n",
    "        "
   ]
  },
  {
   "cell_type": "code",
   "execution_count": 99,
   "metadata": {},
   "outputs": [
    {
     "output_type": "stream",
     "name": "stdout",
     "text": [
      "[0.10236572 0.099503   0.09124897 0.08010862]\n[0.1 0.1 0.1 0.1]\n[0.38475005 0.34838675 0.29461811 0.27786972]\n[0.28 0.28 0.28 0.28]\n[0.47871343 0.47764978 0.44209218 0.37880441]\n[0.46 0.46 0.46 0.46]\n[0.7925504  0.67182644 0.51846812 0.46008373]\n[0.64 0.64 0.64 0.64]\n[1.04128894 0.83472509 0.81211425 0.68906502]\n[0.82 0.82 0.82 0.82]\n[1.09879214 1.06683633 1.03067662 0.44342352]\n[1. 1. 1. 1.]\n"
     ]
    }
   ],
   "source": [
    "print(gproperties_ord[0,:,0])\n",
    "print(gproperties_ord[0,:,1])\n",
    "print(gproperties_ord[1,:,0])\n",
    "print(gproperties_ord[1,:,1])\n",
    "print(gproperties_ord[2,:,0])\n",
    "print(gproperties_ord[2,:,1])\n",
    "\n",
    "print(gproperties_ord[3,:,0])\n",
    "print(gproperties_ord[3,:,1])\n",
    "print(gproperties_ord[4,:,0])\n",
    "print(gproperties_ord[4,:,1])\n",
    "print(gproperties_ord[5,:,0])\n",
    "print(gproperties_ord[5,:,1])\n"
   ]
  },
  {
   "cell_type": "code",
   "execution_count": null,
   "metadata": {},
   "outputs": [],
   "source": [
    "##\n",
    "nax,nay=2,2\n",
    "fig,ax=plt.subplots(nax,nay,figsize=(12,12))\n",
    "nsample = nax*nay\n",
    "idxsample = np.random.random_integers(epochs-1,size=(nax,nay))\n",
    "eigenvalueschange = np.zeros((nax,nay))\n",
    "# eigenvalue\n",
    "for i in range(0,ngavg,2):\n",
    "    for j in range(nay):\n",
    "        idx = idxsample[i][j]\n",
    "        for k in range(batchrg):\n",
    "            lennum = 2#np.shape(endpoint)[1]\n",
    "            ax[i][j].scatter(np.real(eigvxtseries_ord[i,j,k,:lennum]),np.imag(eigvxtseries_ord[i,j,k,:lennum]), s=15.0,c='green',alpha=0.5)\n",
    "\n",
    "            # ax.set_xlabel('radius',fontsize=16)\n",
    "            # ax.set_ylabel('outlier: real ',fontsize=16)\n",
    "            # ax.set_xlim([-gaverage,+1*gaverage])\n",
    "            # ax.set_ylim([eigvorg-gaverage,eigvorg+1*gaverage])\n",
    "            ax.set_aspect('equal')\n",
    "\n",
    "            theta = np.linspace(0, 2 * np.pi, 200)\n",
    "            xr = gradius*np.cos(theta)\n",
    "            yr = gradius*np.sin(theta)\n",
    "\n",
    "            xa = gaverage*np.cos(theta)\n",
    "            ya = gaverage*np.sin(theta)\n",
    "\n",
    "            # eigenvalue\n",
    "            ax[i][j].plot(xr, yr, color=\"darkred\", linewidth=1.5,label=r'$r_g$')\n",
    "            ax[i][j].plot(xa, ya, color=\"grey\", linewidth=1.5,linestyle='--',label=r'fixed $\\bar{g}$')\n",
    "            ax[i][j].scatter(np.real(eigvorg),np.imag(eigvorg),s=30.0,c='red',alpha=1,label='original outliers')\n",
    "for i in range(nax):\n",
    "    for j in range(nay):\n",
    "        ax[i][j].set_xlim([-0.3,0.3])\n",
    "        ax[i][j].set_ylim([-0.3,0.3])\n",
    "        # ax[i].set_xticks(ticks)\n",
    "        # ax[i].set_yticks(ticks)\n",
    "        ax[i][j].set_aspect('equal')"
   ]
  },
  {
   "cell_type": "code",
   "execution_count": 161,
   "metadata": {},
   "outputs": [
    {
     "output_type": "stream",
     "name": "stdout",
     "text": [
      "left\n[[-0.31503643+0.j -0.64392619+0.j]\n [-0.32579542+0.j -0.50924801+0.j]]\n[[-0.31503643+0.j  0.64392619+0.j]\n [-0.32579542+0.j  0.50924801+0.j]]\nright\n[[-0.04500809+0.j -0.56339925+0.j]\n [-0.1203162 +0.j -0.40947145+0.j]]\n[[-0.04500809+0.j -0.56339925+0.j]\n [-0.1203162 +0.j -0.40947145+0.j]]\n\n"
     ]
    }
   ],
   "source": [
    "X = 10*np.random.randn(10,10)\n",
    "X = np.reshape(np.arange(64),(8,8))\n",
    "eigvx,leigvec,reigvec=scpla.eig(X, left=True, right=True)\n",
    "_,leigvec_=la.eig(X.T)\n",
    "_,reigvec_=la.eig(X)\n",
    "print('left')\n",
    "print(leigvec[:2,:2])\n",
    "print(leigvec_[:2,:2])\n",
    "print('right')\n",
    "print(reigvec[:2,:2])\n",
    "print(reigvec_[:2,:2])\n",
    "print()"
   ]
  },
  {
   "cell_type": "code",
   "execution_count": 162,
   "metadata": {},
   "outputs": [
    {
     "output_type": "execute_result",
     "data": {
      "text/plain": [
       "<matplotlib.image.AxesImage at 0x7fa0364aedf0>"
      ]
     },
     "metadata": {},
     "execution_count": 162
    }
   ],
   "source": [
    "plt.imshow(np.real(leigvec_.T@reigvec)**2+np.imag(leigvec_.T@reigvec)**2)"
   ]
  },
  {
   "source": [
    "## key point:\n",
    "* overlap of rank-1"
   ],
   "cell_type": "markdown",
   "metadata": {}
  },
  {
   "source": [
    "**Rank-1**\n",
    "\n",
    "* test $\\mathbf{n}^{\\intercal}\\left (\\mathbf{X}/\\lambda\\right )^k\\mathbf{m}$"
   ],
   "cell_type": "markdown",
   "metadata": {}
  },
  {
   "cell_type": "code",
   "execution_count": 3,
   "metadata": {},
   "outputs": [],
   "source": [
    "Nt=np.array([1000,1000])\n",
    "NE,NI=Nt[0],Nt[1]\n",
    "Nparams=np.array([NE,NI])\n",
    "JE,JI,a,b=1.0,2.5,-0.6,0.6\n",
    "a,b=0.0,0.0\n",
    "JEE,JIE,JEI,JII=JE+a,JE-a,JI-b,JI+b\n",
    "# JEE,JIE,JEI,JII=JE,JE,JI,JI\n",
    "# generate mean Am\n",
    "Am,Jsv,ua,svam,va=generate_meanmat_eig(Nparams,JEE,JIE,JEI,JII)\n",
    "eigvoutlier,_=la.eig(Am)"
   ]
  },
  {
   "cell_type": "code",
   "execution_count": 9,
   "metadata": {},
   "outputs": [
    {
     "output_type": "stream",
     "name": "stdout",
     "text": [
      "pre avg g: 0.8\n",
      "post cal avg g: 0.8\n"
     ]
    }
   ],
   "source": [
    "# fixed average g\n",
    "gaverage=0.8\n",
    "print('pre avg g:',gaverage)\n",
    "while(1):\n",
    "    grand = gmatamplitude_eig(gaverage**2,2)\n",
    "    idxeff = np.where(grand>0)\n",
    "    if (np.shape(idxeff)[1]>2):\n",
    "        np.random.shuffle(grand)\n",
    "        break\n",
    "## random X matrix\n",
    "# grand = gaverage*np.ones(4)/np.sqrt(2.0)\n",
    "# ## homogeneous X matrix\n",
    "\n",
    "X,Gamp,eigvgmT,eigvecgm,gaverage=generate_localstatsmat_eig(Nparams,grand)#,ugm,svgm,vgm\n",
    "# eigvgm=eigvals(eigvgmT) # for schur decomposition\n",
    "eigvgm=eigvgmT.copy()\n",
    "idx = eigvgm.argsort()[::-1]   \n",
    "eigvgm = eigvgm[idx]\n",
    "gradius=np.sqrt(eigvgm[0])\n",
    "# scpla.eig(X, left=False, right=True)\n",
    "# mix together\n",
    "Xtotal=X.copy()+Am.copy()\n",
    "# eigen decomposition\n",
    "eigvxt,eigvecxt=la.eig(Xtotal)\n",
    "# check the outliers\n",
    "ampeigvxt = np.sqrt(np.real(eigvxt)**2+np.imag(eigvxt)**2)\n",
    "outliers = eigvxt[np.where(ampeigvxt>gradius)]\n",
    "numoutliers = len(outliers)\n",
    "print('post cal avg g:',gaverage)\n"
   ]
  },
  {
   "cell_type": "code",
   "execution_count": 10,
   "metadata": {},
   "outputs": [
    {
     "output_type": "stream",
     "name": "stdout",
     "text": [
      "[[-1.5]]\n",
      "[[-0.07221569+0.j]]\n",
      "[[0.00903411+0.j]]\n",
      "[[0.03416124+0.j]]\n",
      "[[0.00706559+0.j]]\n",
      "[[0.0029462+0.j]]\n",
      "[[0.00412197+0.j]]\n",
      "[[-0.00137713+0.j]]\n",
      "[[-0.00181194+0.j]]\n",
      "[[0.00017098+0.j]]\n",
      "[[0.0005288+0.j]]\n",
      "[[-0.00017185+0.j]]\n",
      "[[2.39182918e-05+0.j]]\n"
     ]
    }
   ],
   "source": [
    "irank=1 # rank-1 \n",
    "lambdanew=outliers[irank-1]\n",
    "toleranceerr=1e-5\n",
    "mvec,nvec=ua[:,:irank].copy(),va[:,:irank].copy()\n",
    "mvec,nvec=np.reshape(mvec,(NE*2,1)),np.reshape(nvec,(NE*2,1))\n",
    "for i in np.arange(irank):\n",
    "    nvec[:,i]*=svam[i]\n",
    "# nvec,mvec = np.reshape(nvec,(NE*2,1)),np.reshape(mvec,(NE*2,1))\n",
    "maxordercut = 100\n",
    "# theta_k=np.zeros(maxordercut,dtype=complex)\n",
    "lambda_est = 0#np.zeros(1,dtype=complex)\n",
    "Jdyn=np.eye(NE*2)\n",
    "for iorder in range(maxordercut):\n",
    "    print(nvec.T@Jdyn@mvec)\n",
    "    theta_k=nvec.T@Jdyn@mvec\n",
    "    lambda_est=lambda_est+theta_k\n",
    "    Jdyn=Jdyn@X/lambdanew\n",
    "    # smaller than tolerance\n",
    "    errort=lambda_est-lambdanew\n",
    "    errort=np.sqrt(np.real(errort)**2+np.imag(errort)**2)\n",
    "    if errort<toleranceerr:\n",
    "      break"
   ]
  },
  {
   "source": [
    "**Rank-2**\n",
    "\n",
    "* test $\\mathbf{n}^{\\intercal}\\mathbf{Q}_{\\lambda}\\mathbf{m}$"
   ],
   "cell_type": "markdown",
   "metadata": {}
  },
  {
   "cell_type": "code",
   "execution_count": 186,
   "metadata": {},
   "outputs": [
    {
     "output_type": "stream",
     "name": "stdout",
     "text": [
      "post 0.9\n"
     ]
    }
   ],
   "source": [
    "Nt=np.array([1000,1000])\n",
    "NE,NI=Nt[0],Nt[1]\n",
    "Nparams=np.array([NE,NI])\n",
    "JE,JI,a,b=1.0,2.5,-0.6,0.6\n",
    "# a,b=0.0,0.0\n",
    "JEE,JIE,JEI,JII=JE+a,JE-a,JI-b,JI+b\n",
    "# JEE,JIE,JEI,JII=JE,JE,JI,JI\n",
    "# generate mean Am\n",
    "Am,Jsv,ua,svam,va=generate_meanmat(Nparams,JEE,JIE,JEI,JII)\n",
    "eigvoutlier,_=la.eig(Am)"
   ]
  },
  {
   "cell_type": "code",
   "execution_count": 164,
   "metadata": {},
   "outputs": [
    {
     "output_type": "stream",
     "name": "stdout",
     "text": [
      "[-1.52868284+0.j -1.04421043+0.j]\n[-1.5+0.j -1.2+0.j]\n"
     ]
    }
   ],
   "source": [
    "# fixed average g\n",
    "gaverage=0.9\n",
    "print('pre avg g:',gaverage)\n",
    "while(1):\n",
    "    grand = gmatamplitude(gaverage,2)\n",
    "    idxeff = np.where(grand>0)\n",
    "    if (np.shape(idxeff)[1]>2):\n",
    "        np.random.shuffle(grand)\n",
    "        break\n",
    "## random X matrix\n",
    "# grand = gaverage*np.ones(4)/np.sqrt(2.0)\n",
    "# ## homogeneous X matrix\n",
    "\n",
    "X,Gamp,eigvgmT,eigvecgm,gaverage=generate_localstatsmat(Nparams,grand)#,ugm,svgm,vgm\n",
    "# eigvgm=eigvals(eigvgmT) # for schur decomposition\n",
    "eigvgm=eigvgmT.copy()\n",
    "idx = eigvgm.argsort()[::-1]   \n",
    "eigvgm = eigvgm[idx]\n",
    "gradius=np.sqrt(eigvgm[0])\n",
    "# scpla.eig(X, left=False, right=True)\n",
    "# mix together\n",
    "Xtotal=X.copy()+Am.copy()\n",
    "# eigen decomposition\n",
    "eigvxt,eigvecxt=la.eig(Xtotal)\n",
    "# check the outliers\n",
    "ampeigvxt = np.sqrt(np.real(eigvxt)**2+np.imag(eigvxt)**2)\n",
    "outliers = eigvxt[np.where(ampeigvxt>gradius)]\n",
    "numoutliers = len(outliers)\n",
    "print('post cal avg g:',gaverage)\n"
   ]
  },
  {
   "cell_type": "code",
   "execution_count": 74,
   "metadata": {},
   "outputs": [
    {
     "output_type": "stream",
     "name": "stdout",
     "text": [
      "[[-2.42282545]]\n"
     ]
    }
   ],
   "source": [
    "# lambda\n",
    "lambdanewseries=np.zeros(2)\n",
    "eigvnewseries=np.zeros((2,2),dtype=complex)\n",
    "irank=2\n",
    "toleranceerr=1e-3\n",
    "lambdanewseries=outliers[:irank].copy()\n",
    "mvec,nvec=ua[:,:irank].copy(),va[:,:irank].copy()\n",
    "for i in np.arange(irank):\n",
    "    nvec[:,i]*=svam[i]\n",
    "# nvec,mvec = np.reshape(nvec,(NE*2,1)),np.reshape(mvec,(NE*2,1))\n",
    "cutorder = np.zeros(2)\n",
    "maxordercut = 100\n",
    "theta_k=np.zeros((irank,irank),dtype=complex)\n",
    "for jl in range(2):\n",
    "    # Mlambda=np.zeros((NE*2,NE*2))\n",
    "    Jdyn=np.eye(NE*2,dtype=complex)\n",
    "    Mlambda=Jdyn.copy()\n",
    "    for jcut in range(maxordercut):\n",
    "        Jdyn=Jdyn@X\n",
    "        Mlambda+=Jdyn/(lambdanewseries[jl]**(1+jcut))\n",
    "        theta_k=nvec.T@Mlambda@mvec\n",
    "        eigvnew,eigvecnew=la.eig(theta_k)\n",
    "        lambda_est=eigvnew.copy()\n",
    "        # in this case theta_k[0,1], theta_k[1,0]\n",
    "        errort=lambda_est-lambdanewseries[jl]\n",
    "        errort=np.min(np.sqrt(np.real(errort)**2+np.imag(errort)**2))\n",
    "        if errort<toleranceerr:\n",
    "            cutorder[jl]=jcut\n",
    "            eigvnewseries[jl,:],eigvecnew=la.eig(theta_k)\n",
    "            break\n",
    "print(cutorder)\n",
    "print(eigvnewseries)\n",
    "print(outliers[:irank])"
   ]
  },
  {
   "source": [
    "## testing the eigenvectors of J and P\n",
    "* rank-1, the eigenvalue and eigenvectors in rank-1 structure.\n",
    "* rank-2, check the mean of eigenvalues (lambda_1 and lambda_2)\n",
    "* rank-1 which one is the better expression"
   ],
   "cell_type": "markdown",
   "metadata": {}
  },
  {
   "cell_type": "code",
   "execution_count": 56,
   "metadata": {},
   "outputs": [],
   "source": [
    "Nt=np.array([1000,1000])\n",
    "NE,NI=Nt[0],Nt[1]\n",
    "Nparams=np.array([NE,NI])\n",
    "JE,JI,a,b=1.0,3.5,-0.6,0.6\n",
    "a,b=0.0,0.0\n",
    "JEE,JIE,JEI,JII=JE+a,JE-a,JI-b,JI+b\n",
    "# JEE,JIE,JEI,JII=JE,JE,JI,JI\n",
    "# generate mean Am\n",
    "Am,Jsv,ua,svam,va=generate_meanmat_eig(Nparams,JEE,JIE,JEI,JII)\n",
    "eigvoutlier,_=la.eig(Am)"
   ]
  },
  {
   "source": [
    "* first test homogeneous random matrix\n",
    "* second test extreme, heterogeneous random matrix"
   ],
   "cell_type": "markdown",
   "metadata": {}
  },
  {
   "cell_type": "code",
   "execution_count": 57,
   "metadata": {},
   "outputs": [
    {
     "output_type": "stream",
     "name": "stdout",
     "text": [
      "avg g series: [0.1 0.2 0.3 0.4 0.5 0.6 0.7 0.8 0.9 1. ]\n"
     ]
    }
   ],
   "source": [
    "# first use the homogeneous g\n",
    "gaverageseries=np.linspace(0.1,1.0,10)\n",
    "print('avg g series:',gaverageseries)\n",
    "# while(1):\n",
    "#     grand = gmatamplitude_eig(gaverage**2,2)\n",
    "#     idxeff = np.where(grand>0)\n",
    "#     if (np.shape(idxeff)[1]>2):\n",
    "#         np.random.shuffle(grand)\n",
    "#         break\n",
    "# random X matrix\n",
    "\n"
   ]
  },
  {
   "cell_type": "code",
   "execution_count": 58,
   "metadata": {},
   "outputs": [],
   "source": [
    "ngavg = len(gaverageseries)\n",
    "nbatch = 10\n",
    "eigvecxt_series,sglmxt_series,sglnxt_series = np.zeros((NE*2,nbatch,ngavg)),np.zeros((NE*2,nbatch,ngavg)),np.zeros((NE*2,nbatch,ngavg))\n",
    "eigvoutlier_series=np.zeros((ngavg,nbatch))\n",
    "simradius_series=np.zeros((ngavg,nbatch))\n",
    "for iavg, gaverage in enumerate(gaverageseries):\n",
    "    grand = gaverage*np.ones(4)/np.sqrt(2.0)\n",
    "    for ibatch in range(nbatch):\n",
    "        ## homogeneous X matrix\n",
    "        X,Gamp,eigvgmT,eigvecgm,gaverage=generate_localstatsmat_eig(Nparams,grand)#,ugm,svgm,vgm\n",
    "        # eigvgm=eigvals(eigvgmT) # for schur decomposition\n",
    "        eigvgm=eigvgmT.copy()\n",
    "        idx = eigvgm.argsort()[::-1]   \n",
    "        eigvgm = eigvgm[idx]\n",
    "        gradius=np.sqrt(eigvgm[0])\n",
    "        # scpla.eig(X, left=False, right=True)\n",
    "        # mix together\n",
    "        Xtotal=X.copy()+Am.copy()\n",
    "        # eigen decomposition\n",
    "        eigvxt,eigvecxt=la.eig(Xtotal)\n",
    "        # SVD decomposition\n",
    "        uxt,svxt,vhxt=la.svd(Xtotal)\n",
    "        vxt=vhxt.T\n",
    "        mxt= uxt[:,0].copy()\n",
    "        nxt=vxt[:,0].copy()*svxt[0]\n",
    "        # check the outliers\n",
    "        ampeigvxts= np.sqrt(np.real(eigvxt)**2+np.imag(eigvxt)**2)\n",
    "        ampeigvxtbulk= np.sqrt(np.real(eigvxt[1])**2+np.imag(eigvxt[1])**2)\n",
    "        outliers = eigvxt[np.where(ampeigvxt>ampeigvxtbulk)]\n",
    "\n",
    "        # preserve the data\n",
    "        eigvecxt_series[:,ibatch,iavg]=eigvecxt[:,0]\n",
    "        sglmxt_series[:,ibatch,iavg]=mxt[:]\n",
    "        sglnxt_series[:,ibatch,iavg]=nxt[:]\n",
    "        eigvoutlier_series[iavg,ibatch]=outliers[0]\n",
    "        simradius_series[iavg,ibatch]=ampeigvxtbulk\n",
    "        # print('post cal avg g:',gaverage)\n"
   ]
  },
  {
   "cell_type": "code",
   "execution_count": 59,
   "metadata": {},
   "outputs": [],
   "source": [
    "## calculate the mean and variances of new outliers\n",
    "avg_outliersnew,std_outliersnew=np.zeros(ngavg),np.zeros(ngavg)\n",
    "avg_overlap_eigvec_m,std_overlap_eigvec_m=np.zeros(ngavg),np.zeros(ngavg)\n",
    "for i in range(ngavg):\n",
    "    avg_outliersnew[i]=np.mean(eigvoutlier_series[i,:])\n",
    "    std_outliersnew[i]=np.std(eigvoutlier_series[i,:])\n",
    "    eigvec_current=np.squeeze(eigvecxt_series[:,:,i])\n",
    "    overlap_eigvec_m = np.abs(np.reshape(ua[:,0],(1,NE*2))@eigvec_current)\n",
    "    avg_overlap_eigvec_m[i]=np.mean(overlap_eigvec_m)\n",
    "    std_overlap_eigvec_m[i]=np.std(overlap_eigvec_m)"
   ]
  },
  {
   "cell_type": "code",
   "execution_count": 60,
   "metadata": {},
   "outputs": [],
   "source": [
    "# fig,ax=plt.subplots(figsize=(9,9))\n",
    "ax.plot(gaverageseries,avg_overlap_eigvec_m,'b.')\n",
    "ax.set_aspect('equal')"
   ]
  },
  {
   "source": [
    "## noise distribution (clouds' statistics)"
   ],
   "cell_type": "markdown",
   "metadata": {}
  },
  {
   "cell_type": "code",
   "execution_count": null,
   "metadata": {},
   "outputs": [],
   "source": []
  },
  {
   "cell_type": "code",
   "execution_count": 34,
   "metadata": {},
   "outputs": [
    {
     "output_type": "stream",
     "name": "stdout",
     "text": [
      "grand:\n[0.6363961 0.6363961 0.6363961 0.6363961]\nr_g\n0.9\noverlap between eigenvectors:\n(-0.7207829438756697+0j)\nnew outliers\n(-1.523590688003861+0j)\n"
     ]
    }
   ],
   "source": [
    "print('eigenvector:')\n",
    "print(eigvecxt_series[1::500,1,1])\n",
    "print('left singular vector:')\n",
    "print(sglmxt_series[1::500,1,1])\n",
    "print('grand:')\n",
    "print(grand)\n",
    "print('r_g')\n",
    "print(gradius)\n",
    "eigvecoutlier = eigvecxt[:,0].copy()\n",
    "overlap_eigvec_m = np.sum(eigvecoutlier*ua)\n",
    "print('overlap between eigenvectors:')\n",
    "print(overlap_eigvec_m)\n",
    "print('new outliers')\n",
    "print(outliers[0])"
   ]
  },
  {
   "source": [
    "## Plot the distribution of the entries in"
   ],
   "cell_type": "markdown",
   "metadata": {}
  },
  {
   "cell_type": "code",
   "execution_count": 35,
   "metadata": {},
   "outputs": [],
   "source": [
    "# red dot the original eigenvectors\n",
    "# blue scatter the new eigenvectors\n",
    "fig,ax=plt.subplots(figsize=(9,9))\n",
    "ax.scatter(eigvecoutlier[:NE],eigvecoutlier[NE:])\n",
    "ax.set_aspect('equal')"
   ]
  },
  {
   "source": [
    "## plot fixed grand"
   ],
   "cell_type": "markdown",
   "metadata": {}
  },
  {
   "cell_type": "code",
   "execution_count": 63,
   "metadata": {},
   "outputs": [
    {
     "output_type": "stream",
     "name": "stdout",
     "text": [
      "[0.19405327 0.19405327 0.19405327 0.19405327 0.19405327 0.19405327\n 0.19405327 0.19405327 0.19405327 0.19405327 0.19405327 0.19405327\n 0.19405327 0.19405327 0.19405327 0.19405327 0.19405327 0.19405327\n 0.19405327 0.19405327 0.19405327 0.19405327 0.19405327 0.19405327\n 0.19405327 0.19405327 0.19405327 0.19405327 0.19405327 0.19405327\n 0.19405327 0.19405327 0.19405327 0.19405327 0.19405327 0.19405327\n 0.19405327 0.19405327 0.19405327 0.19405327 0.19405327 0.19405327\n 0.19405327 0.19405327 0.19405327 0.19405327 0.19405327 0.19405327\n 0.19405327 0.19405327 0.19405327 0.19405327 0.19405327 0.19405327\n 0.19405327 0.19405327 0.19405327 0.19405327 0.19405327 0.19405327\n 0.19405327 0.19405327 0.19405327 0.19405327 0.19405327 0.19405327\n 0.19405327 0.19405327 0.19405327 0.19405327 0.19405327 0.19405327\n 0.19405327 0.19405327 0.19405327 0.19405327 0.19405327 0.19405327\n 0.19405327 0.19405327 0.19405327 0.19405327 0.19405327 0.19405327\n 0.19405327 0.19405327 0.19405327 0.19405327 0.19405327 0.19405327\n 0.19405327 0.19405327 0.19405327 0.19405327 0.19405327 0.19405327\n 0.19405327 0.19405327 0.19405327 0.19405327]\n"
     ]
    },
    {
     "output_type": "execute_result",
     "data": {
      "text/plain": [
       "<matplotlib.legend.Legend at 0x7fa034248e80>"
      ]
     },
     "metadata": {},
     "execution_count": 63
    }
   ],
   "source": [
    "# print(np.max(-radiusgseries))\n",
    "print(gproperties[:,0])\n",
    "# fig,ax=plt.subplots(figsize=(8,6))\n",
    "for i in range(epochs):\n",
    "  endpoint = np.where(np.real(eigvxtseries[i,:])**2+np.imag(eigvxtseries[i,:])**2>0)\n",
    "  lennum = 2#np.shape(endpoint)[1]\n",
    "  ax.scatter(np.real(eigvxtseries[i,:lennum]),np.imag(eigvxtseries[i,:lennum]), s=15.0,c='green',alpha=0.5)\n",
    "\n",
    "ax.set_xlabel('radius',fontsize=16)\n",
    "ax.set_ylabel('outlier: real ',fontsize=16)\n",
    "# ax.set_xlim([-gaverage,+1*gaverage])\n",
    "# ax.set_ylim([eigvorg-gaverage,eigvorg+1*gaverage])\n",
    "ax.set_aspect('equal')\n",
    "\n",
    "theta = np.linspace(0, 2 * np.pi, 200)\n",
    "xc = np.sqrt(2)*gaverage*np.cos(theta)\n",
    "yc = np.sqrt(2)*gaverage*np.sin(theta)\n",
    "\n",
    "xr = np.sqrt(2)*gradius*np.cos(theta)\n",
    "yr = np.sqrt(2)*gradius*np.sin(theta)\n",
    "\n",
    "xa = gaverage*np.cos(theta)\n",
    "ya = gaverage*np.sin(theta)\n",
    "\n",
    "# eigenvalue\n",
    "ax.plot(xc, yc, color=\"darkred\", linewidth=1.5,label=r'max $r_g$')\n",
    "ax.plot(xr, yr, color=\"green\", linewidth=1.5,label=r'$r_g$')\n",
    "ax.plot(xa, ya, color=\"grey\", linewidth=1.5,linestyle='--',label=r'fixed $\\bar{g}$')\n",
    "ax.scatter(np.real(eigvorg),np.imag(eigvorg),s=30.0,c='red',alpha=1,label='original outliers')\n",
    "ax.set_xlabel('real',fontsize=16)\n",
    "ax.set_ylabel('imaginary',fontsize=16)\n",
    "ax.legend()"
   ]
  },
  {
   "cell_type": "code",
   "execution_count": 30,
   "metadata": {},
   "outputs": [
    {
     "output_type": "stream",
     "name": "stdout",
     "text": [
      "trace equivalent\n-2.7 (-2.5504584145999853+0j)\ngrand fixed\n[0.69473237 0.         0.41306562 0.25830937]\noutliers after\n[-1.61261702+0.j -0.9378414 +0.j]\noriginal outliers\n[-1.5+0.j -1.2+0.j]\n"
     ]
    }
   ],
   "source": [
    "## CHECK THE TRACE OF DETERMINISTIC CONNECTIVITY IS EQUIVALENT TO J\n",
    "tracedeterm=JE-JI+a-b\n",
    "traceoverall=np.sum(eigvxt[:2])\n",
    "print('trace equivalent')\n",
    "print(tracedeterm,traceoverall)\n",
    "print('grand fixed')\n",
    "print(grand)\n",
    "print('outliers after')\n",
    "print(outliers[:2])\n",
    "print('original outliers')\n",
    "print(eigvorg)"
   ]
  },
  {
   "cell_type": "code",
   "execution_count": 38,
   "metadata": {},
   "outputs": [
    {
     "output_type": "stream",
     "name": "stdout",
     "text": [
      "[nan nan nan nan nan nan nan nan nan nan nan nan nan nan nan nan nan nan\n nan nan nan nan nan nan nan nan nan nan nan nan nan nan nan nan nan nan\n nan nan nan nan nan nan nan nan nan nan nan nan nan nan]\n"
     ]
    },
    {
     "output_type": "error",
     "ename": "ValueError",
     "evalue": "'c' argument must be a color, a sequence of colors, or a sequence of numbers, not nan",
     "traceback": [
      "\u001b[0;31m---------------------------------------------------------------------------\u001b[0m",
      "\u001b[0;31mValueError\u001b[0m                                Traceback (most recent call last)",
      "\u001b[0;32m/Applications/Anaconda/anaconda3/lib/python3.8/site-packages/matplotlib/colors.py\u001b[0m in \u001b[0;36mto_rgba_array\u001b[0;34m(c, alpha)\u001b[0m\n\u001b[1;32m    324\u001b[0m         \u001b[0;32mtry\u001b[0m\u001b[0;34m:\u001b[0m\u001b[0;34m\u001b[0m\u001b[0;34m\u001b[0m\u001b[0m\n\u001b[0;32m--> 325\u001b[0;31m             \u001b[0mresult\u001b[0m \u001b[0;34m=\u001b[0m \u001b[0mnp\u001b[0m\u001b[0;34m.\u001b[0m\u001b[0marray\u001b[0m\u001b[0;34m(\u001b[0m\u001b[0;34m[\u001b[0m\u001b[0mto_rgba\u001b[0m\u001b[0;34m(\u001b[0m\u001b[0mcc\u001b[0m\u001b[0;34m,\u001b[0m \u001b[0malpha\u001b[0m\u001b[0;34m)\u001b[0m \u001b[0;32mfor\u001b[0m \u001b[0mcc\u001b[0m \u001b[0;32min\u001b[0m \u001b[0mc\u001b[0m\u001b[0;34m]\u001b[0m\u001b[0;34m)\u001b[0m\u001b[0;34m\u001b[0m\u001b[0;34m\u001b[0m\u001b[0m\n\u001b[0m\u001b[1;32m    326\u001b[0m         \u001b[0;32mexcept\u001b[0m \u001b[0mValueError\u001b[0m\u001b[0;34m:\u001b[0m\u001b[0;34m\u001b[0m\u001b[0;34m\u001b[0m\u001b[0m\n",
      "\u001b[0;32m/Applications/Anaconda/anaconda3/lib/python3.8/site-packages/matplotlib/colors.py\u001b[0m in \u001b[0;36m<listcomp>\u001b[0;34m(.0)\u001b[0m\n\u001b[1;32m    324\u001b[0m         \u001b[0;32mtry\u001b[0m\u001b[0;34m:\u001b[0m\u001b[0;34m\u001b[0m\u001b[0;34m\u001b[0m\u001b[0m\n\u001b[0;32m--> 325\u001b[0;31m             \u001b[0mresult\u001b[0m \u001b[0;34m=\u001b[0m \u001b[0mnp\u001b[0m\u001b[0;34m.\u001b[0m\u001b[0marray\u001b[0m\u001b[0;34m(\u001b[0m\u001b[0;34m[\u001b[0m\u001b[0mto_rgba\u001b[0m\u001b[0;34m(\u001b[0m\u001b[0mcc\u001b[0m\u001b[0;34m,\u001b[0m \u001b[0malpha\u001b[0m\u001b[0;34m)\u001b[0m \u001b[0;32mfor\u001b[0m \u001b[0mcc\u001b[0m \u001b[0;32min\u001b[0m \u001b[0mc\u001b[0m\u001b[0;34m]\u001b[0m\u001b[0;34m)\u001b[0m\u001b[0;34m\u001b[0m\u001b[0;34m\u001b[0m\u001b[0m\n\u001b[0m\u001b[1;32m    326\u001b[0m         \u001b[0;32mexcept\u001b[0m \u001b[0mValueError\u001b[0m\u001b[0;34m:\u001b[0m\u001b[0;34m\u001b[0m\u001b[0;34m\u001b[0m\u001b[0m\n",
      "\u001b[0;32m/Applications/Anaconda/anaconda3/lib/python3.8/site-packages/matplotlib/colors.py\u001b[0m in \u001b[0;36mto_rgba\u001b[0;34m(c, alpha)\u001b[0m\n\u001b[1;32m    184\u001b[0m     \u001b[0;32mif\u001b[0m \u001b[0mrgba\u001b[0m \u001b[0;32mis\u001b[0m \u001b[0;32mNone\u001b[0m\u001b[0;34m:\u001b[0m  \u001b[0;31m# Suppress exception chaining of cache lookup failure.\u001b[0m\u001b[0;34m\u001b[0m\u001b[0;34m\u001b[0m\u001b[0m\n\u001b[0;32m--> 185\u001b[0;31m         \u001b[0mrgba\u001b[0m \u001b[0;34m=\u001b[0m \u001b[0m_to_rgba_no_colorcycle\u001b[0m\u001b[0;34m(\u001b[0m\u001b[0mc\u001b[0m\u001b[0;34m,\u001b[0m \u001b[0malpha\u001b[0m\u001b[0;34m)\u001b[0m\u001b[0;34m\u001b[0m\u001b[0;34m\u001b[0m\u001b[0m\n\u001b[0m\u001b[1;32m    186\u001b[0m         \u001b[0;32mtry\u001b[0m\u001b[0;34m:\u001b[0m\u001b[0;34m\u001b[0m\u001b[0;34m\u001b[0m\u001b[0m\n",
      "\u001b[0;32m/Applications/Anaconda/anaconda3/lib/python3.8/site-packages/matplotlib/colors.py\u001b[0m in \u001b[0;36m_to_rgba_no_colorcycle\u001b[0;34m(c, alpha)\u001b[0m\n\u001b[1;32m    260\u001b[0m             \u001b[0;32mreturn\u001b[0m \u001b[0mc\u001b[0m\u001b[0;34m,\u001b[0m \u001b[0mc\u001b[0m\u001b[0;34m,\u001b[0m \u001b[0mc\u001b[0m\u001b[0;34m,\u001b[0m \u001b[0malpha\u001b[0m \u001b[0;32mif\u001b[0m \u001b[0malpha\u001b[0m \u001b[0;32mis\u001b[0m \u001b[0;32mnot\u001b[0m \u001b[0;32mNone\u001b[0m \u001b[0;32melse\u001b[0m \u001b[0;36m1.\u001b[0m\u001b[0;34m\u001b[0m\u001b[0;34m\u001b[0m\u001b[0m\n\u001b[0;32m--> 261\u001b[0;31m         \u001b[0;32mraise\u001b[0m \u001b[0mValueError\u001b[0m\u001b[0;34m(\u001b[0m\u001b[0;34mf\"Invalid RGBA argument: {orig_c!r}\"\u001b[0m\u001b[0;34m)\u001b[0m\u001b[0;34m\u001b[0m\u001b[0;34m\u001b[0m\u001b[0m\n\u001b[0m\u001b[1;32m    262\u001b[0m     \u001b[0;31m# tuple color.\u001b[0m\u001b[0;34m\u001b[0m\u001b[0;34m\u001b[0m\u001b[0;34m\u001b[0m\u001b[0m\n",
      "\u001b[0;31mValueError\u001b[0m: Invalid RGBA argument: 'n'",
      "\nDuring handling of the above exception, another exception occurred:\n",
      "\u001b[0;31mValueError\u001b[0m                                Traceback (most recent call last)",
      "\u001b[0;32m/Applications/Anaconda/anaconda3/lib/python3.8/site-packages/matplotlib/axes/_axes.py\u001b[0m in \u001b[0;36m_parse_scatter_color_args\u001b[0;34m(c, edgecolors, kwargs, xsize, get_next_color_func)\u001b[0m\n\u001b[1;32m   4238\u001b[0m             \u001b[0;32mtry\u001b[0m\u001b[0;34m:\u001b[0m  \u001b[0;31m# Is 'c' acceptable as PathCollection facecolors?\u001b[0m\u001b[0;34m\u001b[0m\u001b[0;34m\u001b[0m\u001b[0m\n\u001b[0;32m-> 4239\u001b[0;31m                 \u001b[0mcolors\u001b[0m \u001b[0;34m=\u001b[0m \u001b[0mmcolors\u001b[0m\u001b[0;34m.\u001b[0m\u001b[0mto_rgba_array\u001b[0m\u001b[0;34m(\u001b[0m\u001b[0mc\u001b[0m\u001b[0;34m)\u001b[0m\u001b[0;34m\u001b[0m\u001b[0;34m\u001b[0m\u001b[0m\n\u001b[0m\u001b[1;32m   4240\u001b[0m             \u001b[0;32mexcept\u001b[0m \u001b[0mValueError\u001b[0m\u001b[0;34m:\u001b[0m\u001b[0;34m\u001b[0m\u001b[0;34m\u001b[0m\u001b[0m\n",
      "\u001b[0;32m/Applications/Anaconda/anaconda3/lib/python3.8/site-packages/matplotlib/colors.py\u001b[0m in \u001b[0;36mto_rgba_array\u001b[0;34m(c, alpha)\u001b[0m\n\u001b[1;32m    326\u001b[0m         \u001b[0;32mexcept\u001b[0m \u001b[0mValueError\u001b[0m\u001b[0;34m:\u001b[0m\u001b[0;34m\u001b[0m\u001b[0;34m\u001b[0m\u001b[0m\n\u001b[0;32m--> 327\u001b[0;31m             raise ValueError(\n\u001b[0m\u001b[1;32m    328\u001b[0m                 \u001b[0;34m\"'%s' is neither a valid single color nor a color sequence \"\u001b[0m\u001b[0;34m\u001b[0m\u001b[0;34m\u001b[0m\u001b[0m\n",
      "\u001b[0;31mValueError\u001b[0m: 'nan' is neither a valid single color nor a color sequence consisting of single character color specifiers such as 'rgb'. Note also that the latter is deprecated.",
      "\nDuring handling of the above exception, another exception occurred:\n",
      "\u001b[0;31mValueError\u001b[0m                                Traceback (most recent call last)",
      "\u001b[0;32m<ipython-input-38-3db5d5fcacb8>\u001b[0m in \u001b[0;36m<module>\u001b[0;34m\u001b[0m\n\u001b[1;32m      9\u001b[0m   \u001b[0mendpoint\u001b[0m \u001b[0;34m=\u001b[0m \u001b[0mnp\u001b[0m\u001b[0;34m.\u001b[0m\u001b[0mwhere\u001b[0m\u001b[0;34m(\u001b[0m\u001b[0mnp\u001b[0m\u001b[0;34m.\u001b[0m\u001b[0mreal\u001b[0m\u001b[0;34m(\u001b[0m\u001b[0meigvxtseries\u001b[0m\u001b[0;34m[\u001b[0m\u001b[0mi\u001b[0m\u001b[0;34m,\u001b[0m\u001b[0;34m:\u001b[0m\u001b[0;34m]\u001b[0m\u001b[0;34m)\u001b[0m\u001b[0;34m**\u001b[0m\u001b[0;36m2\u001b[0m\u001b[0;34m+\u001b[0m\u001b[0mnp\u001b[0m\u001b[0;34m.\u001b[0m\u001b[0mimag\u001b[0m\u001b[0;34m(\u001b[0m\u001b[0meigvxtseries\u001b[0m\u001b[0;34m[\u001b[0m\u001b[0mi\u001b[0m\u001b[0;34m,\u001b[0m\u001b[0;34m:\u001b[0m\u001b[0;34m]\u001b[0m\u001b[0;34m)\u001b[0m\u001b[0;34m**\u001b[0m\u001b[0;36m2\u001b[0m\u001b[0;34m>\u001b[0m\u001b[0;36m0\u001b[0m\u001b[0;34m)\u001b[0m\u001b[0;34m\u001b[0m\u001b[0;34m\u001b[0m\u001b[0m\n\u001b[1;32m     10\u001b[0m   \u001b[0mlennum\u001b[0m \u001b[0;34m=\u001b[0m \u001b[0;36m2\u001b[0m\u001b[0;31m#np.shape(endpoint)[1]\u001b[0m\u001b[0;34m\u001b[0m\u001b[0;34m\u001b[0m\u001b[0m\n\u001b[0;32m---> 11\u001b[0;31m   \u001b[0max\u001b[0m\u001b[0;34m.\u001b[0m\u001b[0mscatter\u001b[0m\u001b[0;34m(\u001b[0m\u001b[0mnp\u001b[0m\u001b[0;34m.\u001b[0m\u001b[0mreal\u001b[0m\u001b[0;34m(\u001b[0m\u001b[0meigvxtseries\u001b[0m\u001b[0;34m[\u001b[0m\u001b[0mi\u001b[0m\u001b[0;34m,\u001b[0m\u001b[0;34m:\u001b[0m\u001b[0mlennum\u001b[0m\u001b[0;34m]\u001b[0m\u001b[0;34m)\u001b[0m\u001b[0;34m,\u001b[0m\u001b[0mnp\u001b[0m\u001b[0;34m.\u001b[0m\u001b[0mimag\u001b[0m\u001b[0;34m(\u001b[0m\u001b[0meigvxtseries\u001b[0m\u001b[0;34m[\u001b[0m\u001b[0mi\u001b[0m\u001b[0;34m,\u001b[0m\u001b[0;34m:\u001b[0m\u001b[0mlennum\u001b[0m\u001b[0;34m]\u001b[0m\u001b[0;34m)\u001b[0m\u001b[0;34m,\u001b[0m \u001b[0ms\u001b[0m\u001b[0;34m=\u001b[0m\u001b[0;36m15.0\u001b[0m\u001b[0;34m,\u001b[0m\u001b[0mc\u001b[0m\u001b[0;34m=\u001b[0m\u001b[0mcolorseries\u001b[0m\u001b[0;34m[\u001b[0m\u001b[0mi\u001b[0m\u001b[0;34m]\u001b[0m\u001b[0;34m,\u001b[0m\u001b[0malpha\u001b[0m\u001b[0;34m=\u001b[0m\u001b[0;36m0.5\u001b[0m\u001b[0;34m)\u001b[0m\u001b[0;34m\u001b[0m\u001b[0;34m\u001b[0m\u001b[0m\n\u001b[0m\u001b[1;32m     12\u001b[0m \u001b[0;34m\u001b[0m\u001b[0m\n\u001b[1;32m     13\u001b[0m \u001b[0max\u001b[0m\u001b[0;34m.\u001b[0m\u001b[0mset_xlabel\u001b[0m\u001b[0;34m(\u001b[0m\u001b[0;34m'radius'\u001b[0m\u001b[0;34m,\u001b[0m\u001b[0mfontsize\u001b[0m\u001b[0;34m=\u001b[0m\u001b[0;36m16\u001b[0m\u001b[0;34m)\u001b[0m\u001b[0;34m\u001b[0m\u001b[0;34m\u001b[0m\u001b[0m\n",
      "\u001b[0;32m/Applications/Anaconda/anaconda3/lib/python3.8/site-packages/matplotlib/__init__.py\u001b[0m in \u001b[0;36minner\u001b[0;34m(ax, data, *args, **kwargs)\u001b[0m\n\u001b[1;32m   1563\u001b[0m     \u001b[0;32mdef\u001b[0m \u001b[0minner\u001b[0m\u001b[0;34m(\u001b[0m\u001b[0max\u001b[0m\u001b[0;34m,\u001b[0m \u001b[0;34m*\u001b[0m\u001b[0margs\u001b[0m\u001b[0;34m,\u001b[0m \u001b[0mdata\u001b[0m\u001b[0;34m=\u001b[0m\u001b[0;32mNone\u001b[0m\u001b[0;34m,\u001b[0m \u001b[0;34m**\u001b[0m\u001b[0mkwargs\u001b[0m\u001b[0;34m)\u001b[0m\u001b[0;34m:\u001b[0m\u001b[0;34m\u001b[0m\u001b[0;34m\u001b[0m\u001b[0m\n\u001b[1;32m   1564\u001b[0m         \u001b[0;32mif\u001b[0m \u001b[0mdata\u001b[0m \u001b[0;32mis\u001b[0m \u001b[0;32mNone\u001b[0m\u001b[0;34m:\u001b[0m\u001b[0;34m\u001b[0m\u001b[0;34m\u001b[0m\u001b[0m\n\u001b[0;32m-> 1565\u001b[0;31m             \u001b[0;32mreturn\u001b[0m \u001b[0mfunc\u001b[0m\u001b[0;34m(\u001b[0m\u001b[0max\u001b[0m\u001b[0;34m,\u001b[0m \u001b[0;34m*\u001b[0m\u001b[0mmap\u001b[0m\u001b[0;34m(\u001b[0m\u001b[0msanitize_sequence\u001b[0m\u001b[0;34m,\u001b[0m \u001b[0margs\u001b[0m\u001b[0;34m)\u001b[0m\u001b[0;34m,\u001b[0m \u001b[0;34m**\u001b[0m\u001b[0mkwargs\u001b[0m\u001b[0;34m)\u001b[0m\u001b[0;34m\u001b[0m\u001b[0;34m\u001b[0m\u001b[0m\n\u001b[0m\u001b[1;32m   1566\u001b[0m \u001b[0;34m\u001b[0m\u001b[0m\n\u001b[1;32m   1567\u001b[0m         \u001b[0mbound\u001b[0m \u001b[0;34m=\u001b[0m \u001b[0mnew_sig\u001b[0m\u001b[0;34m.\u001b[0m\u001b[0mbind\u001b[0m\u001b[0;34m(\u001b[0m\u001b[0max\u001b[0m\u001b[0;34m,\u001b[0m \u001b[0;34m*\u001b[0m\u001b[0margs\u001b[0m\u001b[0;34m,\u001b[0m \u001b[0;34m**\u001b[0m\u001b[0mkwargs\u001b[0m\u001b[0;34m)\u001b[0m\u001b[0;34m\u001b[0m\u001b[0;34m\u001b[0m\u001b[0m\n",
      "\u001b[0;32m/Applications/Anaconda/anaconda3/lib/python3.8/site-packages/matplotlib/cbook/deprecation.py\u001b[0m in \u001b[0;36mwrapper\u001b[0;34m(*args, **kwargs)\u001b[0m\n\u001b[1;32m    356\u001b[0m                 \u001b[0;34mf\"%(removal)s.  If any parameter follows {name!r}, they \"\u001b[0m\u001b[0;34m\u001b[0m\u001b[0;34m\u001b[0m\u001b[0m\n\u001b[1;32m    357\u001b[0m                 f\"should be pass as keyword, not positionally.\")\n\u001b[0;32m--> 358\u001b[0;31m         \u001b[0;32mreturn\u001b[0m \u001b[0mfunc\u001b[0m\u001b[0;34m(\u001b[0m\u001b[0;34m*\u001b[0m\u001b[0margs\u001b[0m\u001b[0;34m,\u001b[0m \u001b[0;34m**\u001b[0m\u001b[0mkwargs\u001b[0m\u001b[0;34m)\u001b[0m\u001b[0;34m\u001b[0m\u001b[0;34m\u001b[0m\u001b[0m\n\u001b[0m\u001b[1;32m    359\u001b[0m \u001b[0;34m\u001b[0m\u001b[0m\n\u001b[1;32m    360\u001b[0m     \u001b[0;32mreturn\u001b[0m \u001b[0mwrapper\u001b[0m\u001b[0;34m\u001b[0m\u001b[0;34m\u001b[0m\u001b[0m\n",
      "\u001b[0;32m/Applications/Anaconda/anaconda3/lib/python3.8/site-packages/matplotlib/axes/_axes.py\u001b[0m in \u001b[0;36mscatter\u001b[0;34m(self, x, y, s, c, marker, cmap, norm, vmin, vmax, alpha, linewidths, verts, edgecolors, plotnonfinite, **kwargs)\u001b[0m\n\u001b[1;32m   4399\u001b[0m \u001b[0;34m\u001b[0m\u001b[0m\n\u001b[1;32m   4400\u001b[0m         \u001b[0mc\u001b[0m\u001b[0;34m,\u001b[0m \u001b[0mcolors\u001b[0m\u001b[0;34m,\u001b[0m \u001b[0medgecolors\u001b[0m \u001b[0;34m=\u001b[0m\u001b[0;31m \u001b[0m\u001b[0;31m\\\u001b[0m\u001b[0;34m\u001b[0m\u001b[0;34m\u001b[0m\u001b[0m\n\u001b[0;32m-> 4401\u001b[0;31m             self._parse_scatter_color_args(\n\u001b[0m\u001b[1;32m   4402\u001b[0m                 \u001b[0mc\u001b[0m\u001b[0;34m,\u001b[0m \u001b[0medgecolors\u001b[0m\u001b[0;34m,\u001b[0m \u001b[0mkwargs\u001b[0m\u001b[0;34m,\u001b[0m \u001b[0mx\u001b[0m\u001b[0;34m.\u001b[0m\u001b[0msize\u001b[0m\u001b[0;34m,\u001b[0m\u001b[0;34m\u001b[0m\u001b[0;34m\u001b[0m\u001b[0m\n\u001b[1;32m   4403\u001b[0m                 get_next_color_func=self._get_patches_for_fill.get_next_color)\n",
      "\u001b[0;32m/Applications/Anaconda/anaconda3/lib/python3.8/site-packages/matplotlib/axes/_axes.py\u001b[0m in \u001b[0;36m_parse_scatter_color_args\u001b[0;34m(c, edgecolors, kwargs, xsize, get_next_color_func)\u001b[0m\n\u001b[1;32m   4243\u001b[0m                 \u001b[0;31m# Both the mapping *and* the RGBA conversion failed: pretty\u001b[0m\u001b[0;34m\u001b[0m\u001b[0;34m\u001b[0m\u001b[0;34m\u001b[0m\u001b[0m\n\u001b[1;32m   4244\u001b[0m                 \u001b[0;31m# severe failure => one may appreciate a verbose feedback.\u001b[0m\u001b[0;34m\u001b[0m\u001b[0;34m\u001b[0m\u001b[0;34m\u001b[0m\u001b[0m\n\u001b[0;32m-> 4245\u001b[0;31m                 raise ValueError(\n\u001b[0m\u001b[1;32m   4246\u001b[0m                     \u001b[0;34mf\"'c' argument must be a color, a sequence of colors, or \"\u001b[0m\u001b[0;34m\u001b[0m\u001b[0;34m\u001b[0m\u001b[0m\n\u001b[1;32m   4247\u001b[0m                     f\"a sequence of numbers, not {c}\")\n",
      "\u001b[0;31mValueError\u001b[0m: 'c' argument must be a color, a sequence of colors, or a sequence of numbers, not nan"
     ]
    }
   ],
   "source": [
    "maxradiusg,minradiusg=np.max(gproperties[:,0]),np.max(-gproperties[:,0])\n",
    "minradiusg*=(-1)\n",
    "radiusgseries = (gproperties[:,0]-minradiusg)/(maxradiusg-minradiusg)*1.0\n",
    "colorseries=[str(item) for item in radiusgseries]\n",
    "print(radiusgseries)\n",
    "# print(np.max(-radiusgseries))\n",
    "fig,ax=plt.subplots(figsize=(8,6))\n",
    "for i in range(epochs):\n",
    "  endpoint = np.where(np.real(eigvxtseries[i,:])**2+np.imag(eigvxtseries[i,:])**2>0)\n",
    "  lennum = 2#np.shape(endpoint)[1]\n",
    "  ax.scatter(np.real(eigvxtseries[i,:lennum]),np.imag(eigvxtseries[i,:lennum]), s=15.0,c=colorseries[i],alpha=0.5)\n",
    "\n",
    "ax.set_xlabel('radius',fontsize=16)\n",
    "ax.set_ylabel('outlier: real ',fontsize=16)\n",
    "# ax.set_xlim([-gaverage,+1*gaverage])\n",
    "# ax.set_ylim([eigvorg-gaverage,eigvorg+1*gaverage])\n",
    "ax.set_aspect('equal')\n",
    "\n",
    "theta = np.linspace(0, 2 * np.pi, 200)\n",
    "xc = np.sqrt(2)*gaverage*np.cos(theta)\n",
    "yc = np.sqrt(2)*gaverage*np.sin(theta)\n",
    "\n",
    "xa = gaverage*np.cos(theta)\n",
    "ya = gaverage*np.sin(theta)\n",
    "\n",
    "# eigenvalue\n",
    "ax.plot(xc, yc, color=\"darkred\", linewidth=1.5,label=r'max $r_g$')\n",
    "ax.plot(xa, ya, color=\"grey\", linewidth=1.5,linestyle='--',label=r'fixed $\\bar{g}$')\n",
    "ax.scatter(np.real(eigvorg),np.imag(eigvorg),s=30.0,c='red',alpha=1,label='original outliers')\n",
    "ax.set_xlabel('real',fontsize=16)\n",
    "ax.set_ylabel('imaginary',fontsize=16)\n",
    "ax.legend()"
   ]
  },
  {
   "source": [
    "## testing the overlap matrix "
   ],
   "cell_type": "markdown",
   "metadata": {}
  },
  {
   "cell_type": "code",
   "execution_count": 487,
   "metadata": {},
   "outputs": [
    {
     "output_type": "execute_result",
     "data": {
      "text/plain": [
       "[<matplotlib.lines.Line2D at 0x7ff62800dd30>]"
      ]
     },
     "metadata": {},
     "execution_count": 487
    }
   ],
   "source": [
    "##\n",
    "overlapseries = np.zeros((epochs,2,2),dtype=complex)\n",
    "\n",
    "# traceJseries,detJseries=np.zeros(epochs,dtype=complex),np.zeros(epochs,dtype=complex)\n",
    "# eigenvalue\n",
    "for i in range(epochs):\n",
    "    overlapseries[i,:,:]=np.squeeze(ntildeseries[i,:,:]).T@np.squeeze(mtildeseries[i,:,:])\n",
    "traceOVseries, detOVseries = np.zeros(epochs),np.zeros(epochs)\n",
    "for i in range(epochs):\n",
    "    traceOVseries[i]=overlapseries[i,0,0]+overlapseries[i,1,1]\n",
    "    detOVseries[i] = (overlapseries[i,0,0]*overlapseries[i,1,1]-overlapseries[i,0,1]*overlapseries[i,1,0])\n",
    "\n",
    "    # traceJseries[i]=np.sum(eigvxtseries[i,:2])\n",
    "    # detJseries[i] = la.det(np.squeeze(mtildeseries[i,:,:])@np.squeeze(ntildeseries[i,:,:]).T)\n",
    "fig,ax=plt.subplots(figsize=(8,6))\n",
    "# ax.scatter(detseries,traceseries, s=15.0,c='r',alpha=0.5)\n",
    "## determinant change with r_g\n",
    "rg_series = np.squeeze(gproperties[:,0])\n",
    "## tendency?\n",
    "ax.scatter(rg_series,detOVseries, s=5.0,c='r',alpha=0.5)\n",
    "ax.scatter(rg_series,detJseries, s=5.0,c='orange',alpha=0.5)\n",
    "ax.scatter(rg_series,-traceJseries**2/4, s=5.0,c='green',alpha=0.5)\n",
    "ax.scatter(rg_series,traceOVseries, s=5.0,c='b',alpha=0.5)\n",
    "# imag or real Tr^2/4 = Det\n",
    "imagrealsep = np.sum(eigvorg)#np.sum(eigvorg)**2/4.0\n",
    "detmin,detmax = np.max(-detseries),np.max(detseries)\n",
    "detmin *=(-1)\n",
    "xx = np.linspace(detmin*1.25,detmax*1.25,50)\n",
    "yy = imagrealsep*np.ones(50)\n",
    "ax.plot(xx,yy,'r--',linewidth=1.5)\n",
    "\n",
    "\n",
    "\n",
    "\n"
   ]
  },
  {
   "cell_type": "code",
   "execution_count": null,
   "metadata": {},
   "outputs": [],
   "source": [
    "##\n",
    "overlapseries = np.zeros((epochs,2,2),dtype=complex)\n",
    "# eigenvalue\n",
    "for i in range(epochs):\n",
    "    overlapseries[i,:,:]=np.squeeze(ntildeseries[i,:,:]).T@np.squeeze(mtildeseries[i,:,:])\n",
    "traceseries, detseries = np.zeros(epochs),np.zeros(epochs)\n",
    "for i in range(epochs):\n",
    "    traceseries[i]=overlapseries[i,0,0]+overlapseries[i,1,1]\n",
    "    detseries[i] = (overlapseries[i,0,0]*overlapseries[i,1,1]-overlapseries[i,0,1]*overlapseries[i,1,0])\n",
    "fig,ax=plt.subplots(figsize=(8,6))\n",
    "# ax.scatter(detseries,traceseries, s=15.0,c='r',alpha=0.5)\n",
    "## determinant change with r_g\n",
    "rg_series = np.squeeze(gproperties[:,0])\n",
    "## tendency?\n",
    "ax.scatter(rg_series,detseries, s=5.0,c='r',alpha=0.5)\n",
    "ax.scatter(rg_series,traceseries, s=5.0,c='b',alpha=0.5)\n",
    "# imag or real Tr^2/4 = Det\n",
    "imagrealsep = np.sum(eigvorg)**2/4.0\n",
    "detmin,detmax = np.max(-detseries),np.max(detseries)\n",
    "detmin *=(-1)\n",
    "xx = np.linspace(detmin*1.25,detmax*1.25,50)\n",
    "yy = imagrealsep*np.ones(50)\n",
    "ax.plot(xx,yy,'r--',linewidth=1.5)"
   ]
  },
  {
   "cell_type": "code",
   "execution_count": 453,
   "metadata": {},
   "outputs": [
    {
     "output_type": "execute_result",
     "data": {
      "text/plain": [
       "Text(0.5, 1.0, '$\\\\bar{g},\\\\max{r_g}=$0.60,0.85')"
      ]
     },
     "metadata": {},
     "execution_count": 453
    }
   ],
   "source": [
    "##\n",
    "nax,nay=2,2\n",
    "fig,ax=plt.subplots(nax,nay,figsize=(12,12))\n",
    "nsample = nax*nay\n",
    "idxsample = np.random.random_integers(epochs-1,size=(nax,nay))\n",
    "eigenvalueschange = np.zeros((nax,nay))\n",
    "# eigenvalue\n",
    "for i in range(nax):\n",
    "    for j in range(nay):\n",
    "        idx = idxsample[i][j]\n",
    "        ax[i][j].scatter(mtildeseries[idx,:NE,:],ntildeseries[idx,:NE,:],s=15.0,c='red',alpha=0.5)\n",
    "        ax[i][j].scatter(mtildeseries[idx,NE:],ntildeseries[idx,NE:],s=15.0,c='blue',alpha=0.5)\n",
    "        eigenvalueschange[i,j] = np.sum(mtildeseries[idx,:]*ntildeseries[idx,:])\n",
    "        ax[i][j].set_title(r'$\\tilde{m}^{\\intercal}\\tilde{n}=$'+str(format(eigenvalueschange[i,j],'.2f')))\n",
    "# ax[0].scatter(mtildeseries[idx0,:NE],ntildeseries[idx0,:NE],s=15.0,c='red',alpha=0.5)\n",
    "# ax[0].scatter(mtildeseries[idx0,NE:],ntildeseries[idx0,NE:],s=15.0,c='blue',alpha=0.5)\n",
    "# ax[1].scatter(mtildeseries[idx1,:NE],ntildeseries[idx1,:NE],s=15.0,c='red',alpha=0.5)\n",
    "# ax[1].scatter(mtildeseries[idx1,NE:],ntildeseries[idx1,NE:],s=15.0,c='blue',alpha=0.5)\n",
    "for i in range(nax):\n",
    "    for j in range(nay):\n",
    "        ax[i][j].set_xlim([-0.3,0.3])\n",
    "        ax[i][j].set_ylim([-0.3,0.3])\n",
    "        # ax[i].set_xticks(ticks)\n",
    "        # ax[i].set_yticks(ticks)\n",
    "        ax[i][j].set_aspect('equal')"
   ]
  },
  {
   "source": [
    "# back up code"
   ],
   "cell_type": "markdown",
   "metadata": {}
  },
  {
   "cell_type": "code",
   "execution_count": null,
   "metadata": {},
   "outputs": [],
   "source": [
    "# Block Gaussian Random Network\n",
    "xee,xei,xie,xii=0.6,0.25,0.25,0.3#1.2,1.2,1.8\n",
    "JE,JI=5.0*xee,4.0*xii\n",
    "\n",
    "# generate random \n",
    "Grand=np.array([xee,xei,xie,xii])\n",
    "X,Gamp,eigvgmT,eigvecgm,gaverage,ugm,svgm,vgm=generate_localstatsmat(Nparams,Grand)\n",
    "eigvgm=eigvals(eigvgmT)\n",
    "idx = eigvgm.argsort()[::-1]   \n",
    "eigvgm = eigvgm[idx]\n",
    "gradius=np.sqrt(eigvgm[0])\n",
    "# generate mean Am\n",
    "Am,Jsv,ua,svam,va=generate_meanmat(Nparams,JE,JI)\n",
    "# # CALCULATE XTOTAL\n",
    "# Xtotal=X.copy()+Am.copy()\n",
    "# # Combine, total svd decomposition\n",
    "# uxt,svxt,vhxt=la.svd(Xtotal)\n",
    "# vxt=vhxt.T   \n",
    "# eigvx,eigvecx=la.eig(Xtotal)"
   ]
  },
  {
   "cell_type": "code",
   "execution_count": 1218,
   "metadata": {},
   "outputs": [
    {
     "output_type": "stream",
     "name": "stdout",
     "text": [
      "vec1 [[-0.01897367]\n [ 0.02529822]] [-0.75]\nnumvec1: -0.01947075138589678 0.024917661215864535 -0.7814036484892962\nreal mean:\n0.02055340669452231 0.009104648046617814\nvec2 [[-0.01897367]\n [ 0.02529822]] [-0.75]\nnumvec2: 0.0172223163447693 0.02652153501818273 0.6493710236968548\nreal mean:\n0.020406871667918793 0.008844345420995098\n"
     ]
    }
   ],
   "source": [
    "# calculate mean for real\n",
    "mu_utilde = np.zeros((2,1))\n",
    "mu_utilde[0,0],mu_utilde[1,0]=np.mean(uxt[:NE,0]),np.mean(uxt[NE:,0])\n",
    "noise_utilde = np.zeros((2,1))\n",
    "noise_utilde[0,0],noise_utilde[1,0]=np.std(uxt[:NE,0]),np.std(uxt[NE:,0])\n",
    "\n",
    "# vector to calculate uE-real\n",
    "angle_1= np.arctan2(xee/JE/np.sqrt(NE),-np.sqrt(1-(xee/JE)**2)/np.sqrt(NE))\n",
    "angle_2 = np.arctan2(xei/JI/np.sqrt(NE),-np.sqrt(1-(xei/JI)**2)/np.sqrt(NE))\n",
    "vec_1=np.array([[np.cos(angle_1),np.sin(angle_1)]]).T\n",
    "vec_1/=np.sqrt(NE)\n",
    "print('vec1',vec_1,vec_1[0]/vec_1[1])\n",
    "print('numvec1:',iid_mu_u['E'][0,0],np.std(uxtEE[:,0]),iid_mu_u['E'][0,0]/np.std(uxtEE[:,0]))\n",
    "vec_2=np.array([[np.cos(angle_2),np.sin(angle_2)]]).T\n",
    "vec_2/=np.sqrt(NE)\n",
    "# print('vec2',vec_2,vec_2[0]/vec_2[1])\n",
    "# print('numvec2:',iid_mu_u['E'][1,0],np.std(uxtEI[:,0]),iid_mu_u['E'][1,0]/np.std(uxtEI[:,0]))\n",
    "# print('angles')\n",
    "# print(angle_1,angle_2)\n",
    "rot_theta = (angle_1-angle_2)/2.0\n",
    "Rot1=np.array([[np.cos(rot_theta),-np.sin(rot_theta)],[np.sin(rot_theta),np.cos(rot_theta)]])\n",
    "Rot2=np.array([[np.cos(-rot_theta),-np.sin(-rot_theta)],[np.sin(-rot_theta),np.cos(-rot_theta)]])\n",
    "# the first is gonna be drew back \n",
    "# the second is gonna be pushed forward\n",
    "\n",
    "theo_mu=np.zeros((2,2))\n",
    "theo_mu[0,:]= np.squeeze(Rot2@vec_1)*xee/JE\n",
    "test_ang2= Rot1@vec_2*xei/JI\n",
    "# print('rotate')\n",
    "# print(theo_mu[0,:],test_ang2)\n",
    "# print(np.sqrt(theo_mu[0,1]**2+test_ang2[1]**2))\n",
    "print('real mean:')\n",
    "print(mu_utilde[0,0],noise_utilde[0,0])\n",
    "# print(mu_utilde[0,0],iid_mu_u['E'][0,0]/np.sqrt(xee/JE),iid_mu_u['E'][1,0]/np.sqrt(xei/JI))#,noise_utilde[0,0])\n",
    "# print('noise comp:',noise_utilde[0,0]/vec_1[1])\n",
    "\n",
    "# vector to calculate uE-real\n",
    "angle_1= np.arctan2(xie/JE/np.sqrt(NE),np.sqrt(1-(xie/JE)**2)/np.sqrt(NE))\n",
    "angle_2 = np.arctan2(xii/JI/np.sqrt(NE),-np.sqrt(1-(xii/JI)**2)/np.sqrt(NE))\n",
    "vec_1=np.array([[np.cos(angle_1),np.sin(angle_1)]]).T\n",
    "vec_1/=np.sqrt(NE)\n",
    "# print('vec1',vec_1,vec_1[0]/vec_1[1])\n",
    "# print('numvec1:',iid_mu_u['I'][0,0],np.std(uxtIE[:,0]),iid_mu_u['I'][0,0]/np.std(uxtIE[:,0]))\n",
    "vec_2=np.array([[np.cos(angle_2),np.sin(angle_2)]]).T\n",
    "vec_2/=np.sqrt(NE)\n",
    "print('vec2',vec_2,vec_2[0]/vec_2[1])\n",
    "print('numvec2:',iid_mu_u['I'][1,0],np.std(uxtII[:,0]),iid_mu_u['I'][1,0]/np.std(uxtII[:,0]))\n",
    "# print('angles')\n",
    "# print(angle_1,angle_2)\n",
    "rot_theta = (angle_1-angle_2)/2.0\n",
    "Rot1=np.array([[np.cos(rot_theta),-np.sin(rot_theta)],[np.sin(rot_theta),np.cos(rot_theta)]])\n",
    "Rot2=np.array([[np.cos(-rot_theta),-np.sin(-rot_theta)],[np.sin(-rot_theta),np.cos(-rot_theta)]])\n",
    "# the first is gonna be drew back \n",
    "# the second is gonna be pushed forward\n",
    "\n",
    "theo_mu=np.zeros((2,2))\n",
    "theo_mu[0,:]= np.squeeze(Rot2@vec_1)*xee/JE\n",
    "test_ang2= Rot1@vec_2*xei/JI\n",
    "# print('rotate')\n",
    "# print(theo_mu[0,:],test_ang2)\n",
    "# print(np.sqrt(theo_mu[0,1]**2+test_ang2[1]**2))\n",
    "print('real mean:')\n",
    "print(mu_utilde[1,0],noise_utilde[1,0])\n",
    "# print('noise comp:',noise_utilde[1,0]/vec_2[1])\n",
    "\n",
    "\n"
   ]
  },
  {
   "cell_type": "code",
   "execution_count": null,
   "metadata": {},
   "outputs": [],
   "source": [
    "# print(iid_sv)\n",
    "\n",
    "overlaptt,overlaptheo,overlaptheo2=np.zeros((2,2)),np.zeros((2,2)),np.zeros((2,2))\n",
    "overlaptt[0,0]=np.sum(uxt[:NE,0]*vxt[:NE,0]*svxt[0])\n",
    "print(np.mean(uxt[:NE,0]),np.mean(vxt[:NE,0]),svxt[0])\n",
    "overlaptt[0,1]=np.sum(uxt[:NE,0]*vxt[NE:,0]*svxt[0])\n",
    "print(np.mean(uxt[:NE,0]),np.mean(vxt[NE:,0]),svxt[0])\n",
    "overlaptt[1,0]=np.sum(uxt[NE:,0]*vxt[:NE,0]*svxt[0])\n",
    "overlaptt[1,1]=np.sum(uxt[NE:,0]*vxt[NE:,0]*svxt[0])\n",
    "\n",
    "overlaptheo[0,0]=np.sum(uxtEE[:,0]*vxtEE[:,0]*svxtEE[0])#iid_sv[0,0]*(1-xee**2/JE**2)\n",
    "print(np.mean(uxtEE[:,0]),np.mean(vxtEE[:,0]),svxtEE[0])\n",
    "overlaptheo[0,1]=np.sum(uxtEI[:,0]*vxtEI[:,0]*svxtEI[0])#iid_sv[0,1]*(1-xei**2/JI**2)\n",
    "print(np.mean(uxtEI[:,0]),np.mean(vxtEI[:,0]),svxtEI[0])\n",
    "overlaptheo[1,0]=np.sum(uxtIE[:,0]*vxtIE[:,0]*svxtIE[0])#iid_sv[1,0]*(1-xie**2/JE**2)\n",
    "overlaptheo[1,1]=np.sum(uxtII[:,0]*vxtII[:,0]*svxtII[0])#iid_sv[1,1]*(1-xii**2/JI**2)\n",
    "\n",
    "overlaptheo2[0,0]=np.sum(iid_sv[0,0]*(1-xee**2/JE**2))\n",
    "overlaptheo2[0,1]=-np.sum(iid_sv[0,1]*(1-xei**2/JI**2))\n",
    "overlaptheo2[1,0]=np.sum(iid_sv[1,0]*(1-xie**2/JE**2))\n",
    "overlaptheo2[1,1]=-np.sum(iid_sv[1,1]*(1-xii**2/JI**2))\n",
    "\n",
    "print('tilde overlap:')\n",
    "print(overlaptt)\n",
    "print('theo overlap:')\n",
    "print(overlaptheo)\n",
    "print('theo overlap2:')\n",
    "print(overlaptheo2)\n",
    "print('change:')\n",
    "overlapchange=overlaptheo2-overlaptt\n",
    "print(overlapchange)\n",
    "# eigvtt,eigvectt=la.eig(overlaptt)\n",
    "# eigvtheo,eigvectheo=la.eig(overlaptheo)\n",
    "# print('eigenvalue compare:')\n",
    "# print(eigvtt)\n",
    "# print(eigvtheo)"
   ]
  },
  {
   "cell_type": "code",
   "execution_count": 879,
   "metadata": {},
   "outputs": [
    {
     "output_type": "stream",
     "name": "stdout",
     "text": [
      "[6.44943161 4.00928745 3.98429257 3.96936678 3.94801228]\n[4.00973264 3.98515474 3.97197553 3.94868445 3.92199661]\n"
     ]
    }
   ],
   "source": [
    "Xtotal=X.copy()+Am.copy()\n",
    "# singular decomposition\n",
    "uxt,svxt,vhxt=la.svd(Xtotal)\n",
    "vxt=vhxt.T\n",
    "ux,svx,vhx=la.svd(X)\n",
    "vx=vhx.T\n",
    "print(svxt[:5])\n",
    "print(svx[:5])\n",
    "\n",
    "\n",
    "## dissect noise and mean components\n",
    "## mean for total and original\n",
    "muxtt,mvxtt=np.zeros((2,1)),np.zeros((2,1))\n",
    "muxtt[0,0],muxtt[1,0]=np.mean(uxt[:NE,0]),np.mean(uxt[NE:,0])\n",
    "mvxtt[0,0],mvxtt[1,0]=np.mean(vxt[:NE,0]),np.mean(vxt[NE:,0])\n",
    "mua,mva = np.zeros((2,1)),np.zeros((2,1))\n",
    "mua[0,0],mua[1,0]=ua[0,0],ua[NE+1,0]\n",
    "mva[0,0],mva[1,0]=va[0,0],va[NE+1,0]\n",
    "# noise components E and I seperate \n",
    "noiseu,noisev=np.zeros((NE,2)),np.zeros((NE,2))\n",
    "# for E noise\n",
    "noiseu[:,0]=(uxt[:NE,0]-muxtt[0,0])\n",
    "noisev[:,0]=(vxt[:NE,0]-mvxtt[0,0])\n",
    "# for I noise\n",
    "noiseu[:,1]=(uxt[NE:,0]-muxtt[1,0])\n",
    "noisev[:,1]=(vxt[NE:,0]-mvxtt[1,0])\n",
    "noisem,noisen=noiseu.copy(),noisev.copy()#*svxt[0]\n",
    "\n",
    "# noise components 4*4\n",
    "noisevec = np.zeros((NE,4))\n",
    "noisevec[:,:2]=noisem.copy()\n",
    "noisevec[:,2:]=noisen.copy()\n"
   ]
  },
  {
   "cell_type": "code",
   "execution_count": 800,
   "metadata": {},
   "outputs": [
    {
     "output_type": "stream",
     "name": "stdout",
     "text": [
      "stdnum: 0.4973373839263357 0.4909175083453431\n"
     ]
    }
   ],
   "source": [
    "mleft=5.0*np.random.randn(NE,1)/np.sqrt(NE)\n",
    "nright=4.0*np.random.randn(NE,1)/np.sqrt(NE)\n",
    "Cnright = 3*np.ones((NE,1))\n",
    "Cmleft = 1*np.ones((NE,1))\n",
    "randomm=mleft@Cnright.T+Cmleft@nright.T \n",
    "lrand=np.reshape(randomm,(NE**2,1))\n",
    "theostd = (5*3)**2/NE+(4*1)**2/NE\n",
    "theostd = np.sqrt(theostd)\n",
    "print('stdnum:',np.std(lrand),theostd)"
   ]
  },
  {
   "cell_type": "code",
   "execution_count": null,
   "metadata": {},
   "outputs": [],
   "source": [
    "# # subject to\n",
    "# sigmE,signI,sigmI,signE=2.0,3.0,1.0,4.0\n",
    "# rhoE=xee/sigmE/signE*1.5\n",
    "# rhoI=xii/sigmI/signI*1.5\n",
    "# m,n=np.zeros((N,1)),np.zeros((N,1))\n",
    "# zetaxE,zetayE,zetaxI,zetayI=np.random.randn(NE),np.random.randn(NE),np.random.randn(NI),np.random.randn(NI)\n",
    "# m[:NE,0]=sigmE*zetaxE/np.sqrt(N)\n",
    "# n[:NE,0]=signE*(rhoE*zetaxE+np.sqrt(1-rhoE**2)*zetayE)/np.sqrt(N)\n",
    "# m[NE:,0]=sigmI*zetaxI/np.sqrt(N)\n",
    "# n[NE:,0]=signI*(rhoI*zetaxI+np.sqrt(1-rhoI**2)*zetayI)/np.sqrt(N)\n",
    "# P=m@n.T \n",
    "# Xtilde=X.copy()+P.copy()"
   ]
  },
  {
   "cell_type": "code",
   "execution_count": 284,
   "metadata": {},
   "outputs": [
    {
     "output_type": "stream",
     "name": "stdout",
     "text": [
      "cal g: [[0.00089115 0.00017327]\n [0.00276879 0.00053832]]\norg g: 0.000625 0.0009 0.0025 0.000225\n"
     ]
    }
   ],
   "source": [
    "stdme=np.std(lxvec[:NE,0])\n",
    "stdmi=np.std(lxvec[NE:,0])\n",
    "stdne=np.std(svx[0]*rxvec[:NE,0])\n",
    "stdni=np.std(svx[0]*rxvec[NE:,0])\n",
    "rm1=np.array([stdme,stdmi])\n",
    "rm1=np.reshape(rm1,(2,1))\n",
    "rn1=np.array([stdne,stdni])\n",
    "rn1=np.reshape(rn1,(2,1))\n",
    "stdme=np.std(lxvec[:NE,1])\n",
    "stdmi=np.std(lxvec[NE:,1])\n",
    "stdne=np.std(svx[1]*rxvec[:NE,1])\n",
    "stdni=np.std(svx[1]*rxvec[NE:,1])\n",
    "rm2=np.array([stdme,stdmi])\n",
    "rm2=np.reshape(rm2,(2,1))\n",
    "rn2=np.array([stdne,stdni])\n",
    "rn2=np.reshape(rn2,(2,1))\n",
    "gstdest=rm1@rn1.T +rm2@rn2.T \n",
    "print('cal g:',gstdest)\n",
    "print('org g:',xee**2/N,xei**2/N,xie**2/N,xii**2/N)"
   ]
  },
  {
   "cell_type": "code",
   "execution_count": 269,
   "metadata": {},
   "outputs": [],
   "source": [
    "lxvec,svx,rxvech=la.svd(P)\n",
    "rxvec=rxvech.T \n",
    "fig,ax=plt.subplots(2,2,figsize=(9,9))\n",
    "nbins=30\n",
    "n, bins, patches = ax[0][0].hist(lxvec[:NE,0], nbins, density=True, alpha=0.5)\n",
    "n, bins, patches = ax[1][0].hist(lxvec[NE:,0], nbins, density=True, alpha=0.5)\n",
    "n, bins, patches = ax[0][1].hist(rxvec[:NE,0], nbins, density=True, alpha=0.5)\n",
    "n, bins, patches = ax[1][1].hist(rxvec[NE:,0], nbins, density=True, alpha=0.5)\n"
   ]
  }
 ]
}