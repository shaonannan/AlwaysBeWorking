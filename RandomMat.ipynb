{
 "metadata": {
  "language_info": {
   "codemirror_mode": {
    "name": "ipython",
    "version": 3
   },
   "file_extension": ".py",
   "mimetype": "text/x-python",
   "name": "python",
   "nbconvert_exporter": "python",
   "pygments_lexer": "ipython3",
   "version": "3.8.3-final"
  },
  "orig_nbformat": 2,
  "kernelspec": {
   "name": "Python 3.8.3 64-bit (conda)",
   "display_name": "Python 3.8.3 64-bit (conda)",
   "metadata": {
    "interpreter": {
     "hash": "5fb195aca1cc4b04f6bd75bcd75eff5c6dace3e009d2ff2dc9cbbb35b653d43e"
    }
   }
  }
 },
 "nbformat": 4,
 "nbformat_minor": 2,
 "cells": [
  {
   "source": [
    "In this File, check how the perturbed random matrix can be represented by low-rank vectors, when the largest singular value of the low-rank structure is larger than the critical value (of course). Second, there may be a certain variance between the numerical solution and theoretical solution, check the differences or figure out how the variance between these two changes with the scale, parameters, etc., of the network (concerning the low-rank network infimu /supramum of the random net...)\n",
    "\n",
    "Edit by Yuxiu\n",
    "Create 30/10/2020 v0"
   ],
   "cell_type": "markdown",
   "metadata": {}
  },
  {
   "cell_type": "code",
   "execution_count": 2,
   "metadata": {},
   "outputs": [],
   "source": [
    "from __future__ import print_function\n",
    "from ipywidgets import interact, interactive, fixed, interact_manual\n",
    "import ipywidgets as widgets\n",
    "import numpy as np\n",
    "import matplotlib.pylab as plt\n",
    "import matplotlib\n",
    "%matplotlib qt\n",
    "from numpy import linalg as la\n",
    "from scipy.optimize import fsolve\n",
    "from scipy import linalg as scpla\n",
    "import seaborn as sb\n",
    "from mpl_toolkits.axes_grid1 import make_axes_locatable\n",
    "from cmath import *\n",
    "from mpl_toolkits.mplot3d import Axes3D\n",
    "from scipy.optimize import fsolve,leastsq \n",
    "from math import tanh,cosh\n",
    "from sympy import *\n",
    "extras_require = {'PLOT':['matplotlib>=1.1.1,<3.0']},"
   ]
  },
  {
   "cell_type": "code",
   "execution_count": null,
   "metadata": {},
   "outputs": [],
   "source": []
  }
 ]
}