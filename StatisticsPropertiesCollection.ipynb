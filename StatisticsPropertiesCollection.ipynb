{
 "metadata": {
  "language_info": {
   "codemirror_mode": {
    "name": "ipython",
    "version": 3
   },
   "file_extension": ".py",
   "mimetype": "text/x-python",
   "name": "python",
   "nbconvert_exporter": "python",
   "pygments_lexer": "ipython3",
   "version": "3.8.3-final"
  },
  "orig_nbformat": 2,
  "kernelspec": {
   "name": "python3",
   "display_name": "Python 3",
   "language": "python"
  }
 },
 "nbformat": 4,
 "nbformat_minor": 2,
 "cells": [
  {
   "cell_type": "code",
   "execution_count": 4,
   "metadata": {},
   "outputs": [],
   "source": [
    "from __future__ import print_function\n",
    "from ipywidgets import interact, interactive, fixed, interact_manual\n",
    "import ipywidgets as widgets\n",
    "import numpy as np\n",
    "import matplotlib.pylab as plt\n",
    "import matplotlib\n",
    "%matplotlib qt\n",
    "from numpy import linalg as la\n",
    "from scipy.optimize import fsolve\n",
    "from scipy import linalg as scpla\n",
    "# import seaborn as sb\n",
    "from mpl_toolkits.axes_grid1 import make_axes_locatable\n",
    "from cmath import *\n",
    "from mpl_toolkits.mplot3d import Axes3D\n",
    "from scipy.optimize import fsolve,leastsq \n",
    "from math import tanh,cosh\n",
    "import math\n",
    "import time\n",
    "# from sympy import *\n",
    "from scipy.linalg import schur, eigvals\n",
    "extras_require = {'PLOT':['matplotlib>=1.1.1,<3.0']},"
   ]
  },
  {
   "source": [
    "# Listing all statistical properties\n",
    "* ## rank-2 eigen spectrum, SVD\n",
    "* ## rank-1 left $\\mathbf{n}$ and right $\\mathbf{m}$"
   ],
   "cell_type": "markdown",
   "metadata": {}
  },
  {
   "cell_type": "code",
   "execution_count": 63,
   "metadata": {},
   "outputs": [
    {
     "output_type": "stream",
     "name": "stdout",
     "text": [
      "\bar{m}ar{n}\n[0.02236068+0.j 0.02236068+0.j] [ 0.04472136-0.j -0.15652476+0.j]\neigenvalues: [-2.5+0.j]\n"
     ]
    }
   ],
   "source": [
    "''' heterogeneous case with single zero g_{EE} '''\n",
    "# strfile = '2021-01-19-11_23_52_heterogeneousNotgEE_cloudsdata'\n",
    "strfile ='2021-01-19-12_02_53_heterogeneousgII_cloudsdata'\n",
    "# strfile='2021-01-19-11_44_14_homogeneous_cloudsdata'\n",
    "data = np.load(strfile+'.npz')#'2021-01-19-12_02_53_heterogeneousgII_cloudsdata.npz')\n",
    "meigseries,neigseries=data['meigseries'],data['neigseries']\n",
    "gaverageseries=data['gaverageseries']\n",
    "# # loading calculated mean and std (2*2) for rank1, 0,0 m,E 0,1 m,I\n",
    "# meanloadingseries,stdloadingseries=data['meanloadingseries'],data['stdloadingseries']\n",
    "# ((niter,ntrials,NE*2))\n",
    "ngavg,nbatch,_=np.shape(meigseries)\n",
    "\n",
    "# Nt=np.array([1000,1000])\n",
    "# NE,NI=Nt[0],Nt[1]\n",
    "# Nparams=np.array([NE,NI])\n",
    "# JE,JI,a,b=1.0,3.5,-0.6,0.6\n",
    "# a,b=0.0,0.0\n",
    "# JEE,JIE,JEI,JII=JE+a,JE-a,JI-b,JI+b\n",
    "# Jparameters = np.zeros(4+1)\n",
    "# Jparameters[0],Jparameters[1],Jparameters[2],Jparameters[3]=JEE,JEI,JIE,JII\n",
    "# Jparameters[4]=NE\n",
    "nrank=1\n",
    "Jparameters=data['Jparameters']\n",
    "NE = int(Jparameters[4])\n",
    "\n",
    "P = np.zeros((2,2))\n",
    "P = np.array([[Jparameters[0],-Jparameters[1]],[Jparameters[2],-Jparameters[3]]])\n",
    "Am=np.zeros((NE*2,NE*2))\n",
    "Am[:NE,:NE],Am[:NE,NE:]=P[0,0]/NE,P[0,1]/NE\n",
    "Am[NE:,:NE],Am[NE:,NE:]=P[1,0]/NE,P[1,1]/NE\n",
    "# # calculate the original \\bar{m} and \\bar{n}\n",
    "# uAm,svAm,vhAm=la.svd(Am)\n",
    "# vAm=vhAm.T\n",
    "# mAm,nAm=uAm[:,:nrank],vAm[:,:nrank]\n",
    "# for i in range(nrank):\n",
    "#     nAm[:,i]*=svAm[i]\n",
    "# print('\\bar{m}&\\bar{n}')\n",
    "# print(mAm[1::NE,0],nAm[1::NE,0])\n",
    "# calculate the original \\bar{m} and \\bar{n}\n",
    "eigvAm,eigveclAm,eigvecrAm=scpla.eig(Am,left=True,right=True)\n",
    "meigvecAm=eigvecrAm.copy()\n",
    "neigvecAm=eigveclAm.copy()\n",
    "for i in range(nrank):\n",
    "    normalizecoe=(np.sum(neigvecAm[:,i]*meigvecAm[:,i]))\n",
    "    neigvecAm[:,i]*=(eigvAm[i]/normalizecoe)\n",
    "print('\\bar{m}&\\bar{n}')\n",
    "print(meigvecAm[1::NE,0],neigvecAm[1::NE,0])\n",
    "print('eigenvalues:',eigvAm[:nrank])\n",
    "# [-0.02236068 -0.02236068] [-0.04472136  0.15652476] #strfile='2021-01-19-11_44_14_homogeneous_cloudsdata'\n",
    "# print(np.sum(neigvecAm[:,0]*meigvecAm[:,0]))\n"
   ]
  },
  {
   "cell_type": "code",
   "execution_count": 253,
   "metadata": {},
   "outputs": [
    {
     "output_type": "stream",
     "name": "stdout",
     "text": [
      "\bar{m}ar{n}\n[-0.01826104+0.j -0.02581733+0.j] [-0.02236068+0.j -0.02236068+0.j]\n[-0.42348816+0.j  0.42348816-0.j] [ 0.30559596-0.j -0.21615324+0.j]\neigenvalues: [-3.2+0.j -2. +0.j]\n(-3.200000000000064+0j)\n(-1.999999999999904+0j)\n"
     ]
    }
   ],
   "source": [
    "\n",
    "''' RANK-2 '''\n",
    "''' heterogeneous case with single zero g_{EE} '''\n",
    "# strfile = '2021-01-20-10_38_16_heterogeneousgIIR2_cloudsdata'\n",
    "# strfile = '2021-01-20-11_12_48_homogeneousR2_cloudsdata'\n",
    "strfile ='2021-01-20-11_41_35_heterogeneousNotgEER2_cloudsdata'\n",
    "# strfile='2021-01-23-16_18_40_heterogeneousNotgEER2_cloudsdata'\n",
    "# strfile = '2021-01-23-17_02_52_homogeneousR2_cloudsdata'\n",
    "data = np.load(strfile+'.npz')#'2021-01-19-12_02_53_heterogeneousgII_cloudsdata.npz')\n",
    "meigseries,neigseries=data['meigseries'],data['neigseries']\n",
    "gaverageseries=data['gaverageseries']\n",
    "# # loading calculated mean and std (2*2) for rank1, 0,0 m,E 0,1 m,I\n",
    "# meanloadingseries,stdloadingseries=data['meanloadingseries'],data['stdloadingseries']\n",
    "# ((niter,ntrials,NE*2))\n",
    "ngavg,nbatch,_,_=np.shape(meigseries)\n",
    "nrank=2\n",
    "Jparameters=data['Jparameters']\n",
    "NE = int(Jparameters[4])\n",
    "\n",
    "P = np.zeros((2,2))\n",
    "P = np.array([[Jparameters[0],-Jparameters[1]],[Jparameters[2],-Jparameters[3]]])\n",
    "Am=np.zeros((NE*2,NE*2))\n",
    "Am[:NE,:NE],Am[:NE,NE:]=P[0,0]/NE,P[0,1]/NE\n",
    "Am[NE:,:NE],Am[NE:,NE:]=P[1,0]/NE,P[1,1]/NE\n",
    "# calculate the original \\bar{m} and \\bar{n}\n",
    "eigvAm,eigveclAm,eigvecrAm=scpla.eig(Am,left=True,right=True)\n",
    "meigvecAm=eigvecrAm.copy()\n",
    "neigvecAm=eigveclAm.copy()\n",
    "for i in range(nrank):\n",
    "    normalizecoe=(np.sum(neigvecAm[:,i]*meigvecAm[:,i]))\n",
    "    neigvecAm[:,i]*=(eigvAm[i]/normalizecoe)\n",
    "print('\\bar{m}&\\bar{n}')\n",
    "print(meigvecAm[1::NE,0],meigvecAm[1::NE,1])\n",
    "print(neigvecAm[1::NE,0],neigvecAm[1::NE,1])\n",
    "print('eigenvalues:',eigvAm[:nrank])\n",
    "print(np.sum(neigvecAm[:,0]*meigvecAm[:,0]))\n",
    "print(np.sum(neigvecAm[:,1]*meigvecAm[:,1]))"
   ]
  },
  {
   "cell_type": "code",
   "execution_count": 254,
   "metadata": {},
   "outputs": [],
   "source": [
    "''' For rank 2 '''\n",
    "# calculate \\theta overlap\n",
    "loadingeigvec=np.zeros((ngavg,2,nrank*2,NE,nbatch)) # ng,EI,nrank*2 mn,Npopulation,ntrials\n",
    "loadingeigvecAm=np.zeros((2,nrank*2,NE))\n",
    "meanloadingeigclouds,stdloadingeigclouds = np.zeros((ngavg,2,nrank*2,nbatch)),np.zeros((ngavg,2,nrank*2,nbatch))\n",
    "Norm2=np.zeros((ngavg,3,nrank*2,nbatch))\n",
    "Norm2Am=np.zeros((3,nrank*2,nbatch))\n",
    "overlapeig,overlapeig_renorm=np.zeros((ngavg,3,nrank*2,nbatch)),np.zeros((ngavg,3,nrank*2,nbatch))\n",
    "# lambda reconstruction\n",
    "lambda_reconstruct=np.zeros((ngavg,3,nrank,nbatch)) # E pop, I pop, overall\n",
    "for j in range(nrank):\n",
    "    # eig\n",
    "    loadingeigvecAm[0,j,:]=np.squeeze(meigvecAm[:NE,j]).T # m_j^E\n",
    "    loadingeigvecAm[0,j+nrank,:]=np.squeeze(neigvecAm[:NE,j]).T # n_j^E\n",
    "    loadingeigvecAm[1,j,:]=np.squeeze(meigvecAm[NE:,j]).T # m_j^I\n",
    "    loadingeigvecAm[1,j+nrank,:]=np.squeeze(neigvecAm[NE:,j]).T # n_j^I\n",
    "    Norm2Am[0,j]=np.sum(np.squeeze(loadingeigvecAm[0,j,:])**2,axis=0) # excitatory\n",
    "    Norm2Am[1,j]=np.sum(np.squeeze(loadingeigvecAm[1,j,:])**2,axis=0) # inhibitory\n",
    "    Norm2Am[2,j]=Norm2Am[1,j]+Norm2Am[0,j] # overall\n",
    "    Norm2Am[0,j+nrank]=np.sum(np.squeeze(loadingeigvecAm[0,j+nrank,:])**2,axis=0) # excitatory\n",
    "    Norm2Am[1,j+nrank]=np.sum(np.squeeze(loadingeigvecAm[1,j+nrank,:])**2,axis=0) # inhibitory\n",
    "    Norm2Am[2,j+nrank]=Norm2Am[1,j+nrank]+Norm2Am[0,j+nrank] # overall\n",
    "for j in range(nrank):\n",
    "    for i in range(ngavg):\n",
    "        # eig\n",
    "        loadingeigvec[i,0,j,:,:]=np.squeeze(meigseries[i,:,:NE,j]).T # m_j^E\n",
    "        loadingeigvec[i,0,j+nrank,:,:]=np.squeeze(neigseries[i,:,:NE,j]).T # n_j^E\n",
    "        loadingeigvec[i,1,j,:,:]=np.squeeze(meigseries[i,:,NE:,j]).T # m_j^I\n",
    "        loadingeigvec[i,1,j+nrank,:,:]=np.squeeze(neigseries[i,:,NE:,j]).T # n_j^I\n",
    "\n",
    "        # renormalization\n",
    "        # m, right eigenvectors\n",
    "        Norm2[i,0,j,:]=np.sum(np.squeeze(loadingeigvec[i,0,j,:,:])**2,axis=0) # excitatory\n",
    "        Norm2[i,1,j,:]=np.sum(np.squeeze(loadingeigvec[i,1,j,:,:])**2,axis=0) # inhibitory\n",
    "        Norm2[i,2,j,:]=Norm2[i,1,j,:]+Norm2[i,0,j,:] # overall\n",
    "        # n, left eigenvectors\n",
    "        Norm2[i,0,j+nrank,:]=np.sum(np.squeeze(loadingeigvec[i,0,j+nrank,:,:])**2,axis=0) # excitatory n\n",
    "        Norm2[i,1,j+nrank,:]=np.sum(np.squeeze(loadingeigvec[i,1,j+nrank,:,:])**2,axis=0) # inhibitory n\n",
    "        Norm2[i,2,j+nrank,:]=Norm2[i,1,j+nrank,:]+Norm2[i,0,j+nrank,:] # overall normalization\n",
    "        # overlap\n",
    "        # m\n",
    "        overlapeig[i,0,j,:]=np.squeeze(np.reshape(meigvecAm[:NE,j],(1,NE))@np.squeeze(loadingeigvec[i,0,j,:,:])) # excitatory overlap -- renormalized\n",
    "        overlapeig[i,1,j,:]=np.squeeze(np.reshape(meigvecAm[NE:,j],(1,NE))@np.squeeze(loadingeigvec[i,1,j,:,:])) # inhibitory overlap -- renromalized\n",
    "        overlapeig[i,2,j,:]=np.squeeze(np.reshape(meigvecAm[:NE,j],(1,NE))@np.squeeze(loadingeigvec[i,0,j,:,:]))+np.squeeze(np.reshape(meigvecAm[NE:,j],(1,NE))@np.squeeze(loadingeigvec[i,1,j,:,:])) # inhibitory overlap -- renormalized\n",
    "        # n\n",
    "        overlapeig[i,0,j+nrank,:]=np.squeeze(np.reshape(neigvecAm[:NE,j],(1,NE))@np.squeeze(loadingeigvec[i,0,j+nrank,:,:]))/(eigvAm[j])**2 # excitatory overlap -- renormalized\n",
    "        overlapeig[i,1,j+nrank,:]=np.squeeze(np.reshape(neigvecAm[NE:,j],(1,NE))@np.squeeze(loadingeigvec[i,1,j+nrank,:,:]))/(eigvAm[j])**2# inhibitory overlap -- renormalize+\n",
    "        overlapeig[i,2,j+nrank,:]=np.squeeze(np.reshape(neigvecAm[:NE,j],(1,NE))@np.squeeze(loadingeigvec[i,0,j+nrank,:,:]))/(eigvAm[j])**2+np.squeeze(np.reshape(neigvecAm[NE:,j],(1,NE))@np.squeeze(loadingeigvec[i,1,j+nrank,:,:]))/(eigvAm[j])**2# inhibitory overlap -- renormalized\n",
    "\n",
    "        # overlap renormalizing\n",
    "        # m\n",
    "        overlapeig_renorm[i,0,j,:]=np.squeeze(np.reshape(meigvecAm[:NE,j],(1,NE))@np.squeeze(loadingeigvec[i,0,j,:,:]))/np.sqrt(Norm2[i,0,j,:])/np.sqrt(Norm2Am[0,j]) # excitatory overlap -- renormalized\n",
    "        overlapeig_renorm[i,1,j,:]=np.squeeze(np.reshape(meigvecAm[NE:,j],(1,NE))@np.squeeze(loadingeigvec[i,1,j,:,:]))/np.sqrt(Norm2[i,1,j,:])/np.sqrt(Norm2Am[1,j]) # inhibitory overlap -- renromalized\n",
    "        overlapeig_renorm[i,2,j,:]=(np.squeeze(np.reshape(meigvecAm[:NE,j],(1,NE))@np.squeeze(loadingeigvec[i,0,j,:,:]))+np.squeeze(np.reshape(meigvecAm[NE:,j],(1,NE))@np.squeeze(loadingeigvec[i,1,j,:,:])))/np.sqrt(Norm2[i,2,j,:])/np.sqrt(Norm2Am[2,j]) # overlap -- renromalized\n",
    "        # n\n",
    "        overlapeig_renorm[i,0,j+nrank,:]=np.squeeze(np.reshape(neigvecAm[:NE,j],(1,NE))@np.squeeze(loadingeigvec[i,0,j+nrank,:,:]))/np.sqrt(Norm2[i,0,j+nrank,:])/np.sqrt(Norm2Am[0,j+nrank]) # excitatory overlap -- renormalized\n",
    "        overlapeig_renorm[i,1,j+nrank,:]=np.squeeze(np.reshape(neigvecAm[NE:,j],(1,NE))@np.squeeze(loadingeigvec[i,1,j+nrank,:,:]))/np.sqrt(Norm2[i,1,j+nrank,:])/np.sqrt(Norm2Am[1,j+nrank]) # inhibitory overlap -- renormalized\n",
    "        overlapeig_renorm[i,2,j+nrank,:]=(np.squeeze(np.reshape(neigvecAm[:NE,j],(1,NE))@np.squeeze(loadingeigvec[i,0,j+nrank,:,:]))+np.squeeze(np.reshape(neigvecAm[NE:,j],(1,NE))@np.squeeze(loadingeigvec[i,1,j+nrank,:,:])))/np.sqrt(Norm2[i,2,j+nrank,:])/np.sqrt(Norm2Am[2,j+nrank])\n",
    "        # statistics\n",
    "        meanloadingeigclouds[i,0,j,:]=(np.mean(np.squeeze(loadingeigvec[i,0,j,:,:]),axis=0)) # m excitatory trial averaging\n",
    "        meanloadingeigclouds[i,0,j+nrank,:]=(np.mean(np.squeeze(loadingeigvec[i,0,j+nrank,:,:]),axis=0)) # n excitatory trial average\n",
    "        meanloadingeigclouds[i,1,j,:]=(np.mean(np.squeeze(loadingeigvec[i,1,j,:,:]),axis=0)) # m inhibitory trial average\n",
    "        meanloadingeigclouds[i,1,j+nrank,:]=(np.mean(np.squeeze(loadingeigvec[i,1,j+nrank,:,:]),axis=0)) # n inhibitory trial average\n",
    "\n",
    "        stdloadingeigclouds[i,0,j,:]=np.std(np.squeeze(loadingeigvec[i,0,j,:,:]),axis=0)\n",
    "        stdloadingeigclouds[i,0,j+nrank,:]=np.std(np.squeeze(loadingeigvec[i,0,j+nrank,:,:]),axis=0)\n",
    "        stdloadingeigclouds[i,1,j,:]=np.std(np.squeeze(loadingeigvec[i,1,j,:,:]),axis=0)\n",
    "        stdloadingeigclouds[i,1,j+nrank,:]=np.std(np.squeeze(loadingeigvec[i,1,j+nrank,:,:]),axis=0)\n",
    "\n",
    "        # reproduce lambda overall\n",
    "        lambda_reconstruct[i,0,j,:]=np.sum(np.squeeze(meigseries[i,:,:NE,j])*np.squeeze(neigseries[i,:,:NE,j]),axis=1)\n",
    "        lambda_reconstruct[i,1,j,:]=np.sum(np.squeeze(meigseries[i,:,NE:,j])*np.squeeze(neigseries[i,:,NE:,j]),axis=1)\n",
    "        lambda_reconstruct[i,2,j,:]=np.sum(np.squeeze(meigseries[i,:,:,j])*np.squeeze(neigseries[i,:,:,j]),axis=1)"
   ]
  },
  {
   "source": [
    "## Plottings for eigenvectors \n",
    "* overlap of right and left eigenvectors -- $\\lambda_1,\\lambda_2$\n",
    "* overlap of the new and original eigenvectors -- renormalize?  \n",
    "* connectivity patterns in loading space -- mean and variance of gaussian pattern"
   ],
   "cell_type": "markdown",
   "metadata": {}
  },
  {
   "cell_type": "code",
   "execution_count": 255,
   "metadata": {},
   "outputs": [],
   "source": [
    "yticks = np.linspace(-1.5,1.50,3)\n",
    "ylims = [-1.5,1.5]\n",
    "fig,ax=plt.subplots(2,3,figsize=(12,4))\n",
    "# FIGURE 1\n",
    "for i in range(ngavg):\n",
    "    for j in range(nrank):\n",
    "        # RECONSTRUCT EIGENVALUES\n",
    "         # m1\n",
    "        ax[j][0].scatter(gaverageseries[i]*np.ones(nbatch),lambda_reconstruct[i,0,j,:],s=5,color='red',alpha=0.5)\n",
    "        ax[j][0].scatter(gaverageseries[i]*np.ones(nbatch),lambda_reconstruct[i,1,j,:],s=5,color='blue',alpha=0.5)\n",
    "        ax[j][0].scatter(gaverageseries[i]*np.ones(nbatch),lambda_reconstruct[i,2,j,:],s=5,color='black',alpha=0.5)\n",
    "        overlapeig_renorm[i,0,j,:]\n",
    "                # OVERLAP\n",
    "        # m1\n",
    "        # ax[j][1].scatter(gaverageseries[i]*np.ones(nbatch),overlapeig[i,0,j,:],s=5,color='red',alpha=0.5)\n",
    "        # ax[j][1].scatter(gaverageseries[i]*np.ones(nbatch),overlapeig[i,1,j,:],s=5,color='blue',alpha=0.5)\n",
    "\n",
    "        ax[j][1].scatter(gaverageseries[i]*np.ones(nbatch),overlapeig_renorm[i,0,j,:],s=5,color='red',alpha=0.5)\n",
    "        ax[j][1].scatter(gaverageseries[i]*np.ones(nbatch),overlapeig_renorm[i,1,j,:],s=5,color='blue',alpha=0.5)\n",
    "        ax[j][1].scatter(gaverageseries[i]*np.ones(nbatch),overlapeig_renorm[i,2,j,:],s=5,color='black',alpha=0.5)\n",
    "\n",
    "        # n1\n",
    "        ax[j][2].scatter(gaverageseries[i]*np.ones(nbatch),overlapeig_renorm[i,0,j+nrank,:],s=5,color='red',alpha=0.5)\n",
    "        ax[j][2].scatter(gaverageseries[i]*np.ones(nbatch),overlapeig_renorm[i,1,j+nrank,:],s=5,color='blue',alpha=0.5)\n",
    "        ax[j][2].scatter(gaverageseries[i]*np.ones(nbatch),overlapeig_renorm[i,2,j+nrank,:],s=5,color='black',alpha=0.5)\n",
    "\n",
    "\n",
    "# ax[0][0].set_ylim(ylims)\n",
    "# ax[1][0].set_ylim(ylims)"
   ]
  },
  {
   "cell_type": "code",
   "execution_count": 17,
   "metadata": {},
   "outputs": [
    {
     "output_type": "stream",
     "name": "stdout",
     "text": [
      "[-3.19848481 -3.19560433 -3.23030985 -3.21675155 -3.21975556 -3.17560632\n -3.2131477  -3.0465627  -3.17194874 -3.23273991 -3.14884097 -3.18938156\n -3.20051234 -3.21066659 -3.19976068 -3.18586634 -3.20226587 -3.19118601\n -3.2157759  -3.16754911]\n"
     ]
    }
   ],
   "source": [
    "print(np.mean(lambda_reconstruct[:,2,0,:]))"
   ]
  },
  {
   "cell_type": "code",
   "execution_count": 256,
   "metadata": {},
   "outputs": [],
   "source": [
    "yticks = np.linspace(-1.5,1.50,3)\n",
    "ylims = [-1.5,1.5]\n",
    "fig,ax=plt.subplots(2,2,figsize=(12,4))\n",
    "# FIGURE same as overlap\n",
    "for i in range(ngavg):\n",
    "    for j in range(nrank):\n",
    "        # mean m1\n",
    "        ax[j][0].scatter(gaverageseries[i]*np.ones(nbatch),np.abs(meanloadingeigclouds[i,0,j,:])/np.sqrt(Norm2[i,0,j,:]),s=5,color='red',alpha=0.5)\n",
    "        ax[j][0].scatter(gaverageseries[i]*np.ones(nbatch),np.abs(meanloadingeigclouds[i,1,j,:])/np.sqrt(Norm2[i,1,j,:]),s=5,color='blue',alpha=0.5)\n",
    "        # mean n1\n",
    "        ax[j][1].scatter(gaverageseries[i]*np.ones(nbatch),np.abs(meanloadingeigclouds[i,0,nrank+j,:])/np.sqrt(Norm2[i,0,j+nrank,:]),s=5,color='red',alpha=0.5)\n",
    "        ax[j][1].scatter(gaverageseries[i]*np.ones(nbatch),np.abs(meanloadingeigclouds[i,1,nrank+j,:])/np.sqrt(Norm2[i,1,j+nrank,:]),s=5,color='blue',alpha=0.5)\n",
    "\n",
    "fig,ax=plt.subplots(2,2,figsize=(12,4))\n",
    "# FIGURE absolute value\n",
    "for i in range(ngavg):\n",
    "    for j in range(nrank):\n",
    "        # mean m1\n",
    "        ax[j][0].scatter(gaverageseries[i]*np.ones(nbatch),np.abs(meanloadingeigclouds[i,0,j,:]),s=5,color='red',alpha=0.5)\n",
    "        ax[j][0].scatter(gaverageseries[i]*np.ones(nbatch),np.abs(meanloadingeigclouds[i,1,j,:]),s=5,color='blue',alpha=0.5)\n",
    "        # mean n1\n",
    "        ax[j][1].scatter(gaverageseries[i]*np.ones(nbatch),np.abs(meanloadingeigclouds[i,0,nrank+j,:]),s=5,color='red',alpha=0.5)\n",
    "        ax[j][1].scatter(gaverageseries[i]*np.ones(nbatch),np.abs(meanloadingeigclouds[i,1,nrank+j,:]),s=5,color='blue',alpha=0.5)"
   ]
  },
  {
   "source": [
    "## quantitative measurements"
   ],
   "cell_type": "markdown",
   "metadata": {}
  },
  {
   "cell_type": "code",
   "execution_count": 257,
   "metadata": {},
   "outputs": [],
   "source": [
    "# statistics\n",
    "# meanloadingeigclouds[i,0,j,:]=(np.mean(np.squeeze(loadingeigvec[i,0,j,:,:]),axis=0)) # m excitatory trial averaging\n",
    "# meanloadingeigclouds[i,0,j+nrank,:]=(np.mean(np.squeeze(loadingeigvec[i,0,j+nrank,:,:]),axis=0)) # n excitatory trial average\n",
    "# meanloadingeigclouds[i,1,j,:]=(np.mean(np.squeeze(loadingeigvec[i,1,j,:,:]),axis=0)) # m inhibitory trial average\n",
    "# meanloadingeigclouds[i,1,j+nrank,:]=(np.mean(np.squeeze(loadingeigvec[i,1,j+nrank,:,:]),axis=0)) # n inhibitory trial average\n",
    "mAm2,nAm2=np.zeros((2,2)),np.zeros((2,2))\n",
    "for i in range(nrank):\n",
    "    mAm2[:,i]=meigvecAm[1::NE,i]\n",
    "    nAm2[:,i]=neigvecAm[1::NE,i]\n",
    "invmbar,invnbar=la.inv(mAm2),la.inv(nAm2)\n",
    "# m1--\n",
    "meanloadingeig_trialsavg[:,:,0] = -np.mean(np.abs(np.squeeze(meanloadingeigclouds[:,:,0,:])),axis=2)#np.squeeze(meanloadingeigclouds[:,:,:,12])#\n",
    "meanloadingeig_trialsavg[:,:,1] = np.mean(np.abs(np.squeeze(meanloadingeigclouds[:,:,1,:])),axis=2)\n",
    "meanloadingeig_trialsavg[:,:,2] = np.mean(np.abs(np.squeeze(meanloadingeigclouds[:,:,2,:])),axis=2)\n",
    "meanloadingeig_trialsavg[:,0,2]*=-1\n",
    "meanloadingeig_trialsavg[:,:,3] = np.mean(np.abs(np.squeeze(meanloadingeigclouds[:,:,3,:])),axis=2)\n",
    "meanloadingeig_trialsavg[:,1,3]*=-1\n",
    "Oeigseries=np.zeros((ngavg,2,nrank*2))\n",
    "for i in range(ngavg):\n",
    "    m_mean = np.squeeze(meanloadingeig_trialsavg[i,:,:nrank])\n",
    "    n_mean = np.squeeze(meanloadingeig_trialsavg[i,:,nrank:])\n",
    "    Oeigm,Oeign = invmbar@m_mean,invnbar@n_mean\n",
    "    Oeigseries[i,:,:nrank],Oeigseries[i,:,nrank:]=Oeigm.copy(),Oeign.copy()\n",
    "\n",
    "\n"
   ]
  },
  {
   "cell_type": "code",
   "execution_count": 258,
   "metadata": {},
   "outputs": [
    {
     "output_type": "stream",
     "name": "stdout",
     "text": [
      "[[ 1.00075099  0.00494783]\n [-0.00269889 -0.99904399]]\n[[ 1.00089434  0.00422734]\n [-0.00319749 -0.99925597]]\n[[ 1.00152747  0.00399406]\n [-0.00617696 -0.99913241]]\n[[ 1.00096882  0.00274053]\n [ 0.00266788 -1.00113915]]\n[[ 1.00218527 -0.00211217]\n [ 0.00571484 -1.00443599]]\n[[ 1.00785861  0.02640358]\n [-0.02243032 -0.99563013]]\n[[ 1.00136277e+00  1.14155006e-02]\n [ 5.28067296e-04 -1.00058445e+00]]\n[[ 1.00612545 -0.00785679]\n [ 0.01047373 -1.00984077]]\n[[ 1.01117012  0.03289877]\n [-0.02729409 -0.99485047]]\n[[ 1.00610158 -0.03966515]\n [ 0.02212081 -1.01940298]]\n[[ 1.00056596 -0.04876943]\n [ 0.02311919 -1.01489564]]\n[[ 1.00491048 -0.0470396 ]\n [ 0.03738602 -1.02232827]]\n[[ 1.01379089 -0.02432074]\n [ 0.02120981 -1.02240279]]\n[[ 1.08895068 -0.27138443]\n [ 0.17863451 -1.19129435]]\n[[ 1.00516988 -0.05076952]\n [ 0.04357295 -1.03005291]]\n[[ 1.03782274 -0.0974096 ]\n [ 0.05483822 -1.06784983]]\n[[ 1.00610598 -0.16531026]\n [ 0.10080351 -1.06732237]]\n[[ 1.01760963e+00  4.07695444e-04]\n [-1.33954787e-02 -1.02294494e+00]]\n[[ 1.04992327 -0.12452083]\n [ 0.07263418 -1.08080398]]\n[[ 0.98234148  0.08970698]\n [ 0.02063845 -0.89271524]]\n"
     ]
    }
   ],
   "source": [
    "for i in range(20):\n",
    "    mEnum, mInum=Oeigseries[i,:,:nrank],Oeigseries[i,:,nrank:]\n",
    "    print(mEnum@mInum.T)"
   ]
  },
  {
   "cell_type": "code",
   "execution_count": 259,
   "metadata": {},
   "outputs": [
    {
     "output_type": "stream",
     "name": "stdout",
     "text": [
      "[[ 0.97225956 -0.00136439]\n [ 0.00438349 -0.94326039]]\n[[ 1.04269155 -0.01764007]\n [-0.02349375  1.08379384]]\n[0.97915281+0.j 0.94571402+0.j]\n"
     ]
    }
   ],
   "source": [
    "# three copy\n",
    "idx = 12\n",
    "grand = gaverageseries[idx]*np.ones(4)*np.sqrt(2.0/3.0)\n",
    "grand[0]=0\n",
    "xee,xei,xie,xii=grand[0],grand[1],grand[2],grand[3]\n",
    "gmat = np.array([[xee**2,xei**2],[xie**2,xii**2]])\n",
    "eigvgm,eigvecgm=la.eig(gmat)\n",
    "# print(eigvgm)\n",
    "print(Oeigseries[idx,:,:nrank])\n",
    "print(Oeigseries[idx,:,nrank:])\n",
    "attt=(1- gaverageseries[idx]**2/eigvAm[:nrank]**2)#eigvgm**2/eigvAm[:nrank]**2)\n",
    "print(np.sqrt(attt))"
   ]
  },
  {
   "cell_type": "code",
   "execution_count": 261,
   "metadata": {},
   "outputs": [
    {
     "output_type": "execute_result",
     "data": {
      "text/plain": [
       "[<matplotlib.lines.Line2D at 0x7f9af1a97cd0>]"
      ]
     },
     "metadata": {},
     "execution_count": 261
    }
   ],
   "source": [
    "## scatter and direction\n",
    "nE1,nI1=np.squeeze(loadingeigvec[10,0,2,:NE,10]),np.squeeze(loadingeigvec[10,1,2,:,10])\n",
    "nE2,nI2=np.squeeze(loadingeigvec[10,0,3,:NE,10]),np.squeeze(loadingeigvec[10,1,3,:,10])\n",
    "# fig,ax=plt.subplots(figsize=(4,4))\n",
    "# FIGURE same as overlap\n",
    "ax.scatter(nE1,nE2,s=5,color='red',alpha=0.5)\n",
    "ax.scatter(nI1,nI2,s=5,color='blue',alpha=0.5)\n",
    "# for i in range(2):\n",
    "#     nAm2[:,i]=nAm2[:,i]/eigvAm[i]\n",
    "covnAm=nAm2.T@nAm2\n",
    "_,eigveccov=la.eig(covnAm)\n",
    "ax.plot([0,eigveccov[0,0]],[0,eigveccov[1,0]],'pink')"
   ]
  },
  {
   "cell_type": "code",
   "execution_count": null,
   "metadata": {},
   "outputs": [],
   "source": []
  }
 ]
}