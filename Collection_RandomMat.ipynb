{
 "metadata": {
  "language_info": {
   "codemirror_mode": {
    "name": "ipython",
    "version": 3
   },
   "file_extension": ".py",
   "mimetype": "text/x-python",
   "name": "python",
   "nbconvert_exporter": "python",
   "pygments_lexer": "ipython3",
   "version": "3.8.3-final"
  },
  "orig_nbformat": 2,
  "kernelspec": {
   "name": "python3",
   "display_name": "Python 3"
  }
 },
 "nbformat": 4,
 "nbformat_minor": 2,
 "cells": [
  {
   "cell_type": "code",
   "execution_count": 2,
   "metadata": {},
   "outputs": [],
   "source": [
    "from __future__ import print_function\n",
    "from ipywidgets import interact, interactive, fixed, interact_manual\n",
    "import ipywidgets as widgets\n",
    "import numpy as np\n",
    "import matplotlib.pylab as plt\n",
    "import matplotlib\n",
    "%matplotlib qt\n",
    "from numpy import linalg as la\n",
    "from scipy.optimize import fsolve\n",
    "from scipy import linalg as scpla\n",
    "import seaborn as sb\n",
    "from mpl_toolkits.axes_grid1 import make_axes_locatable\n",
    "from cmath import *\n",
    "from mpl_toolkits.mplot3d import Axes3D\n",
    "from scipy.optimize import fsolve,leastsq \n",
    "from math import tanh,cosh\n",
    "from sympy import *\n",
    "extras_require = {'PLOT':['matplotlib>=1.1.1,<3.0']},"
   ]
  },
  {
   "cell_type": "code",
   "execution_count": 102,
   "metadata": {},
   "outputs": [
    {
     "output_type": "stream",
     "name": "stdout",
     "text": [
      "[0.03028344 0.03028344 0.03028344] [0.02581126 0.02581126]\n"
     ]
    }
   ],
   "source": [
    "Ut=U@Asqrt@ROT.T\n",
    "print(Ut[:3,0],Ut[nn:nn+2,0])"
   ]
  },
  {
   "cell_type": "code",
   "execution_count": 31,
   "metadata": {},
   "outputs": [
    {
     "output_type": "stream",
     "name": "stdout",
     "text": [
      "Rotation: [[-0.92350317  0.38359079]\n",
      " [-0.38359079 -0.92350317]]\n",
      "compare the singular values from\n",
      "original: [3.54652139 0.4901756 ]\n",
      "svd: [3.5189723  0.53913121]\n",
      "ei: [3.50171094 0.49694515]\n",
      "low: [3.82339652 0.47078559]\n"
     ]
    }
   ],
   "source": [
    "#  15112020 reconfinement\n",
    "JE,JI=2.0,1.5\n",
    "a,b=0.6,-0.9#0.3,0.2#\n",
    "# calculate the rotation matrix in rank-2 case (reduced), then extend to large \n",
    "# generate perturbed matrix\n",
    "J2=np.zeros((2,2))\n",
    "J2[:,0],J2[:,1]=JE,-JI\n",
    "J2[0,0],J2[1,0]=J2[0,0]+a,J2[1,0]-a\n",
    "J2[0,1],J2[1,1]=J2[0,1]+b,J2[1,1]-b\n",
    "lvec2,svr2,rvech2=la.svd(J2)\n",
    "M2 = np.array([[1,1],[1,-1]])\n",
    "ROT = np.sqrt(2)*la.inv(M2)@lvec2 # M@ROT.T/sqrt(2?)=u\n",
    "print('Rotation:',ROT)\n",
    "ROT_=ROT.copy()\n",
    "ROT_[0,:]=ROT[1,:]\n",
    "ROT_[1,:]=ROT[0,:]\n",
    "ROT_[:,0]*=(-1)\n",
    "\n",
    "\n",
    "'''\n",
    "Generate two expressions in large random matrix\n",
    "params:\n",
    "    nn = E/I neuron number\n",
    "    M/Nrank = low rank structure in EI format\n",
    "    U/V.    = low rank structyre in SVD format\n",
    "    M/Nranktilde = low rank EI format for large random matrix\n",
    "    U/Vtilde = low rank SVD format for large random matrix\n",
    "    sigvmat: diagonal singular values matrix\n",
    "    \n",
    "\n",
    "'''\n",
    "grandom=0.2\n",
    "theta = grandom\n",
    "Rc,R = 0,2\n",
    "for i in range(2):\n",
    "    if svr2[i]>grandom:\n",
    "        Rc+=1\n",
    "nn=600\n",
    "sigvmat,rhosigv = np.zeros((R,R)),np.zeros((R,R))\n",
    "for i in range(R):\n",
    "    sigvmat[i,i]=svr2[i]\n",
    "    rhosigv[i,i]=svr2[i]+(grandom**2)/svr2[i]\n",
    "invsigvmat = la.inv(sigvmat)\n",
    "# print('inverse singular value matrix:',invsigvmat)\n",
    "# print('square of the inverse singular value matrix:',la.matrix_power(invsigvmat,2)) \n",
    "\n",
    "zetau,zetav = np.random.randn(nn*2,R)/np.sqrt(2*nn),np.random.randn(nn*2,R)/np.sqrt(2*nn)\n",
    "# zetau= np.random.randn(nn*2,R)/np.sqrt(2*nn)\n",
    "# zetau[:,1]=zetau[:,0]#np.sqrt(0.8)*zetau[:,0]+np.sqrt(0.2)*np.squeeze(np.random.randn(nn*2,1))/np.sqrt(2*nn)\n",
    "zetav = zetau # correlation between random terms\n",
    "zetaM,zetaN = np.random.randn(nn*2,R)/np.sqrt(2*nn),np.random.randn(nn*2,R)/np.sqrt(2*nn)\n",
    "zetaM_,zetaN_ = np.random.randn(nn*2,R)/np.sqrt(2*nn),np.random.randn(nn*2,R)/np.sqrt(2*nn)\n",
    "# generate rank-2 matrix P without random entries\n",
    "P=np.zeros((nn*2,nn*2))\n",
    "P[:,:nn],P[:,nn:]=JE/nn,-JI/nn\n",
    "P[:nn,:nn],P[nn:,:nn]=P[:nn,:nn]+a/nn,P[nn:,:nn]-a/nn\n",
    "P[:nn,nn:],P[nn:,nn:]=P[:nn,nn:]+b/nn,P[nn:,nn:]-b/nn\n",
    "# use SVD to decompose the low rank matrix\n",
    "lvec,svr,rvech=la.svd(P)\n",
    "rvec=rvech.T \n",
    "# check the singular value\n",
    "# print(svr,svr2)\n",
    "if np.sum((svr[:2]-svr2[:])**2)>1e-8:  \n",
    "    print('Singular values for 2by2 matrix do not match those for NbyN matrix!')\n",
    "\n",
    "alphamat= np.eye(R)-(grandom**2)*la.matrix_power(invsigvmat,2)\n",
    "Asqrt=np.eye(R)#alphamat.copy()\n",
    "invAsqrt = np.zeros_like(Asqrt)\n",
    "for i in range(R):\n",
    "    if alphamat[i,i]>0.0:\n",
    "        Asqrt[i,i]=np.sqrt(alphamat[i,i])\n",
    "        invAsqrt[i,i]=1.0/Asqrt[i,i]\n",
    "    else:\n",
    "        Asqrt[i,i]=1e-3\n",
    "        invAsqrt[i,i]=1.0/Asqrt[i,i]\n",
    "randomterm=np.zeros((R,R))\n",
    "for i in range(R):\n",
    "    randomterm[i,i]=np.sqrt(1.0-Asqrt[i,i]**2)\n",
    "# EI format\n",
    "withrand,wrank = 1,1\n",
    "M1,N1=np.ones(2*nn),np.ones(2*nn)\n",
    "N1[:nn],N1[nn:]=JE/nn,-JI/nn\n",
    "M2,N2=M1.copy(),N1.copy()\n",
    "M2[:nn],M2[nn:]=1,-1\n",
    "N2[:nn],N2[nn:]=a/nn,b/nn\n",
    "Mrank,Nrank=np.zeros((nn*2,R)),np.zeros((nn*2,R))\n",
    "NT = np.random.randn(nn*2,R)\n",
    "NT = NT.T \n",
    "if R>1:\n",
    "    Mrank[:,0],Mrank[:,1],Nrank[:,0],Nrank[:,1]=M1,M2,N1,N2\n",
    "else:\n",
    "    Mrank[:,0],Nrank[:,0]=M1,N1\n",
    "zetaMtilde = np.sqrt(2*nn)*zetaM*grandom@invsigvmat@la.inv(Asqrt)@ROT.T\n",
    "zetaNtilde = 1.0/np.sqrt(2*nn)*zetaN*grandom@la.inv(Asqrt)@ROT.T\n",
    "'''orthogonal'''\n",
    "c=1.0\n",
    "zetaMtilde_ = np.sqrt(2*nn)*zetaM_*grandom@invsigvmat@la.inv(Asqrt)@ROT.T#_#\n",
    "zetaNtilde_ = 1.0/np.sqrt(2*nn)*zetaN_*grandom@la.inv(Asqrt)@ROT.T#_#\n",
    "# zetaMtilde_ = np.sqrt(2*nn)*zetaM_*grandom@invsigvmat@invAsqrt@ROT_#\n",
    "# zetaNtilde_ = 1.0/np.sqrt(2*nn)*zetaN_*grandom@invAsqrt@ROT_#\n",
    "Mranktilde=(Mrank+zetaMtilde_*c+zetaMtilde*(1-c))@ROT@Asqrt\n",
    "Nranktilde=(Nrank+zetaNtilde_*c+zetaNtilde*(1-c))@ROT@Asqrt@invsigvmat@(sigvmat+grandom**2*invsigvmat)\n",
    "Nranktildeh = Nranktilde.T\n",
    "U,V=np.zeros_like(Mrank),np.zeros_like(Nrank)\n",
    "U,V=lvec[:,:R],rvec[:,:R]\n",
    "Utilde,Vtilde = wrank*U@Asqrt+withrand*zetau@randomterm,wrank*V@Asqrt+withrand*zetav@randomterm\n",
    "\n",
    "# add random part in, Xtilde = X+P\n",
    "X = (grandom)*np.random.randn(2*nn,2*nn)/np.sqrt(2*nn)\n",
    "Xtilde=X+P\n",
    "Utdnum,sigvtdnum,Vtdnumh=la.svd(Xtilde)\n",
    "Utdnum2,sigvtdnum2,Vtdnumh2=Utdnum[:,:Rc],sigvtdnum[:Rc],Vtdnumh[:Rc,:]\n",
    "Vtdnum2=Vtdnumh2.T\n",
    "for i in range(Rc):\n",
    "    Vtdnum2[:,i]*=sigvtdnum2[i]\n",
    "Xtilde_num=Vtdnum2.T@Utdnum2\n",
    "if Rc>1:\n",
    "    Xtilde_svdrec = (sigvmat+(grandom**2)*invsigvmat)@Vtilde.T@Utilde#Utilde@(sigvmat+(grandom**2)*invsigvmat)@Vtilde.T#/grandom**2\n",
    "    Xtilde_eirec  = Nranktildeh@Mranktilde#Nranktildeh@Mranktilde#/grandom**2\n",
    "    Xtilde_low = Nrank.T@Mrank\n",
    "else:\n",
    "    Xtilde_svdrec = np.reshape(Vtilde[:,0],(1,2*nn))*(sigvmat[0,0]+(grandom**2)*invsigvmat[0,0])@np.reshape(Utilde[:,0],(nn*2,1))#@#/grandom**2\n",
    "    Xtilde_eirec  = np.reshape(Nranktilde[:,0],(1,2*nn))@np.reshape(Mranktilde[:,0],(2*nn,1))#np.reshape(Nranktildeh[0,:],(1,2*nn))@np.reshape(Mranktilde[:,0],(nn*2,1))#/grandom**2\n",
    "    Xtilde_low = np.reshape(Nrank[:,0],(1,nn*2))@np.reshape(Mrank[:,0],(nn*2,1))\n",
    "\n",
    "# if Rc>1:\n",
    "#     Xtilde_svdrec = Utilde@(sigvmat+(grandom**2)*invsigvmat)@Vtilde.T#/grandom**2\n",
    "#     Xtilde_eirec  = Mranktilde@Nranktildeh#Nranktildeh@Mranktilde#/grandom**2\n",
    "#     Xtilde_low = Mrank@Nrank.T\n",
    "# else:\n",
    "#     Xtilde_svdrec = np.reshape(Utilde[:,0],(2*nn,1))*(sigvmat[0,0]+(grandom**2)*invsigvmat[0,0])@np.reshape(Vtilde[:,0],(1,nn*2))#@#/grandom**2\n",
    "#     Xtilde_eirec  = np.reshape(Mranktilde[:,0],(2*nn,1))@np.reshape(Nranktilde[:,0],(1,2*nn))\n",
    "#     Xtilde_low = np.reshape(Mrank[:,0],(nn*2,1))@np.reshape(Nrank[:,0],(1,nn*2))\n",
    "\n",
    "# test two expressions, using singular values\n",
    "_,sigvxtilde,_=la.svd(Xtilde_num)#Xtilde)\n",
    "_,sigveitilde,_=la.svd(Xtilde_eirec)\n",
    "_,sigvsvdtilde,_=la.svd(Xtilde_svdrec)\n",
    "\n",
    "_,sigvlow,_=la.svd(Xtilde_low)\n",
    "\n",
    "print('compare the singular values from')\n",
    "print('original:',sigvxtilde[:Rc])\n",
    "print('svd:',sigvsvdtilde[:Rc])\n",
    "print('ei:',sigveitilde[:Rc])#Xtilde_eirec)#\n",
    "print('low:',sigvlow[:Rc])\n",
    "\n",
    "\n"
   ]
  },
  {
   "cell_type": "code",
   "execution_count": 32,
   "metadata": {},
   "outputs": [
    {
     "output_type": "stream",
     "name": "stdout",
     "text": [
      "[-0.03773255 -0.03773255] [-0.01558593 -0.01558593] [-0.01558593 -0.01558593] [0.03773255 0.03773255]\n"
     ]
    }
   ],
   "source": [
    "print(U[:2,0],U[nn:nn+2,0],U[:2,1],U[nn:nn+2,1])"
   ]
  },
  {
   "cell_type": "code",
   "execution_count": 95,
   "metadata": {},
   "outputs": [
    {
     "output_type": "stream",
     "name": "stdout",
     "text": [
      "[[-5.55111512e-17  1.00000000e+00]\n [-1.00000000e+00  5.55111512e-17]]\n"
     ]
    },
    {
     "output_type": "execute_result",
     "data": {
      "text/plain": [
       "Text(0.5, 1.0, '$J_E,\\\\ J_I=$2.9,1.5, $a, b=$0.6,-0.9\\n $\\\\sigma_1=$4.8,$\\\\rho_1=$4.9,$\\\\overline{\\\\sigma}=$0.5')"
      ]
     },
     "metadata": {},
     "execution_count": 95
    }
   ],
   "source": [
    "ROT_=ROT.copy()\n",
    "ROT_[0,:]=ROT[1,:]\n",
    "ROT_[1,:]=ROT[0,:]\n",
    "ROT_[:,0]*=(-1)\n",
    "print(ROT_@ROT)\n",
    "# Mranktilde,Mrank,Nranktilde,Nrank=-Mranktilde/np.sqrt(2*nn),-Mrank/np.sqrt(2*nn),-Nranktilde*np.sqrt(2*nn),-Nrank*np.sqrt(2*nn)\n",
    "# zetaMtilde,zetaNtilde=-zetaMtilde/np.sqrt(2*nn),-zetaNtilde*np.sqrt(2*nn)\n",
    "zetaMtilde_ = np.sqrt(2*nn)*zetaM*grandom@invsigvmat@la.inv(Asqrt)@ROT_\n",
    "zetaNtilde_ = 1.0/np.sqrt(2*nn)*zetaN*grandom@la.inv(Asqrt)@ROT_\n",
    "zetaMtilde_,zetaNtilde_=-zetaMtilde_/np.sqrt(2*nn),-zetaNtilde_*np.sqrt(2*nn)\n",
    "fig=plt.figure(figsize=(6,6))\n",
    "ax1=fig.add_subplot(111)\n",
    "ax1.scatter(-(Mrank[:,0]+zetaMtilde[:,0]),-(Mrank[:,1]+zetaMtilde[:,1]),c='pink',alpha=0.5)\n",
    "ax1.scatter(-(Mrank[:,0]+zetaMtilde_[:,0]),-(Mrank[:,1]+zetaMtilde_[:,1]),c='green',alpha=0.5)\n",
    "ax1.set_aspect('equal')\n",
    "\n",
    "ax1.set_xlabel(r'$\\tilde{M}^{(1)}$',fontsize=14)\n",
    "ax1.set_ylabel(r'$\\tilde{M}^{(2)}$',fontsize=14)\n",
    "ax1.set_title(r'$J_E,\\ J_I=$'+str(JE)+','+str(JI)+', $a, b=$'+str(a)+','+str(b)+'\\n $\\sigma_1=$'+str(format(svr2[0],'.1f'))+r',$\\rho_1=$'+str(format(rhosigv[0,0],'.1f'))+',$\\overline{\\sigma}=$'+str(grandom),fontsize=16)"
   ]
  },
  {
   "cell_type": "code",
   "execution_count": 48,
   "metadata": {},
   "outputs": [],
   "source": [
    "# SCATTER PLOT of Mtilde and Ntilde\n",
    "bimeanMtilde,bimeanNtilde=np.zeros((R,Rc)),np.zeros((R,Rc))\n",
    "# Mranktilde,Mrank,Nranktilde,Nrank=-Mranktilde/np.sqrt(2*nn),-Mrank/np.sqrt(2*nn),-Nranktilde*np.sqrt(2*nn),-Nrank*np.sqrt(2*nn)\n",
    "# zetaMtilde,zetaNtilde=-zetaMtilde/np.sqrt(2*nn),-zetaNtilde*np.sqrt(2*nn)\n",
    "\n",
    "for i in range(Rc):\n",
    "    bimeanMtilde[0,i],bimeanNtilde[0,i]=np.mean(Mranktilde[:nn,i]),np.mean(Nranktilde[:nn,i])\n",
    "    bimeanMtilde[1,i],bimeanNtilde[1,i]=np.mean(Mranktilde[nn:,i]),np.mean(Nranktilde[nn:,i])\n",
    "RANKP=0\n",
    "fig=plt.figure(figsize=(6,6))\n",
    "ax1=fig.add_subplot(121)\n",
    "ax1.scatter(-(Mrank[:,0]+zetaMtilde[:,0]),-(Mrank[:,1]+zetaMtilde[:,1]),c='pink',alpha=0.5)\n",
    "ax1.set_aspect('equal')\n",
    "ax2=fig.add_subplot(122)\n",
    "ax2.scatter(-(Nrank[:,0]+zetaNtilde[:,0]),-(Nrank[:,1]+zetaNtilde[:,1]),c='green',alpha=0.5)\n",
    "ax2.set_aspect('equal')\n",
    "\n",
    "fig=plt.figure(figsize=(6,6))\n",
    "ax1=fig.add_subplot(121)\n",
    "ax1.scatter(-(Mrank[:,0]+zetaMtilde[:,0]),-(Nrank[:,0]+zetaNtilde[:,0]),c='pink',alpha=0.5)\n",
    "ax1.set_aspect('equal')\n",
    "ax2=fig.add_subplot(122)\n",
    "ax2.scatter(-(Mrank[:,1]+zetaMtilde[:,1]),-(Nrank[:,1]+zetaNtilde[:,1]),c='green',alpha=0.5)\n",
    "ax2.set_aspect('equal')\n",
    "\n",
    "fig=plt.figure(figsize=(6,6))\n",
    "ax1=fig.add_subplot(121)\n",
    "ax1.scatter(-(Mrank[:,0]+zetaMtilde[:,0]),-(Nrank[:,1]+zetaNtilde[:,1]),c='pink',alpha=0.5)\n",
    "ax1.set_aspect('equal')\n",
    "ax2=fig.add_subplot(122)\n",
    "ax2.scatter(-(Mrank[:,1]+zetaMtilde[:,1]),-(Nrank[:,0]+zetaNtilde[:,0]),c='green',alpha=0.5)\n",
    "ax2.set_aspect('equal')\n"
   ]
  },
  {
   "cell_type": "code",
   "execution_count": null,
   "metadata": {},
   "outputs": [],
   "source": []
  },
  {
   "cell_type": "code",
   "execution_count": 34,
   "metadata": {},
   "outputs": [
    {
     "output_type": "execute_result",
     "data": {
      "text/plain": [
       "<matplotlib.collections.PathCollection at 0x7fadb3bc8580>"
      ]
     },
     "metadata": {},
     "execution_count": 34
    }
   ],
   "source": [
    "# SCATTER PLOT of Mtilde and Ntilde\n",
    "bimeanMtilde,bimeanNtilde=np.zeros((R,Rc)),np.zeros((R,Rc))\n",
    "# Mranktilde,Mrank,Nranktilde,Nrank=-Mranktilde/np.sqrt(2*nn),-Mrank/np.sqrt(2*nn),-Nranktilde*np.sqrt(2*nn),-Nrank*np.sqrt(2*nn)\n",
    "# zetaMtilde,zetaNtilde=-zetaMtilde/np.sqrt(2*nn),-zetaNtilde*np.sqrt(2*nn)\n",
    "\n",
    "for i in range(Rc):\n",
    "    bimeanMtilde[0,i],bimeanNtilde[0,i]=np.mean(Mranktilde[:nn,i]),np.mean(Nranktilde[:nn,i])\n",
    "    bimeanMtilde[1,i],bimeanNtilde[1,i]=np.mean(Mranktilde[nn:,i]),np.mean(Nranktilde[nn:,i])\n",
    "RANKP=0\n",
    "fig=plt.figure(figsize=(6,6))\n",
    "ax1=fig.add_subplot(111)\n",
    "ax1.scatter(-(Mrank[:,RANKP]+zetaMtilde[:,RANKP]),-(Nrank[:,RANKP]+zetaNtilde[:,RANKP]),c='pink',alpha=0.5)\n",
    "ax1.set_aspect('equal')\n",
    "ax1.scatter(-Mrank[:,RANKP],-Nrank[:,RANKP],c='b',alpha=1.0)\n",
    "ax1.scatter(-bimeanMtilde[:,RANKP],-bimeanNtilde[:,RANKP],c='red',alpha=1.0)\n",
    "RANKP=1\n",
    "fig=plt.figure(figsize=(6,6))\n",
    "ax2=fig.add_subplot(111)\n",
    "ax2.scatter(-(Mrank[:,RANKP]+zetaMtilde[:,RANKP]),-(Nrank[:,RANKP]+zetaNtilde[:,RANKP]),c='pink',alpha=0.5)\n",
    "ax2.set_aspect('equal')\n",
    "ax2.scatter(-Mrank[:,RANKP],-Nrank[:,RANKP],c='b',alpha=1.0)\n",
    "ax2.scatter(-bimeanMtilde[:,RANKP],-bimeanNtilde[:,RANKP],c='red',alpha=1.0)\n",
    "\n",
    "nVtilde = Vtilde@(sigvmat+(grandom**2)*invsigvmat)\n",
    "nV = V@sigvmat\n",
    "bimeanUtilde,bimeanVtilde=np.zeros((R,R)),np.zeros((R,R))\n",
    "for i in range(Rc):\n",
    "    bimeanUtilde[0,i],bimeanVtilde[0,i]=np.mean(Utilde[:nn,i]),np.mean(nVtilde[:nn,i])\n",
    "    bimeanUtilde[1,i],bimeanVtilde[1,i]=np.mean(Utilde[nn:,i]),np.mean(nVtilde[nn:,i])\n",
    "RANKP=0\n",
    "# fig=plt.figure(figsize=(5,5))\n",
    "# ax1=fig.add_subplot(111)\n",
    "ax1.scatter(Utilde[:,RANKP],nVtilde[:,RANKP],c='yellow',alpha=0.5)\n",
    "ax1.set_aspect('equal')\n",
    "ax1.scatter(U[:,RANKP],nV[:,RANKP],c='green',alpha=1.0)\n",
    "ax1.scatter(bimeanUtilde[:,RANKP],bimeanVtilde[:,RANKP],c='red',alpha=0.8)\n",
    "\n",
    "ax1.scatter(-Mrank[:,RANKP],-Nrank[:,RANKP],c='b',alpha=1.0)\n",
    "ax1.scatter(-bimeanMtilde[:,RANKP],-bimeanNtilde[:,RANKP],c='red',alpha=1.0)\n",
    "\n",
    "RANKP=1\n",
    "# fig=plt.figure(figsize=(5,5))\n",
    "# ax1=fig.add_subplot(111)\n",
    "ax2.scatter(Utilde[:,RANKP],nVtilde[:,RANKP],c='yellow',alpha=0.5)\n",
    "ax2.set_aspect('equal')\n",
    "ax2.scatter(U[:,RANKP],nV[:,RANKP],c='green',alpha=1.0)\n",
    "ax2.scatter(bimeanUtilde[:,RANKP],bimeanVtilde[:,RANKP],c='red',alpha=0.8)\n",
    "\n",
    "ax2.scatter(-Mrank[:,RANKP],-Nrank[:,RANKP],c='b',alpha=1.0)\n",
    "ax2.scatter(-bimeanMtilde[:,RANKP],-bimeanNtilde[:,RANKP],c='red',alpha=1.0)\n"
   ]
  },
  {
   "cell_type": "code",
   "execution_count": 344,
   "metadata": {},
   "outputs": [
    {
     "output_type": "stream",
     "name": "stdout",
     "text": [
      "Rotation: [[-0.95863948  0.28462317]\n [-0.28462317 -0.95863948]]\n"
     ]
    }
   ],
   "source": [
    "#  15112020 reconfinement\n",
    "JE,JI=2.9,1.5\n",
    "a,b=0.6,-0.9#0.3,0.2#\n",
    "# calculate the rotation matrix in rank-2 case (reduced), then extend to large \n",
    "# generate perturbed matrix\n",
    "J2=np.zeros((2,2))\n",
    "J2[:,0],J2[:,1]=JE,-JI\n",
    "J2[0,0],J2[1,0]=J2[0,0]+a,J2[1,0]-a\n",
    "J2[0,1],J2[1,1]=J2[0,1]+b,J2[1,1]-b\n",
    "lvec2,svr2,rvech2=la.svd(J2)\n",
    "M2 = np.array([[1,1],[1,-1]])\n",
    "ROT = np.sqrt(2)*la.inv(M2)@lvec2 # M@ROT.T/sqrt(2?)=u\n",
    "print('Rotation:',ROT)\n",
    "\n",
    "'''\n",
    "Generate two expressions in large random matrix\n",
    "params:\n",
    "    nn = E/I neuron number\n",
    "    M/Nrank = low rank structure in EI format\n",
    "    U/V.    = low rank structyre in SVD format\n",
    "    M/Nranktilde = low rank EI format for large random matrix\n",
    "    U/Vtilde = low rank SVD format for large random matrix\n",
    "    sigvmat: diagonal singular values matrix\n",
    "    \n",
    "\n",
    "'''\n",
    "grandom=0.5\n",
    "theta = grandom\n",
    "Rc,R = 0,2\n",
    "for i in range(2):\n",
    "    if svr2[i]>grandom:\n",
    "        Rc+=1\n",
    "nn=600\n",
    "sigvmat,rhosigv = np.zeros((R,R)),np.zeros((R,R))\n",
    "for i in range(R):\n",
    "    sigvmat[i,i]=svr2[i]\n",
    "invsigvmat = la.inv(sigvmat)\n",
    "\n",
    "zetau,zetav = grandom*np.random.randn(nn*2,R)/np.sqrt(2*nn),grandom*np.random.randn(nn*2,R)/np.sqrt(2*nn)\n",
    "zetaM,zetaN = grandom*np.random.randn(nn*2,R)/np.sqrt(2*nn),grandom*np.random.randn(nn*2,R)/np.sqrt(2*nn)\n",
    "# generate rank-2 matrix P without random entries\n",
    "P=np.zeros((nn*2,nn*2))\n",
    "P[:,:nn],P[:,nn:]=JE/nn,-JI/nn\n",
    "P[:nn,:nn],P[nn:,:nn]=P[:nn,:nn]+a/nn,P[nn:,:nn]-a/nn\n",
    "P[:nn,nn:],P[nn:,nn:]=P[:nn,nn:]+b/nn,P[nn:,nn:]-b/nn\n",
    "# use SVD to decompose the low rank matrix\n",
    "lvec,svr,rvech=la.svd(P)\n",
    "rvec=rvech.T \n",
    "# check the singular value\n",
    "# print(svr,svr2)\n",
    "if np.sum((svr[:2]-svr2[:])**2)>1e-8:  \n",
    "    print('Singular values for 2by2 matrix do not match those for NbyN matrix!')\n",
    "\n",
    "alphamat= np.eye(R)-(grandom**2)*la.matrix_power(invsigvmat,2)\n",
    "Asqrt=np.eye(R)#alphamat.copy()\n",
    "for i in range(R):\n",
    "    if alphamat[i,i]>0.0:\n",
    "        Asqrt[i,i]=np.sqrt(alphamat[i,i])\n",
    "    else:\n",
    "        Asqrt[i,i]=0.0\n",
    "randomterm=np.zeros((R,R))\n",
    "for i in range(R):\n",
    "    randomterm[i,i]=np.sqrt(1.0-Asqrt[i,i]**2)\n",
    "\n",
    "U,V=np.zeros_like(Mrank),np.zeros_like(Nrank)\n",
    "U,V=lvec[:,:R],rvec[:,:R]\n",
    "\n",
    "# add random part in, Xtilde = X+P\n",
    "X = (grandom)*np.random.randn(2*nn,2*nn)/np.sqrt(2*nn)\n",
    "Xtilde=X+P\n",
    "# test two expressions, using singular values\n",
    "lvectd,sigvxtilde,rvechtd=la.svd(Xtilde)\n",
    "Utilde,Vtilde = lvectd[:,:R],rvechtd[:R,:]\n",
    "Vtilde = Vtilde.T\n",
    "\n"
   ]
  },
  {
   "cell_type": "code",
   "execution_count": 345,
   "metadata": {},
   "outputs": [
    {
     "output_type": "stream",
     "name": "stdout",
     "text": [
      "original sigv: [4.81194992 0.71073059] ; critical value: 0.5\nrandom sigv num: [4.86061557 1.0633878 ] ;\ntheoretical sigv: [4.86390391 1.06248131]\n"
     ]
    }
   ],
   "source": [
    "print('original sigv:',svr[:2],'; critical value:',grandom)\n",
    "print('random sigv num:',sigvxtilde[:2],';')\n",
    "theosigv = svr[:2]+grandom**2/svr[:2]\n",
    "print('theoretical sigv:',theosigv)\n"
   ]
  },
  {
   "cell_type": "code",
   "execution_count": 346,
   "metadata": {},
   "outputs": [
    {
     "output_type": "stream",
     "name": "stdout",
     "text": [
      "overlap bewteen singular vectors, num: 0.9888076931786727 ;right  0.9888560118383901\ntheoretical: 0.9892031315204817\noverlap bewteen singular vectors, num: 0.5356105817001876 ;right  0.5493838003262217\ntheoretical: 0.5050857094904272\n"
     ]
    }
   ],
   "source": [
    "print('overlap bewteen singular vectors, num:',np.sum(U[:,0]*Utilde[:,0])**2,';right ',np.sum(V[:,0]*Vtilde[:,0])**2)\n",
    "print('theoretical:',Asqrt[0,0]**2)\n",
    "print('overlap bewteen singular vectors, num:',np.sum(U[:,1]*Utilde[:,1])**2,';right ',np.sum(V[:,1]*Vtilde[:,1])**2)\n",
    "print('theoretical:',Asqrt[1,1]**2)"
   ]
  },
  {
   "source": [
    "## $\\mathbf{\\tilde{M}},\\mathbf{\\tilde{N}}$ expression"
   ],
   "cell_type": "markdown",
   "metadata": {}
  },
  {
   "cell_type": "code",
   "execution_count": 84,
   "metadata": {},
   "outputs": [],
   "source": [
    "# change to CLASS?\n",
    "def StatisticsLRandomMat(Connparams,Netparams,):\n",
    "    JE,JI,a,b,g = Connparams\n",
    "    nn,withrand,wrank,thetatilde = Netparams\n",
    "    nn = int(nn)\n",
    "    # #  15112020 reconfinement\n",
    "    # JE,JI=2.0,1.5#2.9,1.5\n",
    "    # a,b=0.725,-0.775#0.3,0.2#\n",
    "    # # with random components or not\n",
    "    # withrand,wrank,thetatilde = 1.0,1.0,0.6*np.pi\n",
    "\n",
    "    # calculate the rotation matrix in rank-2 case (reduced), then extend to large \n",
    "    # generate perturbed matrix\n",
    "    J2=np.zeros((2,2))\n",
    "    J2[:,0],J2[:,1]=JE,-JI\n",
    "    J2[0,0],J2[1,0]=J2[0,0]+a,J2[1,0]-a\n",
    "    J2[0,1],J2[1,1]=J2[0,1]+b,J2[1,1]-b\n",
    "    lvec2,svr2,rvech2=la.svd(J2)\n",
    "    # print('svr2:',svr2)\n",
    "    M2 = np.array([[1,1],[1,-1]])\n",
    "    ROT = np.sqrt(2)*la.inv(M2)@lvec2 # M@ROT.T/sqrt(2?)=u\n",
    "    # print('sv2:',svr2)\n",
    "\n",
    "    '''\n",
    "    Generate two expressions in large random matrix\n",
    "    params:\n",
    "        nn = E/I neuron number\n",
    "        M/Nrank = low rank structure in EI format\n",
    "        U/V.    = low rank structyre in SVD format\n",
    "        M/Nranktilde = low rank EI format for large random matrix\n",
    "        U/Vtilde = low rank SVD format for large random matrix\n",
    "        sigvmat: diagonal singular values matrix\n",
    "\n",
    "\n",
    "    '''\n",
    "    grandom=(svr2[1]*g)#svr2[1]*0.70#\n",
    "    print('g threshold, upper:',2*grandom)\n",
    "    theta = grandom\n",
    "    Rc,R = 0,2\n",
    "    for i in range(2):\n",
    "        if svr2[i]>grandom:\n",
    "            Rc+=1\n",
    "#     nn=600\n",
    "    sigvmat,rhosigv = np.zeros((Rc,Rc)),np.zeros((Rc,Rc))\n",
    "    for i in range(Rc):\n",
    "        sigvmat[i,i]=svr2[i]\n",
    "        rhosigv[i,i]=svr2[i]+(grandom**2)/svr2[i]\n",
    "    invsigvmat = la.inv(sigvmat)\n",
    "    # print('inverse singular value matrix:',invsigvmat)\n",
    "    # print('square of the inverse singular value matrix:',la.matrix_power(invsigvmat,2)) \n",
    "\n",
    "    zetau,zetav = np.random.randn(nn*2,Rc)/np.sqrt(2*nn),np.random.randn(nn*2,Rc)/np.sqrt(2*nn)\n",
    "    nx,ny = np.random.randn(nn*2,Rc)/np.sqrt(2*nn),np.random.randn(nn*2,Rc)/np.sqrt(2*nn)\n",
    "    zetau=ny.copy()\n",
    "    zetav=nx.copy()\n",
    "    # generate rank-2 matrix P without random entries\n",
    "    P=np.zeros((nn*2,nn*2))\n",
    "    P[:,:nn],P[:,nn:]=JE/nn,-JI/nn\n",
    "    P[:nn,:nn],P[nn:,:nn]=P[:nn,:nn]+a/nn,P[nn:,:nn]-a/nn\n",
    "    P[:nn,nn:],P[nn:,nn:]=P[:nn,nn:]+b/nn,P[nn:,nn:]-b/nn\n",
    "    # use SVD to decompose the low rank matrix\n",
    "    lvec,svr,rvech=la.svd(P)\n",
    "    rvec=rvech.T \n",
    "    # check the singular value\n",
    "    # print(svr,svr2)\n",
    "    if np.sum((svr[:2]-svr2[:])**2)>1e-8:  \n",
    "        print('Singular values for 2by2 matrix do not match those for NbyN matrix!')\n",
    "\n",
    "    '''\n",
    "        Analytical calculation\n",
    "    '''\n",
    "    # diagonal matrix D^-1 and (I-D^-2)^1/2\n",
    "    # (I-D^-2)^1/2\n",
    "    alphamat= np.eye(Rc)-(grandom**2)*la.matrix_power(invsigvmat,2)\n",
    "    Asqrt=np.eye(Rc)\n",
    "    for i in range(Rc):\n",
    "        if alphamat[i,i]>0.0:\n",
    "            Asqrt[i,i]=np.sqrt(alphamat[i,i])\n",
    "        else:\n",
    "            Asqrt[i,i]=0.0\n",
    "            print('AI')\n",
    "    # print('Asqrt:',Asqrt)\n",
    "    # D^-1\n",
    "    randomterm=np.zeros((Rc,Rc))\n",
    "    for i in range(Rc):\n",
    "        randomterm[i,i]=np.sqrt(1.0-Asqrt[i,i]**2)\n",
    "\n",
    "    # Analytically calculate the singular values after transformation(perturbation)\n",
    "    Alyrho = sigvmat.copy()\n",
    "    for i in range(Rc):\n",
    "        Alyrho[i,i]=Alyrho[i,i]+grandom**2/Alyrho[i,i]\n",
    "        \n",
    "    # U,V low-rank\n",
    "    U,V=np.zeros((nn*2,Rc)),np.zeros((nn*2,Rc))\n",
    "    U,V=lvec[:,:Rc],rvec[:,:Rc]\n",
    "    # U,V overline (after transformation)\n",
    "    # U,V zetau,v overline (after transformation)\n",
    "    Uoverline,Voverline = wrank*U@Asqrt,wrank*V@Asqrt\n",
    "    zetauoverline,zetavoverline = withrand*zetau@randomterm,withrand*zetav@randomterm\n",
    "    # U,V tilde (used for reconstruction)\n",
    "    Utilde,Vtilde = Uoverline+zetauoverline,Voverline+zetavoverline\n",
    "    \n",
    "    if Rc>1:\n",
    "        # randomly choose a rotation matrix for U,Vtilde and M,Ntilde\n",
    "        Otilde = np.zeros((Rc,Rc))\n",
    "        Otilde = np.array([[np.cos(thetatilde),-np.sin(thetatilde)],[np.sin(thetatilde),np.cos(thetatilde)]])\n",
    "        # clustring mean after rotation M,N overline\n",
    "        # from Uoverline and Voverrline (adding analytically calculated singular value)\n",
    "        Moverline,Noverline = Uoverline@Otilde,Voverline@Alyrho@Otilde\n",
    "\n",
    "        # change the rotation matrix Otilde\n",
    "        # the 1st mode of column vector in Moverline is averaging-mode\n",
    "        # Uup = Uoverline[0,:],Ubottom=Uoverline[-1,:]\n",
    "        gamma = np.arctan(U[-1,0]/U[0,0])\n",
    "        thetatildeAvg = gamma+np.pi/4.0#(U[-1,0]-U[0,0])/(U[0,1]-U[-1,1])\n",
    "        # tgOtilde = (Uoverline[0,0]-Uoverline[-1,0])/(Uoverline[-1,1]-Uoverline[0,1])\n",
    "        # thetatildeAvg=-np.arctan(tgOtilde)\n",
    "        OtildeAvg = np.array([[np.cos(thetatildeAvg),-np.sin(thetatildeAvg)],[np.sin(thetatildeAvg),np.cos(thetatildeAvg)]])\n",
    "        print('rotation:',OtildeAvg)\n",
    "\n",
    "        # random/perturbation components for M and N, zetamoverline,zetanoverline\n",
    "        zetamoverline,zetanoverline = zetauoverline@Otilde,zetavoverline@Alyrho@Otilde\n",
    "        # final expression for M,N tilde\n",
    "        Mtilde,Ntilde=Moverline+zetamoverline,Noverline+zetanoverline\n",
    "        Ntildeh = Ntilde.T\n",
    "    elif Rc==1:\n",
    "        Moverline,Noverline = Uoverline,Voverline@Alyrho\n",
    "\n",
    "        # change the rotation matrix Otilde\n",
    "        # the 1st mode of column vector in Moverline is averaging-mode\n",
    "        # Uup = Uoverline[0,:],Ubottom=Uoverline[-1,:]\n",
    "        tgOtilde = 1.0\n",
    "        OtildeAvg = 1.0\n",
    "\n",
    "        # random/perturbation components for M and N, zetamoverline,zetanoverline\n",
    "        zetamoverline,zetanoverline = zetauoverline,zetavoverline@Alyrho\n",
    "        # final expression for M,N tilde\n",
    "        Mtilde,Ntilde=Moverline+zetamoverline,Noverline+zetanoverline\n",
    "        Ntildeh = Ntilde.T       \n",
    "\n",
    "    '''\n",
    "        Numerical simulation\n",
    "    '''\n",
    "    # add random part in, Xtilde = X+P\n",
    "    X = (grandom)*np.random.randn(2*nn,2*nn)/np.sqrt(2*nn)\n",
    "    Xtilde=X+P\n",
    "    Utildenum,sigvxtilde,Vtildenumh=la.svd(Xtilde)\n",
    "    # the first 2 structural connectivity\n",
    "    Utildenum,Vtildenum =Utildenum[:,:Rc], Vtildenumh.T\n",
    "    Vtildenum=Vtildenum[:,:Rc]\n",
    "    # calculate the mean values of left and right singular vectors U,V numerical overline\n",
    "    Uoverlinenum,Voverlinenum=Utildenum.copy(),Vtildenum.copy()\n",
    "    for i in range(Rc):\n",
    "        Uoverlinenum[:nn,i],Voverlinenum[:nn,i]=np.mean(Uoverlinenum[:nn,i]),np.mean(Voverlinenum[:nn,i])\n",
    "        Uoverlinenum[nn:,i],Voverlinenum[nn:,i]=np.mean(Uoverlinenum[nn:,i]),np.mean(Voverlinenum[nn:,i])\n",
    "    # dissect the random components, zetau,v numerical tilde\n",
    "    zetauoverlinenum,zetavoverlinenum=Utildenum-Uoverlinenum,Vtildenum-Voverlinenum\n",
    "    if Rc>1:\n",
    "        MoverlineAvg=Uoverlinenum@OtildeAvg\n",
    "    elif Rc==1:\n",
    "        MoverlineAvg=Uoverlinenum\n",
    "\n",
    "\n",
    "    '''\n",
    "        properties\n",
    "    '''\n",
    "    Ovlzetauvoverline = zetavoverlinenum.T@zetauoverlinenum\n",
    "    # Overlapuv = Vtildenum.T@Utildenum#sigvmat@Overlapuv@sigvmat/(grandom**2)\n",
    "    OvlUV = V.T@U\n",
    "    # calculate the random terms in Utilde and Vtilde\n",
    "    if Rc>1:\n",
    "        Xtilde_svdrec = Utilde@Alyrho@Vtilde.T#/grandom**2\n",
    "        Xtilde_eirec  = Mtilde@Ntildeh#Nranktildeh@Mranktilde#/grandom**2\n",
    "    else:\n",
    "        Xtilde_svdrec = Utilde@Alyrho@Vtilde.T#np.reshape(Utilde[:,0],(2*nn,1))*(sigvmat[0,0]+(grandom**2)*invsigvmat[0,0])@np.reshape(Vtilde[:,0],(1,nn*2))#@#/grandom**2\n",
    "        Xtilde_eirec  = Mtilde@Ntildeh#np.reshape(Nranktildeh[0,:],(1,2*nn))@np.reshape(Mranktilde[:,0],(nn*2,1))#/grandom**2\n",
    "\n",
    "\n",
    "    # test eigenvalues\n",
    "    eigv,eigvec=la.eig(Xtilde)\n",
    "    print('Eigenvalues:',eigv[:R+1])\n",
    "    _,sigveitilde,_=la.svd(Xtilde_eirec)\n",
    "    _,sigvsvdtilde,_=la.svd(Xtilde_svdrec)\n",
    "    NumLRandMat = {'LRandMat':Xtilde,\n",
    "                   'RandComp':X,\n",
    "                   'LowRComp':P,\n",
    "                   'ltilde':Utildenum,\n",
    "                   'rtilde':Vtildenum,\n",
    "                   'singularv':sigvxtilde,\n",
    "                   'lvecmean':Uoverlinenum,\n",
    "                   'rvecmean':Voverlinenum,\n",
    "                   'zetalvec':zetauoverlinenum,\n",
    "                   'zetarvec':zetavoverlinenum\n",
    "        \n",
    "    }\n",
    "    TheosvdLRandMat = {'LRandMat':Xtilde_svdrec,\n",
    "                   'ltilde':Utilde,\n",
    "                   'rtilde':Vtilde,\n",
    "                   'singularv':sigvsvdtilde,\n",
    "                   'lvecmean':Uoverline,\n",
    "                   'rvecmean':Voverline,\n",
    "                   'zetalvec':zetauoverline,\n",
    "                   'zetarvec':zetavoverline,\n",
    "                   'Theosingularv':Alyrho \n",
    "        \n",
    "    }\n",
    "    TheoeiLRandMat = {'LRandMat':Xtilde_eirec,\n",
    "                   'ltilde':Mtilde,\n",
    "                   'rtilde':Ntilde,\n",
    "                   'singularv':sigveitilde,\n",
    "                   'lvecmean':Moverline,\n",
    "                   'rvecmean':Noverline,\n",
    "                   'zetalvec':zetamoverline,\n",
    "                   'zetarvec':zetanoverline\n",
    "        \n",
    "    }\n",
    "    return (NumLRandMat,TheosvdLRandMat,TheoeiLRandMat,OvlUV,Ovlzetauvoverline,MoverlineAvg,U,svr2,grandom,Asqrt)"
   ]
  },
  {
   "source": [
    "## The Statistics of Large Random Matrix\n",
    "* **Numerical Solution**\n",
    "* **Theoretical/Analytical Solution**"
   ],
   "cell_type": "markdown",
   "metadata": {}
  },
  {
   "cell_type": "code",
   "execution_count": 85,
   "metadata": {},
   "outputs": [
    {
     "output_type": "stream",
     "name": "stdout",
     "text": [
      "g threshold, upper: 0.48019737908368637\n",
      "rotation: [[ 0.29577984 -0.95525613]\n",
      " [ 0.95525613  0.29577984]]\n",
      "Eigenvalues: [1.45038147+0.47013053j 1.45038147-0.47013053j 0.17113209+0.17120147j]\n"
     ]
    }
   ],
   "source": [
    "JE,JI,a,b,g=2.9,1.5,0.725,-0.775,0.5#2.9,1.5,0.3,0.2#\n",
    "nn,withrand,wrank,thetatilde = 800,1.0,1.0,0.96*np.pi\n",
    "Connparams=np.array([JE,JI,a,b,g])\n",
    "Netparams =np.array([nn,withrand,wrank,thetatilde])\n",
    "NumLRandMat,TheosvdLRandMat,TheoeiLRandMat,OvlUV,Ovlzetauvoverline,MoverlineAvg,U,svr2,grandom,Asqrt=StatisticsLRandomMat(Connparams,Netparams,)"
   ]
  },
  {
   "cell_type": "code",
   "execution_count": 86,
   "metadata": {},
   "outputs": [
    {
     "output_type": "stream",
     "name": "stdout",
     "text": [
      "tan gamma for U: 0.5271441433980699\nrotation: [[ 0.29577984 -0.95525613]\n [ 0.95525613  0.29577984]]\nAsqwrt 0.9987643895377316 0.8660254037844386\nU overline here: [[-0.03123725 -0.01427808]\n [-0.01646654  0.02708572]]\n[-0.03123725 -0.03123725] [-0.01646654 -0.01646654]\n[-0.01427808 -0.01427808] [0.02708572 0.02708572]\nM overline meaning: [[-0.02287857  0.02561641]\n [ 0.02100333  0.02374117]]\n"
     ]
    }
   ],
   "source": [
    "thetagamma = np.arctan(U[-1,0]/U[0,0])\n",
    "print('tan gamma for U:',U[-1,0]/U[0,0])\n",
    "thetatilde = thetagamma+np.pi/4.0\n",
    "Otilde = np.array([[np.cos(thetatilde),-np.sin(thetatilde)],[np.sin(thetatilde),np.cos(thetatilde)]])\n",
    "print('rotation:',Otilde)\n",
    "# Uoverline\n",
    "g = grandom\n",
    "a1,a2=np.sqrt(1-g**2/(svr2[0])**2),np.sqrt(1-g**2/(svr2[1])**2)\n",
    "print('Asqwrt',a1,a2)\n",
    "Ubar=np.zeros((2,2))\n",
    "Ubar[0,0],Ubar[1,0]=a1*U[0,0],a1*U[-1,0]\n",
    "Ubar[0,1],Ubar[1,1]=a2*U[0,1],a2*U[-1,1]\n",
    "print('U overline here:',Ubar)\n",
    "print(TheosvdLRandMat['lvecmean'][:2,0],TheosvdLRandMat['lvecmean'][nn:nn+2,0])\n",
    "print(TheosvdLRandMat['lvecmean'][:2,1],TheosvdLRandMat['lvecmean'][nn:nn+2,1])\n",
    "\n",
    "print('M overline meaning:',Ubar@Otilde)"
   ]
  },
  {
   "cell_type": "code",
   "execution_count": 87,
   "metadata": {},
   "outputs": [
    {
     "output_type": "stream",
     "name": "stdout",
     "text": [
      "RANDOM COMPONENT:\n[[-4.05120493e-05 -5.35585435e-04]\n [ 8.88368610e-04  6.54451551e-03]]\nLOWRANK COMPONENT:\n[[ 0.5459806   0.83779782]\n [-0.83779782  0.5459806 ]]\nSingular Values, NUMERICAL:\n[4.84771239 0.59897025 0.47625917]\nNUMERICAL (RECONSTRUCTED)\nSVD: [4.83576613e+00 5.91134556e-01 2.56991680e-15]\nEI: [4.83576613e+00 5.91134556e-01 1.92813133e-15]\nTHEORETICAL:\n[[4.8432786  0.        ]\n [0.         0.60024672]]\nAveraging-mode after Appropriate Rotation: [-0.02283416 -0.02283416 -0.02283416] [0.02104807 0.02104807 0.02104807]\n2nd mode after Appropriate Rotation: [0.02564534 0.02564534 0.02564534] [0.02372202 0.02372202 0.02372202]\n"
     ]
    }
   ],
   "source": [
    "# the overlap between random component *NUMERICAL*\n",
    "print('RANDOM COMPONENT:')\n",
    "print(Ovlzetauvoverline)\n",
    "print('LOWRANK COMPONENT:')\n",
    "print(OvlUV)\n",
    "\n",
    "# compare the singular values: numerical, theoretical solutions\n",
    "print('Singular Values, NUMERICAL:')\n",
    "print(NumLRandMat['singularv'][:3])\n",
    "print('NUMERICAL (RECONSTRUCTED)')\n",
    "print('SVD:',TheosvdLRandMat['singularv'][:3])\n",
    "print('EI:',TheoeiLRandMat['singularv'][:3])\n",
    "print('THEORETICAL:')\n",
    "print(TheosvdLRandMat['Theosingularv'])\n",
    "\n",
    "# check the rotation matrix for averaging-mode\n",
    "print('Averaging-mode after Appropriate Rotation:',MoverlineAvg[:3,0],MoverlineAvg[nn:nn+3:,0])\n",
    "print('2nd mode after Appropriate Rotation:',MoverlineAvg[:3,1],MoverlineAvg[nn:nn+3:,1])"
   ]
  },
  {
   "cell_type": "code",
   "execution_count": null,
   "metadata": {},
   "outputs": [],
   "source": []
  },
  {
   "cell_type": "code",
   "execution_count": 236,
   "metadata": {},
   "outputs": [
    {
     "output_type": "execute_result",
     "data": {
      "text/plain": [
       "Text(148.31944444444443, 0.5, '$P(\\\\rho_i)$')"
      ]
     },
     "metadata": {},
     "execution_count": 236
    }
   ],
   "source": [
    "# fig=plt.figure()\n",
    "# ax=fig.add_subplot(311)\n",
    "# ax.hist(sigvxtilde, 100, density=True, facecolor='g', alpha=0.75)\n",
    "# ax.plot(sigveitilde[:2], np.array([0,0]),'r*')\n",
    "# ax.set_aspect('auto')\n",
    "# ax.set_title(r'$J_E,\\ J_I=$'+str(JE)+','+str(JI)+', $a, b=$'+str(a)+','+str(b)+'\\n $\\sigma_1=$'+str(format(svr2[0],'.1f'))+r',$g=$'+str(grandom),fontsize=12)\n",
    "\n",
    "# ax1=fig.add_subplot(312)\n",
    "# ax1.hist(sigvxtilde, 100, density=True, facecolor='g', alpha=0.75)\n",
    "# ax1.plot(sigveitilde[:2], np.array([0,0]),'r*')\n",
    "# ax1.set_aspect('auto')\n",
    "# ax1.set_title(r',$g=$'+str(grandom),fontsize=12)\n",
    "\n",
    "# ax2=fig.add_subplot(313)\n",
    "ax2.hist(sigvxtilde, 100, density=True, facecolor='g', alpha=0.75)\n",
    "ax2.plot(sigveitilde[:2], np.array([0,0]),'r*')\n",
    "ax2.set_aspect('auto')\n",
    "ax2.set_title(r',$g=$'+str(grandom),fontsize=12)\n",
    "ax2.set_xlabel(r'$\\sigma_{\\rho}$',fontsize=14)\n",
    "ax1.set_ylabel(r'$P(\\rho_i)$',fontsize=14)"
   ]
  },
  {
   "cell_type": "code",
   "execution_count": 80,
   "metadata": {},
   "outputs": [
    {
     "output_type": "stream",
     "name": "stdout",
     "text": [
      "sv2: [4.81194992 0.71073059]\n",
      "determined: [[0.74683349 0.        ]\n",
      " [0.         0.        ]]\n",
      "random: 0.6650110772920023\n",
      "random: 1.0\n",
      "compare the singular values from\n",
      "original: [6.88564361 6.40377966 6.34042435]\n",
      "svd: [3.88273602e+00 2.00382196e-15 1.66031086e-15]\n",
      "ei: [6.74688013e+00 3.53291755e-15 3.49687526e-15]\n"
     ]
    }
   ],
   "source": [
    "#  15112020 reconfinement\n",
    "JE,JI=2.9,1.5\n",
    "a,b=0.6,-0.9#0.3,0.2#\n",
    "# calculate the rotation matrix in rank-2 case (reduced), then extend to large \n",
    "# generate perturbed matrix\n",
    "J2=np.zeros((2,2))\n",
    "J2[:,0],J2[:,1]=JE,-JI\n",
    "J2[0,0],J2[1,0]=J2[0,0]+a,J2[1,0]-a\n",
    "J2[0,1],J2[1,1]=J2[0,1]+b,J2[1,1]-b\n",
    "lvec2,svr2,rvech2=la.svd(J2)\n",
    "M2 = np.array([[1,1],[1,-1]])\n",
    "ROT = np.sqrt(2)*la.inv(M2)@lvec2 # M@ROT.T/sqrt(2?)=u\n",
    "print('sv2:',svr2)\n",
    "\n",
    "'''\n",
    "Generate two expressions in large random matrix\n",
    "params:\n",
    "    nn = E/I neuron number\n",
    "    M/Nrank = low rank structure in EI format\n",
    "    U/V.    = low rank structyre in SVD format\n",
    "    M/Nranktilde = low rank EI format for large random matrix\n",
    "    U/Vtilde = low rank SVD format for large random matrix\n",
    "    sigvmat: diagonal singular values matrix\n",
    "    \n",
    "\n",
    "'''\n",
    "grandom=3.2\n",
    "theta = grandom\n",
    "Rc,R = 0,2\n",
    "for i in range(2):\n",
    "    if svr2[i]>grandom:\n",
    "        Rc+=1\n",
    "nn=600\n",
    "sigvmat,rhosigv = np.zeros((R,R)),np.zeros((R,R))\n",
    "for i in range(R):\n",
    "    sigvmat[i,i]=svr2[i]\n",
    "    rhosigv[i,i]=svr2[i]+(grandom**2)/svr2[i]\n",
    "invsigvmat = la.inv(sigvmat)\n",
    "# print('inverse singular value matrix:',invsigvmat)\n",
    "# print('square of the inverse singular value matrix:',la.matrix_power(invsigvmat,2)) \n",
    "\n",
    "zetau,zetav = np.random.randn(nn*2,R)/np.sqrt(2*nn),np.random.randn(nn*2,R)/np.sqrt(2*nn)\n",
    "nx,ny = np.random.randn(nn*2,R)/1,np.random.randn(nn*2,R)/nn\n",
    "zetau=nx.copy()\n",
    "zetav=ny.copy()\n",
    "zetaM,zetaN = np.random.randn(nn*2,R)/np.sqrt(2*nn),np.random.randn(nn*2,R)/np.sqrt(2*nn)\n",
    "# generate rank-2 matrix P without random entries\n",
    "P=np.zeros((nn*2,nn*2))\n",
    "P[:,:nn],P[:,nn:]=JE/nn,-JI/nn\n",
    "P[:nn,:nn],P[nn:,:nn]=P[:nn,:nn]+a/nn,P[nn:,:nn]-a/nn\n",
    "P[:nn,nn:],P[nn:,nn:]=P[:nn,nn:]+b/nn,P[nn:,nn:]-b/nn\n",
    "# use SVD to decompose the low rank matrix\n",
    "lvec,svr,rvech=la.svd(P)\n",
    "rvec=rvech.T \n",
    "# check the singular value\n",
    "# print(svr,svr2)\n",
    "if np.sum((svr[:2]-svr2[:])**2)>1e-8:  \n",
    "    print('Singular values for 2by2 matrix do not match those for NbyN matrix!')\n",
    "\n",
    "alphamat= np.eye(R)-(grandom**2)*la.matrix_power(invsigvmat,2)\n",
    "Asqrt=np.eye(R)#alphamat.copy()\n",
    "for i in range(R):\n",
    "    if alphamat[i,i]>0.0:\n",
    "        Asqrt[i,i]=np.sqrt(alphamat[i,i])\n",
    "    else:\n",
    "        Asqrt[i,i]=0.0\n",
    "print('determined:',Asqrt)\n",
    "randomterm=np.zeros((R,R))\n",
    "for i in range(R):\n",
    "    randomterm[i,i]=np.sqrt(1.0-Asqrt[i,i]**2)\n",
    "    print('random:',randomterm[i,i])\n",
    "# EI format\n",
    "withrand,wrank = 1.0,1\n",
    "M1,N1=np.ones(2*nn),np.ones(2*nn)\n",
    "N1[:nn],N1[nn:]=JE/nn,-JI/nn\n",
    "M2,N2=M1.copy(),N1.copy()\n",
    "M2[:nn],M2[nn:]=1,-1\n",
    "N2[:nn],N2[nn:]=a/nn,b/nn\n",
    "Mrank,Nrank=np.zeros((nn*2,R)),np.zeros((nn*2,R))\n",
    "NT = np.random.randn(nn*2,R)\n",
    "NT = NT.T \n",
    "if R>1:\n",
    "    Mrank[:,0],Mrank[:,1],Nrank[:,0],Nrank[:,1]=M1,M2,N1,N2\n",
    "else:\n",
    "    Mrank[:,0],Nrank[:,0]=M1,N1\n",
    "Mranktilde = wrank*Mrank@ROT@Asqrt+withrand*zetaM@randomterm*np.sqrt(2*nn)\n",
    "Nranktildeh = (sigvmat+(grandom**2)*invsigvmat)@(wrank*Asqrt@invsigvmat@ROT.T@Nrank.T+withrand*randomterm@zetaN.T/np.sqrt(2*nn))#+(sigvmat+invsigvmat)@invsigvmat@zetav.T\n",
    "Nranktilde=Nranktildeh.T \n",
    "\n",
    "U,V=np.zeros_like(Mrank),np.zeros_like(Nrank)\n",
    "U,V=lvec[:,:R],rvec[:,:R]\n",
    "Utilde,Vtilde = wrank*U@Asqrt+withrand*zetau@randomterm,wrank*V@Asqrt+withrand*zetav@randomterm\n",
    "\n",
    "# add random part in, Xtilde = X+P\n",
    "X = (grandom)*np.random.randn(2*nn,2*nn)/np.sqrt(2*nn)\n",
    "Xtilde=X+P\n",
    "if Rc>1:\n",
    "    Xtilde_svdrec = Utilde@(sigvmat+(grandom**2)*invsigvmat)@Vtilde.T#/grandom**2\n",
    "    Xtilde_eirec  = Mranktilde@Nranktildeh#Nranktildeh@Mranktilde#/grandom**2\n",
    "else:\n",
    "    Xtilde_svdrec = np.reshape(Utilde[:,0],(2*nn,1))*(sigvmat[0,0]+(grandom**2)*invsigvmat[0,0])@np.reshape(Vtilde[:,0],(1,nn*2))#@#/grandom**2\n",
    "    Xtilde_eirec  = np.reshape(Mranktilde[:,0],(2*nn,1))@np.reshape(Nranktilde[:,0],(1,2*nn))#np.reshape(Nranktildeh[0,:],(1,2*nn))@np.reshape(Mranktilde[:,0],(nn*2,1))#/grandom**2\n",
    "\n",
    "# test two expressions, using singular values\n",
    "_,sigvxtilde,_=la.svd(Xtilde)\n",
    "_,sigveitilde,_=la.svd(Xtilde_eirec)\n",
    "_,sigvsvdtilde,_=la.svd(Xtilde_svdrec)\n",
    "\n",
    "print('compare the singular values from')\n",
    "print('original:',sigvxtilde[:3])\n",
    "print('svd:',sigvsvdtilde[:3])\n",
    "print('ei:',sigveitilde[:3])#Xtilde_eirec)#\n",
    "\n",
    "\n"
   ]
  },
  {
   "source": [
    "** Large Random Matrix Has Two Outliers **"
   ],
   "cell_type": "markdown",
   "metadata": {}
  },
  {
   "cell_type": "code",
   "execution_count": 23,
   "metadata": {},
   "outputs": [
    {
     "output_type": "execute_result",
     "data": {
      "text/plain": [
       "<matplotlib.collections.PathCollection at 0x7fadb1ed9e20>"
      ]
     },
     "metadata": {},
     "execution_count": 23
    }
   ],
   "source": [
    "# SCATTER PLOT of Mtilde and Ntilde\n",
    "bimeanMtilde,bimeanNtilde=np.zeros((R,Rc)),np.zeros((R,Rc))\n",
    "# Mranktilde,Mrank,Nranktilde,Nrank=-Mranktilde/np.sqrt(2*nn),-Mrank/np.sqrt(2*nn),-Nranktilde*np.sqrt(2*nn),-Nrank*np.sqrt(2*nn)\n",
    "for i in range(Rc):\n",
    "    bimeanMtilde[0,i],bimeanNtilde[0,i]=np.mean(Mranktilde[:nn,i]),np.mean(Nranktilde[:nn,i])\n",
    "    bimeanMtilde[1,i],bimeanNtilde[1,i]=np.mean(Mranktilde[nn:,i]),np.mean(Nranktilde[nn:,i])\n",
    "RANKP=0\n",
    "fig=plt.figure(figsize=(6,6))\n",
    "ax1=fig.add_subplot(111)\n",
    "ax1.scatter(-Mranktilde[:,RANKP],-Nranktilde[:,RANKP],c='pink',alpha=0.5)\n",
    "ax1.set_aspect('equal')\n",
    "ax1.scatter(-Mrank[:,RANKP],-Nrank[:,RANKP],c='b',alpha=1.0)\n",
    "ax1.scatter(-bimeanMtilde[:,RANKP],-bimeanNtilde[:,RANKP],c='red',alpha=1.0)\n",
    "RANKP=1\n",
    "fig=plt.figure(figsize=(6,6))\n",
    "ax2=fig.add_subplot(111)\n",
    "ax2.scatter(-Mranktilde[:,RANKP],-Nranktilde[:,RANKP],c='pink',alpha=0.5)\n",
    "ax2.set_aspect('equal')\n",
    "ax2.scatter(-Mrank[:,RANKP],-Nrank[:,RANKP],c='b',alpha=1.0)\n",
    "ax2.scatter(-bimeanMtilde[:,RANKP],-bimeanNtilde[:,RANKP],c='red',alpha=1.0)\n",
    "\n",
    "nVtilde = Vtilde@(sigvmat+(grandom**2)*invsigvmat)\n",
    "nV = V@sigvmat\n",
    "bimeanUtilde,bimeanVtilde=np.zeros((R,R)),np.zeros((R,R))\n",
    "for i in range(Rc):\n",
    "    bimeanUtilde[0,i],bimeanVtilde[0,i]=np.mean(Utilde[:nn,i]),np.mean(nVtilde[:nn,i])\n",
    "    bimeanUtilde[1,i],bimeanVtilde[1,i]=np.mean(Utilde[nn:,i]),np.mean(nVtilde[nn:,i])\n",
    "RANKP=0\n",
    "# fig=plt.figure(figsize=(5,5))\n",
    "# ax1=fig.add_subplot(111)\n",
    "ax1.scatter(Utilde[:,RANKP],nVtilde[:,RANKP],c='yellow',alpha=0.5)\n",
    "ax1.set_aspect('equal')\n",
    "ax1.scatter(U[:,RANKP],nV[:,RANKP],c='green',alpha=1.0)\n",
    "ax1.scatter(bimeanUtilde[:,RANKP],bimeanVtilde[:,RANKP],c='red',alpha=0.8)\n",
    "\n",
    "ax1.scatter(-Mrank[:,RANKP],-Nrank[:,RANKP],c='b',alpha=1.0)\n",
    "ax1.scatter(-bimeanMtilde[:,RANKP],-bimeanNtilde[:,RANKP],c='red',alpha=1.0)\n",
    "\n",
    "RANKP=1\n",
    "# fig=plt.figure(figsize=(5,5))\n",
    "# ax1=fig.add_subplot(111)\n",
    "ax2.scatter(Utilde[:,RANKP],nVtilde[:,RANKP],c='yellow',alpha=0.5)\n",
    "ax2.set_aspect('equal')\n",
    "ax2.scatter(U[:,RANKP],nV[:,RANKP],c='green',alpha=1.0)\n",
    "ax2.scatter(bimeanUtilde[:,RANKP],bimeanVtilde[:,RANKP],c='red',alpha=0.8)\n",
    "\n",
    "ax2.scatter(-Mrank[:,RANKP],-Nrank[:,RANKP],c='b',alpha=1.0)\n",
    "ax2.scatter(-bimeanMtilde[:,RANKP],-bimeanNtilde[:,RANKP],c='red',alpha=1.0)\n"
   ]
  },
  {
   "cell_type": "code",
   "execution_count": 25,
   "metadata": {},
   "outputs": [
    {
     "output_type": "execute_result",
     "data": {
      "text/plain": [
       "Text(0.5, 1.0, '$J_E,\\\\ J_I=$2.9,1.5, $a, b=$0.6,-0.9\\n $\\\\sigma_2=$0.7,$\\\\rho_2=$1.1,$\\\\overline{\\\\sigma}=$0.5')"
      ]
     },
     "metadata": {},
     "execution_count": 25
    }
   ],
   "source": [
    "ax1.set_xlabel(r'$\\tilde{M}^{(1)}$',fontsize=14)\n",
    "ax1.set_ylabel(r'$\\tilde{N}^{(1)}$',fontsize=14)\n",
    "ax1.set_title(r'$J_E,\\ J_I=$'+str(JE)+','+str(JI)+', $a, b=$'+str(a)+','+str(b)+'\\n $\\sigma_1=$'+str(format(svr2[0],'.1f'))+r',$\\rho_1=$'+str(format(rhosigv[0,0],'.1f'))+',$\\overline{\\sigma}=$'+str(grandom),fontsize=16)\n",
    "\n",
    "ax2.set_xlabel(r'$\\tilde{M}^{(2)}$',fontsize=14)\n",
    "ax2.set_ylabel(r'$\\tilde{N}^{(2)}$',fontsize=14)\n",
    "ax2.set_title(r'$J_E,\\ J_I=$'+str(JE)+','+str(JI)+', $a, b=$'+str(a)+','+str(b)+'\\n $\\sigma_2=$'+str(format(svr2[1],'.1f'))+r',$\\rho_2=$'+str(format(rhosigv[1,1],'.1f'))+',$\\overline{\\sigma}=$'+str(grandom),fontsize=16)"
   ]
  },
  {
   "cell_type": "code",
   "execution_count": 5,
   "metadata": {},
   "outputs": [
    {
     "output_type": "execute_result",
     "data": {
      "text/plain": [
       "<matplotlib.collections.PathCollection at 0x7fada0e7e970>"
      ]
     },
     "metadata": {},
     "execution_count": 5
    }
   ],
   "source": [
    "# SCATTER PLOT of Mtilde and Ntilde\n",
    "bimeanMtilde,bimeanNtilde=np.zeros((R,Rc)),np.zeros((R,Rc))\n",
    "Mranktilde,Mrank,Nranktilde,Nrank=-Mranktilde/np.sqrt(2*nn),-Mrank/np.sqrt(2*nn),-Nranktilde*np.sqrt(2*nn),-Nrank*np.sqrt(2*nn)\n",
    "for i in range(Rc):\n",
    "    bimeanMtilde[0,i],bimeanNtilde[0,i]=np.mean(Mranktilde[:nn,i]),np.mean(Nranktilde[:nn,i])\n",
    "    bimeanMtilde[1,i],bimeanNtilde[1,i]=np.mean(Mranktilde[nn:,i]),np.mean(Nranktilde[nn:,i])\n",
    "RANKP=0\n",
    "fig=plt.figure(figsize=(6,6))\n",
    "ax1=fig.add_subplot(111)\n",
    "ax1.scatter(-Mranktilde[:,RANKP],-Nranktilde[:,RANKP],c='pink',alpha=0.5)\n",
    "ax1.set_aspect('auto')\n",
    "ax1.scatter(-Mrank[:,RANKP],-Nrank[:,RANKP],c='b',alpha=1.0)\n",
    "ax1.scatter(-bimeanMtilde[:,RANKP],-bimeanNtilde[:,RANKP],c='red',alpha=1.0)\n",
    "\n",
    "nVtilde = Vtilde@(sigvmat+(grandom**2)*invsigvmat)\n",
    "nV = V@sigvmat\n",
    "bimeanUtilde,bimeanVtilde=np.zeros((R,R)),np.zeros((R,R))\n",
    "for i in range(Rc):\n",
    "    bimeanUtilde[0,i],bimeanVtilde[0,i]=np.mean(Utilde[:nn,i]),np.mean(nVtilde[:nn,i])\n",
    "    bimeanUtilde[1,i],bimeanVtilde[1,i]=np.mean(Utilde[nn:,i]),np.mean(nVtilde[nn:,i])\n",
    "RANKP=0\n",
    "# fig=plt.figure(figsize=(5,5))\n",
    "# ax1=fig.add_subplot(111)\n",
    "ax1.scatter(Utilde[:,RANKP],nVtilde[:,RANKP],c='yellow',alpha=0.5)\n",
    "ax1.set_aspect('auto')\n",
    "ax1.scatter(U[:,RANKP],nV[:,RANKP],c='green',alpha=1.0)\n",
    "ax1.scatter(bimeanUtilde[:,RANKP],bimeanVtilde[:,RANKP],c='red',alpha=0.8)\n",
    "\n",
    "# ax1.scatter(-Mrank[:,RANKP],-Nrank[:,RANKP],c='b',alpha=1.0)\n",
    "# ax1.scatter(-bimeanMtilde[:,RANKP],-bimeanNtilde[:,RANKP],c='red',alpha=1.0)\n",
    "\n"
   ]
  },
  {
   "cell_type": "code",
   "execution_count": 355,
   "metadata": {},
   "outputs": [
    {
     "output_type": "stream",
     "name": "stdout",
     "text": [
      "U original: [[-0.0358899  -0.01945717]\n [-0.0358899  -0.01945717]] [[-0.01945717  0.0358899 ]\n [-0.01945717  0.0358899 ]]\nsqrt [-0.02183206         nan]\n"
     ]
    }
   ],
   "source": [
    "print('U original:',U[:2,:],U[nn:nn+2,:])\n",
    "print('sqrt',np.sqrt(1-1/svr[:2]**2)-1.0)"
   ]
  },
  {
   "cell_type": "code",
   "execution_count": 7,
   "metadata": {},
   "outputs": [
    {
     "output_type": "execute_result",
     "data": {
      "text/plain": [
       "Text(0.5, 1.0, '$J_E,\\\\ J_I=$2.9,1.5, $a, b=$0.6,-0.9')"
      ]
     },
     "metadata": {},
     "execution_count": 7
    }
   ],
   "source": [
    "ax1.scatter(-Mrank[:,1],-Nrank[:,1],c='cyan',alpha=0.5)\n",
    "ax1.set_xlabel(r'$\\tilde{M}^{(1)}$',fontsize=14)\n",
    "ax1.set_ylabel(r'$\\tilde{N}^{(1)}$',fontsize=14)\n",
    "ax1.set_title(r'$J_E,\\ J_I=$'+str(JE)+','+str(JI)+', $a, b=$'+str(a)+','+str(b),fontsize=16)"
   ]
  },
  {
   "source": [
    "## Figures: Gaussian Distribution"
   ],
   "cell_type": "markdown",
   "metadata": {}
  },
  {
   "cell_type": "code",
   "execution_count": 80,
   "metadata": {},
   "outputs": [
    {
     "output_type": "execute_result",
     "data": {
      "text/plain": [
       "<matplotlib.legend.Legend at 0x7f851314b730>"
      ]
     },
     "metadata": {},
     "execution_count": 80
    }
   ],
   "source": [
    "## Gaussian distributions for Utilde,U and Vtilde,V\n",
    "\n",
    "# numeerically obtain Utildenum, Vtildenum\n",
    "Utildenum,rho,Vtildenumh=la.svd(Xtilde)\n",
    "Utildenum = Utildenum[:,:R]\n",
    "Vtildenumh = Vtildenumh[:R,:]\n",
    "Vtildenum = Vtildenumh.T \n",
    "Udiffnum,Vdiffnum=Utildenum-U@Asqrt,Vtildenum-V@Asqrt\n",
    "Udiffnum[:,1]+=2*U[:,1]*Asqrt[1,1]\n",
    "Vdiffnum[:,1]+=2*V[:,1]*Asqrt[1,1]\n",
    "\n",
    "Nspace = 1000\n",
    "# left singular matrix\n",
    "maxstd = np.std(np.reshape(Udiffnum,(1,-1)))\n",
    "fig=plt.figure()\n",
    "ax1=fig.add_subplot(211)\n",
    "ax2=fig.add_subplot(212)\n",
    "n, bins, patches = ax1.hist(Udiffnum[:,0], 100, density=True, alpha=0.5)\n",
    "stdtest=np.std(Udiffnum[:,0])\n",
    "xxx=np.linspace(-3*stdtest,3*stdtest,Nspace)\n",
    "stdu=1.0/(svr[0]*np.sqrt(2*nn))\n",
    "disttest = np.exp(-(xxx/stdu)**2/2)/np.sqrt(2*np.pi*stdu**2)\n",
    "ax1.plot(xxx,disttest*nn*2/Nspace,label='theoretical '+r'$\\zeta$ in $\\tilde{u}^{(1)}$')\n",
    "ax1.set_xlim([-5*maxstd,5*maxstd])\n",
    "ax1.legend()\n",
    "n, bins, patches = ax2.hist(Udiffnum[:,1], 100, density=True, alpha=0.5)\n",
    "stdtest=np.std(Udiffnum[:,1])\n",
    "xxx=np.linspace(-3*stdtest,3*stdtest,Nspace)\n",
    "stdu=1.0/(svr[1]*np.sqrt(2*nn))\n",
    "disttest = np.exp(-(xxx/stdu)**2/2)/np.sqrt(2*np.pi*stdu**2)\n",
    "# disttest/=np.sum(disttest)\n",
    "ax2.plot(xxx,disttest*nn*2/Nspace,label='theoretical '+r'$\\zeta$ in $\\tilde{u}^{(2)}$')\n",
    "ax2.set_xlim([-5*maxstd,5*maxstd])\n",
    "ax2.set_xlabel('Entries')\n",
    "ax2.legend()\n",
    "\n",
    "# n, bins, patches = ax2.hist(residrvec[:,1], 100, density=True, alpha=0.5)\n",
    "# stdtest=np.std(residrvec[:,1])\n",
    "# xxx=np.linspace(-3*stdtest,3*stdtest,1000)\n",
    "# disttest = np.exp(-(xxx/stdtest)**2/2)/np.sqrt(2*np.pi*stdtest**2)\n",
    "# # disttest/=np.sum(disttest)\n",
    "# ax2.plot(xxx,disttest*nn*2/1000)\n"
   ]
  },
  {
   "cell_type": "code",
   "execution_count": 86,
   "metadata": {},
   "outputs": [
    {
     "output_type": "execute_result",
     "data": {
      "text/plain": [
       "<matplotlib.legend.Legend at 0x7f854218e160>"
      ]
     },
     "metadata": {},
     "execution_count": 86
    }
   ],
   "source": [
    "# numeerically obtain Mtildenum, Ntildenum\n",
    "Utildenum,rho,Vtildenumh=la.svd(Xtilde)\n",
    "Utildenum = Utildenum[:,:R]\n",
    "Vtildenumh = Vtildenumh[:R,:]\n",
    "Vtildenum = Vtildenumh.T \n",
    "Mtilde_t=Utildenum-np.random.randn(nn*2,R)@la.matrix_power(invsigvmat,3)/np.sqrt(2*nn)\n",
    "Mtildenum=Mtilde_t*np.sqrt(2*nn)@la.inv(Asqrt)\n",
    "Mdiffnum =Mtildenum-Mrank@ROT\n",
    "# Udiffnum[:,1]+=2*U[:,1]*Asqrt[1,1]\n",
    "# Vdiffnum[:,1]+=2*V[:,1]*Asqrt[1,1]\n",
    "\n",
    "Nspace = 1000\n",
    "# left singular matrix\n",
    "maxstd = np.std(np.reshape(Mdiffnum,(1,-1)))\n",
    "fig=plt.figure()\n",
    "ax1=fig.add_subplot(211)\n",
    "ax2=fig.add_subplot(212)\n",
    "n, bins, patches = ax1.hist(Mdiffnum[:,0], 100, density=True, alpha=0.5)\n",
    "stdtest=np.std(Mdiffnum[:,0])\n",
    "xxx=np.linspace(-3*stdtest,3*stdtest,Nspace)\n",
    "stdu=1.0/(svr[0]*1)\n",
    "disttest = np.exp(-(xxx/stdu)**2/2)/np.sqrt(2*np.pi*stdu**2)\n",
    "ax1.plot(xxx,disttest*nn*2/Nspace,label='theoretical '+r'$\\zeta$ in $\\tilde{u}^{(1)}$')\n",
    "ax1.set_xlim([-5*maxstd,5*maxstd])\n",
    "ax1.legend()\n",
    "n, bins, patches = ax2.hist(Mdiffnum[:,1], 100, density=True, alpha=0.5)\n",
    "stdtest=np.std(Mdiffnum[:,1])\n",
    "xxx=np.linspace(-3*stdtest,3*stdtest,Nspace)\n",
    "stdu=1.0/(svr[1])\n",
    "disttest = np.exp(-(xxx/stdu)**2/2)/np.sqrt(2*np.pi*stdu**2)\n",
    "# disttest/=np.sum(disttest)\n",
    "ax2.plot(xxx,disttest*nn*2/Nspace,label='theoretical '+r'$\\zeta$ in $\\tilde{u}^{(2)}$')\n",
    "ax2.set_xlim([-5*maxstd,5*maxstd])\n",
    "ax2.set_xlabel('Entries')\n",
    "ax2.legend()"
   ]
  },
  {
   "source": [
    "## Testing Two Representations"
   ],
   "cell_type": "markdown",
   "metadata": {}
  },
  {
   "cell_type": "code",
   "execution_count": 14,
   "metadata": {},
   "outputs": [],
   "source": [
    "#  15112020 reconfinement\n",
    "JE,JI=1.0,1.45\n",
    "a,b=0.40,0.50#0.3,0.2#\n",
    "nvalues,niterations=20,50\n",
    "aseries = np.linspace(0.0,1.0,nvalues)\n",
    "# calculate the rotation matrix in rank-2 case (reduced), then extend to large \n",
    "# generate perturbed matrix\n",
    "grandom=0.5\n",
    "Singularvalue=2*grandom*np.ones((3,2,nvalues,niterations))\n",
    "for iter in range(niterations):\n",
    "    for idxa, a in enumerate(aseries):\n",
    "        J2=np.zeros((2,2))\n",
    "        J2[:,0],J2[:,1]=JE,-JI\n",
    "        J2[0,0],J2[1,0]=J2[0,0]+a,J2[1,0]-a\n",
    "        J2[0,1],J2[1,1]=J2[0,1]+b,J2[1,1]-b\n",
    "        lvec2,svr2,rvech2=la.svd(J2)\n",
    "        M2 = np.array([[1,1],[1,-1]])\n",
    "        ROT = np.sqrt(2)*la.inv(M2)@lvec2 # M@ROT.T/sqrt(2?)=u\n",
    "        # print('Rotation:',ROT)\n",
    "\n",
    "        '''\n",
    "        Generate two expressions in large random matrix\n",
    "        params:\n",
    "            nn = E/I neuron number\n",
    "            M/Nrank = low rank structure in EI format\n",
    "            U/V.    = low rank structyre in SVD format\n",
    "            M/Nranktilde = low rank EI format for large random matrix\n",
    "            U/Vtilde = low rank SVD format for large random matrix\n",
    "            sigvmat: diagonal singular values matrix\n",
    "            \n",
    "\n",
    "        '''\n",
    "        theta = grandom\n",
    "        Rc,R = 0,2\n",
    "        for i in range(2):\n",
    "            if svr2[i]>grandom:\n",
    "                Rc+=1\n",
    "        nn=600\n",
    "        sigvmat,rhosigv = np.zeros((R,R)),np.zeros((R,R))\n",
    "        for i in range(R):\n",
    "            sigvmat[i,i]=svr2[i]\n",
    "            rhosigv[i,i]=svr2[i]+(grandom**2)/svr2[i]\n",
    "        invsigvmat = la.inv(sigvmat)\n",
    "        # print('inverse singular value matrix:',invsigvmat)\n",
    "        # print('square of the inverse singular value matrix:',la.matrix_power(invsigvmat,2)) \n",
    "\n",
    "        zetau,zetav = np.random.randn(nn*2,R)/np.sqrt(2*nn),np.random.randn(nn*2,R)/np.sqrt(2*nn)\n",
    "        zetaM,zetaN = np.random.randn(nn*2,R)/np.sqrt(2*nn),np.random.randn(nn*2,R)/np.sqrt(2*nn)\n",
    "        # generate rank-2 matrix P without random entries\n",
    "        P=np.zeros((nn*2,nn*2))\n",
    "        P[:,:nn],P[:,nn:]=JE/nn,-JI/nn\n",
    "        P[:nn,:nn],P[nn:,:nn]=P[:nn,:nn]+a/nn,P[nn:,:nn]-a/nn\n",
    "        P[:nn,nn:],P[nn:,nn:]=P[:nn,nn:]+b/nn,P[nn:,nn:]-b/nn\n",
    "        # use SVD to decompose the low rank matrix\n",
    "        lvec,svr,rvech=la.svd(P)\n",
    "        rvec=rvech.T \n",
    "        # check the singular value\n",
    "        # print(svr,svr2)\n",
    "        if np.sum((svr[:2]-svr2[:])**2)>1e-8:  \n",
    "            print('Singular values for 2by2 matrix do not match those for NbyN matrix!')\n",
    "\n",
    "        alphamat= np.eye(R)-(grandom**2)*la.matrix_power(invsigvmat,2)\n",
    "        Asqrt=np.eye(R)#alphamat.copy()\n",
    "        for i in range(R):\n",
    "            if alphamat[i,i]>0.0:\n",
    "                Asqrt[i,i]=np.sqrt(alphamat[i,i])\n",
    "            else:\n",
    "                Asqrt[i,i]=0.0\n",
    "        randomterm=np.zeros((R,R))\n",
    "        for i in range(R):\n",
    "            randomterm[i,i]=np.sqrt(1.0-Asqrt[i,i]**2)\n",
    "        # EI format\n",
    "        withrand,wrank = 1,1\n",
    "        M1,N1=np.ones(2*nn),np.ones(2*nn)\n",
    "        N1[:nn],N1[nn:]=JE/nn,-JI/nn\n",
    "        M2,N2=M1.copy(),N1.copy()\n",
    "        M2[:nn],M2[nn:]=1,-1\n",
    "        N2[:nn],N2[nn:]=a/nn,b/nn\n",
    "        Mrank,Nrank=np.zeros((nn*2,R)),np.zeros((nn*2,R))\n",
    "        NT = np.random.randn(nn*2,R)\n",
    "        NT = NT.T \n",
    "        if R>1:\n",
    "            Mrank[:,0],Mrank[:,1],Nrank[:,0],Nrank[:,1]=M1,M2,N1,N2\n",
    "        else:\n",
    "            Mrank[:,0],Nrank[:,0]=M1,N1\n",
    "        Mranktilde = wrank*Mrank@ROT@Asqrt+withrand*zetaM@randomterm*np.sqrt(2*nn)\n",
    "        Nranktildeh = (sigvmat+(grandom**2)*invsigvmat)@(wrank*Asqrt@invsigvmat@ROT.T@Nrank.T+withrand*randomterm@zetaN.T/np.sqrt(2*nn))#+(sigvmat+invsigvmat)@invsigvmat@zetav.T\n",
    "        Nranktilde=Nranktildeh.T \n",
    "\n",
    "        U,V=np.zeros_like(Mrank),np.zeros_like(Nrank)\n",
    "        U,V=lvec[:,:R],rvec[:,:R]\n",
    "        Utilde,Vtilde = wrank*U@Asqrt+withrand*zetau@randomterm,wrank*V@Asqrt+withrand*zetav@randomterm\n",
    "\n",
    "        # add random part in, Xtilde = X+P\n",
    "        X = (grandom)*np.random.randn(2*nn,2*nn)/np.sqrt(2*nn)\n",
    "        Xtilde=X+P\n",
    "        if Rc>1:\n",
    "            Xtilde_svdrec = Utilde@(sigvmat+(grandom**2)*invsigvmat)@Vtilde.T#/grandom**2\n",
    "            Xtilde_eirec  = Mranktilde@Nranktildeh#Nranktildeh@Mranktilde#/grandom**2\n",
    "        else:\n",
    "            Xtilde_svdrec = np.reshape(Utilde[:,0],(2*nn,1))*(sigvmat[0,0]+(grandom**2)*invsigvmat[0,0])@np.reshape(Vtilde[:,0],(1,nn*2))#@#/grandom**2\n",
    "            Xtilde_eirec  = np.reshape(Mranktilde[:,0],(2*nn,1))@np.reshape(Nranktilde[:,0],(1,2*nn))#np.reshape(Nranktildeh[0,:],(1,2*nn))@np.reshape(Mranktilde[:,0],(nn*2,1))#/grandom**2\n",
    "        \n",
    "        # test two expressions, using singular values\n",
    "        _,sigvxtilde,_=la.svd(Xtilde)\n",
    "        _,sigveitilde,_=la.svd(Xtilde_eirec)\n",
    "        _,sigvsvdtilde,_=la.svd(Xtilde_svdrec)\n",
    "\n",
    "        if Rc<2:\n",
    "            Singularvalue[:,0,idxa,iter]=np.array([sigvxtilde[0],sigveitilde[0],sigvsvdtilde[0]])\n",
    "        else:\n",
    "            Singularvalue[0,:,idxa,iter]=sigvxtilde[:Rc]\n",
    "            Singularvalue[1,:,idxa,iter]=sigveitilde[:Rc]\n",
    "            Singularvalue[2,:,idxa,iter]=sigvsvdtilde[:Rc]\n",
    "\n",
    "np.save('Singularvalue18Nov_1.npy', Singularvalue)  \n",
    "# print('compare the singular values from')\n",
    "# print('original:',sigvxtilde[:2])\n",
    "# print('svd:',sigvsvdtilde[:2])\n",
    "# print('ei:',sigveitilde[:2])\n",
    "\n",
    "\n"
   ]
  },
  {
   "cell_type": "code",
   "execution_count": 322,
   "metadata": {},
   "outputs": [
    {
     "output_type": "stream",
     "name": "stdout",
     "text": [
      "(3, 2, 20, 50)\n"
     ]
    }
   ],
   "source": [
    "data = np.load('Singularvalue17Nov.npy')\n",
    "Singularvalues = data\n",
    "print(np.shape(Singularvalues))\n",
    "ntype,nsigv,nseries,niterations=np.shape(Singularvalues)\n",
    "# calculate std\n",
    "meanstdseries = np.zeros((ntype,nsigv,nseries,2))\n",
    "for it in range(ntype):\n",
    "    for isv in range(nsigv):\n",
    "        for isr in range(nseries):\n",
    "            meanstdseries[it,isv,isr,0]=np.mean(np.squeeze(Singularvalues[it,isv,isr,:]))\n",
    "            meanstdseries[it,isv,isr,1]=np.std(np.squeeze(Singularvalues[it,isv,isr,:]))\n"
   ]
  },
  {
   "cell_type": "code",
   "execution_count": 15,
   "metadata": {},
   "outputs": [
    {
     "output_type": "execute_result",
     "data": {
      "text/plain": [
       "<matplotlib.collections.PolyCollection at 0x7fad50c71280>"
      ]
     },
     "metadata": {},
     "execution_count": 15
    }
   ],
   "source": [
    "Singularvalues=Singularvalue.copy()\n",
    "ntype,nsigv,nseries,niterations=np.shape(Singularvalues)\n",
    "# calculate std\n",
    "meanstdseries = np.zeros((ntype,nsigv,nseries,2))\n",
    "for it in range(ntype):\n",
    "    for isv in range(nsigv):\n",
    "        for isr in range(nseries):\n",
    "            meanstdseries[it,isv,isr,0]=np.mean(np.squeeze(Singularvalues[it,isv,isr,:]))\n",
    "            meanstdseries[it,isv,isr,1]=np.std(np.squeeze(Singularvalues[it,isv,isr,:]))\n",
    "aseries = np.linspace(0.0,1.0,nseries)\n",
    "fig=plt.figure()\n",
    "ax1=fig.add_subplot(111)\n",
    "# for iter in range\n",
    "ax1.plot(aseries,meanstdseries[0,0,:,0],'r',label=r'numerical $\\tilde{\\boldsymbol{X}}$')\n",
    "plt.fill_between(aseries, meanstdseries[0,0,:,0]-meanstdseries[0,0,:,1], meanstdseries[0,0,:,0]+meanstdseries[0,0,:,1],\n",
    "facecolor=\"orange\", # The fill color\n",
    "color='orange',       # The outline color\n",
    "alpha=0.1)          # Transparency of the fill\n",
    "ax1.plot(aseries,meanstdseries[1,0,:,0],'b',label=r'EI $\\boldsymbol{\\tilde{M},\\ \\tilde{N}}$')\n",
    "plt.fill_between(aseries, meanstdseries[1,0,:,0]-meanstdseries[1,0,:,1], meanstdseries[1,0,:,0]+meanstdseries[1,0,:,1],\n",
    "facecolor=\"orange\", # The fill color\n",
    "color='blue',       # The outline color\n",
    "alpha=0.1)          # Transparency of the fill\n",
    "ax1.plot(aseries,meanstdseries[2,0,:,0],'g',label=r'SVD $\\boldsymbol{\\tilde{U},\\ \\tilde{V}}$')\n",
    "plt.fill_between(aseries, meanstdseries[2,0,:,0]-meanstdseries[2,0,:,1], meanstdseries[2,0,:,0]+meanstdseries[2,0,:,1],\n",
    "facecolor=\"orange\", # The fill color\n",
    "color='green',       # The outline color\n",
    "alpha=0.1)          # Transparency of the fill\n",
    "\n",
    "ax1.plot(aseries,meanstdseries[0,1,:,0],'r--',label=r'numerical $\\tilde{\\boldsymbol{X}}$')\n",
    "plt.fill_between(aseries, meanstdseries[0,1,:,0]-meanstdseries[0,1,:,1], meanstdseries[0,1,:,0]+meanstdseries[0,1,:,1],\n",
    "facecolor=\"orange\", # The fill color\n",
    "color='orange',       # The outline color\n",
    "alpha=0.1)          # Transparency of the fill\n",
    "ax1.plot(aseries,meanstdseries[1,1,:,0],'b--',label=r'EI $\\boldsymbol{\\tilde{M},\\ \\tilde{N}}$')\n",
    "plt.fill_between(aseries, meanstdseries[1,1,:,0]-meanstdseries[1,1,:,1], meanstdseries[1,1,:,0]+meanstdseries[1,1,:,1],\n",
    "facecolor=\"orange\", # The fill color\n",
    "color='blue',       # The outline color\n",
    "alpha=0.1)          # Transparency of the fill\n",
    "ax1.plot(aseries,meanstdseries[2,1,:,0],'g--',label=r'SVD $\\boldsymbol{\\tilde{U},\\ \\tilde{V}}$')\n",
    "plt.fill_between(aseries, meanstdseries[2,1,:,0]-meanstdseries[2,1,:,1], meanstdseries[2,1,:,0]+meanstdseries[2,1,:,1],\n",
    "facecolor=\"orange\", # The fill color\n",
    "color='green',       # The outline color\n",
    "alpha=0.1)          # Transparency of the fill\n",
    "# ax1.plot(aseries,Singularvalue[1,0,:],'b',label=r'EI $\\boldsymbol{\\tilde{M},\\ \\tilde{N}}$')\n",
    "# ax1.plot(aseries,Singularvalue[2,0,:],'g',label=r'SVD $\\boldsymbol{\\tilde{U},\\ \\tilde{V}}$')\n",
    "\n",
    "# ax1.plot(aseries,Singularvalue[0,1,:],'r--',label=r'numerical $\\tilde{\\boldsymbol{X}}$')\n",
    "# ax1.plot(aseries,Singularvalue[1,1,:],'b--',label=r'EI $\\boldsymbol{\\tilde{M},\\ \\tilde{N}}$')\n",
    "# ax1.plot(aseries,Singularvalue[2,1,:],'g--',label=r'SVD $\\boldsymbol{\\tilde{U},\\ \\tilde{V}}$')"
   ]
  },
  {
   "cell_type": "code",
   "execution_count": 16,
   "metadata": {},
   "outputs": [
    {
     "output_type": "execute_result",
     "data": {
      "text/plain": [
       "Text(0.5, 1.0, '$J_E,\\\\ J_I=$1.0,1.45, $b=$0.5\\n $\\\\overline{\\\\sigma}=$0.5')"
      ]
     },
     "metadata": {},
     "execution_count": 16
    }
   ],
   "source": [
    "ax1.set_xlabel(r'$a$',fontsize=14)\n",
    "ax1.set_ylabel(r'$\\rho_{i}$',fontsize=14)\n",
    "ax1.set_title(r'$J_E,\\ J_I=$'+str(JE)+','+str(JI)+', $b=$'+str(b)+'\\n $\\overline{\\sigma}=$'+str(grandom),fontsize=16)\n",
    "\n"
   ]
  },
  {
   "cell_type": "code",
   "execution_count": 119,
   "metadata": {},
   "outputs": [
    {
     "output_type": "execute_result",
     "data": {
      "text/plain": [
       "[<matplotlib.lines.Line2D at 0x7f852689e130>]"
      ]
     },
     "metadata": {},
     "execution_count": 119
    }
   ],
   "source": [
    "# np.save('Singularvalue16Nov.npy', Singularvalue)  \n",
    "fig=plt.figure()\n",
    "ax1=fig.add_subplot(111)\n",
    "# plt.fill_between(x, y1, y2,\n",
    "# facecolor=\"orange\", # The fill color\n",
    "# color='blue',       # The outline color\n",
    "# alpha=0.2)          # Transparency of the fill\n",
    "for iter in range\n",
    "ax1.plot(aseries,Singularvalue[0,0,:],'r',label=r'numerical $\\tilde{\\boldsymbol{X}}$')\n",
    "ax1.plot(aseries,Singularvalue[1,0,:],'b',label=r'EI $\\boldsymbol{\\tilde{M},\\ \\tilde{N}}$')\n",
    "ax1.plot(aseries,Singularvalue[2,0,:],'g',label=r'SVD $\\boldsymbol{\\tilde{U},\\ \\tilde{V}}$')\n",
    "\n",
    "ax1.plot(aseries,Singularvalue[0,1,:],'r--',label=r'numerical $\\tilde{\\boldsymbol{X}}$')\n",
    "ax1.plot(aseries,Singularvalue[1,1,:],'b--',label=r'EI $\\boldsymbol{\\tilde{M},\\ \\tilde{N}}$')\n",
    "ax1.plot(aseries,Singularvalue[2,1,:],'g--',label=r'SVD $\\boldsymbol{\\tilde{U},\\ \\tilde{V}}$')\n"
   ]
  },
  {
   "cell_type": "code",
   "execution_count": 49,
   "metadata": {},
   "outputs": [
    {
     "output_type": "stream",
     "name": "stdout",
     "text": [
      "compare MRT and U: [[-0.02693818 -0.03067574]\n [-0.02693818 -0.03067574]] [[-0.02693818 -0.03067574]\n [-0.02693818 -0.03067574]]\ncompare MRT and U: [[-0.03067574  0.02693818]\n [-0.03067574  0.02693818]] [[-0.03067574  0.02693818]\n [-0.03067574  0.02693818]]\n"
     ]
    }
   ],
   "source": [
    "MRT = Mrank@ROT.T/np.sqrt(2*nn)\n",
    "print('compare MRT and U:',U[:+2,:],MRT[:+2,:]) \n",
    "print('compare MRT and U:',U[nn:nn+2,:],MRT[nn:nn+2,:]) \n"
   ]
  },
  {
   "cell_type": "code",
   "execution_count": 50,
   "metadata": {},
   "outputs": [
    {
     "output_type": "stream",
     "name": "stdout",
     "text": [
      "compare MRT and U: [[-0.03536305 -0.02039906]\n [-0.03536305 -0.02039906]] [[-0.03536305 -0.02039906]\n [-0.03536305 -0.02039906]]\ncompare MRT and U: [[ 0.02039906 -0.03536305]\n [ 0.02039906 -0.03536305]] [[ 0.02039906 -0.03536305]\n [ 0.02039906 -0.03536305]]\n"
     ]
    }
   ],
   "source": [
    "NRTINV = Nrank@ROT.T@invsigvmat*np.sqrt(2*nn)\n",
    "print('compare MRT and U:',V[:+2,:],NRTINV[:+2,:]) \n",
    "print('compare MRT and U:',V[nn:nn+2,:],NRTINV[nn:nn+2,:]) "
   ]
  },
  {
   "cell_type": "code",
   "execution_count": 57,
   "metadata": {},
   "outputs": [
    {
     "output_type": "stream",
     "name": "stdout",
     "text": [
      "compare MRT and U: [[-0.03397748 -0.03438452]\n [-0.02605377 -0.02787703]] [[-0.03397748 -0.03438452]\n [-0.02605377 -0.02787703]]\ncompare MRT and U: [[-0.03207857  0.03029732]\n [-0.04216421  0.00877207]] [[-0.03207857  0.03029732]\n [-0.04216421  0.00877207]]\n"
     ]
    }
   ],
   "source": [
    "print('compare MRT and U:',Utilde[:+2,:],Mranktilde[:+2,:]) \n",
    "print('compare MRT and U:',Utilde[nn:nn+2,:],Mranktilde[nn:nn+2,:]) "
   ]
  },
  {
   "cell_type": "code",
   "execution_count": 58,
   "metadata": {},
   "outputs": [
    {
     "output_type": "stream",
     "name": "stdout",
     "text": [
      "compare MRT and U: [[-0.02189407 -0.01804848]\n [-0.04999292 -0.01212403]] [[ 0.01241503 -0.00075827]\n [-0.01568382  0.00516618]]\ncompare MRT and U: [[ 0.00946424 -0.07184279]\n [ 0.01846816 -0.02033009]] [[-0.01032685 -0.04186912]\n [-0.00132293  0.00964357]]\n"
     ]
    }
   ],
   "source": [
    "print('compare MRT and U:',Vtilde[:+2,:],Nranktilde[:+2,:]) \n",
    "print('compare MRT and U:',Vtilde[nn:nn+2,:],Nranktilde[nn:nn+2,:]) "
   ]
  },
  {
   "cell_type": "code",
   "execution_count": null,
   "metadata": {},
   "outputs": [],
   "source": []
  }
 ]
}