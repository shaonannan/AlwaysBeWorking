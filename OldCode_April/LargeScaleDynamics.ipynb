{
 "metadata": {
  "language_info": {
   "codemirror_mode": {
    "name": "ipython",
    "version": 3
   },
   "file_extension": ".py",
   "mimetype": "text/x-python",
   "name": "python",
   "nbconvert_exporter": "python",
   "pygments_lexer": "ipython3",
   "version": 3
  },
  "orig_nbformat": 2
 },
 "nbformat": 4,
 "nbformat_minor": 2,
 "cells": [
  {
   "source": [
    "## Using Random Matrix Statistics to Explore the Dynamics\n",
    "* Generate an N-by-N matrix with rank-2 structure embedded in. \n",
    "* Represent the network using EI vectors  "
   ],
   "cell_type": "markdown",
   "metadata": {}
  }
 ]
}