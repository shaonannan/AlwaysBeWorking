{
 "metadata": {
  "language_info": {
   "codemirror_mode": {
    "name": "ipython",
    "version": 3
   },
   "file_extension": ".py",
   "mimetype": "text/x-python",
   "name": "python",
   "nbconvert_exporter": "python",
   "pygments_lexer": "ipython3",
   "version": "3.8.3-final"
  },
  "orig_nbformat": 2,
  "kernelspec": {
   "name": "python3",
   "display_name": "Python 3",
   "language": "python"
  }
 },
 "nbformat": 4,
 "nbformat_minor": 2,
 "cells": [
  {
   "cell_type": "code",
   "execution_count": 1009,
   "metadata": {},
   "outputs": [
    {
     "output_type": "stream",
     "name": "stdout",
     "text": [
      "2.0 1.5 1.6666666666666665 1.0\n"
     ]
    }
   ],
   "source": []
  },
  {
   "source": [
    "## 17/12/2020 Update\n",
    "# Linking and Comparing Local Connect Stats with Low-rank Recurrent Network\n",
    "* From Local Connect Stats cite[Sharpee]\n",
    "* From Low-rank structure to EI "
   ],
   "cell_type": "markdown",
   "metadata": {}
  },
  {
   "cell_type": "code",
   "execution_count": 1,
   "metadata": {},
   "outputs": [],
   "source": [
    "from __future__ import print_function\n",
    "from ipywidgets import interact, interactive, fixed, interact_manual\n",
    "import ipywidgets as widgets\n",
    "import numpy as np\n",
    "import matplotlib.pylab as plt\n",
    "import matplotlib\n",
    "%matplotlib qt\n",
    "from numpy import linalg as la\n",
    "from scipy.optimize import fsolve\n",
    "from scipy import linalg as scpla\n",
    "import seaborn as sb\n",
    "from mpl_toolkits.axes_grid1 import make_axes_locatable\n",
    "from cmath import *\n",
    "from mpl_toolkits.mplot3d import Axes3D\n",
    "from scipy.optimize import fsolve,leastsq \n",
    "from math import tanh,cosh\n",
    "import math\n",
    "from sympy import *\n",
    "extras_require = {'PLOT':['matplotlib>=1.1.1,<3.0']},"
   ]
  },
  {
   "source": [
    "## Check the results in Sharpee's paper\n",
    "* local stats, EE,EI,IE,II occupy their own properties, independently\n",
    "* no pair correlation\n"
   ],
   "cell_type": "markdown",
   "metadata": {}
  },
  {
   "cell_type": "code",
   "execution_count": 178,
   "metadata": {},
   "outputs": [],
   "source": [
    "Nt=np.array([2000,1000])\n",
    "NE,NI=Nt[0],Nt[1]\n",
    "at = Nt/N\n",
    "N=np.sum(Nt)\n",
    "aee,aei,aie,aii=4.5,-6.0,5.0,-2.5\n",
    "JEEsub,JEIsub,JIEsub,JIIsub=aee*np.ones((NE,NE))/NE,aei*np.ones((NE,NI))/NI,aie*np.ones((NI,NE))/NE,aii*np.ones((NI,NI))/NI\n",
    "J = np.zeros((NE+NI,NE+NI))\n",
    "\n",
    "# determine gcd\n",
    "Gmat=np.zeros((2,2))\n",
    "Gmatorg=np.array([[0.8,1.2],[0.9,0.2]])\n",
    "# Gmat/=np.sqrt(N)\n",
    "for i in range(2):\n",
    "    for j in range(2):\n",
    "        Gmat[i,j]=Gmatorg[i,j]/np.sqrt(N)\n",
    "# EE\n",
    "gij=Gmat[0,0]*np.random.randn(NE,NE)\n",
    "J[:NE,:NE]=gij.copy()\n",
    "# EI\n",
    "gij=Gmat[0,1]*np.random.randn(NE,NI)\n",
    "J[:NE,NE:]=gij.copy()\n",
    "# IE\n",
    "gij=Gmat[1,0]*np.random.randn(NI,NE)\n",
    "J[NE:,:NE]=gij.copy()\n",
    "# II\n",
    "gij=Gmat[1,1]*np.random.randn(NI,NI)\n",
    "J[NE:,NE:]=gij.copy()\n",
    "\n",
    "P = np.zeros((N,N))\n",
    "P[:NE,:NE],P[:NE,NE:],P[NE:,:NE],P[NE:,NE:]=JEEsub.copy(),JEIsub.copy(),JIEsub.copy(),JIIsub.copy()\n",
    "X = P.copy()+J.copy()"
   ]
  },
  {
   "cell_type": "code",
   "execution_count": 113,
   "metadata": {},
   "outputs": [
    {
     "output_type": "stream",
     "name": "stdout",
     "text": [
      "averaging g noise: 0.8558621384311844\n"
     ]
    }
   ],
   "source": [
    "gavg=np.sqrt(np.sum(np.sum(Gmat**2)))/2.0\n",
    "print('averaging g noise:',gavg*np.sqrt(N))"
   ]
  },
  {
   "cell_type": "code",
   "execution_count": 105,
   "metadata": {},
   "outputs": [
    {
     "output_type": "stream",
     "name": "stdout",
     "text": [
      "eigenvalue: [1.+4.21307489j 1.-4.21307489j] singular value: [9.12570385 2.05463604] eigG 0.8546614831429354\n"
     ]
    }
   ],
   "source": [
    "aee,aei,aie,aii=4.5,-6.0,5.0,-2.5\n",
    "Asmall=np.array([[aee,aei],[aie,aii]])\n",
    "eigva,_=la.eig(Asmall)\n",
    "_,sigva,_=la.svd(Asmall)\n",
    "print('eigenvalue:',eigva,'singular value:',sigva,'eigG',np.sqrt(eigG[0]))"
   ]
  },
  {
   "cell_type": "code",
   "execution_count": 179,
   "metadata": {},
   "outputs": [],
   "source": [
    "# all about calculate eigenvalues\n",
    "eigvrand,eigvecrand=la.eig(J)\n",
    "eigstruct,eigvecstruct=la.eig(P)\n",
    "# summation\n",
    "X = P.copy()+J.copy()\n",
    "eigvx,eigvecx=la.eig(X)\n",
    "# theoretical\n",
    "M = np.zeros((2,2))\n",
    "for i in range(2):\n",
    "    for j in range(2):\n",
    "        M[i,j]=(Gmat[i,j]*np.sqrt(N))**2*(Nt[j]/N)\n",
    "eigG,eigvecG=la.eig(M)\n",
    "# low rank small\n",
    "Asmall=np.array([[aee,aei],[aie,aii]])\n",
    "eigva,_=la.eig(Asmall)\n"
   ]
  },
  {
   "cell_type": "code",
   "execution_count": 180,
   "metadata": {},
   "outputs": [],
   "source": [
    "ticks = np.linspace(-2.0,2.0,3)\n",
    "lims= [-2.1,2.1]\n",
    "\n",
    "fig,ax=plt.subplots(figsize=(6,6))\n",
    "ax.plot(np.sqrt(eigG[0])*np.ones(100),np.linspace(-1.0,1.0,100))\n",
    "ax.scatter(np.real(eigvrand),np.imag(eigvrand),s=5.0,c='blue',alpha=0.5)\n",
    "ax.scatter(np.real(eigstruct[:4]),np.zeros(4),s=15.0,c='red',alpha=0.5)\n",
    "# ax.set_xlim(lims)\n",
    "# ax.set_ylim(lims)\n",
    "# ax.set_xticks(ticks)\n",
    "# ax.set_yticks(ticks)\n",
    "ax.set_aspect('equal')\n",
    "ax.grid()"
   ]
  },
  {
   "source": [
    "## relate this to low rank (here rank-2)"
   ],
   "cell_type": "markdown",
   "metadata": {}
  },
  {
   "cell_type": "code",
   "execution_count": 109,
   "metadata": {},
   "outputs": [],
   "source": [
    "lvecX,svX,rvecXh=la.svd(X)\n",
    "rvecX=rvecXh.T\n",
    "m=lvecX[:,:2].copy()\n",
    "n=rvecX[:,:2].copy()\n",
    "n[:,0]*=svX[0]\n",
    "n[:,1]*=svX[1]\n",
    "\n",
    "# n[:,1]=rvecX[:,2]*svX[2]\n",
    "# m[:,1]=lvecX[:,2]"
   ]
  },
  {
   "cell_type": "code",
   "execution_count": 111,
   "metadata": {},
   "outputs": [],
   "source": [
    "morg,norg=m,n\n",
    "fig,ax=plt.subplots(4,4,figsize=(9,9))\n",
    "for i in range(2):\n",
    "    for j in range(2):\n",
    "        ax[i][j].scatter(morg[:NE,i],morg[:NE,j],s=5.0,c='red',alpha=0.05)\n",
    "        ax[i][j].scatter(morg[NE:,i],morg[NE:,j],s=5.0,c='blue',alpha=0.05)\n",
    "for i in range(2):\n",
    "    for j in range(2):\n",
    "        ax[2+i][2+j].scatter(norg[:NE,i],norg[:NE,j],s=5.0,c='red',alpha=0.05)\n",
    "        ax[2+i][2+j].scatter(norg[NE:,i],norg[NE:,j],s=5.0,c='blue',alpha=0.05)\n",
    "        \n",
    "for i in range(2):\n",
    "    for j in range(2):\n",
    "        ax[i][2+j].scatter(morg[:NE,i],norg[:NE,j],s=5.0,c='red',alpha=0.05)\n",
    "        ax[i][2+j].scatter(morg[NE:,i],norg[NE:,j],s=5.0,c='blue',alpha=0.05)\n",
    "for i in range(2):\n",
    "    for j in range(2):\n",
    "        ax[2+i][j].scatter(norg[:NE,i],morg[:NE,j],s=5.0,c='red',alpha=0.05)\n",
    "        ax[2+i][j].scatter(norg[NE:,i],morg[NE:,j],s=5.0,c='blue',alpha=0.05)\n",
    "for i in range(4):\n",
    "    for j in range(4):\n",
    "        # ax[i][j].set_xlim(lims)\n",
    "        # ax[i][j].set_ylim(lims)\n",
    "        # ax[i][j].set_xticks(ticks)\n",
    "        # ax[i][j].set_yticks(ticks)\n",
    "        ax[i][j].set_aspect('equal')\n",
    "        ax[i][j].grid()"
   ]
  },
  {
   "cell_type": "code",
   "execution_count": 117,
   "metadata": {},
   "outputs": [
    {
     "output_type": "stream",
     "name": "stdout",
     "text": [
      "eigenvalue: [1.+4.21307489j 1.-4.21307489j] [1.+4.21307489j 1.-4.21307489j]\nsingular value: [9.12570385 2.05463604] [9.12570385 2.05463604]\n"
     ]
    }
   ],
   "source": [
    "# test Dale's law\n",
    "Nt=np.array([300,100])\n",
    "NE,NI=Nt[0],Nt[1]\n",
    "N=np.sum(Nt)\n",
    "aee,aei,aie,aii=4.5,-6.0,5.0,-2.5\n",
    "JEEsub,JEIsub,JIEsub,JIIsub=aee*np.ones((NE,NE))/NE,aei*np.ones((NE,NI))/np.sqrt(NE*NI),aie*np.ones((NI,NE))/np.sqrt(NE*NI),aii*np.ones((NI,NI))/NI\n",
    "P = np.zeros((N,N))\n",
    "P[:NE,:NE],P[:NE,NE:],P[NE:,:NE],P[NE:,NE:]=JEEsub.copy(),JEIsub.copy(),JIEsub.copy(),JIIsub.copy()\n",
    "eigvP,_=la.eig(P)\n",
    "_,sigvp,_=la.svd(P)\n",
    "Asmall=np.array([[aee,aei],[aie,aii]])\n",
    "eigva,_=la.eig(Asmall)\n",
    "_,sigva,_=la.svd(Asmall)\n",
    "\n",
    "print('eigenvalue:',eigvP[:2],eigva[:2])\n",
    "print('singular value:',sigvp[:2],sigva[:2])"
   ]
  },
  {
   "cell_type": "code",
   "execution_count": 184,
   "metadata": {},
   "outputs": [
    {
     "output_type": "stream",
     "name": "stdout",
     "text": [
      "average eigv: 0.858253007850327\n"
     ]
    }
   ],
   "source": [
    "# test Dale's law\n",
    "Nt=np.array([100,1000])\n",
    "NE,NI=Nt[0],Nt[1]\n",
    "N=np.sum(Nt)\n",
    "at=Nt/N\n",
    "# determine gcd\n",
    "Gmat=np.zeros((2,2))\n",
    "Gmatorg=np.array([[0.8,1.2],[0.9,0.2]])\n",
    "# Gmat/=np.sqrt(N)\n",
    "for i in range(2):\n",
    "    for j in range(2):\n",
    "        Gmat[i,j]=Gmatorg[i,j]/np.sqrt(N)\n",
    "# EE\n",
    "J=np.zeros((N,N))\n",
    "\n",
    "gij=np.zeros((NE,NE))\n",
    "gij=Gmat[0,0]*np.random.randn(NE,NE)\n",
    "J[:NE,:NE]=gij.copy()\n",
    "# EI\n",
    "gij=np.zeros((NE,NI))\n",
    "gij=Gmat[0,1]*np.random.randn(NE,NI)\n",
    "J[:NE,NE:]=gij.copy()\n",
    "# IE\n",
    "gij=np.zeros((NI,NE))\n",
    "gij=Gmat[1,0]*np.random.randn(NI,NE)\n",
    "J[NE:,:NE]=gij.copy()\n",
    "# II\n",
    "gij=np.zeros((NI,NI))\n",
    "gij=Gmat[1,1]*np.random.randn(NI,NI)\n",
    "J[NE:,NE:]=gij.copy()\n",
    "\n",
    "gavg=0\n",
    "for i in range(2):\n",
    "    for j in range(2):\n",
    "        gavg+=np.sqrt(Gmatorg[i,j]**2*at[i]*at[j])\n",
    "M = np.zeros((2,2))\n",
    "for i in range(2):\n",
    "    for j in range(2):\n",
    "        M[i,j]=(Gmatorg[i,j]**2)*at[j]\n",
    "\n",
    "eigvj,_=la.eig(J)\n",
    "eigvM,_=la.eig(M)\n",
    "ticks = np.linspace(-2.0,2.0,3)\n",
    "lims= [-2.1,2.1]\n",
    "\n",
    "fig,ax=plt.subplots(figsize=(6,6))\n",
    "ax.plot(np.sqrt(eigvM[0])*np.ones(100),np.linspace(-1.0,1.0,100))\n",
    "ax.scatter(np.real(eigvj),np.imag(eigvj),s=5.0,c='blue',alpha=0.5)\n",
    "print('average eigv:',gavg)\n"
   ]
  },
  {
   "cell_type": "code",
   "execution_count": 227,
   "metadata": {},
   "outputs": [
    {
     "output_type": "stream",
     "name": "stdout",
     "text": [
      "0.6\n"
     ]
    }
   ],
   "source": [
    "# testing distribution of J_{ij}\n",
    "NE,NI=750,250\n",
    "sigm,sign=0.5,1.2\n",
    "mE,nE=sigm*np.random.randn(NE,1)/np.sqrt(NE),sign*np.random.randn(NE,1)/np.sqrt(NE)\n",
    "JEE = mE@nE.T \n",
    "eigv,eigvec=la.eig(JEE)\n",
    "fig,ax=plt.subplots(figsize=(6,6))\n",
    "ax.scatter(np.real(eigvj),np.imag(eigvj),s=5.0,c='blue',alpha=0.5)\n",
    "\n",
    "JEEoff=JEE.copy()\n",
    "JEEdiag=np.zeros(NE)\n",
    "for i in range(NE):\n",
    "    JEEoff[i,i:NE-1]=JEEoff[i,i+1:]\n",
    "    JEEdiag[i]=JEE[i,i]\n",
    "fig,ax=plt.subplots(2,1,figsize=(6,6))\n",
    "Joff=JEEoff[:,:NE-1]\n",
    "Joff=np.reshape(Joff,(NE**2-NE,1))\n",
    "n, bins, patches = ax[0].hist(Joff, 100, density=True, alpha=0.5)\n",
    "n, bins, patches = ax[1].hist(JEEdiag, 100, density=True, alpha=0.5)\n",
    "print(sigm*sign)\n",
    "\n"
   ]
  },
  {
   "source": [
    "## What's the distribution of $J_{i,j}$ in $\\tilde{\\mathbf{X}}=\\mathbf{X}+\\mathbf{p}$"
   ],
   "cell_type": "markdown",
   "metadata": {}
  },
  {
   "cell_type": "code",
   "execution_count": 229,
   "metadata": {},
   "outputs": [],
   "source": [
    "# testing distribution of J_{ij} in \\tilde{X}\n",
    "NE,NI=2000,250\n",
    "sigm,sign,grandom=0.6,1.0,0.5\n",
    "rho=0.0\n",
    "zetax,zetay=np.random.randn(NE,1),np.random.randn(NE,1)\n",
    "m = sigm*zetax/np.sqrt(NE)\n",
    "n =sign*(rho*zetax+np.sqrt(1-rho**2)*zetay)/np.sqrt(NE)\n",
    "P = m@n.T \n",
    "X = (grandom)*np.random.randn(NE,NE)/np.sqrt(NE)\n",
    "\n",
    "Xtilde=X+P\n",
    "\n",
    "eigv,eigvec=la.eig(Xtilde)\n",
    "fig,ax=plt.subplots(figsize=(6,6))\n",
    "ax.scatter(np.real(eigv),np.imag(eigv),s=5.0,c='blue',alpha=0.5)\n",
    "\n",
    "JEEoff=Xtilde.copy()\n",
    "JEEdiag=np.zeros(NE)\n",
    "for i in range(NE):\n",
    "    JEEoff[i,i:NE-1]=JEEoff[i,i+1:]\n",
    "    JEEdiag[i]=Xtilde[i,i]\n",
    "fig,ax=plt.subplots(2,1,figsize=(6,6))\n",
    "Joff=JEEoff[:,:NE-1]\n",
    "Joff=np.reshape(Joff,(NE**2-NE,1))\n",
    "n, bins, patches = ax[0].hist(Joff, 100, density=True, alpha=0.5)\n",
    "n, bins, patches = ax[1].hist(JEEdiag, 100, density=True, alpha=0.5)"
   ]
  },
  {
   "source": [
    "## Generate Random Block Matrix, embedding low rank structur $\\tilde{\\mathbf{X}}_{\\mathrm{type}}=\\mathbf{X}_{\\mathrm{type}}+\\mathbf{P}_{\\mathrm{type}}$"
   ],
   "cell_type": "markdown",
   "metadata": {}
  },
  {
   "cell_type": "code",
   "execution_count": 238,
   "metadata": {},
   "outputs": [],
   "source": [
    "phiacttt=np.zeros((N,1))\n",
    "phiacttt[:NE,0],phiacttt[NE:,0]=(rhoE*zetaxE+np.sqrt(1-rhoE**2)*zetayE)/np.sqrt(N),(rhoI*zetaxI+np.sqrt(1-rhoI**2)*zetayI)/np.sqrt(N)\n",
    "eitatt=Xtilde@phiacttt\n",
    "eitarand=X@phiacttt\n",
    "coveitatt=eitatt@eitatt.T \n",
    "coveitarand=eitarand@eitarand.T \n",
    "deltaEt,deltaEr=coveitatt[:NE,:NE],coveitarand[:NE,:NE]\n",
    "deltaIt,deltaIr=coveitatt[NE:,NE:],coveitarand[NE:,NE:]\n",
    "print('std, Et:',np.std(deltaEt),'; random:',np.std(deltaEr))\n",
    "print('std, It:',np.std(deltaIt),'; random:',np.std(deltaIr))"
   ]
  },
  {
   "cell_type": "code",
   "execution_count": 411,
   "metadata": {},
   "outputs": [
    {
     "output_type": "stream",
     "name": "stdout",
     "text": [
      "1.7677669529663689\n"
     ]
    },
    {
     "output_type": "execute_result",
     "data": {
      "text/plain": [
       "<matplotlib.collections.PathCollection at 0x7fb1f7f7f7f0>"
      ]
     },
     "metadata": {},
     "execution_count": 411
    }
   ],
   "source": [
    "eigvx,_=la.eig(X)\n",
    "eigvxt,_=la.eig(Xtilde)\n",
    "fig,ax=plt.subplots(2,2,figsize=(9,9))\n",
    "ax[0][0].scatter(np.real(eigvx),np.imag(eigvx),s=2.0,c='red',alpha=0.5)\n",
    "ax[0][0].set_aspect('equal')\n",
    "print(np.sqrt(xee**2*NE/N))\n",
    "ax[1][0].scatter(np.real(eigvxt),np.imag(eigvxt),s=2.0,c='red',alpha=0.5)\n",
    "ax[1][0].set_aspect('equal')\n",
    "# HISTOGRAM\n",
    "n, bins, patches = ax[0][1].hist(np.real(eigvx), 20, density=True, alpha=0.5)\n",
    "ax[0][1].set_xlim([-4.0,4.0])\n",
    "n, bins, patches = ax[1][1].hist(np.real(eigvxt), 20, density=True, alpha=0.5)\n",
    "ax[0][1].set_xlim([-4.0,4.0])\n",
    "# SUBTYPE\n",
    "XEI,XTEI=X[:NE,NE:],Xtilde[:NE,NE:]\n",
    "eigvEI,eigvec=la.eig(XEI)\n",
    "eigvTEI,eigvec=la.eig(XTEI)\n",
    "fig,ax=plt.subplots(1,2,figsize=(6,6))\n",
    "ax[0].scatter(np.real(eigvEI),np.imag(eigvEI),s=5.0,c='blue',alpha=0.5)\n",
    "ax[1].scatter(np.real(eigvTEI),np.imag(eigvTEI),s=5.0,c='blue',alpha=0.5)\n",
    "\n",
    "XEE,XTEE=X[:NE,:NE],Xtilde[:NE,:NE]\n",
    "eigvEE,eigvec=la.eig(XEE)\n",
    "eigvTEE,eigvec=la.eig(XTEE)\n",
    "fig,ax=plt.subplots(1,2,figsize=(6,6))\n",
    "ax[0].scatter(np.real(eigvEE),np.imag(eigvEE),s=5.0,c='red',alpha=0.5)\n",
    "ax[1].scatter(np.real(eigvTEE),np.imag(eigvTEE),s=5.0,c='red',alpha=0.5)\n",
    "\n",
    "XIE,XTIE=X[NE:,:NE],Xtilde[NE:,:NE]\n",
    "eigvIE,eigvec=la.eig(XIE)\n",
    "eigvTIE,eigvec=la.eig(XTIE)\n",
    "fig,ax=plt.subplots(1,2,figsize=(6,6))\n",
    "ax[0].scatter(np.real(eigvIE),np.imag(eigvIE),s=5.0,c='blue',alpha=0.5)\n",
    "ax[1].scatter(np.real(eigvTIE),np.imag(eigvTIE),s=5.0,c='blue',alpha=0.5)\n",
    "\n",
    "XII,XTII=X[NE:,NE:],Xtilde[NE:,NE:]\n",
    "eigvII,eigvec=la.eig(XII)\n",
    "eigvTII,eigvec=la.eig(XTII)\n",
    "fig,ax=plt.subplots(1,2,figsize=(6,6))\n",
    "ax[0].scatter(np.real(eigvII),np.imag(eigvII),s=5.0,c='red',alpha=0.5)\n",
    "ax[1].scatter(np.real(eigvTII),np.imag(eigvTII),s=5.0,c='red',alpha=0.5)\n"
   ]
  },
  {
   "source": [
    "# 24/12 Generate Figures and Some Questions"
   ],
   "cell_type": "markdown",
   "metadata": {}
  },
  {
   "cell_type": "code",
   "execution_count": 1011,
   "metadata": {},
   "outputs": [],
   "source": [
    "def calculate_angle(vector_1,vector_2):\n",
    "    unit_vector_1 = vector_1 /np.linalg.norm(vector_1)\n",
    "    unit_vector_2 = vector_2 /np.linalg.norm(vector_2)\n",
    "    dot_product = np.dot(unit_vector_1, unit_vector_2)\n",
    "    angle = np.arccos(dot_product)\n",
    "    return angle"
   ]
  },
  {
   "source": [
    "## Generate Matrix"
   ],
   "cell_type": "markdown",
   "metadata": {}
  },
  {
   "cell_type": "code",
   "execution_count": 1251,
   "metadata": {},
   "outputs": [
    {
     "output_type": "stream",
     "name": "stdout",
     "text": [
      "[[4.   0.  ]\n [0.   2.25]]\nsquare root radius\n[2.  1.5] 1.7677669529663689\n"
     ]
    }
   ],
   "source": [
    "Nt=np.array([1000,1000])\n",
    "NE,NI=Nt[0],Nt[1]\n",
    "N=NE+NI\n",
    "at = Nt/N\n",
    "N=np.sum(Nt)\n",
    "\n",
    "# Block Gaussian Random Network\n",
    "xee,xei,xie,xii=2.0,0.0,0.0,1.5\n",
    "\n",
    "# xee,xei,xie,xii=2.0,1.5*2.0/2.0,1.0/1.5*2.5,1.0\n",
    "X=np.zeros((N,N))\n",
    "X[:NE,:NE],X[NE:,NE:]=np.random.randn(NE,NE),np.random.randn(NE,NE)\n",
    "X[:NE,NE:],X[NE:,:NE]=np.random.randn(NE,NE),np.random.randn(NE,NE)\n",
    "\n",
    "X[:NE,:NE],X[NE:,NE:]=xee*X[:NE,:NE]/np.sqrt(NE),xii*X[NE:,NE:]/np.sqrt(NI)\n",
    "X[:NE,NE:],X[NE:,:NE]=xei*X[:NE,NE:]/np.sqrt(NE),xie*X[NE:,:NE]/np.sqrt(NI)\n",
    "\n",
    "# X[:NE,:NE],X[:NE,NE:]=xee*X[:NE,:NE]/np.sqrt(N),xei*X[:NE,NE:]/np.sqrt(N)\n",
    "# X[NE:,:NE],X[NE:,NE:]=xie*X[NE:,:NE]/np.sqrt(N),xii*X[NE:,NE:]/np.sqrt(N)\n",
    "# print('std indeed:',xee/np.sqrt(N),xei/np.sqrt(N),xie/np.sqrt(N),xii/np.sqrt(N))\n",
    "eigvx,eigvecx=la.eig(X)\n",
    "# theoretical M (grandom) matrix \n",
    "gmat = np.array([[xee**2,xei**2],[xie**2,xii**2]])\n",
    "# first do not multiply at\n",
    "gaverage=0\n",
    "for i in range(2):\n",
    "    for j in range(2):\n",
    "        gaverage+=gmat[i,j]/2 # ntype=2\n",
    "gaverage=np.sqrt(gaverage)\n",
    "# for i in range(2):\n",
    "#     gmat[:,i]*=at[i]\n",
    "print(gmat)\n",
    "eigvgm,eigvecgm=la.eig(gmat)\n",
    "print('square root radius')\n",
    "print(np.sqrt(eigvgm[:]),gaverage)\n",
    "ugm,svgm,vhgm=la.svd(gmat)\n",
    "ngm=vhgm.copy()\n",
    "ngm=ngm.T \n",
    "ngm[:,0],ngm[:,1]=svgm[0]*ngm[:,0],svgm[1]*ngm[:,1]\n",
    "\n",
    "# mean value \n",
    "# first use rank-1 structure\n",
    "JE,JI=3.5,2.5#2.5,1.5\n",
    "Am=np.zeros((N,N))\n",
    "Am[:,:NE],Am[:,NE:]=JE/NE,-JI/NI\n",
    "# ua,svam,vha=la.svd(Am)\n",
    "# va=vha.T\n",
    "# svam=svam[0]\n",
    "ua,va=np.zeros((N,N)),np.zeros((N,N))\n",
    "ua[:,0]=1.0/np.sqrt(N)\n",
    "va[:NE,0]=JE/np.sqrt(NE)\n",
    "va[NE:,0]=-JI/np.sqrt(NI)\n",
    "va[:,0]/=-np.linalg.norm(va[:,0])\n",
    "svam=np.sqrt(2*(JE**2+JI**2))\n",
    "vha=va.T"
   ]
  },
  {
   "source": [
    "## put them together and try to figure out the the properties"
   ],
   "cell_type": "markdown",
   "metadata": {}
  },
  {
   "cell_type": "code",
   "execution_count": 1252,
   "metadata": {},
   "outputs": [
    {
     "output_type": "stream",
     "name": "stdout",
     "text": [
      "singular value, outliers\n[6.61233286 3.96915619 3.95104763]\n[3.97221246 3.95147646 3.9317097 ]\n"
     ]
    }
   ],
   "source": [
    "Xtotal=X.copy()+Am.copy()\n",
    "# singular decomposition blockage\n",
    "XEEtotal,XEItotal,XIEtotal,XIItotal=Xtotal[:NE,:NE],Xtotal[:NE,NE:],Xtotal[NE:,:NE],Xtotal[NE:,NE:]\n",
    "uxtEE,svxtEE,vhxtEE=la.svd(XEEtotal)\n",
    "vxtEE=vhxtEE.T\n",
    "uxtEI,svxtEI,vhxtEI=la.svd(XEItotal)\n",
    "vxtEI=vhxtEI.T\n",
    "uxtIE,svxtIE,vhxtIE=la.svd(XIEtotal)\n",
    "vxtIE=vhxtIE.T\n",
    "uxtII,svxtII,vhxtII=la.svd(XIItotal)\n",
    "vxtII=vhxtII.T\n",
    "# Combine, total svd decomposition\n",
    "uxt,svxt,vhxt=la.svd(Xtotal)\n",
    "vxt=vhxt.T\n",
    "# decomposition of the noise\n",
    "ux,svx,vhx=la.svd(X)\n",
    "vx=vhx.T\n",
    "# print singular values\n",
    "print('singular value, outliers')\n",
    "print(svxt[:3])\n",
    "print(svx[:3])"
   ]
  },
  {
   "cell_type": "code",
   "execution_count": 1253,
   "metadata": {},
   "outputs": [
    {
     "output_type": "stream",
     "name": "stdout",
     "text": [
      "0.021751812601445906 0.025045439710313946 6.612332857794327\n0.021751812601445906 -0.016884312695050113 6.612332857794327\n-0.025834577095454513 -0.02596245434761155 4.618781773639494\n-0.031622776601683784 0.03162277660168379 2.5000000000000004\ntilde overlap:\n[[ 3.58868436 -2.43758142]\n [ 3.44354055 -2.3293959 ]]\ntheo overlap:\n[[ 3.05940185 -2.5       ]\n [ 3.5        -2.17833443]]\ntheo overlap2:\n[[ 3.12682216 -2.5       ]\n [ 3.5        -2.176     ]]\nchange:\n[[-0.4618622  -0.06241858]\n [ 0.05645945  0.1533959 ]]\n"
     ]
    }
   ],
   "source": [
    "iid_sv=np.zeros((2,2))\n",
    "iid_sv=np.array([[JE,JI],[JE,JI]])\n",
    "iid_sv[0,0]=iid_sv[0,0]+xee**2/iid_sv[0,0]\n",
    "iid_sv[0,1]=iid_sv[0,1]+xei**2/iid_sv[0,1]\n",
    "iid_sv[1,0]=iid_sv[1,0]+xie**2/iid_sv[1,0]\n",
    "iid_sv[1,1]=iid_sv[1,1]+xii**2/iid_sv[1,1]\n",
    "# print(iid_sv)\n",
    "\n",
    "overlaptt,overlaptheo,overlaptheo2=np.zeros((2,2)),np.zeros((2,2)),np.zeros((2,2))\n",
    "overlaptt[0,0]=np.sum(uxt[:NE,0]*vxt[:NE,0]*svxt[0])\n",
    "print(np.mean(uxt[:NE,0]),np.mean(vxt[:NE,0]),svxt[0])\n",
    "overlaptt[0,1]=np.sum(uxt[:NE,0]*vxt[NE:,0]*svxt[0])\n",
    "print(np.mean(uxt[:NE,0]),np.mean(vxt[NE:,0]),svxt[0])\n",
    "overlaptt[1,0]=np.sum(uxt[NE:,0]*vxt[:NE,0]*svxt[0])\n",
    "overlaptt[1,1]=np.sum(uxt[NE:,0]*vxt[NE:,0]*svxt[0])\n",
    "\n",
    "overlaptheo[0,0]=np.sum(uxtEE[:,0]*vxtEE[:,0]*svxtEE[0])#iid_sv[0,0]*(1-xee**2/JE**2)\n",
    "print(np.mean(uxtEE[:,0]),np.mean(vxtEE[:,0]),svxtEE[0])\n",
    "overlaptheo[0,1]=np.sum(uxtEI[:,0]*vxtEI[:,0]*svxtEI[0])#iid_sv[0,1]*(1-xei**2/JI**2)\n",
    "print(np.mean(uxtEI[:,0]),np.mean(vxtEI[:,0]),svxtEI[0])\n",
    "overlaptheo[1,0]=np.sum(uxtIE[:,0]*vxtIE[:,0]*svxtIE[0])#iid_sv[1,0]*(1-xie**2/JE**2)\n",
    "overlaptheo[1,1]=np.sum(uxtII[:,0]*vxtII[:,0]*svxtII[0])#iid_sv[1,1]*(1-xii**2/JI**2)\n",
    "\n",
    "overlaptheo2[0,0]=np.sum(iid_sv[0,0]*(1-xee**2/JE**2))\n",
    "overlaptheo2[0,1]=-np.sum(iid_sv[0,1]*(1-xei**2/JI**2))\n",
    "overlaptheo2[1,0]=np.sum(iid_sv[1,0]*(1-xie**2/JE**2))\n",
    "overlaptheo2[1,1]=-np.sum(iid_sv[1,1]*(1-xii**2/JI**2))\n",
    "\n",
    "print('tilde overlap:')\n",
    "print(overlaptt)\n",
    "print('theo overlap:')\n",
    "print(overlaptheo)\n",
    "print('theo overlap2:')\n",
    "print(overlaptheo2)\n",
    "print('change:')\n",
    "overlapchange=overlaptheo2-overlaptt\n",
    "print(overlapchange)\n",
    "# eigvtt,eigvectt=la.eig(overlaptt)\n",
    "# eigvtheo,eigvectheo=la.eig(overlaptheo)\n",
    "# print('eigenvalue compare:')\n",
    "# print(eigvtt)\n",
    "# print(eigvtheo)\n"
   ]
  },
  {
   "cell_type": "code",
   "execution_count": 1254,
   "metadata": {},
   "outputs": [
    {
     "output_type": "stream",
     "name": "stdout",
     "text": [
      "1.737932151513777 6.596509365627461\n"
     ]
    }
   ],
   "source": [
    "ttsv=svam+gaverage**2/svam\n",
    "print(svam/JE,ttsv)"
   ]
  },
  {
   "cell_type": "code",
   "execution_count": 1237,
   "metadata": {},
   "outputs": [],
   "source": [
    "## test EE, EI, IE, II separately\n",
    "iid_mu_u,iid_mu_v ={},{}\n",
    "\n",
    "iid_mu_u['E'],iid_mu_u['I']=np.zeros((2,1)),np.zeros((2,1))\n",
    "iid_mu_v['E'],iid_mu_v['I']=np.zeros((2,1)),np.zeros((2,1))\n",
    "\n",
    "iid_mu_u['E'][0,0],iid_mu_u['E'][1,0]=np.mean(uxtEE[:,0]),np.mean(uxtEI[:,0])\n",
    "iid_mu_u['I'][0,0],iid_mu_u['I'][1,0]=np.mean(uxtIE[:,0]),np.mean(uxtII[:,0])\n",
    "iid_mu_v['E'][0,0],iid_mu_v['E'][1,0]=np.mean(vxtEE[:,0]),np.mean(vxtIE[:,0])\n",
    "iid_mu_v['I'][0,0],iid_mu_v['I'][1,0]=np.mean(vxtEI[:,0]),np.mean(vxtII[:,0])\n",
    "\n",
    "mua,mva = np.zeros((2,1)),np.zeros((2,1))\n",
    "mua[0,0],mua[1,0]=ua[0,0],ua[NE+1,0]\n",
    "mva[0,0],mva[1,0]=va[0,0],va[NE+1,0]\n",
    "\n",
    "iid_noise_u,iid_noise_v ={},{}\n",
    "iid_noise_u['E'],iid_noise_u['I']=np.zeros((NE,2)),np.zeros((NE,2))\n",
    "iid_noise_v['E'],iid_noise_v['I']=np.zeros((NE,2)),np.zeros((NE,2))\n",
    "\n",
    "iid_noise_u['E'][:,0],iid_noise_u['E'][:,1]=(uxtEE[:,0]-iid_mu_u['E'][0,0]),(uxtEI[:,0]-iid_mu_u['E'][1,0])\n",
    "iid_noise_u['I'][:,0],iid_noise_u['I'][:,1]=(uxtIE[:,0]-iid_mu_u['I'][0,0]),(uxtII[:,0]-iid_mu_u['I'][1,0])\n",
    "iid_noise_v['E'][:,0],iid_noise_v['E'][:,1]=(vxtEE[:,0]-iid_mu_v['E'][0,0]),(vxtIE[:,0]-iid_mu_v['E'][1,0])\n",
    "iid_noise_v['I'][:,0],iid_noise_v['I'][:,1]=(vxtIE[:,0]-iid_mu_v['I'][0,0]),(vxtII[:,0]-iid_mu_v['I'][1,0])\n"
   ]
  },
  {
   "cell_type": "code",
   "execution_count": 1242,
   "metadata": {},
   "outputs": [
    {
     "output_type": "stream",
     "name": "stdout",
     "text": [
      "[[0.02234488]\n [0.01932565]] [[-0.01918076]\n [-0.03162278]] [[ 0.02204976]\n [-0.01949008]] [[-0.01876176]\n [-0.03162278]]\nsv 5.554648620316476 4.140232380719324 2.5000000000000004\n"
     ]
    }
   ],
   "source": [
    "mu_u,mu_v=np.zeros((2,1)),np.zeros((2,1))\n",
    "mu_u[0,0],mu_u[1,0]=np.mean(uxt[:NE,0]),np.mean(uxt[NE:,0])\n",
    "mu_v[0,0],mu_v[1,0]=np.mean(vxt[:NE,0]),np.mean(vxt[NE:,0])\n",
    "\n",
    "## print noise tt\n",
    "noise_u,noise_v=np.zeros((NE,2)),np.zeros((NE,2))\n",
    "noise_u[:,0],noise_u[:,1]=(uxt[:NE,0]-mu_u[0,0]),(uxt[NE:,0]-mu_u[1,0])\n",
    "noise_v[:,0],noise_v[:,1]=(vxt[:NE,0]-mu_v[0,0]),(vxt[NE:,0]-mu_v[1,0])\n",
    "\n",
    "covmat=noise_u.T@noise_v\n",
    "# print('noise cov:')\n",
    "print(mu_u,iid_mu_u['E'],mu_v,iid_mu_v['E'])\n",
    "print('sv',svxt[0],svxtEE[0],svxtEI[0])"
   ]
  },
  {
   "cell_type": "code",
   "execution_count": 1230,
   "metadata": {},
   "outputs": [
    {
     "output_type": "stream",
     "name": "stdout",
     "text": [
      "2.0 0.0 0.0 1.0\n--------------------\nmean value of u with E type (EE EI):\n[[-0.01803964]\n [-0.03162278]] 0.5704633770780799\nmean UE for total\n0.018973665961010272 0.03162277660168379 0.5999999999999999\nmean value of u with I type (IE II):\n[[-0.03162278]\n [-0.03036734]] 1.0413418318129657\nmean UI for total\n0.03162277660168379 0.030304576336566323 1.0434983894999017\nmean value of v with E type (EE IE):\n[[-0.01804564]\n [-0.03162278]] 0.5706532412385339\nmean VE for total\n0.018973665961010272 0.03162277660168379 0.5999999999999999\nmean value of v with I type (EI II):\n[[0.03162278]\n [0.03034521]] 1.0421010282814995\nmean VI for total\n0.03162277660168379 0.030304576336566323 1.0434983894999017\n"
     ]
    }
   ],
   "source": [
    "print(xee,xei,xie,xii)\n",
    "print('--------------------')\n",
    "print('mean value of u with E type (EE EI):')\n",
    "print(iid_mu_u['E'],iid_mu_u['E'][0,0]/iid_mu_u['E'][1,0])\n",
    "print('mean UE for total')\n",
    "print(np.sqrt(1-(xee/JE)**2)/np.sqrt(NE),np.sqrt(1-(xei/JI)**2)/np.sqrt(NE),(np.sqrt(1-(xee/JE)**2)/np.sqrt(1-(xei/JI)**2)))\n",
    "\n",
    "print('mean value of u with I type (IE II):')\n",
    "print(iid_mu_u['I'],iid_mu_u['I'][0,0]/iid_mu_u['I'][1,0])\n",
    "print('mean UI for total')\n",
    "print(np.sqrt(1-(xie/JE)**2)/np.sqrt(NE),np.sqrt(1-(xii/JI)**2)/np.sqrt(NE),(np.sqrt(1-(xie/JE)**2)/np.sqrt(1-(xii/JI)**2)))\n",
    "\n",
    "print('mean value of v with E type (EE IE):')\n",
    "print(iid_mu_v['E'],iid_mu_v['E'][0,0]/iid_mu_v['E'][1,0])\n",
    "print('mean VE for total')\n",
    "print(np.sqrt(1-(xee/JE)**2)/np.sqrt(NE),np.sqrt(1-(xie/JE)**2)/np.sqrt(NE),(np.sqrt(1-(xee/JE)**2)/np.sqrt(1-(xie/JE)**2)))\n",
    "\n",
    "print('mean value of v with I type (EI II):')\n",
    "print(iid_mu_v['I'],iid_mu_v['I'][0,0]/iid_mu_v['I'][1,0])\n",
    "print('mean VI for total')\n",
    "print(np.sqrt(1-(xei/JI)**2)/np.sqrt(NE),np.sqrt(1-(xii/JI)**2)/np.sqrt(NE),(np.sqrt(1-(xei/JI)**2)/np.sqrt(1-(xii/JI)**2)))"
   ]
  },
  {
   "cell_type": "code",
   "execution_count": 1218,
   "metadata": {},
   "outputs": [
    {
     "output_type": "stream",
     "name": "stdout",
     "text": [
      "vec1 [[-0.01897367]\n [ 0.02529822]] [-0.75]\nnumvec1: -0.01947075138589678 0.024917661215864535 -0.7814036484892962\nreal mean:\n0.02055340669452231 0.009104648046617814\nvec2 [[-0.01897367]\n [ 0.02529822]] [-0.75]\nnumvec2: 0.0172223163447693 0.02652153501818273 0.6493710236968548\nreal mean:\n0.020406871667918793 0.008844345420995098\n"
     ]
    }
   ],
   "source": [
    "# calculate mean for real\n",
    "mu_utilde = np.zeros((2,1))\n",
    "mu_utilde[0,0],mu_utilde[1,0]=np.mean(uxt[:NE,0]),np.mean(uxt[NE:,0])\n",
    "noise_utilde = np.zeros((2,1))\n",
    "noise_utilde[0,0],noise_utilde[1,0]=np.std(uxt[:NE,0]),np.std(uxt[NE:,0])\n",
    "\n",
    "# vector to calculate uE-real\n",
    "angle_1= np.arctan2(xee/JE/np.sqrt(NE),-np.sqrt(1-(xee/JE)**2)/np.sqrt(NE))\n",
    "angle_2 = np.arctan2(xei/JI/np.sqrt(NE),-np.sqrt(1-(xei/JI)**2)/np.sqrt(NE))\n",
    "vec_1=np.array([[np.cos(angle_1),np.sin(angle_1)]]).T\n",
    "vec_1/=np.sqrt(NE)\n",
    "print('vec1',vec_1,vec_1[0]/vec_1[1])\n",
    "print('numvec1:',iid_mu_u['E'][0,0],np.std(uxtEE[:,0]),iid_mu_u['E'][0,0]/np.std(uxtEE[:,0]))\n",
    "vec_2=np.array([[np.cos(angle_2),np.sin(angle_2)]]).T\n",
    "vec_2/=np.sqrt(NE)\n",
    "# print('vec2',vec_2,vec_2[0]/vec_2[1])\n",
    "# print('numvec2:',iid_mu_u['E'][1,0],np.std(uxtEI[:,0]),iid_mu_u['E'][1,0]/np.std(uxtEI[:,0]))\n",
    "# print('angles')\n",
    "# print(angle_1,angle_2)\n",
    "rot_theta = (angle_1-angle_2)/2.0\n",
    "Rot1=np.array([[np.cos(rot_theta),-np.sin(rot_theta)],[np.sin(rot_theta),np.cos(rot_theta)]])\n",
    "Rot2=np.array([[np.cos(-rot_theta),-np.sin(-rot_theta)],[np.sin(-rot_theta),np.cos(-rot_theta)]])\n",
    "# the first is gonna be drew back \n",
    "# the second is gonna be pushed forward\n",
    "\n",
    "theo_mu=np.zeros((2,2))\n",
    "theo_mu[0,:]= np.squeeze(Rot2@vec_1)*xee/JE\n",
    "test_ang2= Rot1@vec_2*xei/JI\n",
    "# print('rotate')\n",
    "# print(theo_mu[0,:],test_ang2)\n",
    "# print(np.sqrt(theo_mu[0,1]**2+test_ang2[1]**2))\n",
    "print('real mean:')\n",
    "print(mu_utilde[0,0],noise_utilde[0,0])\n",
    "# print(mu_utilde[0,0],iid_mu_u['E'][0,0]/np.sqrt(xee/JE),iid_mu_u['E'][1,0]/np.sqrt(xei/JI))#,noise_utilde[0,0])\n",
    "# print('noise comp:',noise_utilde[0,0]/vec_1[1])\n",
    "\n",
    "# vector to calculate uE-real\n",
    "angle_1= np.arctan2(xie/JE/np.sqrt(NE),np.sqrt(1-(xie/JE)**2)/np.sqrt(NE))\n",
    "angle_2 = np.arctan2(xii/JI/np.sqrt(NE),-np.sqrt(1-(xii/JI)**2)/np.sqrt(NE))\n",
    "vec_1=np.array([[np.cos(angle_1),np.sin(angle_1)]]).T\n",
    "vec_1/=np.sqrt(NE)\n",
    "# print('vec1',vec_1,vec_1[0]/vec_1[1])\n",
    "# print('numvec1:',iid_mu_u['I'][0,0],np.std(uxtIE[:,0]),iid_mu_u['I'][0,0]/np.std(uxtIE[:,0]))\n",
    "vec_2=np.array([[np.cos(angle_2),np.sin(angle_2)]]).T\n",
    "vec_2/=np.sqrt(NE)\n",
    "print('vec2',vec_2,vec_2[0]/vec_2[1])\n",
    "print('numvec2:',iid_mu_u['I'][1,0],np.std(uxtII[:,0]),iid_mu_u['I'][1,0]/np.std(uxtII[:,0]))\n",
    "# print('angles')\n",
    "# print(angle_1,angle_2)\n",
    "rot_theta = (angle_1-angle_2)/2.0\n",
    "Rot1=np.array([[np.cos(rot_theta),-np.sin(rot_theta)],[np.sin(rot_theta),np.cos(rot_theta)]])\n",
    "Rot2=np.array([[np.cos(-rot_theta),-np.sin(-rot_theta)],[np.sin(-rot_theta),np.cos(-rot_theta)]])\n",
    "# the first is gonna be drew back \n",
    "# the second is gonna be pushed forward\n",
    "\n",
    "theo_mu=np.zeros((2,2))\n",
    "theo_mu[0,:]= np.squeeze(Rot2@vec_1)*xee/JE\n",
    "test_ang2= Rot1@vec_2*xei/JI\n",
    "# print('rotate')\n",
    "# print(theo_mu[0,:],test_ang2)\n",
    "# print(np.sqrt(theo_mu[0,1]**2+test_ang2[1]**2))\n",
    "print('real mean:')\n",
    "print(mu_utilde[1,0],noise_utilde[1,0])\n",
    "# print('noise comp:',noise_utilde[1,0]/vec_2[1])\n",
    "\n",
    "\n"
   ]
  },
  {
   "cell_type": "code",
   "execution_count": 1212,
   "metadata": {},
   "outputs": [
    {
     "output_type": "stream",
     "name": "stdout",
     "text": [
      "1.8753579299942282\n1.4681810363696828\n5.791939190075244\n0.9545214042184235\n"
     ]
    }
   ],
   "source": [
    "print(0.01405457/0.0074943400271559124)\n",
    "print(np.sqrt(5.388888888888889/2.5))\n",
    "print(0.02529822/0.004367832459869343)\n",
    "print(np.sqrt(4.1/4.5))"
   ]
  },
  {
   "cell_type": "code",
   "execution_count": 1207,
   "metadata": {},
   "outputs": [
    {
     "output_type": "stream",
     "name": "stdout",
     "text": [
      "5.388888888888889 2.5\n4.1 4.5\n"
     ]
    }
   ],
   "source": [
    "print(iid_sv[0,0],JI)\n",
    "print(iid_sv[1,1],JE)"
   ]
  },
  {
   "cell_type": "code",
   "execution_count": 901,
   "metadata": {},
   "outputs": [
    {
     "output_type": "stream",
     "name": "stdout",
     "text": [
      "iid sv:\n4.1226128929638355 2.1539224358357476 1.9140024842000463\n4.1 2.1666666666666665\nrotate E\n-0.013416407864998536 -0.01887099018727983 -0.018314179939325853\n"
     ]
    }
   ],
   "source": [
    "print('iid sv:')\n",
    "print(svxtEE[0],svxtII[0],svxtEE[0]/svxtII[0])\n",
    "print(xee**2/JE+JE,xii**2/JI+JI)\n",
    "# change of the mean value\n",
    "mutE=uaE[0,0]*np.sqrt(1-xee**2/JE**2)#svam**2)#JE**2/4)\n",
    "mvtE=vaE[0,0]*np.sqrt(1-xee**2/JE**2)#svam**2)#JE**2/4)\n",
    "print('rotate E')\n",
    "print(mutE,iiduxt[0,0],iidvxt[0,0])"
   ]
  },
  {
   "cell_type": "code",
   "execution_count": 902,
   "metadata": {},
   "outputs": [
    {
     "output_type": "stream",
     "name": "stdout",
     "text": [
      "std\n[0.80242491 0.67011423]\n0.8 0.6666666666666666\n"
     ]
    }
   ],
   "source": [
    "# standard deviation \n",
    "stdnu,stdnv=np.zeros(2),np.zeros(2)\n",
    "stdnu[0],stdnu[1]=np.std(iidnu[:,0])*np.sqrt(NE),np.std(iidnu[:,1])*np.sqrt(NE)\n",
    "print('std')\n",
    "print(stdnu)\n",
    "print(xee/JE,xii/JI)\n"
   ]
  },
  {
   "cell_type": "code",
   "execution_count": 881,
   "metadata": {},
   "outputs": [
    {
     "output_type": "stream",
     "name": "stdout",
     "text": [
      "ratio of noise:\nnan\n0.1509100308578967\n-0.02236067977499756 [0.02256579 0.02060449]\n8.355670620322547 10.571689665028934 0.2575338205112959 0.10550853272752397\n"
     ]
    }
   ],
   "source": [
    "print('ratio of noise:')\n",
    "print(np.sqrt(1-(muxtt[0,0]/ua[0,0])**2)**2)\n",
    "print(np.sqrt(1-(muxtt[1,0]/ua[NE,0])**2)**2)\n",
    "\n",
    "stdute,stduti=xee/np.std(uxt[:NE,0])/np.sqrt(NE),xii/np.std(uxt[NE:,0])/np.sqrt(NI)\n",
    "stdvte,stdvti=np.std(vxt[:NE,0])*np.sqrt(NE),np.std(vxt[NE:,0])*np.sqrt(NI)\n",
    "\n",
    "print(ua[0,0],muxtt[:,0],)\n",
    "print(stdute,stduti,stdvte,stdvti)"
   ]
  },
  {
   "source": [
    "## noise covariance and mean-total covariance"
   ],
   "cell_type": "markdown",
   "metadata": {}
  },
  {
   "cell_type": "code",
   "execution_count": 790,
   "metadata": {},
   "outputs": [
    {
     "output_type": "stream",
     "name": "stdout",
     "text": [
      "overlap matrix for mn:\n[[ 0.00354657  0.00057148]\n [ 0.00360612 -0.0008201 ]]\ntotal overlap:\n[[ 0.05231565  0.0030755   0.00354657  0.00057148]\n [ 0.0030755   0.12209013  0.00360612 -0.0008201 ]\n [ 0.00354657  0.00360612  0.15943086 -0.00092745]\n [ 0.00057148 -0.0008201  -0.00092745  0.01868941]]\nlambda\n[0.15991886 0.12185592 0.0520855  0.01866576]\nprojection\n[[0.43561726 0.43561726]\n [0.47226551 0.47226551]]\n[[ 0.39998986 -0.49998733]\n [-0.40092601  0.50115751]]\n"
     ]
    }
   ],
   "source": [
    "## calculate the overlap matrix \n",
    "# overlap pure 2*2 m and n only\n",
    "overlapmn=noisem.T@noisen\n",
    "print('overlap matrix for mn:')\n",
    "print(overlapmn)\n",
    "\n",
    "# overlap total 4\n",
    "overlap4T=noisevec.T@noisevec\n",
    "print('total overlap:')\n",
    "print(overlap4T)\n",
    "evovT,evecovT=la.eig(overlap4T)\n",
    "print('lambda')\n",
    "# print(evecovT)\n",
    "print(evovT)\n",
    "\n",
    "## mean-total projection\n",
    "utilde,vtilde=np.zeros((NE,2)),np.zeros((NE,2))\n",
    "uorg,vorg=np.zeros((NE,2)),np.zeros((NE,2))\n",
    "\n",
    "utilde[:,0],utilde[:,1]=uxt[:NE,0],uxt[NE:,0]\n",
    "vtilde[:,0],vtilde[:,1]=vxt[:NE,0],vxt[NE:,0]\n",
    "uorg[:,0],uorg[:,1]=ua[:NE,0],ua[NE:,0]\n",
    "vorg[:,0],vorg[:,1]=va[:NE,0],va[NE:,0]\n",
    "mtilde,ntilde=utilde.copy(),vtilde.copy()#*svxt[0]\n",
    "morg,norg=uorg.copy(),vorg.copy()#*svam\n",
    "transm=mtilde/morg#mtilde@morg.T@la.inv(morg@morg.T)\n",
    "transn=ntilde/norg#ntilde@norg.T@la.inv(norg@norg.T)\n",
    "# print('transformation')\n",
    "# print(transm)\n",
    "# print(transn)\n",
    "ovtom,ovton=mtilde.T@morg,ntilde.T@norg#*svxt[0]*svx[0]\n",
    "print('projection')\n",
    "print(ovtom)\n",
    "print(ovton)"
   ]
  },
  {
   "source": [
    "## Figure out parameters"
   ],
   "cell_type": "markdown",
   "metadata": {}
  },
  {
   "cell_type": "code",
   "execution_count": 972,
   "metadata": {},
   "outputs": [],
   "source": [
    "# First Set of Figures\n",
    "# figure, validate results in sharpee's paper\n",
    "# ticks and labels\n",
    "ticks = np.linspace(-2.0,2.0,5)\n",
    "lims= [-2.1,2.1]\n",
    "nbins=100\n",
    "fig,ax=plt.subplots(1,2,figsize=(10,4.5))\n",
    "# eigenvalue\n",
    "ax[0].scatter(np.real(eigvx),np.imag(eigvx),s=2.0,c='blue',alpha=0.5)\n",
    "# ax[0].set_xlim(lims)\n",
    "# ax[0].set_ylim(lims)\n",
    "# ax[0].set_xticks(ticks)\n",
    "# ax[0].set_yticks(ticks)\n",
    "ax[0].set_aspect('equal')"
   ]
  },
  {
   "cell_type": "code",
   "execution_count": 789,
   "metadata": {},
   "outputs": [],
   "source": [
    "# singular value\n",
    "n, bins, patches = ax[1].hist(svx, nbins, density=True, alpha=0.5)\n",
    "# ax[1].set_xlim(lims)\n",
    "# ax[1].set_xticks(ticks+5)\n",
    "ax[1].set_aspect('auto')"
   ]
  },
  {
   "cell_type": "code",
   "execution_count": 697,
   "metadata": {},
   "outputs": [
    {
     "output_type": "stream",
     "name": "stdout",
     "text": [
      "3.605426622632382\n"
     ]
    },
    {
     "output_type": "execute_result",
     "data": {
      "text/plain": [
       "3.605551275463989"
      ]
     },
     "metadata": {},
     "execution_count": 697
    }
   ],
   "source": [
    "y = 2.0*np.random.randn(1,1000)\n",
    "yn = np.repeat(y,1000,axis=0)\n",
    "x = 3.0*np.random.randn(1000,1)\n",
    "xn = np.repeat(x,1000,axis=1)\n",
    "jn=xn+yn\n",
    "fig,ax=plt.subplots(figsize=(9,9))\n",
    "# HISTOGRAM\n",
    "n, bins, patches = ax.hist(np.reshape(jn,(1000*1000,1)), 100, density=True, alpha=0.5)\n",
    "print(np.std(np.reshape(jn,(1000*1000,1))))\n",
    "np.sqrt(2**2+3**2)"
   ]
  },
  {
   "cell_type": "code",
   "execution_count": 393,
   "metadata": {},
   "outputs": [
    {
     "output_type": "stream",
     "name": "stdout",
     "text": [
      "angle u and v: 3.1188974719299405 3.139528066295619\nangle u and v: 1.4288992721907374 1.4041395032366502\n"
     ]
    }
   ],
   "source": [
    "vector_1= np.squeeze(muxtt)\n",
    "vector_2 = np.squeeze(mua)\n",
    "angleu=calculate_angle(vector_1,vector_2)\n",
    "vector_1= np.squeeze(mvxtt)\n",
    "vector_2 = np.squeeze(mva)\n",
    "anglev=calculate_angle(vector_1,vector_2)\n",
    "print('angle u and v:',angleu,anglev)\n",
    "\n"
   ]
  },
  {
   "cell_type": "code",
   "execution_count": 762,
   "metadata": {},
   "outputs": [],
   "source": []
  },
  {
   "source": [
    "# back up code"
   ],
   "cell_type": "markdown",
   "metadata": {}
  },
  {
   "cell_type": "code",
   "execution_count": 879,
   "metadata": {},
   "outputs": [
    {
     "output_type": "stream",
     "name": "stdout",
     "text": [
      "[6.44943161 4.00928745 3.98429257 3.96936678 3.94801228]\n[4.00973264 3.98515474 3.97197553 3.94868445 3.92199661]\n"
     ]
    }
   ],
   "source": [
    "Xtotal=X.copy()+Am.copy()\n",
    "# singular decomposition\n",
    "uxt,svxt,vhxt=la.svd(Xtotal)\n",
    "vxt=vhxt.T\n",
    "ux,svx,vhx=la.svd(X)\n",
    "vx=vhx.T\n",
    "print(svxt[:5])\n",
    "print(svx[:5])\n",
    "\n",
    "\n",
    "## dissect noise and mean components\n",
    "## mean for total and original\n",
    "muxtt,mvxtt=np.zeros((2,1)),np.zeros((2,1))\n",
    "muxtt[0,0],muxtt[1,0]=np.mean(uxt[:NE,0]),np.mean(uxt[NE:,0])\n",
    "mvxtt[0,0],mvxtt[1,0]=np.mean(vxt[:NE,0]),np.mean(vxt[NE:,0])\n",
    "mua,mva = np.zeros((2,1)),np.zeros((2,1))\n",
    "mua[0,0],mua[1,0]=ua[0,0],ua[NE+1,0]\n",
    "mva[0,0],mva[1,0]=va[0,0],va[NE+1,0]\n",
    "# noise components E and I seperate \n",
    "noiseu,noisev=np.zeros((NE,2)),np.zeros((NE,2))\n",
    "# for E noise\n",
    "noiseu[:,0]=(uxt[:NE,0]-muxtt[0,0])\n",
    "noisev[:,0]=(vxt[:NE,0]-mvxtt[0,0])\n",
    "# for I noise\n",
    "noiseu[:,1]=(uxt[NE:,0]-muxtt[1,0])\n",
    "noisev[:,1]=(vxt[NE:,0]-mvxtt[1,0])\n",
    "noisem,noisen=noiseu.copy(),noisev.copy()#*svxt[0]\n",
    "\n",
    "# noise components 4*4\n",
    "noisevec = np.zeros((NE,4))\n",
    "noisevec[:,:2]=noisem.copy()\n",
    "noisevec[:,2:]=noisen.copy()\n"
   ]
  },
  {
   "cell_type": "code",
   "execution_count": 800,
   "metadata": {},
   "outputs": [
    {
     "output_type": "stream",
     "name": "stdout",
     "text": [
      "stdnum: 0.4973373839263357 0.4909175083453431\n"
     ]
    }
   ],
   "source": [
    "mleft=5.0*np.random.randn(NE,1)/np.sqrt(NE)\n",
    "nright=4.0*np.random.randn(NE,1)/np.sqrt(NE)\n",
    "Cnright = 3*np.ones((NE,1))\n",
    "Cmleft = 1*np.ones((NE,1))\n",
    "randomm=mleft@Cnright.T+Cmleft@nright.T \n",
    "lrand=np.reshape(randomm,(NE**2,1))\n",
    "theostd = (5*3)**2/NE+(4*1)**2/NE\n",
    "theostd = np.sqrt(theostd)\n",
    "print('stdnum:',np.std(lrand),theostd)"
   ]
  },
  {
   "cell_type": "code",
   "execution_count": null,
   "metadata": {},
   "outputs": [],
   "source": [
    "# # subject to\n",
    "# sigmE,signI,sigmI,signE=2.0,3.0,1.0,4.0\n",
    "# rhoE=xee/sigmE/signE*1.5\n",
    "# rhoI=xii/sigmI/signI*1.5\n",
    "# m,n=np.zeros((N,1)),np.zeros((N,1))\n",
    "# zetaxE,zetayE,zetaxI,zetayI=np.random.randn(NE),np.random.randn(NE),np.random.randn(NI),np.random.randn(NI)\n",
    "# m[:NE,0]=sigmE*zetaxE/np.sqrt(N)\n",
    "# n[:NE,0]=signE*(rhoE*zetaxE+np.sqrt(1-rhoE**2)*zetayE)/np.sqrt(N)\n",
    "# m[NE:,0]=sigmI*zetaxI/np.sqrt(N)\n",
    "# n[NE:,0]=signI*(rhoI*zetaxI+np.sqrt(1-rhoI**2)*zetayI)/np.sqrt(N)\n",
    "# P=m@n.T \n",
    "# Xtilde=X.copy()+P.copy()"
   ]
  },
  {
   "cell_type": "code",
   "execution_count": 284,
   "metadata": {},
   "outputs": [
    {
     "output_type": "stream",
     "name": "stdout",
     "text": [
      "cal g: [[0.00089115 0.00017327]\n [0.00276879 0.00053832]]\norg g: 0.000625 0.0009 0.0025 0.000225\n"
     ]
    }
   ],
   "source": [
    "stdme=np.std(lxvec[:NE,0])\n",
    "stdmi=np.std(lxvec[NE:,0])\n",
    "stdne=np.std(svx[0]*rxvec[:NE,0])\n",
    "stdni=np.std(svx[0]*rxvec[NE:,0])\n",
    "rm1=np.array([stdme,stdmi])\n",
    "rm1=np.reshape(rm1,(2,1))\n",
    "rn1=np.array([stdne,stdni])\n",
    "rn1=np.reshape(rn1,(2,1))\n",
    "stdme=np.std(lxvec[:NE,1])\n",
    "stdmi=np.std(lxvec[NE:,1])\n",
    "stdne=np.std(svx[1]*rxvec[:NE,1])\n",
    "stdni=np.std(svx[1]*rxvec[NE:,1])\n",
    "rm2=np.array([stdme,stdmi])\n",
    "rm2=np.reshape(rm2,(2,1))\n",
    "rn2=np.array([stdne,stdni])\n",
    "rn2=np.reshape(rn2,(2,1))\n",
    "gstdest=rm1@rn1.T +rm2@rn2.T \n",
    "print('cal g:',gstdest)\n",
    "print('org g:',xee**2/N,xei**2/N,xie**2/N,xii**2/N)"
   ]
  },
  {
   "cell_type": "code",
   "execution_count": 269,
   "metadata": {},
   "outputs": [],
   "source": [
    "lxvec,svx,rxvech=la.svd(P)\n",
    "rxvec=rxvech.T \n",
    "fig,ax=plt.subplots(2,2,figsize=(9,9))\n",
    "nbins=30\n",
    "n, bins, patches = ax[0][0].hist(lxvec[:NE,0], nbins, density=True, alpha=0.5)\n",
    "n, bins, patches = ax[1][0].hist(lxvec[NE:,0], nbins, density=True, alpha=0.5)\n",
    "n, bins, patches = ax[0][1].hist(rxvec[:NE,0], nbins, density=True, alpha=0.5)\n",
    "n, bins, patches = ax[1][1].hist(rxvec[NE:,0], nbins, density=True, alpha=0.5)\n"
   ]
  }
 ]
}