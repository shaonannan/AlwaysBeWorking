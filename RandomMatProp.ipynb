{
 "metadata": {
  "language_info": {
   "codemirror_mode": {
    "name": "ipython",
    "version": 3
   },
   "file_extension": ".py",
   "mimetype": "text/x-python",
   "name": "python",
   "nbconvert_exporter": "python",
   "pygments_lexer": "ipython3",
   "version": "3.8.3-final"
  },
  "orig_nbformat": 2,
  "kernelspec": {
   "name": "python3",
   "display_name": "Python 3"
  }
 },
 "nbformat": 4,
 "nbformat_minor": 2,
 "cells": [
  {
   "cell_type": "code",
   "execution_count": 1,
   "metadata": {},
   "outputs": [],
   "source": [
    "from __future__ import print_function\n",
    "from ipywidgets import interact, interactive, fixed, interact_manual\n",
    "import ipywidgets as widgets\n",
    "import numpy as np\n",
    "import matplotlib.pylab as plt\n",
    "import matplotlib\n",
    "%matplotlib qt\n",
    "from numpy import linalg as la\n",
    "from scipy.optimize import fsolve\n",
    "from scipy import linalg as scpla\n",
    "import seaborn as sb\n",
    "from mpl_toolkits.axes_grid1 import make_axes_locatable\n",
    "from cmath import *\n",
    "from mpl_toolkits.mplot3d import Axes3D\n",
    "from scipy.optimize import fsolve,leastsq \n",
    "from math import tanh,cosh\n",
    "from sympy import *\n",
    "extras_require = {'PLOT':['matplotlib>=1.1.1,<3.0']},"
   ]
  },
  {
   "cell_type": "code",
   "execution_count": 19,
   "metadata": {},
   "outputs": [
    {
     "output_type": "stream",
     "name": "stdout",
     "text": [
      " random singular value: [6.81175455e+00 5.88095309e-14]\n",
      "overlap: 0.9784482758620688\n",
      "overlap num: 0.9787049714554014\n"
     ]
    }
   ],
   "source": [
    "# 2910 reconfinement\n",
    "nn=1\n",
    "JE,JI=3.60,3.2\n",
    "a,b=0.0,0.0#1.5,0.25#0.3,0.2#\n",
    "# a=-JI*(JE/b)#+0.8\n",
    "# a=-JI/(JE/b)#-0.3\n",
    "\n",
    "'''\n",
    "J=np.zeros((nn*2,nn*2))\n",
    "J[:,:nn],J[:,nn:]=JE/nn,-JI/nn\n",
    "J[:nn,:nn],J[nn:,:nn]=J[:nn,:nn]-a/nn,J[nn:,:nn]+a/nn\n",
    "J[:nn,nn:],J[nn:,nn:]=J[:nn,nn:]+b/nn,J[nn:,nn:]-b/nn\n",
    "print('2by2 matrix:',J)\n",
    "lvec,sv,rvech=la.svd(J)\n",
    "print('sum:',np.sum(sv),'diff:',sv[0]-sv[1])\n",
    "s1=np.sqrt(2*((JE+b)**2+(JI-a)**2))\n",
    "s2=np.sqrt(2*((JE-b)**2+(JI+a)**2))\n",
    "print('sum1:',s1,'; sum2:',s2)\n",
    "'''\n",
    "\n",
    "# generate perturbed matrix\n",
    "nn=600\n",
    "# # JE,JI=0.8,0.6\n",
    "# # a,b=0.80,0.2#1.5,-0.3\n",
    "# a1=-JE*b/JI\n",
    "# a2=-JE*JI/b\n",
    "# print('a1-',a1,' a2-',a2)\n",
    "Jr=np.zeros((nn*2,nn*2))\n",
    "Jr[:,:nn],Jr[:,nn:]=JE/nn,-JI/nn\n",
    "Jr[:nn,:nn],Jr[nn:,:nn]=Jr[:nn,:nn]-a/nn,Jr[nn:,:nn]+a/nn\n",
    "Jr[:nn,nn:],Jr[nn:,nn:]=Jr[:nn,nn:]+b/nn,Jr[nn:,nn:]-b/nn\n",
    "lvec,svr,rvech=la.svd(Jr)\n",
    "print(' random singular value:',svr[:2])\n",
    "\n",
    "# add random matrix\n",
    "x = np.random.randn(2*nn,2*nn)/np.sqrt(2*nn)\n",
    "x_= x+Jr\n",
    "lvec_,sv_,rvech_=la.svd(x_)\n",
    "theo_sv=1/svr[:2]+svr[:2]\n",
    "# print('theoretical solution:',theo_sv,'; numerical solution:',sv_[:2])\n",
    "\n",
    "rholimit=1/svr[0]+svr[0]\n",
    "derivphi=1/(1-svr[0]**2)\n",
    "overlap=-1/derivphi/svr[0]**2\n",
    "# print('am theo:',1/sv[0]**2)\n",
    "print('overlap:',overlap)\n",
    "print('overlap num:',np.sum(lvec_[:,0]*lvec[:,0])**2)\n",
    "\n",
    "## calculate whether there is an additive relationship\n",
    "overlap_num=1.0-1/svr[0]**2\n",
    "alpha = np.sqrt(overlap_num)\n",
    "lvar=lvec_[:,0]-alpha*lvec[:,0]\n",
    "# plt.figure()\n",
    "# n, bins, patches = plt.hist(lvar[:nn], 100, density=True, facecolor='g', alpha=0.75)\n",
    "\n",
    "rvec_,rvec=rvech_.T,rvech.T\n",
    "rvar=rvec_[:,0]-alpha*rvec[:,0]\n",
    "# plt.figure()\n",
    "# n, bins, patches = plt.hist(rvar[:nn], 100, density=True, facecolor='g', alpha=0.75)\n",
    "\n",
    "#tilte overlap\n",
    "tilteuv=np.sum(rvec_[:,0]*lvec_[:,0])\n",
    "orguv=alpha**2*np.sum(rvec[:,0]*lvec[:,0])\n",
    "cosuv=(1/svr[0]**2)*np.sum(rvec[:,0]*lvec[:,0])\n",
    "\n",
    "\n",
    "# Tomorrow, check whether the overlap of the perturbed matrix is equal to the original * alpha square."
   ]
  },
  {
   "source": [
    "Contents\n",
    "* Can the perturbed matrix $\\widetilde{X}$ be represented by basis vectors of low-rank matrix?\n",
    "* Will the difference between different representations change with the properties of low-rank structure/random matrix (infimum/supramum)\n",
    "* Can we use either of the (M,N)/(m,n) to represent the perturbed matrix?\n",
    "* Now we use E/I structure (known already), how about change to use Gaussian distribution?\n",
    "\n",
    "Edit by Yuxiu\n",
    "\n",
    "30/10/2020 the $1^{st}$ version V0\n"
   ],
   "cell_type": "markdown",
   "metadata": {}
  },
  {
   "cell_type": "code",
   "execution_count": 37,
   "metadata": {},
   "outputs": [
    {
     "output_type": "stream",
     "name": "stdout",
     "text": [
      "1\n",
      "recon svrho: [6.80859064e+00 6.63107729e-14 6.31349745e-14 5.42914578e-14\n",
      " 5.31285661e-14] ; num svrho: [6.81175455e+00 5.88095309e-14 5.73088770e-14 4.43769051e-14\n",
      " 4.24557572e-14]\n",
      "num vec overlap: 0.9788613601962554  theo overlap: 0.9784482758620688\n",
      "singular values (largest) of the error matrix: [1.98798809 1.97500857 1.96817541 1.96427662 1.95175516] [6.91701634 1.987878   1.974473   1.96742004 1.96348708]\n"
     ]
    }
   ],
   "source": [
    "# limit of the singular value of the perturbed matrix\n",
    "# find the largest singular value which are larger than the critical value.\n",
    "thetac = 2.0\n",
    "rlarger=svr[np.where(svr>thetac)]\n",
    "lenc = len(rlarger)\n",
    "rhop=np.zeros(lenc)\n",
    "x_tilde_rec=np.zeros_like(x_)\n",
    "# reconstruct perturbed matrix using basis vectors of low-rank structure\n",
    "for i in range(lenc):\n",
    "    rhop[i]=1/svr[i]+svr[i]\n",
    "    vecoverlap=1-1/svr[i]**2\n",
    "    lvecrec=np.sqrt(vecoverlap)*lvec[:,i]\n",
    "    rvecrec=np.sqrt(vecoverlap)*rvec[:,i]\n",
    "    x_tilde_rec +=rhop[i]*np.reshape(lvecrec,(2*nn,1))@np.reshape(rvecrec,(1,nn*2))#rhop[i]*(lvecrec@rvecrec.T)\n",
    "print(lenc)\n",
    "\n",
    "\n",
    "errmat=x_-x_tilde_rec#(rhop[0]*np.reshape(lvecrec,(nn*2,1))@np.reshape(rvecrec,(1,nn*2)))#(sv_[0]*np.reshape(lvec_[:,0],(nn*2,1))@np.reshape(rvec_[:,0].T,(1,nn*2)))\n",
    "# check the singular value of the Error-matrix\n",
    "lvecrec,svrec,rvechrec=la.svd(x_tilde_rec)\n",
    "lvecerr,sverr,rvecherr=la.svd(errmat)\n",
    "print('recon svrho:',svrec[:5],'; num svrho:',svr[:5])\n",
    "print('num vec overlap:',np.sum(rvec_[:,0]*rvec[:,0])**2,' theo overlap:',vecoverlap)\n",
    "\n",
    "print('singular values (largest) of the error matrix:',sverr[:5],sv_[:5])\n",
    "# fig=plt.figure()\n",
    "# ax=fig.add_subplot(111)\n",
    "# n, bins, patches = ax.hist(sverr, 50, density=True, facecolor='g', alpha=0.75)\n"
   ]
  },
  {
   "cell_type": "code",
   "execution_count": 41,
   "metadata": {},
   "outputs": [],
   "source": [
    "# check whether the Generalized SVD can identically represent the perturbed matrix (all the properties)\n",
    "# we start from rank-1 perturbation \n",
    "m,n=np.ones((nn*2,1)),np.zeros((nn*2,1))\n",
    "n[:nn,0],n[nn:,0]=JE,-JI\n",
    "newrep=(1-1/svr[0]**4)*m@n.T/nn\n",
    "diff_rep=newrep-x_tilde_rec\n",
    "# plt.imshow(diff_rep)\n",
    "newrandMat=x_-newrep\n",
    "lvecnr,svnr,rvechnr=la.svd(newrandMat)\n",
    "fig=plt.figure()\n",
    "ax=fig.add_subplot(121)\n",
    "n, bins, patches = ax.hist(svnr, 50, density=True, facecolor='g', alpha=0.75)\n",
    "\n",
    "lvecr,svr,rvechr=la.svd(x)\n",
    "ax1=fig.add_subplot(122)\n",
    "n, bins, patches = ax1.hist(svr, 50, density=True, facecolor='g', alpha=0.75)"
   ]
  },
  {
   "cell_type": "code",
   "execution_count": null,
   "metadata": {},
   "outputs": [],
   "source": [
    "# some simple analysis, how rho_1 changes with JE and JI, how the overlap of vectors changes with JE and JI\n"
   ]
  }
 ]
}