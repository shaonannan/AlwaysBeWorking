{
 "metadata": {
  "language_info": {
   "codemirror_mode": {
    "name": "ipython",
    "version": 3
   },
   "file_extension": ".py",
   "mimetype": "text/x-python",
   "name": "python",
   "nbconvert_exporter": "python",
   "pygments_lexer": "ipython3",
   "version": "3.8.3-final"
  },
  "orig_nbformat": 2,
  "kernelspec": {
   "name": "python3",
   "display_name": "Python 3",
   "language": "python"
  }
 },
 "nbformat": 4,
 "nbformat_minor": 2,
 "cells": [
  {
   "source": [
    "## 17/12/2020 Update\n",
    "# Linking and Comparing Local Connect Stats with Low-rank Recurrent Network\n",
    "* From Local Connect Stats cite[Sharpee]\n",
    "* From Low-rank structure to EI "
   ],
   "cell_type": "markdown",
   "metadata": {}
  },
  {
   "cell_type": "code",
   "execution_count": 1,
   "metadata": {},
   "outputs": [],
   "source": [
    "from __future__ import print_function\n",
    "from ipywidgets import interact, interactive, fixed, interact_manual\n",
    "import ipywidgets as widgets\n",
    "import numpy as np\n",
    "import matplotlib.pylab as plt\n",
    "import matplotlib\n",
    "%matplotlib qt\n",
    "from numpy import linalg as la\n",
    "from scipy.optimize import fsolve\n",
    "from scipy import linalg as scpla\n",
    "import seaborn as sb\n",
    "from mpl_toolkits.axes_grid1 import make_axes_locatable\n",
    "from cmath import *\n",
    "from mpl_toolkits.mplot3d import Axes3D\n",
    "from scipy.optimize import fsolve,leastsq \n",
    "from math import tanh,cosh\n",
    "import math\n",
    "from sympy import *\n",
    "extras_require = {'PLOT':['matplotlib>=1.1.1,<3.0']},"
   ]
  },
  {
   "source": [
    "## Check the results in Sharpee's paper\n",
    "* local stats, EE,EI,IE,II occupy their own properties, independently\n",
    "* no pair correlation\n"
   ],
   "cell_type": "markdown",
   "metadata": {}
  },
  {
   "cell_type": "code",
   "execution_count": 178,
   "metadata": {},
   "outputs": [],
   "source": [
    "Nt=np.array([2000,1000])\n",
    "NE,NI=Nt[0],Nt[1]\n",
    "at = Nt/N\n",
    "N=np.sum(Nt)\n",
    "aee,aei,aie,aii=4.5,-6.0,5.0,-2.5\n",
    "JEEsub,JEIsub,JIEsub,JIIsub=aee*np.ones((NE,NE))/NE,aei*np.ones((NE,NI))/NI,aie*np.ones((NI,NE))/NE,aii*np.ones((NI,NI))/NI\n",
    "J = np.zeros((NE+NI,NE+NI))\n",
    "\n",
    "# determine gcd\n",
    "Gmat=np.zeros((2,2))\n",
    "Gmatorg=np.array([[0.8,1.2],[0.9,0.2]])\n",
    "# Gmat/=np.sqrt(N)\n",
    "for i in range(2):\n",
    "    for j in range(2):\n",
    "        Gmat[i,j]=Gmatorg[i,j]/np.sqrt(N)\n",
    "# EE\n",
    "gij=Gmat[0,0]*np.random.randn(NE,NE)\n",
    "J[:NE,:NE]=gij.copy()\n",
    "# EI\n",
    "gij=Gmat[0,1]*np.random.randn(NE,NI)\n",
    "J[:NE,NE:]=gij.copy()\n",
    "# IE\n",
    "gij=Gmat[1,0]*np.random.randn(NI,NE)\n",
    "J[NE:,:NE]=gij.copy()\n",
    "# II\n",
    "gij=Gmat[1,1]*np.random.randn(NI,NI)\n",
    "J[NE:,NE:]=gij.copy()\n",
    "\n",
    "P = np.zeros((N,N))\n",
    "P[:NE,:NE],P[:NE,NE:],P[NE:,:NE],P[NE:,NE:]=JEEsub.copy(),JEIsub.copy(),JIEsub.copy(),JIIsub.copy()\n",
    "X = P.copy()+J.copy()"
   ]
  },
  {
   "cell_type": "code",
   "execution_count": 113,
   "metadata": {},
   "outputs": [
    {
     "output_type": "stream",
     "name": "stdout",
     "text": [
      "averaging g noise: 0.8558621384311844\n"
     ]
    }
   ],
   "source": [
    "gavg=np.sqrt(np.sum(np.sum(Gmat**2)))/2.0\n",
    "print('averaging g noise:',gavg*np.sqrt(N))"
   ]
  },
  {
   "cell_type": "code",
   "execution_count": 105,
   "metadata": {},
   "outputs": [
    {
     "output_type": "stream",
     "name": "stdout",
     "text": [
      "eigenvalue: [1.+4.21307489j 1.-4.21307489j] singular value: [9.12570385 2.05463604] eigG 0.8546614831429354\n"
     ]
    }
   ],
   "source": [
    "aee,aei,aie,aii=4.5,-6.0,5.0,-2.5\n",
    "Asmall=np.array([[aee,aei],[aie,aii]])\n",
    "eigva,_=la.eig(Asmall)\n",
    "_,sigva,_=la.svd(Asmall)\n",
    "print('eigenvalue:',eigva,'singular value:',sigva,'eigG',np.sqrt(eigG[0]))"
   ]
  },
  {
   "cell_type": "code",
   "execution_count": 47,
   "metadata": {},
   "outputs": [],
   "source": [
    "# calculate singular value circles\n",
    "_,sigvrand,_=la.svd(J)\n",
    "fig,ax=plt.subplots(figsize=(6,6))\n",
    "n, bins, patches = ax.hist(sigvrand, 100, density=True, alpha=0.5)\n",
    "# ax.scatter(np.real(eigvrand),np.imag(eigvrand),s=5.0,c='blue',alpha=0.5)"
   ]
  },
  {
   "cell_type": "code",
   "execution_count": 179,
   "metadata": {},
   "outputs": [],
   "source": [
    "# all about calculate eigenvalues\n",
    "eigvrand,eigvecrand=la.eig(J)\n",
    "eigstruct,eigvecstruct=la.eig(P)\n",
    "# summation\n",
    "X = P.copy()+J.copy()\n",
    "eigvx,eigvecx=la.eig(X)\n",
    "# theoretical\n",
    "M = np.zeros((2,2))\n",
    "for i in range(2):\n",
    "    for j in range(2):\n",
    "        M[i,j]=(Gmat[i,j]*np.sqrt(N))**2*(Nt[j]/N)\n",
    "eigG,eigvecG=la.eig(M)\n",
    "# low rank small\n",
    "Asmall=np.array([[aee,aei],[aie,aii]])\n",
    "eigva,_=la.eig(Asmall)\n"
   ]
  },
  {
   "cell_type": "code",
   "execution_count": 180,
   "metadata": {},
   "outputs": [],
   "source": [
    "ticks = np.linspace(-2.0,2.0,3)\n",
    "lims= [-2.1,2.1]\n",
    "\n",
    "fig,ax=plt.subplots(figsize=(6,6))\n",
    "ax.plot(np.sqrt(eigG[0])*np.ones(100),np.linspace(-1.0,1.0,100))\n",
    "ax.scatter(np.real(eigvrand),np.imag(eigvrand),s=5.0,c='blue',alpha=0.5)\n",
    "ax.scatter(np.real(eigstruct[:4]),np.zeros(4),s=15.0,c='red',alpha=0.5)\n",
    "# ax.set_xlim(lims)\n",
    "# ax.set_ylim(lims)\n",
    "# ax.set_xticks(ticks)\n",
    "# ax.set_yticks(ticks)\n",
    "ax.set_aspect('equal')\n",
    "ax.grid()"
   ]
  },
  {
   "source": [
    "## relate this to low rank (here rank-2)"
   ],
   "cell_type": "markdown",
   "metadata": {}
  },
  {
   "cell_type": "code",
   "execution_count": 109,
   "metadata": {},
   "outputs": [],
   "source": [
    "lvecX,svX,rvecXh=la.svd(X)\n",
    "rvecX=rvecXh.T\n",
    "m=lvecX[:,:2].copy()\n",
    "n=rvecX[:,:2].copy()\n",
    "n[:,0]*=svX[0]\n",
    "n[:,1]*=svX[1]\n",
    "\n",
    "# n[:,1]=rvecX[:,2]*svX[2]\n",
    "# m[:,1]=lvecX[:,2]"
   ]
  },
  {
   "cell_type": "code",
   "execution_count": 110,
   "metadata": {},
   "outputs": [
    {
     "output_type": "stream",
     "name": "stdout",
     "text": [
      "singular value: [9.21533954 2.36599547 1.84315887 1.83814427]\n"
     ]
    }
   ],
   "source": [
    "print('singular value:',svX[:4])"
   ]
  },
  {
   "cell_type": "code",
   "execution_count": 111,
   "metadata": {},
   "outputs": [],
   "source": [
    "morg,norg=m,n\n",
    "fig,ax=plt.subplots(4,4,figsize=(9,9))\n",
    "for i in range(2):\n",
    "    for j in range(2):\n",
    "        ax[i][j].scatter(morg[:NE,i],morg[:NE,j],s=5.0,c='red',alpha=0.05)\n",
    "        ax[i][j].scatter(morg[NE:,i],morg[NE:,j],s=5.0,c='blue',alpha=0.05)\n",
    "for i in range(2):\n",
    "    for j in range(2):\n",
    "        ax[2+i][2+j].scatter(norg[:NE,i],norg[:NE,j],s=5.0,c='red',alpha=0.05)\n",
    "        ax[2+i][2+j].scatter(norg[NE:,i],norg[NE:,j],s=5.0,c='blue',alpha=0.05)\n",
    "        \n",
    "for i in range(2):\n",
    "    for j in range(2):\n",
    "        ax[i][2+j].scatter(morg[:NE,i],norg[:NE,j],s=5.0,c='red',alpha=0.05)\n",
    "        ax[i][2+j].scatter(morg[NE:,i],norg[NE:,j],s=5.0,c='blue',alpha=0.05)\n",
    "for i in range(2):\n",
    "    for j in range(2):\n",
    "        ax[2+i][j].scatter(norg[:NE,i],morg[:NE,j],s=5.0,c='red',alpha=0.05)\n",
    "        ax[2+i][j].scatter(norg[NE:,i],morg[NE:,j],s=5.0,c='blue',alpha=0.05)\n",
    "for i in range(4):\n",
    "    for j in range(4):\n",
    "        # ax[i][j].set_xlim(lims)\n",
    "        # ax[i][j].set_ylim(lims)\n",
    "        # ax[i][j].set_xticks(ticks)\n",
    "        # ax[i][j].set_yticks(ticks)\n",
    "        ax[i][j].set_aspect('equal')\n",
    "        ax[i][j].grid()"
   ]
  },
  {
   "cell_type": "code",
   "execution_count": 117,
   "metadata": {},
   "outputs": [
    {
     "output_type": "stream",
     "name": "stdout",
     "text": [
      "eigenvalue: [1.+4.21307489j 1.-4.21307489j] [1.+4.21307489j 1.-4.21307489j]\nsingular value: [9.12570385 2.05463604] [9.12570385 2.05463604]\n"
     ]
    }
   ],
   "source": [
    "# test Dale's law\n",
    "Nt=np.array([300,100])\n",
    "NE,NI=Nt[0],Nt[1]\n",
    "N=np.sum(Nt)\n",
    "aee,aei,aie,aii=4.5,-6.0,5.0,-2.5\n",
    "JEEsub,JEIsub,JIEsub,JIIsub=aee*np.ones((NE,NE))/NE,aei*np.ones((NE,NI))/np.sqrt(NE*NI),aie*np.ones((NI,NE))/np.sqrt(NE*NI),aii*np.ones((NI,NI))/NI\n",
    "P = np.zeros((N,N))\n",
    "P[:NE,:NE],P[:NE,NE:],P[NE:,:NE],P[NE:,NE:]=JEEsub.copy(),JEIsub.copy(),JIEsub.copy(),JIIsub.copy()\n",
    "eigvP,_=la.eig(P)\n",
    "_,sigvp,_=la.svd(P)\n",
    "Asmall=np.array([[aee,aei],[aie,aii]])\n",
    "eigva,_=la.eig(Asmall)\n",
    "_,sigva,_=la.svd(Asmall)\n",
    "\n",
    "print('eigenvalue:',eigvP[:2],eigva[:2])\n",
    "print('singular value:',sigvp[:2],sigva[:2])"
   ]
  },
  {
   "cell_type": "code",
   "execution_count": 184,
   "metadata": {},
   "outputs": [
    {
     "output_type": "stream",
     "name": "stdout",
     "text": [
      "average eigv: 0.858253007850327\n"
     ]
    }
   ],
   "source": [
    "# test Dale's law\n",
    "Nt=np.array([100,1000])\n",
    "NE,NI=Nt[0],Nt[1]\n",
    "N=np.sum(Nt)\n",
    "at=Nt/N\n",
    "# determine gcd\n",
    "Gmat=np.zeros((2,2))\n",
    "Gmatorg=np.array([[0.8,1.2],[0.9,0.2]])\n",
    "# Gmat/=np.sqrt(N)\n",
    "for i in range(2):\n",
    "    for j in range(2):\n",
    "        Gmat[i,j]=Gmatorg[i,j]/np.sqrt(N)\n",
    "# EE\n",
    "J=np.zeros((N,N))\n",
    "\n",
    "gij=np.zeros((NE,NE))\n",
    "gij=Gmat[0,0]*np.random.randn(NE,NE)\n",
    "J[:NE,:NE]=gij.copy()\n",
    "# EI\n",
    "gij=np.zeros((NE,NI))\n",
    "gij=Gmat[0,1]*np.random.randn(NE,NI)\n",
    "J[:NE,NE:]=gij.copy()\n",
    "# IE\n",
    "gij=np.zeros((NI,NE))\n",
    "gij=Gmat[1,0]*np.random.randn(NI,NE)\n",
    "J[NE:,:NE]=gij.copy()\n",
    "# II\n",
    "gij=np.zeros((NI,NI))\n",
    "gij=Gmat[1,1]*np.random.randn(NI,NI)\n",
    "J[NE:,NE:]=gij.copy()\n",
    "\n",
    "gavg=0\n",
    "for i in range(2):\n",
    "    for j in range(2):\n",
    "        gavg+=np.sqrt(Gmatorg[i,j]**2*at[i]*at[j])\n",
    "M = np.zeros((2,2))\n",
    "for i in range(2):\n",
    "    for j in range(2):\n",
    "        M[i,j]=(Gmatorg[i,j]**2)*at[j]\n",
    "\n",
    "eigvj,_=la.eig(J)\n",
    "eigvM,_=la.eig(M)\n",
    "ticks = np.linspace(-2.0,2.0,3)\n",
    "lims= [-2.1,2.1]\n",
    "\n",
    "fig,ax=plt.subplots(figsize=(6,6))\n",
    "ax.plot(np.sqrt(eigvM[0])*np.ones(100),np.linspace(-1.0,1.0,100))\n",
    "ax.scatter(np.real(eigvj),np.imag(eigvj),s=5.0,c='blue',alpha=0.5)\n",
    "print('average eigv:',gavg)\n"
   ]
  },
  {
   "cell_type": "code",
   "execution_count": 227,
   "metadata": {},
   "outputs": [
    {
     "output_type": "stream",
     "name": "stdout",
     "text": [
      "0.6\n"
     ]
    }
   ],
   "source": [
    "# testing distribution of J_{ij}\n",
    "NE,NI=750,250\n",
    "sigm,sign=0.5,1.2\n",
    "mE,nE=sigm*np.random.randn(NE,1)/np.sqrt(NE),sign*np.random.randn(NE,1)/np.sqrt(NE)\n",
    "JEE = mE@nE.T \n",
    "eigv,eigvec=la.eig(JEE)\n",
    "fig,ax=plt.subplots(figsize=(6,6))\n",
    "ax.scatter(np.real(eigvj),np.imag(eigvj),s=5.0,c='blue',alpha=0.5)\n",
    "\n",
    "JEEoff=JEE.copy()\n",
    "JEEdiag=np.zeros(NE)\n",
    "for i in range(NE):\n",
    "    JEEoff[i,i:NE-1]=JEEoff[i,i+1:]\n",
    "    JEEdiag[i]=JEE[i,i]\n",
    "fig,ax=plt.subplots(2,1,figsize=(6,6))\n",
    "Joff=JEEoff[:,:NE-1]\n",
    "Joff=np.reshape(Joff,(NE**2-NE,1))\n",
    "n, bins, patches = ax[0].hist(Joff, 100, density=True, alpha=0.5)\n",
    "n, bins, patches = ax[1].hist(JEEdiag, 100, density=True, alpha=0.5)\n",
    "print(sigm*sign)\n",
    "\n"
   ]
  },
  {
   "source": [
    "## What's the distribution of $J_{i,j}$ in $\\tilde{\\mathbf{X}}=\\mathbf{X}+\\mathbf{p}$"
   ],
   "cell_type": "markdown",
   "metadata": {}
  },
  {
   "cell_type": "code",
   "execution_count": 229,
   "metadata": {},
   "outputs": [],
   "source": [
    "# testing distribution of J_{ij} in \\tilde{X}\n",
    "NE,NI=2000,250\n",
    "sigm,sign,grandom=0.6,1.0,0.5\n",
    "rho=0.0\n",
    "zetax,zetay=np.random.randn(NE,1),np.random.randn(NE,1)\n",
    "m = sigm*zetax/np.sqrt(NE)\n",
    "n =sign*(rho*zetax+np.sqrt(1-rho**2)*zetay)/np.sqrt(NE)\n",
    "P = m@n.T \n",
    "X = (grandom)*np.random.randn(NE,NE)/np.sqrt(NE)\n",
    "\n",
    "Xtilde=X+P\n",
    "\n",
    "eigv,eigvec=la.eig(Xtilde)\n",
    "fig,ax=plt.subplots(figsize=(6,6))\n",
    "ax.scatter(np.real(eigv),np.imag(eigv),s=5.0,c='blue',alpha=0.5)\n",
    "\n",
    "JEEoff=Xtilde.copy()\n",
    "JEEdiag=np.zeros(NE)\n",
    "for i in range(NE):\n",
    "    JEEoff[i,i:NE-1]=JEEoff[i,i+1:]\n",
    "    JEEdiag[i]=Xtilde[i,i]\n",
    "fig,ax=plt.subplots(2,1,figsize=(6,6))\n",
    "Joff=JEEoff[:,:NE-1]\n",
    "Joff=np.reshape(Joff,(NE**2-NE,1))\n",
    "n, bins, patches = ax[0].hist(Joff, 100, density=True, alpha=0.5)\n",
    "n, bins, patches = ax[1].hist(JEEdiag, 100, density=True, alpha=0.5)"
   ]
  },
  {
   "source": [
    "## Generate Random Block Matrix, embedding low rank structur $\\tilde{\\mathbf{X}}_{\\mathrm{type}}=\\mathbf{X}_{\\mathrm{type}}+\\mathbf{P}_{\\mathrm{type}}$"
   ],
   "cell_type": "markdown",
   "metadata": {}
  },
  {
   "cell_type": "code",
   "execution_count": 292,
   "metadata": {},
   "outputs": [],
   "source": [
    "Nt=np.array([2000,2000])\n",
    "NE,NI=Nt[0],Nt[1]\n",
    "N=NE+NI\n",
    "at = Nt/N\n",
    "N=np.sum(Nt)\n",
    "xee,xei,xie,xii=5.5,2.5,6.0,1.25\n",
    "# subject to\n",
    "sigmE,signI,sigmI,signE=2.0,3.0,1.0,4.0\n",
    "rhoE=xee/sigmE/signE*1.5\n",
    "rhoI=xii/sigmI/signI*1.5\n",
    "X,P=np.random.randn(N,N),np.zeros((N,N))\n",
    "X[:NE,:NE],X[:NE,NE:]=xee*X[:NE,:NE]/np.sqrt(N),xei*X[:NE,NE:]/np.sqrt(N)\n",
    "X[NE:,:NE],X[NE:,NE:]=xie*X[NE:,:NE]/np.sqrt(N),xii*X[NE:,NE:]/np.sqrt(N)\n",
    "m,n=np.zeros((N,1)),np.zeros((N,1))\n",
    "zetaxE,zetayE,zetaxI,zetayI=np.random.randn(NE),np.random.randn(NE),np.random.randn(NI),np.random.randn(NI)\n",
    "m[:NE,0]=sigmE*zetaxE/np.sqrt(N)\n",
    "n[:NE,0]=signE*(rhoE*zetaxE+np.sqrt(1-rhoE**2)*zetayE)/np.sqrt(N)\n",
    "m[NE:,0]=sigmI*zetaxI/np.sqrt(N)\n",
    "n[NE:,0]=signI*(rhoI*zetaxI+np.sqrt(1-rhoI**2)*zetayI)/np.sqrt(N)\n",
    "P=m@n.T \n",
    "Xtilde=X.copy()+P.copy()\n",
    "\n"
   ]
  },
  {
   "cell_type": "code",
   "execution_count": 238,
   "metadata": {},
   "outputs": [],
   "source": [
    "phiacttt=np.zeros((N,1))\n",
    "phiacttt[:NE,0],phiacttt[NE:,0]=(rhoE*zetaxE+np.sqrt(1-rhoE**2)*zetayE)/np.sqrt(N),(rhoI*zetaxI+np.sqrt(1-rhoI**2)*zetayI)/np.sqrt(N)\n",
    "eitatt=Xtilde@phiacttt\n",
    "eitarand=X@phiacttt\n",
    "coveitatt=eitatt@eitatt.T \n",
    "coveitarand=eitarand@eitarand.T \n",
    "deltaEt,deltaEr=coveitatt[:NE,:NE],coveitarand[:NE,:NE]\n",
    "deltaIt,deltaIr=coveitatt[NE:,NE:],coveitarand[NE:,NE:]\n",
    "print('std, Et:',np.std(deltaEt),'; random:',np.std(deltaEr))\n",
    "print('std, It:',np.std(deltaIt),'; random:',np.std(deltaIr))"
   ]
  },
  {
   "cell_type": "code",
   "execution_count": 411,
   "metadata": {},
   "outputs": [
    {
     "output_type": "stream",
     "name": "stdout",
     "text": [
      "1.7677669529663689\n"
     ]
    },
    {
     "output_type": "execute_result",
     "data": {
      "text/plain": [
       "<matplotlib.collections.PathCollection at 0x7fb1f7f7f7f0>"
      ]
     },
     "metadata": {},
     "execution_count": 411
    }
   ],
   "source": [
    "eigvx,_=la.eig(X)\n",
    "eigvxt,_=la.eig(Xtilde)\n",
    "fig,ax=plt.subplots(2,2,figsize=(9,9))\n",
    "ax[0][0].scatter(np.real(eigvx),np.imag(eigvx),s=2.0,c='red',alpha=0.5)\n",
    "ax[0][0].set_aspect('equal')\n",
    "print(np.sqrt(xee**2*NE/N))\n",
    "ax[1][0].scatter(np.real(eigvxt),np.imag(eigvxt),s=2.0,c='red',alpha=0.5)\n",
    "ax[1][0].set_aspect('equal')\n",
    "# HISTOGRAM\n",
    "n, bins, patches = ax[0][1].hist(np.real(eigvx), 20, density=True, alpha=0.5)\n",
    "ax[0][1].set_xlim([-4.0,4.0])\n",
    "n, bins, patches = ax[1][1].hist(np.real(eigvxt), 20, density=True, alpha=0.5)\n",
    "ax[0][1].set_xlim([-4.0,4.0])\n",
    "# SUBTYPE\n",
    "XEI,XTEI=X[:NE,NE:],Xtilde[:NE,NE:]\n",
    "eigvEI,eigvec=la.eig(XEI)\n",
    "eigvTEI,eigvec=la.eig(XTEI)\n",
    "fig,ax=plt.subplots(1,2,figsize=(6,6))\n",
    "ax[0].scatter(np.real(eigvEI),np.imag(eigvEI),s=5.0,c='blue',alpha=0.5)\n",
    "ax[1].scatter(np.real(eigvTEI),np.imag(eigvTEI),s=5.0,c='blue',alpha=0.5)\n",
    "\n",
    "XEE,XTEE=X[:NE,:NE],Xtilde[:NE,:NE]\n",
    "eigvEE,eigvec=la.eig(XEE)\n",
    "eigvTEE,eigvec=la.eig(XTEE)\n",
    "fig,ax=plt.subplots(1,2,figsize=(6,6))\n",
    "ax[0].scatter(np.real(eigvEE),np.imag(eigvEE),s=5.0,c='red',alpha=0.5)\n",
    "ax[1].scatter(np.real(eigvTEE),np.imag(eigvTEE),s=5.0,c='red',alpha=0.5)\n",
    "\n",
    "XIE,XTIE=X[NE:,:NE],Xtilde[NE:,:NE]\n",
    "eigvIE,eigvec=la.eig(XIE)\n",
    "eigvTIE,eigvec=la.eig(XTIE)\n",
    "fig,ax=plt.subplots(1,2,figsize=(6,6))\n",
    "ax[0].scatter(np.real(eigvIE),np.imag(eigvIE),s=5.0,c='blue',alpha=0.5)\n",
    "ax[1].scatter(np.real(eigvTIE),np.imag(eigvTIE),s=5.0,c='blue',alpha=0.5)\n",
    "\n",
    "XII,XTII=X[NE:,NE:],Xtilde[NE:,NE:]\n",
    "eigvII,eigvec=la.eig(XII)\n",
    "eigvTII,eigvec=la.eig(XTII)\n",
    "fig,ax=plt.subplots(1,2,figsize=(6,6))\n",
    "ax[0].scatter(np.real(eigvII),np.imag(eigvII),s=5.0,c='red',alpha=0.5)\n",
    "ax[1].scatter(np.real(eigvTII),np.imag(eigvTII),s=5.0,c='red',alpha=0.5)\n"
   ]
  },
  {
   "source": [
    "## reduced structure"
   ],
   "cell_type": "markdown",
   "metadata": {}
  },
  {
   "cell_type": "code",
   "execution_count": 293,
   "metadata": {},
   "outputs": [
    {
     "output_type": "stream",
     "name": "stdout",
     "text": [
      "small g: [ 3.89632463 -0.52132463] 4.302978619514627\n"
     ]
    }
   ],
   "source": [
    "gmat = np.array([[xee,xei],[xie,xii]])\n",
    "gmat/=2.0\n",
    "eigvgmat,_=la.eig(gmat)\n",
    "gaverage=np.sqrt(xee**2+xei**2+xie**2+xii**2)/2.0\n",
    "print('small g:',eigvgmat[:],gaverage)\n",
    "# _,svgmat,_=la.svd(gmat)\n",
    "# print('svd gmat:',2*svgmat*np.sqrt(2))\n",
    "\n"
   ]
  },
  {
   "source": [
    "## adding structure in random part"
   ],
   "cell_type": "markdown",
   "metadata": {}
  },
  {
   "cell_type": "code",
   "execution_count": 313,
   "metadata": {},
   "outputs": [
    {
     "output_type": "stream",
     "name": "stdout",
     "text": [
      "gmat singular: [4.27668552 0.47495894] [[-0.70188878 -0.71228656]\n [-0.71228656  0.70188878]]\ngmat eigenvalue: [ 3.89632463 -0.52132463]\n"
     ]
    }
   ],
   "source": [
    "ugm,svgm,vhgm=la.svd(gmat)\n",
    "print('gmat singular:',svgm[:],ugm)\n",
    "eigvgm,eigvecgm=la.eig(gmat)\n",
    "print('gmat eigenvalue:',eigvgm[:])\n",
    "ngm=vhgm.copy()\n",
    "ngm=ngm.T \n",
    "ngm[:,0],ngm[:,1]=svgm[0]*ngm[:,0],svgm[1]*ngm[:,1]\n",
    "JE,JI=2.0*1.6,1.8*2.0\n",
    "Am=np.zeros((N,N))\n",
    "Am[:,:NE],Am[:,NE:]=JE/NE,-JI/NI\n",
    "ua,svam,vha=la.svd(Am)\n",
    "va=vha.T\n",
    "# ua[:,0]=-1.0/np.sqrt(N)\n",
    "# va[:NE,0]=JE/np.sqrt(NE)\n",
    "# va[NE:,0]=-JI/np.sqrt(NI)\n",
    "# va[:,0]/=-np.linalg.norm(va[:,0])\n",
    "\n",
    "\n"
   ]
  },
  {
   "cell_type": "code",
   "execution_count": 315,
   "metadata": {},
   "outputs": [
    {
     "output_type": "stream",
     "name": "stdout",
     "text": [
      "[10.11458589  9.92046626  9.87057854  9.85892891  9.84010743]\n",
      "[9.92602229 9.88290686 9.86440262 9.8458118  9.82897575]\n"
     ]
    }
   ],
   "source": [
    "Xtotal=X.copy()+Am.copy()\n",
    "# singular decomposition\n",
    "uxt,svxt,vhxt=la.svd(Xtotal)\n",
    "vxt=vhxt.T\n",
    "print(svxt[:5])\n",
    "ux,svx,vhx=la.svd(X)\n",
    "vx=vhx.T\n",
    "print(svx[:5])\n"
   ]
  },
  {
   "cell_type": "code",
   "execution_count": 316,
   "metadata": {},
   "outputs": [],
   "source": [
    "muxtt=np.zeros((2,1))\n",
    "muxtt[0,0],muxtt[1,0]=np.mean(uxt[:NE,0]),np.mean(uxt[NE:,0])\n",
    "mua = np.zeros((2,1))\n",
    "mua[0,0],mua[1,0]=np.mean(ua[:NE,0]),np.mean(ua[NE:,0])\n",
    "mvxtt=np.zeros((2,1))\n",
    "mvxtt[0,0],mvxtt[1,0]=np.mean(vxt[:NE,0]),np.mean(vxt[NE:,0])\n",
    "mva = np.zeros((2,1))\n",
    "mva[0,0],mva[1,0]=np.mean(va[:NE,0]),np.mean(va[NE:,0])"
   ]
  },
  {
   "cell_type": "code",
   "execution_count": 317,
   "metadata": {},
   "outputs": [
    {
     "output_type": "stream",
     "name": "stdout",
     "text": [
      "angle u and v: 0.02037143527636012 0.28445116211170546\nangle u and v: 1.6295521495106249 1.3654724226752795\n"
     ]
    }
   ],
   "source": [
    "fig,ax=plt.subplots(2,2,figsize=(9,9))\n",
    "ax[1][1].scatter(uxt[:NE,0],uxt[NE:,0],s=10.0,c='red',alpha=0.5)\n",
    "ax[1][1].scatter(vxt[:NE,0],vxt[NE:,0],s=10.0,c='blue',alpha=0.5)\n",
    "ax[1][1].scatter(ua[NE-3,0],ua[NE+3,0],s=25.0,c='green',alpha=1.0)\n",
    "ax[1][1].scatter(va[NE-2,0],va[NE+2,0],s=25.0,c='green',alpha=1.0)\n",
    "ax[1][1].scatter(muxtt[0,0],muxtt[1,0],s=25.0,c='black',alpha=1.0)\n",
    "ax[1][1].scatter(mvxtt[0,0],mvxtt[1,0],s=25.0,c='black',alpha=1.0)\n",
    "vector_1= np.squeeze(muxtt)\n",
    "vector_2 = np.squeeze(mua)\n",
    "angleu=calculate_angle(vector_1,vector_2)\n",
    "vector_1= np.squeeze(mvxtt)\n",
    "vector_2 = np.squeeze(mva)\n",
    "anglev=calculate_angle(vector_1,vector_2)\n",
    "print('angle u and v:',angleu,anglev)\n",
    "vector_1= np.squeeze(mva)\n",
    "vector_2 = np.squeeze(mua)\n",
    "anglecrossorg=calculate_angle(vector_1,vector_2)\n",
    "vector_1= np.squeeze(mvxtt)\n",
    "vector_2 = np.squeeze(muxtt)\n",
    "anglecrossaft=calculate_angle(vector_1,vector_2)\n",
    "print('angle u and v:',anglecrossorg,anglecrossaft)\n"
   ]
  },
  {
   "cell_type": "code",
   "execution_count": 329,
   "metadata": {},
   "outputs": [
    {
     "output_type": "stream",
     "name": "stdout",
     "text": [
      "ratio ju: [[0.76078738]\n [0.42369813]] 10.11458588657317\nsinvec: 0.4394546146874324\nsinvec: 0.25464103074642996\nsinvec: 5.601988919461165\nsinvec: 0.8578186579626327\n"
     ]
    }
   ],
   "source": [
    "print('ratio ju:',mvxtt/mva,svxt[0])\n",
    "print('sinvec:',np.sum(uxt[:NE,0]*vxt[:NE,0])/np.sum(ua[:NE,0]*va[:NE,0]))\n",
    "print('sinvec:',np.sum(uxt[NE:,0]*vxt[NE:,0])/np.sum(ua[NE:,0]*va[NE:,0]))\n",
    "\n",
    "print('sinvec:',np.std(vxt[:NE,0])/np.std(vxt[NE:,0]))\n",
    "print('sinvec:',np.std(uxt[:NE,0])/np.std(uxt[NE:,0]))\n",
    "\n",
    "# print('sinvec:',np.sum(va[:NE,0]*va[:NE,0])/np.sum(va[NE:,0]*vxt[NE:,0]))"
   ]
  },
  {
   "cell_type": "code",
   "execution_count": 319,
   "metadata": {},
   "outputs": [
    {
     "output_type": "execute_result",
     "data": {
      "text/plain": [
       "<matplotlib.collections.PathCollection at 0x7fe63276fca0>"
      ]
     },
     "metadata": {},
     "execution_count": 319
    }
   ],
   "source": [
    "# fig,ax=plt.subplots(2,2,figsize=(9,9))\n",
    "ax[1][0].scatter(uxt[:NE,0],vxt[:NE,0],s=5.0,c='red',alpha=0.05)\n",
    "ax[1][0].scatter(uxt[NE:,0],vxt[NE:,0],s=5.0,c='blue',alpha=0.05)\n",
    "ax[1][0].scatter(ua[NE-3,0],va[NE-3,0],s=25.0,c='black',alpha=1.0)\n",
    "ax[1][0].scatter(ua[NE+2,0],va[NE+2,0],s=25.0,c='black',alpha=1.0)\n",
    "ax[1][0].scatter(muxtt[0,0],mvxtt[0,0],s=25.0,c='green',alpha=1.0)\n",
    "ax[1][0].scatter(muxtt[1,0],mvxtt[1,0],s=25.0,c='green',alpha=1.0)"
   ]
  },
  {
   "cell_type": "code",
   "execution_count": 276,
   "metadata": {},
   "outputs": [
    {
     "output_type": "stream",
     "name": "stdout",
     "text": [
      "1.5095303432414557\n"
     ]
    }
   ],
   "source": [
    "vt1=mva.copy()\n",
    "vt2=ugm.T@vt1\n",
    "anglet =calculate_angle(np.squeeze(vt2),np.squeeze(vt1))\n",
    "print(anglet)"
   ]
  },
  {
   "cell_type": "code",
   "execution_count": 299,
   "metadata": {},
   "outputs": [],
   "source": [
    "def calculate_angle(vector_1,vector_2):\n",
    "    unit_vector_1 = vector_1 /np.linalg.norm(vector_1)\n",
    "    unit_vector_2 = vector_2 /np.linalg.norm(vector_2)\n",
    "    dot_product = np.dot(unit_vector_1, unit_vector_2)\n",
    "    angle = np.arccos(dot_product)\n",
    "    return angle\n",
    "\n",
    "# vector_1= muxtt\n",
    "# vector_2 = mua\n",
    "# unit_vector_1 = vector_1 / np. linalg. norm(vector_1)\n",
    "# unit_vector_2 = vector_2 / np. linalg. norm(vector_2)\n",
    "# dot_product = np. dot(unit_vector_1, unit_vector_2)\n",
    "# angle = np. arccos(dot_product)"
   ]
  },
  {
   "cell_type": "code",
   "execution_count": 150,
   "metadata": {},
   "outputs": [
    {
     "output_type": "stream",
     "name": "stdout",
     "text": [
      "[[-0.02236068]\n [-0.02236068]] [[-0.01822479]\n [-0.0226821 ]]\nbeta: 0.0011014403391343501 0.014445953274896447 1.022859548322422e-05 ; params: 0.7591500420761472\n"
     ]
    }
   ],
   "source": [
    "\n",
    "# coefficient\n",
    "muxtt=np.zeros((2,1))\n",
    "muxtt[0,0],muxtt[1,0]=np.mean(uxt[:NE,0]),np.mean(uxt[NE:,0])\n",
    "mua = np.zeros((2,1))\n",
    "mua[0,0],mua[1,0]=np.mean(ua[:NE,0]),np.mean(ua[NE:,0])\n",
    "print(mua,muxtt)\n",
    "\n",
    "alphau2=muxtt@mua.T@la.inv(mua@mua.T)\n",
    "alphauE=np.sum((uxt[:NE,0]-muxtt[0,0])*(uxt[:NE,0]-muxtt[0,0]))**2\n",
    "alphauI=np.sum((uxt[NE:,0]-muxtt[1,0])*(uxt[NE:,0]-muxtt[1,0]))**2\n",
    "alphaucross=np.sum((uxt[:NE,0]-muxtt[0,0])*(uxt[NE:,0]-muxtt[1,0]))**2\n",
    "alphauI=np.sum((uxt[NE:,0]-muxtt[1,0])*(uxt[NE:,0]-muxtt[1,0]))**2\n",
    "# compare\n",
    "print('beta:',alphauE,alphauI,alphaucross,'; params:',2*svgm[0]/svam[0])"
   ]
  },
  {
   "cell_type": "code",
   "execution_count": 107,
   "metadata": {},
   "outputs": [
    {
     "output_type": "stream",
     "name": "stdout",
     "text": [
      "org noise: [-1.40573017]\nua: [1.21802445]\n"
     ]
    }
   ],
   "source": [
    "noise=np.array([[alphauE],[alphauI]])\n",
    "invnoise=la.inv(ngm@ngm.T)@noise\n",
    "print('org noise:',invnoise[0]/invnoise[1])\n",
    "print('ua:',muxtt[0]/muxtt[1])\n",
    "# square=gmat@np.ones((2,1))/np.sqrt(N)\n",
    "# print(square[0]/square[1])\n",
    "# ratiotest=np.sum(square**2,axis=0)\n",
    "# print(ratiotest[0]/ratiotest[1])"
   ]
  },
  {
   "cell_type": "code",
   "execution_count": 149,
   "metadata": {},
   "outputs": [
    {
     "output_type": "stream",
     "name": "stdout",
     "text": [
      "[[-0.01071125]\n [ 0.02975347]] [[-0.0107973 ]\n [ 0.02479937]]\nbeta: 0.06824677342412665 5.138802295543543e-05 1.022859548322422e-05\n"
     ]
    }
   ],
   "source": [
    "# ua,sva,vha=la.svd(Am)\n",
    "# coefficient\n",
    "mvxtt=np.zeros((2,1))\n",
    "mvxtt[0,0],mvxtt[1,0]=np.mean(vxt[:NE,0]),np.mean(vxt[NE:,0])\n",
    "mva = np.zeros((2,1))\n",
    "mva[0,0],mva[1,0]=np.mean(va[:NE,0]),np.mean(va[NE:,0])\n",
    "print(mva,mvxtt)\n",
    "alphavE=np.sum((vxt[:NE,0]-mvxtt[0,0])*(vxt[:NE,0]-mvxtt[0,0]))**2\n",
    "alphavI=np.sum((vxt[NE:,0]-mvxtt[1,0])*(vxt[NE:,0]-mvxtt[1,0]))**2\n",
    "alphavcross=np.sum((vxt[:NE,0]-mvxtt[0,0])*(vxt[NE:,0]-mvxtt[1,0]))**2\n",
    "# compare\n",
    "print('beta:',alphavE,alphavI,alphaucross)"
   ]
  },
  {
   "cell_type": "code",
   "execution_count": 147,
   "metadata": {},
   "outputs": [
    {
     "output_type": "stream",
     "name": "stdout",
     "text": [
      "[[-0.42579704]] [[-0.46470134]]\n"
     ]
    }
   ],
   "source": [
    "macos=(mva.T@mua)\n",
    "macos/=np.sqrt(np.sum(mva**2))\n",
    "macos/=np.sqrt(np.sum(mua**2))\n",
    "mxttcos=(mvxtt.T@muxtt)\n",
    "mxttcos/=np.sqrt(np.sum(mvxtt**2))\n",
    "mxttcos/=np.sqrt(np.sum(muxtt**2))\n",
    "print(macos,mxttcos)"
   ]
  },
  {
   "cell_type": "code",
   "execution_count": 148,
   "metadata": {},
   "outputs": [
    {
     "output_type": "stream",
     "name": "stdout",
     "text": [
      "[[-0.42579704]] [[-0.01586666]]\n"
     ]
    }
   ],
   "source": [
    "muxtt_=ngm@mua\n",
    "# mvxtt_=ngm@mva\n",
    "macos=(mva.T@mua)\n",
    "macos/=np.sqrt(np.sum(mva**2))\n",
    "macos/=np.sqrt(np.sum(mua**2))\n",
    "mxttcos=(mvxtt.T@muxtt_)\n",
    "mxttcos/=np.sqrt(np.sum(mvxtt**2))\n",
    "mxttcos/=np.sqrt(np.sum(muxtt_**2))\n",
    "print(macos,mxttcos)"
   ]
  },
  {
   "source": [
    "# back up code"
   ],
   "cell_type": "markdown",
   "metadata": {}
  },
  {
   "cell_type": "code",
   "execution_count": 333,
   "metadata": {},
   "outputs": [
    {
     "output_type": "stream",
     "name": "stdout",
     "text": [
      "7.459298334656558\n0.26243786874485775\n"
     ]
    }
   ],
   "source": [
    "fig,ax=plt.subplots(figsize=(9,9))\n",
    "ax.plot(svx[:])\n",
    "print(np.max(svx))\n",
    "overlap=np.zeros(2000)\n",
    "for idx in range(2000):\n",
    "    overlap[idx]=np.sum(lxvec[:,idx]*rxvec[:,idx])*svx[idx]\n",
    "n, bins, patches = ax.hist(overlap, nbins, density=True, alpha=0.5)\n",
    "print(np.max(overlap))\n"
   ]
  },
  {
   "cell_type": "code",
   "execution_count": 284,
   "metadata": {},
   "outputs": [
    {
     "output_type": "stream",
     "name": "stdout",
     "text": [
      "cal g: [[0.00089115 0.00017327]\n [0.00276879 0.00053832]]\norg g: 0.000625 0.0009 0.0025 0.000225\n"
     ]
    }
   ],
   "source": [
    "stdme=np.std(lxvec[:NE,0])\n",
    "stdmi=np.std(lxvec[NE:,0])\n",
    "stdne=np.std(svx[0]*rxvec[:NE,0])\n",
    "stdni=np.std(svx[0]*rxvec[NE:,0])\n",
    "rm1=np.array([stdme,stdmi])\n",
    "rm1=np.reshape(rm1,(2,1))\n",
    "rn1=np.array([stdne,stdni])\n",
    "rn1=np.reshape(rn1,(2,1))\n",
    "stdme=np.std(lxvec[:NE,1])\n",
    "stdmi=np.std(lxvec[NE:,1])\n",
    "stdne=np.std(svx[1]*rxvec[:NE,1])\n",
    "stdni=np.std(svx[1]*rxvec[NE:,1])\n",
    "rm2=np.array([stdme,stdmi])\n",
    "rm2=np.reshape(rm2,(2,1))\n",
    "rn2=np.array([stdne,stdni])\n",
    "rn2=np.reshape(rn2,(2,1))\n",
    "gstdest=rm1@rn1.T +rm2@rn2.T \n",
    "print('cal g:',gstdest)\n",
    "print('org g:',xee**2/N,xei**2/N,xie**2/N,xii**2/N)"
   ]
  },
  {
   "cell_type": "code",
   "execution_count": 269,
   "metadata": {},
   "outputs": [],
   "source": [
    "lxvec,svx,rxvech=la.svd(P)\n",
    "rxvec=rxvech.T \n",
    "fig,ax=plt.subplots(2,2,figsize=(9,9))\n",
    "nbins=30\n",
    "n, bins, patches = ax[0][0].hist(lxvec[:NE,0], nbins, density=True, alpha=0.5)\n",
    "n, bins, patches = ax[1][0].hist(lxvec[NE:,0], nbins, density=True, alpha=0.5)\n",
    "n, bins, patches = ax[0][1].hist(rxvec[:NE,0], nbins, density=True, alpha=0.5)\n",
    "n, bins, patches = ax[1][1].hist(rxvec[NE:,0], nbins, density=True, alpha=0.5)\n"
   ]
  }
 ]
}