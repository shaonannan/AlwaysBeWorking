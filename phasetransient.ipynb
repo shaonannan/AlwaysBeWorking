{
 "metadata": {
  "language_info": {
   "codemirror_mode": {
    "name": "ipython",
    "version": 3
   },
   "file_extension": ".py",
   "mimetype": "text/x-python",
   "name": "python",
   "nbconvert_exporter": "python",
   "pygments_lexer": "ipython3",
   "version": "3.8.3-final"
  },
  "orig_nbformat": 2,
  "kernelspec": {
   "name": "Python 3.8.3 64-bit ('base': conda)",
   "display_name": "Python 3.8.3 64-bit ('base': conda)",
   "metadata": {
    "interpreter": {
     "hash": "5fb195aca1cc4b04f6bd75bcd75eff5c6dace3e009d2ff2dc9cbbb35b653d43e"
    }
   }
  }
 },
 "nbformat": 4,
 "nbformat_minor": 2,
 "cells": [
  {
   "source": [
    "Generate a Gaussian random matrix and check the semi-circle law"
   ],
   "cell_type": "markdown",
   "metadata": {}
  },
  {
   "cell_type": "code",
   "execution_count": 3,
   "metadata": {},
   "outputs": [],
   "source": [
    "from __future__ import print_function\n",
    "from ipywidgets import interact, interactive, fixed, interact_manual\n",
    "import ipywidgets as widgets\n",
    "import numpy as np\n",
    "import matplotlib.pylab as plt\n",
    "import matplotlib\n",
    "%matplotlib qt\n",
    "from numpy import linalg as la\n",
    "from scipy.optimize import fsolve\n",
    "from scipy import linalg as scpla\n",
    "import seaborn as sb\n",
    "from mpl_toolkits.axes_grid1 import make_axes_locatable\n",
    "from cmath import *\n",
    "from mpl_toolkits.mplot3d import Axes3D\n",
    "from scipy.optimize import fsolve,leastsq \n",
    "from math import tanh,cosh\n",
    "from sympy import *\n",
    "extras_require = {'PLOT':['matplotlib>=1.1.1,<3.0']},\n"
   ]
  },
  {
   "cell_type": "code",
   "execution_count": 4,
   "metadata": {},
   "outputs": [],
   "source": [
    "# generate Gaussian random matrix\n",
    "nn = 1000 \n",
    "x = np.random.randn(nn,nn)/np.sqrt(nn)\n",
    "lvec,sv,rvech=la.svd(x)\n",
    "n, bins, patches = plt.hist(sv, 50, density=True, facecolor='g', alpha=0.75)"
   ]
  },
  {
   "cell_type": "code",
   "execution_count": 5,
   "metadata": {},
   "outputs": [
    {
     "output_type": "stream",
     "name": "stdout",
     "text": [
      "critical point: -0.02298084063167618\n"
     ]
    }
   ],
   "source": [
    "# largest singular values and singular vectors phase transition\n",
    "# define theta_, the threshold of the phase transition\n",
    "def Dtransform_mux(z,c,xrange,mux='semicircle'):\n",
    "    if mux=='semicircle':\n",
    "        tt=xrange\n",
    "        dtt=xrange[1]-xrange[0]\n",
    "        muxpdf = 2*np.sqrt(4-tt**2)\n",
    "        muxpdf/=np.sum(muxpdf*dtt)\n",
    "        plt.plot(tt,muxpdf)\n",
    "        deltamux=np.zeros_like(muxpdf)\n",
    "        deltamux[1:]= np.diff(muxpdf)\n",
    "\n",
    "        coeff=z/(z**2-tt**2)\n",
    "        integralh=np.sum(coeff*deltamux)\n",
    "        Dtrans=integralh*(c*integralh+(1-c)/z)\n",
    "\n",
    "        return Dtrans\n",
    "def Gtransform_mux(z,c,xrange,mux='semicircle'):\n",
    "    if mux=='semicircle':\n",
    "        tt=xrange\n",
    "        dtt=xrange[1]-xrange[0]\n",
    "        idxzeros=np.where(tt<=-2)\n",
    "        idxzerosr=np.where(tt>=2)\n",
    "        muxpdf = np.sqrt(4-tt**2)\n",
    "        muxpdf[idxzeros]=0\n",
    "        muxpdf[idxzerosr]=0\n",
    "        muxpdf/=np.sum(muxpdf*dtt)\n",
    "        # plt.plot(tt,muxpdf)\n",
    "        deltamux=np.zeros_like(muxpdf)\n",
    "        deltamux= np.sqrt(4-tt**2)/(2*np.pi)\n",
    "        deltamux[idxzeros]=0\n",
    "        deltamux[idxzerosr]=0\n",
    "        deltamux/=np.sum(deltamux*dtt)\n",
    "        deltamux[1:]= np.diff(muxpdf)\n",
    "        deltamux[-1]=0\n",
    "        plt.plot(tt,deltamux)\n",
    "        coeff=1/(z-tt)\n",
    "        Gtrans=np.sum(coeff*deltamux)\n",
    "        \n",
    "\n",
    "        return Gtrans\n",
    "# here the supremum\n",
    "eps = 1e-5\n",
    "bsupremum=2\n",
    "bsupremump=bsupremum+eps\n",
    "eigvrange=np.linspace(-3.0,3.0,6000)\n",
    "\n",
    "Gtran_supreplus=Gtransform_mux(bsupremump,1,eigvrange,mux='semicircle')\n",
    "theta_=1/Gtran_supreplus\n",
    "print('critical point:',theta_)"
   ]
  },
  {
   "cell_type": "code",
   "execution_count": 4,
   "metadata": {},
   "outputs": [
    {
     "output_type": "stream",
     "name": "stdout",
     "text": [
      "solve1,2: 1.0202012550109552 0.9801987549890456\n"
     ]
    }
   ],
   "source": [
    "#\n",
    "def rootz(z):\n",
    "    solve1=((z**2-2)+np.sqrt((z**2-2)**2-4))/2.0\n",
    "    solve2=((z**2-2)-np.sqrt((z**2-2)**2-4))/2.0\n",
    "    return (solve1,solve2)\n",
    "solve1,solve2=rootz(2.0001)\n",
    "print('solve1,2:',solve1,solve2)"
   ]
  },
  {
   "cell_type": "code",
   "execution_count": 18,
   "metadata": {},
   "outputs": [
    {
     "output_type": "stream",
     "name": "stdout",
     "text": [
      "singular value: 2.828427124746185\nsingular values theo: 2.8284271247461903\n"
     ]
    }
   ],
   "source": [
    "# define low-rank structure\n",
    "nn=600\n",
    "JE,JI=1.6,1.2\n",
    "J = np.zeros((nn*2,nn*2))\n",
    "J[:,:nn],J[:,nn:]=JE/(nn),-JI/(nn)\n",
    "lvec,sv,rvech=la.svd(J)\n",
    "print('singular value:',sv[0])\n",
    "theo_sv=np.sqrt(2*(JE**2+JI**2))\n",
    "print('singular values theo:',theo_sv)\n"
   ]
  },
  {
   "cell_type": "code",
   "execution_count": 19,
   "metadata": {},
   "outputs": [],
   "source": [
    "# numerical singular values \n",
    "x = np.random.randn(2*nn,2*nn)/np.sqrt(2*nn)\n",
    "Rlvec,Rsv,Rrvech=la.svd(x)\n",
    "n, bins, patches = plt.hist(Rsv, 50, density=True, facecolor='g', alpha=0.75)"
   ]
  },
  {
   "cell_type": "code",
   "execution_count": 20,
   "metadata": {},
   "outputs": [
    {
     "output_type": "stream",
     "name": "stdout",
     "text": [
      "outlier: [3.17557485]\n0.6693186669081389\n"
     ]
    }
   ],
   "source": [
    "x_=x+J\n",
    "lvec_,sv_,rvech_=la.svd(x_)\n",
    "n_, bins, patches = plt.hist(sv_, 50, density=True, facecolor='g', alpha=0.75)\n",
    "outlier=sv_[np.where(sv_>2.0)]\n",
    "print('outlier:',sv_[np.where(sv_>2.0)])\n",
    "print(np.max(n_))"
   ]
  },
  {
   "cell_type": "code",
   "execution_count": 14,
   "metadata": {},
   "outputs": [
    {
     "output_type": "stream",
     "name": "stdout",
     "text": [
      "GCauchy: [2.79411848]\n"
     ]
    }
   ],
   "source": [
    "# a1 and a2\n",
    "z=outlier\n",
    "a1,a2=((z**2-2)+np.sqrt((z**2-2)**2-4))/2.0,((z**2-2)-np.sqrt((z**2-2)**2-4))/2.0\n",
    "GCauchy=-(-z+z*(a1-1)**2/((a1-a2)*a1))/2.0\n",
    "print('GCauchy:',1.0/GCauchy)"
   ]
  },
  {
   "cell_type": "code",
   "execution_count": 21,
   "metadata": {},
   "outputs": [
    {
     "output_type": "stream",
     "name": "stdout",
     "text": [
      "overlap: [-1.10088726] 0.9372429689742006\n"
     ]
    }
   ],
   "source": [
    "# varphi\n",
    "varphi=z*a2/(a2+1)\n",
    "overlap=-(1+1/a2)/sv[0]**2\n",
    "overnum=np.sum(lvec[:,0]*lvec_[:,0])\n",
    "print('overlap:',overlap,overnum)"
   ]
  },
  {
   "cell_type": "code",
   "execution_count": null,
   "metadata": {},
   "outputs": [],
   "source": [
    "((z^2*9-(z^2+1)^2)*z)/(z+0.381966) at z=-0.381966"
   ]
  }
 ]
}