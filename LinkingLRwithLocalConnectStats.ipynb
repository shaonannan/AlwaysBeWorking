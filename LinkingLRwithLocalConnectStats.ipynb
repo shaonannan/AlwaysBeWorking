{
 "metadata": {
  "language_info": {
   "codemirror_mode": {
    "name": "ipython",
    "version": 3
   },
   "file_extension": ".py",
   "mimetype": "text/x-python",
   "name": "python",
   "nbconvert_exporter": "python",
   "pygments_lexer": "ipython3",
   "version": "3.8.3-final"
  },
  "orig_nbformat": 2,
  "kernelspec": {
   "name": "python3",
   "display_name": "Python 3",
   "language": "python"
  }
 },
 "nbformat": 4,
 "nbformat_minor": 2,
 "cells": [
  {
   "source": [
    "## 17/12/2020 Update\n",
    "# Linking and Comparing Local Connect Stats with Low-rank Recurrent Network\n",
    "* From Local Connect Stats cite[Sharpee]\n",
    "* From Low-rank structure to EI "
   ],
   "cell_type": "markdown",
   "metadata": {}
  },
  {
   "cell_type": "code",
   "execution_count": 1,
   "metadata": {},
   "outputs": [],
   "source": [
    "from __future__ import print_function\n",
    "from ipywidgets import interact, interactive, fixed, interact_manual\n",
    "import ipywidgets as widgets\n",
    "import numpy as np\n",
    "import matplotlib.pylab as plt\n",
    "import matplotlib\n",
    "%matplotlib qt\n",
    "from numpy import linalg as la\n",
    "from scipy.optimize import fsolve\n",
    "from scipy import linalg as scpla\n",
    "import seaborn as sb\n",
    "from mpl_toolkits.axes_grid1 import make_axes_locatable\n",
    "from cmath import *\n",
    "from mpl_toolkits.mplot3d import Axes3D\n",
    "from scipy.optimize import fsolve,leastsq \n",
    "from math import tanh,cosh\n",
    "import math\n",
    "from sympy import *\n",
    "extras_require = {'PLOT':['matplotlib>=1.1.1,<3.0']},"
   ]
  },
  {
   "source": [
    "## Check the results in Sharpee's paper\n",
    "* local stats, EE,EI,IE,II occupy their own properties, independently\n",
    "* no pair correlation\n"
   ],
   "cell_type": "markdown",
   "metadata": {}
  },
  {
   "cell_type": "code",
   "execution_count": 178,
   "metadata": {},
   "outputs": [],
   "source": [
    "Nt=np.array([2000,1000])\n",
    "NE,NI=Nt[0],Nt[1]\n",
    "at = Nt/N\n",
    "N=np.sum(Nt)\n",
    "aee,aei,aie,aii=4.5,-6.0,5.0,-2.5\n",
    "JEEsub,JEIsub,JIEsub,JIIsub=aee*np.ones((NE,NE))/NE,aei*np.ones((NE,NI))/NI,aie*np.ones((NI,NE))/NE,aii*np.ones((NI,NI))/NI\n",
    "J = np.zeros((NE+NI,NE+NI))\n",
    "\n",
    "# determine gcd\n",
    "Gmat=np.zeros((2,2))\n",
    "Gmatorg=np.array([[0.8,1.2],[0.9,0.2]])\n",
    "# Gmat/=np.sqrt(N)\n",
    "for i in range(2):\n",
    "    for j in range(2):\n",
    "        Gmat[i,j]=Gmatorg[i,j]/np.sqrt(N)\n",
    "# EE\n",
    "gij=Gmat[0,0]*np.random.randn(NE,NE)\n",
    "J[:NE,:NE]=gij.copy()\n",
    "# EI\n",
    "gij=Gmat[0,1]*np.random.randn(NE,NI)\n",
    "J[:NE,NE:]=gij.copy()\n",
    "# IE\n",
    "gij=Gmat[1,0]*np.random.randn(NI,NE)\n",
    "J[NE:,:NE]=gij.copy()\n",
    "# II\n",
    "gij=Gmat[1,1]*np.random.randn(NI,NI)\n",
    "J[NE:,NE:]=gij.copy()\n",
    "\n",
    "P = np.zeros((N,N))\n",
    "P[:NE,:NE],P[:NE,NE:],P[NE:,:NE],P[NE:,NE:]=JEEsub.copy(),JEIsub.copy(),JIEsub.copy(),JIIsub.copy()\n",
    "X = P.copy()+J.copy()"
   ]
  },
  {
   "cell_type": "code",
   "execution_count": 113,
   "metadata": {},
   "outputs": [
    {
     "output_type": "stream",
     "name": "stdout",
     "text": [
      "averaging g noise: 0.8558621384311844\n"
     ]
    }
   ],
   "source": [
    "gavg=np.sqrt(np.sum(np.sum(Gmat**2)))/2.0\n",
    "print('averaging g noise:',gavg*np.sqrt(N))"
   ]
  },
  {
   "cell_type": "code",
   "execution_count": 105,
   "metadata": {},
   "outputs": [
    {
     "output_type": "stream",
     "name": "stdout",
     "text": [
      "eigenvalue: [1.+4.21307489j 1.-4.21307489j] singular value: [9.12570385 2.05463604] eigG 0.8546614831429354\n"
     ]
    }
   ],
   "source": [
    "aee,aei,aie,aii=4.5,-6.0,5.0,-2.5\n",
    "Asmall=np.array([[aee,aei],[aie,aii]])\n",
    "eigva,_=la.eig(Asmall)\n",
    "_,sigva,_=la.svd(Asmall)\n",
    "print('eigenvalue:',eigva,'singular value:',sigva,'eigG',np.sqrt(eigG[0]))"
   ]
  },
  {
   "cell_type": "code",
   "execution_count": 47,
   "metadata": {},
   "outputs": [],
   "source": [
    "# calculate singular value circles\n",
    "_,sigvrand,_=la.svd(J)\n",
    "fig,ax=plt.subplots(figsize=(6,6))\n",
    "n, bins, patches = ax.hist(sigvrand, 100, density=True, alpha=0.5)\n",
    "# ax.scatter(np.real(eigvrand),np.imag(eigvrand),s=5.0,c='blue',alpha=0.5)"
   ]
  },
  {
   "cell_type": "code",
   "execution_count": 179,
   "metadata": {},
   "outputs": [],
   "source": [
    "# all about calculate eigenvalues\n",
    "eigvrand,eigvecrand=la.eig(J)\n",
    "eigstruct,eigvecstruct=la.eig(P)\n",
    "# summation\n",
    "X = P.copy()+J.copy()\n",
    "eigvx,eigvecx=la.eig(X)\n",
    "# theoretical\n",
    "M = np.zeros((2,2))\n",
    "for i in range(2):\n",
    "    for j in range(2):\n",
    "        M[i,j]=(Gmat[i,j]*np.sqrt(N))**2*(Nt[j]/N)\n",
    "eigG,eigvecG=la.eig(M)\n",
    "# low rank small\n",
    "Asmall=np.array([[aee,aei],[aie,aii]])\n",
    "eigva,_=la.eig(Asmall)\n"
   ]
  },
  {
   "cell_type": "code",
   "execution_count": 180,
   "metadata": {},
   "outputs": [],
   "source": [
    "ticks = np.linspace(-2.0,2.0,3)\n",
    "lims= [-2.1,2.1]\n",
    "\n",
    "fig,ax=plt.subplots(figsize=(6,6))\n",
    "ax.plot(np.sqrt(eigG[0])*np.ones(100),np.linspace(-1.0,1.0,100))\n",
    "ax.scatter(np.real(eigvrand),np.imag(eigvrand),s=5.0,c='blue',alpha=0.5)\n",
    "ax.scatter(np.real(eigstruct[:4]),np.zeros(4),s=15.0,c='red',alpha=0.5)\n",
    "# ax.set_xlim(lims)\n",
    "# ax.set_ylim(lims)\n",
    "# ax.set_xticks(ticks)\n",
    "# ax.set_yticks(ticks)\n",
    "ax.set_aspect('equal')\n",
    "ax.grid()"
   ]
  },
  {
   "source": [
    "## relate this to low rank (here rank-2)"
   ],
   "cell_type": "markdown",
   "metadata": {}
  },
  {
   "cell_type": "code",
   "execution_count": 109,
   "metadata": {},
   "outputs": [],
   "source": [
    "lvecX,svX,rvecXh=la.svd(X)\n",
    "rvecX=rvecXh.T\n",
    "m=lvecX[:,:2].copy()\n",
    "n=rvecX[:,:2].copy()\n",
    "n[:,0]*=svX[0]\n",
    "n[:,1]*=svX[1]\n",
    "\n",
    "# n[:,1]=rvecX[:,2]*svX[2]\n",
    "# m[:,1]=lvecX[:,2]"
   ]
  },
  {
   "cell_type": "code",
   "execution_count": 110,
   "metadata": {},
   "outputs": [
    {
     "output_type": "stream",
     "name": "stdout",
     "text": [
      "singular value: [9.21533954 2.36599547 1.84315887 1.83814427]\n"
     ]
    }
   ],
   "source": [
    "print('singular value:',svX[:4])"
   ]
  },
  {
   "cell_type": "code",
   "execution_count": 111,
   "metadata": {},
   "outputs": [],
   "source": [
    "morg,norg=m,n\n",
    "fig,ax=plt.subplots(4,4,figsize=(9,9))\n",
    "for i in range(2):\n",
    "    for j in range(2):\n",
    "        ax[i][j].scatter(morg[:NE,i],morg[:NE,j],s=5.0,c='red',alpha=0.05)\n",
    "        ax[i][j].scatter(morg[NE:,i],morg[NE:,j],s=5.0,c='blue',alpha=0.05)\n",
    "for i in range(2):\n",
    "    for j in range(2):\n",
    "        ax[2+i][2+j].scatter(norg[:NE,i],norg[:NE,j],s=5.0,c='red',alpha=0.05)\n",
    "        ax[2+i][2+j].scatter(norg[NE:,i],norg[NE:,j],s=5.0,c='blue',alpha=0.05)\n",
    "        \n",
    "for i in range(2):\n",
    "    for j in range(2):\n",
    "        ax[i][2+j].scatter(morg[:NE,i],norg[:NE,j],s=5.0,c='red',alpha=0.05)\n",
    "        ax[i][2+j].scatter(morg[NE:,i],norg[NE:,j],s=5.0,c='blue',alpha=0.05)\n",
    "for i in range(2):\n",
    "    for j in range(2):\n",
    "        ax[2+i][j].scatter(norg[:NE,i],morg[:NE,j],s=5.0,c='red',alpha=0.05)\n",
    "        ax[2+i][j].scatter(norg[NE:,i],morg[NE:,j],s=5.0,c='blue',alpha=0.05)\n",
    "for i in range(4):\n",
    "    for j in range(4):\n",
    "        # ax[i][j].set_xlim(lims)\n",
    "        # ax[i][j].set_ylim(lims)\n",
    "        # ax[i][j].set_xticks(ticks)\n",
    "        # ax[i][j].set_yticks(ticks)\n",
    "        ax[i][j].set_aspect('equal')\n",
    "        ax[i][j].grid()"
   ]
  },
  {
   "cell_type": "code",
   "execution_count": 117,
   "metadata": {},
   "outputs": [
    {
     "output_type": "stream",
     "name": "stdout",
     "text": [
      "eigenvalue: [1.+4.21307489j 1.-4.21307489j] [1.+4.21307489j 1.-4.21307489j]\nsingular value: [9.12570385 2.05463604] [9.12570385 2.05463604]\n"
     ]
    }
   ],
   "source": [
    "# test Dale's law\n",
    "Nt=np.array([300,100])\n",
    "NE,NI=Nt[0],Nt[1]\n",
    "N=np.sum(Nt)\n",
    "aee,aei,aie,aii=4.5,-6.0,5.0,-2.5\n",
    "JEEsub,JEIsub,JIEsub,JIIsub=aee*np.ones((NE,NE))/NE,aei*np.ones((NE,NI))/np.sqrt(NE*NI),aie*np.ones((NI,NE))/np.sqrt(NE*NI),aii*np.ones((NI,NI))/NI\n",
    "P = np.zeros((N,N))\n",
    "P[:NE,:NE],P[:NE,NE:],P[NE:,:NE],P[NE:,NE:]=JEEsub.copy(),JEIsub.copy(),JIEsub.copy(),JIIsub.copy()\n",
    "eigvP,_=la.eig(P)\n",
    "_,sigvp,_=la.svd(P)\n",
    "Asmall=np.array([[aee,aei],[aie,aii]])\n",
    "eigva,_=la.eig(Asmall)\n",
    "_,sigva,_=la.svd(Asmall)\n",
    "\n",
    "print('eigenvalue:',eigvP[:2],eigva[:2])\n",
    "print('singular value:',sigvp[:2],sigva[:2])"
   ]
  },
  {
   "cell_type": "code",
   "execution_count": 184,
   "metadata": {},
   "outputs": [
    {
     "output_type": "stream",
     "name": "stdout",
     "text": [
      "average eigv: 0.858253007850327\n"
     ]
    }
   ],
   "source": [
    "# test Dale's law\n",
    "Nt=np.array([100,1000])\n",
    "NE,NI=Nt[0],Nt[1]\n",
    "N=np.sum(Nt)\n",
    "at=Nt/N\n",
    "# determine gcd\n",
    "Gmat=np.zeros((2,2))\n",
    "Gmatorg=np.array([[0.8,1.2],[0.9,0.2]])\n",
    "# Gmat/=np.sqrt(N)\n",
    "for i in range(2):\n",
    "    for j in range(2):\n",
    "        Gmat[i,j]=Gmatorg[i,j]/np.sqrt(N)\n",
    "# EE\n",
    "J=np.zeros((N,N))\n",
    "\n",
    "gij=np.zeros((NE,NE))\n",
    "gij=Gmat[0,0]*np.random.randn(NE,NE)\n",
    "J[:NE,:NE]=gij.copy()\n",
    "# EI\n",
    "gij=np.zeros((NE,NI))\n",
    "gij=Gmat[0,1]*np.random.randn(NE,NI)\n",
    "J[:NE,NE:]=gij.copy()\n",
    "# IE\n",
    "gij=np.zeros((NI,NE))\n",
    "gij=Gmat[1,0]*np.random.randn(NI,NE)\n",
    "J[NE:,:NE]=gij.copy()\n",
    "# II\n",
    "gij=np.zeros((NI,NI))\n",
    "gij=Gmat[1,1]*np.random.randn(NI,NI)\n",
    "J[NE:,NE:]=gij.copy()\n",
    "\n",
    "gavg=0\n",
    "for i in range(2):\n",
    "    for j in range(2):\n",
    "        gavg+=np.sqrt(Gmatorg[i,j]**2*at[i]*at[j])\n",
    "M = np.zeros((2,2))\n",
    "for i in range(2):\n",
    "    for j in range(2):\n",
    "        M[i,j]=(Gmatorg[i,j]**2)*at[j]\n",
    "\n",
    "eigvj,_=la.eig(J)\n",
    "eigvM,_=la.eig(M)\n",
    "ticks = np.linspace(-2.0,2.0,3)\n",
    "lims= [-2.1,2.1]\n",
    "\n",
    "fig,ax=plt.subplots(figsize=(6,6))\n",
    "ax.plot(np.sqrt(eigvM[0])*np.ones(100),np.linspace(-1.0,1.0,100))\n",
    "ax.scatter(np.real(eigvj),np.imag(eigvj),s=5.0,c='blue',alpha=0.5)\n",
    "print('average eigv:',gavg)\n"
   ]
  },
  {
   "cell_type": "code",
   "execution_count": 147,
   "metadata": {},
   "outputs": [
    {
     "output_type": "stream",
     "name": "stdout",
     "text": [
      "eigenvalue: 0.8911873405929069 [ 0.35794249 -0.26339704]\n"
     ]
    }
   ],
   "source": [
    "print('eigenvalue:',gavg,eigvM)"
   ]
  },
  {
   "source": [
    "## Type 2 stats, C conns"
   ],
   "cell_type": "markdown",
   "metadata": {}
  },
  {
   "cell_type": "code",
   "execution_count": null,
   "metadata": {},
   "outputs": [],
   "source": []
  }
 ]
}